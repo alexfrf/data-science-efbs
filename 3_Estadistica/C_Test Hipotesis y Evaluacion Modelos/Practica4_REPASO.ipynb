{
 "cells": [
  {
   "cell_type": "code",
   "execution_count": 1,
   "id": "937d6448",
   "metadata": {},
   "outputs": [],
   "source": [
    "import pandas as pd\n",
    "import numpy as np\n",
    "import statsmodels.api as sm\n",
    "import seaborn as sns\n",
    "from sklearn.metrics import mean_absolute_error\n",
    "import matplotlib.pyplot as plt\n",
    "\n",
    "alpha=0.05"
   ]
  },
  {
   "cell_type": "markdown",
   "id": "93abad7c",
   "metadata": {},
   "source": [
    "**Planteamiento**\n",
    "\n",
    "¿Existe relación entre el nº de visitas de cada cliente a tienda en un determinado periodo de tiempo y el gasto total?\n",
    "\n",
    "Deseamos hacer un Contraste de Hipótesis de **independencia** respecto a variables cuantitativas. Será un test del tipo χ2  (Chi2). "
   ]
  },
  {
   "cell_type": "code",
   "execution_count": 2,
   "id": "2ea8d86d",
   "metadata": {},
   "outputs": [
    {
     "data": {
      "text/html": [
       "<div>\n",
       "<style scoped>\n",
       "    .dataframe tbody tr th:only-of-type {\n",
       "        vertical-align: middle;\n",
       "    }\n",
       "\n",
       "    .dataframe tbody tr th {\n",
       "        vertical-align: top;\n",
       "    }\n",
       "\n",
       "    .dataframe thead th {\n",
       "        text-align: right;\n",
       "    }\n",
       "</style>\n",
       "<table border=\"1\" class=\"dataframe\">\n",
       "  <thead>\n",
       "    <tr style=\"text-align: right;\">\n",
       "      <th></th>\n",
       "      <th>num visitas</th>\n",
       "      <th>gasto</th>\n",
       "    </tr>\n",
       "  </thead>\n",
       "  <tbody>\n",
       "    <tr>\n",
       "      <th>num visitas</th>\n",
       "      <td>1.000000</td>\n",
       "      <td>0.985241</td>\n",
       "    </tr>\n",
       "    <tr>\n",
       "      <th>gasto</th>\n",
       "      <td>0.985241</td>\n",
       "      <td>1.000000</td>\n",
       "    </tr>\n",
       "  </tbody>\n",
       "</table>\n",
       "</div>"
      ],
      "text/plain": [
       "             num visitas     gasto\n",
       "num visitas     1.000000  0.985241\n",
       "gasto           0.985241  1.000000"
      ]
     },
     "execution_count": 2,
     "metadata": {},
     "output_type": "execute_result"
    }
   ],
   "source": [
    "df1 = pd.read_excel('./Practica4.xlsx').drop(['Unnamed: 3','ord'],axis=1)\n",
    "df1.corr()"
   ]
  },
  {
   "cell_type": "code",
   "execution_count": 3,
   "id": "9fed404b",
   "metadata": {},
   "outputs": [
    {
     "data": {
      "text/html": [
       "<div>\n",
       "<style scoped>\n",
       "    .dataframe tbody tr th:only-of-type {\n",
       "        vertical-align: middle;\n",
       "    }\n",
       "\n",
       "    .dataframe tbody tr th {\n",
       "        vertical-align: top;\n",
       "    }\n",
       "\n",
       "    .dataframe thead th {\n",
       "        text-align: right;\n",
       "    }\n",
       "</style>\n",
       "<table border=\"1\" class=\"dataframe\">\n",
       "  <thead>\n",
       "    <tr style=\"text-align: right;\">\n",
       "      <th></th>\n",
       "      <th>num visitas</th>\n",
       "      <th>gasto</th>\n",
       "    </tr>\n",
       "  </thead>\n",
       "  <tbody>\n",
       "    <tr>\n",
       "      <th>0</th>\n",
       "      <td>36</td>\n",
       "      <td>1321.70</td>\n",
       "    </tr>\n",
       "    <tr>\n",
       "      <th>1</th>\n",
       "      <td>22</td>\n",
       "      <td>857.00</td>\n",
       "    </tr>\n",
       "    <tr>\n",
       "      <th>2</th>\n",
       "      <td>16</td>\n",
       "      <td>723.39</td>\n",
       "    </tr>\n",
       "    <tr>\n",
       "      <th>3</th>\n",
       "      <td>16</td>\n",
       "      <td>668.43</td>\n",
       "    </tr>\n",
       "    <tr>\n",
       "      <th>4</th>\n",
       "      <td>28</td>\n",
       "      <td>1117.41</td>\n",
       "    </tr>\n",
       "  </tbody>\n",
       "</table>\n",
       "</div>"
      ],
      "text/plain": [
       "   num visitas    gasto\n",
       "0           36  1321.70\n",
       "1           22   857.00\n",
       "2           16   723.39\n",
       "3           16   668.43\n",
       "4           28  1117.41"
      ]
     },
     "execution_count": 3,
     "metadata": {},
     "output_type": "execute_result"
    }
   ],
   "source": [
    "df1.head()"
   ]
  },
  {
   "cell_type": "code",
   "execution_count": 4,
   "id": "e48df43e",
   "metadata": {},
   "outputs": [
    {
     "data": {
      "text/html": [
       "<table class=\"simpletable\">\n",
       "<caption>OLS Regression Results</caption>\n",
       "<tr>\n",
       "  <th>Dep. Variable:</th>          <td>gasto</td>      <th>  R-squared:         </th> <td>   0.971</td>\n",
       "</tr>\n",
       "<tr>\n",
       "  <th>Model:</th>                   <td>OLS</td>       <th>  Adj. R-squared:    </th> <td>   0.970</td>\n",
       "</tr>\n",
       "<tr>\n",
       "  <th>Method:</th>             <td>Least Squares</td>  <th>  F-statistic:       </th> <td>   927.6</td>\n",
       "</tr>\n",
       "<tr>\n",
       "  <th>Date:</th>             <td>Wed, 30 Mar 2022</td> <th>  Prob (F-statistic):</th> <td>5.21e-23</td>\n",
       "</tr>\n",
       "<tr>\n",
       "  <th>Time:</th>                 <td>23:43:06</td>     <th>  Log-Likelihood:    </th> <td> -165.53</td>\n",
       "</tr>\n",
       "<tr>\n",
       "  <th>No. Observations:</th>      <td>    30</td>      <th>  AIC:               </th> <td>   335.1</td>\n",
       "</tr>\n",
       "<tr>\n",
       "  <th>Df Residuals:</th>          <td>    28</td>      <th>  BIC:               </th> <td>   337.9</td>\n",
       "</tr>\n",
       "<tr>\n",
       "  <th>Df Model:</th>              <td>     1</td>      <th>                     </th>     <td> </td>   \n",
       "</tr>\n",
       "<tr>\n",
       "  <th>Covariance Type:</th>      <td>nonrobust</td>    <th>                     </th>     <td> </td>   \n",
       "</tr>\n",
       "</table>\n",
       "<table class=\"simpletable\">\n",
       "<tr>\n",
       "       <td></td>          <th>coef</th>     <th>std err</th>      <th>t</th>      <th>P>|t|</th>  <th>[0.025</th>    <th>0.975]</th>  \n",
       "</tr>\n",
       "<tr>\n",
       "  <th>const</th>       <td>   49.7127</td> <td>   28.266</td> <td>    1.759</td> <td> 0.090</td> <td>   -8.187</td> <td>  107.613</td>\n",
       "</tr>\n",
       "<tr>\n",
       "  <th>num visitas</th> <td>   35.1231</td> <td>    1.153</td> <td>   30.457</td> <td> 0.000</td> <td>   32.761</td> <td>   37.485</td>\n",
       "</tr>\n",
       "</table>\n",
       "<table class=\"simpletable\">\n",
       "<tr>\n",
       "  <th>Omnibus:</th>       <td> 1.111</td> <th>  Durbin-Watson:     </th> <td>   1.978</td>\n",
       "</tr>\n",
       "<tr>\n",
       "  <th>Prob(Omnibus):</th> <td> 0.574</td> <th>  Jarque-Bera (JB):  </th> <td>   0.899</td>\n",
       "</tr>\n",
       "<tr>\n",
       "  <th>Skew:</th>          <td>-0.134</td> <th>  Prob(JB):          </th> <td>   0.638</td>\n",
       "</tr>\n",
       "<tr>\n",
       "  <th>Kurtosis:</th>      <td> 2.195</td> <th>  Cond. No.          </th> <td>    60.9</td>\n",
       "</tr>\n",
       "</table><br/><br/>Notes:<br/>[1] Standard Errors assume that the covariance matrix of the errors is correctly specified."
      ],
      "text/plain": [
       "<class 'statsmodels.iolib.summary.Summary'>\n",
       "\"\"\"\n",
       "                            OLS Regression Results                            \n",
       "==============================================================================\n",
       "Dep. Variable:                  gasto   R-squared:                       0.971\n",
       "Model:                            OLS   Adj. R-squared:                  0.970\n",
       "Method:                 Least Squares   F-statistic:                     927.6\n",
       "Date:                Wed, 30 Mar 2022   Prob (F-statistic):           5.21e-23\n",
       "Time:                        23:43:06   Log-Likelihood:                -165.53\n",
       "No. Observations:                  30   AIC:                             335.1\n",
       "Df Residuals:                      28   BIC:                             337.9\n",
       "Df Model:                           1                                         \n",
       "Covariance Type:            nonrobust                                         \n",
       "===============================================================================\n",
       "                  coef    std err          t      P>|t|      [0.025      0.975]\n",
       "-------------------------------------------------------------------------------\n",
       "const          49.7127     28.266      1.759      0.090      -8.187     107.613\n",
       "num visitas    35.1231      1.153     30.457      0.000      32.761      37.485\n",
       "==============================================================================\n",
       "Omnibus:                        1.111   Durbin-Watson:                   1.978\n",
       "Prob(Omnibus):                  0.574   Jarque-Bera (JB):                0.899\n",
       "Skew:                          -0.134   Prob(JB):                        0.638\n",
       "Kurtosis:                       2.195   Cond. No.                         60.9\n",
       "==============================================================================\n",
       "\n",
       "Notes:\n",
       "[1] Standard Errors assume that the covariance matrix of the errors is correctly specified.\n",
       "\"\"\""
      ]
     },
     "execution_count": 4,
     "metadata": {},
     "output_type": "execute_result"
    }
   ],
   "source": [
    "X1 = sm.add_constant(df1['num visitas'])\n",
    "reg = sm.OLS(df1.gasto, X1)\n",
    "lr = reg.fit()\n",
    "lr.summary()"
   ]
  },
  {
   "cell_type": "code",
   "execution_count": 22,
   "id": "5e53c0d0",
   "metadata": {},
   "outputs": [],
   "source": [
    "n = lr.resid.shape[0]\n",
    "k = len(lr.params)-1"
   ]
  },
  {
   "cell_type": "code",
   "execution_count": 5,
   "id": "cbd2af89",
   "metadata": {},
   "outputs": [
    {
     "data": {
      "text/plain": [
       "'y = 35.123x + 49.713'"
      ]
     },
     "execution_count": 5,
     "metadata": {},
     "output_type": "execute_result"
    }
   ],
   "source": [
    "y_reg = 'y = {:.3f}x + {:.3f}'.format(lr.params[1],lr.params[0])\n",
    "y_reg"
   ]
  },
  {
   "cell_type": "code",
   "execution_count": 6,
   "id": "83ac52c1",
   "metadata": {},
   "outputs": [
    {
     "data": {
      "text/plain": [
       "0    1314.146030\n",
       "1     822.421970\n",
       "2     611.683086\n",
       "3     611.683086\n",
       "4    1033.160853\n",
       "Name: y_pred, dtype: float64"
      ]
     },
     "execution_count": 6,
     "metadata": {},
     "output_type": "execute_result"
    }
   ],
   "source": [
    "df1['y_pred'] = lr.params[1]*df1['num visitas'] + lr.params[0]\n",
    "df1['y_pred'].head()"
   ]
  },
  {
   "cell_type": "code",
   "execution_count": 34,
   "id": "5578d54e",
   "metadata": {},
   "outputs": [
    {
     "name": "stdout",
     "output_type": "stream",
     "text": [
      "MAE: 51.29023421185563\n",
      "ECM:  3631.0977430531416\n",
      "R2 = 0.971\n",
      "Adj R2 = 0.97\n"
     ]
    }
   ],
   "source": [
    "MAE = mean_absolute_error(y_pred = df1.y_pred,y_true = df1.gasto)\n",
    "r2 = round(1-(lr.resid.std()**2)/(df1.gasto.std()**2),3)\n",
    "print('MAE: {}'.format(MAE))\n",
    "print('ECM: ',(lr.resid**2).mean())\n",
    "print('R2 = {}'.format(r2))\n",
    "print('Adj R2 = {}'.format(round((1-(n-1)/(n-k-1) * (1-r2)),3)))"
   ]
  },
  {
   "cell_type": "code",
   "execution_count": 8,
   "id": "b5300c8d",
   "metadata": {},
   "outputs": [
    {
     "name": "stdout",
     "output_type": "stream",
     "text": [
      "Relative MAE:  6.0\n"
     ]
    }
   ],
   "source": [
    "print(\"Relative MAE: \", 100*round(MAE/df1.gasto.mean(),2) )"
   ]
  },
  {
   "cell_type": "code",
   "execution_count": 9,
   "id": "4e2df5a6",
   "metadata": {},
   "outputs": [
    {
     "data": {
      "image/png": "[encoded data removed]",
      "text/plain": [
       "<Figure size 432x288 with 1 Axes>"
      ]
     },
     "metadata": {
      "needs_background": "light"
     },
     "output_type": "display_data"
    }
   ],
   "source": [
    "sns.regplot(x='num visitas',y='y_pred',data=df1,color='violet')\n",
    "plt.scatter(df1['num visitas'],df1.gasto,color='lightblue')\n",
    "sns.despine()"
   ]
  },
  {
   "cell_type": "code",
   "execution_count": 10,
   "id": "98be9f60",
   "metadata": {},
   "outputs": [
    {
     "data": {
      "text/plain": [
       "<matplotlib.collections.PathCollection at 0x1eea6639220>"
      ]
     },
     "execution_count": 10,
     "metadata": {},
     "output_type": "execute_result"
    },
    {
     "data": {
      "image/png": "[encoded data removed]",
      "text/plain": [
       "<Figure size 432x288 with 1 Axes>"
      ]
     },
     "metadata": {
      "needs_background": "light"
     },
     "output_type": "display_data"
    }
   ],
   "source": [
    "plt.scatter(df1['num visitas'],df1['gasto'],color='lightblue')"
   ]
  },
  {
   "cell_type": "code",
   "execution_count": 11,
   "id": "db1d3bc8",
   "metadata": {},
   "outputs": [
    {
     "data": {
      "text/html": [
       "<div>\n",
       "<style scoped>\n",
       "    .dataframe tbody tr th:only-of-type {\n",
       "        vertical-align: middle;\n",
       "    }\n",
       "\n",
       "    .dataframe tbody tr th {\n",
       "        vertical-align: top;\n",
       "    }\n",
       "\n",
       "    .dataframe thead th {\n",
       "        text-align: right;\n",
       "    }\n",
       "</style>\n",
       "<table border=\"1\" class=\"dataframe\">\n",
       "  <thead>\n",
       "    <tr style=\"text-align: right;\">\n",
       "      <th></th>\n",
       "      <th>num visitas</th>\n",
       "      <th>gasto</th>\n",
       "      <th>y_pred</th>\n",
       "      <th>resid</th>\n",
       "    </tr>\n",
       "  </thead>\n",
       "  <tbody>\n",
       "    <tr>\n",
       "      <th>num visitas</th>\n",
       "      <td>1.000000</td>\n",
       "      <td>0.985241</td>\n",
       "      <td>1.000000</td>\n",
       "      <td>-0.064508</td>\n",
       "    </tr>\n",
       "    <tr>\n",
       "      <th>gasto</th>\n",
       "      <td>0.985241</td>\n",
       "      <td>1.000000</td>\n",
       "      <td>0.985241</td>\n",
       "      <td>-0.081759</td>\n",
       "    </tr>\n",
       "    <tr>\n",
       "      <th>y_pred</th>\n",
       "      <td>1.000000</td>\n",
       "      <td>0.985241</td>\n",
       "      <td>1.000000</td>\n",
       "      <td>-0.064508</td>\n",
       "    </tr>\n",
       "    <tr>\n",
       "      <th>resid</th>\n",
       "      <td>-0.064508</td>\n",
       "      <td>-0.081759</td>\n",
       "      <td>-0.064508</td>\n",
       "      <td>1.000000</td>\n",
       "    </tr>\n",
       "  </tbody>\n",
       "</table>\n",
       "</div>"
      ],
      "text/plain": [
       "             num visitas     gasto    y_pred     resid\n",
       "num visitas     1.000000  0.985241  1.000000 -0.064508\n",
       "gasto           0.985241  1.000000  0.985241 -0.081759\n",
       "y_pred          1.000000  0.985241  1.000000 -0.064508\n",
       "resid          -0.064508 -0.081759 -0.064508  1.000000"
      ]
     },
     "execution_count": 11,
     "metadata": {},
     "output_type": "execute_result"
    }
   ],
   "source": [
    "df1['resid'] = abs(lr.resid)\n",
    "df1.corr()"
   ]
  },
  {
   "cell_type": "code",
   "execution_count": 12,
   "id": "f28e15f3",
   "metadata": {
    "scrolled": true
   },
   "outputs": [
    {
     "data": {
      "text/plain": [
       "(1.0, 39.0)"
      ]
     },
     "execution_count": 12,
     "metadata": {},
     "output_type": "execute_result"
    },
    {
     "data": {
      "image/png": "[encoded data removed]",
      "text/plain": [
       "<Figure size 1008x432 with 3 Axes>"
      ]
     },
     "metadata": {
      "needs_background": "light"
     },
     "output_type": "display_data"
    }
   ],
   "source": [
    "pl = sns.jointplot(data=df1, x='num visitas', y=lr.resid)\n",
    "pl.ax_joint.plot([0,40], [0,0])\n",
    "pl.fig.set_size_inches(14,6)\n",
    "pl.fig.axes[0].set_xlim(1,39)"
   ]
  },
  {
   "cell_type": "markdown",
   "id": "53155440",
   "metadata": {},
   "source": [
    "### Regresión con Scikit-Learn"
   ]
  },
  {
   "cell_type": "code",
   "execution_count": 36,
   "id": "e667b0f1",
   "metadata": {},
   "outputs": [],
   "source": [
    "df = pd.read_excel('./Practica4.xlsx').drop(['Unnamed: 3','ord'],axis=1)\n",
    "X = df['num visitas'].values.reshape(-1,1)\n",
    "y = df['gasto'].values.reshape(-1,1)"
   ]
  },
  {
   "cell_type": "code",
   "execution_count": 37,
   "id": "bc0cb25f",
   "metadata": {},
   "outputs": [
    {
     "data": {
      "text/plain": [
       "LinearRegression()"
      ]
     },
     "execution_count": 37,
     "metadata": {},
     "output_type": "execute_result"
    }
   ],
   "source": [
    "from sklearn.linear_model import LinearRegression\n",
    "lr = LinearRegression()\n",
    "\n",
    "lr.fit(X,y)"
   ]
  },
  {
   "cell_type": "code",
   "execution_count": 38,
   "id": "f6542b98",
   "metadata": {},
   "outputs": [
    {
     "data": {
      "text/plain": [
       "0.970699381264994"
      ]
     },
     "execution_count": 38,
     "metadata": {},
     "output_type": "execute_result"
    }
   ],
   "source": [
    "lr.score(X,y)"
   ]
  },
  {
   "cell_type": "code",
   "execution_count": 39,
   "id": "bdc7c9b0",
   "metadata": {},
   "outputs": [
    {
     "data": {
      "text/html": [
       "<div>\n",
       "<style scoped>\n",
       "    .dataframe tbody tr th:only-of-type {\n",
       "        vertical-align: middle;\n",
       "    }\n",
       "\n",
       "    .dataframe tbody tr th {\n",
       "        vertical-align: top;\n",
       "    }\n",
       "\n",
       "    .dataframe thead th {\n",
       "        text-align: right;\n",
       "    }\n",
       "</style>\n",
       "<table border=\"1\" class=\"dataframe\">\n",
       "  <thead>\n",
       "    <tr style=\"text-align: right;\">\n",
       "      <th></th>\n",
       "      <th>num visitas</th>\n",
       "      <th>gasto</th>\n",
       "      <th>y_pred</th>\n",
       "      <th>resid</th>\n",
       "    </tr>\n",
       "  </thead>\n",
       "  <tbody>\n",
       "    <tr>\n",
       "      <th>0</th>\n",
       "      <td>36</td>\n",
       "      <td>1321.70</td>\n",
       "      <td>1314.146030</td>\n",
       "      <td>7.553970</td>\n",
       "    </tr>\n",
       "    <tr>\n",
       "      <th>1</th>\n",
       "      <td>22</td>\n",
       "      <td>857.00</td>\n",
       "      <td>822.421970</td>\n",
       "      <td>34.578030</td>\n",
       "    </tr>\n",
       "    <tr>\n",
       "      <th>2</th>\n",
       "      <td>16</td>\n",
       "      <td>723.39</td>\n",
       "      <td>611.683086</td>\n",
       "      <td>111.706914</td>\n",
       "    </tr>\n",
       "    <tr>\n",
       "      <th>3</th>\n",
       "      <td>16</td>\n",
       "      <td>668.43</td>\n",
       "      <td>611.683086</td>\n",
       "      <td>56.746914</td>\n",
       "    </tr>\n",
       "    <tr>\n",
       "      <th>4</th>\n",
       "      <td>28</td>\n",
       "      <td>1117.41</td>\n",
       "      <td>1033.160853</td>\n",
       "      <td>84.249147</td>\n",
       "    </tr>\n",
       "  </tbody>\n",
       "</table>\n",
       "</div>"
      ],
      "text/plain": [
       "   num visitas    gasto       y_pred       resid\n",
       "0           36  1321.70  1314.146030    7.553970\n",
       "1           22   857.00   822.421970   34.578030\n",
       "2           16   723.39   611.683086  111.706914\n",
       "3           16   668.43   611.683086   56.746914\n",
       "4           28  1117.41  1033.160853   84.249147"
      ]
     },
     "execution_count": 39,
     "metadata": {},
     "output_type": "execute_result"
    }
   ],
   "source": [
    "df['y_pred'] = lr.predict(X)\n",
    "df['resid'] = abs(df['y_pred'] - df['gasto'])\n",
    "df.head()"
   ]
  },
  {
   "cell_type": "code",
   "execution_count": 45,
   "id": "cc0b9f0b",
   "metadata": {},
   "outputs": [
    {
     "data": {
      "text/plain": [
       "(1, 30)"
      ]
     },
     "execution_count": 45,
     "metadata": {},
     "output_type": "execute_result"
    }
   ],
   "source": [
    "k = len(lr.coef_)\n",
    "n = X.shape[0]\n",
    "k,n"
   ]
  },
  {
   "cell_type": "code",
   "execution_count": 41,
   "id": "737d90dd",
   "metadata": {},
   "outputs": [
    {
     "name": "stdout",
     "output_type": "stream",
     "text": [
      "Error medio absoluto: 51.29023421185571\n",
      "Error medio cuadrado: 3631.097743053141\n",
      "Raíz del error medio cuadrado: 60.258590616219536\n",
      "Adj R2 = 0.97\n"
     ]
    }
   ],
   "source": [
    "from sklearn import metrics\n",
    "\n",
    "print('Error medio absoluto:', metrics.mean_absolute_error(df['gasto'], df['y_pred']))\n",
    "print('Error medio cuadrado:', metrics.mean_squared_error(df['gasto'], df['y_pred']))\n",
    "print('Raíz del error medio cuadrado:', np.sqrt(metrics.mean_squared_error(df['gasto'], df['y_pred'])))\n",
    "print('Adj R2 = {}'.format(round((1-(n-1)/(n-k-1) * (1-(lr.score(X,y)))),3)))"
   ]
  }
 ],
 "metadata": {
  "kernelspec": {
   "display_name": "Python 3 (ipykernel)",
   "language": "python",
   "name": "python3"
  },
  "language_info": {
   "codemirror_mode": {
    "name": "ipython",
    "version": 3
   },
   "file_extension": ".py",
   "mimetype": "text/x-python",
   "name": "python",
   "nbconvert_exporter": "python",
   "pygments_lexer": "ipython3",
   "version": "3.8.5"
  }
 },
 "nbformat": 4,
 "nbformat_minor": 5
}
