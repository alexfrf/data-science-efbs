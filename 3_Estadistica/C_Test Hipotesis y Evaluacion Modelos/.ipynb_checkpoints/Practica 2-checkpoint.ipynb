{
 "cells": [
  {
   "cell_type": "markdown",
   "metadata": {},
   "source": [
    "# PRÁCTICA 2\n"
   ]
  },
  {
   "cell_type": "code",
   "execution_count": 1,
   "metadata": {},
   "outputs": [],
   "source": [
    "#Importar paquetes\n",
    "import numpy as np # importando numpy\n",
    "from scipy import stats # importando scipy.stats\n",
    "import pandas as pd # importando pandas\n",
    "import seaborn as sns # importando seaborn\n",
    "import matplotlib.pyplot as plt"
   ]
  },
  {
   "attachments": {
    "image.png": {
     "image/png": "[encoded data removed]"
    }
   },
   "cell_type": "markdown",
   "metadata": {
    "code_folding": []
   },
   "source": [
    "## Contraste de Hipótesis\n",
    "**Planteamiento**\n",
    "Un grupo de autónomos han hecho un curso para mejorar el porcentaje de beneficios de sus negocios. Tenemos los datos de beneficios antes del curso y 6 meses después.\n",
    "\n",
    "Deseamos hacer un Contraste de Hipótesis de **igualdad de medias** de muestras apareadas\n",
    "![image.png](attachment:image.png)\n"
   ]
  },
  {
   "attachments": {
    "image.png": {
     "image/png": "[encoded data removed]"
    }
   },
   "cell_type": "markdown",
   "metadata": {},
   "source": [
    "Si las dos medias fueran iguales el estadístico **t** seguiría una distribución t con **n - 1 grados de libertad** siendo **n** el tamaño de la muestra .\n",
    "\n",
    "![image.png](attachment:image.png)"
   ]
  },
  {
   "cell_type": "code",
   "execution_count": 2,
   "metadata": {},
   "outputs": [],
   "source": [
    "# Leer los datos Practica2.xlsx\n",
    "df1 = pd.read_excel('./Practica2.xlsx')\n",
    "df1.head(2)\n",
    "\n",
    "df1 = df1[['antes','despues']]\n",
    "df1['dif'] = df1.antes-df1.despues\n",
    "\n",
    "gl = df1.shape[1]\n",
    "\n",
    "x=df1['antes'] # Leer X\n",
    "y=df1['despues'] # Leer Y\n",
    "\n",
    "n=x.count() # n = Calcular el tamaño de la muestra\n",
    "\n",
    "dif=x-y\n",
    "\n",
    "\n",
    "alpha=0.05"
   ]
  },
  {
   "cell_type": "code",
   "execution_count": 3,
   "metadata": {},
   "outputs": [
    {
     "data": {
      "text/html": [
       "<div>\n",
       "<style scoped>\n",
       "    .dataframe tbody tr th:only-of-type {\n",
       "        vertical-align: middle;\n",
       "    }\n",
       "\n",
       "    .dataframe tbody tr th {\n",
       "        vertical-align: top;\n",
       "    }\n",
       "\n",
       "    .dataframe thead th {\n",
       "        text-align: right;\n",
       "    }\n",
       "</style>\n",
       "<table border=\"1\" class=\"dataframe\">\n",
       "  <thead>\n",
       "    <tr style=\"text-align: right;\">\n",
       "      <th></th>\n",
       "      <th>antes</th>\n",
       "      <th>despues</th>\n",
       "      <th>dif</th>\n",
       "    </tr>\n",
       "  </thead>\n",
       "  <tbody>\n",
       "    <tr>\n",
       "      <th>0</th>\n",
       "      <td>20.28</td>\n",
       "      <td>21.36</td>\n",
       "      <td>-1.08</td>\n",
       "    </tr>\n",
       "    <tr>\n",
       "      <th>1</th>\n",
       "      <td>19.90</td>\n",
       "      <td>25.87</td>\n",
       "      <td>-5.97</td>\n",
       "    </tr>\n",
       "    <tr>\n",
       "      <th>2</th>\n",
       "      <td>18.95</td>\n",
       "      <td>15.19</td>\n",
       "      <td>3.76</td>\n",
       "    </tr>\n",
       "    <tr>\n",
       "      <th>3</th>\n",
       "      <td>20.40</td>\n",
       "      <td>20.12</td>\n",
       "      <td>0.28</td>\n",
       "    </tr>\n",
       "    <tr>\n",
       "      <th>4</th>\n",
       "      <td>18.46</td>\n",
       "      <td>15.73</td>\n",
       "      <td>2.73</td>\n",
       "    </tr>\n",
       "  </tbody>\n",
       "</table>\n",
       "</div>"
      ],
      "text/plain": [
       "   antes  despues   dif\n",
       "0  20.28    21.36 -1.08\n",
       "1  19.90    25.87 -5.97\n",
       "2  18.95    15.19  3.76\n",
       "3  20.40    20.12  0.28\n",
       "4  18.46    15.73  2.73"
      ]
     },
     "execution_count": 3,
     "metadata": {},
     "output_type": "execute_result"
    }
   ],
   "source": [
    "df1.head()"
   ]
  },
  {
   "cell_type": "code",
   "execution_count": 4,
   "metadata": {},
   "outputs": [
    {
     "data": {
      "text/plain": [
       "<AxesSubplot:xlabel='antes', ylabel='Count'>"
      ]
     },
     "execution_count": 4,
     "metadata": {},
     "output_type": "execute_result"
    },
    {
     "data": {
      "image/png": "[encoded data removed]",
      "text/plain": [
       "<Figure size 432x288 with 1 Axes>"
      ]
     },
     "metadata": {
      "needs_background": "light"
     },
     "output_type": "display_data"
    }
   ],
   "source": [
    "#Veamos cómo son los datos a partir de un histograma\n",
    "%matplotlib inline\n",
    "\n",
    "sns.histplot(x, color='lightblue')\n",
    "\n",
    "#plt.figure()\n",
    "sns.histplot(y, color='lightgreen')"
   ]
  },
  {
   "cell_type": "code",
   "execution_count": 5,
   "metadata": {},
   "outputs": [
    {
     "data": {
      "text/plain": [
       "<AxesSubplot:xlabel='despues', ylabel='Count'>"
      ]
     },
     "execution_count": 5,
     "metadata": {},
     "output_type": "execute_result"
    },
    {
     "data": {
      "image/png": "[encoded data removed]",
      "text/plain": [
       "<Figure size 432x288 with 1 Axes>"
      ]
     },
     "metadata": {
      "needs_background": "light"
     },
     "output_type": "display_data"
    },
    {
     "data": {
      "image/png": "[encoded data removed]",
      "text/plain": [
       "<Figure size 432x288 with 1 Axes>"
      ]
     },
     "metadata": {
      "needs_background": "light"
     },
     "output_type": "display_data"
    }
   ],
   "source": [
    "\n",
    "sns.histplot(x, color='lightblue')\n",
    "\n",
    "plt.figure()\n",
    "sns.histplot(y, color='lightgreen')"
   ]
  },
  {
   "cell_type": "code",
   "execution_count": 6,
   "metadata": {},
   "outputs": [
    {
     "name": "stdout",
     "output_type": "stream",
     "text": [
      "Media: -1.4129999999999998 , std:3.230822623974614\n"
     ]
    }
   ],
   "source": [
    "n = dif.count()\n",
    "gl = n-1\n",
    "avg = dif.mean()\n",
    "\n",
    "std = dif.std()\n",
    "\n",
    "print('Media: {} , std:{}'.format(avg,std))"
   ]
  },
  {
   "cell_type": "code",
   "execution_count": 7,
   "metadata": {},
   "outputs": [
    {
     "data": {
      "text/plain": [
       "-2.3954641397264176"
      ]
     },
     "execution_count": 7,
     "metadata": {},
     "output_type": "execute_result"
    }
   ],
   "source": [
    "t = avg / (std /np.sqrt(n))\n",
    "t"
   ]
  },
  {
   "cell_type": "code",
   "execution_count": 8,
   "metadata": {},
   "outputs": [
    {
     "name": "stdout",
     "output_type": "stream",
     "text": [
      "significacion=0.050, p=0.023\n",
      "Existe Dependencia (Se rechaza H0)\n"
     ]
    }
   ],
   "source": [
    "p = 2*(1-stats.t.cdf(abs(t),df=gl))\n",
    "\n",
    "print('significacion=%.3f, p=%.3f' % (alpha, p))\n",
    "if p <= alpha:\n",
    " print('Existe Dependencia (Se rechaza H0)')\n",
    "else:\n",
    " print('Independencia (Se acepta H0)')"
   ]
  },
  {
   "cell_type": "code",
   "execution_count": 9,
   "metadata": {},
   "outputs": [
    {
     "name": "stdout",
     "output_type": "stream",
     "text": [
      "t = -2.395464139726418 y pvalue = 0.023277252837698714 con alpha = 0.05\n",
      "Existe Dependencia (Se rechaza H0)\n"
     ]
    }
   ],
   "source": [
    "# Solo tenemos una muestra, con lo que no podemos usar stats.ttest_ind, sino ttest_1samp con la variable dif\n",
    "# Se asume que el valor de H0 es 0\n",
    "t,p = stats.ttest_1samp(dif,0)\n",
    "\n",
    "print('t = {} y pvalue = {} con alpha = {}'.format(t,p,alpha))\n",
    "\n",
    "if p <= alpha:\n",
    " print('Existe Dependencia (Se rechaza H0)')\n",
    "else:\n",
    " print('Independencia (Se acepta H0)')"
   ]
  },
  {
   "cell_type": "code",
   "execution_count": 10,
   "metadata": {
    "scrolled": true
   },
   "outputs": [
    {
     "name": "stdout",
     "output_type": "stream",
     "text": [
      "t =-2.3954641397264242\n",
      "p =0.023277252837698326\n",
      "probabilidad=0.950, valor critico=1.699,t=-2.395\n",
      "Existe Dependencia (Se rechaza H0)\n",
      "significacion=0.050, p=0.023\n",
      "Existe Dependencia (Se rechaza H0)\n",
      "t2 = -2.395464139726418\n",
      "p2 = 0.023277252837698714\n"
     ]
    }
   ],
   "source": [
    "n=x.count() # n Calcular el tamaño de la muestra\n",
    "\n",
    "dif=x-y\n",
    "med_dif=x.mean()- y.mean() # Calcular la media de la diferencias que es igual a la diferencia de medias\n",
    "\n",
    "var_dif = dif.var(ddof=1)  # Calcular la cuasivarianza de dif \n",
    "\n",
    "a=np.sqrt(var_dif/n)\n",
    "t= med_dif/a #t=med(X-Y)/(S/sqrt(n))\n",
    "\n",
    "# buscar p valor de t, o buscar el límite de la zona critica con tn+m-2 alfa/2\n",
    "gl = n-1 #grados de libertad\n",
    "\n",
    "#p-valor para comparar con la t  \n",
    "p = 2*(1-stats.t.cdf(abs(t),df=gl))\n",
    "\n",
    "print(\"t =\" +str(t))\n",
    "print(\"p =\" +str(p))\n",
    "\n",
    "alpha=0.05\n",
    "prob=1-alpha\n",
    "\n",
    "# Interpretar el resultado del test t (de dos colas)\n",
    "critical =stats.t.ppf(prob, gl)\n",
    "print('probabilidad=%.3f, valor critico=%.3f,t=%.3f' % (prob, critical, t))\n",
    "if abs(t) >= critical:\n",
    " print('Existe Dependencia (Se rechaza H0)')\n",
    "else:\n",
    " print('Independencia (Se acepta H0)')\n",
    "\n",
    "# Interpretar el resultado del p-valor\n",
    "print('significacion=%.3f, p=%.3f' % (alpha, p))\n",
    "if p <= alpha:\n",
    " print('Existe Dependencia (Se rechaza H0)')\n",
    "else:\n",
    " print('Independencia (Se acepta H0)')\n",
    "#El paquete scipy tiene una función interna que hace todo esto en un solo paso\n",
    "\n",
    "t2, p2 = stats.ttest_rel(x,y) #??\n",
    "print(\"t2 = \" + str(t2))\n",
    "print(\"p2 = \" + str(p2))"
   ]
  },
  {
   "attachments": {
    "image.png": {
     "image/png": "[encoded data removed]"
    }
   },
   "cell_type": "markdown",
   "metadata": {},
   "source": [
    "Pensemos cómo sería el cálculo para un contraste de una cola. ¿Cómo sería el valor p?\n",
    "![image.png](attachment:image.png)"
   ]
  },
  {
   "cell_type": "code",
   "execution_count": 11,
   "metadata": {},
   "outputs": [
    {
     "name": "stdout",
     "output_type": "stream",
     "text": [
      "significacion=0.050, p=0.012\n",
      "Existe Dependencia (Se rechaza H0)\n"
     ]
    }
   ],
   "source": [
    "#p-valor para comparar con alfa\n",
    "p2 =stats.t.cdf(t,df=gl)\n",
    "\n",
    "# Interpretar el resultado del p-valor\n",
    "print('significacion=%.3f, p=%.3f' % (alpha, p2))\n",
    "if p2 <= alpha:\n",
    " print('Existe Dependencia (Se rechaza H0)')\n",
    "else:\n",
    " print('Independencia (Se acepta H0)')"
   ]
  },
  {
   "cell_type": "code",
   "execution_count": 12,
   "metadata": {},
   "outputs": [
    {
     "name": "stdout",
     "output_type": "stream",
     "text": [
      "t = -2.395464139726418 y pvalue = 0.011638626418849357 con alpha = 0.05\n",
      "Existe Dependencia (Se rechaza H0)\n"
     ]
    }
   ],
   "source": [
    "t1,p1 = stats.ttest_1samp(dif,0,alternative='less')\n",
    "\n",
    "print('t = {} y pvalue = {} con alpha = {}'.format(t1,p1,alpha))\n",
    "\n",
    "if p1 <= alpha:\n",
    " print('Existe Dependencia (Se rechaza H0)')\n",
    "else:\n",
    " print('Independencia (Se acepta H0)')"
   ]
  },
  {
   "attachments": {
    "image.png": {
     "image/png": "[encoded data removed]"
    }
   },
   "cell_type": "markdown",
   "metadata": {},
   "source": [
    "Pensemos cómo sería el cálculo para el otro contraste de una cola. ¿Cómo sería el valor p?\n",
    "![image.png](attachment:image.png)"
   ]
  },
  {
   "cell_type": "code",
   "execution_count": 13,
   "metadata": {},
   "outputs": [
    {
     "name": "stdout",
     "output_type": "stream",
     "text": [
      "t = -2.395464139726418 y pvalue = 0.9883613735811506 con alpha = 0.05\n",
      "Independencia (Se acepta H0)\n"
     ]
    }
   ],
   "source": [
    "t2,p2 = stats.ttest_1samp(dif,0,alternative='greater')\n",
    "\n",
    "print('t = {} y pvalue = {} con alpha = {}'.format(t2,p2,alpha))\n",
    "\n",
    "if p2 <= alpha:\n",
    " print('Existe Dependencia (Se rechaza H0)')\n",
    "else:\n",
    " print('Independencia (Se acepta H0)')"
   ]
  }
 ],
 "metadata": {
  "celltoolbar": "Attachments",
  "kernelspec": {
   "display_name": "Python 3 (ipykernel)",
   "language": "python",
   "name": "python3"
  },
  "language_info": {
   "codemirror_mode": {
    "name": "ipython",
    "version": 3
   },
   "file_extension": ".py",
   "mimetype": "text/x-python",
   "name": "python",
   "nbconvert_exporter": "python",
   "pygments_lexer": "ipython3",
   "version": "3.8.5"
  }
 },
 "nbformat": 4,
 "nbformat_minor": 4
}
