{
 "cells": [
  {
   "cell_type": "code",
   "execution_count": 1,
   "id": "71de7387",
   "metadata": {},
   "outputs": [],
   "source": [
    "import numpy as np\n",
    "from scipy import stats\n",
    "import pandas as pd\n",
    "import seaborn as sns"
   ]
  },
  {
   "cell_type": "markdown",
   "id": "d9ca6403",
   "metadata": {},
   "source": [
    "## Contraste de Hipótesis\n",
    "\n",
    "   ### Sobre medias de muestras independientes\n",
    "**Planteamiento**\n",
    "Queremos saber si el cliente A gasta más o menos dinero que el cliente B.\n",
    "\n",
    "El cliente A gasta una media de 214€/mes  y el cliente B gasta gasta una media de 253€/mes. ¿Es mejor A que B?\n",
    "\n",
    "Deseamos hacer un Contraste de Hipótesis de **igualdad de medias** de muestras independientes"
   ]
  },
  {
   "cell_type": "code",
   "execution_count": 2,
   "id": "bb50dd1d",
   "metadata": {},
   "outputs": [],
   "source": [
    "alpha = 0.05"
   ]
  },
  {
   "cell_type": "markdown",
   "id": "cd6da0bb",
   "metadata": {},
   "source": [
    "**CONTRASTE 1**\n",
    "\n",
    "  - H0: my = mx\n",
    "  - H1: my != mx"
   ]
  },
  {
   "cell_type": "code",
   "execution_count": 3,
   "id": "b1802431",
   "metadata": {},
   "outputs": [
    {
     "data": {
      "text/html": [
       "<div>\n",
       "<style scoped>\n",
       "    .dataframe tbody tr th:only-of-type {\n",
       "        vertical-align: middle;\n",
       "    }\n",
       "\n",
       "    .dataframe tbody tr th {\n",
       "        vertical-align: top;\n",
       "    }\n",
       "\n",
       "    .dataframe thead th {\n",
       "        text-align: right;\n",
       "    }\n",
       "</style>\n",
       "<table border=\"1\" class=\"dataframe\">\n",
       "  <thead>\n",
       "    <tr style=\"text-align: right;\">\n",
       "      <th></th>\n",
       "      <th>cliente A</th>\n",
       "      <th>cliente B</th>\n",
       "    </tr>\n",
       "  </thead>\n",
       "  <tbody>\n",
       "    <tr>\n",
       "      <th>0</th>\n",
       "      <td>281.22</td>\n",
       "      <td>563.93</td>\n",
       "    </tr>\n",
       "    <tr>\n",
       "      <th>1</th>\n",
       "      <td>232.68</td>\n",
       "      <td>210.52</td>\n",
       "    </tr>\n",
       "    <tr>\n",
       "      <th>2</th>\n",
       "      <td>154.59</td>\n",
       "      <td>227.31</td>\n",
       "    </tr>\n",
       "    <tr>\n",
       "      <th>3</th>\n",
       "      <td>149.37</td>\n",
       "      <td>232.24</td>\n",
       "    </tr>\n",
       "    <tr>\n",
       "      <th>4</th>\n",
       "      <td>151.37</td>\n",
       "      <td>340.47</td>\n",
       "    </tr>\n",
       "  </tbody>\n",
       "</table>\n",
       "</div>"
      ],
      "text/plain": [
       "   cliente A  cliente B\n",
       "0     281.22     563.93\n",
       "1     232.68     210.52\n",
       "2     154.59     227.31\n",
       "3     149.37     232.24\n",
       "4     151.37     340.47"
      ]
     },
     "execution_count": 3,
     "metadata": {},
     "output_type": "execute_result"
    }
   ],
   "source": [
    "df1 = pd.read_excel('./Practica1.xlsx')\n",
    "df1 = df1[['cliente A','cliente B']]\n",
    "df1.head()"
   ]
  },
  {
   "cell_type": "code",
   "execution_count": 4,
   "id": "91e55217",
   "metadata": {},
   "outputs": [
    {
     "data": {
      "text/plain": [
       "28"
      ]
     },
     "execution_count": 4,
     "metadata": {},
     "output_type": "execute_result"
    }
   ],
   "source": [
    "muestra = df1.shape[0]\n",
    "muestra"
   ]
  },
  {
   "cell_type": "code",
   "execution_count": 5,
   "id": "223723f9",
   "metadata": {},
   "outputs": [
    {
     "data": {
      "text/plain": [
       "<AxesSubplot:xlabel='cliente A', ylabel='Count'>"
      ]
     },
     "execution_count": 5,
     "metadata": {},
     "output_type": "execute_result"
    },
    {
     "data": {
      "image/png": "[encoded data removed]",
      "text/plain": [
       "<Figure size 432x288 with 1 Axes>"
      ]
     },
     "metadata": {
      "needs_background": "light"
     },
     "output_type": "display_data"
    }
   ],
   "source": [
    "sns.histplot(df1['cliente A'], color='lightgreen')"
   ]
  },
  {
   "cell_type": "code",
   "execution_count": 6,
   "id": "c3b0a554",
   "metadata": {},
   "outputs": [
    {
     "data": {
      "text/plain": [
       "<AxesSubplot:xlabel='cliente B', ylabel='Count'>"
      ]
     },
     "execution_count": 6,
     "metadata": {},
     "output_type": "execute_result"
    },
    {
     "data": {
      "image/png": "[encoded data removed]",
      "text/plain": [
       "<Figure size 432x288 with 1 Axes>"
      ]
     },
     "metadata": {
      "needs_background": "light"
     },
     "output_type": "display_data"
    }
   ],
   "source": [
    "sns.histplot(df1['cliente B'],color='lightblue')"
   ]
  },
  {
   "cell_type": "code",
   "execution_count": 7,
   "id": "caa933dd",
   "metadata": {},
   "outputs": [
    {
     "name": "stdout",
     "output_type": "stream",
     "text": [
      "213.99999999999991 252.99999999999997\n"
     ]
    }
   ],
   "source": [
    "x_mean = df1['cliente A'].mean()\n",
    "y_mean = df1['cliente B'].mean()\n",
    "\n",
    "x_std = df1['cliente A'].std()\n",
    "y_std = df1['cliente B'].mean()\n",
    "\n",
    "print(x_mean, y_mean)"
   ]
  },
  {
   "cell_type": "code",
   "execution_count": 8,
   "id": "fb3a6540",
   "metadata": {},
   "outputs": [
    {
     "name": "stdout",
     "output_type": "stream",
     "text": [
      "t = -2.136638265461758\n",
      "p = 0.037752576116241304\n"
     ]
    }
   ],
   "source": [
    "t, p = stats.ttest_ind(df1['cliente A'].dropna(),df1['cliente B'].dropna())\n",
    "print('t = {}'.format(t))\n",
    "print('p = {}'.format(p))"
   ]
  },
  {
   "cell_type": "code",
   "execution_count": 9,
   "id": "f3c57381",
   "metadata": {},
   "outputs": [
    {
     "data": {
      "text/plain": [
       "1.6772241953450393"
      ]
     },
     "execution_count": 9,
     "metadata": {},
     "output_type": "execute_result"
    }
   ],
   "source": [
    "glibertad = df1['cliente A'].dropna().shape[0] + df1['cliente B'].dropna().shape[0] -2\n",
    "critical =stats.t.ppf(1-alpha, glibertad)\n",
    "critical"
   ]
  },
  {
   "cell_type": "code",
   "execution_count": 10,
   "id": "28feab28",
   "metadata": {},
   "outputs": [
    {
     "name": "stdout",
     "output_type": "stream",
     "text": [
      "significacion=0.050, p=0.038\n",
      "Se rechaza H0, con pvalor=0.038 y alpha=0.05\n"
     ]
    }
   ],
   "source": [
    "print('significacion=%.3f, p=%.3f' % (alpha, p))\n",
    "if p <= alpha:\n",
    "    print('Se rechaza H0, con pvalor={} y alpha={}'.format(round(p,3),alpha))\n",
    "else:\n",
    "    print('No se puede rechazar H0, con pvalor={} y alpha={}'.format(round(p,3),alpha))"
   ]
  },
  {
   "cell_type": "markdown",
   "id": "a0da7241",
   "metadata": {},
   "source": [
    "**CONTRASTE 2**\n",
    "\n",
    "  - H0: mx = my\n",
    "  - H1: mx > my"
   ]
  },
  {
   "cell_type": "code",
   "execution_count": 11,
   "id": "1172e6f5",
   "metadata": {},
   "outputs": [
    {
     "name": "stdout",
     "output_type": "stream",
     "text": [
      "t = -2.136638265461758\n",
      "p = 0.9811237119418794\n"
     ]
    }
   ],
   "source": [
    "t2, p2 = stats.ttest_ind(df1['cliente A'].dropna(),df1['cliente B'].dropna(),alternative='greater')\n",
    "print('t = {}'.format(t2))\n",
    "print('p = {}'.format(p2))"
   ]
  },
  {
   "cell_type": "code",
   "execution_count": 12,
   "id": "d307d514",
   "metadata": {},
   "outputs": [
    {
     "name": "stdout",
     "output_type": "stream",
     "text": [
      "significacion=0.050, p=0.981\n",
      "No se puede rechazar H0, con pvalor=0.981 y alpha=0.05\n"
     ]
    }
   ],
   "source": [
    "print('significacion=%.3f, p=%.3f' % (alpha, p2))\n",
    "if p2 <= alpha:\n",
    "    print('Se rechaza H0, con pvalor={} y alpha={}'.format(round(p2,3),alpha))\n",
    "else:\n",
    "    print('No se puede rechazar H0, con pvalor={} y alpha={}'.format(round(p2,3),alpha))"
   ]
  },
  {
   "cell_type": "markdown",
   "id": "05e2ab0c",
   "metadata": {},
   "source": [
    "**CONTRASTE 3**\n",
    "\n",
    "  - H0: my = mx\n",
    "  - H1: mx < my"
   ]
  },
  {
   "cell_type": "code",
   "execution_count": 13,
   "id": "4ad2fd57",
   "metadata": {},
   "outputs": [
    {
     "name": "stdout",
     "output_type": "stream",
     "text": [
      "t = -2.136638265461758\n",
      "p = 0.018876288058120652\n"
     ]
    }
   ],
   "source": [
    "t3, p3 = stats.ttest_ind(df1['cliente A'].dropna(),df1['cliente B'].dropna(),alternative='less')\n",
    "print('t = {}'.format(t3))\n",
    "print('p = {}'.format(p3))"
   ]
  },
  {
   "cell_type": "code",
   "execution_count": 14,
   "id": "11f86b88",
   "metadata": {},
   "outputs": [
    {
     "name": "stdout",
     "output_type": "stream",
     "text": [
      "significacion=0.050, p=0.019\n",
      "Se rechaza H0, con pvalor=0.019 y alpha=0.05\n"
     ]
    }
   ],
   "source": [
    "print('significacion=%.3f, p=%.3f' % (alpha, p3))\n",
    "if p3 <= alpha:\n",
    "    print('Se rechaza H0, con pvalor={} y alpha={}'.format(round(p3,3),alpha))\n",
    "else:\n",
    "    print('No se puede rechazar H0, con pvalor={} y alpha={}'.format(round(p3,3),alpha))"
   ]
  }
 ],
 "metadata": {
  "kernelspec": {
   "display_name": "Python 3 (ipykernel)",
   "language": "python",
   "name": "python3"
  },
  "language_info": {
   "codemirror_mode": {
    "name": "ipython",
    "version": 3
   },
   "file_extension": ".py",
   "mimetype": "text/x-python",
   "name": "python",
   "nbconvert_exporter": "python",
   "pygments_lexer": "ipython3",
   "version": "3.8.5"
  }
 },
 "nbformat": 4,
 "nbformat_minor": 5
}
