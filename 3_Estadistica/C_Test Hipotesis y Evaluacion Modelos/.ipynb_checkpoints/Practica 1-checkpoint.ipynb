{
 "cells": [
  {
   "cell_type": "markdown",
   "metadata": {},
   "source": [
    "# PRÁCTICA 1"
   ]
  },
  {
   "cell_type": "code",
   "execution_count": 3,
   "metadata": {},
   "outputs": [],
   "source": [
    "#Importar paquetes\n",
    "import numpy as np # importando numpy\n",
    "from scipy import stats # importando scipy.stats\n",
    "import pandas as pd # importando pandas\n",
    "      "
   ]
  },
  {
   "cell_type": "markdown",
   "metadata": {
    "code_folding": []
   },
   "source": [
    "## Contraste de Hipótesis\n",
    "**Planteamiento**\n",
    "Queremos saber si el cliente A gasta más o menos dinero que el cliente B.\n",
    "\n",
    "El cliente A gasta una media de 214€/mes  y el cliente B gasta gasta una media de 253€/mes. ¿Es mejor A que B?\n",
    "\n",
    "Deseamos hacer un Contraste de Hipótesis de **igualdad de medias** de muestras independientes\n"
   ]
  },
  {
   "attachments": {
    "image-2.png": {
     "image/png": "[encoded data removed]"
    },
    "image.png": {
     "image/png": "[encoded data removed]"
    }
   },
   "cell_type": "markdown",
   "metadata": {},
   "source": [
    "Si las dos medias fueran iguales el estadístico **t** seguiría una distribución t con **n +m-2 grados de libertad** siemdo **n** el tamaño de la muestra .\n",
    "![image.png](attachment:image.png)\n",
    "![image-2.png](attachment:image-2.png)"
   ]
  },
  {
   "cell_type": "code",
   "execution_count": 32,
   "metadata": {
    "scrolled": true
   },
   "outputs": [
    {
     "name": "stdout",
     "output_type": "stream",
     "text": [
      "Muestra 1:  22\n",
      "Muestra 2:  28\n",
      "Media 1: 213 // Std 1: 50.40395628840858\n",
      "Media 2: 252 // Std 1: 72.94652419815912 \n",
      "Grados libertad: 2\n"
     ]
    }
   ],
   "source": [
    "# Leer los datos Practica1.xlsx\n",
    "df1 = pd.read_excel('./Practica1.xlsx')\n",
    "df1 = df1[['cliente A','cliente B']]\n",
    "df1.head(2)\n",
    "alp=0.05\n",
    "gl = len(list(df1.columns))\n",
    "x=df1['cliente A'] # Leer X\n",
    "y=df1['cliente B'] # Leer Y\n",
    "n=x.count() # n = Calcular el tamaño de X \n",
    "m=y.count() # m = Calcular el tamaño de Y\n",
    "\n",
    "print('Muestra 1: ',n)\n",
    "print('Muestra 2: ',m)\n",
    "print('Media 1: {} // Std 1: {}'.format(int(x.mean()),x.std()))\n",
    "print('Media 2: {} // Std 1: {} '.format(int(y.mean()),y.std()))\n",
    "print('Grados libertad: {}'.format(gl))"
   ]
  },
  {
   "cell_type": "code",
   "execution_count": 33,
   "metadata": {},
   "outputs": [
    {
     "data": {
      "text/html": [
       "<div>\n",
       "<style scoped>\n",
       "    .dataframe tbody tr th:only-of-type {\n",
       "        vertical-align: middle;\n",
       "    }\n",
       "\n",
       "    .dataframe tbody tr th {\n",
       "        vertical-align: top;\n",
       "    }\n",
       "\n",
       "    .dataframe thead th {\n",
       "        text-align: right;\n",
       "    }\n",
       "</style>\n",
       "<table border=\"1\" class=\"dataframe\">\n",
       "  <thead>\n",
       "    <tr style=\"text-align: right;\">\n",
       "      <th></th>\n",
       "      <th>cliente A</th>\n",
       "      <th>cliente B</th>\n",
       "    </tr>\n",
       "  </thead>\n",
       "  <tbody>\n",
       "    <tr>\n",
       "      <th>0</th>\n",
       "      <td>281.22</td>\n",
       "      <td>563.93</td>\n",
       "    </tr>\n",
       "    <tr>\n",
       "      <th>1</th>\n",
       "      <td>232.68</td>\n",
       "      <td>210.52</td>\n",
       "    </tr>\n",
       "    <tr>\n",
       "      <th>2</th>\n",
       "      <td>154.59</td>\n",
       "      <td>227.31</td>\n",
       "    </tr>\n",
       "    <tr>\n",
       "      <th>3</th>\n",
       "      <td>149.37</td>\n",
       "      <td>232.24</td>\n",
       "    </tr>\n",
       "    <tr>\n",
       "      <th>4</th>\n",
       "      <td>151.37</td>\n",
       "      <td>340.47</td>\n",
       "    </tr>\n",
       "  </tbody>\n",
       "</table>\n",
       "</div>"
      ],
      "text/plain": [
       "   cliente A  cliente B\n",
       "0     281.22     563.93\n",
       "1     232.68     210.52\n",
       "2     154.59     227.31\n",
       "3     149.37     232.24\n",
       "4     151.37     340.47"
      ]
     },
     "execution_count": 33,
     "metadata": {},
     "output_type": "execute_result"
    }
   ],
   "source": [
    "df1.head()"
   ]
  },
  {
   "cell_type": "code",
   "execution_count": 26,
   "metadata": {},
   "outputs": [
    {
     "name": "stdout",
     "output_type": "stream",
     "text": [
      "Se rechaza H0, con pvalor=0.038 y alpha=0.05\n"
     ]
    }
   ],
   "source": [
    "t, p = stats.ttest_ind(x.dropna(),y.dropna())\n",
    "if p <= alp:\n",
    "    print('Se rechaza H0, con pvalor={} y alpha={}'.format(round(p,3),alp))\n",
    "else:\n",
    "    print('No se puede rechazar H0, con pvalor={} y alpha={}'.format(round(p,3),alp))"
   ]
  },
  {
   "cell_type": "code",
   "execution_count": 39,
   "metadata": {},
   "outputs": [
    {
     "data": {
      "text/plain": [
       "2.919985580355516"
      ]
     },
     "execution_count": 39,
     "metadata": {},
     "output_type": "execute_result"
    }
   ],
   "source": [
    "# Valor Critico\n",
    "critical =stats.t.ppf(1-alp, gl)\n",
    "critical"
   ]
  },
  {
   "cell_type": "code",
   "execution_count": 41,
   "metadata": {
    "scrolled": true
   },
   "outputs": [
    {
     "name": "stdout",
     "output_type": "stream",
     "text": [
      "t = -2.1366382654617553\n",
      "p = 0.03775257611624139\n",
      "probabilidad=0.950, valor critico=1.677,t=-2.137\n",
      "Existe Dependencia (Se rechaza H0)\n",
      "significacion=0.050, p=0.038\n",
      "Existe Dependencia (Se rechaza H0)\n",
      "t2 = -2.136638265461758\n",
      "p2 = 0.037752576116241304\n"
     ]
    }
   ],
   "source": [
    "var_x = x.var(ddof=1)  # SSX=Calcular la cuasivarianza de X \n",
    "var_y = y.var(ddof=1)  # SSY=Calcular la cuasivarianza de Y \n",
    "\n",
    "S=np.sqrt(((n-1)*var_x + (m-1)*var_y)/(n+m-2)) #S2=(SSX+SSY)/(n+m-2)\n",
    "\n",
    "t=(x.mean()-y.mean())/(S*np.sqrt(1/n+1/m)) #t=(medX-medY)/(sqrt(n+m-2)S2)*(1/n+1/m))\n",
    "\n",
    "# buscar p valor de t, o buscar el límite de la zona critica con tn+m-2 alfa/2\\n\",\n",
    "gl = n+m - 2 #grados de libertad\n",
    "\n",
    "#p-valor para comparar con alfa\n",
    "p =2*( 1-stats.t.cdf(abs(t),df=gl))\n",
    "\n",
    "alpha=0.05\n",
    "prob=1-alpha\n",
    "print(\"t = \" + str(t))\n",
    "print(\"p = \" + str(p))\n",
    "\n",
    "# Interpretar el resultado del test t (test de dos colas)\n",
    "critical =stats.t.ppf(prob, gl)\n",
    "print('probabilidad=%.3f, valor critico=%.3f,t=%.3f' % (prob, critical, t))\n",
    "if abs(t) >= critical:\n",
    " print('Existe Dependencia (Se rechaza H0)')\n",
    "else:\n",
    " print('Independencia (Se acepta H0)')\n",
    "\n",
    "# Interpretar el resultado del p-valor\n",
    "print('significacion=%.3f, p=%.3f' % (alpha, p))\n",
    "if p <= alpha:\n",
    " print('Existe Dependencia (Se rechaza H0)')\n",
    "else:\n",
    " print('Independencia (Se acepta H0)')\n",
    "\n",
    "#El paquete scipy tiene una función interna que hace todo esto en un solo paso\n",
    "#ANTON AQUI NO SE PORQUÉ DA ERROR. CREO QUE EL TEST SOLO ADMITE MUESTRAS DEL MISMO TAMAÑO. HAY ALGUNO QUE ADMITA MUESTRAS DE TAMAÑO DIFERENTE?\n",
    "t2, p2 = stats.ttest_ind(x.dropna(),y.dropna()) \n",
    "print(\"t2 = \" + str(t2))\n",
    "print(\"p2 = \" + str(p2))\n",
    "\n"
   ]
  },
  {
   "attachments": {
    "image.png": {
     "image/png": "[encoded data removed]"
    }
   },
   "cell_type": "markdown",
   "metadata": {},
   "source": [
    "Pensemos cómo sería el cálculo para un contraste de una cola. \n",
    "¿Cómo sería el valor p?\n",
    "![image.png](attachment:image.png)"
   ]
  },
  {
   "cell_type": "code",
   "execution_count": 40,
   "metadata": {},
   "outputs": [
    {
     "name": "stdout",
     "output_type": "stream",
     "text": [
      "significacion=0.050, p=0.083\n",
      "Independencia (Se acepta H0)\n"
     ]
    }
   ],
   "source": [
    "#p-valor para comparar con alfa\n",
    "p2 =stats.t.cdf(t,df=gl)\n",
    "\n",
    "# Interpretar el resultado del p-valor\n",
    "print('significacion=%.3f, p=%.3f' % (alpha, p2))\n",
    "if p2 <= alpha:\n",
    " print('Existe Dependencia (Se rechaza H0)')\n",
    "else:\n",
    " print('Independencia (Se acepta H0)')"
   ]
  },
  {
   "cell_type": "code",
   "execution_count": 42,
   "metadata": {},
   "outputs": [
    {
     "name": "stdout",
     "output_type": "stream",
     "text": [
      "t=-2.136638265461758, p=0.9811237119418794\n",
      "Independencia (Se acepta H0)\n"
     ]
    }
   ],
   "source": [
    "t2,p2 = stats.ttest_ind(x.dropna(),y.dropna(),alternative='greater')\n",
    "print(\"t={}, p={}\".format(t2,p2))\n",
    "if p2 <= alpha:\n",
    " print('Existe Dependencia (Se rechaza H0)')\n",
    "else:\n",
    " print('Independencia (Se acepta H0)')"
   ]
  },
  {
   "attachments": {
    "image.png": {
     "image/png": "[encoded data removed]"
    }
   },
   "cell_type": "markdown",
   "metadata": {},
   "source": [
    "Pensemos cómo sería el cálculo para un contraste de una cola. ¿Cómo sería el valor p?\n",
    "![image.png](attachment:image.png)"
   ]
  },
  {
   "cell_type": "code",
   "execution_count": 49,
   "metadata": {},
   "outputs": [
    {
     "name": "stdout",
     "output_type": "stream",
     "text": [
      "significacion=0.050, p=0.981\n",
      "Independencia (Se acepta H0), con sig=0.05 y p=0.981\n"
     ]
    }
   ],
   "source": [
    "#p-valor para comparar con alfa\n",
    "p3 =1-stats.t.cdf(t,df=gl)\n",
    "\n",
    "# Interpretar el resultado del p-valor\n",
    "print('significacion=%.3f, p=%.3f' % (alpha, p3))\n",
    "if p2 <= alpha:\n",
    " print('Existe Dependencia (Se rechaza H0), con sig={} y p={}'.format(alpha,round(p2,3)))\n",
    "else:\n",
    " print('Independencia (Se acepta H0), con sig={} y p={}'.format(alpha,round(p2,3)))"
   ]
  },
  {
   "cell_type": "code",
   "execution_count": 50,
   "metadata": {},
   "outputs": [
    {
     "name": "stdout",
     "output_type": "stream",
     "text": [
      "t=-2.136638265461758, p=0.018876288058120652\n",
      "Existe Dependencia (Se rechaza H0), con sig=0.05 y p=0.019\n"
     ]
    }
   ],
   "source": [
    "t3,p3 = stats.ttest_ind(x.dropna(),y.dropna(),alternative='less')\n",
    "print(\"t={}, p={}\".format(t3,p3))\n",
    "if p3 <= alpha:\n",
    " print('Existe Dependencia (Se rechaza H0), con sig={} y p={}'.format(alpha,round(p3,3)))\n",
    "else:\n",
    " print('Independencia (Se acepta H0), con sig={} y p={}'.format(alpha,round(p3,3)))"
   ]
  }
 ],
 "metadata": {
  "celltoolbar": "Attachments",
  "kernelspec": {
   "display_name": "Python 3 (ipykernel)",
   "language": "python",
   "name": "python3"
  },
  "language_info": {
   "codemirror_mode": {
    "name": "ipython",
    "version": 3
   },
   "file_extension": ".py",
   "mimetype": "text/x-python",
   "name": "python",
   "nbconvert_exporter": "python",
   "pygments_lexer": "ipython3",
   "version": "3.8.5"
  }
 },
 "nbformat": 4,
 "nbformat_minor": 4
}
