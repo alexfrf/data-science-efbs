{
 "cells": [
  {
   "cell_type": "code",
   "execution_count": 1,
   "id": "52ed3e0c",
   "metadata": {},
   "outputs": [],
   "source": [
    "import pandas as pd\n",
    "import numpy as np\n",
    "from scipy import stats # importando scipy.stats\n",
    "from scipy.stats import chi2_contingency\n",
    "from scipy.stats.contingency import expected_freq\n",
    "\n",
    "alpha=0.05"
   ]
  },
  {
   "cell_type": "markdown",
   "id": "19eda297",
   "metadata": {},
   "source": [
    "## Contraste de Hipótesis\n",
    "**Planteamiento**\n",
    "Un estudio intenta comparar si existe relación entre el estatus civil de las personas y la incidencia de la obesidad. Se tiene una muestra aleatoria de personas\n",
    "\n",
    "Deseamos hacer un Contraste de Hipótesis de **independencia** respecto a variables cualitativas. Será un test del tipo χ2  (Chi2). \n"
   ]
  },
  {
   "cell_type": "code",
   "execution_count": 2,
   "id": "17cc6242",
   "metadata": {},
   "outputs": [
    {
     "data": {
      "text/html": [
       "<div>\n",
       "<style scoped>\n",
       "    .dataframe tbody tr th:only-of-type {\n",
       "        vertical-align: middle;\n",
       "    }\n",
       "\n",
       "    .dataframe tbody tr th {\n",
       "        vertical-align: top;\n",
       "    }\n",
       "\n",
       "    .dataframe thead th {\n",
       "        text-align: right;\n",
       "    }\n",
       "</style>\n",
       "<table border=\"1\" class=\"dataframe\">\n",
       "  <thead>\n",
       "    <tr style=\"text-align: right;\">\n",
       "      <th></th>\n",
       "      <th>ord</th>\n",
       "      <th>peso</th>\n",
       "      <th>estcivil</th>\n",
       "      <th>Unnamed: 3</th>\n",
       "      <th>Unnamed: 4</th>\n",
       "      <th>Unnamed: 5</th>\n",
       "      <th>Unnamed: 6</th>\n",
       "      <th>Unnamed: 7</th>\n",
       "    </tr>\n",
       "  </thead>\n",
       "  <tbody>\n",
       "    <tr>\n",
       "      <th>0</th>\n",
       "      <td>1</td>\n",
       "      <td>obeso</td>\n",
       "      <td>soltero</td>\n",
       "      <td>NaN</td>\n",
       "      <td>NaN</td>\n",
       "      <td>NaN</td>\n",
       "      <td>NaN</td>\n",
       "      <td>NaN</td>\n",
       "    </tr>\n",
       "    <tr>\n",
       "      <th>1</th>\n",
       "      <td>2</td>\n",
       "      <td>obeso</td>\n",
       "      <td>soltero</td>\n",
       "      <td>NaN</td>\n",
       "      <td>NaN</td>\n",
       "      <td>NaN</td>\n",
       "      <td>NaN</td>\n",
       "      <td>NaN</td>\n",
       "    </tr>\n",
       "    <tr>\n",
       "      <th>2</th>\n",
       "      <td>3</td>\n",
       "      <td>obeso</td>\n",
       "      <td>soltero</td>\n",
       "      <td>NaN</td>\n",
       "      <td>NaN</td>\n",
       "      <td>NaN</td>\n",
       "      <td>NaN</td>\n",
       "      <td>NaN</td>\n",
       "    </tr>\n",
       "    <tr>\n",
       "      <th>3</th>\n",
       "      <td>4</td>\n",
       "      <td>obeso</td>\n",
       "      <td>soltero</td>\n",
       "      <td>NaN</td>\n",
       "      <td>NaN</td>\n",
       "      <td>NaN</td>\n",
       "      <td>NaN</td>\n",
       "      <td>NaN</td>\n",
       "    </tr>\n",
       "    <tr>\n",
       "      <th>4</th>\n",
       "      <td>5</td>\n",
       "      <td>obeso</td>\n",
       "      <td>soltero</td>\n",
       "      <td>NaN</td>\n",
       "      <td>NaN</td>\n",
       "      <td>NaN</td>\n",
       "      <td>NaN</td>\n",
       "      <td>NaN</td>\n",
       "    </tr>\n",
       "    <tr>\n",
       "      <th>...</th>\n",
       "      <td>...</td>\n",
       "      <td>...</td>\n",
       "      <td>...</td>\n",
       "      <td>...</td>\n",
       "      <td>...</td>\n",
       "      <td>...</td>\n",
       "      <td>...</td>\n",
       "      <td>...</td>\n",
       "    </tr>\n",
       "    <tr>\n",
       "      <th>1288</th>\n",
       "      <td>322</td>\n",
       "      <td>no obeso</td>\n",
       "      <td>en pareja</td>\n",
       "      <td>NaN</td>\n",
       "      <td>NaN</td>\n",
       "      <td>NaN</td>\n",
       "      <td>NaN</td>\n",
       "      <td>NaN</td>\n",
       "    </tr>\n",
       "    <tr>\n",
       "      <th>1289</th>\n",
       "      <td>323</td>\n",
       "      <td>no obeso</td>\n",
       "      <td>en pareja</td>\n",
       "      <td>NaN</td>\n",
       "      <td>NaN</td>\n",
       "      <td>NaN</td>\n",
       "      <td>NaN</td>\n",
       "      <td>NaN</td>\n",
       "    </tr>\n",
       "    <tr>\n",
       "      <th>1290</th>\n",
       "      <td>324</td>\n",
       "      <td>no obeso</td>\n",
       "      <td>en pareja</td>\n",
       "      <td>NaN</td>\n",
       "      <td>NaN</td>\n",
       "      <td>NaN</td>\n",
       "      <td>NaN</td>\n",
       "      <td>NaN</td>\n",
       "    </tr>\n",
       "    <tr>\n",
       "      <th>1291</th>\n",
       "      <td>325</td>\n",
       "      <td>no obeso</td>\n",
       "      <td>en pareja</td>\n",
       "      <td>NaN</td>\n",
       "      <td>NaN</td>\n",
       "      <td>NaN</td>\n",
       "      <td>NaN</td>\n",
       "      <td>NaN</td>\n",
       "    </tr>\n",
       "    <tr>\n",
       "      <th>1292</th>\n",
       "      <td>326</td>\n",
       "      <td>no obeso</td>\n",
       "      <td>en pareja</td>\n",
       "      <td>NaN</td>\n",
       "      <td>NaN</td>\n",
       "      <td>NaN</td>\n",
       "      <td>NaN</td>\n",
       "      <td>NaN</td>\n",
       "    </tr>\n",
       "  </tbody>\n",
       "</table>\n",
       "<p>1293 rows × 8 columns</p>\n",
       "</div>"
      ],
      "text/plain": [
       "      ord      peso   estcivil  Unnamed: 3  Unnamed: 4  Unnamed: 5  \\\n",
       "0       1     obeso    soltero         NaN         NaN         NaN   \n",
       "1       2     obeso    soltero         NaN         NaN         NaN   \n",
       "2       3     obeso    soltero         NaN         NaN         NaN   \n",
       "3       4     obeso    soltero         NaN         NaN         NaN   \n",
       "4       5     obeso    soltero         NaN         NaN         NaN   \n",
       "...   ...       ...        ...         ...         ...         ...   \n",
       "1288  322  no obeso  en pareja         NaN         NaN         NaN   \n",
       "1289  323  no obeso  en pareja         NaN         NaN         NaN   \n",
       "1290  324  no obeso  en pareja         NaN         NaN         NaN   \n",
       "1291  325  no obeso  en pareja         NaN         NaN         NaN   \n",
       "1292  326  no obeso  en pareja         NaN         NaN         NaN   \n",
       "\n",
       "      Unnamed: 6  Unnamed: 7  \n",
       "0            NaN         NaN  \n",
       "1            NaN         NaN  \n",
       "2            NaN         NaN  \n",
       "3            NaN         NaN  \n",
       "4            NaN         NaN  \n",
       "...          ...         ...  \n",
       "1288         NaN         NaN  \n",
       "1289         NaN         NaN  \n",
       "1290         NaN         NaN  \n",
       "1291         NaN         NaN  \n",
       "1292         NaN         NaN  \n",
       "\n",
       "[1293 rows x 8 columns]"
      ]
     },
     "execution_count": 2,
     "metadata": {},
     "output_type": "execute_result"
    }
   ],
   "source": [
    "df1 = pd.read_excel('./Practica3.xlsx')\n",
    "df1"
   ]
  },
  {
   "cell_type": "code",
   "execution_count": 3,
   "id": "be3b11f9",
   "metadata": {},
   "outputs": [
    {
     "data": {
      "text/plain": [
       "Index(['casado', 'en pareja', 'soltero'], dtype='object', name='estcivil')"
      ]
     },
     "execution_count": 3,
     "metadata": {},
     "output_type": "execute_result"
    }
   ],
   "source": [
    "table = pd.crosstab(df1['peso'], df1['estcivil'], margins = False) \n",
    "table.columns"
   ]
  },
  {
   "cell_type": "code",
   "execution_count": 4,
   "id": "695caf0c",
   "metadata": {},
   "outputs": [
    {
     "data": {
      "text/html": [
       "<div>\n",
       "<style scoped>\n",
       "    .dataframe tbody tr th:only-of-type {\n",
       "        vertical-align: middle;\n",
       "    }\n",
       "\n",
       "    .dataframe tbody tr th {\n",
       "        vertical-align: top;\n",
       "    }\n",
       "\n",
       "    .dataframe thead th {\n",
       "        text-align: right;\n",
       "    }\n",
       "</style>\n",
       "<table border=\"1\" class=\"dataframe\">\n",
       "  <thead>\n",
       "    <tr style=\"text-align: right;\">\n",
       "      <th>estcivil</th>\n",
       "      <th>casado</th>\n",
       "      <th>en pareja</th>\n",
       "      <th>soltero</th>\n",
       "    </tr>\n",
       "    <tr>\n",
       "      <th>peso</th>\n",
       "      <th></th>\n",
       "      <th></th>\n",
       "      <th></th>\n",
       "    </tr>\n",
       "  </thead>\n",
       "  <tbody>\n",
       "    <tr>\n",
       "      <th>no obeso</th>\n",
       "      <td>277</td>\n",
       "      <td>326</td>\n",
       "      <td>359</td>\n",
       "    </tr>\n",
       "    <tr>\n",
       "      <th>obeso</th>\n",
       "      <td>147</td>\n",
       "      <td>103</td>\n",
       "      <td>81</td>\n",
       "    </tr>\n",
       "  </tbody>\n",
       "</table>\n",
       "</div>"
      ],
      "text/plain": [
       "estcivil  casado  en pareja  soltero\n",
       "peso                                \n",
       "no obeso     277        326      359\n",
       "obeso        147        103       81"
      ]
     },
     "execution_count": 4,
     "metadata": {},
     "output_type": "execute_result"
    }
   ],
   "source": [
    "table"
   ]
  },
  {
   "cell_type": "code",
   "execution_count": 5,
   "id": "0797d9ba",
   "metadata": {
    "scrolled": false
   },
   "outputs": [
    {
     "name": "stdout",
     "output_type": "stream",
     "text": [
      "grados del libertad=2\n",
      "[[315.45862336 319.17865429 327.36272235]\n",
      " [108.54137664 109.82134571 112.63727765]]\n"
     ]
    }
   ],
   "source": [
    "stat, p, dof, expected = chi2_contingency(table)\n",
    "print('grados del libertad=%d' % dof)\n",
    "print(expected)"
   ]
  },
  {
   "cell_type": "code",
   "execution_count": 9,
   "id": "081798e8",
   "metadata": {},
   "outputs": [
    {
     "data": {
      "text/plain": [
       "5.991464547107979"
      ]
     },
     "execution_count": 9,
     "metadata": {},
     "output_type": "execute_result"
    }
   ],
   "source": [
    "critical = stats.chi2.ppf(1-alpha, dof)\n",
    "critical"
   ]
  },
  {
   "cell_type": "code",
   "execution_count": 14,
   "id": "f01e8880",
   "metadata": {},
   "outputs": [
    {
     "name": "stdout",
     "output_type": "stream",
     "text": [
      "probabilidad=0.950, valor critico=5.991, stat=30.829\n"
     ]
    },
    {
     "data": {
      "text/plain": [
       "2.0214501595642486e-07"
      ]
     },
     "execution_count": 14,
     "metadata": {},
     "output_type": "execute_result"
    }
   ],
   "source": [
    "print('probabilidad=%.3f, valor critico=%.3f, stat=%.3f' % (1-alpha, critical, stat))\n",
    "p"
   ]
  },
  {
   "cell_type": "code",
   "execution_count": 11,
   "id": "3b81dc39",
   "metadata": {},
   "outputs": [
    {
     "name": "stdout",
     "output_type": "stream",
     "text": [
      "significacion=0.050, p=0.000\n",
      "Existe Dependencia (Se rechaza H0)\n"
     ]
    }
   ],
   "source": [
    "print('significacion=%.3f, p=%.3f' % (alpha, p))\n",
    "if p <= alpha:\n",
    " print('Existe Dependencia (Se rechaza H0)')\n",
    "else:\n",
    " print('Independencia (Se acepta H0)')"
   ]
  },
  {
   "cell_type": "markdown",
   "id": "64430286",
   "metadata": {},
   "source": [
    "### ¿Qué hacer si se demuestra dependencia en este tipo de tests? - Test PostHoc (2x2)"
   ]
  },
  {
   "cell_type": "markdown",
   "id": "613277d6",
   "metadata": {},
   "source": [
    "El test rechaza la hipótesis nula, por lo que sabemos que el estado civil y el peso no son independientes. \n",
    "Al ser un test con variables que tienen más de dos niveles no sabemos si la relación se da entre todo os nivel es o solo en alguno. \n",
    "Se puede entonces hacer un **test PostHoc** con objetivo es localizar los niveles que en los que se presenta la dependencia.\n",
    "El número de combinaciones de niveles puede ser muy alto, por lo que es interesante ver los errores cometidos para identificar aquellos en los que hay mayores discrepancias entre el valor real y el esperado si las variables fueran independientes\n",
    "ed))"
   ]
  },
  {
   "cell_type": "code",
   "execution_count": 15,
   "id": "2ac2456c",
   "metadata": {},
   "outputs": [
    {
     "data": {
      "text/plain": [
       "array([[315.45862336, 319.17865429, 327.36272235],\n",
       "       [108.54137664, 109.82134571, 112.63727765]])"
      ]
     },
     "execution_count": 15,
     "metadata": {},
     "output_type": "execute_result"
    }
   ],
   "source": [
    "expected"
   ]
  },
  {
   "cell_type": "code",
   "execution_count": 47,
   "id": "225830d8",
   "metadata": {},
   "outputs": [
    {
     "data": {
      "text/html": [
       "<div>\n",
       "<style scoped>\n",
       "    .dataframe tbody tr th:only-of-type {\n",
       "        vertical-align: middle;\n",
       "    }\n",
       "\n",
       "    .dataframe tbody tr th {\n",
       "        vertical-align: top;\n",
       "    }\n",
       "\n",
       "    .dataframe thead th {\n",
       "        text-align: right;\n",
       "    }\n",
       "</style>\n",
       "<table border=\"1\" class=\"dataframe\">\n",
       "  <thead>\n",
       "    <tr style=\"text-align: right;\">\n",
       "      <th>estcivil</th>\n",
       "      <th>casado</th>\n",
       "      <th>en pareja</th>\n",
       "      <th>soltero</th>\n",
       "    </tr>\n",
       "    <tr>\n",
       "      <th>peso</th>\n",
       "      <th></th>\n",
       "      <th></th>\n",
       "      <th></th>\n",
       "    </tr>\n",
       "  </thead>\n",
       "  <tbody>\n",
       "    <tr>\n",
       "      <th>no obeso</th>\n",
       "      <td>False</td>\n",
       "      <td>True</td>\n",
       "      <td>True</td>\n",
       "    </tr>\n",
       "    <tr>\n",
       "      <th>obeso</th>\n",
       "      <td>False</td>\n",
       "      <td>True</td>\n",
       "      <td>False</td>\n",
       "    </tr>\n",
       "  </tbody>\n",
       "</table>\n",
       "</div>"
      ],
      "text/plain": [
       "estcivil  casado  en pareja  soltero\n",
       "peso                                \n",
       "no obeso   False       True     True\n",
       "obeso      False       True    False"
      ]
     },
     "execution_count": 47,
     "metadata": {},
     "output_type": "execute_result"
    }
   ],
   "source": [
    "residuos = (table-expected)/np.sqrt(expected)\n",
    "residuos\n",
    "abs(residuos)<1.96"
   ]
  },
  {
   "cell_type": "markdown",
   "id": "e2c8dac6",
   "metadata": {},
   "source": [
    "#### Casado vs soltero"
   ]
  },
  {
   "cell_type": "code",
   "execution_count": 27,
   "id": "51189e72",
   "metadata": {},
   "outputs": [
    {
     "data": {
      "text/html": [
       "<div>\n",
       "<style scoped>\n",
       "    .dataframe tbody tr th:only-of-type {\n",
       "        vertical-align: middle;\n",
       "    }\n",
       "\n",
       "    .dataframe tbody tr th {\n",
       "        vertical-align: top;\n",
       "    }\n",
       "\n",
       "    .dataframe thead th {\n",
       "        text-align: right;\n",
       "    }\n",
       "</style>\n",
       "<table border=\"1\" class=\"dataframe\">\n",
       "  <thead>\n",
       "    <tr style=\"text-align: right;\">\n",
       "      <th>estcivil</th>\n",
       "      <th>casado</th>\n",
       "      <th>soltero</th>\n",
       "    </tr>\n",
       "    <tr>\n",
       "      <th>peso</th>\n",
       "      <th></th>\n",
       "      <th></th>\n",
       "    </tr>\n",
       "  </thead>\n",
       "  <tbody>\n",
       "    <tr>\n",
       "      <th>no obeso</th>\n",
       "      <td>277</td>\n",
       "      <td>359</td>\n",
       "    </tr>\n",
       "    <tr>\n",
       "      <th>obeso</th>\n",
       "      <td>147</td>\n",
       "      <td>81</td>\n",
       "    </tr>\n",
       "  </tbody>\n",
       "</table>\n",
       "</div>"
      ],
      "text/plain": [
       "estcivil  casado  soltero\n",
       "peso                     \n",
       "no obeso     277      359\n",
       "obeso        147       81"
      ]
     },
     "execution_count": 27,
     "metadata": {},
     "output_type": "execute_result"
    }
   ],
   "source": [
    "df1 = table.drop('en pareja',axis=1)\n",
    "df1"
   ]
  },
  {
   "cell_type": "code",
   "execution_count": 32,
   "id": "d9c833c9",
   "metadata": {},
   "outputs": [
    {
     "name": "stdout",
     "output_type": "stream",
     "text": [
      "[[312.11111111 323.88888889]\n",
      " [111.88888889 116.11111111]]\n"
     ]
    }
   ],
   "source": [
    "stat2,p2,dof2,expected2 = stats.chi2_contingency(df1)\n",
    "print(expected2)"
   ]
  },
  {
   "cell_type": "code",
   "execution_count": 33,
   "id": "6f870f31",
   "metadata": {},
   "outputs": [
    {
     "data": {
      "text/plain": [
       "9.082832633465167e-08"
      ]
     },
     "execution_count": 33,
     "metadata": {},
     "output_type": "execute_result"
    }
   ],
   "source": [
    "p2"
   ]
  },
  {
   "cell_type": "code",
   "execution_count": 34,
   "id": "8e1c82e4",
   "metadata": {},
   "outputs": [
    {
     "name": "stdout",
     "output_type": "stream",
     "text": [
      "significacion=0.050, p=0.000\n",
      "Existe Dependencia en el test PostHoc  (Se rechaza H0)\n"
     ]
    }
   ],
   "source": [
    "print('significacion=%.3f, p=%.3f' % (alpha, p2))\n",
    "if p2 <= alpha:\n",
    " print('Existe Dependencia en el test PostHoc  (Se rechaza H0)')\n",
    "else:\n",
    " print('Independencia en el test PostHoc  (Se acepta H0)')"
   ]
  },
  {
   "cell_type": "code",
   "execution_count": 49,
   "id": "f07d9de1",
   "metadata": {},
   "outputs": [
    {
     "data": {
      "text/html": [
       "<div>\n",
       "<style scoped>\n",
       "    .dataframe tbody tr th:only-of-type {\n",
       "        vertical-align: middle;\n",
       "    }\n",
       "\n",
       "    .dataframe tbody tr th {\n",
       "        vertical-align: top;\n",
       "    }\n",
       "\n",
       "    .dataframe thead th {\n",
       "        text-align: right;\n",
       "    }\n",
       "</style>\n",
       "<table border=\"1\" class=\"dataframe\">\n",
       "  <thead>\n",
       "    <tr style=\"text-align: right;\">\n",
       "      <th>estcivil</th>\n",
       "      <th>casado</th>\n",
       "      <th>soltero</th>\n",
       "    </tr>\n",
       "    <tr>\n",
       "      <th>peso</th>\n",
       "      <th></th>\n",
       "      <th></th>\n",
       "    </tr>\n",
       "  </thead>\n",
       "  <tbody>\n",
       "    <tr>\n",
       "      <th>no obeso</th>\n",
       "      <td>False</td>\n",
       "      <td>True</td>\n",
       "    </tr>\n",
       "    <tr>\n",
       "      <th>obeso</th>\n",
       "      <td>False</td>\n",
       "      <td>False</td>\n",
       "    </tr>\n",
       "  </tbody>\n",
       "</table>\n",
       "</div>"
      ],
      "text/plain": [
       "estcivil  casado  soltero\n",
       "peso                     \n",
       "no obeso   False     True\n",
       "obeso      False    False"
      ]
     },
     "execution_count": 49,
     "metadata": {},
     "output_type": "execute_result"
    }
   ],
   "source": [
    "residuos = (df1-expected2)/np.sqrt(expected2)\n",
    "abs(residuos)<1.96"
   ]
  },
  {
   "cell_type": "markdown",
   "id": "9327759a",
   "metadata": {},
   "source": [
    "#### Casado vs en pareja"
   ]
  },
  {
   "cell_type": "code",
   "execution_count": 28,
   "id": "07b3e868",
   "metadata": {},
   "outputs": [
    {
     "data": {
      "text/html": [
       "<div>\n",
       "<style scoped>\n",
       "    .dataframe tbody tr th:only-of-type {\n",
       "        vertical-align: middle;\n",
       "    }\n",
       "\n",
       "    .dataframe tbody tr th {\n",
       "        vertical-align: top;\n",
       "    }\n",
       "\n",
       "    .dataframe thead th {\n",
       "        text-align: right;\n",
       "    }\n",
       "</style>\n",
       "<table border=\"1\" class=\"dataframe\">\n",
       "  <thead>\n",
       "    <tr style=\"text-align: right;\">\n",
       "      <th>estcivil</th>\n",
       "      <th>casado</th>\n",
       "      <th>en pareja</th>\n",
       "    </tr>\n",
       "    <tr>\n",
       "      <th>peso</th>\n",
       "      <th></th>\n",
       "      <th></th>\n",
       "    </tr>\n",
       "  </thead>\n",
       "  <tbody>\n",
       "    <tr>\n",
       "      <th>no obeso</th>\n",
       "      <td>277</td>\n",
       "      <td>326</td>\n",
       "    </tr>\n",
       "    <tr>\n",
       "      <th>obeso</th>\n",
       "      <td>147</td>\n",
       "      <td>103</td>\n",
       "    </tr>\n",
       "  </tbody>\n",
       "</table>\n",
       "</div>"
      ],
      "text/plain": [
       "estcivil  casado  en pareja\n",
       "peso                       \n",
       "no obeso     277        326\n",
       "obeso        147        103"
      ]
     },
     "execution_count": 28,
     "metadata": {},
     "output_type": "execute_result"
    }
   ],
   "source": [
    "df2 = table.drop('soltero',axis=1)\n",
    "df2"
   ]
  },
  {
   "cell_type": "code",
   "execution_count": 29,
   "id": "7b0b448f",
   "metadata": {},
   "outputs": [
    {
     "name": "stdout",
     "output_type": "stream",
     "text": [
      "[[299.73270809 303.26729191]\n",
      " [124.26729191 125.73270809]]\n"
     ]
    }
   ],
   "source": [
    "stat3,p3,dof3,expected3 = stats.chi2_contingency(df2)\n",
    "print(expected3)"
   ]
  },
  {
   "cell_type": "code",
   "execution_count": 43,
   "id": "d5e43432",
   "metadata": {
    "scrolled": true
   },
   "outputs": [
    {
     "name": "stdout",
     "output_type": "stream",
     "text": [
      "significacion=0.050, p=0.001\n",
      "Existe Dependencia en el test PostHoc  (Se rechaza H0)\n"
     ]
    }
   ],
   "source": [
    "print('significacion=%.3f, p=%.3f' % (alpha, p3))\n",
    "if p3 <= alpha:\n",
    " print('Existe Dependencia en el test PostHoc  (Se rechaza H0)')\n",
    "else:\n",
    " print('Independencia en el test PostHoc  (Se acepta H0)')"
   ]
  },
  {
   "cell_type": "code",
   "execution_count": 48,
   "id": "14994c8f",
   "metadata": {},
   "outputs": [
    {
     "data": {
      "text/html": [
       "<div>\n",
       "<style scoped>\n",
       "    .dataframe tbody tr th:only-of-type {\n",
       "        vertical-align: middle;\n",
       "    }\n",
       "\n",
       "    .dataframe tbody tr th {\n",
       "        vertical-align: top;\n",
       "    }\n",
       "\n",
       "    .dataframe thead th {\n",
       "        text-align: right;\n",
       "    }\n",
       "</style>\n",
       "<table border=\"1\" class=\"dataframe\">\n",
       "  <thead>\n",
       "    <tr style=\"text-align: right;\">\n",
       "      <th>estcivil</th>\n",
       "      <th>casado</th>\n",
       "      <th>en pareja</th>\n",
       "    </tr>\n",
       "    <tr>\n",
       "      <th>peso</th>\n",
       "      <th></th>\n",
       "      <th></th>\n",
       "    </tr>\n",
       "  </thead>\n",
       "  <tbody>\n",
       "    <tr>\n",
       "      <th>no obeso</th>\n",
       "      <td>True</td>\n",
       "      <td>True</td>\n",
       "    </tr>\n",
       "    <tr>\n",
       "      <th>obeso</th>\n",
       "      <td>False</td>\n",
       "      <td>False</td>\n",
       "    </tr>\n",
       "  </tbody>\n",
       "</table>\n",
       "</div>"
      ],
      "text/plain": [
       "estcivil  casado  en pareja\n",
       "peso                       \n",
       "no obeso    True       True\n",
       "obeso      False      False"
      ]
     },
     "execution_count": 48,
     "metadata": {},
     "output_type": "execute_result"
    }
   ],
   "source": [
    "residuos = (df2-expected3)/np.sqrt(expected3)\n",
    "abs(residuos)<1.96"
   ]
  },
  {
   "cell_type": "markdown",
   "id": "d16d6120",
   "metadata": {},
   "source": [
    "#### Soltero vs en pareja"
   ]
  },
  {
   "cell_type": "code",
   "execution_count": 36,
   "id": "905a9cbb",
   "metadata": {},
   "outputs": [
    {
     "data": {
      "text/html": [
       "<div>\n",
       "<style scoped>\n",
       "    .dataframe tbody tr th:only-of-type {\n",
       "        vertical-align: middle;\n",
       "    }\n",
       "\n",
       "    .dataframe tbody tr th {\n",
       "        vertical-align: top;\n",
       "    }\n",
       "\n",
       "    .dataframe thead th {\n",
       "        text-align: right;\n",
       "    }\n",
       "</style>\n",
       "<table border=\"1\" class=\"dataframe\">\n",
       "  <thead>\n",
       "    <tr style=\"text-align: right;\">\n",
       "      <th>estcivil</th>\n",
       "      <th>en pareja</th>\n",
       "      <th>soltero</th>\n",
       "    </tr>\n",
       "    <tr>\n",
       "      <th>peso</th>\n",
       "      <th></th>\n",
       "      <th></th>\n",
       "    </tr>\n",
       "  </thead>\n",
       "  <tbody>\n",
       "    <tr>\n",
       "      <th>no obeso</th>\n",
       "      <td>326</td>\n",
       "      <td>359</td>\n",
       "    </tr>\n",
       "    <tr>\n",
       "      <th>obeso</th>\n",
       "      <td>103</td>\n",
       "      <td>81</td>\n",
       "    </tr>\n",
       "  </tbody>\n",
       "</table>\n",
       "</div>"
      ],
      "text/plain": [
       "estcivil  en pareja  soltero\n",
       "peso                        \n",
       "no obeso        326      359\n",
       "obeso           103       81"
      ]
     },
     "execution_count": 36,
     "metadata": {},
     "output_type": "execute_result"
    }
   ],
   "source": [
    "df3 = table.drop('casado',axis=1)\n",
    "df3"
   ]
  },
  {
   "cell_type": "code",
   "execution_count": 40,
   "id": "a7c392ca",
   "metadata": {},
   "outputs": [
    {
     "name": "stdout",
     "output_type": "stream",
     "text": [
      "[[338.16455696 346.83544304]\n",
      " [ 90.83544304  93.16455696]]\n"
     ]
    }
   ],
   "source": [
    "stat4,p4,dof4,expected4 = stats.chi2_contingency(df3)\n",
    "print(expected4)"
   ]
  },
  {
   "cell_type": "code",
   "execution_count": 41,
   "id": "36ae9681",
   "metadata": {},
   "outputs": [
    {
     "data": {
      "text/plain": [
       "0.05271312229967728"
      ]
     },
     "execution_count": 41,
     "metadata": {},
     "output_type": "execute_result"
    }
   ],
   "source": [
    "p4"
   ]
  },
  {
   "cell_type": "code",
   "execution_count": 44,
   "id": "3c9e4654",
   "metadata": {},
   "outputs": [
    {
     "name": "stdout",
     "output_type": "stream",
     "text": [
      "significacion=0.050, p=0.053\n",
      "Independencia en el test PostHoc  (Se acepta H0)\n"
     ]
    }
   ],
   "source": [
    "print('significacion=%.3f, p=%.3f' % (alpha, p4))\n",
    "if p4 <= alpha:\n",
    " print('Existe Dependencia en el test PostHoc  (Se rechaza H0)')\n",
    "else:\n",
    " print('Independencia en el test PostHoc  (Se acepta H0)')"
   ]
  },
  {
   "cell_type": "code",
   "execution_count": 46,
   "id": "a9d43772",
   "metadata": {},
   "outputs": [
    {
     "data": {
      "text/html": [
       "<div>\n",
       "<style scoped>\n",
       "    .dataframe tbody tr th:only-of-type {\n",
       "        vertical-align: middle;\n",
       "    }\n",
       "\n",
       "    .dataframe tbody tr th {\n",
       "        vertical-align: top;\n",
       "    }\n",
       "\n",
       "    .dataframe thead th {\n",
       "        text-align: right;\n",
       "    }\n",
       "</style>\n",
       "<table border=\"1\" class=\"dataframe\">\n",
       "  <thead>\n",
       "    <tr style=\"text-align: right;\">\n",
       "      <th>estcivil</th>\n",
       "      <th>en pareja</th>\n",
       "      <th>soltero</th>\n",
       "    </tr>\n",
       "    <tr>\n",
       "      <th>peso</th>\n",
       "      <th></th>\n",
       "      <th></th>\n",
       "    </tr>\n",
       "  </thead>\n",
       "  <tbody>\n",
       "    <tr>\n",
       "      <th>no obeso</th>\n",
       "      <td>True</td>\n",
       "      <td>True</td>\n",
       "    </tr>\n",
       "    <tr>\n",
       "      <th>obeso</th>\n",
       "      <td>True</td>\n",
       "      <td>True</td>\n",
       "    </tr>\n",
       "  </tbody>\n",
       "</table>\n",
       "</div>"
      ],
      "text/plain": [
       "estcivil  en pareja  soltero\n",
       "peso                        \n",
       "no obeso       True     True\n",
       "obeso          True     True"
      ]
     },
     "execution_count": 46,
     "metadata": {},
     "output_type": "execute_result"
    }
   ],
   "source": [
    "residuos = (df3-expected4)/np.sqrt(expected4)\n",
    "abs(residuos)<1.96"
   ]
  },
  {
   "cell_type": "markdown",
   "id": "6eb96772",
   "metadata": {},
   "source": [
    "Las dependencia con ser obeso o no se da entre los casado o soltero. Existen menos obesos entre los solteros (81 frente a los 116 esperados) y sin embargo hay más obesos entre los casados (147 frente a los 112 esperados)"
   ]
  }
 ],
 "metadata": {
  "kernelspec": {
   "display_name": "Python 3 (ipykernel)",
   "language": "python",
   "name": "python3"
  },
  "language_info": {
   "codemirror_mode": {
    "name": "ipython",
    "version": 3
   },
   "file_extension": ".py",
   "mimetype": "text/x-python",
   "name": "python",
   "nbconvert_exporter": "python",
   "pygments_lexer": "ipython3",
   "version": "3.8.5"
  }
 },
 "nbformat": 4,
 "nbformat_minor": 5
}
