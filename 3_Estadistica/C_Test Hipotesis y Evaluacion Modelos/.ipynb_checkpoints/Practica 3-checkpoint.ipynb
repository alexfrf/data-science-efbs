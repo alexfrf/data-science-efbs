{
 "cells": [
  {
   "cell_type": "markdown",
   "metadata": {},
   "source": [
    "# PRÁCTICA 3\n"
   ]
  },
  {
   "cell_type": "code",
   "execution_count": 14,
   "metadata": {},
   "outputs": [],
   "source": [
    "#Importar paquetes\n",
    "import numpy as np # importando numpy\n",
    "from scipy import stats # importando scipy.stats\n",
    "from scipy.stats import chi2_contingency # importando chi2.contingency\n",
    "from scipy.stats import chi2 # importando \n",
    "from scipy.stats import .contingency\n",
    "from scipy.stats.contingency import expected_freq # importando \n",
    "import pandas as pd # importando pandas"
   ]
  },
  {
   "cell_type": "markdown",
   "metadata": {
    "code_folding": []
   },
   "source": [
    "## Contraste de Hipótesis\n",
    "**Planteamiento**\n",
    "Un estudio intenta comparar si existe relación entre el estatus civil de las personas y la incidencia de la obesidad. Se tiene una muestra aleatoria de personas\n",
    "\n",
    "Deseamos hacer un Contraste de Hipótesis de **independencia** respecto a variables cualitativas. Será un test del tipo χ2  (Chi2). \n"
   ]
  },
  {
   "attachments": {
    "image.png": {
     "image/png": "[encoded data removed]"
    }
   },
   "cell_type": "markdown",
   "metadata": {},
   "source": [
    "Si las características fueran independientes el estadístico **chi2** seguiría una distribución χ2 con **(r - 1)(c - 1) grados de libertad** siemdo **r** y **c** el número de niveles de cada variable. \n",
    "\n",
    "![image.png](attachment:image.png)"
   ]
  },
  {
   "cell_type": "code",
   "execution_count": 30,
   "metadata": {},
   "outputs": [
    {
     "name": "stdout",
     "output_type": "stream",
     "text": [
      "estcivil  casado  en pareja  soltero\n",
      "peso                                \n",
      "no obeso     277        326      359\n",
      "obeso        147        103       81\n"
     ]
    }
   ],
   "source": [
    "# Leer los datos Practica3.xlsx\n",
    "df1 = pd.read_excel('./Practica3.xlsx')\n",
    "df1.head(2)\n",
    "\n",
    "# Construir la tabla de contingencia table\n",
    "table = pd.crosstab(df1['peso'], df1['estcivil'], margins = False) \n",
    "print(table)"
   ]
  },
  {
   "cell_type": "code",
   "execution_count": 45,
   "metadata": {
    "scrolled": false
   },
   "outputs": [
    {
     "name": "stdout",
     "output_type": "stream",
     "text": [
      "grados del libertad=2\n",
      "[[315.45862336 319.17865429 327.36272235]\n",
      " [108.54137664 109.82134571 112.63727765]]\n",
      "probabilidad=0.950, valor critico=5.991, stat=30.829\n",
      "Existe Dependencia (Se rechaza H0)\n",
      "significacion=0.050, p=0.000\n",
      "Existe Dependencia (Se rechaza H0)\n",
      "estcivil  casado  en pareja  soltero\n",
      "peso                                \n",
      "no obeso     277        326      359\n",
      "obeso        147        103       81\n",
      "estcivil    casado  en pareja   soltero\n",
      "peso                                   \n",
      "no obeso -2.165322   0.381815  1.748576\n",
      "obeso     3.691442  -0.650919 -2.980973\n"
     ]
    }
   ],
   "source": [
    "stat, p, dof, expected = chi2_contingency(table)\n",
    "print('grados del libertad=%d' % dof)\n",
    "print(expected)\n",
    "\n",
    "alpha = 0.05\n",
    "prob=1.0 - alpha\n",
    "\n",
    "# Interpretar el resultado del test chi2 (test de una cola)\n",
    "critical = chi2.ppf(prob, dof)\n",
    "print('probabilidad=%.3f, valor critico=%.3f, stat=%.3f' % (prob, critical, stat))\n",
    "if abs(stat) >= critical:\n",
    " print('Existe Dependencia (Se rechaza H0)')\n",
    "else:\n",
    " print('Independencia (Se acepta H0)')\n",
    "\n",
    "# Interpretar el resultado del p-valor\n",
    "print('significacion=%.3f, p=%.3f' % (alpha, p))\n",
    "if p <= alpha:\n",
    " print('Existe Dependencia (Se rechaza H0)')\n",
    "else:\n",
    " print('Independencia (Se acepta H0)')"
   ]
  },
  {
   "cell_type": "markdown",
   "metadata": {},
   "source": [
    "El test rechaza la hipótesis nula, por lo que sabemos que el estado civil y el peso no son independientes. \n",
    "Al ser un test con variables que tienen más de dos niveles no sabemos si la relación se da entre todo os nivel es o solo en alguno. \n",
    "Se puede entonces hacer un **test PostHoc** con objetivo es localizar los niveles que en los que se presenta la dependencia.\n",
    "El número de combinaciones de niveles puede ser muy alto, por lo que es interesante ver los errores cometidos para identificar aquellos en los que hay mayores discrepancias entre el valor real y el esperado si las variables fueran independientes\n",
    "ed))"
   ]
  },
  {
   "cell_type": "code",
   "execution_count": 48,
   "metadata": {
    "scrolled": true
   },
   "outputs": [
    {
     "name": "stdout",
     "output_type": "stream",
     "text": [
      "estcivil    casado  en pareja   soltero\n",
      "peso                                   \n",
      "no obeso -2.165322   0.381815  1.748576\n",
      "obeso     3.691442  -0.650919 -2.980973\n"
     ]
    }
   ],
   "source": [
    "errores=(table - expected)/np.sqrt(expected)\n",
    "print (errores)                                            "
   ]
  },
  {
   "cell_type": "code",
   "execution_count": 50,
   "metadata": {},
   "outputs": [
    {
     "name": "stdout",
     "output_type": "stream",
     "text": [
      "estcivil  soltero  casado\n",
      "peso                     \n",
      "no obeso      359     277\n",
      "obeso          81     147\n"
     ]
    }
   ],
   "source": [
    "table_posthoc= table[['soltero', 'casado']]\n",
    "print (table_posthoc)"
   ]
  },
  {
   "cell_type": "code",
   "execution_count": 49,
   "metadata": {},
   "outputs": [
    {
     "name": "stdout",
     "output_type": "stream",
     "text": [
      "[[323.88888889 312.11111111]\n",
      " [116.11111111 111.88888889]]\n",
      "probabilidad=0.950, valor critico=5.991, stat=30.829\n",
      "Existe Dependencia en el test PostHoc(Se rechaza H0)\n",
      "significacion=0.050, p=0.000\n",
      "Existe Dependencia en el test PostHoc  (Se rechaza H0)\n"
     ]
    }
   ],
   "source": [
    "stat2, p2, dof2, expected2 = chi2_contingency(table_posthoc)\n",
    "print (expected2)\n",
    "\n",
    "# Interpretar el resultado del test chi2 (test de una cola)\n",
    "critical2 = chi2.ppf(prob, dof2)\n",
    "print('probabilidad=%.3f, valor critico=%.3f, stat=%.3f' % (prob, critical, stat))\n",
    "if abs(stat2) >= critical2:\n",
    " print('Existe Dependencia en el test PostHoc(Se rechaza H0)')\n",
    "else:\n",
    " print('Independencia en el test PostHoc (Se acepta H0)')\n",
    "\n",
    "# Interpretar el resultado del p-valor\n",
    "print('significacion=%.3f, p=%.3f' % (alpha, p2))\n",
    "if p2 <= alpha:\n",
    " print('Existe Dependencia en el test PostHoc  (Se rechaza H0)')\n",
    "else:\n",
    " print('Independencia en el test PostHoc  (Se acepta H0)')"
   ]
  },
  {
   "cell_type": "markdown",
   "metadata": {},
   "source": [
    "Las dependencia con ser obeso o no se da entre los casado o soltero. Existen menos obesos entre los solteros (81 frente a los 116 esperados) y sin embargo hay más obesos entre los casados (147 frente a los 112 esperados)\n",
    "\n",
    "Si no hubiésemos estudiado la tabla de errores relativos y hubiéramos hecho todas las posibles combinaiones de tes veríamos que en algunos casos el resultado no puede probar la dependencia entre las variables.\n",
    "\n",
    "Probemos ahora a hacer el test con el par de niveles \"soltero\" y \"en pareja\""
   ]
  }
 ],
 "metadata": {
  "celltoolbar": "Attachments",
  "kernelspec": {
   "display_name": "Python 3 (ipykernel)",
   "language": "python",
   "name": "python3"
  },
  "language_info": {
   "codemirror_mode": {
    "name": "ipython",
    "version": 3
   },
   "file_extension": ".py",
   "mimetype": "text/x-python",
   "name": "python",
   "nbconvert_exporter": "python",
   "pygments_lexer": "ipython3",
   "version": "3.8.5"
  }
 },
 "nbformat": 4,
 "nbformat_minor": 4
}
