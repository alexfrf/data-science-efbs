{
 "cells": [
  {
   "cell_type": "markdown",
   "id": "4e0c4be2",
   "metadata": {},
   "source": [
    "## Práctica Test Hipótesis"
   ]
  },
  {
   "cell_type": "markdown",
   "id": "4b1481aa",
   "metadata": {},
   "source": [
    "La directora del departamento de personal de una corporación\n",
    "está buscando empleados para un puesto en el extranjero.\n",
    "Durante el proceso de selección, la administración le pregunta\n",
    "cómo va la incorporación de empleados, y ella contesta que la\n",
    "puntuación promedio en la prueba de aptitudes será de 90\n",
    "puntos. Cuando la administración revisa 19 de los resultados de\n",
    "la prueba, encuentra que la puntuación media es de 83,25\n",
    "puntos con una desviación estándar de 11. Bajo el supuesto de\n",
    "normalidad, ¿lleva razón la directora,con un nivel de confianza\n",
    "del 90%?\n"
   ]
  },
  {
   "cell_type": "markdown",
   "id": "a917c87a",
   "metadata": {},
   "source": [
    " **Hipótesis:**\n",
    " \n",
    " H0: μ1 = 90\n",
    " \n",
    " H1: μ1 ≠ 90 (μ1 < 90 o μ1 > 90)\n"
   ]
  },
  {
   "cell_type": "code",
   "execution_count": 1,
   "id": "54b2190a",
   "metadata": {},
   "outputs": [],
   "source": [
    "import numpy as np\n",
    "from scipy import stats\n",
    "import pandas as pd"
   ]
  },
  {
   "cell_type": "code",
   "execution_count": null,
   "id": "a346eccc",
   "metadata": {},
   "outputs": [],
   "source": []
  },
  {
   "cell_type": "code",
   "execution_count": 2,
   "id": "28bc7b08",
   "metadata": {},
   "outputs": [
    {
     "data": {
      "text/plain": [
       "-2.674778897172686"
      ]
     },
     "execution_count": 2,
     "metadata": {},
     "output_type": "execute_result"
    }
   ],
   "source": [
    "t=(83.25-90)/(11*np.sqrt(1/19))\n",
    "t"
   ]
  },
  {
   "cell_type": "code",
   "execution_count": 3,
   "id": "44a59132",
   "metadata": {},
   "outputs": [
    {
     "ename": "NameError",
     "evalue": "name 'x' is not defined",
     "output_type": "error",
     "traceback": [
      "\u001b[1;31m---------------------------------------------------------------------------\u001b[0m",
      "\u001b[1;31mNameError\u001b[0m                                 Traceback (most recent call last)",
      "\u001b[1;32m~\\AppData\\Local\\Temp/ipykernel_15648/3599651781.py\u001b[0m in \u001b[0;36m<module>\u001b[1;34m\u001b[0m\n\u001b[1;32m----> 1\u001b[1;33m \u001b[0mpvalor\u001b[0m \u001b[1;33m=\u001b[0m \u001b[1;36m2\u001b[0m\u001b[1;33m*\u001b[0m\u001b[1;33m(\u001b[0m \u001b[1;36m1\u001b[0m\u001b[1;33m-\u001b[0m\u001b[0mstats\u001b[0m\u001b[1;33m.\u001b[0m\u001b[0mt\u001b[0m\u001b[1;33m.\u001b[0m\u001b[0mcdf\u001b[0m\u001b[1;33m(\u001b[0m\u001b[0mabs\u001b[0m\u001b[1;33m(\u001b[0m\u001b[0mt\u001b[0m\u001b[1;33m)\u001b[0m\u001b[1;33m,\u001b[0m\u001b[0mdf\u001b[0m\u001b[1;33m=\u001b[0m\u001b[0mx\u001b[0m\u001b[1;33m)\u001b[0m\u001b[1;33m)\u001b[0m\u001b[1;33m\u001b[0m\u001b[1;33m\u001b[0m\u001b[0m\n\u001b[0m",
      "\u001b[1;31mNameError\u001b[0m: name 'x' is not defined"
     ]
    }
   ],
   "source": [
    "pvalor = 2*( 1-stats.t.cdf(abs(t),df=x))"
   ]
  }
 ],
 "metadata": {
  "kernelspec": {
   "display_name": "Python 3 (ipykernel)",
   "language": "python",
   "name": "python3"
  },
  "language_info": {
   "codemirror_mode": {
    "name": "ipython",
    "version": 3
   },
   "file_extension": ".py",
   "mimetype": "text/x-python",
   "name": "python",
   "nbconvert_exporter": "python",
   "pygments_lexer": "ipython3",
   "version": "3.8.5"
  }
 },
 "nbformat": 4,
 "nbformat_minor": 5
}
