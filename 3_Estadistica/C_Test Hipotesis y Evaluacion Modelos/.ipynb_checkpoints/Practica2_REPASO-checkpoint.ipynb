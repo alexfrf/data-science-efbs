{
 "cells": [
  {
   "cell_type": "markdown",
   "id": "131fda90",
   "metadata": {},
   "source": [
    "## Contraste de Hipótesis\n",
    "**Planteamiento**\n",
    "Un grupo de autónomos han hecho un curso para mejorar el porcentaje de beneficios de sus negocios. Tenemos los datos de beneficios antes del curso y 6 meses después.\n",
    "\n",
    "Deseamos hacer un Contraste de Hipótesis de **igualdad de medias** de muestras apareadas\n",
    "![image.png](attachment:image.png)"
   ]
  },
  {
   "cell_type": "markdown",
   "id": "0134288e",
   "metadata": {},
   "source": [
    "**CONTRASTE 1**\n",
    "\n",
    "  - H0: ma = md\n",
    "  - H1: ma != md"
   ]
  },
  {
   "cell_type": "code",
   "execution_count": 1,
   "id": "fca10f42",
   "metadata": {},
   "outputs": [],
   "source": [
    "import numpy as np # importando numpy\n",
    "from scipy import stats # importando scipy.stats\n",
    "import pandas as pd # importando pandas\n",
    "import seaborn as sns # importando seaborn"
   ]
  },
  {
   "cell_type": "code",
   "execution_count": 19,
   "id": "9612887a",
   "metadata": {},
   "outputs": [
    {
     "name": "stdout",
     "output_type": "stream",
     "text": [
      "Muestra: 30\n"
     ]
    }
   ],
   "source": [
    "df1 = pd.read_excel('./Practica2.xlsx')\n",
    "df1.head(2)\n",
    "\n",
    "df1 = df1[['antes','despues']]\n",
    "\n",
    "gl = df1.shape[0]\n",
    "\n",
    "x=df1['antes'] # Leer X\n",
    "y=df1['despues'] # Leer Ya\n",
    "alpha = 0.05\n",
    "print('Muestra: {}'.format(df1.shape[0]))"
   ]
  },
  {
   "cell_type": "markdown",
   "id": "23797af1",
   "metadata": {},
   "source": [
    "**Dos opciones para resolverlo con scipy**"
   ]
  },
  {
   "cell_type": "markdown",
   "id": "491f8e3e",
   "metadata": {},
   "source": [
    "**1 - Cálculo directo del pvalor (1 muestra)**\n",
    "\n",
    "Se toma como base los valores muestrales de las diferencias entre el antes y el después, y se contrasta con su valor hipotético, que es 0.  Así, pasamos a este test de hipótesis:\n",
    "\n",
    "  - H0: m(a-d) = 0\n",
    "  - H1: m(a-d) != 0"
   ]
  },
  {
   "cell_type": "code",
   "execution_count": 9,
   "id": "4c23d7e6",
   "metadata": {},
   "outputs": [
    {
     "data": {
      "text/plain": [
       "0   -1.08\n",
       "1   -5.97\n",
       "2    3.76\n",
       "3    0.28\n",
       "4    2.73\n",
       "dtype: float64"
      ]
     },
     "execution_count": 9,
     "metadata": {},
     "output_type": "execute_result"
    }
   ],
   "source": [
    "dif = df1.antes - df1.despues\n",
    "dif.head()"
   ]
  },
  {
   "cell_type": "code",
   "execution_count": 11,
   "id": "8b99218a",
   "metadata": {},
   "outputs": [
    {
     "name": "stdout",
     "output_type": "stream",
     "text": [
      "-1.4129999999999998 3.230822623974614\n"
     ]
    }
   ],
   "source": [
    "print(dif.mean(),dif.std())"
   ]
  },
  {
   "cell_type": "code",
   "execution_count": 14,
   "id": "a640adb5",
   "metadata": {},
   "outputs": [
    {
     "name": "stdout",
     "output_type": "stream",
     "text": [
      "t = -2.395464139726418\n",
      "p = 0.023277252837698714\n"
     ]
    }
   ],
   "source": [
    "t, p = stats.ttest_1samp(dif,0)\n",
    "print('t = {}'.format(t))\n",
    "print('p = {}'.format(p))"
   ]
  },
  {
   "cell_type": "code",
   "execution_count": 20,
   "id": "96e57fac",
   "metadata": {},
   "outputs": [
    {
     "name": "stdout",
     "output_type": "stream",
     "text": [
      "Se rechaza H0, con pvalor=0.023 y alpha=0.05\n"
     ]
    }
   ],
   "source": [
    "if p <= alpha:\n",
    "    print('Se rechaza H0, con pvalor={} y alpha={}'.format(round(p,3),alpha))\n",
    "else:\n",
    "    print('No se puede rechazar H0, con pvalor={} y alpha={}'.format(round(p,3),alpha))"
   ]
  },
  {
   "cell_type": "markdown",
   "id": "19251a17",
   "metadata": {},
   "source": [
    "**2 - Cálculo del pvalor a partir del estadístico t**\n",
    "\n",
    "t = avg / (std /np.sqrt(n))"
   ]
  },
  {
   "cell_type": "code",
   "execution_count": 22,
   "id": "7d43d215",
   "metadata": {
    "scrolled": true
   },
   "outputs": [
    {
     "data": {
      "text/plain": [
       "-2.3954641397264176"
      ]
     },
     "execution_count": 22,
     "metadata": {},
     "output_type": "execute_result"
    }
   ],
   "source": [
    "t = dif.mean() / (dif.std()/np.sqrt(dif.shape[0]))\n",
    "t"
   ]
  },
  {
   "cell_type": "code",
   "execution_count": 23,
   "id": "d0c3cbec",
   "metadata": {
    "scrolled": true
   },
   "outputs": [
    {
     "data": {
      "text/plain": [
       "0.02327725283769877"
      ]
     },
     "execution_count": 23,
     "metadata": {},
     "output_type": "execute_result"
    }
   ],
   "source": [
    "p = 2 * (1-stats.t.cdf(abs(t),df=dif.shape[0]-1))\n",
    "p"
   ]
  },
  {
   "cell_type": "code",
   "execution_count": 24,
   "id": "818dc114",
   "metadata": {},
   "outputs": [
    {
     "name": "stdout",
     "output_type": "stream",
     "text": [
      "Se rechaza H0, con pvalor=0.023 y alpha=0.05\n"
     ]
    }
   ],
   "source": [
    "if p <= alpha:\n",
    "    print('Se rechaza H0, con pvalor={} y alpha={}'.format(round(p,3),alpha))\n",
    "else:\n",
    "    print('No se puede rechazar H0, con pvalor={} y alpha={}'.format(round(p,3),alpha))"
   ]
  }
 ],
 "metadata": {
  "kernelspec": {
   "display_name": "Python 3 (ipykernel)",
   "language": "python",
   "name": "python3"
  },
  "language_info": {
   "codemirror_mode": {
    "name": "ipython",
    "version": 3
   },
   "file_extension": ".py",
   "mimetype": "text/x-python",
   "name": "python",
   "nbconvert_exporter": "python",
   "pygments_lexer": "ipython3",
   "version": "3.8.5"
  }
 },
 "nbformat": 4,
 "nbformat_minor": 5
}
