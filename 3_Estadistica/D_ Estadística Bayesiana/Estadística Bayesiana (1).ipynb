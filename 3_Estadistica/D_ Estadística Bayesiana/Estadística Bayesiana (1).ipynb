{
 "cells": [
  {
   "cell_type": "markdown",
   "metadata": {},
   "source": [
    "# Instalación de librerías\n",
    "\n",
    "Esta sesión requiere algunas librerías adicionales respecto a las que veníamos utilizando, además, estas librerías tienen que estar en unas versiones específicas para que todo funcione correctamente.\n",
    "\n",
    "Debemos ejecutar: \n",
    "\n",
    ">conda install -c conda-forge numpy=1.19.2 pandas=1.1.3 seaborn=0.11.0 theano=1.0.11 pymc3=3.10.0 arviz=0.11.0 m2w64-toolchain=2.4.0 m2w64-toolchain_win-64 libpython\n",
    "\n",
    "\n",
    "# Comprobación\n",
    "Para comprobar si hemos instalado bien las librerías ejecutamos el siguiente código"
   ]
  },
  {
   "cell_type": "code",
   "execution_count": 1,
   "metadata": {
    "ExecuteTime": {
     "end_time": "2022-02-18T21:57:13.443637Z",
     "start_time": "2022-02-18T21:57:10.292190Z"
    }
   },
   "outputs": [
    {
     "name": "stderr",
     "output_type": "stream",
     "text": [
      "WARNING (theano.tensor.blas): Using NumPy C-API based implementation for BLAS functions.\n"
     ]
    },
    {
     "name": "stdout",
     "output_type": "stream",
     "text": [
      "numpy        NO OK      1.20.2\n",
      "seaborn      NO OK      0.11.1\n",
      "pandas       NO OK      1.4.2\n",
      "theano       OK         1.0.11\n",
      "pymc3        OK         3.10.0\n",
      "arviz        OK         0.11.0\n"
     ]
    }
   ],
   "source": [
    "import numpy as np\n",
    "import pandas as pd\n",
    "import seaborn as sns\n",
    "import theano as tt\n",
    "import pymc3\n",
    "import arviz as az\n",
    "\n",
    "librerias = {\n",
    "    'numpy': [np, '1.19.2'],\n",
    "    'seaborn': [sns, '0.11.0'],\n",
    "    'pandas': [pd, '1.1.3'],\n",
    "    'theano': [tt, '1.0.11'],\n",
    "    'pymc3': [pymc3, '3.10.0'],\n",
    "    'arviz': [az, '0.11.0']\n",
    "}\n",
    "\n",
    "for k,v in librerias.items():\n",
    "    print(  k.ljust(12, ' '), \n",
    "            ('OK' if v[0].__version__ == v[1] else 'NO OK').ljust(10, ' '), \n",
    "            v[0].__version__)"
   ]
  },
  {
   "cell_type": "markdown",
   "metadata": {},
   "source": [
    "# Estadística Bayesiana, probabilidad y Cadenas de Markov\n",
    "\n",
    "## Probabilidad\n",
    "\n",
    "Llamamos probabilidad de un evento a la certidumbre de que se produzca un determinado resultado de ese evento. La probabilidad se mide entre 0 (certeza de que no se produce un resultado) hasta 1 (certeza absoluta de que se produce un resultado) aunque, lo más habitual, es expresarla en forma de porcentaje.\n",
    "\n",
    "Si lanzamos una moneda al aire sabemos que puede caer cara o cruz con un 50% de posibilidades (suponiendo que no pudiese caer de canto).\n",
    "\n",
    "### Ejercicio 1.\n",
    "\n",
    "* ¿Tendrá éxito un proyecto con un 80% de probabilidades de éxito? ¿Invertirías 10.000 € en él si el retorno esperado, en caso de éxito, fuese de 2:1?\n",
    "\n",
    "* ¿Tendrá éxito un proyecto con un 20% de probabilidades de éxito? ¿Invertirías 10.000 € en él si el retorno esperado, en caso de éxito, fuese de 2:1?\n",
    "\n",
    ".\n",
    "\n",
    ".\n",
    "\n",
    ".\n",
    "\n",
    ".\n",
    "\n",
    ".\n",
    "\n",
    ".\n",
    "\n",
    "\n",
    "A pesar de que el concepto de probabilidad es bastante sencillo de entender, los seres humanos tenemos dificultades para interpretar correctamente lo que significa una probabilidad alta o baja, teniendo en general tendencia a sobreestimar la probabilidad de que se produzcan resultados con probabilidad alta (> 75%) y que no se produzcan resultados con probabilidad baja ( <25%).\n",
    "\n",
    "\n",
    "## Conteos y probabilidades\n",
    "\n",
    "En muchas ocasiones, tenemos eventos equiprobables o casi equiprobables y, lo más importante para decidir si se produce un resultado es conocer cuántos resultados distintos puede producir un evento.\n",
    "\n",
    "\n",
    "### Ejercicio 2.\n",
    "¿Cuántos resultados diferentes puede producir?\n",
    "* Un proceso que genera números aleatorios > 1 y < 10.\n",
    "* Un selector de estilos de vestir que escoge entre 10 jerseys en 4 colores cada uno y 6 pantalones en tres colores cada uno.\n",
    "* Organizar 6 platos en cuatro pilas de platos.\n",
    "\n",
    ".\n",
    "\n",
    ".\n",
    "\n",
    ".\n",
    "\n",
    ".\n",
    "\n",
    ".\n",
    "\n",
    "1. 9 posibles resultados\n",
    "2. 10*4*6*3 = 840\n",
    "3. $$\\big( ^{n+r-1}_{r-1} \\big) = \\frac{9! - (9-3)!}{3!} = \\frac{9*8*7}{6} = 84$$ \n",
    "\n",
    "\n",
    "\n",
    "## Por qué la probabilidad es importante en un negocio\n",
    "Podríamos pensar que la analítica de negocio se basa en registros reales e inamobibles y que la probabilidad no juega un papel determinante en este proceso.\n",
    "\n",
    "Sin embargo, es habitual que estemos en situaciones en las que existe incertidumbre:\n",
    "- ¿Se alcanzarán los objetivos del presupuesto?\n",
    "- ¿Se venderá este producto?\n",
    "- ¿Conseguiremos terminar de vaciar este camión antes de que llegue el próximo?\n",
    "\n",
    "En todas estas situaciones existe una incertidumbre (mayor o menor) que debemos tratar. El tratamiento más habitual es no reconocer que existe esa incertidumbre y tratar cada caso como si fuese una excepción o algo impredecible / imponderable.\n",
    "\n",
    "En parte, este tratamiento basado en ignorar la incertidumbre, se deriva de la dificultad de aplicar un tratamiento matemático a la probabilidad.\n",
    "\n",
    "Como hemos visto en el ejercicio 2, incluso calcular el número de formas posibles de organizar platos en grupos tiene una dificultad alta, cuánto más decidir si un producto será exitoso o no.\n",
    "\n",
    "\n",
    "\n",
    "# Estadística Bayesiana\n",
    "La estadística Baysesiana presenta un modelo de pensamiento basado en hipótesis, evaluación, actualización de nuestro conocimiento que nos ayuda a enfrentar situaciones del mundo real.\n",
    "\n",
    "Podemos dividir la estadística en dos grandes grupos:\n",
    " - Frecuentista: solo podemos dar una probabilidad de éxito de **sucesos repetibles** \n",
    " - Bayesiana: partimos de una hipótesis informada y actualizamos nuestro conocimiento con el tiempo.\n",
    " \n",
    "A menudo, se asocia la estadística frecuentista con un comportamiento más rígido y \"*determinista*\" mientras que la estadística bayesiana es más *laxa* o *difusa* (nunca tenemos la absoluta certidumbre de que algo no puede pasar).\n",
    " \n",
    "![xkcd 1132](https://imgs.xkcd.com/comics/frequentists_vs_bayesians.png)\n",
    " \n",
    "  \n",
    "\n",
    "### Teorema de Bayes\n",
    "Esta rama de la estadística se centra en el conocido como teorema de Bayes:\n",
    "\n",
    "$$ P(A|B) = \\frac{P(B|A)\\cdot P(A)}{P(B)} $$\n",
    "\n",
    "Este teorema nos dice que, la probabilidad de que se de A si ya sabemos que se da B es igual a la probabilidad de que se de B si sabemos que se dio A, multiplicado por la probabilidad de A y dividido por la probabilidad de que se de B...\n",
    "\n",
    "Este trabalenguas es mucho más fácil de entender con un ejemplo:\n",
    "\n",
    "La probabilidad de que llueva si la calle está mojada es igual a la probabilidad de que la calle esté mojada si llueve, multiplicado por la probabilidad de llover y dividido por la probabilidad de que la calle esté mojada en general.\n",
    "\n",
    "$$ P(llueve|mojado) = \\frac{P(mojado|llueve) \\cdot P(llueve)}{P(mojado)} $$\n",
    "\n",
    "Si suponemos que la probabilidad de que se moje la calle si llueve es 1 (se moja seguro), nos queda:\n",
    "\n",
    "$$ P(llueve|mojado) = \\frac{1 \\cdot P(llueve)}{P(mojado)} $$\n",
    "\n",
    "Es decir, en esta situación la probabilidad de que esté lloviendo si el suelo está mojado es igual a la probabilidad de que llueva en general dividido por la probabilidad total del suelo de estar mojado.\n",
    "\n",
    "Si en una ciudad llueve uno de cada dos días y las calles se mojan excepcionalmente un día al año por motivos de limpieza (¿quizás en verano por tierra acumulada?) nos quedaría algo así:\n",
    "\n",
    "$$ P(llueve|mojado) = \\frac{0.5}{0.5027} $$\n",
    "\n",
    "Es decir, el teorema de Bayes nos diría que la probabilidad de que llueva si el suelo está mojado es P=99,45%.\n",
    "\n",
    "Este tipo de probabilidad también se llama probabilidad condicionada.\n",
    "\n",
    "Fijaos que, en estadística frecuentista, también podemos llegar al mismo resultado:\n",
    "\n",
    "|:--|:--:|:--:|\n",
    "|   | Llueve | No llueve |\n",
    "| Suelo mojado | 182 | 1 |\n",
    "| Suelo no mojado | 0 | 182 |\n",
    "\n",
    "Por lo tanto, si calculamos la probabilidad de que llueva si el suelo está mojado con estadística frecuentista, nos basaríamos en la fila de \"suelo mojado\", obteniendo: 182/183 = 99,45%.\n",
    "\n",
    "Más adelante veremos que la diferencia fundamental entre la estadística frecuentista y la bayesiana está en la utilización de \"conocimiento previo\".\n",
    "\n",
    "\n",
    "### Ejercicio\n",
    "\n",
    "1. Lanzamos dos monedas al aire, ¿cuál es la probabilidad de que ambas sean cara?\n",
    "1. Lanzamos dos monedas al aire, ¿cuál es la probabilidad de que, al menos una de ella sea cara?\n",
    "1. Lanzamos dos monedas al aire, en una de ellas sale una cara, ¿cuál es la probabilidad de que las dos sean cara?\n",
    "\n",
    "..\n",
    "\n",
    "..\n",
    "\n",
    "..\n",
    "\n",
    "Para el tercer caso podemos usar el teorema de Bayes.\n",
    "\n",
    "Queremos la probabilidad de que ambas sean cara sabiendo que una de ellas lo es, llamaremos P(2|1) a esta probabilidad.\n",
    "\n",
    "La probabilidad inversa, que una de ellas sea cara si las dos lo son es, obviamente, 1.\n",
    "\n",
    "La probabilidad sencilla de que ambas sean cara es P(2) = 1/4.\n",
    "\n",
    "La probabilidad de que una de ellas sea cara es P(1) = 3/4.\n",
    "\n",
    "Aplicando Bayes tenemos:\n",
    "\n",
    "$$ P(2|1) = \\frac{P(1|2) \\cdot P(2)}{P(1)} = \\frac{1 \\cdot \\frac{1}{4} }{ \\frac{3}{4} } = \\frac{ \\frac{1}{4}}{\\frac{3}{4}} = \\frac{1}{3}$$\n",
    "\n",
    "\n",
    "### Pensando con el teorema de Bayes\n",
    "\n",
    "Para entender mejor el pensamiento bayesiano es conveniente hacer algún otro ejemplo.\n",
    "\n",
    "Nos planteamos una planta de fabricación donde tenemos una máquina que produce piezas de tipo **T** sin errores en el 75% de los casos. Esta pieza se integra con otras para formar nuestro producto final.\n",
    "\n",
    "Si en las pruebas finales la pieza **T** falla, todo el producto debe descartarse.\n",
    "\n",
    "Obviamente la fiabilidad de esta máquina es muy baja y, por lo tanto, se instalan estaciones de control de calidad a la salida de nuestra máquina para tratar de atrapar la mayor parte de los errores cuánto antes.\n",
    "\n",
    "Las pruebas que hacemos sabemos que no consiguen encontrar todos los errores porque algunas piezas siguen fallando al llegar al producto final pero, siendo precavidos, consideramos que capturan el 70% de ellos.\n",
    "Esto quiere decir que se podrían escapar un 30% de piezas con errores.\n",
    "\n",
    "..\n",
    "\n",
    "..\n",
    "\n",
    "..\n",
    "\n",
    "..\n",
    "\n",
    "..\n",
    "\n",
    "Intuitivamente podemos plantear lo siguiente, de cada 100 piezas 25 tienen errores y, de esas 25 capturamos el 70%, es decir, 17.5. \n",
    "\n",
    "Por lo tanto, de cada 100 piezas, se nos cuelan 7.5 que contienen errores y que nuestro proceso no es capaz de detectar.\n",
    "\n",
    "#### Cuál es la probabilidad de que una pieza que ha pasado los tests esté libre de errores\n",
    "\n",
    "Vamos a ver cómo enfrenta ese problema la estadística Bayesiana.\n",
    "\n",
    "Nos gustaría calcular la probabilidad de que una pieza esté libre de errores sabiendo que ya ha pasado todos los tests (si no pasa los tests ya se queda por el camino y no afecta al resto del proceso).\n",
    "\n",
    "Siguiendo con la terminología del teorema de Bayes:\n",
    "\n",
    "$$ P(A|B) = \\frac{P(B|A) \\cdot P(A)}{P(B)} $$\n",
    "\n",
    "* P(A) = La pieza no tiene errores\n",
    "* P(B) = La pieza ha superado los tests\n",
    "* P(B|A) = Probabilidad de que una pieza sin errores supere los tests\n",
    "* P(A|B) = Probabilidad de que una pieza que ha superado los tests esté libre de errores\n",
    "\n",
    "En este caso, la probabilidad de que una pieza tenga errores es P(A) = 0.75\n",
    "\n",
    "La probabilidad de que una pieza que esté libre de errores supere los tests P(B|A) = 1, salvo que nuestros tests estén **muy** mal, deberían ser superados por todas las piezas sin errores.\n",
    "\n",
    "Por último, la probabilidad de que una pieza supere los tests, P(B), será igual a la probabilidad de que supere los tests si tiene errores + la probabilidad de que supere los tests si no tiene errores, esto se escribe:\n",
    "\n",
    "$$ P(B) = P(B \\land A) + P(B \\land \\neg A) $$\n",
    "\n",
    "Podemos sustituir P(B^A) por P(B|A) * P(A) , es decir, la probabilidad de que se den al mismo tiempo B y A será igual a la probabilidad de que se de A multiplicado por la probabilidad de que se de B si ya sabemos que se da A.\n",
    "\n",
    "En este caso P(B^A) = 1 * 0.75 (sabemos que si A no tiene errores tiene que pasar los tests y la probabilidad de A es 0.75).\n",
    "\n",
    "La otra mitad es un poco más complicada, sustituimos: P(B ^ ~ A) por P(B| ~ A) * P(~A). En este caso la probabilidad de que no se de A es de 1-0.75 (1 es la probabilidad total y sabemos que A se da en el 75% de los casos).\n",
    "\n",
    "La otra parte P(B|~A) que es la probabilidad de que pasemos los tests si **existen** errores será 0.3 según nos dicen en el problema.\n",
    "\n",
    "Juntando todo nos queda:\n",
    "\n",
    "$$ P(A|B) = \\frac{P(B|A) * P(A)}{P(B)} = \\frac{P(B|A) * P(A)}{P(B \\land A)* P(A) + P(B \\land \\neg A) *P(\\neg A)} = \\frac{1*0.75}{1*0.75+0.3*0.25} = \\frac{0.75}{0.825} = 0.909 = 90.9\\% $$\n",
    "\n",
    "Es decir, la probabilidad de que una pieza que haya superado todos los tests esté libre de errores es del **90.9%**.\n",
    "\n",
    "En nuestra aproximación intuitiva decíamos que se nos colaban 7.5 piezas con errores al final del proceso.\n",
    "\n",
    "Como pasaban 75 sin errores y 7.5 con errores la probabilidad de estar libre de errores sería 75/82.5 = 0.909, es decir, un 90.9%.\n",
    "\n",
    "Como vemos, el teorema de Bayes coincide con la forma de interpretar los problemas de forma lógica, proporcionando un marco teórico para afrontarlos minimizando la posibilidad de error.\n",
    "\n",
    "#### Los tests a veces dan falsos positivos\n",
    "\n",
    "Si queremos complicar un poco más la situación podemos plantearnos el caso de los falsos positivos, en esta situación vamos a suponer que el test lanza un falso positivo en un 5% de los casos.\n",
    "\n",
    "Es decir, la probabilidad de que una pieza sin defectos pase los tests es del 95%.\n",
    "\n",
    "El teorema de Bayes, tal como lo teníamos en el apartado anterior, nos permite introducir esta situación de forma natural:\n",
    "\n",
    "$$ P(A|B) = \\frac{P(B|A) * P(A)}{P(B)} = \\frac{P(B|A) * P(A)}{P(B \\land A)* P(A) + P(B \\land \\neg A) *P(\\neg A)} = \\frac{0.95*0.75}{0.95*0.75+0.3*0.25} = \\frac{0.7125}{0.7875} = 0.9047 = 90.47\\% $$\n",
    "\n",
    "Vemos que la probabilidad ha bajado ya que hemos retirado de producción piezas que estaban bien.\n",
    "\n",
    "\n",
    "\n",
    "\n"
   ]
  },
  {
   "cell_type": "markdown",
   "metadata": {},
   "source": [
    "# ¿Qué es la estadística Bayesiana?\n",
    "\n",
    "La estadística bayesiana utiliza el teorema de Bayes para enlazar nuestro \"conocimiento previo\" sobre un evento con nuestro conocimiento después de que el evento haya sucedido o no.\n",
    "\n",
    "Se diferencia de la estadística tradicional (o frecuentista) porque cambia a nivel fundamental cómo piensa sobre las probabilidades.\n",
    "\n",
    "En estadística tradicional la probabilidad de que un evento suceda es su **frecuencia a largo plazo**.\n",
    "\n",
    "En estadística bayesiana la probabilidad será nuestra **creencia en que algo va a pasar**.\n",
    "\n",
    "Estas aproximaciones a un mismo concepto, que pueden parecer más de forma que de fondo, cambian el modo de interpretación de los sucesos estadísticos hasta el punto en que los estadísticos suelen separarse en \"frecuentistas\" o \"bayesianos\".\n",
    "\n",
    "En bayesiana se propone una forma más natural de entender la probabilidad (en frecuentista, para tratar eventos únicos se trabaja con mundos paralelos o \"un conjunto infinito de universos\").\n",
    "\n",
    "El método de trabajo de la estadística bayesiana tiene tres pasos principales:\n",
    "1. Obtener información sobre el evento/suceso que queremos analizar: **prior distribution**\n",
    "1. Determinar la función de similitud utilizando la información observable en los datos: **likelihood**\n",
    "1. Combinar el conocimiento previo y la similitud utilizando el teorema de Bayes para obtener el conocimiento posterior: **posterior**\n",
    "\n",
    "En el Teorema de Bayes, el Prior es la probabilidad del suceso B, likelihood es la probabilidad de B si se da A y la probabilidad de A si se da B es el posterior:\n",
    "\n",
    "\n",
    "$$ P(A|B) = \\frac{P(B|A) \\cdot P(A)}{P(B)} \\Leftrightarrow Posterior \\propto likelikhood \\times Prior $$ \n",
    "\n",
    "Fijaos que no hablamos de la probabilidad de que suceda B tal cual, decimos simplemente que es proporcional (faltaría dividir por ese valor que será una constante).\n",
    "\n",
    "## Componentes\n",
    "Componentes de la ecuación bayesiana.\n",
    "\n",
    "### Prior\n",
    "\n",
    "En estadística bayesiana el **prior** es el conocimiento que aportamos nosotros, puede ser un valor real o, simplemente, nuestra creencia en que algo va a suceder y esta es la diferencia fundamental entre bayesiana y frecuentista.\n",
    "\n",
    "Mientras que la estadística frecuentista se basa en evidencia real para determinar el resultado de un suceso, la estadística bayesiana se basa en el conocimiento aportado, en muchos casos, por un experto, de lo probable que es un efecto.\n",
    "\n",
    "Esto permite que la estadística bayesiana afronte acontencimientos que nunca han sucedido.\n",
    "\n",
    "Por ejemplo, si queremos saber la probabilidad histórica de lluvia en Escocia pero no la tenemos, la estadística frecuentista nos dirá que tenemos que medir un plazo de tiempo y luego revisar el resultado mientras que en la estadística bayesiana partiríamos de una opinión experta (tal vez un escocés) y, revisaríamos el resultado según como llega nueva evidencia.\n",
    "\n",
    "En las ecuaciones Bayesianas el prior es P(A).\n",
    "\n",
    "### Posterior\n",
    "\n",
    "El **posterior** es el dato que estamos buscando, es el conocimiento al que nos interesa llegar, en el teorema de bayes es P(A|B).\n",
    "\n",
    "### Likelihood\n",
    "\n",
    "La similitud **likelihood** representa la probabilidad de encontrarnos el valor buscado en caso de que se de B.\n",
    "\n",
    "En ecuaciones bayesianas es P(B|A).\n",
    "\n",
    "Por último, **P(B)** son los datos que aportamos para tratar de resolver el problema.\n"
   ]
  },
  {
   "cell_type": "markdown",
   "metadata": {},
   "source": [
    "# Inferencia Bayesiana - PyMC3\n",
    "\n",
    "¿Qué es capaz de hacer por nosotros la estadística bayesiana?\n",
    "\n",
    "Al realizar analítica de datos en la empresa nos basamos en dos tipos de datos:\n",
    " - Datos reales: obtenidos de tablas de ventas, stocks...\n",
    " - Distribuciones de datos: obtenidas extrapolando la información de tablas de hechos o de históricos.\n",
    " \n",
    "El primer caso es fácil de entender, vamos a nuestra tabla de venta y vemos qué ha pasado con anterioridad y extraemos datos de ella (ventas por producto, por cliente,...).\n",
    "\n",
    "El segundo caso se da, principalmente, cuando los datos que tenemos no son suficientes para realizar un proceso de analítica y queremos utilizar datos \"similares\" para poder simular qué pasaría en diferentes ocasiones.\n",
    "\n",
    "En sesiones anteriores de estadística, se ha explicado qué es una distribución (Juan Hernández) y se han visto algunas (María Castellano), sin embargo, no se ha entrado en su uso en analítica.\n",
    "\n",
    "En negocio, nos interesa saber el tipo de distribución que puede existir de forma subyacente en un conjunto de datos, por ejemplo:\n",
    " - La venta de una tienda al día\n",
    " - El número de unidades que vende un producto cada día\n",
    " - El ticket medio de un comprador\n",
    " - El ticket medio de un comprador online\n",
    " - El ticket medio de un comprador online que ha adquirido, anteriormente, una crema de cuerpo de precio superior a los 60 €\n",
    "\n",
    "La estadística Bayesiana se puede utilizar como soporte para obtener las distribuciones que hay detrás de esos conjuntos de datos y utilizarlas en procesos analíticos posteriores.\n",
    "\n",
    "Otros usos de la estadística bayesiana pueden ser la prueba de hipótesis de forma empírica frente a la rigidez matemática de la estadística frecuentista. Veamos un ejemplo:\n",
    "\n",
    "\n",
    "## Ejemplo 1\n",
    "Observemos el siguiente conjunto de datos. ¿Podemos encontrar alguna característica llamativa en él?\n"
   ]
  },
  {
   "cell_type": "code",
   "execution_count": 2,
   "metadata": {
    "ExecuteTime": {
     "end_time": "2022-02-18T21:57:13.661016Z",
     "start_time": "2022-02-18T21:57:13.445733Z"
    }
   },
   "outputs": [
    {
     "data": {
      "text/plain": [
       "<AxesSubplot:>"
      ]
     },
     "execution_count": 2,
     "metadata": {},
     "output_type": "execute_result"
    },
    {
     "data": {
      "image/png": "[encoded data removed]",
      "text/plain": [
       "<Figure size 432x288 with 1 Axes>"
      ]
     },
     "metadata": {
      "needs_background": "light"
     },
     "output_type": "display_data"
    }
   ],
   "source": [
    "import seaborn as sns\n",
    "\n",
    "data_0 = [ 40,  38,  43,  43,  43,  36,  41,  52,  47,  34,  41,  37,  37,\n",
    "        35,  40,  54,  43,  44,  46,  49,  34,  49,  35,  27,  42,  49,\n",
    "        31,  43,  39,  33,  41,  47,  38,  42,  39,  40,  41,  46,  46,\n",
    "        37,  44,  43,  45,  47,  45,  38,  41,  28,  39,  39,  50,  42,\n",
    "        34,  42,  47,  35,  42,  36,  42,  43,  36,  36,  41,  32,  45,\n",
    "        30,  49,  34,  46,  44,  41,  38,  34,  32,  49,  33,  39,  41,\n",
    "        34,  42,  50,  44,  33,  35,  37,  58,  38,  38,  46,  34,  42,\n",
    "        39,  44,  30,  33,  43,  37,  41,  43,  48,  85,  92,  92,  83,\n",
    "        81,  66,  69,  82,  75,  70,  83,  83, 100,  89,  75,  71,  78,\n",
    "        73,  81,  88,  64,  96,  59,  57,  68,  76,  78,  85,  65,  84,\n",
    "        85,  72,  73,  76,  57,  82,  88,  79,  83,  93,  77,  84,  95,\n",
    "        78,  81,  96,  90,  69,  72,  77,  73,  87,  96,  77,  87,  98,\n",
    "        91,  86,  76,  73,  86,  76,  86,  80,  92,  78,  72,  86,  86,\n",
    "        88,  73,  74,  91,  68,  72,  74,  74,  78,  82,  83,  87,  80,\n",
    "        87,  94,  76,  82,  72,  80,  81,  65,  75,  89,  80,  74,  69,\n",
    "        77,  98,  86,  66,  86]\n",
    "\n",
    "sns.scatterplot(data=data_0)"
   ]
  },
  {
   "cell_type": "markdown",
   "metadata": {},
   "source": [
    "### Punto de corte\n",
    "¿Crees que puede existir un punto de corte entre dos comportamientos diferenciados en el ejemplo anterior?"
   ]
  },
  {
   "cell_type": "code",
   "execution_count": 3,
   "metadata": {
    "ExecuteTime": {
     "end_time": "2022-02-18T21:57:13.676680Z",
     "start_time": "2022-02-18T21:57:13.663013Z"
    }
   },
   "outputs": [
    {
     "data": {
      "text/plain": [
       "[41, 43, 48, 85, 92]"
      ]
     },
     "execution_count": 3,
     "metadata": {},
     "output_type": "execute_result"
    }
   ],
   "source": [
    "data_0[97:102]"
   ]
  },
  {
   "cell_type": "markdown",
   "metadata": {
    "ExecuteTime": {
     "end_time": "2021-03-10T21:47:12.256847Z",
     "start_time": "2021-03-10T21:47:12.253846Z"
    }
   },
   "source": [
    "## Ejemplo 2\n",
    "\n",
    "¿Podemos ver algo especial en el siguiente conjunto de datos?\n"
   ]
  },
  {
   "cell_type": "code",
   "execution_count": 4,
   "metadata": {
    "ExecuteTime": {
     "end_time": "2022-02-18T21:57:13.893491Z",
     "start_time": "2022-02-18T21:57:13.681719Z"
    }
   },
   "outputs": [
    {
     "data": {
      "text/plain": [
       "<AxesSubplot:>"
      ]
     },
     "execution_count": 4,
     "metadata": {},
     "output_type": "execute_result"
    },
    {
     "data": {
      "image/png": "[encoded data removed]",
      "text/plain": [
       "<Figure size 432x288 with 1 Axes>"
      ]
     },
     "metadata": {
      "needs_background": "light"
     },
     "output_type": "display_data"
    }
   ],
   "source": [
    "data_1 = [41, 42, 39, 39, 57, 46, 41, 28, 39, 31, 40, 35, 39, 42, 53, 37, 44,\n",
    "       43, 34, 36, 41, 34, 43, 39, 33, 43, 34, 47, 47, 45, 36, 36, 36, 28,\n",
    "       41, 40, 41, 36, 32, 36, 42, 47, 43, 35, 42, 39, 44, 46, 49, 49, 44,\n",
    "       55, 39, 43, 42, 32, 41, 41, 43, 49, 39, 46, 33, 46, 38, 44, 44, 44,\n",
    "       40, 34, 46, 37, 44, 33, 41, 52, 41, 44, 38, 45, 34, 27, 36, 38, 43,\n",
    "       41, 43, 36, 42, 42, 35, 44, 35, 40, 34, 38, 36, 48, 40, 44, 41, 32,\n",
    "       37, 45, 50, 41, 57, 35, 43, 36, 28, 37, 35, 53, 42, 36, 42, 37, 40,\n",
    "       37, 47, 40, 50, 37, 38, 32, 44, 45, 29, 43, 42, 52, 39, 30, 39, 48,\n",
    "       40, 37, 50, 39, 46, 41, 43, 50, 44, 45, 47, 43, 45, 39, 42, 45, 53,\n",
    "       49, 54, 48, 49, 38, 43, 52, 59, 51, 46, 31, 39, 41, 42, 53, 40, 46,\n",
    "       31, 38, 35, 35, 42, 47, 50, 39, 39, 44, 45, 48, 41, 56, 38, 39, 59,\n",
    "       48, 39, 41, 38, 43, 52, 44, 47, 57, 32, 36, 35, 42]\n",
    "\n",
    "sns.scatterplot(data=data_1)"
   ]
  },
  {
   "cell_type": "markdown",
   "metadata": {},
   "source": [
    "Podemos pedir ayuda de la media móvil para intentar encontrar algo que se nos escape a simple vista"
   ]
  },
  {
   "cell_type": "code",
   "execution_count": 5,
   "metadata": {
    "ExecuteTime": {
     "end_time": "2022-02-18T21:57:14.094924Z",
     "start_time": "2022-02-18T21:57:13.894452Z"
    }
   },
   "outputs": [
    {
     "data": {
      "text/plain": [
       "<AxesSubplot:>"
      ]
     },
     "execution_count": 5,
     "metadata": {},
     "output_type": "execute_result"
    },
    {
     "data": {
      "image/png": "[encoded data removed]",
      "text/plain": [
       "<Figure size 432x288 with 1 Axes>"
      ]
     },
     "metadata": {
      "needs_background": "light"
     },
     "output_type": "display_data"
    }
   ],
   "source": [
    "import pandas as pd\n",
    "s = pd.Series(data_1)\n",
    "sns.scatterplot(data=data_1)\n",
    "\n",
    "sns.lineplot(data=s.rolling(10).mean(), color='red')"
   ]
  },
  {
   "cell_type": "markdown",
   "metadata": {},
   "source": [
    "Como primer punto, vamos a partir de los datos entre las observaciones 0 y 99 e intentar obtener la distribución subyacente.\n",
    "\n",
    "Para ello utilizaremos una librería que se llama PyMC3 (Python MonteCarlo) que nos permite automatizar miles de pruebas de validez de una hipótesis.\n",
    "\n",
    "La librería es un poco críptica y quizás se explica mejor a través de un ejemplo:"
   ]
  },
  {
   "cell_type": "code",
   "execution_count": null,
   "metadata": {
    "ExecuteTime": {
     "end_time": "2022-02-18T21:57:41.530467Z",
     "start_time": "2022-02-18T21:57:14.098939Z"
    }
   },
   "outputs": [],
   "source": [
    "import pymc3 as pm\n",
    "import arviz as az\n",
    "import numpy as np\n",
    "\n",
    "# Obtenemos 1000 primeras medidas de data_1\n",
    "datos = data_1[:100]\n",
    "\n",
    "# Iniciamos un modelo de PyMC3, el modelo va añadiendo todos los **pasos** a un proceso y luego llamamos \n",
    "# a ese proceso mediante pm.sample para obtener el resultado\n",
    "with pm.Model() as model:\n",
    "    # Vamos a suponer que los datos del principio de data 1 pertenecen a una distribución normal\n",
    "    \n",
    "    # 2. Definimos el parámetro A como unos datos extraídos de una distribución exponencial\n",
    "    p_A = pm.Exponential('p_A', lam = 1 / np.mean(datos))\n",
    "    # 3. Definimos el parámetro B igual que el A\n",
    "    p_B = pm.Exponential('p_B', lam = 1 / np.mean(datos))\n",
    "    # 4. La definición de estos parámetros servirá para que PyMC3 genere miles de posibles muestras normales\n",
    "    # con media obtenida de p_A y desviación típica obtenida de p_B y busque para qué conjunto de parámetros\n",
    "    # nos acercamos más a la muestra que hemos generado\n",
    "    \n",
    "    \n",
    "    \n",
    "    # 1. Le decimos que hay unas observaciones que creemos que siguen una distribución normal\n",
    "    # y que tienen como parámetro de media valores obtenidos de un conjunto posible llamado p_A\n",
    "    # y desviación típica obtenida de un conjunto posible llamado p_B\n",
    "    obs = pm.Normal('obs',  mu=p_A, sigma=p_B, observed=datos)\n",
    "    \n",
    "    \n",
    "    # 5. Le decimos que trabaje\n",
    "    trace = pm.sample(return_inferencedata=True)\n",
    "\n",
    "    # 6. le decimos que muestre los resultados\n",
    "    az.plot_posterior(trace, figsize=(16,8))"
   ]
  },
  {
   "cell_type": "markdown",
   "metadata": {
    "ExecuteTime": {
     "end_time": "2022-02-18T21:18:12.691842Z",
     "start_time": "2022-02-18T21:18:12.684064Z"
    }
   },
   "source": [
    "Vamos a hacer ahora lo mismo para los 100 últimos registros:"
   ]
  },
  {
   "cell_type": "code",
   "execution_count": null,
   "metadata": {
    "ExecuteTime": {
     "end_time": "2022-02-18T21:58:04.815492Z",
     "start_time": "2022-02-18T21:57:41.532792Z"
    }
   },
   "outputs": [],
   "source": [
    "import pymc3 as pm\n",
    "import arviz as az\n",
    "import numpy as np\n",
    "\n",
    "# Obtenemos las 100 últimas medidas de data_1\n",
    "datos = data_1[-100:]\n",
    "\n",
    "# Iniciamos un modelo de PyMC3, el modelo va añadiendo todos los **pasos** a un proceso y luego llamamos \n",
    "# a ese proceso mediante pm.sample para obtener el resultado\n",
    "with pm.Model() as model:\n",
    "    # Vamos a suponer que los datos del principio de data 1 pertenecen a una distribución normal\n",
    "    \n",
    "    # 2. Definimos el parámetro A como unos datos extraídos de una distribución exponencial\n",
    "    p_A = pm.Exponential('p_A', lam = 1 / np.mean(datos))\n",
    "    # 3. Definimos el parámetro B igual que el A\n",
    "    p_B = pm.Exponential('p_B', lam = 1 / np.mean(datos))\n",
    "    # 4. La definición de estos parámetros servirá para que PyMC3 genere miles de posibles muestras normales\n",
    "    # con media obtenida de p_A y desviación típica obtenida de p_B y busque para qué conjunto de parámetros\n",
    "    # nos acercamos más a la muestra que hemos generado\n",
    "    \n",
    "    # 1. Le decimos que hay unas observaciones que creemos que siguen una distribución normal\n",
    "    # y que tienen como parámetro de media valores obtenidos de un conjunto posible llamado p_A\n",
    "    # y desviación típica obtenida de un conjunto posible llamado p_B\n",
    "    obs = pm.Normal('obs',  mu=p_A, sigma=p_B, observed=datos)\n",
    "    \n",
    "    # 5. Le decimos que trabaje\n",
    "    trace = pm.sample(return_inferencedata=True)\n",
    "\n",
    "    # 6. le decimos que muestre los resultados\n",
    "    az.plot_posterior(trace, figsize=(16,8))"
   ]
  },
  {
   "cell_type": "markdown",
   "metadata": {},
   "source": [
    "Viendo lo anterior, parece claro que hay una diferencia entre los datos del principio y los del final ya que unos tienen una media de 40 y los otros de 43, pero, ¿cuándo se da el cambio de tendencia?\n",
    "\n",
    "Vamos a hacer un proceso más complejo de PyMC3 para intentar averiguar dónde se produce el desfase."
   ]
  },
  {
   "cell_type": "code",
   "execution_count": null,
   "metadata": {
    "ExecuteTime": {
     "end_time": "2022-02-18T21:59:38.847839Z",
     "start_time": "2022-02-18T21:58:04.816455Z"
    }
   },
   "outputs": [],
   "source": [
    "import pymc3 as pm\n",
    "import numpy as np\n",
    "\n",
    "# Vamos a intentar encontrar el punto de corte suponiendo que los modelos responden a una distribución normal.\n",
    "\n",
    "observaciones = len(data_1)\n",
    "\n",
    "# Inicializamos un modelo de PyMC3\n",
    "with pm.Model() as model:\n",
    "    \n",
    "    # Vamos a decirle a PyMC3 que creemos que existen dos distribuciones en los datos\n",
    "    # como no sabemos nada de esas distribuciones utilizamos como base una distribución\n",
    "    # exponencial.\n",
    "    \n",
    "    # Hacer esto es un poco complejo ya que requiere empezar por le final.\n",
    "    \n",
    "    # Si nos fijamos en obervation veremos que ahí le decimos que creemos que tenemos dos conjuntos de observaciones\n",
    "    # obesrvation y observation_2, empezamos por el 1.\n",
    "    \n",
    "    # Valor inicial de las distribuciones\n",
    "    alpha = 1.0/np.mean(data_1)\n",
    "    \n",
    "    # Le decimos que va a haber dos distribuciones\n",
    "    # estas distribuciones se almacenan en parámetros \"lambda\",\n",
    "    # lambda responde a un parámetro cualquiera y no tiene que ver con las funciones lambda de python\n",
    "    \n",
    "    # Las distribuciones lambda requieren, a su vez, parámetros, en este caso alpha\n",
    "    # a estos parámetros de segundo nivel es habitual llamarle hiperparámetro\n",
    "    \n",
    "    lambda_1 = pm.Exponential(\"lambda_1\", alpha)\n",
    "    lambda_2 = pm.Exponential(\"lambda_2\", alpha)\n",
    "    \n",
    "    # Llamamos tau al parámetro que separa los valores, al igual que antes,\n",
    "    # no hacemos ninguna suposición sobre qué valor puede tomar tau,\n",
    "    # por lo tanto incializamos la distibución entre 0 y el número de observaciones menos 1.\n",
    "    \n",
    "    # Si disponemos de algo más de información, podemos acotar este rango de valores \n",
    "    # para agilizar el proceso\n",
    "    tau = pm.DiscreteUniform(\"tau\", lower=0, upper = observaciones - 1)\n",
    "    \n",
    "    # la función switch le dice a PyMc3 que existe un punto de corte y que lambda_1 y lambda_2\n",
    "    # estarán a uno u otro lado del valor de corte\n",
    "    # lambda_ es solo una variable \"temporal\" para almacenar estos valores\n",
    "    idx = np.arange(observaciones) # Index\n",
    "    lambda_ = pm.math.switch(tau > idx, lambda_1, lambda_2)\n",
    "    \n",
    "    # 1. Le decimos a PyMC que existirán dos distribuciones normales\n",
    "    # cada una de ellas tendrá parámetros para la media y la desviación que les llamamos lambda\n",
    "    observation = pm.Normal(\"obs\", lambda_, observed=data_1)\n",
    "    #observation_2 = pm.Normal(\"obs_2\", lambda_, observed=data_1)\n",
    "\n",
    "    # Por último le pedimos que inicie el proceso de análisis.\n",
    "    \n",
    "    # El método metropolis recoge todos los datos que hemos ido generando hasa ahora\n",
    "    # y aplica un algoritmo MCMC (Markov-Chain Monte Carlo) para inferir los parámetros\n",
    "    # de la distribución subyacente en los datos\n",
    "    step = pm.Metropolis()\n",
    "    \n",
    "    # Finalmente, le pedimos a PyMC3 que realice el proceso de inferencia.\n",
    "    # Todos los datos que fuimos añadiendo al modelo están listos para utilizarse\n",
    "    # y solo queda esperar (15 minutos)\n",
    "    trace = pm.sample(25000, tune=5000,step=step, return_inferencedata=True)\n"
   ]
  },
  {
   "cell_type": "code",
   "execution_count": null,
   "metadata": {
    "ExecuteTime": {
     "end_time": "2022-02-18T21:59:39.064624Z",
     "start_time": "2022-02-18T21:59:38.848689Z"
    }
   },
   "outputs": [],
   "source": [
    "import arviz as az\n",
    "\n",
    "az.plot_dist(trace['posterior']['lambda_1'])\n"
   ]
  },
  {
   "cell_type": "code",
   "execution_count": null,
   "metadata": {
    "ExecuteTime": {
     "end_time": "2022-02-18T21:59:39.325520Z",
     "start_time": "2022-02-18T21:59:39.067505Z"
    }
   },
   "outputs": [],
   "source": [
    "az.plot_dist(trace['posterior']['lambda_2'])\n"
   ]
  },
  {
   "cell_type": "code",
   "execution_count": null,
   "metadata": {
    "ExecuteTime": {
     "end_time": "2022-02-18T21:59:39.669328Z",
     "start_time": "2022-02-18T21:59:39.327603Z"
    }
   },
   "outputs": [],
   "source": [
    "az.plot_dist(values=trace['posterior']['lambda_1'], values2=trace['posterior']['lambda_2'])"
   ]
  },
  {
   "cell_type": "code",
   "execution_count": null,
   "metadata": {
    "ExecuteTime": {
     "end_time": "2022-02-18T21:59:39.918155Z",
     "start_time": "2022-02-18T21:59:39.673618Z"
    }
   },
   "outputs": [],
   "source": [
    "az.plot_dist(trace['posterior']['tau'])"
   ]
  },
  {
   "cell_type": "code",
   "execution_count": null,
   "metadata": {
    "ExecuteTime": {
     "end_time": "2022-02-18T21:59:39.949550Z",
     "start_time": "2022-02-18T21:59:39.920159Z"
    }
   },
   "outputs": [],
   "source": [
    "trace['posterior']['lambda_1'].mean()"
   ]
  },
  {
   "cell_type": "code",
   "execution_count": null,
   "metadata": {
    "ExecuteTime": {
     "end_time": "2022-02-18T21:59:39.980279Z",
     "start_time": "2022-02-18T21:59:39.954230Z"
    }
   },
   "outputs": [],
   "source": [
    "trace['posterior']['lambda_2'].mean()"
   ]
  },
  {
   "cell_type": "code",
   "execution_count": null,
   "metadata": {
    "ExecuteTime": {
     "end_time": "2022-02-18T21:59:39.996369Z",
     "start_time": "2022-02-18T21:59:39.982274Z"
    }
   },
   "outputs": [],
   "source": [
    "trace['posterior']['tau'].mean()"
   ]
  },
  {
   "cell_type": "code",
   "execution_count": null,
   "metadata": {
    "ExecuteTime": {
     "end_time": "2022-02-18T22:02:02.548108Z",
     "start_time": "2022-02-18T21:59:39.998231Z"
    }
   },
   "outputs": [],
   "source": [
    "data_2 = [46, 31, 30, 39, 42, 46, 37, 44, 50, 45, 36, 30, 36, 48, 41, 37, 36,\n",
    "       32, 47, 52, 47, 38, 47, 44, 44, 35, 50, 41, 45, 39, 42, 49, 41, 36,\n",
    "       47, 38, 47, 42, 44, 43, 47, 55, 48, 49, 34, 42, 33, 42, 43, 39, 55,\n",
    "       44, 40, 43, 37, 33, 41, 40, 52, 36, 45, 37, 38, 38, 33, 69, 37, 40,\n",
    "       37, 57, 44, 33, 52, 41, 48, 45, 46, 53, 56, 47, 47, 42, 47, 54, 35,\n",
    "       43, 50, 35, 52, 42, 41, 47, 51, 36, 38, 62, 59, 41, 43, 53, 38, 39,\n",
    "       43, 42, 48, 49, 39, 43, 51, 53, 44, 46, 35, 33, 55, 32, 48, 59, 43,\n",
    "       49, 60, 45, 39, 30, 51, 45, 43, 41, 46, 43, 42, 42, 46, 66, 50, 48,\n",
    "       47, 42, 42, 46, 42, 32, 44, 49, 53, 44, 43, 40, 48, 51, 40, 35, 34,\n",
    "       58, 46, 52, 49, 45, 52, 38, 31, 40, 46, 46, 49, 52, 43, 52, 39, 43,\n",
    "       45, 47, 44, 42, 57, 38, 49, 45, 47, 46, 52, 43, 51, 43, 41, 50, 47,\n",
    "       52, 41, 40, 37, 38, 58, 45, 46, 40, 34, 41, 33, 43, 37, 37, 35, 41,\n",
    "       42, 44, 37, 43, 40, 43, 41, 37, 25, 33, 23, 40, 39, 36, 40, 26, 32,\n",
    "       35, 38, 30, 39, 41, 39, 40, 38, 48, 43, 47, 39, 39, 53, 48, 40, 43,\n",
    "       36, 42, 41, 31, 40, 48, 45, 39, 47, 37, 36, 38, 34, 38, 32, 44, 44,\n",
    "       42, 37, 33, 35, 30]\n",
    "\n",
    "import pymc3 as pm\n",
    "import numpy as np\n",
    "\n",
    "# Vamos a intentar encontrar el punto de corte suponiendo que los modelos responden a una distribución exponencial.\n",
    "\n",
    "observaciones = len(data_2)\n",
    "\n",
    "# Inicializamos un modelo de PyMC3\n",
    "with pm.Model() as model:\n",
    "    \n",
    "    # Vamos a decirle a PyMC3 que creemos que existen dos distribuciones en los datos\n",
    "    # como no sabemos nada de esas distribuciones utilizamos como base una distribución\n",
    "    # exponencial.\n",
    "    \n",
    "    # PyMC3 exige que le demos un valor inicial a las distribuciones, como tampoco sabemos \n",
    "    # qué valor darle a esas exponenciales, utilizamos 1 / media como valor inicial.\n",
    "    \n",
    "    # Valor inicial de las distribuciones\n",
    "    alpha = 1.0/np.mean(data_2)\n",
    "    \n",
    "    # Le decimos que va a haber dos distribuciones\n",
    "    # estas distribuciones se almacenan en parámetros \"lambda\"\n",
    "    # en inferencia bayesiana es habitual llamar \"lambda\" a los conocidos como \n",
    "    # hiperparámetros\n",
    "    \n",
    "    lambda_1 = pm.Exponential(\"lambda_1\", alpha)\n",
    "    lambda_2 = pm.Exponential(\"lambda_2\", alpha)\n",
    "    lambda_3 = pm.Exponential(\"lambda_3\", alpha)\n",
    "    \n",
    "    # Llamamos tau al parámetro que separa los valores, al igual que antes,\n",
    "    # no hacemos ninguna suposición sobre qué valor puede tomar tau,\n",
    "    # por lo tanto incializamos la distibución entre 0 y el número de observaciones menos 1.\n",
    "    \n",
    "    # Si disponemos de algo más de información, podemos acotar este rango de valores \n",
    "    # para agilizar el proceso\n",
    "    tau_1 = pm.DiscreteUniform(\"tau_1\", lower=0, upper= int(observaciones/2) - 1)\n",
    "    tau_2 = pm.DiscreteUniform(\"tau_2\", lower=int(observaciones/2)-1, upper= observaciones - 1)\n",
    "    \n",
    "    # la función switch le dice a PyMc3 que existe un punto de corte y que lambda_1 y lambda_2\n",
    "    # estarán a uno u otro lado del valor de corte\n",
    "    # lambda_ es solo una variable \"temporal\" para almacenar estos valores\n",
    "    idx_1 = np.arange(observaciones) # Index\n",
    "    idx_2 = np.arange(observaciones) # Index\n",
    "    \n",
    "    lambda_ = pm.math.switch(tau_1 > idx_1, lambda_1, lambda_2)\n",
    "    lambda_2 = pm.math.switch(tau_2 > idx_2, lambda_2, lambda_3)\n",
    "    \n",
    "    # Le decimos a PyMC que existirá una distribución de poisson \n",
    "    # estas son las observaciones, el P(B) del teorema de Bayes\n",
    "    observation_1 = pm.Poisson(\"obs_1\", lambda_, observed=data_2)\n",
    "    observation_2 = pm.Poisson(\"obs_2\", lambda_2, observed=data_2)\n",
    "\n",
    "    # Por último le pedimos que inicie el proceso de análisis.\n",
    "    \n",
    "    # El método metropolis recoge todos los datos que hemos ido generando hasa ahora\n",
    "    # y aplica un algoritmo MCMC (Markov-Chain Monte Carlo) para inferir los parámetros\n",
    "    # de la distribución subyacente en los datos\n",
    "    step = pm.Metropolis()\n",
    "    \n",
    "    # Finalmente, le pedimos a PyMC3 que realice el proceso de inferencia.\n",
    "    # Todos los datos que fuimos añadiendo al modelo están listos para utilizarse\n",
    "    # y solo queda esperar (15 minutos)\n",
    "    trace = pm.sample(25000, tune=5000,step=step, return_inferencedata=True)\n"
   ]
  },
  {
   "cell_type": "code",
   "execution_count": null,
   "metadata": {
    "ExecuteTime": {
     "end_time": "2022-02-18T22:02:02.841064Z",
     "start_time": "2022-02-18T22:02:02.550103Z"
    }
   },
   "outputs": [],
   "source": [
    "az.plot_dist(trace['posterior']['lambda_1'])\n"
   ]
  },
  {
   "cell_type": "code",
   "execution_count": null,
   "metadata": {
    "ExecuteTime": {
     "end_time": "2022-02-18T22:02:03.134355Z",
     "start_time": "2022-02-18T22:02:02.846050Z"
    }
   },
   "outputs": [],
   "source": [
    "az.plot_dist(trace['posterior']['lambda_2'])\n"
   ]
  },
  {
   "cell_type": "code",
   "execution_count": null,
   "metadata": {
    "ExecuteTime": {
     "end_time": "2022-02-18T22:02:03.446809Z",
     "start_time": "2022-02-18T22:02:03.138302Z"
    }
   },
   "outputs": [],
   "source": [
    "az.plot_dist(trace['posterior']['lambda_3'])\n"
   ]
  },
  {
   "cell_type": "code",
   "execution_count": null,
   "metadata": {
    "ExecuteTime": {
     "end_time": "2022-02-18T22:02:03.895496Z",
     "start_time": "2022-02-18T22:02:03.449527Z"
    }
   },
   "outputs": [],
   "source": [
    "az.plot_dist(trace['posterior']['tau_1'])\n"
   ]
  },
  {
   "cell_type": "code",
   "execution_count": null,
   "metadata": {
    "ExecuteTime": {
     "end_time": "2022-02-18T22:02:04.328738Z",
     "start_time": "2022-02-18T22:02:03.900489Z"
    }
   },
   "outputs": [],
   "source": [
    "az.plot_dist(trace['posterior']['tau_2'])\n"
   ]
  },
  {
   "cell_type": "code",
   "execution_count": null,
   "metadata": {
    "ExecuteTime": {
     "end_time": "2022-02-18T22:02:04.344156Z",
     "start_time": "2022-02-18T22:02:04.330732Z"
    }
   },
   "outputs": [],
   "source": [
    "trace['posterior']['lambda_1'].mean()"
   ]
  },
  {
   "cell_type": "code",
   "execution_count": null,
   "metadata": {
    "ExecuteTime": {
     "end_time": "2022-02-18T22:02:04.359716Z",
     "start_time": "2022-02-18T22:02:04.346151Z"
    }
   },
   "outputs": [],
   "source": [
    "trace['posterior']['lambda_2'].mean()"
   ]
  },
  {
   "cell_type": "code",
   "execution_count": null,
   "metadata": {
    "ExecuteTime": {
     "end_time": "2022-02-18T22:02:04.375264Z",
     "start_time": "2022-02-18T22:02:04.361672Z"
    }
   },
   "outputs": [],
   "source": [
    "trace['posterior']['lambda_3'].mean()"
   ]
  },
  {
   "cell_type": "code",
   "execution_count": null,
   "metadata": {
    "ExecuteTime": {
     "end_time": "2022-02-18T22:02:04.390332Z",
     "start_time": "2022-02-18T22:02:04.376327Z"
    }
   },
   "outputs": [],
   "source": [
    "trace['posterior']['tau_1'].mean()"
   ]
  },
  {
   "cell_type": "code",
   "execution_count": null,
   "metadata": {
    "ExecuteTime": {
     "end_time": "2022-02-18T22:02:04.406181Z",
     "start_time": "2022-02-18T22:02:04.392219Z"
    }
   },
   "outputs": [],
   "source": [
    "trace['posterior']['tau_2'].mean()"
   ]
  },
  {
   "cell_type": "code",
   "execution_count": null,
   "metadata": {
    "ExecuteTime": {
     "end_time": "2022-02-18T22:02:04.653820Z",
     "start_time": "2022-02-18T22:02:04.407180Z"
    }
   },
   "outputs": [],
   "source": [
    "az.plot_dist(trace['posterior']['lambda_1'], trace['posterior']['lambda_2'])"
   ]
  },
  {
   "cell_type": "code",
   "execution_count": null,
   "metadata": {
    "ExecuteTime": {
     "end_time": "2022-02-18T22:02:04.949569Z",
     "start_time": "2022-02-18T22:02:04.655772Z"
    }
   },
   "outputs": [],
   "source": [
    "az.plot_dist(trace['posterior']['lambda_2'], trace['posterior']['lambda_3'])"
   ]
  },
  {
   "cell_type": "code",
   "execution_count": null,
   "metadata": {
    "ExecuteTime": {
     "end_time": "2022-02-18T22:02:06.361017Z",
     "start_time": "2022-02-18T22:02:04.951566Z"
    }
   },
   "outputs": [],
   "source": [
    "az.plot_posterior(trace)"
   ]
  },
  {
   "cell_type": "code",
   "execution_count": null,
   "metadata": {
    "ExecuteTime": {
     "end_time": "2022-02-18T22:02:06.629019Z",
     "start_time": "2022-02-18T22:02:06.362936Z"
    }
   },
   "outputs": [],
   "source": [
    "# Generación data_1\n",
    "import numpy as np\n",
    "\n",
    "np.random.seed(33)#99)\n",
    "\n",
    "data_1a = np.random.poisson(40, 130)\n",
    "data_1b = np.random.poisson(44, 70)\n",
    "\n",
    "data_1 = np.concatenate([data_1a, data_1b])\n",
    "\n",
    "print(data_1)\n",
    "\n",
    "sns.scatterplot(data=data_1)"
   ]
  },
  {
   "cell_type": "code",
   "execution_count": null,
   "metadata": {
    "ExecuteTime": {
     "end_time": "2022-02-18T22:02:06.813543Z",
     "start_time": "2022-02-18T22:02:06.630968Z"
    }
   },
   "outputs": [],
   "source": [
    "# Generación data_2\n",
    "import numpy as np\n",
    "\n",
    "np.random.seed(999)\n",
    "\n",
    "data_2a = np.random.poisson(40, 65)\n",
    "data_2b = np.random.poisson(46, 130)\n",
    "data_2c = np.random.poisson(40, 65)\n",
    "\n",
    "data_2 = np.concatenate([data_2a, data_2b, data_2c])\n",
    "\n",
    "sns.scatterplot(data=data_2)"
   ]
  },
  {
   "cell_type": "code",
   "execution_count": null,
   "metadata": {
    "ExecuteTime": {
     "end_time": "2022-02-18T22:02:07.065500Z",
     "start_time": "2022-02-18T22:02:06.815538Z"
    }
   },
   "outputs": [],
   "source": [
    "import pandas as pd\n",
    "s = pd.Series(data_2)\n",
    "sns.scatterplot(data=data_2)\n",
    "\n",
    "sns.lineplot(data=s.rolling(15).mean(), color='red')"
   ]
  },
  {
   "cell_type": "code",
   "execution_count": null,
   "metadata": {
    "ExecuteTime": {
     "end_time": "2022-02-18T22:02:07.081615Z",
     "start_time": "2022-02-18T22:02:07.067494Z"
    }
   },
   "outputs": [],
   "source": [
    "data_2"
   ]
  },
  {
   "cell_type": "code",
   "execution_count": null,
   "metadata": {
    "ExecuteTime": {
     "end_time": "2022-02-18T22:02:07.516458Z",
     "start_time": "2022-02-18T22:02:07.083080Z"
    }
   },
   "outputs": [],
   "source": [
    "# forma de una distribución exponencial inicializada a 1/media(obs)\n",
    "#datos = [x]\n",
    "\n",
    "sns.histplot(data=np.random.exponential(scale=1/np.mean(data_2), size=10000 ))"
   ]
  },
  {
   "cell_type": "markdown",
   "metadata": {},
   "source": [
    "## Utilizando distribuciones discretas"
   ]
  },
  {
   "cell_type": "code",
   "execution_count": null,
   "metadata": {
    "ExecuteTime": {
     "end_time": "2022-02-18T22:04:29.707680Z",
     "start_time": "2022-02-18T22:02:07.519450Z"
    }
   },
   "outputs": [],
   "source": [
    "data_2 = [46, 31, 30, 39, 42, 46, 37, 44, 50, 45, 36, 30, 36, 48, 41, 37, 36,\n",
    "       32, 47, 52, 47, 38, 47, 44, 44, 35, 50, 41, 45, 39, 42, 49, 41, 36,\n",
    "       47, 38, 47, 42, 44, 43, 47, 55, 48, 49, 34, 42, 33, 42, 43, 39, 55,\n",
    "       44, 40, 43, 37, 33, 41, 40, 52, 36, 45, 37, 38, 38, 33, 69, 37, 40,\n",
    "       37, 57, 44, 33, 52, 41, 48, 45, 46, 53, 56, 47, 47, 42, 47, 54, 35,\n",
    "       43, 50, 35, 52, 42, 41, 47, 51, 36, 38, 62, 59, 41, 43, 53, 38, 39,\n",
    "       43, 42, 48, 49, 39, 43, 51, 53, 44, 46, 35, 33, 55, 32, 48, 59, 43,\n",
    "       49, 60, 45, 39, 30, 51, 45, 43, 41, 46, 43, 42, 42, 46, 66, 50, 48,\n",
    "       47, 42, 42, 46, 42, 32, 44, 49, 53, 44, 43, 40, 48, 51, 40, 35, 34,\n",
    "       58, 46, 52, 49, 45, 52, 38, 31, 40, 46, 46, 49, 52, 43, 52, 39, 43,\n",
    "       45, 47, 44, 42, 57, 38, 49, 45, 47, 46, 52, 43, 51, 43, 41, 50, 47,\n",
    "       52, 41, 40, 37, 38, 58, 45, 46, 40, 34, 41, 33, 43, 37, 37, 35, 41,\n",
    "       42, 44, 37, 43, 40, 43, 41, 37, 25, 33, 23, 40, 39, 36, 40, 26, 32,\n",
    "       35, 38, 30, 39, 41, 39, 40, 38, 48, 43, 47, 39, 39, 53, 48, 40, 43,\n",
    "       36, 42, 41, 31, 40, 48, 45, 39, 47, 37, 36, 38, 34, 38, 32, 44, 44,\n",
    "       42, 37, 33, 35, 30]\n",
    "\n",
    "import pymc3 as pm\n",
    "import numpy as np\n",
    "\n",
    "# Vamos a intentar encontrar el punto de corte suponiendo que los modelos responden a una distribución exponencial.\n",
    "\n",
    "observaciones = len(data_2)\n",
    "\n",
    "# Inicializamos un modelo de PyMC3\n",
    "with pm.Model() as model:\n",
    "    \n",
    "    # Vamos a decirle a PyMC3 que creemos que existen dos distribuciones en los datos\n",
    "    # como no sabemos nada de esas distribuciones utilizamos como base una distribución\n",
    "    # exponencial.\n",
    "    \n",
    "    # PyMC3 exige que le demos un valor inicial a las distribuciones, como tampoco sabemos \n",
    "    # qué valor darle a esas exponenciales, utilizamos 1 / media como valor inicial.\n",
    "    \n",
    "    # Valor inicial de las distribuciones\n",
    "    alpha = 1.0/np.mean(data_2)\n",
    "    \n",
    "    # Le decimos que va a haber dos distribucionesb\n",
    "    # estas distribuciones se almacenan en parámetros \"lambda\"\n",
    "    # en inferencia bayesiana es habitual llamar \"lambda\" a los conocidos como \n",
    "    # hiperparámetros\n",
    "    \n",
    "    lambda_1 = pm.DiscreteUniform(\"lambda_1\", np.min(data_2), np.max(data_2))\n",
    "    lambda_2 = pm.DiscreteUniform(\"lambda_2\", np.min(data_2), np.max(data_2))\n",
    "    lambda_3 = pm.DiscreteUniform(\"lambda_3\", np.min(data_2), np.max(data_2))\n",
    "    \n",
    "    # Llamamos tau al parámetro que separa los valores, al igual que antes,\n",
    "    # no hacemos ninguna suposición sobre qué valor puede tomar tau,\n",
    "    # por lo tanto incializamos la distibución entre 0 y el número de observaciones menos 1.\n",
    "    \n",
    "    # Si disponemos de algo más de información, podemos acotar este rango de valores \n",
    "    # para agilizar el proceso\n",
    "    tau_1 = pm.DiscreteUniform(\"tau_1\", lower=0, upper= int(observaciones/2) - 1)\n",
    "    tau_2 = pm.DiscreteUniform(\"tau_2\", lower=int(observaciones/2)-1, upper= observaciones - 1)\n",
    "    \n",
    "    # la función switch le dice a PyMc3 que existe un punto de corte y que lambda_1 y lambda_2\n",
    "    # estarán a uno u otro lado del valor de corte\n",
    "    # lambda_ es solo una variable \"temporal\" para almacenar estos valores\n",
    "    idx_1 = np.arange(observaciones) # Index\n",
    "    idx_2 = np.arange(observaciones) # Index\n",
    "    \n",
    "    lambda_ = pm.math.switch(tau_1 > idx_1, lambda_1, lambda_2)\n",
    "    lambda_2 = pm.math.switch(tau_2 > idx_2, lambda_2, lambda_3)\n",
    "    \n",
    "    # Le decimos a PyMC que existirá una distribución de poisson \n",
    "    # estas son las observaciones, el P(B) del teorema de Bayes\n",
    "    observation_1 = pm.Poisson(\"obs_1\", lambda_, observed=data_2)\n",
    "    observation_2 = pm.Poisson(\"obs_2\", lambda_2, observed=data_2)\n",
    "\n",
    "    # Por último le pedimos que inicie el proceso de análisis.\n",
    "    \n",
    "    # El método metropolis recoge todos los datos que hemos ido generando hasa ahora\n",
    "    # y aplica un algoritmo MCMC (Markov-Chain Monte Carlo) para inferir los parámetros\n",
    "    # de la distribución subyacente en los datos\n",
    "    step = pm.Metropolis()\n",
    "    \n",
    "    # Finalmente, le pedimos a PyMC3 que realice el proceso de inferencia.\n",
    "    # Todos los datos que fuimos añadiendo al modelo están listos para utilizarse\n",
    "    # y solo queda esperar (15 minutos)\n",
    "    trace = pm.sample(25000, tune=5000,step=step, return_inferencedata=True)\n"
   ]
  },
  {
   "cell_type": "code",
   "execution_count": null,
   "metadata": {
    "ExecuteTime": {
     "end_time": "2022-02-18T22:04:31.154041Z",
     "start_time": "2022-02-18T22:04:29.710075Z"
    }
   },
   "outputs": [],
   "source": [
    "az.plot_posterior(trace)"
   ]
  },
  {
   "cell_type": "code",
   "execution_count": null,
   "metadata": {
    "ExecuteTime": {
     "end_time": "2022-02-18T22:06:40.707261Z",
     "start_time": "2022-02-18T22:04:31.156035Z"
    }
   },
   "outputs": [],
   "source": [
    "data_2 = [46, 31, 30, 39, 42, 46, 37, 44, 50, 45, 36, 30, 36, 48, 41, 37, 36,\n",
    "       32, 47, 52, 47, 38, 47, 44, 44, 35, 50, 41, 45, 39, 42, 49, 41, 36,\n",
    "       47, 38, 47, 42, 44, 43, 47, 55, 48, 49, 34, 42, 33, 42, 43, 39, 55,\n",
    "       44, 40, 43, 37, 33, 41, 40, 52, 36, 45, 37, 38, 38, 33, 69, 37, 40,\n",
    "       37, 57, 44, 33, 52, 41, 48, 45, 46, 53, 56, 47, 47, 42, 47, 54, 35,\n",
    "       43, 50, 35, 52, 42, 41, 47, 51, 36, 38, 62, 59, 41, 43, 53, 38, 39,\n",
    "       43, 42, 48, 49, 39, 43, 51, 53, 44, 46, 35, 33, 55, 32, 48, 59, 43,\n",
    "       49, 60, 45, 39, 30, 51, 45, 43, 41, 46, 43, 42, 42, 46, 66, 50, 48,\n",
    "       47, 42, 42, 46, 42, 32, 44, 49, 53, 44, 43, 40, 48, 51, 40, 35, 34,\n",
    "       58, 46, 52, 49, 45, 52, 38, 31, 40, 46, 46, 49, 52, 43, 52, 39, 43,\n",
    "       45, 47, 44, 42, 57, 38, 49, 45, 47, 46, 52, 43, 51, 43, 41, 50, 47,\n",
    "       52, 41, 40, 37, 38, 58, 45, 46, 40, 34, 41, 33, 43, 37, 37, 35, 41,\n",
    "       42, 44, 37, 43, 40, 43, 41, 37, 25, 33, 23, 40, 39, 36, 40, 26, 32,\n",
    "       35, 38, 30, 39, 41, 39, 40, 38, 48, 43, 47, 39, 39, 53, 48, 40, 43,\n",
    "       36, 42, 41, 31, 40, 48, 45, 39, 47, 37, 36, 38, 34, 38, 32, 44, 44,\n",
    "       42, 37, 33, 35, 30]\n",
    "\n",
    "import pymc3 as pm\n",
    "import numpy as np\n",
    "\n",
    "# Vamos a intentar encontrar el punto de corte suponiendo que los modelos responden a una distribución exponencial.\n",
    "\n",
    "observaciones = len(data_2)\n",
    "\n",
    "# Inicializamos un modelo de PyMC3\n",
    "with pm.Model() as model:\n",
    "    \n",
    "    # Vamos a decirle a PyMC3 que creemos que existen dos distribuciones en los datos\n",
    "    # como no sabemos nada de esas distribuciones utilizamos como base una distribución\n",
    "    # exponencial.\n",
    "    \n",
    "    # PyMC3 exige que le demos un valor inicial a las distribuciones, como tampoco sabemos \n",
    "    # qué valor darle a esas exponenciales, utilizamos 1 / media como valor inicial.\n",
    "    \n",
    "    # Valor inicial de las distribuciones\n",
    "    alpha = 1.0/np.mean(data_2)\n",
    "    \n",
    "    # Le decimos que va a haber dos distribuciones\n",
    "    # estas distribuciones se almacenan en parámetros \"lambda\"\n",
    "    # en inferencia bayesiana es habitual llamar \"lambda\" a los conocidos como \n",
    "    # hiperparámetros\n",
    "    \n",
    "    lambda_1 = pm.Poisson(\"lambda_1\", int(np.mean(data_2)))\n",
    "    lambda_2 = pm.Poisson(\"lambda_2\", int(np.mean(data_2)))\n",
    "    lambda_3 = pm.Poisson(\"lambda_3\", int(np.mean(data_2)))\n",
    "    \n",
    "    # Llamamos tau al parámetro que separa los valores, al igual que antes,\n",
    "    # no hacemos ninguna suposición sobre qué valor puede tomar tau,\n",
    "    # por lo tanto incializamos la distibución entre 0 y el número de observaciones menos 1.\n",
    "    \n",
    "    # Si disponemos de algo más de información, podemos acotar este rango de valores \n",
    "    # para agilizar el proceso\n",
    "    tau_1 = pm.DiscreteUniform(\"tau_1\", lower=0, upper= int(observaciones/2) - 1)\n",
    "    tau_2 = pm.DiscreteUniform(\"tau_2\", lower=int(observaciones/2)-1, upper= observaciones - 1)\n",
    "    \n",
    "    # la función switch le dice a PyMc3 que existe un punto de corte y que lambda_1 y lambda_2\n",
    "    # estarán a uno u otro lado del valor de corte\n",
    "    # lambda_ es solo una variable \"temporal\" para almacenar estos valores\n",
    "    idx_1 = np.arange(observaciones) # Index\n",
    "    idx_2 = np.arange(observaciones) # Index\n",
    "    \n",
    "    lambda_ = pm.math.switch(tau_1 > idx_1, lambda_1, lambda_2)\n",
    "    lambda_2 = pm.math.switch(tau_2 > idx_2, lambda_2, lambda_3)\n",
    "    \n",
    "    # Le decimos a PyMC que existirá una distribución de poisson \n",
    "    # estas son las observaciones, el P(B) del teorema de Bayes\n",
    "    observation_1 = pm.Poisson(\"obs_1\", lambda_, observed=data_2)\n",
    "    observation_2 = pm.Poisson(\"obs_2\", lambda_2, observed=data_2)\n",
    "\n",
    "    # Por último le pedimos que inicie el proceso de análisis.\n",
    "    \n",
    "    # El método metropolis recoge todos los datos que hemos ido generando hasa ahora\n",
    "    # y aplica un algoritmo MCMC (Markov-Chain Monte Carlo) para inferir los parámetros\n",
    "    # de la distribución subyacente en los datos\n",
    "    step = pm.Metropolis()\n",
    "    \n",
    "    # Finalmente, le pedimos a PyMC3 que realice el proceso de inferencia.\n",
    "    # Todos los datos que fuimos añadiendo al modelo están listos para utilizarse\n",
    "    # y solo queda esperar (15 minutos)\n",
    "    trace = pm.sample(25000, tune=5000,step=step, return_inferencedata=True)\n"
   ]
  },
  {
   "cell_type": "code",
   "execution_count": null,
   "metadata": {
    "ExecuteTime": {
     "end_time": "2022-02-18T22:06:41.830777Z",
     "start_time": "2022-02-18T22:06:40.712269Z"
    }
   },
   "outputs": [],
   "source": [
    "az.plot_posterior(trace)"
   ]
  },
  {
   "cell_type": "markdown",
   "metadata": {},
   "source": [
    "## Para qué sirve la inferencia Bayesiana\n",
    "\n",
    "La inferencia Bayesiana nos sirve para probar hipótesis de una forma más intuitiva que la estadística tradicional.\n",
    "\n",
    "Nos permite configurar un modelo en el que hacemos muy pocas suposiciones y, con esa información, conseguir extraer información de nuestros datos que difícilmente podríamos encontrar por otro modo.\n",
    "\n",
    "Por supuesto, si tenemos algo de información previa, podemos utilizarla para acelerar el proceso, necesitando menos iteraciones en el proceso de \"sample\".\n",
    "\n",
    "Además, la inferencia Bayesiana tiene como ventaja (aunque al principio pueda no parecerlo) que siempre nos devuelve una distribución como resultado, esto nos permite obtener valores de esa distibución y comprobar cómo variarían nuestros resultados ante pequeñas variaciones de los parámetros estimados y, como consecuencia, la credibilidad que otorgamos al resultado."
   ]
  },
  {
   "cell_type": "code",
   "execution_count": null,
   "metadata": {
    "ExecuteTime": {
     "end_time": "2022-02-18T22:07:52.912523Z",
     "start_time": "2022-02-18T22:06:41.832788Z"
    }
   },
   "outputs": [],
   "source": [
    "with model:\n",
    "    ppc = pm.sample_posterior_predictive(trace, samples=1000, var_names=['lambda_1'])"
   ]
  },
  {
   "cell_type": "code",
   "execution_count": null,
   "metadata": {
    "ExecuteTime": {
     "end_time": "2022-02-18T22:07:53.254349Z",
     "start_time": "2022-02-18T22:07:52.914144Z"
    }
   },
   "outputs": [],
   "source": [
    "sns.histplot(ppc)"
   ]
  },
  {
   "cell_type": "markdown",
   "metadata": {},
   "source": [
    "## Aproximación a la inferencia Bayesiana\n",
    "\n",
    "Cuál es el proceso que debemos seguir a la hora de enfrentar un problema de inferencia bayesiana.\n",
    "\n",
    "### Obtener datos\n",
    "\n",
    "Nuestro objeto es conocer la probabilidad de que pase algo sabiendo que pasó otra cosa:\n",
    "\n",
    "$$ P(A|B) = \\frac{P(B|A) * P(A)}{P(B)} $$\n",
    "\n",
    "Para ello lo primero que necesitamos es conocer nuestro P(A), esto es, nuestras observaciones.\n",
    "\n",
    "Aunque el teorema de Bayes pida que P(A) sea un número, librerías como **PyMC3** nos permiten pasar un conjunto de observaciones reales o incluso una distribución como origen.\n",
    "\n",
    "### Determinar la función de similitud\n",
    "\n",
    "Tenemos unos datos de entrada y ahora queremos determinar cómo será la salida que esperamos, el primer paso es determinar la forma que esperamos que tenga nuestra salida ¿se trata de un proceso discreto o continuo? ¿qué forma esperamos que tenga la distribución?\n",
    "\n",
    "Una vez tenemos realizada nuestra suposición sobre la forma de la distribución, necesitamos una forma de asignarle parámetros a esa función, podemos utilizar un valor fijo a esas distribuciones pero, lo normal, será utilizar otra distribución que nos genere esos parámetros.\n",
    "\n",
    "La asignación de un valor fijo solo tiene sentido si estamos comprobando una hipótesis muy específica.\n",
    "\n",
    "A su vez, la distribución que utilicemos para generar los parámetros requiere que le pasemos parámetros de configuración, en este punto, podemos seguir asignando distribuciones o cortar el proceso asignando un valor fijo.\n",
    "\n",
    "En nuestro caso estas son las distribuciones que creemos que subyacen en los datos.\n",
    "\n",
    "Además, en este punto añadiríamos la información que podamos considerar de interés como puede ser que hay un punto de cambio de tendencia.\n",
    "\n",
    "### Cálculo del modelo\n",
    "\n",
    "Esta es la parte que, más arriba, está como ```pm.Metropolis```, esta parte lo que es aplicar una simulación de MonteCarlo con Cadena de Markov (MCMC) para estimar los parámetros que más aproximan nuestro experimento al resultado esperado.\n",
    "\n",
    "Existen diferentes formas de cálculo del modelo.\n",
    "\n",
    "El proceso que sigue este método para encontrar la solución puede \"verse\" gráficamente en esta imagen obtenida de la Wikipedia.\n",
    "\n",
    "![Proceso Metrópolis](https://upload.wikimedia.org/wikipedia/commons/a/a6/3dRosenbrock.png)\n",
    "\n",
    "En ella los puntos representan los valores probados y las líneas la secuencia de valores que se han comprobado.\n",
    "\n",
    "La \"luz\" arriba a la izquierda representa el valor real.\n"
   ]
  },
  {
   "cell_type": "code",
   "execution_count": null,
   "metadata": {
    "ExecuteTime": {
     "end_time": "2022-02-18T22:07:53.500026Z",
     "start_time": "2022-02-18T22:07:53.257163Z"
    }
   },
   "outputs": [],
   "source": [
    "sns.scatterplot(data=ppc)"
   ]
  },
  {
   "cell_type": "markdown",
   "metadata": {},
   "source": [
    "# Descubriendo los parámetros de una función\n",
    "\n",
    "Aunque el caso mostrado más arriba de punto de corte tiene interés, es más frecuente que nos interese encontrar algo más mundano como puede ser el valor de una distribución de Poisson más o menos estable.\n",
    "\n",
    "\n",
    "Las siguentes son las ventas reales de un producto a lo largo de un periodo de tiempo (ya se ha realizado un proceso de eliminación de valores extremos que recortó los datos al intervalo 10-45):\n"
   ]
  },
  {
   "cell_type": "code",
   "execution_count": null,
   "metadata": {
    "ExecuteTime": {
     "end_time": "2022-02-18T22:07:54.028821Z",
     "start_time": "2022-02-18T22:07:53.501806Z"
    }
   },
   "outputs": [],
   "source": [
    "vta = [16, 39, 36, 30, 16, 29, 28, 21, 32, 20, 28, 41, 19, 21, 16, 37, 33,\n",
    "       37, 41, 44, 25, 43, 16, 35, 41, 27, 11, 22, 38, 28, 21, 24, 30, 18,\n",
    "       31, 20, 26, 42, 27, 44, 30, 39, 20, 11, 41, 33, 25, 43, 44, 20, 36,\n",
    "       31, 30, 40, 38, 25, 30, 21, 26, 27, 36, 43, 18, 15, 38, 37, 41, 36,\n",
    "       28, 35, 24, 20, 43, 32, 29, 16, 38, 37, 14, 29, 44, 31, 29, 41, 38,\n",
    "       35, 25, 21, 44, 37, 38, 30, 24, 38, 34, 33, 42, 35, 27, 22, 34, 14,\n",
    "       28, 41, 37, 16, 41, 42, 24, 11, 43, 36, 36, 31, 39, 36, 33, 28, 23,\n",
    "       38, 25, 39, 20, 38, 13, 13, 39, 38, 16, 15, 40, 24, 31, 16, 36, 38,\n",
    "       42, 42, 30, 38, 27, 35, 32, 29, 30, 39, 20, 21, 40, 38, 21, 20, 13,\n",
    "       22, 40, 33, 37, 43, 23, 20, 12, 22, 36, 29, 42, 43, 33, 42, 44, 40,\n",
    "       39, 31, 43, 44, 28, 26, 14, 34, 20, 14, 33, 15, 44, 28, 20, 18, 41,\n",
    "       21, 39, 34, 28, 33, 21, 21, 23, 22, 31, 24, 40, 34, 29, 22, 40, 37,\n",
    "       23, 38, 41, 42, 22, 15, 31, 27, 27, 44, 16, 34, 12, 33, 14, 32, 21,\n",
    "       19, 44, 44, 14, 19, 29, 38, 24, 26, 25, 41, 41, 42, 23, 22, 34, 44,\n",
    "       40, 32, 35, 19, 38, 29, 30, 28, 26, 44, 34, 29, 12, 43, 30, 36, 27,\n",
    "       25, 22, 38, 21, 38, 24, 39, 35, 40, 38, 39, 21, 38, 14, 38, 33, 34,\n",
    "       40, 14, 22, 31, 33, 12, 28, 44, 29, 44, 21, 18, 44, 20, 42, 12, 35,\n",
    "       31, 34, 33, 35, 26, 43, 32, 26, 30, 18, 22, 34, 33, 28, 42, 26, 40,\n",
    "       40, 18, 35, 16, 13, 44, 40, 33, 34, 37, 25, 18, 30, 41, 31, 30, 33,\n",
    "       12, 40, 37, 38]\n",
    "\n",
    "sns.histplot(data=vta)"
   ]
  },
  {
   "cell_type": "code",
   "execution_count": null,
   "metadata": {
    "ExecuteTime": {
     "end_time": "2022-02-18T22:07:54.262846Z",
     "start_time": "2022-02-18T22:07:54.031898Z"
    }
   },
   "outputs": [],
   "source": [
    "s = pd.Series(vta)\n",
    "sns.scatterplot(data=vta)\n",
    "sns.lineplot(data=s.rolling(10).mean(), color='red')"
   ]
  },
  {
   "cell_type": "markdown",
   "metadata": {},
   "source": [
    "Vemos que la media de 10 periodos está bastante acotada entre 25 y 35 unidades pero las unidades en sí mismas varían desde 10 hasta 45."
   ]
  },
  {
   "cell_type": "code",
   "execution_count": null,
   "metadata": {
    "ExecuteTime": {
     "end_time": "2022-02-18T22:07:54.512278Z",
     "start_time": "2022-02-18T22:07:54.265481Z"
    }
   },
   "outputs": [],
   "source": [
    "\n",
    "import matplotlib.pyplot as plt\n",
    "import matplotlib.patches as patches\n",
    "\n",
    "fig, ax = plt.subplots()\n",
    "\n",
    "s = pd.Series(vta)\n",
    "\n",
    "zona = patches.Rectangle((-50,25), 400,10, facecolor='lightgrey', alpha=.8)\n",
    "sns.scatterplot(data=vta)\n",
    "sns.lineplot(data=s.rolling(10).mean(), color='red')\n",
    "\n",
    "ax.add_patch(zona)"
   ]
  },
  {
   "cell_type": "markdown",
   "metadata": {},
   "source": [
    "Podemos crear un modelo que nos diga qué valores pueden estar detrás de esta distribución.\n",
    "\n",
    "1. Decidir la distribución que puede estar detrás.\n",
    "2. Plantear valores posibles\n",
    "3. Ejecutar el modelo\n"
   ]
  },
  {
   "cell_type": "markdown",
   "metadata": {},
   "source": [
    "### Qué distribución podríamos tener detrás\n",
    "\n",
    "### Qué valores puede tomar\n",
    "\n",
    "\n",
    "\n"
   ]
  },
  {
   "cell_type": "code",
   "execution_count": null,
   "metadata": {
    "ExecuteTime": {
     "end_time": "2022-02-18T22:08:37.228360Z",
     "start_time": "2022-02-18T22:07:54.514277Z"
    }
   },
   "outputs": [],
   "source": [
    "with pm.Model() as model:\n",
    "    p = pm.Uniform('p', lower=min(vta), upper=max(vta))\n",
    "    \n",
    "    obs = pm.Poisson('obs', p, observed=vta)\n",
    "    \n",
    "    step = pm.Metropolis()\n",
    "    trace = pm.sample(8000, step=step, tune=5000, return_inferencedata=True)\n",
    "    "
   ]
  },
  {
   "cell_type": "code",
   "execution_count": null,
   "metadata": {
    "ExecuteTime": {
     "end_time": "2022-02-18T22:08:37.429968Z",
     "start_time": "2022-02-18T22:08:37.230355Z"
    }
   },
   "outputs": [],
   "source": [
    "az.plot_posterior(trace)"
   ]
  },
  {
   "cell_type": "markdown",
   "metadata": {},
   "source": [
    "# Evaluación test A/B con estadística Bayesiana\n",
    "\n",
    "En las sesiones de la semana pasada se han visto diferentes métodos para comprobar si un resultado estadístico es correcto o no.\n",
    "\n",
    "La estadística bayesiana tiene su propia forma de comprobar si A es mejor que B.\n",
    "\n",
    "\n",
    "Vamos a suponer que la siguiente es una lista de clientes que entraron en nuestra tienda, les ponemos un 1 si han comprado un producto que nos interesa estudiar y un 0 si no lo han comprado.\n",
    "\n",
    "Nos fijamos en los datos de los últimos 1000 clientes y decidimos hacer una promoción para tratar de incrementar las ventas, dejamos la promoción activa durante una semana y, cuando terminamos, tenemos 732 observaciones para la venta en oferta, los datos son los siguientes:\n"
   ]
  },
  {
   "cell_type": "code",
   "execution_count": null,
   "metadata": {
    "ExecuteTime": {
     "end_time": "2022-02-18T22:08:37.508264Z",
     "start_time": "2022-02-18T22:08:37.432520Z"
    }
   },
   "outputs": [],
   "source": [
    "muestra_A = [0, 0, 0, 0, 1, 0, 0, 1, 0, 0, 1, 0, 0, 0, 0, 1, 1, 0, 0, 0, 1, 0,\n",
    "       0, 0, 0, 0, 1, 0, 0, 1, 1, 1, 0, 0, 0, 0, 0, 0, 0, 1, 0, 0, 1, 0,\n",
    "       0, 1, 1, 0, 0, 0, 0, 0, 1, 0, 0, 0, 0, 0, 0, 0, 1, 0, 0, 0, 0, 0,\n",
    "       1, 0, 1, 0, 1, 1, 1, 1, 0, 0, 0, 1, 0, 0, 1, 0, 0, 1, 0, 0, 0, 0,\n",
    "       1, 0, 1, 0, 0, 0, 0, 1, 1, 0, 0, 1, 0, 0, 0, 0, 1, 1, 0, 0, 1, 0,\n",
    "       1, 0, 0, 0, 1, 1, 1, 1, 0, 0, 0, 1, 1, 0, 1, 1, 1, 0, 0, 0, 1, 0,\n",
    "       0, 1, 0, 0, 0, 1, 0, 0, 0, 0, 0, 1, 0, 0, 0, 0, 0, 0, 1, 0, 1, 0,\n",
    "       1, 0, 1, 1, 0, 0, 0, 0, 1, 1, 0, 1, 0, 0, 1, 0, 0, 0, 0, 0, 0, 0,\n",
    "       1, 0, 0, 0, 1, 0, 0, 0, 0, 0, 0, 0, 0, 0, 0, 1, 0, 0, 0, 1, 1, 0,\n",
    "       0, 1, 1, 0, 0, 0, 0, 0, 0, 1, 0, 0, 1, 0, 1, 0, 0, 0, 0, 0, 0, 0,\n",
    "       1, 0, 0, 1, 0, 0, 1, 0, 1, 0, 0, 0, 0, 0, 1, 0, 1, 0, 0, 1, 0, 0,\n",
    "       0, 1, 0, 0, 0, 1, 1, 0, 0, 1, 1, 0, 0, 0, 1, 1, 1, 1, 0, 0, 0, 1,\n",
    "       0, 1, 0, 0, 0, 0, 0, 1, 0, 1, 1, 0, 0, 1, 1, 0, 1, 0, 0, 0, 0, 0,\n",
    "       0, 0, 0, 0, 1, 0, 0, 0, 1, 0, 0, 0, 0, 0, 0, 0, 0, 1, 0, 0, 0, 0,\n",
    "       0, 0, 1, 1, 1, 1, 1, 1, 0, 1, 1, 1, 0, 0, 0, 0, 0, 1, 0, 1, 0, 0,\n",
    "       0, 1, 1, 0, 0, 0, 0, 0, 0, 0, 0, 0, 0, 0, 1, 0, 1, 0, 0, 1, 1, 1,\n",
    "       1, 0, 0, 1, 0, 1, 0, 0, 0, 0, 0, 0, 0, 0, 1, 1, 0, 0, 0, 0, 0, 1,\n",
    "       1, 1, 1, 1, 0, 0, 1, 0, 0, 1, 1, 0, 1, 1, 1, 0, 1, 0, 0, 0, 1, 1,\n",
    "       0, 1, 0, 0, 1, 0, 0, 1, 0, 1, 0, 1, 1, 0, 1, 0, 0, 0, 0, 1, 0, 0,\n",
    "       1, 0, 1, 0, 0, 1, 0, 1, 0, 0, 1, 0, 0, 0, 1, 1, 1, 0, 0, 1, 1, 0,\n",
    "       0, 0, 0, 1, 0, 0, 1, 0, 0, 0, 1, 1, 1, 0, 0, 0, 0, 0, 0, 0, 1, 1,\n",
    "       0, 0, 0, 1, 0, 0, 0, 0, 0, 1, 0, 1, 1, 0, 1, 0, 0, 1, 0, 1, 0, 0,\n",
    "       1, 1, 0, 0, 0, 0, 0, 1, 1, 0, 0, 1, 0, 1, 0, 1, 0, 0, 1, 0, 0, 1,\n",
    "       0, 0, 0, 0, 0, 0, 0, 1, 0, 0, 0, 0, 0, 1, 0, 0, 0, 0, 0, 0, 1, 1,\n",
    "       0, 1, 1, 0, 0, 1, 0, 0, 0, 0, 1, 0, 0, 0, 0, 0, 0, 0, 0, 0, 0, 0,\n",
    "       0, 0, 0, 0, 0, 0, 0, 0, 0, 0, 1, 0, 0, 0, 0, 0, 1, 0, 1, 0, 1, 0,\n",
    "       0, 1, 0, 0, 0, 0, 0, 1, 0, 1, 0, 0, 0, 0, 0, 1, 1, 1, 1, 1, 1, 1,\n",
    "       0, 0, 0, 0, 0, 1, 0, 0, 0, 1, 0, 1, 0, 1, 1, 1, 0, 0, 0, 0, 0, 1,\n",
    "       0, 0, 0, 0, 0, 0, 0, 0, 1, 0, 0, 0, 0, 1, 1, 1, 0, 1, 0, 1, 1, 0,\n",
    "       1, 0, 0, 0, 0, 1, 1, 0, 0, 1, 1, 0, 1, 1, 0, 0, 0, 1, 0, 0, 0, 0,\n",
    "       0, 1, 0, 0, 1, 0, 1, 1, 0, 1, 0, 1, 0, 1, 0, 0, 0, 1, 0, 0, 0, 0,\n",
    "       1, 0, 0, 0, 0, 0, 1, 1, 0, 0, 0, 0, 0, 1, 1, 0, 0, 1, 0, 0, 0, 0,\n",
    "       0, 0, 0, 1, 0, 0, 0, 1, 1, 0, 0, 0, 0, 0, 1, 1, 0, 0, 0, 0, 0, 0,\n",
    "       1, 0, 0, 0, 1, 0, 1, 0, 0, 0, 0, 0, 1, 0, 0, 0, 1, 1, 0, 0, 0, 1,\n",
    "       0, 0, 0, 1, 0, 1, 0, 1, 0, 0, 0, 1, 0, 0, 0, 1, 0, 1, 0, 1, 0, 1,\n",
    "       0, 0, 0, 1, 0, 0, 0, 0, 1, 0, 0, 0, 0, 0, 1, 1, 1, 0, 1, 0, 1, 0,\n",
    "       1, 0, 1, 1, 0, 1, 1, 0, 0, 0, 0, 0, 0, 0, 0, 0, 0, 0, 1, 0, 0, 0,\n",
    "       0, 0, 0, 0, 0, 0, 1, 1, 1, 1, 1, 1, 0, 0, 0, 0, 0, 1, 0, 0, 0, 0,\n",
    "       0, 1, 0, 0, 0, 0, 1, 0, 1, 0, 0, 1, 0, 0, 0, 0, 1, 1, 0, 0, 0, 0,\n",
    "       0, 0, 0, 0, 0, 1, 0, 0, 0, 1, 0, 0, 1, 0, 0, 1, 0, 1, 0, 0, 0, 0,\n",
    "       1, 1, 0, 0, 0, 0, 1, 0, 1, 0, 0, 0, 0, 1, 0, 1, 0, 1, 0, 1, 0, 0,\n",
    "       1, 0, 1, 1, 0, 0, 1, 1, 1, 0, 1, 1, 1, 0, 1, 1, 1, 1, 1, 1, 0, 0,\n",
    "       0, 0, 0, 1, 0, 1, 0, 1, 1, 0, 0, 0, 1, 0, 0, 0, 0, 1, 0, 0, 0, 1,\n",
    "       0, 1, 0, 0, 0, 0, 0, 1, 0, 1, 1, 0, 0, 1, 0, 0, 0, 0, 1, 1, 1, 0,\n",
    "       0, 1, 0, 0, 0, 0, 0, 0, 0, 0, 0, 0, 0, 0, 0, 1, 0, 0, 0, 0, 1, 0,\n",
    "       1, 0, 1, 0, 0, 1, 0, 0, 1, 0]\n",
    "\n",
    "muestra_B = [0, 1, 0, 1, 0, 0, 0, 0, 0, 0, 0, 0, 1, 0, 0, 0, 1, 0, 1, 1, 0, 0,\n",
    "       0, 1, 0, 1, 0, 0, 0, 1, 0, 1, 0, 0, 1, 0, 0, 1, 1, 0, 0, 0, 0, 0,\n",
    "       0, 0, 0, 1, 1, 0, 1, 0, 0, 0, 1, 0, 1, 0, 0, 0, 0, 0, 0, 0, 0, 0,\n",
    "       1, 0, 1, 1, 0, 0, 0, 1, 1, 1, 0, 0, 1, 0, 0, 0, 0, 0, 0, 0, 0, 1,\n",
    "       0, 0, 1, 1, 0, 0, 0, 1, 0, 0, 0, 0, 1, 1, 1, 0, 0, 0, 0, 1, 0, 1,\n",
    "       0, 0, 0, 0, 0, 0, 0, 0, 1, 1, 0, 0, 0, 0, 0, 1, 1, 1, 1, 0, 0, 0,\n",
    "       1, 0, 0, 0, 1, 1, 0, 0, 0, 0, 1, 0, 0, 0, 1, 0, 0, 1, 1, 0, 1, 1,\n",
    "       1, 1, 0, 0, 0, 0, 0, 0, 1, 1, 0, 1, 1, 0, 0, 0, 0, 0, 0, 0, 0, 0,\n",
    "       1, 0, 0, 0, 1, 1, 0, 0, 1, 1, 0, 0, 0, 1, 1, 0, 0, 0, 1, 1, 0, 0,\n",
    "       1, 0, 1, 0, 1, 0, 0, 0, 1, 1, 0, 0, 1, 0, 1, 1, 1, 1, 0, 0, 0, 1,\n",
    "       0, 0, 0, 1, 0, 1, 1, 0, 1, 0, 1, 0, 1, 0, 0, 1, 1, 0, 0, 0, 1, 0,\n",
    "       1, 1, 0, 1, 1, 0, 0, 0, 1, 1, 0, 1, 1, 0, 0, 1, 0, 0, 0, 0, 0, 0,\n",
    "       0, 1, 1, 1, 0, 1, 0, 1, 0, 0, 0, 1, 1, 0, 1, 1, 1, 1, 1, 0, 0, 0,\n",
    "       1, 0, 0, 0, 0, 0, 1, 1, 1, 1, 0, 0, 0, 0, 0, 0, 1, 0, 0, 0, 1, 1,\n",
    "       0, 1, 1, 0, 0, 1, 0, 0, 0, 0, 1, 1, 0, 0, 0, 1, 0, 0, 0, 0, 0, 1,\n",
    "       0, 0, 1, 0, 0, 0, 0, 0, 0, 0, 0, 0, 0, 0, 0, 0, 1, 0, 0, 1, 0, 0,\n",
    "       1, 0, 0, 0, 0, 0, 0, 1, 0, 1, 1, 0, 0, 0, 0, 1, 1, 1, 1, 0, 1, 0,\n",
    "       0, 0, 0, 1, 0, 0, 0, 0, 0, 0, 0, 0, 0, 0, 0, 0, 1, 0, 0, 1, 1, 1,\n",
    "       0, 0, 0, 0, 0, 0, 0, 0, 0, 0, 1, 1, 0, 0, 0, 0, 0, 0, 0, 1, 0, 1,\n",
    "       1, 1, 0, 1, 1, 1, 0, 0, 0, 1, 1, 0, 0, 1, 0, 1, 1, 0, 1, 0, 1, 1,\n",
    "       0, 1, 1, 0, 0, 0, 0, 0, 0, 0, 0, 0, 0, 0, 0, 0, 0, 1, 0, 0, 1, 0,\n",
    "       0, 1, 0, 0, 0, 0, 1, 1, 1, 0, 0, 0, 0, 0, 0, 1, 0, 0, 0, 1, 0, 0,\n",
    "       0, 0, 1, 0, 1, 0, 0, 0, 0, 0, 0, 0, 1, 0, 0, 1, 1, 0, 0, 0, 0, 0,\n",
    "       1, 1, 0, 0, 0, 0, 0, 0, 0, 0, 0, 0, 1, 1, 1, 0, 0, 0, 1, 0, 1, 0,\n",
    "       0, 0, 1, 0, 0, 1, 1, 1, 0, 1, 0, 1, 1, 0, 1, 0, 0, 1, 0, 0, 0, 0,\n",
    "       0, 0, 1, 1, 0, 0, 1, 1, 0, 1, 1, 0, 1, 1, 1, 0, 0, 1, 0, 0, 0, 0,\n",
    "       0, 1, 0, 0, 0, 1, 0, 0, 0, 0, 0, 0, 0, 1, 0, 1, 1, 0, 0, 0, 1, 1,\n",
    "       0, 1, 0, 0, 0, 0, 0, 1, 0, 0, 0, 1, 0, 1, 1, 1, 1, 1, 0, 0, 1, 0,\n",
    "       1, 1, 1, 0, 0, 1, 1, 0, 0, 0, 0, 0, 1, 1, 0, 1, 0, 1, 0, 1, 1, 1,\n",
    "       1, 1, 1, 0, 0, 1, 1, 1, 0, 0, 0, 0, 1, 0, 1, 0, 0, 0, 1, 0, 0, 0,\n",
    "       1, 0, 0, 1, 0, 1, 0, 0, 0, 0, 0, 0, 0, 0, 0, 1, 1, 1, 0, 0, 1, 0,\n",
    "       1, 1, 1, 0, 0, 0, 0, 0, 0, 0, 1, 0, 0, 1, 0, 1, 1, 0, 0, 1, 0, 1,\n",
    "       0, 1, 0, 0, 1, 1, 0, 1, 1, 1, 1, 0, 0, 1, 0, 1, 0, 0, 1, 1, 0, 0,\n",
    "       0, 0, 0, 0, 0, 0]\n",
    "\n",
    "\n",
    "# Calculamos el % de compra de cada serie:\n",
    "\n",
    "media_A = sum(muestra_A)/ len(muestra_A)\n",
    "media_B = sum(muestra_B)/ len(muestra_B)\n",
    "\n",
    "print(f'porcentaje de compra A: {media_A}')\n",
    "print(f'porcentaje de compra B: {media_B}')"
   ]
  },
  {
   "cell_type": "markdown",
   "metadata": {},
   "source": [
    "Aparentemente la promoción ha funcionado, pero queremos poder demostrarlo.\n",
    "\n"
   ]
  },
  {
   "cell_type": "code",
   "execution_count": null,
   "metadata": {
    "ExecuteTime": {
     "end_time": "2022-02-18T22:09:50.633975Z",
     "start_time": "2022-02-18T22:08:37.511226Z"
    }
   },
   "outputs": [],
   "source": [
    "import pymc3 as pm\n",
    "\n",
    "with pm.Model() as model:\n",
    "    p_A = pm.Uniform('p_A', lower=0, upper=1)\n",
    "    p_B = pm.Uniform('p_B', lower=0, upper=1)\n",
    "    \n",
    "    obs_A = pm.Bernoulli('obs_A', p_A, observed=muestra_A)\n",
    "    obs_B = pm.Bernoulli('obs_B', p_B, observed=muestra_B)\n",
    "    \n",
    "    step = pm.Metropolis()\n",
    "    trace = pm.sample(20000, step=step, return_inferencedata=True)\n",
    "    \n",
    "    "
   ]
  },
  {
   "cell_type": "code",
   "execution_count": null,
   "metadata": {
    "ExecuteTime": {
     "end_time": "2022-02-18T22:09:51.006214Z",
     "start_time": "2022-02-18T22:09:50.636871Z"
    }
   },
   "outputs": [],
   "source": [
    "with model:\n",
    "    az.plot_posterior(trace, figsize=(16,10))"
   ]
  },
  {
   "cell_type": "markdown",
   "metadata": {},
   "source": [
    "Podemos dibujar las distribuciones con Seaborn para verlas mejor:"
   ]
  },
  {
   "cell_type": "code",
   "execution_count": null,
   "metadata": {
    "ExecuteTime": {
     "end_time": "2022-02-18T22:09:51.908903Z",
     "start_time": "2022-02-18T22:09:51.007212Z"
    }
   },
   "outputs": [],
   "source": [
    "import matplotlib\n",
    "matplotlib.rcParams['figure.figsize'] = [16,8]\n",
    "\n",
    "sns.histplot(trace.posterior['p_A'].to_series(), color='orange')\n",
    "sns.histplot(trace.posterior['p_B'].to_series(), color='lightblue')"
   ]
  },
  {
   "cell_type": "markdown",
   "metadata": {},
   "source": [
    "La clave en este punto es que podemos pedirle a PyMC3 que nos calcule el delta entre ambas distribuciones, la diferencia entre lo que está dando una y lo que da la otra para las 20.000 muestras"
   ]
  },
  {
   "cell_type": "code",
   "execution_count": null,
   "metadata": {
    "ExecuteTime": {
     "end_time": "2022-02-18T22:11:06.226818Z",
     "start_time": "2022-02-18T22:09:51.910857Z"
    }
   },
   "outputs": [],
   "source": [
    "import pymc3 as pm\n",
    "\n",
    "with pm.Model() as model:\n",
    "    p_A = pm.Uniform('p_A', lower=0, upper=1)\n",
    "    p_B = pm.Uniform('p_B', lower=0, upper=1)\n",
    "    \n",
    "    obs_A = pm.Bernoulli('obs_A', p_A, observed=muestra_A)\n",
    "    obs_B = pm.Bernoulli('obs_B', p_B, observed=muestra_B)\n",
    "    \n",
    "    delta = pm.Deterministic('delta', p_B - p_A)\n",
    "    \n",
    "    step = pm.Metropolis()\n",
    "    trace = pm.sample(20000, step=step, return_inferencedata=True)\n",
    "    \n",
    "    \n",
    "    "
   ]
  },
  {
   "cell_type": "code",
   "execution_count": null,
   "metadata": {
    "ExecuteTime": {
     "end_time": "2022-02-18T22:11:06.692406Z",
     "start_time": "2022-02-18T22:11:06.229711Z"
    }
   },
   "outputs": [],
   "source": [
    "with model:\n",
    "    az.plot_posterior(trace, figsize=(12,6))"
   ]
  },
  {
   "cell_type": "code",
   "execution_count": null,
   "metadata": {
    "ExecuteTime": {
     "end_time": "2022-02-18T22:11:07.536212Z",
     "start_time": "2022-02-18T22:11:06.694437Z"
    }
   },
   "outputs": [],
   "source": [
    "import matplotlib\n",
    "matplotlib.rcParams['figure.figsize'] = [16,4]\n",
    "\n",
    "sns.histplot(trace.posterior['delta'].to_series(), color='green')"
   ]
  },
  {
   "cell_type": "markdown",
   "metadata": {},
   "source": [
    "Si nuestros modelos están bien escogidos, podemos calcular la probabilidad de que B sea mejor que A viendo cuános valores de delta son mayores que 0:\n"
   ]
  },
  {
   "cell_type": "code",
   "execution_count": null,
   "metadata": {
    "ExecuteTime": {
     "end_time": "2022-02-18T22:11:07.567116Z",
     "start_time": "2022-02-18T22:11:07.543467Z"
    }
   },
   "outputs": [],
   "source": [
    "mejor_B = np.mean(trace['posterior']['delta'].to_series() > 0)\n",
    "mejor_A = np.mean(trace['posterior']['delta'].to_series() < 0)\n",
    "\n",
    "print(f'A es mejor en el {int(mejor_A*100)} % de los casos, B es mejor en el {int(mejor_B*100)} % de los casos')"
   ]
  },
  {
   "cell_type": "markdown",
   "metadata": {},
   "source": [
    "Ahora bien, qué pasa si cambiamos B por una muestra aún más pequeña:\n"
   ]
  },
  {
   "cell_type": "code",
   "execution_count": null,
   "metadata": {
    "ExecuteTime": {
     "end_time": "2022-02-18T22:12:21.756065Z",
     "start_time": "2022-02-18T22:11:07.570109Z"
    }
   },
   "outputs": [],
   "source": [
    "muestra_B = [0, 1, 0, 1, 0, 0, 0, 0, 0, 0, 0, 0, 1, 0, 0, 0, 1, 0, 1, 1, 0, 0,\n",
    "       0, 1, 0, 1, 0, 0, 0, 1, 0, 1, 0, 0, 1, 0, 0, 1, 1, 0, 0, 0, 0, 0,\n",
    "       0, 0, 0, 1, 1, 0, 1, 0, 0, 0, 1, 0, 1, 0, 0, 0, 0, 0, 0, 0, 0, 0,\n",
    "       1, 0, 1, 1, 0, 0, 0, 1, 1, 1, 0, 0, 1, 0, 0, 0, 0, 0, 0, 0, 0, 1,\n",
    "       0, 0, 1, 1, 0, 0, 0, 1, 0, 0, 0, 0, 1, 1, 1, 0, 0, 0, 0, 1, 0, 1,\n",
    "       0, 0, 0, 0, 0, 0, 0, 0, 1, 1, 0, 0, 0, 0, 0, 1, 1, 1, 1, 0, 0, 0,\n",
    "       1, 0, 0, 0, 1, 1, 0, 0, 0, 0, 1, 0, 0, 0, 1, 0, 0, 1, 1, 0, 1, 1,\n",
    "       1, 1, 0, 0, 0, 0, 0, 0, 1, 1, 0, 1, 1, 0, 0, 0, 0, 0, 0, 0, 0, 0,\n",
    "       1, 0, 0, 0, 1, 1, 0, 0, 1, 1, 0, 0, 0, 1, 1, 0, 0, 0, 1, 1, 0, 0,\n",
    "       1, 0, 1, 0, 1, 0, 0, 0, 1, 1, 0, 0, 1, 0, 1, 1, 1, 1, 0, 0, 0, 1]\n",
    "\n",
    "media_B = np.sum(muestra_B) / len(muestra_B)\n",
    "print(f'porcentaje de compra A: {media_A}')\n",
    "print(f'porcentaje de compra B: {media_B}')\n",
    "\n",
    "with pm.Model() as model:\n",
    "    p_A = pm.Uniform('p_A', lower=0, upper=1)\n",
    "    p_B = pm.Uniform('p_B', lower=0, upper=1)\n",
    "    \n",
    "    obs_A = pm.Bernoulli('obs_A', p_A, observed=muestra_A)\n",
    "    obs_B = pm.Bernoulli('obs_B', p_B, observed=muestra_B)\n",
    "    \n",
    "    delta = pm.Deterministic('delta', p_B - p_A)\n",
    "    \n",
    "    step = pm.Metropolis()\n",
    "    trace = pm.sample(20000, step=step, return_inferencedata=True)\n",
    "    \n",
    "    az.plot_posterior(trace)\n",
    "    "
   ]
  },
  {
   "cell_type": "markdown",
   "metadata": {},
   "source": [
    "Con el dibujo por defecto de arviz no es fácil ver el detalle, pero, si lo sacamos con seaborn, se ve mejor el problema con la muestra B:"
   ]
  },
  {
   "cell_type": "code",
   "execution_count": null,
   "metadata": {
    "ExecuteTime": {
     "end_time": "2022-02-18T22:12:22.596710Z",
     "start_time": "2022-02-18T22:12:21.758060Z"
    }
   },
   "outputs": [],
   "source": [
    "import matplotlib\n",
    "matplotlib.rcParams['figure.figsize'] = [16,4]\n",
    "\n",
    "sns.histplot(trace.posterior['p_A'].to_series(), color='orange')\n",
    "sns.histplot(trace.posterior['p_B'].to_series(), color='lightblue')"
   ]
  },
  {
   "cell_type": "code",
   "execution_count": null,
   "metadata": {
    "ExecuteTime": {
     "end_time": "2022-02-18T22:12:23.502386Z",
     "start_time": "2022-02-18T22:12:22.601083Z"
    }
   },
   "outputs": [],
   "source": [
    "sns.histplot(trace.posterior['delta'].to_series(), color='green')"
   ]
  },
  {
   "cell_type": "code",
   "execution_count": null,
   "metadata": {
    "ExecuteTime": {
     "end_time": "2022-02-18T22:12:23.533390Z",
     "start_time": "2022-02-18T22:12:23.505678Z"
    }
   },
   "outputs": [],
   "source": [
    "mejor_B = np.mean(trace['posterior']['delta'].to_series() > 0)\n",
    "mejor_A = np.mean(trace['posterior']['delta'].to_series() < 0)\n",
    "\n",
    "print(f'A es mejor en el {int(mejor_A*100)} % de los casos, B es mejor en el {int(mejor_B*100)} % de los casos')"
   ]
  },
  {
   "cell_type": "markdown",
   "metadata": {},
   "source": [
    "## Generacion de las muestras A y B"
   ]
  },
  {
   "cell_type": "code",
   "execution_count": null,
   "metadata": {
    "ExecuteTime": {
     "end_time": "2022-02-18T22:12:23.549211Z",
     "start_time": "2022-02-18T22:12:23.536263Z"
    }
   },
   "outputs": [],
   "source": [
    "import numpy as np\n",
    "np.random.seed(33)\n",
    "\n",
    "\n",
    "muestra_A = np.random.binomial(1, 0.3, 1000)\n",
    "\n",
    "#muestra_A"
   ]
  },
  {
   "cell_type": "code",
   "execution_count": null,
   "metadata": {
    "ExecuteTime": {
     "end_time": "2022-02-18T22:12:23.564839Z",
     "start_time": "2022-02-18T22:12:23.555776Z"
    }
   },
   "outputs": [],
   "source": [
    "muestra_B = np.random.binomial(1, 0.34, 732)\n",
    "#muestra_B"
   ]
  },
  {
   "cell_type": "markdown",
   "metadata": {},
   "source": [
    "# Multi Armed Bandits\n",
    "\n",
    "Dentro del testo de hipótesis existe un método conocido como MAB, aunque, habitualmente llamado Multi-Armed Bandits que trata de decidir la mejor opción entre varias alternativas competidoras.\n",
    "\n",
    "Un ejemplo habitual de este tipo de testeo puede ser la selección de una acción en el mercado bursátil en la que invertir o la selección de la página principal de una página web entre un conjunto de alternativas.\n",
    "\n",
    "El caso de uso habitual de MAB consiste en tratar de maximizar el beneficio que obtenemos de una página web al mismo tiempo que seguimos probando nuevas posibilidades.\n",
    "\n",
    "## Ejemplo canónico de MAB\n",
    "\n",
    "Aunque se han indicado unos ejemplos habituales de este tipo de proceso, hay un ejemplo omnipresente en los procesos MAB que es el de las máquinas tragaperras.\n",
    "\n",
    "Se supone que estamos en un casino y tenemos la posibilidad de meter monedas en varias de estas máquinas, queremos encontrar aquella que tiene un mayor índice de éxito (suponiendo que varíe de máquina a máquina); el problema es que no queremos dejar de obtener rendimiento de la máquina que, en estos momentos, creemos que es la mejor.\n",
    "\n",
    "### Creación de máquinas\n",
    "\n",
    "Vamos a inicializar 10 máquinas tragaperras, cada una de ellas con un índice de éxito aleatorio y vamos a utilizar un proceso bayesiano para tratar de encontrar la mejor entre las 10."
   ]
  },
  {
   "cell_type": "code",
   "execution_count": null,
   "metadata": {
    "ExecuteTime": {
     "end_time": "2022-02-18T22:14:04.770493Z",
     "start_time": "2022-02-18T22:14:04.752145Z"
    }
   },
   "outputs": [],
   "source": [
    "import numpy as np\n",
    "np.random.seed(42)\n",
    "\n",
    "prob_maquina = [np.random.random() for x in range(10)]"
   ]
  },
  {
   "cell_type": "code",
   "execution_count": null,
   "metadata": {
    "ExecuteTime": {
     "end_time": "2022-02-18T22:21:32.081666Z",
     "start_time": "2022-02-18T22:21:32.068568Z"
    }
   },
   "outputs": [],
   "source": [
    "prob_maquina"
   ]
  },
  {
   "cell_type": "markdown",
   "metadata": {},
   "source": [
    "Una vez tenemos inicializadas las máquinas vamos a realizar dos pasos, decidir en qué máquina vamos a meter dinero y simular una tirada de esa máquina.\n",
    "\n",
    "Los resultados de las tiradas los vamos a ir almacenando en una matriz de 10 filas que contendrá todas las tiradas acumuladas de las máquinas.\n",
    "\n",
    "En esta matriz almacenaremos un 0 si no tenemos éxito y 1 si tenemos éxito.\n",
    "\n",
    "Al escoger la máquina dividiremos entre escoger aquella con mayor éxito hasta el momento o probar una nueva; este paso es importante para tratar de maximizar el beneficio con el menor número de tiradas posible."
   ]
  },
  {
   "cell_type": "code",
   "execution_count": null,
   "metadata": {
    "ExecuteTime": {
     "end_time": "2022-02-18T22:14:54.708076Z",
     "start_time": "2022-02-18T22:14:54.695937Z"
    }
   },
   "outputs": [],
   "source": [
    "probabilidad_maquina_aleatoria = .05\n",
    "\n",
    "lista_maquinas = [x for x in range(10)]\n",
    "\n",
    "def escoger_maquina(n_tiradas, probabilidad_maquina_aleatoria):\n",
    "    maquina_aleatoria = np.random.binomial(1, probabilidad_maquina_aleatoria, n_tiradas)\n",
    "    \n",
    "    tiradas_maquina_aleatoria = sum(maquina_aleatoria == 1)\n",
    "    tiradas_mejor_maquina = n_tiradas - tiradas_maquina_aleatoria\n",
    "    \n",
    "    mejor_maquina = 0\n",
    "    \n",
    "    tiradas_aleatorias = np.random.choice(lista_maquinas, tiradas_maquina_aleatoria)\n",
    "    \n",
    "    maquina, tiradas_maquina = np.unique(tiradas_aleatorias, return_counts=True)\n",
    "    \n",
    "    tiradas = dict(zip(lista_maquinas, tiradas_maquina))\n",
    "\n",
    "    if mejor_maquina in tiradas:\n",
    "        tiradas[mejor_maquina] += tiradas_mejor_maquina\n",
    "    else:\n",
    "        tiradas[mejor_maquina] = tiradas_mejor_maquina\n",
    "    \n",
    "    return tiradas\n",
    "    \n",
    "    \n",
    "def simular(prob_maquina, muestra_acumulada, n_tiradas, probabilidad_maquina_aleatoria):\n",
    "    maquinas_tiradas = escoger_maquina(n_tiradas, probabilidad_maquina_aleatoria)\n",
    "    \n",
    "    for k,v in maquinas_tiradas.items():\n",
    "        muestra_acumulada[k].extend(np.random.binomial(1, prob_maquina[k], v))\n",
    "    \n",
    "    "
   ]
  },
  {
   "cell_type": "code",
   "execution_count": null,
   "metadata": {
    "ExecuteTime": {
     "end_time": "2022-02-18T22:14:55.124582Z",
     "start_time": "2022-02-18T22:14:55.104613Z"
    }
   },
   "outputs": [],
   "source": [
    "muestra_acumulada = []\n",
    "for x in range(10):\n",
    "    muestra_acumulada.append([])\n",
    "    \n",
    "simular(prob_maquina, muestra_acumulada, 1000, 1)\n",
    "\n",
    "#muestra_acumulada"
   ]
  },
  {
   "cell_type": "markdown",
   "metadata": {},
   "source": [
    "Ahora tenemos que calcular la probabilidad de que nuestras máquinas sean mejores que otras:"
   ]
  },
  {
   "cell_type": "code",
   "execution_count": null,
   "metadata": {
    "ExecuteTime": {
     "end_time": "2022-02-18T22:14:58.816418Z",
     "start_time": "2022-02-18T22:14:58.807486Z"
    }
   },
   "outputs": [],
   "source": [
    "import pymc3 as pm\n",
    "import arviz as az\n",
    "\n",
    "dists = []\n",
    "\n",
    "def evaluacion_maquinas(muestra_acumulada):\n",
    "    with pm.Model() as model:\n",
    "        p = []\n",
    "        for k in range(10):\n",
    "            if len(muestra_acumulada[k]) == 0:\n",
    "                continue\n",
    "\n",
    "            p.append(pm.Uniform('p_' + str(k), lower=0, upper=1))\n",
    "            pm.Bernoulli('obs_'+ str(k), p[k], observed=muestra_acumulada[k])\n",
    "\n",
    "        step = pm.Metropolis()\n",
    "        trace = pm.sample(draws=10000, step=step, return_inferencedata=True)\n",
    "\n",
    "        az.plot_posterior(trace, figsize=[16,20])"
   ]
  },
  {
   "cell_type": "code",
   "execution_count": null,
   "metadata": {
    "ExecuteTime": {
     "end_time": "2022-02-18T22:14:59.997222Z",
     "start_time": "2022-02-18T22:14:59.992234Z"
    }
   },
   "outputs": [],
   "source": [
    "def paso_trabajo(tiradas):\n",
    "    simular(prob_maquina, muestra_acumulada, tiradas, 1)\n",
    "    evaluacion_maquinas(muestra_acumulada)"
   ]
  },
  {
   "cell_type": "code",
   "execution_count": null,
   "metadata": {
    "ExecuteTime": {
     "end_time": "2022-02-18T22:18:09.726540Z",
     "start_time": "2022-02-18T22:15:00.962381Z"
    }
   },
   "outputs": [],
   "source": [
    "paso_trabajo(0)"
   ]
  },
  {
   "cell_type": "code",
   "execution_count": null,
   "metadata": {
    "ExecuteTime": {
     "end_time": "2022-02-18T22:21:32.066626Z",
     "start_time": "2022-02-18T22:18:22.456178Z"
    }
   },
   "outputs": [],
   "source": [
    "paso_trabajo(100)"
   ]
  },
  {
   "cell_type": "code",
   "execution_count": null,
   "metadata": {},
   "outputs": [],
   "source": [
    "az.plot_posterior(trace)"
   ]
  }
 ],
 "metadata": {
  "kernelspec": {
   "display_name": "Python 3 (ipykernel)",
   "language": "python",
   "name": "python3"
  },
  "language_info": {
   "codemirror_mode": {
    "name": "ipython",
    "version": 3
   },
   "file_extension": ".py",
   "mimetype": "text/x-python",
   "name": "python",
   "nbconvert_exporter": "python",
   "pygments_lexer": "ipython3",
   "version": "3.8.5"
  },
  "toc": {
   "base_numbering": 1,
   "nav_menu": {},
   "number_sections": true,
   "sideBar": true,
   "skip_h1_title": false,
   "title_cell": "Table of Contents",
   "title_sidebar": "Contents",
   "toc_cell": false,
   "toc_position": {
    "height": "calc(100% - 180px)",
    "left": "10px",
    "top": "150px",
    "width": "165px"
   },
   "toc_section_display": true,
   "toc_window_display": true
  }
 },
 "nbformat": 4,
 "nbformat_minor": 4
}
