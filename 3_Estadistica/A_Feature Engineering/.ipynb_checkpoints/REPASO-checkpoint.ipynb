{
 "cells": [
  {
   "cell_type": "markdown",
   "id": "8a45eb88",
   "metadata": {},
   "source": [
    "## Repaso Feature Engineering"
   ]
  },
  {
   "cell_type": "code",
   "execution_count": 1,
   "id": "b4ee0546",
   "metadata": {},
   "outputs": [],
   "source": [
    "import pandas as pd\n",
    "import numpy as np\n",
    "import matplotlib.pyplot as plt\n",
    "%matplotlib inline\n",
    "import matplotlib\n",
    "matplotlib.rcParams['figure.figsize'] = [16,4]\n",
    "import seaborn as sns\n",
    "import sklearn\n",
    "pd.options.display.max_columns = 999"
   ]
  },
  {
   "cell_type": "code",
   "execution_count": 2,
   "id": "577f38c7",
   "metadata": {},
   "outputs": [
    {
     "data": {
      "text/html": [
       "<div>\n",
       "<style scoped>\n",
       "    .dataframe tbody tr th:only-of-type {\n",
       "        vertical-align: middle;\n",
       "    }\n",
       "\n",
       "    .dataframe tbody tr th {\n",
       "        vertical-align: top;\n",
       "    }\n",
       "\n",
       "    .dataframe thead th {\n",
       "        text-align: right;\n",
       "    }\n",
       "</style>\n",
       "<table border=\"1\" class=\"dataframe\">\n",
       "  <thead>\n",
       "    <tr style=\"text-align: right;\">\n",
       "      <th></th>\n",
       "      <th>Unnamed: 0</th>\n",
       "      <th>reviewid</th>\n",
       "      <th>title</th>\n",
       "      <th>artist</th>\n",
       "      <th>url</th>\n",
       "      <th>score</th>\n",
       "      <th>best_new_music</th>\n",
       "      <th>author</th>\n",
       "      <th>author_type</th>\n",
       "      <th>pub_date</th>\n",
       "      <th>pub_weekday</th>\n",
       "      <th>pub_day</th>\n",
       "      <th>pub_month</th>\n",
       "      <th>pub_year</th>\n",
       "    </tr>\n",
       "  </thead>\n",
       "  <tbody>\n",
       "    <tr>\n",
       "      <th>0</th>\n",
       "      <td>0</td>\n",
       "      <td>22703</td>\n",
       "      <td>mezzanine</td>\n",
       "      <td>massive attack</td>\n",
       "      <td>http://pitchfork.com/reviews/albums/22703-mezz...</td>\n",
       "      <td>9.3</td>\n",
       "      <td>0</td>\n",
       "      <td>nate patrin</td>\n",
       "      <td>contributor</td>\n",
       "      <td>2017-01-08</td>\n",
       "      <td>6</td>\n",
       "      <td>8</td>\n",
       "      <td>1</td>\n",
       "      <td>2017</td>\n",
       "    </tr>\n",
       "    <tr>\n",
       "      <th>1</th>\n",
       "      <td>1</td>\n",
       "      <td>22721</td>\n",
       "      <td>prelapsarian</td>\n",
       "      <td>krallice</td>\n",
       "      <td>http://pitchfork.com/reviews/albums/22721-prel...</td>\n",
       "      <td>7.9</td>\n",
       "      <td>0</td>\n",
       "      <td>zoe camp</td>\n",
       "      <td>contributor</td>\n",
       "      <td>2017-01-07</td>\n",
       "      <td>5</td>\n",
       "      <td>7</td>\n",
       "      <td>1</td>\n",
       "      <td>2017</td>\n",
       "    </tr>\n",
       "    <tr>\n",
       "      <th>2</th>\n",
       "      <td>2</td>\n",
       "      <td>22659</td>\n",
       "      <td>all of them naturals</td>\n",
       "      <td>uranium club</td>\n",
       "      <td>http://pitchfork.com/reviews/albums/22659-all-...</td>\n",
       "      <td>7.3</td>\n",
       "      <td>0</td>\n",
       "      <td>david glickman</td>\n",
       "      <td>contributor</td>\n",
       "      <td>2017-01-07</td>\n",
       "      <td>5</td>\n",
       "      <td>7</td>\n",
       "      <td>1</td>\n",
       "      <td>2017</td>\n",
       "    </tr>\n",
       "    <tr>\n",
       "      <th>3</th>\n",
       "      <td>3</td>\n",
       "      <td>22661</td>\n",
       "      <td>first songs</td>\n",
       "      <td>kleenex, liliput</td>\n",
       "      <td>http://pitchfork.com/reviews/albums/22661-firs...</td>\n",
       "      <td>9.0</td>\n",
       "      <td>1</td>\n",
       "      <td>jenn pelly</td>\n",
       "      <td>associate reviews editor</td>\n",
       "      <td>2017-01-06</td>\n",
       "      <td>4</td>\n",
       "      <td>6</td>\n",
       "      <td>1</td>\n",
       "      <td>2017</td>\n",
       "    </tr>\n",
       "    <tr>\n",
       "      <th>4</th>\n",
       "      <td>4</td>\n",
       "      <td>22725</td>\n",
       "      <td>new start</td>\n",
       "      <td>taso</td>\n",
       "      <td>http://pitchfork.com/reviews/albums/22725-new-...</td>\n",
       "      <td>8.1</td>\n",
       "      <td>0</td>\n",
       "      <td>kevin lozano</td>\n",
       "      <td>tracks coordinator</td>\n",
       "      <td>2017-01-06</td>\n",
       "      <td>4</td>\n",
       "      <td>6</td>\n",
       "      <td>1</td>\n",
       "      <td>2017</td>\n",
       "    </tr>\n",
       "    <tr>\n",
       "      <th>5</th>\n",
       "      <td>5</td>\n",
       "      <td>22722</td>\n",
       "      <td>insecure (music from the hbo original series)</td>\n",
       "      <td>various artists</td>\n",
       "      <td>http://pitchfork.com/reviews/albums/22722-inse...</td>\n",
       "      <td>7.4</td>\n",
       "      <td>0</td>\n",
       "      <td>vanessa okoth-obbo</td>\n",
       "      <td>contributor</td>\n",
       "      <td>2017-01-05</td>\n",
       "      <td>3</td>\n",
       "      <td>5</td>\n",
       "      <td>1</td>\n",
       "      <td>2017</td>\n",
       "    </tr>\n",
       "    <tr>\n",
       "      <th>6</th>\n",
       "      <td>6</td>\n",
       "      <td>22704</td>\n",
       "      <td>stillness in wonderland</td>\n",
       "      <td>little simz</td>\n",
       "      <td>http://pitchfork.com/reviews/albums/22704-litt...</td>\n",
       "      <td>7.1</td>\n",
       "      <td>0</td>\n",
       "      <td>katherine st. asaph</td>\n",
       "      <td>contributor</td>\n",
       "      <td>2017-01-05</td>\n",
       "      <td>3</td>\n",
       "      <td>5</td>\n",
       "      <td>1</td>\n",
       "      <td>2017</td>\n",
       "    </tr>\n",
       "    <tr>\n",
       "      <th>7</th>\n",
       "      <td>7</td>\n",
       "      <td>22694</td>\n",
       "      <td>tehillim</td>\n",
       "      <td>yotam avni</td>\n",
       "      <td>http://pitchfork.com/reviews/albums/22694-tehi...</td>\n",
       "      <td>7.0</td>\n",
       "      <td>0</td>\n",
       "      <td>andy beta</td>\n",
       "      <td>contributor</td>\n",
       "      <td>2017-01-05</td>\n",
       "      <td>3</td>\n",
       "      <td>5</td>\n",
       "      <td>1</td>\n",
       "      <td>2017</td>\n",
       "    </tr>\n",
       "    <tr>\n",
       "      <th>8</th>\n",
       "      <td>8</td>\n",
       "      <td>22714</td>\n",
       "      <td>reflection</td>\n",
       "      <td>brian eno</td>\n",
       "      <td>http://pitchfork.com/reviews/albums/22714-refl...</td>\n",
       "      <td>7.7</td>\n",
       "      <td>0</td>\n",
       "      <td>andy beta</td>\n",
       "      <td>contributor</td>\n",
       "      <td>2017-01-04</td>\n",
       "      <td>2</td>\n",
       "      <td>4</td>\n",
       "      <td>1</td>\n",
       "      <td>2017</td>\n",
       "    </tr>\n",
       "    <tr>\n",
       "      <th>9</th>\n",
       "      <td>9</td>\n",
       "      <td>22724</td>\n",
       "      <td>filthy america its beautiful</td>\n",
       "      <td>the lox</td>\n",
       "      <td>http://pitchfork.com/reviews/albums/22724-filt...</td>\n",
       "      <td>5.3</td>\n",
       "      <td>0</td>\n",
       "      <td>ian cohen</td>\n",
       "      <td>contributor</td>\n",
       "      <td>2017-01-04</td>\n",
       "      <td>2</td>\n",
       "      <td>4</td>\n",
       "      <td>1</td>\n",
       "      <td>2017</td>\n",
       "    </tr>\n",
       "    <tr>\n",
       "      <th>10</th>\n",
       "      <td>10</td>\n",
       "      <td>22715</td>\n",
       "      <td>clear sounds/perfetta</td>\n",
       "      <td>harry bertoia</td>\n",
       "      <td>http://pitchfork.com/reviews/albums/22715-clea...</td>\n",
       "      <td>8.0</td>\n",
       "      <td>0</td>\n",
       "      <td>marc masters</td>\n",
       "      <td>contributor</td>\n",
       "      <td>2017-01-04</td>\n",
       "      <td>2</td>\n",
       "      <td>4</td>\n",
       "      <td>1</td>\n",
       "      <td>2017</td>\n",
       "    </tr>\n",
       "    <tr>\n",
       "      <th>11</th>\n",
       "      <td>11</td>\n",
       "      <td>22745</td>\n",
       "      <td>run the jewels 3</td>\n",
       "      <td>run the jewels</td>\n",
       "      <td>http://pitchfork.com/reviews/albums/22745-run-...</td>\n",
       "      <td>8.6</td>\n",
       "      <td>1</td>\n",
       "      <td>sheldon pearce</td>\n",
       "      <td>associate staff writer</td>\n",
       "      <td>2017-01-03</td>\n",
       "      <td>1</td>\n",
       "      <td>3</td>\n",
       "      <td>1</td>\n",
       "      <td>2017</td>\n",
       "    </tr>\n",
       "    <tr>\n",
       "      <th>12</th>\n",
       "      <td>12</td>\n",
       "      <td>22700</td>\n",
       "      <td>nadir</td>\n",
       "      <td>steven warwick</td>\n",
       "      <td>http://pitchfork.com/reviews/albums/22700-nadir/</td>\n",
       "      <td>7.6</td>\n",
       "      <td>0</td>\n",
       "      <td>thea ballard</td>\n",
       "      <td>contributor</td>\n",
       "      <td>2017-01-03</td>\n",
       "      <td>1</td>\n",
       "      <td>3</td>\n",
       "      <td>1</td>\n",
       "      <td>2017</td>\n",
       "    </tr>\n",
       "    <tr>\n",
       "      <th>13</th>\n",
       "      <td>13</td>\n",
       "      <td>22720</td>\n",
       "      <td>december 99th</td>\n",
       "      <td>yasiin bey</td>\n",
       "      <td>http://pitchfork.com/reviews/albums/22720-dece...</td>\n",
       "      <td>3.5</td>\n",
       "      <td>0</td>\n",
       "      <td>marcus j. moore</td>\n",
       "      <td>contributor</td>\n",
       "      <td>2017-01-02</td>\n",
       "      <td>0</td>\n",
       "      <td>2</td>\n",
       "      <td>1</td>\n",
       "      <td>2017</td>\n",
       "    </tr>\n",
       "    <tr>\n",
       "      <th>14</th>\n",
       "      <td>14</td>\n",
       "      <td>22699</td>\n",
       "      <td>don't smoke rock</td>\n",
       "      <td>smoke dza, pete rock</td>\n",
       "      <td>http://pitchfork.com/reviews/albums/22699-dont...</td>\n",
       "      <td>7.4</td>\n",
       "      <td>0</td>\n",
       "      <td>dean van nguyen</td>\n",
       "      <td>contributor</td>\n",
       "      <td>2017-01-02</td>\n",
       "      <td>0</td>\n",
       "      <td>2</td>\n",
       "      <td>1</td>\n",
       "      <td>2017</td>\n",
       "    </tr>\n",
       "    <tr>\n",
       "      <th>15</th>\n",
       "      <td>15</td>\n",
       "      <td>22665</td>\n",
       "      <td>punk45: les punks: the french connection (the ...</td>\n",
       "      <td>various artists</td>\n",
       "      <td>http://pitchfork.com/reviews/albums/22665-punk...</td>\n",
       "      <td>6.6</td>\n",
       "      <td>0</td>\n",
       "      <td>louis pattison</td>\n",
       "      <td>contributor</td>\n",
       "      <td>2017-01-02</td>\n",
       "      <td>0</td>\n",
       "      <td>2</td>\n",
       "      <td>1</td>\n",
       "      <td>2017</td>\n",
       "    </tr>\n",
       "    <tr>\n",
       "      <th>16</th>\n",
       "      <td>16</td>\n",
       "      <td>22666</td>\n",
       "      <td>brnshj (puncak)</td>\n",
       "      <td>senyawa</td>\n",
       "      <td>http://pitchfork.com/reviews/albums/22666-brns...</td>\n",
       "      <td>7.4</td>\n",
       "      <td>0</td>\n",
       "      <td>philip sherburne</td>\n",
       "      <td>contributing editor</td>\n",
       "      <td>2017-01-02</td>\n",
       "      <td>0</td>\n",
       "      <td>2</td>\n",
       "      <td>1</td>\n",
       "      <td>2017</td>\n",
       "    </tr>\n",
       "    <tr>\n",
       "      <th>17</th>\n",
       "      <td>17</td>\n",
       "      <td>22719</td>\n",
       "      <td>merry christmas lil mama</td>\n",
       "      <td>chance the rapper, jeremih</td>\n",
       "      <td>http://pitchfork.com/reviews/albums/22719-merr...</td>\n",
       "      <td>8.1</td>\n",
       "      <td>0</td>\n",
       "      <td>sheldon pearce</td>\n",
       "      <td>associate staff writer</td>\n",
       "      <td>2016-12-30</td>\n",
       "      <td>4</td>\n",
       "      <td>30</td>\n",
       "      <td>12</td>\n",
       "      <td>2016</td>\n",
       "    </tr>\n",
       "    <tr>\n",
       "      <th>18</th>\n",
       "      <td>18</td>\n",
       "      <td>22667</td>\n",
       "      <td>///// effectual</td>\n",
       "      <td>jamire williams</td>\n",
       "      <td>http://pitchfork.com/reviews/albums/22667-effe...</td>\n",
       "      <td>7.2</td>\n",
       "      <td>0</td>\n",
       "      <td>benjamin scheim</td>\n",
       "      <td>contributor</td>\n",
       "      <td>2016-12-30</td>\n",
       "      <td>4</td>\n",
       "      <td>30</td>\n",
       "      <td>12</td>\n",
       "      <td>2016</td>\n",
       "    </tr>\n",
       "    <tr>\n",
       "      <th>19</th>\n",
       "      <td>19</td>\n",
       "      <td>22691</td>\n",
       "      <td>love you to death</td>\n",
       "      <td>the-dream</td>\n",
       "      <td>http://pitchfork.com/reviews/albums/22691-love...</td>\n",
       "      <td>7.0</td>\n",
       "      <td>0</td>\n",
       "      <td>rebecca haithcoat</td>\n",
       "      <td>contributor</td>\n",
       "      <td>2016-12-29</td>\n",
       "      <td>3</td>\n",
       "      <td>29</td>\n",
       "      <td>12</td>\n",
       "      <td>2016</td>\n",
       "    </tr>\n",
       "  </tbody>\n",
       "</table>\n",
       "</div>"
      ],
      "text/plain": [
       "    Unnamed: 0  reviewid                                              title  \\\n",
       "0            0     22703                                          mezzanine   \n",
       "1            1     22721                                       prelapsarian   \n",
       "2            2     22659                               all of them naturals   \n",
       "3            3     22661                                        first songs   \n",
       "4            4     22725                                          new start   \n",
       "5            5     22722      insecure (music from the hbo original series)   \n",
       "6            6     22704                            stillness in wonderland   \n",
       "7            7     22694                                           tehillim   \n",
       "8            8     22714                                         reflection   \n",
       "9            9     22724                       filthy america its beautiful   \n",
       "10          10     22715                              clear sounds/perfetta   \n",
       "11          11     22745                                   run the jewels 3   \n",
       "12          12     22700                                              nadir   \n",
       "13          13     22720                                      december 99th   \n",
       "14          14     22699                                   don't smoke rock   \n",
       "15          15     22665  punk45: les punks: the french connection (the ...   \n",
       "16          16     22666                                    brnshj (puncak)   \n",
       "17          17     22719                           merry christmas lil mama   \n",
       "18          18     22667                                    ///// effectual   \n",
       "19          19     22691                                  love you to death   \n",
       "\n",
       "                        artist  \\\n",
       "0               massive attack   \n",
       "1                     krallice   \n",
       "2                 uranium club   \n",
       "3             kleenex, liliput   \n",
       "4                         taso   \n",
       "5              various artists   \n",
       "6                  little simz   \n",
       "7                   yotam avni   \n",
       "8                    brian eno   \n",
       "9                      the lox   \n",
       "10               harry bertoia   \n",
       "11              run the jewels   \n",
       "12              steven warwick   \n",
       "13                  yasiin bey   \n",
       "14        smoke dza, pete rock   \n",
       "15             various artists   \n",
       "16                     senyawa   \n",
       "17  chance the rapper, jeremih   \n",
       "18             jamire williams   \n",
       "19                   the-dream   \n",
       "\n",
       "                                                  url  score  best_new_music  \\\n",
       "0   http://pitchfork.com/reviews/albums/22703-mezz...    9.3               0   \n",
       "1   http://pitchfork.com/reviews/albums/22721-prel...    7.9               0   \n",
       "2   http://pitchfork.com/reviews/albums/22659-all-...    7.3               0   \n",
       "3   http://pitchfork.com/reviews/albums/22661-firs...    9.0               1   \n",
       "4   http://pitchfork.com/reviews/albums/22725-new-...    8.1               0   \n",
       "5   http://pitchfork.com/reviews/albums/22722-inse...    7.4               0   \n",
       "6   http://pitchfork.com/reviews/albums/22704-litt...    7.1               0   \n",
       "7   http://pitchfork.com/reviews/albums/22694-tehi...    7.0               0   \n",
       "8   http://pitchfork.com/reviews/albums/22714-refl...    7.7               0   \n",
       "9   http://pitchfork.com/reviews/albums/22724-filt...    5.3               0   \n",
       "10  http://pitchfork.com/reviews/albums/22715-clea...    8.0               0   \n",
       "11  http://pitchfork.com/reviews/albums/22745-run-...    8.6               1   \n",
       "12   http://pitchfork.com/reviews/albums/22700-nadir/    7.6               0   \n",
       "13  http://pitchfork.com/reviews/albums/22720-dece...    3.5               0   \n",
       "14  http://pitchfork.com/reviews/albums/22699-dont...    7.4               0   \n",
       "15  http://pitchfork.com/reviews/albums/22665-punk...    6.6               0   \n",
       "16  http://pitchfork.com/reviews/albums/22666-brns...    7.4               0   \n",
       "17  http://pitchfork.com/reviews/albums/22719-merr...    8.1               0   \n",
       "18  http://pitchfork.com/reviews/albums/22667-effe...    7.2               0   \n",
       "19  http://pitchfork.com/reviews/albums/22691-love...    7.0               0   \n",
       "\n",
       "                 author               author_type    pub_date  pub_weekday  \\\n",
       "0           nate patrin               contributor  2017-01-08            6   \n",
       "1              zoe camp               contributor  2017-01-07            5   \n",
       "2        david glickman               contributor  2017-01-07            5   \n",
       "3            jenn pelly  associate reviews editor  2017-01-06            4   \n",
       "4          kevin lozano        tracks coordinator  2017-01-06            4   \n",
       "5    vanessa okoth-obbo               contributor  2017-01-05            3   \n",
       "6   katherine st. asaph               contributor  2017-01-05            3   \n",
       "7             andy beta               contributor  2017-01-05            3   \n",
       "8             andy beta               contributor  2017-01-04            2   \n",
       "9             ian cohen               contributor  2017-01-04            2   \n",
       "10         marc masters               contributor  2017-01-04            2   \n",
       "11       sheldon pearce    associate staff writer  2017-01-03            1   \n",
       "12         thea ballard               contributor  2017-01-03            1   \n",
       "13      marcus j. moore               contributor  2017-01-02            0   \n",
       "14      dean van nguyen               contributor  2017-01-02            0   \n",
       "15       louis pattison               contributor  2017-01-02            0   \n",
       "16     philip sherburne       contributing editor  2017-01-02            0   \n",
       "17       sheldon pearce    associate staff writer  2016-12-30            4   \n",
       "18      benjamin scheim               contributor  2016-12-30            4   \n",
       "19    rebecca haithcoat               contributor  2016-12-29            3   \n",
       "\n",
       "    pub_day  pub_month  pub_year  \n",
       "0         8          1      2017  \n",
       "1         7          1      2017  \n",
       "2         7          1      2017  \n",
       "3         6          1      2017  \n",
       "4         6          1      2017  \n",
       "5         5          1      2017  \n",
       "6         5          1      2017  \n",
       "7         5          1      2017  \n",
       "8         4          1      2017  \n",
       "9         4          1      2017  \n",
       "10        4          1      2017  \n",
       "11        3          1      2017  \n",
       "12        3          1      2017  \n",
       "13        2          1      2017  \n",
       "14        2          1      2017  \n",
       "15        2          1      2017  \n",
       "16        2          1      2017  \n",
       "17       30         12      2016  \n",
       "18       30         12      2016  \n",
       "19       29         12      2016  "
      ]
     },
     "execution_count": 2,
     "metadata": {},
     "output_type": "execute_result"
    }
   ],
   "source": [
    "df_pitch = pd.read_csv('./data/reviews.csv')\n",
    "df_pitch.head(20)"
   ]
  },
  {
   "cell_type": "code",
   "execution_count": 3,
   "id": "e41179e4",
   "metadata": {},
   "outputs": [
    {
     "name": "stdout",
     "output_type": "stream",
     "text": [
      "<class 'pandas.core.frame.DataFrame'>\n",
      "RangeIndex: 18393 entries, 0 to 18392\n",
      "Data columns (total 14 columns):\n",
      " #   Column          Non-Null Count  Dtype  \n",
      "---  ------          --------------  -----  \n",
      " 0   Unnamed: 0      18393 non-null  int64  \n",
      " 1   reviewid        18393 non-null  int64  \n",
      " 2   title           18391 non-null  object \n",
      " 3   artist          18391 non-null  object \n",
      " 4   url             18393 non-null  object \n",
      " 5   score           18393 non-null  float64\n",
      " 6   best_new_music  18393 non-null  int64  \n",
      " 7   author          18393 non-null  object \n",
      " 8   author_type     14487 non-null  object \n",
      " 9   pub_date        18393 non-null  object \n",
      " 10  pub_weekday     18393 non-null  int64  \n",
      " 11  pub_day         18393 non-null  int64  \n",
      " 12  pub_month       18393 non-null  int64  \n",
      " 13  pub_year        18393 non-null  int64  \n",
      "dtypes: float64(1), int64(7), object(6)\n",
      "memory usage: 2.0+ MB\n"
     ]
    }
   ],
   "source": [
    "df_pitch.info()"
   ]
  },
  {
   "cell_type": "code",
   "execution_count": 4,
   "id": "a5a10aef",
   "metadata": {},
   "outputs": [
    {
     "data": {
      "text/plain": [
       "joe tangari                          816\n",
       "stephen m. deusner                   725\n",
       "ian cohen                            699\n",
       "brian howe                           500\n",
       "mark richardson                      476\n",
       "                                    ... \n",
       "kris ex                                1\n",
       "rollie pemberton & nick sylvester      1\n",
       "nathan humpal                          1\n",
       "caryn rose                             1\n",
       "jared bane                             1\n",
       "Name: author, Length: 432, dtype: int64"
      ]
     },
     "execution_count": 4,
     "metadata": {},
     "output_type": "execute_result"
    }
   ],
   "source": [
    "df_pitch.author.value_counts()"
   ]
  },
  {
   "cell_type": "code",
   "execution_count": 5,
   "id": "b815e256",
   "metadata": {},
   "outputs": [
    {
     "data": {
      "text/plain": [
       "guided by voices     23\n",
       "david bowie          21\n",
       "the beatles          21\n",
       "of montreal          20\n",
       "mogwai               20\n",
       "                     ..\n",
       "the frequency         1\n",
       "lorn                  1\n",
       "hagerty-toth band     1\n",
       "sound team            1\n",
       "f ingers              1\n",
       "Name: artist, Length: 8713, dtype: int64"
      ]
     },
     "execution_count": 5,
     "metadata": {},
     "output_type": "execute_result"
    }
   ],
   "source": [
    "df_pitch[df_pitch['artist']!='various artists'].artist.value_counts()"
   ]
  },
  {
   "cell_type": "markdown",
   "id": "bc239026",
   "metadata": {},
   "source": [
    "## Ejercicio 1.\n",
    "\n",
    "Encontrar el número de personas que tienen cada \"author type\" en el dataset de Pitchfork"
   ]
  },
  {
   "cell_type": "code",
   "execution_count": 6,
   "id": "3f07fca8",
   "metadata": {},
   "outputs": [
    {
     "data": {
      "text/html": [
       "<div>\n",
       "<style scoped>\n",
       "    .dataframe tbody tr th:only-of-type {\n",
       "        vertical-align: middle;\n",
       "    }\n",
       "\n",
       "    .dataframe tbody tr th {\n",
       "        vertical-align: top;\n",
       "    }\n",
       "\n",
       "    .dataframe thead th {\n",
       "        text-align: right;\n",
       "    }\n",
       "</style>\n",
       "<table border=\"1\" class=\"dataframe\">\n",
       "  <thead>\n",
       "    <tr style=\"text-align: right;\">\n",
       "      <th></th>\n",
       "      <th>author_type</th>\n",
       "      <th>author</th>\n",
       "    </tr>\n",
       "  </thead>\n",
       "  <tbody>\n",
       "    <tr>\n",
       "      <th>6</th>\n",
       "      <td>contributor</td>\n",
       "      <td>225</td>\n",
       "    </tr>\n",
       "    <tr>\n",
       "      <th>1</th>\n",
       "      <td>associate editor</td>\n",
       "      <td>17</td>\n",
       "    </tr>\n",
       "    <tr>\n",
       "      <th>4</th>\n",
       "      <td>associate staff writer</td>\n",
       "      <td>4</td>\n",
       "    </tr>\n",
       "    <tr>\n",
       "      <th>12</th>\n",
       "      <td>senior editor</td>\n",
       "      <td>3</td>\n",
       "    </tr>\n",
       "    <tr>\n",
       "      <th>5</th>\n",
       "      <td>contributing editor</td>\n",
       "      <td>2</td>\n",
       "    </tr>\n",
       "    <tr>\n",
       "      <th>14</th>\n",
       "      <td>tracks coordinator</td>\n",
       "      <td>2</td>\n",
       "    </tr>\n",
       "    <tr>\n",
       "      <th>0</th>\n",
       "      <td>assistant editor</td>\n",
       "      <td>1</td>\n",
       "    </tr>\n",
       "    <tr>\n",
       "      <th>2</th>\n",
       "      <td>associate features editor</td>\n",
       "      <td>1</td>\n",
       "    </tr>\n",
       "    <tr>\n",
       "      <th>3</th>\n",
       "      <td>associate reviews editor</td>\n",
       "      <td>1</td>\n",
       "    </tr>\n",
       "    <tr>\n",
       "      <th>7</th>\n",
       "      <td>deputy news editor</td>\n",
       "      <td>1</td>\n",
       "    </tr>\n",
       "    <tr>\n",
       "      <th>8</th>\n",
       "      <td>editor-in-chief</td>\n",
       "      <td>1</td>\n",
       "    </tr>\n",
       "    <tr>\n",
       "      <th>9</th>\n",
       "      <td>executive editor</td>\n",
       "      <td>1</td>\n",
       "    </tr>\n",
       "    <tr>\n",
       "      <th>10</th>\n",
       "      <td>managing editor</td>\n",
       "      <td>1</td>\n",
       "    </tr>\n",
       "    <tr>\n",
       "      <th>11</th>\n",
       "      <td>news director</td>\n",
       "      <td>1</td>\n",
       "    </tr>\n",
       "    <tr>\n",
       "      <th>13</th>\n",
       "      <td>senior staff writer</td>\n",
       "      <td>1</td>\n",
       "    </tr>\n",
       "  </tbody>\n",
       "</table>\n",
       "</div>"
      ],
      "text/plain": [
       "                  author_type  author\n",
       "6                 contributor     225\n",
       "1            associate editor      17\n",
       "4      associate staff writer       4\n",
       "12              senior editor       3\n",
       "5         contributing editor       2\n",
       "14         tracks coordinator       2\n",
       "0            assistant editor       1\n",
       "2   associate features editor       1\n",
       "3    associate reviews editor       1\n",
       "7          deputy news editor       1\n",
       "8             editor-in-chief       1\n",
       "9            executive editor       1\n",
       "10            managing editor       1\n",
       "11              news director       1\n",
       "13        senior staff writer       1"
      ]
     },
     "execution_count": 6,
     "metadata": {},
     "output_type": "execute_result"
    }
   ],
   "source": [
    "grouped = df_pitch.groupby(by='author_type',as_index=False)['author'].nunique().sort_values(by='author',ascending=False)\n",
    "grouped"
   ]
  },
  {
   "cell_type": "markdown",
   "id": "26377f39",
   "metadata": {},
   "source": [
    "### Gráficos!\n",
    "\n",
    "Dentro de este análisis inicial es conveniente utilizar las visualizaciones que, por defecto, proporciona pandas.\n",
    "\n",
    "El objetivo es entender mejor la distribución sin tener que \"interpretar\" los rangos intercuartiles que podemos obtener, por ejemplo, con describe.\n",
    "\n",
    "Lo más normal, a la hora de entender una variable es comenzar con un boxplot o con un histograma.\n",
    "\n",
    "El boxplot da un resumen de los datos, incluyendo unos valores que, probablemente puedan ser considerados como outliers:"
   ]
  },
  {
   "cell_type": "code",
   "execution_count": 7,
   "id": "b55b6228",
   "metadata": {},
   "outputs": [
    {
     "data": {
      "text/plain": [
       "<AxesSubplot:xlabel='score'>"
      ]
     },
     "execution_count": 7,
     "metadata": {},
     "output_type": "execute_result"
    },
    {
     "data": {
      "image/png": "[encoded data removed]",
      "text/plain": [
       "<Figure size 1152x288 with 1 Axes>"
      ]
     },
     "metadata": {
      "needs_background": "light"
     },
     "output_type": "display_data"
    }
   ],
   "source": [
    "sns.boxplot(x = df_pitch.score)"
   ]
  },
  {
   "cell_type": "code",
   "execution_count": 8,
   "id": "0f5fe462",
   "metadata": {
    "scrolled": true
   },
   "outputs": [
    {
     "data": {
      "text/plain": [
       "<AxesSubplot:xlabel='score', ylabel='Count'>"
      ]
     },
     "execution_count": 8,
     "metadata": {},
     "output_type": "execute_result"
    },
    {
     "data": {
      "image/png": "[encoded data removed]",
      "text/plain": [
       "<Figure size 1152x288 with 1 Axes>"
      ]
     },
     "metadata": {
      "needs_background": "light"
     },
     "output_type": "display_data"
    }
   ],
   "source": [
    "sns.histplot(df_pitch.score)"
   ]
  },
  {
   "cell_type": "code",
   "execution_count": 9,
   "id": "091890ea",
   "metadata": {},
   "outputs": [
    {
     "data": {
      "text/plain": [
       "<AxesSubplot:xlabel='score', ylabel='Count'>"
      ]
     },
     "execution_count": 9,
     "metadata": {},
     "output_type": "execute_result"
    },
    {
     "data": {
      "image/png": "[encoded data removed]",
      "text/plain": [
       "<Figure size 1152x288 with 1 Axes>"
      ]
     },
     "metadata": {
      "needs_background": "light"
     },
     "output_type": "display_data"
    }
   ],
   "source": [
    "sns.histplot(df_pitch['score'], bins=10)"
   ]
  },
  {
   "cell_type": "code",
   "execution_count": 10,
   "id": "20141b9c",
   "metadata": {},
   "outputs": [
    {
     "data": {
      "text/plain": [
       "<seaborn.axisgrid.FacetGrid at 0x1d4fe3dbb80>"
      ]
     },
     "execution_count": 10,
     "metadata": {},
     "output_type": "execute_result"
    },
    {
     "data": {
      "image/png": "[encoded data removed]",
      "text/plain": [
       "<Figure size 360x360 with 1 Axes>"
      ]
     },
     "metadata": {
      "needs_background": "light"
     },
     "output_type": "display_data"
    }
   ],
   "source": [
    "sns.displot(df_pitch.score,kde=True,bins=10,color='r')"
   ]
  },
  {
   "cell_type": "code",
   "execution_count": 11,
   "id": "7bcb6a91",
   "metadata": {},
   "outputs": [
    {
     "data": {
      "text/plain": [
       "<AxesSubplot:xlabel='reviewid', ylabel='score'>"
      ]
     },
     "execution_count": 11,
     "metadata": {},
     "output_type": "execute_result"
    },
    {
     "data": {
      "image/png": "[encoded data removed]",
      "text/plain": [
       "<Figure size 1152x288 with 1 Axes>"
      ]
     },
     "metadata": {
      "needs_background": "light"
     },
     "output_type": "display_data"
    }
   ],
   "source": [
    "sns.scatterplot(data=df_pitch, x='reviewid', y='score')"
   ]
  },
  {
   "cell_type": "code",
   "execution_count": 12,
   "id": "ca51bdd7",
   "metadata": {},
   "outputs": [
    {
     "data": {
      "text/plain": [
       "<AxesSubplot:xlabel='reviewid', ylabel='score'>"
      ]
     },
     "execution_count": 12,
     "metadata": {},
     "output_type": "execute_result"
    },
    {
     "data": {
      "image/png": "[encoded data removed]",
      "text/plain": [
       "<Figure size 1152x288 with 1 Axes>"
      ]
     },
     "metadata": {
      "needs_background": "light"
     },
     "output_type": "display_data"
    }
   ],
   "source": [
    "sns.scatterplot(data=df_pitch[df_pitch['artist'].str.contains('jackson')==True], x='reviewid', y='score')"
   ]
  },
  {
   "cell_type": "code",
   "execution_count": 13,
   "id": "cf71034b",
   "metadata": {},
   "outputs": [
    {
     "data": {
      "text/plain": [
       "<AxesSubplot:xlabel='score', ylabel='author_type'>"
      ]
     },
     "execution_count": 13,
     "metadata": {},
     "output_type": "execute_result"
    },
    {
     "data": {
      "image/png": "[encoded data removed]",
      "text/plain": [
       "<Figure size 1152x288 with 1 Axes>"
      ]
     },
     "metadata": {
      "needs_background": "light"
     },
     "output_type": "display_data"
    }
   ],
   "source": [
    "sns.categorical.barplot(data=df_pitch, x='score', y = 'author_type', orient='horizontal', )"
   ]
  },
  {
   "cell_type": "code",
   "execution_count": 14,
   "id": "4ab7b1ab",
   "metadata": {},
   "outputs": [
    {
     "data": {
      "text/plain": [
       "<AxesSubplot:xlabel='count', ylabel='author_type'>"
      ]
     },
     "execution_count": 14,
     "metadata": {},
     "output_type": "execute_result"
    },
    {
     "data": {
      "image/png": "[encoded data removed]",
      "text/plain": [
       "<Figure size 1152x288 with 1 Axes>"
      ]
     },
     "metadata": {
      "needs_background": "light"
     },
     "output_type": "display_data"
    }
   ],
   "source": [
    "sns.categorical.countplot(data=df_pitch, y = 'author_type', orient='horizontal')"
   ]
  },
  {
   "cell_type": "code",
   "execution_count": 15,
   "id": "f13cb209",
   "metadata": {},
   "outputs": [
    {
     "data": {
      "text/plain": [
       "<AxesSubplot:xlabel='author_type', ylabel='score'>"
      ]
     },
     "execution_count": 15,
     "metadata": {},
     "output_type": "execute_result"
    },
    {
     "data": {
      "image/png": "[encoded data removed]",
      "text/plain": [
       "<Figure size 1152x288 with 1 Axes>"
      ]
     },
     "metadata": {
      "needs_background": "light"
     },
     "output_type": "display_data"
    }
   ],
   "source": [
    "sns.categorical.boxplot(data=df_pitch, x='author_type', y = 'score', orient='vertical')"
   ]
  },
  {
   "cell_type": "code",
   "execution_count": 16,
   "id": "cadd3947",
   "metadata": {},
   "outputs": [
    {
     "data": {
      "text/plain": [
       "<AxesSubplot:xlabel='author_type', ylabel='score'>"
      ]
     },
     "execution_count": 16,
     "metadata": {},
     "output_type": "execute_result"
    },
    {
     "data": {
      "image/png": "[encoded data removed]",
      "text/plain": [
       "<Figure size 1152x288 with 1 Axes>"
      ]
     },
     "metadata": {
      "needs_background": "light"
     },
     "output_type": "display_data"
    }
   ],
   "source": [
    "sns.categorical.violinplot(data=df_pitch, x='author_type', y = 'score', orient='vertical')"
   ]
  },
  {
   "cell_type": "code",
   "execution_count": 17,
   "id": "a308486f",
   "metadata": {},
   "outputs": [],
   "source": [
    "df_pitch.drop(columns=['Unnamed: 0'], inplace=True)"
   ]
  },
  {
   "cell_type": "code",
   "execution_count": 18,
   "id": "6bf46d5b",
   "metadata": {},
   "outputs": [],
   "source": [
    "df_pitch.drop(columns=['url','artist','title'],inplace=True)"
   ]
  },
  {
   "cell_type": "code",
   "execution_count": 19,
   "id": "48e82f49",
   "metadata": {},
   "outputs": [
    {
     "data": {
      "text/html": [
       "<div>\n",
       "<style scoped>\n",
       "    .dataframe tbody tr th:only-of-type {\n",
       "        vertical-align: middle;\n",
       "    }\n",
       "\n",
       "    .dataframe tbody tr th {\n",
       "        vertical-align: top;\n",
       "    }\n",
       "\n",
       "    .dataframe thead th {\n",
       "        text-align: right;\n",
       "    }\n",
       "</style>\n",
       "<table border=\"1\" class=\"dataframe\">\n",
       "  <thead>\n",
       "    <tr style=\"text-align: right;\">\n",
       "      <th></th>\n",
       "      <th>Unnamed: 0</th>\n",
       "      <th>reviewid</th>\n",
       "      <th>title</th>\n",
       "      <th>artist</th>\n",
       "      <th>url</th>\n",
       "      <th>score</th>\n",
       "      <th>best_new_music</th>\n",
       "      <th>author</th>\n",
       "      <th>author_type</th>\n",
       "      <th>pub_date</th>\n",
       "      <th>pub_weekday</th>\n",
       "      <th>pub_day</th>\n",
       "      <th>pub_month</th>\n",
       "      <th>pub_year</th>\n",
       "    </tr>\n",
       "  </thead>\n",
       "  <tbody>\n",
       "    <tr>\n",
       "      <th>0</th>\n",
       "      <td>0.0</td>\n",
       "      <td>22703</td>\n",
       "      <td>mezzanine</td>\n",
       "      <td>massive attack</td>\n",
       "      <td>http://pitchfork.com/reviews/albums/22703-mezz...</td>\n",
       "      <td>9.3</td>\n",
       "      <td>0</td>\n",
       "      <td>nate patrin</td>\n",
       "      <td>contributor</td>\n",
       "      <td>2017-01-08</td>\n",
       "      <td>6</td>\n",
       "      <td>8.0</td>\n",
       "      <td>1.0</td>\n",
       "      <td>2017</td>\n",
       "    </tr>\n",
       "    <tr>\n",
       "      <th>1</th>\n",
       "      <td>1.0</td>\n",
       "      <td>22721</td>\n",
       "      <td>prelapsarian</td>\n",
       "      <td>krallice</td>\n",
       "      <td>http://pitchfork.com/reviews/albums/22721-prel...</td>\n",
       "      <td>7.9</td>\n",
       "      <td>0</td>\n",
       "      <td>zoe camp</td>\n",
       "      <td>contributor</td>\n",
       "      <td>2017-01-07</td>\n",
       "      <td>5</td>\n",
       "      <td>7.0</td>\n",
       "      <td>1.0</td>\n",
       "      <td>2017</td>\n",
       "    </tr>\n",
       "    <tr>\n",
       "      <th>2</th>\n",
       "      <td>2.0</td>\n",
       "      <td>22659</td>\n",
       "      <td>all of them naturals</td>\n",
       "      <td>uranium club</td>\n",
       "      <td>http://pitchfork.com/reviews/albums/22659-all-...</td>\n",
       "      <td>7.3</td>\n",
       "      <td>0</td>\n",
       "      <td>david glickman</td>\n",
       "      <td>contributor</td>\n",
       "      <td>2017-01-07</td>\n",
       "      <td>5</td>\n",
       "      <td>7.0</td>\n",
       "      <td>1.0</td>\n",
       "      <td>2017</td>\n",
       "    </tr>\n",
       "    <tr>\n",
       "      <th>3</th>\n",
       "      <td>3.0</td>\n",
       "      <td>22661</td>\n",
       "      <td>first songs</td>\n",
       "      <td>kleenex, liliput</td>\n",
       "      <td>http://pitchfork.com/reviews/albums/22661-firs...</td>\n",
       "      <td>9.3</td>\n",
       "      <td>1</td>\n",
       "      <td>jenn pelly</td>\n",
       "      <td>associate reviews editor</td>\n",
       "      <td>2017-01-06</td>\n",
       "      <td>4</td>\n",
       "      <td>6.0</td>\n",
       "      <td>1.0</td>\n",
       "      <td>2017</td>\n",
       "    </tr>\n",
       "    <tr>\n",
       "      <th>4</th>\n",
       "      <td>4.0</td>\n",
       "      <td>22725</td>\n",
       "      <td>new start</td>\n",
       "      <td>taso</td>\n",
       "      <td>http://pitchfork.com/reviews/albums/22725-new-...</td>\n",
       "      <td>8.1</td>\n",
       "      <td>0</td>\n",
       "      <td>kevin lozano</td>\n",
       "      <td>tracks coordinator</td>\n",
       "      <td>2017-01-06</td>\n",
       "      <td>4</td>\n",
       "      <td>6.0</td>\n",
       "      <td>1.0</td>\n",
       "      <td>2017</td>\n",
       "    </tr>\n",
       "    <tr>\n",
       "      <th>...</th>\n",
       "      <td>...</td>\n",
       "      <td>...</td>\n",
       "      <td>...</td>\n",
       "      <td>...</td>\n",
       "      <td>...</td>\n",
       "      <td>...</td>\n",
       "      <td>...</td>\n",
       "      <td>...</td>\n",
       "      <td>...</td>\n",
       "      <td>...</td>\n",
       "      <td>...</td>\n",
       "      <td>...</td>\n",
       "      <td>...</td>\n",
       "      <td>...</td>\n",
       "    </tr>\n",
       "    <tr>\n",
       "      <th>18388</th>\n",
       "      <td>18388.0</td>\n",
       "      <td>1535</td>\n",
       "      <td>let us replay!</td>\n",
       "      <td>coldcut</td>\n",
       "      <td>http://pitchfork.com/reviews/albums/1535-let-u...</td>\n",
       "      <td>8.9</td>\n",
       "      <td>0</td>\n",
       "      <td>james p. wisdom</td>\n",
       "      <td>9.3</td>\n",
       "      <td>1999-01-26</td>\n",
       "      <td>1</td>\n",
       "      <td>26.0</td>\n",
       "      <td>1.0</td>\n",
       "      <td>1999</td>\n",
       "    </tr>\n",
       "    <tr>\n",
       "      <th>18389</th>\n",
       "      <td>18389.0</td>\n",
       "      <td>1341</td>\n",
       "      <td>1999</td>\n",
       "      <td>cassius</td>\n",
       "      <td>http://pitchfork.com/reviews/albums/1341-1999/</td>\n",
       "      <td>4.8</td>\n",
       "      <td>0</td>\n",
       "      <td>james p. wisdom</td>\n",
       "      <td>9.3</td>\n",
       "      <td>1999-01-26</td>\n",
       "      <td>1</td>\n",
       "      <td>26.0</td>\n",
       "      <td>1.0</td>\n",
       "      <td>1999</td>\n",
       "    </tr>\n",
       "    <tr>\n",
       "      <th>18390</th>\n",
       "      <td>18390.0</td>\n",
       "      <td>5376</td>\n",
       "      <td>out of tune</td>\n",
       "      <td>mojave 3</td>\n",
       "      <td>http://pitchfork.com/reviews/albums/5376-out-o...</td>\n",
       "      <td>6.3</td>\n",
       "      <td>0</td>\n",
       "      <td>jason josephes</td>\n",
       "      <td>contributor</td>\n",
       "      <td>1999-01-12</td>\n",
       "      <td>1</td>\n",
       "      <td>12.0</td>\n",
       "      <td>1.0</td>\n",
       "      <td>1999</td>\n",
       "    </tr>\n",
       "    <tr>\n",
       "      <th>18391</th>\n",
       "      <td>18391.0</td>\n",
       "      <td>2413</td>\n",
       "      <td>singles breaking up, vol. 1</td>\n",
       "      <td>don caballero</td>\n",
       "      <td>http://pitchfork.com/reviews/albums/2413-singl...</td>\n",
       "      <td>7.2</td>\n",
       "      <td>0</td>\n",
       "      <td>james p. wisdom</td>\n",
       "      <td>9.3</td>\n",
       "      <td>1999-01-12</td>\n",
       "      <td>1</td>\n",
       "      <td>12.0</td>\n",
       "      <td>1.0</td>\n",
       "      <td>1999</td>\n",
       "    </tr>\n",
       "    <tr>\n",
       "      <th>18392</th>\n",
       "      <td>18392.0</td>\n",
       "      <td>3723</td>\n",
       "      <td>left for dead in malaysia</td>\n",
       "      <td>neil hamburger</td>\n",
       "      <td>http://pitchfork.com/reviews/albums/3723-left-...</td>\n",
       "      <td>6.5</td>\n",
       "      <td>0</td>\n",
       "      <td>jason josephes</td>\n",
       "      <td>contributor</td>\n",
       "      <td>1999-01-05</td>\n",
       "      <td>1</td>\n",
       "      <td>5.0</td>\n",
       "      <td>1.0</td>\n",
       "      <td>1999</td>\n",
       "    </tr>\n",
       "  </tbody>\n",
       "</table>\n",
       "<p>18393 rows × 14 columns</p>\n",
       "</div>"
      ],
      "text/plain": [
       "       Unnamed: 0  reviewid                        title            artist  \\\n",
       "0             0.0     22703                    mezzanine    massive attack   \n",
       "1             1.0     22721                 prelapsarian          krallice   \n",
       "2             2.0     22659         all of them naturals      uranium club   \n",
       "3             3.0     22661                  first songs  kleenex, liliput   \n",
       "4             4.0     22725                    new start              taso   \n",
       "...           ...       ...                          ...               ...   \n",
       "18388     18388.0      1535               let us replay!           coldcut   \n",
       "18389     18389.0      1341                         1999           cassius   \n",
       "18390     18390.0      5376                  out of tune          mojave 3   \n",
       "18391     18391.0      2413  singles breaking up, vol. 1     don caballero   \n",
       "18392     18392.0      3723    left for dead in malaysia    neil hamburger   \n",
       "\n",
       "                                                     url  score  \\\n",
       "0      http://pitchfork.com/reviews/albums/22703-mezz...    9.3   \n",
       "1      http://pitchfork.com/reviews/albums/22721-prel...    7.9   \n",
       "2      http://pitchfork.com/reviews/albums/22659-all-...    7.3   \n",
       "3      http://pitchfork.com/reviews/albums/22661-firs...    9.3   \n",
       "4      http://pitchfork.com/reviews/albums/22725-new-...    8.1   \n",
       "...                                                  ...    ...   \n",
       "18388  http://pitchfork.com/reviews/albums/1535-let-u...    8.9   \n",
       "18389     http://pitchfork.com/reviews/albums/1341-1999/    4.8   \n",
       "18390  http://pitchfork.com/reviews/albums/5376-out-o...    6.3   \n",
       "18391  http://pitchfork.com/reviews/albums/2413-singl...    7.2   \n",
       "18392  http://pitchfork.com/reviews/albums/3723-left-...    6.5   \n",
       "\n",
       "       best_new_music           author               author_type    pub_date  \\\n",
       "0                   0      nate patrin               contributor  2017-01-08   \n",
       "1                   0         zoe camp               contributor  2017-01-07   \n",
       "2                   0   david glickman               contributor  2017-01-07   \n",
       "3                   1       jenn pelly  associate reviews editor  2017-01-06   \n",
       "4                   0     kevin lozano        tracks coordinator  2017-01-06   \n",
       "...               ...              ...                       ...         ...   \n",
       "18388               0  james p. wisdom                       9.3  1999-01-26   \n",
       "18389               0  james p. wisdom                       9.3  1999-01-26   \n",
       "18390               0   jason josephes               contributor  1999-01-12   \n",
       "18391               0  james p. wisdom                       9.3  1999-01-12   \n",
       "18392               0   jason josephes               contributor  1999-01-05   \n",
       "\n",
       "       pub_weekday  pub_day  pub_month  pub_year  \n",
       "0                6      8.0        1.0      2017  \n",
       "1                5      7.0        1.0      2017  \n",
       "2                5      7.0        1.0      2017  \n",
       "3                4      6.0        1.0      2017  \n",
       "4                4      6.0        1.0      2017  \n",
       "...            ...      ...        ...       ...  \n",
       "18388            1     26.0        1.0      1999  \n",
       "18389            1     26.0        1.0      1999  \n",
       "18390            1     12.0        1.0      1999  \n",
       "18391            1     12.0        1.0      1999  \n",
       "18392            1      5.0        1.0      1999  \n",
       "\n",
       "[18393 rows x 14 columns]"
      ]
     },
     "execution_count": 19,
     "metadata": {},
     "output_type": "execute_result"
    }
   ],
   "source": [
    "df = pd.read_csv('./data/reviews.csv',na_values=[9.3])\n",
    "df.fillna(9.3)"
   ]
  },
  {
   "cell_type": "markdown",
   "id": "c3473183",
   "metadata": {},
   "source": [
    "### Ejercicio 3\n",
    "\n",
    "Agrupa las categorías con menos de 100 reviews en \"sin determinar\".\n",
    "\n",
    "Recuerda:\n",
    " - Puedes obtener el conteo de valores de una variable con value_counts\n",
    " - value_counts devuelve un dataframe\n",
    " - el índice del dataframe es la categoría\n",
    " - el único valor del dataframe puede filtrarse"
   ]
  },
  {
   "cell_type": "code",
   "execution_count": 20,
   "id": "00ecbbad",
   "metadata": {},
   "outputs": [
    {
     "data": {
      "text/plain": [
       "contributor                  12422\n",
       "senior editor                  486\n",
       "executive editor               475\n",
       "senior staff writer            439\n",
       "contributing editor            210\n",
       "associate staff writer         105\n",
       "deputy news editor             100\n",
       "editor-in-chief                 85\n",
       "tracks coordinator              52\n",
       "associate reviews editor        41\n",
       "associate editor                37\n",
       "assistant editor                16\n",
       "associate features editor       11\n",
       "news director                    5\n",
       "managing editor                  3\n",
       "Name: author_type, dtype: int64"
      ]
     },
     "execution_count": 20,
     "metadata": {},
     "output_type": "execute_result"
    }
   ],
   "source": [
    "df_pitch['author_type'].value_counts()"
   ]
  },
  {
   "cell_type": "code",
   "execution_count": 21,
   "id": "6aaa8c2c",
   "metadata": {},
   "outputs": [
    {
     "data": {
      "text/plain": [
       "['editor-in-chief',\n",
       " 'tracks coordinator',\n",
       " 'associate reviews editor',\n",
       " 'associate editor',\n",
       " 'assistant editor',\n",
       " 'associate features editor',\n",
       " 'news director',\n",
       " 'managing editor']"
      ]
     },
     "execution_count": 21,
     "metadata": {},
     "output_type": "execute_result"
    }
   ],
   "source": [
    "counter = df_pitch['author_type'].value_counts()\n",
    "counter = list(counter[counter<100].index)\n",
    "counter"
   ]
  },
  {
   "cell_type": "code",
   "execution_count": 22,
   "id": "f30e329a",
   "metadata": {},
   "outputs": [
    {
     "data": {
      "text/plain": [
       "contributor               12422\n",
       "senior editor               486\n",
       "executive editor            475\n",
       "senior staff writer         439\n",
       "sin determinar              250\n",
       "contributing editor         210\n",
       "associate staff writer      105\n",
       "deputy news editor          100\n",
       "Name: author_type, dtype: int64"
      ]
     },
     "execution_count": 22,
     "metadata": {},
     "output_type": "execute_result"
    }
   ],
   "source": [
    "df_pitch['author_type'] = np.where(df_pitch['author_type'].isin(counter),'sin determinar',df_pitch['author_type'])\n",
    "df_pitch['author_type'].value_counts()"
   ]
  },
  {
   "cell_type": "code",
   "execution_count": 23,
   "id": "d4877072",
   "metadata": {},
   "outputs": [
    {
     "name": "stdout",
     "output_type": "stream",
     "text": [
      "<class 'pandas.core.frame.DataFrame'>\n",
      "RangeIndex: 18393 entries, 0 to 18392\n",
      "Data columns (total 10 columns):\n",
      " #   Column          Non-Null Count  Dtype   \n",
      "---  ------          --------------  -----   \n",
      " 0   reviewid        18393 non-null  int64   \n",
      " 1   score           18393 non-null  float64 \n",
      " 2   best_new_music  18393 non-null  int64   \n",
      " 3   author          18393 non-null  object  \n",
      " 4   author_type     14487 non-null  category\n",
      " 5   pub_date        18393 non-null  object  \n",
      " 6   pub_weekday     18393 non-null  int64   \n",
      " 7   pub_day         18393 non-null  int64   \n",
      " 8   pub_month       18393 non-null  int64   \n",
      " 9   pub_year        18393 non-null  int64   \n",
      "dtypes: category(1), float64(1), int64(6), object(2)\n",
      "memory usage: 1.3+ MB\n"
     ]
    }
   ],
   "source": [
    "df_pitch['author_type'] = df_pitch['author_type'].astype(\"category\")\n",
    "df_pitch.info()"
   ]
  },
  {
   "cell_type": "markdown",
   "id": "0b307c40",
   "metadata": {},
   "source": [
    "## Ejercicio 4. Benford's Law\n",
    "\n",
    "Antes de seguir con la preparación de datos, como ejercicio \"recreativo\" vamos a tratar una pequeña curiosidad.\n",
    "\n",
    "La llamada Ley de Benford.\n",
    "\n",
    "Esta \"Ley\" dice que, en algunos conjuntos de datos reales, existe una relación entre el número de números que comienzan por el dígito 1 y los que lo hacen por el 2, los que empiezan por 2 y los que empiezan por 3...\n",
    "\n",
    "Utiliza el fichero \"precios_venta.xlsx\" que contiene muestras de 5 juegos de datos para comprobar si se cumple la Ley de Benford en cada uno de ellos.\n",
    "\n",
    "Para comprobar si se cumple o no, debes:\n",
    "1. Visualiza el contenido del Dataframe, ¿qué valores tiene?\n",
    "1. ¿Los valores cambian por muestra?\n",
    "1. Encontrar una forma de, dado un número, leer su primer dígito\n",
    "1. Separar las muestras que hay en el fichero\n",
    "2. Para cada muestra, obtener el % relativo de aparición de cada primer dígito\n",
    "3. Comparar los resultados de cada análisis por separado"
   ]
  },
  {
   "cell_type": "code",
   "execution_count": 24,
   "id": "000c873f",
   "metadata": {},
   "outputs": [
    {
     "data": {
      "text/plain": [
       "31268"
      ]
     },
     "execution_count": 24,
     "metadata": {},
     "output_type": "execute_result"
    }
   ],
   "source": [
    "import pandas as pd\n",
    "from matplotlib import pyplot\n",
    "\n",
    "pyplot.rcParams['figure.figsize'] = (16,6)\n",
    "df = pd.read_excel('./data/precios_venta.xlsx')\n",
    "\n",
    "df.shape[0]"
   ]
  },
  {
   "cell_type": "code",
   "execution_count": 25,
   "id": "4498a1eb",
   "metadata": {},
   "outputs": [
    {
     "name": "stdout",
     "output_type": "stream",
     "text": [
      "1.0 / 9444265.77\n"
     ]
    }
   ],
   "source": [
    "print(df.PRECIO.min(),'/',df.PRECIO.max())"
   ]
  },
  {
   "cell_type": "code",
   "execution_count": 26,
   "id": "8392c2e5",
   "metadata": {},
   "outputs": [
    {
     "data": {
      "text/plain": [
       "<AxesSubplot:xlabel='MUESTRA', ylabel='PRECIO'>"
      ]
     },
     "execution_count": 26,
     "metadata": {},
     "output_type": "execute_result"
    },
    {
     "data": {
      "image/png": "[encoded data removed]",
      "text/plain": [
       "<Figure size 1152x432 with 1 Axes>"
      ]
     },
     "metadata": {
      "needs_background": "light"
     },
     "output_type": "display_data"
    }
   ],
   "source": [
    "sns.scatterplot(data=df, x='MUESTRA', y='PRECIO')"
   ]
  },
  {
   "cell_type": "code",
   "execution_count": 27,
   "id": "44cedb4a",
   "metadata": {},
   "outputs": [
    {
     "data": {
      "text/html": [
       "<div>\n",
       "<style scoped>\n",
       "    .dataframe tbody tr th:only-of-type {\n",
       "        vertical-align: middle;\n",
       "    }\n",
       "\n",
       "    .dataframe tbody tr th {\n",
       "        vertical-align: top;\n",
       "    }\n",
       "\n",
       "    .dataframe thead th {\n",
       "        text-align: right;\n",
       "    }\n",
       "</style>\n",
       "<table border=\"1\" class=\"dataframe\">\n",
       "  <thead>\n",
       "    <tr style=\"text-align: right;\">\n",
       "      <th></th>\n",
       "      <th>MUESTRA</th>\n",
       "      <th>PRECIO</th>\n",
       "    </tr>\n",
       "  </thead>\n",
       "  <tbody>\n",
       "    <tr>\n",
       "      <th>0</th>\n",
       "      <td>SAMPLE 1</td>\n",
       "      <td>1.00</td>\n",
       "    </tr>\n",
       "    <tr>\n",
       "      <th>1</th>\n",
       "      <td>SAMPLE 1</td>\n",
       "      <td>1.01</td>\n",
       "    </tr>\n",
       "    <tr>\n",
       "      <th>2</th>\n",
       "      <td>SAMPLE 1</td>\n",
       "      <td>1.02</td>\n",
       "    </tr>\n",
       "    <tr>\n",
       "      <th>3</th>\n",
       "      <td>SAMPLE 1</td>\n",
       "      <td>1.03</td>\n",
       "    </tr>\n",
       "    <tr>\n",
       "      <th>4</th>\n",
       "      <td>SAMPLE 1</td>\n",
       "      <td>1.04</td>\n",
       "    </tr>\n",
       "  </tbody>\n",
       "</table>\n",
       "</div>"
      ],
      "text/plain": [
       "    MUESTRA  PRECIO\n",
       "0  SAMPLE 1    1.00\n",
       "1  SAMPLE 1    1.01\n",
       "2  SAMPLE 1    1.02\n",
       "3  SAMPLE 1    1.03\n",
       "4  SAMPLE 1    1.04"
      ]
     },
     "execution_count": 27,
     "metadata": {},
     "output_type": "execute_result"
    }
   ],
   "source": [
    "import pandas as pd\n",
    "df = pd.read_excel('./data/precios_venta.xlsx')\n",
    "df.head()"
   ]
  },
  {
   "cell_type": "code",
   "execution_count": 28,
   "id": "2984ac92",
   "metadata": {},
   "outputs": [],
   "source": [
    "df['PRIMER DIGITO'] = df['PRECIO'].astype(str).str[0]\n",
    "df['PRIMER DIGITO'] = df['PRIMER DIGITO'].astype(int)"
   ]
  },
  {
   "cell_type": "code",
   "execution_count": 29,
   "id": "4ee46d3e",
   "metadata": {},
   "outputs": [
    {
     "data": {
      "text/plain": [
       "1    30.73\n",
       "2    15.09\n",
       "3    13.72\n",
       "4    13.07\n",
       "5     7.15\n",
       "7     6.08\n",
       "9     5.23\n",
       "6     4.77\n",
       "8     4.14\n",
       "Name: PRIMER DIGITO, dtype: float64"
      ]
     },
     "execution_count": 29,
     "metadata": {},
     "output_type": "execute_result"
    }
   ],
   "source": [
    "pcts = round((df['PRIMER DIGITO'].value_counts() / df['PRIMER DIGITO'].value_counts().sum()) * 100,2)\n",
    "pcts"
   ]
  },
  {
   "cell_type": "code",
   "execution_count": 30,
   "id": "02f4d5f5",
   "metadata": {},
   "outputs": [],
   "source": [
    "df = pd.read_excel('./data/precios_venta.xlsx')"
   ]
  },
  {
   "cell_type": "code",
   "execution_count": 31,
   "id": "00e725bf",
   "metadata": {},
   "outputs": [
    {
     "name": "stdout",
     "output_type": "stream",
     "text": [
      "SE CUMPLE LA LEY DE BENFORD PARA LA MUESTRA 1\n",
      "1    31.06\n",
      "2    17.32\n",
      "3    12.25\n",
      "4     9.32\n",
      "5     8.08\n",
      "6     6.60\n",
      "7     5.76\n",
      "8     5.10\n",
      "9     4.51\n",
      "Name: PRIMER DIGITO, dtype: float64\n",
      "\n",
      "\n",
      "NO SE CUMPLE LA LEY DE BENFORD PARA LA MUESTRA 2\n",
      "1    31.30\n",
      "4    20.87\n",
      "3    14.07\n",
      "7     8.21\n",
      "9     7.53\n",
      "5     6.52\n",
      "2     5.69\n",
      "8     3.42\n",
      "6     2.39\n",
      "Name: PRIMER DIGITO, dtype: float64\n",
      "\n",
      "\n",
      "SE CUMPLE LA LEY DE BENFORD PARA LA MUESTRA 3\n",
      "1    31.00\n",
      "2    19.12\n",
      "3    12.83\n",
      "4     9.09\n",
      "5     7.76\n",
      "6     6.14\n",
      "7     5.13\n",
      "8     4.61\n",
      "9     4.31\n",
      "Name: PRIMER DIGITO, dtype: float64\n",
      "\n",
      "\n",
      "SE CUMPLE LA LEY DE BENFORD PARA LA MUESTRA 4\n",
      "1    29.39\n",
      "2    20.71\n",
      "3    14.70\n",
      "4     9.85\n",
      "5     7.06\n",
      "6     5.47\n",
      "7     4.84\n",
      "8     4.16\n",
      "9     3.83\n",
      "Name: PRIMER DIGITO, dtype: float64\n",
      "\n",
      "\n",
      "NO SE CUMPLE LA LEY DE BENFORD PARA LA MUESTRA 5\n",
      "1    34.75\n",
      "2    19.00\n",
      "3    12.51\n",
      "4     7.69\n",
      "5     6.67\n",
      "6     5.75\n",
      "9     4.73\n",
      "7     4.54\n",
      "8     4.36\n",
      "Name: PRIMER DIGITO, dtype: float64\n",
      "\n",
      "\n"
     ]
    },
    {
     "name": "stderr",
     "output_type": "stream",
     "text": [
      "C:\\Users\\aleex\\AppData\\Local\\Temp/ipykernel_13464/2213936773.py:3: SettingWithCopyWarning: \n",
      "A value is trying to be set on a copy of a slice from a DataFrame.\n",
      "Try using .loc[row_indexer,col_indexer] = value instead\n",
      "\n",
      "See the caveats in the documentation: https://pandas.pydata.org/pandas-docs/stable/user_guide/indexing.html#returning-a-view-versus-a-copy\n",
      "  df['PRIMER DIGITO'] = df['PRECIO'].astype(str).str[0]\n"
     ]
    }
   ],
   "source": [
    "def check_benford(df,muestra):\n",
    "    df = df[df['MUESTRA'].str.contains(str(muestra))]\n",
    "    df['PRIMER DIGITO'] = df['PRECIO'].astype(str).str[0]\n",
    "    gr = round((df['PRIMER DIGITO'].value_counts() / df['PRIMER DIGITO'].value_counts().sum())*100,2)\n",
    "    idx = list(gr.index)\n",
    "    lst=[]\n",
    "    j = 0\n",
    "    for i in idx:\n",
    "        i = int(i)\n",
    "        k = i-j\n",
    "        lst.append(k)\n",
    "        j = i\n",
    "    if lst==list(np.ones((9))):\n",
    "        v= 'Se cumple la Ley de Benford para la muestra {}'.format(muestra).upper()\n",
    "    else:\n",
    "        v= 'No se cumple la Ley de Benford para la muestra {}'.format(muestra).upper()\n",
    "    print(v)\n",
    "    print(gr)\n",
    "\n",
    "for i in range(1,1+len(list(df.MUESTRA.unique()))):\n",
    "    check_benford(df,i)\n",
    "    print('\\n')"
   ]
  },
  {
   "cell_type": "code",
   "execution_count": 32,
   "id": "72ff1792",
   "metadata": {},
   "outputs": [],
   "source": [
    "plt.rcParams['figure.figsize'] = (16,4)"
   ]
  },
  {
   "cell_type": "code",
   "execution_count": 33,
   "id": "155ab883",
   "metadata": {},
   "outputs": [
    {
     "data": {
      "text/plain": [
       "<AxesSubplot:xlabel='score'>"
      ]
     },
     "execution_count": 33,
     "metadata": {},
     "output_type": "execute_result"
    },
    {
     "data": {
      "image/png": "[encoded data removed]",
      "text/plain": [
       "<Figure size 1152x288 with 1 Axes>"
      ]
     },
     "metadata": {
      "needs_background": "light"
     },
     "output_type": "display_data"
    }
   ],
   "source": [
    "def leer_pitchfork():\n",
    "    df = pd.read_csv('./data/reviews.csv')\n",
    "    df.drop(columns=['Unnamed: 0'], inplace=True)\n",
    "    df = df.drop_duplicates()\n",
    "    return df\n",
    "\n",
    "\n",
    "df_pitch = leer_pitchfork()\n",
    "\n",
    "sns.boxplot(data=df_pitch, x='score')"
   ]
  },
  {
   "cell_type": "code",
   "execution_count": 34,
   "id": "1aed664e",
   "metadata": {},
   "outputs": [
    {
     "data": {
      "text/plain": [
       "<AxesSubplot:xlabel='score'>"
      ]
     },
     "execution_count": 34,
     "metadata": {},
     "output_type": "execute_result"
    },
    {
     "data": {
      "image/png": "[encoded data removed]",
      "text/plain": [
       "<Figure size 1152x288 with 1 Axes>"
      ]
     },
     "metadata": {
      "needs_background": "light"
     },
     "output_type": "display_data"
    }
   ],
   "source": [
    "sns.boxplot(data=df_pitch, x='score', whis=3)"
   ]
  },
  {
   "cell_type": "markdown",
   "id": "6e9744a2",
   "metadata": {},
   "source": [
    "## Ejercicio 6. Localiza los outliers del score de Pitchfork utilizando el método IQR\n",
    "\n",
    "Utiliza la función quantile de las series de datos de pandas para localizar los puntos de corte de los cuartiles"
   ]
  },
  {
   "cell_type": "code",
   "execution_count": 35,
   "id": "9a6952d3",
   "metadata": {},
   "outputs": [
    {
     "name": "stdout",
     "output_type": "stream",
     "text": [
      "iqr =  1.4\n",
      "(4.3, 9.9)\n",
      "False    17506\n",
      "True       883\n",
      "Name: outlier, dtype: int64\n"
     ]
    },
    {
     "data": {
      "text/html": [
       "<div>\n",
       "<style scoped>\n",
       "    .dataframe tbody tr th:only-of-type {\n",
       "        vertical-align: middle;\n",
       "    }\n",
       "\n",
       "    .dataframe tbody tr th {\n",
       "        vertical-align: top;\n",
       "    }\n",
       "\n",
       "    .dataframe thead th {\n",
       "        text-align: right;\n",
       "    }\n",
       "</style>\n",
       "<table border=\"1\" class=\"dataframe\">\n",
       "  <thead>\n",
       "    <tr style=\"text-align: right;\">\n",
       "      <th></th>\n",
       "      <th>reviewid</th>\n",
       "      <th>title</th>\n",
       "      <th>artist</th>\n",
       "      <th>url</th>\n",
       "      <th>score</th>\n",
       "      <th>best_new_music</th>\n",
       "      <th>author</th>\n",
       "      <th>author_type</th>\n",
       "      <th>pub_date</th>\n",
       "      <th>pub_weekday</th>\n",
       "      <th>pub_day</th>\n",
       "      <th>pub_month</th>\n",
       "      <th>pub_year</th>\n",
       "      <th>outlier</th>\n",
       "    </tr>\n",
       "  </thead>\n",
       "  <tbody>\n",
       "    <tr>\n",
       "      <th>13</th>\n",
       "      <td>22720</td>\n",
       "      <td>december 99th</td>\n",
       "      <td>yasiin bey</td>\n",
       "      <td>http://pitchfork.com/reviews/albums/22720-dece...</td>\n",
       "      <td>3.5</td>\n",
       "      <td>0</td>\n",
       "      <td>marcus j. moore</td>\n",
       "      <td>contributor</td>\n",
       "      <td>2017-01-02</td>\n",
       "      <td>0</td>\n",
       "      <td>2</td>\n",
       "      <td>1</td>\n",
       "      <td>2017</td>\n",
       "      <td>True</td>\n",
       "    </tr>\n",
       "    <tr>\n",
       "      <th>161</th>\n",
       "      <td>22589</td>\n",
       "      <td>collage</td>\n",
       "      <td>the chainsmokers</td>\n",
       "      <td>http://pitchfork.com/reviews/albums/22589-coll...</td>\n",
       "      <td>3.5</td>\n",
       "      <td>0</td>\n",
       "      <td>kevin lozano</td>\n",
       "      <td>tracks coordinator</td>\n",
       "      <td>2016-11-09</td>\n",
       "      <td>2</td>\n",
       "      <td>9</td>\n",
       "      <td>11</td>\n",
       "      <td>2016</td>\n",
       "      <td>True</td>\n",
       "    </tr>\n",
       "    <tr>\n",
       "      <th>191</th>\n",
       "      <td>22374</td>\n",
       "      <td>metal box</td>\n",
       "      <td>public image ltd</td>\n",
       "      <td>http://pitchfork.com/reviews/albums/22374-meta...</td>\n",
       "      <td>10.0</td>\n",
       "      <td>1</td>\n",
       "      <td>simon reynolds</td>\n",
       "      <td>contributor</td>\n",
       "      <td>2016-11-01</td>\n",
       "      <td>1</td>\n",
       "      <td>1</td>\n",
       "      <td>11</td>\n",
       "      <td>2016</td>\n",
       "      <td>True</td>\n",
       "    </tr>\n",
       "    <tr>\n",
       "      <th>200</th>\n",
       "      <td>22485</td>\n",
       "      <td>blood on the tracks</td>\n",
       "      <td>bob dylan</td>\n",
       "      <td>http://pitchfork.com/reviews/albums/22485-bloo...</td>\n",
       "      <td>10.0</td>\n",
       "      <td>0</td>\n",
       "      <td>jesse jarnow</td>\n",
       "      <td>contributor</td>\n",
       "      <td>2016-10-30</td>\n",
       "      <td>6</td>\n",
       "      <td>30</td>\n",
       "      <td>10</td>\n",
       "      <td>2016</td>\n",
       "      <td>True</td>\n",
       "    </tr>\n",
       "    <tr>\n",
       "      <th>232</th>\n",
       "      <td>22515</td>\n",
       "      <td>these systems are failing</td>\n",
       "      <td>moby &amp; the void pacific choir</td>\n",
       "      <td>http://pitchfork.com/reviews/albums/22515-thes...</td>\n",
       "      <td>4.0</td>\n",
       "      <td>0</td>\n",
       "      <td>andy beta</td>\n",
       "      <td>contributor</td>\n",
       "      <td>2016-10-21</td>\n",
       "      <td>4</td>\n",
       "      <td>21</td>\n",
       "      <td>10</td>\n",
       "      <td>2016</td>\n",
       "      <td>True</td>\n",
       "    </tr>\n",
       "    <tr>\n",
       "      <th>...</th>\n",
       "      <td>...</td>\n",
       "      <td>...</td>\n",
       "      <td>...</td>\n",
       "      <td>...</td>\n",
       "      <td>...</td>\n",
       "      <td>...</td>\n",
       "      <td>...</td>\n",
       "      <td>...</td>\n",
       "      <td>...</td>\n",
       "      <td>...</td>\n",
       "      <td>...</td>\n",
       "      <td>...</td>\n",
       "      <td>...</td>\n",
       "      <td>...</td>\n",
       "    </tr>\n",
       "    <tr>\n",
       "      <th>18329</th>\n",
       "      <td>5965</td>\n",
       "      <td>fight songs</td>\n",
       "      <td>old 97's</td>\n",
       "      <td>http://pitchfork.com/reviews/albums/5965-fight...</td>\n",
       "      <td>4.0</td>\n",
       "      <td>0</td>\n",
       "      <td>neil lieberman</td>\n",
       "      <td>NaN</td>\n",
       "      <td>1999-04-27</td>\n",
       "      <td>1</td>\n",
       "      <td>27</td>\n",
       "      <td>4</td>\n",
       "      <td>1999</td>\n",
       "      <td>True</td>\n",
       "    </tr>\n",
       "    <tr>\n",
       "      <th>18330</th>\n",
       "      <td>3830</td>\n",
       "      <td>very mercenary</td>\n",
       "      <td>the herbaliser</td>\n",
       "      <td>http://pitchfork.com/reviews/albums/3830-very-...</td>\n",
       "      <td>4.2</td>\n",
       "      <td>0</td>\n",
       "      <td>ryan schreiber</td>\n",
       "      <td>editor-in-chief</td>\n",
       "      <td>1999-04-20</td>\n",
       "      <td>1</td>\n",
       "      <td>20</td>\n",
       "      <td>4</td>\n",
       "      <td>1999</td>\n",
       "      <td>True</td>\n",
       "    </tr>\n",
       "    <tr>\n",
       "      <th>18331</th>\n",
       "      <td>5970</td>\n",
       "      <td>uterus and fire</td>\n",
       "      <td>old time relijun</td>\n",
       "      <td>http://pitchfork.com/reviews/albums/5970-uteru...</td>\n",
       "      <td>0.3</td>\n",
       "      <td>0</td>\n",
       "      <td>michael sandlin</td>\n",
       "      <td>NaN</td>\n",
       "      <td>1999-04-20</td>\n",
       "      <td>1</td>\n",
       "      <td>20</td>\n",
       "      <td>4</td>\n",
       "      <td>1999</td>\n",
       "      <td>True</td>\n",
       "    </tr>\n",
       "    <tr>\n",
       "      <th>18332</th>\n",
       "      <td>2954</td>\n",
       "      <td>the sound of music: an unfinished symphony in ...</td>\n",
       "      <td>jad fair</td>\n",
       "      <td>http://pitchfork.com/reviews/albums/2954-the-s...</td>\n",
       "      <td>3.7</td>\n",
       "      <td>0</td>\n",
       "      <td>mark richard-san</td>\n",
       "      <td>NaN</td>\n",
       "      <td>1999-04-20</td>\n",
       "      <td>1</td>\n",
       "      <td>20</td>\n",
       "      <td>4</td>\n",
       "      <td>1999</td>\n",
       "      <td>True</td>\n",
       "    </tr>\n",
       "    <tr>\n",
       "      <th>18355</th>\n",
       "      <td>8732</td>\n",
       "      <td>where's wolfie?</td>\n",
       "      <td>wolfie</td>\n",
       "      <td>http://pitchfork.com/reviews/albums/8732-where...</td>\n",
       "      <td>0.2</td>\n",
       "      <td>0</td>\n",
       "      <td>brent dicrescenzo</td>\n",
       "      <td>contributor</td>\n",
       "      <td>1999-03-23</td>\n",
       "      <td>1</td>\n",
       "      <td>23</td>\n",
       "      <td>3</td>\n",
       "      <td>1999</td>\n",
       "      <td>True</td>\n",
       "    </tr>\n",
       "  </tbody>\n",
       "</table>\n",
       "<p>883 rows × 14 columns</p>\n",
       "</div>"
      ],
      "text/plain": [
       "       reviewid                                              title  \\\n",
       "13        22720                                      december 99th   \n",
       "161       22589                                           collage    \n",
       "191       22374                                          metal box   \n",
       "200       22485                                blood on the tracks   \n",
       "232       22515                         these systems are failing    \n",
       "...         ...                                                ...   \n",
       "18329      5965                                        fight songs   \n",
       "18330      3830                                     very mercenary   \n",
       "18331      5970                                    uterus and fire   \n",
       "18332      2954  the sound of music: an unfinished symphony in ...   \n",
       "18355      8732                                    where's wolfie?   \n",
       "\n",
       "                              artist  \\\n",
       "13                        yasiin bey   \n",
       "161                 the chainsmokers   \n",
       "191                 public image ltd   \n",
       "200                        bob dylan   \n",
       "232    moby & the void pacific choir   \n",
       "...                              ...   \n",
       "18329                       old 97's   \n",
       "18330                 the herbaliser   \n",
       "18331               old time relijun   \n",
       "18332                       jad fair   \n",
       "18355                         wolfie   \n",
       "\n",
       "                                                     url  score  \\\n",
       "13     http://pitchfork.com/reviews/albums/22720-dece...    3.5   \n",
       "161    http://pitchfork.com/reviews/albums/22589-coll...    3.5   \n",
       "191    http://pitchfork.com/reviews/albums/22374-meta...   10.0   \n",
       "200    http://pitchfork.com/reviews/albums/22485-bloo...   10.0   \n",
       "232    http://pitchfork.com/reviews/albums/22515-thes...    4.0   \n",
       "...                                                  ...    ...   \n",
       "18329  http://pitchfork.com/reviews/albums/5965-fight...    4.0   \n",
       "18330  http://pitchfork.com/reviews/albums/3830-very-...    4.2   \n",
       "18331  http://pitchfork.com/reviews/albums/5970-uteru...    0.3   \n",
       "18332  http://pitchfork.com/reviews/albums/2954-the-s...    3.7   \n",
       "18355  http://pitchfork.com/reviews/albums/8732-where...    0.2   \n",
       "\n",
       "       best_new_music             author         author_type    pub_date  \\\n",
       "13                  0    marcus j. moore         contributor  2017-01-02   \n",
       "161                 0       kevin lozano  tracks coordinator  2016-11-09   \n",
       "191                 1     simon reynolds         contributor  2016-11-01   \n",
       "200                 0       jesse jarnow         contributor  2016-10-30   \n",
       "232                 0          andy beta         contributor  2016-10-21   \n",
       "...               ...                ...                 ...         ...   \n",
       "18329               0     neil lieberman                 NaN  1999-04-27   \n",
       "18330               0     ryan schreiber     editor-in-chief  1999-04-20   \n",
       "18331               0    michael sandlin                 NaN  1999-04-20   \n",
       "18332               0   mark richard-san                 NaN  1999-04-20   \n",
       "18355               0  brent dicrescenzo         contributor  1999-03-23   \n",
       "\n",
       "       pub_weekday  pub_day  pub_month  pub_year  outlier  \n",
       "13               0        2          1      2017     True  \n",
       "161              2        9         11      2016     True  \n",
       "191              1        1         11      2016     True  \n",
       "200              6       30         10      2016     True  \n",
       "232              4       21         10      2016     True  \n",
       "...            ...      ...        ...       ...      ...  \n",
       "18329            1       27          4      1999     True  \n",
       "18330            1       20          4      1999     True  \n",
       "18331            1       20          4      1999     True  \n",
       "18332            1       20          4      1999     True  \n",
       "18355            1       23          3      1999     True  \n",
       "\n",
       "[883 rows x 14 columns]"
      ]
     },
     "execution_count": 35,
     "metadata": {},
     "output_type": "execute_result"
    }
   ],
   "source": [
    "def outlier_iqr(df,whis=1.5,columna_evaluar='score', columna_resultado='outlier'):\n",
    "    primer_q = df.score.quantile(.25)\n",
    "    tercer_q = df.score.quantile(.75)\n",
    "    \n",
    "    iqr = tercer_q - primer_q\n",
    "    print('iqr = ',round(iqr,3))\n",
    "    limite_inferior = primer_q - (iqr * whis)\n",
    "    limite_superior = tercer_q + (iqr * whis)\n",
    "    \n",
    "    limites = (round(limite_inferior,2), round(limite_superior,2))\n",
    "    print(limites)\n",
    "    \n",
    "    df[columna_resultado] = False\n",
    "    df.loc[df[columna_evaluar] < limite_inferior, columna_resultado] = True\n",
    "    df.loc[df[columna_evaluar] > limite_superior, columna_resultado] = True\n",
    "    print(df[columna_resultado].value_counts())\n",
    "    \n",
    "outlier_iqr(df_pitch)\n",
    "outliers_df_pitch = df_pitch[df_pitch['outlier']==True]\n",
    "outliers_df_pitch"
   ]
  },
  {
   "cell_type": "code",
   "execution_count": 36,
   "id": "dbb89e37",
   "metadata": {
    "scrolled": true
   },
   "outputs": [
    {
     "data": {
      "text/plain": [
       "<AxesSubplot:xlabel='score', ylabel='Count'>"
      ]
     },
     "execution_count": 36,
     "metadata": {},
     "output_type": "execute_result"
    },
    {
     "data": {
      "image/png": "[encoded data removed]",
      "text/plain": [
       "<Figure size 1152x288 with 1 Axes>"
      ]
     },
     "metadata": {
      "needs_background": "light"
     },
     "output_type": "display_data"
    }
   ],
   "source": [
    "sns.histplot(df_pitch, x='score', hue = 'outlier',bins=50)"
   ]
  },
  {
   "cell_type": "code",
   "execution_count": 37,
   "id": "9bf80e19",
   "metadata": {},
   "outputs": [
    {
     "data": {
      "text/plain": [
       "<AxesSubplot:xlabel='score', ylabel='Count'>"
      ]
     },
     "execution_count": 37,
     "metadata": {},
     "output_type": "execute_result"
    },
    {
     "data": {
      "image/png": "[encoded data removed]",
      "text/plain": [
       "<Figure size 1152x288 with 1 Axes>"
      ]
     },
     "metadata": {
      "needs_background": "light"
     },
     "output_type": "display_data"
    }
   ],
   "source": [
    "# Outliers en distribuciones normales\n",
    "\n",
    "df_pitch = leer_pitchfork()\n",
    "sns.histplot(df_pitch.score)"
   ]
  },
  {
   "cell_type": "markdown",
   "id": "32265d56",
   "metadata": {},
   "source": [
    "## Ejercicio 7. Detección de outliers\n",
    "\n",
    "Utiliza 1, 2 y 3 desviaciones típicas para marcar como outliers las observaciones de puntuación de Pitchfork."
   ]
  },
  {
   "cell_type": "code",
   "execution_count": 38,
   "id": "dc1c01d6",
   "metadata": {},
   "outputs": [
    {
     "data": {
      "text/html": [
       "<div>\n",
       "<style scoped>\n",
       "    .dataframe tbody tr th:only-of-type {\n",
       "        vertical-align: middle;\n",
       "    }\n",
       "\n",
       "    .dataframe tbody tr th {\n",
       "        vertical-align: top;\n",
       "    }\n",
       "\n",
       "    .dataframe thead th {\n",
       "        text-align: right;\n",
       "    }\n",
       "</style>\n",
       "<table border=\"1\" class=\"dataframe\">\n",
       "  <thead>\n",
       "    <tr style=\"text-align: right;\">\n",
       "      <th></th>\n",
       "      <th>reviewid</th>\n",
       "      <th>title</th>\n",
       "      <th>artist</th>\n",
       "      <th>url</th>\n",
       "      <th>score</th>\n",
       "      <th>best_new_music</th>\n",
       "      <th>author</th>\n",
       "      <th>author_type</th>\n",
       "      <th>pub_date</th>\n",
       "      <th>pub_weekday</th>\n",
       "      <th>pub_day</th>\n",
       "      <th>pub_month</th>\n",
       "      <th>pub_year</th>\n",
       "    </tr>\n",
       "  </thead>\n",
       "  <tbody>\n",
       "    <tr>\n",
       "      <th>0</th>\n",
       "      <td>22703</td>\n",
       "      <td>mezzanine</td>\n",
       "      <td>massive attack</td>\n",
       "      <td>http://pitchfork.com/reviews/albums/22703-mezz...</td>\n",
       "      <td>9.3</td>\n",
       "      <td>0</td>\n",
       "      <td>nate patrin</td>\n",
       "      <td>contributor</td>\n",
       "      <td>2017-01-08</td>\n",
       "      <td>6</td>\n",
       "      <td>8</td>\n",
       "      <td>1</td>\n",
       "      <td>2017</td>\n",
       "    </tr>\n",
       "    <tr>\n",
       "      <th>1</th>\n",
       "      <td>22721</td>\n",
       "      <td>prelapsarian</td>\n",
       "      <td>krallice</td>\n",
       "      <td>http://pitchfork.com/reviews/albums/22721-prel...</td>\n",
       "      <td>7.9</td>\n",
       "      <td>0</td>\n",
       "      <td>zoe camp</td>\n",
       "      <td>contributor</td>\n",
       "      <td>2017-01-07</td>\n",
       "      <td>5</td>\n",
       "      <td>7</td>\n",
       "      <td>1</td>\n",
       "      <td>2017</td>\n",
       "    </tr>\n",
       "    <tr>\n",
       "      <th>2</th>\n",
       "      <td>22659</td>\n",
       "      <td>all of them naturals</td>\n",
       "      <td>uranium club</td>\n",
       "      <td>http://pitchfork.com/reviews/albums/22659-all-...</td>\n",
       "      <td>7.3</td>\n",
       "      <td>0</td>\n",
       "      <td>david glickman</td>\n",
       "      <td>contributor</td>\n",
       "      <td>2017-01-07</td>\n",
       "      <td>5</td>\n",
       "      <td>7</td>\n",
       "      <td>1</td>\n",
       "      <td>2017</td>\n",
       "    </tr>\n",
       "    <tr>\n",
       "      <th>3</th>\n",
       "      <td>22661</td>\n",
       "      <td>first songs</td>\n",
       "      <td>kleenex, liliput</td>\n",
       "      <td>http://pitchfork.com/reviews/albums/22661-firs...</td>\n",
       "      <td>9.0</td>\n",
       "      <td>1</td>\n",
       "      <td>jenn pelly</td>\n",
       "      <td>associate reviews editor</td>\n",
       "      <td>2017-01-06</td>\n",
       "      <td>4</td>\n",
       "      <td>6</td>\n",
       "      <td>1</td>\n",
       "      <td>2017</td>\n",
       "    </tr>\n",
       "    <tr>\n",
       "      <th>4</th>\n",
       "      <td>22725</td>\n",
       "      <td>new start</td>\n",
       "      <td>taso</td>\n",
       "      <td>http://pitchfork.com/reviews/albums/22725-new-...</td>\n",
       "      <td>8.1</td>\n",
       "      <td>0</td>\n",
       "      <td>kevin lozano</td>\n",
       "      <td>tracks coordinator</td>\n",
       "      <td>2017-01-06</td>\n",
       "      <td>4</td>\n",
       "      <td>6</td>\n",
       "      <td>1</td>\n",
       "      <td>2017</td>\n",
       "    </tr>\n",
       "  </tbody>\n",
       "</table>\n",
       "</div>"
      ],
      "text/plain": [
       "   reviewid                 title            artist  \\\n",
       "0     22703             mezzanine    massive attack   \n",
       "1     22721          prelapsarian          krallice   \n",
       "2     22659  all of them naturals      uranium club   \n",
       "3     22661           first songs  kleenex, liliput   \n",
       "4     22725             new start              taso   \n",
       "\n",
       "                                                 url  score  best_new_music  \\\n",
       "0  http://pitchfork.com/reviews/albums/22703-mezz...    9.3               0   \n",
       "1  http://pitchfork.com/reviews/albums/22721-prel...    7.9               0   \n",
       "2  http://pitchfork.com/reviews/albums/22659-all-...    7.3               0   \n",
       "3  http://pitchfork.com/reviews/albums/22661-firs...    9.0               1   \n",
       "4  http://pitchfork.com/reviews/albums/22725-new-...    8.1               0   \n",
       "\n",
       "           author               author_type    pub_date  pub_weekday  pub_day  \\\n",
       "0     nate patrin               contributor  2017-01-08            6        8   \n",
       "1        zoe camp               contributor  2017-01-07            5        7   \n",
       "2  david glickman               contributor  2017-01-07            5        7   \n",
       "3      jenn pelly  associate reviews editor  2017-01-06            4        6   \n",
       "4    kevin lozano        tracks coordinator  2017-01-06            4        6   \n",
       "\n",
       "   pub_month  pub_year  \n",
       "0          1      2017  \n",
       "1          1      2017  \n",
       "2          1      2017  \n",
       "3          1      2017  \n",
       "4          1      2017  "
      ]
     },
     "execution_count": 38,
     "metadata": {},
     "output_type": "execute_result"
    }
   ],
   "source": [
    "df_pitch.head()"
   ]
  },
  {
   "cell_type": "code",
   "execution_count": 39,
   "id": "dc1e0fe9",
   "metadata": {},
   "outputs": [],
   "source": [
    "media = df_pitch.score.mean()\n",
    "std = df_pitch.score.std()"
   ]
  },
  {
   "cell_type": "code",
   "execution_count": 40,
   "id": "3bbe8406",
   "metadata": {},
   "outputs": [
    {
     "name": "stdout",
     "output_type": "stream",
     "text": [
      "(5.71, 8.3)\n"
     ]
    }
   ],
   "source": [
    "num = 1\n",
    "limite_inferior = media - (num * std)\n",
    "limite_superior = media + (num * std)\n",
    "    \n",
    "limites = (round(limite_inferior,2), round(limite_superior,2))\n",
    "print(limites)"
   ]
  },
  {
   "cell_type": "code",
   "execution_count": 44,
   "id": "e268d9c1",
   "metadata": {},
   "outputs": [
    {
     "name": "stdout",
     "output_type": "stream",
     "text": [
      "Numero desviaciones:  1\n",
      "(5.71, 8.3)\n",
      "False    13766\n",
      "True      4623\n",
      "Name: outlier_normal_1, dtype: int64\n",
      "\n",
      "\n",
      "Numero desviaciones:  2\n",
      "(4.42, 9.59)\n",
      "False    17410\n",
      "True       979\n",
      "Name: outlier_normal_2, dtype: int64\n",
      "\n",
      "\n",
      "Numero desviaciones:  3\n",
      "(3.12, 10.89)\n",
      "False    18090\n",
      "True       299\n",
      "Name: outlier_normal_3, dtype: int64\n",
      "\n",
      "\n"
     ]
    }
   ],
   "source": [
    "def outlier_normal(df,num=2,columna_evaluar='score', columna_resultado='outlier_normal'):\n",
    "    columna_resultado = columna_resultado+'_'+str(num)\n",
    "    media = df[columna_evaluar].mean()\n",
    "    std = df[columna_evaluar].std()\n",
    "    limite_inferior = media - (num * std)\n",
    "    limite_superior = media + (num * std)\n",
    "    limites = (round(limite_inferior,2), round(limite_superior,2))\n",
    "    print(limites)\n",
    "    df[columna_resultado] = np.where(((df[columna_evaluar] < limite_inferior)|(df[columna_evaluar] > limite_superior)),True,False)\n",
    "    print(df[columna_resultado].value_counts())\n",
    "    return df\n",
    "    \n",
    "df_pitch = leer_pitchfork()\n",
    "\n",
    "for i in range(1,4):\n",
    "    print('Numero desviaciones: ',i)\n",
    "    outlier_normal(df_pitch,i)\n",
    "    print('\\n')"
   ]
  },
  {
   "cell_type": "code",
   "execution_count": 45,
   "id": "dd697253",
   "metadata": {
    "scrolled": false
   },
   "outputs": [
    {
     "data": {
      "text/html": [
       "<div>\n",
       "<style scoped>\n",
       "    .dataframe tbody tr th:only-of-type {\n",
       "        vertical-align: middle;\n",
       "    }\n",
       "\n",
       "    .dataframe tbody tr th {\n",
       "        vertical-align: top;\n",
       "    }\n",
       "\n",
       "    .dataframe thead th {\n",
       "        text-align: right;\n",
       "    }\n",
       "</style>\n",
       "<table border=\"1\" class=\"dataframe\">\n",
       "  <thead>\n",
       "    <tr style=\"text-align: right;\">\n",
       "      <th></th>\n",
       "      <th>reviewid</th>\n",
       "      <th>title</th>\n",
       "      <th>artist</th>\n",
       "      <th>url</th>\n",
       "      <th>score</th>\n",
       "      <th>best_new_music</th>\n",
       "      <th>author</th>\n",
       "      <th>author_type</th>\n",
       "      <th>pub_date</th>\n",
       "      <th>pub_weekday</th>\n",
       "      <th>pub_day</th>\n",
       "      <th>pub_month</th>\n",
       "      <th>pub_year</th>\n",
       "      <th>outlier_normal_1</th>\n",
       "      <th>outlier_normal_2</th>\n",
       "      <th>outlier_normal_3</th>\n",
       "    </tr>\n",
       "  </thead>\n",
       "  <tbody>\n",
       "    <tr>\n",
       "      <th>0</th>\n",
       "      <td>22703</td>\n",
       "      <td>mezzanine</td>\n",
       "      <td>massive attack</td>\n",
       "      <td>http://pitchfork.com/reviews/albums/22703-mezz...</td>\n",
       "      <td>9.3</td>\n",
       "      <td>0</td>\n",
       "      <td>nate patrin</td>\n",
       "      <td>contributor</td>\n",
       "      <td>2017-01-08</td>\n",
       "      <td>6</td>\n",
       "      <td>8</td>\n",
       "      <td>1</td>\n",
       "      <td>2017</td>\n",
       "      <td>True</td>\n",
       "      <td>False</td>\n",
       "      <td>False</td>\n",
       "    </tr>\n",
       "    <tr>\n",
       "      <th>1</th>\n",
       "      <td>22721</td>\n",
       "      <td>prelapsarian</td>\n",
       "      <td>krallice</td>\n",
       "      <td>http://pitchfork.com/reviews/albums/22721-prel...</td>\n",
       "      <td>7.9</td>\n",
       "      <td>0</td>\n",
       "      <td>zoe camp</td>\n",
       "      <td>contributor</td>\n",
       "      <td>2017-01-07</td>\n",
       "      <td>5</td>\n",
       "      <td>7</td>\n",
       "      <td>1</td>\n",
       "      <td>2017</td>\n",
       "      <td>False</td>\n",
       "      <td>False</td>\n",
       "      <td>False</td>\n",
       "    </tr>\n",
       "    <tr>\n",
       "      <th>2</th>\n",
       "      <td>22659</td>\n",
       "      <td>all of them naturals</td>\n",
       "      <td>uranium club</td>\n",
       "      <td>http://pitchfork.com/reviews/albums/22659-all-...</td>\n",
       "      <td>7.3</td>\n",
       "      <td>0</td>\n",
       "      <td>david glickman</td>\n",
       "      <td>contributor</td>\n",
       "      <td>2017-01-07</td>\n",
       "      <td>5</td>\n",
       "      <td>7</td>\n",
       "      <td>1</td>\n",
       "      <td>2017</td>\n",
       "      <td>False</td>\n",
       "      <td>False</td>\n",
       "      <td>False</td>\n",
       "    </tr>\n",
       "    <tr>\n",
       "      <th>3</th>\n",
       "      <td>22661</td>\n",
       "      <td>first songs</td>\n",
       "      <td>kleenex, liliput</td>\n",
       "      <td>http://pitchfork.com/reviews/albums/22661-firs...</td>\n",
       "      <td>9.0</td>\n",
       "      <td>1</td>\n",
       "      <td>jenn pelly</td>\n",
       "      <td>associate reviews editor</td>\n",
       "      <td>2017-01-06</td>\n",
       "      <td>4</td>\n",
       "      <td>6</td>\n",
       "      <td>1</td>\n",
       "      <td>2017</td>\n",
       "      <td>True</td>\n",
       "      <td>False</td>\n",
       "      <td>False</td>\n",
       "    </tr>\n",
       "    <tr>\n",
       "      <th>4</th>\n",
       "      <td>22725</td>\n",
       "      <td>new start</td>\n",
       "      <td>taso</td>\n",
       "      <td>http://pitchfork.com/reviews/albums/22725-new-...</td>\n",
       "      <td>8.1</td>\n",
       "      <td>0</td>\n",
       "      <td>kevin lozano</td>\n",
       "      <td>tracks coordinator</td>\n",
       "      <td>2017-01-06</td>\n",
       "      <td>4</td>\n",
       "      <td>6</td>\n",
       "      <td>1</td>\n",
       "      <td>2017</td>\n",
       "      <td>False</td>\n",
       "      <td>False</td>\n",
       "      <td>False</td>\n",
       "    </tr>\n",
       "    <tr>\n",
       "      <th>...</th>\n",
       "      <td>...</td>\n",
       "      <td>...</td>\n",
       "      <td>...</td>\n",
       "      <td>...</td>\n",
       "      <td>...</td>\n",
       "      <td>...</td>\n",
       "      <td>...</td>\n",
       "      <td>...</td>\n",
       "      <td>...</td>\n",
       "      <td>...</td>\n",
       "      <td>...</td>\n",
       "      <td>...</td>\n",
       "      <td>...</td>\n",
       "      <td>...</td>\n",
       "      <td>...</td>\n",
       "      <td>...</td>\n",
       "    </tr>\n",
       "    <tr>\n",
       "      <th>18388</th>\n",
       "      <td>1535</td>\n",
       "      <td>let us replay!</td>\n",
       "      <td>coldcut</td>\n",
       "      <td>http://pitchfork.com/reviews/albums/1535-let-u...</td>\n",
       "      <td>8.9</td>\n",
       "      <td>0</td>\n",
       "      <td>james p. wisdom</td>\n",
       "      <td>NaN</td>\n",
       "      <td>1999-01-26</td>\n",
       "      <td>1</td>\n",
       "      <td>26</td>\n",
       "      <td>1</td>\n",
       "      <td>1999</td>\n",
       "      <td>True</td>\n",
       "      <td>False</td>\n",
       "      <td>False</td>\n",
       "    </tr>\n",
       "    <tr>\n",
       "      <th>18389</th>\n",
       "      <td>1341</td>\n",
       "      <td>1999</td>\n",
       "      <td>cassius</td>\n",
       "      <td>http://pitchfork.com/reviews/albums/1341-1999/</td>\n",
       "      <td>4.8</td>\n",
       "      <td>0</td>\n",
       "      <td>james p. wisdom</td>\n",
       "      <td>NaN</td>\n",
       "      <td>1999-01-26</td>\n",
       "      <td>1</td>\n",
       "      <td>26</td>\n",
       "      <td>1</td>\n",
       "      <td>1999</td>\n",
       "      <td>True</td>\n",
       "      <td>False</td>\n",
       "      <td>False</td>\n",
       "    </tr>\n",
       "    <tr>\n",
       "      <th>18390</th>\n",
       "      <td>5376</td>\n",
       "      <td>out of tune</td>\n",
       "      <td>mojave 3</td>\n",
       "      <td>http://pitchfork.com/reviews/albums/5376-out-o...</td>\n",
       "      <td>6.3</td>\n",
       "      <td>0</td>\n",
       "      <td>jason josephes</td>\n",
       "      <td>contributor</td>\n",
       "      <td>1999-01-12</td>\n",
       "      <td>1</td>\n",
       "      <td>12</td>\n",
       "      <td>1</td>\n",
       "      <td>1999</td>\n",
       "      <td>False</td>\n",
       "      <td>False</td>\n",
       "      <td>False</td>\n",
       "    </tr>\n",
       "    <tr>\n",
       "      <th>18391</th>\n",
       "      <td>2413</td>\n",
       "      <td>singles breaking up, vol. 1</td>\n",
       "      <td>don caballero</td>\n",
       "      <td>http://pitchfork.com/reviews/albums/2413-singl...</td>\n",
       "      <td>7.2</td>\n",
       "      <td>0</td>\n",
       "      <td>james p. wisdom</td>\n",
       "      <td>NaN</td>\n",
       "      <td>1999-01-12</td>\n",
       "      <td>1</td>\n",
       "      <td>12</td>\n",
       "      <td>1</td>\n",
       "      <td>1999</td>\n",
       "      <td>False</td>\n",
       "      <td>False</td>\n",
       "      <td>False</td>\n",
       "    </tr>\n",
       "    <tr>\n",
       "      <th>18392</th>\n",
       "      <td>3723</td>\n",
       "      <td>left for dead in malaysia</td>\n",
       "      <td>neil hamburger</td>\n",
       "      <td>http://pitchfork.com/reviews/albums/3723-left-...</td>\n",
       "      <td>6.5</td>\n",
       "      <td>0</td>\n",
       "      <td>jason josephes</td>\n",
       "      <td>contributor</td>\n",
       "      <td>1999-01-05</td>\n",
       "      <td>1</td>\n",
       "      <td>5</td>\n",
       "      <td>1</td>\n",
       "      <td>1999</td>\n",
       "      <td>False</td>\n",
       "      <td>False</td>\n",
       "      <td>False</td>\n",
       "    </tr>\n",
       "  </tbody>\n",
       "</table>\n",
       "<p>18389 rows × 16 columns</p>\n",
       "</div>"
      ],
      "text/plain": [
       "       reviewid                        title            artist  \\\n",
       "0         22703                    mezzanine    massive attack   \n",
       "1         22721                 prelapsarian          krallice   \n",
       "2         22659         all of them naturals      uranium club   \n",
       "3         22661                  first songs  kleenex, liliput   \n",
       "4         22725                    new start              taso   \n",
       "...         ...                          ...               ...   \n",
       "18388      1535               let us replay!           coldcut   \n",
       "18389      1341                         1999           cassius   \n",
       "18390      5376                  out of tune          mojave 3   \n",
       "18391      2413  singles breaking up, vol. 1     don caballero   \n",
       "18392      3723    left for dead in malaysia    neil hamburger   \n",
       "\n",
       "                                                     url  score  \\\n",
       "0      http://pitchfork.com/reviews/albums/22703-mezz...    9.3   \n",
       "1      http://pitchfork.com/reviews/albums/22721-prel...    7.9   \n",
       "2      http://pitchfork.com/reviews/albums/22659-all-...    7.3   \n",
       "3      http://pitchfork.com/reviews/albums/22661-firs...    9.0   \n",
       "4      http://pitchfork.com/reviews/albums/22725-new-...    8.1   \n",
       "...                                                  ...    ...   \n",
       "18388  http://pitchfork.com/reviews/albums/1535-let-u...    8.9   \n",
       "18389     http://pitchfork.com/reviews/albums/1341-1999/    4.8   \n",
       "18390  http://pitchfork.com/reviews/albums/5376-out-o...    6.3   \n",
       "18391  http://pitchfork.com/reviews/albums/2413-singl...    7.2   \n",
       "18392  http://pitchfork.com/reviews/albums/3723-left-...    6.5   \n",
       "\n",
       "       best_new_music           author               author_type    pub_date  \\\n",
       "0                   0      nate patrin               contributor  2017-01-08   \n",
       "1                   0         zoe camp               contributor  2017-01-07   \n",
       "2                   0   david glickman               contributor  2017-01-07   \n",
       "3                   1       jenn pelly  associate reviews editor  2017-01-06   \n",
       "4                   0     kevin lozano        tracks coordinator  2017-01-06   \n",
       "...               ...              ...                       ...         ...   \n",
       "18388               0  james p. wisdom                       NaN  1999-01-26   \n",
       "18389               0  james p. wisdom                       NaN  1999-01-26   \n",
       "18390               0   jason josephes               contributor  1999-01-12   \n",
       "18391               0  james p. wisdom                       NaN  1999-01-12   \n",
       "18392               0   jason josephes               contributor  1999-01-05   \n",
       "\n",
       "       pub_weekday  pub_day  pub_month  pub_year  outlier_normal_1  \\\n",
       "0                6        8          1      2017              True   \n",
       "1                5        7          1      2017             False   \n",
       "2                5        7          1      2017             False   \n",
       "3                4        6          1      2017              True   \n",
       "4                4        6          1      2017             False   \n",
       "...            ...      ...        ...       ...               ...   \n",
       "18388            1       26          1      1999              True   \n",
       "18389            1       26          1      1999              True   \n",
       "18390            1       12          1      1999             False   \n",
       "18391            1       12          1      1999             False   \n",
       "18392            1        5          1      1999             False   \n",
       "\n",
       "       outlier_normal_2  outlier_normal_3  \n",
       "0                 False             False  \n",
       "1                 False             False  \n",
       "2                 False             False  \n",
       "3                 False             False  \n",
       "4                 False             False  \n",
       "...                 ...               ...  \n",
       "18388             False             False  \n",
       "18389             False             False  \n",
       "18390             False             False  \n",
       "18391             False             False  \n",
       "18392             False             False  \n",
       "\n",
       "[18389 rows x 16 columns]"
      ]
     },
     "execution_count": 45,
     "metadata": {},
     "output_type": "execute_result"
    }
   ],
   "source": [
    "df_pitch"
   ]
  },
  {
   "cell_type": "code",
   "execution_count": 46,
   "id": "badba672",
   "metadata": {},
   "outputs": [
    {
     "data": {
      "image/png": "[encoded data removed]",
      "text/plain": [
       "<Figure size 1152x288 with 1 Axes>"
      ]
     },
     "metadata": {
      "needs_background": "light"
     },
     "output_type": "display_data"
    }
   ],
   "source": [
    "sns.histplot(df_pitch, x='score', hue = 'outlier_normal_2')\n",
    "plt.axvline(df_pitch.score.mean() - 2*df_pitch.score.std(), 0,100,c='lightblue')\n",
    "plt.axvline(df_pitch.score.mean() + 2*df_pitch.score.std(), 0,100,c='lightblue')\n",
    "sns.despine()"
   ]
  },
  {
   "cell_type": "code",
   "execution_count": 47,
   "id": "3d55d913",
   "metadata": {},
   "outputs": [
    {
     "data": {
      "text/plain": [
       "<AxesSubplot:xlabel='score', ylabel='Count'>"
      ]
     },
     "execution_count": 47,
     "metadata": {},
     "output_type": "execute_result"
    },
    {
     "data": {
      "image/png": "[encoded data removed]",
      "text/plain": [
       "<Figure size 1152x288 with 1 Axes>"
      ]
     },
     "metadata": {
      "needs_background": "light"
     },
     "output_type": "display_data"
    }
   ],
   "source": [
    "sns.histplot(df_pitch.loc[df_pitch['outlier_normal_1']==True].score, color='red',binwidth=0.1)\n",
    "sns.histplot(df_pitch.loc[df_pitch['outlier_normal_2']==True].score, color='blue',binwidth=0.1)\n",
    "sns.histplot(df_pitch.loc[df_pitch['outlier_normal_3']==True].score, color='green',binwidth=0.1)\n",
    "sns.histplot(df_pitch.loc[(df_pitch['outlier_normal_3']==False)&(df_pitch['outlier_normal_2']==False)&(df_pitch['outlier_normal_1']==False)].score, color='black',binwidth=0.1)"
   ]
  },
  {
   "cell_type": "code",
   "execution_count": 48,
   "id": "b4586f13",
   "metadata": {},
   "outputs": [],
   "source": [
    "def leer_csv_covid():\n",
    "    columnas = ['stringency_index','population_density','median_age','aged_65_older',\n",
    "          'aged_70_older','gdp_per_capita','extreme_poverty','cardiovasc_death_rate',\n",
    "          'diabetes_prevalence','female_smokers','male_smokers', 'handwashing_facilities',\n",
    "          'hospital_beds_per_thousand','life_expectancy','human_development_index']\n",
    "    \n",
    "    # Leemos el fichero\n",
    "    df = pd.read_csv('./data/owid-covid-data.csv')\n",
    "    \n",
    "    # Interpolamos\n",
    "    df.loc[:,df.select_dtypes('number').columns.to_list()].interpolate(axis=1, inplace=True)\n",
    "    \n",
    "    # Última fila de cada país\n",
    "    df = df.groupby(by='iso_code').nth(-1).reset_index(level=0)\n",
    "    \n",
    "    # Borramos columnas con pocos datos\n",
    "    df.dropna(axis=1, thresh=50, inplace=True)\n",
    "    \n",
    "    # Borramos las columnas de fecha y país\n",
    "    df.drop(columns =['location', 'date'], inplace=True)\n",
    "    \n",
    "    # Eliminamos las filas que no tienen información de fallecidos\n",
    "    df = df.loc[pd.notna(df['total_deaths'])]\n",
    "\n",
    "    # Imputamos la media\n",
    "    medias = {c:df[c].mean() for c in columnas}\n",
    "    df.fillna(medias, inplace=True)\n",
    "    \n",
    "    col_x = [x for x in df.select_dtypes('number').columns if x not in ('total_deaths',\n",
    "                                                                             'total_deaths_smoothed_per_million',\n",
    "                                                                             'new_deaths',\n",
    "                                                                             'new_deaths_smoothed')]\n",
    "    return df[col_x].copy()\n",
    "\n",
    "\n",
    "\n",
    "# leemos el dataframe\n",
    "df_covid = leer_csv_covid()"
   ]
  },
  {
   "cell_type": "code",
   "execution_count": 49,
   "id": "d534b871",
   "metadata": {},
   "outputs": [
    {
     "name": "stdout",
     "output_type": "stream",
     "text": [
      "0.8375336921595854\n"
     ]
    }
   ],
   "source": [
    "from sklearn.linear_model import LinearRegression\n",
    "X = df_covid[[x for x in df_covid.columns if x != 'total_deaths_per_million']].copy() # nos quedamos con todas las columnas que no sean la variable y\n",
    "y = df_covid['total_deaths_per_million']\n",
    "\n",
    "lr = LinearRegression()\n",
    "lr.fit(X,y)\n",
    "print(lr.score(X,y))"
   ]
  },
  {
   "cell_type": "code",
   "execution_count": 50,
   "id": "7f0b9f76",
   "metadata": {},
   "outputs": [],
   "source": [
    "media = df_covid['cardiovasc_death_rate'].mean()\n",
    "std = df_covid['cardiovasc_death_rate'].std()\n",
    "\n",
    "test = df_covid[\n",
    "        (df_covid['cardiovasc_death_rate'] >= media-1*std )\n",
    "        &\n",
    "        (df_covid['cardiovasc_death_rate'] <= media+1*std )]"
   ]
  },
  {
   "cell_type": "code",
   "execution_count": 51,
   "id": "bf2ab49b",
   "metadata": {},
   "outputs": [
    {
     "name": "stdout",
     "output_type": "stream",
     "text": [
      "0.8614531336152909\n"
     ]
    }
   ],
   "source": [
    "X = test[[x for x in test.columns if x != 'total_deaths_per_million']].copy() # nos quedamos con todas las columnas que no sean la variable y\n",
    "y = test['total_deaths_per_million']\n",
    "\n",
    "lr = LinearRegression()\n",
    "lr.fit(X,y)\n",
    "print(lr.score(X,y))"
   ]
  },
  {
   "cell_type": "markdown",
   "id": "c586eb43",
   "metadata": {},
   "source": [
    "**Comprobar si una distribución es normal**"
   ]
  },
  {
   "cell_type": "code",
   "execution_count": 52,
   "id": "41fb36ab",
   "metadata": {},
   "outputs": [
    {
     "name": "stdout",
     "output_type": "stream",
     "text": [
      "\n",
      "    Menos de una desviación típica (ref 68%): 74.85997063461852 %\n",
      "    Menos de dos desviaciones (ref 95,4%): 94.67616509870031 %\n",
      "    Menos de tres desviaciones (ref 99,7 %): 98.37402795149274 %\n",
      "\n",
      "NO ES DISTRIBUCION NORMAL\n"
     ]
    },
    {
     "data": {
      "image/png": "[encoded data removed]",
      "text/plain": [
       "<Figure size 1152x288 with 1 Axes>"
      ]
     },
     "metadata": {
      "needs_background": "light"
     },
     "output_type": "display_data"
    }
   ],
   "source": [
    "media = df_pitch.score.mean()\n",
    "std = df_pitch.score.std()\n",
    "\n",
    "print(f\"\"\"\n",
    "    Menos de una desviación típica (ref 68%): {df_pitch.loc[abs(df_pitch.score - media) <= std].score.count() *100 / df_pitch.score.count()} %\n",
    "    Menos de dos desviaciones (ref 95,4%): {df_pitch.loc[(abs(df_pitch.score - media) <= 2*std)].score.count()*100 / df_pitch.score.count()} %\n",
    "    Menos de tres desviaciones (ref 99,7 %): {df_pitch.loc[(abs(df_pitch.score - media) <= 3*std)].score.count()*100 / df_pitch.score.count()} %\n",
    "\"\"\")\n",
    "\n",
    "if ((df_pitch.loc[abs(df_pitch.score - media) <= std].score.count() *100 / df_pitch.score.count())-68)<=abs(2) and ((df_pitch.loc[abs(df_pitch.score - media) <= 2*std].score.count() *100 / df_pitch.score.count())-95.4)<=abs(2) and ((df_pitch.loc[abs(df_pitch.score - media) <= 3*std].score.count() *100 / df_pitch.score.count())-99.7)<=abs(2):\n",
    "    print('DISTRIBUCION NORMAL')\n",
    "else:\n",
    "    print('NO ES DISTRIBUCION NORMAL')\n",
    "\n",
    "sns.histplot(df_pitch.score);"
   ]
  },
  {
   "cell_type": "code",
   "execution_count": 53,
   "id": "477f5e5e",
   "metadata": {},
   "outputs": [
    {
     "data": {
      "text/plain": [
       "<AxesSubplot:xlabel='score_normal', ylabel='Count'>"
      ]
     },
     "execution_count": 53,
     "metadata": {},
     "output_type": "execute_result"
    },
    {
     "data": {
      "image/png": "[encoded data removed]",
      "text/plain": [
       "<Figure size 1152x288 with 1 Axes>"
      ]
     },
     "metadata": {
      "needs_background": "light"
     },
     "output_type": "display_data"
    }
   ],
   "source": [
    "from sklearn.preprocessing import PowerTransformer\n",
    "\n",
    "p = PowerTransformer(method='yeo-johnson',standardize=True)\n",
    "df_pitch_normal = p.fit_transform(df_pitch[['score']])\n",
    "df_pitch['score_normal']= df_pitch_normal\n",
    "\n",
    "\n",
    "sns.histplot(df_pitch.score_normal, binwidth=0.15)"
   ]
  },
  {
   "cell_type": "code",
   "execution_count": 54,
   "id": "c8c74f2e",
   "metadata": {},
   "outputs": [
    {
     "name": "stdout",
     "output_type": "stream",
     "text": [
      "\n",
      "    Menos de una desviación típica (ref 68%): 69.65033443906684 %\n",
      "    Menos de dos desviaciones (ref 95,4%): 94.68704116591441 %\n",
      "    Menos de tres desviaciones (ref 99,7 %): 99.54320517700799 %\n",
      "\n",
      "DISTRIBUCION NORMAL\n"
     ]
    }
   ],
   "source": [
    "media = df_pitch.score_normal.mean()\n",
    "std = df_pitch.score_normal.std()\n",
    "\n",
    "print(f\"\"\"\n",
    "    Menos de una desviación típica (ref 68%): {df_pitch.loc[abs(df_pitch.score_normal - media) <= std].score_normal.count() *100 / df_pitch.score_normal.count()} %\n",
    "    Menos de dos desviaciones (ref 95,4%): {df_pitch.loc[(abs(df_pitch.score_normal - media) <= 2*std)].score_normal.count()*100 / df_pitch.score_normal.count()} %\n",
    "    Menos de tres desviaciones (ref 99,7 %): {df_pitch.loc[(abs(df_pitch.score_normal - media) <= 3*std)].score_normal.count()*100 / df_pitch.score_normal.count()} %\n",
    "\"\"\")\n",
    "\n",
    "if ((df_pitch.loc[abs(df_pitch.score_normal - media) <= std].score_normal.count() *100 / df_pitch.score_normal.count())-68)<=abs(2) and ((df_pitch.loc[abs(df_pitch.score_normal - media) <= 2*std].score_normal.count() *100 / df_pitch.score_normal.count())-95.4)<=abs(2) and ((df_pitch.loc[abs(df_pitch.score_normal - media) <= 3*std].score_normal.count() *100 / df_pitch.score_normal.count())-99.7)<=abs(2):\n",
    "    print('DISTRIBUCION NORMAL')\n",
    "else:\n",
    "    print('NO ES DISTRIBUCION NORMAL')"
   ]
  },
  {
   "cell_type": "code",
   "execution_count": 55,
   "id": "8e7b224b",
   "metadata": {},
   "outputs": [],
   "source": [
    "m_t, std_t = df_pitch.score_normal.mean(), df_pitch.score_normal.std()"
   ]
  },
  {
   "cell_type": "code",
   "execution_count": 56,
   "id": "0d9a712e",
   "metadata": {},
   "outputs": [
    {
     "data": {
      "text/plain": [
       "<AxesSubplot:xlabel='score_normal', ylabel='Count'>"
      ]
     },
     "execution_count": 56,
     "metadata": {},
     "output_type": "execute_result"
    },
    {
     "data": {
      "image/png": "[encoded data removed]",
      "text/plain": [
       "<Figure size 1152x288 with 1 Axes>"
      ]
     },
     "metadata": {
      "needs_background": "light"
     },
     "output_type": "display_data"
    }
   ],
   "source": [
    "sns.histplot(df_pitch.loc[abs(df_pitch.score_normal - m_t) > 3*std_t].score_normal, color='red', binwidth=0.1)\n",
    "sns.histplot(df_pitch.loc[(abs(df_pitch.score_normal - m_t) <= 3*std_t) & ((abs(df_pitch.score_normal - m_t) > 2*std_t)) ].score_normal, color='blue', binwidth=0.1)\n",
    "sns.histplot(df_pitch.loc[(abs(df_pitch.score_normal - m_t) < 2*std_t) & ((abs(df_pitch.score_normal - m_t) > std_t))].score_normal, color='green', binwidth=0.1)\n",
    "sns.histplot(df_pitch.loc[(abs(df_pitch.score_normal - m_t) < std_t)].score_normal, color='black', binwidth=0.1)"
   ]
  },
  {
   "cell_type": "markdown",
   "id": "551999dd",
   "metadata": {},
   "source": [
    "### Tratar los outliers\n",
    "Una vez detectados los valores anómalos tenemos que tratarlos, podemos:\n",
    "* Eliminar los registros con el valor anómalo (consideramos que estos registros no pueden aportar ninguna información)\n",
    "* Sustituir su valor por la media con outliers (consideramos que los outliers son coincidencia de varios factores que no se va a volver a repetir pero su efecto debería seguir teniéndose en cuenta, por ejemplo, vendemos todos los helados un día de calor a una sola persona; sabemos que en general la venta no será a una sola persona pero contamos con seguir vendiendo todos los helados)\n",
    "* Sustituir su valor por la media sin outliers (el outlier es un valor erróneo o un suceso que no se espera que vuelva a repetirse ni de forma aislada ni repartida)\n",
    "\n"
   ]
  },
  {
   "cell_type": "code",
   "execution_count": 57,
   "id": "987de929",
   "metadata": {},
   "outputs": [],
   "source": [
    "df_pitch['outlier'] = 0\n",
    "df_pitch.loc[(abs(df_pitch.score_normal - m_t) >= 2*std_t), 'outlier'] = 1\n",
    "\n",
    "df_pitch_copia = df_pitch.copy(deep=True)"
   ]
  },
  {
   "cell_type": "code",
   "execution_count": 58,
   "id": "a82e9b45",
   "metadata": {},
   "outputs": [
    {
     "data": {
      "text/plain": [
       "0    17412\n",
       "1      977\n",
       "Name: outlier, dtype: int64"
      ]
     },
     "execution_count": 58,
     "metadata": {},
     "output_type": "execute_result"
    }
   ],
   "source": [
    "df_pitch.outlier.value_counts()"
   ]
  },
  {
   "cell_type": "markdown",
   "id": "e992dbd3",
   "metadata": {},
   "source": [
    "### Ejercicio 8. Tratamiento de los outliers\n",
    "\n",
    "Escribe código para realizar las siguientes operaciones con los outliers:\n",
    "\n",
    "* Eliminarlos\n",
    "* Imputar media con outliers\n",
    "* Imputar media sin outliers"
   ]
  },
  {
   "cell_type": "code",
   "execution_count": 59,
   "id": "4c73a1aa",
   "metadata": {},
   "outputs": [
    {
     "data": {
      "text/plain": [
       "<AxesSubplot:xlabel='score_normal', ylabel='Count'>"
      ]
     },
     "execution_count": 59,
     "metadata": {},
     "output_type": "execute_result"
    },
    {
     "data": {
      "image/png": "[encoded data removed]",
      "text/plain": [
       "<Figure size 1152x288 with 1 Axes>"
      ]
     },
     "metadata": {
      "needs_background": "light"
     },
     "output_type": "display_data"
    }
   ],
   "source": [
    "df_pitch_copia = df_pitch_copia[df_pitch_copia['outlier']!=1]\n",
    "df_pitch_copia.outlier.value_counts()\n",
    "sns.histplot(df_pitch_copia.score_normal)"
   ]
  },
  {
   "cell_type": "code",
   "execution_count": 60,
   "id": "070fb7d4",
   "metadata": {},
   "outputs": [
    {
     "data": {
      "text/plain": [
       "<AxesSubplot:xlabel='score_normal', ylabel='Count'>"
      ]
     },
     "execution_count": 60,
     "metadata": {},
     "output_type": "execute_result"
    },
    {
     "data": {
      "image/png": "[encoded data removed]",
      "text/plain": [
       "<Figure size 1152x288 with 1 Axes>"
      ]
     },
     "metadata": {
      "needs_background": "light"
     },
     "output_type": "display_data"
    }
   ],
   "source": [
    "df_pitch_copia = df_pitch.copy(deep=True)\n",
    "media_out = df_pitch_copia['score_normal'].mean()\n",
    "df_pitch_copia['score_normal'] = np.where(df_pitch_copia['outlier']==1,media_out,df_pitch_copia['score_normal'])\n",
    "sns.histplot(df_pitch_copia.score_normal)"
   ]
  },
  {
   "cell_type": "code",
   "execution_count": 61,
   "id": "2fa395b1",
   "metadata": {},
   "outputs": [
    {
     "data": {
      "text/plain": [
       "<AxesSubplot:xlabel='score_normal', ylabel='Count'>"
      ]
     },
     "execution_count": 61,
     "metadata": {},
     "output_type": "execute_result"
    },
    {
     "data": {
      "image/png": "[encoded data removed]",
      "text/plain": [
       "<Figure size 1152x288 with 1 Axes>"
      ]
     },
     "metadata": {
      "needs_background": "light"
     },
     "output_type": "display_data"
    }
   ],
   "source": [
    "df_pitch_copy = df_pitch_copia.copy(deep=True)\n",
    "media_out = df_pitch_copia[df_pitch_copia['outlier']==0].score_normal.mean()\n",
    "df_pitch_copy['score_normal'] = np.where(df_pitch_copy['outlier']==1,media_out,df_pitch_copy['score_normal'])\n",
    "sns.histplot(df_pitch_copy.score_normal)"
   ]
  },
  {
   "cell_type": "markdown",
   "id": "80e58458",
   "metadata": {},
   "source": [
    "## Ejercicio 9\n",
    "Detecta los outliers en las muestras de las listas de precios utilizadas con la ley de Benford"
   ]
  },
  {
   "cell_type": "code",
   "execution_count": 62,
   "id": "f1199ac1",
   "metadata": {},
   "outputs": [
    {
     "name": "stdout",
     "output_type": "stream",
     "text": [
      "Muestra Nº  1\n",
      "\n",
      "    Menos de una desviación típica (ref 68%): 99.28662420382166 %\n",
      "    Menos de dos desviaciones (ref 95,4%): 99.7452229299363 %\n",
      "    Menos de tres desviaciones (ref 99,7 %): 99.84713375796179 %\n",
      "    \n",
      "Sin Normalizar: NO ES DISTRIBUCION NORMAL\n",
      "\n",
      "    Menos de una desviación típica (ref 68%): 65.8343949044586 %\n",
      "    Menos de dos desviaciones (ref 95,4%): 96.5859872611465 %\n",
      "    Menos de tres desviaciones (ref 99,7 %): 99.89808917197452 %\n",
      "    \n",
      "Normalizada: DISTRIBUCION NORMAL\n",
      "False    3791\n",
      "True      134\n",
      "Name: outlier, dtype: int64\n",
      "\n",
      "\n",
      "Muestra Nº  2\n",
      "\n",
      "    Menos de una desviación típica (ref 68%): 87.97 %\n",
      "    Menos de dos desviaciones (ref 95,4%): 92.83 %\n",
      "    Menos de tres desviaciones (ref 99,7 %): 98.62 %\n",
      "    \n",
      "Sin Normalizar: NO ES DISTRIBUCION NORMAL\n",
      "\n",
      "    Menos de una desviación típica (ref 68%): 68.29 %\n",
      "    Menos de dos desviaciones (ref 95,4%): 97.27 %\n",
      "    Menos de tres desviaciones (ref 99,7 %): 100.0 %\n",
      "    \n",
      "Normalizada: DISTRIBUCION NORMAL\n",
      "False    9727\n",
      "True      273\n",
      "Name: outlier, dtype: int64\n",
      "\n",
      "\n",
      "Muestra Nº  3\n",
      "\n",
      "    Menos de una desviación típica (ref 68%): 91.5347137637028 %\n",
      "    Menos de dos desviaciones (ref 95,4%): 96.72655298416565 %\n",
      "    Menos de tres desviaciones (ref 99,7 %): 98.32521315468941 %\n",
      "    \n",
      "Sin Normalizar: NO ES DISTRIBUCION NORMAL\n",
      "\n",
      "    Menos de una desviación típica (ref 68%): 69.07734470158343 %\n",
      "    Menos de dos desviaciones (ref 95,4%): 95.26492082825823 %\n",
      "    Menos de tres desviaciones (ref 99,7 %): 99.61936662606577 %\n",
      "    \n",
      "Normalizada: DISTRIBUCION NORMAL\n",
      "False    6257\n",
      "True      311\n",
      "Name: outlier, dtype: int64\n",
      "\n",
      "\n",
      "Muestra Nº  4\n",
      "\n",
      "    Menos de una desviación típica (ref 68%): 99.1542904290429 %\n",
      "    Menos de dos desviaciones (ref 95,4%): 99.54620462046205 %\n",
      "    Menos de tres desviaciones (ref 99,7 %): 99.58745874587459 %\n",
      "    \n",
      "Sin Normalizar: NO ES DISTRIBUCION NORMAL\n",
      "\n",
      "    Menos de una desviación típica (ref 68%): 69.53382838283828 %\n",
      "    Menos de dos desviaciones (ref 95,4%): 97.12252475247524 %\n",
      "    Menos de tres desviaciones (ref 99,7 %): 99.56683168316832 %\n",
      "    \n",
      "Normalizada: DISTRIBUCION NORMAL\n",
      "False    9417\n",
      "True      279\n",
      "Name: outlier, dtype: int64\n",
      "\n",
      "\n",
      "Muestra Nº  5\n",
      "\n",
      "    Menos de una desviación típica (ref 68%): 89.1566265060241 %\n",
      "    Menos de dos desviaciones (ref 95,4%): 96.29286376274328 %\n",
      "    Menos de tres desviaciones (ref 99,7 %): 98.4244670991659 %\n",
      "    \n",
      "Sin Normalizar: NO ES DISTRIBUCION NORMAL\n",
      "\n",
      "    Menos de una desviación típica (ref 68%): 66.07970342910102 %\n",
      "    Menos de dos desviaciones (ref 95,4%): 96.20018535681186 %\n",
      "    Menos de tres desviaciones (ref 99,7 %): 99.81464318813717 %\n",
      "    \n",
      "Normalizada: DISTRIBUCION NORMAL\n",
      "False    1038\n",
      "True       41\n",
      "Name: outlier, dtype: int64\n",
      "\n",
      "\n"
     ]
    },
    {
     "name": "stderr",
     "output_type": "stream",
     "text": [
      "C:\\Users\\aleex\\AppData\\Local\\Temp/ipykernel_13464/3010841480.py:20: SettingWithCopyWarning: \n",
      "A value is trying to be set on a copy of a slice from a DataFrame.\n",
      "Try using .loc[row_indexer,col_indexer] = value instead\n",
      "\n",
      "See the caveats in the documentation: https://pandas.pydata.org/pandas-docs/stable/user_guide/indexing.html#returning-a-view-versus-a-copy\n",
      "  df['PRECIO_t'] = transformada\n",
      "C:\\Users\\aleex\\AppData\\Local\\Temp/ipykernel_13464/3010841480.py:33: SettingWithCopyWarning: \n",
      "A value is trying to be set on a copy of a slice from a DataFrame.\n",
      "Try using .loc[row_indexer,col_indexer] = value instead\n",
      "\n",
      "See the caveats in the documentation: https://pandas.pydata.org/pandas-docs/stable/user_guide/indexing.html#returning-a-view-versus-a-copy\n",
      "  df['outlier'] = np.where(((df['PRECIO_t']<m_t-2*std_t) | (df['PRECIO_t']>m_t+2*std_t)),True,False)\n",
      "C:\\Users\\aleex\\AppData\\Local\\Temp/ipykernel_13464/3010841480.py:20: SettingWithCopyWarning: \n",
      "A value is trying to be set on a copy of a slice from a DataFrame.\n",
      "Try using .loc[row_indexer,col_indexer] = value instead\n",
      "\n",
      "See the caveats in the documentation: https://pandas.pydata.org/pandas-docs/stable/user_guide/indexing.html#returning-a-view-versus-a-copy\n",
      "  df['PRECIO_t'] = transformada\n",
      "C:\\Users\\aleex\\AppData\\Local\\Temp/ipykernel_13464/3010841480.py:33: SettingWithCopyWarning: \n",
      "A value is trying to be set on a copy of a slice from a DataFrame.\n",
      "Try using .loc[row_indexer,col_indexer] = value instead\n",
      "\n",
      "See the caveats in the documentation: https://pandas.pydata.org/pandas-docs/stable/user_guide/indexing.html#returning-a-view-versus-a-copy\n",
      "  df['outlier'] = np.where(((df['PRECIO_t']<m_t-2*std_t) | (df['PRECIO_t']>m_t+2*std_t)),True,False)\n",
      "C:\\Users\\aleex\\AppData\\Local\\Temp/ipykernel_13464/3010841480.py:20: SettingWithCopyWarning: \n",
      "A value is trying to be set on a copy of a slice from a DataFrame.\n",
      "Try using .loc[row_indexer,col_indexer] = value instead\n",
      "\n",
      "See the caveats in the documentation: https://pandas.pydata.org/pandas-docs/stable/user_guide/indexing.html#returning-a-view-versus-a-copy\n",
      "  df['PRECIO_t'] = transformada\n",
      "C:\\Users\\aleex\\AppData\\Local\\Temp/ipykernel_13464/3010841480.py:33: SettingWithCopyWarning: \n",
      "A value is trying to be set on a copy of a slice from a DataFrame.\n",
      "Try using .loc[row_indexer,col_indexer] = value instead\n",
      "\n",
      "See the caveats in the documentation: https://pandas.pydata.org/pandas-docs/stable/user_guide/indexing.html#returning-a-view-versus-a-copy\n",
      "  df['outlier'] = np.where(((df['PRECIO_t']<m_t-2*std_t) | (df['PRECIO_t']>m_t+2*std_t)),True,False)\n",
      "C:\\Users\\aleex\\AppData\\Local\\Temp/ipykernel_13464/3010841480.py:20: SettingWithCopyWarning: \n",
      "A value is trying to be set on a copy of a slice from a DataFrame.\n",
      "Try using .loc[row_indexer,col_indexer] = value instead\n",
      "\n",
      "See the caveats in the documentation: https://pandas.pydata.org/pandas-docs/stable/user_guide/indexing.html#returning-a-view-versus-a-copy\n",
      "  df['PRECIO_t'] = transformada\n",
      "C:\\Users\\aleex\\AppData\\Local\\Temp/ipykernel_13464/3010841480.py:33: SettingWithCopyWarning: \n",
      "A value is trying to be set on a copy of a slice from a DataFrame.\n",
      "Try using .loc[row_indexer,col_indexer] = value instead\n",
      "\n",
      "See the caveats in the documentation: https://pandas.pydata.org/pandas-docs/stable/user_guide/indexing.html#returning-a-view-versus-a-copy\n",
      "  df['outlier'] = np.where(((df['PRECIO_t']<m_t-2*std_t) | (df['PRECIO_t']>m_t+2*std_t)),True,False)\n",
      "C:\\Users\\aleex\\AppData\\Local\\Temp/ipykernel_13464/3010841480.py:20: SettingWithCopyWarning: \n",
      "A value is trying to be set on a copy of a slice from a DataFrame.\n",
      "Try using .loc[row_indexer,col_indexer] = value instead\n",
      "\n",
      "See the caveats in the documentation: https://pandas.pydata.org/pandas-docs/stable/user_guide/indexing.html#returning-a-view-versus-a-copy\n",
      "  df['PRECIO_t'] = transformada\n",
      "C:\\Users\\aleex\\AppData\\Local\\Temp/ipykernel_13464/3010841480.py:33: SettingWithCopyWarning: \n",
      "A value is trying to be set on a copy of a slice from a DataFrame.\n",
      "Try using .loc[row_indexer,col_indexer] = value instead\n",
      "\n",
      "See the caveats in the documentation: https://pandas.pydata.org/pandas-docs/stable/user_guide/indexing.html#returning-a-view-versus-a-copy\n",
      "  df['outlier'] = np.where(((df['PRECIO_t']<m_t-2*std_t) | (df['PRECIO_t']>m_t+2*std_t)),True,False)\n"
     ]
    }
   ],
   "source": [
    "from sklearn.preprocessing import PowerTransformer\n",
    "df_precios = pd.read_excel('./data/precios_venta.xlsx')\n",
    "df_precios.head()\n",
    "\n",
    "def outlier_deteccion(df,muestra):\n",
    "    p = PowerTransformer(method='yeo-johnson', standardize=True)\n",
    "    df = df[df['MUESTRA'].str.contains(str(muestra))]\n",
    "    media,std = df['PRECIO'].mean(),df['PRECIO'].std()\n",
    "    print(f\"\"\"\n",
    "    Menos de una desviación típica (ref 68%): {df.loc[abs(df.PRECIO - media) <= std].PRECIO.count() *100 / df.PRECIO.count()} %\n",
    "    Menos de dos desviaciones (ref 95,4%): {df.loc[(abs(df.PRECIO - media) <= 2*std)].PRECIO.count()*100 / df.PRECIO.count()} %\n",
    "    Menos de tres desviaciones (ref 99,7 %): {df.loc[(abs(df.PRECIO - media) <= 3*std)].PRECIO.count()*100 / df.PRECIO.count()} %\n",
    "    \"\"\")\n",
    "    \n",
    "    if ((df.loc[abs(df.PRECIO - media) <= std].PRECIO.count() *100 / df.PRECIO.count())-68)<=abs(2) and ((df.loc[abs(df.PRECIO - media) <= 2*std].PRECIO.count() *100 / df.PRECIO.count())-95.4)<=abs(2) and ((df.loc[abs(df.PRECIO - media) <= 3*std].PRECIO.count() *100 / df.PRECIO.count())-99.7)<=abs(2):\n",
    "        print('Sin Normalizar: DISTRIBUCION NORMAL')\n",
    "    else:\n",
    "        print('Sin Normalizar: NO ES DISTRIBUCION NORMAL')\n",
    "    transformada = p.fit_transform(df[['PRECIO']])\n",
    "    df['PRECIO_t'] = transformada\n",
    "    m_t,std_t = df['PRECIO_t'].mean(),df['PRECIO_t'].std()\n",
    "\n",
    "    print(f\"\"\"\n",
    "    Menos de una desviación típica (ref 68%): {df.loc[abs(df.PRECIO_t - m_t) <= std_t].PRECIO_t.count() *100 / df.PRECIO_t.count()} %\n",
    "    Menos de dos desviaciones (ref 95,4%): {df.loc[(abs(df.PRECIO_t - m_t) <= 2*std_t)].PRECIO_t.count()*100 / df.PRECIO_t.count()} %\n",
    "    Menos de tres desviaciones (ref 99,7 %): {df.loc[(abs(df.PRECIO_t - m_t) <= 3*std_t)].PRECIO_t.count()*100 / df.PRECIO_t.count()} %\n",
    "    \"\"\")\n",
    "    \n",
    "    if ((df.loc[abs(df.PRECIO_t - m_t) <= std_t].PRECIO_t.count() *100 / df.PRECIO_t.count())-68)<=abs(2) and ((df.loc[abs(df.PRECIO_t - m_t) <= 2*std_t].PRECIO_t.count() *100 / df.PRECIO_t.count())-95.4)<=abs(2) and ((df.loc[abs(df.PRECIO_t - m_t) <= 3*std_t].PRECIO_t.count() *100 / df.PRECIO_t.count())-99.7)<=abs(2):\n",
    "        print('Normalizada: DISTRIBUCION NORMAL')\n",
    "    else:\n",
    "        print('Normalizada: NO ES DISTRIBUCION NORMAL')\n",
    "    df['outlier'] = np.where(((df['PRECIO_t']<m_t-2*std_t) | (df['PRECIO_t']>m_t+2*std_t)),True,False)\n",
    "    #print((m_t-2*std_t,m_t+2*std_t))\n",
    "    print(df.outlier.value_counts())\n",
    "    return df\n",
    "    \n",
    "for i in range(1,1+len(list(df_precios.MUESTRA.unique()))):\n",
    "    print('Muestra Nº ',i)\n",
    "    outlier_deteccion(df_precios,i)\n",
    "    print('\\n')"
   ]
  },
  {
   "cell_type": "markdown",
   "id": "8cc15e6b",
   "metadata": {},
   "source": [
    "### Detección Multidimensional de Outliers"
   ]
  },
  {
   "cell_type": "markdown",
   "id": "ba9d3a1a",
   "metadata": {},
   "source": [
    "**Isolation Forests**"
   ]
  },
  {
   "cell_type": "code",
   "execution_count": 63,
   "id": "75561eaa",
   "metadata": {},
   "outputs": [
    {
     "name": "stdout",
     "output_type": "stream",
     "text": [
      "0.5647714028827973\n"
     ]
    }
   ],
   "source": [
    "import pandas as pd\n",
    "from sklearn.ensemble import IsolationForest\n",
    "from sklearn.linear_model import LinearRegression\n",
    "\n",
    "df = pd.read_csv('./data/HousingDataset.csv')\n",
    "df = df.drop(columns=['ocean_proximity', 'longitude', 'latitude'])\n",
    "df = df.fillna(0)\n",
    "\n",
    "y = df['median_house_value']\n",
    "X = df.drop(columns=['median_house_value'])\n",
    "\n",
    "lr = LinearRegression()\n",
    "lr.fit(X, y)\n",
    "print(lr.score(X,y))"
   ]
  },
  {
   "cell_type": "code",
   "execution_count": 64,
   "id": "04eee205",
   "metadata": {},
   "outputs": [
    {
     "name": "stdout",
     "output_type": "stream",
     "text": [
      " 1    17360\n",
      "-1     3280\n",
      "dtype: int64\n",
      "0.5641170498831499\n"
     ]
    }
   ],
   "source": [
    "filtro = IsolationForest().fit_predict(df)\n",
    "print(pd.Series(filtro).value_counts())\n",
    "# Eliminamos los outliers\n",
    "\n",
    "df['Filtro'] = pd.Series(filtro)\n",
    "df = df[df['Filtro']==1]\n",
    "df.drop(columns=['Filtro'],inplace=True)\n",
    "y = df['median_house_value']\n",
    "X = df.drop(columns=['median_house_value'])\n",
    "lr = LinearRegression()\n",
    "lr.fit(X, y)\n",
    "print(lr.score(X,y))"
   ]
  },
  {
   "cell_type": "markdown",
   "id": "c9baec10",
   "metadata": {},
   "source": [
    "**LocalOutlierFactor**"
   ]
  },
  {
   "cell_type": "code",
   "execution_count": 65,
   "id": "aa75786c",
   "metadata": {},
   "outputs": [
    {
     "name": "stdout",
     "output_type": "stream",
     "text": [
      " 1    20050\n",
      "-1      590\n",
      "Name: Filtro, dtype: int64\n"
     ]
    },
    {
     "data": {
      "text/plain": [
       "0.5842242190183924"
      ]
     },
     "execution_count": 65,
     "metadata": {},
     "output_type": "execute_result"
    }
   ],
   "source": [
    "import pandas as pd\n",
    "from sklearn.neighbors import LocalOutlierFactor\n",
    "\n",
    "df = pd.read_csv('./data/HousingDataset.csv')\n",
    "df = df.drop(columns=['ocean_proximity', 'longitude', 'latitude'])\n",
    "df = df.fillna(0)\n",
    "filtro= LocalOutlierFactor().fit_predict(df)\n",
    "\n",
    "df['Filtro'] = pd.Series(filtro)\n",
    "print(df.Filtro.value_counts())\n",
    "df = df[df['Filtro']==1]\n",
    "\n",
    "lr = LinearRegression()\n",
    "\n",
    "y = df['median_house_value']\n",
    "X = df.drop(columns=['median_house_value','Filtro'])\n",
    "\n",
    "lr.fit(X, y)\n",
    "lr.score(X,y)"
   ]
  }
 ],
 "metadata": {
  "kernelspec": {
   "display_name": "Python 3 (ipykernel)",
   "language": "python",
   "name": "python3"
  },
  "language_info": {
   "codemirror_mode": {
    "name": "ipython",
    "version": 3
   },
   "file_extension": ".py",
   "mimetype": "text/x-python",
   "name": "python",
   "nbconvert_exporter": "python",
   "pygments_lexer": "ipython3",
   "version": "3.8.5"
  }
 },
 "nbformat": 4,
 "nbformat_minor": 5
}
