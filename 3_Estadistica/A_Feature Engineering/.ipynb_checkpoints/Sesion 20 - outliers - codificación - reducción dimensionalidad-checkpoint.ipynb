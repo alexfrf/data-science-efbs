{
 "cells": [
  {
   "cell_type": "markdown",
   "metadata": {
    "ExecuteTime": {
     "end_time": "2020-11-25T16:34:00.584950Z",
     "start_time": "2020-11-25T16:34:00.551339Z"
    }
   },
   "source": [
    "![Logo MDS](./images/logo_mds.png)"
   ]
  },
  {
   "cell_type": "markdown",
   "metadata": {},
   "source": [
    "# Feature Engineering\n",
    "\n",
    "## Introducción\n",
    "\n",
    "Cuando hablamos de la labor del data scientist de negocio decimos que debe ser capaz de:\n",
    "\n",
    "1. Detectar un problema de negocio\n",
    "2. Plantearlo como un problema de datos\n",
    "3. Resolver el problema de datos\n",
    "4. Convertir la solución del problema de datos en una acción a llevar a cabo por el negocio\n",
    "\n",
    "Hasta ahora, en el máster se ha aprendido:\n",
    "\n",
    "* Principios de análisis\n",
    "* SQL\n",
    "* Principios de Python para analítica de datos\n",
    "* Visualización en PowerBI\n",
    "\n",
    "Esto nos permite contar con las herramientas básicas para poder realizar analítica.\n",
    "\n",
    "Durante el módulo actual (Estadística) se refuerzan los conceptos que nos permitirán medir la calidad de los análisis que realicemos y, además, se introducen algunas técnicas de tratamiento de datos requeridas por los algoritmos que se verán después.\n",
    "\n",
    "A lo largo de este cuadernos nos referiremos a los \"campos\" de un dataframe como atributo, característica o campo de forma independiente.\n",
    "\n",
    "## Objetivo\n",
    "El objetivo de estas sesiones es proporcionar herramientas de preparación de datos que nos permitan extraer la máxima información de nuestros datasets.\n",
    "\n",
    "Estas técnicas nos permiten tanto limpiar los datos existentes como incorporar nuevos atributos que no existían originalmente o descartar aquellos que no aportan información útil.\n",
    "\n",
    "Desde el máster reunimos las técnicas de Feature Engineering en dos grandes bloques:\n",
    "\n",
    "* Limpieza y transformación\n",
    "* Modificación de la dimensionalidad (reducción/incremento)\n",
    "\n",
    "## Limpieza y Transformación\n",
    "La limpieza de datos incluye todo el conjunto de procesos que deben ser realizados para poder sacar conclusiones válidas sobre los datos.\n",
    "\n",
    "Este tipo de tratamiento van encaminados a evitar que nuestro análisis quede sesgado por un número de observaciones muy pequeño o por inconsistencias de información.\n",
    "\n",
    "En este apartado se incluyen también las transformaciones que debemos realizar para que la información pueda ser consumidosa por determinados algoritmos (especialmente normalización y estandarización).\n",
    "\n",
    "En este grupo de técnicas se incluye:\n",
    "\n",
    "* Conversión de tipos de datos\n",
    "* Relleno de información faltante (tratamiento de nulos)\n",
    "* Sustitución de valores anómalos (tratamiento de outliers)\n",
    "* Escalado de la distribución (normalización, estandarización)\n",
    "* Codificación de variables\n",
    "\n",
    "## Modificación de la dimensionalidad\n",
    "\n",
    "Entendemos por modificación de la dimensionalidad todos los procesos cuyo objetivo sea añadir o eliminar columnas del juego de datos original para facilitar su análisis o mejorar la calidad de los datos.\n",
    "\n",
    "### Reducción de la dimensionalidad\n",
    "La reducción de la dimensionalidad es un apartado clave al trabajar con grandes conjuntos de datos. \n",
    "\n",
    "El tiempo que tarde un algoritmo de analítica avanzada depende de dos factores:\n",
    "\n",
    "- La complejidad del propio algoritmo\n",
    "- El tamaño de la entrada\n",
    "\n",
    "La complejidad del algoritmo es un factor intrínseco que no podemos cambiar, hay métodos más rápidos y otros más lentos y, aunque podemos ayudar a que sean más rápidos (proporcionando los datos con unos formatos específicos), no podemos acelerar algunas medidas elementales de un algoritmo como son el número de operaciones que tiene que hacer por iteración.\n",
    "\n",
    "El tamaño de la entrada, sin embargo, sí podemos modificarlo. Consideramos tamaño de la entrada a la cardinalidad total del conjunto de datos con el que trabajamos, es decir, nos importa tanto el número de filas como de columnas.\n",
    "\n",
    "Si pensamos en un conjunto de datos real en el que tengamos información de venta, clientes, proveedores, producto, centro de venta, comercial que realiza la venta, ... podemos ver que el número de características que debemos tener en cuenta es muy elevado.\n",
    "\n",
    "Los procesos de reducción de la dimensionalidad se encargan de determinar qué atributos/características tienen más importancia de cara a determinar el resultado de nuestros procesos de analítica avanzada y nos permiten eliminar aquellos que no tengan aporte con la confianza de no estar condicionando nuestros análisis.\n",
    "\n",
    "Las técnicas habituales para la reducción de la dimensionalidad son:\n",
    "* Selección de características manual\n",
    "* Análisis de correlación (y eliminación de variables que tengan una muy alta correlación)\n",
    "* PCA\n",
    "* LASSO\n",
    "\n",
    "### Incremento de la dimensionalidad\n",
    "\n",
    "El incremento de la dimensionalidad no es una técnica (o conjunto de técnicas) reconocido como tal, normalmente nos referimos a este paso como \"enriquecimiento de los datos\" o nombres similares.\n",
    "\n",
    "En el máster, este paso se incluye aquí por su paralelismo con la reducción de la dimensionalidad del apartado anterior.\n",
    "\n",
    "En general las técnicas son más manuales que las de la reducción de la dimensionalidad:\n",
    "* Desagregación de atributos \"empaquetados\"\n",
    "* Etiquetado de casos (etiquetado por personas, no por algoritmos)\n",
    "* Introducción de datos externos\n",
    "\n",
    "En estos \"datos externos\" también se incluiría el uso de las salidas de otros modelos analíticos como ampliación de características para nuestro juego de datos, por ejemplo, utilizar la clasificación de productos de un modelo de scoring como entrada para decidir la efectividad de la oferta por categoría de producto."
   ]
  },
  {
   "cell_type": "markdown",
   "metadata": {},
   "source": [
    "# Eliminar valores anómalos\n",
    "\n",
    "En ocasiones nos encontraremos con un conjunto de datos que contiene valores anómalos. En este sentido consideramos como anómalo cualquier valor que no esperábamos encontrar para una distribución determinada, es decir, un *outlier*.\n",
    "\n",
    "Tenemos varias formas de eliminar outliers:\n",
    "- Una dimensión:\n",
    " - Rango intercuartiles\n",
    " - Media y desviación típica / z-score\n",
    "- Varias dimensiones:\n",
    " - Isolation forest\n",
    " - SVM..."
   ]
  },
  {
   "cell_type": "markdown",
   "metadata": {},
   "source": [
    "## Outliers por rango intercuartiles\n",
    "\n",
    "Un método \"sencillo\" para la detección de outliers es la utilización del rango intercuartiles.\n",
    "\n",
    "Para ello calculamos los puntos de corte de los cuartiles de la distribución y se descartan todos los valores que estén más allá de 1,5 veces el rango intercuartil partiendo desde el primer y tercer intercuartil.\n",
    "\n",
    "La visualización de seaborn del boxplot ya incluye la detección de outliers"
   ]
  },
  {
   "cell_type": "code",
   "execution_count": 1,
   "metadata": {
    "ExecuteTime": {
     "end_time": "2022-01-21T21:56:39.888845Z",
     "start_time": "2022-01-21T21:56:39.010986Z"
    },
    "scrolled": true
   },
   "outputs": [
    {
     "data": {
      "text/plain": [
       "<AxesSubplot:xlabel='score'>"
      ]
     },
     "execution_count": 1,
     "metadata": {},
     "output_type": "execute_result"
    },
    {
     "data": {
      "image/png": "[encoded data removed]",
      "text/plain": [
       "<Figure size 1152x288 with 1 Axes>"
      ]
     },
     "metadata": {
      "needs_background": "light"
     },
     "output_type": "display_data"
    }
   ],
   "source": [
    "import pandas as pd\n",
    "from matplotlib import pyplot\n",
    "import seaborn as sns\n",
    "\n",
    "pyplot.rcParams['figure.figsize'] = (16,4)\n",
    "\n",
    "def leer_pitchfork():\n",
    "    df = pd.read_csv('./data/reviews.csv')\n",
    "    df.drop(columns=['Unnamed: 0'], inplace=True)\n",
    "    df = df.drop_duplicates()\n",
    "    return df\n",
    "\n",
    "\n",
    "df_pitch = leer_pitchfork()\n",
    "\n",
    "sns.boxplot(data=df_pitch, x='score')"
   ]
  },
  {
   "cell_type": "markdown",
   "metadata": {},
   "source": [
    "En el diagrama vemos (boxplot, box and whiskers):\n",
    "* Línea central del rectángulo: media\n",
    "* Línea derecha del rectángulo: corte entre el primer y segundo intercuartil\n",
    "* Línea izquierda del rectángulo: corte entre el tercer y cuarto intercuartil\n",
    "* Línea extremo derecho: límite para determinar outliers\n",
    "* Línea extremo izquierdo: límite inferior para determinar outliers\n",
    "\n",
    "Podemos pasar el parámetro *whis* (whiskers = bigotes) para indicar el factor por el que se multiplica el rango intercuartiles en la búsqueda de outliers. \n",
    "\n",
    "Por defecto ese valor es 1.5"
   ]
  },
  {
   "cell_type": "code",
   "execution_count": 2,
   "metadata": {
    "ExecuteTime": {
     "end_time": "2022-01-21T21:56:45.511345Z",
     "start_time": "2022-01-21T21:56:45.418346Z"
    }
   },
   "outputs": [
    {
     "data": {
      "text/plain": [
       "<AxesSubplot:xlabel='score'>"
      ]
     },
     "execution_count": 2,
     "metadata": {},
     "output_type": "execute_result"
    },
    {
     "data": {
      "image/png": "[encoded data removed]",
      "text/plain": [
       "<Figure size 1152x288 with 1 Axes>"
      ]
     },
     "metadata": {
      "needs_background": "light"
     },
     "output_type": "display_data"
    }
   ],
   "source": [
    "sns.boxplot(data=df_pitch, x='score', whis=1)"
   ]
  },
  {
   "cell_type": "code",
   "execution_count": 3,
   "metadata": {
    "ExecuteTime": {
     "end_time": "2022-01-21T21:56:45.701503Z",
     "start_time": "2022-01-21T21:56:45.620504Z"
    }
   },
   "outputs": [
    {
     "data": {
      "text/plain": [
       "<AxesSubplot:xlabel='score'>"
      ]
     },
     "execution_count": 3,
     "metadata": {},
     "output_type": "execute_result"
    },
    {
     "data": {
      "image/png": "[encoded data removed]",
      "text/plain": [
       "<Figure size 1152x288 with 1 Axes>"
      ]
     },
     "metadata": {
      "needs_background": "light"
     },
     "output_type": "display_data"
    }
   ],
   "source": [
    "sns.boxplot(data=df_pitch, x='score', whis=2)"
   ]
  },
  {
   "cell_type": "markdown",
   "metadata": {},
   "source": [
    "Analíticamente, el proceso para detectar outliers utilizando el rango intercuartiles consiste en:\n",
    "\n",
    "- Obtener el límite del primer cuartil\n",
    "- Obtener el límite del tercer cuartil\n",
    "- Calcular la resta entre ambos (rango intercuartiles)\n",
    "- Multiplicar ese rango por nuestro \"factor de detección de outliers\"\n",
    "- Encontrar / eliminar aquellos valores fuera de rango\n"
   ]
  },
  {
   "cell_type": "markdown",
   "metadata": {},
   "source": [
    "## Ejercicio 6. Localiza los outliers del score de Pitchfork utilizando el método IQR\n",
    "\n",
    "Utiliza la función quantile de las series de datos de pandas para localizar los puntos de corte de los cuartiles\n"
   ]
  },
  {
   "cell_type": "code",
   "execution_count": 4,
   "metadata": {},
   "outputs": [
    {
     "name": "stdout",
     "output_type": "stream",
     "text": [
      "iqr =  1.4\n",
      "(4.3, 9.9)\n",
      "False    17506\n",
      "True       883\n",
      "Name: outlier, dtype: int64\n"
     ]
    },
    {
     "data": {
      "text/html": [
       "<div>\n",
       "<style scoped>\n",
       "    .dataframe tbody tr th:only-of-type {\n",
       "        vertical-align: middle;\n",
       "    }\n",
       "\n",
       "    .dataframe tbody tr th {\n",
       "        vertical-align: top;\n",
       "    }\n",
       "\n",
       "    .dataframe thead th {\n",
       "        text-align: right;\n",
       "    }\n",
       "</style>\n",
       "<table border=\"1\" class=\"dataframe\">\n",
       "  <thead>\n",
       "    <tr style=\"text-align: right;\">\n",
       "      <th></th>\n",
       "      <th>reviewid</th>\n",
       "      <th>title</th>\n",
       "      <th>artist</th>\n",
       "      <th>url</th>\n",
       "      <th>score</th>\n",
       "      <th>best_new_music</th>\n",
       "      <th>author</th>\n",
       "      <th>author_type</th>\n",
       "      <th>pub_date</th>\n",
       "      <th>pub_weekday</th>\n",
       "      <th>pub_day</th>\n",
       "      <th>pub_month</th>\n",
       "      <th>pub_year</th>\n",
       "      <th>outlier</th>\n",
       "    </tr>\n",
       "  </thead>\n",
       "  <tbody>\n",
       "    <tr>\n",
       "      <th>13</th>\n",
       "      <td>22720</td>\n",
       "      <td>december 99th</td>\n",
       "      <td>yasiin bey</td>\n",
       "      <td>http://pitchfork.com/reviews/albums/22720-dece...</td>\n",
       "      <td>3.5</td>\n",
       "      <td>0</td>\n",
       "      <td>marcus j. moore</td>\n",
       "      <td>contributor</td>\n",
       "      <td>2017-01-02</td>\n",
       "      <td>0</td>\n",
       "      <td>2</td>\n",
       "      <td>1</td>\n",
       "      <td>2017</td>\n",
       "      <td>True</td>\n",
       "    </tr>\n",
       "    <tr>\n",
       "      <th>161</th>\n",
       "      <td>22589</td>\n",
       "      <td>collage</td>\n",
       "      <td>the chainsmokers</td>\n",
       "      <td>http://pitchfork.com/reviews/albums/22589-coll...</td>\n",
       "      <td>3.5</td>\n",
       "      <td>0</td>\n",
       "      <td>kevin lozano</td>\n",
       "      <td>tracks coordinator</td>\n",
       "      <td>2016-11-09</td>\n",
       "      <td>2</td>\n",
       "      <td>9</td>\n",
       "      <td>11</td>\n",
       "      <td>2016</td>\n",
       "      <td>True</td>\n",
       "    </tr>\n",
       "    <tr>\n",
       "      <th>191</th>\n",
       "      <td>22374</td>\n",
       "      <td>metal box</td>\n",
       "      <td>public image ltd</td>\n",
       "      <td>http://pitchfork.com/reviews/albums/22374-meta...</td>\n",
       "      <td>10.0</td>\n",
       "      <td>1</td>\n",
       "      <td>simon reynolds</td>\n",
       "      <td>contributor</td>\n",
       "      <td>2016-11-01</td>\n",
       "      <td>1</td>\n",
       "      <td>1</td>\n",
       "      <td>11</td>\n",
       "      <td>2016</td>\n",
       "      <td>True</td>\n",
       "    </tr>\n",
       "    <tr>\n",
       "      <th>200</th>\n",
       "      <td>22485</td>\n",
       "      <td>blood on the tracks</td>\n",
       "      <td>bob dylan</td>\n",
       "      <td>http://pitchfork.com/reviews/albums/22485-bloo...</td>\n",
       "      <td>10.0</td>\n",
       "      <td>0</td>\n",
       "      <td>jesse jarnow</td>\n",
       "      <td>contributor</td>\n",
       "      <td>2016-10-30</td>\n",
       "      <td>6</td>\n",
       "      <td>30</td>\n",
       "      <td>10</td>\n",
       "      <td>2016</td>\n",
       "      <td>True</td>\n",
       "    </tr>\n",
       "    <tr>\n",
       "      <th>232</th>\n",
       "      <td>22515</td>\n",
       "      <td>these systems are failing</td>\n",
       "      <td>moby &amp; the void pacific choir</td>\n",
       "      <td>http://pitchfork.com/reviews/albums/22515-thes...</td>\n",
       "      <td>4.0</td>\n",
       "      <td>0</td>\n",
       "      <td>andy beta</td>\n",
       "      <td>contributor</td>\n",
       "      <td>2016-10-21</td>\n",
       "      <td>4</td>\n",
       "      <td>21</td>\n",
       "      <td>10</td>\n",
       "      <td>2016</td>\n",
       "      <td>True</td>\n",
       "    </tr>\n",
       "    <tr>\n",
       "      <th>...</th>\n",
       "      <td>...</td>\n",
       "      <td>...</td>\n",
       "      <td>...</td>\n",
       "      <td>...</td>\n",
       "      <td>...</td>\n",
       "      <td>...</td>\n",
       "      <td>...</td>\n",
       "      <td>...</td>\n",
       "      <td>...</td>\n",
       "      <td>...</td>\n",
       "      <td>...</td>\n",
       "      <td>...</td>\n",
       "      <td>...</td>\n",
       "      <td>...</td>\n",
       "    </tr>\n",
       "    <tr>\n",
       "      <th>18329</th>\n",
       "      <td>5965</td>\n",
       "      <td>fight songs</td>\n",
       "      <td>old 97's</td>\n",
       "      <td>http://pitchfork.com/reviews/albums/5965-fight...</td>\n",
       "      <td>4.0</td>\n",
       "      <td>0</td>\n",
       "      <td>neil lieberman</td>\n",
       "      <td>NaN</td>\n",
       "      <td>1999-04-27</td>\n",
       "      <td>1</td>\n",
       "      <td>27</td>\n",
       "      <td>4</td>\n",
       "      <td>1999</td>\n",
       "      <td>True</td>\n",
       "    </tr>\n",
       "    <tr>\n",
       "      <th>18330</th>\n",
       "      <td>3830</td>\n",
       "      <td>very mercenary</td>\n",
       "      <td>the herbaliser</td>\n",
       "      <td>http://pitchfork.com/reviews/albums/3830-very-...</td>\n",
       "      <td>4.2</td>\n",
       "      <td>0</td>\n",
       "      <td>ryan schreiber</td>\n",
       "      <td>editor-in-chief</td>\n",
       "      <td>1999-04-20</td>\n",
       "      <td>1</td>\n",
       "      <td>20</td>\n",
       "      <td>4</td>\n",
       "      <td>1999</td>\n",
       "      <td>True</td>\n",
       "    </tr>\n",
       "    <tr>\n",
       "      <th>18331</th>\n",
       "      <td>5970</td>\n",
       "      <td>uterus and fire</td>\n",
       "      <td>old time relijun</td>\n",
       "      <td>http://pitchfork.com/reviews/albums/5970-uteru...</td>\n",
       "      <td>0.3</td>\n",
       "      <td>0</td>\n",
       "      <td>michael sandlin</td>\n",
       "      <td>NaN</td>\n",
       "      <td>1999-04-20</td>\n",
       "      <td>1</td>\n",
       "      <td>20</td>\n",
       "      <td>4</td>\n",
       "      <td>1999</td>\n",
       "      <td>True</td>\n",
       "    </tr>\n",
       "    <tr>\n",
       "      <th>18332</th>\n",
       "      <td>2954</td>\n",
       "      <td>the sound of music: an unfinished symphony in ...</td>\n",
       "      <td>jad fair</td>\n",
       "      <td>http://pitchfork.com/reviews/albums/2954-the-s...</td>\n",
       "      <td>3.7</td>\n",
       "      <td>0</td>\n",
       "      <td>mark richard-san</td>\n",
       "      <td>NaN</td>\n",
       "      <td>1999-04-20</td>\n",
       "      <td>1</td>\n",
       "      <td>20</td>\n",
       "      <td>4</td>\n",
       "      <td>1999</td>\n",
       "      <td>True</td>\n",
       "    </tr>\n",
       "    <tr>\n",
       "      <th>18355</th>\n",
       "      <td>8732</td>\n",
       "      <td>where's wolfie?</td>\n",
       "      <td>wolfie</td>\n",
       "      <td>http://pitchfork.com/reviews/albums/8732-where...</td>\n",
       "      <td>0.2</td>\n",
       "      <td>0</td>\n",
       "      <td>brent dicrescenzo</td>\n",
       "      <td>contributor</td>\n",
       "      <td>1999-03-23</td>\n",
       "      <td>1</td>\n",
       "      <td>23</td>\n",
       "      <td>3</td>\n",
       "      <td>1999</td>\n",
       "      <td>True</td>\n",
       "    </tr>\n",
       "  </tbody>\n",
       "</table>\n",
       "<p>883 rows × 14 columns</p>\n",
       "</div>"
      ],
      "text/plain": [
       "       reviewid                                              title  \\\n",
       "13        22720                                      december 99th   \n",
       "161       22589                                           collage    \n",
       "191       22374                                          metal box   \n",
       "200       22485                                blood on the tracks   \n",
       "232       22515                         these systems are failing    \n",
       "...         ...                                                ...   \n",
       "18329      5965                                        fight songs   \n",
       "18330      3830                                     very mercenary   \n",
       "18331      5970                                    uterus and fire   \n",
       "18332      2954  the sound of music: an unfinished symphony in ...   \n",
       "18355      8732                                    where's wolfie?   \n",
       "\n",
       "                              artist  \\\n",
       "13                        yasiin bey   \n",
       "161                 the chainsmokers   \n",
       "191                 public image ltd   \n",
       "200                        bob dylan   \n",
       "232    moby & the void pacific choir   \n",
       "...                              ...   \n",
       "18329                       old 97's   \n",
       "18330                 the herbaliser   \n",
       "18331               old time relijun   \n",
       "18332                       jad fair   \n",
       "18355                         wolfie   \n",
       "\n",
       "                                                     url  score  \\\n",
       "13     http://pitchfork.com/reviews/albums/22720-dece...    3.5   \n",
       "161    http://pitchfork.com/reviews/albums/22589-coll...    3.5   \n",
       "191    http://pitchfork.com/reviews/albums/22374-meta...   10.0   \n",
       "200    http://pitchfork.com/reviews/albums/22485-bloo...   10.0   \n",
       "232    http://pitchfork.com/reviews/albums/22515-thes...    4.0   \n",
       "...                                                  ...    ...   \n",
       "18329  http://pitchfork.com/reviews/albums/5965-fight...    4.0   \n",
       "18330  http://pitchfork.com/reviews/albums/3830-very-...    4.2   \n",
       "18331  http://pitchfork.com/reviews/albums/5970-uteru...    0.3   \n",
       "18332  http://pitchfork.com/reviews/albums/2954-the-s...    3.7   \n",
       "18355  http://pitchfork.com/reviews/albums/8732-where...    0.2   \n",
       "\n",
       "       best_new_music             author         author_type    pub_date  \\\n",
       "13                  0    marcus j. moore         contributor  2017-01-02   \n",
       "161                 0       kevin lozano  tracks coordinator  2016-11-09   \n",
       "191                 1     simon reynolds         contributor  2016-11-01   \n",
       "200                 0       jesse jarnow         contributor  2016-10-30   \n",
       "232                 0          andy beta         contributor  2016-10-21   \n",
       "...               ...                ...                 ...         ...   \n",
       "18329               0     neil lieberman                 NaN  1999-04-27   \n",
       "18330               0     ryan schreiber     editor-in-chief  1999-04-20   \n",
       "18331               0    michael sandlin                 NaN  1999-04-20   \n",
       "18332               0   mark richard-san                 NaN  1999-04-20   \n",
       "18355               0  brent dicrescenzo         contributor  1999-03-23   \n",
       "\n",
       "       pub_weekday  pub_day  pub_month  pub_year  outlier  \n",
       "13               0        2          1      2017     True  \n",
       "161              2        9         11      2016     True  \n",
       "191              1        1         11      2016     True  \n",
       "200              6       30         10      2016     True  \n",
       "232              4       21         10      2016     True  \n",
       "...            ...      ...        ...       ...      ...  \n",
       "18329            1       27          4      1999     True  \n",
       "18330            1       20          4      1999     True  \n",
       "18331            1       20          4      1999     True  \n",
       "18332            1       20          4      1999     True  \n",
       "18355            1       23          3      1999     True  \n",
       "\n",
       "[883 rows x 14 columns]"
      ]
     },
     "execution_count": 4,
     "metadata": {},
     "output_type": "execute_result"
    }
   ],
   "source": [
    "def outlier_iqr(df, whis=1.5,columna_evaluar='score', columna_resultado='outlier'):\n",
    "    primer_cuartil = df.score.quantile(.25)\n",
    "    tercer_cuartil = df.score.quantile(.75)\n",
    "    whisker = whis\n",
    "    iqr = tercer_cuartil - primer_cuartil\n",
    "    \n",
    "    print('iqr = ',round(iqr,3))\n",
    "\n",
    "    limite_inferior = primer_cuartil - (iqr * whisker)\n",
    "    limite_superior = tercer_cuartil + (iqr * whisker)\n",
    "    \n",
    "    limites = (round(limite_inferior,2), round(limite_superior,2))\n",
    "    print(limites)\n",
    "\n",
    "    df[columna_resultado] = False\n",
    "\n",
    "    df.loc[df[columna_evaluar] < limite_inferior, columna_resultado] = True\n",
    "    df.loc[df[columna_evaluar] > limite_superior, columna_resultado] = True\n",
    "\n",
    "    print(df[columna_resultado].value_counts())\n",
    "\n",
    "outlier_iqr(df_pitch,1.5)\n",
    "df_pitch[df_pitch['outlier']==True]"
   ]
  },
  {
   "cell_type": "code",
   "execution_count": 5,
   "metadata": {
    "ExecuteTime": {
     "end_time": "2021-02-26T23:03:37.978273Z",
     "start_time": "2021-02-26T23:03:37.482884Z"
    }
   },
   "outputs": [
    {
     "data": {
      "text/plain": [
       "<AxesSubplot:xlabel='score', ylabel='Count'>"
      ]
     },
     "execution_count": 5,
     "metadata": {},
     "output_type": "execute_result"
    },
    {
     "data": {
      "image/png": "[encoded data removed]",
      "text/plain": [
       "<Figure size 1152x288 with 1 Axes>"
      ]
     },
     "metadata": {
      "needs_background": "light"
     },
     "output_type": "display_data"
    }
   ],
   "source": [
    "sns.histplot(df_pitch, x='score', hue = 'outlier')"
   ]
  },
  {
   "cell_type": "markdown",
   "metadata": {},
   "source": [
    "## Outliers en distribuciones normales\n",
    "\n",
    "Si nuestra distribución es normal podemos eliminar outliers utilizando una detección de outliers comparando con la desviación típica.\n",
    "\n",
    "Para ello seguimos los pasos de cuadernos anteriores:\n",
    "1. Obtener media y desviación típica\n",
    "2. Eliminar aquellos valores que estén a más de *n* desviaciones típicas de la media\n",
    "\n",
    "Recordad:\n",
    "* 1 desviación típica = mantener el 68,2% de los datos originales\n",
    "* 2 desviaciones típicas = mantener el 95,4 * de los datos originales\n",
    "* 3 desviaciones típicas = mantener el 99,7% de los datos originales\n",
    "\n",
    "Aunque la puntuación de Pitchfork no sea una distribución realmente normal (está escorada a la derecha), puede servirnos para practicar la parte técnica de la eliminación de outliers."
   ]
  },
  {
   "cell_type": "code",
   "execution_count": 6,
   "metadata": {
    "ExecuteTime": {
     "end_time": "2022-01-20T19:13:54.152290Z",
     "start_time": "2022-01-20T19:13:53.871267Z"
    },
    "scrolled": true
   },
   "outputs": [
    {
     "data": {
      "text/plain": [
       "<AxesSubplot:xlabel='score', ylabel='Count'>"
      ]
     },
     "execution_count": 6,
     "metadata": {},
     "output_type": "execute_result"
    },
    {
     "data": {
      "image/png": "[encoded data removed]",
      "text/plain": [
       "<Figure size 1152x288 with 1 Axes>"
      ]
     },
     "metadata": {
      "needs_background": "light"
     },
     "output_type": "display_data"
    }
   ],
   "source": [
    "df_pitch = leer_pitchfork()\n",
    "sns.histplot(df_pitch.score)"
   ]
  },
  {
   "cell_type": "markdown",
   "metadata": {
    "ExecuteTime": {
     "end_time": "2022-01-20T19:15:17.614386Z",
     "start_time": "2022-01-20T19:15:17.607386Z"
    }
   },
   "source": [
    "## Ejercicio 7. Detección de outliers\n",
    "\n",
    "Utiliza 1, 2 y 3 desviaciones típicas para marcar como outliers las observaciones de puntuación de Pitchfork.\n",
    "\n"
   ]
  },
  {
   "cell_type": "markdown",
   "metadata": {},
   "source": [
    "Si aplicamos los métodos para 1, 2 o 3 desviaciones típicas podemos ver qué estamos eliminado:\n"
   ]
  },
  {
   "cell_type": "code",
   "execution_count": 7,
   "metadata": {},
   "outputs": [],
   "source": [
    "import matplotlib.pyplot as plt"
   ]
  },
  {
   "cell_type": "code",
   "execution_count": 8,
   "metadata": {
    "ExecuteTime": {
     "end_time": "2022-01-19T12:21:56.017814Z",
     "start_time": "2022-01-19T12:21:55.818852Z"
    }
   },
   "outputs": [
    {
     "name": "stdout",
     "output_type": "stream",
     "text": [
      "Num.Desviaciones:  1\n",
      "(5.711957049645481, 8.29947369699644)\n",
      "True    18389\n",
      "Name: outlier_normal, dtype: int64\n",
      "\n",
      "\n",
      "Num.Desviaciones:  2\n",
      "(4.41819872597, 9.59323202067192)\n",
      "True    18389\n",
      "Name: outlier_normal, dtype: int64\n",
      "\n",
      "\n",
      "Num.Desviaciones:  3\n",
      "(3.12444040229452, 10.886990344347401)\n",
      "True    18389\n",
      "Name: outlier_normal, dtype: int64\n",
      "\n",
      "\n"
     ]
    }
   ],
   "source": [
    "def outlier_normal(df,numero_desv=2,columna_evaluar='score', columna_resultado='outlier_normal'):\n",
    "    media = df.score.mean()\n",
    "    desv = df.score.std()\n",
    "\n",
    "    df[columna_resultado]=False\n",
    "    print('Num.Desviaciones: ',numero_desv)\n",
    "    k = numero_desv*desv\n",
    "    limite_superior = abs(media + k)\n",
    "    limite_inferior = abs(media-k)\n",
    "    print((limite_inferior,limite_superior))\n",
    "    df.loc[abs(df[columna_evaluar]-media) < k, columna_resultado] = True\n",
    "    df.loc[abs(df[columna_evaluar]+media) > k, columna_resultado] = True\n",
    "\n",
    "    print(df[columna_resultado].value_counts())\n",
    "    \n",
    "for i in range(1,4):\n",
    "    outlier_normal(df_pitch,i)\n",
    "    print('\\n')"
   ]
  },
  {
   "cell_type": "code",
   "execution_count": 9,
   "metadata": {},
   "outputs": [
    {
     "name": "stdout",
     "output_type": "stream",
     "text": [
      "Num.Desviaciones:  2\n",
      "(4.41819872597, 9.59323202067192)\n",
      "True    18389\n",
      "Name: outlier_normal, dtype: int64\n",
      "Num.Desviaciones:  1\n",
      "(5.711957049645481, 8.29947369699644)\n",
      "True    18389\n",
      "Name: outlier_normal_1, dtype: int64\n",
      "Num.Desviaciones:  2\n",
      "(4.41819872597, 9.59323202067192)\n",
      "True    18389\n",
      "Name: outlier_normal_2, dtype: int64\n",
      "Num.Desviaciones:  3\n",
      "(3.12444040229452, 10.886990344347401)\n",
      "True    18389\n",
      "Name: outlier_normal_3, dtype: int64\n"
     ]
    }
   ],
   "source": [
    "df_pitch['outlier_normal'] = outlier_normal(df_pitch,columna_evaluar='score',columna_resultado='outlier_normal')\n",
    "df_pitch['outlier_normal_1'] = outlier_normal(df_pitch,1,columna_evaluar='score',columna_resultado='outlier_normal_1')\n",
    "df_pitch['outlier_normal_2'] = outlier_normal(df_pitch,2,columna_evaluar='score',columna_resultado='outlier_normal_2')\n",
    "df_pitch['outlier_normal_3'] = outlier_normal(df_pitch,3,columna_evaluar='score',columna_resultado='outlier_normal_3')"
   ]
  },
  {
   "cell_type": "code",
   "execution_count": 10,
   "metadata": {
    "scrolled": true
   },
   "outputs": [
    {
     "data": {
      "text/html": [
       "<div>\n",
       "<style scoped>\n",
       "    .dataframe tbody tr th:only-of-type {\n",
       "        vertical-align: middle;\n",
       "    }\n",
       "\n",
       "    .dataframe tbody tr th {\n",
       "        vertical-align: top;\n",
       "    }\n",
       "\n",
       "    .dataframe thead th {\n",
       "        text-align: right;\n",
       "    }\n",
       "</style>\n",
       "<table border=\"1\" class=\"dataframe\">\n",
       "  <thead>\n",
       "    <tr style=\"text-align: right;\">\n",
       "      <th></th>\n",
       "      <th>reviewid</th>\n",
       "      <th>title</th>\n",
       "      <th>artist</th>\n",
       "      <th>url</th>\n",
       "      <th>score</th>\n",
       "      <th>best_new_music</th>\n",
       "      <th>author</th>\n",
       "      <th>author_type</th>\n",
       "      <th>pub_date</th>\n",
       "      <th>pub_weekday</th>\n",
       "      <th>pub_day</th>\n",
       "      <th>pub_month</th>\n",
       "      <th>pub_year</th>\n",
       "      <th>outlier_normal</th>\n",
       "      <th>outlier_normal_1</th>\n",
       "      <th>outlier_normal_2</th>\n",
       "      <th>outlier_normal_3</th>\n",
       "    </tr>\n",
       "  </thead>\n",
       "  <tbody>\n",
       "    <tr>\n",
       "      <th>0</th>\n",
       "      <td>22703</td>\n",
       "      <td>mezzanine</td>\n",
       "      <td>massive attack</td>\n",
       "      <td>http://pitchfork.com/reviews/albums/22703-mezz...</td>\n",
       "      <td>9.3</td>\n",
       "      <td>0</td>\n",
       "      <td>nate patrin</td>\n",
       "      <td>contributor</td>\n",
       "      <td>2017-01-08</td>\n",
       "      <td>6</td>\n",
       "      <td>8</td>\n",
       "      <td>1</td>\n",
       "      <td>2017</td>\n",
       "      <td>None</td>\n",
       "      <td>None</td>\n",
       "      <td>None</td>\n",
       "      <td>None</td>\n",
       "    </tr>\n",
       "    <tr>\n",
       "      <th>1</th>\n",
       "      <td>22721</td>\n",
       "      <td>prelapsarian</td>\n",
       "      <td>krallice</td>\n",
       "      <td>http://pitchfork.com/reviews/albums/22721-prel...</td>\n",
       "      <td>7.9</td>\n",
       "      <td>0</td>\n",
       "      <td>zoe camp</td>\n",
       "      <td>contributor</td>\n",
       "      <td>2017-01-07</td>\n",
       "      <td>5</td>\n",
       "      <td>7</td>\n",
       "      <td>1</td>\n",
       "      <td>2017</td>\n",
       "      <td>None</td>\n",
       "      <td>None</td>\n",
       "      <td>None</td>\n",
       "      <td>None</td>\n",
       "    </tr>\n",
       "    <tr>\n",
       "      <th>2</th>\n",
       "      <td>22659</td>\n",
       "      <td>all of them naturals</td>\n",
       "      <td>uranium club</td>\n",
       "      <td>http://pitchfork.com/reviews/albums/22659-all-...</td>\n",
       "      <td>7.3</td>\n",
       "      <td>0</td>\n",
       "      <td>david glickman</td>\n",
       "      <td>contributor</td>\n",
       "      <td>2017-01-07</td>\n",
       "      <td>5</td>\n",
       "      <td>7</td>\n",
       "      <td>1</td>\n",
       "      <td>2017</td>\n",
       "      <td>None</td>\n",
       "      <td>None</td>\n",
       "      <td>None</td>\n",
       "      <td>None</td>\n",
       "    </tr>\n",
       "    <tr>\n",
       "      <th>3</th>\n",
       "      <td>22661</td>\n",
       "      <td>first songs</td>\n",
       "      <td>kleenex, liliput</td>\n",
       "      <td>http://pitchfork.com/reviews/albums/22661-firs...</td>\n",
       "      <td>9.0</td>\n",
       "      <td>1</td>\n",
       "      <td>jenn pelly</td>\n",
       "      <td>associate reviews editor</td>\n",
       "      <td>2017-01-06</td>\n",
       "      <td>4</td>\n",
       "      <td>6</td>\n",
       "      <td>1</td>\n",
       "      <td>2017</td>\n",
       "      <td>None</td>\n",
       "      <td>None</td>\n",
       "      <td>None</td>\n",
       "      <td>None</td>\n",
       "    </tr>\n",
       "    <tr>\n",
       "      <th>4</th>\n",
       "      <td>22725</td>\n",
       "      <td>new start</td>\n",
       "      <td>taso</td>\n",
       "      <td>http://pitchfork.com/reviews/albums/22725-new-...</td>\n",
       "      <td>8.1</td>\n",
       "      <td>0</td>\n",
       "      <td>kevin lozano</td>\n",
       "      <td>tracks coordinator</td>\n",
       "      <td>2017-01-06</td>\n",
       "      <td>4</td>\n",
       "      <td>6</td>\n",
       "      <td>1</td>\n",
       "      <td>2017</td>\n",
       "      <td>None</td>\n",
       "      <td>None</td>\n",
       "      <td>None</td>\n",
       "      <td>None</td>\n",
       "    </tr>\n",
       "    <tr>\n",
       "      <th>...</th>\n",
       "      <td>...</td>\n",
       "      <td>...</td>\n",
       "      <td>...</td>\n",
       "      <td>...</td>\n",
       "      <td>...</td>\n",
       "      <td>...</td>\n",
       "      <td>...</td>\n",
       "      <td>...</td>\n",
       "      <td>...</td>\n",
       "      <td>...</td>\n",
       "      <td>...</td>\n",
       "      <td>...</td>\n",
       "      <td>...</td>\n",
       "      <td>...</td>\n",
       "      <td>...</td>\n",
       "      <td>...</td>\n",
       "      <td>...</td>\n",
       "    </tr>\n",
       "    <tr>\n",
       "      <th>18388</th>\n",
       "      <td>1535</td>\n",
       "      <td>let us replay!</td>\n",
       "      <td>coldcut</td>\n",
       "      <td>http://pitchfork.com/reviews/albums/1535-let-u...</td>\n",
       "      <td>8.9</td>\n",
       "      <td>0</td>\n",
       "      <td>james p. wisdom</td>\n",
       "      <td>NaN</td>\n",
       "      <td>1999-01-26</td>\n",
       "      <td>1</td>\n",
       "      <td>26</td>\n",
       "      <td>1</td>\n",
       "      <td>1999</td>\n",
       "      <td>None</td>\n",
       "      <td>None</td>\n",
       "      <td>None</td>\n",
       "      <td>None</td>\n",
       "    </tr>\n",
       "    <tr>\n",
       "      <th>18389</th>\n",
       "      <td>1341</td>\n",
       "      <td>1999</td>\n",
       "      <td>cassius</td>\n",
       "      <td>http://pitchfork.com/reviews/albums/1341-1999/</td>\n",
       "      <td>4.8</td>\n",
       "      <td>0</td>\n",
       "      <td>james p. wisdom</td>\n",
       "      <td>NaN</td>\n",
       "      <td>1999-01-26</td>\n",
       "      <td>1</td>\n",
       "      <td>26</td>\n",
       "      <td>1</td>\n",
       "      <td>1999</td>\n",
       "      <td>None</td>\n",
       "      <td>None</td>\n",
       "      <td>None</td>\n",
       "      <td>None</td>\n",
       "    </tr>\n",
       "    <tr>\n",
       "      <th>18390</th>\n",
       "      <td>5376</td>\n",
       "      <td>out of tune</td>\n",
       "      <td>mojave 3</td>\n",
       "      <td>http://pitchfork.com/reviews/albums/5376-out-o...</td>\n",
       "      <td>6.3</td>\n",
       "      <td>0</td>\n",
       "      <td>jason josephes</td>\n",
       "      <td>contributor</td>\n",
       "      <td>1999-01-12</td>\n",
       "      <td>1</td>\n",
       "      <td>12</td>\n",
       "      <td>1</td>\n",
       "      <td>1999</td>\n",
       "      <td>None</td>\n",
       "      <td>None</td>\n",
       "      <td>None</td>\n",
       "      <td>None</td>\n",
       "    </tr>\n",
       "    <tr>\n",
       "      <th>18391</th>\n",
       "      <td>2413</td>\n",
       "      <td>singles breaking up, vol. 1</td>\n",
       "      <td>don caballero</td>\n",
       "      <td>http://pitchfork.com/reviews/albums/2413-singl...</td>\n",
       "      <td>7.2</td>\n",
       "      <td>0</td>\n",
       "      <td>james p. wisdom</td>\n",
       "      <td>NaN</td>\n",
       "      <td>1999-01-12</td>\n",
       "      <td>1</td>\n",
       "      <td>12</td>\n",
       "      <td>1</td>\n",
       "      <td>1999</td>\n",
       "      <td>None</td>\n",
       "      <td>None</td>\n",
       "      <td>None</td>\n",
       "      <td>None</td>\n",
       "    </tr>\n",
       "    <tr>\n",
       "      <th>18392</th>\n",
       "      <td>3723</td>\n",
       "      <td>left for dead in malaysia</td>\n",
       "      <td>neil hamburger</td>\n",
       "      <td>http://pitchfork.com/reviews/albums/3723-left-...</td>\n",
       "      <td>6.5</td>\n",
       "      <td>0</td>\n",
       "      <td>jason josephes</td>\n",
       "      <td>contributor</td>\n",
       "      <td>1999-01-05</td>\n",
       "      <td>1</td>\n",
       "      <td>5</td>\n",
       "      <td>1</td>\n",
       "      <td>1999</td>\n",
       "      <td>None</td>\n",
       "      <td>None</td>\n",
       "      <td>None</td>\n",
       "      <td>None</td>\n",
       "    </tr>\n",
       "  </tbody>\n",
       "</table>\n",
       "<p>18389 rows × 17 columns</p>\n",
       "</div>"
      ],
      "text/plain": [
       "       reviewid                        title            artist  \\\n",
       "0         22703                    mezzanine    massive attack   \n",
       "1         22721                 prelapsarian          krallice   \n",
       "2         22659         all of them naturals      uranium club   \n",
       "3         22661                  first songs  kleenex, liliput   \n",
       "4         22725                    new start              taso   \n",
       "...         ...                          ...               ...   \n",
       "18388      1535               let us replay!           coldcut   \n",
       "18389      1341                         1999           cassius   \n",
       "18390      5376                  out of tune          mojave 3   \n",
       "18391      2413  singles breaking up, vol. 1     don caballero   \n",
       "18392      3723    left for dead in malaysia    neil hamburger   \n",
       "\n",
       "                                                     url  score  \\\n",
       "0      http://pitchfork.com/reviews/albums/22703-mezz...    9.3   \n",
       "1      http://pitchfork.com/reviews/albums/22721-prel...    7.9   \n",
       "2      http://pitchfork.com/reviews/albums/22659-all-...    7.3   \n",
       "3      http://pitchfork.com/reviews/albums/22661-firs...    9.0   \n",
       "4      http://pitchfork.com/reviews/albums/22725-new-...    8.1   \n",
       "...                                                  ...    ...   \n",
       "18388  http://pitchfork.com/reviews/albums/1535-let-u...    8.9   \n",
       "18389     http://pitchfork.com/reviews/albums/1341-1999/    4.8   \n",
       "18390  http://pitchfork.com/reviews/albums/5376-out-o...    6.3   \n",
       "18391  http://pitchfork.com/reviews/albums/2413-singl...    7.2   \n",
       "18392  http://pitchfork.com/reviews/albums/3723-left-...    6.5   \n",
       "\n",
       "       best_new_music           author               author_type    pub_date  \\\n",
       "0                   0      nate patrin               contributor  2017-01-08   \n",
       "1                   0         zoe camp               contributor  2017-01-07   \n",
       "2                   0   david glickman               contributor  2017-01-07   \n",
       "3                   1       jenn pelly  associate reviews editor  2017-01-06   \n",
       "4                   0     kevin lozano        tracks coordinator  2017-01-06   \n",
       "...               ...              ...                       ...         ...   \n",
       "18388               0  james p. wisdom                       NaN  1999-01-26   \n",
       "18389               0  james p. wisdom                       NaN  1999-01-26   \n",
       "18390               0   jason josephes               contributor  1999-01-12   \n",
       "18391               0  james p. wisdom                       NaN  1999-01-12   \n",
       "18392               0   jason josephes               contributor  1999-01-05   \n",
       "\n",
       "       pub_weekday  pub_day  pub_month  pub_year outlier_normal  \\\n",
       "0                6        8          1      2017           None   \n",
       "1                5        7          1      2017           None   \n",
       "2                5        7          1      2017           None   \n",
       "3                4        6          1      2017           None   \n",
       "4                4        6          1      2017           None   \n",
       "...            ...      ...        ...       ...            ...   \n",
       "18388            1       26          1      1999           None   \n",
       "18389            1       26          1      1999           None   \n",
       "18390            1       12          1      1999           None   \n",
       "18391            1       12          1      1999           None   \n",
       "18392            1        5          1      1999           None   \n",
       "\n",
       "      outlier_normal_1 outlier_normal_2 outlier_normal_3  \n",
       "0                 None             None             None  \n",
       "1                 None             None             None  \n",
       "2                 None             None             None  \n",
       "3                 None             None             None  \n",
       "4                 None             None             None  \n",
       "...                ...              ...              ...  \n",
       "18388             None             None             None  \n",
       "18389             None             None             None  \n",
       "18390             None             None             None  \n",
       "18391             None             None             None  \n",
       "18392             None             None             None  \n",
       "\n",
       "[18389 rows x 17 columns]"
      ]
     },
     "execution_count": 10,
     "metadata": {},
     "output_type": "execute_result"
    }
   ],
   "source": [
    "df_pitch"
   ]
  },
  {
   "cell_type": "code",
   "execution_count": 11,
   "metadata": {},
   "outputs": [
    {
     "name": "stdout",
     "output_type": "stream",
     "text": [
      "Num.Desviaciones:  2\n",
      "(4.41819872597, 9.59323202067192)\n",
      "True    18389\n",
      "Name: outlier_normal, dtype: int64\n"
     ]
    }
   ],
   "source": [
    "outlier_normal(df_pitch)"
   ]
  },
  {
   "cell_type": "code",
   "execution_count": 12,
   "metadata": {
    "ExecuteTime": {
     "end_time": "2022-01-19T12:22:16.271267Z",
     "start_time": "2022-01-19T12:22:16.122153Z"
    }
   },
   "outputs": [
    {
     "data": {
      "image/png": "[encoded data removed]",
      "text/plain": [
       "<Figure size 1152x288 with 1 Axes>"
      ]
     },
     "metadata": {
      "needs_background": "light"
     },
     "output_type": "display_data"
    }
   ],
   "source": [
    "sns.histplot(df_pitch, x='score', hue = 'outlier_normal')\n",
    "plt.axvline(df_pitch.score.mean() - 2*df_pitch.score.std(), 0,100,c='lightblue')\n",
    "plt.axvline(df_pitch.score.mean() + 2*df_pitch.score.std(), 0,100,c='lightblue')\n",
    "sns.despine()"
   ]
  },
  {
   "cell_type": "markdown",
   "metadata": {},
   "source": [
    "Visualmente es más fácil entender los bloques que estamos elimianando en cada caso si unimos todos los trozos que eliminamos en un único histograma.\n",
    "\n",
    "Tenemos:\n",
    "$$\\text{Negro: } |score - \\bar{x}| \\leq s$$\n",
    "\n",
    "$$\\text{Verde: } |score - \\bar{x}| > s \\text{ y, } |score - \\bar{x}| \\leq 2*s$$\n",
    "\n",
    "$$\\text{Azul: } |score - \\bar{x}| > 2*s \\text{ y, } |score - \\bar{x}| \\leq 3*s$$\n",
    "\n",
    "$$\\text{Rojo: } |score - \\bar{x}| > 3*s$$\n"
   ]
  },
  {
   "cell_type": "code",
   "execution_count": null,
   "metadata": {
    "ExecuteTime": {
     "end_time": "2022-01-19T12:22:40.778539Z",
     "start_time": "2022-01-19T12:22:40.491515Z"
    }
   },
   "outputs": [],
   "source": []
  },
  {
   "cell_type": "markdown",
   "metadata": {},
   "source": [
    "## Por qué eliminar outliers\n",
    "\n",
    "Una vez hemos visto cómo se eliminan los outliers podemos responder a la pregunta del propósito detrás de esta operación.\n",
    "\n",
    "Para ello vamos a utilizar una función de regresión muy sencilla que nos prediga el valor de una variable en función de otras.\n",
    "\n",
    "Puesto que el dataset de Pitchfork es muy sencillo, utilizaremos el del covid para predecir el número de muertes en función de diferentes factores:"
   ]
  },
  {
   "cell_type": "code",
   "execution_count": 13,
   "metadata": {
    "ExecuteTime": {
     "end_time": "2022-01-21T22:16:33.673292Z",
     "start_time": "2022-01-21T22:16:30.038212Z"
    }
   },
   "outputs": [],
   "source": [
    "import pandas as pd\n",
    "import seaborn as sns\n",
    "\n",
    "\n",
    "def leer_csv_covid():\n",
    "    columnas = ['stringency_index','population_density','median_age','aged_65_older',\n",
    "          'aged_70_older','gdp_per_capita','extreme_poverty','cardiovasc_death_rate',\n",
    "          'diabetes_prevalence','female_smokers','male_smokers', 'handwashing_facilities',\n",
    "          'hospital_beds_per_thousand','life_expectancy','human_development_index']\n",
    "    \n",
    "    # Leemos el fichero\n",
    "    df = pd.read_csv('./data/owid-covid-data.csv')\n",
    "    \n",
    "    # Interpolamos\n",
    "    df.loc[:,df.select_dtypes('number').columns.to_list()].interpolate(axis=1, inplace=True)\n",
    "    \n",
    "    # Última fila de cada país\n",
    "    df = df.groupby(by='iso_code').nth(-1).reset_index(level=0)\n",
    "    \n",
    "    # Borramos columnas con pocos datos\n",
    "    df.dropna(axis=1, thresh=50, inplace=True)\n",
    "    \n",
    "    # Borramos las columnas de fecha y país\n",
    "    df.drop(columns =['location', 'date'], inplace=True)\n",
    "    \n",
    "    # Eliminamos las filas que no tienen información de fallecidos\n",
    "    df = df.loc[pd.notna(df['total_deaths'])]\n",
    "\n",
    "    # Imputamos la media\n",
    "    medias = {c:df[c].mean() for c in columnas}\n",
    "    df.fillna(medias, inplace=True)\n",
    "    \n",
    "    col_x = [x for x in df.select_dtypes('number').columns if x not in ('total_deaths',\n",
    "                                                                             'total_deaths_smoothed_per_million',\n",
    "                                                                             'new_deaths',\n",
    "                                                                             'new_deaths_smoothed')]\n",
    "    return df[col_x].copy()\n",
    "\n",
    "\n",
    "\n",
    "# leemos el dataframe\n",
    "df_covid = leer_csv_covid()"
   ]
  },
  {
   "cell_type": "markdown",
   "metadata": {},
   "source": [
    "Creamos una función sencilla que calcule la regresión del número de muertes por millón de habitantes"
   ]
  },
  {
   "cell_type": "code",
   "execution_count": 14,
   "metadata": {
    "ExecuteTime": {
     "end_time": "2022-01-21T22:17:19.495130Z",
     "start_time": "2022-01-21T22:17:19.488133Z"
    }
   },
   "outputs": [],
   "source": [
    "def score_regresion(df_check):\n",
    "    # nos quedamos con todas las columnas numéricas excepto aquellas que tienen que ver con el número de muertos\n",
    "    \n",
    "    X = df_check[[x for x in df_check.columns if x != 'total_deaths_per_million']].copy() # nos quedamos con todas las columnas que no sean la variable y\n",
    "    y = df_check['total_deaths_per_million']\n",
    "\n",
    "    from sklearn.linear_model import LinearRegression\n",
    "    lr = LinearRegression()\n",
    "    lr.fit(X, y)\n",
    "    print(lr.score(X,y))\n"
   ]
  },
  {
   "cell_type": "code",
   "execution_count": 15,
   "metadata": {
    "ExecuteTime": {
     "end_time": "2022-01-21T22:17:19.885085Z",
     "start_time": "2022-01-21T22:17:19.862089Z"
    }
   },
   "outputs": [
    {
     "name": "stdout",
     "output_type": "stream",
     "text": [
      "0.8375336921595854\n"
     ]
    }
   ],
   "source": [
    "score_regresion(df_covid)"
   ]
  },
  {
   "cell_type": "markdown",
   "metadata": {},
   "source": [
    "Vemos que la puntuación inicial de este método es de un 83% (es muy alta), veamos qué pasa si eliminamos outliers en una columna cualquiera del dataset:"
   ]
  },
  {
   "cell_type": "code",
   "execution_count": 16,
   "metadata": {
    "ExecuteTime": {
     "end_time": "2022-01-21T22:17:21.855402Z",
     "start_time": "2022-01-21T22:17:21.837403Z"
    }
   },
   "outputs": [],
   "source": [
    "x = df_covid['cardiovasc_death_rate'].mean()\n",
    "s = df_covid['cardiovasc_death_rate'].std()\n",
    "\n",
    "test = df_covid[\n",
    "        (df_covid['cardiovasc_death_rate'] >= x-s )\n",
    "        &\n",
    "        (df_covid['cardiovasc_death_rate'] <= x+s )]"
   ]
  },
  {
   "cell_type": "code",
   "execution_count": 17,
   "metadata": {
    "ExecuteTime": {
     "end_time": "2022-01-21T22:17:22.278169Z",
     "start_time": "2022-01-21T22:17:22.261195Z"
    }
   },
   "outputs": [
    {
     "name": "stdout",
     "output_type": "stream",
     "text": [
      "0.8614531336152909\n"
     ]
    }
   ],
   "source": [
    "score_regresion(test)"
   ]
  },
  {
   "cell_type": "markdown",
   "metadata": {},
   "source": [
    "Vemos que, al eliminar los outliers en la muerte por enfermedad cardiovascular, la puntuación mejora. En este caso no se trata de conseguir que mejore la puntuación o entender por qué mejora, sino simplemente ver la variación que se produce en el método"
   ]
  },
  {
   "cell_type": "markdown",
   "metadata": {},
   "source": [
    "## Transformar una distribución en normal\n",
    "\n",
    "En este caso la distribución es bastante normal, sin embargo, si tomamos el número de elementos que hay en cada rango de datos no nos coincide con los que debería tener una distribución normal:\n"
   ]
  },
  {
   "cell_type": "code",
   "execution_count": 18,
   "metadata": {},
   "outputs": [],
   "source": [
    "x = df_pitch.score.mean()\n",
    "s = df_pitch.score.std()"
   ]
  },
  {
   "cell_type": "code",
   "execution_count": 19,
   "metadata": {
    "ExecuteTime": {
     "end_time": "2022-01-20T19:20:43.376330Z",
     "start_time": "2022-01-20T19:20:43.350308Z"
    }
   },
   "outputs": [
    {
     "name": "stdout",
     "output_type": "stream",
     "text": [
      "\n",
      "    Menos de una desviación típica (ref 68%): 74.85997063461852 %\n",
      "    Menos de dos desviaciones (ref 95,4%): 94.67616509870031 %\n",
      "    Menos de tres desviaciones (ref 99,7 %): 98.37402795149274 %\n",
      "\n"
     ]
    }
   ],
   "source": [
    "print(f\"\"\"\n",
    "    Menos de una desviación típica (ref 68%): {df_pitch.loc[abs(df_pitch.score - x) <= s].score.count() *100 / df_pitch.score.count()} %\n",
    "    Menos de dos desviaciones (ref 95,4%): {df_pitch.loc[(abs(df_pitch.score - x) <= 2*s)].score.count()*100 / df_pitch.score.count()} %\n",
    "    Menos de tres desviaciones (ref 99,7 %): {df_pitch.loc[(abs(df_pitch.score - x) <= 3*s)].score.count()*100 / df_pitch.score.count()} %\n",
    "\"\"\")"
   ]
  },
  {
   "cell_type": "markdown",
   "metadata": {},
   "source": [
    "Vemos que, comparado con los valores de una distribución perfectamente normal, estamos un poco alejados, especialmente en el rango de la primera desviación típica en el que tenemos un desfase de un 10% de observaciones sobre lo esperado.\n",
    "\n",
    "Tratar este problema a nivel técnico exige conocer muy a fondo las propiedades de la distribución que siguen nuestros datos y trazar una equivalencia hacia una distribución normal.\n",
    "\n",
    "La forma más habitual de realizarlo es con una transformación de potencia.\n",
    "\n",
    "Una transformación de potencia trabaja buscando un logaritmo que haga que la distribución que tenemos sea lo más parecida posible a una normal, podéis ver el efecto de la siguiente forma:"
   ]
  },
  {
   "cell_type": "code",
   "execution_count": 20,
   "metadata": {
    "ExecuteTime": {
     "end_time": "2022-01-20T19:23:04.907248Z",
     "start_time": "2022-01-20T19:23:04.477218Z"
    }
   },
   "outputs": [
    {
     "data": {
      "text/plain": [
       "<AxesSubplot:xlabel='score', ylabel='Count'>"
      ]
     },
     "execution_count": 20,
     "metadata": {},
     "output_type": "execute_result"
    },
    {
     "data": {
      "image/png": "[encoded data removed]",
      "text/plain": [
       "<Figure size 1152x288 with 1 Axes>"
      ]
     },
     "metadata": {
      "needs_background": "light"
     },
     "output_type": "display_data"
    }
   ],
   "source": [
    "import numpy as np\n",
    "\n",
    "# primero nos quedamos con las puntuaciones mayores que 0:\n",
    "sc = df_pitch.loc[df_pitch['score'] > 0, 'score']\n",
    "\n",
    "sns.histplot(np.log(sc))"
   ]
  },
  {
   "cell_type": "code",
   "execution_count": 21,
   "metadata": {
    "ExecuteTime": {
     "end_time": "2022-01-20T19:25:51.828248Z",
     "start_time": "2022-01-20T19:25:51.525762Z"
    }
   },
   "outputs": [
    {
     "data": {
      "text/plain": [
       "<AxesSubplot:xlabel='score', ylabel='Count'>"
      ]
     },
     "execution_count": 21,
     "metadata": {},
     "output_type": "execute_result"
    },
    {
     "data": {
      "image/png": "[encoded data removed]",
      "text/plain": [
       "<Figure size 1152x288 with 1 Axes>"
      ]
     },
     "metadata": {
      "needs_background": "light"
     },
     "output_type": "display_data"
    }
   ],
   "source": [
    "sns.histplot(sc**.4)"
   ]
  },
  {
   "cell_type": "markdown",
   "metadata": {},
   "source": [
    "\n",
    "En algunas ocasiones se comentó que el logaritmo de una distribución con cola larga es más o menos cercano a una distribución normal.\n",
    "\n",
    "Las \"Power Transform\" utilizan esta idea para encontrar un factor (lambda) que, al aplicarlo a nuestra distribución, maximice la similitud con la normal.\n",
    "\n",
    "La fórmula que aplican es:\n",
    "\n",
    "$$ \\frac{y_i^{\\lambda}-1}{\\lambda \\times{ MG(y)}^{\\lambda-1}}$$\n",
    "\n",
    "Donde MG es la media geométrica de y.\n",
    "\n",
    "Los transformadores prueban diferentes valores de lambda hasta que consiguen maximizar el parecido.\n",
    "\n",
    "En Python podemos utilizar transformadores con este fin en el paquete sklearn; existen dos transformadores principales:\n",
    "* Box-Cox: exige que todos los valores de la variable sean mayores que cero\n",
    "* Yeo-Johnson: no tiene restrición.\n",
    "\n",
    "A pesar de que cada transformación es diferente, lo más habitual es hablar de una transformación Box-Cox incluso aunque el método que utilicemos sea Yeo-Johnson.\n",
    "\n",
    "Al aplicar estos métodos estableceremos como cierto el valor \"standardize\" lo que hará que la distribución resultante tenga media 0 y desviación típica 1.\n",
    "\n",
    "Ambos métodos dan resultados muy parecidos:"
   ]
  },
  {
   "cell_type": "markdown",
   "metadata": {},
   "source": [
    "### Transformadores de sklearn\n",
    "\n",
    "Un predictor de sklearn es un objeto de la librería sci-kit learn que tiene un comportamiento determinado.\n",
    "\n",
    "La librería sklearn incluye muchísimos transformadores/predictores y todos tienen un funcionamiento similar:\n",
    "\n",
    "* Tienen un método fit que configura los parámetros del predictor\n",
    "* Tienen un método predict que aplica los parámetros del predictor sobre un conjunto de datos\n",
    "* Suelen tener un método fit_predict que aplica los dos pasos anteriores\n",
    "* Si es un transformador suele tener un método inverse_transformation que, si le damos un número, nos devuelve el número original antes de ser transformado\n"
   ]
  },
  {
   "cell_type": "code",
   "execution_count": 22,
   "metadata": {
    "ExecuteTime": {
     "end_time": "2022-01-21T22:27:56.777453Z",
     "start_time": "2022-01-21T22:27:56.588452Z"
    }
   },
   "outputs": [
    {
     "data": {
      "text/plain": [
       "<AxesSubplot:xlabel='score_transf', ylabel='Count'>"
      ]
     },
     "execution_count": 22,
     "metadata": {},
     "output_type": "execute_result"
    },
    {
     "data": {
      "image/png": "[encoded data removed]",
      "text/plain": [
       "<Figure size 1152x288 with 1 Axes>"
      ]
     },
     "metadata": {
      "needs_background": "light"
     },
     "output_type": "display_data"
    }
   ],
   "source": [
    "from sklearn.preprocessing import PowerTransformer\n",
    "p = PowerTransformer(method='yeo-johnson', standardize=True)\n",
    "\n",
    "transformada = p.fit_transform(df_pitch[['score']] )\n",
    "df_pitch['score_transf'] = transformada\n",
    "\n",
    "sns.histplot(df_pitch.score_transf, binwidth=0.15, bins=80)"
   ]
  },
  {
   "cell_type": "markdown",
   "metadata": {},
   "source": [
    "Podemos volver a los datos originales con el ```inverse_tranform```:"
   ]
  },
  {
   "cell_type": "code",
   "execution_count": 23,
   "metadata": {
    "ExecuteTime": {
     "end_time": "2022-01-21T22:32:07.855954Z",
     "start_time": "2022-01-21T22:32:07.587926Z"
    }
   },
   "outputs": [
    {
     "data": {
      "text/plain": [
       "<AxesSubplot:ylabel='Count'>"
      ]
     },
     "execution_count": 23,
     "metadata": {},
     "output_type": "execute_result"
    },
    {
     "data": {
      "image/png": "[encoded data removed]",
      "text/plain": [
       "<Figure size 1152x288 with 1 Axes>"
      ]
     },
     "metadata": {
      "needs_background": "light"
     },
     "output_type": "display_data"
    }
   ],
   "source": [
    "sns.histplot(data=p.inverse_transform(df_pitch[['score_transf']]))"
   ]
  },
  {
   "cell_type": "code",
   "execution_count": 24,
   "metadata": {
    "ExecuteTime": {
     "end_time": "2022-01-20T20:03:13.265481Z",
     "start_time": "2022-01-20T20:03:13.102481Z"
    }
   },
   "outputs": [
    {
     "data": {
      "text/plain": [
       "<AxesSubplot:xlabel='score_transf', ylabel='Count'>"
      ]
     },
     "execution_count": 24,
     "metadata": {},
     "output_type": "execute_result"
    },
    {
     "data": {
      "image/png": "[encoded data removed]",
      "text/plain": [
       "<Figure size 1152x288 with 1 Axes>"
      ]
     },
     "metadata": {
      "needs_background": "light"
     },
     "output_type": "display_data"
    }
   ],
   "source": [
    "x_t, s_t = df_pitch.score_transf.mean(), df_pitch.score_transf.std()\n",
    "\n",
    "sns.histplot(df_pitch.loc[abs(df_pitch.score_transf - x_t) > s_t].score_transf)"
   ]
  },
  {
   "cell_type": "code",
   "execution_count": 25,
   "metadata": {
    "ExecuteTime": {
     "end_time": "2021-02-26T23:03:35.226415Z",
     "start_time": "2021-02-26T23:03:35.054993Z"
    }
   },
   "outputs": [
    {
     "data": {
      "text/plain": [
       "<AxesSubplot:xlabel='score_transf', ylabel='Count'>"
      ]
     },
     "execution_count": 25,
     "metadata": {},
     "output_type": "execute_result"
    },
    {
     "data": {
      "image/png": "[encoded data removed]",
      "text/plain": [
       "<Figure size 1152x288 with 1 Axes>"
      ]
     },
     "metadata": {
      "needs_background": "light"
     },
     "output_type": "display_data"
    }
   ],
   "source": [
    "sns.histplot(df_pitch.loc[abs(df_pitch.score_transf - x_t) > 2*s_t].score_transf)"
   ]
  },
  {
   "cell_type": "code",
   "execution_count": 26,
   "metadata": {
    "ExecuteTime": {
     "end_time": "2021-02-26T23:03:35.414225Z",
     "start_time": "2021-02-26T23:03:35.229468Z"
    }
   },
   "outputs": [
    {
     "data": {
      "text/plain": [
       "<AxesSubplot:xlabel='score_transf', ylabel='Count'>"
      ]
     },
     "execution_count": 26,
     "metadata": {},
     "output_type": "execute_result"
    },
    {
     "data": {
      "image/png": "[encoded data removed]",
      "text/plain": [
       "<Figure size 1152x288 with 1 Axes>"
      ]
     },
     "metadata": {
      "needs_background": "light"
     },
     "output_type": "display_data"
    }
   ],
   "source": [
    "sns.histplot(df_pitch.loc[abs(df_pitch.score_transf - x_t) > 3*s_t].score_transf)"
   ]
  },
  {
   "cell_type": "code",
   "execution_count": 27,
   "metadata": {
    "ExecuteTime": {
     "end_time": "2021-02-26T23:03:35.789431Z",
     "start_time": "2021-02-26T23:03:35.416220Z"
    }
   },
   "outputs": [
    {
     "data": {
      "text/plain": [
       "<AxesSubplot:xlabel='score_transf', ylabel='Count'>"
      ]
     },
     "execution_count": 27,
     "metadata": {},
     "output_type": "execute_result"
    },
    {
     "data": {
      "image/png": "[encoded data removed]",
      "text/plain": [
       "<Figure size 1152x288 with 1 Axes>"
      ]
     },
     "metadata": {
      "needs_background": "light"
     },
     "output_type": "display_data"
    }
   ],
   "source": [
    "sns.histplot(df_pitch.loc[abs(df_pitch.score_transf - x_t) > 3*s_t].score_transf, color='red', binwidth=0.1)\n",
    "sns.histplot(df_pitch.loc[(abs(df_pitch.score_transf - x_t) <= 3*s_t) & ((abs(df_pitch.score_transf - x_t) > 2*s_t)) ].score_transf, color='blue', binwidth=0.1)\n",
    "sns.histplot(df_pitch.loc[(abs(df_pitch.score_transf - x_t) < 2*s_t) & ((abs(df_pitch.score_transf - x_t) > s_t))].score_transf, color='green', binwidth=0.1)\n",
    "sns.histplot(df_pitch.loc[(abs(df_pitch.score_transf - x_t) < s_t)].score_transf, color='black', binwidth=0.1)"
   ]
  },
  {
   "cell_type": "code",
   "execution_count": 28,
   "metadata": {
    "ExecuteTime": {
     "end_time": "2021-02-26T23:03:35.819784Z",
     "start_time": "2021-02-26T23:03:35.790768Z"
    }
   },
   "outputs": [
    {
     "name": "stdout",
     "output_type": "stream",
     "text": [
      "\n",
      "    Menos de una desviación típica (ref 68%): 69.65033443906684 %\n",
      "    Menos de dos desviaciones (ref 95,4%): 94.68704116591441 %\n",
      "    Menos de tres desviaciones (ref 99,7 %): 99.54320517700799 %\n",
      "\n"
     ]
    }
   ],
   "source": [
    "print(f\"\"\"\n",
    "    Menos de una desviación típica (ref 68%): {df_pitch.loc[abs(df_pitch.score_transf - x_t) <= s_t].score_transf.count() *100 / df_pitch.score_transf.count()} %\n",
    "    Menos de dos desviaciones (ref 95,4%): {df_pitch.loc[(abs(df_pitch.score_transf - x_t) <= 2*s_t)].score_transf.count()*100 / df_pitch.score_transf.count()} %\n",
    "    Menos de tres desviaciones (ref 99,7 %): {df_pitch.loc[(abs(df_pitch.score_transf - x_t) <= 3*s_t)].score_transf.count()*100 / df_pitch.score_transf.count()} %\n",
    "\"\"\")"
   ]
  },
  {
   "cell_type": "markdown",
   "metadata": {},
   "source": [
    "Podemos comparar la salida de box-cox con la de yeo-johnson"
   ]
  },
  {
   "cell_type": "code",
   "execution_count": 29,
   "metadata": {
    "ExecuteTime": {
     "end_time": "2022-01-21T22:35:21.739901Z",
     "start_time": "2022-01-21T22:35:21.531876Z"
    }
   },
   "outputs": [
    {
     "data": {
      "text/plain": [
       "<AxesSubplot:xlabel='score_transf', ylabel='Count'>"
      ]
     },
     "execution_count": 29,
     "metadata": {},
     "output_type": "execute_result"
    },
    {
     "data": {
      "image/png": "[encoded data removed]",
      "text/plain": [
       "<Figure size 1152x288 with 1 Axes>"
      ]
     },
     "metadata": {
      "needs_background": "light"
     },
     "output_type": "display_data"
    }
   ],
   "source": [
    "from sklearn.preprocessing import PowerTransformer\n",
    "p = PowerTransformer(method='yeo-johnson', standardize=True)\n",
    "p2 = PowerTransformer(method='box-cox', standardize=True)\n",
    "\n",
    "transformada = p.fit_transform(df_pitch[['score']])\n",
    "\n",
    "# Para realizar la transformación Box-Cox incrementamos en 0.01 los valores y así evitar los ceros.\n",
    "transformada_2 = p2.fit_transform(df_pitch[['score']] + .001)\n",
    "\n",
    "\n",
    "df_pitch['score_transf'] = transformada\n",
    "df_pitch['score_transf_2'] = transformada_2\n",
    "\n",
    "x_t2, s_t2 = df_pitch.score_transf_2.mean(), df_pitch.score_transf_2.std()\n",
    "\n",
    "\n",
    "sns.histplot(df_pitch.score_transf, binwidth=0.15, bins=100)"
   ]
  },
  {
   "cell_type": "code",
   "execution_count": 30,
   "metadata": {
    "ExecuteTime": {
     "end_time": "2022-01-21T22:35:22.580320Z",
     "start_time": "2022-01-21T22:35:22.395292Z"
    }
   },
   "outputs": [
    {
     "data": {
      "text/plain": [
       "<AxesSubplot:xlabel='score_transf_2', ylabel='Count'>"
      ]
     },
     "execution_count": 30,
     "metadata": {},
     "output_type": "execute_result"
    },
    {
     "data": {
      "image/png": "[encoded data removed]",
      "text/plain": [
       "<Figure size 1152x288 with 1 Axes>"
      ]
     },
     "metadata": {
      "needs_background": "light"
     },
     "output_type": "display_data"
    }
   ],
   "source": [
    "sns.histplot(df_pitch.score_transf_2, binwidth=0.15, bins=100)"
   ]
  },
  {
   "cell_type": "markdown",
   "metadata": {},
   "source": [
    "Estas transformaciones tienen un parámetro interno que se llama \"lambda\", a estos parámetros internos de los algoritmos se les llama habitualmente ```hyperparámetros``` y son los que configuramos cuando llamamos a la función \"fit\".\n",
    "\n",
    "Podemos ver que ambos métodos han utilizado hyperparámetros diferentes."
   ]
  },
  {
   "cell_type": "code",
   "execution_count": 31,
   "metadata": {
    "ExecuteTime": {
     "end_time": "2022-01-21T22:37:26.788877Z",
     "start_time": "2022-01-21T22:37:26.774874Z"
    }
   },
   "outputs": [
    {
     "data": {
      "text/plain": [
       "array([2.74145449])"
      ]
     },
     "execution_count": 31,
     "metadata": {},
     "output_type": "execute_result"
    }
   ],
   "source": [
    "p.lambdas_"
   ]
  },
  {
   "cell_type": "code",
   "execution_count": 32,
   "metadata": {
    "ExecuteTime": {
     "end_time": "2022-01-21T22:37:26.976645Z",
     "start_time": "2022-01-21T22:37:26.969618Z"
    }
   },
   "outputs": [
    {
     "data": {
      "text/plain": [
       "array([2.42090351])"
      ]
     },
     "execution_count": 32,
     "metadata": {},
     "output_type": "execute_result"
    }
   ],
   "source": [
    "p2.lambdas_"
   ]
  },
  {
   "cell_type": "code",
   "execution_count": 33,
   "metadata": {
    "ExecuteTime": {
     "end_time": "2022-01-20T20:31:29.995172Z",
     "start_time": "2022-01-20T20:31:29.700059Z"
    }
   },
   "outputs": [
    {
     "data": {
      "text/plain": [
       "<AxesSubplot:xlabel='score_transf_2', ylabel='Count'>"
      ]
     },
     "execution_count": 33,
     "metadata": {},
     "output_type": "execute_result"
    },
    {
     "data": {
      "image/png": "[encoded data removed]",
      "text/plain": [
       "<Figure size 1152x288 with 1 Axes>"
      ]
     },
     "metadata": {
      "needs_background": "light"
     },
     "output_type": "display_data"
    }
   ],
   "source": [
    "sns.histplot(df_pitch.loc[abs(df_pitch.score_transf_2 - x_t2) > 3*s_t2].score_transf_2, color='red', binwidth=0.1)\n",
    "sns.histplot(df_pitch.loc[(abs(df_pitch.score_transf_2 - x_t2) <= 3*s_t2) & ((abs(df_pitch.score_transf_2 - x_t2) > 2*s_t2)) ].score_transf_2, color='blue', binwidth=0.1)\n",
    "sns.histplot(df_pitch.loc[(abs(df_pitch.score_transf_2 - x_t2) < 2*s_t2) & ((abs(df_pitch.score_transf_2 - x_t2) > s_t2))].score_transf_2, color='green', binwidth=0.1)\n",
    "sns.histplot(df_pitch.loc[(abs(df_pitch.score_transf_2 - x_t2) < s_t2)].score_transf_2, color='black', binwidth=0.1)"
   ]
  },
  {
   "cell_type": "code",
   "execution_count": 34,
   "metadata": {
    "ExecuteTime": {
     "end_time": "2022-01-20T20:31:30.351751Z",
     "start_time": "2022-01-20T20:31:30.320755Z"
    }
   },
   "outputs": [
    {
     "name": "stdout",
     "output_type": "stream",
     "text": [
      "\n",
      "    Yeo-Johnson - Menos de una desviación típica (ref 68%): 69.65033443906684 %\n",
      "    Yeo-Johnson - Menos de dos desviaciones (ref 95,4%):    94.68704116591441 %\n",
      "    Yeo-Johnson - Menos de tres desviaciones (ref 99,7 %):  99.54320517700799 %\n",
      "    \n",
      "    Box-Cox - Menos de una desviación típica (ref 68%):     69.65033443906684 %\n",
      "    Box-Cox - Menos de dos desviaciones (ref 95,4%):        94.21393224210125 %\n",
      "    Box-Cox - Menos de tres desviaciones (ref 99,7 %):      99.54320517700799 %\n",
      "\n"
     ]
    }
   ],
   "source": [
    "x_t, s_t = df_pitch.score_transf.mean(), df_pitch.score_transf.std()\n",
    "\n",
    "\n",
    "print(f\"\"\"\n",
    "    Yeo-Johnson - Menos de una desviación típica (ref 68%): {df_pitch.loc[abs(df_pitch.score_transf - x_t) <= s_t].score_transf.count() *100 / df_pitch.score_transf.count()} %\n",
    "    Yeo-Johnson - Menos de dos desviaciones (ref 95,4%):    {df_pitch.loc[(abs(df_pitch.score_transf - x_t) <= 2*s_t)].score_transf.count()*100 / df_pitch.score_transf.count()} %\n",
    "    Yeo-Johnson - Menos de tres desviaciones (ref 99,7 %):  {df_pitch.loc[(abs(df_pitch.score_transf - x_t) <= 3*s_t)].score_transf.count()*100 / df_pitch.score_transf.count()} %\n",
    "    \n",
    "    Box-Cox - Menos de una desviación típica (ref 68%):     {df_pitch.loc[abs(df_pitch.score_transf_2 - x_t2) <= s_t2].score_transf_2.count() *100 / df_pitch.score_transf.count()} %\n",
    "    Box-Cox - Menos de dos desviaciones (ref 95,4%):        {df_pitch.loc[(abs(df_pitch.score_transf_2 - x_t2) <= 2*s_t2)].score_transf_2.count()*100 / df_pitch.score_transf.count()} %\n",
    "    Box-Cox - Menos de tres desviaciones (ref 99,7 %):      {df_pitch.loc[(abs(df_pitch.score_transf_2 - x_t2) <= 3*s_t2)].score_transf_2.count()*100 / df_pitch.score_transf.count()} %\n",
    "\"\"\")"
   ]
  },
  {
   "cell_type": "markdown",
   "metadata": {},
   "source": [
    "Vemos que ambos métodos tienen algo de margen sobre la distribución teórica.\n",
    "\n",
    "Lo más llamativo es que, en la distribución original, los valores extremos por la derecha (10) casi nunca se consideraba como outlier, sin embargo, tras la transformación eson esos valores sí se eliminarían.\n",
    "\n",
    "\n"
   ]
  },
  {
   "cell_type": "markdown",
   "metadata": {},
   "source": [
    "### Tratar los outliers\n",
    "Una vez detectados los valores anómalos tenemos que tratarlos, podemos:\n",
    "* Eliminar los registros con el valor anómalo (consideramos que estos registros no pueden aportar ninguna información)\n",
    "* Sustituir su valor por la media con outliers (consideramos que los outliers son coincidencia de varios factores que no se va a volver a repetir pero su efecto debería seguir teniéndose en cuenta, por ejemplo, vendemos todos los helados un día de calor a una sola persona; sabemos que en general la venta no será a una sola persona pero contamos con seguir vendiendo todos los helados)\n",
    "* Sustituir su valor por la media sin outliers (el outlier es un valor erróneo o un suceso que no se espera que vuelva a repetirse ni de forma aislada ni repartida)\n",
    "\n"
   ]
  },
  {
   "cell_type": "code",
   "execution_count": 35,
   "metadata": {},
   "outputs": [
    {
     "data": {
      "text/html": [
       "<div>\n",
       "<style scoped>\n",
       "    .dataframe tbody tr th:only-of-type {\n",
       "        vertical-align: middle;\n",
       "    }\n",
       "\n",
       "    .dataframe tbody tr th {\n",
       "        vertical-align: top;\n",
       "    }\n",
       "\n",
       "    .dataframe thead th {\n",
       "        text-align: right;\n",
       "    }\n",
       "</style>\n",
       "<table border=\"1\" class=\"dataframe\">\n",
       "  <thead>\n",
       "    <tr style=\"text-align: right;\">\n",
       "      <th></th>\n",
       "      <th>reviewid</th>\n",
       "      <th>title</th>\n",
       "      <th>artist</th>\n",
       "      <th>url</th>\n",
       "      <th>score</th>\n",
       "      <th>best_new_music</th>\n",
       "      <th>author</th>\n",
       "      <th>author_type</th>\n",
       "      <th>pub_date</th>\n",
       "      <th>pub_weekday</th>\n",
       "      <th>pub_day</th>\n",
       "      <th>pub_month</th>\n",
       "      <th>pub_year</th>\n",
       "      <th>outlier_normal</th>\n",
       "      <th>outlier_normal_1</th>\n",
       "      <th>outlier_normal_2</th>\n",
       "      <th>outlier_normal_3</th>\n",
       "      <th>score_transf</th>\n",
       "      <th>score_transf_2</th>\n",
       "    </tr>\n",
       "  </thead>\n",
       "  <tbody>\n",
       "    <tr>\n",
       "      <th>0</th>\n",
       "      <td>22703</td>\n",
       "      <td>mezzanine</td>\n",
       "      <td>massive attack</td>\n",
       "      <td>http://pitchfork.com/reviews/albums/22703-mezz...</td>\n",
       "      <td>9.3</td>\n",
       "      <td>0</td>\n",
       "      <td>nate patrin</td>\n",
       "      <td>contributor</td>\n",
       "      <td>2017-01-08</td>\n",
       "      <td>6</td>\n",
       "      <td>8</td>\n",
       "      <td>1</td>\n",
       "      <td>2017</td>\n",
       "      <td>True</td>\n",
       "      <td>None</td>\n",
       "      <td>None</td>\n",
       "      <td>None</td>\n",
       "      <td>2.379248</td>\n",
       "      <td>2.344294</td>\n",
       "    </tr>\n",
       "    <tr>\n",
       "      <th>1</th>\n",
       "      <td>22721</td>\n",
       "      <td>prelapsarian</td>\n",
       "      <td>krallice</td>\n",
       "      <td>http://pitchfork.com/reviews/albums/22721-prel...</td>\n",
       "      <td>7.9</td>\n",
       "      <td>0</td>\n",
       "      <td>zoe camp</td>\n",
       "      <td>contributor</td>\n",
       "      <td>2017-01-07</td>\n",
       "      <td>5</td>\n",
       "      <td>7</td>\n",
       "      <td>1</td>\n",
       "      <td>2017</td>\n",
       "      <td>True</td>\n",
       "      <td>None</td>\n",
       "      <td>None</td>\n",
       "      <td>None</td>\n",
       "      <td>0.705830</td>\n",
       "      <td>0.709367</td>\n",
       "    </tr>\n",
       "    <tr>\n",
       "      <th>2</th>\n",
       "      <td>22659</td>\n",
       "      <td>all of them naturals</td>\n",
       "      <td>uranium club</td>\n",
       "      <td>http://pitchfork.com/reviews/albums/22659-all-...</td>\n",
       "      <td>7.3</td>\n",
       "      <td>0</td>\n",
       "      <td>david glickman</td>\n",
       "      <td>contributor</td>\n",
       "      <td>2017-01-07</td>\n",
       "      <td>5</td>\n",
       "      <td>7</td>\n",
       "      <td>1</td>\n",
       "      <td>2017</td>\n",
       "      <td>True</td>\n",
       "      <td>None</td>\n",
       "      <td>None</td>\n",
       "      <td>None</td>\n",
       "      <td>0.114200</td>\n",
       "      <td>0.121836</td>\n",
       "    </tr>\n",
       "    <tr>\n",
       "      <th>3</th>\n",
       "      <td>22661</td>\n",
       "      <td>first songs</td>\n",
       "      <td>kleenex, liliput</td>\n",
       "      <td>http://pitchfork.com/reviews/albums/22661-firs...</td>\n",
       "      <td>9.0</td>\n",
       "      <td>1</td>\n",
       "      <td>jenn pelly</td>\n",
       "      <td>associate reviews editor</td>\n",
       "      <td>2017-01-06</td>\n",
       "      <td>4</td>\n",
       "      <td>6</td>\n",
       "      <td>1</td>\n",
       "      <td>2017</td>\n",
       "      <td>True</td>\n",
       "      <td>None</td>\n",
       "      <td>None</td>\n",
       "      <td>None</td>\n",
       "      <td>1.984558</td>\n",
       "      <td>1.961939</td>\n",
       "    </tr>\n",
       "    <tr>\n",
       "      <th>4</th>\n",
       "      <td>22725</td>\n",
       "      <td>new start</td>\n",
       "      <td>taso</td>\n",
       "      <td>http://pitchfork.com/reviews/albums/22725-new-...</td>\n",
       "      <td>8.1</td>\n",
       "      <td>0</td>\n",
       "      <td>kevin lozano</td>\n",
       "      <td>tracks coordinator</td>\n",
       "      <td>2017-01-06</td>\n",
       "      <td>4</td>\n",
       "      <td>6</td>\n",
       "      <td>1</td>\n",
       "      <td>2017</td>\n",
       "      <td>True</td>\n",
       "      <td>None</td>\n",
       "      <td>None</td>\n",
       "      <td>None</td>\n",
       "      <td>0.919238</td>\n",
       "      <td>0.919985</td>\n",
       "    </tr>\n",
       "  </tbody>\n",
       "</table>\n",
       "</div>"
      ],
      "text/plain": [
       "   reviewid                 title            artist  \\\n",
       "0     22703             mezzanine    massive attack   \n",
       "1     22721          prelapsarian          krallice   \n",
       "2     22659  all of them naturals      uranium club   \n",
       "3     22661           first songs  kleenex, liliput   \n",
       "4     22725             new start              taso   \n",
       "\n",
       "                                                 url  score  best_new_music  \\\n",
       "0  http://pitchfork.com/reviews/albums/22703-mezz...    9.3               0   \n",
       "1  http://pitchfork.com/reviews/albums/22721-prel...    7.9               0   \n",
       "2  http://pitchfork.com/reviews/albums/22659-all-...    7.3               0   \n",
       "3  http://pitchfork.com/reviews/albums/22661-firs...    9.0               1   \n",
       "4  http://pitchfork.com/reviews/albums/22725-new-...    8.1               0   \n",
       "\n",
       "           author               author_type    pub_date  pub_weekday  pub_day  \\\n",
       "0     nate patrin               contributor  2017-01-08            6        8   \n",
       "1        zoe camp               contributor  2017-01-07            5        7   \n",
       "2  david glickman               contributor  2017-01-07            5        7   \n",
       "3      jenn pelly  associate reviews editor  2017-01-06            4        6   \n",
       "4    kevin lozano        tracks coordinator  2017-01-06            4        6   \n",
       "\n",
       "   pub_month  pub_year  outlier_normal outlier_normal_1 outlier_normal_2  \\\n",
       "0          1      2017            True             None             None   \n",
       "1          1      2017            True             None             None   \n",
       "2          1      2017            True             None             None   \n",
       "3          1      2017            True             None             None   \n",
       "4          1      2017            True             None             None   \n",
       "\n",
       "  outlier_normal_3  score_transf  score_transf_2  \n",
       "0             None      2.379248        2.344294  \n",
       "1             None      0.705830        0.709367  \n",
       "2             None      0.114200        0.121836  \n",
       "3             None      1.984558        1.961939  \n",
       "4             None      0.919238        0.919985  "
      ]
     },
     "execution_count": 35,
     "metadata": {},
     "output_type": "execute_result"
    }
   ],
   "source": [
    "df_pitch.head()"
   ]
  },
  {
   "cell_type": "code",
   "execution_count": 36,
   "metadata": {
    "ExecuteTime": {
     "end_time": "2022-01-20T21:00:01.594432Z",
     "start_time": "2022-01-20T21:00:01.579433Z"
    }
   },
   "outputs": [],
   "source": [
    "# Marcamos los outliers como tales\n",
    "\n",
    "df_pitch['outlier'] = 0\n",
    "df_pitch.loc[(abs(df_pitch.score_transf - x_t) >= 2*s_t), 'outlier'] = 1\n",
    "\n",
    "df_pitch_copia = df_pitch.copy(deep=True)"
   ]
  },
  {
   "cell_type": "code",
   "execution_count": 37,
   "metadata": {},
   "outputs": [
    {
     "data": {
      "text/plain": [
       "0    17412\n",
       "1      977\n",
       "Name: outlier, dtype: int64"
      ]
     },
     "execution_count": 37,
     "metadata": {},
     "output_type": "execute_result"
    }
   ],
   "source": [
    "df_pitch_copia.outlier.value_counts()"
   ]
  },
  {
   "cell_type": "markdown",
   "metadata": {},
   "source": [
    "### Ejercicio 8. Tratamiento de los outliers\n",
    "\n",
    "Escribe código para realizar las siguientes operaciones con los outliers:"
   ]
  },
  {
   "cell_type": "markdown",
   "metadata": {},
   "source": [
    "#### Eliminarlos"
   ]
  },
  {
   "cell_type": "code",
   "execution_count": 38,
   "metadata": {
    "ExecuteTime": {
     "end_time": "2022-01-21T22:53:58.910142Z",
     "start_time": "2022-01-21T22:53:58.887167Z"
    }
   },
   "outputs": [
    {
     "data": {
      "text/plain": [
       "0    17412\n",
       "Name: outlier, dtype: int64"
      ]
     },
     "execution_count": 38,
     "metadata": {},
     "output_type": "execute_result"
    }
   ],
   "source": [
    "df_pitch = df_pitch_copia.copy(deep=True)\n",
    "df_pitch = df_pitch[df_pitch['outlier']!=1]\n",
    "df_pitch.outlier.value_counts()"
   ]
  },
  {
   "cell_type": "markdown",
   "metadata": {},
   "source": [
    "#### Imputar la media con outliers\n"
   ]
  },
  {
   "cell_type": "code",
   "execution_count": 39,
   "metadata": {
    "ExecuteTime": {
     "end_time": "2022-01-21T22:53:59.255640Z",
     "start_time": "2022-01-21T22:53:59.232645Z"
    }
   },
   "outputs": [
    {
     "data": {
      "text/html": [
       "<div>\n",
       "<style scoped>\n",
       "    .dataframe tbody tr th:only-of-type {\n",
       "        vertical-align: middle;\n",
       "    }\n",
       "\n",
       "    .dataframe tbody tr th {\n",
       "        vertical-align: top;\n",
       "    }\n",
       "\n",
       "    .dataframe thead th {\n",
       "        text-align: right;\n",
       "    }\n",
       "</style>\n",
       "<table border=\"1\" class=\"dataframe\">\n",
       "  <thead>\n",
       "    <tr style=\"text-align: right;\">\n",
       "      <th></th>\n",
       "      <th>reviewid</th>\n",
       "      <th>title</th>\n",
       "      <th>artist</th>\n",
       "      <th>url</th>\n",
       "      <th>score</th>\n",
       "      <th>best_new_music</th>\n",
       "      <th>author</th>\n",
       "      <th>author_type</th>\n",
       "      <th>pub_date</th>\n",
       "      <th>pub_weekday</th>\n",
       "      <th>pub_day</th>\n",
       "      <th>pub_month</th>\n",
       "      <th>pub_year</th>\n",
       "      <th>outlier_normal</th>\n",
       "      <th>outlier_normal_1</th>\n",
       "      <th>outlier_normal_2</th>\n",
       "      <th>outlier_normal_3</th>\n",
       "      <th>score_transf</th>\n",
       "      <th>score_transf_2</th>\n",
       "      <th>outlier</th>\n",
       "    </tr>\n",
       "  </thead>\n",
       "  <tbody>\n",
       "    <tr>\n",
       "      <th>0</th>\n",
       "      <td>22703</td>\n",
       "      <td>mezzanine</td>\n",
       "      <td>massive attack</td>\n",
       "      <td>http://pitchfork.com/reviews/albums/22703-mezz...</td>\n",
       "      <td>7.005715</td>\n",
       "      <td>0</td>\n",
       "      <td>nate patrin</td>\n",
       "      <td>contributor</td>\n",
       "      <td>2017-01-08</td>\n",
       "      <td>6</td>\n",
       "      <td>8</td>\n",
       "      <td>1</td>\n",
       "      <td>2017</td>\n",
       "      <td>True</td>\n",
       "      <td>None</td>\n",
       "      <td>None</td>\n",
       "      <td>None</td>\n",
       "      <td>2.379248</td>\n",
       "      <td>2.344294</td>\n",
       "      <td>1</td>\n",
       "    </tr>\n",
       "    <tr>\n",
       "      <th>1</th>\n",
       "      <td>22721</td>\n",
       "      <td>prelapsarian</td>\n",
       "      <td>krallice</td>\n",
       "      <td>http://pitchfork.com/reviews/albums/22721-prel...</td>\n",
       "      <td>7.900000</td>\n",
       "      <td>0</td>\n",
       "      <td>zoe camp</td>\n",
       "      <td>contributor</td>\n",
       "      <td>2017-01-07</td>\n",
       "      <td>5</td>\n",
       "      <td>7</td>\n",
       "      <td>1</td>\n",
       "      <td>2017</td>\n",
       "      <td>True</td>\n",
       "      <td>None</td>\n",
       "      <td>None</td>\n",
       "      <td>None</td>\n",
       "      <td>0.705830</td>\n",
       "      <td>0.709367</td>\n",
       "      <td>0</td>\n",
       "    </tr>\n",
       "    <tr>\n",
       "      <th>2</th>\n",
       "      <td>22659</td>\n",
       "      <td>all of them naturals</td>\n",
       "      <td>uranium club</td>\n",
       "      <td>http://pitchfork.com/reviews/albums/22659-all-...</td>\n",
       "      <td>7.300000</td>\n",
       "      <td>0</td>\n",
       "      <td>david glickman</td>\n",
       "      <td>contributor</td>\n",
       "      <td>2017-01-07</td>\n",
       "      <td>5</td>\n",
       "      <td>7</td>\n",
       "      <td>1</td>\n",
       "      <td>2017</td>\n",
       "      <td>True</td>\n",
       "      <td>None</td>\n",
       "      <td>None</td>\n",
       "      <td>None</td>\n",
       "      <td>0.114200</td>\n",
       "      <td>0.121836</td>\n",
       "      <td>0</td>\n",
       "    </tr>\n",
       "    <tr>\n",
       "      <th>3</th>\n",
       "      <td>22661</td>\n",
       "      <td>first songs</td>\n",
       "      <td>kleenex, liliput</td>\n",
       "      <td>http://pitchfork.com/reviews/albums/22661-firs...</td>\n",
       "      <td>9.000000</td>\n",
       "      <td>1</td>\n",
       "      <td>jenn pelly</td>\n",
       "      <td>associate reviews editor</td>\n",
       "      <td>2017-01-06</td>\n",
       "      <td>4</td>\n",
       "      <td>6</td>\n",
       "      <td>1</td>\n",
       "      <td>2017</td>\n",
       "      <td>True</td>\n",
       "      <td>None</td>\n",
       "      <td>None</td>\n",
       "      <td>None</td>\n",
       "      <td>1.984558</td>\n",
       "      <td>1.961939</td>\n",
       "      <td>0</td>\n",
       "    </tr>\n",
       "    <tr>\n",
       "      <th>4</th>\n",
       "      <td>22725</td>\n",
       "      <td>new start</td>\n",
       "      <td>taso</td>\n",
       "      <td>http://pitchfork.com/reviews/albums/22725-new-...</td>\n",
       "      <td>8.100000</td>\n",
       "      <td>0</td>\n",
       "      <td>kevin lozano</td>\n",
       "      <td>tracks coordinator</td>\n",
       "      <td>2017-01-06</td>\n",
       "      <td>4</td>\n",
       "      <td>6</td>\n",
       "      <td>1</td>\n",
       "      <td>2017</td>\n",
       "      <td>True</td>\n",
       "      <td>None</td>\n",
       "      <td>None</td>\n",
       "      <td>None</td>\n",
       "      <td>0.919238</td>\n",
       "      <td>0.919985</td>\n",
       "      <td>0</td>\n",
       "    </tr>\n",
       "  </tbody>\n",
       "</table>\n",
       "</div>"
      ],
      "text/plain": [
       "   reviewid                 title            artist  \\\n",
       "0     22703             mezzanine    massive attack   \n",
       "1     22721          prelapsarian          krallice   \n",
       "2     22659  all of them naturals      uranium club   \n",
       "3     22661           first songs  kleenex, liliput   \n",
       "4     22725             new start              taso   \n",
       "\n",
       "                                                 url     score  \\\n",
       "0  http://pitchfork.com/reviews/albums/22703-mezz...  7.005715   \n",
       "1  http://pitchfork.com/reviews/albums/22721-prel...  7.900000   \n",
       "2  http://pitchfork.com/reviews/albums/22659-all-...  7.300000   \n",
       "3  http://pitchfork.com/reviews/albums/22661-firs...  9.000000   \n",
       "4  http://pitchfork.com/reviews/albums/22725-new-...  8.100000   \n",
       "\n",
       "   best_new_music          author               author_type    pub_date  \\\n",
       "0               0     nate patrin               contributor  2017-01-08   \n",
       "1               0        zoe camp               contributor  2017-01-07   \n",
       "2               0  david glickman               contributor  2017-01-07   \n",
       "3               1      jenn pelly  associate reviews editor  2017-01-06   \n",
       "4               0    kevin lozano        tracks coordinator  2017-01-06   \n",
       "\n",
       "   pub_weekday  pub_day  pub_month  pub_year  outlier_normal outlier_normal_1  \\\n",
       "0            6        8          1      2017            True             None   \n",
       "1            5        7          1      2017            True             None   \n",
       "2            5        7          1      2017            True             None   \n",
       "3            4        6          1      2017            True             None   \n",
       "4            4        6          1      2017            True             None   \n",
       "\n",
       "  outlier_normal_2 outlier_normal_3  score_transf  score_transf_2  outlier  \n",
       "0             None             None      2.379248        2.344294        1  \n",
       "1             None             None      0.705830        0.709367        0  \n",
       "2             None             None      0.114200        0.121836        0  \n",
       "3             None             None      1.984558        1.961939        0  \n",
       "4             None             None      0.919238        0.919985        0  "
      ]
     },
     "execution_count": 39,
     "metadata": {},
     "output_type": "execute_result"
    },
    {
     "data": {
      "image/png": "[encoded data removed]",
      "text/plain": [
       "<Figure size 1152x288 with 1 Axes>"
      ]
     },
     "metadata": {
      "needs_background": "light"
     },
     "output_type": "display_data"
    }
   ],
   "source": [
    "df_pitch = df_pitch_copia.copy(deep=True)\n",
    "media_out = df_pitch['score'].mean()\n",
    "df_pitch['score'] = np.where(df_pitch['outlier']==1,media_out,df_pitch['score'])\n",
    "\n",
    "sns.histplot(df_pitch.score)\n",
    "df_pitch.head()"
   ]
  },
  {
   "cell_type": "markdown",
   "metadata": {},
   "source": [
    "#### Imputar la media sin outliers"
   ]
  },
  {
   "cell_type": "code",
   "execution_count": 40,
   "metadata": {
    "ExecuteTime": {
     "end_time": "2022-01-21T22:53:59.583080Z",
     "start_time": "2022-01-21T22:53:59.554080Z"
    }
   },
   "outputs": [
    {
     "data": {
      "text/html": [
       "<div>\n",
       "<style scoped>\n",
       "    .dataframe tbody tr th:only-of-type {\n",
       "        vertical-align: middle;\n",
       "    }\n",
       "\n",
       "    .dataframe tbody tr th {\n",
       "        vertical-align: top;\n",
       "    }\n",
       "\n",
       "    .dataframe thead th {\n",
       "        text-align: right;\n",
       "    }\n",
       "</style>\n",
       "<table border=\"1\" class=\"dataframe\">\n",
       "  <thead>\n",
       "    <tr style=\"text-align: right;\">\n",
       "      <th></th>\n",
       "      <th>reviewid</th>\n",
       "      <th>title</th>\n",
       "      <th>artist</th>\n",
       "      <th>url</th>\n",
       "      <th>score</th>\n",
       "      <th>best_new_music</th>\n",
       "      <th>author</th>\n",
       "      <th>author_type</th>\n",
       "      <th>pub_date</th>\n",
       "      <th>pub_weekday</th>\n",
       "      <th>pub_day</th>\n",
       "      <th>pub_month</th>\n",
       "      <th>pub_year</th>\n",
       "      <th>outlier_normal</th>\n",
       "      <th>outlier_normal_1</th>\n",
       "      <th>outlier_normal_2</th>\n",
       "      <th>outlier_normal_3</th>\n",
       "      <th>score_transf</th>\n",
       "      <th>score_transf_2</th>\n",
       "      <th>outlier</th>\n",
       "    </tr>\n",
       "  </thead>\n",
       "  <tbody>\n",
       "    <tr>\n",
       "      <th>0</th>\n",
       "      <td>22703</td>\n",
       "      <td>mezzanine</td>\n",
       "      <td>massive attack</td>\n",
       "      <td>http://pitchfork.com/reviews/albums/22703-mezz...</td>\n",
       "      <td>7.088893</td>\n",
       "      <td>0</td>\n",
       "      <td>nate patrin</td>\n",
       "      <td>contributor</td>\n",
       "      <td>2017-01-08</td>\n",
       "      <td>6</td>\n",
       "      <td>8</td>\n",
       "      <td>1</td>\n",
       "      <td>2017</td>\n",
       "      <td>True</td>\n",
       "      <td>None</td>\n",
       "      <td>None</td>\n",
       "      <td>None</td>\n",
       "      <td>2.379248</td>\n",
       "      <td>2.344294</td>\n",
       "      <td>1</td>\n",
       "    </tr>\n",
       "    <tr>\n",
       "      <th>1</th>\n",
       "      <td>22721</td>\n",
       "      <td>prelapsarian</td>\n",
       "      <td>krallice</td>\n",
       "      <td>http://pitchfork.com/reviews/albums/22721-prel...</td>\n",
       "      <td>7.900000</td>\n",
       "      <td>0</td>\n",
       "      <td>zoe camp</td>\n",
       "      <td>contributor</td>\n",
       "      <td>2017-01-07</td>\n",
       "      <td>5</td>\n",
       "      <td>7</td>\n",
       "      <td>1</td>\n",
       "      <td>2017</td>\n",
       "      <td>True</td>\n",
       "      <td>None</td>\n",
       "      <td>None</td>\n",
       "      <td>None</td>\n",
       "      <td>0.705830</td>\n",
       "      <td>0.709367</td>\n",
       "      <td>0</td>\n",
       "    </tr>\n",
       "    <tr>\n",
       "      <th>2</th>\n",
       "      <td>22659</td>\n",
       "      <td>all of them naturals</td>\n",
       "      <td>uranium club</td>\n",
       "      <td>http://pitchfork.com/reviews/albums/22659-all-...</td>\n",
       "      <td>7.300000</td>\n",
       "      <td>0</td>\n",
       "      <td>david glickman</td>\n",
       "      <td>contributor</td>\n",
       "      <td>2017-01-07</td>\n",
       "      <td>5</td>\n",
       "      <td>7</td>\n",
       "      <td>1</td>\n",
       "      <td>2017</td>\n",
       "      <td>True</td>\n",
       "      <td>None</td>\n",
       "      <td>None</td>\n",
       "      <td>None</td>\n",
       "      <td>0.114200</td>\n",
       "      <td>0.121836</td>\n",
       "      <td>0</td>\n",
       "    </tr>\n",
       "    <tr>\n",
       "      <th>3</th>\n",
       "      <td>22661</td>\n",
       "      <td>first songs</td>\n",
       "      <td>kleenex, liliput</td>\n",
       "      <td>http://pitchfork.com/reviews/albums/22661-firs...</td>\n",
       "      <td>9.000000</td>\n",
       "      <td>1</td>\n",
       "      <td>jenn pelly</td>\n",
       "      <td>associate reviews editor</td>\n",
       "      <td>2017-01-06</td>\n",
       "      <td>4</td>\n",
       "      <td>6</td>\n",
       "      <td>1</td>\n",
       "      <td>2017</td>\n",
       "      <td>True</td>\n",
       "      <td>None</td>\n",
       "      <td>None</td>\n",
       "      <td>None</td>\n",
       "      <td>1.984558</td>\n",
       "      <td>1.961939</td>\n",
       "      <td>0</td>\n",
       "    </tr>\n",
       "    <tr>\n",
       "      <th>4</th>\n",
       "      <td>22725</td>\n",
       "      <td>new start</td>\n",
       "      <td>taso</td>\n",
       "      <td>http://pitchfork.com/reviews/albums/22725-new-...</td>\n",
       "      <td>8.100000</td>\n",
       "      <td>0</td>\n",
       "      <td>kevin lozano</td>\n",
       "      <td>tracks coordinator</td>\n",
       "      <td>2017-01-06</td>\n",
       "      <td>4</td>\n",
       "      <td>6</td>\n",
       "      <td>1</td>\n",
       "      <td>2017</td>\n",
       "      <td>True</td>\n",
       "      <td>None</td>\n",
       "      <td>None</td>\n",
       "      <td>None</td>\n",
       "      <td>0.919238</td>\n",
       "      <td>0.919985</td>\n",
       "      <td>0</td>\n",
       "    </tr>\n",
       "  </tbody>\n",
       "</table>\n",
       "</div>"
      ],
      "text/plain": [
       "   reviewid                 title            artist  \\\n",
       "0     22703             mezzanine    massive attack   \n",
       "1     22721          prelapsarian          krallice   \n",
       "2     22659  all of them naturals      uranium club   \n",
       "3     22661           first songs  kleenex, liliput   \n",
       "4     22725             new start              taso   \n",
       "\n",
       "                                                 url     score  \\\n",
       "0  http://pitchfork.com/reviews/albums/22703-mezz...  7.088893   \n",
       "1  http://pitchfork.com/reviews/albums/22721-prel...  7.900000   \n",
       "2  http://pitchfork.com/reviews/albums/22659-all-...  7.300000   \n",
       "3  http://pitchfork.com/reviews/albums/22661-firs...  9.000000   \n",
       "4  http://pitchfork.com/reviews/albums/22725-new-...  8.100000   \n",
       "\n",
       "   best_new_music          author               author_type    pub_date  \\\n",
       "0               0     nate patrin               contributor  2017-01-08   \n",
       "1               0        zoe camp               contributor  2017-01-07   \n",
       "2               0  david glickman               contributor  2017-01-07   \n",
       "3               1      jenn pelly  associate reviews editor  2017-01-06   \n",
       "4               0    kevin lozano        tracks coordinator  2017-01-06   \n",
       "\n",
       "   pub_weekday  pub_day  pub_month  pub_year  outlier_normal outlier_normal_1  \\\n",
       "0            6        8          1      2017            True             None   \n",
       "1            5        7          1      2017            True             None   \n",
       "2            5        7          1      2017            True             None   \n",
       "3            4        6          1      2017            True             None   \n",
       "4            4        6          1      2017            True             None   \n",
       "\n",
       "  outlier_normal_2 outlier_normal_3  score_transf  score_transf_2  outlier  \n",
       "0             None             None      2.379248        2.344294        1  \n",
       "1             None             None      0.705830        0.709367        0  \n",
       "2             None             None      0.114200        0.121836        0  \n",
       "3             None             None      1.984558        1.961939        0  \n",
       "4             None             None      0.919238        0.919985        0  "
      ]
     },
     "execution_count": 40,
     "metadata": {},
     "output_type": "execute_result"
    },
    {
     "data": {
      "image/png": "[encoded data removed]",
      "text/plain": [
       "<Figure size 1152x288 with 1 Axes>"
      ]
     },
     "metadata": {
      "needs_background": "light"
     },
     "output_type": "display_data"
    }
   ],
   "source": [
    "df_pitch = df_pitch_copia.copy(deep=True)\n",
    "media_out_ = df_pitch[df_pitch['outlier']==0].score.mean()\n",
    "df_pitch['score'] = np.where(df_pitch['outlier']==1,media_out_,df_pitch['score'])\n",
    "\n",
    "sns.histplot(df_pitch.score)\n",
    "df_pitch.head()"
   ]
  },
  {
   "cell_type": "markdown",
   "metadata": {},
   "source": [
    "## Ejercicio 9\n",
    "Detecta los outliers en las muestras de las listas de precios utilizadas con la ley de Benford"
   ]
  },
  {
   "cell_type": "code",
   "execution_count": 41,
   "metadata": {},
   "outputs": [
    {
     "name": "stdout",
     "output_type": "stream",
     "text": [
      "Muestra Nº  1\n",
      "\n",
      "    Menos de una desviación típica (ref 68%): 99.28662420382166 %\n",
      "    Menos de dos desviaciones (ref 95,4%): 99.7452229299363 %\n",
      "    Menos de tres desviaciones (ref 99,7 %): 99.84713375796179 %\n",
      "    \n",
      "Sin Normalizar: NO ES DISTRIBUCION NORMAL\n",
      "\n",
      "    Menos de una desviación típica (ref 68%): 65.8343949044586 %\n",
      "    Menos de dos desviaciones (ref 95,4%): 96.5859872611465 %\n",
      "    Menos de tres desviaciones (ref 99,7 %): 99.89808917197452 %\n",
      "    \n",
      "Normalizada: DISTRIBUCION NORMAL\n",
      "False    3791\n",
      "True      134\n",
      "Name: outlier, dtype: int64\n",
      "\n",
      "\n",
      "Muestra Nº  2\n",
      "\n",
      "    Menos de una desviación típica (ref 68%): 87.97 %\n",
      "    Menos de dos desviaciones (ref 95,4%): 92.83 %\n",
      "    Menos de tres desviaciones (ref 99,7 %): 98.62 %\n",
      "    \n",
      "Sin Normalizar: NO ES DISTRIBUCION NORMAL\n"
     ]
    },
    {
     "name": "stderr",
     "output_type": "stream",
     "text": [
      "C:\\Users\\aleex\\AppData\\Local\\Temp/ipykernel_6812/3010841480.py:20: SettingWithCopyWarning: \n",
      "A value is trying to be set on a copy of a slice from a DataFrame.\n",
      "Try using .loc[row_indexer,col_indexer] = value instead\n",
      "\n",
      "See the caveats in the documentation: https://pandas.pydata.org/pandas-docs/stable/user_guide/indexing.html#returning-a-view-versus-a-copy\n",
      "  df['PRECIO_t'] = transformada\n",
      "C:\\Users\\aleex\\AppData\\Local\\Temp/ipykernel_6812/3010841480.py:33: SettingWithCopyWarning: \n",
      "A value is trying to be set on a copy of a slice from a DataFrame.\n",
      "Try using .loc[row_indexer,col_indexer] = value instead\n",
      "\n",
      "See the caveats in the documentation: https://pandas.pydata.org/pandas-docs/stable/user_guide/indexing.html#returning-a-view-versus-a-copy\n",
      "  df['outlier'] = np.where(((df['PRECIO_t']<m_t-2*std_t) | (df['PRECIO_t']>m_t+2*std_t)),True,False)\n",
      "C:\\Users\\aleex\\AppData\\Local\\Temp/ipykernel_6812/3010841480.py:20: SettingWithCopyWarning: \n",
      "A value is trying to be set on a copy of a slice from a DataFrame.\n",
      "Try using .loc[row_indexer,col_indexer] = value instead\n",
      "\n",
      "See the caveats in the documentation: https://pandas.pydata.org/pandas-docs/stable/user_guide/indexing.html#returning-a-view-versus-a-copy\n",
      "  df['PRECIO_t'] = transformada\n"
     ]
    },
    {
     "name": "stdout",
     "output_type": "stream",
     "text": [
      "\n",
      "    Menos de una desviación típica (ref 68%): 68.29 %\n",
      "    Menos de dos desviaciones (ref 95,4%): 97.27 %\n",
      "    Menos de tres desviaciones (ref 99,7 %): 100.0 %\n",
      "    \n",
      "Normalizada: DISTRIBUCION NORMAL\n",
      "False    9727\n",
      "True      273\n",
      "Name: outlier, dtype: int64\n",
      "\n",
      "\n",
      "Muestra Nº  3\n",
      "\n",
      "    Menos de una desviación típica (ref 68%): 91.5347137637028 %\n",
      "    Menos de dos desviaciones (ref 95,4%): 96.72655298416565 %\n",
      "    Menos de tres desviaciones (ref 99,7 %): 98.32521315468941 %\n",
      "    \n",
      "Sin Normalizar: NO ES DISTRIBUCION NORMAL\n",
      "\n",
      "    Menos de una desviación típica (ref 68%): 69.07734470158343 %\n",
      "    Menos de dos desviaciones (ref 95,4%): 95.26492082825823 %\n",
      "    Menos de tres desviaciones (ref 99,7 %): 99.61936662606577 %\n",
      "    \n",
      "Normalizada: DISTRIBUCION NORMAL\n",
      "False    6257\n",
      "True      311\n",
      "Name: outlier, dtype: int64\n",
      "\n",
      "\n",
      "Muestra Nº  4\n"
     ]
    },
    {
     "name": "stderr",
     "output_type": "stream",
     "text": [
      "C:\\Users\\aleex\\AppData\\Local\\Temp/ipykernel_6812/3010841480.py:33: SettingWithCopyWarning: \n",
      "A value is trying to be set on a copy of a slice from a DataFrame.\n",
      "Try using .loc[row_indexer,col_indexer] = value instead\n",
      "\n",
      "See the caveats in the documentation: https://pandas.pydata.org/pandas-docs/stable/user_guide/indexing.html#returning-a-view-versus-a-copy\n",
      "  df['outlier'] = np.where(((df['PRECIO_t']<m_t-2*std_t) | (df['PRECIO_t']>m_t+2*std_t)),True,False)\n",
      "C:\\Users\\aleex\\AppData\\Local\\Temp/ipykernel_6812/3010841480.py:20: SettingWithCopyWarning: \n",
      "A value is trying to be set on a copy of a slice from a DataFrame.\n",
      "Try using .loc[row_indexer,col_indexer] = value instead\n",
      "\n",
      "See the caveats in the documentation: https://pandas.pydata.org/pandas-docs/stable/user_guide/indexing.html#returning-a-view-versus-a-copy\n",
      "  df['PRECIO_t'] = transformada\n",
      "C:\\Users\\aleex\\AppData\\Local\\Temp/ipykernel_6812/3010841480.py:33: SettingWithCopyWarning: \n",
      "A value is trying to be set on a copy of a slice from a DataFrame.\n",
      "Try using .loc[row_indexer,col_indexer] = value instead\n",
      "\n",
      "See the caveats in the documentation: https://pandas.pydata.org/pandas-docs/stable/user_guide/indexing.html#returning-a-view-versus-a-copy\n",
      "  df['outlier'] = np.where(((df['PRECIO_t']<m_t-2*std_t) | (df['PRECIO_t']>m_t+2*std_t)),True,False)\n"
     ]
    },
    {
     "name": "stdout",
     "output_type": "stream",
     "text": [
      "\n",
      "    Menos de una desviación típica (ref 68%): 99.1542904290429 %\n",
      "    Menos de dos desviaciones (ref 95,4%): 99.54620462046205 %\n",
      "    Menos de tres desviaciones (ref 99,7 %): 99.58745874587459 %\n",
      "    \n",
      "Sin Normalizar: NO ES DISTRIBUCION NORMAL\n",
      "\n",
      "    Menos de una desviación típica (ref 68%): 69.53382838283828 %\n",
      "    Menos de dos desviaciones (ref 95,4%): 97.12252475247524 %\n",
      "    Menos de tres desviaciones (ref 99,7 %): 99.56683168316832 %\n",
      "    \n",
      "Normalizada: DISTRIBUCION NORMAL\n",
      "False    9417\n",
      "True      279\n",
      "Name: outlier, dtype: int64\n",
      "\n",
      "\n",
      "Muestra Nº  5\n",
      "\n",
      "    Menos de una desviación típica (ref 68%): 89.1566265060241 %\n",
      "    Menos de dos desviaciones (ref 95,4%): 96.29286376274328 %\n",
      "    Menos de tres desviaciones (ref 99,7 %): 98.4244670991659 %\n",
      "    \n",
      "Sin Normalizar: NO ES DISTRIBUCION NORMAL\n",
      "\n",
      "    Menos de una desviación típica (ref 68%): 66.07970342910102 %\n",
      "    Menos de dos desviaciones (ref 95,4%): 96.20018535681186 %\n",
      "    Menos de tres desviaciones (ref 99,7 %): 99.81464318813717 %\n",
      "    \n",
      "Normalizada: DISTRIBUCION NORMAL\n",
      "False    1038\n",
      "True       41\n",
      "Name: outlier, dtype: int64\n",
      "\n",
      "\n"
     ]
    },
    {
     "name": "stderr",
     "output_type": "stream",
     "text": [
      "C:\\Users\\aleex\\AppData\\Local\\Temp/ipykernel_6812/3010841480.py:20: SettingWithCopyWarning: \n",
      "A value is trying to be set on a copy of a slice from a DataFrame.\n",
      "Try using .loc[row_indexer,col_indexer] = value instead\n",
      "\n",
      "See the caveats in the documentation: https://pandas.pydata.org/pandas-docs/stable/user_guide/indexing.html#returning-a-view-versus-a-copy\n",
      "  df['PRECIO_t'] = transformada\n",
      "C:\\Users\\aleex\\AppData\\Local\\Temp/ipykernel_6812/3010841480.py:33: SettingWithCopyWarning: \n",
      "A value is trying to be set on a copy of a slice from a DataFrame.\n",
      "Try using .loc[row_indexer,col_indexer] = value instead\n",
      "\n",
      "See the caveats in the documentation: https://pandas.pydata.org/pandas-docs/stable/user_guide/indexing.html#returning-a-view-versus-a-copy\n",
      "  df['outlier'] = np.where(((df['PRECIO_t']<m_t-2*std_t) | (df['PRECIO_t']>m_t+2*std_t)),True,False)\n",
      "C:\\Users\\aleex\\AppData\\Local\\Temp/ipykernel_6812/3010841480.py:20: SettingWithCopyWarning: \n",
      "A value is trying to be set on a copy of a slice from a DataFrame.\n",
      "Try using .loc[row_indexer,col_indexer] = value instead\n",
      "\n",
      "See the caveats in the documentation: https://pandas.pydata.org/pandas-docs/stable/user_guide/indexing.html#returning-a-view-versus-a-copy\n",
      "  df['PRECIO_t'] = transformada\n",
      "C:\\Users\\aleex\\AppData\\Local\\Temp/ipykernel_6812/3010841480.py:33: SettingWithCopyWarning: \n",
      "A value is trying to be set on a copy of a slice from a DataFrame.\n",
      "Try using .loc[row_indexer,col_indexer] = value instead\n",
      "\n",
      "See the caveats in the documentation: https://pandas.pydata.org/pandas-docs/stable/user_guide/indexing.html#returning-a-view-versus-a-copy\n",
      "  df['outlier'] = np.where(((df['PRECIO_t']<m_t-2*std_t) | (df['PRECIO_t']>m_t+2*std_t)),True,False)\n"
     ]
    }
   ],
   "source": [
    "from sklearn.preprocessing import PowerTransformer\n",
    "df_precios = pd.read_excel('./data/precios_venta.xlsx')\n",
    "df_precios.head()\n",
    "\n",
    "def outlier_deteccion(df,muestra):\n",
    "    p = PowerTransformer(method='yeo-johnson', standardize=True)\n",
    "    df = df[df['MUESTRA'].str.contains(str(muestra))]\n",
    "    media,std = df['PRECIO'].mean(),df['PRECIO'].std()\n",
    "    print(f\"\"\"\n",
    "    Menos de una desviación típica (ref 68%): {df.loc[abs(df.PRECIO - media) <= std].PRECIO.count() *100 / df.PRECIO.count()} %\n",
    "    Menos de dos desviaciones (ref 95,4%): {df.loc[(abs(df.PRECIO - media) <= 2*std)].PRECIO.count()*100 / df.PRECIO.count()} %\n",
    "    Menos de tres desviaciones (ref 99,7 %): {df.loc[(abs(df.PRECIO - media) <= 3*std)].PRECIO.count()*100 / df.PRECIO.count()} %\n",
    "    \"\"\")\n",
    "    \n",
    "    if ((df.loc[abs(df.PRECIO - media) <= std].PRECIO.count() *100 / df.PRECIO.count())-68)<=abs(2) and ((df.loc[abs(df.PRECIO - media) <= 2*std].PRECIO.count() *100 / df.PRECIO.count())-95.4)<=abs(2) and ((df.loc[abs(df.PRECIO - media) <= 3*std].PRECIO.count() *100 / df.PRECIO.count())-99.7)<=abs(2):\n",
    "        print('Sin Normalizar: DISTRIBUCION NORMAL')\n",
    "    else:\n",
    "        print('Sin Normalizar: NO ES DISTRIBUCION NORMAL')\n",
    "    transformada = p.fit_transform(df[['PRECIO']])\n",
    "    df['PRECIO_t'] = transformada\n",
    "    m_t,std_t = df['PRECIO_t'].mean(),df['PRECIO_t'].std()\n",
    "\n",
    "    print(f\"\"\"\n",
    "    Menos de una desviación típica (ref 68%): {df.loc[abs(df.PRECIO_t - m_t) <= std_t].PRECIO_t.count() *100 / df.PRECIO_t.count()} %\n",
    "    Menos de dos desviaciones (ref 95,4%): {df.loc[(abs(df.PRECIO_t - m_t) <= 2*std_t)].PRECIO_t.count()*100 / df.PRECIO_t.count()} %\n",
    "    Menos de tres desviaciones (ref 99,7 %): {df.loc[(abs(df.PRECIO_t - m_t) <= 3*std_t)].PRECIO_t.count()*100 / df.PRECIO_t.count()} %\n",
    "    \"\"\")\n",
    "    \n",
    "    if ((df.loc[abs(df.PRECIO_t - m_t) <= std_t].PRECIO_t.count() *100 / df.PRECIO_t.count())-68)<=abs(2) and ((df.loc[abs(df.PRECIO_t - m_t) <= 2*std_t].PRECIO_t.count() *100 / df.PRECIO_t.count())-95.4)<=abs(2) and ((df.loc[abs(df.PRECIO_t - m_t) <= 3*std_t].PRECIO_t.count() *100 / df.PRECIO_t.count())-99.7)<=abs(2):\n",
    "        print('Normalizada: DISTRIBUCION NORMAL')\n",
    "    else:\n",
    "        print('Normalizada: NO ES DISTRIBUCION NORMAL')\n",
    "    df['outlier'] = np.where(((df['PRECIO_t']<m_t-2*std_t) | (df['PRECIO_t']>m_t+2*std_t)),True,False)\n",
    "    #print((m_t-2*std_t,m_t+2*std_t))\n",
    "    print(df.outlier.value_counts())\n",
    "    return df\n",
    "    \n",
    "for i in range(1,1+len(list(df_precios.MUESTRA.unique()))):\n",
    "    print('Muestra Nº ',i)\n",
    "    outlier_deteccion(df_precios,i)\n",
    "    print('\\n')"
   ]
  },
  {
   "cell_type": "markdown",
   "metadata": {},
   "source": [
    "## Outliers en varias dimensiones\n",
    "\n",
    "Hasta ahora hemos visto cómo tratar los outliers en una dimensión, sin embargo, al trabajar con datasets multidimensionales, puede haber alguna observación que, sin ser outlier en ningún atributo en particular sí lo sea en su conjunto de atributos.\n",
    "\n",
    "Podemos pensar en una persona que tenga un salario por debajo de la media pero no tan bajo como para ser llamativo, que vive en un piso muy grande, pero no tanto como para ser excesivo, que realiza mucho deporte semanalmente pero...\n",
    "\n",
    "Esa persona, en cada uno de los atributos que medimos no tiene por qué ser outlier pero, seguramente, está tan cerca de serlo en cada uno de ellos que, si lo tomamos en conjunto, será un caso realmente excepcional.\n",
    "\n",
    "Las técnicas que buscan outliers en varias dimensiones tratan de encontrar esos casos.\n",
    "\n",
    "Para este ejercicio vamos a utilizar el Dataset que ya se utilizó en una clase anterior: \"HousingDataset\" con información de viviendas en California.\n",
    "\n",
    "La técnica que utilizaremos se llama Isolation Forest y lo que hace es intentar ver de qué forma puede aislar una observación del resto lo más rápidamente posible.\n",
    "\n",
    "Cuánto más fácil sea una observación de separar de las demás, más probable es que sea un outlier.\n"
   ]
  },
  {
   "cell_type": "code",
   "execution_count": 42,
   "metadata": {
    "ExecuteTime": {
     "end_time": "2022-01-21T22:38:25.308255Z",
     "start_time": "2022-01-21T22:38:25.266278Z"
    }
   },
   "outputs": [],
   "source": [
    "import pandas as pd\n",
    "from sklearn.ensemble import IsolationForest\n",
    "\n",
    "df = pd.read_csv('./data/HousingDataset.csv')\n",
    "\n",
    "# Tenemos que eliminar las columnas de texto\n",
    "df = df.drop(columns=['ocean_proximity', 'longitude', 'latitude'])\n",
    "df = df.fillna(0)"
   ]
  },
  {
   "cell_type": "code",
   "execution_count": 43,
   "metadata": {
    "ExecuteTime": {
     "end_time": "2022-01-21T22:38:25.711239Z",
     "start_time": "2022-01-21T22:38:25.691259Z"
    }
   },
   "outputs": [
    {
     "data": {
      "text/html": [
       "<div>\n",
       "<style scoped>\n",
       "    .dataframe tbody tr th:only-of-type {\n",
       "        vertical-align: middle;\n",
       "    }\n",
       "\n",
       "    .dataframe tbody tr th {\n",
       "        vertical-align: top;\n",
       "    }\n",
       "\n",
       "    .dataframe thead th {\n",
       "        text-align: right;\n",
       "    }\n",
       "</style>\n",
       "<table border=\"1\" class=\"dataframe\">\n",
       "  <thead>\n",
       "    <tr style=\"text-align: right;\">\n",
       "      <th></th>\n",
       "      <th>housing_median_age</th>\n",
       "      <th>total_rooms</th>\n",
       "      <th>total_bedrooms</th>\n",
       "      <th>population</th>\n",
       "      <th>households</th>\n",
       "      <th>median_income</th>\n",
       "      <th>median_house_value</th>\n",
       "    </tr>\n",
       "  </thead>\n",
       "  <tbody>\n",
       "    <tr>\n",
       "      <th>0</th>\n",
       "      <td>41.0</td>\n",
       "      <td>880.0</td>\n",
       "      <td>129.0</td>\n",
       "      <td>322.0</td>\n",
       "      <td>126.0</td>\n",
       "      <td>8.3252</td>\n",
       "      <td>452600.0</td>\n",
       "    </tr>\n",
       "    <tr>\n",
       "      <th>1</th>\n",
       "      <td>21.0</td>\n",
       "      <td>7099.0</td>\n",
       "      <td>1106.0</td>\n",
       "      <td>2401.0</td>\n",
       "      <td>1138.0</td>\n",
       "      <td>8.3014</td>\n",
       "      <td>358500.0</td>\n",
       "    </tr>\n",
       "    <tr>\n",
       "      <th>2</th>\n",
       "      <td>52.0</td>\n",
       "      <td>1467.0</td>\n",
       "      <td>190.0</td>\n",
       "      <td>496.0</td>\n",
       "      <td>177.0</td>\n",
       "      <td>7.2574</td>\n",
       "      <td>352100.0</td>\n",
       "    </tr>\n",
       "    <tr>\n",
       "      <th>3</th>\n",
       "      <td>52.0</td>\n",
       "      <td>1274.0</td>\n",
       "      <td>235.0</td>\n",
       "      <td>558.0</td>\n",
       "      <td>219.0</td>\n",
       "      <td>5.6431</td>\n",
       "      <td>341300.0</td>\n",
       "    </tr>\n",
       "    <tr>\n",
       "      <th>4</th>\n",
       "      <td>52.0</td>\n",
       "      <td>1627.0</td>\n",
       "      <td>280.0</td>\n",
       "      <td>565.0</td>\n",
       "      <td>259.0</td>\n",
       "      <td>3.8462</td>\n",
       "      <td>342200.0</td>\n",
       "    </tr>\n",
       "    <tr>\n",
       "      <th>...</th>\n",
       "      <td>...</td>\n",
       "      <td>...</td>\n",
       "      <td>...</td>\n",
       "      <td>...</td>\n",
       "      <td>...</td>\n",
       "      <td>...</td>\n",
       "      <td>...</td>\n",
       "    </tr>\n",
       "    <tr>\n",
       "      <th>20635</th>\n",
       "      <td>25.0</td>\n",
       "      <td>1665.0</td>\n",
       "      <td>374.0</td>\n",
       "      <td>845.0</td>\n",
       "      <td>330.0</td>\n",
       "      <td>1.5603</td>\n",
       "      <td>78100.0</td>\n",
       "    </tr>\n",
       "    <tr>\n",
       "      <th>20636</th>\n",
       "      <td>18.0</td>\n",
       "      <td>697.0</td>\n",
       "      <td>150.0</td>\n",
       "      <td>356.0</td>\n",
       "      <td>114.0</td>\n",
       "      <td>2.5568</td>\n",
       "      <td>77100.0</td>\n",
       "    </tr>\n",
       "    <tr>\n",
       "      <th>20637</th>\n",
       "      <td>17.0</td>\n",
       "      <td>2254.0</td>\n",
       "      <td>485.0</td>\n",
       "      <td>1007.0</td>\n",
       "      <td>433.0</td>\n",
       "      <td>1.7000</td>\n",
       "      <td>92300.0</td>\n",
       "    </tr>\n",
       "    <tr>\n",
       "      <th>20638</th>\n",
       "      <td>18.0</td>\n",
       "      <td>1860.0</td>\n",
       "      <td>409.0</td>\n",
       "      <td>741.0</td>\n",
       "      <td>349.0</td>\n",
       "      <td>1.8672</td>\n",
       "      <td>84700.0</td>\n",
       "    </tr>\n",
       "    <tr>\n",
       "      <th>20639</th>\n",
       "      <td>16.0</td>\n",
       "      <td>2785.0</td>\n",
       "      <td>616.0</td>\n",
       "      <td>1387.0</td>\n",
       "      <td>530.0</td>\n",
       "      <td>2.3886</td>\n",
       "      <td>89400.0</td>\n",
       "    </tr>\n",
       "  </tbody>\n",
       "</table>\n",
       "<p>20640 rows × 7 columns</p>\n",
       "</div>"
      ],
      "text/plain": [
       "       housing_median_age  total_rooms  total_bedrooms  population  \\\n",
       "0                    41.0        880.0           129.0       322.0   \n",
       "1                    21.0       7099.0          1106.0      2401.0   \n",
       "2                    52.0       1467.0           190.0       496.0   \n",
       "3                    52.0       1274.0           235.0       558.0   \n",
       "4                    52.0       1627.0           280.0       565.0   \n",
       "...                   ...          ...             ...         ...   \n",
       "20635                25.0       1665.0           374.0       845.0   \n",
       "20636                18.0        697.0           150.0       356.0   \n",
       "20637                17.0       2254.0           485.0      1007.0   \n",
       "20638                18.0       1860.0           409.0       741.0   \n",
       "20639                16.0       2785.0           616.0      1387.0   \n",
       "\n",
       "       households  median_income  median_house_value  \n",
       "0           126.0         8.3252            452600.0  \n",
       "1          1138.0         8.3014            358500.0  \n",
       "2           177.0         7.2574            352100.0  \n",
       "3           219.0         5.6431            341300.0  \n",
       "4           259.0         3.8462            342200.0  \n",
       "...           ...            ...                 ...  \n",
       "20635       330.0         1.5603             78100.0  \n",
       "20636       114.0         2.5568             77100.0  \n",
       "20637       433.0         1.7000             92300.0  \n",
       "20638       349.0         1.8672             84700.0  \n",
       "20639       530.0         2.3886             89400.0  \n",
       "\n",
       "[20640 rows x 7 columns]"
      ]
     },
     "execution_count": 43,
     "metadata": {},
     "output_type": "execute_result"
    }
   ],
   "source": [
    "df"
   ]
  },
  {
   "cell_type": "markdown",
   "metadata": {},
   "source": [
    "Obtenemos un valor de referencia para la regresión con los datos actuales"
   ]
  },
  {
   "cell_type": "code",
   "execution_count": 44,
   "metadata": {
    "ExecuteTime": {
     "end_time": "2022-01-21T22:38:43.199831Z",
     "start_time": "2022-01-21T22:38:43.177832Z"
    }
   },
   "outputs": [
    {
     "data": {
      "text/plain": [
       "0.5647714028827973"
      ]
     },
     "execution_count": 44,
     "metadata": {},
     "output_type": "execute_result"
    }
   ],
   "source": [
    "from sklearn.linear_model import LinearRegression\n",
    "lr = LinearRegression()\n",
    "\n",
    "y = df['median_house_value']\n",
    "X = df.drop(columns=['median_house_value'])\n",
    "\n",
    "lr.fit(X, y)\n",
    "lr.score(X,y)\n"
   ]
  },
  {
   "cell_type": "code",
   "execution_count": 45,
   "metadata": {
    "ExecuteTime": {
     "end_time": "2022-01-21T22:40:12.175265Z",
     "start_time": "2022-01-21T22:40:11.554268Z"
    }
   },
   "outputs": [
    {
     "data": {
      "text/plain": [
       " 1    17686\n",
       "-1     2954\n",
       "dtype: int64"
      ]
     },
     "execution_count": 45,
     "metadata": {},
     "output_type": "execute_result"
    }
   ],
   "source": [
    "# El método fit_predict de IsolationForest devuelve 1 para los inliers y -1 para los outliers\n",
    "filtro = IsolationForest().fit_predict(df)\n",
    "\n",
    "pd.Series(filtro).value_counts()"
   ]
  },
  {
   "cell_type": "markdown",
   "metadata": {
    "ExecuteTime": {
     "end_time": "2022-01-21T22:39:35.807152Z",
     "start_time": "2022-01-21T22:39:35.794153Z"
    }
   },
   "source": [
    "Lo convertimos a un filtro de verdadero/falso"
   ]
  },
  {
   "cell_type": "code",
   "execution_count": 46,
   "metadata": {
    "ExecuteTime": {
     "end_time": "2022-01-21T22:40:39.746277Z",
     "start_time": "2022-01-21T22:40:39.735301Z"
    }
   },
   "outputs": [
    {
     "data": {
      "text/plain": [
       "True     17686\n",
       "False     2954\n",
       "dtype: int64"
      ]
     },
     "execution_count": 46,
     "metadata": {},
     "output_type": "execute_result"
    }
   ],
   "source": [
    "filtro = filtro == 1\n",
    "\n",
    "pd.Series(filtro).value_counts()"
   ]
  },
  {
   "cell_type": "markdown",
   "metadata": {},
   "source": [
    "Filtramos el dataframe"
   ]
  },
  {
   "cell_type": "code",
   "execution_count": 47,
   "metadata": {},
   "outputs": [
    {
     "data": {
      "text/html": [
       "<div>\n",
       "<style scoped>\n",
       "    .dataframe tbody tr th:only-of-type {\n",
       "        vertical-align: middle;\n",
       "    }\n",
       "\n",
       "    .dataframe tbody tr th {\n",
       "        vertical-align: top;\n",
       "    }\n",
       "\n",
       "    .dataframe thead th {\n",
       "        text-align: right;\n",
       "    }\n",
       "</style>\n",
       "<table border=\"1\" class=\"dataframe\">\n",
       "  <thead>\n",
       "    <tr style=\"text-align: right;\">\n",
       "      <th></th>\n",
       "      <th>housing_median_age</th>\n",
       "      <th>total_rooms</th>\n",
       "      <th>total_bedrooms</th>\n",
       "      <th>population</th>\n",
       "      <th>households</th>\n",
       "      <th>median_income</th>\n",
       "      <th>median_house_value</th>\n",
       "    </tr>\n",
       "  </thead>\n",
       "  <tbody>\n",
       "    <tr>\n",
       "      <th>3</th>\n",
       "      <td>52.0</td>\n",
       "      <td>1274.0</td>\n",
       "      <td>235.0</td>\n",
       "      <td>558.0</td>\n",
       "      <td>219.0</td>\n",
       "      <td>5.6431</td>\n",
       "      <td>341300.0</td>\n",
       "    </tr>\n",
       "    <tr>\n",
       "      <th>4</th>\n",
       "      <td>52.0</td>\n",
       "      <td>1627.0</td>\n",
       "      <td>280.0</td>\n",
       "      <td>565.0</td>\n",
       "      <td>259.0</td>\n",
       "      <td>3.8462</td>\n",
       "      <td>342200.0</td>\n",
       "    </tr>\n",
       "    <tr>\n",
       "      <th>5</th>\n",
       "      <td>52.0</td>\n",
       "      <td>919.0</td>\n",
       "      <td>213.0</td>\n",
       "      <td>413.0</td>\n",
       "      <td>193.0</td>\n",
       "      <td>4.0368</td>\n",
       "      <td>269700.0</td>\n",
       "    </tr>\n",
       "    <tr>\n",
       "      <th>6</th>\n",
       "      <td>52.0</td>\n",
       "      <td>2535.0</td>\n",
       "      <td>489.0</td>\n",
       "      <td>1094.0</td>\n",
       "      <td>514.0</td>\n",
       "      <td>3.6591</td>\n",
       "      <td>299200.0</td>\n",
       "    </tr>\n",
       "    <tr>\n",
       "      <th>7</th>\n",
       "      <td>52.0</td>\n",
       "      <td>3104.0</td>\n",
       "      <td>687.0</td>\n",
       "      <td>1157.0</td>\n",
       "      <td>647.0</td>\n",
       "      <td>3.1200</td>\n",
       "      <td>241400.0</td>\n",
       "    </tr>\n",
       "    <tr>\n",
       "      <th>...</th>\n",
       "      <td>...</td>\n",
       "      <td>...</td>\n",
       "      <td>...</td>\n",
       "      <td>...</td>\n",
       "      <td>...</td>\n",
       "      <td>...</td>\n",
       "      <td>...</td>\n",
       "    </tr>\n",
       "    <tr>\n",
       "      <th>20635</th>\n",
       "      <td>25.0</td>\n",
       "      <td>1665.0</td>\n",
       "      <td>374.0</td>\n",
       "      <td>845.0</td>\n",
       "      <td>330.0</td>\n",
       "      <td>1.5603</td>\n",
       "      <td>78100.0</td>\n",
       "    </tr>\n",
       "    <tr>\n",
       "      <th>20636</th>\n",
       "      <td>18.0</td>\n",
       "      <td>697.0</td>\n",
       "      <td>150.0</td>\n",
       "      <td>356.0</td>\n",
       "      <td>114.0</td>\n",
       "      <td>2.5568</td>\n",
       "      <td>77100.0</td>\n",
       "    </tr>\n",
       "    <tr>\n",
       "      <th>20637</th>\n",
       "      <td>17.0</td>\n",
       "      <td>2254.0</td>\n",
       "      <td>485.0</td>\n",
       "      <td>1007.0</td>\n",
       "      <td>433.0</td>\n",
       "      <td>1.7000</td>\n",
       "      <td>92300.0</td>\n",
       "    </tr>\n",
       "    <tr>\n",
       "      <th>20638</th>\n",
       "      <td>18.0</td>\n",
       "      <td>1860.0</td>\n",
       "      <td>409.0</td>\n",
       "      <td>741.0</td>\n",
       "      <td>349.0</td>\n",
       "      <td>1.8672</td>\n",
       "      <td>84700.0</td>\n",
       "    </tr>\n",
       "    <tr>\n",
       "      <th>20639</th>\n",
       "      <td>16.0</td>\n",
       "      <td>2785.0</td>\n",
       "      <td>616.0</td>\n",
       "      <td>1387.0</td>\n",
       "      <td>530.0</td>\n",
       "      <td>2.3886</td>\n",
       "      <td>89400.0</td>\n",
       "    </tr>\n",
       "  </tbody>\n",
       "</table>\n",
       "<p>17686 rows × 7 columns</p>\n",
       "</div>"
      ],
      "text/plain": [
       "       housing_median_age  total_rooms  total_bedrooms  population  \\\n",
       "3                    52.0       1274.0           235.0       558.0   \n",
       "4                    52.0       1627.0           280.0       565.0   \n",
       "5                    52.0        919.0           213.0       413.0   \n",
       "6                    52.0       2535.0           489.0      1094.0   \n",
       "7                    52.0       3104.0           687.0      1157.0   \n",
       "...                   ...          ...             ...         ...   \n",
       "20635                25.0       1665.0           374.0       845.0   \n",
       "20636                18.0        697.0           150.0       356.0   \n",
       "20637                17.0       2254.0           485.0      1007.0   \n",
       "20638                18.0       1860.0           409.0       741.0   \n",
       "20639                16.0       2785.0           616.0      1387.0   \n",
       "\n",
       "       households  median_income  median_house_value  \n",
       "3           219.0         5.6431            341300.0  \n",
       "4           259.0         3.8462            342200.0  \n",
       "5           193.0         4.0368            269700.0  \n",
       "6           514.0         3.6591            299200.0  \n",
       "7           647.0         3.1200            241400.0  \n",
       "...           ...            ...                 ...  \n",
       "20635       330.0         1.5603             78100.0  \n",
       "20636       114.0         2.5568             77100.0  \n",
       "20637       433.0         1.7000             92300.0  \n",
       "20638       349.0         1.8672             84700.0  \n",
       "20639       530.0         2.3886             89400.0  \n",
       "\n",
       "[17686 rows x 7 columns]"
      ]
     },
     "execution_count": 47,
     "metadata": {},
     "output_type": "execute_result"
    }
   ],
   "source": [
    "df[filtro]"
   ]
  },
  {
   "cell_type": "markdown",
   "metadata": {},
   "source": [
    "Calculamos la regresión"
   ]
  },
  {
   "cell_type": "code",
   "execution_count": 48,
   "metadata": {
    "ExecuteTime": {
     "end_time": "2022-01-21T22:41:02.417548Z",
     "start_time": "2022-01-21T22:41:02.392575Z"
    }
   },
   "outputs": [
    {
     "data": {
      "text/plain": [
       "0.5546234629973369"
      ]
     },
     "execution_count": 48,
     "metadata": {},
     "output_type": "execute_result"
    }
   ],
   "source": [
    "from sklearn.linear_model import LinearRegression\n",
    "lr = LinearRegression()\n",
    "\n",
    "y = df[filtro]['median_house_value']\n",
    "X = df[filtro].drop(columns=['median_house_value'])\n",
    "\n",
    "lr.fit(X, y)\n",
    "lr.score(X,y)"
   ]
  },
  {
   "cell_type": "markdown",
   "metadata": {},
   "source": [
    "Vemos que, al eliminar los outliers, se ha producido una ligerísima mejoría en el resultado de la regresión"
   ]
  },
  {
   "cell_type": "markdown",
   "metadata": {},
   "source": [
    "### LocalOutlierFactor\n",
    "\n",
    "Otro método de detección de outliers multidimensional, esta vez basado en un algoritmo de clusterización es Local Outlier Factor, lo que hace este algoritmo es clusterizar utilizando k-vecinos la muestra y clasificar como outliers aquellas observaciones que estén más lejos de todos sus vecinos de cluster.\n",
    "\n",
    "El funcionamiento, por suerte, es similar al anterior:"
   ]
  },
  {
   "cell_type": "code",
   "execution_count": 49,
   "metadata": {
    "ExecuteTime": {
     "end_time": "2022-01-21T22:41:48.926766Z",
     "start_time": "2022-01-21T22:41:48.897765Z"
    }
   },
   "outputs": [
    {
     "data": {
      "text/plain": [
       "0.5647714028827973"
      ]
     },
     "execution_count": 49,
     "metadata": {},
     "output_type": "execute_result"
    }
   ],
   "source": [
    "import pandas as pd\n",
    "from sklearn.neighbors import LocalOutlierFactor\n",
    "\n",
    "df = pd.read_csv('./data/HousingDataset.csv')\n",
    "\n",
    "# Tenemos que eliminar las columnas de texto\n",
    "df = df.drop(columns=['ocean_proximity', 'longitude', 'latitude'])\n",
    "df = df.fillna(0)\n",
    "\n",
    "\n",
    "from sklearn.linear_model import LinearRegression\n",
    "lr = LinearRegression()\n",
    "\n",
    "y = df['median_house_value']\n",
    "X = df.drop(columns=['median_house_value'])\n",
    "\n",
    "lr.fit(X, y)\n",
    "lr.score(X,y)"
   ]
  },
  {
   "cell_type": "code",
   "execution_count": 50,
   "metadata": {
    "ExecuteTime": {
     "end_time": "2022-01-21T22:41:49.558469Z",
     "start_time": "2022-01-21T22:41:49.361354Z"
    }
   },
   "outputs": [],
   "source": [
    "filtro= LocalOutlierFactor().fit_predict(df) != -1"
   ]
  },
  {
   "cell_type": "code",
   "execution_count": 51,
   "metadata": {
    "ExecuteTime": {
     "end_time": "2022-01-21T22:41:49.838558Z",
     "start_time": "2022-01-21T22:41:49.825558Z"
    }
   },
   "outputs": [
    {
     "data": {
      "text/plain": [
       "0.5842242190183924"
      ]
     },
     "execution_count": 51,
     "metadata": {},
     "output_type": "execute_result"
    }
   ],
   "source": [
    "from sklearn.linear_model import LinearRegression\n",
    "lr = LinearRegression()\n",
    "\n",
    "y = df[filtro]['median_house_value']\n",
    "X = df[filtro].drop(columns=['median_house_value'])\n",
    "\n",
    "lr.fit(X, y)\n",
    "lr.score(X,y)"
   ]
  },
  {
   "cell_type": "markdown",
   "metadata": {},
   "source": [
    "En este caso la mejoría es un poco más alta pero sin ser espectacular"
   ]
  },
  {
   "cell_type": "code",
   "execution_count": 52,
   "metadata": {
    "ExecuteTime": {
     "end_time": "2022-01-21T22:42:08.825675Z",
     "start_time": "2022-01-21T22:42:08.802678Z"
    }
   },
   "outputs": [
    {
     "data": {
      "text/html": [
       "<div>\n",
       "<style scoped>\n",
       "    .dataframe tbody tr th:only-of-type {\n",
       "        vertical-align: middle;\n",
       "    }\n",
       "\n",
       "    .dataframe tbody tr th {\n",
       "        vertical-align: top;\n",
       "    }\n",
       "\n",
       "    .dataframe thead th {\n",
       "        text-align: right;\n",
       "    }\n",
       "</style>\n",
       "<table border=\"1\" class=\"dataframe\">\n",
       "  <thead>\n",
       "    <tr style=\"text-align: right;\">\n",
       "      <th></th>\n",
       "      <th>housing_median_age</th>\n",
       "      <th>total_rooms</th>\n",
       "      <th>total_bedrooms</th>\n",
       "      <th>population</th>\n",
       "      <th>households</th>\n",
       "      <th>median_income</th>\n",
       "      <th>median_house_value</th>\n",
       "    </tr>\n",
       "  </thead>\n",
       "  <tbody>\n",
       "    <tr>\n",
       "      <th>0</th>\n",
       "      <td>41.0</td>\n",
       "      <td>880.0</td>\n",
       "      <td>129.0</td>\n",
       "      <td>322.0</td>\n",
       "      <td>126.0</td>\n",
       "      <td>8.3252</td>\n",
       "      <td>452600.0</td>\n",
       "    </tr>\n",
       "    <tr>\n",
       "      <th>1</th>\n",
       "      <td>21.0</td>\n",
       "      <td>7099.0</td>\n",
       "      <td>1106.0</td>\n",
       "      <td>2401.0</td>\n",
       "      <td>1138.0</td>\n",
       "      <td>8.3014</td>\n",
       "      <td>358500.0</td>\n",
       "    </tr>\n",
       "    <tr>\n",
       "      <th>2</th>\n",
       "      <td>52.0</td>\n",
       "      <td>1467.0</td>\n",
       "      <td>190.0</td>\n",
       "      <td>496.0</td>\n",
       "      <td>177.0</td>\n",
       "      <td>7.2574</td>\n",
       "      <td>352100.0</td>\n",
       "    </tr>\n",
       "    <tr>\n",
       "      <th>3</th>\n",
       "      <td>52.0</td>\n",
       "      <td>1274.0</td>\n",
       "      <td>235.0</td>\n",
       "      <td>558.0</td>\n",
       "      <td>219.0</td>\n",
       "      <td>5.6431</td>\n",
       "      <td>341300.0</td>\n",
       "    </tr>\n",
       "    <tr>\n",
       "      <th>4</th>\n",
       "      <td>52.0</td>\n",
       "      <td>1627.0</td>\n",
       "      <td>280.0</td>\n",
       "      <td>565.0</td>\n",
       "      <td>259.0</td>\n",
       "      <td>3.8462</td>\n",
       "      <td>342200.0</td>\n",
       "    </tr>\n",
       "    <tr>\n",
       "      <th>...</th>\n",
       "      <td>...</td>\n",
       "      <td>...</td>\n",
       "      <td>...</td>\n",
       "      <td>...</td>\n",
       "      <td>...</td>\n",
       "      <td>...</td>\n",
       "      <td>...</td>\n",
       "    </tr>\n",
       "    <tr>\n",
       "      <th>20635</th>\n",
       "      <td>25.0</td>\n",
       "      <td>1665.0</td>\n",
       "      <td>374.0</td>\n",
       "      <td>845.0</td>\n",
       "      <td>330.0</td>\n",
       "      <td>1.5603</td>\n",
       "      <td>78100.0</td>\n",
       "    </tr>\n",
       "    <tr>\n",
       "      <th>20636</th>\n",
       "      <td>18.0</td>\n",
       "      <td>697.0</td>\n",
       "      <td>150.0</td>\n",
       "      <td>356.0</td>\n",
       "      <td>114.0</td>\n",
       "      <td>2.5568</td>\n",
       "      <td>77100.0</td>\n",
       "    </tr>\n",
       "    <tr>\n",
       "      <th>20637</th>\n",
       "      <td>17.0</td>\n",
       "      <td>2254.0</td>\n",
       "      <td>485.0</td>\n",
       "      <td>1007.0</td>\n",
       "      <td>433.0</td>\n",
       "      <td>1.7000</td>\n",
       "      <td>92300.0</td>\n",
       "    </tr>\n",
       "    <tr>\n",
       "      <th>20638</th>\n",
       "      <td>18.0</td>\n",
       "      <td>1860.0</td>\n",
       "      <td>409.0</td>\n",
       "      <td>741.0</td>\n",
       "      <td>349.0</td>\n",
       "      <td>1.8672</td>\n",
       "      <td>84700.0</td>\n",
       "    </tr>\n",
       "    <tr>\n",
       "      <th>20639</th>\n",
       "      <td>16.0</td>\n",
       "      <td>2785.0</td>\n",
       "      <td>616.0</td>\n",
       "      <td>1387.0</td>\n",
       "      <td>530.0</td>\n",
       "      <td>2.3886</td>\n",
       "      <td>89400.0</td>\n",
       "    </tr>\n",
       "  </tbody>\n",
       "</table>\n",
       "<p>20640 rows × 7 columns</p>\n",
       "</div>"
      ],
      "text/plain": [
       "       housing_median_age  total_rooms  total_bedrooms  population  \\\n",
       "0                    41.0        880.0           129.0       322.0   \n",
       "1                    21.0       7099.0          1106.0      2401.0   \n",
       "2                    52.0       1467.0           190.0       496.0   \n",
       "3                    52.0       1274.0           235.0       558.0   \n",
       "4                    52.0       1627.0           280.0       565.0   \n",
       "...                   ...          ...             ...         ...   \n",
       "20635                25.0       1665.0           374.0       845.0   \n",
       "20636                18.0        697.0           150.0       356.0   \n",
       "20637                17.0       2254.0           485.0      1007.0   \n",
       "20638                18.0       1860.0           409.0       741.0   \n",
       "20639                16.0       2785.0           616.0      1387.0   \n",
       "\n",
       "       households  median_income  median_house_value  \n",
       "0           126.0         8.3252            452600.0  \n",
       "1          1138.0         8.3014            358500.0  \n",
       "2           177.0         7.2574            352100.0  \n",
       "3           219.0         5.6431            341300.0  \n",
       "4           259.0         3.8462            342200.0  \n",
       "...           ...            ...                 ...  \n",
       "20635       330.0         1.5603             78100.0  \n",
       "20636       114.0         2.5568             77100.0  \n",
       "20637       433.0         1.7000             92300.0  \n",
       "20638       349.0         1.8672             84700.0  \n",
       "20639       530.0         2.3886             89400.0  \n",
       "\n",
       "[20640 rows x 7 columns]"
      ]
     },
     "execution_count": 52,
     "metadata": {},
     "output_type": "execute_result"
    }
   ],
   "source": [
    "df"
   ]
  },
  {
   "cell_type": "markdown",
   "metadata": {},
   "source": [
    "Si comparamos este método con la eliminación de outliers columna a columna:\n"
   ]
  },
  {
   "cell_type": "code",
   "execution_count": 53,
   "metadata": {
    "ExecuteTime": {
     "end_time": "2022-01-21T22:45:45.853790Z",
     "start_time": "2022-01-21T22:45:45.825764Z"
    }
   },
   "outputs": [
    {
     "name": "stdout",
     "output_type": "stream",
     "text": [
      "housing_median_age\n",
      "(3.4683712098852517, 53.810601658331805)\n",
      "2.0000484513729977\n",
      "0    20081\n",
      "1      559\n",
      "Name: outlier, dtype: int64\n",
      "\n",
      "\n",
      "total_rooms\n",
      "(1727.4674217702254, 6998.993584560923)\n",
      "2.0000484513730052\n",
      "0    19047\n",
      "1     1593\n",
      "Name: outlier, dtype: int64\n",
      "\n",
      "\n",
      "total_bedrooms\n",
      "(312.8804543813699, 1377.83287686199)\n",
      "2.000048451372988\n",
      "0    18651\n",
      "1     1989\n",
      "Name: outlier, dtype: int64\n",
      "\n",
      "\n",
      "population\n",
      "(839.4474993446286, 3690.400987716722)\n",
      "2.000048451373002\n",
      "0    18432\n",
      "1     2208\n",
      "Name: outlier, dtype: int64\n",
      "\n",
      "\n",
      "households\n",
      "(265.11982543066165, 1264.1991858957779)\n",
      "2.0000484513730115\n",
      "0    18400\n",
      "1     2240\n",
      "Name: outlier, dtype: int64\n",
      "\n",
      "\n",
      "median_income\n",
      "(0.07102756701647817, 7.670314438797571)\n",
      "2.000048451373003\n",
      "0    17643\n",
      "1     2997\n",
      "Name: outlier, dtype: int64\n",
      "\n",
      "\n",
      "median_house_value\n",
      "(23935.414839911653, 437647.04865774116)\n",
      "2.0000484513730115\n",
      "0    17413\n",
      "1     3227\n",
      "Name: outlier, dtype: int64\n",
      "\n",
      "\n"
     ]
    },
    {
     "data": {
      "text/plain": [
       "0    17413\n",
       "1     3227\n",
       "Name: outlier, dtype: int64"
      ]
     },
     "execution_count": 53,
     "metadata": {},
     "output_type": "execute_result"
    }
   ],
   "source": [
    "df = pd.read_csv('./data/HousingDataset.csv')\n",
    "from sklearn.preprocessing import StandardScaler\n",
    "scaler = StandardScaler()\n",
    "\n",
    "# Tenemos que eliminar las columnas de texto\n",
    "df = df.drop(columns=['ocean_proximity', 'longitude', 'latitude'])\n",
    "df = df.fillna(0)\n",
    "\n",
    "df.head()\n",
    "df['outlier'] = 0\n",
    "lst = list(df.columns)\n",
    "def normalizar(df,columna_evaluar='score'):\n",
    "    columna_res = columna_evaluar+'_t'\n",
    "    #df[columna_evaluar] = scaler.fit_transform(df[[columna_evaluar]])\n",
    "    p = PowerTransformer(method='yeo-johnson', standardize=True)\n",
    "    transformada = p.fit_transform(df[[columna_evaluar]])\n",
    "    df[columna_res] = transformada\n",
    "    return df\n",
    "\n",
    "def outlier_normal(df,num=2,columna_evaluar='score', columna_resultado='outlier'):\n",
    "    columna_res = columna_evaluar+'_t'\n",
    "    media = df[columna_evaluar].mean()\n",
    "    std = df[columna_evaluar].std()\n",
    "    media_t,std_t = df[columna_res].mean(),df[columna_res].std()\n",
    "    k = num*std\n",
    "    k_t = num*std_t\n",
    "    limite_superior = media + k\n",
    "    limite_inferior = abs(media-k)\n",
    "    print((limite_inferior,limite_superior))\n",
    "    print(abs(media_t+k_t))\n",
    "    df[columna_resultado] = np.where(abs(df[columna_res]+media_t) > k_t,1,df[columna_resultado])\n",
    "    \n",
    "    print(df[columna_resultado].value_counts())\n",
    "    return df\n",
    "\n",
    "df_t = df.copy()\n",
    "\n",
    "for i in lst:\n",
    "    if i == 'outlier':\n",
    "        pass\n",
    "    else:\n",
    "        print(i)\n",
    "        df_t = normalizar(df,columna_evaluar=i)\n",
    "        df_t = outlier_normal(df_t,num=2,columna_evaluar=i, columna_resultado='outlier')\n",
    "        print('\\n')\n",
    "        \n",
    "df_t.outlier.value_counts()"
   ]
  },
  {
   "cell_type": "code",
   "execution_count": 54,
   "metadata": {},
   "outputs": [],
   "source": [
    "df_t = df_t[df_t.outlier!=1]"
   ]
  },
  {
   "cell_type": "code",
   "execution_count": 55,
   "metadata": {},
   "outputs": [
    {
     "data": {
      "text/plain": [
       "<AxesSubplot:xlabel='median_house_value_t', ylabel='Count'>"
      ]
     },
     "execution_count": 55,
     "metadata": {},
     "output_type": "execute_result"
    },
    {
     "data": {
      "image/png": "[encoded data removed]",
      "text/plain": [
       "<Figure size 1152x288 with 1 Axes>"
      ]
     },
     "metadata": {
      "needs_background": "light"
     },
     "output_type": "display_data"
    }
   ],
   "source": [
    "sns.histplot(df_t.median_house_value_t)"
   ]
  },
  {
   "cell_type": "code",
   "execution_count": 56,
   "metadata": {
    "ExecuteTime": {
     "end_time": "2022-01-21T22:45:07.679834Z",
     "start_time": "2022-01-21T22:45:07.658835Z"
    }
   },
   "outputs": [
    {
     "data": {
      "text/plain": [
       "0.9483882726725319"
      ]
     },
     "execution_count": 56,
     "metadata": {},
     "output_type": "execute_result"
    }
   ],
   "source": [
    "from sklearn.linear_model import LinearRegression\n",
    "lr = LinearRegression()\n",
    "\n",
    "y = df_t['median_house_value']\n",
    "X = df_t.drop(columns=['median_house_value','outlier'])\n",
    "\n",
    "lr.fit(X, y)\n",
    "lr.score(X,y)"
   ]
  },
  {
   "cell_type": "markdown",
   "metadata": {},
   "source": [
    "Existen otros métodos similares basados en vecinos que realizan la detección de outliers, escoger uno u otro dependerá de qué tipo de analítica vayamos a realizar después, si es una clasificación con árboles, eliminar mediante IsolationForest puede ayudarnos a evitar ramas muy pequeñas, si es un clusterizador, utilizar LocalOutlierFactor puede generar grupos más coherentes."
   ]
  },
  {
   "cell_type": "markdown",
   "metadata": {},
   "source": [
    "## Escalado de la distribución\n",
    "\n",
    "Cuando tratamos un conjunto de datos complejo lo normal es que tengamos varios atributos y que cada uno de ellos tenga su propio rango.\n",
    "\n",
    "Los métodos de analítica tratarán de darnos nuestro output (variable a predecir, por ejemplo) en función de las entradas; para poder combinar medidas de rangos muy diferentes es necesario pasarlas a una base común.\n",
    "\n",
    "Por ejemplo, en una tienda podemos tener, para analizar, datos de los pasos por caja y de las ventas totales en €. Ambas magnitudes serán muy diferentes, siendo los pasos por caja muy inferiores a la venta total.\n",
    "\n",
    "Un algoritmo tendrá muchas dificultades para ser capaz de equilibrar ambas magnitudes, por lo tanto, es una condición habitual que los datos que le llegan a los algoritmos hayan pasado algún proceso de normalización o estandarización.\n",
    "\n",
    "En general, nos obligarán a que nuestros datos tengan alguna forma específica, ya sea que estén entre 0 y 1 o que, directamente, sigan una distribución normal con media *0* y desviación estadística *1*.\n",
    "\n",
    "Si necesitamos que nuestros datos estén entre *0* y *1* lo que haremos será una transformación mínimo-máximo (*normalización*) si, por el contrario necesitamos una distribución centrada en cero realizaremos una estandarización.\n",
    "\n",
    "### Normalización\n",
    "\n",
    "La normalización es un reescalado de nuestros valores que los sitúa entre 0 y 1. Se trata de un reescalado lineal que únicamente tiene en cuenta los valores máximo y mínimo de la distribución.\n",
    "\n",
    "Para realizar esta transformación, a cada valor de nuestros datos le restamos el mínimo y lo dividimos por la diferencia entre el mínimo y el máximo.\n",
    "\n",
    "$$ y' = \\frac{y - min(x)}{max(x) - min(x)} $$\n"
   ]
  },
  {
   "cell_type": "markdown",
   "metadata": {},
   "source": [
    "### Ejercicio 10. Normaliza la puntuación de Pitchfork"
   ]
  },
  {
   "cell_type": "code",
   "execution_count": 57,
   "metadata": {},
   "outputs": [
    {
     "data": {
      "text/plain": [
       "<AxesSubplot:xlabel='score', ylabel='Count'>"
      ]
     },
     "execution_count": 57,
     "metadata": {},
     "output_type": "execute_result"
    },
    {
     "data": {
      "image/png": "[encoded data removed]",
      "text/plain": [
       "<Figure size 1152x288 with 1 Axes>"
      ]
     },
     "metadata": {
      "needs_background": "light"
     },
     "output_type": "display_data"
    }
   ],
   "source": [
    "sns.histplot(df_pitch['score'])"
   ]
  },
  {
   "cell_type": "code",
   "execution_count": 58,
   "metadata": {
    "ExecuteTime": {
     "end_time": "2022-01-20T21:17:24.564938Z",
     "start_time": "2022-01-20T21:17:24.481935Z"
    }
   },
   "outputs": [],
   "source": [
    "df_pitch = leer_pitchfork()\n",
    "score = df_pitch.score\n",
    "from sklearn.preprocessing import MinMaxScaler\n",
    "\n",
    "scaler = MinMaxScaler()\n",
    "\n",
    "df_pitch['score_t'] = scaler.fit_transform(df_pitch[[\"score\"]])"
   ]
  },
  {
   "cell_type": "code",
   "execution_count": 59,
   "metadata": {
    "ExecuteTime": {
     "end_time": "2022-01-20T21:17:55.412806Z",
     "start_time": "2022-01-20T21:17:55.120777Z"
    }
   },
   "outputs": [
    {
     "data": {
      "text/plain": [
       "<AxesSubplot:xlabel='score_t', ylabel='Count'>"
      ]
     },
     "execution_count": 59,
     "metadata": {},
     "output_type": "execute_result"
    },
    {
     "data": {
      "image/png": "[encoded data removed]",
      "text/plain": [
       "<Figure size 1152x288 with 1 Axes>"
      ]
     },
     "metadata": {
      "needs_background": "light"
     },
     "output_type": "display_data"
    }
   ],
   "source": [
    "sns.histplot(df_pitch['score_t'])"
   ]
  },
  {
   "cell_type": "markdown",
   "metadata": {},
   "source": [
    "Vemos que, la distribución tiene la misma forma que la original pero ahora está entre 0 y 1.\n",
    "\n",
    "Como es una transformación lineal, no altera ninguna de las propiedades de la distribución, las distancias relativas entre puntuaciones se mantienen y los conteos también.\n",
    "\n",
    "Podemos deshacer la transformación sumando el mínimo y multiplicando por el rango entre máximo y mínimo:"
   ]
  },
  {
   "cell_type": "code",
   "execution_count": 60,
   "metadata": {
    "ExecuteTime": {
     "end_time": "2022-01-21T22:52:48.168555Z",
     "start_time": "2022-01-21T22:52:47.945582Z"
    }
   },
   "outputs": [
    {
     "data": {
      "text/plain": [
       "<AxesSubplot:xlabel='score', ylabel='Count'>"
      ]
     },
     "execution_count": 60,
     "metadata": {},
     "output_type": "execute_result"
    },
    {
     "data": {
      "image/png": "[encoded data removed]",
      "text/plain": [
       "<Figure size 1152x288 with 1 Axes>"
      ]
     },
     "metadata": {
      "needs_background": "light"
     },
     "output_type": "display_data"
    }
   ],
   "source": [
    "\n",
    "sns.histplot(df_pitch.score)"
   ]
  },
  {
   "cell_type": "markdown",
   "metadata": {},
   "source": [
    "Dentro de los métodos de preprocesado de datos de *sklearn* también tenemos un Scaler que realiza esta transformación por nosotros:"
   ]
  },
  {
   "cell_type": "code",
   "execution_count": 61,
   "metadata": {
    "ExecuteTime": {
     "end_time": "2022-01-21T22:52:55.911301Z",
     "start_time": "2022-01-21T22:52:55.432272Z"
    }
   },
   "outputs": [
    {
     "data": {
      "text/plain": [
       "<AxesSubplot:xlabel='score', ylabel='Count'>"
      ]
     },
     "execution_count": 61,
     "metadata": {},
     "output_type": "execute_result"
    },
    {
     "data": {
      "image/png": "[encoded data removed]",
      "text/plain": [
       "<Figure size 1152x288 with 1 Axes>"
      ]
     },
     "metadata": {
      "needs_background": "light"
     },
     "output_type": "display_data"
    }
   ],
   "source": [
    "from sklearn.preprocessing import MinMaxScaler\n",
    "\n",
    "scaler = MinMaxScaler()\n",
    "\n",
    "df_pitch['score'] = scaler.fit_transform(df_pitch[['score']])\n",
    "\n",
    "# Hay que darle las columnas como una lista, incluso aunque pasemos solo una\n",
    "sns.histplot(df_pitch['score'])\n"
   ]
  },
  {
   "cell_type": "markdown",
   "metadata": {
    "ExecuteTime": {
     "end_time": "2021-02-25T18:27:23.913338Z",
     "start_time": "2021-02-25T18:27:23.906319Z"
    }
   },
   "source": [
    "Podemos consultar los parámetros de la transformación:\n"
   ]
  },
  {
   "cell_type": "code",
   "execution_count": 62,
   "metadata": {
    "ExecuteTime": {
     "end_time": "2022-01-21T22:52:57.091725Z",
     "start_time": "2022-01-21T22:52:57.087725Z"
    }
   },
   "outputs": [
    {
     "name": "stdout",
     "output_type": "stream",
     "text": [
      "Mínimo: [0.], Máximo: [10.]\n"
     ]
    }
   ],
   "source": [
    "print(f'Mínimo: {scaler.data_min_}, Máximo: {scaler.data_max_}')"
   ]
  },
  {
   "cell_type": "markdown",
   "metadata": {
    "ExecuteTime": {
     "end_time": "2021-02-25T18:29:37.818245Z",
     "start_time": "2021-02-25T18:29:37.802212Z"
    }
   },
   "source": [
    "También podemos recuperar los valores originales"
   ]
  },
  {
   "cell_type": "code",
   "execution_count": 63,
   "metadata": {
    "ExecuteTime": {
     "end_time": "2022-01-21T22:52:59.054803Z",
     "start_time": "2022-01-21T22:52:58.838774Z"
    }
   },
   "outputs": [
    {
     "data": {
      "text/plain": [
       "<AxesSubplot:xlabel='score', ylabel='Count'>"
      ]
     },
     "execution_count": 63,
     "metadata": {},
     "output_type": "execute_result"
    },
    {
     "data": {
      "image/png": "[encoded data removed]",
      "text/plain": [
       "<Figure size 1152x288 with 1 Axes>"
      ]
     },
     "metadata": {
      "needs_background": "light"
     },
     "output_type": "display_data"
    }
   ],
   "source": [
    "df_pitch['score'] = scaler.inverse_transform(df_pitch[['score']])\n",
    "\n",
    "sns.histplot(df_pitch['score'])"
   ]
  },
  {
   "cell_type": "markdown",
   "metadata": {},
   "source": [
    "### Estandarizar la distribución\n",
    "\n",
    "La estandarización realiza una transformación más profunda de los datos, no sólo reduce su rango sino que también lo centra respecto a cero.\n",
    "\n",
    "Matemáticamente la transformación consiste en restar la media y dividir por la desviación típica.\n",
    "\n",
    "$$ y' = \\frac{y - \\bar{x}}{stdev(y)}$$\n",
    "\n",
    "La estandarización siempre asume que la distribución con la que trabajamos es normal; si un algoritmo pide datos estandarizados (o si pide que los datos tengan media 0 y desviación 1), lo normal es que también requiera que sea normal.\n",
    "\n",
    "Recordad que, cuando vimos la aplicación de la transformación de potencia, teníamos un parámetro que podíamos utilizar (```standardize=True```) para que la centrase en 0 con desviación típica 1."
   ]
  },
  {
   "cell_type": "code",
   "execution_count": 64,
   "metadata": {
    "ExecuteTime": {
     "end_time": "2022-01-20T21:20:07.835924Z",
     "start_time": "2022-01-20T21:20:07.536900Z"
    }
   },
   "outputs": [
    {
     "data": {
      "text/plain": [
       "<AxesSubplot:xlabel='score', ylabel='Count'>"
      ]
     },
     "execution_count": 64,
     "metadata": {},
     "output_type": "execute_result"
    },
    {
     "data": {
      "image/png": "[encoded data removed]",
      "text/plain": [
       "<Figure size 1152x288 with 1 Axes>"
      ]
     },
     "metadata": {
      "needs_background": "light"
     },
     "output_type": "display_data"
    }
   ],
   "source": [
    "df_pitch = leer_pitchfork()\n",
    "x_media, x_desv = df_pitch.score.mean(), df_pitch.score.std()\n",
    "\n",
    "df_pitch.score = (df_pitch.score - x_media) / x_desv\n",
    "\n",
    "sns.histplot(df_pitch.score)"
   ]
  },
  {
   "cell_type": "markdown",
   "metadata": {},
   "source": [
    "Podemos deshacer la transformación:"
   ]
  },
  {
   "cell_type": "code",
   "execution_count": 65,
   "metadata": {
    "ExecuteTime": {
     "end_time": "2022-01-20T21:20:10.369166Z",
     "start_time": "2022-01-20T21:20:10.152431Z"
    }
   },
   "outputs": [
    {
     "data": {
      "text/plain": [
       "<AxesSubplot:xlabel='score', ylabel='Count'>"
      ]
     },
     "execution_count": 65,
     "metadata": {},
     "output_type": "execute_result"
    },
    {
     "data": {
      "image/png": "[encoded data removed]",
      "text/plain": [
       "<Figure size 1152x288 with 1 Axes>"
      ]
     },
     "metadata": {
      "needs_background": "light"
     },
     "output_type": "display_data"
    }
   ],
   "source": [
    "df_pitch.score = ((df_pitch.score) * x_desv) + x_media\n",
    "\n",
    "sns.histplot(df_pitch.score)"
   ]
  },
  {
   "cell_type": "markdown",
   "metadata": {},
   "source": [
    "Podemos utilizar una transformación de **sklearn**\n"
   ]
  },
  {
   "cell_type": "code",
   "execution_count": 66,
   "metadata": {
    "ExecuteTime": {
     "end_time": "2022-01-20T21:20:17.416275Z",
     "start_time": "2022-01-20T21:20:17.183275Z"
    }
   },
   "outputs": [
    {
     "data": {
      "text/plain": [
       "<AxesSubplot:xlabel='score', ylabel='Count'>"
      ]
     },
     "execution_count": 66,
     "metadata": {},
     "output_type": "execute_result"
    },
    {
     "data": {
      "image/png": "[encoded data removed]",
      "text/plain": [
       "<Figure size 1152x288 with 1 Axes>"
      ]
     },
     "metadata": {
      "needs_background": "light"
     },
     "output_type": "display_data"
    }
   ],
   "source": [
    "from sklearn.preprocessing import StandardScaler\n",
    "scaler = StandardScaler()\n",
    "df_pitch.score = scaler.fit_transform(df_pitch[['score']])\n",
    "sns.histplot(df_pitch.score)"
   ]
  },
  {
   "cell_type": "code",
   "execution_count": 67,
   "metadata": {},
   "outputs": [
    {
     "data": {
      "text/plain": [
       "<AxesSubplot:xlabel='score', ylabel='Count'>"
      ]
     },
     "execution_count": 67,
     "metadata": {},
     "output_type": "execute_result"
    },
    {
     "data": {
      "image/png": "[encoded data removed]",
      "text/plain": [
       "<Figure size 1152x288 with 1 Axes>"
      ]
     },
     "metadata": {
      "needs_background": "light"
     },
     "output_type": "display_data"
    }
   ],
   "source": [
    "sns.histplot(df_pitch[abs(df_pitch.score)<2].score)"
   ]
  },
  {
   "cell_type": "markdown",
   "metadata": {},
   "source": [
    "Y también podemos deshacer la transformación"
   ]
  },
  {
   "cell_type": "code",
   "execution_count": 68,
   "metadata": {
    "ExecuteTime": {
     "end_time": "2022-01-20T21:20:20.733052Z",
     "start_time": "2022-01-20T21:20:20.504047Z"
    }
   },
   "outputs": [
    {
     "data": {
      "text/plain": [
       "<AxesSubplot:xlabel='score', ylabel='Count'>"
      ]
     },
     "execution_count": 68,
     "metadata": {},
     "output_type": "execute_result"
    },
    {
     "data": {
      "image/png": "[encoded data removed]",
      "text/plain": [
       "<Figure size 1152x288 with 1 Axes>"
      ]
     },
     "metadata": {
      "needs_background": "light"
     },
     "output_type": "display_data"
    }
   ],
   "source": [
    "df_pitch.score = scaler.inverse_transform(df_pitch[['score']])\n",
    "sns.histplot(df_pitch.score)"
   ]
  },
  {
   "cell_type": "markdown",
   "metadata": {},
   "source": [
    "### Reescalado intercuartiles\n",
    "\n",
    "De forma similar a la estandarización y normalización, podemos utilizar el rango intercuartiles para realizar un escalado de los datos.\n",
    "\n",
    "El método es un poco diferente a los demás ya que puede distribuir los datos para que sigan una distribución normal o uniforme.\n",
    "\n",
    "Para realizar este método utilizaremos un transformador de **sklearn**.\n",
    "\n"
   ]
  },
  {
   "cell_type": "code",
   "execution_count": 69,
   "metadata": {
    "ExecuteTime": {
     "end_time": "2021-02-26T23:03:40.846907Z",
     "start_time": "2021-02-26T23:03:40.426031Z"
    }
   },
   "outputs": [
    {
     "data": {
      "text/plain": [
       "<AxesSubplot:ylabel='Count'>"
      ]
     },
     "execution_count": 69,
     "metadata": {},
     "output_type": "execute_result"
    },
    {
     "data": {
      "image/png": "[encoded data removed]",
      "text/plain": [
       "<Figure size 1152x288 with 1 Axes>"
      ]
     },
     "metadata": {
      "needs_background": "light"
     },
     "output_type": "display_data"
    }
   ],
   "source": [
    "from sklearn.preprocessing import QuantileTransformer\n",
    "\n",
    "df_pitch = leer_pitchfork()\n",
    "\n",
    "scaler = QuantileTransformer(output_distribution='normal')\n",
    "\n",
    "sns.histplot(scaler.fit_transform(df_pitch[['score']]), bins=100)"
   ]
  },
  {
   "cell_type": "markdown",
   "metadata": {},
   "source": [
    "Por su parte el reescalado uniforme intenta que los datos estén distribuidos desde 0 a 1 de forma (aproximadamente), uniforme.\n",
    "\n",
    "El motivo para utilizar una distribución uniforme de los datos dependerá del output que queramos tener al final."
   ]
  },
  {
   "cell_type": "code",
   "execution_count": 70,
   "metadata": {
    "ExecuteTime": {
     "end_time": "2022-01-20T21:22:23.551858Z",
     "start_time": "2022-01-20T21:22:23.223421Z"
    }
   },
   "outputs": [
    {
     "data": {
      "text/plain": [
       "<AxesSubplot:ylabel='Count'>"
      ]
     },
     "execution_count": 70,
     "metadata": {},
     "output_type": "execute_result"
    },
    {
     "data": {
      "image/png": "[encoded data removed]",
      "text/plain": [
       "<Figure size 1152x288 with 1 Axes>"
      ]
     },
     "metadata": {
      "needs_background": "light"
     },
     "output_type": "display_data"
    }
   ],
   "source": [
    "from sklearn.preprocessing import QuantileTransformer\n",
    "\n",
    "df_pitch = leer_pitchfork()\n",
    "\n",
    "scaler = QuantileTransformer(output_distribution='uniform' )\n",
    "\n",
    "sns.histplot(scaler.fit_transform(df_pitch[['score']]), bins=100)"
   ]
  },
  {
   "cell_type": "markdown",
   "metadata": {},
   "source": [
    "## Codificación de variables\n",
    "\n",
    "Hasta ahora hemos visto métodos que nos permiten tratar las variables numéricas, pero, más allá de cómo definirlas en pandas, no hemos visto nada de cómo tratar variables categóricas.\n",
    "\n",
    "La mayor parte de los algoritmos de analítica nos exigirán, como punto de partida, proporcionar variables numéricas por lo que todas las de tipo texto deben transformarse antes para que podamos utilizarlas.\n",
    "\n",
    "Los métodos de codificación de variables permiten convertir variables categóricas en númericas (o binarias) y variables numéricas en categóricas.\n",
    "\n",
    "Dentro de estos métodos tenemos:\n",
    " - Discretización: convertir valores continuos en discretos (crear rangos)\n",
    " - Codificación: converitr valores textuales en numéricos\n",
    " \n",
    "Esta necesidad de convertir las variables textuales en numéricas puede chocar un poco con el tratamiento específico que dábamos ayer a las variables categóricas.\n",
    "\n",
    "En realidad, el propósito es diferente. Una buena variable categórica (con significado), debería ayudarnos a romper el juego de datos para dárselo a los algoritmos de una forma más coherente, mientras que una variable de tipo texto que pasamos a codificación es una variable que creemos que puede ser causal en el output.\n",
    "\n",
    "A veces algunas variables pueden jugar ambos papeles, por ejemplo, para una regresión de precios de productos, la familia de productos puede influir en el precio y, además, puede ser un corte para darle solo los productos de una familia de especial interés y tratar de mejorar la precisión del modelo\n",
    "\n",
    "\n",
    "### Discretización\n",
    "\n",
    "Los procesos de discretización convierten información continua en información discreta, por ejemplo, podemos convertir las puntuaciones de Pitchfork en rangos.\n",
    "\n",
    "La discretización divide la muestra en grupos de tamaño fijo y asigna cada valor a su grupo.\n",
    "\n",
    "Diferenciamos entre discretización uniforme (divide en grupos sin importar cuántos elementos hay en cada grupo) y por percentiles, que asigna el mismo número de individuos a cada grupo."
   ]
  },
  {
   "cell_type": "code",
   "execution_count": 71,
   "metadata": {
    "ExecuteTime": {
     "end_time": "2022-01-21T23:09:11.227636Z",
     "start_time": "2022-01-21T23:09:11.029638Z"
    }
   },
   "outputs": [
    {
     "data": {
      "text/plain": [
       "<AxesSubplot:>"
      ]
     },
     "execution_count": 71,
     "metadata": {},
     "output_type": "execute_result"
    },
    {
     "data": {
      "image/png": "[encoded data removed]",
      "text/plain": [
       "<Figure size 1152x288 with 1 Axes>"
      ]
     },
     "metadata": {
      "needs_background": "light"
     },
     "output_type": "display_data"
    }
   ],
   "source": [
    "from sklearn.preprocessing import KBinsDiscretizer\n",
    "\n",
    "df_pitch = leer_pitchfork()\n",
    "\n",
    "discret = KBinsDiscretizer(n_bins=20, encode='ordinal', strategy='uniform')\n",
    "\n",
    "sns.violinplot(x=discret.fit_transform(df_pitch[['score']]))\n"
   ]
  },
  {
   "cell_type": "code",
   "execution_count": 72,
   "metadata": {},
   "outputs": [
    {
     "data": {
      "text/plain": [
       "15    3809\n",
       "14    3589\n",
       "13    2498\n",
       "16    2364\n",
       "12    1663\n",
       "11    1060\n",
       "17     926\n",
       "10     659\n",
       "9      418\n",
       "18     368\n",
       "8      280\n",
       "7      209\n",
       "19     168\n",
       "6      133\n",
       "5       96\n",
       "4       75\n",
       "3       31\n",
       "0       17\n",
       "2       15\n",
       "1       11\n",
       "Name: uni, dtype: int64"
      ]
     },
     "execution_count": 72,
     "metadata": {},
     "output_type": "execute_result"
    }
   ],
   "source": [
    "uni = discret.fit_transform(df_pitch[['score']])\n",
    "df_pitch['uni']=uni.astype(int)\n",
    "df_pitch['uni'].value_counts()"
   ]
  },
  {
   "cell_type": "code",
   "execution_count": 73,
   "metadata": {},
   "outputs": [
    {
     "data": {
      "text/plain": [
       "7.0    911\n",
       "7.8    875\n",
       "7.5    874\n",
       "8.0    849\n",
       "7.4    771\n",
       "      ... \n",
       "9.9      1\n",
       "1.4      1\n",
       "0.1      1\n",
       "0.3      1\n",
       "0.9      1\n",
       "Name: score, Length: 101, dtype: int64"
      ]
     },
     "execution_count": 73,
     "metadata": {},
     "output_type": "execute_result"
    }
   ],
   "source": [
    "df_pitch.score.value_counts()"
   ]
  },
  {
   "cell_type": "code",
   "execution_count": 74,
   "metadata": {
    "ExecuteTime": {
     "end_time": "2022-01-21T23:09:27.680881Z",
     "start_time": "2022-01-21T23:09:27.413854Z"
    }
   },
   "outputs": [
    {
     "data": {
      "text/plain": [
       "<AxesSubplot:ylabel='Count'>"
      ]
     },
     "execution_count": 74,
     "metadata": {},
     "output_type": "execute_result"
    },
    {
     "data": {
      "image/png": "[encoded data removed]",
      "text/plain": [
       "<Figure size 1152x288 with 1 Axes>"
      ]
     },
     "metadata": {
      "needs_background": "light"
     },
     "output_type": "display_data"
    }
   ],
   "source": [
    "sns.histplot(discret.fit_transform(df_pitch[['score']]))"
   ]
  },
  {
   "cell_type": "code",
   "execution_count": 75,
   "metadata": {
    "ExecuteTime": {
     "end_time": "2022-01-21T23:10:09.891211Z",
     "start_time": "2022-01-21T23:10:09.702211Z"
    }
   },
   "outputs": [
    {
     "data": {
      "text/plain": [
       "<AxesSubplot:>"
      ]
     },
     "execution_count": 75,
     "metadata": {},
     "output_type": "execute_result"
    },
    {
     "data": {
      "image/png": "[encoded data removed]",
      "text/plain": [
       "<Figure size 1152x288 with 1 Axes>"
      ]
     },
     "metadata": {
      "needs_background": "light"
     },
     "output_type": "display_data"
    }
   ],
   "source": [
    "from sklearn.preprocessing import KBinsDiscretizer\n",
    "\n",
    "df_pitch = leer_pitchfork()\n",
    "\n",
    "discret = KBinsDiscretizer(n_bins=20, encode='ordinal', strategy='quantile')\n",
    "\n",
    "sns.violinplot(x=discret.fit_transform(df_pitch[['score']]))\n"
   ]
  },
  {
   "cell_type": "code",
   "execution_count": 76,
   "metadata": {},
   "outputs": [
    {
     "data": {
      "text/plain": [
       "array([[19.],\n",
       "       [15.],\n",
       "       [10.],\n",
       "       ...,\n",
       "       [ 4.],\n",
       "       [10.],\n",
       "       [ 5.]])"
      ]
     },
     "execution_count": 76,
     "metadata": {},
     "output_type": "execute_result"
    }
   ],
   "source": [
    "discret.fit_transform(df_pitch[['score']])"
   ]
  },
  {
   "cell_type": "code",
   "execution_count": 77,
   "metadata": {},
   "outputs": [
    {
     "data": {
      "text/plain": [
       "15    1499\n",
       "10    1402\n",
       "7     1232\n",
       "5     1154\n",
       "19    1123\n",
       "18    1026\n",
       "1      956\n",
       "2      916\n",
       "8      911\n",
       "12     874\n",
       "0      867\n",
       "4      854\n",
       "16     849\n",
       "17     828\n",
       "11     771\n",
       "13     742\n",
       "3      712\n",
       "14     694\n",
       "9      505\n",
       "6      474\n",
       "Name: uni, dtype: int64"
      ]
     },
     "execution_count": 77,
     "metadata": {},
     "output_type": "execute_result"
    }
   ],
   "source": [
    "uni = discret.fit_transform(df_pitch[['score']])\n",
    "df_pitch['uni']=uni.astype(int)\n",
    "df_pitch['uni'].value_counts()"
   ]
  },
  {
   "cell_type": "code",
   "execution_count": 78,
   "metadata": {
    "ExecuteTime": {
     "end_time": "2022-01-21T23:10:10.280382Z",
     "start_time": "2022-01-21T23:10:10.089353Z"
    },
    "scrolled": true
   },
   "outputs": [
    {
     "data": {
      "text/plain": [
       "<AxesSubplot:ylabel='Count'>"
      ]
     },
     "execution_count": 78,
     "metadata": {},
     "output_type": "execute_result"
    },
    {
     "data": {
      "image/png": "[encoded data removed]",
      "text/plain": [
       "<Figure size 1152x288 with 1 Axes>"
      ]
     },
     "metadata": {
      "needs_background": "light"
     },
     "output_type": "display_data"
    }
   ],
   "source": [
    "sns.histplot(discret.fit_transform(df_pitch[['score']]))"
   ]
  },
  {
   "cell_type": "markdown",
   "metadata": {},
   "source": [
    "### Codificación\n",
    "\n",
    "La codificación permite cambiar valores textuales por numéricos.\n",
    "\n",
    "En algunos casos podemos disponer de variables numéricas al mismo tiempo que tenemos variables categóricas pero, cuándo no es así, tenemos que hacer nosotros ese mapeo, los métodos de codificación realizan este trabajo por nosotros.\n",
    "\n",
    "Practicaremos la codificación con el campo *author_type* del dataset de Pitchfork\n",
    "\n",
    "#### Aproximación manual\n",
    "\n",
    "Podemos convertir las variables categóricas en numéricas utilizando un mapeo simple con una enumeración."
   ]
  },
  {
   "cell_type": "markdown",
   "metadata": {
    "ExecuteTime": {
     "end_time": "2022-01-21T23:10:51.094650Z",
     "start_time": "2022-01-21T23:10:51.084650Z"
    }
   },
   "source": [
    "### Crea un diccionario conversor de tipos de autor a números\n"
   ]
  },
  {
   "cell_type": "code",
   "execution_count": 79,
   "metadata": {},
   "outputs": [
    {
     "data": {
      "text/plain": [
       "array(['contributor', 'associate reviews editor', 'tracks coordinator',\n",
       "       'associate staff writer', 'contributing editor',\n",
       "       'senior staff writer', 'assistant editor', 'associate editor',\n",
       "       'senior editor', 'executive editor', nan, 'deputy news editor',\n",
       "       'associate features editor', 'managing editor', 'editor-in-chief',\n",
       "       'news director'], dtype=object)"
      ]
     },
     "execution_count": 79,
     "metadata": {},
     "output_type": "execute_result"
    }
   ],
   "source": [
    "df_pitch.author_type.unique()"
   ]
  },
  {
   "cell_type": "code",
   "execution_count": 80,
   "metadata": {
    "ExecuteTime": {
     "end_time": "2022-01-21T23:11:04.245453Z",
     "start_time": "2022-01-21T23:11:04.140450Z"
    }
   },
   "outputs": [
    {
     "data": {
      "text/html": [
       "<div>\n",
       "<style scoped>\n",
       "    .dataframe tbody tr th:only-of-type {\n",
       "        vertical-align: middle;\n",
       "    }\n",
       "\n",
       "    .dataframe tbody tr th {\n",
       "        vertical-align: top;\n",
       "    }\n",
       "\n",
       "    .dataframe thead th {\n",
       "        text-align: right;\n",
       "    }\n",
       "</style>\n",
       "<table border=\"1\" class=\"dataframe\">\n",
       "  <thead>\n",
       "    <tr style=\"text-align: right;\">\n",
       "      <th></th>\n",
       "      <th>codificado</th>\n",
       "      <th>author_type</th>\n",
       "    </tr>\n",
       "  </thead>\n",
       "  <tbody>\n",
       "    <tr>\n",
       "      <th>0</th>\n",
       "      <td>1</td>\n",
       "      <td>contributor</td>\n",
       "    </tr>\n",
       "    <tr>\n",
       "      <th>3</th>\n",
       "      <td>2</td>\n",
       "      <td>associate reviews editor</td>\n",
       "    </tr>\n",
       "    <tr>\n",
       "      <th>4</th>\n",
       "      <td>3</td>\n",
       "      <td>tracks coordinator</td>\n",
       "    </tr>\n",
       "    <tr>\n",
       "      <th>11</th>\n",
       "      <td>4</td>\n",
       "      <td>associate staff writer</td>\n",
       "    </tr>\n",
       "    <tr>\n",
       "      <th>16</th>\n",
       "      <td>5</td>\n",
       "      <td>contributing editor</td>\n",
       "    </tr>\n",
       "    <tr>\n",
       "      <th>25</th>\n",
       "      <td>6</td>\n",
       "      <td>senior staff writer</td>\n",
       "    </tr>\n",
       "    <tr>\n",
       "      <th>26</th>\n",
       "      <td>7</td>\n",
       "      <td>assistant editor</td>\n",
       "    </tr>\n",
       "    <tr>\n",
       "      <th>33</th>\n",
       "      <td>8</td>\n",
       "      <td>associate editor</td>\n",
       "    </tr>\n",
       "    <tr>\n",
       "      <th>53</th>\n",
       "      <td>9</td>\n",
       "      <td>senior editor</td>\n",
       "    </tr>\n",
       "    <tr>\n",
       "      <th>87</th>\n",
       "      <td>10</td>\n",
       "      <td>executive editor</td>\n",
       "    </tr>\n",
       "    <tr>\n",
       "      <th>98</th>\n",
       "      <td>11</td>\n",
       "      <td>Others</td>\n",
       "    </tr>\n",
       "    <tr>\n",
       "      <th>162</th>\n",
       "      <td>12</td>\n",
       "      <td>deputy news editor</td>\n",
       "    </tr>\n",
       "    <tr>\n",
       "      <th>221</th>\n",
       "      <td>13</td>\n",
       "      <td>associate features editor</td>\n",
       "    </tr>\n",
       "    <tr>\n",
       "      <th>487</th>\n",
       "      <td>14</td>\n",
       "      <td>managing editor</td>\n",
       "    </tr>\n",
       "    <tr>\n",
       "      <th>10801</th>\n",
       "      <td>15</td>\n",
       "      <td>editor-in-chief</td>\n",
       "    </tr>\n",
       "    <tr>\n",
       "      <th>13001</th>\n",
       "      <td>16</td>\n",
       "      <td>news director</td>\n",
       "    </tr>\n",
       "  </tbody>\n",
       "</table>\n",
       "</div>"
      ],
      "text/plain": [
       "       codificado                author_type\n",
       "0               1                contributor\n",
       "3               2   associate reviews editor\n",
       "4               3         tracks coordinator\n",
       "11              4     associate staff writer\n",
       "16              5        contributing editor\n",
       "25              6        senior staff writer\n",
       "26              7           assistant editor\n",
       "33              8           associate editor\n",
       "53              9              senior editor\n",
       "87             10           executive editor\n",
       "98             11                     Others\n",
       "162            12         deputy news editor\n",
       "221            13  associate features editor\n",
       "487            14            managing editor\n",
       "10801          15            editor-in-chief\n",
       "13001          16              news director"
      ]
     },
     "execution_count": 80,
     "metadata": {},
     "output_type": "execute_result"
    }
   ],
   "source": [
    "df_pitch = leer_pitchfork()\n",
    "df_pitch['author_type'] = df_pitch.author_type.fillna('Others')\n",
    "conversor = {}\n",
    "for i,j in zip(range(1,1+len(list(df_pitch.author_type.unique()))),list(df_pitch.author_type.unique())):\n",
    "    conversor[j] = i\n",
    "    \n",
    "\n",
    "df_pitch['codificado'] = df_pitch.author_type.apply(lambda x: conversor[x])\n",
    "\n",
    "df_pitch[['codificado', 'author_type']].drop_duplicates()"
   ]
  },
  {
   "cell_type": "markdown",
   "metadata": {
    "ExecuteTime": {
     "end_time": "2021-02-25T23:32:17.188920Z",
     "start_time": "2021-02-25T23:32:17.159921Z"
    }
   },
   "source": [
    "Aunque este sistema no es complejo de aplicar, nos obliga a mantener el objeto de conversión que hemos construido manualmente.\n",
    "\n",
    "#### Codificación automática\n",
    "\n",
    "Con **sklearn** podemos utilizar un codificador automático:"
   ]
  },
  {
   "cell_type": "code",
   "execution_count": 81,
   "metadata": {
    "ExecuteTime": {
     "end_time": "2022-01-20T21:41:23.754926Z",
     "start_time": "2022-01-20T21:41:23.730928Z"
    }
   },
   "outputs": [
    {
     "data": {
      "text/html": [
       "<div>\n",
       "<style scoped>\n",
       "    .dataframe tbody tr th:only-of-type {\n",
       "        vertical-align: middle;\n",
       "    }\n",
       "\n",
       "    .dataframe tbody tr th {\n",
       "        vertical-align: top;\n",
       "    }\n",
       "\n",
       "    .dataframe thead th {\n",
       "        text-align: right;\n",
       "    }\n",
       "</style>\n",
       "<table border=\"1\" class=\"dataframe\">\n",
       "  <thead>\n",
       "    <tr style=\"text-align: right;\">\n",
       "      <th></th>\n",
       "      <th>codificado</th>\n",
       "      <th>author_type</th>\n",
       "    </tr>\n",
       "  </thead>\n",
       "  <tbody>\n",
       "    <tr>\n",
       "      <th>0</th>\n",
       "      <td>8</td>\n",
       "      <td>contributor</td>\n",
       "    </tr>\n",
       "    <tr>\n",
       "      <th>3</th>\n",
       "      <td>5</td>\n",
       "      <td>associate reviews editor</td>\n",
       "    </tr>\n",
       "    <tr>\n",
       "      <th>4</th>\n",
       "      <td>16</td>\n",
       "      <td>tracks coordinator</td>\n",
       "    </tr>\n",
       "    <tr>\n",
       "      <th>11</th>\n",
       "      <td>6</td>\n",
       "      <td>associate staff writer</td>\n",
       "    </tr>\n",
       "    <tr>\n",
       "      <th>16</th>\n",
       "      <td>7</td>\n",
       "      <td>contributing editor</td>\n",
       "    </tr>\n",
       "    <tr>\n",
       "      <th>25</th>\n",
       "      <td>15</td>\n",
       "      <td>senior staff writer</td>\n",
       "    </tr>\n",
       "    <tr>\n",
       "      <th>26</th>\n",
       "      <td>2</td>\n",
       "      <td>assistant editor</td>\n",
       "    </tr>\n",
       "    <tr>\n",
       "      <th>33</th>\n",
       "      <td>3</td>\n",
       "      <td>associate editor</td>\n",
       "    </tr>\n",
       "    <tr>\n",
       "      <th>53</th>\n",
       "      <td>14</td>\n",
       "      <td>senior editor</td>\n",
       "    </tr>\n",
       "    <tr>\n",
       "      <th>87</th>\n",
       "      <td>11</td>\n",
       "      <td>executive editor</td>\n",
       "    </tr>\n",
       "    <tr>\n",
       "      <th>98</th>\n",
       "      <td>1</td>\n",
       "      <td>Others</td>\n",
       "    </tr>\n",
       "    <tr>\n",
       "      <th>162</th>\n",
       "      <td>9</td>\n",
       "      <td>deputy news editor</td>\n",
       "    </tr>\n",
       "    <tr>\n",
       "      <th>221</th>\n",
       "      <td>4</td>\n",
       "      <td>associate features editor</td>\n",
       "    </tr>\n",
       "    <tr>\n",
       "      <th>487</th>\n",
       "      <td>12</td>\n",
       "      <td>managing editor</td>\n",
       "    </tr>\n",
       "    <tr>\n",
       "      <th>10801</th>\n",
       "      <td>10</td>\n",
       "      <td>editor-in-chief</td>\n",
       "    </tr>\n",
       "    <tr>\n",
       "      <th>13001</th>\n",
       "      <td>13</td>\n",
       "      <td>news director</td>\n",
       "    </tr>\n",
       "  </tbody>\n",
       "</table>\n",
       "</div>"
      ],
      "text/plain": [
       "       codificado                author_type\n",
       "0               8                contributor\n",
       "3               5   associate reviews editor\n",
       "4              16         tracks coordinator\n",
       "11              6     associate staff writer\n",
       "16              7        contributing editor\n",
       "25             15        senior staff writer\n",
       "26              2           assistant editor\n",
       "33              3           associate editor\n",
       "53             14              senior editor\n",
       "87             11           executive editor\n",
       "98              1                     Others\n",
       "162             9         deputy news editor\n",
       "221             4  associate features editor\n",
       "487            12            managing editor\n",
       "10801          10            editor-in-chief\n",
       "13001          13              news director"
      ]
     },
     "execution_count": 81,
     "metadata": {},
     "output_type": "execute_result"
    }
   ],
   "source": [
    "from sklearn.preprocessing import OrdinalEncoder\n",
    "\n",
    "encoder = OrdinalEncoder()\n",
    "\n",
    "df_pitch.author_type.fillna('Others', inplace=True)\n",
    "\n",
    "df_pitch['codificado'] = encoder.fit_transform(df_pitch[['author_type']]).astype(int)+1\n",
    "\n",
    "df_pitch[['codificado', 'author_type']].drop_duplicates()"
   ]
  },
  {
   "cell_type": "markdown",
   "metadata": {
    "ExecuteTime": {
     "end_time": "2021-02-25T23:39:26.917698Z",
     "start_time": "2021-02-25T23:39:26.902727Z"
    }
   },
   "source": [
    "Cuando utilicemos este tipo de transformadores (o cualquier otro de los que hemos visto), es importante conocer cuál ha sido la transformación que han realizado o incorporar la codificación en nuestro proceso de análisis.\n",
    "\n",
    "De lo contrario no podremos deshacer la transformación y podemos sacar conclusiones erróneas ya que la codificación que sigue el encoder no tiene por qué mantenerse entre ejecuciones.\n",
    "\n",
    "#### One-Hot Encoder\n",
    "\n",
    "La conversión de categóricos a enteros es útil pero, en ocasiones, es mejor tratar cada categoría como una variable independiente. \n",
    "\n",
    "Según el algoritmo que utilicemos podemos tener mejor resultado codificando las variables o convirtiendo cada valor del atributo categórico a variables independientes de tipo binario (también llamadas *dummy*).\n",
    "\n",
    "Para ello utilizamos un codificador tipo **One-Hot Encoder**.\n",
    "\n",
    "Este tipo de codificación genera todas las variables necesarias asignando el valor de 1 a la que tiene cada observación y dejando el resto a 0."
   ]
  },
  {
   "cell_type": "code",
   "execution_count": 82,
   "metadata": {
    "ExecuteTime": {
     "end_time": "2021-02-26T23:03:42.227107Z",
     "start_time": "2021-02-26T23:03:42.012506Z"
    }
   },
   "outputs": [
    {
     "data": {
      "text/html": [
       "<div>\n",
       "<style scoped>\n",
       "    .dataframe tbody tr th:only-of-type {\n",
       "        vertical-align: middle;\n",
       "    }\n",
       "\n",
       "    .dataframe tbody tr th {\n",
       "        vertical-align: top;\n",
       "    }\n",
       "\n",
       "    .dataframe thead th {\n",
       "        text-align: right;\n",
       "    }\n",
       "</style>\n",
       "<table border=\"1\" class=\"dataframe\">\n",
       "  <thead>\n",
       "    <tr style=\"text-align: right;\">\n",
       "      <th></th>\n",
       "      <th>reviewid</th>\n",
       "      <th>title</th>\n",
       "      <th>artist</th>\n",
       "      <th>url</th>\n",
       "      <th>score</th>\n",
       "      <th>best_new_music</th>\n",
       "      <th>author</th>\n",
       "      <th>author_type</th>\n",
       "      <th>pub_date</th>\n",
       "      <th>pub_weekday</th>\n",
       "      <th>...</th>\n",
       "      <th>x0_contributing editor</th>\n",
       "      <th>x0_contributor</th>\n",
       "      <th>x0_deputy news editor</th>\n",
       "      <th>x0_editor-in-chief</th>\n",
       "      <th>x0_executive editor</th>\n",
       "      <th>x0_managing editor</th>\n",
       "      <th>x0_news director</th>\n",
       "      <th>x0_senior editor</th>\n",
       "      <th>x0_senior staff writer</th>\n",
       "      <th>x0_tracks coordinator</th>\n",
       "    </tr>\n",
       "  </thead>\n",
       "  <tbody>\n",
       "    <tr>\n",
       "      <th>0</th>\n",
       "      <td>22703</td>\n",
       "      <td>mezzanine</td>\n",
       "      <td>massive attack</td>\n",
       "      <td>http://pitchfork.com/reviews/albums/22703-mezz...</td>\n",
       "      <td>9.3</td>\n",
       "      <td>0</td>\n",
       "      <td>nate patrin</td>\n",
       "      <td>contributor</td>\n",
       "      <td>2017-01-08</td>\n",
       "      <td>6</td>\n",
       "      <td>...</td>\n",
       "      <td>0.0</td>\n",
       "      <td>1.0</td>\n",
       "      <td>0.0</td>\n",
       "      <td>0.0</td>\n",
       "      <td>0.0</td>\n",
       "      <td>0.0</td>\n",
       "      <td>0.0</td>\n",
       "      <td>0.0</td>\n",
       "      <td>0.0</td>\n",
       "      <td>0.0</td>\n",
       "    </tr>\n",
       "    <tr>\n",
       "      <th>1</th>\n",
       "      <td>22721</td>\n",
       "      <td>prelapsarian</td>\n",
       "      <td>krallice</td>\n",
       "      <td>http://pitchfork.com/reviews/albums/22721-prel...</td>\n",
       "      <td>7.9</td>\n",
       "      <td>0</td>\n",
       "      <td>zoe camp</td>\n",
       "      <td>contributor</td>\n",
       "      <td>2017-01-07</td>\n",
       "      <td>5</td>\n",
       "      <td>...</td>\n",
       "      <td>0.0</td>\n",
       "      <td>1.0</td>\n",
       "      <td>0.0</td>\n",
       "      <td>0.0</td>\n",
       "      <td>0.0</td>\n",
       "      <td>0.0</td>\n",
       "      <td>0.0</td>\n",
       "      <td>0.0</td>\n",
       "      <td>0.0</td>\n",
       "      <td>0.0</td>\n",
       "    </tr>\n",
       "    <tr>\n",
       "      <th>2</th>\n",
       "      <td>22659</td>\n",
       "      <td>all of them naturals</td>\n",
       "      <td>uranium club</td>\n",
       "      <td>http://pitchfork.com/reviews/albums/22659-all-...</td>\n",
       "      <td>7.3</td>\n",
       "      <td>0</td>\n",
       "      <td>david glickman</td>\n",
       "      <td>contributor</td>\n",
       "      <td>2017-01-07</td>\n",
       "      <td>5</td>\n",
       "      <td>...</td>\n",
       "      <td>0.0</td>\n",
       "      <td>1.0</td>\n",
       "      <td>0.0</td>\n",
       "      <td>0.0</td>\n",
       "      <td>0.0</td>\n",
       "      <td>0.0</td>\n",
       "      <td>0.0</td>\n",
       "      <td>0.0</td>\n",
       "      <td>0.0</td>\n",
       "      <td>0.0</td>\n",
       "    </tr>\n",
       "    <tr>\n",
       "      <th>3</th>\n",
       "      <td>22661</td>\n",
       "      <td>first songs</td>\n",
       "      <td>kleenex, liliput</td>\n",
       "      <td>http://pitchfork.com/reviews/albums/22661-firs...</td>\n",
       "      <td>9.0</td>\n",
       "      <td>1</td>\n",
       "      <td>jenn pelly</td>\n",
       "      <td>associate reviews editor</td>\n",
       "      <td>2017-01-06</td>\n",
       "      <td>4</td>\n",
       "      <td>...</td>\n",
       "      <td>0.0</td>\n",
       "      <td>0.0</td>\n",
       "      <td>0.0</td>\n",
       "      <td>0.0</td>\n",
       "      <td>0.0</td>\n",
       "      <td>0.0</td>\n",
       "      <td>0.0</td>\n",
       "      <td>0.0</td>\n",
       "      <td>0.0</td>\n",
       "      <td>0.0</td>\n",
       "    </tr>\n",
       "    <tr>\n",
       "      <th>4</th>\n",
       "      <td>22725</td>\n",
       "      <td>new start</td>\n",
       "      <td>taso</td>\n",
       "      <td>http://pitchfork.com/reviews/albums/22725-new-...</td>\n",
       "      <td>8.1</td>\n",
       "      <td>0</td>\n",
       "      <td>kevin lozano</td>\n",
       "      <td>tracks coordinator</td>\n",
       "      <td>2017-01-06</td>\n",
       "      <td>4</td>\n",
       "      <td>...</td>\n",
       "      <td>0.0</td>\n",
       "      <td>0.0</td>\n",
       "      <td>0.0</td>\n",
       "      <td>0.0</td>\n",
       "      <td>0.0</td>\n",
       "      <td>0.0</td>\n",
       "      <td>0.0</td>\n",
       "      <td>0.0</td>\n",
       "      <td>0.0</td>\n",
       "      <td>1.0</td>\n",
       "    </tr>\n",
       "    <tr>\n",
       "      <th>...</th>\n",
       "      <td>...</td>\n",
       "      <td>...</td>\n",
       "      <td>...</td>\n",
       "      <td>...</td>\n",
       "      <td>...</td>\n",
       "      <td>...</td>\n",
       "      <td>...</td>\n",
       "      <td>...</td>\n",
       "      <td>...</td>\n",
       "      <td>...</td>\n",
       "      <td>...</td>\n",
       "      <td>...</td>\n",
       "      <td>...</td>\n",
       "      <td>...</td>\n",
       "      <td>...</td>\n",
       "      <td>...</td>\n",
       "      <td>...</td>\n",
       "      <td>...</td>\n",
       "      <td>...</td>\n",
       "      <td>...</td>\n",
       "      <td>...</td>\n",
       "    </tr>\n",
       "    <tr>\n",
       "      <th>18388</th>\n",
       "      <td>1535</td>\n",
       "      <td>let us replay!</td>\n",
       "      <td>coldcut</td>\n",
       "      <td>http://pitchfork.com/reviews/albums/1535-let-u...</td>\n",
       "      <td>8.9</td>\n",
       "      <td>0</td>\n",
       "      <td>james p. wisdom</td>\n",
       "      <td>Others</td>\n",
       "      <td>1999-01-26</td>\n",
       "      <td>1</td>\n",
       "      <td>...</td>\n",
       "      <td>0.0</td>\n",
       "      <td>0.0</td>\n",
       "      <td>0.0</td>\n",
       "      <td>0.0</td>\n",
       "      <td>0.0</td>\n",
       "      <td>0.0</td>\n",
       "      <td>0.0</td>\n",
       "      <td>0.0</td>\n",
       "      <td>0.0</td>\n",
       "      <td>0.0</td>\n",
       "    </tr>\n",
       "    <tr>\n",
       "      <th>18389</th>\n",
       "      <td>1341</td>\n",
       "      <td>1999</td>\n",
       "      <td>cassius</td>\n",
       "      <td>http://pitchfork.com/reviews/albums/1341-1999/</td>\n",
       "      <td>4.8</td>\n",
       "      <td>0</td>\n",
       "      <td>james p. wisdom</td>\n",
       "      <td>Others</td>\n",
       "      <td>1999-01-26</td>\n",
       "      <td>1</td>\n",
       "      <td>...</td>\n",
       "      <td>0.0</td>\n",
       "      <td>0.0</td>\n",
       "      <td>0.0</td>\n",
       "      <td>0.0</td>\n",
       "      <td>0.0</td>\n",
       "      <td>0.0</td>\n",
       "      <td>0.0</td>\n",
       "      <td>0.0</td>\n",
       "      <td>0.0</td>\n",
       "      <td>0.0</td>\n",
       "    </tr>\n",
       "    <tr>\n",
       "      <th>18390</th>\n",
       "      <td>5376</td>\n",
       "      <td>out of tune</td>\n",
       "      <td>mojave 3</td>\n",
       "      <td>http://pitchfork.com/reviews/albums/5376-out-o...</td>\n",
       "      <td>6.3</td>\n",
       "      <td>0</td>\n",
       "      <td>jason josephes</td>\n",
       "      <td>contributor</td>\n",
       "      <td>1999-01-12</td>\n",
       "      <td>1</td>\n",
       "      <td>...</td>\n",
       "      <td>0.0</td>\n",
       "      <td>1.0</td>\n",
       "      <td>0.0</td>\n",
       "      <td>0.0</td>\n",
       "      <td>0.0</td>\n",
       "      <td>0.0</td>\n",
       "      <td>0.0</td>\n",
       "      <td>0.0</td>\n",
       "      <td>0.0</td>\n",
       "      <td>0.0</td>\n",
       "    </tr>\n",
       "    <tr>\n",
       "      <th>18391</th>\n",
       "      <td>2413</td>\n",
       "      <td>singles breaking up, vol. 1</td>\n",
       "      <td>don caballero</td>\n",
       "      <td>http://pitchfork.com/reviews/albums/2413-singl...</td>\n",
       "      <td>7.2</td>\n",
       "      <td>0</td>\n",
       "      <td>james p. wisdom</td>\n",
       "      <td>Others</td>\n",
       "      <td>1999-01-12</td>\n",
       "      <td>1</td>\n",
       "      <td>...</td>\n",
       "      <td>0.0</td>\n",
       "      <td>0.0</td>\n",
       "      <td>0.0</td>\n",
       "      <td>0.0</td>\n",
       "      <td>0.0</td>\n",
       "      <td>0.0</td>\n",
       "      <td>0.0</td>\n",
       "      <td>0.0</td>\n",
       "      <td>0.0</td>\n",
       "      <td>0.0</td>\n",
       "    </tr>\n",
       "    <tr>\n",
       "      <th>18392</th>\n",
       "      <td>3723</td>\n",
       "      <td>left for dead in malaysia</td>\n",
       "      <td>neil hamburger</td>\n",
       "      <td>http://pitchfork.com/reviews/albums/3723-left-...</td>\n",
       "      <td>6.5</td>\n",
       "      <td>0</td>\n",
       "      <td>jason josephes</td>\n",
       "      <td>contributor</td>\n",
       "      <td>1999-01-05</td>\n",
       "      <td>1</td>\n",
       "      <td>...</td>\n",
       "      <td>0.0</td>\n",
       "      <td>1.0</td>\n",
       "      <td>0.0</td>\n",
       "      <td>0.0</td>\n",
       "      <td>0.0</td>\n",
       "      <td>0.0</td>\n",
       "      <td>0.0</td>\n",
       "      <td>0.0</td>\n",
       "      <td>0.0</td>\n",
       "      <td>0.0</td>\n",
       "    </tr>\n",
       "  </tbody>\n",
       "</table>\n",
       "<p>18389 rows × 29 columns</p>\n",
       "</div>"
      ],
      "text/plain": [
       "       reviewid                        title            artist  \\\n",
       "0         22703                    mezzanine    massive attack   \n",
       "1         22721                 prelapsarian          krallice   \n",
       "2         22659         all of them naturals      uranium club   \n",
       "3         22661                  first songs  kleenex, liliput   \n",
       "4         22725                    new start              taso   \n",
       "...         ...                          ...               ...   \n",
       "18388      1535               let us replay!           coldcut   \n",
       "18389      1341                         1999           cassius   \n",
       "18390      5376                  out of tune          mojave 3   \n",
       "18391      2413  singles breaking up, vol. 1     don caballero   \n",
       "18392      3723    left for dead in malaysia    neil hamburger   \n",
       "\n",
       "                                                     url  score  \\\n",
       "0      http://pitchfork.com/reviews/albums/22703-mezz...    9.3   \n",
       "1      http://pitchfork.com/reviews/albums/22721-prel...    7.9   \n",
       "2      http://pitchfork.com/reviews/albums/22659-all-...    7.3   \n",
       "3      http://pitchfork.com/reviews/albums/22661-firs...    9.0   \n",
       "4      http://pitchfork.com/reviews/albums/22725-new-...    8.1   \n",
       "...                                                  ...    ...   \n",
       "18388  http://pitchfork.com/reviews/albums/1535-let-u...    8.9   \n",
       "18389     http://pitchfork.com/reviews/albums/1341-1999/    4.8   \n",
       "18390  http://pitchfork.com/reviews/albums/5376-out-o...    6.3   \n",
       "18391  http://pitchfork.com/reviews/albums/2413-singl...    7.2   \n",
       "18392  http://pitchfork.com/reviews/albums/3723-left-...    6.5   \n",
       "\n",
       "       best_new_music           author               author_type    pub_date  \\\n",
       "0                   0      nate patrin               contributor  2017-01-08   \n",
       "1                   0         zoe camp               contributor  2017-01-07   \n",
       "2                   0   david glickman               contributor  2017-01-07   \n",
       "3                   1       jenn pelly  associate reviews editor  2017-01-06   \n",
       "4                   0     kevin lozano        tracks coordinator  2017-01-06   \n",
       "...               ...              ...                       ...         ...   \n",
       "18388               0  james p. wisdom                    Others  1999-01-26   \n",
       "18389               0  james p. wisdom                    Others  1999-01-26   \n",
       "18390               0   jason josephes               contributor  1999-01-12   \n",
       "18391               0  james p. wisdom                    Others  1999-01-12   \n",
       "18392               0   jason josephes               contributor  1999-01-05   \n",
       "\n",
       "       pub_weekday  ...  x0_contributing editor  x0_contributor  \\\n",
       "0                6  ...                     0.0             1.0   \n",
       "1                5  ...                     0.0             1.0   \n",
       "2                5  ...                     0.0             1.0   \n",
       "3                4  ...                     0.0             0.0   \n",
       "4                4  ...                     0.0             0.0   \n",
       "...            ...  ...                     ...             ...   \n",
       "18388            1  ...                     0.0             0.0   \n",
       "18389            1  ...                     0.0             0.0   \n",
       "18390            1  ...                     0.0             1.0   \n",
       "18391            1  ...                     0.0             0.0   \n",
       "18392            1  ...                     0.0             1.0   \n",
       "\n",
       "       x0_deputy news editor  x0_editor-in-chief  x0_executive editor  \\\n",
       "0                        0.0                 0.0                  0.0   \n",
       "1                        0.0                 0.0                  0.0   \n",
       "2                        0.0                 0.0                  0.0   \n",
       "3                        0.0                 0.0                  0.0   \n",
       "4                        0.0                 0.0                  0.0   \n",
       "...                      ...                 ...                  ...   \n",
       "18388                    0.0                 0.0                  0.0   \n",
       "18389                    0.0                 0.0                  0.0   \n",
       "18390                    0.0                 0.0                  0.0   \n",
       "18391                    0.0                 0.0                  0.0   \n",
       "18392                    0.0                 0.0                  0.0   \n",
       "\n",
       "       x0_managing editor  x0_news director  x0_senior editor  \\\n",
       "0                     0.0               0.0               0.0   \n",
       "1                     0.0               0.0               0.0   \n",
       "2                     0.0               0.0               0.0   \n",
       "3                     0.0               0.0               0.0   \n",
       "4                     0.0               0.0               0.0   \n",
       "...                   ...               ...               ...   \n",
       "18388                 0.0               0.0               0.0   \n",
       "18389                 0.0               0.0               0.0   \n",
       "18390                 0.0               0.0               0.0   \n",
       "18391                 0.0               0.0               0.0   \n",
       "18392                 0.0               0.0               0.0   \n",
       "\n",
       "       x0_senior staff writer  x0_tracks coordinator  \n",
       "0                         0.0                    0.0  \n",
       "1                         0.0                    0.0  \n",
       "2                         0.0                    0.0  \n",
       "3                         0.0                    0.0  \n",
       "4                         0.0                    1.0  \n",
       "...                       ...                    ...  \n",
       "18388                     0.0                    0.0  \n",
       "18389                     0.0                    0.0  \n",
       "18390                     0.0                    0.0  \n",
       "18391                     0.0                    0.0  \n",
       "18392                     0.0                    0.0  \n",
       "\n",
       "[18389 rows x 29 columns]"
      ]
     },
     "execution_count": 82,
     "metadata": {},
     "output_type": "execute_result"
    }
   ],
   "source": [
    "df_pitch = leer_pitchfork()\n",
    "\n",
    "from sklearn.preprocessing import OneHotEncoder\n",
    "\n",
    "encoder = OneHotEncoder(sparse=False)\n",
    "\n",
    "df_pitch.author_type.fillna('Others', inplace=True)\n",
    "\n",
    "codif = encoder.fit_transform(df_pitch[['author_type']])\n",
    "\n",
    "df_pitch[encoder.get_feature_names()] = codif\n",
    "\n",
    "df_pitch"
   ]
  },
  {
   "cell_type": "markdown",
   "metadata": {},
   "source": [
    "## Densificación\n",
    "\n",
    "Un caso especial al trabajar con datos es la necesidad de crear un maestro de valores.\n",
    "\n",
    "Por ejemplo, tenemos las ventas de una tienda a nivel familia de productos.\n",
    "\n",
    "Si queremos obtener las ventas para ca\n",
    "da familia cada día, tendremos huecos en los días en que una familia no ha tenido venta.\n",
    "\n",
    "Es habitual en este tipo de situación, generar un maestro con todos los pares días - familias posibles para luego rellenar esos pares con los datos existentes o 0 si no hubo venta.\n",
    "\n",
    "Este proceso se llama densificación."
   ]
  },
  {
   "cell_type": "markdown",
   "metadata": {},
   "source": [
    "### Ejercicio 11. Densificación\n",
    "\n",
    "Dados los siguientes datos:\n"
   ]
  },
  {
   "cell_type": "code",
   "execution_count": 83,
   "metadata": {
    "ExecuteTime": {
     "end_time": "2022-01-20T22:28:01.382561Z",
     "start_time": "2022-01-20T22:28:01.363560Z"
    }
   },
   "outputs": [
    {
     "name": "stdout",
     "output_type": "stream",
     "text": [
      "['Cliente 1', 'Cliente 2', 'Cliente 3', 'Cliente 4', 'Cliente 5', 'Cliente 6'] [datetime.datetime(2022, 1, 1, 0, 0), datetime.datetime(2022, 1, 2, 0, 0), datetime.datetime(2022, 1, 3, 0, 0), datetime.datetime(2022, 1, 4, 0, 0), datetime.datetime(2022, 1, 5, 0, 0), datetime.datetime(2022, 1, 6, 0, 0), datetime.datetime(2022, 1, 7, 0, 0), datetime.datetime(2022, 1, 8, 0, 0), datetime.datetime(2022, 1, 9, 0, 0), datetime.datetime(2022, 1, 10, 0, 0)]\n"
     ]
    }
   ],
   "source": [
    "from datetime import datetime\n",
    "\n",
    "fechas = []\n",
    "clientes = []\n",
    "for x in range(1, 11):\n",
    "    fechas.append(datetime(2022, 1, x))\n",
    "\n",
    "for y in range(1,7):\n",
    "    clientes.append(f'Cliente {y}')\n",
    "\n",
    "    \n",
    "print(clientes, fechas)"
   ]
  },
  {
   "cell_type": "markdown",
   "metadata": {},
   "source": [
    "Crea un dataframe para cada lista de datos y únelos mediante un cross join"
   ]
  },
  {
   "cell_type": "code",
   "execution_count": 84,
   "metadata": {},
   "outputs": [
    {
     "data": {
      "text/html": [
       "<div>\n",
       "<style scoped>\n",
       "    .dataframe tbody tr th:only-of-type {\n",
       "        vertical-align: middle;\n",
       "    }\n",
       "\n",
       "    .dataframe tbody tr th {\n",
       "        vertical-align: top;\n",
       "    }\n",
       "\n",
       "    .dataframe thead th {\n",
       "        text-align: right;\n",
       "    }\n",
       "</style>\n",
       "<table border=\"1\" class=\"dataframe\">\n",
       "  <thead>\n",
       "    <tr style=\"text-align: right;\">\n",
       "      <th></th>\n",
       "      <th>Cod</th>\n",
       "      <th>Fecha</th>\n",
       "    </tr>\n",
       "  </thead>\n",
       "  <tbody>\n",
       "    <tr>\n",
       "      <th>0</th>\n",
       "      <td>Cliente 1</td>\n",
       "      <td>2022-01-01</td>\n",
       "    </tr>\n",
       "    <tr>\n",
       "      <th>1</th>\n",
       "      <td>Cliente 1</td>\n",
       "      <td>2022-01-02</td>\n",
       "    </tr>\n",
       "    <tr>\n",
       "      <th>2</th>\n",
       "      <td>Cliente 1</td>\n",
       "      <td>2022-01-03</td>\n",
       "    </tr>\n",
       "    <tr>\n",
       "      <th>3</th>\n",
       "      <td>Cliente 1</td>\n",
       "      <td>2022-01-04</td>\n",
       "    </tr>\n",
       "    <tr>\n",
       "      <th>4</th>\n",
       "      <td>Cliente 1</td>\n",
       "      <td>2022-01-05</td>\n",
       "    </tr>\n",
       "    <tr>\n",
       "      <th>5</th>\n",
       "      <td>Cliente 1</td>\n",
       "      <td>2022-01-06</td>\n",
       "    </tr>\n",
       "    <tr>\n",
       "      <th>6</th>\n",
       "      <td>Cliente 1</td>\n",
       "      <td>2022-01-07</td>\n",
       "    </tr>\n",
       "    <tr>\n",
       "      <th>7</th>\n",
       "      <td>Cliente 1</td>\n",
       "      <td>2022-01-08</td>\n",
       "    </tr>\n",
       "    <tr>\n",
       "      <th>8</th>\n",
       "      <td>Cliente 1</td>\n",
       "      <td>2022-01-09</td>\n",
       "    </tr>\n",
       "    <tr>\n",
       "      <th>9</th>\n",
       "      <td>Cliente 1</td>\n",
       "      <td>2022-01-10</td>\n",
       "    </tr>\n",
       "    <tr>\n",
       "      <th>10</th>\n",
       "      <td>Cliente 2</td>\n",
       "      <td>2022-01-01</td>\n",
       "    </tr>\n",
       "    <tr>\n",
       "      <th>11</th>\n",
       "      <td>Cliente 2</td>\n",
       "      <td>2022-01-02</td>\n",
       "    </tr>\n",
       "    <tr>\n",
       "      <th>12</th>\n",
       "      <td>Cliente 2</td>\n",
       "      <td>2022-01-03</td>\n",
       "    </tr>\n",
       "    <tr>\n",
       "      <th>13</th>\n",
       "      <td>Cliente 2</td>\n",
       "      <td>2022-01-04</td>\n",
       "    </tr>\n",
       "    <tr>\n",
       "      <th>14</th>\n",
       "      <td>Cliente 2</td>\n",
       "      <td>2022-01-05</td>\n",
       "    </tr>\n",
       "    <tr>\n",
       "      <th>15</th>\n",
       "      <td>Cliente 2</td>\n",
       "      <td>2022-01-06</td>\n",
       "    </tr>\n",
       "    <tr>\n",
       "      <th>16</th>\n",
       "      <td>Cliente 2</td>\n",
       "      <td>2022-01-07</td>\n",
       "    </tr>\n",
       "    <tr>\n",
       "      <th>17</th>\n",
       "      <td>Cliente 2</td>\n",
       "      <td>2022-01-08</td>\n",
       "    </tr>\n",
       "    <tr>\n",
       "      <th>18</th>\n",
       "      <td>Cliente 2</td>\n",
       "      <td>2022-01-09</td>\n",
       "    </tr>\n",
       "    <tr>\n",
       "      <th>19</th>\n",
       "      <td>Cliente 2</td>\n",
       "      <td>2022-01-10</td>\n",
       "    </tr>\n",
       "    <tr>\n",
       "      <th>20</th>\n",
       "      <td>Cliente 3</td>\n",
       "      <td>2022-01-01</td>\n",
       "    </tr>\n",
       "    <tr>\n",
       "      <th>21</th>\n",
       "      <td>Cliente 3</td>\n",
       "      <td>2022-01-02</td>\n",
       "    </tr>\n",
       "    <tr>\n",
       "      <th>22</th>\n",
       "      <td>Cliente 3</td>\n",
       "      <td>2022-01-03</td>\n",
       "    </tr>\n",
       "    <tr>\n",
       "      <th>23</th>\n",
       "      <td>Cliente 3</td>\n",
       "      <td>2022-01-04</td>\n",
       "    </tr>\n",
       "    <tr>\n",
       "      <th>24</th>\n",
       "      <td>Cliente 3</td>\n",
       "      <td>2022-01-05</td>\n",
       "    </tr>\n",
       "    <tr>\n",
       "      <th>25</th>\n",
       "      <td>Cliente 3</td>\n",
       "      <td>2022-01-06</td>\n",
       "    </tr>\n",
       "    <tr>\n",
       "      <th>26</th>\n",
       "      <td>Cliente 3</td>\n",
       "      <td>2022-01-07</td>\n",
       "    </tr>\n",
       "    <tr>\n",
       "      <th>27</th>\n",
       "      <td>Cliente 3</td>\n",
       "      <td>2022-01-08</td>\n",
       "    </tr>\n",
       "    <tr>\n",
       "      <th>28</th>\n",
       "      <td>Cliente 3</td>\n",
       "      <td>2022-01-09</td>\n",
       "    </tr>\n",
       "    <tr>\n",
       "      <th>29</th>\n",
       "      <td>Cliente 3</td>\n",
       "      <td>2022-01-10</td>\n",
       "    </tr>\n",
       "    <tr>\n",
       "      <th>30</th>\n",
       "      <td>Cliente 4</td>\n",
       "      <td>2022-01-01</td>\n",
       "    </tr>\n",
       "    <tr>\n",
       "      <th>31</th>\n",
       "      <td>Cliente 4</td>\n",
       "      <td>2022-01-02</td>\n",
       "    </tr>\n",
       "    <tr>\n",
       "      <th>32</th>\n",
       "      <td>Cliente 4</td>\n",
       "      <td>2022-01-03</td>\n",
       "    </tr>\n",
       "    <tr>\n",
       "      <th>33</th>\n",
       "      <td>Cliente 4</td>\n",
       "      <td>2022-01-04</td>\n",
       "    </tr>\n",
       "    <tr>\n",
       "      <th>34</th>\n",
       "      <td>Cliente 4</td>\n",
       "      <td>2022-01-05</td>\n",
       "    </tr>\n",
       "    <tr>\n",
       "      <th>35</th>\n",
       "      <td>Cliente 4</td>\n",
       "      <td>2022-01-06</td>\n",
       "    </tr>\n",
       "    <tr>\n",
       "      <th>36</th>\n",
       "      <td>Cliente 4</td>\n",
       "      <td>2022-01-07</td>\n",
       "    </tr>\n",
       "    <tr>\n",
       "      <th>37</th>\n",
       "      <td>Cliente 4</td>\n",
       "      <td>2022-01-08</td>\n",
       "    </tr>\n",
       "    <tr>\n",
       "      <th>38</th>\n",
       "      <td>Cliente 4</td>\n",
       "      <td>2022-01-09</td>\n",
       "    </tr>\n",
       "    <tr>\n",
       "      <th>39</th>\n",
       "      <td>Cliente 4</td>\n",
       "      <td>2022-01-10</td>\n",
       "    </tr>\n",
       "    <tr>\n",
       "      <th>40</th>\n",
       "      <td>Cliente 5</td>\n",
       "      <td>2022-01-01</td>\n",
       "    </tr>\n",
       "    <tr>\n",
       "      <th>41</th>\n",
       "      <td>Cliente 5</td>\n",
       "      <td>2022-01-02</td>\n",
       "    </tr>\n",
       "    <tr>\n",
       "      <th>42</th>\n",
       "      <td>Cliente 5</td>\n",
       "      <td>2022-01-03</td>\n",
       "    </tr>\n",
       "    <tr>\n",
       "      <th>43</th>\n",
       "      <td>Cliente 5</td>\n",
       "      <td>2022-01-04</td>\n",
       "    </tr>\n",
       "    <tr>\n",
       "      <th>44</th>\n",
       "      <td>Cliente 5</td>\n",
       "      <td>2022-01-05</td>\n",
       "    </tr>\n",
       "    <tr>\n",
       "      <th>45</th>\n",
       "      <td>Cliente 5</td>\n",
       "      <td>2022-01-06</td>\n",
       "    </tr>\n",
       "    <tr>\n",
       "      <th>46</th>\n",
       "      <td>Cliente 5</td>\n",
       "      <td>2022-01-07</td>\n",
       "    </tr>\n",
       "    <tr>\n",
       "      <th>47</th>\n",
       "      <td>Cliente 5</td>\n",
       "      <td>2022-01-08</td>\n",
       "    </tr>\n",
       "    <tr>\n",
       "      <th>48</th>\n",
       "      <td>Cliente 5</td>\n",
       "      <td>2022-01-09</td>\n",
       "    </tr>\n",
       "    <tr>\n",
       "      <th>49</th>\n",
       "      <td>Cliente 5</td>\n",
       "      <td>2022-01-10</td>\n",
       "    </tr>\n",
       "    <tr>\n",
       "      <th>50</th>\n",
       "      <td>Cliente 6</td>\n",
       "      <td>2022-01-01</td>\n",
       "    </tr>\n",
       "    <tr>\n",
       "      <th>51</th>\n",
       "      <td>Cliente 6</td>\n",
       "      <td>2022-01-02</td>\n",
       "    </tr>\n",
       "    <tr>\n",
       "      <th>52</th>\n",
       "      <td>Cliente 6</td>\n",
       "      <td>2022-01-03</td>\n",
       "    </tr>\n",
       "    <tr>\n",
       "      <th>53</th>\n",
       "      <td>Cliente 6</td>\n",
       "      <td>2022-01-04</td>\n",
       "    </tr>\n",
       "    <tr>\n",
       "      <th>54</th>\n",
       "      <td>Cliente 6</td>\n",
       "      <td>2022-01-05</td>\n",
       "    </tr>\n",
       "    <tr>\n",
       "      <th>55</th>\n",
       "      <td>Cliente 6</td>\n",
       "      <td>2022-01-06</td>\n",
       "    </tr>\n",
       "    <tr>\n",
       "      <th>56</th>\n",
       "      <td>Cliente 6</td>\n",
       "      <td>2022-01-07</td>\n",
       "    </tr>\n",
       "    <tr>\n",
       "      <th>57</th>\n",
       "      <td>Cliente 6</td>\n",
       "      <td>2022-01-08</td>\n",
       "    </tr>\n",
       "    <tr>\n",
       "      <th>58</th>\n",
       "      <td>Cliente 6</td>\n",
       "      <td>2022-01-09</td>\n",
       "    </tr>\n",
       "    <tr>\n",
       "      <th>59</th>\n",
       "      <td>Cliente 6</td>\n",
       "      <td>2022-01-10</td>\n",
       "    </tr>\n",
       "  </tbody>\n",
       "</table>\n",
       "</div>"
      ],
      "text/plain": [
       "          Cod      Fecha\n",
       "0   Cliente 1 2022-01-01\n",
       "1   Cliente 1 2022-01-02\n",
       "2   Cliente 1 2022-01-03\n",
       "3   Cliente 1 2022-01-04\n",
       "4   Cliente 1 2022-01-05\n",
       "5   Cliente 1 2022-01-06\n",
       "6   Cliente 1 2022-01-07\n",
       "7   Cliente 1 2022-01-08\n",
       "8   Cliente 1 2022-01-09\n",
       "9   Cliente 1 2022-01-10\n",
       "10  Cliente 2 2022-01-01\n",
       "11  Cliente 2 2022-01-02\n",
       "12  Cliente 2 2022-01-03\n",
       "13  Cliente 2 2022-01-04\n",
       "14  Cliente 2 2022-01-05\n",
       "15  Cliente 2 2022-01-06\n",
       "16  Cliente 2 2022-01-07\n",
       "17  Cliente 2 2022-01-08\n",
       "18  Cliente 2 2022-01-09\n",
       "19  Cliente 2 2022-01-10\n",
       "20  Cliente 3 2022-01-01\n",
       "21  Cliente 3 2022-01-02\n",
       "22  Cliente 3 2022-01-03\n",
       "23  Cliente 3 2022-01-04\n",
       "24  Cliente 3 2022-01-05\n",
       "25  Cliente 3 2022-01-06\n",
       "26  Cliente 3 2022-01-07\n",
       "27  Cliente 3 2022-01-08\n",
       "28  Cliente 3 2022-01-09\n",
       "29  Cliente 3 2022-01-10\n",
       "30  Cliente 4 2022-01-01\n",
       "31  Cliente 4 2022-01-02\n",
       "32  Cliente 4 2022-01-03\n",
       "33  Cliente 4 2022-01-04\n",
       "34  Cliente 4 2022-01-05\n",
       "35  Cliente 4 2022-01-06\n",
       "36  Cliente 4 2022-01-07\n",
       "37  Cliente 4 2022-01-08\n",
       "38  Cliente 4 2022-01-09\n",
       "39  Cliente 4 2022-01-10\n",
       "40  Cliente 5 2022-01-01\n",
       "41  Cliente 5 2022-01-02\n",
       "42  Cliente 5 2022-01-03\n",
       "43  Cliente 5 2022-01-04\n",
       "44  Cliente 5 2022-01-05\n",
       "45  Cliente 5 2022-01-06\n",
       "46  Cliente 5 2022-01-07\n",
       "47  Cliente 5 2022-01-08\n",
       "48  Cliente 5 2022-01-09\n",
       "49  Cliente 5 2022-01-10\n",
       "50  Cliente 6 2022-01-01\n",
       "51  Cliente 6 2022-01-02\n",
       "52  Cliente 6 2022-01-03\n",
       "53  Cliente 6 2022-01-04\n",
       "54  Cliente 6 2022-01-05\n",
       "55  Cliente 6 2022-01-06\n",
       "56  Cliente 6 2022-01-07\n",
       "57  Cliente 6 2022-01-08\n",
       "58  Cliente 6 2022-01-09\n",
       "59  Cliente 6 2022-01-10"
      ]
     },
     "execution_count": 84,
     "metadata": {},
     "output_type": "execute_result"
    }
   ],
   "source": [
    "clientes = pd.DataFrame(clientes)\n",
    "\n",
    "fechas = pd.DataFrame(fechas)\n",
    "clientes['key'] =1\n",
    "fechas['key'] = 1\n",
    "\n",
    "df = pd.merge(clientes,fechas,on='key').drop('key',1)\n",
    "df.columns = ['Cod','Fecha']\n",
    "df"
   ]
  },
  {
   "cell_type": "markdown",
   "metadata": {},
   "source": [
    "# Modificación de la dimensionalidad\n",
    "\n",
    "El objetivo de la modificación de la dimensionalidad es garantizar que se trabaja con la información necesaria para llegar a la mejor conclusión posible.\n",
    "\n",
    "Esto incluye tanto la eliminación de atributos que no aporten información adicional como la adición de nuevos atributos que puedan ayudarnos a entender mejor los datos o a explicar mejor la variable analizada.\n",
    "\n",
    "## Reducción de la dimensionalidad\n",
    "\n",
    "Al principio de este cuaderno, cuando eliminamos el campo \"Unnamed: 0\" del dataset de Pitchfork, había otros atributos que también se podrían considerar comos supérfluos.\n",
    "\n",
    "Se trata de los campos desagregados de día, mes y año. Sin embargo, tener las fechas desagregadas por día, mes y año puede ser incluso deseable según la situación ya que nos permitirá detectar más fácilmente patrones que suceden en determinados periodos que pueden ser difíciles (o imposibles) de detectar si no se mantienen esos campos por separado.\n",
    "\n",
    "Por ejemplo, detectar algo que sucede los sábados es muy complicado si no incluimos el día de la semana (ya sea como numérico o como texto) como atributo independiente. De la misma forma, encontrar algo que sucede en agosto es más sencillo si tenemos un campo **mes** que aisla esa característica de los datos.\n",
    "\n",
    "Es responsabilidad del analista interpretar si las fechas por separado pueden contener información **causal** o, si por el contrario, no impactan en el objetivo del análisis.\n",
    "\n",
    "Por ejemplo, si analizamos el tiempo meteorológico, podemos obviar el día de la semana ya que, aunque puede ser cierto que los fines de semana haga peor tiempo que durante la semana, no debemos pensar que hay un patrón climático alineado con que un día sea laborable o no.\n",
    "\n",
    "En los datos de Pitchfork, consideramos que la publicación de una review tiene más que ver con motivos mercadotécnicos que no con la calidad de la canción por lo que, inicialmente, consideraríamos que podemos eliminar esos campos.\n",
    "\n",
    "Reducir la dimensionalidad puede ser, por lo tanto, un proceso experto que un analista realiza basándose en su experiencia pero, como todo en Data Science, también existen técnicas con resultados predecibles que podemos utilizar para intentar \"purgar\" nuestro conjunto de datos de atributos que no aportan valor.\n",
    "\n",
    "Veremos cómo reducir la cardinalidad mediante el uso de:\n",
    "- Correlación\n",
    "- PCA\n",
    "\n",
    "El impacto de la dimensionalidad puede verse en el siguiente gráfico, en él se muestra el crecimiento del tiempo de ejecución de un algoritmo para diferentes categorías de complejidad computacional:"
   ]
  },
  {
   "cell_type": "code",
   "execution_count": 85,
   "metadata": {
    "ExecuteTime": {
     "end_time": "2022-01-21T23:11:45.185361Z",
     "start_time": "2022-01-21T23:11:44.956351Z"
    }
   },
   "outputs": [
    {
     "data": {
      "text/plain": [
       "<AxesSubplot:xlabel='x', ylabel='value'>"
      ]
     },
     "execution_count": 85,
     "metadata": {},
     "output_type": "execute_result"
    },
    {
     "data": {
      "image/png": "[encoded data removed]",
      "text/plain": [
       "<Figure size 1152x288 with 1 Axes>"
      ]
     },
     "metadata": {
      "needs_background": "light"
     },
     "output_type": "display_data"
    }
   ],
   "source": [
    "import pandas as pd\n",
    "import numpy as np\n",
    "import seaborn as sns\n",
    "from matplotlib import pyplot \n",
    "pyplot.rcParams['figure.figsize'] = (16,4)\n",
    "\n",
    "x = [[np.log(x), x, np.log(x) * x, x**2, x**3] for x in range(1,6)]\n",
    "\n",
    "df = pd.DataFrame(x)\n",
    "\n",
    "\n",
    "df.columns = ['logarítmica', 'lineal', 'log(x) * x', 'cuadrática', 'cúbica']\n",
    "df['x'] = df['lineal']\n",
    "sns.lineplot(data=df.melt('x'), x = 'x', y ='value', hue='variable')"
   ]
  },
  {
   "cell_type": "code",
   "execution_count": 86,
   "metadata": {
    "ExecuteTime": {
     "end_time": "2022-01-21T23:11:45.873396Z",
     "start_time": "2022-01-21T23:11:45.684399Z"
    }
   },
   "outputs": [
    {
     "data": {
      "text/plain": [
       "<AxesSubplot:xlabel='x', ylabel='value'>"
      ]
     },
     "execution_count": 86,
     "metadata": {},
     "output_type": "execute_result"
    },
    {
     "data": {
      "image/png": "[encoded data removed]",
      "text/plain": [
       "<Figure size 1152x288 with 1 Axes>"
      ]
     },
     "metadata": {
      "needs_background": "light"
     },
     "output_type": "display_data"
    }
   ],
   "source": [
    "import pandas as pd\n",
    "import numpy as np\n",
    "import seaborn as sns\n",
    "\n",
    "x = [[np.log(x), x, np.log(x) * x, x**2] for x in range(1,8)]\n",
    "\n",
    "df = pd.DataFrame(x)\n",
    "\n",
    "\n",
    "df.columns = ['logarítmica', 'lineal', 'log(x) * x', 'cuadrática']\n",
    "df['x'] = df['lineal']\n",
    "sns.lineplot(data=df.melt('x'), x = 'x', y ='value', hue='variable')"
   ]
  },
  {
   "cell_type": "markdown",
   "metadata": {},
   "source": [
    "\n",
    "### Correlación\n",
    "\n",
    "Decimos que dos variables tienen correlación si están alineadas (por ejemplo, si ambas crecen a la vez) o anticorrelación si están completamente desalineadas (una crece cuando la otra decrece).\n",
    "\n",
    "Si estamos estudiando la venta de un producto y tenemos la siguiente información a lo largo del tiempo:\n",
    " - Uds vendidas acumuladas\n",
    " - Stock\n",
    " - Clientes atendidos\n",
    " - Personas trabajando\n",
    " - Temperatura exterior\n",
    " \n",
    "y queremos saber qué variables influyen más en la venta\n",
    "\n",
    "Para ver si dos variables están fuertemente enlazadas podemos utilizar un test rápido utilizando la correlación:\n",
    "\n",
    "> corr\n",
    "\n",
    "Nos indica, para cada par de atributos numéricos, la correlación existente entre ellos.\n",
    "\n",
    "Si esta correlación es **muy** alta (próxima a 1 o a -1) puede indicar una *relación de identidad* entre atributos, es decir, son el mismo bajo diferente forma.\n",
    "\n",
    "Es decisión del analista determinar si dos variables altamente correlacionadas pueden indicar una identidad o una relación muy fuerte.\n",
    "\n",
    "Si se trata de una identidad, en general, querremos borrar alguna de ellas para tener un dataset más limpio (con la premisa de que cualquier conclusión que pudiese obtenerse gracias al atributo B también puede obtenerse del atributo A).\n",
    "\n",
    "Hay que tener en cuenta que muchos modelos analíticos exigen que las variables que se les pasan para determinar el resultado sean indpendientes.\n",
    "\n",
    "Calcular la matriz de correlación en pandas es automático:"
   ]
  },
  {
   "cell_type": "code",
   "execution_count": 87,
   "metadata": {
    "ExecuteTime": {
     "end_time": "2022-01-19T12:39:12.035332Z",
     "start_time": "2022-01-19T12:39:11.597307Z"
    }
   },
   "outputs": [
    {
     "data": {
      "text/html": [
       "<style  type=\"text/css\" >\n",
       "#T_4f2ab_row0_col0,#T_4f2ab_row1_col1,#T_4f2ab_row2_col2,#T_4f2ab_row3_col3,#T_4f2ab_row4_col4,#T_4f2ab_row5_col5,#T_4f2ab_row6_col6{\n",
       "            background-color:  #f0f921;\n",
       "            color:  #000000;\n",
       "        }#T_4f2ab_row0_col1,#T_4f2ab_row4_col3,#T_4f2ab_row5_col3{\n",
       "            background-color:  #260591;\n",
       "            color:  #f1f1f1;\n",
       "        }#T_4f2ab_row0_col2{\n",
       "            background-color:  #43039e;\n",
       "            color:  #f1f1f1;\n",
       "        }#T_4f2ab_row0_col3,#T_4f2ab_row3_col0,#T_4f2ab_row3_col2,#T_4f2ab_row4_col1,#T_4f2ab_row4_col5,#T_4f2ab_row4_col6,#T_4f2ab_row5_col4,#T_4f2ab_row5_col6{\n",
       "            background-color:  #0d0887;\n",
       "            color:  #f1f1f1;\n",
       "        }#T_4f2ab_row0_col4{\n",
       "            background-color:  #310597;\n",
       "            color:  #f1f1f1;\n",
       "        }#T_4f2ab_row0_col5,#T_4f2ab_row6_col2{\n",
       "            background-color:  #46039f;\n",
       "            color:  #f1f1f1;\n",
       "        }#T_4f2ab_row0_col6,#T_4f2ab_row6_col0{\n",
       "            background-color:  #f8e125;\n",
       "            color:  #000000;\n",
       "        }#T_4f2ab_row1_col0{\n",
       "            background-color:  #350498;\n",
       "            color:  #f1f1f1;\n",
       "        }#T_4f2ab_row1_col2{\n",
       "            background-color:  #9410a2;\n",
       "            color:  #f1f1f1;\n",
       "        }#T_4f2ab_row1_col3{\n",
       "            background-color:  #240691;\n",
       "            color:  #f1f1f1;\n",
       "        }#T_4f2ab_row1_col4,#T_4f2ab_row1_col6{\n",
       "            background-color:  #370499;\n",
       "            color:  #f1f1f1;\n",
       "        }#T_4f2ab_row1_col5{\n",
       "            background-color:  #41049d;\n",
       "            color:  #f1f1f1;\n",
       "        }#T_4f2ab_row2_col0{\n",
       "            background-color:  #4c02a1;\n",
       "            color:  #f1f1f1;\n",
       "        }#T_4f2ab_row2_col1{\n",
       "            background-color:  #920fa3;\n",
       "            color:  #f1f1f1;\n",
       "        }#T_4f2ab_row2_col3,#T_4f2ab_row5_col1,#T_4f2ab_row5_col2{\n",
       "            background-color:  #1d068e;\n",
       "            color:  #f1f1f1;\n",
       "        }#T_4f2ab_row2_col4{\n",
       "            background-color:  #38049a;\n",
       "            color:  #f1f1f1;\n",
       "        }#T_4f2ab_row2_col5{\n",
       "            background-color:  #3e049c;\n",
       "            color:  #f1f1f1;\n",
       "        }#T_4f2ab_row2_col6{\n",
       "            background-color:  #4e02a2;\n",
       "            color:  #f1f1f1;\n",
       "        }#T_4f2ab_row3_col1,#T_4f2ab_row3_col6{\n",
       "            background-color:  #130789;\n",
       "            color:  #f1f1f1;\n",
       "        }#T_4f2ab_row3_col4{\n",
       "            background-color:  #3a049a;\n",
       "            color:  #f1f1f1;\n",
       "        }#T_4f2ab_row3_col5{\n",
       "            background-color:  #3c049b;\n",
       "            color:  #f1f1f1;\n",
       "        }#T_4f2ab_row4_col0,#T_4f2ab_row6_col3{\n",
       "            background-color:  #19068c;\n",
       "            color:  #f1f1f1;\n",
       "        }#T_4f2ab_row4_col2{\n",
       "            background-color:  #16078a;\n",
       "            color:  #f1f1f1;\n",
       "        }#T_4f2ab_row5_col0{\n",
       "            background-color:  #330597;\n",
       "            color:  #f1f1f1;\n",
       "        }#T_4f2ab_row6_col1,#T_4f2ab_row6_col4,#T_4f2ab_row6_col5{\n",
       "            background-color:  #2c0594;\n",
       "            color:  #f1f1f1;\n",
       "        }</style><table id=\"T_4f2ab_\" ><thead>    <tr>        <th class=\"blank level0\" ></th>        <th class=\"col_heading level0 col0\" >reviewid</th>        <th class=\"col_heading level0 col1\" >score</th>        <th class=\"col_heading level0 col2\" >best_new_music</th>        <th class=\"col_heading level0 col3\" >pub_weekday</th>        <th class=\"col_heading level0 col4\" >pub_day</th>        <th class=\"col_heading level0 col5\" >pub_month</th>        <th class=\"col_heading level0 col6\" >pub_year</th>    </tr></thead><tbody>\n",
       "                <tr>\n",
       "                        <th id=\"T_4f2ab_level0_row0\" class=\"row_heading level0 row0\" >reviewid</th>\n",
       "                        <td id=\"T_4f2ab_row0_col0\" class=\"data row0 col0\" >1.000000</td>\n",
       "                        <td id=\"T_4f2ab_row0_col1\" class=\"data row0 col1\" >0.036370</td>\n",
       "                        <td id=\"T_4f2ab_row0_col2\" class=\"data row0 col2\" >0.092827</td>\n",
       "                        <td id=\"T_4f2ab_row0_col3\" class=\"data row0 col3\" >-0.037256</td>\n",
       "                        <td id=\"T_4f2ab_row0_col4\" class=\"data row0 col4\" >-0.017919</td>\n",
       "                        <td id=\"T_4f2ab_row0_col5\" class=\"data row0 col5\" >0.033213</td>\n",
       "                        <td id=\"T_4f2ab_row0_col6\" class=\"data row0 col6\" >0.942695</td>\n",
       "            </tr>\n",
       "            <tr>\n",
       "                        <th id=\"T_4f2ab_level0_row1\" class=\"row_heading level0 row1\" >score</th>\n",
       "                        <td id=\"T_4f2ab_row1_col0\" class=\"data row1 col0\" >0.036370</td>\n",
       "                        <td id=\"T_4f2ab_row1_col1\" class=\"data row1 col1\" >1.000000</td>\n",
       "                        <td id=\"T_4f2ab_row1_col2\" class=\"data row1 col2\" >0.300245</td>\n",
       "                        <td id=\"T_4f2ab_row1_col3\" class=\"data row1 col3\" >0.003063</td>\n",
       "                        <td id=\"T_4f2ab_row1_col4\" class=\"data row1 col4\" >-0.006424</td>\n",
       "                        <td id=\"T_4f2ab_row1_col5\" class=\"data row1 col5\" >0.019638</td>\n",
       "                        <td id=\"T_4f2ab_row1_col6\" class=\"data row1 col6\" >0.045218</td>\n",
       "            </tr>\n",
       "            <tr>\n",
       "                        <th id=\"T_4f2ab_level0_row2\" class=\"row_heading level0 row2\" >best_new_music</th>\n",
       "                        <td id=\"T_4f2ab_row2_col0\" class=\"data row2 col0\" >0.092827</td>\n",
       "                        <td id=\"T_4f2ab_row2_col1\" class=\"data row2 col1\" >0.300245</td>\n",
       "                        <td id=\"T_4f2ab_row2_col2\" class=\"data row2 col2\" >1.000000</td>\n",
       "                        <td id=\"T_4f2ab_row2_col3\" class=\"data row2 col3\" >-0.012454</td>\n",
       "                        <td id=\"T_4f2ab_row2_col4\" class=\"data row2 col4\" >-0.000533</td>\n",
       "                        <td id=\"T_4f2ab_row2_col5\" class=\"data row2 col5\" >0.011698</td>\n",
       "                        <td id=\"T_4f2ab_row2_col6\" class=\"data row2 col6\" >0.101663</td>\n",
       "            </tr>\n",
       "            <tr>\n",
       "                        <th id=\"T_4f2ab_level0_row3\" class=\"row_heading level0 row3\" >pub_weekday</th>\n",
       "                        <td id=\"T_4f2ab_row3_col0\" class=\"data row3 col0\" >-0.037256</td>\n",
       "                        <td id=\"T_4f2ab_row3_col1\" class=\"data row3 col1\" >0.003063</td>\n",
       "                        <td id=\"T_4f2ab_row3_col2\" class=\"data row3 col2\" >-0.012454</td>\n",
       "                        <td id=\"T_4f2ab_row3_col3\" class=\"data row3 col3\" >1.000000</td>\n",
       "                        <td id=\"T_4f2ab_row3_col4\" class=\"data row3 col4\" >0.003731</td>\n",
       "                        <td id=\"T_4f2ab_row3_col5\" class=\"data row3 col5\" >0.007000</td>\n",
       "                        <td id=\"T_4f2ab_row3_col6\" class=\"data row3 col6\" >-0.019947</td>\n",
       "            </tr>\n",
       "            <tr>\n",
       "                        <th id=\"T_4f2ab_level0_row4\" class=\"row_heading level0 row4\" >pub_day</th>\n",
       "                        <td id=\"T_4f2ab_row4_col0\" class=\"data row4 col0\" >-0.017919</td>\n",
       "                        <td id=\"T_4f2ab_row4_col1\" class=\"data row4 col1\" >-0.006424</td>\n",
       "                        <td id=\"T_4f2ab_row4_col2\" class=\"data row4 col2\" >-0.000533</td>\n",
       "                        <td id=\"T_4f2ab_row4_col3\" class=\"data row4 col3\" >0.003731</td>\n",
       "                        <td id=\"T_4f2ab_row4_col4\" class=\"data row4 col4\" >1.000000</td>\n",
       "                        <td id=\"T_4f2ab_row4_col5\" class=\"data row4 col5\" >-0.088401</td>\n",
       "                        <td id=\"T_4f2ab_row4_col6\" class=\"data row4 col6\" >-0.030022</td>\n",
       "            </tr>\n",
       "            <tr>\n",
       "                        <th id=\"T_4f2ab_level0_row5\" class=\"row_heading level0 row5\" >pub_month</th>\n",
       "                        <td id=\"T_4f2ab_row5_col0\" class=\"data row5 col0\" >0.033213</td>\n",
       "                        <td id=\"T_4f2ab_row5_col1\" class=\"data row5 col1\" >0.019638</td>\n",
       "                        <td id=\"T_4f2ab_row5_col2\" class=\"data row5 col2\" >0.011698</td>\n",
       "                        <td id=\"T_4f2ab_row5_col3\" class=\"data row5 col3\" >0.007000</td>\n",
       "                        <td id=\"T_4f2ab_row5_col4\" class=\"data row5 col4\" >-0.088401</td>\n",
       "                        <td id=\"T_4f2ab_row5_col5\" class=\"data row5 col5\" >1.000000</td>\n",
       "                        <td id=\"T_4f2ab_row5_col6\" class=\"data row5 col6\" >-0.031773</td>\n",
       "            </tr>\n",
       "            <tr>\n",
       "                        <th id=\"T_4f2ab_level0_row6\" class=\"row_heading level0 row6\" >pub_year</th>\n",
       "                        <td id=\"T_4f2ab_row6_col0\" class=\"data row6 col0\" >0.942695</td>\n",
       "                        <td id=\"T_4f2ab_row6_col1\" class=\"data row6 col1\" >0.045218</td>\n",
       "                        <td id=\"T_4f2ab_row6_col2\" class=\"data row6 col2\" >0.101663</td>\n",
       "                        <td id=\"T_4f2ab_row6_col3\" class=\"data row6 col3\" >-0.019947</td>\n",
       "                        <td id=\"T_4f2ab_row6_col4\" class=\"data row6 col4\" >-0.030022</td>\n",
       "                        <td id=\"T_4f2ab_row6_col5\" class=\"data row6 col5\" >-0.031773</td>\n",
       "                        <td id=\"T_4f2ab_row6_col6\" class=\"data row6 col6\" >1.000000</td>\n",
       "            </tr>\n",
       "    </tbody></table>"
      ],
      "text/plain": [
       "<pandas.io.formats.style.Styler at 0x1479dcac2e0>"
      ]
     },
     "execution_count": 87,
     "metadata": {},
     "output_type": "execute_result"
    }
   ],
   "source": [
    "df_pitch = leer_pitchfork()\n",
    "df_pitch.corr().style.background_gradient(cmap='plasma')"
   ]
  },
  {
   "cell_type": "markdown",
   "metadata": {},
   "source": [
    "Los valores de correlación varían desde **-1** (anticorrelación perfecta) hasta **1** (correlación perfecta). \n",
    "\n",
    "Cuánto más próxima a cero sea la correlación, menos influye en el valor que querríamos predecir.\n",
    "\n",
    "Respecto a Pitchfork, el único valor que puede tener interés predictivo sería la puntuación de la canción, vemos que ninguna variable de tiempo desagregada tiene impacto en la puntuación.\n",
    "\n",
    "De momento se eliminarán estas columnas para trabajar con un dataset lo más compacto (y, por lo tanto, rápido) posible."
   ]
  },
  {
   "cell_type": "code",
   "execution_count": 88,
   "metadata": {
    "ExecuteTime": {
     "end_time": "2021-02-26T23:03:42.433295Z",
     "start_time": "2021-02-26T23:03:42.402335Z"
    }
   },
   "outputs": [
    {
     "data": {
      "text/html": [
       "<style  type=\"text/css\" >\n",
       "#T_c2807_row0_col0,#T_c2807_row1_col1,#T_c2807_row2_col2{\n",
       "            background-color:  #f0f921;\n",
       "            color:  #000000;\n",
       "        }#T_c2807_row0_col1,#T_c2807_row0_col2,#T_c2807_row1_col0{\n",
       "            background-color:  #0d0887;\n",
       "            color:  #f1f1f1;\n",
       "        }#T_c2807_row1_col2{\n",
       "            background-color:  #7501a8;\n",
       "            color:  #f1f1f1;\n",
       "        }#T_c2807_row2_col0{\n",
       "            background-color:  #2e0595;\n",
       "            color:  #f1f1f1;\n",
       "        }#T_c2807_row2_col1{\n",
       "            background-color:  #8707a6;\n",
       "            color:  #f1f1f1;\n",
       "        }</style><table id=\"T_c2807_\" ><thead>    <tr>        <th class=\"blank level0\" ></th>        <th class=\"col_heading level0 col0\" >reviewid</th>        <th class=\"col_heading level0 col1\" >score</th>        <th class=\"col_heading level0 col2\" >best_new_music</th>    </tr></thead><tbody>\n",
       "                <tr>\n",
       "                        <th id=\"T_c2807_level0_row0\" class=\"row_heading level0 row0\" >reviewid</th>\n",
       "                        <td id=\"T_c2807_row0_col0\" class=\"data row0 col0\" >1.000000</td>\n",
       "                        <td id=\"T_c2807_row0_col1\" class=\"data row0 col1\" >0.036370</td>\n",
       "                        <td id=\"T_c2807_row0_col2\" class=\"data row0 col2\" >0.092827</td>\n",
       "            </tr>\n",
       "            <tr>\n",
       "                        <th id=\"T_c2807_level0_row1\" class=\"row_heading level0 row1\" >score</th>\n",
       "                        <td id=\"T_c2807_row1_col0\" class=\"data row1 col0\" >0.036370</td>\n",
       "                        <td id=\"T_c2807_row1_col1\" class=\"data row1 col1\" >1.000000</td>\n",
       "                        <td id=\"T_c2807_row1_col2\" class=\"data row1 col2\" >0.300245</td>\n",
       "            </tr>\n",
       "            <tr>\n",
       "                        <th id=\"T_c2807_level0_row2\" class=\"row_heading level0 row2\" >best_new_music</th>\n",
       "                        <td id=\"T_c2807_row2_col0\" class=\"data row2 col0\" >0.092827</td>\n",
       "                        <td id=\"T_c2807_row2_col1\" class=\"data row2 col1\" >0.300245</td>\n",
       "                        <td id=\"T_c2807_row2_col2\" class=\"data row2 col2\" >1.000000</td>\n",
       "            </tr>\n",
       "    </tbody></table>"
      ],
      "text/plain": [
       "<pandas.io.formats.style.Styler at 0x14794dedfa0>"
      ]
     },
     "execution_count": 88,
     "metadata": {},
     "output_type": "execute_result"
    }
   ],
   "source": [
    "df_pitch.drop(columns=['pub_day', 'pub_month', 'pub_year', 'pub_weekday'], inplace=True)\n",
    "\n",
    "df_pitch.corr().style.background_gradient(cmap='plasma')"
   ]
  },
  {
   "cell_type": "markdown",
   "metadata": {},
   "source": [
    "También vemos que hay una correlación muy fuerte entre el año de la review y el identificador de la review pero, ese dato por si mismo lo único que nos dice es que las review tienen un orden creciente.\n",
    "\n",
    "Dejando de lado la correlación entre año y reviewid la siguiente correlación que parece interesante es la existente entre **best_new_music** y **score**. Esa correlación sí es real y, sin embargo, no nos aporta información ya que la mejor música en Pitchfork se escoge entre aquella que tiene mejor puntuación, por lo tanto, siendo atributos derivados, no podemos utilizarlo como predictor.\n"
   ]
  },
  {
   "cell_type": "markdown",
   "metadata": {},
   "source": [
    "## Ejercicio. Eliminar correlaciones en covid\n",
    "\n",
    "Aplica el método de eliminación de características basado en la correlación para el dataset del covid"
   ]
  },
  {
   "cell_type": "markdown",
   "metadata": {},
   "source": [
    "### PCA \n",
    "\n",
    "Para detectar correlaciones muy fuertes, utilizar *corr* puede ser suficiente, pero, cuando necesitamos hilar más fino y queremos un método que sea capaz de detectar la influencia de cada variable en el resultado final, necesitamos recurrir a métodos más sofisticados.\n",
    "\n",
    "\n",
    "Para poder practicar estas técnicas más avanzadas necesitamos un DataSet que tenga más complejidad, utilizaremos el mismo que el del ejericicio adjunto, el de COVID.\n",
    "\n",
    "Además, utilizaremos la versión que ya está \"limpia\".\n"
   ]
  },
  {
   "cell_type": "code",
   "execution_count": 104,
   "metadata": {
    "ExecuteTime": {
     "end_time": "2022-01-22T06:38:17.012440Z",
     "start_time": "2022-01-22T06:38:13.211354Z"
    }
   },
   "outputs": [],
   "source": [
    "import pandas as pd\n",
    "import seaborn as sns\n",
    "from matplotlib import pyplot\n",
    "\n",
    "pyplot.rcParams['figure.figsize'] = (16,4)\n",
    "\n",
    "def leer_csv_covid():\n",
    "    columnas = ['stringency_index','population_density','median_age','aged_65_older',\n",
    "          'aged_70_older','gdp_per_capita','extreme_poverty','cardiovasc_death_rate',\n",
    "          'diabetes_prevalence','female_smokers','male_smokers', 'handwashing_facilities',\n",
    "          'hospital_beds_per_thousand','life_expectancy','human_development_index']\n",
    "    \n",
    "    # Leemos el fichero\n",
    "    df = pd.read_csv('./data/owid-covid-data.csv')\n",
    "    \n",
    "    # Interpolamos\n",
    "    df.loc[:,df.select_dtypes('number').columns.to_list()].interpolate(axis=1, inplace=True)\n",
    "    \n",
    "    # Última fila de cada país\n",
    "    df = df.groupby(by='iso_code').nth(-1).reset_index(level=0)\n",
    "    \n",
    "    # Borramos columnas con pocos datos\n",
    "    df.dropna(axis=1, thresh=50, inplace=True)\n",
    "    \n",
    "    # Borramos las columnas de fecha y país\n",
    "    df.drop(columns =['location', 'date'], inplace=True)\n",
    "    \n",
    "    # Eliminamos las filas que no tienen información de fallecidos\n",
    "    df = df.loc[pd.notna(df['total_deaths'])]\n",
    "\n",
    "    # Imputamos la media\n",
    "    medias = {c:df[c].mean() for c in columnas}\n",
    "    df.fillna(medias, inplace=True)\n",
    "    \n",
    "    return df\n",
    "\n",
    "df_covid = leer_csv_covid()\n",
    "df_covid.drop(columns=['human_development_index'], inplace=True)"
   ]
  },
  {
   "cell_type": "code",
   "execution_count": 105,
   "metadata": {
    "ExecuteTime": {
     "end_time": "2022-01-22T06:38:17.028350Z",
     "start_time": "2022-01-22T06:38:17.013357Z"
    }
   },
   "outputs": [],
   "source": [
    "def score_regresion(df_check):\n",
    "    # nos quedamos con todas las columnas numéricas excepto aquellas que tienen que ver con el número de muertos\n",
    "    col_x = [x for x in df_covid.select_dtypes('number').columns if x not in ('total_deaths',\n",
    "                                                                         'total_deaths_per_million',\n",
    "                                                                         'total_deaths_smoothed_per_million',\n",
    "                                                                         'new_deaths',\n",
    "                                                                         'new_deaths_smoothed')]\n",
    "    \n",
    "    X = df_check[col_x].copy()\n",
    "    y = df_check['total_deaths_per_million']\n",
    "\n",
    "    from sklearn.linear_model import LinearRegression\n",
    "    lr = LinearRegression()\n",
    "    lr.fit(X, y)\n",
    "    print(lr.score(X,y))"
   ]
  },
  {
   "cell_type": "markdown",
   "metadata": {
    "ExecuteTime": {
     "end_time": "2021-02-26T20:48:57.995539Z",
     "start_time": "2021-02-26T20:48:53.460859Z"
    }
   },
   "source": [
    "PCA, Principal Component Analysis, determina, para una variable que queremos predecir, cuáles son las variables de origen que más influyen en ella.\n",
    "\n",
    "PCA trabaja con los autovalores de la matriz numérica, por suerte, **sklearn** contiene un método que calcula los autovalores de la matriz por nosotros y nos devuelve tantas columnas como pidamos ordenadas por la que tiene mayor influencia en el resultado.\n",
    "\n",
    "PCA es un método que no mejora la precisión de la precisión, sino que consigue que trabajemos con menos variables para lograr el mismo resultado lo cual, en un juego de datos grande, puede recortar mucho el tiempo de ejecución o convertir en tratable un problema que no lo era.\n",
    "\n",
    "Podemos realizar una regresión lineal de las muertes por millón de habitantes en función del resto de parámetros del juego de datos COVID"
   ]
  },
  {
   "cell_type": "code",
   "execution_count": 91,
   "metadata": {
    "ExecuteTime": {
     "end_time": "2022-01-22T06:38:17.044326Z",
     "start_time": "2022-01-22T06:38:17.029350Z"
    }
   },
   "outputs": [
    {
     "name": "stdout",
     "output_type": "stream",
     "text": [
      "0.8375264016143873\n"
     ]
    }
   ],
   "source": [
    "score_regresion(df_covid)"
   ]
  },
  {
   "cell_type": "markdown",
   "metadata": {},
   "source": [
    "Vemos que tiene una precisión del 83.7% para predecir el número de muertes en función del resto de columnas (hemos eliminado las que tienen que ver con muertes para evitar correlaciones directas).\n",
    "\n",
    "Si aplicamos PCA nos quedamos con un conjunto de columnas reducido, en este caso 10:"
   ]
  },
  {
   "cell_type": "code",
   "execution_count": 92,
   "metadata": {
    "ExecuteTime": {
     "end_time": "2022-01-22T06:38:18.726655Z",
     "start_time": "2022-01-22T06:38:18.712655Z"
    }
   },
   "outputs": [
    {
     "data": {
      "text/plain": [
       "0.733528870119876"
      ]
     },
     "execution_count": 92,
     "metadata": {},
     "output_type": "execute_result"
    }
   ],
   "source": [
    "from sklearn.linear_model import LinearRegression\n",
    "from sklearn.decomposition import PCA as sklearnPCA\n",
    "col_x = [x for x in df_covid.select_dtypes('number').columns if x not in ('total_deaths',\n",
    "                                                                         'total_deaths_per_million',\n",
    "                                                                         'total_deaths_smoothed_per_million',\n",
    "                                                                         'new_deaths',\n",
    "                                                                         'new_deaths_smoothed')]\n",
    "    \n",
    "X = df_covid[col_x].copy()\n",
    "y = df_covid['total_deaths_per_million']\n",
    "sklearn_pca = sklearnPCA(n_components=10)\n",
    "Y_sklearn = sklearn_pca.fit_transform(X)\n",
    "\n",
    "lr = LinearRegression()\n",
    "lr.fit(Y_sklearn, y)\n",
    "lr.score(Y_sklearn,y)"
   ]
  },
  {
   "cell_type": "markdown",
   "metadata": {},
   "source": [
    "Vemos que con 10 columnas de datos, tenemos un 73% de precisión, podemos seguir buscando cuál es el mejor punto de corte "
   ]
  },
  {
   "cell_type": "code",
   "execution_count": 93,
   "metadata": {
    "ExecuteTime": {
     "end_time": "2022-01-22T06:38:21.293518Z",
     "start_time": "2022-01-22T06:38:21.127518Z"
    }
   },
   "outputs": [
    {
     "data": {
      "text/plain": [
       "<AxesSubplot:>"
      ]
     },
     "execution_count": 93,
     "metadata": {},
     "output_type": "execute_result"
    },
    {
     "data": {
      "image/png": "[encoded data removed]",
      "text/plain": [
       "<Figure size 1152x288 with 1 Axes>"
      ]
     },
     "metadata": {
      "needs_background": "light"
     },
     "output_type": "display_data"
    }
   ],
   "source": [
    "from sklearn.decomposition import PCA as sklearnPCA\n",
    "\n",
    "\n",
    "precision = {}\n",
    "\n",
    "for x in range(1, X.shape[1]):\n",
    "    sklearn_pca = sklearnPCA(n_components=x)\n",
    "    Y_sklearn = sklearn_pca.fit_transform(X)\n",
    "\n",
    "    lr = LinearRegression()\n",
    "    lr.fit(Y_sklearn, y)\n",
    "    precision[x] = lr.score(Y_sklearn,y)\n",
    "    \n",
    "sns.lineplot(data=precision)"
   ]
  },
  {
   "cell_type": "markdown",
   "metadata": {},
   "source": [
    "O, en formato tabla:"
   ]
  },
  {
   "cell_type": "code",
   "execution_count": 94,
   "metadata": {
    "ExecuteTime": {
     "end_time": "2022-01-22T06:38:24.496689Z",
     "start_time": "2022-01-22T06:38:24.487659Z"
    }
   },
   "outputs": [
    {
     "data": {
      "text/plain": [
       "{1: 0.0008547998458864337,\n",
       " 2: 0.09867396426604658,\n",
       " 3: 0.5844506992244363,\n",
       " 4: 0.7124308946982972,\n",
       " 5: 0.7126717264204145,\n",
       " 6: 0.7157022869950732,\n",
       " 7: 0.7200124388112596,\n",
       " 8: 0.7249611350702252,\n",
       " 9: 0.7328904720273202,\n",
       " 10: 0.733528870119876,\n",
       " 11: 0.7422123689630737,\n",
       " 12: 0.7557313292457113,\n",
       " 13: 0.7587215519846351,\n",
       " 14: 0.7590692031576532,\n",
       " 15: 0.7848669580572196,\n",
       " 16: 0.7859945784289091,\n",
       " 17: 0.7967887307502584,\n",
       " 18: 0.8151487399896543,\n",
       " 19: 0.8309260004279423,\n",
       " 20: 0.8324011363265906,\n",
       " 21: 0.8329835628044212,\n",
       " 22: 0.8370709872045814}"
      ]
     },
     "execution_count": 94,
     "metadata": {},
     "output_type": "execute_result"
    }
   ],
   "source": [
    "precision"
   ]
  },
  {
   "cell_type": "code",
   "execution_count": 95,
   "metadata": {
    "ExecuteTime": {
     "end_time": "2022-01-22T06:50:34.195361Z",
     "start_time": "2022-01-22T06:50:21.015362Z"
    }
   },
   "outputs": [
    {
     "name": "stdout",
     "output_type": "stream",
     "text": [
      "Para 1 componentes:  2.341315\n",
      "Para 2 componentes:  2.517328\n",
      "Para 3 componentes:  2.615135\n",
      "Para 4 componentes:  2.85699\n",
      "Para 5 componentes:  2.303832\n",
      "Para 6 componentes:  2.537269\n",
      "Para 7 componentes:  2.265769\n",
      "Para 8 componentes:  2.507179\n",
      "Para 9 componentes:  2.237621\n",
      "Para 10 componentes:  2.601145\n",
      "Para 11 componentes:  2.508009\n",
      "Para 12 componentes:  3.009127\n",
      "Para 13 componentes:  2.816616\n",
      "Para 14 componentes:  3.461183\n",
      "Para 15 componentes:  3.700686\n",
      "Para 16 componentes:  3.70687\n",
      "Para 17 componentes:  3.707733\n",
      "Para 18 componentes:  3.704507\n",
      "Para 19 componentes:  3.810713\n",
      "Para 20 componentes:  3.574572\n",
      "Para 21 componentes:  2.971968\n",
      "Para 22 componentes:  3.007856\n"
     ]
    }
   ],
   "source": [
    "from datetime import datetime, timedelta\n",
    "\n",
    "for w in range(1, X.shape[1]):\n",
    "    sklearn_pca = sklearnPCA(n_components=w)\n",
    "    Y_sklearn = sklearn_pca.fit_transform(X)\n",
    "\n",
    "    inicio = datetime.now()\n",
    "    for v in range(1000):\n",
    "        lr = LinearRegression()\n",
    "        lr.fit(Y_sklearn, y)\n",
    "        precision[x] = lr.score(Y_sklearn,y)\n",
    "    fin = datetime.now()\n",
    "    print(f'Para {w} componentes: ', (fin - inicio).total_seconds())"
   ]
  },
  {
   "cell_type": "markdown",
   "metadata": {},
   "source": [
    "Vemos que, para 4 columnas tenemos un 71% de acierto y, a partir de ahí, va aumentando poco a poco hasta llegar al 83% de éxito final.\n",
    "\n",
    "Hay que recordar que PCA es un método de reducción de la dimensionalidad, no selecciona columnas sino que las \"agrega\" para reducir los juegos de columnas con los que trabajamos más adelante."
   ]
  },
  {
   "cell_type": "markdown",
   "metadata": {},
   "source": [
    "### Adición de características\n",
    "\n",
    "Aunque habitualmente este tema está separado de la reducción de la dimensionalidad, por simetría con la eliminación de columnas se ha incluido en este punto.\n",
    "\n",
    "Al trabajar con conjuntos de datos debemos acostumbrarnos a que no estamos limitados a las columnas originales, es conveniente acostumbrarse a crear nuevas columnas, dierenciamos los siguientes casos:\n",
    "* Columnas derivadas: Creamos nuevas columnas como composición de otras ya presentes.\n",
    "* Información añadida: Enriquecemos el conjunto de datos con información obtenida de otros orígenes (se vio en una sesión anterior del máster)\n",
    "\n",
    "\n",
    "#### Columnas derivadas\n",
    "\n",
    "Algunos ejemplos de columnas derivadas serían el margen porcentual de los productos en oposición a su importe de venta y beneficio, las muertes por millón de habitantes del juego de datos COVID,...\n",
    "\n",
    "Muchas veces la capacidad predictiva de estas nuevas columnas es superior a las originales.\n",
    "\n",
    "La forma en la que se generan estas nuevas características es tal como se han ido añadiendo columnas nuevas en los datasets a lo largo de todo el curso.\n",
    "\n",
    "#### Características polinomiales\n",
    "\n",
    "Un caso particular de adición de características lo tenemos cuando queremos probar la mayor cantidad posible de combinaciones de nuestras variables origen.\n",
    "\n",
    "sklearn nos ofrece un generador de características polinomiales que genera interacciones entre variables de orden ```n```.\n",
    "\n",
    "Esta generación masiva de características \n",
    "\n",
    "Si no conocemos la relación que puede existir en la realidad entre la variables o si queremos probar nuevas relaciones, podemos utilizar las características polinomiales.\n",
    "\n",
    "El número de características que se pueden crear con este generador es elevado así que debemos considerar bien cuáles son las columnas sobre las que nos interesa ejecutarlo.\n",
    "\n",
    "Utilizar este generador puede ser una buena idea para decidir qué factores calcular y, después, incluir solo aquellas medidas que sean susceptibles de mejorar en lugar de pasar todas"
   ]
  },
  {
   "cell_type": "code",
   "execution_count": 96,
   "metadata": {
    "ExecuteTime": {
     "end_time": "2022-01-22T06:50:46.134375Z",
     "start_time": "2022-01-22T06:50:46.037377Z"
    }
   },
   "outputs": [
    {
     "name": "stdout",
     "output_type": "stream",
     "text": [
      "\n",
      "Precisión anterior: 83.75264016143873 %\n",
      "Nueva precisión: 95.1787601634389 %\n",
      "\n"
     ]
    }
   ],
   "source": [
    "from sklearn.preprocessing import PolynomialFeatures\n",
    "pol = PolynomialFeatures()\n",
    "\n",
    "new_X = pol.fit_transform(X)\n",
    "\n",
    "lr = LinearRegression()\n",
    "\n",
    "lr.fit(X, y)\n",
    "precision_original = lr.score(X,y)\n",
    "\n",
    "\n",
    "lr.fit(new_X, y)\n",
    "nueva_precision = lr.score(new_X,y)\n",
    "\n",
    "print(f'''\n",
    "Precisión anterior: {precision_original * 100} %\n",
    "Nueva precisión: {nueva_precision * 100} %\n",
    "''')\n"
   ]
  },
  {
   "cell_type": "code",
   "execution_count": null,
   "metadata": {},
   "outputs": [],
   "source": [
    "new_X"
   ]
  },
  {
   "cell_type": "markdown",
   "metadata": {},
   "source": [
    "Podemos considerar únicamente las variables de interacción (multiplicación de las variables originales sin cosiderar sus potencias)."
   ]
  },
  {
   "cell_type": "code",
   "execution_count": 97,
   "metadata": {
    "ExecuteTime": {
     "end_time": "2022-01-22T06:50:47.160631Z",
     "start_time": "2022-01-22T06:50:47.125632Z"
    }
   },
   "outputs": [
    {
     "name": "stdout",
     "output_type": "stream",
     "text": [
      "\n",
      "Precisión anterior: 83.75264016143873 %\n",
      "Nueva precisión: 99.99135404634994 %\n",
      "\n"
     ]
    }
   ],
   "source": [
    "pol = PolynomialFeatures(degree=3, interaction_only=True)\n",
    "\n",
    "new_X = pol.fit_transform(X)\n",
    "\n",
    "lr = LinearRegression()\n",
    "\n",
    "lr.fit(X, y)\n",
    "precision_original = lr.score(X,y)\n",
    "\n",
    "\n",
    "lr.fit(new_X, y)\n",
    "nueva_precision = lr.score(new_X,y)\n",
    "\n",
    "print(f'''\n",
    "Precisión anterior: {precision_original * 100} %\n",
    "Nueva precisión: {nueva_precision * 100} %\n",
    "''')\n"
   ]
  },
  {
   "cell_type": "code",
   "execution_count": 107,
   "metadata": {
    "ExecuteTime": {
     "end_time": "2022-01-22T06:50:49.148394Z",
     "start_time": "2022-01-22T06:50:49.103395Z"
    }
   },
   "outputs": [
    {
     "data": {
      "text/plain": [
       "179"
      ]
     },
     "execution_count": 107,
     "metadata": {},
     "output_type": "execute_result"
    }
   ],
   "source": [
    "X.shape[0]"
   ]
  },
  {
   "cell_type": "code",
   "execution_count": 106,
   "metadata": {
    "ExecuteTime": {
     "end_time": "2022-01-22T06:50:49.664337Z",
     "start_time": "2022-01-22T06:50:49.646337Z"
    }
   },
   "outputs": [
    {
     "data": {
      "text/plain": [
       "10903"
      ]
     },
     "execution_count": 106,
     "metadata": {},
     "output_type": "execute_result"
    }
   ],
   "source": [
    "new_X.shape[1]"
   ]
  },
  {
   "cell_type": "code",
   "execution_count": 109,
   "metadata": {
    "ExecuteTime": {
     "end_time": "2022-01-22T06:52:00.826314Z",
     "start_time": "2022-01-22T06:52:00.702314Z"
    }
   },
   "outputs": [
    {
     "name": "stdout",
     "output_type": "stream",
     "text": [
      "\n",
      "Precisión anterior: 83.75264016143873 %\n",
      "Nueva precisión: 95.71232420821572 %\n",
      "\n"
     ]
    }
   ],
   "source": [
    "pol = PolynomialFeatures(degree=4, interaction_only=True)\n",
    "\n",
    "new_X = pol.fit_transform(X)\n",
    "\n",
    "lr = LinearRegression()\n",
    "\n",
    "lr.fit(X, y)\n",
    "precision_original = lr.score(X,y)\n",
    "\n",
    "\n",
    "lr.fit(new_X, y)\n",
    "nueva_precision = lr.score(new_X,y)\n",
    "\n",
    "print(f'''\n",
    "Precisión anterior: {precision_original * 100} %\n",
    "Nueva precisión: {nueva_precision * 100} %\n",
    "''')\n"
   ]
  },
  {
   "cell_type": "code",
   "execution_count": 118,
   "metadata": {
    "ExecuteTime": {
     "end_time": "2022-01-22T06:52:39.953862Z",
     "start_time": "2022-01-22T06:52:38.034862Z"
    }
   },
   "outputs": [
    {
     "name": "stdout",
     "output_type": "stream",
     "text": [
      "Para 1 componentes:  0.001\n",
      "Para 10 componentes:  0.004686\n",
      "Para 19 componentes:  0.0\n",
      "Para 28 componentes:  0.0\n",
      "Para 37 componentes:  0.00848\n",
      "Para 46 componentes:  0.010994\n",
      "Para 55 componentes:  0.026167\n",
      "Para 64 componentes:  0.030776\n",
      "Para 73 componentes:  0.04589\n",
      "Para 82 componentes:  0.053243\n",
      "Para 91 componentes:  0.059822\n",
      "Para 100 componentes:  0.08342\n",
      "Para 109 componentes:  0.104582\n",
      "Para 118 componentes:  0.126382\n",
      "Para 127 componentes:  0.14469\n",
      "Para 136 componentes:  0.125839\n",
      "Para 145 componentes:  0.136259\n",
      "Para 154 componentes:  0.16047\n",
      "Para 163 componentes:  0.135817\n",
      "Para 172 componentes:  0.158974\n"
     ]
    },
    {
     "data": {
      "text/plain": [
       "<AxesSubplot:>"
      ]
     },
     "execution_count": 118,
     "metadata": {},
     "output_type": "execute_result"
    },
    {
     "data": {
      "image/png": "[encoded data removed]",
      "text/plain": [
       "<Figure size 1152x288 with 1 Axes>"
      ]
     },
     "metadata": {
      "needs_background": "light"
     },
     "output_type": "display_data"
    }
   ],
   "source": [
    "from sklearn.decomposition import PCA as sklearnPCA\n",
    "\n",
    "\n",
    "precision = {}\n",
    "\n",
    "for x in range(1, new_X.shape[1],9): #new_X.shape[1]):\n",
    "    sklearn_pca = sklearnPCA(n_components=x)\n",
    "    try:\n",
    "        Y_sklearn = sklearn_pca.fit_transform(new_X)\n",
    "\n",
    "        inicio = datetime.now()\n",
    "        lr = LinearRegression()\n",
    "        lr.fit(Y_sklearn, y)\n",
    "        precision[x] = lr.score(Y_sklearn,y)\n",
    "        fin = datetime.now()\n",
    "        print(f'Para {x} componentes: ', (fin - inicio).total_seconds())\n",
    "    except:\n",
    "        continue\n",
    "    \n",
    "sns.lineplot(data=precision)"
   ]
  },
  {
   "cell_type": "code",
   "execution_count": 119,
   "metadata": {
    "ExecuteTime": {
     "end_time": "2022-01-21T23:34:21.485756Z",
     "start_time": "2022-01-21T23:34:21.151757Z"
    }
   },
   "outputs": [
    {
     "name": "stdout",
     "output_type": "stream",
     "text": [
      "\n",
      "Precisión anterior: 83.75264016143873 %\n",
      "Nueva precisión: 96.6673294697039 %\n",
      "\n"
     ]
    }
   ],
   "source": [
    "\n",
    "pol = PolynomialFeatures(degree=5, interaction_only=True)\n",
    "\n",
    "new_X = pol.fit_transform(X)\n",
    "\n",
    "lr = LinearRegression()\n",
    "\n",
    "lr.fit(X, y)\n",
    "precision_original = lr.score(X,y)\n",
    "\n",
    "\n",
    "lr.fit(new_X, y)\n",
    "nueva_precision = lr.score(new_X,y)\n",
    "\n",
    "print(f'''\n",
    "Precisión anterior: {precision_original * 100} %\n",
    "Nueva precisión: {nueva_precision * 100} %\n",
    "''')"
   ]
  },
  {
   "cell_type": "code",
   "execution_count": 120,
   "metadata": {
    "ExecuteTime": {
     "end_time": "2022-01-22T06:54:10.993010Z",
     "start_time": "2022-01-22T06:54:10.842546Z"
    }
   },
   "outputs": [
    {
     "name": "stdout",
     "output_type": "stream",
     "text": [
      "1 True 24\n",
      "1 False 24\n",
      "2 True 277\n",
      "2 False 300\n",
      "3 True 2048\n",
      "3 False 2600\n",
      "4 True 10903\n",
      "4 False 17550\n",
      "5 True 44552\n",
      "5 False 98280\n"
     ]
    }
   ],
   "source": [
    "for x in range(1,6):\n",
    "    for y in [True, False]:\n",
    "        pol = PolynomialFeatures(degree=x, interaction_only=y)\n",
    "        new_X = pol.fit_transform(X)\n",
    "        print(x, y, len(new_X[0]))"
   ]
  }
 ],
 "metadata": {
  "kernelspec": {
   "display_name": "Python 3 (ipykernel)",
   "language": "python",
   "name": "python3"
  },
  "language_info": {
   "codemirror_mode": {
    "name": "ipython",
    "version": 3
   },
   "file_extension": ".py",
   "mimetype": "text/x-python",
   "name": "python",
   "nbconvert_exporter": "python",
   "pygments_lexer": "ipython3",
   "version": "3.8.5"
  },
  "toc": {
   "base_numbering": 1,
   "nav_menu": {},
   "number_sections": true,
   "sideBar": true,
   "skip_h1_title": false,
   "title_cell": "Table of Contents",
   "title_sidebar": "Contents",
   "toc_cell": false,
   "toc_position": {
    "height": "calc(100% - 180px)",
    "left": "10px",
    "top": "150px",
    "width": "279px"
   },
   "toc_section_display": true,
   "toc_window_display": true
  }
 },
 "nbformat": 4,
 "nbformat_minor": 4
}
