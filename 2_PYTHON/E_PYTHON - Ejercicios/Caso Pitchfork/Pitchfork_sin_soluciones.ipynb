{
 "cells": [
  {
   "cell_type": "markdown",
   "metadata": {
    "toc": true
   },
   "source": [
    "<h1>Table of Contents<span class=\"tocSkip\"></span></h1>\n",
    "<div class=\"toc\"><ul class=\"toc-item\"><li><span><a href=\"#Introducción\" data-toc-modified-id=\"Introducción-1\"><span class=\"toc-item-num\">1&nbsp;&nbsp;</span>Introducción</a></span></li></ul></div>"
   ]
  },
  {
   "cell_type": "markdown",
   "metadata": {},
   "source": [
    "# Introducción\n",
    "\n",
    "Se proporciona un conjunto de datos de reviews en la página de crítica musical Pitchfork. Obtenido de: https://www.kaggle.com/nolanbconaway/pitchfork-data.\n",
    " \n",
    "Sobre este conjunto de datos se proponen varias tareas a realizar en Python:\n",
    "\n",
    "1. Dado que se proporcionan varios csv: integrar todos los csv **a excepción de content.csv** en un único DataFrame => se proporciona código\n",
    "2. ¿Quién es el reviewer más blando? ¿y el más duro?\n",
    "3. ¿Nos sirve de algo que nos digan que una canción / album tiene un 7 de puntuación?\n",
    "4. ¿Cuál es la peor canción de cada año?\n",
    "5. ¿Cuál es el mejor año para la música según los reviewers de Pitchfork?\n",
    "6. ¿Cuál es el mejor grupo de todos?\n",
    "7. ¿Cuál es el mejor grupo de todos, con al menos 5 reviews?\n",
    "8. ¿Mejoran las puntuaciones de cada artista a lo largo del tiempo?\n",
    "9. ¿En qué año ha habido más actividad en la página?"
   ]
  },
  {
   "cell_type": "code",
   "execution_count": 1,
   "metadata": {
    "ExecuteTime": {
     "end_time": "2021-12-11T10:20:39.359449Z",
     "start_time": "2021-12-11T10:20:37.937056Z"
    }
   },
   "outputs": [
    {
     "name": "stdout",
     "output_type": "stream",
     "text": [
      "Leyendo ./Data/genres.csv\n",
      "Leyendo ./Data/content.csv\n",
      "Leyendo ./Data/labels.csv\n",
      "Leyendo ./Data/reviews.csv\n",
      "Leyendo ./Data/years.csv\n",
      "Leyendo ./Data/artists.csv\n"
     ]
    }
   ],
   "source": [
    "import os\n",
    "import pandas as pd\n",
    "pd.options.display.max_rows = 100\n",
    "pd.options.display.max_columns = 100\n",
    "\n",
    "def lee_ficheros(ficheros):\n",
    "    \n",
    "    df = None\n",
    "    for f in ficheros:\n",
    "        print(f'Leyendo {f}')\n",
    "        \n",
    "        df_temp = pd.read_csv(f, sep = ',', decimal = '.')\n",
    "        \n",
    "        if 'Unnamed: 0' in df_temp.columns:\n",
    "            df_temp.drop(columns = ['Unnamed: 0'], inplace = True)\n",
    "            \n",
    "        df_temp = df_temp.drop_duplicates()        \n",
    "        \n",
    "        if df is None:\n",
    "            df = df_temp\n",
    "        else:\n",
    "            cols_join = set(df_temp.columns).intersection(set(df.columns))\n",
    "            df = df.merge(df_temp, on = list(cols_join))\n",
    "        \n",
    "    return df\n",
    "\n",
    "ruta_base = './Data/'\n",
    "ficheros_validos = [ruta_base + x for x in os.listdir(ruta_base) if '.csv' in x]# and 'content' not in x]\n",
    "\n",
    "df = lee_ficheros(ficheros_validos)"
   ]
  },
  {
   "cell_type": "code",
   "execution_count": null,
   "metadata": {},
   "outputs": [],
   "source": []
  }
 ],
 "metadata": {
  "kernelspec": {
   "display_name": "Python 3",
   "language": "python",
   "name": "python3"
  },
  "language_info": {
   "codemirror_mode": {
    "name": "ipython",
    "version": 3
   },
   "file_extension": ".py",
   "mimetype": "text/x-python",
   "name": "python",
   "nbconvert_exporter": "python",
   "pygments_lexer": "ipython3",
   "version": "3.7.9"
  },
  "toc": {
   "base_numbering": 1,
   "nav_menu": {},
   "number_sections": true,
   "sideBar": true,
   "skip_h1_title": false,
   "title_cell": "Table of Contents",
   "title_sidebar": "Contents",
   "toc_cell": true,
   "toc_position": {},
   "toc_section_display": true,
   "toc_window_display": false
  }
 },
 "nbformat": 4,
 "nbformat_minor": 5
}
