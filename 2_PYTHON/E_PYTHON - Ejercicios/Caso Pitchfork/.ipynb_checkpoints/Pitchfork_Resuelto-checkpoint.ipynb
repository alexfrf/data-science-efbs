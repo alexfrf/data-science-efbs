{
 "cells": [
  {
   "cell_type": "markdown",
   "id": "db180d6b",
   "metadata": {
    "toc": true
   },
   "source": [
    "<h1>Table of Contents<span class=\"tocSkip\"></span></h1>\n",
    "<div class=\"toc\"><ul class=\"toc-item\"><li><span><a href=\"#Introducción\" data-toc-modified-id=\"Introducción-1\"><span class=\"toc-item-num\">1&nbsp;&nbsp;</span>Introducción</a></span></li></ul></div>"
   ]
  },
  {
   "cell_type": "markdown",
   "id": "d6ac621b",
   "metadata": {},
   "source": [
    "# Introducción\n",
    "\n",
    "Se proporciona un conjunto de datos de reviews en la página de crítica musical Pitchfork. Obtenido de: https://www.kaggle.com/nolanbconaway/pitchfork-data.\n",
    " \n",
    "Sobre este conjunto de datos se proponen varias tareas a realizar en Python:\n",
    "\n",
    "1. Dado que se proporcionan varios csv: integrar todos los csv **a excepción de content.csv** en un único DataFrame ¿es posible?\n",
    "2. ¿Quién es el reviewer más blando? ¿y el más duro?\n",
    "3. ¿Nos sirve de algo que nos digan que una canción / album tiene un 7 de puntuación?\n",
    "4. ¿Cuál es la peor canción de cada año?\n",
    "5. ¿Cuál es el mejor año para la música según los reviewers de Pitchfork?\n",
    "6. ¿Cuál es el mejor grupo de todos?\n",
    "7. ¿Cuál es el mejor grupo de todos, con al menos 5 reviews?\n",
    "8. ¿Mejoran las puntuaciones de cada artista a lo largo del tiempo?\n",
    "9. ¿En qué año ha habido más actividad en la página?"
   ]
  },
  {
   "cell_type": "code",
   "execution_count": 1,
   "id": "c906ef33",
   "metadata": {},
   "outputs": [],
   "source": [
    "import glob\n",
    "import numpy as np\n",
    "import pandas as pd\n",
    "import seaborn as sns\n",
    "import matplotlib.pyplot as plt"
   ]
  },
  {
   "cell_type": "code",
   "execution_count": 2,
   "id": "1bd9d999",
   "metadata": {},
   "outputs": [
    {
     "name": "stdout",
     "output_type": "stream",
     "text": [
      "./Data\\artists.csv - Index(['Unnamed: 0', 'reviewid', 'artist'], dtype='object')\n",
      "./Data\\genres.csv - Index(['Unnamed: 0', 'reviewid', 'genre'], dtype='object')\n",
      "./Data\\labels.csv - Index(['Unnamed: 0', 'reviewid', 'label'], dtype='object')\n",
      "./Data\\reviews.csv - Index(['Unnamed: 0', 'reviewid', 'title', 'artist', 'url', 'score',\n",
      "       'best_new_music', 'author', 'author_type', 'pub_date', 'pub_weekday',\n",
      "       'pub_day', 'pub_month', 'pub_year'],\n",
      "      dtype='object')\n",
      "./Data\\years.csv - Index(['Unnamed: 0', 'reviewid', 'year'], dtype='object')\n"
     ]
    }
   ],
   "source": [
    "ficheros = glob.glob('./Data/*.csv', recursive=True)\n",
    "lista_dfs = []\n",
    "for i in ficheros:\n",
    "    df = pd.read_csv(i,sep=',')\n",
    "    if 'content' in i:\n",
    "        continue\n",
    "    else:\n",
    "        print(i,'-',df.columns)\n",
    "        lista_dfs.append(df)"
   ]
  },
  {
   "cell_type": "code",
   "execution_count": 3,
   "id": "98a5f854",
   "metadata": {
    "scrolled": true
   },
   "outputs": [
    {
     "data": {
      "text/html": [
       "<div>\n",
       "<style scoped>\n",
       "    .dataframe tbody tr th:only-of-type {\n",
       "        vertical-align: middle;\n",
       "    }\n",
       "\n",
       "    .dataframe tbody tr th {\n",
       "        vertical-align: top;\n",
       "    }\n",
       "\n",
       "    .dataframe thead th {\n",
       "        text-align: right;\n",
       "    }\n",
       "</style>\n",
       "<table border=\"1\" class=\"dataframe\">\n",
       "  <thead>\n",
       "    <tr style=\"text-align: right;\">\n",
       "      <th></th>\n",
       "      <th>reviewid</th>\n",
       "      <th>artist</th>\n",
       "      <th>genre</th>\n",
       "      <th>label</th>\n",
       "      <th>title</th>\n",
       "      <th>url</th>\n",
       "      <th>score</th>\n",
       "      <th>best_new_music</th>\n",
       "      <th>author</th>\n",
       "      <th>author_type</th>\n",
       "      <th>pub_date</th>\n",
       "      <th>pub_weekday</th>\n",
       "      <th>pub_day</th>\n",
       "      <th>pub_month</th>\n",
       "      <th>pub_year</th>\n",
       "      <th>year</th>\n",
       "    </tr>\n",
       "  </thead>\n",
       "  <tbody>\n",
       "    <tr>\n",
       "      <th>0</th>\n",
       "      <td>22703</td>\n",
       "      <td>massive attack</td>\n",
       "      <td>NaN</td>\n",
       "      <td>NaN</td>\n",
       "      <td>NaN</td>\n",
       "      <td>NaN</td>\n",
       "      <td>NaN</td>\n",
       "      <td>NaN</td>\n",
       "      <td>NaN</td>\n",
       "      <td>NaN</td>\n",
       "      <td>NaN</td>\n",
       "      <td>NaN</td>\n",
       "      <td>NaN</td>\n",
       "      <td>NaN</td>\n",
       "      <td>NaN</td>\n",
       "      <td>NaN</td>\n",
       "    </tr>\n",
       "    <tr>\n",
       "      <th>1</th>\n",
       "      <td>22721</td>\n",
       "      <td>krallice</td>\n",
       "      <td>NaN</td>\n",
       "      <td>NaN</td>\n",
       "      <td>NaN</td>\n",
       "      <td>NaN</td>\n",
       "      <td>NaN</td>\n",
       "      <td>NaN</td>\n",
       "      <td>NaN</td>\n",
       "      <td>NaN</td>\n",
       "      <td>NaN</td>\n",
       "      <td>NaN</td>\n",
       "      <td>NaN</td>\n",
       "      <td>NaN</td>\n",
       "      <td>NaN</td>\n",
       "      <td>NaN</td>\n",
       "    </tr>\n",
       "    <tr>\n",
       "      <th>2</th>\n",
       "      <td>22659</td>\n",
       "      <td>uranium club</td>\n",
       "      <td>NaN</td>\n",
       "      <td>NaN</td>\n",
       "      <td>NaN</td>\n",
       "      <td>NaN</td>\n",
       "      <td>NaN</td>\n",
       "      <td>NaN</td>\n",
       "      <td>NaN</td>\n",
       "      <td>NaN</td>\n",
       "      <td>NaN</td>\n",
       "      <td>NaN</td>\n",
       "      <td>NaN</td>\n",
       "      <td>NaN</td>\n",
       "      <td>NaN</td>\n",
       "      <td>NaN</td>\n",
       "    </tr>\n",
       "    <tr>\n",
       "      <th>3</th>\n",
       "      <td>22661</td>\n",
       "      <td>kleenex</td>\n",
       "      <td>NaN</td>\n",
       "      <td>NaN</td>\n",
       "      <td>NaN</td>\n",
       "      <td>NaN</td>\n",
       "      <td>NaN</td>\n",
       "      <td>NaN</td>\n",
       "      <td>NaN</td>\n",
       "      <td>NaN</td>\n",
       "      <td>NaN</td>\n",
       "      <td>NaN</td>\n",
       "      <td>NaN</td>\n",
       "      <td>NaN</td>\n",
       "      <td>NaN</td>\n",
       "      <td>NaN</td>\n",
       "    </tr>\n",
       "    <tr>\n",
       "      <th>4</th>\n",
       "      <td>22661</td>\n",
       "      <td>liliput</td>\n",
       "      <td>NaN</td>\n",
       "      <td>NaN</td>\n",
       "      <td>NaN</td>\n",
       "      <td>NaN</td>\n",
       "      <td>NaN</td>\n",
       "      <td>NaN</td>\n",
       "      <td>NaN</td>\n",
       "      <td>NaN</td>\n",
       "      <td>NaN</td>\n",
       "      <td>NaN</td>\n",
       "      <td>NaN</td>\n",
       "      <td>NaN</td>\n",
       "      <td>NaN</td>\n",
       "      <td>NaN</td>\n",
       "    </tr>\n",
       "  </tbody>\n",
       "</table>\n",
       "</div>"
      ],
      "text/plain": [
       "   reviewid          artist genre label title  url  score  best_new_music  \\\n",
       "0     22703  massive attack   NaN   NaN   NaN  NaN    NaN             NaN   \n",
       "1     22721        krallice   NaN   NaN   NaN  NaN    NaN             NaN   \n",
       "2     22659    uranium club   NaN   NaN   NaN  NaN    NaN             NaN   \n",
       "3     22661         kleenex   NaN   NaN   NaN  NaN    NaN             NaN   \n",
       "4     22661         liliput   NaN   NaN   NaN  NaN    NaN             NaN   \n",
       "\n",
       "  author author_type pub_date  pub_weekday  pub_day  pub_month  pub_year  year  \n",
       "0    NaN         NaN      NaN          NaN      NaN        NaN       NaN   NaN  \n",
       "1    NaN         NaN      NaN          NaN      NaN        NaN       NaN   NaN  \n",
       "2    NaN         NaN      NaN          NaN      NaN        NaN       NaN   NaN  \n",
       "3    NaN         NaN      NaN          NaN      NaN        NaN       NaN   NaN  \n",
       "4    NaN         NaN      NaN          NaN      NaN        NaN       NaN   NaN  "
      ]
     },
     "execution_count": 3,
     "metadata": {},
     "output_type": "execute_result"
    }
   ],
   "source": [
    "df = pd.concat(lista_dfs).drop('Unnamed: 0',axis=1)\n",
    "df.head()"
   ]
  },
  {
   "cell_type": "code",
   "execution_count": 4,
   "id": "63e1f44d",
   "metadata": {},
   "outputs": [
    {
     "data": {
      "text/plain": [
       "array([nan, '2017-01-08', '2017-01-07', ..., '1999-01-26', '1999-01-12',\n",
       "       '1999-01-05'], dtype=object)"
      ]
     },
     "execution_count": 4,
     "metadata": {},
     "output_type": "execute_result"
    }
   ],
   "source": [
    "df['pub_date'].unique()"
   ]
  },
  {
   "cell_type": "code",
   "execution_count": 5,
   "id": "b271c4e7",
   "metadata": {},
   "outputs": [
    {
     "data": {
      "text/html": [
       "<div>\n",
       "<style scoped>\n",
       "    .dataframe tbody tr th:only-of-type {\n",
       "        vertical-align: middle;\n",
       "    }\n",
       "\n",
       "    .dataframe tbody tr th {\n",
       "        vertical-align: top;\n",
       "    }\n",
       "\n",
       "    .dataframe thead th {\n",
       "        text-align: right;\n",
       "    }\n",
       "</style>\n",
       "<table border=\"1\" class=\"dataframe\">\n",
       "  <thead>\n",
       "    <tr style=\"text-align: right;\">\n",
       "      <th></th>\n",
       "      <th>reviewid</th>\n",
       "      <th>score</th>\n",
       "      <th>best_new_music</th>\n",
       "      <th>pub_weekday</th>\n",
       "      <th>pub_day</th>\n",
       "      <th>pub_month</th>\n",
       "      <th>pub_year</th>\n",
       "      <th>year</th>\n",
       "    </tr>\n",
       "  </thead>\n",
       "  <tbody>\n",
       "    <tr>\n",
       "      <th>count</th>\n",
       "      <td>99202.000000</td>\n",
       "      <td>18393.000000</td>\n",
       "      <td>18393.000000</td>\n",
       "      <td>18393.000000</td>\n",
       "      <td>18393.000000</td>\n",
       "      <td>18393.000000</td>\n",
       "      <td>18393.000000</td>\n",
       "      <td>18702.000000</td>\n",
       "    </tr>\n",
       "    <tr>\n",
       "      <th>mean</th>\n",
       "      <td>12304.355245</td>\n",
       "      <td>7.005779</td>\n",
       "      <td>0.051270</td>\n",
       "      <td>2.106508</td>\n",
       "      <td>15.529006</td>\n",
       "      <td>6.283532</td>\n",
       "      <td>2008.678465</td>\n",
       "      <td>2007.872527</td>\n",
       "    </tr>\n",
       "    <tr>\n",
       "      <th>std</th>\n",
       "      <td>6308.225800</td>\n",
       "      <td>1.293675</td>\n",
       "      <td>0.220553</td>\n",
       "      <td>1.635406</td>\n",
       "      <td>8.757538</td>\n",
       "      <td>3.317349</td>\n",
       "      <td>4.626094</td>\n",
       "      <td>6.659583</td>\n",
       "    </tr>\n",
       "    <tr>\n",
       "      <th>min</th>\n",
       "      <td>1.000000</td>\n",
       "      <td>0.000000</td>\n",
       "      <td>0.000000</td>\n",
       "      <td>0.000000</td>\n",
       "      <td>1.000000</td>\n",
       "      <td>1.000000</td>\n",
       "      <td>1999.000000</td>\n",
       "      <td>1959.000000</td>\n",
       "    </tr>\n",
       "    <tr>\n",
       "      <th>25%</th>\n",
       "      <td>7408.000000</td>\n",
       "      <td>6.400000</td>\n",
       "      <td>0.000000</td>\n",
       "      <td>1.000000</td>\n",
       "      <td>8.000000</td>\n",
       "      <td>3.000000</td>\n",
       "      <td>2005.000000</td>\n",
       "      <td>2005.000000</td>\n",
       "    </tr>\n",
       "    <tr>\n",
       "      <th>50%</th>\n",
       "      <td>12754.500000</td>\n",
       "      <td>7.200000</td>\n",
       "      <td>0.000000</td>\n",
       "      <td>2.000000</td>\n",
       "      <td>15.000000</td>\n",
       "      <td>6.000000</td>\n",
       "      <td>2009.000000</td>\n",
       "      <td>2008.000000</td>\n",
       "    </tr>\n",
       "    <tr>\n",
       "      <th>75%</th>\n",
       "      <td>17583.000000</td>\n",
       "      <td>7.800000</td>\n",
       "      <td>0.000000</td>\n",
       "      <td>3.000000</td>\n",
       "      <td>23.000000</td>\n",
       "      <td>9.000000</td>\n",
       "      <td>2013.000000</td>\n",
       "      <td>2013.000000</td>\n",
       "    </tr>\n",
       "    <tr>\n",
       "      <th>max</th>\n",
       "      <td>22745.000000</td>\n",
       "      <td>10.000000</td>\n",
       "      <td>1.000000</td>\n",
       "      <td>6.000000</td>\n",
       "      <td>31.000000</td>\n",
       "      <td>12.000000</td>\n",
       "      <td>2017.000000</td>\n",
       "      <td>2017.000000</td>\n",
       "    </tr>\n",
       "  </tbody>\n",
       "</table>\n",
       "</div>"
      ],
      "text/plain": [
       "           reviewid         score  best_new_music   pub_weekday       pub_day  \\\n",
       "count  99202.000000  18393.000000    18393.000000  18393.000000  18393.000000   \n",
       "mean   12304.355245      7.005779        0.051270      2.106508     15.529006   \n",
       "std     6308.225800      1.293675        0.220553      1.635406      8.757538   \n",
       "min        1.000000      0.000000        0.000000      0.000000      1.000000   \n",
       "25%     7408.000000      6.400000        0.000000      1.000000      8.000000   \n",
       "50%    12754.500000      7.200000        0.000000      2.000000     15.000000   \n",
       "75%    17583.000000      7.800000        0.000000      3.000000     23.000000   \n",
       "max    22745.000000     10.000000        1.000000      6.000000     31.000000   \n",
       "\n",
       "          pub_month      pub_year          year  \n",
       "count  18393.000000  18393.000000  18702.000000  \n",
       "mean       6.283532   2008.678465   2007.872527  \n",
       "std        3.317349      4.626094      6.659583  \n",
       "min        1.000000   1999.000000   1959.000000  \n",
       "25%        3.000000   2005.000000   2005.000000  \n",
       "50%        6.000000   2009.000000   2008.000000  \n",
       "75%        9.000000   2013.000000   2013.000000  \n",
       "max       12.000000   2017.000000   2017.000000  "
      ]
     },
     "execution_count": 5,
     "metadata": {},
     "output_type": "execute_result"
    }
   ],
   "source": [
    "df.describe()"
   ]
  },
  {
   "cell_type": "code",
   "execution_count": 6,
   "id": "593b8644",
   "metadata": {},
   "outputs": [
    {
     "data": {
      "text/plain": [
       "reviewid            int64\n",
       "artist             object\n",
       "genre              object\n",
       "label              object\n",
       "title              object\n",
       "url                object\n",
       "score             float64\n",
       "best_new_music    float64\n",
       "author             object\n",
       "author_type        object\n",
       "pub_date           object\n",
       "pub_weekday       float64\n",
       "pub_day           float64\n",
       "pub_month         float64\n",
       "pub_year          float64\n",
       "year              float64\n",
       "dtype: object"
      ]
     },
     "execution_count": 6,
     "metadata": {},
     "output_type": "execute_result"
    }
   ],
   "source": [
    "df.dtypes"
   ]
  },
  {
   "cell_type": "code",
   "execution_count": 7,
   "id": "b776228e",
   "metadata": {},
   "outputs": [
    {
     "data": {
      "text/html": [
       "<div>\n",
       "<style scoped>\n",
       "    .dataframe tbody tr th:only-of-type {\n",
       "        vertical-align: middle;\n",
       "    }\n",
       "\n",
       "    .dataframe tbody tr th {\n",
       "        vertical-align: top;\n",
       "    }\n",
       "\n",
       "    .dataframe thead th {\n",
       "        text-align: right;\n",
       "    }\n",
       "</style>\n",
       "<table border=\"1\" class=\"dataframe\">\n",
       "  <thead>\n",
       "    <tr style=\"text-align: right;\">\n",
       "      <th></th>\n",
       "      <th>reviewid</th>\n",
       "      <th>artist</th>\n",
       "      <th>genre</th>\n",
       "      <th>label</th>\n",
       "      <th>title</th>\n",
       "      <th>url</th>\n",
       "      <th>score</th>\n",
       "      <th>best_new_music</th>\n",
       "      <th>author</th>\n",
       "      <th>author_type</th>\n",
       "      <th>pub_date</th>\n",
       "      <th>pub_weekday</th>\n",
       "      <th>pub_day</th>\n",
       "      <th>pub_month</th>\n",
       "      <th>pub_year</th>\n",
       "      <th>year</th>\n",
       "    </tr>\n",
       "  </thead>\n",
       "  <tbody>\n",
       "    <tr>\n",
       "      <th>0</th>\n",
       "      <td>22703</td>\n",
       "      <td>massive attack</td>\n",
       "      <td>NaN</td>\n",
       "      <td>NaN</td>\n",
       "      <td>NaN</td>\n",
       "      <td>NaN</td>\n",
       "      <td>NaN</td>\n",
       "      <td>NaN</td>\n",
       "      <td>NaN</td>\n",
       "      <td>NaN</td>\n",
       "      <td>NaN</td>\n",
       "      <td>NaN</td>\n",
       "      <td>NaN</td>\n",
       "      <td>NaN</td>\n",
       "      <td>NaN</td>\n",
       "      <td>NaN</td>\n",
       "    </tr>\n",
       "    <tr>\n",
       "      <th>1</th>\n",
       "      <td>22721</td>\n",
       "      <td>krallice</td>\n",
       "      <td>NaN</td>\n",
       "      <td>NaN</td>\n",
       "      <td>NaN</td>\n",
       "      <td>NaN</td>\n",
       "      <td>NaN</td>\n",
       "      <td>NaN</td>\n",
       "      <td>NaN</td>\n",
       "      <td>NaN</td>\n",
       "      <td>NaN</td>\n",
       "      <td>NaN</td>\n",
       "      <td>NaN</td>\n",
       "      <td>NaN</td>\n",
       "      <td>NaN</td>\n",
       "      <td>NaN</td>\n",
       "    </tr>\n",
       "    <tr>\n",
       "      <th>2</th>\n",
       "      <td>22659</td>\n",
       "      <td>uranium club</td>\n",
       "      <td>NaN</td>\n",
       "      <td>NaN</td>\n",
       "      <td>NaN</td>\n",
       "      <td>NaN</td>\n",
       "      <td>NaN</td>\n",
       "      <td>NaN</td>\n",
       "      <td>NaN</td>\n",
       "      <td>NaN</td>\n",
       "      <td>NaN</td>\n",
       "      <td>NaN</td>\n",
       "      <td>NaN</td>\n",
       "      <td>NaN</td>\n",
       "      <td>NaN</td>\n",
       "      <td>NaN</td>\n",
       "    </tr>\n",
       "    <tr>\n",
       "      <th>3</th>\n",
       "      <td>22661</td>\n",
       "      <td>kleenex</td>\n",
       "      <td>NaN</td>\n",
       "      <td>NaN</td>\n",
       "      <td>NaN</td>\n",
       "      <td>NaN</td>\n",
       "      <td>NaN</td>\n",
       "      <td>NaN</td>\n",
       "      <td>NaN</td>\n",
       "      <td>NaN</td>\n",
       "      <td>NaN</td>\n",
       "      <td>NaN</td>\n",
       "      <td>NaN</td>\n",
       "      <td>NaN</td>\n",
       "      <td>NaN</td>\n",
       "      <td>NaN</td>\n",
       "    </tr>\n",
       "    <tr>\n",
       "      <th>4</th>\n",
       "      <td>22661</td>\n",
       "      <td>liliput</td>\n",
       "      <td>NaN</td>\n",
       "      <td>NaN</td>\n",
       "      <td>NaN</td>\n",
       "      <td>NaN</td>\n",
       "      <td>NaN</td>\n",
       "      <td>NaN</td>\n",
       "      <td>NaN</td>\n",
       "      <td>NaN</td>\n",
       "      <td>NaN</td>\n",
       "      <td>NaN</td>\n",
       "      <td>NaN</td>\n",
       "      <td>NaN</td>\n",
       "      <td>NaN</td>\n",
       "      <td>NaN</td>\n",
       "    </tr>\n",
       "  </tbody>\n",
       "</table>\n",
       "</div>"
      ],
      "text/plain": [
       "   reviewid          artist genre label title  url  score  best_new_music  \\\n",
       "0     22703  massive attack   NaN   NaN   NaN  NaN    NaN             NaN   \n",
       "1     22721        krallice   NaN   NaN   NaN  NaN    NaN             NaN   \n",
       "2     22659    uranium club   NaN   NaN   NaN  NaN    NaN             NaN   \n",
       "3     22661         kleenex   NaN   NaN   NaN  NaN    NaN             NaN   \n",
       "4     22661         liliput   NaN   NaN   NaN  NaN    NaN             NaN   \n",
       "\n",
       "  author author_type pub_date  pub_weekday  pub_day  pub_month  pub_year  year  \n",
       "0    NaN         NaN      NaN          NaN      NaN        NaN       NaN   NaN  \n",
       "1    NaN         NaN      NaN          NaN      NaN        NaN       NaN   NaN  \n",
       "2    NaN         NaN      NaN          NaN      NaN        NaN       NaN   NaN  \n",
       "3    NaN         NaN      NaN          NaN      NaN        NaN       NaN   NaN  \n",
       "4    NaN         NaN      NaN          NaN      NaN        NaN       NaN   NaN  "
      ]
     },
     "execution_count": 7,
     "metadata": {},
     "output_type": "execute_result"
    }
   ],
   "source": [
    "pd.to_datetime(df['pub_date'],format='%Y-%m-%d')\n",
    "df.head()"
   ]
  },
  {
   "cell_type": "markdown",
   "id": "c8b598a9",
   "metadata": {},
   "source": [
    "### ¿Quién es el reviewer más blando? ¿y el más duro?"
   ]
  },
  {
   "cell_type": "code",
   "execution_count": 8,
   "id": "56db89d2",
   "metadata": {},
   "outputs": [],
   "source": [
    "reviewers = df.groupby(by = ['author'])['score'].agg(['count', 'mean']).dropna().sort_values(by='mean',ascending=False)\n",
    "acc = round(reviewers['count'].mean()*0.2,0)\n",
    "reviewers_filtrado = reviewers[reviewers['count']>=acc]"
   ]
  },
  {
   "cell_type": "code",
   "execution_count": 9,
   "id": "f6bbe86b",
   "metadata": {},
   "outputs": [],
   "source": [
    "reviewers_blando = reviewers_filtrado.head(1)\n",
    "reviewers_duro = reviewers_filtrado.tail(1)"
   ]
  },
  {
   "cell_type": "code",
   "execution_count": 10,
   "id": "f19a326c",
   "metadata": {},
   "outputs": [
    {
     "data": {
      "text/html": [
       "<div>\n",
       "<style scoped>\n",
       "    .dataframe tbody tr th:only-of-type {\n",
       "        vertical-align: middle;\n",
       "    }\n",
       "\n",
       "    .dataframe tbody tr th {\n",
       "        vertical-align: top;\n",
       "    }\n",
       "\n",
       "    .dataframe thead th {\n",
       "        text-align: right;\n",
       "    }\n",
       "</style>\n",
       "<table border=\"1\" class=\"dataframe\">\n",
       "  <thead>\n",
       "    <tr style=\"text-align: right;\">\n",
       "      <th></th>\n",
       "      <th>count</th>\n",
       "      <th>mean</th>\n",
       "    </tr>\n",
       "    <tr>\n",
       "      <th>author</th>\n",
       "      <th></th>\n",
       "      <th></th>\n",
       "    </tr>\n",
       "  </thead>\n",
       "  <tbody>\n",
       "    <tr>\n",
       "      <th>stephen thomas erlewine</th>\n",
       "      <td>11</td>\n",
       "      <td>8.318182</td>\n",
       "    </tr>\n",
       "  </tbody>\n",
       "</table>\n",
       "</div>"
      ],
      "text/plain": [
       "                         count      mean\n",
       "author                                  \n",
       "stephen thomas erlewine     11  8.318182"
      ]
     },
     "execution_count": 10,
     "metadata": {},
     "output_type": "execute_result"
    }
   ],
   "source": [
    "reviewers_blando"
   ]
  },
  {
   "cell_type": "code",
   "execution_count": 11,
   "id": "c132eb03",
   "metadata": {},
   "outputs": [
    {
     "data": {
      "text/html": [
       "<div>\n",
       "<style scoped>\n",
       "    .dataframe tbody tr th:only-of-type {\n",
       "        vertical-align: middle;\n",
       "    }\n",
       "\n",
       "    .dataframe tbody tr th {\n",
       "        vertical-align: top;\n",
       "    }\n",
       "\n",
       "    .dataframe thead th {\n",
       "        text-align: right;\n",
       "    }\n",
       "</style>\n",
       "<table border=\"1\" class=\"dataframe\">\n",
       "  <thead>\n",
       "    <tr style=\"text-align: right;\">\n",
       "      <th></th>\n",
       "      <th>count</th>\n",
       "      <th>mean</th>\n",
       "    </tr>\n",
       "    <tr>\n",
       "      <th>author</th>\n",
       "      <th></th>\n",
       "      <th></th>\n",
       "    </tr>\n",
       "  </thead>\n",
       "  <tbody>\n",
       "    <tr>\n",
       "      <th>michael sandlin</th>\n",
       "      <td>19</td>\n",
       "      <td>5.736842</td>\n",
       "    </tr>\n",
       "  </tbody>\n",
       "</table>\n",
       "</div>"
      ],
      "text/plain": [
       "                 count      mean\n",
       "author                          \n",
       "michael sandlin     19  5.736842"
      ]
     },
     "execution_count": 11,
     "metadata": {},
     "output_type": "execute_result"
    }
   ],
   "source": [
    "reviewers_duro"
   ]
  },
  {
   "cell_type": "code",
   "execution_count": 12,
   "id": "4d518ea1",
   "metadata": {},
   "outputs": [
    {
     "data": {
      "text/html": [
       "<div>\n",
       "<style scoped>\n",
       "    .dataframe tbody tr th:only-of-type {\n",
       "        vertical-align: middle;\n",
       "    }\n",
       "\n",
       "    .dataframe tbody tr th {\n",
       "        vertical-align: top;\n",
       "    }\n",
       "\n",
       "    .dataframe thead th {\n",
       "        text-align: right;\n",
       "    }\n",
       "</style>\n",
       "<table border=\"1\" class=\"dataframe\">\n",
       "  <thead>\n",
       "    <tr style=\"text-align: right;\">\n",
       "      <th></th>\n",
       "      <th>count</th>\n",
       "      <th>mean</th>\n",
       "    </tr>\n",
       "    <tr>\n",
       "      <th>author</th>\n",
       "      <th></th>\n",
       "      <th></th>\n",
       "    </tr>\n",
       "  </thead>\n",
       "  <tbody>\n",
       "    <tr>\n",
       "      <th>nelson george</th>\n",
       "      <td>1</td>\n",
       "      <td>10.000000</td>\n",
       "    </tr>\n",
       "    <tr>\n",
       "      <th>maura johnston</th>\n",
       "      <td>1</td>\n",
       "      <td>10.000000</td>\n",
       "    </tr>\n",
       "    <tr>\n",
       "      <th>carvell wallace</th>\n",
       "      <td>3</td>\n",
       "      <td>9.833333</td>\n",
       "    </tr>\n",
       "    <tr>\n",
       "      <th>dorian lynskey</th>\n",
       "      <td>1</td>\n",
       "      <td>9.500000</td>\n",
       "    </tr>\n",
       "    <tr>\n",
       "      <th>rollie pemberton &amp; nick sylvester</th>\n",
       "      <td>1</td>\n",
       "      <td>9.400000</td>\n",
       "    </tr>\n",
       "    <tr>\n",
       "      <th>...</th>\n",
       "      <td>...</td>\n",
       "      <td>...</td>\n",
       "    </tr>\n",
       "    <tr>\n",
       "      <th>stephen  m. deusner</th>\n",
       "      <td>1</td>\n",
       "      <td>3.800000</td>\n",
       "    </tr>\n",
       "    <tr>\n",
       "      <th>bob o. mcmillan</th>\n",
       "      <td>1</td>\n",
       "      <td>3.500000</td>\n",
       "    </tr>\n",
       "    <tr>\n",
       "      <th>dr. andy beta</th>\n",
       "      <td>1</td>\n",
       "      <td>3.300000</td>\n",
       "    </tr>\n",
       "    <tr>\n",
       "      <th>brad haywood &amp; ryan schreiber</th>\n",
       "      <td>1</td>\n",
       "      <td>3.100000</td>\n",
       "    </tr>\n",
       "    <tr>\n",
       "      <th>chris dahlen &amp; ryan schreiber</th>\n",
       "      <td>1</td>\n",
       "      <td>1.700000</td>\n",
       "    </tr>\n",
       "  </tbody>\n",
       "</table>\n",
       "<p>432 rows × 2 columns</p>\n",
       "</div>"
      ],
      "text/plain": [
       "                                   count       mean\n",
       "author                                             \n",
       "nelson george                          1  10.000000\n",
       "maura johnston                         1  10.000000\n",
       "carvell wallace                        3   9.833333\n",
       "dorian lynskey                         1   9.500000\n",
       "rollie pemberton & nick sylvester      1   9.400000\n",
       "...                                  ...        ...\n",
       "stephen  m. deusner                    1   3.800000\n",
       "bob o. mcmillan                        1   3.500000\n",
       "dr. andy beta                          1   3.300000\n",
       "brad haywood & ryan schreiber          1   3.100000\n",
       "chris dahlen & ryan schreiber          1   1.700000\n",
       "\n",
       "[432 rows x 2 columns]"
      ]
     },
     "execution_count": 12,
     "metadata": {},
     "output_type": "execute_result"
    }
   ],
   "source": [
    "reviewers"
   ]
  },
  {
   "cell_type": "code",
   "execution_count": 13,
   "id": "c9a17c9c",
   "metadata": {},
   "outputs": [
    {
     "data": {
      "image/png": "[encoded data removed]",
      "text/plain": [
       "<Figure size 720x576 with 1 Axes>"
      ]
     },
     "metadata": {
      "needs_background": "light"
     },
     "output_type": "display_data"
    }
   ],
   "source": [
    "plt.figure(figsize=[10,8])\n",
    "plt.scatter(x=reviewers['count'],y=reviewers['mean'],c='r')\n",
    "plt.title('Nota Media por review vs. Nº de reviews por usuario en Pitchfork')\n",
    "plt.xlabel('Nº Reviews')\n",
    "plt.ylabel('Nota Media')\n",
    "sns.despine()"
   ]
  },
  {
   "cell_type": "markdown",
   "id": "2bcc98fb",
   "metadata": {},
   "source": [
    "### ¿Nos sirve de algo que nos digan que una canción / album tiene un 7 de puntuación?"
   ]
  },
  {
   "cell_type": "code",
   "execution_count": 14,
   "id": "958fae15",
   "metadata": {},
   "outputs": [
    {
     "data": {
      "text/plain": [
       "7.00577937258735"
      ]
     },
     "execution_count": 14,
     "metadata": {},
     "output_type": "execute_result"
    }
   ],
   "source": [
    "df.score.mean()"
   ]
  },
  {
   "cell_type": "code",
   "execution_count": 46,
   "id": "7d7ac837",
   "metadata": {},
   "outputs": [
    {
     "data": {
      "text/plain": [
       "<seaborn.axisgrid.FacetGrid at 0x2528bf048b0>"
      ]
     },
     "execution_count": 46,
     "metadata": {},
     "output_type": "execute_result"
    },
    {
     "data": {
      "image/png": "[encoded data removed]",
      "text/plain": [
       "<Figure size 720x360 with 1 Axes>"
      ]
     },
     "metadata": {
      "needs_background": "light"
     },
     "output_type": "display_data"
    }
   ],
   "source": [
    "sns.displot(data = df['score'].dropna(),\n",
    "             bins = 20,\n",
    "             kind = \"hist\",\n",
    "             height = 5, \n",
    "             aspect = 2,\n",
    "           kde=True)"
   ]
  },
  {
   "cell_type": "code",
   "execution_count": 45,
   "id": "74b6f974",
   "metadata": {},
   "outputs": [
    {
     "data": {
      "text/plain": [
       "<seaborn.axisgrid.FacetGrid at 0x25289875190>"
      ]
     },
     "execution_count": 45,
     "metadata": {},
     "output_type": "execute_result"
    },
    {
     "data": {
      "image/png": "[encoded data removed]",
      "text/plain": [
       "<Figure size 720x360 with 1 Axes>"
      ]
     },
     "metadata": {
      "needs_background": "light"
     },
     "output_type": "display_data"
    }
   ],
   "source": [
    "sns.displot(data = df['score'].dropna(),\n",
    "             bins = 5,\n",
    "             kind = \"hist\",\n",
    "             height = 5, \n",
    "             aspect = 2,\n",
    "           kde=True)"
   ]
  },
  {
   "cell_type": "code",
   "execution_count": 42,
   "id": "8e74b141",
   "metadata": {},
   "outputs": [
    {
     "data": {
      "text/plain": [
       "0.6043059859729245"
      ]
     },
     "execution_count": 42,
     "metadata": {},
     "output_type": "execute_result"
    }
   ],
   "source": [
    "notas = df[df['score'].between(6.01,7.95)]\n",
    "pte_notas = notas.shape[0] / df.score.dropna().shape[0]\n",
    "pte_notas"
   ]
  },
  {
   "cell_type": "markdown",
   "id": "0219834c",
   "metadata": {},
   "source": [
    "**Es la nota estándar de las reviews (el 60% de las reviews tienen una nota superior a 6 e inferior a 8)**"
   ]
  },
  {
   "cell_type": "markdown",
   "id": "d44df137",
   "metadata": {},
   "source": [
    "### ¿Cuál es la peor canción de cada año?"
   ]
  },
  {
   "cell_type": "code",
   "execution_count": 17,
   "id": "e1604365",
   "metadata": {},
   "outputs": [],
   "source": [
    "canciones = df.groupby(by = ['pub_year','title'],as_index=False)['score'].agg(['mean','count']).dropna()\n",
    "canciones = canciones.reset_index()\n",
    "canciones['pub_year'] = canciones['pub_year'].astype(int)"
   ]
  },
  {
   "cell_type": "code",
   "execution_count": 18,
   "id": "76f4f759",
   "metadata": {},
   "outputs": [
    {
     "data": {
      "text/html": [
       "<div>\n",
       "<style scoped>\n",
       "    .dataframe tbody tr th:only-of-type {\n",
       "        vertical-align: middle;\n",
       "    }\n",
       "\n",
       "    .dataframe tbody tr th {\n",
       "        vertical-align: top;\n",
       "    }\n",
       "\n",
       "    .dataframe thead th {\n",
       "        text-align: right;\n",
       "    }\n",
       "</style>\n",
       "<table border=\"1\" class=\"dataframe\">\n",
       "  <thead>\n",
       "    <tr style=\"text-align: right;\">\n",
       "      <th></th>\n",
       "      <th>pub_year</th>\n",
       "      <th>title</th>\n",
       "      <th>mean</th>\n",
       "      <th>count</th>\n",
       "    </tr>\n",
       "  </thead>\n",
       "  <tbody>\n",
       "    <tr>\n",
       "      <th>0</th>\n",
       "      <td>1999</td>\n",
       "      <td>13</td>\n",
       "      <td>9.1</td>\n",
       "      <td>1</td>\n",
       "    </tr>\n",
       "    <tr>\n",
       "      <th>1</th>\n",
       "      <td>1999</td>\n",
       "      <td>1975 ep</td>\n",
       "      <td>7.1</td>\n",
       "      <td>1</td>\n",
       "    </tr>\n",
       "    <tr>\n",
       "      <th>2</th>\n",
       "      <td>1999</td>\n",
       "      <td>1999</td>\n",
       "      <td>4.8</td>\n",
       "      <td>1</td>\n",
       "    </tr>\n",
       "    <tr>\n",
       "      <th>3</th>\n",
       "      <td>1999</td>\n",
       "      <td>1st imaginary symphony for nomad</td>\n",
       "      <td>2.7</td>\n",
       "      <td>1</td>\n",
       "    </tr>\n",
       "    <tr>\n",
       "      <th>4</th>\n",
       "      <td>1999</td>\n",
       "      <td>69 love songs</td>\n",
       "      <td>9.0</td>\n",
       "      <td>1</td>\n",
       "    </tr>\n",
       "    <tr>\n",
       "      <th>...</th>\n",
       "      <td>...</td>\n",
       "      <td>...</td>\n",
       "      <td>...</td>\n",
       "      <td>...</td>\n",
       "    </tr>\n",
       "    <tr>\n",
       "      <th>18315</th>\n",
       "      <td>2017</td>\n",
       "      <td>punk45: les punks: the french connection (the ...</td>\n",
       "      <td>6.6</td>\n",
       "      <td>1</td>\n",
       "    </tr>\n",
       "    <tr>\n",
       "      <th>18316</th>\n",
       "      <td>2017</td>\n",
       "      <td>reflection</td>\n",
       "      <td>7.7</td>\n",
       "      <td>1</td>\n",
       "    </tr>\n",
       "    <tr>\n",
       "      <th>18317</th>\n",
       "      <td>2017</td>\n",
       "      <td>run the jewels 3</td>\n",
       "      <td>8.6</td>\n",
       "      <td>1</td>\n",
       "    </tr>\n",
       "    <tr>\n",
       "      <th>18318</th>\n",
       "      <td>2017</td>\n",
       "      <td>stillness in wonderland</td>\n",
       "      <td>7.1</td>\n",
       "      <td>1</td>\n",
       "    </tr>\n",
       "    <tr>\n",
       "      <th>18319</th>\n",
       "      <td>2017</td>\n",
       "      <td>tehillim</td>\n",
       "      <td>7.0</td>\n",
       "      <td>1</td>\n",
       "    </tr>\n",
       "  </tbody>\n",
       "</table>\n",
       "<p>18320 rows × 4 columns</p>\n",
       "</div>"
      ],
      "text/plain": [
       "       pub_year                                              title  mean  \\\n",
       "0          1999                                                 13   9.1   \n",
       "1          1999                                            1975 ep   7.1   \n",
       "2          1999                                               1999   4.8   \n",
       "3          1999                   1st imaginary symphony for nomad   2.7   \n",
       "4          1999                                      69 love songs   9.0   \n",
       "...         ...                                                ...   ...   \n",
       "18315      2017  punk45: les punks: the french connection (the ...   6.6   \n",
       "18316      2017                                         reflection   7.7   \n",
       "18317      2017                                   run the jewels 3   8.6   \n",
       "18318      2017                            stillness in wonderland   7.1   \n",
       "18319      2017                                           tehillim   7.0   \n",
       "\n",
       "       count  \n",
       "0          1  \n",
       "1          1  \n",
       "2          1  \n",
       "3          1  \n",
       "4          1  \n",
       "...      ...  \n",
       "18315      1  \n",
       "18316      1  \n",
       "18317      1  \n",
       "18318      1  \n",
       "18319      1  \n",
       "\n",
       "[18320 rows x 4 columns]"
      ]
     },
     "execution_count": 18,
     "metadata": {},
     "output_type": "execute_result"
    }
   ],
   "source": [
    "canciones"
   ]
  },
  {
   "cell_type": "code",
   "execution_count": 19,
   "id": "593cbb5e",
   "metadata": {},
   "outputs": [
    {
     "data": {
      "text/html": [
       "<div>\n",
       "<style scoped>\n",
       "    .dataframe tbody tr th:only-of-type {\n",
       "        vertical-align: middle;\n",
       "    }\n",
       "\n",
       "    .dataframe tbody tr th {\n",
       "        vertical-align: top;\n",
       "    }\n",
       "\n",
       "    .dataframe thead th {\n",
       "        text-align: right;\n",
       "    }\n",
       "</style>\n",
       "<table border=\"1\" class=\"dataframe\">\n",
       "  <thead>\n",
       "    <tr style=\"text-align: right;\">\n",
       "      <th></th>\n",
       "      <th>year</th>\n",
       "      <th>song</th>\n",
       "      <th>score</th>\n",
       "    </tr>\n",
       "  </thead>\n",
       "  <tbody>\n",
       "    <tr>\n",
       "      <th>0</th>\n",
       "      <td>1999</td>\n",
       "      <td>where's wolfie?</td>\n",
       "      <td>0.2</td>\n",
       "    </tr>\n",
       "    <tr>\n",
       "      <th>1</th>\n",
       "      <td>2000</td>\n",
       "      <td>nyc ghosts &amp; flowers</td>\n",
       "      <td>0.0</td>\n",
       "    </tr>\n",
       "    <tr>\n",
       "      <th>2</th>\n",
       "      <td>2001</td>\n",
       "      <td>weird revolution</td>\n",
       "      <td>0.4</td>\n",
       "    </tr>\n",
       "    <tr>\n",
       "      <th>3</th>\n",
       "      <td>2002</td>\n",
       "      <td>feel no fade</td>\n",
       "      <td>0.1</td>\n",
       "    </tr>\n",
       "    <tr>\n",
       "      <th>4</th>\n",
       "      <td>2003</td>\n",
       "      <td>liz phair</td>\n",
       "      <td>0.0</td>\n",
       "    </tr>\n",
       "    <tr>\n",
       "      <th>5</th>\n",
       "      <td>2004</td>\n",
       "      <td>travistan</td>\n",
       "      <td>0.0</td>\n",
       "    </tr>\n",
       "    <tr>\n",
       "      <th>6</th>\n",
       "      <td>2005</td>\n",
       "      <td>relaxation of the asshole</td>\n",
       "      <td>0.0</td>\n",
       "    </tr>\n",
       "    <tr>\n",
       "      <th>7</th>\n",
       "      <td>2006</td>\n",
       "      <td>shine on</td>\n",
       "      <td>0.0</td>\n",
       "    </tr>\n",
       "    <tr>\n",
       "      <th>8</th>\n",
       "      <td>2007</td>\n",
       "      <td>this is next</td>\n",
       "      <td>0.0</td>\n",
       "    </tr>\n",
       "    <tr>\n",
       "      <th>9</th>\n",
       "      <td>2008</td>\n",
       "      <td>angles</td>\n",
       "      <td>0.2</td>\n",
       "    </tr>\n",
       "    <tr>\n",
       "      <th>10</th>\n",
       "      <td>2009</td>\n",
       "      <td>johnny cash remixed</td>\n",
       "      <td>0.2</td>\n",
       "    </tr>\n",
       "    <tr>\n",
       "      <th>11</th>\n",
       "      <td>2010</td>\n",
       "      <td>codename: rondo</td>\n",
       "      <td>1.5</td>\n",
       "    </tr>\n",
       "    <tr>\n",
       "      <th>12</th>\n",
       "      <td>2011</td>\n",
       "      <td>lulu</td>\n",
       "      <td>1.0</td>\n",
       "    </tr>\n",
       "    <tr>\n",
       "      <th>13</th>\n",
       "      <td>2012</td>\n",
       "      <td>sounds from nowheresville</td>\n",
       "      <td>1.8</td>\n",
       "    </tr>\n",
       "    <tr>\n",
       "      <th>14</th>\n",
       "      <td>2013</td>\n",
       "      <td>ep-1</td>\n",
       "      <td>1.0</td>\n",
       "    </tr>\n",
       "    <tr>\n",
       "      <th>15</th>\n",
       "      <td>2014</td>\n",
       "      <td>wish i was here ost</td>\n",
       "      <td>2.0</td>\n",
       "    </tr>\n",
       "    <tr>\n",
       "      <th>16</th>\n",
       "      <td>2015</td>\n",
       "      <td>wilder mind</td>\n",
       "      <td>2.0</td>\n",
       "    </tr>\n",
       "    <tr>\n",
       "      <th>17</th>\n",
       "      <td>2016</td>\n",
       "      <td>the party's over ep</td>\n",
       "      <td>2.0</td>\n",
       "    </tr>\n",
       "    <tr>\n",
       "      <th>18</th>\n",
       "      <td>2017</td>\n",
       "      <td>december 99th</td>\n",
       "      <td>3.5</td>\n",
       "    </tr>\n",
       "  </tbody>\n",
       "</table>\n",
       "</div>"
      ],
      "text/plain": [
       "    year                       song  score\n",
       "0   1999            where's wolfie?    0.2\n",
       "1   2000       nyc ghosts & flowers    0.0\n",
       "2   2001           weird revolution    0.4\n",
       "3   2002               feel no fade    0.1\n",
       "4   2003                  liz phair    0.0\n",
       "5   2004                  travistan    0.0\n",
       "6   2005  relaxation of the asshole    0.0\n",
       "7   2006                   shine on    0.0\n",
       "8   2007               this is next    0.0\n",
       "9   2008                     angles    0.2\n",
       "10  2009        johnny cash remixed    0.2\n",
       "11  2010            codename: rondo    1.5\n",
       "12  2011                       lulu    1.0\n",
       "13  2012  sounds from nowheresville    1.8\n",
       "14  2013                       ep-1    1.0\n",
       "15  2014        wish i was here ost    2.0\n",
       "16  2015                wilder mind    2.0\n",
       "17  2016        the party's over ep    2.0\n",
       "18  2017              december 99th    3.5"
      ]
     },
     "execution_count": 19,
     "metadata": {},
     "output_type": "execute_result"
    }
   ],
   "source": [
    "year = []\n",
    "song=[]\n",
    "score=[]\n",
    "for i in canciones['pub_year'].unique():\n",
    "    year.append(i)\n",
    "    song.append(canciones[(canciones['pub_year']==i)].sort_values(by='mean',ascending=True).head(1)['title'].values[0])\n",
    "    score.append(canciones[(canciones['pub_year']==i)].sort_values(by='mean',ascending=True).head(1)['mean'].values[0])\n",
    "  \n",
    "dict = {'year': year, 'song': song, 'score': score} \n",
    "    \n",
    "canciones = pd.DataFrame(dict)\n",
    "canciones"
   ]
  },
  {
   "cell_type": "markdown",
   "id": "5a741621",
   "metadata": {},
   "source": [
    "### ¿Cuál es el mejor año para la música según los reviewers de Pitchfork?"
   ]
  },
  {
   "cell_type": "code",
   "execution_count": 20,
   "id": "6bcc0d41",
   "metadata": {},
   "outputs": [
    {
     "data": {
      "text/plain": [
       "Index(['reviewid', 'artist', 'genre', 'label', 'title', 'url', 'score',\n",
       "       'best_new_music', 'author', 'author_type', 'pub_date', 'pub_weekday',\n",
       "       'pub_day', 'pub_month', 'pub_year', 'year'],\n",
       "      dtype='object')"
      ]
     },
     "execution_count": 20,
     "metadata": {},
     "output_type": "execute_result"
    }
   ],
   "source": [
    "df.columns"
   ]
  },
  {
   "cell_type": "code",
   "execution_count": 21,
   "id": "2d141fe1",
   "metadata": {},
   "outputs": [],
   "source": [
    "grouped = df.groupby(by = ['pub_year'],as_index=False)['score'].agg('mean').dropna().sort_values(by='score',ascending=False)\n",
    "grouped['pub_year'] = grouped['pub_year'].astype(int)"
   ]
  },
  {
   "cell_type": "code",
   "execution_count": 22,
   "id": "1f0d82e8",
   "metadata": {},
   "outputs": [
    {
     "data": {
      "text/html": [
       "<div>\n",
       "<style scoped>\n",
       "    .dataframe tbody tr th:only-of-type {\n",
       "        vertical-align: middle;\n",
       "    }\n",
       "\n",
       "    .dataframe tbody tr th {\n",
       "        vertical-align: top;\n",
       "    }\n",
       "\n",
       "    .dataframe thead th {\n",
       "        text-align: right;\n",
       "    }\n",
       "</style>\n",
       "<table border=\"1\" class=\"dataframe\">\n",
       "  <thead>\n",
       "    <tr style=\"text-align: right;\">\n",
       "      <th></th>\n",
       "      <th>pub_year</th>\n",
       "      <th>score</th>\n",
       "    </tr>\n",
       "  </thead>\n",
       "  <tbody>\n",
       "    <tr>\n",
       "      <th>18</th>\n",
       "      <td>2017</td>\n",
       "      <td>7.364706</td>\n",
       "    </tr>\n",
       "  </tbody>\n",
       "</table>\n",
       "</div>"
      ],
      "text/plain": [
       "    pub_year     score\n",
       "18      2017  7.364706"
      ]
     },
     "execution_count": 22,
     "metadata": {},
     "output_type": "execute_result"
    }
   ],
   "source": [
    "# Mejor año\n",
    "\n",
    "grouped.head(1)"
   ]
  },
  {
   "cell_type": "code",
   "execution_count": 23,
   "id": "c48b1c1c",
   "metadata": {},
   "outputs": [
    {
     "data": {
      "text/html": [
       "<div>\n",
       "<style scoped>\n",
       "    .dataframe tbody tr th:only-of-type {\n",
       "        vertical-align: middle;\n",
       "    }\n",
       "\n",
       "    .dataframe tbody tr th {\n",
       "        vertical-align: top;\n",
       "    }\n",
       "\n",
       "    .dataframe thead th {\n",
       "        text-align: right;\n",
       "    }\n",
       "</style>\n",
       "<table border=\"1\" class=\"dataframe\">\n",
       "  <thead>\n",
       "    <tr style=\"text-align: right;\">\n",
       "      <th></th>\n",
       "      <th>pub_year</th>\n",
       "      <th>score</th>\n",
       "    </tr>\n",
       "  </thead>\n",
       "  <tbody>\n",
       "    <tr>\n",
       "      <th>1</th>\n",
       "      <td>2000</td>\n",
       "      <td>6.791954</td>\n",
       "    </tr>\n",
       "  </tbody>\n",
       "</table>\n",
       "</div>"
      ],
      "text/plain": [
       "   pub_year     score\n",
       "1      2000  6.791954"
      ]
     },
     "execution_count": 23,
     "metadata": {},
     "output_type": "execute_result"
    }
   ],
   "source": [
    "# Peor año\n",
    "\n",
    "grouped.tail(1)"
   ]
  },
  {
   "cell_type": "markdown",
   "id": "ce434ee6",
   "metadata": {},
   "source": [
    "### ¿Cuál es el mejor grupo de todos?"
   ]
  },
  {
   "cell_type": "code",
   "execution_count": 24,
   "id": "b53339b3",
   "metadata": {},
   "outputs": [
    {
     "data": {
      "text/html": [
       "<div>\n",
       "<style scoped>\n",
       "    .dataframe tbody tr th:only-of-type {\n",
       "        vertical-align: middle;\n",
       "    }\n",
       "\n",
       "    .dataframe tbody tr th {\n",
       "        vertical-align: top;\n",
       "    }\n",
       "\n",
       "    .dataframe thead th {\n",
       "        text-align: right;\n",
       "    }\n",
       "</style>\n",
       "<table border=\"1\" class=\"dataframe\">\n",
       "  <thead>\n",
       "    <tr style=\"text-align: right;\">\n",
       "      <th></th>\n",
       "      <th>mean</th>\n",
       "      <th>count</th>\n",
       "    </tr>\n",
       "    <tr>\n",
       "      <th>artist</th>\n",
       "      <th></th>\n",
       "      <th></th>\n",
       "    </tr>\n",
       "  </thead>\n",
       "  <tbody>\n",
       "    <tr>\n",
       "      <th>dangelo</th>\n",
       "      <td>10.0</td>\n",
       "      <td>1</td>\n",
       "    </tr>\n",
       "    <tr>\n",
       "      <th>slint</th>\n",
       "      <td>10.0</td>\n",
       "      <td>1</td>\n",
       "    </tr>\n",
       "    <tr>\n",
       "      <th>stevie wonder</th>\n",
       "      <td>10.0</td>\n",
       "      <td>1</td>\n",
       "    </tr>\n",
       "    <tr>\n",
       "      <th>talk talk</th>\n",
       "      <td>10.0</td>\n",
       "      <td>1</td>\n",
       "    </tr>\n",
       "    <tr>\n",
       "      <th>television</th>\n",
       "      <td>10.0</td>\n",
       "      <td>1</td>\n",
       "    </tr>\n",
       "    <tr>\n",
       "      <th>the stone roses</th>\n",
       "      <td>10.0</td>\n",
       "      <td>1</td>\n",
       "    </tr>\n",
       "  </tbody>\n",
       "</table>\n",
       "</div>"
      ],
      "text/plain": [
       "                 mean  count\n",
       "artist                      \n",
       "dangelo          10.0      1\n",
       "slint            10.0      1\n",
       "stevie wonder    10.0      1\n",
       "talk talk        10.0      1\n",
       "television       10.0      1\n",
       "the stone roses  10.0      1"
      ]
     },
     "execution_count": 24,
     "metadata": {},
     "output_type": "execute_result"
    }
   ],
   "source": [
    "grupos = df.groupby(by = ['artist'],as_index=False)['score'].agg(['mean','count']).dropna().sort_values(by=['mean','count'],ascending=False)\n",
    "grupos =grupos[grupos['mean']==grupos['mean'].max()]\n",
    "grupos"
   ]
  },
  {
   "cell_type": "code",
   "execution_count": 25,
   "id": "15674327",
   "metadata": {},
   "outputs": [],
   "source": [
    "grupos = df.groupby(by = ['artist'],as_index=False)['score'].agg(['mean','count']).dropna().sort_values(by=['mean','count'],ascending=False)\n",
    "grupos = grupos[grupos['count']>=5].sort_values(by='mean',ascending=False).head(1)"
   ]
  },
  {
   "cell_type": "code",
   "execution_count": 26,
   "id": "ce9b0c85",
   "metadata": {},
   "outputs": [
    {
     "data": {
      "text/html": [
       "<div>\n",
       "<style scoped>\n",
       "    .dataframe tbody tr th:only-of-type {\n",
       "        vertical-align: middle;\n",
       "    }\n",
       "\n",
       "    .dataframe tbody tr th {\n",
       "        vertical-align: top;\n",
       "    }\n",
       "\n",
       "    .dataframe thead th {\n",
       "        text-align: right;\n",
       "    }\n",
       "</style>\n",
       "<table border=\"1\" class=\"dataframe\">\n",
       "  <thead>\n",
       "    <tr style=\"text-align: right;\">\n",
       "      <th></th>\n",
       "      <th>mean</th>\n",
       "      <th>count</th>\n",
       "    </tr>\n",
       "    <tr>\n",
       "      <th>artist</th>\n",
       "      <th></th>\n",
       "      <th></th>\n",
       "    </tr>\n",
       "  </thead>\n",
       "  <tbody>\n",
       "    <tr>\n",
       "      <th>the velvet underground</th>\n",
       "      <td>9.457143</td>\n",
       "      <td>7</td>\n",
       "    </tr>\n",
       "  </tbody>\n",
       "</table>\n",
       "</div>"
      ],
      "text/plain": [
       "                            mean  count\n",
       "artist                                 \n",
       "the velvet underground  9.457143      7"
      ]
     },
     "execution_count": 26,
     "metadata": {},
     "output_type": "execute_result"
    }
   ],
   "source": [
    "grupos"
   ]
  },
  {
   "cell_type": "code",
   "execution_count": 27,
   "id": "dd284c75",
   "metadata": {},
   "outputs": [],
   "source": [
    "mediana_rev = reviewers['count'].median()"
   ]
  },
  {
   "cell_type": "code",
   "execution_count": 28,
   "id": "441bd1ef",
   "metadata": {},
   "outputs": [],
   "source": [
    "grupos = df.groupby(by = ['artist'],as_index=False)['score'].agg(['mean','count']).dropna().sort_values(by=['mean','count'],ascending=False)\n",
    "grupos = grupos[grupos['count']>=mediana_rev].sort_values(by='mean',ascending=False).head(1)"
   ]
  },
  {
   "cell_type": "code",
   "execution_count": 30,
   "id": "7deaa22d",
   "metadata": {},
   "outputs": [
    {
     "data": {
      "text/html": [
       "<div>\n",
       "<style scoped>\n",
       "    .dataframe tbody tr th:only-of-type {\n",
       "        vertical-align: middle;\n",
       "    }\n",
       "\n",
       "    .dataframe tbody tr th {\n",
       "        vertical-align: top;\n",
       "    }\n",
       "\n",
       "    .dataframe thead th {\n",
       "        text-align: right;\n",
       "    }\n",
       "</style>\n",
       "<table border=\"1\" class=\"dataframe\">\n",
       "  <thead>\n",
       "    <tr style=\"text-align: right;\">\n",
       "      <th></th>\n",
       "      <th>mean</th>\n",
       "      <th>count</th>\n",
       "    </tr>\n",
       "    <tr>\n",
       "      <th>artist</th>\n",
       "      <th></th>\n",
       "      <th></th>\n",
       "    </tr>\n",
       "  </thead>\n",
       "  <tbody>\n",
       "    <tr>\n",
       "      <th>the beatles</th>\n",
       "      <td>8.890476</td>\n",
       "      <td>21</td>\n",
       "    </tr>\n",
       "  </tbody>\n",
       "</table>\n",
       "</div>"
      ],
      "text/plain": [
       "                 mean  count\n",
       "artist                      \n",
       "the beatles  8.890476     21"
      ]
     },
     "execution_count": 30,
     "metadata": {},
     "output_type": "execute_result"
    }
   ],
   "source": [
    "grupos"
   ]
  },
  {
   "cell_type": "markdown",
   "id": "9b89325e",
   "metadata": {},
   "source": [
    "### ¿Mejoran las puntuaciones de cada artista a lo largo del tiempo?"
   ]
  },
  {
   "cell_type": "code",
   "execution_count": 31,
   "id": "acaed894",
   "metadata": {},
   "outputs": [],
   "source": [
    "grupos = df.groupby(by = ['artist','pub_year'],as_index=False)['score'].agg(['mean','count']).dropna().sort_values(by=['mean','count'],ascending=False)\n",
    "grupos = grupos.reset_index()"
   ]
  },
  {
   "cell_type": "code",
   "execution_count": 32,
   "id": "92d1f287",
   "metadata": {
    "scrolled": false
   },
   "outputs": [
    {
     "data": {
      "text/plain": [
       "2668"
      ]
     },
     "execution_count": 32,
     "metadata": {},
     "output_type": "execute_result"
    }
   ],
   "source": [
    "vc = grupos['artist'].value_counts().reset_index()\n",
    "vc.columns = ['artist','index']\n",
    "grupos = pd.merge(grupos,vc,how='left',left_on='artist',right_on='artist')\n",
    "grupos = grupos[grupos['index']>5]\n",
    "grupos.shape[0]"
   ]
  },
  {
   "cell_type": "code",
   "execution_count": 40,
   "id": "d19fd2f7",
   "metadata": {},
   "outputs": [
    {
     "data": {
      "image/png": "[encoded data removed]",
      "text/plain": [
       "<Figure size 720x576 with 1 Axes>"
      ]
     },
     "metadata": {
      "needs_background": "light"
     },
     "output_type": "display_data"
    }
   ],
   "source": [
    "plt.figure(figsize=[10,8])\n",
    "plt.scatter(x=grupos['pub_year'],y=grupos['mean'],c='r')\n",
    "plt.title('Nota Media por review vs. Nº de reviews por usuario en Pitchfork')\n",
    "plt.xlabel('Nº Reviews')\n",
    "plt.ylabel('Nota Media')\n",
    "plt.xticks(np.arange(activ['pub_year'].min(),activ['pub_year'].max()+1,1))\n",
    "sns.despine()"
   ]
  },
  {
   "cell_type": "markdown",
   "id": "be53459b",
   "metadata": {},
   "source": [
    "### ¿En qué año ha habido más actividad en la página?"
   ]
  },
  {
   "cell_type": "code",
   "execution_count": 34,
   "id": "defca8f8",
   "metadata": {},
   "outputs": [],
   "source": [
    "activ = df.groupby(by = 'pub_year',as_index=False)['reviewid'].agg('count').dropna().sort_values(by='reviewid',ascending=False)\n",
    "activ['pub_year'] = activ['pub_year'].astype(int)"
   ]
  },
  {
   "cell_type": "code",
   "execution_count": 35,
   "id": "d3b9ec15",
   "metadata": {},
   "outputs": [
    {
     "data": {
      "text/html": [
       "<div>\n",
       "<style scoped>\n",
       "    .dataframe tbody tr th:only-of-type {\n",
       "        vertical-align: middle;\n",
       "    }\n",
       "\n",
       "    .dataframe tbody tr th {\n",
       "        vertical-align: top;\n",
       "    }\n",
       "\n",
       "    .dataframe thead th {\n",
       "        text-align: right;\n",
       "    }\n",
       "</style>\n",
       "<table border=\"1\" class=\"dataframe\">\n",
       "  <thead>\n",
       "    <tr style=\"text-align: right;\">\n",
       "      <th></th>\n",
       "      <th>pub_year</th>\n",
       "      <th>reviewid</th>\n",
       "    </tr>\n",
       "  </thead>\n",
       "  <tbody>\n",
       "    <tr>\n",
       "      <th>17</th>\n",
       "      <td>2016</td>\n",
       "      <td>1265</td>\n",
       "    </tr>\n",
       "  </tbody>\n",
       "</table>\n",
       "</div>"
      ],
      "text/plain": [
       "    pub_year  reviewid\n",
       "17      2016      1265"
      ]
     },
     "execution_count": 35,
     "metadata": {},
     "output_type": "execute_result"
    }
   ],
   "source": [
    "activ.head(1)"
   ]
  },
  {
   "cell_type": "code",
   "execution_count": 39,
   "id": "f9950296",
   "metadata": {},
   "outputs": [
    {
     "data": {
      "image/png": "[encoded data removed]",
      "text/plain": [
       "<Figure size 864x648 with 1 Axes>"
      ]
     },
     "metadata": {
      "needs_background": "light"
     },
     "output_type": "display_data"
    }
   ],
   "source": [
    "plt.figure(figsize=(12,9))\n",
    "plt.bar(x=activ['pub_year'],height=activ['reviewid'])\n",
    "plt.xticks(np.arange(activ['pub_year'].min(),activ['pub_year'].max()+1,1))\n",
    "sns.despine()"
   ]
  }
 ],
 "metadata": {
  "kernelspec": {
   "display_name": "Python 3 (ipykernel)",
   "language": "python",
   "name": "python3"
  },
  "language_info": {
   "codemirror_mode": {
    "name": "ipython",
    "version": 3
   },
   "file_extension": ".py",
   "mimetype": "text/x-python",
   "name": "python",
   "nbconvert_exporter": "python",
   "pygments_lexer": "ipython3",
   "version": "3.8.5"
  },
  "toc": {
   "base_numbering": 1,
   "nav_menu": {},
   "number_sections": true,
   "sideBar": true,
   "skip_h1_title": false,
   "title_cell": "Table of Contents",
   "title_sidebar": "Contents",
   "toc_cell": true,
   "toc_position": {},
   "toc_section_display": true,
   "toc_window_display": false
  }
 },
 "nbformat": 4,
 "nbformat_minor": 5
}
