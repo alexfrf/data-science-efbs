{
 "cells": [
  {
   "cell_type": "markdown",
   "id": "715beb6e",
   "metadata": {},
   "source": [
    "# Listas\n",
    "\n",
    "Las listas son un elemento de construcción básico de Python, una lista es un objeto/estructura en python que puede almacenar, en su interior, cualquier tipo de elemento.\n",
    "\n",
    "En los ejercicios de rangos hemos utilizado listas para poder mostrar los números con print (los corchetes con el ```x for x in```) \n",
    "\n",
    "Una lista puede construirse vacía de dos formas diferentes:\n",
    "\n",
    "> ```mi_lista = list()```\n",
    "\n",
    "o, de forma abreviada:\n",
    "\n",
    "> ```mi_lista = [] ```\n",
    "\n",
    "Ambas construcciones son equivalentes.\n",
    "\n",
    "Una vez tenemos una lista vacía podemos:\n",
    "- Añadir un elemento: ```mi_lista.append(elemento)```\n",
    "- Acceder a un elemento: ```mi_lista[posicion]``` **recordad que las posiciones de una lista empiezan en 0**\n",
    "- Concatenar una lista: ```mi_lista.extend(mi_otra_lista)```\n",
    "- Eliminar un elemento: ```mi_lista.remove(elemento)``` (ojo, se elimina el elemento en sí mismo, no una posición)\n",
    "- Extraer el último elemento: ```mi_lista.pop()```\n",
    "- Determinar el número de elementos de una lista: ```len(mi_lista)```\n"
   ]
  },
  {
   "cell_type": "code",
   "execution_count": 26,
   "id": "b8b96cfa",
   "metadata": {
    "ExecuteTime": {
     "end_time": "2021-11-12T22:38:36.513038Z",
     "start_time": "2021-11-12T22:38:36.506015Z"
    }
   },
   "outputs": [
    {
     "name": "stdout",
     "output_type": "stream",
     "text": [
      "mi lista después de añadir \"hola\":  [1, 3, 'hola']\n",
      "mi lista después de extender: [1, 3, 'hola', 1, 2, 3]\n",
      "el primer elemento era:  3 la lista queda:  [1, 3, 'hola', 1, 2]\n",
      "la lista después de eliminar \"hola\":  [1, 3, 1, 2]\n",
      "1\n"
     ]
    }
   ],
   "source": [
    "# creamos una lista vacía\n",
    "\n",
    "mi_lista = []\n",
    "\n",
    "mi_lista.append(1)\n",
    "mi_lista.append(3)\n",
    "mi_lista.append('hola')\n",
    "print('mi lista después de añadir \"hola\": ', mi_lista)\n",
    "\n",
    "\n",
    "# Creamos una lista con algunos elementos\n",
    "otra_lista = [1,2,3]\n",
    "\n",
    "mi_lista.extend(otra_lista)\n",
    "\n",
    "print('mi lista después de extender:', mi_lista)\n",
    "\n",
    "# Extraemos el último elemento:\n",
    "\n",
    "primer_elemento = mi_lista.pop()\n",
    "\n",
    "print('el primer elemento era: ', primer_elemento, 'la lista queda: ', mi_lista)\n",
    "\n",
    "# eliminamos 'hola' de la lista:\n",
    "mi_lista.remove('hola')\n",
    "\n",
    "print('la lista después de eliminar \"hola\": ', mi_lista)\n",
    "\n",
    "# Obtenemos el tercer elemento de la lista:\n",
    "\n",
    "print(mi_lista[2])"
   ]
  },
  {
   "cell_type": "markdown",
   "id": "0ad156b8",
   "metadata": {
    "ExecuteTime": {
     "end_time": "2021-11-12T20:53:05.794540Z",
     "start_time": "2021-11-12T20:53:05.782567Z"
    }
   },
   "source": [
    "# Listas  y bucles\n",
    "Es habitual utilizar listas con bucles y rangos.\n",
    "\n",
    "Podemos leer todos los elementos de una lista con un bucle:"
   ]
  },
  {
   "cell_type": "code",
   "execution_count": 27,
   "id": "30f4ec34",
   "metadata": {
    "ExecuteTime": {
     "end_time": "2021-11-12T22:38:38.439425Z",
     "start_time": "2021-11-12T22:38:38.433425Z"
    }
   },
   "outputs": [
    {
     "name": "stdout",
     "output_type": "stream",
     "text": [
      "1\n",
      "3\n",
      "1\n",
      "2\n"
     ]
    }
   ],
   "source": [
    "for x in mi_lista:\n",
    "    print(x)"
   ]
  },
  {
   "cell_type": "markdown",
   "id": "758303b3",
   "metadata": {},
   "source": [
    "O, podemos ir atravesando todas las posiciones de una lista:"
   ]
  },
  {
   "cell_type": "code",
   "execution_count": 28,
   "id": "dfa73f8e",
   "metadata": {
    "ExecuteTime": {
     "end_time": "2021-11-12T22:38:40.295231Z",
     "start_time": "2021-11-12T22:38:40.289232Z"
    }
   },
   "outputs": [
    {
     "name": "stdout",
     "output_type": "stream",
     "text": [
      "2\n",
      "6\n",
      "2\n",
      "4\n"
     ]
    }
   ],
   "source": [
    "# len(mi_lista) devuelve el número de elementos de la lista\n",
    "\n",
    "elementos = len(mi_lista)\n",
    "\n",
    "# vamos pasando cada posición\n",
    "for posicion in range(elementos): \n",
    "    print(mi_lista[posicion] * 2)"
   ]
  },
  {
   "cell_type": "markdown",
   "id": "d3f874a4",
   "metadata": {},
   "source": [
    " ## Ejercicio 1: inveritr una lista\n",
    " \n",
    "Crea una lista con los elementos del 0 al 4 y, a continuación, invierte su orden para crear una nueva lista con los elementos del 4 al 0 utilizando un bucle for."
   ]
  },
  {
   "cell_type": "code",
   "execution_count": 22,
   "id": "41100f3d",
   "metadata": {},
   "outputs": [],
   "source": [
    "list1 = [i for i in range(5)]\n",
    "list2 = list1[::-1]"
   ]
  },
  {
   "cell_type": "code",
   "execution_count": 23,
   "id": "d198b887",
   "metadata": {},
   "outputs": [
    {
     "data": {
      "text/plain": [
       "[4, 3, 2, 1, 0]"
      ]
     },
     "execution_count": 23,
     "metadata": {},
     "output_type": "execute_result"
    }
   ],
   "source": [
    "list2"
   ]
  },
  {
   "cell_type": "markdown",
   "id": "7615deee",
   "metadata": {},
   "source": [
    "## Modificar elementos de una lista\n",
    "\n",
    "Crea una lista con los números del 0 al 4 y, a continuación, utiliza un bucle for para elevar cada elemento al cuadrado"
   ]
  },
  {
   "cell_type": "code",
   "execution_count": 24,
   "id": "32ea9b1b",
   "metadata": {},
   "outputs": [
    {
     "name": "stdout",
     "output_type": "stream",
     "text": [
      "[0, 1, 4, 9, 16]\n"
     ]
    }
   ],
   "source": [
    "list1 = [i for i in range(5)]\n",
    "list2 = []\n",
    "for i in list1:\n",
    "    k = i**2\n",
    "    list2.append(k)\n",
    "print(list2)"
   ]
  },
  {
   "cell_type": "markdown",
   "id": "d067167f",
   "metadata": {},
   "source": [
    "## Modificar elementos de una lista (2)\n",
    "\n",
    "Crea una lista con los números del 0 al 4 y, a continuación, utiliza un bucle for para elevar los elementos pares al cuadrado, los impares deben quedar sin modificar."
   ]
  },
  {
   "cell_type": "code",
   "execution_count": 26,
   "id": "58593b8f",
   "metadata": {},
   "outputs": [
    {
     "name": "stdout",
     "output_type": "stream",
     "text": [
      "[0, 1, 4, 3, 16]\n"
     ]
    }
   ],
   "source": [
    "list1 = [i for i in range(5)]\n",
    "list2 = []\n",
    "for i in list1:\n",
    "    if i % 2 == 0:\n",
    "        list2.append(i**2)\n",
    "    else:\n",
    "        list2.append(i)\n",
    "        \n",
    "print(list2)"
   ]
  },
  {
   "cell_type": "markdown",
   "id": "f3b16491",
   "metadata": {},
   "source": [
    "## Múltiples listas\n",
    "\n",
    "Crea tres listas, una de ellas con los números del 0 al 4, otra con los números del 5 al 9 y, la tercera vacía.\n",
    "\n",
    "Crea un bucle que almacene, en la tercera de las listas, la suma de los elementos de las dos primeras (la lista final deberá contener [5, 7, 9, 11, 13]"
   ]
  },
  {
   "cell_type": "code",
   "execution_count": 31,
   "id": "47380847",
   "metadata": {},
   "outputs": [
    {
     "data": {
      "text/plain": [
       "[5, 7, 9, 11, 13]"
      ]
     },
     "execution_count": 31,
     "metadata": {},
     "output_type": "execute_result"
    }
   ],
   "source": [
    "list1 = [i for i in range(4+1)]\n",
    "list2 = [i for i in range(5,9+1)]\n",
    "list3 = []\n",
    "for i,j in zip(list1,list2):\n",
    "    k = i+j\n",
    "    list3.append(k)\n",
    "list3"
   ]
  }
 ],
 "metadata": {
  "kernelspec": {
   "display_name": "Python 3 (ipykernel)",
   "language": "python",
   "name": "python3"
  },
  "language_info": {
   "codemirror_mode": {
    "name": "ipython",
    "version": 3
   },
   "file_extension": ".py",
   "mimetype": "text/x-python",
   "name": "python",
   "nbconvert_exporter": "python",
   "pygments_lexer": "ipython3",
   "version": "3.8.5"
  },
  "toc": {
   "base_numbering": 1,
   "nav_menu": {},
   "number_sections": true,
   "sideBar": true,
   "skip_h1_title": false,
   "title_cell": "Table of Contents",
   "title_sidebar": "Contents",
   "toc_cell": false,
   "toc_position": {},
   "toc_section_display": true,
   "toc_window_display": false
  }
 },
 "nbformat": 4,
 "nbformat_minor": 5
}
