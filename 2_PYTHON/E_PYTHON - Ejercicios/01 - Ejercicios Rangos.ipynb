{
 "cells": [
  {
   "cell_type": "markdown",
   "id": "d1571742",
   "metadata": {},
   "source": [
    "## Rangos\n",
    "\n",
    "Este cuaderno contiene ejercicios de nivel básico de Python para trabajar con Rangos.\n",
    "\n",
    "Aunque son conceptos que no se practican de forma explícita en el máster, adquirir cierta soltura con ellos ayudará a entender mejor cómo funciona la  programación en Python y seguir el resto de clases basadas en Python de un modo más cómodo\n",
    "\n",
    "Una tarea recurrente al analizar en Python es la de generar rangos de números. Hay muchas formas de hacerlo pero, la forma más limpia de hacerlo es utilizar la función ```range```.\n",
    "\n",
    "Range es una función muy versátil que admite, como máximo, tres parámetros:\n",
    "- Inicio del rango (opcional, si no se indica es 0)\n",
    "- Final del rango (obligatorio)\n",
    "- Paso (opcional, si no se indica es 1)\n",
    "\n",
    "¡Cuidado con el final del rango!, es un final no inclusivo, es decir, si queremos generar los números del 0 al 10 tenemos que utilizar:\n",
    "\n",
    "> ```range(0,11)```\n",
    "\n",
    "o\n",
    "\n",
    "> ```range(11)```\n",
    "\n",
    "Si queremos generar los números del 1 al 10 utilizamos:\n",
    "\n",
    "> ```range(1,11)```\n",
    "\n",
    "Podemos comprobar si hemos generado bien un rango con:\n",
    "\n",
    "> ```print([x for x in range(1,11)])```\n",
    "\n",
    "### Rangos 1\n",
    "\n",
    "Genera los números del 1 al 10, ambos incluídos"
   ]
  },
  {
   "cell_type": "code",
   "execution_count": 1,
   "id": "7c4cec72",
   "metadata": {},
   "outputs": [
    {
     "data": {
      "text/plain": [
       "range(0, 11)"
      ]
     },
     "execution_count": 1,
     "metadata": {},
     "output_type": "execute_result"
    }
   ],
   "source": [
    "range(0,11)"
   ]
  },
  {
   "cell_type": "markdown",
   "id": "1dd47abf",
   "metadata": {},
   "source": [
    "### Rangos 2\n",
    "Genera los números del 11 al 100, ambos incluídos\n"
   ]
  },
  {
   "cell_type": "code",
   "execution_count": 2,
   "id": "8757b6d3",
   "metadata": {},
   "outputs": [
    {
     "data": {
      "text/plain": [
       "range(11, 101)"
      ]
     },
     "execution_count": 2,
     "metadata": {},
     "output_type": "execute_result"
    }
   ],
   "source": [
    "range(11,101)"
   ]
  },
  {
   "cell_type": "markdown",
   "id": "fa71a4db",
   "metadata": {},
   "source": [
    "### Rangos 3\n",
    "\n",
    "Genera los números pares del 10 al 100, ambos incluídos (prueba con el tercer parámetro)"
   ]
  },
  {
   "cell_type": "code",
   "execution_count": 3,
   "id": "02596ba7",
   "metadata": {},
   "outputs": [
    {
     "name": "stdout",
     "output_type": "stream",
     "text": [
      "10\n",
      "12\n",
      "14\n",
      "16\n",
      "18\n",
      "20\n",
      "22\n",
      "24\n",
      "26\n",
      "28\n",
      "30\n",
      "32\n",
      "34\n",
      "36\n",
      "38\n",
      "40\n",
      "42\n",
      "44\n",
      "46\n",
      "48\n",
      "50\n",
      "52\n",
      "54\n",
      "56\n",
      "58\n",
      "60\n",
      "62\n",
      "64\n",
      "66\n",
      "68\n",
      "70\n",
      "72\n",
      "74\n",
      "76\n",
      "78\n",
      "80\n",
      "82\n",
      "84\n",
      "86\n",
      "88\n",
      "90\n",
      "92\n",
      "94\n",
      "96\n",
      "98\n",
      "100\n"
     ]
    }
   ],
   "source": [
    "range(10,101,2)\n",
    "for i in range(10,101,2):\n",
    "    print(i)"
   ]
  },
  {
   "cell_type": "markdown",
   "id": "ec06992e",
   "metadata": {},
   "source": [
    "### Rangos 4\n",
    "\n",
    "Genera los números del 10 al 1, ambos inlcuídos, ¿cómo podemos generar listas hacia atrás?, Python es un lenguaje bastante intuitivo, si probáis un poco seguro que encontráis la forma."
   ]
  },
  {
   "cell_type": "code",
   "execution_count": 4,
   "id": "989343d2",
   "metadata": {},
   "outputs": [
    {
     "data": {
      "text/plain": [
       "[10, 9, 8, 7, 6, 5, 4, 3, 2, 1]"
      ]
     },
     "execution_count": 4,
     "metadata": {},
     "output_type": "execute_result"
    }
   ],
   "source": [
    "list_ = [i for i in range(1,11)][::-1]\n",
    "list_"
   ]
  },
  {
   "cell_type": "markdown",
   "id": "daa35ec9",
   "metadata": {},
   "source": [
    "### Rangos 5\n",
    "\n",
    "Muestra todos los múltiplos de 7 que hay entre 1 y 350."
   ]
  },
  {
   "cell_type": "code",
   "execution_count": 5,
   "id": "ef832ef1",
   "metadata": {},
   "outputs": [
    {
     "name": "stdout",
     "output_type": "stream",
     "text": [
      "7\n",
      "14\n",
      "21\n",
      "28\n",
      "35\n",
      "42\n",
      "49\n",
      "56\n",
      "63\n",
      "70\n",
      "77\n",
      "84\n",
      "91\n",
      "98\n",
      "105\n",
      "112\n",
      "119\n",
      "126\n",
      "133\n",
      "140\n",
      "147\n",
      "154\n",
      "161\n",
      "168\n",
      "175\n",
      "182\n",
      "189\n",
      "196\n",
      "203\n",
      "210\n",
      "217\n",
      "224\n",
      "231\n",
      "238\n",
      "245\n",
      "252\n",
      "259\n",
      "266\n",
      "273\n",
      "280\n",
      "287\n",
      "294\n",
      "301\n",
      "308\n",
      "315\n",
      "322\n",
      "329\n",
      "336\n",
      "343\n",
      "350\n"
     ]
    }
   ],
   "source": [
    "for i in range(1,351):\n",
    "    if i % 7 == 0:\n",
    "        print(i)"
   ]
  },
  {
   "cell_type": "markdown",
   "id": "b1ed6dc4",
   "metadata": {},
   "source": [
    "### Rangos 6\n",
    "\n",
    "Haz una lista con los cuadrados de los números del 1 al 9. En python podemos hacer el cuadrado de un número con x**2"
   ]
  },
  {
   "cell_type": "code",
   "execution_count": 6,
   "id": "1df66e85",
   "metadata": {
    "ExecuteTime": {
     "end_time": "2021-11-12T20:46:46.991658Z",
     "start_time": "2021-11-12T20:46:46.982658Z"
    }
   },
   "outputs": [
    {
     "data": {
      "text/plain": [
       "9"
      ]
     },
     "execution_count": 6,
     "metadata": {},
     "output_type": "execute_result"
    }
   ],
   "source": [
    "3**2"
   ]
  },
  {
   "cell_type": "code",
   "execution_count": 7,
   "id": "d1bf51fb",
   "metadata": {},
   "outputs": [
    {
     "name": "stdout",
     "output_type": "stream",
     "text": [
      "[1, 4, 9, 16, 25, 36, 49, 64, 81]\n"
     ]
    }
   ],
   "source": [
    "list_=[]\n",
    "for i in range(1,10):\n",
    "    list_.append(i**2)\n",
    "print(list_)"
   ]
  },
  {
   "cell_type": "markdown",
   "id": "39345f87",
   "metadata": {},
   "source": [
    "## Notas finales\n",
    "\n",
    "El uso de la función ```range``` en python es la forma *correcta* de generar números que siguen un patrón claro.\n",
    "\n",
    "Al utilizar ```range```python utiliza la menor cantidad posible de memoria para ir generando la lista de números.\n",
    "\n",
    "Estos temas de eficiencia no son excesivamente importantes ya que lo habitual es que la cantidad de datos con los que trabajamos sea lo que limita el rendimiento."
   ]
  }
 ],
 "metadata": {
  "kernelspec": {
   "display_name": "Python 3 (ipykernel)",
   "language": "python",
   "name": "python3"
  },
  "language_info": {
   "codemirror_mode": {
    "name": "ipython",
    "version": 3
   },
   "file_extension": ".py",
   "mimetype": "text/x-python",
   "name": "python",
   "nbconvert_exporter": "python",
   "pygments_lexer": "ipython3",
   "version": "3.8.5"
  },
  "toc": {
   "base_numbering": 1,
   "nav_menu": {},
   "number_sections": true,
   "sideBar": true,
   "skip_h1_title": false,
   "title_cell": "Table of Contents",
   "title_sidebar": "Contents",
   "toc_cell": false,
   "toc_position": {},
   "toc_section_display": true,
   "toc_window_display": false
  }
 },
 "nbformat": 4,
 "nbformat_minor": 5
}
