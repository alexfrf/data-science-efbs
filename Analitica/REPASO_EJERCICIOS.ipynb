{
 "cells": [
  {
   "cell_type": "markdown",
   "id": "365ef0f5",
   "metadata": {},
   "source": [
    "El objetivo de este cuaderno es complementar la sesión de bayesiana y asentar los conceptos más aplicables:\n",
    "\n",
    "- Comparación de muestras: La comparación de muestras extrae las distribuciones que están debajo de dos o más juegos de datos y compara valores extraídos de estas distribuciones para determinar cuál es \"mejor\".\n",
    "- Inferencia de los parámetros de una distribución: determina los componentes de la distribución de una serie de datos"
   ]
  },
  {
   "cell_type": "code",
   "execution_count": 1,
   "id": "a9f8ca28",
   "metadata": {},
   "outputs": [
    {
     "name": "stderr",
     "output_type": "stream",
     "text": [
      "WARNING (theano.tensor.blas): Using NumPy C-API based implementation for BLAS functions.\n"
     ]
    }
   ],
   "source": [
    "import seaborn as sns\n",
    "import matplotlib\n",
    "from matplotlib import pyplot as plt\n",
    "import pymc3 as pm\n",
    "import arviz as az\n",
    "import numpy as np"
   ]
  },
  {
   "cell_type": "code",
   "execution_count": 2,
   "id": "961f2890",
   "metadata": {},
   "outputs": [],
   "source": [
    "# Esto está para ayudaros, no para que lo escribáis\n",
    "\n",
    "import seaborn as sns\n",
    "import matplotlib\n",
    "from matplotlib import pyplot as plt\n",
    "\n",
    "matplotlib.rcParams['figure.figsize'] = [16,8]\n",
    "\n",
    "\n",
    "\n",
    "colores = ['orange', 'lightblue', 'lightgreen', 'green', 'red']\n",
    "\n",
    "def dibujar_muestras(traza, nombres, res=None, datos=None):\n",
    "    plt.figure()\n",
    "    for i,x in enumerate([x for x in nombres if x != 'delta']):\n",
    "        print(f'dibujando histograma para {x}')\n",
    "        sns.histplot(traza.posterior[x].to_series(), color=colores[i])\n",
    "    \n",
    "    if 'delta' in nombres:\n",
    "        plt.figure()\n",
    "        delta = traza.posterior['delta'].to_series()\n",
    "        delta_pos = delta[delta>0]\n",
    "        delta_neg = delta[delta<0]\n",
    "        sns.histplot(delta_neg, color='red')\n",
    "        sns.histplot(delta_pos, color='lightgreen')\n",
    "    \n",
    "    if res:\n",
    "        plt.figure()\n",
    "        sns.histplot(np.concatenate(res['obs_2'])[:len(datos)], color='lightgreen')\n",
    "        sns.histplot(datos, color='orange')"
   ]
  },
  {
   "cell_type": "markdown",
   "id": "60eba1a7",
   "metadata": {},
   "source": [
    "### Comparación de muestras"
   ]
  },
  {
   "cell_type": "markdown",
   "id": "909b98ea",
   "metadata": {},
   "source": [
    "**0 - Comparación de dos muestras uniforme**"
   ]
  },
  {
   "cell_type": "markdown",
   "id": "032f399b",
   "metadata": {},
   "source": [
    "La distribución uniforme discreta determina que todos los valores contenidos tienen la misma probabilidad de figurar. Ver: la posibilidad de sacar cualquier valor en un dado"
   ]
  },
  {
   "cell_type": "code",
   "execution_count": null,
   "id": "65254970",
   "metadata": {},
   "outputs": [
    {
     "name": "stderr",
     "output_type": "stream",
     "text": [
      "INFO (theano.gof.compilelock): Waiting for existing lock by unknown process (I am process '12592')\n",
      "INFO (theano.gof.compilelock): To manually release the lock, delete C:\\Users\\aleex\\AppData\\Local\\Theano\\compiledir_Windows-10-10.0.19041-SP0-Intel64_Family_6_Model_158_Stepping_10_GenuineIntel-3.8.5-64\\lock_dir\n",
      "Auto-assigning NUTS sampler...\n",
      "Initializing NUTS using jitter+adapt_diag...\n",
      "Multiprocess sampling (4 chains in 4 jobs)\n",
      "NUTS: [dist_2, dist_1]\n"
     ]
    }
   ],
   "source": [
    "with pm.Model() as model:\n",
    "    dist_1 = pm.Uniform('dist_1', lower=20, upper=30)\n",
    "    dist_2 = pm.Uniform('dist_2', lower=30, upper=40)\n",
    "    \n",
    "    delta = pm.Deterministic('delta', dist_2 - dist_1)\n",
    "    \n",
    "    trace = pm.sample(draws = 10000, return_inferencedata=True)\n",
    "\n",
    "    az.plot_posterior(trace, figsize=(16,8))"
   ]
  },
  {
   "cell_type": "code",
   "execution_count": null,
   "id": "17fa43dd",
   "metadata": {},
   "outputs": [],
   "source": [
    "dibujar_muestras(trace, ['dist_1','dist_2','delta'])"
   ]
  },
  {
   "cell_type": "markdown",
   "id": "ff56f6d6",
   "metadata": {},
   "source": [
    "### Ejercicio 1 - Comparación de muestras uniformes\n",
    "\n",
    "Partiendo del ejemplo de código anterior, obtén muestras para una distribución uniforme que vaya desde 10 hasta 15 y otra que vaya de 13 a 16."
   ]
  },
  {
   "cell_type": "code",
   "execution_count": null,
   "id": "569be433",
   "metadata": {
    "scrolled": false
   },
   "outputs": [],
   "source": [
    "with pm.Model() as model:\n",
    "    dist_1 = pm.Uniform('dist_1', lower=10, upper=15)\n",
    "    dist_2 = pm.Uniform('dist_2', lower=13, upper=16)\n",
    "    \n",
    "    delta = pm.Deterministic('delta', dist_2 - dist_1)\n",
    "    \n",
    "    trace = pm.sample(draws = 10000, return_inferencedata=True)\n",
    "\n",
    "    az.plot_posterior(trace, figsize=(16,8))\n",
    "    \n",
    "dibujar_muestras(trace, ['dist_1','dist_2','delta'])"
   ]
  },
  {
   "cell_type": "code",
   "execution_count": null,
   "id": "95951ccf",
   "metadata": {},
   "outputs": [],
   "source": [
    "sns.histplot(trace.posterior['delta'].to_series(), color='green')"
   ]
  },
  {
   "cell_type": "code",
   "execution_count": null,
   "id": "93b67e3b",
   "metadata": {},
   "outputs": [],
   "source": [
    "mejor_2 = np.mean(trace['posterior']['delta'].to_series() > 0)\n",
    "mejor_1 = np.mean(trace['posterior']['delta'].to_series() < 0)\n",
    "\n",
    "print(f'Dist1 es mejor en el {int(mejor_1*100)} % de los casos, Dist2 es mejor en el {int(mejor_2*100)} % de los casos')"
   ]
  },
  {
   "cell_type": "markdown",
   "id": "80899f04",
   "metadata": {},
   "source": [
    "### Ejercicio 2 - Compara una muestra normal con una muestra uniforme\n",
    "\n",
    "Se pretende que la muestra normal sea muy superior a la uniforme, en ello nos basamos para numerar los parámetros"
   ]
  },
  {
   "cell_type": "code",
   "execution_count": null,
   "id": "c38e9c05",
   "metadata": {},
   "outputs": [],
   "source": [
    "import pymc3 as pm\n",
    "import arviz as az\n",
    "import numpy as np\n",
    "\n",
    "with pm.Model() as model:\n",
    "    dist_1 = pm.Uniform('dist_1', 1, 6) # minimo y maximo\n",
    "    dist_2 = pm.Normal('dist_2', 5, 2) # media y desviacion tipica\n",
    "    \n",
    "    delta = pm.Deterministic('delta', dist_2 - dist_1)\n",
    "    \n",
    "    trace = pm.sample(return_inferencedata=True)\n",
    "\n",
    "    az.plot_posterior(trace, figsize=(16,8))\n",
    "    \n",
    "dibujar_muestras(trace, ['dist_1', 'dist_2', 'delta'])"
   ]
  },
  {
   "cell_type": "code",
   "execution_count": null,
   "id": "1bf56f8d",
   "metadata": {},
   "outputs": [],
   "source": [
    "mejor_2 = np.mean(trace['posterior']['delta'].to_series() > 0)\n",
    "mejor_1 = np.mean(trace['posterior']['delta'].to_series() < 0)\n",
    "\n",
    "print('Dist1 es mejor en el {:.2f} % de los casos, Dist2 es mejor en el {:.2f} % de los casos'.format(mejor_1*100,mejor_2*100))"
   ]
  },
  {
   "cell_type": "markdown",
   "id": "f099b311",
   "metadata": {},
   "source": [
    "### Ejercicio 3 - Distribución de Poisson vs uniforme"
   ]
  },
  {
   "cell_type": "markdown",
   "id": "bbc04d15",
   "metadata": {},
   "source": [
    "Cambia el ejercicio anterior para que, en lugar de utilizar una distribución normal utilice una de poisson.\n",
    "\n",
    "Ojo!, la distribución de Poisson acepta un único parámetro\n",
    "\n",
    "¿Has tenido que hacer transformaciones en los datos para llegar a alguna conclusión?"
   ]
  },
  {
   "cell_type": "code",
   "execution_count": null,
   "id": "cbf0d762",
   "metadata": {},
   "outputs": [],
   "source": [
    "import pymc3 as pm\n",
    "import arviz as az\n",
    "import numpy as np\n",
    "\n",
    "with pm.Model() as model:\n",
    "    dist_1 = pm.Uniform('dist_1', lower=5, upper=15)\n",
    "    dist_2 = pm.Poisson('dist_2',20)\n",
    "    \n",
    "    delta = pm.Deterministic('delta', dist_2 - dist_1)\n",
    "    \n",
    "    trace = pm.sample(return_inferencedata=True)\n",
    "\n",
    "    az.plot_posterior(trace, figsize=(16,8))\n",
    "    \n",
    "dibujar_muestras(trace, ['dist_1', 'dist_2', 'delta'])"
   ]
  },
  {
   "cell_type": "code",
   "execution_count": null,
   "id": "6d16a49c",
   "metadata": {},
   "outputs": [],
   "source": [
    "mejor_2 = np.mean(trace['posterior']['delta'].to_series() > 0)\n",
    "mejor_1 = np.mean(trace['posterior']['delta'].to_series() < 0)\n",
    "\n",
    "print('Dist1 es mejor en el {:.2f} % de los casos\\nDist2 es mejor en el {:.2f} % de los casos'.format(mejor_1*100,mejor_2*100))"
   ]
  },
  {
   "cell_type": "markdown",
   "id": "a5ad1dc9",
   "metadata": {},
   "source": [
    "## Detectar parámetros de una distribución\n",
    "\n",
    "Para estos ejercicios partiremos de distribuciones que iremos generando a mano y trataremos de comprobar si el ajuste que hace PyMC3 es bueno."
   ]
  },
  {
   "cell_type": "markdown",
   "id": "e53f76bc",
   "metadata": {},
   "source": [
    "### 0 - Obtener parámetros de una distribución uniforme"
   ]
  },
  {
   "cell_type": "code",
   "execution_count": null,
   "id": "16f403f1",
   "metadata": {},
   "outputs": [],
   "source": [
    "import pymc3 as pm\n",
    "import arviz as az\n",
    "import numpy as np\n",
    "\n",
    "# Obtenemos 1000 medidas de una distribución uniforme entre 0 y 10\n",
    "datos = np.random.uniform(10, 20, 1000)\n",
    "\n",
    "with pm.Model() as model:\n",
    "    \n",
    "    p_A = pm.Uniform('p_A', lower=5, upper=15)\n",
    "    p_B = pm.Uniform('p_B', lower=15, upper=25)\n",
    "    \n",
    "    obs = pm.Uniform('obs', lower=p_A, upper=p_B, observed=datos)\n",
    "    \n",
    "    trace = pm.sample(return_inferencedata=True)\n",
    "\n",
    "    res = pm.sample_posterior_predictive(trace, samples=1000)\n",
    "        \n",
    "    az.plot_posterior(trace, figsize=(16,8))\n",
    "    \n",
    "#dibujar_muestras(trace, ['p_A', 'p_B'], res, datos)"
   ]
  },
  {
   "cell_type": "markdown",
   "id": "d905907e",
   "metadata": {},
   "source": []
  },
  {
   "cell_type": "code",
   "execution_count": null,
   "id": "f5b7ed1a",
   "metadata": {},
   "outputs": [],
   "source": [
    "import pymc3 as pm\n",
    "import arviz as az\n",
    "import numpy as np\n",
    "\n",
    "# Obtenemos 1000 medidas de una distribución uniforme entre 0 y 10\n",
    "datos = np.random.uniform(10, 20, 1000)\n",
    "\n",
    "\n",
    "with pm.Model() as model:\n",
    "    # Como se trata de ajustar a una normal vamos a probar con media entre 10 y 20  y desviación entre 0 y 5\n",
    "    p_A = pm.Uniform('p_A', lower=10, upper=20)\n",
    "    p_B = pm.Uniform('p_B', lower=0, upper=5)\n",
    "    \n",
    "    obs = pm.Normal('obs', p_A, p_B, observed=datos)\n",
    "    \n",
    "    trace = pm.sample(return_inferencedata=True)\n",
    "\n",
    "    res = pm.sample_posterior_predictive(trace, samples=1000)\n",
    "        \n",
    "    az.plot_posterior(trace, figsize=(16,8))\n",
    "    \n",
    "dibujar_muestras(trace, ['p_A', 'p_B'], res, datos)"
   ]
  }
 ],
 "metadata": {
  "kernelspec": {
   "display_name": "Python 3 (ipykernel)",
   "language": "python",
   "name": "python3"
  },
  "language_info": {
   "codemirror_mode": {
    "name": "ipython",
    "version": 3
   },
   "file_extension": ".py",
   "mimetype": "text/x-python",
   "name": "python",
   "nbconvert_exporter": "python",
   "pygments_lexer": "ipython3",
   "version": "3.8.5"
  }
 },
 "nbformat": 4,
 "nbformat_minor": 5
}
