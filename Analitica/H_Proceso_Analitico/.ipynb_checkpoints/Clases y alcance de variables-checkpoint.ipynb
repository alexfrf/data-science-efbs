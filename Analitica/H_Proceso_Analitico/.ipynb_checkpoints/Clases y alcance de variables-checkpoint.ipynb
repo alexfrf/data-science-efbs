{
 "cells": [
  {
   "cell_type": "markdown",
   "metadata": {},
   "source": [
    "![Logo](images/logo_mds.png)"
   ]
  },
  {
   "cell_type": "markdown",
   "metadata": {},
   "source": [
    "# Programación orientada a objetos vs Programación Funcional\n",
    "\n",
    "En la sesión de introducción a Python se hicieron referencia a varias características del lenguaje:\n",
    "\n",
    "\n",
    "Python es un lenguaje de programación interpretado multiparadigma fuertemente tipado:\n",
    "\n",
    " - **Interpretado**: diferenciamos dos tipos de lenguajes de programación los compilados y los interpretados:\n",
    "     - Compilados: los programas escritos en lenguajes compilados requieren un proceso previo a la ejecución llamado compilación, algunos ejemplos son la familia de lenguajes de C C, C++ y, más modernos como Java y C#. \n",
    "          \n",
    "          La compilación de los programas convierte el código fuente en código máquina lo que otorga, en general, un rendimiento alto. Además, muchos errores en los programas se pueden detectar en *tiempo de compilación* lo que hace que, los programas escritos en estos legnuajes sean más robustos.\n",
    "                    \n",
    "     - Interpretados: no requieren un proceso de compilación, el intérprete va leyendo el código y ejecutando las instrucciones conforme las va encontrando. Los lenguajes interpretados, al no requerir el paso adicional de la compilación, facilitan las pruebas con el código.\n",
    "     \n",
    "     \n",
    " - **Multiparadigma**: los lenguajes de programación se crean con diferentes propósitos: orientados a objetos, funcionales, imperativos... Los propósitos de Python son:\n",
    "     - Imperativo: en un lenguaje imperativo debemos decirle, al ordenador qué queremos hacer en cada momento, estos lenguajes son opuestos a los lenguajes declarativos en los que decimos únicamente el resultado que buscamos(SQL es un lenguaje declarativo).\n",
    "     - Funcional: Python permite que las funciones sean objetos de primer nivel que pueden combinarse entre ellas y pasarse como argumentos a otras funciones (este es un tema bastante avanzado que se tratará más adelante); los lenguajes funcionales son especialmente adecuados para el tratamiento de datos.\n",
    "     - Orientado a objetos: los lenguajes orientados a objetos permiten definir objetos de una **Clase** y luego crear instancias de esa clase que comparten código común. Utilizar las características de orientación a objetos de Python aporta muy poco al análisis de datos y, <ins>**en el máster, no se tratan**</ins>.\n",
    "    \n",
    " - **Fuertemente tipado**: un lenguaje fuertemente tipado es aquel en el que el intérprete (o compilador) se encarga de verificar que siempre combinamos tipos de datos compatibles (por ejemplo nunca sumamos textos y números)."
   ]
  },
  {
   "cell_type": "markdown",
   "metadata": {},
   "source": [
    "Algunas de estas definiciones pueden ser más o menos intuitiva con la experiencia en programación obtenida en el máster, pero otras requieren una examinación más profunda para poder usar el lenguaje con cierta soltura.\n",
    "\n",
    "En este cuaderno nos centraremos en dos formas diferentes de programar que pueden complementarse para conseguir escribir un código más claro, compacto y reusable:\n",
    "* Programación Orientada a Objetos\n",
    "* Programación Funcional\n",
    "\n",
    "Tal como se indicaba en la sesión de iniciación a Python, en el máster no se tratará la **Programación Orientada a Objetos** en profundidad ya que su estudio incluye muchos conceptos (herencia, polimorfismo, interfaces,...) que no tienen gran aporte para el analista, sin embargo, de cara a la realización del Trabajo Final y, considerando que, cuando un programa crece, es útil conocer mecanismos para organizarlo, incluiremos una breve guía de cómo crear clases."
   ]
  },
  {
   "cell_type": "markdown",
   "metadata": {},
   "source": [
    "## Creación de Clases\n",
    "\n",
    "En programación orientada a objetos, llamamos **Clase** al patrón que nos definirá los **objetos**.\n"
   ]
  },
  {
   "cell_type": "code",
   "execution_count": 16,
   "metadata": {
    "ExecuteTime": {
     "end_time": "2021-05-06T18:43:27.853922Z",
     "start_time": "2021-05-06T18:43:27.845924Z"
    }
   },
   "outputs": [],
   "source": [
    "# Una clase tiene un nombre, para separar las clases de los objetos es habitual que las clases empiecen por una mayúscula\n",
    "# Si el nombre\n",
    "class Estanque():\n",
    "    # Las clases tiene, opcionalmente, una función __init__ que se llama automáticamente\n",
    "    # Esta función siempre recibe como primer parámetro \"self\" que es el propio objeto\n",
    "    def __init__(self):\n",
    "        self.volumen_agua = 1234\n",
    "    \n",
    "    \n",
    "# Si la clase tiene un nombre compuesto se suele utilizar la notación CamelCase (primera letra de cada palabra)\n",
    "class EstanquePatos():\n",
    "    def __init__(self):\n",
    "        self.volumen_agua = 1234\n",
    "    \n"
   ]
  },
  {
   "cell_type": "markdown",
   "metadata": {},
   "source": [
    "En el máster hemos estado utilizando clases continuamente, DataFrame en pandas es una clase:\n",
    "\n",
    "![Logo](images/pandas.png)\n",
    "\n",
    "Cuando utilizamos los métodos \"pandas.read_excel\" y similares lo que está haciendo **pandas** es devolver una **instancia** de esa clase.\n",
    "\n",
    "A las **instancias** de una clase se les llama objetos.\n",
    "\n",
    "La principal característica de estas instancias es que pueden evolucionar de forma independiente:"
   ]
  },
  {
   "cell_type": "code",
   "execution_count": 17,
   "metadata": {
    "ExecuteTime": {
     "end_time": "2021-05-06T18:43:28.181109Z",
     "start_time": "2021-05-06T18:43:28.174135Z"
    }
   },
   "outputs": [
    {
     "name": "stdout",
     "output_type": "stream",
     "text": [
      "valor de \"volumen\" en a antes de cambiarlo 1234\n",
      "valor de \"volumen\" en b antes de cambiarlo 1234\n",
      "valor de \"volumen\" en a después de cambiarlo 99999\n",
      "valor de \"volumen\" en b después de cambiarlo 1234\n"
     ]
    }
   ],
   "source": [
    "a = Estanque()\n",
    "b = Estanque()\n",
    "print(f'valor de \"volumen_agua\" en a antes de cambiarlo {a.volumen_agua}')\n",
    "print(f'valor de \"volumen_agua\" en b antes de cambiarlo {b.volumen_agua}')\n",
    "a.volumen_agua = 99999\n",
    "print(f'valor de \"volumen_agua\" en a después de cambiarlo {a.volumen_agua}')\n",
    "print(f'valor de \"volumen_agua\" en b después de cambiarlo {b.volumen_agua}')\n"
   ]
  },
  {
   "cell_type": "markdown",
   "metadata": {},
   "source": [
    "Podemos pensar en una clase, tal como dijimos antes, como el patrón con el que se crea un objeto, a partir de la creación cada objeto puede evolucionar por su cuenta.\n",
    "\n",
    "Una clase puede tener variables dentros (y les llamaremos **atributos**) y tamibén puede tener funciones (y les llamaremos **métodos**)"
   ]
  },
  {
   "cell_type": "code",
   "execution_count": 1,
   "metadata": {
    "ExecuteTime": {
     "end_time": "2021-05-08T07:41:39.529217Z",
     "start_time": "2021-05-08T07:41:39.509731Z"
    }
   },
   "outputs": [],
   "source": [
    "class Estanque():\n",
    "    def __init__(self):\n",
    "        # volumen_agua y patos serán funciones\n",
    "        self.volumen_agua = 1000\n",
    "        self.patos = 0\n",
    "        \n",
    "    # add_pato es un método, siempre pasamos \"self\" como primer parámetro a los métodos\n",
    "    def add_pato(self):\n",
    "        print(f'Llega otro pato, ya hay {self.patos}')\n",
    "        self.patos += 1\n",
    "        \n",
    "    # vaciar_estanque es un método\n",
    "    def vaciar_estanque(self):\n",
    "        self.volumen_agua = 0\n",
    "        print(f'No queda agua, {self.patos} patos han muerto')\n",
    "        self.patos = 0\n",
    "        "
   ]
  },
  {
   "cell_type": "code",
   "execution_count": 2,
   "metadata": {
    "ExecuteTime": {
     "end_time": "2021-05-08T07:41:42.602982Z",
     "start_time": "2021-05-08T07:41:42.587963Z"
    }
   },
   "outputs": [
    {
     "name": "stdout",
     "output_type": "stream",
     "text": [
      "Llega otro pato, ya hay 0\n",
      "Llega otro pato, ya hay 1\n",
      "Llega otro pato, ya hay 2\n",
      "Llega otro pato, ya hay 3\n",
      "Llega otro pato, ya hay 4\n",
      "No queda agua, 5 patos han muerto\n"
     ]
    }
   ],
   "source": [
    "e = Estanque()\n",
    "\n",
    "for x in range(5):\n",
    "    e.add_pato()\n",
    "    \n",
    "e.vaciar_estanque()\n"
   ]
  },
  {
   "cell_type": "code",
   "execution_count": null,
   "metadata": {
    "ExecuteTime": {
     "start_time": "2021-05-08T07:45:29.464Z"
    }
   },
   "outputs": [],
   "source": [
    "z = 0\n",
    "for x in range(1000000):\n",
    "    for y in range(100000):\n",
    "        z = z + x * y"
   ]
  },
  {
   "cell_type": "markdown",
   "metadata": {},
   "source": [
    "## Ejercicio 1\n",
    "Define una clase \"Perro\" que tenga un método ladrido, cada vez que se llame a \"ladrido\" se incrementará un contador de ladridos y se imprimirá por pantalla \"Guau!\".\n",
    "\n"
   ]
  },
  {
   "cell_type": "markdown",
   "metadata": {},
   "source": [
    "## Uso de clases para analítica\n",
    "\n",
    "En un proceso analítico las clases definidas por nosotros tendrán poco uso, en general la mayor parte del análisis puede realizarse con variables normales (tipos de datos básicos), con instancias de clases (dataframes, gráficos de Seaborn, ...) o con diccionarios, listas, tuplas y sets.\n",
    "\n",
    "Los principales motivos para su uso en analítica serán:\n",
    "1. Limpieza: trabajar con diccionarios que tienen cada vez más valores se vuelve tedioso y el código es mucho más difícil de leer. Un ejemplo de esto pudimos verlo en la sesión de simulación.\n",
    "\n",
    "2. Unir funciones y código de forma que utilizar las funciones sea más limpio.\n",
    "\n",
    "Comparad los siguientes fragmentos de código:"
   ]
  },
  {
   "cell_type": "code",
   "execution_count": 1,
   "metadata": {
    "ExecuteTime": {
     "end_time": "2022-04-28T20:44:22.684525Z",
     "start_time": "2022-04-28T20:44:22.664525Z"
    }
   },
   "outputs": [
    {
     "name": "stdout",
     "output_type": "stream",
     "text": [
      "Llega otro pato, ya hay: 1\n",
      "Llega otro pato, ya hay: 2\n",
      "Llega otro pato, ya hay: 3\n",
      "Llega otro pato, ya hay: 4\n",
      "Llega otro pato, ya hay: 5\n",
      "No queda agua, 5 patos han muerto\n"
     ]
    }
   ],
   "source": [
    "estanque = {\n",
    "    'volumen_agua': 1000,\n",
    "    'patos': 0\n",
    "}\n",
    "\n",
    "def add_pato(estanque):\n",
    "    estanque['patos'] += 1\n",
    "    print(f'Llega otro pato, ya hay: {estanque[\"patos\"]}')\n",
    "    \n",
    "def vaciar_estanque(estanque):\n",
    "    estanque['volumen_agua'] = 0\n",
    "    print(f'No queda agua, {estanque[\"patos\"]} patos han muerto')\n",
    "    estanque['patos'] = 0\n",
    "    \n",
    "for x in range(5):\n",
    "    add_pato(estanque)\n",
    "    \n",
    "vaciar_estanque(estanque)"
   ]
  },
  {
   "cell_type": "code",
   "execution_count": 2,
   "metadata": {
    "ExecuteTime": {
     "end_time": "2022-04-28T20:44:27.746402Z",
     "start_time": "2022-04-28T20:44:27.740404Z"
    }
   },
   "outputs": [
    {
     "name": "stdout",
     "output_type": "stream",
     "text": [
      "Llega otro pato, ya hay 1\n",
      "Llega otro pato, ya hay 2\n",
      "Llega otro pato, ya hay 3\n",
      "Llega otro pato, ya hay 4\n",
      "Llega otro pato, ya hay 5\n",
      "No queda agua, 5 patos han muerto\n"
     ]
    }
   ],
   "source": [
    "class Estanque():\n",
    "    def __init__(self):\n",
    "        # volumen_agua y patos serán funciones\n",
    "        self.volumen_agua = 1000\n",
    "        self.patos = 0\n",
    "        \n",
    "    # add_pato es un método, siempre pasamos \"self\" como primer parámetro a los métodos\n",
    "    def add_pato(self):\n",
    "        self.patos += 1\n",
    "        print(f'Llega otro pato, ya hay {self.patos}')\n",
    "        \n",
    "    # vaciar_estanque es un método\n",
    "    def vaciar_estanque(self):\n",
    "        self.volumen_agua = 0\n",
    "        print(f'No queda agua, {self.patos} patos han muerto')\n",
    "        self.patos = 0\n",
    "        \n",
    "e = Estanque()\n",
    "\n",
    "for x in range(5):\n",
    "    e.add_pato()\n",
    "    \n",
    "e.vaciar_estanque()"
   ]
  },
  {
   "cell_type": "markdown",
   "metadata": {},
   "source": [
    "Aunque el uso de las clases es un poco más largo en código, resulta más limpio para leerlo y utilizarlo. Además, en el primer caso, si queremos tener dos estanques tenemos que hacer dos diccionarios:"
   ]
  },
  {
   "cell_type": "code",
   "execution_count": 33,
   "metadata": {
    "ExecuteTime": {
     "end_time": "2021-05-06T19:09:28.026494Z",
     "start_time": "2021-05-06T19:09:28.011493Z"
    }
   },
   "outputs": [
    {
     "name": "stdout",
     "output_type": "stream",
     "text": [
      "Llega otro pato, ya hay: 1\n",
      "Llega otro pato, ya hay: 1\n",
      "Llega otro pato, ya hay: 2\n",
      "Llega otro pato, ya hay: 2\n",
      "Llega otro pato, ya hay: 3\n",
      "Llega otro pato, ya hay: 3\n",
      "Llega otro pato, ya hay: 4\n",
      "Llega otro pato, ya hay: 4\n",
      "Llega otro pato, ya hay: 5\n",
      "Llega otro pato, ya hay: 5\n",
      "No queda agua, 5 patos han muerto\n",
      "No queda agua, 5 patos han muerto\n"
     ]
    }
   ],
   "source": [
    "estanque = {\n",
    "    'volumen_agua': 1000,\n",
    "    'patos': 0\n",
    "}\n",
    "\n",
    "estanque_2 = {\n",
    "    'volumen_agua': 1000,\n",
    "    'patos': 0\n",
    "}\n",
    "\n",
    "def add_pato(estanque):\n",
    "    estanque['patos'] += 1\n",
    "    print(f'Llega otro pato, ya hay: {estanque[\"patos\"]}')\n",
    "    \n",
    "def vaciar_estanque(estanque):\n",
    "    estanque['volumen_agua'] = 0\n",
    "    print(f'No queda agua, {estanque[\"patos\"]} patos han muerto')\n",
    "    estanque['patos'] = 0\n",
    "    \n",
    "for x in range(5):\n",
    "    add_pato(estanque)\n",
    "    add_pato(estanque_2)\n",
    "    \n",
    "vaciar_estanque(estanque)\n",
    "vaciar_estanque(estanque_2)"
   ]
  },
  {
   "cell_type": "code",
   "execution_count": 3,
   "metadata": {
    "ExecuteTime": {
     "end_time": "2022-04-28T20:44:56.454349Z",
     "start_time": "2022-04-28T20:44:56.446317Z"
    }
   },
   "outputs": [
    {
     "name": "stdout",
     "output_type": "stream",
     "text": [
      "Llega otro pato, ya hay 0\n",
      "Llega otro pato, ya hay 0\n",
      "Llega otro pato, ya hay 1\n",
      "Llega otro pato, ya hay 1\n",
      "Llega otro pato, ya hay 2\n",
      "Llega otro pato, ya hay 2\n",
      "Llega otro pato, ya hay 3\n",
      "Llega otro pato, ya hay 3\n",
      "Llega otro pato, ya hay 4\n",
      "Llega otro pato, ya hay 4\n",
      "No queda agua, 5 patos han muerto\n",
      "No queda agua, 5 patos han muerto\n"
     ]
    }
   ],
   "source": [
    "class Estanque():\n",
    "    def __init__(self):\n",
    "        # volumen_agua y patos serán funciones\n",
    "        self.volumen_agua = 1000\n",
    "        self.patos = 0\n",
    "        \n",
    "    # add_pato es un método, siempre pasamos \"self\" como primer parámetro a los métodos\n",
    "    def add_pato(self):\n",
    "        print(f'Llega otro pato, ya hay {self.patos}')\n",
    "        self.patos += 1\n",
    "        \n",
    "    # vaciar_estanque es un método\n",
    "    def vaciar_estanque(self):\n",
    "        self.volumen_agua = 0\n",
    "        print(f'No queda agua, {self.patos} patos han muerto')\n",
    "        self.patos = 0\n",
    "        \n",
    "e = Estanque()\n",
    "e2 = Estanque()\n",
    "\n",
    "for x in range(5):\n",
    "    e.add_pato()\n",
    "    e2.add_pato()\n",
    "    \n",
    "e.vaciar_estanque()\n",
    "e2.vaciar_estanque()"
   ]
  },
  {
   "cell_type": "markdown",
   "metadata": {},
   "source": [
    "Otra ventaja adicional es que, cuando tenemos una clase podemos llamar a la ayuda de nuestro editor de código para completar los comandos:\n",
    "![Completar](images/completar.png)"
   ]
  },
  {
   "cell_type": "code",
   "execution_count": null,
   "metadata": {},
   "outputs": [],
   "source": [
    "e."
   ]
  },
  {
   "cell_type": "markdown",
   "metadata": {},
   "source": [
    "### Composición\n",
    "\n",
    "Cada clase que creamos se comporta como un nuevo tipo de datos que podemos utilizar dentro de Python, esto da lugar a un primer mecanismo de extensión de la funcionalidad llamado composición en el que, simplemente, utilizamos unas clases dentro de otras:"
   ]
  },
  {
   "cell_type": "code",
   "execution_count": 11,
   "metadata": {
    "ExecuteTime": {
     "end_time": "2021-05-07T21:58:27.239852Z",
     "start_time": "2021-05-07T21:58:27.224852Z"
    }
   },
   "outputs": [
    {
     "name": "stdout",
     "output_type": "stream",
     "text": [
      "\tEsto es lo que hay dentro:\n",
      "\t\tabc\n",
      "\t\tcde\n",
      "\tEsto es lo que hay dentro:\n",
      "\t\tabc\n",
      "Vaciando cajón\n",
      "\tEste cajón está vacío\n"
     ]
    }
   ],
   "source": [
    "class Cajon():\n",
    "    def __init__(self):\n",
    "        self.contenido = []\n",
    "        \n",
    "    def add_a_cajon(self, objeto):\n",
    "        self.contenido.append(objeto)\n",
    "        \n",
    "    def sacar(self, objeto):\n",
    "        if objeto in self.contenido:\n",
    "            self.contenido.remove(objeto)\n",
    "            \n",
    "    def mostrar_contenido(self):\n",
    "        if len(self.contenido) == 0:\n",
    "            print(\"\\tEste cajón está vacío\")\n",
    "            return\n",
    "        print('\\tEsto es lo que hay dentro:')\n",
    "        for x in self.contenido:\n",
    "            print(f'\\t\\t{str(x)}')\n",
    "            \n",
    "    def vaciar(self):\n",
    "        print(f'Vaciando cajón')\n",
    "        self.contenido = []\n",
    "            \n",
    "c = Cajon()\n",
    "\n",
    "c.add_a_cajon('abc')\n",
    "c.add_a_cajon('cde')\n",
    "c.mostrar_contenido()\n",
    "c.sacar('cde')\n",
    "c.mostrar_contenido()\n",
    "c.vaciar()\n",
    "c.mostrar_contenido()"
   ]
  },
  {
   "cell_type": "code",
   "execution_count": 14,
   "metadata": {
    "ExecuteTime": {
     "end_time": "2021-05-07T21:58:50.904148Z",
     "start_time": "2021-05-07T21:58:50.889174Z"
    }
   },
   "outputs": [
    {
     "name": "stdout",
     "output_type": "stream",
     "text": [
      "Contenido del cajon 1\n",
      "\tEsto es lo que hay dentro:\n",
      "\t\tabc\n",
      "\t\thij\n",
      "Contenido del cajon 2\n",
      "\tEsto es lo que hay dentro:\n",
      "\t\tcde\n",
      "Contenido del cajon 3\n",
      "\tEsto es lo que hay dentro:\n",
      "\t\tefg\n",
      "Vaciando cajón\n",
      "Contenido del cajon 1\n",
      "\tEste cajón está vacío\n",
      "Contenido del cajon 2\n",
      "\tEsto es lo que hay dentro:\n",
      "\t\tcde\n",
      "Contenido del cajon 3\n",
      "\tEsto es lo que hay dentro:\n",
      "\t\tefg\n"
     ]
    }
   ],
   "source": [
    "class Mesa():\n",
    "    \n",
    "    \n",
    "    def __init__(self, numero_cajones):\n",
    "        self.cajones = []\n",
    "        for x in range(numero_cajones):\n",
    "            self.cajones.append(Cajon())\n",
    "            \n",
    "    def add_a_cajon(self, objeto, cajon):\n",
    "        self.cajones[cajon].add_a_cajon(objeto)\n",
    "        \n",
    "    def sacar(self, objeto, cajon):\n",
    "        self.cajones[cajon].sacar(objeto)\n",
    "    \n",
    "    def mostrar_contenido(self):\n",
    "        for x in range(len(self.cajones)):\n",
    "            print(f'Contenido del cajon {x+1}')\n",
    "            self.cajones[x].mostrar_contenido()\n",
    "    \n",
    "m = Mesa(3)\n",
    "\n",
    "m.add_a_cajon('abc', 0)\n",
    "m.add_a_cajon('cde', 1)\n",
    "m.add_a_cajon('efg', 2)\n",
    "m.add_a_cajon('hij', 0)\n",
    "\n",
    "m.mostrar_contenido()\n",
    "\n",
    "m.cajones[0].vaciar()\n",
    "\n",
    "m.mostrar_contenido()"
   ]
  },
  {
   "cell_type": "markdown",
   "metadata": {},
   "source": [
    "## Programación funcional\n",
    "\n",
    "El otro paradigma de programación que cumple Python es el Funcional.\n",
    "\n",
    "La programación funcional nos permite crear variables como funciones:"
   ]
  },
  {
   "cell_type": "code",
   "execution_count": 37,
   "metadata": {
    "ExecuteTime": {
     "end_time": "2021-05-06T19:20:34.441207Z",
     "start_time": "2021-05-06T19:20:34.435216Z"
    }
   },
   "outputs": [
    {
     "name": "stdout",
     "output_type": "stream",
     "text": [
      "Hello World! of functional programming\n"
     ]
    }
   ],
   "source": [
    "# Creamos una función\n",
    "def mostrar_texto(texto):\n",
    "    print(texto)\n",
    "\n",
    "# La asignamos a uan variable creando un alias\n",
    "a = mostrar_texto\n",
    "\n",
    "# Llamamos a la función a través de nuestra variable\n",
    "a('Hello World! of functional programming')\n",
    "    "
   ]
  },
  {
   "cell_type": "markdown",
   "metadata": {},
   "source": [
    "Esto quizás no parece demasiado útil de entrada, pero hay que tener en cuenta que, a nivel interno, este tratamiento de una función como si fuese una variable cualquiera nos permite hacer cosas bastante interesantes:"
   ]
  },
  {
   "cell_type": "code",
   "execution_count": 43,
   "metadata": {
    "ExecuteTime": {
     "end_time": "2021-05-06T19:34:05.621212Z",
     "start_time": "2021-05-06T19:34:05.611210Z"
    }
   },
   "outputs": [
    {
     "name": "stdout",
     "output_type": "stream",
     "text": [
      "\tAplicando paso: <function sumar_2 at 0x0000022FB739ED30> al número 0\n",
      "\tAplicando paso: <function triplicar at 0x0000022FB739E940> al número 2\n",
      "\tAplicando paso: <function sumar_2 at 0x0000022FB739ED30> al número 6\n",
      "\tAplicando paso: <function duplicar at 0x0000022FB739EB80> al número 8\n",
      "Resultado: 16\n"
     ]
    }
   ],
   "source": [
    "def sumar_2(base):\n",
    "    base += 2\n",
    "    return base\n",
    "    \n",
    "def triplicar(base):\n",
    "    base *= 3\n",
    "    return base\n",
    "\n",
    "def duplicar(base):\n",
    "    base *= 2\n",
    "    return base\n",
    "    \n",
    "pasos = [sumar_2, triplicar, sumar_2, duplicar]\n",
    "\n",
    "numero = 0\n",
    "\n",
    "for paso in pasos:\n",
    "    print(f'\\tAplicando paso: {paso} al número {numero}')\n",
    "    numero = paso(numero)\n",
    "\n",
    "print(f'Resultado: {numero}')"
   ]
  },
  {
   "cell_type": "markdown",
   "metadata": {},
   "source": [
    "Podemos reutilizar las funciones para hacer diferentes métodos o sobre diferntes números:"
   ]
  },
  {
   "cell_type": "code",
   "execution_count": 47,
   "metadata": {
    "ExecuteTime": {
     "end_time": "2021-05-06T19:36:37.575232Z",
     "start_time": "2021-05-06T19:36:37.559231Z"
    }
   },
   "outputs": [
    {
     "name": "stdout",
     "output_type": "stream",
     "text": [
      "\tAplicando paso: <function sumar_2 at 0x0000022FB739ED30> al número 0\n",
      "\tAplicando paso: <function sumar_2 at 0x0000022FB739ED30> al número 2\n",
      "\tAplicando paso: <function triplicar at 0x0000022FB739ECA0> al número 2\n",
      "\tAplicando paso: <function triplicar at 0x0000022FB739ECA0> al número 4\n",
      "\tAplicando paso: <function sumar_2 at 0x0000022FB739ED30> al número 6\n",
      "\tAplicando paso: <function sumar_2 at 0x0000022FB739ED30> al número 12\n",
      "\tAplicando paso: <function duplicar at 0x0000022FB739EA60> al número 8\n",
      "\tAplicando paso: <function duplicar at 0x0000022FB739EA60> al número 14\n",
      "Resultados: primer número: 16, segundo número: 28\n",
      "\tAplicando paso: <function sumar_2 at 0x0000022FB739ED30> al número 16\n",
      "\tAplicando paso: <function sumar_2 at 0x0000022FB739ED30> al número 28\n",
      "\tAplicando paso: <function sumar_2 at 0x0000022FB739ED30> al número 18\n",
      "\tAplicando paso: <function sumar_2 at 0x0000022FB739ED30> al número 30\n",
      "\tAplicando paso: <function triplicar at 0x0000022FB739ECA0> al número 20\n",
      "\tAplicando paso: <function triplicar at 0x0000022FB739ECA0> al número 32\n",
      "\tAplicando paso: <function triplicar at 0x0000022FB739ECA0> al número 60\n",
      "\tAplicando paso: <function triplicar at 0x0000022FB739ECA0> al número 96\n",
      "\tAplicando paso: <function sumar_2 at 0x0000022FB739ED30> al número 180\n",
      "\tAplicando paso: <function sumar_2 at 0x0000022FB739ED30> al número 288\n",
      "\tAplicando paso: <function duplicar at 0x0000022FB739EA60> al número 182\n",
      "\tAplicando paso: <function duplicar at 0x0000022FB739EA60> al número 290\n",
      "Resultados pasos 2: primer número: 364, segundo número: 580\n"
     ]
    }
   ],
   "source": [
    "def sumar_2(base):\n",
    "    base += 2\n",
    "    return base\n",
    "    \n",
    "def triplicar(base):\n",
    "    base *= 3\n",
    "    return base\n",
    "\n",
    "def duplicar(base):\n",
    "    base *= 2\n",
    "    return base\n",
    "    \n",
    "pasos = [sumar_2, triplicar, sumar_2, duplicar]\n",
    "pasos_2 = [sumar_2, sumar_2, triplicar, triplicar, sumar_2, duplicar]\n",
    "\n",
    "numeros = [0,2]\n",
    "\n",
    "for paso in pasos:\n",
    "    for i, numero in enumerate(numeros):\n",
    "        print(f'\\tAplicando paso: {paso} al número {numero}')\n",
    "        numeros[i] = paso(numero)\n",
    "\n",
    "print(f'Resultados: primer número: {numeros[0]}, segundo número: {numeros[1]}')\n",
    "\n",
    "for paso in pasos_2:\n",
    "    for i, numero in enumerate(numeros):\n",
    "        print(f'\\tAplicando paso: {paso} al número {numero}')\n",
    "        numeros[i] = paso(numero)\n",
    "\n",
    "print(f'Resultados pasos 2: primer número: {numeros[0]}, segundo número: {numeros[1]}')"
   ]
  },
  {
   "cell_type": "markdown",
   "metadata": {},
   "source": [
    "Una condición importante para poder aplicar con éxito el paradigma de la programación funcional es que cada función debe devolver un elemento del mismo tipo que recibe (obviamente hay muchas excepciones a esto).\n",
    "\n",
    "Esta intención de devolver el mismo tipo de dato que hemos recibido es para poder encadenar funciones:"
   ]
  },
  {
   "cell_type": "code",
   "execution_count": 48,
   "metadata": {
    "ExecuteTime": {
     "end_time": "2021-05-06T19:38:12.448961Z",
     "start_time": "2021-05-06T19:38:12.434961Z"
    }
   },
   "outputs": [
    {
     "data": {
      "text/plain": [
       "18"
      ]
     },
     "execution_count": 48,
     "metadata": {},
     "output_type": "execute_result"
    }
   ],
   "source": [
    "triplicar(triplicar(sumar_2(0)))"
   ]
  },
  {
   "cell_type": "markdown",
   "metadata": {},
   "source": [
    "Al aplicar esta técnica tenemos que tener en cuenta que la primera función que se aplica es la más interna, lo que puede hacer el código difícil de leer."
   ]
  },
  {
   "cell_type": "markdown",
   "metadata": {},
   "source": [
    "## Function Currying\n",
    "\n",
    "En la sesión 15 habíamos visto una técnica de programación funcional llamada \"Function Currying\" esta técnica consiste en la creación de nuevas funciones que llaman a otras pero, con algunos parámetros ya establecidos:\n"
   ]
  },
  {
   "cell_type": "code",
   "execution_count": 49,
   "metadata": {
    "ExecuteTime": {
     "end_time": "2021-05-06T19:52:07.480386Z",
     "start_time": "2021-05-06T19:52:07.464361Z"
    }
   },
   "outputs": [],
   "source": [
    "def funcion_muy_complicada(parametro_1, parametro_2, parametro_3, parametro_4, parametro_5, parametro_6,parametro_7):\n",
    "    pass\n",
    "\n",
    "def curry_funcion(parametro_1):\n",
    "    return funcion_muy_complicada(parametro_1, valor_2, valor_3, valor_4, valor_5, valor_6, valor_7)\n",
    "\n"
   ]
  },
  {
   "cell_type": "markdown",
   "metadata": {},
   "source": [
    "## Uniendo clases y programación funcional\n",
    "\n",
    "Podemos unir las clases con las funciones para tener una operativa más limpia:"
   ]
  },
  {
   "cell_type": "code",
   "execution_count": 53,
   "metadata": {
    "ExecuteTime": {
     "end_time": "2021-05-06T19:56:48.934383Z",
     "start_time": "2021-05-06T19:56:48.921365Z"
    }
   },
   "outputs": [
    {
     "data": {
      "text/plain": [
       "16"
      ]
     },
     "execution_count": 53,
     "metadata": {},
     "output_type": "execute_result"
    }
   ],
   "source": [
    "class Operaciones():\n",
    "    def __init__(self):\n",
    "        self.numero = 0\n",
    "    \n",
    "    def iniciar(self, numero):\n",
    "        self.numero = numero\n",
    "        return self\n",
    "        \n",
    "    def sumar_2(self):\n",
    "        self.numero += 2\n",
    "        return self\n",
    "        \n",
    "    def duplicar(self):\n",
    "        self.numero *= 2\n",
    "        return self\n",
    "    \n",
    "    def triplicar(self):\n",
    "        self.numero *= 3\n",
    "        return self\n",
    "        \n",
    "    \n",
    "o = Operaciones()\n",
    "\n",
    "o.iniciar(0).sumar_2().triplicar().sumar_2().duplicar().numero"
   ]
  },
  {
   "cell_type": "markdown",
   "metadata": {},
   "source": [
    "Con las definiciones encadenadas hubiese sido:"
   ]
  },
  {
   "cell_type": "code",
   "execution_count": 54,
   "metadata": {
    "ExecuteTime": {
     "end_time": "2021-05-06T19:57:12.278771Z",
     "start_time": "2021-05-06T19:57:12.273774Z"
    }
   },
   "outputs": [
    {
     "data": {
      "text/plain": [
       "16"
      ]
     },
     "execution_count": 54,
     "metadata": {},
     "output_type": "execute_result"
    }
   ],
   "source": [
    "def sumar_2(base):\n",
    "    base += 2\n",
    "    return base\n",
    "    \n",
    "def triplicar(base):\n",
    "    base *= 3\n",
    "    return base\n",
    "\n",
    "def duplicar(base):\n",
    "    base *= 2\n",
    "    return base\n",
    "\n",
    "\n",
    "duplicar(sumar_2(triplicar(sumar_2(0))))"
   ]
  },
  {
   "cell_type": "markdown",
   "metadata": {},
   "source": [
    "Esta forma de aplicar operaciones y devolverse a si mismo la hemos utilizado anteriormente con Pandas para encadenar llamadas:\n",
    "\n",
    "```\n",
    " df.dropna().rename(mapper=diccionario)...\n",
    "```"
   ]
  },
  {
   "cell_type": "markdown",
   "metadata": {},
   "source": [
    "# Scope de las variables\n",
    "\n",
    "Además de las clases, el otro punto importante que ha quedado sin tocar en el máster es un concepto fundamental en programas grandes: ¿a qué tengo acceso?\n",
    "\n",
    "Cuál es la diferencia entre estos dos fragmentos de código:"
   ]
  },
  {
   "cell_type": "code",
   "execution_count": 56,
   "metadata": {
    "ExecuteTime": {
     "end_time": "2021-05-06T20:09:44.616700Z",
     "start_time": "2021-05-06T20:09:44.598722Z"
    }
   },
   "outputs": [
    {
     "name": "stdout",
     "output_type": "stream",
     "text": [
      "5\n"
     ]
    }
   ],
   "source": [
    "dato = 3\n",
    "\n",
    "dato += 2\n",
    "\n",
    "print(dato)"
   ]
  },
  {
   "cell_type": "code",
   "execution_count": 60,
   "metadata": {
    "ExecuteTime": {
     "end_time": "2021-05-06T20:11:04.930731Z",
     "start_time": "2021-05-06T20:11:04.915729Z"
    }
   },
   "outputs": [
    {
     "name": "stdout",
     "output_type": "stream",
     "text": [
      "3333\n"
     ]
    }
   ],
   "source": [
    "dato = 3333\n",
    "\n",
    "def sumar_2():\n",
    "    dato = 3\n",
    "    dato += 2\n",
    "    \n",
    "sumar_2()\n",
    "\n",
    "print(dato)"
   ]
  },
  {
   "cell_type": "markdown",
   "metadata": {},
   "source": [
    "¿Por qué ese código crea una nueva variable llamada \"dato\" y el siguiente no?"
   ]
  },
  {
   "cell_type": "code",
   "execution_count": 64,
   "metadata": {
    "ExecuteTime": {
     "end_time": "2021-05-06T20:13:12.684185Z",
     "start_time": "2021-05-06T20:13:12.676187Z"
    }
   },
   "outputs": [
    {
     "name": "stdout",
     "output_type": "stream",
     "text": [
      "3333\n"
     ]
    }
   ],
   "source": [
    "dato = 3333\n",
    "\n",
    "def mostrar_dato():\n",
    "    print(dato)\n",
    "   \n",
    "mostrar_dato()"
   ]
  },
  {
   "cell_type": "markdown",
   "metadata": {},
   "source": [
    "Python, por querer ayudarnos, acaba provocando un comportamiento inconsistente según si queremos únicamente utilizar una variable en modo lectura o si queremos escribir el valor.\n",
    "\n",
    "El alcance de las variables se define desde dentro hacia fuera, entendiendo que \"dentro\" se refiere al código más interno en el que estamos"
   ]
  },
  {
   "cell_type": "code",
   "execution_count": 70,
   "metadata": {
    "ExecuteTime": {
     "end_time": "2021-05-06T20:28:32.215987Z",
     "start_time": "2021-05-06T20:28:32.199982Z"
    }
   },
   "outputs": [
    {
     "name": "stdout",
     "output_type": "stream",
     "text": [
      "15\n"
     ]
    }
   ],
   "source": [
    "a = 3\n",
    "\n",
    "def funcion_1():\n",
    "    def funcion_2():\n",
    "        c = b + 8\n",
    "        print(c)\n",
    "    \n",
    "    b = a + 4\n",
    "    funcion_2()\n",
    "        \n",
    "funcion_1()"
   ]
  },
  {
   "cell_type": "markdown",
   "metadata": {},
   "source": [
    "Esto también aplica a las clases"
   ]
  },
  {
   "cell_type": "code",
   "execution_count": 1,
   "metadata": {
    "ExecuteTime": {
     "end_time": "2021-05-08T09:27:17.357861Z",
     "start_time": "2021-05-08T09:27:17.348238Z"
    }
   },
   "outputs": [],
   "source": [
    "a = 3\n"
   ]
  },
  {
   "cell_type": "code",
   "execution_count": null,
   "metadata": {},
   "outputs": [],
   "source": [
    "#\n",
    "#\n",
    "#\n",
    "a = 77\n",
    "#\n"
   ]
  },
  {
   "cell_type": "code",
   "execution_count": 6,
   "metadata": {
    "ExecuteTime": {
     "end_time": "2021-05-08T09:27:59.281026Z",
     "start_time": "2021-05-08T09:27:59.267519Z"
    }
   },
   "outputs": [
    {
     "name": "stdout",
     "output_type": "stream",
     "text": [
      "3\n"
     ]
    }
   ],
   "source": [
    "def funcion_33():\n",
    "    print(a)\n",
    "\n",
    "funcion_33(a)"
   ]
  },
  {
   "cell_type": "code",
   "execution_count": 7,
   "metadata": {
    "ExecuteTime": {
     "end_time": "2021-05-08T09:31:16.231079Z",
     "start_time": "2021-05-08T09:31:15.056312Z"
    }
   },
   "outputs": [],
   "source": [
    "import pandas as pd\n",
    "\n",
    "pd.DataFrame?"
   ]
  },
  {
   "cell_type": "code",
   "execution_count": 3,
   "metadata": {
    "ExecuteTime": {
     "end_time": "2021-05-08T09:27:25.753737Z",
     "start_time": "2021-05-08T09:27:25.741387Z"
    }
   },
   "outputs": [
    {
     "name": "stdout",
     "output_type": "stream",
     "text": [
      "7\n"
     ]
    }
   ],
   "source": [
    "\n",
    "class Clase_1():\n",
    "    \n",
    "    def funcion_1(self):\n",
    "        b = a + 4\n",
    "        print(b)\n",
    "        \n",
    "c = Clase_1()\n",
    "c.funcion_1()"
   ]
  },
  {
   "cell_type": "markdown",
   "metadata": {},
   "source": [
    "Si queremos escribir una variable que está definida en un alcance anterior debemos, o bien pasarla como parámetro a una función, o bien utilizar los modificadores ```global```o ```nonlocal```"
   ]
  },
  {
   "cell_type": "code",
   "execution_count": 74,
   "metadata": {
    "ExecuteTime": {
     "end_time": "2021-05-06T20:38:07.306902Z",
     "start_time": "2021-05-06T20:38:07.276902Z"
    }
   },
   "outputs": [
    {
     "name": "stdout",
     "output_type": "stream",
     "text": [
      "esto da error\n"
     ]
    },
    {
     "ename": "UnboundLocalError",
     "evalue": "local variable 'a' referenced before assignment",
     "output_type": "error",
     "traceback": [
      "\u001b[1;31m---------------------------------------------------------------------------\u001b[0m",
      "\u001b[1;31mUnboundLocalError\u001b[0m                         Traceback (most recent call last)",
      "\u001b[1;32m<ipython-input-74-d20ef6e32898>\u001b[0m in \u001b[0;36m<module>\u001b[1;34m\u001b[0m\n\u001b[0;32m      5\u001b[0m     \u001b[0ma\u001b[0m \u001b[1;33m=\u001b[0m \u001b[0ma\u001b[0m \u001b[1;33m+\u001b[0m \u001b[1;36m3\u001b[0m\u001b[1;33m\u001b[0m\u001b[1;33m\u001b[0m\u001b[0m\n\u001b[0;32m      6\u001b[0m \u001b[1;33m\u001b[0m\u001b[0m\n\u001b[1;32m----> 7\u001b[1;33m \u001b[0mfuncion_1\u001b[0m\u001b[1;33m(\u001b[0m\u001b[1;33m)\u001b[0m\u001b[1;33m\u001b[0m\u001b[1;33m\u001b[0m\u001b[0m\n\u001b[0m",
      "\u001b[1;32m<ipython-input-74-d20ef6e32898>\u001b[0m in \u001b[0;36mfuncion_1\u001b[1;34m()\u001b[0m\n\u001b[0;32m      3\u001b[0m \u001b[1;32mdef\u001b[0m \u001b[0mfuncion_1\u001b[0m\u001b[1;33m(\u001b[0m\u001b[1;33m)\u001b[0m\u001b[1;33m:\u001b[0m\u001b[1;33m\u001b[0m\u001b[1;33m\u001b[0m\u001b[0m\n\u001b[0;32m      4\u001b[0m     \u001b[0mprint\u001b[0m\u001b[1;33m(\u001b[0m\u001b[1;34m'esto da error'\u001b[0m\u001b[1;33m)\u001b[0m\u001b[1;33m\u001b[0m\u001b[1;33m\u001b[0m\u001b[0m\n\u001b[1;32m----> 5\u001b[1;33m     \u001b[0ma\u001b[0m \u001b[1;33m=\u001b[0m \u001b[0ma\u001b[0m \u001b[1;33m+\u001b[0m \u001b[1;36m3\u001b[0m\u001b[1;33m\u001b[0m\u001b[1;33m\u001b[0m\u001b[0m\n\u001b[0m\u001b[0;32m      6\u001b[0m \u001b[1;33m\u001b[0m\u001b[0m\n\u001b[0;32m      7\u001b[0m \u001b[0mfuncion_1\u001b[0m\u001b[1;33m(\u001b[0m\u001b[1;33m)\u001b[0m\u001b[1;33m\u001b[0m\u001b[1;33m\u001b[0m\u001b[0m\n",
      "\u001b[1;31mUnboundLocalError\u001b[0m: local variable 'a' referenced before assignment"
     ]
    }
   ],
   "source": [
    "a = 3\n",
    "\n",
    "def funcion_1():\n",
    "    print('esto da error')\n",
    "    a = a + 3\n",
    "\n",
    "funcion_1()"
   ]
  },
  {
   "cell_type": "code",
   "execution_count": 77,
   "metadata": {
    "ExecuteTime": {
     "end_time": "2021-05-06T20:39:05.382703Z",
     "start_time": "2021-05-06T20:39:05.367707Z"
    }
   },
   "outputs": [
    {
     "name": "stdout",
     "output_type": "stream",
     "text": [
      "6\n"
     ]
    }
   ],
   "source": [
    "a = 3\n",
    "\n",
    "def funcion_1():\n",
    "    global a\n",
    "    a = a + 3\n",
    "    print(a)\n",
    "\n",
    "funcion_1()"
   ]
  },
  {
   "cell_type": "code",
   "execution_count": 78,
   "metadata": {
    "ExecuteTime": {
     "end_time": "2021-05-06T20:39:26.908838Z",
     "start_time": "2021-05-06T20:39:26.904826Z"
    }
   },
   "outputs": [
    {
     "name": "stdout",
     "output_type": "stream",
     "text": [
      "6\n"
     ]
    }
   ],
   "source": [
    "a = 3\n",
    "\n",
    "def funcion_1(a):\n",
    "    a = a + 3\n",
    "    print(a)\n",
    "    \n",
    "funcion_1(a)"
   ]
  },
  {
   "cell_type": "markdown",
   "metadata": {},
   "source": [
    "En general, es mejor realizar un paso de parámetros explícito que utilizar las funciones de esa forma ya que, en el siguiente contexto, no queda claro qué significa a:"
   ]
  },
  {
   "cell_type": "code",
   "execution_count": 81,
   "metadata": {
    "ExecuteTime": {
     "end_time": "2021-05-06T20:42:18.178569Z",
     "start_time": "2021-05-06T20:42:18.164570Z"
    }
   },
   "outputs": [
    {
     "name": "stdout",
     "output_type": "stream",
     "text": [
      "3\n"
     ]
    }
   ],
   "source": [
    "a = 3\n",
    "\n",
    "def funcion_1():\n",
    "    a = 4\n",
    "    funcion_2()\n",
    "    \n",
    "def funcion_2():\n",
    "    global a\n",
    "    print(a)\n",
    "    \n",
    "funcion_1()"
   ]
  },
  {
   "cell_type": "code",
   "execution_count": 86,
   "metadata": {
    "ExecuteTime": {
     "end_time": "2021-05-06T20:49:23.898450Z",
     "start_time": "2021-05-06T20:49:23.892426Z"
    }
   },
   "outputs": [
    {
     "name": "stdout",
     "output_type": "stream",
     "text": [
      "3\n",
      "4\n"
     ]
    }
   ],
   "source": [
    "a = 3\n",
    "\n",
    "def funcion_1():\n",
    "    a = 4\n",
    "    def funcion_2():\n",
    "        global a\n",
    "        print(a)\n",
    "    funcion_2()\n",
    "\n",
    "def funcion_3():\n",
    "    a = 4\n",
    "    def funcion_4():\n",
    "        nonlocal a\n",
    "        print(a)\n",
    "    funcion_4()\n",
    "\n",
    "funcion_1()\n",
    "funcion_3()"
   ]
  }
 ],
 "metadata": {
  "kernelspec": {
   "display_name": "Python 3 (ipykernel)",
   "language": "python",
   "name": "python3"
  },
  "language_info": {
   "codemirror_mode": {
    "name": "ipython",
    "version": 3
   },
   "file_extension": ".py",
   "mimetype": "text/x-python",
   "name": "python",
   "nbconvert_exporter": "python",
   "pygments_lexer": "ipython3",
   "version": "3.8.5"
  },
  "toc": {
   "base_numbering": 1,
   "nav_menu": {},
   "number_sections": true,
   "sideBar": true,
   "skip_h1_title": false,
   "title_cell": "Table of Contents",
   "title_sidebar": "Contents",
   "toc_cell": false,
   "toc_position": {},
   "toc_section_display": true,
   "toc_window_display": false
  }
 },
 "nbformat": 4,
 "nbformat_minor": 4
}
