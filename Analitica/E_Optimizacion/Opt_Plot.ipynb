{
 "cells": [
  {
   "cell_type": "code",
   "execution_count": 1,
   "id": "497c9c84",
   "metadata": {},
   "outputs": [],
   "source": [
    "import numpy as np\n",
    "import matplotlib.pyplot as plt"
   ]
  },
  {
   "cell_type": "code",
   "execution_count": 2,
   "id": "de9e84f8",
   "metadata": {},
   "outputs": [],
   "source": [
    "def plot_constr(c,A,b,limites,zz):\n",
    "    \"\"\"Author Stephen Krol 2020 <stephendata.science.blog>\"\"\"\n",
    "    N = A.shape[0]\n",
    "    print(\"Number of contraints inequalities: \", N)\n",
    "    plt.figure()\n",
    "    plt.title(\"Cost:  z = \"+ \" + \".join([str(x)+\" x\"+str(i+1) for i,x in enumerate(c)]))\n",
    "    X = np.linspace(0,15)\n",
    "    for i in range(0,N):\n",
    "        c_txt = \" + \".join([str(x)+\" x\"+str(i+1) for i,x in enumerate(A[i,:])]) + \" <= \" + str(b[i])\n",
    "        plt.plot(X, -X*(A[i,0]/A[i,1]) + b[i]/A[i,1] ,label = c_txt ) \n",
    " \n",
    "    for j in range(zz[0],zz[1], zz[2]):\n",
    "        c_txt = \"z = \" + str(j)\n",
    "        plt.plot(X, -X*(c[0]/c[1]) + (j/c[1]), \"--\" ,label = c_txt ) \n",
    "         \n",
    "    res = linprog(c, A, b, method=\"revised simplex\")\n",
    "    plt.plot(res.x[0],res.x[1],\"ro\", label=\"Solucion\")\n",
    "     \n",
    "    plt.xlim(0,limites[0])\n",
    "    plt.ylim(0,limites[1])\n",
    "    plt.legend()\n",
    "    plt.grid()\n",
    "    plt.show()"
   ]
  }
 ],
 "metadata": {
  "kernelspec": {
   "display_name": "Python 3 (ipykernel)",
   "language": "python",
   "name": "python3"
  },
  "language_info": {
   "codemirror_mode": {
    "name": "ipython",
    "version": 3
   },
   "file_extension": ".py",
   "mimetype": "text/x-python",
   "name": "python",
   "nbconvert_exporter": "python",
   "pygments_lexer": "ipython3",
   "version": "3.8.5"
  }
 },
 "nbformat": 4,
 "nbformat_minor": 5
}
