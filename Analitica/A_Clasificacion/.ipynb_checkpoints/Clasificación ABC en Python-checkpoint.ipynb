{
 "cells": [
  {
   "cell_type": "markdown",
   "metadata": {
    "ExecuteTime": {
     "end_time": "2021-03-24T15:50:46.188848Z",
     "start_time": "2021-03-24T15:50:46.138815Z"
    }
   },
   "source": [
    "![Logo](./images/logo_mds.png)"
   ]
  },
  {
   "cell_type": "markdown",
   "metadata": {},
   "source": [
    "# ABC\n",
    "La clasificación `ABC` únicamente asigna un código de una letra a cada elemento de una lista basándose en el principio de Pareto:\n",
    "\n",
    "> El 80% de los efectos provienen del 20% de las causas\n",
    "\n",
    "Que, llevado al negocio puede traducirse por:\n",
    "\n",
    "> El 80% de las ventas proviene del 20% de los productos\n",
    "\n",
    "> El 80% de los beneficios provienen del 20% de los productos\n",
    "\n",
    "> ...\n",
    "\n",
    "En la realidad, aunque el principio de Pareto no se cumple (a veces ni se acerca a ese 80-20), sí podemos estar de acuerdo en que, en la mayor parte de los proceoss de negocio hay una clara mayoría de los efectos que se produce por un número más o menos pequeño de causas.\n",
    "\n",
    "Podemos comprobarlo con un juego de datos de venta en un comercio electrónico"
   ]
  },
  {
   "cell_type": "code",
   "execution_count": 1,
   "metadata": {
    "ExecuteTime": {
     "end_time": "2022-02-24T20:43:08.951100Z",
     "start_time": "2022-02-24T20:43:06.003640Z"
    }
   },
   "outputs": [
    {
     "data": {
      "text/html": [
       "<div>\n",
       "<style scoped>\n",
       "    .dataframe tbody tr th:only-of-type {\n",
       "        vertical-align: middle;\n",
       "    }\n",
       "\n",
       "    .dataframe tbody tr th {\n",
       "        vertical-align: top;\n",
       "    }\n",
       "\n",
       "    .dataframe thead th {\n",
       "        text-align: right;\n",
       "    }\n",
       "</style>\n",
       "<table border=\"1\" class=\"dataframe\">\n",
       "  <thead>\n",
       "    <tr style=\"text-align: right;\">\n",
       "      <th></th>\n",
       "      <th>InvoiceNo</th>\n",
       "      <th>StockCode</th>\n",
       "      <th>Description</th>\n",
       "      <th>Quantity</th>\n",
       "      <th>InvoiceDate</th>\n",
       "      <th>UnitPrice</th>\n",
       "      <th>CustomerID</th>\n",
       "      <th>Country</th>\n",
       "    </tr>\n",
       "  </thead>\n",
       "  <tbody>\n",
       "    <tr>\n",
       "      <th>0</th>\n",
       "      <td>536365</td>\n",
       "      <td>85123A</td>\n",
       "      <td>WHITE HANGING HEART T-LIGHT HOLDER</td>\n",
       "      <td>6</td>\n",
       "      <td>29-Nov-16</td>\n",
       "      <td>2.55</td>\n",
       "      <td>17850.0</td>\n",
       "      <td>United Kingdom</td>\n",
       "    </tr>\n",
       "    <tr>\n",
       "      <th>1</th>\n",
       "      <td>536365</td>\n",
       "      <td>71053</td>\n",
       "      <td>WHITE METAL LANTERN</td>\n",
       "      <td>6</td>\n",
       "      <td>29-Nov-16</td>\n",
       "      <td>3.39</td>\n",
       "      <td>17850.0</td>\n",
       "      <td>United Kingdom</td>\n",
       "    </tr>\n",
       "    <tr>\n",
       "      <th>2</th>\n",
       "      <td>536365</td>\n",
       "      <td>84406B</td>\n",
       "      <td>CREAM CUPID HEARTS COAT HANGER</td>\n",
       "      <td>8</td>\n",
       "      <td>29-Nov-16</td>\n",
       "      <td>2.75</td>\n",
       "      <td>17850.0</td>\n",
       "      <td>United Kingdom</td>\n",
       "    </tr>\n",
       "    <tr>\n",
       "      <th>3</th>\n",
       "      <td>536365</td>\n",
       "      <td>84029G</td>\n",
       "      <td>KNITTED UNION FLAG HOT WATER BOTTLE</td>\n",
       "      <td>6</td>\n",
       "      <td>29-Nov-16</td>\n",
       "      <td>3.39</td>\n",
       "      <td>17850.0</td>\n",
       "      <td>United Kingdom</td>\n",
       "    </tr>\n",
       "  </tbody>\n",
       "</table>\n",
       "</div>"
      ],
      "text/plain": [
       "  InvoiceNo StockCode                          Description  Quantity  \\\n",
       "0    536365    85123A   WHITE HANGING HEART T-LIGHT HOLDER         6   \n",
       "1    536365     71053                  WHITE METAL LANTERN         6   \n",
       "2    536365    84406B       CREAM CUPID HEARTS COAT HANGER         8   \n",
       "3    536365    84029G  KNITTED UNION FLAG HOT WATER BOTTLE         6   \n",
       "\n",
       "  InvoiceDate  UnitPrice  CustomerID         Country  \n",
       "0   29-Nov-16       2.55     17850.0  United Kingdom  \n",
       "1   29-Nov-16       3.39     17850.0  United Kingdom  \n",
       "2   29-Nov-16       2.75     17850.0  United Kingdom  \n",
       "3   29-Nov-16       3.39     17850.0  United Kingdom  "
      ]
     },
     "execution_count": 1,
     "metadata": {},
     "output_type": "execute_result"
    }
   ],
   "source": [
    "import pandas as pd\n",
    "import numpy as np\n",
    "\n",
    "pd.options.display.max_rows = 999\n",
    "pd.options.display.max_columns = 999\n",
    "\n",
    "# Leemos el dataframe, no tiene excesivos datos, pero para este ejemplo, es suficiente.\n",
    "df = pd.read_csv('Datos/Ecommerce.csv',decimal = '.')\n",
    "\n",
    "df.drop(columns=['Unnamed: 8'], inplace=True)\n",
    "\n",
    "df.head(4)"
   ]
  },
  {
   "cell_type": "markdown",
   "metadata": {},
   "source": [
    "## Check Principio de Pareto"
   ]
  },
  {
   "cell_type": "code",
   "execution_count": 2,
   "metadata": {
    "ExecuteTime": {
     "end_time": "2022-02-24T20:43:09.031125Z",
     "start_time": "2022-02-24T20:43:08.952100Z"
    }
   },
   "outputs": [
    {
     "data": {
      "text/html": [
       "<div>\n",
       "<style scoped>\n",
       "    .dataframe tbody tr th:only-of-type {\n",
       "        vertical-align: middle;\n",
       "    }\n",
       "\n",
       "    .dataframe tbody tr th {\n",
       "        vertical-align: top;\n",
       "    }\n",
       "\n",
       "    .dataframe thead th {\n",
       "        text-align: right;\n",
       "    }\n",
       "</style>\n",
       "<table border=\"1\" class=\"dataframe\">\n",
       "  <thead>\n",
       "    <tr style=\"text-align: right;\">\n",
       "      <th></th>\n",
       "      <th>CustomerID</th>\n",
       "      <th>Quantity</th>\n",
       "      <th>PCT</th>\n",
       "      <th>PCT_ACUMULADO</th>\n",
       "    </tr>\n",
       "  </thead>\n",
       "  <tbody>\n",
       "    <tr>\n",
       "      <th>1703</th>\n",
       "      <td>14646.0</td>\n",
       "      <td>196719</td>\n",
       "      <td>4.007558</td>\n",
       "      <td>4.007558</td>\n",
       "    </tr>\n",
       "    <tr>\n",
       "      <th>55</th>\n",
       "      <td>12415.0</td>\n",
       "      <td>77242</td>\n",
       "      <td>1.573573</td>\n",
       "      <td>5.581131</td>\n",
       "    </tr>\n",
       "    <tr>\n",
       "      <th>1895</th>\n",
       "      <td>14911.0</td>\n",
       "      <td>77180</td>\n",
       "      <td>1.572310</td>\n",
       "      <td>7.153442</td>\n",
       "    </tr>\n",
       "    <tr>\n",
       "      <th>3758</th>\n",
       "      <td>17450.0</td>\n",
       "      <td>69029</td>\n",
       "      <td>1.406258</td>\n",
       "      <td>8.559700</td>\n",
       "    </tr>\n",
       "    <tr>\n",
       "      <th>4233</th>\n",
       "      <td>18102.0</td>\n",
       "      <td>64122</td>\n",
       "      <td>1.306293</td>\n",
       "      <td>9.865993</td>\n",
       "    </tr>\n",
       "    <tr>\n",
       "      <th>3801</th>\n",
       "      <td>17511.0</td>\n",
       "      <td>63012</td>\n",
       "      <td>1.283680</td>\n",
       "      <td>11.149673</td>\n",
       "    </tr>\n",
       "    <tr>\n",
       "      <th>1005</th>\n",
       "      <td>13694.0</td>\n",
       "      <td>61803</td>\n",
       "      <td>1.259050</td>\n",
       "      <td>12.408723</td>\n",
       "    </tr>\n",
       "    <tr>\n",
       "      <th>1447</th>\n",
       "      <td>14298.0</td>\n",
       "      <td>58021</td>\n",
       "      <td>1.182003</td>\n",
       "      <td>13.590727</td>\n",
       "    </tr>\n",
       "    <tr>\n",
       "      <th>1345</th>\n",
       "      <td>14156.0</td>\n",
       "      <td>57025</td>\n",
       "      <td>1.161713</td>\n",
       "      <td>14.752440</td>\n",
       "    </tr>\n",
       "    <tr>\n",
       "      <th>3202</th>\n",
       "      <td>16684.0</td>\n",
       "      <td>49390</td>\n",
       "      <td>1.006173</td>\n",
       "      <td>15.758612</td>\n",
       "    </tr>\n",
       "  </tbody>\n",
       "</table>\n",
       "</div>"
      ],
      "text/plain": [
       "      CustomerID  Quantity       PCT  PCT_ACUMULADO\n",
       "1703     14646.0    196719  4.007558       4.007558\n",
       "55       12415.0     77242  1.573573       5.581131\n",
       "1895     14911.0     77180  1.572310       7.153442\n",
       "3758     17450.0     69029  1.406258       8.559700\n",
       "4233     18102.0     64122  1.306293       9.865993\n",
       "3801     17511.0     63012  1.283680      11.149673\n",
       "1005     13694.0     61803  1.259050      12.408723\n",
       "1447     14298.0     58021  1.182003      13.590727\n",
       "1345     14156.0     57025  1.161713      14.752440\n",
       "3202     16684.0     49390  1.006173      15.758612"
      ]
     },
     "execution_count": 2,
     "metadata": {},
     "output_type": "execute_result"
    }
   ],
   "source": [
    "# Agrupamos las ventas por descriptivo de producto (también podría ser por código)\n",
    "agrupado_prod = df.groupby(by='CustomerID')['Quantity'].sum().reset_index()\n",
    "\n",
    "# Eliminamos las devoluciones (mezclar ventas con devolución no es una buena idea cuando queremos calcular porcentajes)\n",
    "agrupado_prod = agrupado_prod.loc[agrupado_prod['Quantity'] > 0]\n",
    "\n",
    "# Calculamos el porcentaje de venta que supone cada producto\n",
    "agrupado_prod['PCT'] = (agrupado_prod['Quantity'] / agrupado_prod['Quantity'].sum()) * 100\n",
    "\n",
    "# Ordenamos de forma descendente por la cantidad de venta\n",
    "agrupado_prod = agrupado_prod.sort_values(by='Quantity', ascending=False)\n",
    "\n",
    "# Apuntamos el porcentaje de venta acumulado cuando vmaos avanzando por los productos.\n",
    "agrupado_prod['PCT_ACUMULADO'] = agrupado_prod['PCT'].cumsum()\n",
    "\n",
    "agrupado_prod.head(10)\n"
   ]
  },
  {
   "cell_type": "code",
   "execution_count": 3,
   "metadata": {
    "ExecuteTime": {
     "end_time": "2022-02-24T20:43:09.047101Z",
     "start_time": "2022-02-24T20:43:09.032101Z"
    }
   },
   "outputs": [
    {
     "data": {
      "text/plain": [
       "26.39499884232461"
      ]
     },
     "execution_count": 3,
     "metadata": {},
     "output_type": "execute_result"
    }
   ],
   "source": [
    "# Porcentaje de productos que generan el 80% de la venta:\n",
    "\n",
    "(agrupado_prod[agrupado_prod['PCT_ACUMULADO'] < 80].shape[0] / agrupado_prod.shape[0]) * 100"
   ]
  },
  {
   "cell_type": "markdown",
   "metadata": {},
   "source": [
    "Vemos que, aunque no es el 20% sí se cumple bastante bien la regla del 80-20, podemos comprobarlo también con los clientes:"
   ]
  },
  {
   "cell_type": "code",
   "execution_count": 4,
   "metadata": {
    "ExecuteTime": {
     "end_time": "2022-02-24T20:43:09.095102Z",
     "start_time": "2022-02-24T20:43:09.049102Z"
    }
   },
   "outputs": [
    {
     "data": {
      "text/plain": [
       "26.39499884232461"
      ]
     },
     "execution_count": 4,
     "metadata": {},
     "output_type": "execute_result"
    }
   ],
   "source": [
    "# Agrupamos las ventas por cliente\n",
    "agrupado_cl = df.groupby(by='CustomerID')['Quantity'].sum().reset_index()\n",
    "\n",
    "# Eliminamos las devoluciones (mezclar ventas con devolución no es una buena idea cuando queremos calcular porcentajes)\n",
    "agrupado_cl = agrupado_cl.loc[agrupado_cl['Quantity'] > 0]\n",
    "\n",
    "# Calculamos el porcentaje de venta que supone cada producto\n",
    "agrupado_cl['PCT'] = (agrupado_cl['Quantity'] / agrupado_cl['Quantity'].sum()) * 100\n",
    "\n",
    "# Ordenamos de forma descendente por la cantidad de venta\n",
    "agrupado_cl = agrupado_cl.sort_values(by='Quantity', ascending=False)\n",
    "\n",
    "# Apuntamos el porcentaje de venta acumulado cuando vmaos avanzando por los productos.\n",
    "agrupado_cl['PCT_ACUMULADO'] = agrupado_cl['PCT'].cumsum()\n",
    "\n",
    "# Porcentaje de productos que clientes el 80% de la venta:\n",
    "(agrupado_cl[agrupado_cl['PCT_ACUMULADO'] < 80].shape[0] / agrupado_cl.shape[0]) * 100"
   ]
  },
  {
   "cell_type": "markdown",
   "metadata": {},
   "source": [
    "\n",
    "En este caso está un poco más alejado del 20% pero también en línea con la idea general.\n",
    "\n",
    "## Función Check Pareto\n",
    "\n",
    "Como inciso, cuando encontramos este tipo de código, lo normal es extraerlo a una función de este tipo:"
   ]
  },
  {
   "cell_type": "code",
   "execution_count": 5,
   "metadata": {
    "ExecuteTime": {
     "end_time": "2022-02-24T21:54:28.404120Z",
     "start_time": "2022-02-24T21:54:28.386088Z"
    }
   },
   "outputs": [],
   "source": [
    "def check_pareto(df, nivel_agregacion, campo_agregacion):\n",
    "    ag = df.groupby(by=nivel_agregacion)[campo_agregacion].sum().reset_index()\n",
    "    ag = ag.loc[ag[campo_agregacion] > 0]\n",
    "    ag['PCT'] = (ag[campo_agregacion] / ag[campo_agregacion].sum()) * 100\n",
    "    ag = ag.sort_values(by=campo_agregacion, ascending=False)\n",
    "    ag['PCT_ACUMULADO'] = ag['PCT'].cumsum()\n",
    "    pct = (ag[ag['PCT_ACUMULADO'] < 80].shape[0] / ag.shape[0]) * 100\n",
    "    print(f'PCT de {nivel_agregacion} necesario para cubrir el 80% de la {campo_agregacion}: {pct} %')\n"
   ]
  },
  {
   "cell_type": "code",
   "execution_count": 6,
   "metadata": {
    "ExecuteTime": {
     "end_time": "2022-02-24T21:54:28.843546Z",
     "start_time": "2022-02-24T21:54:28.593568Z"
    }
   },
   "outputs": [
    {
     "name": "stdout",
     "output_type": "stream",
     "text": [
      "PCT de Description necesario para cubrir el 80% de la Quantity: 22.898693615972395 %\n",
      "PCT de Description necesario para cubrir el 80% de la UnitPrice: 17.0007423904974 %\n",
      "PCT de Description necesario para cubrir el 80% de la Total: 21.136590229312063 %\n",
      "PCT de CustomerID necesario para cubrir el 80% de la Quantity: 26.39499884232461 %\n",
      "PCT de CustomerID necesario para cubrir el 80% de la UnitPrice: 30.3363074811256 %\n",
      "PCT de CustomerID necesario para cubrir el 80% de la Total: 27.23276260990282 %\n"
     ]
    }
   ],
   "source": [
    "df['Total'] = df['Quantity'] * df['UnitPrice']\n",
    "\n",
    "check_pareto(df,'Description', 'Quantity')\n",
    "check_pareto(df,'Description', 'UnitPrice')\n",
    "check_pareto(df,'Description', 'Total')\n",
    "check_pareto(df,'CustomerID', 'Quantity')\n",
    "check_pareto(df,'CustomerID', 'UnitPrice')\n",
    "check_pareto(df,'CustomerID', 'Total')"
   ]
  },
  {
   "cell_type": "markdown",
   "metadata": {
    "ExecuteTime": {
     "end_time": "2021-03-24T22:52:49.480553Z",
     "start_time": "2021-03-24T22:52:49.450582Z"
    }
   },
   "source": [
    "## Función categorización ABC\n",
    "\n",
    "La categorización ABC utilzia el principio de Pareto para clasificar como A (lo mejor) aquellos elementos que causan el 80% del efecto, como B a aquellos elementos que generan el siguiente 80% y como C al resto."
   ]
  },
  {
   "cell_type": "code",
   "execution_count": 7,
   "metadata": {
    "ExecuteTime": {
     "end_time": "2022-02-24T21:54:29.014545Z",
     "start_time": "2022-02-24T21:54:28.995546Z"
    }
   },
   "outputs": [],
   "source": [
    "def categoriza_ABC(df, nivel_agregacion, campo_agregacion):\n",
    "    ag = df.groupby(by=nivel_agregacion)[campo_agregacion].sum().reset_index()\n",
    "    ag = ag[ag[nivel_agregacion].isna()==False]\n",
    "    ag = ag.loc[ag[campo_agregacion] > 0]\n",
    "    ag['PCT'] = (ag[campo_agregacion] / ag[campo_agregacion].sum()) * 100\n",
    "    ag = ag.sort_values(by=campo_agregacion, ascending=False)\n",
    "    ag['PCT_ACUMULADO'] = ag['PCT'].cumsum()\n",
    "    \n",
    "    ag['Clase_ABC'] = 'C'\n",
    "    \n",
    "    ag.loc[ag['PCT_ACUMULADO'] < 96, 'Clase_ABC'] = 'B'\n",
    "    ag.loc[ag['PCT_ACUMULADO'] < 80, 'Clase_ABC'] = 'A'\n",
    "    \n",
    "    ag.drop(columns=[x for x in ag.columns if x not in [nivel_agregacion, 'Clase_ABC','PCT','PCT_ACUMULADO']], inplace=True)\n",
    "    \n",
    "    df = df.set_index('StockCode').join(ag.set_index('StockCode')).reset_index()\n",
    "    \n",
    "    df = df[df['Clase_ABC'].isna()==False]\n",
    "    \n",
    "    return df"
   ]
  },
  {
   "cell_type": "code",
   "execution_count": 8,
   "metadata": {
    "ExecuteTime": {
     "end_time": "2022-02-24T21:54:29.716545Z",
     "start_time": "2022-02-24T21:54:29.337572Z"
    }
   },
   "outputs": [],
   "source": [
    "df = categoriza_ABC(df, 'StockCode', 'Quantity')"
   ]
  },
  {
   "cell_type": "code",
   "execution_count": 9,
   "metadata": {
    "ExecuteTime": {
     "end_time": "2022-02-24T21:54:29.854545Z",
     "start_time": "2022-02-24T21:54:29.763548Z"
    }
   },
   "outputs": [
    {
     "name": "stderr",
     "output_type": "stream",
     "text": [
      "C:\\Users\\aleex\\AppData\\Local\\Temp/ipykernel_13816/4192272955.py:1: FutureWarning: Indexing with multiple keys (implicitly converted to a tuple of keys) will be deprecated, use a list instead.\n",
      "  df.groupby(by='Clase_ABC')['UnitPrice', 'Total', 'Quantity'].agg(['sum', 'min', 'max'])\n"
     ]
    },
    {
     "data": {
      "text/html": [
       "<div>\n",
       "<style scoped>\n",
       "    .dataframe tbody tr th:only-of-type {\n",
       "        vertical-align: middle;\n",
       "    }\n",
       "\n",
       "    .dataframe tbody tr th {\n",
       "        vertical-align: top;\n",
       "    }\n",
       "\n",
       "    .dataframe thead tr th {\n",
       "        text-align: left;\n",
       "    }\n",
       "\n",
       "    .dataframe thead tr:last-of-type th {\n",
       "        text-align: right;\n",
       "    }\n",
       "</style>\n",
       "<table border=\"1\" class=\"dataframe\">\n",
       "  <thead>\n",
       "    <tr>\n",
       "      <th></th>\n",
       "      <th colspan=\"3\" halign=\"left\">UnitPrice</th>\n",
       "      <th colspan=\"3\" halign=\"left\">Total</th>\n",
       "      <th colspan=\"3\" halign=\"left\">Quantity</th>\n",
       "    </tr>\n",
       "    <tr>\n",
       "      <th></th>\n",
       "      <th>sum</th>\n",
       "      <th>min</th>\n",
       "      <th>max</th>\n",
       "      <th>sum</th>\n",
       "      <th>min</th>\n",
       "      <th>max</th>\n",
       "      <th>sum</th>\n",
       "      <th>min</th>\n",
       "      <th>max</th>\n",
       "    </tr>\n",
       "    <tr>\n",
       "      <th>Clase_ABC</th>\n",
       "      <th></th>\n",
       "      <th></th>\n",
       "      <th></th>\n",
       "      <th></th>\n",
       "      <th></th>\n",
       "      <th></th>\n",
       "      <th></th>\n",
       "      <th></th>\n",
       "      <th></th>\n",
       "    </tr>\n",
       "  </thead>\n",
       "  <tbody>\n",
       "    <tr>\n",
       "      <th>A</th>\n",
       "      <td>1.351584e+06</td>\n",
       "      <td>0.00</td>\n",
       "      <td>38970.00</td>\n",
       "      <td>7.129029e+06</td>\n",
       "      <td>-77183.60</td>\n",
       "      <td>77183.60</td>\n",
       "      <td>4204664</td>\n",
       "      <td>-74215</td>\n",
       "      <td>74215</td>\n",
       "    </tr>\n",
       "    <tr>\n",
       "      <th>B</th>\n",
       "      <td>5.116270e+05</td>\n",
       "      <td>0.00</td>\n",
       "      <td>39.13</td>\n",
       "      <td>1.969062e+06</td>\n",
       "      <td>-2432.70</td>\n",
       "      <td>3285.00</td>\n",
       "      <td>841669</td>\n",
       "      <td>-1510</td>\n",
       "      <td>960</td>\n",
       "    </tr>\n",
       "    <tr>\n",
       "      <th>C</th>\n",
       "      <td>3.449071e+05</td>\n",
       "      <td>-11062.06</td>\n",
       "      <td>11062.06</td>\n",
       "      <td>8.417087e+05</td>\n",
       "      <td>-11062.06</td>\n",
       "      <td>11062.06</td>\n",
       "      <td>210651</td>\n",
       "      <td>-9360</td>\n",
       "      <td>906</td>\n",
       "    </tr>\n",
       "  </tbody>\n",
       "</table>\n",
       "</div>"
      ],
      "text/plain": [
       "              UnitPrice                             Total                      \\\n",
       "                    sum       min       max           sum       min       max   \n",
       "Clase_ABC                                                                       \n",
       "A          1.351584e+06      0.00  38970.00  7.129029e+06 -77183.60  77183.60   \n",
       "B          5.116270e+05      0.00     39.13  1.969062e+06  -2432.70   3285.00   \n",
       "C          3.449071e+05 -11062.06  11062.06  8.417087e+05 -11062.06  11062.06   \n",
       "\n",
       "          Quantity                \n",
       "               sum    min    max  \n",
       "Clase_ABC                         \n",
       "A          4204664 -74215  74215  \n",
       "B           841669  -1510    960  \n",
       "C           210651  -9360    906  "
      ]
     },
     "execution_count": 9,
     "metadata": {},
     "output_type": "execute_result"
    }
   ],
   "source": [
    "df.groupby(by='Clase_ABC')['UnitPrice', 'Total', 'Quantity'].agg(['sum', 'min', 'max'])"
   ]
  },
  {
   "cell_type": "code",
   "execution_count": 10,
   "metadata": {},
   "outputs": [
    {
     "data": {
      "text/plain": [
       "0.6354831805704183"
      ]
     },
     "execution_count": 10,
     "metadata": {},
     "output_type": "execute_result"
    }
   ],
   "source": [
    "df[df['PCT_ACUMULADO']<80].shape[0]/df.shape[0]"
   ]
  }
 ],
 "metadata": {
  "kernelspec": {
   "display_name": "Python 3 (ipykernel)",
   "language": "python",
   "name": "python3"
  },
  "language_info": {
   "codemirror_mode": {
    "name": "ipython",
    "version": 3
   },
   "file_extension": ".py",
   "mimetype": "text/x-python",
   "name": "python",
   "nbconvert_exporter": "python",
   "pygments_lexer": "ipython3",
   "version": "3.8.5"
  },
  "toc": {
   "base_numbering": 1,
   "nav_menu": {},
   "number_sections": true,
   "sideBar": true,
   "skip_h1_title": false,
   "title_cell": "Table of Contents",
   "title_sidebar": "Contents",
   "toc_cell": false,
   "toc_position": {},
   "toc_section_display": true,
   "toc_window_display": false
  }
 },
 "nbformat": 4,
 "nbformat_minor": 4
}
