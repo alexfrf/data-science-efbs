{
    "metadata": {
        "kernelspec": {
            "name": "SQL",
            "display_name": "SQL",
            "language": "sql"
        },
        "language_info": {
            "name": "sql",
            "version": ""
        },
        "extensions": {
            "azuredatastudio": {
                "version": 1,
                "views": []
            }
        }
    },
    "nbformat_minor": 2,
    "nbformat": 4,
    "cells": [
        {
            "cell_type": "markdown",
            "source": [
                "# 1\\. Pedidos más altos por producto\n",
                "\n",
                "# \n",
                "\n",
                "Obtén, para cada producto, el mayor número de toneladas compradas."
            ],
            "metadata": {
                "azdata_cell_guid": "5c6a11c0-aabe-46ac-ba3e-4b55a31edfbb"
            },
            "attachments": {}
        },
        {
            "cell_type": "code",
            "source": [
                "SELECT DISTINCT PRODUCTO_ID, MAX(TONELADAS) OVER (PARTITION BY PRODUCTO_ID) AS MAX_TN\r\n",
                "FROM NEMINA.DBO.DATOS_BASE"
            ],
            "metadata": {
                "azdata_cell_guid": "04c3391a-b7e0-48a9-a4bb-891f255d93e7"
            },
            "outputs": [
                {
                    "output_type": "display_data",
                    "data": {
                        "text/html": "(3 rows affected)"
                    },
                    "metadata": {}
                },
                {
                    "output_type": "display_data",
                    "data": {
                        "text/html": "Total execution time: 00:00:00.059"
                    },
                    "metadata": {}
                },
                {
                    "output_type": "execute_result",
                    "metadata": {},
                    "execution_count": 3,
                    "data": {
                        "application/vnd.dataresource+json": {
                            "schema": {
                                "fields": [
                                    {
                                        "name": "PRODUCTO_ID"
                                    },
                                    {
                                        "name": "MAX_TN"
                                    }
                                ]
                            },
                            "data": [
                                {
                                    "0": "Algas",
                                    "1": "259.0000000000"
                                },
                                {
                                    "0": "Belleza",
                                    "1": "46.0000000000"
                                },
                                {
                                    "0": "Setas",
                                    "1": "592.0000000000"
                                }
                            ]
                        },
                        "text/html": [
                            "<table>",
                            "<tr><th>PRODUCTO_ID</th><th>MAX_TN</th></tr>",
                            "<tr><td>Algas</td><td>259.0000000000</td></tr>",
                            "<tr><td>Belleza</td><td>46.0000000000</td></tr>",
                            "<tr><td>Setas</td><td>592.0000000000</td></tr>",
                            "</table>"
                        ]
                    }
                }
            ],
            "execution_count": 3
        },
        {
            "cell_type": "markdown",
            "source": [
                "# 2\\. Mayores compradores por producto\n",
                "\n",
                "# \n",
                "\n",
                "Obtén el ranking de los 10 clientes que más toneladas han comprado por producto"
            ],
            "metadata": {
                "azdata_cell_guid": "752c4b92-9082-432d-8019-bdfcac7f24d7"
            },
            "attachments": {}
        },
        {
            "cell_type": "code",
            "source": [
                "WITH TONELADAS_PROD AS (\r\n",
                "    SELECT DISTINCT CLIENTE_ID,\r\n",
                "                PRODUCTO_ID,\r\n",
                "                SUM(TONELADAS) OVER (PARTITION BY PRODUCTO_ID,CLIENTE_ID) AS TONELADAS\r\n",
                "    FROM NEMINA.DBO.DATOS_BASE\r\n",
                "),\r\n",
                "\r\n",
                "RANKED AS (\r\n",
                "    SELECT *,ROW_NUMBER() OVER (PARTITION BY PRODUCTO_ID ORDER BY TONELADAS DESC) AS RN FROM TONELADAS_PROD\r\n",
                ")\r\n",
                "\r\n",
                "SELECT * FROM RANKED\r\n",
                "WHERE RN<=10"
            ],
            "metadata": {
                "azdata_cell_guid": "558f3389-26cf-472c-8bc0-d1be7c768fb1"
            },
            "outputs": [
                {
                    "output_type": "display_data",
                    "data": {
                        "text/html": "(30 rows affected)"
                    },
                    "metadata": {}
                },
                {
                    "output_type": "display_data",
                    "data": {
                        "text/html": "Total execution time: 00:00:00.065"
                    },
                    "metadata": {}
                },
                {
                    "output_type": "execute_result",
                    "metadata": {},
                    "execution_count": 4,
                    "data": {
                        "application/vnd.dataresource+json": {
                            "schema": {
                                "fields": [
                                    {
                                        "name": "CLIENTE_ID"
                                    },
                                    {
                                        "name": "PRODUCTO_ID"
                                    },
                                    {
                                        "name": "TONELADAS"
                                    },
                                    {
                                        "name": "RN"
                                    }
                                ]
                            },
                            "data": [
                                {
                                    "0": "22",
                                    "1": "Algas",
                                    "2": "515.5000000000",
                                    "3": "1"
                                },
                                {
                                    "0": "27",
                                    "1": "Algas",
                                    "2": "515.2000000000",
                                    "3": "2"
                                },
                                {
                                    "0": "4",
                                    "1": "Algas",
                                    "2": "496.6000000000",
                                    "3": "3"
                                },
                                {
                                    "0": "23",
                                    "1": "Algas",
                                    "2": "490.0000000000",
                                    "3": "4"
                                },
                                {
                                    "0": "25",
                                    "1": "Algas",
                                    "2": "482.1000000000",
                                    "3": "5"
                                },
                                {
                                    "0": "17",
                                    "1": "Algas",
                                    "2": "465.1000000000",
                                    "3": "6"
                                },
                                {
                                    "0": "7",
                                    "1": "Algas",
                                    "2": "451.7000000000",
                                    "3": "7"
                                },
                                {
                                    "0": "18",
                                    "1": "Algas",
                                    "2": "369.0000000000",
                                    "3": "8"
                                },
                                {
                                    "0": "26",
                                    "1": "Algas",
                                    "2": "356.0000000000",
                                    "3": "9"
                                },
                                {
                                    "0": "13",
                                    "1": "Algas",
                                    "2": "343.6000000000",
                                    "3": "10"
                                },
                                {
                                    "0": "28",
                                    "1": "Belleza",
                                    "2": "274.1000000000",
                                    "3": "1"
                                },
                                {
                                    "0": "25",
                                    "1": "Belleza",
                                    "2": "240.2000000000",
                                    "3": "2"
                                },
                                {
                                    "0": "20",
                                    "1": "Belleza",
                                    "2": "169.3000000000",
                                    "3": "3"
                                },
                                {
                                    "0": "18",
                                    "1": "Belleza",
                                    "2": "164.8000000000",
                                    "3": "4"
                                },
                                {
                                    "0": "23",
                                    "1": "Belleza",
                                    "2": "150.2000000000",
                                    "3": "5"
                                },
                                {
                                    "0": "12",
                                    "1": "Belleza",
                                    "2": "131.7000000000",
                                    "3": "6"
                                },
                                {
                                    "0": "16",
                                    "1": "Belleza",
                                    "2": "128.8000000000",
                                    "3": "7"
                                },
                                {
                                    "0": "11",
                                    "1": "Belleza",
                                    "2": "127.8000000000",
                                    "3": "8"
                                },
                                {
                                    "0": "27",
                                    "1": "Belleza",
                                    "2": "109.4000000000",
                                    "3": "9"
                                },
                                {
                                    "0": "21",
                                    "1": "Belleza",
                                    "2": "106.3000000000",
                                    "3": "10"
                                },
                                {
                                    "0": "27",
                                    "1": "Setas",
                                    "2": "1696.8000000000",
                                    "3": "1"
                                },
                                {
                                    "0": "24",
                                    "1": "Setas",
                                    "2": "1617.3000000000",
                                    "3": "2"
                                },
                                {
                                    "0": "23",
                                    "1": "Setas",
                                    "2": "1063.9000000000",
                                    "3": "3"
                                },
                                {
                                    "0": "21",
                                    "1": "Setas",
                                    "2": "1007.4000000000",
                                    "3": "4"
                                },
                                {
                                    "0": "25",
                                    "1": "Setas",
                                    "2": "913.9000000000",
                                    "3": "5"
                                },
                                {
                                    "0": "22",
                                    "1": "Setas",
                                    "2": "801.0000000000",
                                    "3": "6"
                                },
                                {
                                    "0": "28",
                                    "1": "Setas",
                                    "2": "786.4000000000",
                                    "3": "7"
                                },
                                {
                                    "0": "26",
                                    "1": "Setas",
                                    "2": "651.0000000000",
                                    "3": "8"
                                },
                                {
                                    "0": "17",
                                    "1": "Setas",
                                    "2": "335.8000000000",
                                    "3": "9"
                                },
                                {
                                    "0": "11",
                                    "1": "Setas",
                                    "2": "329.6000000000",
                                    "3": "10"
                                }
                            ]
                        },
                        "text/html": [
                            "<table>",
                            "<tr><th>CLIENTE_ID</th><th>PRODUCTO_ID</th><th>TONELADAS</th><th>RN</th></tr>",
                            "<tr><td>22</td><td>Algas</td><td>515.5000000000</td><td>1</td></tr>",
                            "<tr><td>27</td><td>Algas</td><td>515.2000000000</td><td>2</td></tr>",
                            "<tr><td>4</td><td>Algas</td><td>496.6000000000</td><td>3</td></tr>",
                            "<tr><td>23</td><td>Algas</td><td>490.0000000000</td><td>4</td></tr>",
                            "<tr><td>25</td><td>Algas</td><td>482.1000000000</td><td>5</td></tr>",
                            "<tr><td>17</td><td>Algas</td><td>465.1000000000</td><td>6</td></tr>",
                            "<tr><td>7</td><td>Algas</td><td>451.7000000000</td><td>7</td></tr>",
                            "<tr><td>18</td><td>Algas</td><td>369.0000000000</td><td>8</td></tr>",
                            "<tr><td>26</td><td>Algas</td><td>356.0000000000</td><td>9</td></tr>",
                            "<tr><td>13</td><td>Algas</td><td>343.6000000000</td><td>10</td></tr>",
                            "<tr><td>28</td><td>Belleza</td><td>274.1000000000</td><td>1</td></tr>",
                            "<tr><td>25</td><td>Belleza</td><td>240.2000000000</td><td>2</td></tr>",
                            "<tr><td>20</td><td>Belleza</td><td>169.3000000000</td><td>3</td></tr>",
                            "<tr><td>18</td><td>Belleza</td><td>164.8000000000</td><td>4</td></tr>",
                            "<tr><td>23</td><td>Belleza</td><td>150.2000000000</td><td>5</td></tr>",
                            "<tr><td>12</td><td>Belleza</td><td>131.7000000000</td><td>6</td></tr>",
                            "<tr><td>16</td><td>Belleza</td><td>128.8000000000</td><td>7</td></tr>",
                            "<tr><td>11</td><td>Belleza</td><td>127.8000000000</td><td>8</td></tr>",
                            "<tr><td>27</td><td>Belleza</td><td>109.4000000000</td><td>9</td></tr>",
                            "<tr><td>21</td><td>Belleza</td><td>106.3000000000</td><td>10</td></tr>",
                            "<tr><td>27</td><td>Setas</td><td>1696.8000000000</td><td>1</td></tr>",
                            "<tr><td>24</td><td>Setas</td><td>1617.3000000000</td><td>2</td></tr>",
                            "<tr><td>23</td><td>Setas</td><td>1063.9000000000</td><td>3</td></tr>",
                            "<tr><td>21</td><td>Setas</td><td>1007.4000000000</td><td>4</td></tr>",
                            "<tr><td>25</td><td>Setas</td><td>913.9000000000</td><td>5</td></tr>",
                            "<tr><td>22</td><td>Setas</td><td>801.0000000000</td><td>6</td></tr>",
                            "<tr><td>28</td><td>Setas</td><td>786.4000000000</td><td>7</td></tr>",
                            "<tr><td>26</td><td>Setas</td><td>651.0000000000</td><td>8</td></tr>",
                            "<tr><td>17</td><td>Setas</td><td>335.8000000000</td><td>9</td></tr>",
                            "<tr><td>11</td><td>Setas</td><td>329.6000000000</td><td>10</td></tr>",
                            "</table>"
                        ]
                    }
                }
            ],
            "execution_count": 4
        },
        {
            "cell_type": "markdown",
            "source": [
                "# 3\\. Pedidos por encima de la media de toneladas por producto\n",
                "\n",
                "Obtén, para cada producto, los pedidos cuyas toneladas superen la media de las toneladas vendidas por producto"
            ],
            "metadata": {
                "azdata_cell_guid": "72aefa46-005b-49fc-a565-4c0540402328"
            },
            "attachments": {}
        },
        {
            "cell_type": "code",
            "source": [
                "WITH TONELADAS_PRODUCTO AS (\r\n",
                "    SELECT DISTINCT PRODUCTO_ID, AVG(TONELADAS) OVER (PARTITION BY PRODUCTO_ID) AS TN_MEDIA\r\n",
                "    FROM NEMINA.DBO.DATOS_BASE\r\n",
                ")\r\n",
                "\r\n",
                "SELECT D.PEDIDO_ID, D.PRODUCTO_ID,D.TONELADAS, T.TN_MEDIA\r\n",
                "FROM NEMINA.DBO.DATOS_BASE D\r\n",
                "LEFT JOIN TONELADAS_PRODUCTO T\r\n",
                "    ON T.PRODUCTO_ID=D.PRODUCTO_ID\r\n",
                "WHERE D.TONELADAS>T.TN_MEDIA"
            ],
            "metadata": {
                "azdata_cell_guid": "f75ccc23-f827-490e-9d65-361c22fd3066"
            },
            "outputs": [
                {
                    "output_type": "display_data",
                    "data": {
                        "text/html": "(104 rows affected)"
                    },
                    "metadata": {}
                },
                {
                    "output_type": "display_data",
                    "data": {
                        "text/html": "Total execution time: 00:00:00.064"
                    },
                    "metadata": {}
                },
                {
                    "output_type": "execute_result",
                    "metadata": {},
                    "execution_count": 5,
                    "data": {
                        "application/vnd.dataresource+json": {
                            "schema": {
                                "fields": [
                                    {
                                        "name": "PEDIDO_ID"
                                    },
                                    {
                                        "name": "PRODUCTO_ID"
                                    },
                                    {
                                        "name": "TONELADAS"
                                    },
                                    {
                                        "name": "TN_MEDIA"
                                    }
                                ]
                            },
                            "data": [
                                {
                                    "0": "P-0051",
                                    "1": "Algas",
                                    "2": "43.8000000000",
                                    "3": "42.9914893617"
                                },
                                {
                                    "0": "P-0054",
                                    "1": "Belleza",
                                    "2": "44.1000000000",
                                    "3": "40.7385964912"
                                },
                                {
                                    "0": "P-0059",
                                    "1": "Algas",
                                    "2": "44.1000000000",
                                    "3": "42.9914893617"
                                },
                                {
                                    "0": "P-0069",
                                    "1": "Algas",
                                    "2": "44.1000000000",
                                    "3": "42.9914893617"
                                },
                                {
                                    "0": "P-0075",
                                    "1": "Algas",
                                    "2": "44.8000000000",
                                    "3": "42.9914893617"
                                },
                                {
                                    "0": "P-0088",
                                    "1": "Belleza",
                                    "2": "43.4000000000",
                                    "3": "40.7385964912"
                                },
                                {
                                    "0": "P-0126",
                                    "1": "Belleza",
                                    "2": "44.5000000000",
                                    "3": "40.7385964912"
                                },
                                {
                                    "0": "P-0135",
                                    "1": "Belleza",
                                    "2": "42.0000000000",
                                    "3": "40.7385964912"
                                },
                                {
                                    "0": "P-0141",
                                    "1": "Algas",
                                    "2": "43.1000000000",
                                    "3": "42.9914893617"
                                },
                                {
                                    "0": "P-0162",
                                    "1": "Setas",
                                    "2": "180.0000000000",
                                    "3": "47.8136718750"
                                },
                                {
                                    "0": "P-0173",
                                    "1": "Belleza",
                                    "2": "42.6000000000",
                                    "3": "40.7385964912"
                                },
                                {
                                    "0": "P-0174",
                                    "1": "Algas",
                                    "2": "43.7000000000",
                                    "3": "42.9914893617"
                                },
                                {
                                    "0": "P-0178",
                                    "1": "Algas",
                                    "2": "45.0000000000",
                                    "3": "42.9914893617"
                                },
                                {
                                    "0": "P-0191",
                                    "1": "Belleza",
                                    "2": "43.2000000000",
                                    "3": "40.7385964912"
                                },
                                {
                                    "0": "P-0193",
                                    "1": "Belleza",
                                    "2": "43.6000000000",
                                    "3": "40.7385964912"
                                },
                                {
                                    "0": "P-0195",
                                    "1": "Setas",
                                    "2": "324.0000000000",
                                    "3": "47.8136718750"
                                },
                                {
                                    "0": "P-0213",
                                    "1": "Belleza",
                                    "2": "41.0000000000",
                                    "3": "40.7385964912"
                                },
                                {
                                    "0": "P-0221",
                                    "1": "Setas",
                                    "2": "180.0000000000",
                                    "3": "47.8136718750"
                                },
                                {
                                    "0": "P-0224",
                                    "1": "Belleza",
                                    "2": "42.9000000000",
                                    "3": "40.7385964912"
                                },
                                {
                                    "0": "P-0225",
                                    "1": "Setas",
                                    "2": "180.0000000000",
                                    "3": "47.8136718750"
                                },
                                {
                                    "0": "P-0229",
                                    "1": "Belleza",
                                    "2": "42.8000000000",
                                    "3": "40.7385964912"
                                },
                                {
                                    "0": "P-0235",
                                    "1": "Setas",
                                    "2": "180.0000000000",
                                    "3": "47.8136718750"
                                },
                                {
                                    "0": "P-0242",
                                    "1": "Algas",
                                    "2": "43.6000000000",
                                    "3": "42.9914893617"
                                },
                                {
                                    "0": "P-0246",
                                    "1": "Algas",
                                    "2": "46.8000000000",
                                    "3": "42.9914893617"
                                },
                                {
                                    "0": "P-0252",
                                    "1": "Belleza",
                                    "2": "43.7000000000",
                                    "3": "40.7385964912"
                                },
                                {
                                    "0": "P-0253",
                                    "1": "Belleza",
                                    "2": "41.0000000000",
                                    "3": "40.7385964912"
                                },
                                {
                                    "0": "P-0256",
                                    "1": "Belleza",
                                    "2": "42.9000000000",
                                    "3": "40.7385964912"
                                },
                                {
                                    "0": "P-0262",
                                    "1": "Algas",
                                    "2": "44.6000000000",
                                    "3": "42.9914893617"
                                },
                                {
                                    "0": "P-0275",
                                    "1": "Algas",
                                    "2": "43.6000000000",
                                    "3": "42.9914893617"
                                },
                                {
                                    "0": "P-0282",
                                    "1": "Algas",
                                    "2": "45.4000000000",
                                    "3": "42.9914893617"
                                },
                                {
                                    "0": "P-0284",
                                    "1": "Belleza",
                                    "2": "45.4000000000",
                                    "3": "40.7385964912"
                                },
                                {
                                    "0": "P-0286",
                                    "1": "Belleza",
                                    "2": "43.3000000000",
                                    "3": "40.7385964912"
                                },
                                {
                                    "0": "P-0288",
                                    "1": "Algas",
                                    "2": "46.1000000000",
                                    "3": "42.9914893617"
                                },
                                {
                                    "0": "P-0290",
                                    "1": "Algas",
                                    "2": "43.7000000000",
                                    "3": "42.9914893617"
                                },
                                {
                                    "0": "P-0291",
                                    "1": "Algas",
                                    "2": "43.7000000000",
                                    "3": "42.9914893617"
                                },
                                {
                                    "0": "P-0292",
                                    "1": "Belleza",
                                    "2": "42.9000000000",
                                    "3": "40.7385964912"
                                },
                                {
                                    "0": "P-0308",
                                    "1": "Algas",
                                    "2": "45.6000000000",
                                    "3": "42.9914893617"
                                },
                                {
                                    "0": "P-0310",
                                    "1": "Algas",
                                    "2": "43.2000000000",
                                    "3": "42.9914893617"
                                },
                                {
                                    "0": "P-0311",
                                    "1": "Algas",
                                    "2": "47.4000000000",
                                    "3": "42.9914893617"
                                },
                                {
                                    "0": "P-0312",
                                    "1": "Algas",
                                    "2": "44.4000000000",
                                    "3": "42.9914893617"
                                },
                                {
                                    "0": "P-0318",
                                    "1": "Algas",
                                    "2": "259.0000000000",
                                    "3": "42.9914893617"
                                },
                                {
                                    "0": "P-0322",
                                    "1": "Algas",
                                    "2": "45.2000000000",
                                    "3": "42.9914893617"
                                },
                                {
                                    "0": "P-0327",
                                    "1": "Algas",
                                    "2": "44.0000000000",
                                    "3": "42.9914893617"
                                },
                                {
                                    "0": "P-0331",
                                    "1": "Belleza",
                                    "2": "45.2000000000",
                                    "3": "40.7385964912"
                                },
                                {
                                    "0": "P-0333",
                                    "1": "Algas",
                                    "2": "44.4000000000",
                                    "3": "42.9914893617"
                                },
                                {
                                    "0": "P-0336",
                                    "1": "Setas",
                                    "2": "259.0000000000",
                                    "3": "47.8136718750"
                                },
                                {
                                    "0": "P-0340",
                                    "1": "Algas",
                                    "2": "44.4000000000",
                                    "3": "42.9914893617"
                                },
                                {
                                    "0": "P-0341",
                                    "1": "Algas",
                                    "2": "45.2000000000",
                                    "3": "42.9914893617"
                                },
                                {
                                    "0": "P-0344",
                                    "1": "Algas",
                                    "2": "44.0000000000",
                                    "3": "42.9914893617"
                                },
                                {
                                    "0": "P-0347",
                                    "1": "Algas",
                                    "2": "43.6000000000",
                                    "3": "42.9914893617"
                                },
                                {
                                    "0": "P-0348",
                                    "1": "Algas",
                                    "2": "44.0000000000",
                                    "3": "42.9914893617"
                                },
                                {
                                    "0": "P-0350",
                                    "1": "Belleza",
                                    "2": "45.9000000000",
                                    "3": "40.7385964912"
                                },
                                {
                                    "0": "P-0352",
                                    "1": "Setas",
                                    "2": "296.0000000000",
                                    "3": "47.8136718750"
                                },
                                {
                                    "0": "P-0356",
                                    "1": "Algas",
                                    "2": "222.0000000000",
                                    "3": "42.9914893617"
                                },
                                {
                                    "0": "P-0358",
                                    "1": "Algas",
                                    "2": "44.8000000000",
                                    "3": "42.9914893617"
                                },
                                {
                                    "0": "P-0360",
                                    "1": "Setas",
                                    "2": "333.0000000000",
                                    "3": "47.8136718750"
                                },
                                {
                                    "0": "P-0362",
                                    "1": "Algas",
                                    "2": "45.5000000000",
                                    "3": "42.9914893617"
                                },
                                {
                                    "0": "P-0365",
                                    "1": "Setas",
                                    "2": "592.0000000000",
                                    "3": "47.8136718750"
                                },
                                {
                                    "0": "P-0366",
                                    "1": "Algas",
                                    "2": "44.4000000000",
                                    "3": "42.9914893617"
                                },
                                {
                                    "0": "P-0370",
                                    "1": "Algas",
                                    "2": "45.9000000000",
                                    "3": "42.9914893617"
                                },
                                {
                                    "0": "P-0372",
                                    "1": "Algas",
                                    "2": "44.8000000000",
                                    "3": "42.9914893617"
                                },
                                {
                                    "0": "P-0373",
                                    "1": "Algas",
                                    "2": "45.5000000000",
                                    "3": "42.9914893617"
                                },
                                {
                                    "0": "P-0378",
                                    "1": "Algas",
                                    "2": "46.0000000000",
                                    "3": "42.9914893617"
                                },
                                {
                                    "0": "P-0383",
                                    "1": "Algas",
                                    "2": "44.4000000000",
                                    "3": "42.9914893617"
                                },
                                {
                                    "0": "P-0386",
                                    "1": "Algas",
                                    "2": "43.6000000000",
                                    "3": "42.9914893617"
                                },
                                {
                                    "0": "P-0387",
                                    "1": "Belleza",
                                    "2": "45.2000000000",
                                    "3": "40.7385964912"
                                },
                                {
                                    "0": "P-0388",
                                    "1": "Algas",
                                    "2": "45.2000000000",
                                    "3": "42.9914893617"
                                },
                                {
                                    "0": "P-0389",
                                    "1": "Belleza",
                                    "2": "44.4000000000",
                                    "3": "40.7385964912"
                                },
                                {
                                    "0": "P-0392",
                                    "1": "Algas",
                                    "2": "43.6000000000",
                                    "3": "42.9914893617"
                                },
                                {
                                    "0": "P-0397",
                                    "1": "Algas",
                                    "2": "48.1000000000",
                                    "3": "42.9914893617"
                                },
                                {
                                    "0": "P-0398",
                                    "1": "Algas",
                                    "2": "45.2000000000",
                                    "3": "42.9914893617"
                                },
                                {
                                    "0": "P-0401",
                                    "1": "Algas",
                                    "2": "43.6000000000",
                                    "3": "42.9914893617"
                                },
                                {
                                    "0": "P-0403",
                                    "1": "Algas",
                                    "2": "45.6000000000",
                                    "3": "42.9914893617"
                                },
                                {
                                    "0": "P-0406",
                                    "1": "Algas",
                                    "2": "43.6000000000",
                                    "3": "42.9914893617"
                                },
                                {
                                    "0": "P-0416",
                                    "1": "Belleza",
                                    "2": "44.8000000000",
                                    "3": "40.7385964912"
                                },
                                {
                                    "0": "P-0420",
                                    "1": "Algas",
                                    "2": "44.0000000000",
                                    "3": "42.9914893617"
                                },
                                {
                                    "0": "P-0421",
                                    "1": "Algas",
                                    "2": "44.0000000000",
                                    "3": "42.9914893617"
                                },
                                {
                                    "0": "P-0424",
                                    "1": "Algas",
                                    "2": "45.6000000000",
                                    "3": "42.9914893617"
                                },
                                {
                                    "0": "P-0437",
                                    "1": "Algas",
                                    "2": "45.2000000000",
                                    "3": "42.9914893617"
                                },
                                {
                                    "0": "P-0439",
                                    "1": "Algas",
                                    "2": "46.0000000000",
                                    "3": "42.9914893617"
                                },
                                {
                                    "0": "P-0443",
                                    "1": "Belleza",
                                    "2": "44.4000000000",
                                    "3": "40.7385964912"
                                },
                                {
                                    "0": "P-0446",
                                    "1": "Belleza",
                                    "2": "42.4000000000",
                                    "3": "40.7385964912"
                                },
                                {
                                    "0": "P-0448",
                                    "1": "Algas",
                                    "2": "45.2000000000",
                                    "3": "42.9914893617"
                                },
                                {
                                    "0": "P-0451",
                                    "1": "Belleza",
                                    "2": "43.6000000000",
                                    "3": "40.7385964912"
                                },
                                {
                                    "0": "P-0453",
                                    "1": "Algas",
                                    "2": "46.6000000000",
                                    "3": "42.9914893617"
                                },
                                {
                                    "0": "P-0454",
                                    "1": "Belleza",
                                    "2": "45.2000000000",
                                    "3": "40.7385964912"
                                },
                                {
                                    "0": "P-0457",
                                    "1": "Algas",
                                    "2": "45.2000000000",
                                    "3": "42.9914893617"
                                },
                                {
                                    "0": "P-0459",
                                    "1": "Belleza",
                                    "2": "43.2000000000",
                                    "3": "40.7385964912"
                                },
                                {
                                    "0": "P-0463",
                                    "1": "Belleza",
                                    "2": "45.1000000000",
                                    "3": "40.7385964912"
                                },
                                {
                                    "0": "P-0465",
                                    "1": "Belleza",
                                    "2": "42.0000000000",
                                    "3": "40.7385964912"
                                },
                                {
                                    "0": "P-0466",
                                    "1": "Algas",
                                    "2": "43.2000000000",
                                    "3": "42.9914893617"
                                },
                                {
                                    "0": "P-0470",
                                    "1": "Belleza",
                                    "2": "41.4000000000",
                                    "3": "40.7385964912"
                                },
                                {
                                    "0": "P-0474",
                                    "1": "Algas",
                                    "2": "44.8000000000",
                                    "3": "42.9914893617"
                                },
                                {
                                    "0": "P-0476",
                                    "1": "Algas",
                                    "2": "43.6000000000",
                                    "3": "42.9914893617"
                                },
                                {
                                    "0": "P-0477",
                                    "1": "Belleza",
                                    "2": "46.0000000000",
                                    "3": "40.7385964912"
                                },
                                {
                                    "0": "P-0479",
                                    "1": "Algas",
                                    "2": "45.6000000000",
                                    "3": "42.9914893617"
                                },
                                {
                                    "0": "P-0481",
                                    "1": "Algas",
                                    "2": "44.8000000000",
                                    "3": "42.9914893617"
                                },
                                {
                                    "0": "P-0483",
                                    "1": "Algas",
                                    "2": "44.8000000000",
                                    "3": "42.9914893617"
                                },
                                {
                                    "0": "P-0486",
                                    "1": "Algas",
                                    "2": "44.8000000000",
                                    "3": "42.9914893617"
                                },
                                {
                                    "0": "P-0490",
                                    "1": "Belleza",
                                    "2": "42.0000000000",
                                    "3": "40.7385964912"
                                },
                                {
                                    "0": "P-0492",
                                    "1": "Algas",
                                    "2": "45.2000000000",
                                    "3": "42.9914893617"
                                },
                                {
                                    "0": "P-0493",
                                    "1": "Belleza",
                                    "2": "45.6000000000",
                                    "3": "40.7385964912"
                                },
                                {
                                    "0": "P-0495",
                                    "1": "Algas",
                                    "2": "43.2000000000",
                                    "3": "42.9914893617"
                                },
                                {
                                    "0": "P-0497",
                                    "1": "Algas",
                                    "2": "43.6000000000",
                                    "3": "42.9914893617"
                                }
                            ]
                        },
                        "text/html": [
                            "<table>",
                            "<tr><th>PEDIDO_ID</th><th>PRODUCTO_ID</th><th>TONELADAS</th><th>TN_MEDIA</th></tr>",
                            "<tr><td>P-0051</td><td>Algas</td><td>43.8000000000</td><td>42.9914893617</td></tr>",
                            "<tr><td>P-0054</td><td>Belleza</td><td>44.1000000000</td><td>40.7385964912</td></tr>",
                            "<tr><td>P-0059</td><td>Algas</td><td>44.1000000000</td><td>42.9914893617</td></tr>",
                            "<tr><td>P-0069</td><td>Algas</td><td>44.1000000000</td><td>42.9914893617</td></tr>",
                            "<tr><td>P-0075</td><td>Algas</td><td>44.8000000000</td><td>42.9914893617</td></tr>",
                            "<tr><td>P-0088</td><td>Belleza</td><td>43.4000000000</td><td>40.7385964912</td></tr>",
                            "<tr><td>P-0126</td><td>Belleza</td><td>44.5000000000</td><td>40.7385964912</td></tr>",
                            "<tr><td>P-0135</td><td>Belleza</td><td>42.0000000000</td><td>40.7385964912</td></tr>",
                            "<tr><td>P-0141</td><td>Algas</td><td>43.1000000000</td><td>42.9914893617</td></tr>",
                            "<tr><td>P-0162</td><td>Setas</td><td>180.0000000000</td><td>47.8136718750</td></tr>",
                            "<tr><td>P-0173</td><td>Belleza</td><td>42.6000000000</td><td>40.7385964912</td></tr>",
                            "<tr><td>P-0174</td><td>Algas</td><td>43.7000000000</td><td>42.9914893617</td></tr>",
                            "<tr><td>P-0178</td><td>Algas</td><td>45.0000000000</td><td>42.9914893617</td></tr>",
                            "<tr><td>P-0191</td><td>Belleza</td><td>43.2000000000</td><td>40.7385964912</td></tr>",
                            "<tr><td>P-0193</td><td>Belleza</td><td>43.6000000000</td><td>40.7385964912</td></tr>",
                            "<tr><td>P-0195</td><td>Setas</td><td>324.0000000000</td><td>47.8136718750</td></tr>",
                            "<tr><td>P-0213</td><td>Belleza</td><td>41.0000000000</td><td>40.7385964912</td></tr>",
                            "<tr><td>P-0221</td><td>Setas</td><td>180.0000000000</td><td>47.8136718750</td></tr>",
                            "<tr><td>P-0224</td><td>Belleza</td><td>42.9000000000</td><td>40.7385964912</td></tr>",
                            "<tr><td>P-0225</td><td>Setas</td><td>180.0000000000</td><td>47.8136718750</td></tr>",
                            "<tr><td>P-0229</td><td>Belleza</td><td>42.8000000000</td><td>40.7385964912</td></tr>",
                            "<tr><td>P-0235</td><td>Setas</td><td>180.0000000000</td><td>47.8136718750</td></tr>",
                            "<tr><td>P-0242</td><td>Algas</td><td>43.6000000000</td><td>42.9914893617</td></tr>",
                            "<tr><td>P-0246</td><td>Algas</td><td>46.8000000000</td><td>42.9914893617</td></tr>",
                            "<tr><td>P-0252</td><td>Belleza</td><td>43.7000000000</td><td>40.7385964912</td></tr>",
                            "<tr><td>P-0253</td><td>Belleza</td><td>41.0000000000</td><td>40.7385964912</td></tr>",
                            "<tr><td>P-0256</td><td>Belleza</td><td>42.9000000000</td><td>40.7385964912</td></tr>",
                            "<tr><td>P-0262</td><td>Algas</td><td>44.6000000000</td><td>42.9914893617</td></tr>",
                            "<tr><td>P-0275</td><td>Algas</td><td>43.6000000000</td><td>42.9914893617</td></tr>",
                            "<tr><td>P-0282</td><td>Algas</td><td>45.4000000000</td><td>42.9914893617</td></tr>",
                            "<tr><td>P-0284</td><td>Belleza</td><td>45.4000000000</td><td>40.7385964912</td></tr>",
                            "<tr><td>P-0286</td><td>Belleza</td><td>43.3000000000</td><td>40.7385964912</td></tr>",
                            "<tr><td>P-0288</td><td>Algas</td><td>46.1000000000</td><td>42.9914893617</td></tr>",
                            "<tr><td>P-0290</td><td>Algas</td><td>43.7000000000</td><td>42.9914893617</td></tr>",
                            "<tr><td>P-0291</td><td>Algas</td><td>43.7000000000</td><td>42.9914893617</td></tr>",
                            "<tr><td>P-0292</td><td>Belleza</td><td>42.9000000000</td><td>40.7385964912</td></tr>",
                            "<tr><td>P-0308</td><td>Algas</td><td>45.6000000000</td><td>42.9914893617</td></tr>",
                            "<tr><td>P-0310</td><td>Algas</td><td>43.2000000000</td><td>42.9914893617</td></tr>",
                            "<tr><td>P-0311</td><td>Algas</td><td>47.4000000000</td><td>42.9914893617</td></tr>",
                            "<tr><td>P-0312</td><td>Algas</td><td>44.4000000000</td><td>42.9914893617</td></tr>",
                            "<tr><td>P-0318</td><td>Algas</td><td>259.0000000000</td><td>42.9914893617</td></tr>",
                            "<tr><td>P-0322</td><td>Algas</td><td>45.2000000000</td><td>42.9914893617</td></tr>",
                            "<tr><td>P-0327</td><td>Algas</td><td>44.0000000000</td><td>42.9914893617</td></tr>",
                            "<tr><td>P-0331</td><td>Belleza</td><td>45.2000000000</td><td>40.7385964912</td></tr>",
                            "<tr><td>P-0333</td><td>Algas</td><td>44.4000000000</td><td>42.9914893617</td></tr>",
                            "<tr><td>P-0336</td><td>Setas</td><td>259.0000000000</td><td>47.8136718750</td></tr>",
                            "<tr><td>P-0340</td><td>Algas</td><td>44.4000000000</td><td>42.9914893617</td></tr>",
                            "<tr><td>P-0341</td><td>Algas</td><td>45.2000000000</td><td>42.9914893617</td></tr>",
                            "<tr><td>P-0344</td><td>Algas</td><td>44.0000000000</td><td>42.9914893617</td></tr>",
                            "<tr><td>P-0347</td><td>Algas</td><td>43.6000000000</td><td>42.9914893617</td></tr>",
                            "<tr><td>P-0348</td><td>Algas</td><td>44.0000000000</td><td>42.9914893617</td></tr>",
                            "<tr><td>P-0350</td><td>Belleza</td><td>45.9000000000</td><td>40.7385964912</td></tr>",
                            "<tr><td>P-0352</td><td>Setas</td><td>296.0000000000</td><td>47.8136718750</td></tr>",
                            "<tr><td>P-0356</td><td>Algas</td><td>222.0000000000</td><td>42.9914893617</td></tr>",
                            "<tr><td>P-0358</td><td>Algas</td><td>44.8000000000</td><td>42.9914893617</td></tr>",
                            "<tr><td>P-0360</td><td>Setas</td><td>333.0000000000</td><td>47.8136718750</td></tr>",
                            "<tr><td>P-0362</td><td>Algas</td><td>45.5000000000</td><td>42.9914893617</td></tr>",
                            "<tr><td>P-0365</td><td>Setas</td><td>592.0000000000</td><td>47.8136718750</td></tr>",
                            "<tr><td>P-0366</td><td>Algas</td><td>44.4000000000</td><td>42.9914893617</td></tr>",
                            "<tr><td>P-0370</td><td>Algas</td><td>45.9000000000</td><td>42.9914893617</td></tr>",
                            "<tr><td>P-0372</td><td>Algas</td><td>44.8000000000</td><td>42.9914893617</td></tr>",
                            "<tr><td>P-0373</td><td>Algas</td><td>45.5000000000</td><td>42.9914893617</td></tr>",
                            "<tr><td>P-0378</td><td>Algas</td><td>46.0000000000</td><td>42.9914893617</td></tr>",
                            "<tr><td>P-0383</td><td>Algas</td><td>44.4000000000</td><td>42.9914893617</td></tr>",
                            "<tr><td>P-0386</td><td>Algas</td><td>43.6000000000</td><td>42.9914893617</td></tr>",
                            "<tr><td>P-0387</td><td>Belleza</td><td>45.2000000000</td><td>40.7385964912</td></tr>",
                            "<tr><td>P-0388</td><td>Algas</td><td>45.2000000000</td><td>42.9914893617</td></tr>",
                            "<tr><td>P-0389</td><td>Belleza</td><td>44.4000000000</td><td>40.7385964912</td></tr>",
                            "<tr><td>P-0392</td><td>Algas</td><td>43.6000000000</td><td>42.9914893617</td></tr>",
                            "<tr><td>P-0397</td><td>Algas</td><td>48.1000000000</td><td>42.9914893617</td></tr>",
                            "<tr><td>P-0398</td><td>Algas</td><td>45.2000000000</td><td>42.9914893617</td></tr>",
                            "<tr><td>P-0401</td><td>Algas</td><td>43.6000000000</td><td>42.9914893617</td></tr>",
                            "<tr><td>P-0403</td><td>Algas</td><td>45.6000000000</td><td>42.9914893617</td></tr>",
                            "<tr><td>P-0406</td><td>Algas</td><td>43.6000000000</td><td>42.9914893617</td></tr>",
                            "<tr><td>P-0416</td><td>Belleza</td><td>44.8000000000</td><td>40.7385964912</td></tr>",
                            "<tr><td>P-0420</td><td>Algas</td><td>44.0000000000</td><td>42.9914893617</td></tr>",
                            "<tr><td>P-0421</td><td>Algas</td><td>44.0000000000</td><td>42.9914893617</td></tr>",
                            "<tr><td>P-0424</td><td>Algas</td><td>45.6000000000</td><td>42.9914893617</td></tr>",
                            "<tr><td>P-0437</td><td>Algas</td><td>45.2000000000</td><td>42.9914893617</td></tr>",
                            "<tr><td>P-0439</td><td>Algas</td><td>46.0000000000</td><td>42.9914893617</td></tr>",
                            "<tr><td>P-0443</td><td>Belleza</td><td>44.4000000000</td><td>40.7385964912</td></tr>",
                            "<tr><td>P-0446</td><td>Belleza</td><td>42.4000000000</td><td>40.7385964912</td></tr>",
                            "<tr><td>P-0448</td><td>Algas</td><td>45.2000000000</td><td>42.9914893617</td></tr>",
                            "<tr><td>P-0451</td><td>Belleza</td><td>43.6000000000</td><td>40.7385964912</td></tr>",
                            "<tr><td>P-0453</td><td>Algas</td><td>46.6000000000</td><td>42.9914893617</td></tr>",
                            "<tr><td>P-0454</td><td>Belleza</td><td>45.2000000000</td><td>40.7385964912</td></tr>",
                            "<tr><td>P-0457</td><td>Algas</td><td>45.2000000000</td><td>42.9914893617</td></tr>",
                            "<tr><td>P-0459</td><td>Belleza</td><td>43.2000000000</td><td>40.7385964912</td></tr>",
                            "<tr><td>P-0463</td><td>Belleza</td><td>45.1000000000</td><td>40.7385964912</td></tr>",
                            "<tr><td>P-0465</td><td>Belleza</td><td>42.0000000000</td><td>40.7385964912</td></tr>",
                            "<tr><td>P-0466</td><td>Algas</td><td>43.2000000000</td><td>42.9914893617</td></tr>",
                            "<tr><td>P-0470</td><td>Belleza</td><td>41.4000000000</td><td>40.7385964912</td></tr>",
                            "<tr><td>P-0474</td><td>Algas</td><td>44.8000000000</td><td>42.9914893617</td></tr>",
                            "<tr><td>P-0476</td><td>Algas</td><td>43.6000000000</td><td>42.9914893617</td></tr>",
                            "<tr><td>P-0477</td><td>Belleza</td><td>46.0000000000</td><td>40.7385964912</td></tr>",
                            "<tr><td>P-0479</td><td>Algas</td><td>45.6000000000</td><td>42.9914893617</td></tr>",
                            "<tr><td>P-0481</td><td>Algas</td><td>44.8000000000</td><td>42.9914893617</td></tr>",
                            "<tr><td>P-0483</td><td>Algas</td><td>44.8000000000</td><td>42.9914893617</td></tr>",
                            "<tr><td>P-0486</td><td>Algas</td><td>44.8000000000</td><td>42.9914893617</td></tr>",
                            "<tr><td>P-0490</td><td>Belleza</td><td>42.0000000000</td><td>40.7385964912</td></tr>",
                            "<tr><td>P-0492</td><td>Algas</td><td>45.2000000000</td><td>42.9914893617</td></tr>",
                            "<tr><td>P-0493</td><td>Belleza</td><td>45.6000000000</td><td>40.7385964912</td></tr>",
                            "<tr><td>P-0495</td><td>Algas</td><td>43.2000000000</td><td>42.9914893617</td></tr>",
                            "<tr><td>P-0497</td><td>Algas</td><td>43.6000000000</td><td>42.9914893617</td></tr>",
                            "</table>"
                        ]
                    }
                }
            ],
            "execution_count": 5
        },
        {
            "cell_type": "markdown",
            "source": [
                "# 4\\. Productos más vendidos por zona\n",
                "\n",
                "Obtén, para cada zona, los producto ordenados del más vendido al menos vendido."
            ],
            "metadata": {
                "azdata_cell_guid": "1e699ee7-521b-4c65-86c8-1dba1d08ae4d"
            },
            "attachments": {}
        },
        {
            "cell_type": "code",
            "source": [
                "SELECT DISTINCT ZONA_ID,PRODUCTO_ID, SUM(TONELADAS) OVER (PARTITION BY ZONA_ID,PRODUCTO_ID) AS TOTAL\r\n",
                "FROM NEMINA.DBO.DATOS_BASE D\r\n",
                "ORDER BY ZONA_ID ASC,TOTAL DESC"
            ],
            "metadata": {
                "azdata_cell_guid": "a2604336-9db2-4c0b-8087-815f9cb2b0ae"
            },
            "outputs": [
                {
                    "output_type": "display_data",
                    "data": {
                        "text/html": "(12 rows affected)"
                    },
                    "metadata": {}
                },
                {
                    "output_type": "display_data",
                    "data": {
                        "text/html": "Total execution time: 00:00:00.054"
                    },
                    "metadata": {}
                },
                {
                    "output_type": "execute_result",
                    "metadata": {},
                    "execution_count": 6,
                    "data": {
                        "application/vnd.dataresource+json": {
                            "schema": {
                                "fields": [
                                    {
                                        "name": "ZONA_ID"
                                    },
                                    {
                                        "name": "PRODUCTO_ID"
                                    },
                                    {
                                        "name": "TOTAL"
                                    }
                                ]
                            },
                            "data": [
                                {
                                    "0": "Coruña",
                                    "1": "Algas",
                                    "2": "3949.2000000000"
                                },
                                {
                                    "0": "Coruña",
                                    "1": "Setas",
                                    "2": "2901.5000000000"
                                },
                                {
                                    "0": "Coruña",
                                    "1": "Belleza",
                                    "2": "1043.9000000000"
                                },
                                {
                                    "0": "Lugo",
                                    "1": "Algas",
                                    "2": "1283.6000000000"
                                },
                                {
                                    "0": "Lugo",
                                    "1": "Setas",
                                    "2": "801.1000000000"
                                },
                                {
                                    "0": "Lugo",
                                    "1": "Belleza",
                                    "2": "211.7000000000"
                                },
                                {
                                    "0": "Ourense",
                                    "1": "Setas",
                                    "2": "2746.8000000000"
                                },
                                {
                                    "0": "Ourense",
                                    "1": "Algas",
                                    "2": "762.0000000000"
                                },
                                {
                                    "0": "Ourense",
                                    "1": "Belleza",
                                    "2": "251.6000000000"
                                },
                                {
                                    "0": "Pontevedra",
                                    "1": "Setas",
                                    "2": "5790.9000000000"
                                },
                                {
                                    "0": "Pontevedra",
                                    "1": "Algas",
                                    "2": "2087.6000000000"
                                },
                                {
                                    "0": "Pontevedra",
                                    "1": "Belleza",
                                    "2": "814.9000000000"
                                }
                            ]
                        },
                        "text/html": [
                            "<table>",
                            "<tr><th>ZONA_ID</th><th>PRODUCTO_ID</th><th>TOTAL</th></tr>",
                            "<tr><td>Coruña</td><td>Algas</td><td>3949.2000000000</td></tr>",
                            "<tr><td>Coruña</td><td>Setas</td><td>2901.5000000000</td></tr>",
                            "<tr><td>Coruña</td><td>Belleza</td><td>1043.9000000000</td></tr>",
                            "<tr><td>Lugo</td><td>Algas</td><td>1283.6000000000</td></tr>",
                            "<tr><td>Lugo</td><td>Setas</td><td>801.1000000000</td></tr>",
                            "<tr><td>Lugo</td><td>Belleza</td><td>211.7000000000</td></tr>",
                            "<tr><td>Ourense</td><td>Setas</td><td>2746.8000000000</td></tr>",
                            "<tr><td>Ourense</td><td>Algas</td><td>762.0000000000</td></tr>",
                            "<tr><td>Ourense</td><td>Belleza</td><td>251.6000000000</td></tr>",
                            "<tr><td>Pontevedra</td><td>Setas</td><td>5790.9000000000</td></tr>",
                            "<tr><td>Pontevedra</td><td>Algas</td><td>2087.6000000000</td></tr>",
                            "<tr><td>Pontevedra</td><td>Belleza</td><td>814.9000000000</td></tr>",
                            "</table>"
                        ]
                    }
                }
            ],
            "execution_count": 6
        },
        {
            "cell_type": "markdown",
            "source": [
                "# 5\\. Sólo el mejor producto por zona\n",
                "\n",
                "Modifica el comando anterior para que devuelva, para cada zona únicamente el producto más vendido. Utiliza la función analítica `ROW_NUMBER`"
            ],
            "metadata": {
                "azdata_cell_guid": "5e47b7c4-9ed2-4bf2-b1cb-25ec1366b247"
            },
            "attachments": {}
        },
        {
            "cell_type": "code",
            "source": [
                "WITH TOTAL_ZONA AS (\r\n",
                "    SELECT DISTINCT ZONA_ID,PRODUCTO_ID, SUM(TONELADAS) OVER (PARTITION BY ZONA_ID,PRODUCTO_ID) AS TOTAL\r\n",
                "    FROM NEMINA.DBO.DATOS_BASE\r\n",
                "),\r\n",
                "\r\n",
                "RANKED AS (\r\n",
                "    SELECT *,ROW_NUMBER() OVER(PARTITION BY ZONA_ID ORDER BY ZONA_ID ASC,TOTAL DESC) AS RN \r\n",
                "    FROM TOTAL_ZONA\r\n",
                ")\r\n",
                "\r\n",
                "SELECT * FROM RANKED WHERE RN=1"
            ],
            "metadata": {
                "azdata_cell_guid": "0f23c708-f739-4e4b-b9ae-d14e182a8449"
            },
            "outputs": [
                {
                    "output_type": "display_data",
                    "data": {
                        "text/html": "(4 rows affected)"
                    },
                    "metadata": {}
                },
                {
                    "output_type": "display_data",
                    "data": {
                        "text/html": "Total execution time: 00:00:00.052"
                    },
                    "metadata": {}
                },
                {
                    "output_type": "execute_result",
                    "metadata": {},
                    "execution_count": 7,
                    "data": {
                        "application/vnd.dataresource+json": {
                            "schema": {
                                "fields": [
                                    {
                                        "name": "ZONA_ID"
                                    },
                                    {
                                        "name": "PRODUCTO_ID"
                                    },
                                    {
                                        "name": "TOTAL"
                                    },
                                    {
                                        "name": "RN"
                                    }
                                ]
                            },
                            "data": [
                                {
                                    "0": "Coruña",
                                    "1": "Algas",
                                    "2": "3949.2000000000",
                                    "3": "1"
                                },
                                {
                                    "0": "Lugo",
                                    "1": "Algas",
                                    "2": "1283.6000000000",
                                    "3": "1"
                                },
                                {
                                    "0": "Ourense",
                                    "1": "Setas",
                                    "2": "2746.8000000000",
                                    "3": "1"
                                },
                                {
                                    "0": "Pontevedra",
                                    "1": "Setas",
                                    "2": "5790.9000000000",
                                    "3": "1"
                                }
                            ]
                        },
                        "text/html": [
                            "<table>",
                            "<tr><th>ZONA_ID</th><th>PRODUCTO_ID</th><th>TOTAL</th><th>RN</th></tr>",
                            "<tr><td>Coruña</td><td>Algas</td><td>3949.2000000000</td><td>1</td></tr>",
                            "<tr><td>Lugo</td><td>Algas</td><td>1283.6000000000</td><td>1</td></tr>",
                            "<tr><td>Ourense</td><td>Setas</td><td>2746.8000000000</td><td>1</td></tr>",
                            "<tr><td>Pontevedra</td><td>Setas</td><td>5790.9000000000</td><td>1</td></tr>",
                            "</table>"
                        ]
                    }
                }
            ],
            "execution_count": 7
        },
        {
            "cell_type": "markdown",
            "source": [
                "# 6\\. Obtén, para cada zona, todos los pedidos del producto más vendido"
            ],
            "metadata": {
                "azdata_cell_guid": "da5578a9-7727-454d-8f20-5a92bd3d224f"
            },
            "attachments": {}
        },
        {
            "cell_type": "code",
            "source": [
                "WITH TOTAL_ZONA AS (\r\n",
                "    SELECT DISTINCT ZONA_ID,PRODUCTO_ID, SUM(TONELADAS) OVER (PARTITION BY ZONA_ID,PRODUCTO_ID) AS TOTAL\r\n",
                "    FROM NEMINA.DBO.DATOS_BASE\r\n",
                "),\r\n",
                "\r\n",
                "RANKED AS (\r\n",
                "    SELECT *,ROW_NUMBER() OVER(PARTITION BY ZONA_ID ORDER BY ZONA_ID ASC,TOTAL DESC) AS RN \r\n",
                "    FROM TOTAL_ZONA\r\n",
                "),\r\n",
                "\r\n",
                "PRODUCTO_ZONA AS (\r\n",
                "    SELECT * FROM RANKED WHERE RN=1\r\n",
                ")\r\n",
                "\r\n",
                "SELECT DISTINCT D.PEDIDO_ID, D.PRODUCTO_ID, D.ZONA_ID, P.RN AS COMPROBACION\r\n",
                "FROM NEMINA.DBO.DATOS_BASE D\r\n",
                "INNER JOIN PRODUCTO_ZONA P\r\n",
                "    ON D.PRODUCTO_ID = P.PRODUCTO_ID AND D.ZONA_ID=P.ZONA_ID\r\n",
                "ORDER BY ZONA_ID ASC"
            ],
            "metadata": {
                "azdata_cell_guid": "6500fcc5-f373-4748-92f1-0a55621950c8"
            },
            "outputs": [
                {
                    "output_type": "display_data",
                    "data": {
                        "text/html": "(291 rows affected)"
                    },
                    "metadata": {}
                },
                {
                    "output_type": "display_data",
                    "data": {
                        "text/html": "Total execution time: 00:00:00.082"
                    },
                    "metadata": {}
                },
                {
                    "output_type": "execute_result",
                    "metadata": {},
                    "execution_count": 8,
                    "data": {
                        "application/vnd.dataresource+json": {
                            "schema": {
                                "fields": [
                                    {
                                        "name": "PEDIDO_ID"
                                    },
                                    {
                                        "name": "PRODUCTO_ID"
                                    },
                                    {
                                        "name": "ZONA_ID"
                                    },
                                    {
                                        "name": "COMPROBACION"
                                    }
                                ]
                            },
                            "data": [
                                {
                                    "0": "P-0018",
                                    "1": "Algas",
                                    "2": "Coruña",
                                    "3": "1"
                                },
                                {
                                    "0": "P-0020",
                                    "1": "Algas",
                                    "2": "Coruña",
                                    "3": "1"
                                },
                                {
                                    "0": "P-0029",
                                    "1": "Algas",
                                    "2": "Coruña",
                                    "3": "1"
                                },
                                {
                                    "0": "P-0030",
                                    "1": "Algas",
                                    "2": "Coruña",
                                    "3": "1"
                                },
                                {
                                    "0": "P-0033",
                                    "1": "Algas",
                                    "2": "Coruña",
                                    "3": "1"
                                },
                                {
                                    "0": "P-0042",
                                    "1": "Algas",
                                    "2": "Coruña",
                                    "3": "1"
                                },
                                {
                                    "0": "P-0077",
                                    "1": "Algas",
                                    "2": "Coruña",
                                    "3": "1"
                                },
                                {
                                    "0": "P-0080",
                                    "1": "Algas",
                                    "2": "Coruña",
                                    "3": "1"
                                },
                                {
                                    "0": "P-0081",
                                    "1": "Algas",
                                    "2": "Coruña",
                                    "3": "1"
                                },
                                {
                                    "0": "P-0082",
                                    "1": "Algas",
                                    "2": "Coruña",
                                    "3": "1"
                                },
                                {
                                    "0": "P-0085",
                                    "1": "Algas",
                                    "2": "Coruña",
                                    "3": "1"
                                },
                                {
                                    "0": "P-0092",
                                    "1": "Algas",
                                    "2": "Coruña",
                                    "3": "1"
                                },
                                {
                                    "0": "P-0094",
                                    "1": "Algas",
                                    "2": "Coruña",
                                    "3": "1"
                                },
                                {
                                    "0": "P-0102",
                                    "1": "Algas",
                                    "2": "Coruña",
                                    "3": "1"
                                },
                                {
                                    "0": "P-0105",
                                    "1": "Algas",
                                    "2": "Coruña",
                                    "3": "1"
                                },
                                {
                                    "0": "P-0111",
                                    "1": "Algas",
                                    "2": "Coruña",
                                    "3": "1"
                                },
                                {
                                    "0": "P-0112",
                                    "1": "Algas",
                                    "2": "Coruña",
                                    "3": "1"
                                },
                                {
                                    "0": "P-0119",
                                    "1": "Algas",
                                    "2": "Coruña",
                                    "3": "1"
                                },
                                {
                                    "0": "P-0122",
                                    "1": "Algas",
                                    "2": "Coruña",
                                    "3": "1"
                                },
                                {
                                    "0": "P-0123",
                                    "1": "Algas",
                                    "2": "Coruña",
                                    "3": "1"
                                },
                                {
                                    "0": "P-0127",
                                    "1": "Algas",
                                    "2": "Coruña",
                                    "3": "1"
                                },
                                {
                                    "0": "P-0128",
                                    "1": "Algas",
                                    "2": "Coruña",
                                    "3": "1"
                                },
                                {
                                    "0": "P-0130",
                                    "1": "Algas",
                                    "2": "Coruña",
                                    "3": "1"
                                },
                                {
                                    "0": "P-0134",
                                    "1": "Algas",
                                    "2": "Coruña",
                                    "3": "1"
                                },
                                {
                                    "0": "P-0148",
                                    "1": "Algas",
                                    "2": "Coruña",
                                    "3": "1"
                                },
                                {
                                    "0": "P-0161",
                                    "1": "Algas",
                                    "2": "Coruña",
                                    "3": "1"
                                },
                                {
                                    "0": "P-0163",
                                    "1": "Algas",
                                    "2": "Coruña",
                                    "3": "1"
                                },
                                {
                                    "0": "P-0166",
                                    "1": "Algas",
                                    "2": "Coruña",
                                    "3": "1"
                                },
                                {
                                    "0": "P-0174",
                                    "1": "Algas",
                                    "2": "Coruña",
                                    "3": "1"
                                },
                                {
                                    "0": "P-0197",
                                    "1": "Algas",
                                    "2": "Coruña",
                                    "3": "1"
                                },
                                {
                                    "0": "P-0202",
                                    "1": "Algas",
                                    "2": "Coruña",
                                    "3": "1"
                                },
                                {
                                    "0": "P-0205",
                                    "1": "Algas",
                                    "2": "Coruña",
                                    "3": "1"
                                },
                                {
                                    "0": "P-0209",
                                    "1": "Algas",
                                    "2": "Coruña",
                                    "3": "1"
                                },
                                {
                                    "0": "P-0211",
                                    "1": "Algas",
                                    "2": "Coruña",
                                    "3": "1"
                                },
                                {
                                    "0": "P-0218",
                                    "1": "Algas",
                                    "2": "Coruña",
                                    "3": "1"
                                },
                                {
                                    "0": "P-0223",
                                    "1": "Algas",
                                    "2": "Coruña",
                                    "3": "1"
                                },
                                {
                                    "0": "P-0228",
                                    "1": "Algas",
                                    "2": "Coruña",
                                    "3": "1"
                                },
                                {
                                    "0": "P-0231",
                                    "1": "Algas",
                                    "2": "Coruña",
                                    "3": "1"
                                },
                                {
                                    "0": "P-0236",
                                    "1": "Algas",
                                    "2": "Coruña",
                                    "3": "1"
                                },
                                {
                                    "0": "P-0237",
                                    "1": "Algas",
                                    "2": "Coruña",
                                    "3": "1"
                                },
                                {
                                    "0": "P-0248",
                                    "1": "Algas",
                                    "2": "Coruña",
                                    "3": "1"
                                },
                                {
                                    "0": "P-0254",
                                    "1": "Algas",
                                    "2": "Coruña",
                                    "3": "1"
                                },
                                {
                                    "0": "P-0263",
                                    "1": "Algas",
                                    "2": "Coruña",
                                    "3": "1"
                                },
                                {
                                    "0": "P-0266",
                                    "1": "Algas",
                                    "2": "Coruña",
                                    "3": "1"
                                },
                                {
                                    "0": "P-0270",
                                    "1": "Algas",
                                    "2": "Coruña",
                                    "3": "1"
                                },
                                {
                                    "0": "P-0272",
                                    "1": "Algas",
                                    "2": "Coruña",
                                    "3": "1"
                                },
                                {
                                    "0": "P-0289",
                                    "1": "Algas",
                                    "2": "Coruña",
                                    "3": "1"
                                },
                                {
                                    "0": "P-0290",
                                    "1": "Algas",
                                    "2": "Coruña",
                                    "3": "1"
                                },
                                {
                                    "0": "P-0291",
                                    "1": "Algas",
                                    "2": "Coruña",
                                    "3": "1"
                                },
                                {
                                    "0": "P-0295",
                                    "1": "Algas",
                                    "2": "Coruña",
                                    "3": "1"
                                },
                                {
                                    "0": "P-0296",
                                    "1": "Algas",
                                    "2": "Coruña",
                                    "3": "1"
                                },
                                {
                                    "0": "P-0299",
                                    "1": "Algas",
                                    "2": "Coruña",
                                    "3": "1"
                                },
                                {
                                    "0": "P-0300",
                                    "1": "Algas",
                                    "2": "Coruña",
                                    "3": "1"
                                },
                                {
                                    "0": "P-0305",
                                    "1": "Algas",
                                    "2": "Coruña",
                                    "3": "1"
                                },
                                {
                                    "0": "P-0307",
                                    "1": "Algas",
                                    "2": "Coruña",
                                    "3": "1"
                                },
                                {
                                    "0": "P-0309",
                                    "1": "Algas",
                                    "2": "Coruña",
                                    "3": "1"
                                },
                                {
                                    "0": "P-0310",
                                    "1": "Algas",
                                    "2": "Coruña",
                                    "3": "1"
                                },
                                {
                                    "0": "P-0312",
                                    "1": "Algas",
                                    "2": "Coruña",
                                    "3": "1"
                                },
                                {
                                    "0": "P-0319",
                                    "1": "Algas",
                                    "2": "Coruña",
                                    "3": "1"
                                },
                                {
                                    "0": "P-0322",
                                    "1": "Algas",
                                    "2": "Coruña",
                                    "3": "1"
                                },
                                {
                                    "0": "P-0327",
                                    "1": "Algas",
                                    "2": "Coruña",
                                    "3": "1"
                                },
                                {
                                    "0": "P-0333",
                                    "1": "Algas",
                                    "2": "Coruña",
                                    "3": "1"
                                },
                                {
                                    "0": "P-0335",
                                    "1": "Algas",
                                    "2": "Coruña",
                                    "3": "1"
                                },
                                {
                                    "0": "P-0339",
                                    "1": "Algas",
                                    "2": "Coruña",
                                    "3": "1"
                                },
                                {
                                    "0": "P-0340",
                                    "1": "Algas",
                                    "2": "Coruña",
                                    "3": "1"
                                },
                                {
                                    "0": "P-0344",
                                    "1": "Algas",
                                    "2": "Coruña",
                                    "3": "1"
                                },
                                {
                                    "0": "P-0347",
                                    "1": "Algas",
                                    "2": "Coruña",
                                    "3": "1"
                                },
                                {
                                    "0": "P-0348",
                                    "1": "Algas",
                                    "2": "Coruña",
                                    "3": "1"
                                },
                                {
                                    "0": "P-0351",
                                    "1": "Algas",
                                    "2": "Coruña",
                                    "3": "1"
                                },
                                {
                                    "0": "P-0358",
                                    "1": "Algas",
                                    "2": "Coruña",
                                    "3": "1"
                                },
                                {
                                    "0": "P-0366",
                                    "1": "Algas",
                                    "2": "Coruña",
                                    "3": "1"
                                },
                                {
                                    "0": "P-0369",
                                    "1": "Algas",
                                    "2": "Coruña",
                                    "3": "1"
                                },
                                {
                                    "0": "P-0372",
                                    "1": "Algas",
                                    "2": "Coruña",
                                    "3": "1"
                                },
                                {
                                    "0": "P-0378",
                                    "1": "Algas",
                                    "2": "Coruña",
                                    "3": "1"
                                },
                                {
                                    "0": "P-0386",
                                    "1": "Algas",
                                    "2": "Coruña",
                                    "3": "1"
                                },
                                {
                                    "0": "P-0388",
                                    "1": "Algas",
                                    "2": "Coruña",
                                    "3": "1"
                                },
                                {
                                    "0": "P-0401",
                                    "1": "Algas",
                                    "2": "Coruña",
                                    "3": "1"
                                },
                                {
                                    "0": "P-0403",
                                    "1": "Algas",
                                    "2": "Coruña",
                                    "3": "1"
                                },
                                {
                                    "0": "P-0404",
                                    "1": "Algas",
                                    "2": "Coruña",
                                    "3": "1"
                                },
                                {
                                    "0": "P-0406",
                                    "1": "Algas",
                                    "2": "Coruña",
                                    "3": "1"
                                },
                                {
                                    "0": "P-0424",
                                    "1": "Algas",
                                    "2": "Coruña",
                                    "3": "1"
                                },
                                {
                                    "0": "P-0427",
                                    "1": "Algas",
                                    "2": "Coruña",
                                    "3": "1"
                                },
                                {
                                    "0": "P-0437",
                                    "1": "Algas",
                                    "2": "Coruña",
                                    "3": "1"
                                },
                                {
                                    "0": "P-0438",
                                    "1": "Algas",
                                    "2": "Coruña",
                                    "3": "1"
                                },
                                {
                                    "0": "P-0447",
                                    "1": "Algas",
                                    "2": "Coruña",
                                    "3": "1"
                                },
                                {
                                    "0": "P-0448",
                                    "1": "Algas",
                                    "2": "Coruña",
                                    "3": "1"
                                },
                                {
                                    "0": "P-0457",
                                    "1": "Algas",
                                    "2": "Coruña",
                                    "3": "1"
                                },
                                {
                                    "0": "P-0466",
                                    "1": "Algas",
                                    "2": "Coruña",
                                    "3": "1"
                                },
                                {
                                    "0": "P-0474",
                                    "1": "Algas",
                                    "2": "Coruña",
                                    "3": "1"
                                },
                                {
                                    "0": "P-0476",
                                    "1": "Algas",
                                    "2": "Coruña",
                                    "3": "1"
                                },
                                {
                                    "0": "P-0479",
                                    "1": "Algas",
                                    "2": "Coruña",
                                    "3": "1"
                                },
                                {
                                    "0": "P-0481",
                                    "1": "Algas",
                                    "2": "Coruña",
                                    "3": "1"
                                },
                                {
                                    "0": "P-0483",
                                    "1": "Algas",
                                    "2": "Coruña",
                                    "3": "1"
                                },
                                {
                                    "0": "P-0486",
                                    "1": "Algas",
                                    "2": "Coruña",
                                    "3": "1"
                                },
                                {
                                    "0": "P-0495",
                                    "1": "Algas",
                                    "2": "Coruña",
                                    "3": "1"
                                },
                                {
                                    "0": "P-0014",
                                    "1": "Algas",
                                    "2": "Lugo",
                                    "3": "1"
                                },
                                {
                                    "0": "P-0023",
                                    "1": "Algas",
                                    "2": "Lugo",
                                    "3": "1"
                                },
                                {
                                    "0": "P-0078",
                                    "1": "Algas",
                                    "2": "Lugo",
                                    "3": "1"
                                },
                                {
                                    "0": "P-0083",
                                    "1": "Algas",
                                    "2": "Lugo",
                                    "3": "1"
                                },
                                {
                                    "0": "P-0086",
                                    "1": "Algas",
                                    "2": "Lugo",
                                    "3": "1"
                                },
                                {
                                    "0": "P-0095",
                                    "1": "Algas",
                                    "2": "Lugo",
                                    "3": "1"
                                },
                                {
                                    "0": "P-0099",
                                    "1": "Algas",
                                    "2": "Lugo",
                                    "3": "1"
                                },
                                {
                                    "0": "P-0109",
                                    "1": "Algas",
                                    "2": "Lugo",
                                    "3": "1"
                                },
                                {
                                    "0": "P-0124",
                                    "1": "Algas",
                                    "2": "Lugo",
                                    "3": "1"
                                },
                                {
                                    "0": "P-0149",
                                    "1": "Algas",
                                    "2": "Lugo",
                                    "3": "1"
                                },
                                {
                                    "0": "P-0171",
                                    "1": "Algas",
                                    "2": "Lugo",
                                    "3": "1"
                                },
                                {
                                    "0": "P-0172",
                                    "1": "Algas",
                                    "2": "Lugo",
                                    "3": "1"
                                },
                                {
                                    "0": "P-0208",
                                    "1": "Algas",
                                    "2": "Lugo",
                                    "3": "1"
                                },
                                {
                                    "0": "P-0240",
                                    "1": "Algas",
                                    "2": "Lugo",
                                    "3": "1"
                                },
                                {
                                    "0": "P-0251",
                                    "1": "Algas",
                                    "2": "Lugo",
                                    "3": "1"
                                },
                                {
                                    "0": "P-0297",
                                    "1": "Algas",
                                    "2": "Lugo",
                                    "3": "1"
                                },
                                {
                                    "0": "P-0298",
                                    "1": "Algas",
                                    "2": "Lugo",
                                    "3": "1"
                                },
                                {
                                    "0": "P-0308",
                                    "1": "Algas",
                                    "2": "Lugo",
                                    "3": "1"
                                },
                                {
                                    "0": "P-0324",
                                    "1": "Algas",
                                    "2": "Lugo",
                                    "3": "1"
                                },
                                {
                                    "0": "P-0341",
                                    "1": "Algas",
                                    "2": "Lugo",
                                    "3": "1"
                                },
                                {
                                    "0": "P-0381",
                                    "1": "Algas",
                                    "2": "Lugo",
                                    "3": "1"
                                },
                                {
                                    "0": "P-0383",
                                    "1": "Algas",
                                    "2": "Lugo",
                                    "3": "1"
                                },
                                {
                                    "0": "P-0392",
                                    "1": "Algas",
                                    "2": "Lugo",
                                    "3": "1"
                                },
                                {
                                    "0": "P-0398",
                                    "1": "Algas",
                                    "2": "Lugo",
                                    "3": "1"
                                },
                                {
                                    "0": "P-0420",
                                    "1": "Algas",
                                    "2": "Lugo",
                                    "3": "1"
                                },
                                {
                                    "0": "P-0421",
                                    "1": "Algas",
                                    "2": "Lugo",
                                    "3": "1"
                                },
                                {
                                    "0": "P-0435",
                                    "1": "Algas",
                                    "2": "Lugo",
                                    "3": "1"
                                },
                                {
                                    "0": "P-0439",
                                    "1": "Algas",
                                    "2": "Lugo",
                                    "3": "1"
                                },
                                {
                                    "0": "P-0485",
                                    "1": "Algas",
                                    "2": "Lugo",
                                    "3": "1"
                                },
                                {
                                    "0": "P-0492",
                                    "1": "Algas",
                                    "2": "Lugo",
                                    "3": "1"
                                },
                                {
                                    "0": "P-0497",
                                    "1": "Algas",
                                    "2": "Lugo",
                                    "3": "1"
                                },
                                {
                                    "0": "P-0002",
                                    "1": "Setas",
                                    "2": "Ourense",
                                    "3": "1"
                                },
                                {
                                    "0": "P-0003",
                                    "1": "Setas",
                                    "2": "Ourense",
                                    "3": "1"
                                },
                                {
                                    "0": "P-0004",
                                    "1": "Setas",
                                    "2": "Ourense",
                                    "3": "1"
                                },
                                {
                                    "0": "P-0010",
                                    "1": "Setas",
                                    "2": "Ourense",
                                    "3": "1"
                                },
                                {
                                    "0": "P-0013",
                                    "1": "Setas",
                                    "2": "Ourense",
                                    "3": "1"
                                },
                                {
                                    "0": "P-0027",
                                    "1": "Setas",
                                    "2": "Ourense",
                                    "3": "1"
                                },
                                {
                                    "0": "P-0032",
                                    "1": "Setas",
                                    "2": "Ourense",
                                    "3": "1"
                                },
                                {
                                    "0": "P-0044",
                                    "1": "Setas",
                                    "2": "Ourense",
                                    "3": "1"
                                },
                                {
                                    "0": "P-0056",
                                    "1": "Setas",
                                    "2": "Ourense",
                                    "3": "1"
                                },
                                {
                                    "0": "P-0066",
                                    "1": "Setas",
                                    "2": "Ourense",
                                    "3": "1"
                                },
                                {
                                    "0": "P-0070",
                                    "1": "Setas",
                                    "2": "Ourense",
                                    "3": "1"
                                },
                                {
                                    "0": "P-0079",
                                    "1": "Setas",
                                    "2": "Ourense",
                                    "3": "1"
                                },
                                {
                                    "0": "P-0164",
                                    "1": "Setas",
                                    "2": "Ourense",
                                    "3": "1"
                                },
                                {
                                    "0": "P-0165",
                                    "1": "Setas",
                                    "2": "Ourense",
                                    "3": "1"
                                },
                                {
                                    "0": "P-0170",
                                    "1": "Setas",
                                    "2": "Ourense",
                                    "3": "1"
                                },
                                {
                                    "0": "P-0175",
                                    "1": "Setas",
                                    "2": "Ourense",
                                    "3": "1"
                                },
                                {
                                    "0": "P-0181",
                                    "1": "Setas",
                                    "2": "Ourense",
                                    "3": "1"
                                },
                                {
                                    "0": "P-0219",
                                    "1": "Setas",
                                    "2": "Ourense",
                                    "3": "1"
                                },
                                {
                                    "0": "P-0225",
                                    "1": "Setas",
                                    "2": "Ourense",
                                    "3": "1"
                                },
                                {
                                    "0": "P-0239",
                                    "1": "Setas",
                                    "2": "Ourense",
                                    "3": "1"
                                },
                                {
                                    "0": "P-0245",
                                    "1": "Setas",
                                    "2": "Ourense",
                                    "3": "1"
                                },
                                {
                                    "0": "P-0257",
                                    "1": "Setas",
                                    "2": "Ourense",
                                    "3": "1"
                                },
                                {
                                    "0": "P-0259",
                                    "1": "Setas",
                                    "2": "Ourense",
                                    "3": "1"
                                },
                                {
                                    "0": "P-0271",
                                    "1": "Setas",
                                    "2": "Ourense",
                                    "3": "1"
                                },
                                {
                                    "0": "P-0280",
                                    "1": "Setas",
                                    "2": "Ourense",
                                    "3": "1"
                                },
                                {
                                    "0": "P-0294",
                                    "1": "Setas",
                                    "2": "Ourense",
                                    "3": "1"
                                },
                                {
                                    "0": "P-0301",
                                    "1": "Setas",
                                    "2": "Ourense",
                                    "3": "1"
                                },
                                {
                                    "0": "P-0304",
                                    "1": "Setas",
                                    "2": "Ourense",
                                    "3": "1"
                                },
                                {
                                    "0": "P-0306",
                                    "1": "Setas",
                                    "2": "Ourense",
                                    "3": "1"
                                },
                                {
                                    "0": "P-0316",
                                    "1": "Setas",
                                    "2": "Ourense",
                                    "3": "1"
                                },
                                {
                                    "0": "P-0323",
                                    "1": "Setas",
                                    "2": "Ourense",
                                    "3": "1"
                                },
                                {
                                    "0": "P-0332",
                                    "1": "Setas",
                                    "2": "Ourense",
                                    "3": "1"
                                },
                                {
                                    "0": "P-0336",
                                    "1": "Setas",
                                    "2": "Ourense",
                                    "3": "1"
                                },
                                {
                                    "0": "P-0349",
                                    "1": "Setas",
                                    "2": "Ourense",
                                    "3": "1"
                                },
                                {
                                    "0": "P-0359",
                                    "1": "Setas",
                                    "2": "Ourense",
                                    "3": "1"
                                },
                                {
                                    "0": "P-0363",
                                    "1": "Setas",
                                    "2": "Ourense",
                                    "3": "1"
                                },
                                {
                                    "0": "P-0365",
                                    "1": "Setas",
                                    "2": "Ourense",
                                    "3": "1"
                                },
                                {
                                    "0": "P-0380",
                                    "1": "Setas",
                                    "2": "Ourense",
                                    "3": "1"
                                },
                                {
                                    "0": "P-0390",
                                    "1": "Setas",
                                    "2": "Ourense",
                                    "3": "1"
                                },
                                {
                                    "0": "P-0394",
                                    "1": "Setas",
                                    "2": "Ourense",
                                    "3": "1"
                                },
                                {
                                    "0": "P-0405",
                                    "1": "Setas",
                                    "2": "Ourense",
                                    "3": "1"
                                },
                                {
                                    "0": "P-0422",
                                    "1": "Setas",
                                    "2": "Ourense",
                                    "3": "1"
                                },
                                {
                                    "0": "P-0441",
                                    "1": "Setas",
                                    "2": "Ourense",
                                    "3": "1"
                                },
                                {
                                    "0": "P-0444",
                                    "1": "Setas",
                                    "2": "Ourense",
                                    "3": "1"
                                },
                                {
                                    "0": "P-0445",
                                    "1": "Setas",
                                    "2": "Ourense",
                                    "3": "1"
                                },
                                {
                                    "0": "P-0458",
                                    "1": "Setas",
                                    "2": "Ourense",
                                    "3": "1"
                                },
                                {
                                    "0": "P-0480",
                                    "1": "Setas",
                                    "2": "Ourense",
                                    "3": "1"
                                },
                                {
                                    "0": "P-0005",
                                    "1": "Setas",
                                    "2": "Pontevedra",
                                    "3": "1"
                                },
                                {
                                    "0": "P-0006",
                                    "1": "Setas",
                                    "2": "Pontevedra",
                                    "3": "1"
                                },
                                {
                                    "0": "P-0011",
                                    "1": "Setas",
                                    "2": "Pontevedra",
                                    "3": "1"
                                },
                                {
                                    "0": "P-0016",
                                    "1": "Setas",
                                    "2": "Pontevedra",
                                    "3": "1"
                                },
                                {
                                    "0": "P-0017",
                                    "1": "Setas",
                                    "2": "Pontevedra",
                                    "3": "1"
                                },
                                {
                                    "0": "P-0021",
                                    "1": "Setas",
                                    "2": "Pontevedra",
                                    "3": "1"
                                },
                                {
                                    "0": "P-0026",
                                    "1": "Setas",
                                    "2": "Pontevedra",
                                    "3": "1"
                                },
                                {
                                    "0": "P-0028",
                                    "1": "Setas",
                                    "2": "Pontevedra",
                                    "3": "1"
                                },
                                {
                                    "0": "P-0036",
                                    "1": "Setas",
                                    "2": "Pontevedra",
                                    "3": "1"
                                },
                                {
                                    "0": "P-0038",
                                    "1": "Setas",
                                    "2": "Pontevedra",
                                    "3": "1"
                                },
                                {
                                    "0": "P-0040",
                                    "1": "Setas",
                                    "2": "Pontevedra",
                                    "3": "1"
                                },
                                {
                                    "0": "P-0045",
                                    "1": "Setas",
                                    "2": "Pontevedra",
                                    "3": "1"
                                },
                                {
                                    "0": "P-0047",
                                    "1": "Setas",
                                    "2": "Pontevedra",
                                    "3": "1"
                                },
                                {
                                    "0": "P-0048",
                                    "1": "Setas",
                                    "2": "Pontevedra",
                                    "3": "1"
                                },
                                {
                                    "0": "P-0058",
                                    "1": "Setas",
                                    "2": "Pontevedra",
                                    "3": "1"
                                },
                                {
                                    "0": "P-0062",
                                    "1": "Setas",
                                    "2": "Pontevedra",
                                    "3": "1"
                                },
                                {
                                    "0": "P-0064",
                                    "1": "Setas",
                                    "2": "Pontevedra",
                                    "3": "1"
                                },
                                {
                                    "0": "P-0065",
                                    "1": "Setas",
                                    "2": "Pontevedra",
                                    "3": "1"
                                },
                                {
                                    "0": "P-0073",
                                    "1": "Setas",
                                    "2": "Pontevedra",
                                    "3": "1"
                                },
                                {
                                    "0": "P-0084",
                                    "1": "Setas",
                                    "2": "Pontevedra",
                                    "3": "1"
                                },
                                {
                                    "0": "P-0087",
                                    "1": "Setas",
                                    "2": "Pontevedra",
                                    "3": "1"
                                },
                                {
                                    "0": "P-0097",
                                    "1": "Setas",
                                    "2": "Pontevedra",
                                    "3": "1"
                                },
                                {
                                    "0": "P-0100",
                                    "1": "Setas",
                                    "2": "Pontevedra",
                                    "3": "1"
                                },
                                {
                                    "0": "P-0104",
                                    "1": "Setas",
                                    "2": "Pontevedra",
                                    "3": "1"
                                },
                                {
                                    "0": "P-0108",
                                    "1": "Setas",
                                    "2": "Pontevedra",
                                    "3": "1"
                                },
                                {
                                    "0": "P-0110",
                                    "1": "Setas",
                                    "2": "Pontevedra",
                                    "3": "1"
                                },
                                {
                                    "0": "P-0114",
                                    "1": "Setas",
                                    "2": "Pontevedra",
                                    "3": "1"
                                },
                                {
                                    "0": "P-0116",
                                    "1": "Setas",
                                    "2": "Pontevedra",
                                    "3": "1"
                                },
                                {
                                    "0": "P-0120",
                                    "1": "Setas",
                                    "2": "Pontevedra",
                                    "3": "1"
                                },
                                {
                                    "0": "P-0121",
                                    "1": "Setas",
                                    "2": "Pontevedra",
                                    "3": "1"
                                },
                                {
                                    "0": "P-0125",
                                    "1": "Setas",
                                    "2": "Pontevedra",
                                    "3": "1"
                                },
                                {
                                    "0": "P-0129",
                                    "1": "Setas",
                                    "2": "Pontevedra",
                                    "3": "1"
                                },
                                {
                                    "0": "P-0136",
                                    "1": "Setas",
                                    "2": "Pontevedra",
                                    "3": "1"
                                },
                                {
                                    "0": "P-0138",
                                    "1": "Setas",
                                    "2": "Pontevedra",
                                    "3": "1"
                                },
                                {
                                    "0": "P-0140",
                                    "1": "Setas",
                                    "2": "Pontevedra",
                                    "3": "1"
                                },
                                {
                                    "0": "P-0142",
                                    "1": "Setas",
                                    "2": "Pontevedra",
                                    "3": "1"
                                },
                                {
                                    "0": "P-0147",
                                    "1": "Setas",
                                    "2": "Pontevedra",
                                    "3": "1"
                                },
                                {
                                    "0": "P-0150",
                                    "1": "Setas",
                                    "2": "Pontevedra",
                                    "3": "1"
                                },
                                {
                                    "0": "P-0154",
                                    "1": "Setas",
                                    "2": "Pontevedra",
                                    "3": "1"
                                },
                                {
                                    "0": "P-0155",
                                    "1": "Setas",
                                    "2": "Pontevedra",
                                    "3": "1"
                                },
                                {
                                    "0": "P-0157",
                                    "1": "Setas",
                                    "2": "Pontevedra",
                                    "3": "1"
                                },
                                {
                                    "0": "P-0159",
                                    "1": "Setas",
                                    "2": "Pontevedra",
                                    "3": "1"
                                },
                                {
                                    "0": "P-0162",
                                    "1": "Setas",
                                    "2": "Pontevedra",
                                    "3": "1"
                                },
                                {
                                    "0": "P-0168",
                                    "1": "Setas",
                                    "2": "Pontevedra",
                                    "3": "1"
                                },
                                {
                                    "0": "P-0169",
                                    "1": "Setas",
                                    "2": "Pontevedra",
                                    "3": "1"
                                },
                                {
                                    "0": "P-0176",
                                    "1": "Setas",
                                    "2": "Pontevedra",
                                    "3": "1"
                                },
                                {
                                    "0": "P-0179",
                                    "1": "Setas",
                                    "2": "Pontevedra",
                                    "3": "1"
                                },
                                {
                                    "0": "P-0189",
                                    "1": "Setas",
                                    "2": "Pontevedra",
                                    "3": "1"
                                },
                                {
                                    "0": "P-0190",
                                    "1": "Setas",
                                    "2": "Pontevedra",
                                    "3": "1"
                                },
                                {
                                    "0": "P-0195",
                                    "1": "Setas",
                                    "2": "Pontevedra",
                                    "3": "1"
                                },
                                {
                                    "0": "P-0200",
                                    "1": "Setas",
                                    "2": "Pontevedra",
                                    "3": "1"
                                },
                                {
                                    "0": "P-0201",
                                    "1": "Setas",
                                    "2": "Pontevedra",
                                    "3": "1"
                                },
                                {
                                    "0": "P-0206",
                                    "1": "Setas",
                                    "2": "Pontevedra",
                                    "3": "1"
                                },
                                {
                                    "0": "P-0207",
                                    "1": "Setas",
                                    "2": "Pontevedra",
                                    "3": "1"
                                },
                                {
                                    "0": "P-0212",
                                    "1": "Setas",
                                    "2": "Pontevedra",
                                    "3": "1"
                                },
                                {
                                    "0": "P-0216",
                                    "1": "Setas",
                                    "2": "Pontevedra",
                                    "3": "1"
                                },
                                {
                                    "0": "P-0217",
                                    "1": "Setas",
                                    "2": "Pontevedra",
                                    "3": "1"
                                },
                                {
                                    "0": "P-0220",
                                    "1": "Setas",
                                    "2": "Pontevedra",
                                    "3": "1"
                                },
                                {
                                    "0": "P-0221",
                                    "1": "Setas",
                                    "2": "Pontevedra",
                                    "3": "1"
                                },
                                {
                                    "0": "P-0232",
                                    "1": "Setas",
                                    "2": "Pontevedra",
                                    "3": "1"
                                },
                                {
                                    "0": "P-0234",
                                    "1": "Setas",
                                    "2": "Pontevedra",
                                    "3": "1"
                                },
                                {
                                    "0": "P-0235",
                                    "1": "Setas",
                                    "2": "Pontevedra",
                                    "3": "1"
                                },
                                {
                                    "0": "P-0244",
                                    "1": "Setas",
                                    "2": "Pontevedra",
                                    "3": "1"
                                },
                                {
                                    "0": "P-0249",
                                    "1": "Setas",
                                    "2": "Pontevedra",
                                    "3": "1"
                                },
                                {
                                    "0": "P-0250",
                                    "1": "Setas",
                                    "2": "Pontevedra",
                                    "3": "1"
                                },
                                {
                                    "0": "P-0255",
                                    "1": "Setas",
                                    "2": "Pontevedra",
                                    "3": "1"
                                },
                                {
                                    "0": "P-0261",
                                    "1": "Setas",
                                    "2": "Pontevedra",
                                    "3": "1"
                                },
                                {
                                    "0": "P-0269",
                                    "1": "Setas",
                                    "2": "Pontevedra",
                                    "3": "1"
                                },
                                {
                                    "0": "P-0274",
                                    "1": "Setas",
                                    "2": "Pontevedra",
                                    "3": "1"
                                },
                                {
                                    "0": "P-0276",
                                    "1": "Setas",
                                    "2": "Pontevedra",
                                    "3": "1"
                                },
                                {
                                    "0": "P-0278",
                                    "1": "Setas",
                                    "2": "Pontevedra",
                                    "3": "1"
                                },
                                {
                                    "0": "P-0279",
                                    "1": "Setas",
                                    "2": "Pontevedra",
                                    "3": "1"
                                },
                                {
                                    "0": "P-0281",
                                    "1": "Setas",
                                    "2": "Pontevedra",
                                    "3": "1"
                                },
                                {
                                    "0": "P-0283",
                                    "1": "Setas",
                                    "2": "Pontevedra",
                                    "3": "1"
                                },
                                {
                                    "0": "P-0287",
                                    "1": "Setas",
                                    "2": "Pontevedra",
                                    "3": "1"
                                },
                                {
                                    "0": "P-0293",
                                    "1": "Setas",
                                    "2": "Pontevedra",
                                    "3": "1"
                                },
                                {
                                    "0": "P-0314",
                                    "1": "Setas",
                                    "2": "Pontevedra",
                                    "3": "1"
                                },
                                {
                                    "0": "P-0315",
                                    "1": "Setas",
                                    "2": "Pontevedra",
                                    "3": "1"
                                },
                                {
                                    "0": "P-0321",
                                    "1": "Setas",
                                    "2": "Pontevedra",
                                    "3": "1"
                                },
                                {
                                    "0": "P-0325",
                                    "1": "Setas",
                                    "2": "Pontevedra",
                                    "3": "1"
                                },
                                {
                                    "0": "P-0328",
                                    "1": "Setas",
                                    "2": "Pontevedra",
                                    "3": "1"
                                },
                                {
                                    "0": "P-0330",
                                    "1": "Setas",
                                    "2": "Pontevedra",
                                    "3": "1"
                                },
                                {
                                    "0": "P-0337",
                                    "1": "Setas",
                                    "2": "Pontevedra",
                                    "3": "1"
                                },
                                {
                                    "0": "P-0342",
                                    "1": "Setas",
                                    "2": "Pontevedra",
                                    "3": "1"
                                },
                                {
                                    "0": "P-0352",
                                    "1": "Setas",
                                    "2": "Pontevedra",
                                    "3": "1"
                                },
                                {
                                    "0": "P-0353",
                                    "1": "Setas",
                                    "2": "Pontevedra",
                                    "3": "1"
                                },
                                {
                                    "0": "P-0360",
                                    "1": "Setas",
                                    "2": "Pontevedra",
                                    "3": "1"
                                },
                                {
                                    "0": "P-0361",
                                    "1": "Setas",
                                    "2": "Pontevedra",
                                    "3": "1"
                                },
                                {
                                    "0": "P-0371",
                                    "1": "Setas",
                                    "2": "Pontevedra",
                                    "3": "1"
                                },
                                {
                                    "0": "P-0374",
                                    "1": "Setas",
                                    "2": "Pontevedra",
                                    "3": "1"
                                },
                                {
                                    "0": "P-0375",
                                    "1": "Setas",
                                    "2": "Pontevedra",
                                    "3": "1"
                                },
                                {
                                    "0": "P-0377",
                                    "1": "Setas",
                                    "2": "Pontevedra",
                                    "3": "1"
                                },
                                {
                                    "0": "P-0393",
                                    "1": "Setas",
                                    "2": "Pontevedra",
                                    "3": "1"
                                },
                                {
                                    "0": "P-0395",
                                    "1": "Setas",
                                    "2": "Pontevedra",
                                    "3": "1"
                                },
                                {
                                    "0": "P-0396",
                                    "1": "Setas",
                                    "2": "Pontevedra",
                                    "3": "1"
                                },
                                {
                                    "0": "P-0400",
                                    "1": "Setas",
                                    "2": "Pontevedra",
                                    "3": "1"
                                },
                                {
                                    "0": "P-0409",
                                    "1": "Setas",
                                    "2": "Pontevedra",
                                    "3": "1"
                                },
                                {
                                    "0": "P-0412",
                                    "1": "Setas",
                                    "2": "Pontevedra",
                                    "3": "1"
                                },
                                {
                                    "0": "P-0413",
                                    "1": "Setas",
                                    "2": "Pontevedra",
                                    "3": "1"
                                },
                                {
                                    "0": "P-0414",
                                    "1": "Setas",
                                    "2": "Pontevedra",
                                    "3": "1"
                                },
                                {
                                    "0": "P-0418",
                                    "1": "Setas",
                                    "2": "Pontevedra",
                                    "3": "1"
                                },
                                {
                                    "0": "P-0423",
                                    "1": "Setas",
                                    "2": "Pontevedra",
                                    "3": "1"
                                },
                                {
                                    "0": "P-0425",
                                    "1": "Setas",
                                    "2": "Pontevedra",
                                    "3": "1"
                                },
                                {
                                    "0": "P-0426",
                                    "1": "Setas",
                                    "2": "Pontevedra",
                                    "3": "1"
                                },
                                {
                                    "0": "P-0428",
                                    "1": "Setas",
                                    "2": "Pontevedra",
                                    "3": "1"
                                },
                                {
                                    "0": "P-0429",
                                    "1": "Setas",
                                    "2": "Pontevedra",
                                    "3": "1"
                                },
                                {
                                    "0": "P-0430",
                                    "1": "Setas",
                                    "2": "Pontevedra",
                                    "3": "1"
                                },
                                {
                                    "0": "P-0432",
                                    "1": "Setas",
                                    "2": "Pontevedra",
                                    "3": "1"
                                },
                                {
                                    "0": "P-0433",
                                    "1": "Setas",
                                    "2": "Pontevedra",
                                    "3": "1"
                                },
                                {
                                    "0": "P-0434",
                                    "1": "Setas",
                                    "2": "Pontevedra",
                                    "3": "1"
                                },
                                {
                                    "0": "P-0449",
                                    "1": "Setas",
                                    "2": "Pontevedra",
                                    "3": "1"
                                },
                                {
                                    "0": "P-0464",
                                    "1": "Setas",
                                    "2": "Pontevedra",
                                    "3": "1"
                                },
                                {
                                    "0": "P-0472",
                                    "1": "Setas",
                                    "2": "Pontevedra",
                                    "3": "1"
                                },
                                {
                                    "0": "P-0484",
                                    "1": "Setas",
                                    "2": "Pontevedra",
                                    "3": "1"
                                },
                                {
                                    "0": "P-0487",
                                    "1": "Setas",
                                    "2": "Pontevedra",
                                    "3": "1"
                                },
                                {
                                    "0": "P-0489",
                                    "1": "Setas",
                                    "2": "Pontevedra",
                                    "3": "1"
                                },
                                {
                                    "0": "P-0491",
                                    "1": "Setas",
                                    "2": "Pontevedra",
                                    "3": "1"
                                },
                                {
                                    "0": "P-0500",
                                    "1": "Setas",
                                    "2": "Pontevedra",
                                    "3": "1"
                                }
                            ]
                        },
                        "text/html": [
                            "<table>",
                            "<tr><th>PEDIDO_ID</th><th>PRODUCTO_ID</th><th>ZONA_ID</th><th>COMPROBACION</th></tr>",
                            "<tr><td>P-0018</td><td>Algas</td><td>Coruña</td><td>1</td></tr>",
                            "<tr><td>P-0020</td><td>Algas</td><td>Coruña</td><td>1</td></tr>",
                            "<tr><td>P-0029</td><td>Algas</td><td>Coruña</td><td>1</td></tr>",
                            "<tr><td>P-0030</td><td>Algas</td><td>Coruña</td><td>1</td></tr>",
                            "<tr><td>P-0033</td><td>Algas</td><td>Coruña</td><td>1</td></tr>",
                            "<tr><td>P-0042</td><td>Algas</td><td>Coruña</td><td>1</td></tr>",
                            "<tr><td>P-0077</td><td>Algas</td><td>Coruña</td><td>1</td></tr>",
                            "<tr><td>P-0080</td><td>Algas</td><td>Coruña</td><td>1</td></tr>",
                            "<tr><td>P-0081</td><td>Algas</td><td>Coruña</td><td>1</td></tr>",
                            "<tr><td>P-0082</td><td>Algas</td><td>Coruña</td><td>1</td></tr>",
                            "<tr><td>P-0085</td><td>Algas</td><td>Coruña</td><td>1</td></tr>",
                            "<tr><td>P-0092</td><td>Algas</td><td>Coruña</td><td>1</td></tr>",
                            "<tr><td>P-0094</td><td>Algas</td><td>Coruña</td><td>1</td></tr>",
                            "<tr><td>P-0102</td><td>Algas</td><td>Coruña</td><td>1</td></tr>",
                            "<tr><td>P-0105</td><td>Algas</td><td>Coruña</td><td>1</td></tr>",
                            "<tr><td>P-0111</td><td>Algas</td><td>Coruña</td><td>1</td></tr>",
                            "<tr><td>P-0112</td><td>Algas</td><td>Coruña</td><td>1</td></tr>",
                            "<tr><td>P-0119</td><td>Algas</td><td>Coruña</td><td>1</td></tr>",
                            "<tr><td>P-0122</td><td>Algas</td><td>Coruña</td><td>1</td></tr>",
                            "<tr><td>P-0123</td><td>Algas</td><td>Coruña</td><td>1</td></tr>",
                            "<tr><td>P-0127</td><td>Algas</td><td>Coruña</td><td>1</td></tr>",
                            "<tr><td>P-0128</td><td>Algas</td><td>Coruña</td><td>1</td></tr>",
                            "<tr><td>P-0130</td><td>Algas</td><td>Coruña</td><td>1</td></tr>",
                            "<tr><td>P-0134</td><td>Algas</td><td>Coruña</td><td>1</td></tr>",
                            "<tr><td>P-0148</td><td>Algas</td><td>Coruña</td><td>1</td></tr>",
                            "<tr><td>P-0161</td><td>Algas</td><td>Coruña</td><td>1</td></tr>",
                            "<tr><td>P-0163</td><td>Algas</td><td>Coruña</td><td>1</td></tr>",
                            "<tr><td>P-0166</td><td>Algas</td><td>Coruña</td><td>1</td></tr>",
                            "<tr><td>P-0174</td><td>Algas</td><td>Coruña</td><td>1</td></tr>",
                            "<tr><td>P-0197</td><td>Algas</td><td>Coruña</td><td>1</td></tr>",
                            "<tr><td>P-0202</td><td>Algas</td><td>Coruña</td><td>1</td></tr>",
                            "<tr><td>P-0205</td><td>Algas</td><td>Coruña</td><td>1</td></tr>",
                            "<tr><td>P-0209</td><td>Algas</td><td>Coruña</td><td>1</td></tr>",
                            "<tr><td>P-0211</td><td>Algas</td><td>Coruña</td><td>1</td></tr>",
                            "<tr><td>P-0218</td><td>Algas</td><td>Coruña</td><td>1</td></tr>",
                            "<tr><td>P-0223</td><td>Algas</td><td>Coruña</td><td>1</td></tr>",
                            "<tr><td>P-0228</td><td>Algas</td><td>Coruña</td><td>1</td></tr>",
                            "<tr><td>P-0231</td><td>Algas</td><td>Coruña</td><td>1</td></tr>",
                            "<tr><td>P-0236</td><td>Algas</td><td>Coruña</td><td>1</td></tr>",
                            "<tr><td>P-0237</td><td>Algas</td><td>Coruña</td><td>1</td></tr>",
                            "<tr><td>P-0248</td><td>Algas</td><td>Coruña</td><td>1</td></tr>",
                            "<tr><td>P-0254</td><td>Algas</td><td>Coruña</td><td>1</td></tr>",
                            "<tr><td>P-0263</td><td>Algas</td><td>Coruña</td><td>1</td></tr>",
                            "<tr><td>P-0266</td><td>Algas</td><td>Coruña</td><td>1</td></tr>",
                            "<tr><td>P-0270</td><td>Algas</td><td>Coruña</td><td>1</td></tr>",
                            "<tr><td>P-0272</td><td>Algas</td><td>Coruña</td><td>1</td></tr>",
                            "<tr><td>P-0289</td><td>Algas</td><td>Coruña</td><td>1</td></tr>",
                            "<tr><td>P-0290</td><td>Algas</td><td>Coruña</td><td>1</td></tr>",
                            "<tr><td>P-0291</td><td>Algas</td><td>Coruña</td><td>1</td></tr>",
                            "<tr><td>P-0295</td><td>Algas</td><td>Coruña</td><td>1</td></tr>",
                            "<tr><td>P-0296</td><td>Algas</td><td>Coruña</td><td>1</td></tr>",
                            "<tr><td>P-0299</td><td>Algas</td><td>Coruña</td><td>1</td></tr>",
                            "<tr><td>P-0300</td><td>Algas</td><td>Coruña</td><td>1</td></tr>",
                            "<tr><td>P-0305</td><td>Algas</td><td>Coruña</td><td>1</td></tr>",
                            "<tr><td>P-0307</td><td>Algas</td><td>Coruña</td><td>1</td></tr>",
                            "<tr><td>P-0309</td><td>Algas</td><td>Coruña</td><td>1</td></tr>",
                            "<tr><td>P-0310</td><td>Algas</td><td>Coruña</td><td>1</td></tr>",
                            "<tr><td>P-0312</td><td>Algas</td><td>Coruña</td><td>1</td></tr>",
                            "<tr><td>P-0319</td><td>Algas</td><td>Coruña</td><td>1</td></tr>",
                            "<tr><td>P-0322</td><td>Algas</td><td>Coruña</td><td>1</td></tr>",
                            "<tr><td>P-0327</td><td>Algas</td><td>Coruña</td><td>1</td></tr>",
                            "<tr><td>P-0333</td><td>Algas</td><td>Coruña</td><td>1</td></tr>",
                            "<tr><td>P-0335</td><td>Algas</td><td>Coruña</td><td>1</td></tr>",
                            "<tr><td>P-0339</td><td>Algas</td><td>Coruña</td><td>1</td></tr>",
                            "<tr><td>P-0340</td><td>Algas</td><td>Coruña</td><td>1</td></tr>",
                            "<tr><td>P-0344</td><td>Algas</td><td>Coruña</td><td>1</td></tr>",
                            "<tr><td>P-0347</td><td>Algas</td><td>Coruña</td><td>1</td></tr>",
                            "<tr><td>P-0348</td><td>Algas</td><td>Coruña</td><td>1</td></tr>",
                            "<tr><td>P-0351</td><td>Algas</td><td>Coruña</td><td>1</td></tr>",
                            "<tr><td>P-0358</td><td>Algas</td><td>Coruña</td><td>1</td></tr>",
                            "<tr><td>P-0366</td><td>Algas</td><td>Coruña</td><td>1</td></tr>",
                            "<tr><td>P-0369</td><td>Algas</td><td>Coruña</td><td>1</td></tr>",
                            "<tr><td>P-0372</td><td>Algas</td><td>Coruña</td><td>1</td></tr>",
                            "<tr><td>P-0378</td><td>Algas</td><td>Coruña</td><td>1</td></tr>",
                            "<tr><td>P-0386</td><td>Algas</td><td>Coruña</td><td>1</td></tr>",
                            "<tr><td>P-0388</td><td>Algas</td><td>Coruña</td><td>1</td></tr>",
                            "<tr><td>P-0401</td><td>Algas</td><td>Coruña</td><td>1</td></tr>",
                            "<tr><td>P-0403</td><td>Algas</td><td>Coruña</td><td>1</td></tr>",
                            "<tr><td>P-0404</td><td>Algas</td><td>Coruña</td><td>1</td></tr>",
                            "<tr><td>P-0406</td><td>Algas</td><td>Coruña</td><td>1</td></tr>",
                            "<tr><td>P-0424</td><td>Algas</td><td>Coruña</td><td>1</td></tr>",
                            "<tr><td>P-0427</td><td>Algas</td><td>Coruña</td><td>1</td></tr>",
                            "<tr><td>P-0437</td><td>Algas</td><td>Coruña</td><td>1</td></tr>",
                            "<tr><td>P-0438</td><td>Algas</td><td>Coruña</td><td>1</td></tr>",
                            "<tr><td>P-0447</td><td>Algas</td><td>Coruña</td><td>1</td></tr>",
                            "<tr><td>P-0448</td><td>Algas</td><td>Coruña</td><td>1</td></tr>",
                            "<tr><td>P-0457</td><td>Algas</td><td>Coruña</td><td>1</td></tr>",
                            "<tr><td>P-0466</td><td>Algas</td><td>Coruña</td><td>1</td></tr>",
                            "<tr><td>P-0474</td><td>Algas</td><td>Coruña</td><td>1</td></tr>",
                            "<tr><td>P-0476</td><td>Algas</td><td>Coruña</td><td>1</td></tr>",
                            "<tr><td>P-0479</td><td>Algas</td><td>Coruña</td><td>1</td></tr>",
                            "<tr><td>P-0481</td><td>Algas</td><td>Coruña</td><td>1</td></tr>",
                            "<tr><td>P-0483</td><td>Algas</td><td>Coruña</td><td>1</td></tr>",
                            "<tr><td>P-0486</td><td>Algas</td><td>Coruña</td><td>1</td></tr>",
                            "<tr><td>P-0495</td><td>Algas</td><td>Coruña</td><td>1</td></tr>",
                            "<tr><td>P-0014</td><td>Algas</td><td>Lugo</td><td>1</td></tr>",
                            "<tr><td>P-0023</td><td>Algas</td><td>Lugo</td><td>1</td></tr>",
                            "<tr><td>P-0078</td><td>Algas</td><td>Lugo</td><td>1</td></tr>",
                            "<tr><td>P-0083</td><td>Algas</td><td>Lugo</td><td>1</td></tr>",
                            "<tr><td>P-0086</td><td>Algas</td><td>Lugo</td><td>1</td></tr>",
                            "<tr><td>P-0095</td><td>Algas</td><td>Lugo</td><td>1</td></tr>",
                            "<tr><td>P-0099</td><td>Algas</td><td>Lugo</td><td>1</td></tr>",
                            "<tr><td>P-0109</td><td>Algas</td><td>Lugo</td><td>1</td></tr>",
                            "<tr><td>P-0124</td><td>Algas</td><td>Lugo</td><td>1</td></tr>",
                            "<tr><td>P-0149</td><td>Algas</td><td>Lugo</td><td>1</td></tr>",
                            "<tr><td>P-0171</td><td>Algas</td><td>Lugo</td><td>1</td></tr>",
                            "<tr><td>P-0172</td><td>Algas</td><td>Lugo</td><td>1</td></tr>",
                            "<tr><td>P-0208</td><td>Algas</td><td>Lugo</td><td>1</td></tr>",
                            "<tr><td>P-0240</td><td>Algas</td><td>Lugo</td><td>1</td></tr>",
                            "<tr><td>P-0251</td><td>Algas</td><td>Lugo</td><td>1</td></tr>",
                            "<tr><td>P-0297</td><td>Algas</td><td>Lugo</td><td>1</td></tr>",
                            "<tr><td>P-0298</td><td>Algas</td><td>Lugo</td><td>1</td></tr>",
                            "<tr><td>P-0308</td><td>Algas</td><td>Lugo</td><td>1</td></tr>",
                            "<tr><td>P-0324</td><td>Algas</td><td>Lugo</td><td>1</td></tr>",
                            "<tr><td>P-0341</td><td>Algas</td><td>Lugo</td><td>1</td></tr>",
                            "<tr><td>P-0381</td><td>Algas</td><td>Lugo</td><td>1</td></tr>",
                            "<tr><td>P-0383</td><td>Algas</td><td>Lugo</td><td>1</td></tr>",
                            "<tr><td>P-0392</td><td>Algas</td><td>Lugo</td><td>1</td></tr>",
                            "<tr><td>P-0398</td><td>Algas</td><td>Lugo</td><td>1</td></tr>",
                            "<tr><td>P-0420</td><td>Algas</td><td>Lugo</td><td>1</td></tr>",
                            "<tr><td>P-0421</td><td>Algas</td><td>Lugo</td><td>1</td></tr>",
                            "<tr><td>P-0435</td><td>Algas</td><td>Lugo</td><td>1</td></tr>",
                            "<tr><td>P-0439</td><td>Algas</td><td>Lugo</td><td>1</td></tr>",
                            "<tr><td>P-0485</td><td>Algas</td><td>Lugo</td><td>1</td></tr>",
                            "<tr><td>P-0492</td><td>Algas</td><td>Lugo</td><td>1</td></tr>",
                            "<tr><td>P-0497</td><td>Algas</td><td>Lugo</td><td>1</td></tr>",
                            "<tr><td>P-0002</td><td>Setas</td><td>Ourense</td><td>1</td></tr>",
                            "<tr><td>P-0003</td><td>Setas</td><td>Ourense</td><td>1</td></tr>",
                            "<tr><td>P-0004</td><td>Setas</td><td>Ourense</td><td>1</td></tr>",
                            "<tr><td>P-0010</td><td>Setas</td><td>Ourense</td><td>1</td></tr>",
                            "<tr><td>P-0013</td><td>Setas</td><td>Ourense</td><td>1</td></tr>",
                            "<tr><td>P-0027</td><td>Setas</td><td>Ourense</td><td>1</td></tr>",
                            "<tr><td>P-0032</td><td>Setas</td><td>Ourense</td><td>1</td></tr>",
                            "<tr><td>P-0044</td><td>Setas</td><td>Ourense</td><td>1</td></tr>",
                            "<tr><td>P-0056</td><td>Setas</td><td>Ourense</td><td>1</td></tr>",
                            "<tr><td>P-0066</td><td>Setas</td><td>Ourense</td><td>1</td></tr>",
                            "<tr><td>P-0070</td><td>Setas</td><td>Ourense</td><td>1</td></tr>",
                            "<tr><td>P-0079</td><td>Setas</td><td>Ourense</td><td>1</td></tr>",
                            "<tr><td>P-0164</td><td>Setas</td><td>Ourense</td><td>1</td></tr>",
                            "<tr><td>P-0165</td><td>Setas</td><td>Ourense</td><td>1</td></tr>",
                            "<tr><td>P-0170</td><td>Setas</td><td>Ourense</td><td>1</td></tr>",
                            "<tr><td>P-0175</td><td>Setas</td><td>Ourense</td><td>1</td></tr>",
                            "<tr><td>P-0181</td><td>Setas</td><td>Ourense</td><td>1</td></tr>",
                            "<tr><td>P-0219</td><td>Setas</td><td>Ourense</td><td>1</td></tr>",
                            "<tr><td>P-0225</td><td>Setas</td><td>Ourense</td><td>1</td></tr>",
                            "<tr><td>P-0239</td><td>Setas</td><td>Ourense</td><td>1</td></tr>",
                            "<tr><td>P-0245</td><td>Setas</td><td>Ourense</td><td>1</td></tr>",
                            "<tr><td>P-0257</td><td>Setas</td><td>Ourense</td><td>1</td></tr>",
                            "<tr><td>P-0259</td><td>Setas</td><td>Ourense</td><td>1</td></tr>",
                            "<tr><td>P-0271</td><td>Setas</td><td>Ourense</td><td>1</td></tr>",
                            "<tr><td>P-0280</td><td>Setas</td><td>Ourense</td><td>1</td></tr>",
                            "<tr><td>P-0294</td><td>Setas</td><td>Ourense</td><td>1</td></tr>",
                            "<tr><td>P-0301</td><td>Setas</td><td>Ourense</td><td>1</td></tr>",
                            "<tr><td>P-0304</td><td>Setas</td><td>Ourense</td><td>1</td></tr>",
                            "<tr><td>P-0306</td><td>Setas</td><td>Ourense</td><td>1</td></tr>",
                            "<tr><td>P-0316</td><td>Setas</td><td>Ourense</td><td>1</td></tr>",
                            "<tr><td>P-0323</td><td>Setas</td><td>Ourense</td><td>1</td></tr>",
                            "<tr><td>P-0332</td><td>Setas</td><td>Ourense</td><td>1</td></tr>",
                            "<tr><td>P-0336</td><td>Setas</td><td>Ourense</td><td>1</td></tr>",
                            "<tr><td>P-0349</td><td>Setas</td><td>Ourense</td><td>1</td></tr>",
                            "<tr><td>P-0359</td><td>Setas</td><td>Ourense</td><td>1</td></tr>",
                            "<tr><td>P-0363</td><td>Setas</td><td>Ourense</td><td>1</td></tr>",
                            "<tr><td>P-0365</td><td>Setas</td><td>Ourense</td><td>1</td></tr>",
                            "<tr><td>P-0380</td><td>Setas</td><td>Ourense</td><td>1</td></tr>",
                            "<tr><td>P-0390</td><td>Setas</td><td>Ourense</td><td>1</td></tr>",
                            "<tr><td>P-0394</td><td>Setas</td><td>Ourense</td><td>1</td></tr>",
                            "<tr><td>P-0405</td><td>Setas</td><td>Ourense</td><td>1</td></tr>",
                            "<tr><td>P-0422</td><td>Setas</td><td>Ourense</td><td>1</td></tr>",
                            "<tr><td>P-0441</td><td>Setas</td><td>Ourense</td><td>1</td></tr>",
                            "<tr><td>P-0444</td><td>Setas</td><td>Ourense</td><td>1</td></tr>",
                            "<tr><td>P-0445</td><td>Setas</td><td>Ourense</td><td>1</td></tr>",
                            "<tr><td>P-0458</td><td>Setas</td><td>Ourense</td><td>1</td></tr>",
                            "<tr><td>P-0480</td><td>Setas</td><td>Ourense</td><td>1</td></tr>",
                            "<tr><td>P-0005</td><td>Setas</td><td>Pontevedra</td><td>1</td></tr>",
                            "<tr><td>P-0006</td><td>Setas</td><td>Pontevedra</td><td>1</td></tr>",
                            "<tr><td>P-0011</td><td>Setas</td><td>Pontevedra</td><td>1</td></tr>",
                            "<tr><td>P-0016</td><td>Setas</td><td>Pontevedra</td><td>1</td></tr>",
                            "<tr><td>P-0017</td><td>Setas</td><td>Pontevedra</td><td>1</td></tr>",
                            "<tr><td>P-0021</td><td>Setas</td><td>Pontevedra</td><td>1</td></tr>",
                            "<tr><td>P-0026</td><td>Setas</td><td>Pontevedra</td><td>1</td></tr>",
                            "<tr><td>P-0028</td><td>Setas</td><td>Pontevedra</td><td>1</td></tr>",
                            "<tr><td>P-0036</td><td>Setas</td><td>Pontevedra</td><td>1</td></tr>",
                            "<tr><td>P-0038</td><td>Setas</td><td>Pontevedra</td><td>1</td></tr>",
                            "<tr><td>P-0040</td><td>Setas</td><td>Pontevedra</td><td>1</td></tr>",
                            "<tr><td>P-0045</td><td>Setas</td><td>Pontevedra</td><td>1</td></tr>",
                            "<tr><td>P-0047</td><td>Setas</td><td>Pontevedra</td><td>1</td></tr>",
                            "<tr><td>P-0048</td><td>Setas</td><td>Pontevedra</td><td>1</td></tr>",
                            "<tr><td>P-0058</td><td>Setas</td><td>Pontevedra</td><td>1</td></tr>",
                            "<tr><td>P-0062</td><td>Setas</td><td>Pontevedra</td><td>1</td></tr>",
                            "<tr><td>P-0064</td><td>Setas</td><td>Pontevedra</td><td>1</td></tr>",
                            "<tr><td>P-0065</td><td>Setas</td><td>Pontevedra</td><td>1</td></tr>",
                            "<tr><td>P-0073</td><td>Setas</td><td>Pontevedra</td><td>1</td></tr>",
                            "<tr><td>P-0084</td><td>Setas</td><td>Pontevedra</td><td>1</td></tr>",
                            "<tr><td>P-0087</td><td>Setas</td><td>Pontevedra</td><td>1</td></tr>",
                            "<tr><td>P-0097</td><td>Setas</td><td>Pontevedra</td><td>1</td></tr>",
                            "<tr><td>P-0100</td><td>Setas</td><td>Pontevedra</td><td>1</td></tr>",
                            "<tr><td>P-0104</td><td>Setas</td><td>Pontevedra</td><td>1</td></tr>",
                            "<tr><td>P-0108</td><td>Setas</td><td>Pontevedra</td><td>1</td></tr>",
                            "<tr><td>P-0110</td><td>Setas</td><td>Pontevedra</td><td>1</td></tr>",
                            "<tr><td>P-0114</td><td>Setas</td><td>Pontevedra</td><td>1</td></tr>",
                            "<tr><td>P-0116</td><td>Setas</td><td>Pontevedra</td><td>1</td></tr>",
                            "<tr><td>P-0120</td><td>Setas</td><td>Pontevedra</td><td>1</td></tr>",
                            "<tr><td>P-0121</td><td>Setas</td><td>Pontevedra</td><td>1</td></tr>",
                            "<tr><td>P-0125</td><td>Setas</td><td>Pontevedra</td><td>1</td></tr>",
                            "<tr><td>P-0129</td><td>Setas</td><td>Pontevedra</td><td>1</td></tr>",
                            "<tr><td>P-0136</td><td>Setas</td><td>Pontevedra</td><td>1</td></tr>",
                            "<tr><td>P-0138</td><td>Setas</td><td>Pontevedra</td><td>1</td></tr>",
                            "<tr><td>P-0140</td><td>Setas</td><td>Pontevedra</td><td>1</td></tr>",
                            "<tr><td>P-0142</td><td>Setas</td><td>Pontevedra</td><td>1</td></tr>",
                            "<tr><td>P-0147</td><td>Setas</td><td>Pontevedra</td><td>1</td></tr>",
                            "<tr><td>P-0150</td><td>Setas</td><td>Pontevedra</td><td>1</td></tr>",
                            "<tr><td>P-0154</td><td>Setas</td><td>Pontevedra</td><td>1</td></tr>",
                            "<tr><td>P-0155</td><td>Setas</td><td>Pontevedra</td><td>1</td></tr>",
                            "<tr><td>P-0157</td><td>Setas</td><td>Pontevedra</td><td>1</td></tr>",
                            "<tr><td>P-0159</td><td>Setas</td><td>Pontevedra</td><td>1</td></tr>",
                            "<tr><td>P-0162</td><td>Setas</td><td>Pontevedra</td><td>1</td></tr>",
                            "<tr><td>P-0168</td><td>Setas</td><td>Pontevedra</td><td>1</td></tr>",
                            "<tr><td>P-0169</td><td>Setas</td><td>Pontevedra</td><td>1</td></tr>",
                            "<tr><td>P-0176</td><td>Setas</td><td>Pontevedra</td><td>1</td></tr>",
                            "<tr><td>P-0179</td><td>Setas</td><td>Pontevedra</td><td>1</td></tr>",
                            "<tr><td>P-0189</td><td>Setas</td><td>Pontevedra</td><td>1</td></tr>",
                            "<tr><td>P-0190</td><td>Setas</td><td>Pontevedra</td><td>1</td></tr>",
                            "<tr><td>P-0195</td><td>Setas</td><td>Pontevedra</td><td>1</td></tr>",
                            "<tr><td>P-0200</td><td>Setas</td><td>Pontevedra</td><td>1</td></tr>",
                            "<tr><td>P-0201</td><td>Setas</td><td>Pontevedra</td><td>1</td></tr>",
                            "<tr><td>P-0206</td><td>Setas</td><td>Pontevedra</td><td>1</td></tr>",
                            "<tr><td>P-0207</td><td>Setas</td><td>Pontevedra</td><td>1</td></tr>",
                            "<tr><td>P-0212</td><td>Setas</td><td>Pontevedra</td><td>1</td></tr>",
                            "<tr><td>P-0216</td><td>Setas</td><td>Pontevedra</td><td>1</td></tr>",
                            "<tr><td>P-0217</td><td>Setas</td><td>Pontevedra</td><td>1</td></tr>",
                            "<tr><td>P-0220</td><td>Setas</td><td>Pontevedra</td><td>1</td></tr>",
                            "<tr><td>P-0221</td><td>Setas</td><td>Pontevedra</td><td>1</td></tr>",
                            "<tr><td>P-0232</td><td>Setas</td><td>Pontevedra</td><td>1</td></tr>",
                            "<tr><td>P-0234</td><td>Setas</td><td>Pontevedra</td><td>1</td></tr>",
                            "<tr><td>P-0235</td><td>Setas</td><td>Pontevedra</td><td>1</td></tr>",
                            "<tr><td>P-0244</td><td>Setas</td><td>Pontevedra</td><td>1</td></tr>",
                            "<tr><td>P-0249</td><td>Setas</td><td>Pontevedra</td><td>1</td></tr>",
                            "<tr><td>P-0250</td><td>Setas</td><td>Pontevedra</td><td>1</td></tr>",
                            "<tr><td>P-0255</td><td>Setas</td><td>Pontevedra</td><td>1</td></tr>",
                            "<tr><td>P-0261</td><td>Setas</td><td>Pontevedra</td><td>1</td></tr>",
                            "<tr><td>P-0269</td><td>Setas</td><td>Pontevedra</td><td>1</td></tr>",
                            "<tr><td>P-0274</td><td>Setas</td><td>Pontevedra</td><td>1</td></tr>",
                            "<tr><td>P-0276</td><td>Setas</td><td>Pontevedra</td><td>1</td></tr>",
                            "<tr><td>P-0278</td><td>Setas</td><td>Pontevedra</td><td>1</td></tr>",
                            "<tr><td>P-0279</td><td>Setas</td><td>Pontevedra</td><td>1</td></tr>",
                            "<tr><td>P-0281</td><td>Setas</td><td>Pontevedra</td><td>1</td></tr>",
                            "<tr><td>P-0283</td><td>Setas</td><td>Pontevedra</td><td>1</td></tr>",
                            "<tr><td>P-0287</td><td>Setas</td><td>Pontevedra</td><td>1</td></tr>",
                            "<tr><td>P-0293</td><td>Setas</td><td>Pontevedra</td><td>1</td></tr>",
                            "<tr><td>P-0314</td><td>Setas</td><td>Pontevedra</td><td>1</td></tr>",
                            "<tr><td>P-0315</td><td>Setas</td><td>Pontevedra</td><td>1</td></tr>",
                            "<tr><td>P-0321</td><td>Setas</td><td>Pontevedra</td><td>1</td></tr>",
                            "<tr><td>P-0325</td><td>Setas</td><td>Pontevedra</td><td>1</td></tr>",
                            "<tr><td>P-0328</td><td>Setas</td><td>Pontevedra</td><td>1</td></tr>",
                            "<tr><td>P-0330</td><td>Setas</td><td>Pontevedra</td><td>1</td></tr>",
                            "<tr><td>P-0337</td><td>Setas</td><td>Pontevedra</td><td>1</td></tr>",
                            "<tr><td>P-0342</td><td>Setas</td><td>Pontevedra</td><td>1</td></tr>",
                            "<tr><td>P-0352</td><td>Setas</td><td>Pontevedra</td><td>1</td></tr>",
                            "<tr><td>P-0353</td><td>Setas</td><td>Pontevedra</td><td>1</td></tr>",
                            "<tr><td>P-0360</td><td>Setas</td><td>Pontevedra</td><td>1</td></tr>",
                            "<tr><td>P-0361</td><td>Setas</td><td>Pontevedra</td><td>1</td></tr>",
                            "<tr><td>P-0371</td><td>Setas</td><td>Pontevedra</td><td>1</td></tr>",
                            "<tr><td>P-0374</td><td>Setas</td><td>Pontevedra</td><td>1</td></tr>",
                            "<tr><td>P-0375</td><td>Setas</td><td>Pontevedra</td><td>1</td></tr>",
                            "<tr><td>P-0377</td><td>Setas</td><td>Pontevedra</td><td>1</td></tr>",
                            "<tr><td>P-0393</td><td>Setas</td><td>Pontevedra</td><td>1</td></tr>",
                            "<tr><td>P-0395</td><td>Setas</td><td>Pontevedra</td><td>1</td></tr>",
                            "<tr><td>P-0396</td><td>Setas</td><td>Pontevedra</td><td>1</td></tr>",
                            "<tr><td>P-0400</td><td>Setas</td><td>Pontevedra</td><td>1</td></tr>",
                            "<tr><td>P-0409</td><td>Setas</td><td>Pontevedra</td><td>1</td></tr>",
                            "<tr><td>P-0412</td><td>Setas</td><td>Pontevedra</td><td>1</td></tr>",
                            "<tr><td>P-0413</td><td>Setas</td><td>Pontevedra</td><td>1</td></tr>",
                            "<tr><td>P-0414</td><td>Setas</td><td>Pontevedra</td><td>1</td></tr>",
                            "<tr><td>P-0418</td><td>Setas</td><td>Pontevedra</td><td>1</td></tr>",
                            "<tr><td>P-0423</td><td>Setas</td><td>Pontevedra</td><td>1</td></tr>",
                            "<tr><td>P-0425</td><td>Setas</td><td>Pontevedra</td><td>1</td></tr>",
                            "<tr><td>P-0426</td><td>Setas</td><td>Pontevedra</td><td>1</td></tr>",
                            "<tr><td>P-0428</td><td>Setas</td><td>Pontevedra</td><td>1</td></tr>",
                            "<tr><td>P-0429</td><td>Setas</td><td>Pontevedra</td><td>1</td></tr>",
                            "<tr><td>P-0430</td><td>Setas</td><td>Pontevedra</td><td>1</td></tr>",
                            "<tr><td>P-0432</td><td>Setas</td><td>Pontevedra</td><td>1</td></tr>",
                            "<tr><td>P-0433</td><td>Setas</td><td>Pontevedra</td><td>1</td></tr>",
                            "<tr><td>P-0434</td><td>Setas</td><td>Pontevedra</td><td>1</td></tr>",
                            "<tr><td>P-0449</td><td>Setas</td><td>Pontevedra</td><td>1</td></tr>",
                            "<tr><td>P-0464</td><td>Setas</td><td>Pontevedra</td><td>1</td></tr>",
                            "<tr><td>P-0472</td><td>Setas</td><td>Pontevedra</td><td>1</td></tr>",
                            "<tr><td>P-0484</td><td>Setas</td><td>Pontevedra</td><td>1</td></tr>",
                            "<tr><td>P-0487</td><td>Setas</td><td>Pontevedra</td><td>1</td></tr>",
                            "<tr><td>P-0489</td><td>Setas</td><td>Pontevedra</td><td>1</td></tr>",
                            "<tr><td>P-0491</td><td>Setas</td><td>Pontevedra</td><td>1</td></tr>",
                            "<tr><td>P-0500</td><td>Setas</td><td>Pontevedra</td><td>1</td></tr>",
                            "</table>"
                        ]
                    }
                }
            ],
            "execution_count": 8
        }
    ]
}