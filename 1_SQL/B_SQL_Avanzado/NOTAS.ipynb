{
    "metadata": {
        "kernelspec": {
            "name": "SQL",
            "display_name": "SQL",
            "language": "sql"
        },
        "language_info": {
            "name": "sql",
            "version": ""
        },
        "extensions": {
            "azuredatastudio": {
                "version": 1,
                "views": []
            }
        }
    },
    "nbformat_minor": 2,
    "nbformat": 4,
    "cells": [
        {
            "cell_type": "markdown",
            "source": [
                "**SQL AVANZADO - Notas**\n",
                "\n",
                "**15/10/2021**"
            ],
            "metadata": {
                "azdata_cell_guid": "53dd04cf-e341-413e-9ee7-d843d5ad17cb"
            },
            "attachments": {}
        },
        {
            "cell_type": "markdown",
            "source": [
                "**L3 - Joins avanzado**\n",
                "\n",
                "Cada tabla de un sistema de datos debe tener lo que se conoce como Clave Primaria (**PK**). Una clave primaria es un identificador único de un registro en una tabla, puede ser algo tan sencillo como un único atributo o puede estar compuesto por varias columnas.  \n",
                "\n",
                "Cuando las claves primarias aportan info (CIF, por ejemplo) se denominan claves naturales. Si son IDs normales, como en spoint, se denominan clave subrogada"
            ],
            "metadata": {
                "azdata_cell_guid": "b531a89b-2d0d-45bd-a81d-a8c2920a998a"
            },
            "attachments": {}
        },
        {
            "cell_type": "markdown",
            "source": [
                "ANTI JOIN"
            ],
            "metadata": {
                "azdata_cell_guid": "e46234f7-dfb3-431a-bf77-0c1a36fa0ffb"
            },
            "attachments": {}
        },
        {
            "cell_type": "code",
            "source": [
                "-- Anti left join\r\n",
                "SELECT * \r\n",
                "FROM NEMINA.DBO.COMERCIALES C\r\n",
                "LEFT JOIN NEMINA.DBO.ZONAS Z\r\n",
                "       ON C.ZONA_ID = Z.ZONA_ID\r\n",
                "WHERE Z.ZONA_ID IS NULL"
            ],
            "metadata": {
                "azdata_cell_guid": "bfc3b01f-137c-4ea5-9f23-cafb6dfd701c"
            },
            "outputs": [
                {
                    "output_type": "display_data",
                    "data": {
                        "text/html": "(1 row affected)"
                    },
                    "metadata": {}
                },
                {
                    "output_type": "display_data",
                    "data": {
                        "text/html": "Total execution time: 00:00:00.059"
                    },
                    "metadata": {}
                },
                {
                    "output_type": "execute_result",
                    "execution_count": 1,
                    "data": {
                        "application/vnd.dataresource+json": {
                            "schema": {
                                "fields": [
                                    {
                                        "name": "COMERCIAL_ID"
                                    },
                                    {
                                        "name": "COMERCIAL_DESC"
                                    },
                                    {
                                        "name": "ZONA_ID"
                                    },
                                    {
                                        "name": "ZONA_ID"
                                    },
                                    {
                                        "name": "OBJETIVO"
                                    }
                                ]
                            },
                            "data": [
                                {
                                    "0": "3",
                                    "1": "Conxo",
                                    "2": "Sin Asignar",
                                    "3": "NULL",
                                    "4": "NULL"
                                }
                            ]
                        },
                        "text/html": "<table><tr><th>COMERCIAL_ID</th><th>COMERCIAL_DESC</th><th>ZONA_ID</th><th>ZONA_ID</th><th>OBJETIVO</th></tr><tr><td>3</td><td>Conxo</td><td>Sin Asignar</td><td>NULL</td><td>NULL</td></tr></table>"
                    },
                    "metadata": {}
                }
            ],
            "execution_count": 1
        },
        {
            "cell_type": "code",
            "source": [
                "SELECT * FROM NEMINA.DBO.COMERCIALES C \r\n",
                "CROSS JOIN NEMINA.DBO.ZONAS Z "
            ],
            "metadata": {
                "azdata_cell_guid": "99289f99-2d5b-4cfd-b3b2-10e2c1d3e163"
            },
            "outputs": [
                {
                    "output_type": "display_data",
                    "data": {
                        "text/html": "(25 rows affected)"
                    },
                    "metadata": {}
                },
                {
                    "output_type": "display_data",
                    "data": {
                        "text/html": "Total execution time: 00:00:00.071"
                    },
                    "metadata": {}
                },
                {
                    "output_type": "execute_result",
                    "execution_count": 3,
                    "data": {
                        "application/vnd.dataresource+json": {
                            "schema": {
                                "fields": [
                                    {
                                        "name": "COMERCIAL_ID"
                                    },
                                    {
                                        "name": "COMERCIAL_DESC"
                                    },
                                    {
                                        "name": "ZONA_ID"
                                    },
                                    {
                                        "name": "ZONA_ID"
                                    },
                                    {
                                        "name": "OBJETIVO"
                                    }
                                ]
                            },
                            "data": [
                                {
                                    "0": "1",
                                    "1": "Breixo",
                                    "2": "Pontevedra",
                                    "3": "Coruña",
                                    "4": "1000000.0000"
                                },
                                {
                                    "0": "1",
                                    "1": "Breixo",
                                    "2": "Ourense",
                                    "3": "Coruña",
                                    "4": "1000000.0000"
                                },
                                {
                                    "0": "2",
                                    "1": "Aldan",
                                    "2": "Coruña",
                                    "3": "Coruña",
                                    "4": "1000000.0000"
                                },
                                {
                                    "0": "2",
                                    "1": "Aldan",
                                    "2": "Lugo",
                                    "3": "Coruña",
                                    "4": "1000000.0000"
                                },
                                {
                                    "0": "3",
                                    "1": "Conxo",
                                    "2": "Sin Asignar",
                                    "3": "Coruña",
                                    "4": "1000000.0000"
                                },
                                {
                                    "0": "1",
                                    "1": "Breixo",
                                    "2": "Pontevedra",
                                    "3": "Pontevedra",
                                    "4": "1000000.0000"
                                },
                                {
                                    "0": "1",
                                    "1": "Breixo",
                                    "2": "Ourense",
                                    "3": "Pontevedra",
                                    "4": "1000000.0000"
                                },
                                {
                                    "0": "2",
                                    "1": "Aldan",
                                    "2": "Coruña",
                                    "3": "Pontevedra",
                                    "4": "1000000.0000"
                                },
                                {
                                    "0": "2",
                                    "1": "Aldan",
                                    "2": "Lugo",
                                    "3": "Pontevedra",
                                    "4": "1000000.0000"
                                },
                                {
                                    "0": "3",
                                    "1": "Conxo",
                                    "2": "Sin Asignar",
                                    "3": "Pontevedra",
                                    "4": "1000000.0000"
                                },
                                {
                                    "0": "1",
                                    "1": "Breixo",
                                    "2": "Pontevedra",
                                    "3": "Lugo",
                                    "4": "100000.0000"
                                },
                                {
                                    "0": "1",
                                    "1": "Breixo",
                                    "2": "Ourense",
                                    "3": "Lugo",
                                    "4": "100000.0000"
                                },
                                {
                                    "0": "2",
                                    "1": "Aldan",
                                    "2": "Coruña",
                                    "3": "Lugo",
                                    "4": "100000.0000"
                                },
                                {
                                    "0": "2",
                                    "1": "Aldan",
                                    "2": "Lugo",
                                    "3": "Lugo",
                                    "4": "100000.0000"
                                },
                                {
                                    "0": "3",
                                    "1": "Conxo",
                                    "2": "Sin Asignar",
                                    "3": "Lugo",
                                    "4": "100000.0000"
                                },
                                {
                                    "0": "1",
                                    "1": "Breixo",
                                    "2": "Pontevedra",
                                    "3": "Ourense",
                                    "4": "100000.0000"
                                },
                                {
                                    "0": "1",
                                    "1": "Breixo",
                                    "2": "Ourense",
                                    "3": "Ourense",
                                    "4": "100000.0000"
                                },
                                {
                                    "0": "2",
                                    "1": "Aldan",
                                    "2": "Coruña",
                                    "3": "Ourense",
                                    "4": "100000.0000"
                                },
                                {
                                    "0": "2",
                                    "1": "Aldan",
                                    "2": "Lugo",
                                    "3": "Ourense",
                                    "4": "100000.0000"
                                },
                                {
                                    "0": "3",
                                    "1": "Conxo",
                                    "2": "Sin Asignar",
                                    "3": "Ourense",
                                    "4": "100000.0000"
                                },
                                {
                                    "0": "1",
                                    "1": "Breixo",
                                    "2": "Pontevedra",
                                    "3": "Madrid",
                                    "4": "5000000.0000"
                                },
                                {
                                    "0": "1",
                                    "1": "Breixo",
                                    "2": "Ourense",
                                    "3": "Madrid",
                                    "4": "5000000.0000"
                                },
                                {
                                    "0": "2",
                                    "1": "Aldan",
                                    "2": "Coruña",
                                    "3": "Madrid",
                                    "4": "5000000.0000"
                                },
                                {
                                    "0": "2",
                                    "1": "Aldan",
                                    "2": "Lugo",
                                    "3": "Madrid",
                                    "4": "5000000.0000"
                                },
                                {
                                    "0": "3",
                                    "1": "Conxo",
                                    "2": "Sin Asignar",
                                    "3": "Madrid",
                                    "4": "5000000.0000"
                                }
                            ]
                        },
                        "text/html": "<table><tr><th>COMERCIAL_ID</th><th>COMERCIAL_DESC</th><th>ZONA_ID</th><th>ZONA_ID</th><th>OBJETIVO</th></tr><tr><td>1</td><td>Breixo</td><td>Pontevedra</td><td>Coruña</td><td>1000000.0000</td></tr><tr><td>1</td><td>Breixo</td><td>Ourense</td><td>Coruña</td><td>1000000.0000</td></tr><tr><td>2</td><td>Aldan</td><td>Coruña</td><td>Coruña</td><td>1000000.0000</td></tr><tr><td>2</td><td>Aldan</td><td>Lugo</td><td>Coruña</td><td>1000000.0000</td></tr><tr><td>3</td><td>Conxo</td><td>Sin Asignar</td><td>Coruña</td><td>1000000.0000</td></tr><tr><td>1</td><td>Breixo</td><td>Pontevedra</td><td>Pontevedra</td><td>1000000.0000</td></tr><tr><td>1</td><td>Breixo</td><td>Ourense</td><td>Pontevedra</td><td>1000000.0000</td></tr><tr><td>2</td><td>Aldan</td><td>Coruña</td><td>Pontevedra</td><td>1000000.0000</td></tr><tr><td>2</td><td>Aldan</td><td>Lugo</td><td>Pontevedra</td><td>1000000.0000</td></tr><tr><td>3</td><td>Conxo</td><td>Sin Asignar</td><td>Pontevedra</td><td>1000000.0000</td></tr><tr><td>1</td><td>Breixo</td><td>Pontevedra</td><td>Lugo</td><td>100000.0000</td></tr><tr><td>1</td><td>Breixo</td><td>Ourense</td><td>Lugo</td><td>100000.0000</td></tr><tr><td>2</td><td>Aldan</td><td>Coruña</td><td>Lugo</td><td>100000.0000</td></tr><tr><td>2</td><td>Aldan</td><td>Lugo</td><td>Lugo</td><td>100000.0000</td></tr><tr><td>3</td><td>Conxo</td><td>Sin Asignar</td><td>Lugo</td><td>100000.0000</td></tr><tr><td>1</td><td>Breixo</td><td>Pontevedra</td><td>Ourense</td><td>100000.0000</td></tr><tr><td>1</td><td>Breixo</td><td>Ourense</td><td>Ourense</td><td>100000.0000</td></tr><tr><td>2</td><td>Aldan</td><td>Coruña</td><td>Ourense</td><td>100000.0000</td></tr><tr><td>2</td><td>Aldan</td><td>Lugo</td><td>Ourense</td><td>100000.0000</td></tr><tr><td>3</td><td>Conxo</td><td>Sin Asignar</td><td>Ourense</td><td>100000.0000</td></tr><tr><td>1</td><td>Breixo</td><td>Pontevedra</td><td>Madrid</td><td>5000000.0000</td></tr><tr><td>1</td><td>Breixo</td><td>Ourense</td><td>Madrid</td><td>5000000.0000</td></tr><tr><td>2</td><td>Aldan</td><td>Coruña</td><td>Madrid</td><td>5000000.0000</td></tr><tr><td>2</td><td>Aldan</td><td>Lugo</td><td>Madrid</td><td>5000000.0000</td></tr><tr><td>3</td><td>Conxo</td><td>Sin Asignar</td><td>Madrid</td><td>5000000.0000</td></tr></table>"
                    },
                    "metadata": {}
                }
            ],
            "execution_count": 3
        },
        {
            "cell_type": "markdown",
            "source": [
                "**SUBQUERIES**"
            ],
            "metadata": {
                "azdata_cell_guid": "a30ea935-71a9-48b8-92be-5d9855dca204"
            },
            "attachments": {}
        },
        {
            "cell_type": "markdown",
            "source": [
                "## Ejemplo de análisis.\n",
                "\n",
                "Queremos encontrar aquellas filas de venta de Nemiña cuyos ingresos por tonelada sean mayores que los ingresos medios por tonelada para el producto y año.\n",
                "\n",
                "Ejercicio:"
            ],
            "metadata": {
                "azdata_cell_guid": "d8132448-05d4-4864-98dc-e5af0703cb4e"
            },
            "attachments": {}
        },
        {
            "cell_type": "code",
            "source": [
                "SELECT TOP 10 *, INGRESOS_EUR/TONELADAS AS IMPORTE_POR_TONELADA, (  \r\n",
                "                        SELECT SUM(INGRESOS_EUR) / SUM(TONELADAS)\r\n",
                "                        FROM NEMINA.DBO.DATOS_BASE D2\r\n",
                "                        WHERE D1.PRODUCTO_ID = D2.PRODUCTO_ID\r\n",
                "                          AND D1.FY_ID = D2.FY_ID\r\n",
                "                    ) AS PROMEDIO_CATEGORIA\r\n",
                "FROM NEMINA.DBO.DATOS_BASE D1"
            ],
            "metadata": {
                "azdata_cell_guid": "1ecf18c5-cda6-4db6-a390-60293bb3789b"
            },
            "outputs": [
                {
                    "output_type": "display_data",
                    "data": {
                        "text/html": "(10 rows affected)"
                    },
                    "metadata": {}
                },
                {
                    "output_type": "display_data",
                    "data": {
                        "text/html": "Total execution time: 00:00:00.061"
                    },
                    "metadata": {}
                },
                {
                    "output_type": "execute_result",
                    "execution_count": 13,
                    "data": {
                        "application/vnd.dataresource+json": {
                            "schema": {
                                "fields": [
                                    {
                                        "name": "PEDIDO_ID"
                                    },
                                    {
                                        "name": "FY_ID"
                                    },
                                    {
                                        "name": "PRODUCTO_ID"
                                    },
                                    {
                                        "name": "ZONA_ID"
                                    },
                                    {
                                        "name": "CLIENTE_ID"
                                    },
                                    {
                                        "name": "TONELADAS"
                                    },
                                    {
                                        "name": "INGRESOS_EUR"
                                    },
                                    {
                                        "name": "IMPORTE_POR_TONELADA"
                                    },
                                    {
                                        "name": "PROMEDIO_CATEGORIA"
                                    }
                                ]
                            },
                            "data": [
                                {
                                    "0": "P-0001",
                                    "1": "2016",
                                    "2": "Setas",
                                    "3": "Lugo",
                                    "4": "7",
                                    "5": "31.8000000000",
                                    "6": "24677.0000000000",
                                    "7": "776.00628930817610062893",
                                    "8": "756.043638"
                                },
                                {
                                    "0": "P-0002",
                                    "1": "2016",
                                    "2": "Setas",
                                    "3": "Ourense",
                                    "4": "27",
                                    "5": "34.5000000000",
                                    "6": "27048.0000000000",
                                    "7": "784.00000000000000000000",
                                    "8": "756.043638"
                                },
                                {
                                    "0": "P-0003",
                                    "1": "2016",
                                    "2": "Setas",
                                    "3": "Ourense",
                                    "4": "21",
                                    "5": "38.1000000000",
                                    "6": "27432.0000000000",
                                    "7": "720.00000000000000000000",
                                    "8": "756.043638"
                                },
                                {
                                    "0": "P-0004",
                                    "1": "2016",
                                    "2": "Setas",
                                    "3": "Ourense",
                                    "4": "26",
                                    "5": "35.7000000000",
                                    "6": "25990.0000000000",
                                    "7": "728.01120448179271708683",
                                    "8": "756.043638"
                                },
                                {
                                    "0": "P-0005",
                                    "1": "2016",
                                    "2": "Setas",
                                    "3": "Pontevedra",
                                    "4": "25",
                                    "5": "32.7000000000",
                                    "6": "24590.0000000000",
                                    "7": "751.98776758409785932721",
                                    "8": "756.043638"
                                },
                                {
                                    "0": "P-0006",
                                    "1": "2016",
                                    "2": "Setas",
                                    "3": "Pontevedra",
                                    "4": "24",
                                    "5": "34.8000000000",
                                    "6": "26170.0000000000",
                                    "7": "752.01149425287356321839",
                                    "8": "756.043638"
                                },
                                {
                                    "0": "P-0007",
                                    "1": "2016",
                                    "2": "Setas",
                                    "3": "Coruña",
                                    "4": "2",
                                    "5": "33.0000000000",
                                    "6": "25344.0000000000",
                                    "7": "768.00000000000000000000",
                                    "8": "756.043638"
                                },
                                {
                                    "0": "P-0008",
                                    "1": "2016",
                                    "2": "Setas",
                                    "3": "Lugo",
                                    "4": "9",
                                    "5": "32.4000000000",
                                    "6": "24106.0000000000",
                                    "7": "744.01234567901234567901",
                                    "8": "756.043638"
                                },
                                {
                                    "0": "P-0009",
                                    "1": "2016",
                                    "2": "Setas",
                                    "3": "Coruña",
                                    "4": "16",
                                    "5": "32.4000000000",
                                    "6": "23846.0000000000",
                                    "7": "735.98765432098765432098",
                                    "8": "756.043638"
                                },
                                {
                                    "0": "P-0010",
                                    "1": "2016",
                                    "2": "Setas",
                                    "3": "Ourense",
                                    "4": "21",
                                    "5": "27.9000000000",
                                    "6": "20311.0000000000",
                                    "7": "727.99283154121863799283",
                                    "8": "756.043638"
                                }
                            ]
                        },
                        "text/html": "<table><tr><th>PEDIDO_ID</th><th>FY_ID</th><th>PRODUCTO_ID</th><th>ZONA_ID</th><th>CLIENTE_ID</th><th>TONELADAS</th><th>INGRESOS_EUR</th><th>IMPORTE_POR_TONELADA</th><th>PROMEDIO_CATEGORIA</th></tr><tr><td>P-0001</td><td>2016</td><td>Setas</td><td>Lugo</td><td>7</td><td>31.8000000000</td><td>24677.0000000000</td><td>776.00628930817610062893</td><td>756.043638</td></tr><tr><td>P-0002</td><td>2016</td><td>Setas</td><td>Ourense</td><td>27</td><td>34.5000000000</td><td>27048.0000000000</td><td>784.00000000000000000000</td><td>756.043638</td></tr><tr><td>P-0003</td><td>2016</td><td>Setas</td><td>Ourense</td><td>21</td><td>38.1000000000</td><td>27432.0000000000</td><td>720.00000000000000000000</td><td>756.043638</td></tr><tr><td>P-0004</td><td>2016</td><td>Setas</td><td>Ourense</td><td>26</td><td>35.7000000000</td><td>25990.0000000000</td><td>728.01120448179271708683</td><td>756.043638</td></tr><tr><td>P-0005</td><td>2016</td><td>Setas</td><td>Pontevedra</td><td>25</td><td>32.7000000000</td><td>24590.0000000000</td><td>751.98776758409785932721</td><td>756.043638</td></tr><tr><td>P-0006</td><td>2016</td><td>Setas</td><td>Pontevedra</td><td>24</td><td>34.8000000000</td><td>26170.0000000000</td><td>752.01149425287356321839</td><td>756.043638</td></tr><tr><td>P-0007</td><td>2016</td><td>Setas</td><td>Coruña</td><td>2</td><td>33.0000000000</td><td>25344.0000000000</td><td>768.00000000000000000000</td><td>756.043638</td></tr><tr><td>P-0008</td><td>2016</td><td>Setas</td><td>Lugo</td><td>9</td><td>32.4000000000</td><td>24106.0000000000</td><td>744.01234567901234567901</td><td>756.043638</td></tr><tr><td>P-0009</td><td>2016</td><td>Setas</td><td>Coruña</td><td>16</td><td>32.4000000000</td><td>23846.0000000000</td><td>735.98765432098765432098</td><td>756.043638</td></tr><tr><td>P-0010</td><td>2016</td><td>Setas</td><td>Ourense</td><td>21</td><td>27.9000000000</td><td>20311.0000000000</td><td>727.99283154121863799283</td><td>756.043638</td></tr></table>"
                    },
                    "metadata": {}
                }
            ],
            "execution_count": 13
        },
        {
            "cell_type": "code",
            "source": [
                "SELECT TOP 10 *, INGRESOS_EUR/TONELADAS AS IMPORTE_POR_TONELADA, (  \r\n",
                "                        SELECT AVG(INGRESOS_EUR/TONELADAS)\r\n",
                "                        FROM NEMINA.DBO.DATOS_BASE D2\r\n",
                "                        WHERE D1.PRODUCTO_ID = D2.PRODUCTO_ID\r\n",
                "                          AND D1.FY_ID = D2.FY_ID\r\n",
                "                    ) AS PROMEDIO_CATEGORIA\r\n",
                "FROM NEMINA.DBO.DATOS_BASE D1\r\n",
                "WHERE INGRESOS_EUR/TONELADAS > (  \r\n",
                "                        SELECT AVG(INGRESOS_EUR/TONELADAS)\r\n",
                "                        FROM NEMINA.DBO.DATOS_BASE D2\r\n",
                "                        WHERE D1.PRODUCTO_ID = D2.PRODUCTO_ID\r\n",
                "                          AND D1.FY_ID = D2.FY_ID\r\n",
                "                    )"
            ],
            "metadata": {
                "azdata_cell_guid": "0081e551-8b79-4df1-8e70-cd98d6eba819"
            },
            "outputs": [
                {
                    "output_type": "display_data",
                    "data": {
                        "text/html": "(10 rows affected)"
                    },
                    "metadata": {}
                },
                {
                    "output_type": "display_data",
                    "data": {
                        "text/html": "Total execution time: 00:00:00.063"
                    },
                    "metadata": {}
                },
                {
                    "output_type": "execute_result",
                    "execution_count": 14,
                    "data": {
                        "application/vnd.dataresource+json": {
                            "schema": {
                                "fields": [
                                    {
                                        "name": "PEDIDO_ID"
                                    },
                                    {
                                        "name": "FY_ID"
                                    },
                                    {
                                        "name": "PRODUCTO_ID"
                                    },
                                    {
                                        "name": "ZONA_ID"
                                    },
                                    {
                                        "name": "CLIENTE_ID"
                                    },
                                    {
                                        "name": "TONELADAS"
                                    },
                                    {
                                        "name": "INGRESOS_EUR"
                                    },
                                    {
                                        "name": "IMPORTE_POR_TONELADA"
                                    },
                                    {
                                        "name": "PROMEDIO_CATEGORIA"
                                    }
                                ]
                            },
                            "data": [
                                {
                                    "0": "P-0014",
                                    "1": "2016",
                                    "2": "Algas",
                                    "3": "Lugo",
                                    "4": "16",
                                    "5": "32.7000000000",
                                    "6": "19816.0000000000",
                                    "7": "605.99388379204892966360",
                                    "8": "591.00047837232262208335"
                                },
                                {
                                    "0": "P-0018",
                                    "1": "2016",
                                    "2": "Algas",
                                    "3": "Coruña",
                                    "4": "18",
                                    "5": "31.8000000000",
                                    "6": "19271.0000000000",
                                    "7": "606.00628930817610062893",
                                    "8": "591.00047837232262208335"
                                },
                                {
                                    "0": "P-0020",
                                    "1": "2016",
                                    "2": "Algas",
                                    "3": "Coruña",
                                    "4": "7",
                                    "5": "33.3000000000",
                                    "6": "19780.0000000000",
                                    "7": "593.99399399399399399399",
                                    "8": "591.00047837232262208335"
                                },
                                {
                                    "0": "P-0023",
                                    "1": "2016",
                                    "2": "Algas",
                                    "3": "Lugo",
                                    "4": "6",
                                    "5": "31.8000000000",
                                    "6": "19080.0000000000",
                                    "7": "600.00000000000000000000",
                                    "8": "591.00047837232262208335"
                                },
                                {
                                    "0": "P-0030",
                                    "1": "2016",
                                    "2": "Algas",
                                    "3": "Coruña",
                                    "4": "15",
                                    "5": "32.4000000000",
                                    "6": "19246.0000000000",
                                    "7": "594.01234567901234567901",
                                    "8": "591.00047837232262208335"
                                },
                                {
                                    "0": "P-0033",
                                    "1": "2016",
                                    "2": "Algas",
                                    "3": "Coruña",
                                    "4": "2",
                                    "5": "32.1000000000",
                                    "6": "19067.0000000000",
                                    "7": "593.98753894080996884735",
                                    "8": "591.00047837232262208335"
                                },
                                {
                                    "0": "P-0037",
                                    "1": "2016",
                                    "2": "Algas",
                                    "3": "Pontevedra",
                                    "4": "25",
                                    "5": "34.2000000000",
                                    "6": "20520.0000000000",
                                    "7": "600.00000000000000000000",
                                    "8": "591.00047837232262208335"
                                },
                                {
                                    "0": "P-0012",
                                    "1": "2016",
                                    "2": "Algas",
                                    "3": "Ourense",
                                    "4": "27",
                                    "5": "29.7000000000",
                                    "6": "17998.0000000000",
                                    "7": "605.99326599326599326599",
                                    "8": "591.00047837232262208335"
                                },
                                {
                                    "0": "P-0046",
                                    "1": "2016",
                                    "2": "Algas",
                                    "3": "Pontevedra",
                                    "4": "28",
                                    "5": "27.0000000000",
                                    "6": "16362.0000000000",
                                    "7": "606.00000000000000000000",
                                    "8": "591.00047837232262208335"
                                },
                                {
                                    "0": "P-0050",
                                    "1": "2016",
                                    "2": "Algas",
                                    "3": "Pontevedra",
                                    "4": "23",
                                    "5": "31.8000000000",
                                    "6": "19271.0000000000",
                                    "7": "606.00628930817610062893",
                                    "8": "591.00047837232262208335"
                                }
                            ]
                        },
                        "text/html": "<table><tr><th>PEDIDO_ID</th><th>FY_ID</th><th>PRODUCTO_ID</th><th>ZONA_ID</th><th>CLIENTE_ID</th><th>TONELADAS</th><th>INGRESOS_EUR</th><th>IMPORTE_POR_TONELADA</th><th>PROMEDIO_CATEGORIA</th></tr><tr><td>P-0014</td><td>2016</td><td>Algas</td><td>Lugo</td><td>16</td><td>32.7000000000</td><td>19816.0000000000</td><td>605.99388379204892966360</td><td>591.00047837232262208335</td></tr><tr><td>P-0018</td><td>2016</td><td>Algas</td><td>Coruña</td><td>18</td><td>31.8000000000</td><td>19271.0000000000</td><td>606.00628930817610062893</td><td>591.00047837232262208335</td></tr><tr><td>P-0020</td><td>2016</td><td>Algas</td><td>Coruña</td><td>7</td><td>33.3000000000</td><td>19780.0000000000</td><td>593.99399399399399399399</td><td>591.00047837232262208335</td></tr><tr><td>P-0023</td><td>2016</td><td>Algas</td><td>Lugo</td><td>6</td><td>31.8000000000</td><td>19080.0000000000</td><td>600.00000000000000000000</td><td>591.00047837232262208335</td></tr><tr><td>P-0030</td><td>2016</td><td>Algas</td><td>Coruña</td><td>15</td><td>32.4000000000</td><td>19246.0000000000</td><td>594.01234567901234567901</td><td>591.00047837232262208335</td></tr><tr><td>P-0033</td><td>2016</td><td>Algas</td><td>Coruña</td><td>2</td><td>32.1000000000</td><td>19067.0000000000</td><td>593.98753894080996884735</td><td>591.00047837232262208335</td></tr><tr><td>P-0037</td><td>2016</td><td>Algas</td><td>Pontevedra</td><td>25</td><td>34.2000000000</td><td>20520.0000000000</td><td>600.00000000000000000000</td><td>591.00047837232262208335</td></tr><tr><td>P-0012</td><td>2016</td><td>Algas</td><td>Ourense</td><td>27</td><td>29.7000000000</td><td>17998.0000000000</td><td>605.99326599326599326599</td><td>591.00047837232262208335</td></tr><tr><td>P-0046</td><td>2016</td><td>Algas</td><td>Pontevedra</td><td>28</td><td>27.0000000000</td><td>16362.0000000000</td><td>606.00000000000000000000</td><td>591.00047837232262208335</td></tr><tr><td>P-0050</td><td>2016</td><td>Algas</td><td>Pontevedra</td><td>23</td><td>31.8000000000</td><td>19271.0000000000</td><td>606.00628930817610062893</td><td>591.00047837232262208335</td></tr></table>"
                    },
                    "metadata": {}
                }
            ],
            "execution_count": 14
        },
        {
            "cell_type": "markdown",
            "source": [
                "**Realizar (y anidar) subconsultas mata la base de datos por saturación**"
            ],
            "metadata": {
                "azdata_cell_guid": "af1ec3e2-1dd3-4561-a366-d67b22e8658a"
            },
            "attachments": {}
        },
        {
            "cell_type": "markdown",
            "source": [
                "**WITH**"
            ],
            "metadata": {
                "azdata_cell_guid": "a99d2fb3-058b-415a-b879-d52ffd21d0d9"
            },
            "attachments": {}
        },
        {
            "cell_type": "code",
            "source": [
                "WITH RESUMEN AS (\r\n",
                "    SELECT AVG(INGRESOS_EUR) AS PROMEDIO,\r\n",
                "           STDEV(INGRESOS_EUR) AS DESV\r\n",
                "    FROM NEMINA.DBO.DATOS_BASE\r\n",
                ")\r\n",
                "\r\n",
                "SELECT * FROM RESUMEN"
            ],
            "metadata": {
                "azdata_cell_guid": "65bbe8d6-bf1c-4a35-bbce-84bdba66f672"
            },
            "outputs": [
                {
                    "output_type": "display_data",
                    "data": {
                        "text/html": "(1 row affected)"
                    },
                    "metadata": {}
                },
                {
                    "output_type": "display_data",
                    "data": {
                        "text/html": "Total execution time: 00:00:00.051"
                    },
                    "metadata": {}
                },
                {
                    "output_type": "execute_result",
                    "metadata": {},
                    "execution_count": 3,
                    "data": {
                        "application/vnd.dataresource+json": {
                            "schema": {
                                "fields": [
                                    {
                                        "name": "PROMEDIO"
                                    },
                                    {
                                        "name": "DESV"
                                    }
                                ]
                            },
                            "data": [
                                {
                                    "0": "42336.3173652694",
                                    "1": "40850.64110264462"
                                }
                            ]
                        },
                        "text/html": [
                            "<table>",
                            "<tr><th>PROMEDIO</th><th>DESV</th></tr>",
                            "<tr><td>42336.3173652694</td><td>40850.64110264462</td></tr>",
                            "</table>"
                        ]
                    }
                }
            ],
            "execution_count": 3
        },
        {
            "cell_type": "markdown",
            "source": [
                "**PRACTICA FUNCIONES ANALÍTICAS EN BD nSLDina**"
            ],
            "metadata": {
                "azdata_cell_guid": "7216b7ef-111c-46ec-a66f-28956c2b2513"
            },
            "attachments": {}
        },
        {
            "cell_type": "code",
            "source": [
                "SELECT TOP 10 * FROM NSLDINA.DBO.FACT_VENTA"
            ],
            "metadata": {
                "azdata_cell_guid": "e02dd767-f9ea-47cf-87e9-cb209c2d28d9"
            },
            "outputs": [
                {
                    "output_type": "display_data",
                    "data": {
                        "text/html": "(10 rows affected)"
                    },
                    "metadata": {}
                },
                {
                    "output_type": "display_data",
                    "data": {
                        "text/html": "Total execution time: 00:00:00.049"
                    },
                    "metadata": {}
                },
                {
                    "output_type": "execute_result",
                    "metadata": {},
                    "execution_count": 5,
                    "data": {
                        "application/vnd.dataresource+json": {
                            "schema": {
                                "fields": [
                                    {
                                        "name": "CLIENTE_ID"
                                    },
                                    {
                                        "name": "MES_ID"
                                    },
                                    {
                                        "name": "PRODUCTO_ID"
                                    },
                                    {
                                        "name": "CANTIDAD"
                                    }
                                ]
                            },
                            "data": [
                                {
                                    "0": "Cliente - 001",
                                    "1": "201908",
                                    "2": "Ensalada - 01",
                                    "3": "3"
                                },
                                {
                                    "0": "Cliente - 001",
                                    "1": "201908",
                                    "2": "Ensalada - 04",
                                    "3": "3"
                                },
                                {
                                    "0": "Cliente - 001",
                                    "1": "201908",
                                    "2": "Ensalada - 05",
                                    "3": "2"
                                },
                                {
                                    "0": "Cliente - 001",
                                    "1": "201908",
                                    "2": "Ensalada - 08",
                                    "3": "2"
                                },
                                {
                                    "0": "Cliente - 001",
                                    "1": "201908",
                                    "2": "Ensalada - 09",
                                    "3": "2"
                                },
                                {
                                    "0": "Cliente - 001",
                                    "1": "201908",
                                    "2": "Ensalada - 12",
                                    "3": "2"
                                },
                                {
                                    "0": "Cliente - 001",
                                    "1": "201908",
                                    "2": "Ensalada - 15",
                                    "3": "3"
                                },
                                {
                                    "0": "Cliente - 001",
                                    "1": "201909",
                                    "2": "Ensalada - 02",
                                    "3": "1"
                                },
                                {
                                    "0": "Cliente - 001",
                                    "1": "201909",
                                    "2": "Ensalada - 07",
                                    "3": "1"
                                },
                                {
                                    "0": "Cliente - 001",
                                    "1": "201909",
                                    "2": "Ensalada - 08",
                                    "3": "1"
                                }
                            ]
                        },
                        "text/html": [
                            "<table>",
                            "<tr><th>CLIENTE_ID</th><th>MES_ID</th><th>PRODUCTO_ID</th><th>CANTIDAD</th></tr>",
                            "<tr><td>Cliente - 001</td><td>201908</td><td>Ensalada - 01</td><td>3</td></tr>",
                            "<tr><td>Cliente - 001</td><td>201908</td><td>Ensalada - 04</td><td>3</td></tr>",
                            "<tr><td>Cliente - 001</td><td>201908</td><td>Ensalada - 05</td><td>2</td></tr>",
                            "<tr><td>Cliente - 001</td><td>201908</td><td>Ensalada - 08</td><td>2</td></tr>",
                            "<tr><td>Cliente - 001</td><td>201908</td><td>Ensalada - 09</td><td>2</td></tr>",
                            "<tr><td>Cliente - 001</td><td>201908</td><td>Ensalada - 12</td><td>2</td></tr>",
                            "<tr><td>Cliente - 001</td><td>201908</td><td>Ensalada - 15</td><td>3</td></tr>",
                            "<tr><td>Cliente - 001</td><td>201909</td><td>Ensalada - 02</td><td>1</td></tr>",
                            "<tr><td>Cliente - 001</td><td>201909</td><td>Ensalada - 07</td><td>1</td></tr>",
                            "<tr><td>Cliente - 001</td><td>201909</td><td>Ensalada - 08</td><td>1</td></tr>",
                            "</table>"
                        ]
                    }
                }
            ],
            "execution_count": 5
        },
        {
            "cell_type": "code",
            "source": [
                "SELECT TOP 10 *, SUM(CANTIDAD) OVER (PARTITION BY CLIENTE_ID\r\n",
                "    ORDER BY MES_ID,PRODUCTO_ID\r\n",
                "    ROWS BETWEEN 3 PRECEDING AND CURRENT ROW\r\n",
                "    ) AS ACUMULADO\r\n",
                "FROM NSLDINA.DBO.FACT_VENTA"
            ],
            "metadata": {
                "azdata_cell_guid": "3707d442-995b-4768-957d-73b53e5c49f8"
            },
            "outputs": [
                {
                    "output_type": "display_data",
                    "data": {
                        "text/html": "(10 rows affected)"
                    },
                    "metadata": {}
                },
                {
                    "output_type": "display_data",
                    "data": {
                        "text/html": "Total execution time: 00:00:00.045"
                    },
                    "metadata": {}
                },
                {
                    "output_type": "execute_result",
                    "metadata": {},
                    "execution_count": 17,
                    "data": {
                        "application/vnd.dataresource+json": {
                            "schema": {
                                "fields": [
                                    {
                                        "name": "CLIENTE_ID"
                                    },
                                    {
                                        "name": "MES_ID"
                                    },
                                    {
                                        "name": "PRODUCTO_ID"
                                    },
                                    {
                                        "name": "CANTIDAD"
                                    },
                                    {
                                        "name": "ACUMULADO"
                                    }
                                ]
                            },
                            "data": [
                                {
                                    "0": "Cliente - 001",
                                    "1": "201908",
                                    "2": "Ensalada - 01",
                                    "3": "3",
                                    "4": "3"
                                },
                                {
                                    "0": "Cliente - 001",
                                    "1": "201908",
                                    "2": "Ensalada - 04",
                                    "3": "3",
                                    "4": "6"
                                },
                                {
                                    "0": "Cliente - 001",
                                    "1": "201908",
                                    "2": "Ensalada - 05",
                                    "3": "2",
                                    "4": "8"
                                },
                                {
                                    "0": "Cliente - 001",
                                    "1": "201908",
                                    "2": "Ensalada - 08",
                                    "3": "2",
                                    "4": "10"
                                },
                                {
                                    "0": "Cliente - 001",
                                    "1": "201908",
                                    "2": "Ensalada - 09",
                                    "3": "2",
                                    "4": "9"
                                },
                                {
                                    "0": "Cliente - 001",
                                    "1": "201908",
                                    "2": "Ensalada - 12",
                                    "3": "2",
                                    "4": "8"
                                },
                                {
                                    "0": "Cliente - 001",
                                    "1": "201908",
                                    "2": "Ensalada - 15",
                                    "3": "3",
                                    "4": "9"
                                },
                                {
                                    "0": "Cliente - 001",
                                    "1": "201909",
                                    "2": "Ensalada - 02",
                                    "3": "1",
                                    "4": "8"
                                },
                                {
                                    "0": "Cliente - 001",
                                    "1": "201909",
                                    "2": "Ensalada - 07",
                                    "3": "1",
                                    "4": "7"
                                },
                                {
                                    "0": "Cliente - 001",
                                    "1": "201909",
                                    "2": "Ensalada - 08",
                                    "3": "1",
                                    "4": "6"
                                }
                            ]
                        },
                        "text/html": [
                            "<table>",
                            "<tr><th>CLIENTE_ID</th><th>MES_ID</th><th>PRODUCTO_ID</th><th>CANTIDAD</th><th>ACUMULADO</th></tr>",
                            "<tr><td>Cliente - 001</td><td>201908</td><td>Ensalada - 01</td><td>3</td><td>3</td></tr>",
                            "<tr><td>Cliente - 001</td><td>201908</td><td>Ensalada - 04</td><td>3</td><td>6</td></tr>",
                            "<tr><td>Cliente - 001</td><td>201908</td><td>Ensalada - 05</td><td>2</td><td>8</td></tr>",
                            "<tr><td>Cliente - 001</td><td>201908</td><td>Ensalada - 08</td><td>2</td><td>10</td></tr>",
                            "<tr><td>Cliente - 001</td><td>201908</td><td>Ensalada - 09</td><td>2</td><td>9</td></tr>",
                            "<tr><td>Cliente - 001</td><td>201908</td><td>Ensalada - 12</td><td>2</td><td>8</td></tr>",
                            "<tr><td>Cliente - 001</td><td>201908</td><td>Ensalada - 15</td><td>3</td><td>9</td></tr>",
                            "<tr><td>Cliente - 001</td><td>201909</td><td>Ensalada - 02</td><td>1</td><td>8</td></tr>",
                            "<tr><td>Cliente - 001</td><td>201909</td><td>Ensalada - 07</td><td>1</td><td>7</td></tr>",
                            "<tr><td>Cliente - 001</td><td>201909</td><td>Ensalada - 08</td><td>1</td><td>6</td></tr>",
                            "</table>"
                        ]
                    }
                }
            ],
            "execution_count": 17
        },
        {
            "cell_type": "markdown",
            "source": [
                "Queremos sacar, particionado por cliente"
            ],
            "metadata": {
                "azdata_cell_guid": "fe62a62b-28b1-4399-b3ab-a8a42f0ae3d6"
            },
            "attachments": {}
        },
        {
            "cell_type": "code",
            "source": [
                "SELECT TOP 100 *,\r\n",
                "    CASE WHEN CANTIDAD >= 3 THEN 'S' ELSE 'N' END AS MAS_2_ENSALADAS,\r\n",
                "    SUM(CASE WHEN CANTIDAD >= 3 THEN 1 ELSE 0 END) OVER(PARTITION BY CLIENTE_ID\r\n",
                "    ORDER BY MES_ID,PRODUCTO_ID\r\n",
                "    RANGE BETWEEN UNBOUNDED PRECEDING AND CURRENT ROW\r\n",
                "    ) AS ACUMULADO\r\n",
                "FROM NSLDINA.DBO.FACT_VENTA"
            ],
            "metadata": {
                "azdata_cell_guid": "171bbd56-b044-467f-93aa-82d3fe5a93be",
                "tags": []
            },
            "outputs": [
                {
                    "output_type": "display_data",
                    "data": {
                        "text/html": "(100 rows affected)"
                    },
                    "metadata": {}
                },
                {
                    "output_type": "display_data",
                    "data": {
                        "text/html": "Total execution time: 00:00:00.061"
                    },
                    "metadata": {}
                },
                {
                    "output_type": "execute_result",
                    "metadata": {},
                    "execution_count": 19,
                    "data": {
                        "application/vnd.dataresource+json": {
                            "schema": {
                                "fields": [
                                    {
                                        "name": "CLIENTE_ID"
                                    },
                                    {
                                        "name": "MES_ID"
                                    },
                                    {
                                        "name": "PRODUCTO_ID"
                                    },
                                    {
                                        "name": "CANTIDAD"
                                    },
                                    {
                                        "name": "MAS_2_ENSALADAS"
                                    },
                                    {
                                        "name": "ACUMULADO"
                                    }
                                ]
                            },
                            "data": [
                                {
                                    "0": "Cliente - 001",
                                    "1": "201908",
                                    "2": "Ensalada - 01",
                                    "3": "3",
                                    "4": "S",
                                    "5": "1"
                                },
                                {
                                    "0": "Cliente - 001",
                                    "1": "201908",
                                    "2": "Ensalada - 04",
                                    "3": "3",
                                    "4": "S",
                                    "5": "2"
                                },
                                {
                                    "0": "Cliente - 001",
                                    "1": "201908",
                                    "2": "Ensalada - 05",
                                    "3": "2",
                                    "4": "N",
                                    "5": "2"
                                },
                                {
                                    "0": "Cliente - 001",
                                    "1": "201908",
                                    "2": "Ensalada - 08",
                                    "3": "2",
                                    "4": "N",
                                    "5": "2"
                                },
                                {
                                    "0": "Cliente - 001",
                                    "1": "201908",
                                    "2": "Ensalada - 09",
                                    "3": "2",
                                    "4": "N",
                                    "5": "2"
                                },
                                {
                                    "0": "Cliente - 001",
                                    "1": "201908",
                                    "2": "Ensalada - 12",
                                    "3": "2",
                                    "4": "N",
                                    "5": "2"
                                },
                                {
                                    "0": "Cliente - 001",
                                    "1": "201908",
                                    "2": "Ensalada - 15",
                                    "3": "3",
                                    "4": "S",
                                    "5": "3"
                                },
                                {
                                    "0": "Cliente - 001",
                                    "1": "201909",
                                    "2": "Ensalada - 02",
                                    "3": "1",
                                    "4": "N",
                                    "5": "3"
                                },
                                {
                                    "0": "Cliente - 001",
                                    "1": "201909",
                                    "2": "Ensalada - 07",
                                    "3": "1",
                                    "4": "N",
                                    "5": "3"
                                },
                                {
                                    "0": "Cliente - 001",
                                    "1": "201909",
                                    "2": "Ensalada - 08",
                                    "3": "1",
                                    "4": "N",
                                    "5": "3"
                                },
                                {
                                    "0": "Cliente - 001",
                                    "1": "201909",
                                    "2": "Ensalada - 09",
                                    "3": "3",
                                    "4": "S",
                                    "5": "4"
                                },
                                {
                                    "0": "Cliente - 001",
                                    "1": "201909",
                                    "2": "Ensalada - 10",
                                    "3": "1",
                                    "4": "N",
                                    "5": "4"
                                },
                                {
                                    "0": "Cliente - 001",
                                    "1": "201909",
                                    "2": "Ensalada - 12",
                                    "3": "3",
                                    "4": "S",
                                    "5": "5"
                                },
                                {
                                    "0": "Cliente - 001",
                                    "1": "201909",
                                    "2": "Ensalada - 15",
                                    "3": "2",
                                    "4": "N",
                                    "5": "5"
                                },
                                {
                                    "0": "Cliente - 001",
                                    "1": "201910",
                                    "2": "Ensalada - 02",
                                    "3": "1",
                                    "4": "N",
                                    "5": "5"
                                },
                                {
                                    "0": "Cliente - 001",
                                    "1": "201910",
                                    "2": "Ensalada - 07",
                                    "3": "2",
                                    "4": "N",
                                    "5": "5"
                                },
                                {
                                    "0": "Cliente - 001",
                                    "1": "201910",
                                    "2": "Ensalada - 12",
                                    "3": "1",
                                    "4": "N",
                                    "5": "5"
                                },
                                {
                                    "0": "Cliente - 001",
                                    "1": "201910",
                                    "2": "Ensalada - 14",
                                    "3": "2",
                                    "4": "N",
                                    "5": "5"
                                },
                                {
                                    "0": "Cliente - 001",
                                    "1": "201910",
                                    "2": "Ensalada - 15",
                                    "3": "1",
                                    "4": "N",
                                    "5": "5"
                                },
                                {
                                    "0": "Cliente - 001",
                                    "1": "201911",
                                    "2": "Ensalada - 05",
                                    "3": "4",
                                    "4": "S",
                                    "5": "6"
                                },
                                {
                                    "0": "Cliente - 001",
                                    "1": "201911",
                                    "2": "Ensalada - 08",
                                    "3": "1",
                                    "4": "N",
                                    "5": "6"
                                },
                                {
                                    "0": "Cliente - 001",
                                    "1": "201911",
                                    "2": "Ensalada - 09",
                                    "3": "1",
                                    "4": "N",
                                    "5": "6"
                                },
                                {
                                    "0": "Cliente - 001",
                                    "1": "201911",
                                    "2": "Ensalada - 10",
                                    "3": "1",
                                    "4": "N",
                                    "5": "6"
                                },
                                {
                                    "0": "Cliente - 001",
                                    "1": "201911",
                                    "2": "Ensalada - 11",
                                    "3": "1",
                                    "4": "N",
                                    "5": "6"
                                },
                                {
                                    "0": "Cliente - 001",
                                    "1": "201911",
                                    "2": "Ensalada - 12",
                                    "3": "1",
                                    "4": "N",
                                    "5": "6"
                                },
                                {
                                    "0": "Cliente - 001",
                                    "1": "201911",
                                    "2": "Ensalada - 15",
                                    "3": "1",
                                    "4": "N",
                                    "5": "6"
                                },
                                {
                                    "0": "Cliente - 001",
                                    "1": "201912",
                                    "2": "Ensalada - 01",
                                    "3": "1",
                                    "4": "N",
                                    "5": "6"
                                },
                                {
                                    "0": "Cliente - 001",
                                    "1": "201912",
                                    "2": "Ensalada - 05",
                                    "3": "4",
                                    "4": "S",
                                    "5": "7"
                                },
                                {
                                    "0": "Cliente - 001",
                                    "1": "201912",
                                    "2": "Ensalada - 08",
                                    "3": "2",
                                    "4": "N",
                                    "5": "7"
                                },
                                {
                                    "0": "Cliente - 001",
                                    "1": "201912",
                                    "2": "Ensalada - 13",
                                    "3": "2",
                                    "4": "N",
                                    "5": "7"
                                },
                                {
                                    "0": "Cliente - 001",
                                    "1": "201912",
                                    "2": "Ensalada - 15",
                                    "3": "2",
                                    "4": "N",
                                    "5": "7"
                                },
                                {
                                    "0": "Cliente - 001",
                                    "1": "202001",
                                    "2": "Ensalada - 04",
                                    "3": "1",
                                    "4": "N",
                                    "5": "7"
                                },
                                {
                                    "0": "Cliente - 001",
                                    "1": "202001",
                                    "2": "Ensalada - 07",
                                    "3": "2",
                                    "4": "N",
                                    "5": "7"
                                },
                                {
                                    "0": "Cliente - 001",
                                    "1": "202001",
                                    "2": "Ensalada - 08",
                                    "3": "1",
                                    "4": "N",
                                    "5": "7"
                                },
                                {
                                    "0": "Cliente - 001",
                                    "1": "202001",
                                    "2": "Ensalada - 09",
                                    "3": "3",
                                    "4": "S",
                                    "5": "8"
                                },
                                {
                                    "0": "Cliente - 001",
                                    "1": "202001",
                                    "2": "Ensalada - 10",
                                    "3": "1",
                                    "4": "N",
                                    "5": "8"
                                },
                                {
                                    "0": "Cliente - 001",
                                    "1": "202001",
                                    "2": "Ensalada - 12",
                                    "3": "3",
                                    "4": "S",
                                    "5": "9"
                                },
                                {
                                    "0": "Cliente - 001",
                                    "1": "202001",
                                    "2": "Ensalada - 14",
                                    "3": "3",
                                    "4": "S",
                                    "5": "10"
                                },
                                {
                                    "0": "Cliente - 001",
                                    "1": "202001",
                                    "2": "Ensalada - 15",
                                    "3": "1",
                                    "4": "N",
                                    "5": "10"
                                },
                                {
                                    "0": "Cliente - 001",
                                    "1": "202002",
                                    "2": "Ensalada - 01",
                                    "3": "2",
                                    "4": "N",
                                    "5": "10"
                                },
                                {
                                    "0": "Cliente - 001",
                                    "1": "202002",
                                    "2": "Ensalada - 05",
                                    "3": "3",
                                    "4": "S",
                                    "5": "11"
                                },
                                {
                                    "0": "Cliente - 001",
                                    "1": "202002",
                                    "2": "Ensalada - 08",
                                    "3": "2",
                                    "4": "N",
                                    "5": "11"
                                },
                                {
                                    "0": "Cliente - 001",
                                    "1": "202002",
                                    "2": "Ensalada - 10",
                                    "3": "2",
                                    "4": "N",
                                    "5": "11"
                                },
                                {
                                    "0": "Cliente - 001",
                                    "1": "202002",
                                    "2": "Ensalada - 12",
                                    "3": "2",
                                    "4": "N",
                                    "5": "11"
                                },
                                {
                                    "0": "Cliente - 001",
                                    "1": "202002",
                                    "2": "Ensalada - 13",
                                    "3": "2",
                                    "4": "N",
                                    "5": "11"
                                },
                                {
                                    "0": "Cliente - 001",
                                    "1": "202002",
                                    "2": "Ensalada - 14",
                                    "3": "3",
                                    "4": "S",
                                    "5": "12"
                                },
                                {
                                    "0": "Cliente - 001",
                                    "1": "202002",
                                    "2": "Ensalada - 15",
                                    "3": "2",
                                    "4": "N",
                                    "5": "12"
                                },
                                {
                                    "0": "Cliente - 001",
                                    "1": "202003",
                                    "2": "Ensalada - 01",
                                    "3": "2",
                                    "4": "N",
                                    "5": "12"
                                },
                                {
                                    "0": "Cliente - 001",
                                    "1": "202003",
                                    "2": "Ensalada - 02",
                                    "3": "2",
                                    "4": "N",
                                    "5": "12"
                                },
                                {
                                    "0": "Cliente - 001",
                                    "1": "202003",
                                    "2": "Ensalada - 05",
                                    "3": "2",
                                    "4": "N",
                                    "5": "12"
                                },
                                {
                                    "0": "Cliente - 001",
                                    "1": "202003",
                                    "2": "Ensalada - 09",
                                    "3": "3",
                                    "4": "S",
                                    "5": "13"
                                },
                                {
                                    "0": "Cliente - 001",
                                    "1": "202003",
                                    "2": "Ensalada - 12",
                                    "3": "3",
                                    "4": "S",
                                    "5": "14"
                                },
                                {
                                    "0": "Cliente - 001",
                                    "1": "202003",
                                    "2": "Ensalada - 14",
                                    "3": "2",
                                    "4": "N",
                                    "5": "14"
                                },
                                {
                                    "0": "Cliente - 001",
                                    "1": "202003",
                                    "2": "Ensalada - 15",
                                    "3": "2",
                                    "4": "N",
                                    "5": "14"
                                },
                                {
                                    "0": "Cliente - 001",
                                    "1": "202004",
                                    "2": "Ensalada - 02",
                                    "3": "3",
                                    "4": "S",
                                    "5": "15"
                                },
                                {
                                    "0": "Cliente - 001",
                                    "1": "202004",
                                    "2": "Ensalada - 08",
                                    "3": "2",
                                    "4": "N",
                                    "5": "15"
                                },
                                {
                                    "0": "Cliente - 001",
                                    "1": "202004",
                                    "2": "Ensalada - 09",
                                    "3": "2",
                                    "4": "N",
                                    "5": "15"
                                },
                                {
                                    "0": "Cliente - 001",
                                    "1": "202004",
                                    "2": "Ensalada - 12",
                                    "3": "3",
                                    "4": "S",
                                    "5": "16"
                                },
                                {
                                    "0": "Cliente - 001",
                                    "1": "202004",
                                    "2": "Ensalada - 14",
                                    "3": "2",
                                    "4": "N",
                                    "5": "16"
                                },
                                {
                                    "0": "Cliente - 002",
                                    "1": "202003",
                                    "2": "Ensalada - 08",
                                    "3": "5",
                                    "4": "S",
                                    "5": "1"
                                },
                                {
                                    "0": "Cliente - 002",
                                    "1": "202003",
                                    "2": "Ensalada - 11",
                                    "3": "2",
                                    "4": "N",
                                    "5": "1"
                                },
                                {
                                    "0": "Cliente - 002",
                                    "1": "202003",
                                    "2": "Ensalada - 15",
                                    "3": "2",
                                    "4": "N",
                                    "5": "1"
                                },
                                {
                                    "0": "Cliente - 002",
                                    "1": "202004",
                                    "2": "Ensalada - 08",
                                    "3": "3",
                                    "4": "S",
                                    "5": "2"
                                },
                                {
                                    "0": "Cliente - 002",
                                    "1": "202004",
                                    "2": "Ensalada - 11",
                                    "3": "2",
                                    "4": "N",
                                    "5": "2"
                                },
                                {
                                    "0": "Cliente - 002",
                                    "1": "202004",
                                    "2": "Ensalada - 12",
                                    "3": "3",
                                    "4": "S",
                                    "5": "3"
                                },
                                {
                                    "0": "Cliente - 002",
                                    "1": "202004",
                                    "2": "Ensalada - 14",
                                    "3": "2",
                                    "4": "N",
                                    "5": "3"
                                },
                                {
                                    "0": "Cliente - 003",
                                    "1": "201909",
                                    "2": "Ensalada - 01",
                                    "3": "2",
                                    "4": "N",
                                    "5": "0"
                                },
                                {
                                    "0": "Cliente - 003",
                                    "1": "201909",
                                    "2": "Ensalada - 08",
                                    "3": "2",
                                    "4": "N",
                                    "5": "0"
                                },
                                {
                                    "0": "Cliente - 003",
                                    "1": "201909",
                                    "2": "Ensalada - 09",
                                    "3": "1",
                                    "4": "N",
                                    "5": "0"
                                },
                                {
                                    "0": "Cliente - 003",
                                    "1": "201909",
                                    "2": "Ensalada - 10",
                                    "3": "1",
                                    "4": "N",
                                    "5": "0"
                                },
                                {
                                    "0": "Cliente - 003",
                                    "1": "201909",
                                    "2": "Ensalada - 11",
                                    "3": "1",
                                    "4": "N",
                                    "5": "0"
                                },
                                {
                                    "0": "Cliente - 003",
                                    "1": "201909",
                                    "2": "Ensalada - 12",
                                    "3": "2",
                                    "4": "N",
                                    "5": "0"
                                },
                                {
                                    "0": "Cliente - 003",
                                    "1": "201909",
                                    "2": "Ensalada - 13",
                                    "3": "1",
                                    "4": "N",
                                    "5": "0"
                                },
                                {
                                    "0": "Cliente - 003",
                                    "1": "201909",
                                    "2": "Ensalada - 14",
                                    "3": "1",
                                    "4": "N",
                                    "5": "0"
                                },
                                {
                                    "0": "Cliente - 003",
                                    "1": "201909",
                                    "2": "Ensalada - 15",
                                    "3": "1",
                                    "4": "N",
                                    "5": "0"
                                },
                                {
                                    "0": "Cliente - 003",
                                    "1": "201910",
                                    "2": "Ensalada - 02",
                                    "3": "1",
                                    "4": "N",
                                    "5": "0"
                                },
                                {
                                    "0": "Cliente - 003",
                                    "1": "201910",
                                    "2": "Ensalada - 07",
                                    "3": "1",
                                    "4": "N",
                                    "5": "0"
                                },
                                {
                                    "0": "Cliente - 003",
                                    "1": "201910",
                                    "2": "Ensalada - 08",
                                    "3": "3",
                                    "4": "S",
                                    "5": "1"
                                },
                                {
                                    "0": "Cliente - 003",
                                    "1": "201910",
                                    "2": "Ensalada - 09",
                                    "3": "3",
                                    "4": "S",
                                    "5": "2"
                                },
                                {
                                    "0": "Cliente - 003",
                                    "1": "201910",
                                    "2": "Ensalada - 10",
                                    "3": "1",
                                    "4": "N",
                                    "5": "2"
                                },
                                {
                                    "0": "Cliente - 003",
                                    "1": "201910",
                                    "2": "Ensalada - 12",
                                    "3": "1",
                                    "4": "N",
                                    "5": "2"
                                },
                                {
                                    "0": "Cliente - 003",
                                    "1": "201910",
                                    "2": "Ensalada - 14",
                                    "3": "2",
                                    "4": "N",
                                    "5": "2"
                                },
                                {
                                    "0": "Cliente - 003",
                                    "1": "201911",
                                    "2": "Ensalada - 01",
                                    "3": "1",
                                    "4": "N",
                                    "5": "2"
                                },
                                {
                                    "0": "Cliente - 003",
                                    "1": "201911",
                                    "2": "Ensalada - 04",
                                    "3": "1",
                                    "4": "N",
                                    "5": "2"
                                },
                                {
                                    "0": "Cliente - 003",
                                    "1": "201911",
                                    "2": "Ensalada - 07",
                                    "3": "1",
                                    "4": "N",
                                    "5": "2"
                                },
                                {
                                    "0": "Cliente - 003",
                                    "1": "201911",
                                    "2": "Ensalada - 08",
                                    "3": "2",
                                    "4": "N",
                                    "5": "2"
                                },
                                {
                                    "0": "Cliente - 003",
                                    "1": "201911",
                                    "2": "Ensalada - 09",
                                    "3": "2",
                                    "4": "N",
                                    "5": "2"
                                },
                                {
                                    "0": "Cliente - 003",
                                    "1": "201911",
                                    "2": "Ensalada - 11",
                                    "3": "2",
                                    "4": "N",
                                    "5": "2"
                                },
                                {
                                    "0": "Cliente - 003",
                                    "1": "201911",
                                    "2": "Ensalada - 12",
                                    "3": "1",
                                    "4": "N",
                                    "5": "2"
                                },
                                {
                                    "0": "Cliente - 003",
                                    "1": "201911",
                                    "2": "Ensalada - 15",
                                    "3": "2",
                                    "4": "N",
                                    "5": "2"
                                },
                                {
                                    "0": "Cliente - 003",
                                    "1": "201912",
                                    "2": "Ensalada - 04",
                                    "3": "1",
                                    "4": "N",
                                    "5": "2"
                                },
                                {
                                    "0": "Cliente - 003",
                                    "1": "201912",
                                    "2": "Ensalada - 05",
                                    "3": "1",
                                    "4": "N",
                                    "5": "2"
                                },
                                {
                                    "0": "Cliente - 003",
                                    "1": "201912",
                                    "2": "Ensalada - 07",
                                    "3": "2",
                                    "4": "N",
                                    "5": "2"
                                },
                                {
                                    "0": "Cliente - 003",
                                    "1": "201912",
                                    "2": "Ensalada - 08",
                                    "3": "2",
                                    "4": "N",
                                    "5": "2"
                                },
                                {
                                    "0": "Cliente - 003",
                                    "1": "201912",
                                    "2": "Ensalada - 09",
                                    "3": "1",
                                    "4": "N",
                                    "5": "2"
                                },
                                {
                                    "0": "Cliente - 003",
                                    "1": "201912",
                                    "2": "Ensalada - 11",
                                    "3": "1",
                                    "4": "N",
                                    "5": "2"
                                },
                                {
                                    "0": "Cliente - 003",
                                    "1": "201912",
                                    "2": "Ensalada - 12",
                                    "3": "3",
                                    "4": "S",
                                    "5": "3"
                                },
                                {
                                    "0": "Cliente - 003",
                                    "1": "201912",
                                    "2": "Ensalada - 14",
                                    "3": "1",
                                    "4": "N",
                                    "5": "3"
                                },
                                {
                                    "0": "Cliente - 003",
                                    "1": "202001",
                                    "2": "Ensalada - 02",
                                    "3": "1",
                                    "4": "N",
                                    "5": "3"
                                },
                                {
                                    "0": "Cliente - 003",
                                    "1": "202001",
                                    "2": "Ensalada - 07",
                                    "3": "1",
                                    "4": "N",
                                    "5": "3"
                                }
                            ]
                        },
                        "text/html": [
                            "<table>",
                            "<tr><th>CLIENTE_ID</th><th>MES_ID</th><th>PRODUCTO_ID</th><th>CANTIDAD</th><th>MAS_2_ENSALADAS</th><th>ACUMULADO</th></tr>",
                            "<tr><td>Cliente - 001</td><td>201908</td><td>Ensalada - 01</td><td>3</td><td>S</td><td>1</td></tr>",
                            "<tr><td>Cliente - 001</td><td>201908</td><td>Ensalada - 04</td><td>3</td><td>S</td><td>2</td></tr>",
                            "<tr><td>Cliente - 001</td><td>201908</td><td>Ensalada - 05</td><td>2</td><td>N</td><td>2</td></tr>",
                            "<tr><td>Cliente - 001</td><td>201908</td><td>Ensalada - 08</td><td>2</td><td>N</td><td>2</td></tr>",
                            "<tr><td>Cliente - 001</td><td>201908</td><td>Ensalada - 09</td><td>2</td><td>N</td><td>2</td></tr>",
                            "<tr><td>Cliente - 001</td><td>201908</td><td>Ensalada - 12</td><td>2</td><td>N</td><td>2</td></tr>",
                            "<tr><td>Cliente - 001</td><td>201908</td><td>Ensalada - 15</td><td>3</td><td>S</td><td>3</td></tr>",
                            "<tr><td>Cliente - 001</td><td>201909</td><td>Ensalada - 02</td><td>1</td><td>N</td><td>3</td></tr>",
                            "<tr><td>Cliente - 001</td><td>201909</td><td>Ensalada - 07</td><td>1</td><td>N</td><td>3</td></tr>",
                            "<tr><td>Cliente - 001</td><td>201909</td><td>Ensalada - 08</td><td>1</td><td>N</td><td>3</td></tr>",
                            "<tr><td>Cliente - 001</td><td>201909</td><td>Ensalada - 09</td><td>3</td><td>S</td><td>4</td></tr>",
                            "<tr><td>Cliente - 001</td><td>201909</td><td>Ensalada - 10</td><td>1</td><td>N</td><td>4</td></tr>",
                            "<tr><td>Cliente - 001</td><td>201909</td><td>Ensalada - 12</td><td>3</td><td>S</td><td>5</td></tr>",
                            "<tr><td>Cliente - 001</td><td>201909</td><td>Ensalada - 15</td><td>2</td><td>N</td><td>5</td></tr>",
                            "<tr><td>Cliente - 001</td><td>201910</td><td>Ensalada - 02</td><td>1</td><td>N</td><td>5</td></tr>",
                            "<tr><td>Cliente - 001</td><td>201910</td><td>Ensalada - 07</td><td>2</td><td>N</td><td>5</td></tr>",
                            "<tr><td>Cliente - 001</td><td>201910</td><td>Ensalada - 12</td><td>1</td><td>N</td><td>5</td></tr>",
                            "<tr><td>Cliente - 001</td><td>201910</td><td>Ensalada - 14</td><td>2</td><td>N</td><td>5</td></tr>",
                            "<tr><td>Cliente - 001</td><td>201910</td><td>Ensalada - 15</td><td>1</td><td>N</td><td>5</td></tr>",
                            "<tr><td>Cliente - 001</td><td>201911</td><td>Ensalada - 05</td><td>4</td><td>S</td><td>6</td></tr>",
                            "<tr><td>Cliente - 001</td><td>201911</td><td>Ensalada - 08</td><td>1</td><td>N</td><td>6</td></tr>",
                            "<tr><td>Cliente - 001</td><td>201911</td><td>Ensalada - 09</td><td>1</td><td>N</td><td>6</td></tr>",
                            "<tr><td>Cliente - 001</td><td>201911</td><td>Ensalada - 10</td><td>1</td><td>N</td><td>6</td></tr>",
                            "<tr><td>Cliente - 001</td><td>201911</td><td>Ensalada - 11</td><td>1</td><td>N</td><td>6</td></tr>",
                            "<tr><td>Cliente - 001</td><td>201911</td><td>Ensalada - 12</td><td>1</td><td>N</td><td>6</td></tr>",
                            "<tr><td>Cliente - 001</td><td>201911</td><td>Ensalada - 15</td><td>1</td><td>N</td><td>6</td></tr>",
                            "<tr><td>Cliente - 001</td><td>201912</td><td>Ensalada - 01</td><td>1</td><td>N</td><td>6</td></tr>",
                            "<tr><td>Cliente - 001</td><td>201912</td><td>Ensalada - 05</td><td>4</td><td>S</td><td>7</td></tr>",
                            "<tr><td>Cliente - 001</td><td>201912</td><td>Ensalada - 08</td><td>2</td><td>N</td><td>7</td></tr>",
                            "<tr><td>Cliente - 001</td><td>201912</td><td>Ensalada - 13</td><td>2</td><td>N</td><td>7</td></tr>",
                            "<tr><td>Cliente - 001</td><td>201912</td><td>Ensalada - 15</td><td>2</td><td>N</td><td>7</td></tr>",
                            "<tr><td>Cliente - 001</td><td>202001</td><td>Ensalada - 04</td><td>1</td><td>N</td><td>7</td></tr>",
                            "<tr><td>Cliente - 001</td><td>202001</td><td>Ensalada - 07</td><td>2</td><td>N</td><td>7</td></tr>",
                            "<tr><td>Cliente - 001</td><td>202001</td><td>Ensalada - 08</td><td>1</td><td>N</td><td>7</td></tr>",
                            "<tr><td>Cliente - 001</td><td>202001</td><td>Ensalada - 09</td><td>3</td><td>S</td><td>8</td></tr>",
                            "<tr><td>Cliente - 001</td><td>202001</td><td>Ensalada - 10</td><td>1</td><td>N</td><td>8</td></tr>",
                            "<tr><td>Cliente - 001</td><td>202001</td><td>Ensalada - 12</td><td>3</td><td>S</td><td>9</td></tr>",
                            "<tr><td>Cliente - 001</td><td>202001</td><td>Ensalada - 14</td><td>3</td><td>S</td><td>10</td></tr>",
                            "<tr><td>Cliente - 001</td><td>202001</td><td>Ensalada - 15</td><td>1</td><td>N</td><td>10</td></tr>",
                            "<tr><td>Cliente - 001</td><td>202002</td><td>Ensalada - 01</td><td>2</td><td>N</td><td>10</td></tr>",
                            "<tr><td>Cliente - 001</td><td>202002</td><td>Ensalada - 05</td><td>3</td><td>S</td><td>11</td></tr>",
                            "<tr><td>Cliente - 001</td><td>202002</td><td>Ensalada - 08</td><td>2</td><td>N</td><td>11</td></tr>",
                            "<tr><td>Cliente - 001</td><td>202002</td><td>Ensalada - 10</td><td>2</td><td>N</td><td>11</td></tr>",
                            "<tr><td>Cliente - 001</td><td>202002</td><td>Ensalada - 12</td><td>2</td><td>N</td><td>11</td></tr>",
                            "<tr><td>Cliente - 001</td><td>202002</td><td>Ensalada - 13</td><td>2</td><td>N</td><td>11</td></tr>",
                            "<tr><td>Cliente - 001</td><td>202002</td><td>Ensalada - 14</td><td>3</td><td>S</td><td>12</td></tr>",
                            "<tr><td>Cliente - 001</td><td>202002</td><td>Ensalada - 15</td><td>2</td><td>N</td><td>12</td></tr>",
                            "<tr><td>Cliente - 001</td><td>202003</td><td>Ensalada - 01</td><td>2</td><td>N</td><td>12</td></tr>",
                            "<tr><td>Cliente - 001</td><td>202003</td><td>Ensalada - 02</td><td>2</td><td>N</td><td>12</td></tr>",
                            "<tr><td>Cliente - 001</td><td>202003</td><td>Ensalada - 05</td><td>2</td><td>N</td><td>12</td></tr>",
                            "<tr><td>Cliente - 001</td><td>202003</td><td>Ensalada - 09</td><td>3</td><td>S</td><td>13</td></tr>",
                            "<tr><td>Cliente - 001</td><td>202003</td><td>Ensalada - 12</td><td>3</td><td>S</td><td>14</td></tr>",
                            "<tr><td>Cliente - 001</td><td>202003</td><td>Ensalada - 14</td><td>2</td><td>N</td><td>14</td></tr>",
                            "<tr><td>Cliente - 001</td><td>202003</td><td>Ensalada - 15</td><td>2</td><td>N</td><td>14</td></tr>",
                            "<tr><td>Cliente - 001</td><td>202004</td><td>Ensalada - 02</td><td>3</td><td>S</td><td>15</td></tr>",
                            "<tr><td>Cliente - 001</td><td>202004</td><td>Ensalada - 08</td><td>2</td><td>N</td><td>15</td></tr>",
                            "<tr><td>Cliente - 001</td><td>202004</td><td>Ensalada - 09</td><td>2</td><td>N</td><td>15</td></tr>",
                            "<tr><td>Cliente - 001</td><td>202004</td><td>Ensalada - 12</td><td>3</td><td>S</td><td>16</td></tr>",
                            "<tr><td>Cliente - 001</td><td>202004</td><td>Ensalada - 14</td><td>2</td><td>N</td><td>16</td></tr>",
                            "<tr><td>Cliente - 002</td><td>202003</td><td>Ensalada - 08</td><td>5</td><td>S</td><td>1</td></tr>",
                            "<tr><td>Cliente - 002</td><td>202003</td><td>Ensalada - 11</td><td>2</td><td>N</td><td>1</td></tr>",
                            "<tr><td>Cliente - 002</td><td>202003</td><td>Ensalada - 15</td><td>2</td><td>N</td><td>1</td></tr>",
                            "<tr><td>Cliente - 002</td><td>202004</td><td>Ensalada - 08</td><td>3</td><td>S</td><td>2</td></tr>",
                            "<tr><td>Cliente - 002</td><td>202004</td><td>Ensalada - 11</td><td>2</td><td>N</td><td>2</td></tr>",
                            "<tr><td>Cliente - 002</td><td>202004</td><td>Ensalada - 12</td><td>3</td><td>S</td><td>3</td></tr>",
                            "<tr><td>Cliente - 002</td><td>202004</td><td>Ensalada - 14</td><td>2</td><td>N</td><td>3</td></tr>",
                            "<tr><td>Cliente - 003</td><td>201909</td><td>Ensalada - 01</td><td>2</td><td>N</td><td>0</td></tr>",
                            "<tr><td>Cliente - 003</td><td>201909</td><td>Ensalada - 08</td><td>2</td><td>N</td><td>0</td></tr>",
                            "<tr><td>Cliente - 003</td><td>201909</td><td>Ensalada - 09</td><td>1</td><td>N</td><td>0</td></tr>",
                            "<tr><td>Cliente - 003</td><td>201909</td><td>Ensalada - 10</td><td>1</td><td>N</td><td>0</td></tr>",
                            "<tr><td>Cliente - 003</td><td>201909</td><td>Ensalada - 11</td><td>1</td><td>N</td><td>0</td></tr>",
                            "<tr><td>Cliente - 003</td><td>201909</td><td>Ensalada - 12</td><td>2</td><td>N</td><td>0</td></tr>",
                            "<tr><td>Cliente - 003</td><td>201909</td><td>Ensalada - 13</td><td>1</td><td>N</td><td>0</td></tr>",
                            "<tr><td>Cliente - 003</td><td>201909</td><td>Ensalada - 14</td><td>1</td><td>N</td><td>0</td></tr>",
                            "<tr><td>Cliente - 003</td><td>201909</td><td>Ensalada - 15</td><td>1</td><td>N</td><td>0</td></tr>",
                            "<tr><td>Cliente - 003</td><td>201910</td><td>Ensalada - 02</td><td>1</td><td>N</td><td>0</td></tr>",
                            "<tr><td>Cliente - 003</td><td>201910</td><td>Ensalada - 07</td><td>1</td><td>N</td><td>0</td></tr>",
                            "<tr><td>Cliente - 003</td><td>201910</td><td>Ensalada - 08</td><td>3</td><td>S</td><td>1</td></tr>",
                            "<tr><td>Cliente - 003</td><td>201910</td><td>Ensalada - 09</td><td>3</td><td>S</td><td>2</td></tr>",
                            "<tr><td>Cliente - 003</td><td>201910</td><td>Ensalada - 10</td><td>1</td><td>N</td><td>2</td></tr>",
                            "<tr><td>Cliente - 003</td><td>201910</td><td>Ensalada - 12</td><td>1</td><td>N</td><td>2</td></tr>",
                            "<tr><td>Cliente - 003</td><td>201910</td><td>Ensalada - 14</td><td>2</td><td>N</td><td>2</td></tr>",
                            "<tr><td>Cliente - 003</td><td>201911</td><td>Ensalada - 01</td><td>1</td><td>N</td><td>2</td></tr>",
                            "<tr><td>Cliente - 003</td><td>201911</td><td>Ensalada - 04</td><td>1</td><td>N</td><td>2</td></tr>",
                            "<tr><td>Cliente - 003</td><td>201911</td><td>Ensalada - 07</td><td>1</td><td>N</td><td>2</td></tr>",
                            "<tr><td>Cliente - 003</td><td>201911</td><td>Ensalada - 08</td><td>2</td><td>N</td><td>2</td></tr>",
                            "<tr><td>Cliente - 003</td><td>201911</td><td>Ensalada - 09</td><td>2</td><td>N</td><td>2</td></tr>",
                            "<tr><td>Cliente - 003</td><td>201911</td><td>Ensalada - 11</td><td>2</td><td>N</td><td>2</td></tr>",
                            "<tr><td>Cliente - 003</td><td>201911</td><td>Ensalada - 12</td><td>1</td><td>N</td><td>2</td></tr>",
                            "<tr><td>Cliente - 003</td><td>201911</td><td>Ensalada - 15</td><td>2</td><td>N</td><td>2</td></tr>",
                            "<tr><td>Cliente - 003</td><td>201912</td><td>Ensalada - 04</td><td>1</td><td>N</td><td>2</td></tr>",
                            "<tr><td>Cliente - 003</td><td>201912</td><td>Ensalada - 05</td><td>1</td><td>N</td><td>2</td></tr>",
                            "<tr><td>Cliente - 003</td><td>201912</td><td>Ensalada - 07</td><td>2</td><td>N</td><td>2</td></tr>",
                            "<tr><td>Cliente - 003</td><td>201912</td><td>Ensalada - 08</td><td>2</td><td>N</td><td>2</td></tr>",
                            "<tr><td>Cliente - 003</td><td>201912</td><td>Ensalada - 09</td><td>1</td><td>N</td><td>2</td></tr>",
                            "<tr><td>Cliente - 003</td><td>201912</td><td>Ensalada - 11</td><td>1</td><td>N</td><td>2</td></tr>",
                            "<tr><td>Cliente - 003</td><td>201912</td><td>Ensalada - 12</td><td>3</td><td>S</td><td>3</td></tr>",
                            "<tr><td>Cliente - 003</td><td>201912</td><td>Ensalada - 14</td><td>1</td><td>N</td><td>3</td></tr>",
                            "<tr><td>Cliente - 003</td><td>202001</td><td>Ensalada - 02</td><td>1</td><td>N</td><td>3</td></tr>",
                            "<tr><td>Cliente - 003</td><td>202001</td><td>Ensalada - 07</td><td>1</td><td>N</td><td>3</td></tr>",
                            "</table>"
                        ]
                    }
                }
            ],
            "execution_count": 19
        }
    ]
}