{
    "metadata": {
        "kernelspec": {
            "name": "SQL",
            "display_name": "SQL",
            "language": "sql"
        },
        "language_info": {
            "name": "sql",
            "version": ""
        },
        "extensions": {
            "azuredatastudio": {
                "version": 1,
                "views": []
            }
        }
    },
    "nbformat_minor": 2,
    "nbformat": 4,
    "cells": [
        {
            "cell_type": "markdown",
            "source": [
                "**EJERCICIOS DE REPASO**"
            ],
            "metadata": {
                "azdata_cell_guid": "25ca4b5d-0a12-4746-9157-8db5216487ad"
            },
            "attachments": {}
        },
        {
            "cell_type": "markdown",
            "source": [
                "**1 - Select**"
            ],
            "metadata": {
                "azdata_cell_guid": "708a7617-aff7-4aa0-952f-ac5f722b1458"
            },
            "attachments": {}
        },
        {
            "cell_type": "markdown",
            "source": [
                "## <mark><mark>Ejercicio</mark></mark> 2[]()\n",
                "\n",
                "Después de revisarlo un poco, Gonzalo nos indica que debemos eliminar el IVA para poder tener una estimación de beneficio real.\n",
                "\n",
                "Partiendo de la tabla DATOS\\_BASE, obtén el identificador de pedido, el importe total pagado, el importe sin IVA, el IVA y el margen esperado sabiendo que es un 30% del importe sin IVA. El tipo de IVA para todos los artículos es de un 21%."
            ],
            "metadata": {
                "azdata_cell_guid": "58dbb0ec-dd56-4d3c-8244-a1b83f958b0b"
            },
            "attachments": {}
        },
        {
            "cell_type": "code",
            "source": [
                "SELECT TOP 10 PEDIDO_ID, INGRESOS_EUR AS 'IMPORTE TOTAL', INGRESOS_EUR/1.21 AS 'BASE', (INGRESOS_EUR/1.21)*0.21 AS 'IVA', ((INGRESOS_EUR/1.21)*0.21)*0.30 AS 'MARGEN'\r\n",
                "FROM NEMINA.dbo.DATOS_BASE"
            ],
            "metadata": {
                "azdata_cell_guid": "4ec13e39-fd39-4cb4-9ec8-f46844612df6",
                "tags": []
            },
            "outputs": [
                {
                    "output_type": "display_data",
                    "data": {
                        "text/html": "(10 rows affected)"
                    },
                    "metadata": {}
                },
                {
                    "output_type": "display_data",
                    "data": {
                        "text/html": "Total execution time: 00:00:00.137"
                    },
                    "metadata": {}
                },
                {
                    "output_type": "execute_result",
                    "metadata": {},
                    "execution_count": 29,
                    "data": {
                        "application/vnd.dataresource+json": {
                            "schema": {
                                "fields": [
                                    {
                                        "name": "PEDIDO_ID"
                                    },
                                    {
                                        "name": "IMPORTE TOTAL"
                                    },
                                    {
                                        "name": "BASE"
                                    },
                                    {
                                        "name": "IVA"
                                    },
                                    {
                                        "name": "MARGEN"
                                    }
                                ]
                            },
                            "data": [
                                {
                                    "0": "P-0001",
                                    "1": "24677.0000000000",
                                    "2": "20394.21487603305785",
                                    "3": "4282.7851239669421485",
                                    "4": "1284.835537190082644550"
                                },
                                {
                                    "0": "P-0002",
                                    "1": "27048.0000000000",
                                    "2": "22353.71900826446280",
                                    "3": "4694.2809917355371880",
                                    "4": "1408.284297520661156400"
                                },
                                {
                                    "0": "P-0003",
                                    "1": "27432.0000000000",
                                    "2": "22671.07438016528925",
                                    "3": "4760.9256198347107425",
                                    "4": "1428.277685950413222750"
                                },
                                {
                                    "0": "P-0004",
                                    "1": "25990.0000000000",
                                    "2": "21479.33884297520661",
                                    "3": "4510.6611570247933881",
                                    "4": "1353.198347107438016430"
                                },
                                {
                                    "0": "P-0005",
                                    "1": "24590.0000000000",
                                    "2": "20322.31404958677685",
                                    "3": "4267.6859504132231385",
                                    "4": "1280.305785123966941550"
                                },
                                {
                                    "0": "P-0006",
                                    "1": "26170.0000000000",
                                    "2": "21628.09917355371900",
                                    "3": "4541.9008264462809900",
                                    "4": "1362.570247933884297000"
                                },
                                {
                                    "0": "P-0007",
                                    "1": "25344.0000000000",
                                    "2": "20945.45454545454545",
                                    "3": "4398.5454545454545445",
                                    "4": "1319.563636363636363350"
                                },
                                {
                                    "0": "P-0008",
                                    "1": "24106.0000000000",
                                    "2": "19922.31404958677685",
                                    "3": "4183.6859504132231385",
                                    "4": "1255.105785123966941550"
                                },
                                {
                                    "0": "P-0009",
                                    "1": "23846.0000000000",
                                    "2": "19707.43801652892561",
                                    "3": "4138.5619834710743781",
                                    "4": "1241.568595041322313430"
                                },
                                {
                                    "0": "P-0010",
                                    "1": "20311.0000000000",
                                    "2": "16785.95041322314049",
                                    "3": "3525.0495867768595029",
                                    "4": "1057.514876033057850870"
                                }
                            ]
                        },
                        "text/html": [
                            "<table>",
                            "<tr><th>PEDIDO_ID</th><th>IMPORTE TOTAL</th><th>BASE</th><th>IVA</th><th>MARGEN</th></tr>",
                            "<tr><td>P-0001</td><td>24677.0000000000</td><td>20394.21487603305785</td><td>4282.7851239669421485</td><td>1284.835537190082644550</td></tr>",
                            "<tr><td>P-0002</td><td>27048.0000000000</td><td>22353.71900826446280</td><td>4694.2809917355371880</td><td>1408.284297520661156400</td></tr>",
                            "<tr><td>P-0003</td><td>27432.0000000000</td><td>22671.07438016528925</td><td>4760.9256198347107425</td><td>1428.277685950413222750</td></tr>",
                            "<tr><td>P-0004</td><td>25990.0000000000</td><td>21479.33884297520661</td><td>4510.6611570247933881</td><td>1353.198347107438016430</td></tr>",
                            "<tr><td>P-0005</td><td>24590.0000000000</td><td>20322.31404958677685</td><td>4267.6859504132231385</td><td>1280.305785123966941550</td></tr>",
                            "<tr><td>P-0006</td><td>26170.0000000000</td><td>21628.09917355371900</td><td>4541.9008264462809900</td><td>1362.570247933884297000</td></tr>",
                            "<tr><td>P-0007</td><td>25344.0000000000</td><td>20945.45454545454545</td><td>4398.5454545454545445</td><td>1319.563636363636363350</td></tr>",
                            "<tr><td>P-0008</td><td>24106.0000000000</td><td>19922.31404958677685</td><td>4183.6859504132231385</td><td>1255.105785123966941550</td></tr>",
                            "<tr><td>P-0009</td><td>23846.0000000000</td><td>19707.43801652892561</td><td>4138.5619834710743781</td><td>1241.568595041322313430</td></tr>",
                            "<tr><td>P-0010</td><td>20311.0000000000</td><td>16785.95041322314049</td><td>3525.0495867768595029</td><td>1057.514876033057850870</td></tr>",
                            "</table>"
                        ]
                    }
                }
            ],
            "execution_count": 29
        },
        {
            "cell_type": "markdown",
            "source": [
                "## Ejercicio 3[]()\n",
                "\n",
                "Añade, a la tabla anterior, las toneladas vendidas y obtén tanto el precio de venta en € por tonelada como el beneficio por tonelada vendida."
            ],
            "metadata": {
                "azdata_cell_guid": "4881c58d-f973-43f7-bbf9-98e35aea8074"
            },
            "attachments": {}
        },
        {
            "cell_type": "code",
            "source": [
                "SELECT  TOP 5 PEDIDO_ID, INGRESOS_EUR AS IMPORTE, INGRESOS_EUR/(1+0.21) AS IMPORTE_NETO, INGRESOS_EUR - INGRESOS_EUR / (1+0.21) AS IVA,  (INGRESOS_EUR/(1+0.21)) * 0.3 AS BENEFICIO,\r\n",
                "TONELADAS,  ((INGRESOS_EUR/(1+0.21)) * 0.3) /TONELADAS AS BENEFICIO_POR_TONELADA\r\n",
                "FROM NEMINA.DBO.DATOS_BASE;"
            ],
            "metadata": {
                "azdata_cell_guid": "0a4e75e9-1e0d-4f08-b7cd-76bbac8ee05b"
            },
            "outputs": [
                {
                    "output_type": "display_data",
                    "data": {
                        "text/html": "(5 rows affected)"
                    },
                    "metadata": {}
                },
                {
                    "output_type": "display_data",
                    "data": {
                        "text/html": "Total execution time: 00:00:00.286"
                    },
                    "metadata": {}
                },
                {
                    "output_type": "execute_result",
                    "metadata": {},
                    "execution_count": 30,
                    "data": {
                        "application/vnd.dataresource+json": {
                            "schema": {
                                "fields": [
                                    {
                                        "name": "PEDIDO_ID"
                                    },
                                    {
                                        "name": "IMPORTE"
                                    },
                                    {
                                        "name": "IMPORTE_NETO"
                                    },
                                    {
                                        "name": "IVA"
                                    },
                                    {
                                        "name": "BENEFICIO"
                                    },
                                    {
                                        "name": "TONELADAS"
                                    },
                                    {
                                        "name": "BENEFICIO_POR_TONELADA"
                                    }
                                ]
                            },
                            "data": [
                                {
                                    "0": "P-0001",
                                    "1": "24677.0000000000",
                                    "2": "20394.214876033057851",
                                    "3": "4282.785123966942149",
                                    "4": "6118.2644628099173553",
                                    "5": "31.8000000000",
                                    "6": "192.39825354748167783"
                                },
                                {
                                    "0": "P-0002",
                                    "1": "27048.0000000000",
                                    "2": "22353.719008264462809",
                                    "3": "4694.280991735537191",
                                    "4": "6706.1157024793388427",
                                    "5": "34.5000000000",
                                    "6": "194.38016528925619833"
                                },
                                {
                                    "0": "P-0003",
                                    "1": "27432.0000000000",
                                    "2": "22671.074380165289256",
                                    "3": "4760.925619834710744",
                                    "4": "6801.3223140495867768",
                                    "5": "38.1000000000",
                                    "6": "178.51239669421487603"
                                },
                                {
                                    "0": "P-0004",
                                    "1": "25990.0000000000",
                                    "2": "21479.338842975206611",
                                    "3": "4510.661157024793389",
                                    "4": "6443.8016528925619833",
                                    "5": "35.7000000000",
                                    "6": "180.49864573928745051"
                                },
                                {
                                    "0": "P-0005",
                                    "1": "24590.0000000000",
                                    "2": "20322.314049586776859",
                                    "3": "4267.685950413223141",
                                    "4": "6096.6942148760330577",
                                    "5": "32.7000000000",
                                    "6": "186.44324816134657668"
                                }
                            ]
                        },
                        "text/html": [
                            "<table>",
                            "<tr><th>PEDIDO_ID</th><th>IMPORTE</th><th>IMPORTE_NETO</th><th>IVA</th><th>BENEFICIO</th><th>TONELADAS</th><th>BENEFICIO_POR_TONELADA</th></tr>",
                            "<tr><td>P-0001</td><td>24677.0000000000</td><td>20394.214876033057851</td><td>4282.785123966942149</td><td>6118.2644628099173553</td><td>31.8000000000</td><td>192.39825354748167783</td></tr>",
                            "<tr><td>P-0002</td><td>27048.0000000000</td><td>22353.719008264462809</td><td>4694.280991735537191</td><td>6706.1157024793388427</td><td>34.5000000000</td><td>194.38016528925619833</td></tr>",
                            "<tr><td>P-0003</td><td>27432.0000000000</td><td>22671.074380165289256</td><td>4760.925619834710744</td><td>6801.3223140495867768</td><td>38.1000000000</td><td>178.51239669421487603</td></tr>",
                            "<tr><td>P-0004</td><td>25990.0000000000</td><td>21479.338842975206611</td><td>4510.661157024793389</td><td>6443.8016528925619833</td><td>35.7000000000</td><td>180.49864573928745051</td></tr>",
                            "<tr><td>P-0005</td><td>24590.0000000000</td><td>20322.314049586776859</td><td>4267.685950413223141</td><td>6096.6942148760330577</td><td>32.7000000000</td><td>186.44324816134657668</td></tr>",
                            "</table>"
                        ]
                    }
                }
            ],
            "execution_count": 30
        },
        {
            "cell_type": "markdown",
            "source": [
                "1. Obtén los datos de la tabla SOCIODEMO.DBO.VELOCIDADES\n",
                "2. Un ciclista sube una cuesta de 7 Km a 10 Km por hora, nada más llegar arriba y sin pausa inicia la bajada de la misma cuesta. Comprueba como, con cualquier velocidad de bajada de las que están en la tabla, el ciclista nunca llega a alcanzar una media de 20 km/h"
            ],
            "metadata": {
                "azdata_cell_guid": "9dcff4d0-a840-4c6f-a754-abf9ba6f1185"
            },
            "attachments": {}
        },
        {
            "cell_type": "code",
            "source": [
                "SELECT  10.0 VELOCIDAD_SUBIDA,\r\n",
                "        7.5 / 10 AS TIEMPO_SUBIDA,\r\n",
                "        VELOCIDAD AS VELOCIDAD_BAJADA,\r\n",
                "        7.5 / VELOCIDAD AS TIEMPO_BAJADA,\r\n",
                "        7.5 / 10 + 7.5 / VELOCIDAD AS TIEMPO_TOTAL,\r\n",
                "        15 / (7.5 / 10 + 7.5 / VELOCIDAD ) AS VELOCIDAD_MEDIA\r\n",
                "FROM SOCIODEMO.DBO.VELOCIDADES"
            ],
            "metadata": {
                "azdata_cell_guid": "2c0d7649-4e88-48f0-9914-35d9a70371d3"
            },
            "outputs": [
                {
                    "output_type": "display_data",
                    "data": {
                        "text/html": "(10 rows affected)"
                    },
                    "metadata": {}
                },
                {
                    "output_type": "display_data",
                    "data": {
                        "text/html": "Total execution time: 00:00:00.127"
                    },
                    "metadata": {}
                },
                {
                    "output_type": "execute_result",
                    "metadata": {},
                    "execution_count": 31,
                    "data": {
                        "application/vnd.dataresource+json": {
                            "schema": {
                                "fields": [
                                    {
                                        "name": "VELOCIDAD_SUBIDA"
                                    },
                                    {
                                        "name": "TIEMPO_SUBIDA"
                                    },
                                    {
                                        "name": "VELOCIDAD_BAJADA"
                                    },
                                    {
                                        "name": "TIEMPO_BAJADA"
                                    },
                                    {
                                        "name": "TIEMPO_TOTAL"
                                    },
                                    {
                                        "name": "VELOCIDAD_MEDIA"
                                    }
                                ]
                            },
                            "data": [
                                {
                                    "0": "10.0",
                                    "1": "0.750000",
                                    "2": "10.0000000000",
                                    "3": "0.75000000000000000000",
                                    "4": "1.50000000000000000000",
                                    "5": "10.0000000000000000"
                                },
                                {
                                    "0": "10.0",
                                    "1": "0.750000",
                                    "2": "20.0000000000",
                                    "3": "0.37500000000000000000",
                                    "4": "1.12500000000000000000",
                                    "5": "13.3333333333333333"
                                },
                                {
                                    "0": "10.0",
                                    "1": "0.750000",
                                    "2": "30.0000000000",
                                    "3": "0.25000000000000000000",
                                    "4": "1.00000000000000000000",
                                    "5": "15.0000000000000000"
                                },
                                {
                                    "0": "10.0",
                                    "1": "0.750000",
                                    "2": "40.0000000000",
                                    "3": "0.18750000000000000000",
                                    "4": "0.93750000000000000000",
                                    "5": "16.0000000000000000"
                                },
                                {
                                    "0": "10.0",
                                    "1": "0.750000",
                                    "2": "50.0000000000",
                                    "3": "0.15000000000000000000",
                                    "4": "0.90000000000000000000",
                                    "5": "16.6666666666666666"
                                },
                                {
                                    "0": "10.0",
                                    "1": "0.750000",
                                    "2": "60.0000000000",
                                    "3": "0.12500000000000000000",
                                    "4": "0.87500000000000000000",
                                    "5": "17.1428571428571428"
                                },
                                {
                                    "0": "10.0",
                                    "1": "0.750000",
                                    "2": "70.0000000000",
                                    "3": "0.10714285714285714285",
                                    "4": "0.85714285714285714285",
                                    "5": "17.5000000000000000"
                                },
                                {
                                    "0": "10.0",
                                    "1": "0.750000",
                                    "2": "100.0000000000",
                                    "3": "0.07500000000000000000",
                                    "4": "0.82500000000000000000",
                                    "5": "18.1818181818181818"
                                },
                                {
                                    "0": "10.0",
                                    "1": "0.750000",
                                    "2": "1000.0000000000",
                                    "3": "0.00750000000000000000",
                                    "4": "0.75750000000000000000",
                                    "5": "19.8019801980198019"
                                },
                                {
                                    "0": "10.0",
                                    "1": "0.750000",
                                    "2": "10000.0000000000",
                                    "3": "0.00075000000000000000",
                                    "4": "0.75075000000000000000",
                                    "5": "19.9800199800199800"
                                }
                            ]
                        },
                        "text/html": [
                            "<table>",
                            "<tr><th>VELOCIDAD_SUBIDA</th><th>TIEMPO_SUBIDA</th><th>VELOCIDAD_BAJADA</th><th>TIEMPO_BAJADA</th><th>TIEMPO_TOTAL</th><th>VELOCIDAD_MEDIA</th></tr>",
                            "<tr><td>10.0</td><td>0.750000</td><td>10.0000000000</td><td>0.75000000000000000000</td><td>1.50000000000000000000</td><td>10.0000000000000000</td></tr>",
                            "<tr><td>10.0</td><td>0.750000</td><td>20.0000000000</td><td>0.37500000000000000000</td><td>1.12500000000000000000</td><td>13.3333333333333333</td></tr>",
                            "<tr><td>10.0</td><td>0.750000</td><td>30.0000000000</td><td>0.25000000000000000000</td><td>1.00000000000000000000</td><td>15.0000000000000000</td></tr>",
                            "<tr><td>10.0</td><td>0.750000</td><td>40.0000000000</td><td>0.18750000000000000000</td><td>0.93750000000000000000</td><td>16.0000000000000000</td></tr>",
                            "<tr><td>10.0</td><td>0.750000</td><td>50.0000000000</td><td>0.15000000000000000000</td><td>0.90000000000000000000</td><td>16.6666666666666666</td></tr>",
                            "<tr><td>10.0</td><td>0.750000</td><td>60.0000000000</td><td>0.12500000000000000000</td><td>0.87500000000000000000</td><td>17.1428571428571428</td></tr>",
                            "<tr><td>10.0</td><td>0.750000</td><td>70.0000000000</td><td>0.10714285714285714285</td><td>0.85714285714285714285</td><td>17.5000000000000000</td></tr>",
                            "<tr><td>10.0</td><td>0.750000</td><td>100.0000000000</td><td>0.07500000000000000000</td><td>0.82500000000000000000</td><td>18.1818181818181818</td></tr>",
                            "<tr><td>10.0</td><td>0.750000</td><td>1000.0000000000</td><td>0.00750000000000000000</td><td>0.75750000000000000000</td><td>19.8019801980198019</td></tr>",
                            "<tr><td>10.0</td><td>0.750000</td><td>10000.0000000000</td><td>0.00075000000000000000</td><td>0.75075000000000000000</td><td>19.9800199800199800</td></tr>",
                            "</table>"
                        ]
                    }
                }
            ],
            "execution_count": 31
        },
        {
            "cell_type": "markdown",
            "source": [
                "**Ejercicios JOINS**"
            ],
            "metadata": {
                "azdata_cell_guid": "3d111fa5-d4a0-40a1-a60b-fae1f5e51b56"
            },
            "attachments": {}
        },
        {
            "cell_type": "markdown",
            "source": [
                "Ejercicio 5\r\n",
                "Une la tabla de venta y productos. ¿Ves algún problema? ."
            ],
            "metadata": {
                "azdata_cell_guid": "d15a654f-ea7d-4791-a879-34dc5737c862"
            }
        },
        {
            "cell_type": "code",
            "source": [
                "SELECT TOP 10 * FROM NEMINA.DBO.DATOS_BASE D\r\n",
                "LEFT JOIN NEMINA.DBO.PRODUCTOS P\r\n",
                "    ON D.PRODUCTO_ID = P.PRODUCTO_ID\r\n",
                "    AND D.FY_ID = P.FY_ID"
            ],
            "metadata": {
                "azdata_cell_guid": "3845ef10-a3ad-46f8-a71c-a86191d66d68",
                "tags": []
            },
            "outputs": [
                {
                    "output_type": "display_data",
                    "data": {
                        "text/html": "(10 rows affected)"
                    },
                    "metadata": {}
                },
                {
                    "output_type": "display_data",
                    "data": {
                        "text/html": "Total execution time: 00:00:00.090"
                    },
                    "metadata": {}
                },
                {
                    "output_type": "execute_result",
                    "metadata": {},
                    "execution_count": 32,
                    "data": {
                        "application/vnd.dataresource+json": {
                            "schema": {
                                "fields": [
                                    {
                                        "name": "PEDIDO_ID"
                                    },
                                    {
                                        "name": "FY_ID"
                                    },
                                    {
                                        "name": "PRODUCTO_ID"
                                    },
                                    {
                                        "name": "ZONA_ID"
                                    },
                                    {
                                        "name": "CLIENTE_ID"
                                    },
                                    {
                                        "name": "TONELADAS"
                                    },
                                    {
                                        "name": "INGRESOS_EUR"
                                    },
                                    {
                                        "name": "PRODUCTO_ID"
                                    },
                                    {
                                        "name": "FY_ID"
                                    },
                                    {
                                        "name": "IMPORTE"
                                    }
                                ]
                            },
                            "data": [
                                {
                                    "0": "P-0001",
                                    "1": "2016",
                                    "2": "Setas",
                                    "3": "Lugo",
                                    "4": "7",
                                    "5": "31.8000000000",
                                    "6": "24677.0000000000",
                                    "7": "Setas",
                                    "8": "2016",
                                    "9": "800.0000000000"
                                },
                                {
                                    "0": "P-0002",
                                    "1": "2016",
                                    "2": "Setas",
                                    "3": "Ourense",
                                    "4": "27",
                                    "5": "34.5000000000",
                                    "6": "27048.0000000000",
                                    "7": "Setas",
                                    "8": "2016",
                                    "9": "800.0000000000"
                                },
                                {
                                    "0": "P-0003",
                                    "1": "2016",
                                    "2": "Setas",
                                    "3": "Ourense",
                                    "4": "21",
                                    "5": "38.1000000000",
                                    "6": "27432.0000000000",
                                    "7": "Setas",
                                    "8": "2016",
                                    "9": "800.0000000000"
                                },
                                {
                                    "0": "P-0004",
                                    "1": "2016",
                                    "2": "Setas",
                                    "3": "Ourense",
                                    "4": "26",
                                    "5": "35.7000000000",
                                    "6": "25990.0000000000",
                                    "7": "Setas",
                                    "8": "2016",
                                    "9": "800.0000000000"
                                },
                                {
                                    "0": "P-0005",
                                    "1": "2016",
                                    "2": "Setas",
                                    "3": "Pontevedra",
                                    "4": "25",
                                    "5": "32.7000000000",
                                    "6": "24590.0000000000",
                                    "7": "Setas",
                                    "8": "2016",
                                    "9": "800.0000000000"
                                },
                                {
                                    "0": "P-0006",
                                    "1": "2016",
                                    "2": "Setas",
                                    "3": "Pontevedra",
                                    "4": "24",
                                    "5": "34.8000000000",
                                    "6": "26170.0000000000",
                                    "7": "Setas",
                                    "8": "2016",
                                    "9": "800.0000000000"
                                },
                                {
                                    "0": "P-0007",
                                    "1": "2016",
                                    "2": "Setas",
                                    "3": "Coruña",
                                    "4": "2",
                                    "5": "33.0000000000",
                                    "6": "25344.0000000000",
                                    "7": "Setas",
                                    "8": "2016",
                                    "9": "800.0000000000"
                                },
                                {
                                    "0": "P-0008",
                                    "1": "2016",
                                    "2": "Setas",
                                    "3": "Lugo",
                                    "4": "9",
                                    "5": "32.4000000000",
                                    "6": "24106.0000000000",
                                    "7": "Setas",
                                    "8": "2016",
                                    "9": "800.0000000000"
                                },
                                {
                                    "0": "P-0009",
                                    "1": "2016",
                                    "2": "Setas",
                                    "3": "Coruña",
                                    "4": "16",
                                    "5": "32.4000000000",
                                    "6": "23846.0000000000",
                                    "7": "Setas",
                                    "8": "2016",
                                    "9": "800.0000000000"
                                },
                                {
                                    "0": "P-0010",
                                    "1": "2016",
                                    "2": "Setas",
                                    "3": "Ourense",
                                    "4": "21",
                                    "5": "27.9000000000",
                                    "6": "20311.0000000000",
                                    "7": "Setas",
                                    "8": "2016",
                                    "9": "800.0000000000"
                                }
                            ]
                        },
                        "text/html": [
                            "<table>",
                            "<tr><th>PEDIDO_ID</th><th>FY_ID</th><th>PRODUCTO_ID</th><th>ZONA_ID</th><th>CLIENTE_ID</th><th>TONELADAS</th><th>INGRESOS_EUR</th><th>PRODUCTO_ID</th><th>FY_ID</th><th>IMPORTE</th></tr>",
                            "<tr><td>P-0001</td><td>2016</td><td>Setas</td><td>Lugo</td><td>7</td><td>31.8000000000</td><td>24677.0000000000</td><td>Setas</td><td>2016</td><td>800.0000000000</td></tr>",
                            "<tr><td>P-0002</td><td>2016</td><td>Setas</td><td>Ourense</td><td>27</td><td>34.5000000000</td><td>27048.0000000000</td><td>Setas</td><td>2016</td><td>800.0000000000</td></tr>",
                            "<tr><td>P-0003</td><td>2016</td><td>Setas</td><td>Ourense</td><td>21</td><td>38.1000000000</td><td>27432.0000000000</td><td>Setas</td><td>2016</td><td>800.0000000000</td></tr>",
                            "<tr><td>P-0004</td><td>2016</td><td>Setas</td><td>Ourense</td><td>26</td><td>35.7000000000</td><td>25990.0000000000</td><td>Setas</td><td>2016</td><td>800.0000000000</td></tr>",
                            "<tr><td>P-0005</td><td>2016</td><td>Setas</td><td>Pontevedra</td><td>25</td><td>32.7000000000</td><td>24590.0000000000</td><td>Setas</td><td>2016</td><td>800.0000000000</td></tr>",
                            "<tr><td>P-0006</td><td>2016</td><td>Setas</td><td>Pontevedra</td><td>24</td><td>34.8000000000</td><td>26170.0000000000</td><td>Setas</td><td>2016</td><td>800.0000000000</td></tr>",
                            "<tr><td>P-0007</td><td>2016</td><td>Setas</td><td>Coruña</td><td>2</td><td>33.0000000000</td><td>25344.0000000000</td><td>Setas</td><td>2016</td><td>800.0000000000</td></tr>",
                            "<tr><td>P-0008</td><td>2016</td><td>Setas</td><td>Lugo</td><td>9</td><td>32.4000000000</td><td>24106.0000000000</td><td>Setas</td><td>2016</td><td>800.0000000000</td></tr>",
                            "<tr><td>P-0009</td><td>2016</td><td>Setas</td><td>Coruña</td><td>16</td><td>32.4000000000</td><td>23846.0000000000</td><td>Setas</td><td>2016</td><td>800.0000000000</td></tr>",
                            "<tr><td>P-0010</td><td>2016</td><td>Setas</td><td>Ourense</td><td>21</td><td>27.9000000000</td><td>20311.0000000000</td><td>Setas</td><td>2016</td><td>800.0000000000</td></tr>",
                            "</table>"
                        ]
                    }
                }
            ],
            "execution_count": 32
        },
        {
            "cell_type": "markdown",
            "source": [
                "## <mark><mark>Ejercicio</mark></mark> 6[]()\n",
                "\n",
                "Enlaza la tabla de DATOS\\_BASE en NEMINA con la tabla de clientes, población por provincia y precios"
            ],
            "metadata": {
                "azdata_cell_guid": "1a97054e-edd2-45e4-a42c-eb4e3f5d2095"
            },
            "attachments": {}
        },
        {
            "cell_type": "code",
            "source": [
                "SELECT TOP 5 * \r\n",
                "FROM NEMINA.DBO.DATOS_BASE B\r\n",
                "LEFT JOIN NEMINA.DBO.CLIENTES C \r\n",
                "       ON B.CLIENTE_ID = C.CLIENTE_ID\r\n",
                "LEFT JOIN SOCIODEMO.DBO.POBLACION_PROVINCIAS PP\r\n",
                "       ON C.PROVINCIA_ID = PP.PROVINCIA_ID\r\n",
                "      AND C.SEXO_ID = PP.SEXO\r\n",
                "      AND C.EDAD >= PP.EDAD_MIN\r\n",
                "      AND C.EDAD <= PP.EDAD_MAX\r\n",
                "LEFT JOIN NEMINA.DBO.PRODUCTOS P\r\n",
                "       ON B.PRODUCTO_ID = P.PRODUCTO_ID\r\n",
                "      AND B.FY_ID = P.FY_ID"
            ],
            "metadata": {
                "azdata_cell_guid": "c9f11657-0a04-4299-ad3c-9bc846a114f0",
                "tags": []
            },
            "outputs": [
                {
                    "output_type": "display_data",
                    "data": {
                        "text/html": "(5 rows affected)"
                    },
                    "metadata": {}
                },
                {
                    "output_type": "display_data",
                    "data": {
                        "text/html": "Total execution time: 00:00:00.195"
                    },
                    "metadata": {}
                },
                {
                    "output_type": "execute_result",
                    "metadata": {},
                    "execution_count": 33,
                    "data": {
                        "application/vnd.dataresource+json": {
                            "schema": {
                                "fields": [
                                    {
                                        "name": "PEDIDO_ID"
                                    },
                                    {
                                        "name": "FY_ID"
                                    },
                                    {
                                        "name": "PRODUCTO_ID"
                                    },
                                    {
                                        "name": "ZONA_ID"
                                    },
                                    {
                                        "name": "CLIENTE_ID"
                                    },
                                    {
                                        "name": "TONELADAS"
                                    },
                                    {
                                        "name": "INGRESOS_EUR"
                                    },
                                    {
                                        "name": "CLIENTE_ID"
                                    },
                                    {
                                        "name": "PROVINCIA_ID"
                                    },
                                    {
                                        "name": "SEXO_ID"
                                    },
                                    {
                                        "name": "EDAD"
                                    },
                                    {
                                        "name": "FY_ID"
                                    },
                                    {
                                        "name": "PROVINCIA_ID"
                                    },
                                    {
                                        "name": "EDAD"
                                    },
                                    {
                                        "name": "SEXO"
                                    },
                                    {
                                        "name": "HABITANTES"
                                    },
                                    {
                                        "name": "EDAD_MIN"
                                    },
                                    {
                                        "name": "EDAD_MAX"
                                    },
                                    {
                                        "name": "PRODUCTO_ID"
                                    },
                                    {
                                        "name": "FY_ID"
                                    },
                                    {
                                        "name": "IMPORTE"
                                    }
                                ]
                            },
                            "data": [
                                {
                                    "0": "P-0001",
                                    "1": "2016",
                                    "2": "Setas",
                                    "3": "Lugo",
                                    "4": "7",
                                    "5": "31.8000000000",
                                    "6": "24677.0000000000",
                                    "7": "7",
                                    "8": "36",
                                    "9": "MUJER",
                                    "10": "23",
                                    "11": "2019",
                                    "12": "36",
                                    "13": "20_24",
                                    "14": "MUJER",
                                    "15": "19551",
                                    "16": "20",
                                    "17": "24",
                                    "18": "Setas",
                                    "19": "2016",
                                    "20": "800.0000000000"
                                },
                                {
                                    "0": "P-0002",
                                    "1": "2016",
                                    "2": "Setas",
                                    "3": "Ourense",
                                    "4": "27",
                                    "5": "34.5000000000",
                                    "6": "27048.0000000000",
                                    "7": "27",
                                    "8": "27",
                                    "9": "MUJER",
                                    "10": "47",
                                    "11": "2019",
                                    "12": "27",
                                    "13": "45_49",
                                    "14": "MUJER",
                                    "15": "12152",
                                    "16": "45",
                                    "17": "49",
                                    "18": "Setas",
                                    "19": "2016",
                                    "20": "800.0000000000"
                                },
                                {
                                    "0": "P-0003",
                                    "1": "2016",
                                    "2": "Setas",
                                    "3": "Ourense",
                                    "4": "21",
                                    "5": "38.1000000000",
                                    "6": "27432.0000000000",
                                    "7": "21",
                                    "8": "27",
                                    "9": "MUJER",
                                    "10": "42",
                                    "11": "2019",
                                    "12": "27",
                                    "13": "40_44",
                                    "14": "MUJER",
                                    "15": "12145",
                                    "16": "40",
                                    "17": "44",
                                    "18": "Setas",
                                    "19": "2016",
                                    "20": "800.0000000000"
                                },
                                {
                                    "0": "P-0004",
                                    "1": "2016",
                                    "2": "Setas",
                                    "3": "Ourense",
                                    "4": "26",
                                    "5": "35.7000000000",
                                    "6": "25990.0000000000",
                                    "7": "26",
                                    "8": "15",
                                    "9": "HOMBRE",
                                    "10": "28",
                                    "11": "2019",
                                    "12": "15",
                                    "13": "25_29",
                                    "14": "HOMBRE",
                                    "15": "25566",
                                    "16": "25",
                                    "17": "29",
                                    "18": "Setas",
                                    "19": "2016",
                                    "20": "800.0000000000"
                                },
                                {
                                    "0": "P-0005",
                                    "1": "2016",
                                    "2": "Setas",
                                    "3": "Pontevedra",
                                    "4": "25",
                                    "5": "32.7000000000",
                                    "6": "24590.0000000000",
                                    "7": "25",
                                    "8": "32",
                                    "9": "MUJER",
                                    "10": "43",
                                    "11": "2019",
                                    "12": "32",
                                    "13": "40_44",
                                    "14": "MUJER",
                                    "15": "11243",
                                    "16": "40",
                                    "17": "44",
                                    "18": "Setas",
                                    "19": "2016",
                                    "20": "800.0000000000"
                                }
                            ]
                        },
                        "text/html": [
                            "<table>",
                            "<tr><th>PEDIDO_ID</th><th>FY_ID</th><th>PRODUCTO_ID</th><th>ZONA_ID</th><th>CLIENTE_ID</th><th>TONELADAS</th><th>INGRESOS_EUR</th><th>CLIENTE_ID</th><th>PROVINCIA_ID</th><th>SEXO_ID</th><th>EDAD</th><th>FY_ID</th><th>PROVINCIA_ID</th><th>EDAD</th><th>SEXO</th><th>HABITANTES</th><th>EDAD_MIN</th><th>EDAD_MAX</th><th>PRODUCTO_ID</th><th>FY_ID</th><th>IMPORTE</th></tr>",
                            "<tr><td>P-0001</td><td>2016</td><td>Setas</td><td>Lugo</td><td>7</td><td>31.8000000000</td><td>24677.0000000000</td><td>7</td><td>36</td><td>MUJER</td><td>23</td><td>2019</td><td>36</td><td>20_24</td><td>MUJER</td><td>19551</td><td>20</td><td>24</td><td>Setas</td><td>2016</td><td>800.0000000000</td></tr>",
                            "<tr><td>P-0002</td><td>2016</td><td>Setas</td><td>Ourense</td><td>27</td><td>34.5000000000</td><td>27048.0000000000</td><td>27</td><td>27</td><td>MUJER</td><td>47</td><td>2019</td><td>27</td><td>45_49</td><td>MUJER</td><td>12152</td><td>45</td><td>49</td><td>Setas</td><td>2016</td><td>800.0000000000</td></tr>",
                            "<tr><td>P-0003</td><td>2016</td><td>Setas</td><td>Ourense</td><td>21</td><td>38.1000000000</td><td>27432.0000000000</td><td>21</td><td>27</td><td>MUJER</td><td>42</td><td>2019</td><td>27</td><td>40_44</td><td>MUJER</td><td>12145</td><td>40</td><td>44</td><td>Setas</td><td>2016</td><td>800.0000000000</td></tr>",
                            "<tr><td>P-0004</td><td>2016</td><td>Setas</td><td>Ourense</td><td>26</td><td>35.7000000000</td><td>25990.0000000000</td><td>26</td><td>15</td><td>HOMBRE</td><td>28</td><td>2019</td><td>15</td><td>25_29</td><td>HOMBRE</td><td>25566</td><td>25</td><td>29</td><td>Setas</td><td>2016</td><td>800.0000000000</td></tr>",
                            "<tr><td>P-0005</td><td>2016</td><td>Setas</td><td>Pontevedra</td><td>25</td><td>32.7000000000</td><td>24590.0000000000</td><td>25</td><td>32</td><td>MUJER</td><td>43</td><td>2019</td><td>32</td><td>40_44</td><td>MUJER</td><td>11243</td><td>40</td><td>44</td><td>Setas</td><td>2016</td><td>800.0000000000</td></tr>",
                            "</table>"
                        ]
                    }
                }
            ],
            "execution_count": 33
        },
        {
            "cell_type": "markdown",
            "source": [
                "# <mark><mark><mark><mark>Ejerci</mark></mark></mark></mark>cio 7[]()\n",
                "\n",
                "Añade, a la tabla anterior el descuento realizado en € y porcentaje.\n",
                "\n",
                "Ordena esta tabla para encontrar:\n",
                "\n",
                "1. El cliente que más descuento ha recibido en €.\n",
                "2. El cliente que menos descuento ha recibido en %.\n",
                "3. El pedido de mayor cantidad de toneladas."
            ],
            "metadata": {
                "azdata_cell_guid": "faa03ef3-25b9-4abe-a0dd-a82eac24649e"
            },
            "attachments": {}
        },
        {
            "cell_type": "code",
            "source": [
                "SELECT TOP 1 *, P.IMPORTE, B.TONELADAS, B.INGRESOS_EUR, P.IMPORTE * B.TONELADAS AS INGRESO_ESPERADO, INGRESOS_EUR - (P.IMPORTE * B.TONELADAS) AS DTO, (INGRESOS_EUR - (P.IMPORTE * B.TONELADAS))/(P.IMPORTE*B.TONELADAS) AS DTO_PCT \r\n",
                "FROM NEMINA.DBO.DATOS_BASE B\r\n",
                "LEFT JOIN NEMINA.DBO.CLIENTES C \r\n",
                "       ON B.CLIENTE_ID = C.CLIENTE_ID\r\n",
                "LEFT JOIN SOCIODEMO.DBO.POBLACION_PROVINCIAS PP\r\n",
                "       ON C.PROVINCIA_ID = PP.PROVINCIA_ID\r\n",
                "      AND C.SEXO_ID = PP.SEXO\r\n",
                "      AND C.EDAD >= PP.EDAD_MIN\r\n",
                "      AND C.EDAD <= PP.EDAD_MAX\r\n",
                "LEFT JOIN NEMINA.DBO.PRODUCTOS P\r\n",
                "       ON B.PRODUCTO_ID = P.PRODUCTO_ID\r\n",
                "      AND B.FY_ID = P.FY_ID\r\n",
                "\r\n",
                "ORDER BY DTO ASC"
            ],
            "metadata": {
                "azdata_cell_guid": "7d58ab69-5cc8-4118-b3d9-228bac554317"
            },
            "outputs": [
                {
                    "output_type": "display_data",
                    "data": {
                        "text/html": "(1 row affected)"
                    },
                    "metadata": {}
                },
                {
                    "output_type": "display_data",
                    "data": {
                        "text/html": "Total execution time: 00:00:00.366"
                    },
                    "metadata": {}
                },
                {
                    "output_type": "execute_result",
                    "metadata": {},
                    "execution_count": 34,
                    "data": {
                        "application/vnd.dataresource+json": {
                            "schema": {
                                "fields": [
                                    {
                                        "name": "PEDIDO_ID"
                                    },
                                    {
                                        "name": "FY_ID"
                                    },
                                    {
                                        "name": "PRODUCTO_ID"
                                    },
                                    {
                                        "name": "ZONA_ID"
                                    },
                                    {
                                        "name": "CLIENTE_ID"
                                    },
                                    {
                                        "name": "TONELADAS"
                                    },
                                    {
                                        "name": "INGRESOS_EUR"
                                    },
                                    {
                                        "name": "CLIENTE_ID"
                                    },
                                    {
                                        "name": "PROVINCIA_ID"
                                    },
                                    {
                                        "name": "SEXO_ID"
                                    },
                                    {
                                        "name": "EDAD"
                                    },
                                    {
                                        "name": "FY_ID"
                                    },
                                    {
                                        "name": "PROVINCIA_ID"
                                    },
                                    {
                                        "name": "EDAD"
                                    },
                                    {
                                        "name": "SEXO"
                                    },
                                    {
                                        "name": "HABITANTES"
                                    },
                                    {
                                        "name": "EDAD_MIN"
                                    },
                                    {
                                        "name": "EDAD_MAX"
                                    },
                                    {
                                        "name": "PRODUCTO_ID"
                                    },
                                    {
                                        "name": "FY_ID"
                                    },
                                    {
                                        "name": "IMPORTE"
                                    },
                                    {
                                        "name": "IMPORTE"
                                    },
                                    {
                                        "name": "TONELADAS"
                                    },
                                    {
                                        "name": "INGRESOS_EUR"
                                    },
                                    {
                                        "name": "INGRESO_ESPERADO"
                                    },
                                    {
                                        "name": "DTO"
                                    },
                                    {
                                        "name": "DTO_PCT"
                                    }
                                ]
                            },
                            "data": [
                                {
                                    "0": "P-0365",
                                    "1": "2019",
                                    "2": "Setas",
                                    "3": "Ourense",
                                    "4": "24",
                                    "5": "592.0000000000",
                                    "6": "374144.0000000000",
                                    "7": "24",
                                    "8": "15",
                                    "9": "MUJER",
                                    "10": "27",
                                    "11": "2019",
                                    "12": "15",
                                    "13": "25_29",
                                    "14": "MUJER",
                                    "15": "25147",
                                    "16": "25",
                                    "17": "29",
                                    "18": "Setas",
                                    "19": "2019",
                                    "20": "837.0000000000",
                                    "21": "837.0000000000",
                                    "22": "592.0000000000",
                                    "23": "374144.0000000000",
                                    "24": "495504.00000000000000000000",
                                    "25": "-121360.00000000000000000000",
                                    "26": "-0.244922"
                                }
                            ]
                        },
                        "text/html": [
                            "<table>",
                            "<tr><th>PEDIDO_ID</th><th>FY_ID</th><th>PRODUCTO_ID</th><th>ZONA_ID</th><th>CLIENTE_ID</th><th>TONELADAS</th><th>INGRESOS_EUR</th><th>CLIENTE_ID</th><th>PROVINCIA_ID</th><th>SEXO_ID</th><th>EDAD</th><th>FY_ID</th><th>PROVINCIA_ID</th><th>EDAD</th><th>SEXO</th><th>HABITANTES</th><th>EDAD_MIN</th><th>EDAD_MAX</th><th>PRODUCTO_ID</th><th>FY_ID</th><th>IMPORTE</th><th>IMPORTE</th><th>TONELADAS</th><th>INGRESOS_EUR</th><th>INGRESO_ESPERADO</th><th>DTO</th><th>DTO_PCT</th></tr>",
                            "<tr><td>P-0365</td><td>2019</td><td>Setas</td><td>Ourense</td><td>24</td><td>592.0000000000</td><td>374144.0000000000</td><td>24</td><td>15</td><td>MUJER</td><td>27</td><td>2019</td><td>15</td><td>25_29</td><td>MUJER</td><td>25147</td><td>25</td><td>29</td><td>Setas</td><td>2019</td><td>837.0000000000</td><td>837.0000000000</td><td>592.0000000000</td><td>374144.0000000000</td><td>495504.00000000000000000000</td><td>-121360.00000000000000000000</td><td>-0.244922</td></tr>",
                            "</table>"
                        ]
                    }
                }
            ],
            "execution_count": 34
        },
        {
            "cell_type": "code",
            "source": [
                "SELECT TOP 1 *, P.IMPORTE, B.TONELADAS, B.INGRESOS_EUR, P.IMPORTE * B.TONELADAS AS INGRESO_ESPERADO, INGRESOS_EUR - (P.IMPORTE * B.TONELADAS) AS DTO, (INGRESOS_EUR - (P.IMPORTE * B.TONELADAS))/(P.IMPORTE*B.TONELADAS) AS DTO_PCT \r\n",
                "FROM NEMINA.DBO.DATOS_BASE B\r\n",
                "LEFT JOIN NEMINA.DBO.CLIENTES C \r\n",
                "       ON B.CLIENTE_ID = C.CLIENTE_ID\r\n",
                "LEFT JOIN SOCIODEMO.DBO.POBLACION_PROVINCIAS PP\r\n",
                "       ON C.PROVINCIA_ID = PP.PROVINCIA_ID\r\n",
                "      AND C.SEXO_ID = PP.SEXO\r\n",
                "      AND C.EDAD >= PP.EDAD_MIN\r\n",
                "      AND C.EDAD <= PP.EDAD_MAX\r\n",
                "LEFT JOIN NEMINA.DBO.PRODUCTOS P\r\n",
                "       ON B.PRODUCTO_ID = P.PRODUCTO_ID\r\n",
                "      AND B.FY_ID = P.FY_ID\r\n",
                "\r\n",
                "ORDER BY DTO_PCT DESC"
            ],
            "metadata": {
                "azdata_cell_guid": "b00907b0-876b-4f80-8957-57251ca17770"
            },
            "outputs": [
                {
                    "output_type": "display_data",
                    "data": {
                        "text/html": "(1 row affected)"
                    },
                    "metadata": {}
                },
                {
                    "output_type": "display_data",
                    "data": {
                        "text/html": "Total execution time: 00:00:00.189"
                    },
                    "metadata": {}
                },
                {
                    "output_type": "execute_result",
                    "metadata": {},
                    "execution_count": 35,
                    "data": {
                        "application/vnd.dataresource+json": {
                            "schema": {
                                "fields": [
                                    {
                                        "name": "PEDIDO_ID"
                                    },
                                    {
                                        "name": "FY_ID"
                                    },
                                    {
                                        "name": "PRODUCTO_ID"
                                    },
                                    {
                                        "name": "ZONA_ID"
                                    },
                                    {
                                        "name": "CLIENTE_ID"
                                    },
                                    {
                                        "name": "TONELADAS"
                                    },
                                    {
                                        "name": "INGRESOS_EUR"
                                    },
                                    {
                                        "name": "CLIENTE_ID"
                                    },
                                    {
                                        "name": "PROVINCIA_ID"
                                    },
                                    {
                                        "name": "SEXO_ID"
                                    },
                                    {
                                        "name": "EDAD"
                                    },
                                    {
                                        "name": "FY_ID"
                                    },
                                    {
                                        "name": "PROVINCIA_ID"
                                    },
                                    {
                                        "name": "EDAD"
                                    },
                                    {
                                        "name": "SEXO"
                                    },
                                    {
                                        "name": "HABITANTES"
                                    },
                                    {
                                        "name": "EDAD_MIN"
                                    },
                                    {
                                        "name": "EDAD_MAX"
                                    },
                                    {
                                        "name": "PRODUCTO_ID"
                                    },
                                    {
                                        "name": "FY_ID"
                                    },
                                    {
                                        "name": "IMPORTE"
                                    },
                                    {
                                        "name": "IMPORTE"
                                    },
                                    {
                                        "name": "TONELADAS"
                                    },
                                    {
                                        "name": "INGRESOS_EUR"
                                    },
                                    {
                                        "name": "INGRESO_ESPERADO"
                                    },
                                    {
                                        "name": "DTO"
                                    },
                                    {
                                        "name": "DTO_PCT"
                                    }
                                ]
                            },
                            "data": [
                                {
                                    "0": "P-0093",
                                    "1": "2017",
                                    "2": "Belleza",
                                    "3": "Coruña",
                                    "4": "39",
                                    "5": "39.2000000000",
                                    "6": "141120.0000000000",
                                    "7": "39",
                                    "8": "36",
                                    "9": "HOMBRE",
                                    "10": "48",
                                    "11": "2019",
                                    "12": "36",
                                    "13": "45_49",
                                    "14": "HOMBRE",
                                    "15": "38847",
                                    "16": "45",
                                    "17": "49",
                                    "18": "Belleza",
                                    "19": "2017",
                                    "20": "3000.0000000000",
                                    "21": "3000.0000000000",
                                    "22": "39.2000000000",
                                    "23": "141120.0000000000",
                                    "24": "117600.00000000000000000000",
                                    "25": "23520.00000000000000000000",
                                    "26": "0.200000"
                                }
                            ]
                        },
                        "text/html": [
                            "<table>",
                            "<tr><th>PEDIDO_ID</th><th>FY_ID</th><th>PRODUCTO_ID</th><th>ZONA_ID</th><th>CLIENTE_ID</th><th>TONELADAS</th><th>INGRESOS_EUR</th><th>CLIENTE_ID</th><th>PROVINCIA_ID</th><th>SEXO_ID</th><th>EDAD</th><th>FY_ID</th><th>PROVINCIA_ID</th><th>EDAD</th><th>SEXO</th><th>HABITANTES</th><th>EDAD_MIN</th><th>EDAD_MAX</th><th>PRODUCTO_ID</th><th>FY_ID</th><th>IMPORTE</th><th>IMPORTE</th><th>TONELADAS</th><th>INGRESOS_EUR</th><th>INGRESO_ESPERADO</th><th>DTO</th><th>DTO_PCT</th></tr>",
                            "<tr><td>P-0093</td><td>2017</td><td>Belleza</td><td>Coruña</td><td>39</td><td>39.2000000000</td><td>141120.0000000000</td><td>39</td><td>36</td><td>HOMBRE</td><td>48</td><td>2019</td><td>36</td><td>45_49</td><td>HOMBRE</td><td>38847</td><td>45</td><td>49</td><td>Belleza</td><td>2017</td><td>3000.0000000000</td><td>3000.0000000000</td><td>39.2000000000</td><td>141120.0000000000</td><td>117600.00000000000000000000</td><td>23520.00000000000000000000</td><td>0.200000</td></tr>",
                            "</table>"
                        ]
                    }
                }
            ],
            "execution_count": 35
        },
        {
            "cell_type": "code",
            "source": [
                "SELECT TOP 1 *, P.IMPORTE, B.TONELADAS, B.INGRESOS_EUR, P.IMPORTE * B.TONELADAS AS INGRESO_ESPERADO, INGRESOS_EUR - (P.IMPORTE * B.TONELADAS) AS DTO, (INGRESOS_EUR - (P.IMPORTE * B.TONELADAS))/(P.IMPORTE*B.TONELADAS) AS DTO_PCT \r\n",
                "FROM NEMINA.DBO.DATOS_BASE B\r\n",
                "LEFT JOIN NEMINA.DBO.CLIENTES C \r\n",
                "       ON B.CLIENTE_ID = C.CLIENTE_ID\r\n",
                "LEFT JOIN SOCIODEMO.DBO.POBLACION_PROVINCIAS PP\r\n",
                "       ON C.PROVINCIA_ID = PP.PROVINCIA_ID\r\n",
                "      AND C.SEXO_ID = PP.SEXO\r\n",
                "      AND C.EDAD >= PP.EDAD_MIN\r\n",
                "      AND C.EDAD <= PP.EDAD_MAX\r\n",
                "LEFT JOIN NEMINA.DBO.PRODUCTOS P\r\n",
                "       ON B.PRODUCTO_ID = P.PRODUCTO_ID\r\n",
                "      AND B.FY_ID = P.FY_ID\r\n",
                "\r\n",
                "ORDER BY B.TONELADAS DESC"
            ],
            "metadata": {
                "azdata_cell_guid": "2db1ae2b-58cc-4d9c-af3b-703f7f4e7c13"
            },
            "outputs": [
                {
                    "output_type": "display_data",
                    "data": {
                        "text/html": "(1 row affected)"
                    },
                    "metadata": {}
                },
                {
                    "output_type": "display_data",
                    "data": {
                        "text/html": "Total execution time: 00:00:00.159"
                    },
                    "metadata": {}
                },
                {
                    "output_type": "execute_result",
                    "metadata": {},
                    "execution_count": 36,
                    "data": {
                        "application/vnd.dataresource+json": {
                            "schema": {
                                "fields": [
                                    {
                                        "name": "PEDIDO_ID"
                                    },
                                    {
                                        "name": "FY_ID"
                                    },
                                    {
                                        "name": "PRODUCTO_ID"
                                    },
                                    {
                                        "name": "ZONA_ID"
                                    },
                                    {
                                        "name": "CLIENTE_ID"
                                    },
                                    {
                                        "name": "TONELADAS"
                                    },
                                    {
                                        "name": "INGRESOS_EUR"
                                    },
                                    {
                                        "name": "CLIENTE_ID"
                                    },
                                    {
                                        "name": "PROVINCIA_ID"
                                    },
                                    {
                                        "name": "SEXO_ID"
                                    },
                                    {
                                        "name": "EDAD"
                                    },
                                    {
                                        "name": "FY_ID"
                                    },
                                    {
                                        "name": "PROVINCIA_ID"
                                    },
                                    {
                                        "name": "EDAD"
                                    },
                                    {
                                        "name": "SEXO"
                                    },
                                    {
                                        "name": "HABITANTES"
                                    },
                                    {
                                        "name": "EDAD_MIN"
                                    },
                                    {
                                        "name": "EDAD_MAX"
                                    },
                                    {
                                        "name": "PRODUCTO_ID"
                                    },
                                    {
                                        "name": "FY_ID"
                                    },
                                    {
                                        "name": "IMPORTE"
                                    },
                                    {
                                        "name": "IMPORTE"
                                    },
                                    {
                                        "name": "TONELADAS"
                                    },
                                    {
                                        "name": "INGRESOS_EUR"
                                    },
                                    {
                                        "name": "INGRESO_ESPERADO"
                                    },
                                    {
                                        "name": "DTO"
                                    },
                                    {
                                        "name": "DTO_PCT"
                                    }
                                ]
                            },
                            "data": [
                                {
                                    "0": "P-0365",
                                    "1": "2019",
                                    "2": "Setas",
                                    "3": "Ourense",
                                    "4": "24",
                                    "5": "592.0000000000",
                                    "6": "374144.0000000000",
                                    "7": "24",
                                    "8": "15",
                                    "9": "MUJER",
                                    "10": "27",
                                    "11": "2019",
                                    "12": "15",
                                    "13": "25_29",
                                    "14": "MUJER",
                                    "15": "25147",
                                    "16": "25",
                                    "17": "29",
                                    "18": "Setas",
                                    "19": "2019",
                                    "20": "837.0000000000",
                                    "21": "837.0000000000",
                                    "22": "592.0000000000",
                                    "23": "374144.0000000000",
                                    "24": "495504.00000000000000000000",
                                    "25": "-121360.00000000000000000000",
                                    "26": "-0.244922"
                                }
                            ]
                        },
                        "text/html": [
                            "<table>",
                            "<tr><th>PEDIDO_ID</th><th>FY_ID</th><th>PRODUCTO_ID</th><th>ZONA_ID</th><th>CLIENTE_ID</th><th>TONELADAS</th><th>INGRESOS_EUR</th><th>CLIENTE_ID</th><th>PROVINCIA_ID</th><th>SEXO_ID</th><th>EDAD</th><th>FY_ID</th><th>PROVINCIA_ID</th><th>EDAD</th><th>SEXO</th><th>HABITANTES</th><th>EDAD_MIN</th><th>EDAD_MAX</th><th>PRODUCTO_ID</th><th>FY_ID</th><th>IMPORTE</th><th>IMPORTE</th><th>TONELADAS</th><th>INGRESOS_EUR</th><th>INGRESO_ESPERADO</th><th>DTO</th><th>DTO_PCT</th></tr>",
                            "<tr><td>P-0365</td><td>2019</td><td>Setas</td><td>Ourense</td><td>24</td><td>592.0000000000</td><td>374144.0000000000</td><td>24</td><td>15</td><td>MUJER</td><td>27</td><td>2019</td><td>15</td><td>25_29</td><td>MUJER</td><td>25147</td><td>25</td><td>29</td><td>Setas</td><td>2019</td><td>837.0000000000</td><td>837.0000000000</td><td>592.0000000000</td><td>374144.0000000000</td><td>495504.00000000000000000000</td><td>-121360.00000000000000000000</td><td>-0.244922</td></tr>",
                            "</table>"
                        ]
                    }
                }
            ],
            "execution_count": 36
        },
        {
            "cell_type": "markdown",
            "source": [
                "**WHERE**"
            ],
            "metadata": {
                "azdata_cell_guid": "f881a2d4-d0bd-421f-8423-ad636fec9392"
            },
            "attachments": {}
        },
        {
            "cell_type": "markdown",
            "source": [
                "Ejercicio 8\r\n",
                "Encuentra:\r\n",
                "\r\n",
                "Todos los pedidos cuyos ingresos sean inferiores a 18000 €\r\n",
                "Todos los pedidos cuyo precio por tonelada sea inferior a 580 €\r\n",
                "Todos los pedidos de algas"
            ],
            "metadata": {
                "azdata_cell_guid": "be875563-3a9e-47ce-85a2-f04da373a86d"
            }
        },
        {
            "cell_type": "code",
            "source": [
                "SELECT * FROM NEMINA.DBO.DATOS_BASE\r\n",
                "WHERE INGRESOS_EUR<18000"
            ],
            "metadata": {
                "azdata_cell_guid": "16619948-b6de-4367-a3bc-1c31817122c0"
            },
            "outputs": [
                {
                    "output_type": "display_data",
                    "data": {
                        "text/html": "Query was canceled by user"
                    },
                    "metadata": {}
                },
                {
                    "output_type": "display_data",
                    "data": {
                        "text/html": "Total execution time: 00:00:00.120"
                    },
                    "metadata": {}
                }
            ],
            "execution_count": 40
        },
        {
            "cell_type": "code",
            "source": [
                "SELECT TOP 10 *, INGRESOS_EUR/TONELADAS AS ING_TON FROM NEMINA.DBO.DATOS_BASE\r\n",
                "WHERE (INGRESOS_EUR/TONELADAS) <580"
            ],
            "metadata": {
                "azdata_cell_guid": "0c3b8ced-338c-456f-8fd5-fdd8cb0a4f90",
                "tags": [
                    "hide_input"
                ]
            },
            "outputs": [
                {
                    "output_type": "display_data",
                    "data": {
                        "text/html": "(5 rows affected)"
                    },
                    "metadata": {}
                },
                {
                    "output_type": "display_data",
                    "data": {
                        "text/html": "Total execution time: 00:00:00.154"
                    },
                    "metadata": {}
                },
                {
                    "output_type": "execute_result",
                    "metadata": {},
                    "execution_count": 43,
                    "data": {
                        "application/vnd.dataresource+json": {
                            "schema": {
                                "fields": [
                                    {
                                        "name": "PEDIDO_ID"
                                    },
                                    {
                                        "name": "FY_ID"
                                    },
                                    {
                                        "name": "PRODUCTO_ID"
                                    },
                                    {
                                        "name": "ZONA_ID"
                                    },
                                    {
                                        "name": "CLIENTE_ID"
                                    },
                                    {
                                        "name": "TONELADAS"
                                    },
                                    {
                                        "name": "INGRESOS_EUR"
                                    },
                                    {
                                        "name": "ING_TON"
                                    }
                                ]
                            },
                            "data": [
                                {
                                    "0": "P-0019",
                                    "1": "2016",
                                    "2": "Algas",
                                    "3": "Ourense",
                                    "4": "27",
                                    "5": "37.5000000000",
                                    "6": "21375.0000000000",
                                    "7": "570.00000000000000000000"
                                },
                                {
                                    "0": "P-0022",
                                    "1": "2016",
                                    "2": "Algas",
                                    "3": "Pontevedra",
                                    "4": "25",
                                    "5": "30.9000000000",
                                    "6": "17613.0000000000",
                                    "7": "570.00000000000000000000"
                                },
                                {
                                    "0": "P-0029",
                                    "1": "2016",
                                    "2": "Algas",
                                    "3": "Coruña",
                                    "4": "6",
                                    "5": "33.3000000000",
                                    "6": "19181.0000000000",
                                    "7": "576.00600600600600600600"
                                },
                                {
                                    "0": "P-0042",
                                    "1": "2016",
                                    "2": "Algas",
                                    "3": "Coruña",
                                    "4": "1",
                                    "5": "32.4000000000",
                                    "6": "18468.0000000000",
                                    "7": "570.00000000000000000000"
                                },
                                {
                                    "0": "P-0049",
                                    "1": "2016",
                                    "2": "Algas",
                                    "3": "Pontevedra",
                                    "4": "23",
                                    "5": "34.2000000000",
                                    "6": "19699.0000000000",
                                    "7": "575.99415204678362573099"
                                }
                            ]
                        },
                        "text/html": [
                            "<table>",
                            "<tr><th>PEDIDO_ID</th><th>FY_ID</th><th>PRODUCTO_ID</th><th>ZONA_ID</th><th>CLIENTE_ID</th><th>TONELADAS</th><th>INGRESOS_EUR</th><th>ING_TON</th></tr>",
                            "<tr><td>P-0019</td><td>2016</td><td>Algas</td><td>Ourense</td><td>27</td><td>37.5000000000</td><td>21375.0000000000</td><td>570.00000000000000000000</td></tr>",
                            "<tr><td>P-0022</td><td>2016</td><td>Algas</td><td>Pontevedra</td><td>25</td><td>30.9000000000</td><td>17613.0000000000</td><td>570.00000000000000000000</td></tr>",
                            "<tr><td>P-0029</td><td>2016</td><td>Algas</td><td>Coruña</td><td>6</td><td>33.3000000000</td><td>19181.0000000000</td><td>576.00600600600600600600</td></tr>",
                            "<tr><td>P-0042</td><td>2016</td><td>Algas</td><td>Coruña</td><td>1</td><td>32.4000000000</td><td>18468.0000000000</td><td>570.00000000000000000000</td></tr>",
                            "<tr><td>P-0049</td><td>2016</td><td>Algas</td><td>Pontevedra</td><td>23</td><td>34.2000000000</td><td>19699.0000000000</td><td>575.99415204678362573099</td></tr>",
                            "</table>"
                        ]
                    }
                }
            ],
            "execution_count": 43
        },
        {
            "cell_type": "code",
            "source": [
                "SELECT count(*) FROM NEMINA.DBO.DATOS_BASE\r\n",
                "WHERE PRODUCTO_ID = 'Algas'"
            ],
            "metadata": {
                "azdata_cell_guid": "e86286ae-0009-4718-b77d-1186246ae3e1"
            },
            "outputs": [
                {
                    "output_type": "display_data",
                    "data": {
                        "text/html": "(1 row affected)"
                    },
                    "metadata": {}
                },
                {
                    "output_type": "display_data",
                    "data": {
                        "text/html": "Total execution time: 00:00:00.289"
                    },
                    "metadata": {}
                },
                {
                    "output_type": "execute_result",
                    "metadata": {},
                    "execution_count": 45,
                    "data": {
                        "application/vnd.dataresource+json": {
                            "schema": {
                                "fields": [
                                    {
                                        "name": "(No column name)"
                                    }
                                ]
                            },
                            "data": [
                                {
                                    "0": "188"
                                }
                            ]
                        },
                        "text/html": [
                            "<table>",
                            "<tr><th>(No column name)</th></tr>",
                            "<tr><td>188</td></tr>",
                            "</table>"
                        ]
                    }
                }
            ],
            "execution_count": 45
        },
        {
            "cell_type": "markdown",
            "source": [
                "# <mark>Ejerci</mark>cio 9\n",
                "\n",
                "Encuentra:\n",
                "\n",
                "- Todos los pedidos realizados en la zona de Coruña en el año 2019\n",
                "- Todos los pedidos realizados por una mujer de Algas\n",
                "- Todos los pedidos realizados por una mujer y que sean de Algas o de Belleza\n",
                "- Todos los pedidos de importe \\> 10000 € e inferior a 30000"
            ],
            "metadata": {
                "azdata_cell_guid": "e4735fc0-8549-4852-9e4b-66801e015463"
            },
            "attachments": {}
        },
        {
            "cell_type": "code",
            "source": [
                "SELECT TOP 5 * FROM NEMINA.DBO.DATOS_BASE\r\n",
                "WHERE ZONA_ID = 'Coruña'\r\n",
                "AND FY_ID = 2019"
            ],
            "metadata": {
                "azdata_cell_guid": "c75781f9-895a-413b-a492-c3d7a1fc266e"
            },
            "outputs": [
                {
                    "output_type": "display_data",
                    "data": {
                        "text/html": "(5 rows affected)"
                    },
                    "metadata": {}
                },
                {
                    "output_type": "display_data",
                    "data": {
                        "text/html": "Total execution time: 00:00:00.156"
                    },
                    "metadata": {}
                },
                {
                    "output_type": "execute_result",
                    "metadata": {},
                    "execution_count": 46,
                    "data": {
                        "application/vnd.dataresource+json": {
                            "schema": {
                                "fields": [
                                    {
                                        "name": "PEDIDO_ID"
                                    },
                                    {
                                        "name": "FY_ID"
                                    },
                                    {
                                        "name": "PRODUCTO_ID"
                                    },
                                    {
                                        "name": "ZONA_ID"
                                    },
                                    {
                                        "name": "CLIENTE_ID"
                                    },
                                    {
                                        "name": "TONELADAS"
                                    },
                                    {
                                        "name": "INGRESOS_EUR"
                                    }
                                ]
                            },
                            "data": [
                                {
                                    "0": "P-0302",
                                    "1": "2019",
                                    "2": "Setas",
                                    "3": "Coruña",
                                    "4": "17",
                                    "5": "42.8000000000",
                                    "6": "32870.0000000000"
                                },
                                {
                                    "0": "P-0303",
                                    "1": "2019",
                                    "2": "Setas",
                                    "3": "Coruña",
                                    "4": "11",
                                    "5": "45.2000000000",
                                    "6": "34352.0000000000"
                                },
                                {
                                    "0": "P-0305",
                                    "1": "2019",
                                    "2": "Algas",
                                    "3": "Coruña",
                                    "4": "18",
                                    "5": "42.4000000000",
                                    "6": "25949.0000000000"
                                },
                                {
                                    "0": "P-0307",
                                    "1": "2019",
                                    "2": "Algas",
                                    "3": "Coruña",
                                    "4": "14",
                                    "5": "42.8000000000",
                                    "6": "26450.0000000000"
                                },
                                {
                                    "0": "P-0309",
                                    "1": "2019",
                                    "2": "Algas",
                                    "3": "Coruña",
                                    "4": "18",
                                    "5": "42.0000000000",
                                    "6": "25956.0000000000"
                                }
                            ]
                        },
                        "text/html": [
                            "<table>",
                            "<tr><th>PEDIDO_ID</th><th>FY_ID</th><th>PRODUCTO_ID</th><th>ZONA_ID</th><th>CLIENTE_ID</th><th>TONELADAS</th><th>INGRESOS_EUR</th></tr>",
                            "<tr><td>P-0302</td><td>2019</td><td>Setas</td><td>Coruña</td><td>17</td><td>42.8000000000</td><td>32870.0000000000</td></tr>",
                            "<tr><td>P-0303</td><td>2019</td><td>Setas</td><td>Coruña</td><td>11</td><td>45.2000000000</td><td>34352.0000000000</td></tr>",
                            "<tr><td>P-0305</td><td>2019</td><td>Algas</td><td>Coruña</td><td>18</td><td>42.4000000000</td><td>25949.0000000000</td></tr>",
                            "<tr><td>P-0307</td><td>2019</td><td>Algas</td><td>Coruña</td><td>14</td><td>42.8000000000</td><td>26450.0000000000</td></tr>",
                            "<tr><td>P-0309</td><td>2019</td><td>Algas</td><td>Coruña</td><td>18</td><td>42.0000000000</td><td>25956.0000000000</td></tr>",
                            "</table>"
                        ]
                    }
                }
            ],
            "execution_count": 46
        },
        {
            "cell_type": "code",
            "source": [
                "SELECT TOP 5 * FROM NEMINA.DBO.DATOS_BASE D\r\n",
                "LEFT JOIN NEMINA.DBO.CLIENTES C\r\n",
                "ON D.CLIENTE_ID = C.CLIENTE_ID\r\n",
                "WHERE PRODUCTO_ID = 'Algas' AND SEXO_ID = 'Mujer';\r\n",
                "\r\n",
                "SELECT count(*) FROM NEMINA.DBO.DATOS_BASE D\r\n",
                "LEFT JOIN NEMINA.DBO.CLIENTES C\r\n",
                "ON D.CLIENTE_ID = C.CLIENTE_ID\r\n",
                "WHERE PRODUCTO_ID = 'Algas' AND SEXO_ID = 'Mujer';"
            ],
            "metadata": {
                "azdata_cell_guid": "97b04870-206f-4303-a263-b386f41b19a5"
            },
            "outputs": [
                {
                    "output_type": "display_data",
                    "data": {
                        "text/html": "(5 rows affected)"
                    },
                    "metadata": {}
                },
                {
                    "output_type": "display_data",
                    "data": {
                        "text/html": "(1 row affected)"
                    },
                    "metadata": {}
                },
                {
                    "output_type": "display_data",
                    "data": {
                        "text/html": "Total execution time: 00:00:00.072"
                    },
                    "metadata": {}
                },
                {
                    "output_type": "execute_result",
                    "metadata": {},
                    "execution_count": 51,
                    "data": {
                        "application/vnd.dataresource+json": {
                            "schema": {
                                "fields": [
                                    {
                                        "name": "PEDIDO_ID"
                                    },
                                    {
                                        "name": "FY_ID"
                                    },
                                    {
                                        "name": "PRODUCTO_ID"
                                    },
                                    {
                                        "name": "ZONA_ID"
                                    },
                                    {
                                        "name": "CLIENTE_ID"
                                    },
                                    {
                                        "name": "TONELADAS"
                                    },
                                    {
                                        "name": "INGRESOS_EUR"
                                    },
                                    {
                                        "name": "CLIENTE_ID"
                                    },
                                    {
                                        "name": "PROVINCIA_ID"
                                    },
                                    {
                                        "name": "SEXO_ID"
                                    },
                                    {
                                        "name": "EDAD"
                                    }
                                ]
                            },
                            "data": [
                                {
                                    "0": "P-0012",
                                    "1": "2016",
                                    "2": "Algas",
                                    "3": "Ourense",
                                    "4": "27",
                                    "5": "29.7000000000",
                                    "6": "17998.0000000000",
                                    "7": "27",
                                    "8": "27",
                                    "9": "MUJER",
                                    "10": "47"
                                },
                                {
                                    "0": "P-0014",
                                    "1": "2016",
                                    "2": "Algas",
                                    "3": "Lugo",
                                    "4": "16",
                                    "5": "32.7000000000",
                                    "6": "19816.0000000000",
                                    "7": "16",
                                    "8": "15",
                                    "9": "MUJER",
                                    "10": "31"
                                },
                                {
                                    "0": "P-0018",
                                    "1": "2016",
                                    "2": "Algas",
                                    "3": "Coruña",
                                    "4": "18",
                                    "5": "31.8000000000",
                                    "6": "19271.0000000000",
                                    "7": "18",
                                    "8": "36",
                                    "9": "MUJER",
                                    "10": "32"
                                },
                                {
                                    "0": "P-0019",
                                    "1": "2016",
                                    "2": "Algas",
                                    "3": "Ourense",
                                    "4": "27",
                                    "5": "37.5000000000",
                                    "6": "21375.0000000000",
                                    "7": "27",
                                    "8": "27",
                                    "9": "MUJER",
                                    "10": "47"
                                },
                                {
                                    "0": "P-0020",
                                    "1": "2016",
                                    "2": "Algas",
                                    "3": "Coruña",
                                    "4": "7",
                                    "5": "33.3000000000",
                                    "6": "19780.0000000000",
                                    "7": "7",
                                    "8": "36",
                                    "9": "MUJER",
                                    "10": "23"
                                }
                            ]
                        },
                        "text/html": [
                            "<table>",
                            "<tr><th>PEDIDO_ID</th><th>FY_ID</th><th>PRODUCTO_ID</th><th>ZONA_ID</th><th>CLIENTE_ID</th><th>TONELADAS</th><th>INGRESOS_EUR</th><th>CLIENTE_ID</th><th>PROVINCIA_ID</th><th>SEXO_ID</th><th>EDAD</th></tr>",
                            "<tr><td>P-0012</td><td>2016</td><td>Algas</td><td>Ourense</td><td>27</td><td>29.7000000000</td><td>17998.0000000000</td><td>27</td><td>27</td><td>MUJER</td><td>47</td></tr>",
                            "<tr><td>P-0014</td><td>2016</td><td>Algas</td><td>Lugo</td><td>16</td><td>32.7000000000</td><td>19816.0000000000</td><td>16</td><td>15</td><td>MUJER</td><td>31</td></tr>",
                            "<tr><td>P-0018</td><td>2016</td><td>Algas</td><td>Coruña</td><td>18</td><td>31.8000000000</td><td>19271.0000000000</td><td>18</td><td>36</td><td>MUJER</td><td>32</td></tr>",
                            "<tr><td>P-0019</td><td>2016</td><td>Algas</td><td>Ourense</td><td>27</td><td>37.5000000000</td><td>21375.0000000000</td><td>27</td><td>27</td><td>MUJER</td><td>47</td></tr>",
                            "<tr><td>P-0020</td><td>2016</td><td>Algas</td><td>Coruña</td><td>7</td><td>33.3000000000</td><td>19780.0000000000</td><td>7</td><td>36</td><td>MUJER</td><td>23</td></tr>",
                            "</table>"
                        ]
                    }
                },
                {
                    "output_type": "execute_result",
                    "metadata": {},
                    "execution_count": 51,
                    "data": {
                        "application/vnd.dataresource+json": {
                            "schema": {
                                "fields": [
                                    {
                                        "name": "(No column name)"
                                    }
                                ]
                            },
                            "data": [
                                {
                                    "0": "141"
                                }
                            ]
                        },
                        "text/html": [
                            "<table>",
                            "<tr><th>(No column name)</th></tr>",
                            "<tr><td>141</td></tr>",
                            "</table>"
                        ]
                    }
                }
            ],
            "execution_count": 51
        },
        {
            "cell_type": "code",
            "source": [
                "SELECT TOP 5 * FROM NEMINA.DBO.DATOS_BASE D\r\n",
                "LEFT JOIN NEMINA.DBO.CLIENTES C\r\n",
                "ON D.CLIENTE_ID = C.CLIENTE_ID\r\n",
                "WHERE (PRODUCTO_ID = 'Algas' OR PRODUCTO_ID = 'Belleza') AND SEXO_ID = 'Mujer';\r\n",
                "\r\n",
                "SELECT count(*) FROM NEMINA.DBO.DATOS_BASE D\r\n",
                "LEFT JOIN NEMINA.DBO.CLIENTES C\r\n",
                "ON D.CLIENTE_ID = C.CLIENTE_ID\r\n",
                "WHERE (PRODUCTO_ID = 'Algas' OR PRODUCTO_ID = 'Belleza') AND SEXO_ID = 'Mujer';"
            ],
            "metadata": {
                "azdata_cell_guid": "97af8777-06fc-4bae-a675-1fafb1cdc257"
            },
            "outputs": [
                {
                    "output_type": "display_data",
                    "data": {
                        "text/html": "(5 rows affected)"
                    },
                    "metadata": {}
                },
                {
                    "output_type": "display_data",
                    "data": {
                        "text/html": "(1 row affected)"
                    },
                    "metadata": {}
                },
                {
                    "output_type": "display_data",
                    "data": {
                        "text/html": "Total execution time: 00:00:00.083"
                    },
                    "metadata": {}
                },
                {
                    "output_type": "execute_result",
                    "metadata": {},
                    "execution_count": 49,
                    "data": {
                        "application/vnd.dataresource+json": {
                            "schema": {
                                "fields": [
                                    {
                                        "name": "PEDIDO_ID"
                                    },
                                    {
                                        "name": "FY_ID"
                                    },
                                    {
                                        "name": "PRODUCTO_ID"
                                    },
                                    {
                                        "name": "ZONA_ID"
                                    },
                                    {
                                        "name": "CLIENTE_ID"
                                    },
                                    {
                                        "name": "TONELADAS"
                                    },
                                    {
                                        "name": "INGRESOS_EUR"
                                    },
                                    {
                                        "name": "CLIENTE_ID"
                                    },
                                    {
                                        "name": "PROVINCIA_ID"
                                    },
                                    {
                                        "name": "SEXO_ID"
                                    },
                                    {
                                        "name": "EDAD"
                                    }
                                ]
                            },
                            "data": [
                                {
                                    "0": "P-0012",
                                    "1": "2016",
                                    "2": "Algas",
                                    "3": "Ourense",
                                    "4": "27",
                                    "5": "29.7000000000",
                                    "6": "17998.0000000000",
                                    "7": "27",
                                    "8": "27",
                                    "9": "MUJER",
                                    "10": "47"
                                },
                                {
                                    "0": "P-0014",
                                    "1": "2016",
                                    "2": "Algas",
                                    "3": "Lugo",
                                    "4": "16",
                                    "5": "32.7000000000",
                                    "6": "19816.0000000000",
                                    "7": "16",
                                    "8": "15",
                                    "9": "MUJER",
                                    "10": "31"
                                },
                                {
                                    "0": "P-0018",
                                    "1": "2016",
                                    "2": "Algas",
                                    "3": "Coruña",
                                    "4": "18",
                                    "5": "31.8000000000",
                                    "6": "19271.0000000000",
                                    "7": "18",
                                    "8": "36",
                                    "9": "MUJER",
                                    "10": "32"
                                },
                                {
                                    "0": "P-0019",
                                    "1": "2016",
                                    "2": "Algas",
                                    "3": "Ourense",
                                    "4": "27",
                                    "5": "37.5000000000",
                                    "6": "21375.0000000000",
                                    "7": "27",
                                    "8": "27",
                                    "9": "MUJER",
                                    "10": "47"
                                },
                                {
                                    "0": "P-0020",
                                    "1": "2016",
                                    "2": "Algas",
                                    "3": "Coruña",
                                    "4": "7",
                                    "5": "33.3000000000",
                                    "6": "19780.0000000000",
                                    "7": "7",
                                    "8": "36",
                                    "9": "MUJER",
                                    "10": "23"
                                }
                            ]
                        },
                        "text/html": [
                            "<table>",
                            "<tr><th>PEDIDO_ID</th><th>FY_ID</th><th>PRODUCTO_ID</th><th>ZONA_ID</th><th>CLIENTE_ID</th><th>TONELADAS</th><th>INGRESOS_EUR</th><th>CLIENTE_ID</th><th>PROVINCIA_ID</th><th>SEXO_ID</th><th>EDAD</th></tr>",
                            "<tr><td>P-0012</td><td>2016</td><td>Algas</td><td>Ourense</td><td>27</td><td>29.7000000000</td><td>17998.0000000000</td><td>27</td><td>27</td><td>MUJER</td><td>47</td></tr>",
                            "<tr><td>P-0014</td><td>2016</td><td>Algas</td><td>Lugo</td><td>16</td><td>32.7000000000</td><td>19816.0000000000</td><td>16</td><td>15</td><td>MUJER</td><td>31</td></tr>",
                            "<tr><td>P-0018</td><td>2016</td><td>Algas</td><td>Coruña</td><td>18</td><td>31.8000000000</td><td>19271.0000000000</td><td>18</td><td>36</td><td>MUJER</td><td>32</td></tr>",
                            "<tr><td>P-0019</td><td>2016</td><td>Algas</td><td>Ourense</td><td>27</td><td>37.5000000000</td><td>21375.0000000000</td><td>27</td><td>27</td><td>MUJER</td><td>47</td></tr>",
                            "<tr><td>P-0020</td><td>2016</td><td>Algas</td><td>Coruña</td><td>7</td><td>33.3000000000</td><td>19780.0000000000</td><td>7</td><td>36</td><td>MUJER</td><td>23</td></tr>",
                            "</table>"
                        ]
                    }
                },
                {
                    "output_type": "execute_result",
                    "metadata": {},
                    "execution_count": 49,
                    "data": {
                        "application/vnd.dataresource+json": {
                            "schema": {
                                "fields": [
                                    {
                                        "name": "(No column name)"
                                    }
                                ]
                            },
                            "data": [
                                {
                                    "0": "190"
                                }
                            ]
                        },
                        "text/html": [
                            "<table>",
                            "<tr><th>(No column name)</th></tr>",
                            "<tr><td>190</td></tr>",
                            "</table>"
                        ]
                    }
                }
            ],
            "execution_count": 49
        },
        {
            "cell_type": "code",
            "source": [
                "SELECT TOP 5 * FROM NEMINA.DBO.DATOS_BASE\r\n",
                "WHERE INGRESOS_EUR>10000 AND INGRESOS_EUR<30000\r\n",
                "\r\n",
                "SELECT COUNT(*) FROM NEMINA.DBO.DATOS_BASE\r\n",
                "WHERE INGRESOS_EUR>10000 AND INGRESOS_EUR<30000"
            ],
            "metadata": {
                "azdata_cell_guid": "0cfe3dd6-562e-4a2c-b683-dbdbdf09d9cf"
            },
            "outputs": [
                {
                    "output_type": "display_data",
                    "data": {
                        "text/html": "(5 rows affected)"
                    },
                    "metadata": {}
                },
                {
                    "output_type": "display_data",
                    "data": {
                        "text/html": "(1 row affected)"
                    },
                    "metadata": {}
                },
                {
                    "output_type": "display_data",
                    "data": {
                        "text/html": "Total execution time: 00:00:00.062"
                    },
                    "metadata": {}
                },
                {
                    "output_type": "execute_result",
                    "metadata": {},
                    "execution_count": 53,
                    "data": {
                        "application/vnd.dataresource+json": {
                            "schema": {
                                "fields": [
                                    {
                                        "name": "PEDIDO_ID"
                                    },
                                    {
                                        "name": "FY_ID"
                                    },
                                    {
                                        "name": "PRODUCTO_ID"
                                    },
                                    {
                                        "name": "ZONA_ID"
                                    },
                                    {
                                        "name": "CLIENTE_ID"
                                    },
                                    {
                                        "name": "TONELADAS"
                                    },
                                    {
                                        "name": "INGRESOS_EUR"
                                    }
                                ]
                            },
                            "data": [
                                {
                                    "0": "P-0001",
                                    "1": "2016",
                                    "2": "Setas",
                                    "3": "Lugo",
                                    "4": "7",
                                    "5": "31.8000000000",
                                    "6": "24677.0000000000"
                                },
                                {
                                    "0": "P-0002",
                                    "1": "2016",
                                    "2": "Setas",
                                    "3": "Ourense",
                                    "4": "27",
                                    "5": "34.5000000000",
                                    "6": "27048.0000000000"
                                },
                                {
                                    "0": "P-0003",
                                    "1": "2016",
                                    "2": "Setas",
                                    "3": "Ourense",
                                    "4": "21",
                                    "5": "38.1000000000",
                                    "6": "27432.0000000000"
                                },
                                {
                                    "0": "P-0004",
                                    "1": "2016",
                                    "2": "Setas",
                                    "3": "Ourense",
                                    "4": "26",
                                    "5": "35.7000000000",
                                    "6": "25990.0000000000"
                                },
                                {
                                    "0": "P-0005",
                                    "1": "2016",
                                    "2": "Setas",
                                    "3": "Pontevedra",
                                    "4": "25",
                                    "5": "32.7000000000",
                                    "6": "24590.0000000000"
                                }
                            ]
                        },
                        "text/html": [
                            "<table>",
                            "<tr><th>PEDIDO_ID</th><th>FY_ID</th><th>PRODUCTO_ID</th><th>ZONA_ID</th><th>CLIENTE_ID</th><th>TONELADAS</th><th>INGRESOS_EUR</th></tr>",
                            "<tr><td>P-0001</td><td>2016</td><td>Setas</td><td>Lugo</td><td>7</td><td>31.8000000000</td><td>24677.0000000000</td></tr>",
                            "<tr><td>P-0002</td><td>2016</td><td>Setas</td><td>Ourense</td><td>27</td><td>34.5000000000</td><td>27048.0000000000</td></tr>",
                            "<tr><td>P-0003</td><td>2016</td><td>Setas</td><td>Ourense</td><td>21</td><td>38.1000000000</td><td>27432.0000000000</td></tr>",
                            "<tr><td>P-0004</td><td>2016</td><td>Setas</td><td>Ourense</td><td>26</td><td>35.7000000000</td><td>25990.0000000000</td></tr>",
                            "<tr><td>P-0005</td><td>2016</td><td>Setas</td><td>Pontevedra</td><td>25</td><td>32.7000000000</td><td>24590.0000000000</td></tr>",
                            "</table>"
                        ]
                    }
                },
                {
                    "output_type": "execute_result",
                    "metadata": {},
                    "execution_count": 53,
                    "data": {
                        "application/vnd.dataresource+json": {
                            "schema": {
                                "fields": [
                                    {
                                        "name": "(No column name)"
                                    }
                                ]
                            },
                            "data": [
                                {
                                    "0": "335"
                                }
                            ]
                        },
                        "text/html": [
                            "<table>",
                            "<tr><th>(No column name)</th></tr>",
                            "<tr><td>335</td></tr>",
                            "</table>"
                        ]
                    }
                }
            ],
            "execution_count": 53
        },
        {
            "cell_type": "markdown",
            "source": [
                "# <mark>Ejerci</mark>cio 10\n",
                "\n",
                "Obtén los pedidos de Setas realizados por hombres, de entre 35 y 50 años (ambos incluidos) que vivan en provincias para las que, en su grupo de edad, residan más de 40.000 personas."
            ],
            "metadata": {
                "azdata_cell_guid": "f26b6ce9-e6b6-44c5-a3a4-d83c2aa59cb3"
            },
            "attachments": {}
        },
        {
            "cell_type": "code",
            "source": [
                "SELECT TOP 5 * FROM NEMINA.DBO.DATOS_BASE D\r\n",
                "LEFT JOIN NEMINA.DBO.CLIENTES C\r\n",
                "ON D.CLIENTE_ID = C.CLIENTE_ID\r\n",
                "LEFT JOIN SOCIODEMO.DBO.POBLACION_PROVINCIAS P\r\n",
                "       ON C.PROVINCIA_ID = P.PROVINCIA_ID\r\n",
                "      AND C.SEXO_ID = P.SEXO\r\n",
                "      AND C.EDAD BETWEEN P.EDAD_MIN AND P.EDAD_MAX\r\n",
                "WHERE C.EDAD BETWEEN 35 AND 50\r\n",
                "AND HABITANTES > 40000\r\n",
                "AND SEXO_ID = 'HOMBRE'\r\n",
                "AND PRODUCTO_ID = 'Setas';\r\n",
                "\r\n",
                "\r\n",
                "SELECT count(*) AS COUNTING FROM NEMINA.DBO.DATOS_BASE D\r\n",
                "LEFT JOIN NEMINA.DBO.CLIENTES C\r\n",
                "ON D.CLIENTE_ID = C.CLIENTE_ID\r\n",
                "LEFT JOIN SOCIODEMO.DBO.POBLACION_PROVINCIAS P\r\n",
                "       ON C.PROVINCIA_ID = P.PROVINCIA_ID\r\n",
                "      AND C.SEXO_ID = P.SEXO\r\n",
                "      AND C.EDAD BETWEEN P.EDAD_MIN AND P.EDAD_MAX\r\n",
                "WHERE C.EDAD BETWEEN 35 AND 50\r\n",
                "AND HABITANTES > 40000\r\n",
                "AND SEXO_ID = 'HOMBRE'\r\n",
                "AND PRODUCTO_ID = 'Setas'"
            ],
            "metadata": {
                "azdata_cell_guid": "d9f8051d-5024-43ee-ba39-4acb369b42c2"
            },
            "outputs": [
                {
                    "output_type": "display_data",
                    "data": {
                        "text/html": "(3 rows affected)"
                    },
                    "metadata": {}
                },
                {
                    "output_type": "display_data",
                    "data": {
                        "text/html": "(1 row affected)"
                    },
                    "metadata": {}
                },
                {
                    "output_type": "display_data",
                    "data": {
                        "text/html": "Total execution time: 00:00:00.283"
                    },
                    "metadata": {}
                },
                {
                    "output_type": "execute_result",
                    "metadata": {},
                    "execution_count": 57,
                    "data": {
                        "application/vnd.dataresource+json": {
                            "schema": {
                                "fields": [
                                    {
                                        "name": "PEDIDO_ID"
                                    },
                                    {
                                        "name": "FY_ID"
                                    },
                                    {
                                        "name": "PRODUCTO_ID"
                                    },
                                    {
                                        "name": "ZONA_ID"
                                    },
                                    {
                                        "name": "CLIENTE_ID"
                                    },
                                    {
                                        "name": "TONELADAS"
                                    },
                                    {
                                        "name": "INGRESOS_EUR"
                                    },
                                    {
                                        "name": "CLIENTE_ID"
                                    },
                                    {
                                        "name": "PROVINCIA_ID"
                                    },
                                    {
                                        "name": "SEXO_ID"
                                    },
                                    {
                                        "name": "EDAD"
                                    },
                                    {
                                        "name": "FY_ID"
                                    },
                                    {
                                        "name": "PROVINCIA_ID"
                                    },
                                    {
                                        "name": "EDAD"
                                    },
                                    {
                                        "name": "SEXO"
                                    },
                                    {
                                        "name": "HABITANTES"
                                    },
                                    {
                                        "name": "EDAD_MIN"
                                    },
                                    {
                                        "name": "EDAD_MAX"
                                    }
                                ]
                            },
                            "data": [
                                {
                                    "0": "P-0156",
                                    "1": "2018",
                                    "2": "Setas",
                                    "3": "Coruña",
                                    "4": "29",
                                    "5": "43.3000000000",
                                    "6": "31190.0000000000",
                                    "7": "29",
                                    "8": "15",
                                    "9": "HOMBRE",
                                    "10": "50",
                                    "11": "2019",
                                    "12": "15",
                                    "13": "50_54",
                                    "14": "HOMBRE",
                                    "15": "41846",
                                    "16": "50",
                                    "17": "54"
                                },
                                {
                                    "0": "P-0320",
                                    "1": "2019",
                                    "2": "Setas",
                                    "3": "Coruña",
                                    "4": "32",
                                    "5": "43.2000000000",
                                    "6": "33869.0000000000",
                                    "7": "32",
                                    "8": "15",
                                    "9": "HOMBRE",
                                    "10": "50",
                                    "11": "2019",
                                    "12": "15",
                                    "13": "50_54",
                                    "14": "HOMBRE",
                                    "15": "41846",
                                    "16": "50",
                                    "17": "54"
                                },
                                {
                                    "0": "P-0379",
                                    "1": "2019",
                                    "2": "Setas",
                                    "3": "Coruña",
                                    "4": "33",
                                    "5": "42.8000000000",
                                    "6": "32870.0000000000",
                                    "7": "33",
                                    "8": "15",
                                    "9": "HOMBRE",
                                    "10": "37",
                                    "11": "2019",
                                    "12": "15",
                                    "13": "35_39",
                                    "14": "HOMBRE",
                                    "15": "40239",
                                    "16": "35",
                                    "17": "39"
                                }
                            ]
                        },
                        "text/html": [
                            "<table>",
                            "<tr><th>PEDIDO_ID</th><th>FY_ID</th><th>PRODUCTO_ID</th><th>ZONA_ID</th><th>CLIENTE_ID</th><th>TONELADAS</th><th>INGRESOS_EUR</th><th>CLIENTE_ID</th><th>PROVINCIA_ID</th><th>SEXO_ID</th><th>EDAD</th><th>FY_ID</th><th>PROVINCIA_ID</th><th>EDAD</th><th>SEXO</th><th>HABITANTES</th><th>EDAD_MIN</th><th>EDAD_MAX</th></tr>",
                            "<tr><td>P-0156</td><td>2018</td><td>Setas</td><td>Coruña</td><td>29</td><td>43.3000000000</td><td>31190.0000000000</td><td>29</td><td>15</td><td>HOMBRE</td><td>50</td><td>2019</td><td>15</td><td>50_54</td><td>HOMBRE</td><td>41846</td><td>50</td><td>54</td></tr>",
                            "<tr><td>P-0320</td><td>2019</td><td>Setas</td><td>Coruña</td><td>32</td><td>43.2000000000</td><td>33869.0000000000</td><td>32</td><td>15</td><td>HOMBRE</td><td>50</td><td>2019</td><td>15</td><td>50_54</td><td>HOMBRE</td><td>41846</td><td>50</td><td>54</td></tr>",
                            "<tr><td>P-0379</td><td>2019</td><td>Setas</td><td>Coruña</td><td>33</td><td>42.8000000000</td><td>32870.0000000000</td><td>33</td><td>15</td><td>HOMBRE</td><td>37</td><td>2019</td><td>15</td><td>35_39</td><td>HOMBRE</td><td>40239</td><td>35</td><td>39</td></tr>",
                            "</table>"
                        ]
                    }
                },
                {
                    "output_type": "execute_result",
                    "metadata": {},
                    "execution_count": 57,
                    "data": {
                        "application/vnd.dataresource+json": {
                            "schema": {
                                "fields": [
                                    {
                                        "name": "COUNTING"
                                    }
                                ]
                            },
                            "data": [
                                {
                                    "0": "3"
                                }
                            ]
                        },
                        "text/html": [
                            "<table>",
                            "<tr><th>COUNTING</th></tr>",
                            "<tr><td>3</td></tr>",
                            "</table>"
                        ]
                    }
                }
            ],
            "execution_count": 57
        },
        {
            "cell_type": "markdown",
            "source": [
                "**AGREGADOS**"
            ],
            "metadata": {
                "azdata_cell_guid": "5bda3f51-6bdb-4014-93cf-c587734f699e"
            },
            "attachments": {}
        },
        {
            "cell_type": "markdown",
            "source": [
                "Ejercicio 11 \n",
                "\n",
                "Obtén el número de pedidos por sexo Obtén el número de pedidos por edad Obtén el número de pedidos por sexo y edad"
            ],
            "metadata": {
                "azdata_cell_guid": "bd5c1a60-a33e-4a91-9ce7-7c7014f1e2cc"
            },
            "attachments": {}
        },
        {
            "cell_type": "code",
            "source": [
                "SELECT SEXO_ID, COUNT(*) AS CONTEO \r\n",
                "FROM NEMINA.DBO.DATOS_BASE D\r\n",
                "LEFT JOIN NEMINA.DBO.CLIENTES C\r\n",
                "ON D.CLIENTE_ID = C.CLIENTE_ID\r\n",
                "GROUP BY C.SEXO_ID"
            ],
            "metadata": {
                "azdata_cell_guid": "62baa453-5714-411b-90a3-2d03f291600c"
            },
            "outputs": [
                {
                    "output_type": "display_data",
                    "data": {
                        "text/html": "(2 rows affected)"
                    },
                    "metadata": {}
                },
                {
                    "output_type": "display_data",
                    "data": {
                        "text/html": "Total execution time: 00:00:00.066"
                    },
                    "metadata": {}
                },
                {
                    "output_type": "execute_result",
                    "metadata": {},
                    "execution_count": 58,
                    "data": {
                        "application/vnd.dataresource+json": {
                            "schema": {
                                "fields": [
                                    {
                                        "name": "SEXO_ID"
                                    },
                                    {
                                        "name": "CONTEO"
                                    }
                                ]
                            },
                            "data": [
                                {
                                    "0": "HOMBRE",
                                    "1": "109"
                                },
                                {
                                    "0": "MUJER",
                                    "1": "392"
                                }
                            ]
                        },
                        "text/html": [
                            "<table>",
                            "<tr><th>SEXO_ID</th><th>CONTEO</th></tr>",
                            "<tr><td>HOMBRE</td><td>109</td></tr>",
                            "<tr><td>MUJER</td><td>392</td></tr>",
                            "</table>"
                        ]
                    }
                }
            ],
            "execution_count": 58
        },
        {
            "cell_type": "code",
            "source": [
                "SELECT TOP 10 EDAD, COUNT(*) AS CONTEO \r\n",
                "FROM NEMINA.DBO.DATOS_BASE D\r\n",
                "LEFT JOIN NEMINA.DBO.CLIENTES C\r\n",
                "ON D.CLIENTE_ID = C.CLIENTE_ID\r\n",
                "GROUP BY EDAD\r\n",
                "ORDER BY CONTEO DESC"
            ],
            "metadata": {
                "azdata_cell_guid": "6be56fd8-bf46-4620-8082-a58a8fa26e6e",
                "tags": []
            },
            "outputs": [
                {
                    "output_type": "display_data",
                    "data": {
                        "text/html": "(10 rows affected)"
                    },
                    "metadata": {}
                },
                {
                    "output_type": "display_data",
                    "data": {
                        "text/html": "Total execution time: 00:00:00.066"
                    },
                    "metadata": {}
                },
                {
                    "output_type": "execute_result",
                    "metadata": {},
                    "execution_count": 66,
                    "data": {
                        "application/vnd.dataresource+json": {
                            "schema": {
                                "fields": [
                                    {
                                        "name": "EDAD"
                                    },
                                    {
                                        "name": "CONTEO"
                                    }
                                ]
                            },
                            "data": [
                                {
                                    "0": "28",
                                    "1": "84"
                                },
                                {
                                    "0": "36",
                                    "1": "47"
                                },
                                {
                                    "0": "47",
                                    "1": "42"
                                },
                                {
                                    "0": "27",
                                    "1": "34"
                                },
                                {
                                    "0": "43",
                                    "1": "33"
                                },
                                {
                                    "0": "32",
                                    "1": "32"
                                },
                                {
                                    "0": "42",
                                    "1": "32"
                                },
                                {
                                    "0": "45",
                                    "1": "32"
                                },
                                {
                                    "0": "46",
                                    "1": "21"
                                },
                                {
                                    "0": "52",
                                    "1": "20"
                                }
                            ]
                        },
                        "text/html": [
                            "<table>",
                            "<tr><th>EDAD</th><th>CONTEO</th></tr>",
                            "<tr><td>28</td><td>84</td></tr>",
                            "<tr><td>36</td><td>47</td></tr>",
                            "<tr><td>47</td><td>42</td></tr>",
                            "<tr><td>27</td><td>34</td></tr>",
                            "<tr><td>43</td><td>33</td></tr>",
                            "<tr><td>32</td><td>32</td></tr>",
                            "<tr><td>42</td><td>32</td></tr>",
                            "<tr><td>45</td><td>32</td></tr>",
                            "<tr><td>46</td><td>21</td></tr>",
                            "<tr><td>52</td><td>20</td></tr>",
                            "</table>"
                        ]
                    }
                }
            ],
            "execution_count": 66
        },
        {
            "cell_type": "code",
            "source": [
                "SELECT  TOP 5 SEXO_ID, EDAD, COUNT(*) AS CONTEO\r\n",
                "FROM NEMINA.DBO.DATOS_BASE B\r\n",
                "LEFT JOIN NEMINA.DBO.CLIENTES C\r\n",
                "       ON B.CLIENTE_ID = C.CLIENTE_ID\r\n",
                "GROUP BY SEXO_ID, EDAD\r\n",
                "ORDER BY CONTEO DESC;"
            ],
            "metadata": {
                "azdata_cell_guid": "fe042574-c065-4600-b028-bd02e8577368"
            },
            "outputs": [
                {
                    "output_type": "display_data",
                    "data": {
                        "text/html": "(5 rows affected)"
                    },
                    "metadata": {}
                },
                {
                    "output_type": "display_data",
                    "data": {
                        "text/html": "Total execution time: 00:00:00.066"
                    },
                    "metadata": {}
                },
                {
                    "output_type": "execute_result",
                    "metadata": {},
                    "execution_count": 67,
                    "data": {
                        "application/vnd.dataresource+json": {
                            "schema": {
                                "fields": [
                                    {
                                        "name": "SEXO_ID"
                                    },
                                    {
                                        "name": "EDAD"
                                    },
                                    {
                                        "name": "CONTEO"
                                    }
                                ]
                            },
                            "data": [
                                {
                                    "0": "HOMBRE",
                                    "1": "28",
                                    "2": "70"
                                },
                                {
                                    "0": "MUJER",
                                    "1": "36",
                                    "2": "47"
                                },
                                {
                                    "0": "MUJER",
                                    "1": "47",
                                    "2": "42"
                                },
                                {
                                    "0": "MUJER",
                                    "1": "27",
                                    "2": "33"
                                },
                                {
                                    "0": "MUJER",
                                    "1": "43",
                                    "2": "33"
                                }
                            ]
                        },
                        "text/html": [
                            "<table>",
                            "<tr><th>SEXO_ID</th><th>EDAD</th><th>CONTEO</th></tr>",
                            "<tr><td>HOMBRE</td><td>28</td><td>70</td></tr>",
                            "<tr><td>MUJER</td><td>36</td><td>47</td></tr>",
                            "<tr><td>MUJER</td><td>47</td><td>42</td></tr>",
                            "<tr><td>MUJER</td><td>27</td><td>33</td></tr>",
                            "<tr><td>MUJER</td><td>43</td><td>33</td></tr>",
                            "</table>"
                        ]
                    }
                }
            ],
            "execution_count": 67
        },
        {
            "cell_type": "markdown",
            "source": [
                "# <mark>Ejerci</mark>cio 11\n",
                "\n",
                "Obtén la media de ingresos para las ventas de Algas durante el año 2019 agrupadas por cliente."
            ],
            "metadata": {
                "azdata_cell_guid": "f2f2ebc3-0ce3-479d-a5b4-1e2b28384649"
            },
            "attachments": {}
        },
        {
            "cell_type": "code",
            "source": [
                "SELECT TOP 10 CLIENTE_ID, AVG(INGRESOS_EUR) AS MEDIA_INGRESOS FROM NEMINA.DBO.DATOS_BASE\r\n",
                "WHERE FY_ID=2019 AND PRODUCTO_ID='Algas'\r\n",
                "GROUP BY CLIENTE_ID\r\n",
                "ORDER BY 2 DESC"
            ],
            "metadata": {
                "azdata_cell_guid": "6c2ef5e8-aa88-4536-ab3f-7bd21bf638ee"
            },
            "outputs": [
                {
                    "output_type": "display_data",
                    "data": {
                        "text/html": "(10 rows affected)"
                    },
                    "metadata": {}
                },
                {
                    "output_type": "display_data",
                    "data": {
                        "text/html": "Total execution time: 00:00:00.073"
                    },
                    "metadata": {}
                },
                {
                    "output_type": "execute_result",
                    "metadata": {},
                    "execution_count": 71,
                    "data": {
                        "application/vnd.dataresource+json": {
                            "schema": {
                                "fields": [
                                    {
                                        "name": "CLIENTE_ID"
                                    },
                                    {
                                        "name": "MEDIA_INGRESOS"
                                    }
                                ]
                            },
                            "data": [
                                {
                                    "0": "25",
                                    "1": "93462.0000000000"
                                },
                                {
                                    "0": "22",
                                    "1": "50438.7500000000"
                                },
                                {
                                    "0": "6",
                                    "1": "27972.0000000000"
                                },
                                {
                                    "0": "16",
                                    "1": "27934.0000000000"
                                },
                                {
                                    "0": "12",
                                    "1": "27808.5000000000"
                                },
                                {
                                    "0": "11",
                                    "1": "27679.3333333333"
                                },
                                {
                                    "0": "15",
                                    "1": "27575.0000000000"
                                },
                                {
                                    "0": "17",
                                    "1": "27453.6666666666"
                                },
                                {
                                    "0": "3",
                                    "1": "27444.0000000000"
                                },
                                {
                                    "0": "13",
                                    "1": "27388.7500000000"
                                }
                            ]
                        },
                        "text/html": [
                            "<table>",
                            "<tr><th>CLIENTE_ID</th><th>MEDIA_INGRESOS</th></tr>",
                            "<tr><td>25</td><td>93462.0000000000</td></tr>",
                            "<tr><td>22</td><td>50438.7500000000</td></tr>",
                            "<tr><td>6</td><td>27972.0000000000</td></tr>",
                            "<tr><td>16</td><td>27934.0000000000</td></tr>",
                            "<tr><td>12</td><td>27808.5000000000</td></tr>",
                            "<tr><td>11</td><td>27679.3333333333</td></tr>",
                            "<tr><td>15</td><td>27575.0000000000</td></tr>",
                            "<tr><td>17</td><td>27453.6666666666</td></tr>",
                            "<tr><td>3</td><td>27444.0000000000</td></tr>",
                            "<tr><td>13</td><td>27388.7500000000</td></tr>",
                            "</table>"
                        ]
                    }
                }
            ],
            "execution_count": 71
        },
        {
            "cell_type": "markdown",
            "source": [
                "# Having\n",
                "\n",
                "El having es una cláusula de SQL que va después del GROUP BY y antes del ORDER que indica condiciones que debe cumplir el agregado.\n",
                "\n",
                "Por ejemplo, obtener los ingresos promedios en el 2019 por cliente para los pedidos de algas si, el importe medio es, al menos de 40.000 €"
            ],
            "metadata": {
                "azdata_cell_guid": "f53a3790-36f4-4153-86fd-882318256881"
            },
            "attachments": {}
        },
        {
            "cell_type": "code",
            "source": [
                "SELECT  TOP 5 CLIENTE_ID, AVG(INGRESOS_EUR) AS X\r\n",
                "FROM NEMINA.DBO.DATOS_BASE\r\n",
                "WHERE FY_ID = 2019\r\n",
                "  AND PRODUCTO_ID = 'Algas'\r\n",
                "GROUP BY CLIENTE_ID\r\n",
                "HAVING AVG(INGRESOS_EUR)>40000"
            ],
            "metadata": {
                "azdata_cell_guid": "8e0143d6-bcd7-49a0-820d-a85594d3d71e"
            },
            "outputs": [
                {
                    "output_type": "display_data",
                    "data": {
                        "text/html": "(2 rows affected)"
                    },
                    "metadata": {}
                },
                {
                    "output_type": "display_data",
                    "data": {
                        "text/html": "Total execution time: 00:00:00.054"
                    },
                    "metadata": {}
                },
                {
                    "output_type": "execute_result",
                    "metadata": {},
                    "execution_count": 80,
                    "data": {
                        "application/vnd.dataresource+json": {
                            "schema": {
                                "fields": [
                                    {
                                        "name": "CLIENTE_ID"
                                    },
                                    {
                                        "name": "X"
                                    }
                                ]
                            },
                            "data": [
                                {
                                    "0": "22",
                                    "1": "50438.7500000000"
                                },
                                {
                                    "0": "25",
                                    "1": "93462.0000000000"
                                }
                            ]
                        },
                        "text/html": [
                            "<table>",
                            "<tr><th>CLIENTE_ID</th><th>X</th></tr>",
                            "<tr><td>22</td><td>50438.7500000000</td></tr>",
                            "<tr><td>25</td><td>93462.0000000000</td></tr>",
                            "</table>"
                        ]
                    }
                }
            ],
            "execution_count": 80
        }
    ]
}