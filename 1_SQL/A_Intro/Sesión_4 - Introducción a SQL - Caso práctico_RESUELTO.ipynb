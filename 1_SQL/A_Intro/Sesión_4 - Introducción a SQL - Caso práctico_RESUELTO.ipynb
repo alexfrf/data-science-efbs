{
    "metadata": {
        "kernelspec": {
            "name": "SQL",
            "display_name": "SQL",
            "language": "sql"
        },
        "language_info": {
            "name": "sql",
            "version": ""
        },
        "extensions": {
            "azuredatastudio": {
                "version": 1,
                "views": []
            }
        }
    },
    "nbformat_minor": 2,
    "nbformat": 4,
    "cells": [
        {
            "cell_type": "markdown",
            "source": [
                "![Logo MDS](images/logo_mds.png)\n",
                "\n",
                "# **Sesión 4 - Analítica en la base de datos - Introducción a SQL**"
            ],
            "metadata": {
                "azdata_cell_guid": "f1f17d1c-7535-4c0f-925e-85bfe9862f6a",
                "extensions": {
                    "azuredatastudio": {
                        "views": []
                    }
                }
            }
        },
        {
            "cell_type": "markdown",
            "source": [
                "# Caso Práctico\n",
                "\n",
                "-   Localiza el cliente de Nemiña más rentable.\n",
                "-   ¿Cuántas personas de su edad residen en su provincia? ¿y en toda Galicia?\n",
                "-   ¿Cuántas personas de su edad son clientes de Nemiña?\n",
                "-   ¿Cuáles son nuestros ingresos por Provincia?\n",
                "-   ¿Cuáles son nuestros ingresos por habitante en cada Provincia?\n",
                "-   ¿Cuál debería ser la provincia en la que Nemiña centrase su fuerza comercial?\n",
                "-   ¿Cuál es la cuota de mercado de Nemiña en 2016 para Algas y Setas? ¿y en 2019?\n",
                "-   ¿Cuál es el crecimiento de Nemiña entre 2016 y 2019? ¿y el del mercado?\n",
                "-   ¿Qué comercial ha hecho más descuentos en número, € y pct sobre los ingresos durante cada año?"
            ],
            "metadata": {
                "azdata_cell_guid": "7ad2b176-9cc1-48da-b668-8a50151a11a9",
                "extensions": {
                    "azuredatastudio": {
                        "views": []
                    }
                }
            }
        },
        {
            "cell_type": "code",
            "source": [
                "--\"Localiza el cliente de Nemiña más rentable\"\r\n",
                "SELECT TOP 1 D.CLIENTE_ID, SUM(D.INGRESOS_EUR/D.TONELADAS) AS ING_TN, C.PROVINCIA_ID,C.SEXO_ID,C.EDAD \r\n",
                "FROM NEMINA.DBO.DATOS_BASE D \r\n",
                "LEFT JOIN NEMINA.DBO.CLIENTES C\r\n",
                "ON D.CLIENTE_ID=C.CLIENTE_ID\r\n",
                "GROUP BY D.CLIENTE_ID, C.PROVINCIA_ID,C.SEXO_ID,C.EDAD \r\n",
                "ORDER BY 2 DESC"
            ],
            "metadata": {
                "azdata_cell_guid": "f68cc985-1528-4f42-8908-02e442e32b87",
                "tags": []
            },
            "outputs": [
                {
                    "output_type": "display_data",
                    "data": {
                        "text/html": "(1 row affected)"
                    },
                    "metadata": {}
                },
                {
                    "output_type": "display_data",
                    "data": {
                        "text/html": "Total execution time: 00:00:00.057"
                    },
                    "metadata": {}
                },
                {
                    "output_type": "execute_result",
                    "execution_count": 12,
                    "data": {
                        "application/vnd.dataresource+json": {
                            "schema": {
                                "fields": [
                                    {
                                        "name": "CLIENTE_ID"
                                    },
                                    {
                                        "name": "ING_TN"
                                    },
                                    {
                                        "name": "PROVINCIA_ID"
                                    },
                                    {
                                        "name": "SEXO_ID"
                                    },
                                    {
                                        "name": "EDAD"
                                    }
                                ]
                            },
                            "data": [
                                {
                                    "0": "28",
                                    "1": "39601.12730721289181718921",
                                    "2": "27",
                                    "3": "MUJER",
                                    "4": "45"
                                }
                            ]
                        },
                        "text/html": "<table><tr><th>CLIENTE_ID</th><th>ING_TN</th><th>PROVINCIA_ID</th><th>SEXO_ID</th><th>EDAD</th></tr><tr><td>28</td><td>39601.12730721289181718921</td><td>27</td><td>MUJER</td><td>45</td></tr></table>"
                    },
                    "metadata": {}
                }
            ],
            "execution_count": 12
        },
        {
            "cell_type": "code",
            "source": [
                "--\"¿Cuántas personas de su edad residen en su provincia? ¿y en toda Galicia?\"\r\n",
                "SELECT SUM(HABITANTES) AS HABITANTES\r\n",
                "FROM SOCIODEMO.DBO.POBLACION_EDADES\r\n",
                "WHERE PROVINCIA_ID=27 AND (EDAD_MIN<=45 AND EDAD_MAX>=45);\r\n",
                "\r\n",
                "SELECT SUM(HABITANTES) AS HABITANTES\r\n",
                "FROM SOCIODEMO.DBO.POBLACION_EDADES\r\n",
                "WHERE (EDAD_MIN<=45 AND EDAD_MAX>=45)"
            ],
            "metadata": {
                "azdata_cell_guid": "1e063044-ef7e-4a13-bc88-7ebefd659d42",
                "tags": []
            },
            "outputs": [
                {
                    "output_type": "display_data",
                    "data": {
                        "text/html": "(1 row affected)"
                    },
                    "metadata": {}
                },
                {
                    "output_type": "display_data",
                    "data": {
                        "text/html": "(1 row affected)"
                    },
                    "metadata": {}
                },
                {
                    "output_type": "display_data",
                    "data": {
                        "text/html": "Total execution time: 00:00:00.070"
                    },
                    "metadata": {}
                },
                {
                    "output_type": "execute_result",
                    "execution_count": 13,
                    "data": {
                        "application/vnd.dataresource+json": {
                            "schema": {
                                "fields": [
                                    {
                                        "name": "HABITANTES"
                                    }
                                ]
                            },
                            "data": [
                                {
                                    "0": "23968"
                                }
                            ]
                        },
                        "text/html": "<table><tr><th>HABITANTES</th></tr><tr><td>23968</td></tr></table>"
                    },
                    "metadata": {}
                },
                {
                    "output_type": "execute_result",
                    "execution_count": 13,
                    "data": {
                        "application/vnd.dataresource+json": {
                            "schema": {
                                "fields": [
                                    {
                                        "name": "HABITANTES"
                                    }
                                ]
                            },
                            "data": [
                                {
                                    "0": "429290"
                                }
                            ]
                        },
                        "text/html": "<table><tr><th>HABITANTES</th></tr><tr><td>429290</td></tr></table>"
                    },
                    "metadata": {}
                }
            ],
            "execution_count": 13
        },
        {
            "cell_type": "code",
            "source": [
                "--\"¿Cuántas personas de su edad son clientes de Nemiña?\"\r\n",
                "SELECT COUNT(*) AS CONTEO \r\n",
                "FROM NEMINA.DBO.CLIENTES\r\n",
                "WHERE EDAD=45"
            ],
            "metadata": {
                "azdata_cell_guid": "3c5ea5d5-6bc4-4e5d-a8cb-c8997fe21395"
            },
            "outputs": [
                {
                    "output_type": "display_data",
                    "data": {
                        "text/html": "(1 row affected)"
                    },
                    "metadata": {}
                },
                {
                    "output_type": "display_data",
                    "data": {
                        "text/html": "Total execution time: 00:00:00.066"
                    },
                    "metadata": {}
                },
                {
                    "output_type": "execute_result",
                    "execution_count": 14,
                    "data": {
                        "application/vnd.dataresource+json": {
                            "schema": {
                                "fields": [
                                    {
                                        "name": "CONTEO"
                                    }
                                ]
                            },
                            "data": [
                                {
                                    "0": "1"
                                }
                            ]
                        },
                        "text/html": "<table><tr><th>CONTEO</th></tr><tr><td>1</td></tr></table>"
                    },
                    "metadata": {}
                }
            ],
            "execution_count": 14
        },
        {
            "cell_type": "code",
            "source": [
                "--\"¿Cuáles son nuestros ingresos por Provincia?\"\r\n",
                "SELECT C.PROVINCIA_ID, SUM(D.INGRESOS_EUR) AS INGRESOS FROM NEMINA.DBO.DATOS_BASE D\r\n",
                "LEFT JOIN NEMINA.DBO.CLIENTES C\r\n",
                "ON C.CLIENTE_ID=D.CLIENTE_ID\r\n",
                "GROUP BY C.PROVINCIA_ID\r\n",
                "ORDER BY 2 DESC;\r\n",
                "\r\n",
                "SELECT SUM(D.INGRESOS_EUR) AS INGRESOS FROM NEMINA.DBO.DATOS_BASE D\r\n",
                "LEFT JOIN NEMINA.DBO.CLIENTES C\r\n",
                "ON C.CLIENTE_ID=D.CLIENTE_ID"
            ],
            "metadata": {
                "azdata_cell_guid": "9c198976-708d-486c-b3b5-5dcb62ed7085"
            },
            "outputs": [
                {
                    "output_type": "display_data",
                    "data": {
                        "text/html": "(4 rows affected)"
                    },
                    "metadata": {}
                },
                {
                    "output_type": "display_data",
                    "data": {
                        "text/html": "(1 row affected)"
                    },
                    "metadata": {}
                },
                {
                    "output_type": "display_data",
                    "data": {
                        "text/html": "Total execution time: 00:00:00.059"
                    },
                    "metadata": {}
                },
                {
                    "output_type": "execute_result",
                    "execution_count": 15,
                    "data": {
                        "application/vnd.dataresource+json": {
                            "schema": {
                                "fields": [
                                    {
                                        "name": "PROVINCIA_ID"
                                    },
                                    {
                                        "name": "INGRESOS"
                                    }
                                ]
                            },
                            "data": [
                                {
                                    "0": "15",
                                    "1": "7523119.0000000000"
                                },
                                {
                                    "0": "36",
                                    "1": "5944157.0000000000"
                                },
                                {
                                    "0": "27",
                                    "1": "5327543.0000000000"
                                },
                                {
                                    "0": "32",
                                    "1": "2415676.0000000000"
                                }
                            ]
                        },
                        "text/html": "<table><tr><th>PROVINCIA_ID</th><th>INGRESOS</th></tr><tr><td>15</td><td>7523119.0000000000</td></tr><tr><td>36</td><td>5944157.0000000000</td></tr><tr><td>27</td><td>5327543.0000000000</td></tr><tr><td>32</td><td>2415676.0000000000</td></tr></table>"
                    },
                    "metadata": {}
                },
                {
                    "output_type": "execute_result",
                    "execution_count": 15,
                    "data": {
                        "application/vnd.dataresource+json": {
                            "schema": {
                                "fields": [
                                    {
                                        "name": "INGRESOS"
                                    }
                                ]
                            },
                            "data": [
                                {
                                    "0": "21210495.0000000000"
                                }
                            ]
                        },
                        "text/html": "<table><tr><th>INGRESOS</th></tr><tr><td>21210495.0000000000</td></tr></table>"
                    },
                    "metadata": {}
                }
            ],
            "execution_count": 15
        },
        {
            "cell_type": "code",
            "source": [
                "--\"¿Cuáles son nuestros ingresos por habitante en cada Provincia?\"\r\n",
                "\r\n",
                "SELECT C.PROVINCIA_ID, SUM(D.INGRESOS_EUR) AS INGRESOS, SUM(PP.HABITANTES) AS HAB, (SUM(D.INGRESOS_EUR)/SUM(PP.HABITANTES)) AS ING_HAB FROM NEMINA.DBO.DATOS_BASE D\r\n",
                "LEFT JOIN NEMINA.DBO.CLIENTES C\r\n",
                "ON C.CLIENTE_ID=D.CLIENTE_ID\r\n",
                "LEFT JOIN SOCIODEMO.DBO.POBLACION_PROVINCIAS PP\r\n",
                "ON PP.PROVINCIA_ID=C.PROVINCIA_ID\r\n",
                "GROUP BY C.PROVINCIA_ID\n",
                "ORDER BY (SUM(D.INGRESOS_EUR)/SUM(PP.HABITANTES)) DESC"
            ],
            "metadata": {
                "azdata_cell_guid": "77be9b0b-0989-4d18-b743-02dde335f610",
                "tags": []
            },
            "outputs": [
                {
                    "output_type": "display_data",
                    "data": {
                        "text/html": "(4 rows affected)"
                    },
                    "metadata": {}
                },
                {
                    "output_type": "display_data",
                    "data": {
                        "text/html": "Total execution time: 00:00:00.075"
                    },
                    "metadata": {}
                },
                {
                    "output_type": "execute_result",
                    "execution_count": 16,
                    "data": {
                        "application/vnd.dataresource+json": {
                            "schema": {
                                "fields": [
                                    {
                                        "name": "PROVINCIA_ID"
                                    },
                                    {
                                        "name": "INGRESOS"
                                    },
                                    {
                                        "name": "HAB"
                                    },
                                    {
                                        "name": "ING_HAB"
                                    }
                                ]
                            },
                            "data": [
                                {
                                    "0": "32",
                                    "1": "86964336.0000000000",
                                    "2": "16920805",
                                    "3": "5.1394916494"
                                },
                                {
                                    "0": "27",
                                    "1": "191791548.0000000000",
                                    "2": "42187136",
                                    "3": "4.5462092520"
                                },
                                {
                                    "0": "36",
                                    "1": "213989652.0000000000",
                                    "2": "142342415",
                                    "3": "1.5033442561"
                                },
                                {
                                    "0": "15",
                                    "1": "270832284.0000000000",
                                    "2": "186972532",
                                    "3": "1.4485137528"
                                }
                            ]
                        },
                        "text/html": "<table><tr><th>PROVINCIA_ID</th><th>INGRESOS</th><th>HAB</th><th>ING_HAB</th></tr><tr><td>32</td><td>86964336.0000000000</td><td>16920805</td><td>5.1394916494</td></tr><tr><td>27</td><td>191791548.0000000000</td><td>42187136</td><td>4.5462092520</td></tr><tr><td>36</td><td>213989652.0000000000</td><td>142342415</td><td>1.5033442561</td></tr><tr><td>15</td><td>270832284.0000000000</td><td>186972532</td><td>1.4485137528</td></tr></table>"
                    },
                    "metadata": {}
                }
            ],
            "execution_count": 16
        },
        {
            "cell_type": "code",
            "source": [
                "--\"¿Cuál debería ser la provincia en la que Nemiña centrase su fuerza comercial?\"\r\n",
                "SELECT C.PROVINCIA_ID, SUM(D.INGRESOS_EUR) AS INGRESOS, SUM(D.INGRESOS_EUR/TONELADAS) AS INGRESOS_TN, AVG(D.INGRESOS_EUR/TONELADAS) AS PRECIO_MEDIO, COUNT(DISTINCT(PEDIDO_ID)) AS NUM_PEDIDOS, COUNT(DISTINCT(C.CLIENTE_ID)) AS NUM_CLIENTES FROM NEMINA.DBO.DATOS_BASE D\r\n",
                "LEFT JOIN NEMINA.DBO.CLIENTES C\r\n",
                "ON C.CLIENTE_ID=D.CLIENTE_ID\r\n",
                "GROUP BY C.PROVINCIA_ID\r\n",
                "ORDER BY 3 DESC;\r\n",
                "\r\n",
                "SELECT TOP 1 C.PROVINCIA_ID, SUM(D.INGRESOS_EUR) AS INGRESOS, SUM(D.INGRESOS_EUR/TONELADAS) AS INGRESOS_TN, AVG(D.INGRESOS_EUR/TONELADAS) AS PRECIO_MEDIO, COUNT(DISTINCT(PEDIDO_ID)) AS NUM_PEDIDOS, COUNT(DISTINCT(D.CLIENTE_ID)) AS NUM_CLIENTES FROM NEMINA.DBO.DATOS_BASE D\r\n",
                "LEFT JOIN NEMINA.DBO.CLIENTES C\r\n",
                "ON C.CLIENTE_ID=D.CLIENTE_ID\r\n",
                "GROUP BY C.PROVINCIA_ID\r\n",
                "ORDER BY AVG(D.INGRESOS_EUR/TONELADAS) DESC;"
            ],
            "metadata": {
                "azdata_cell_guid": "b5f0156b-9383-4faa-a7be-f8b202d3e8e4"
            },
            "outputs": [
                {
                    "output_type": "display_data",
                    "data": {
                        "text/html": "(4 rows affected)"
                    },
                    "metadata": {}
                },
                {
                    "output_type": "display_data",
                    "data": {
                        "text/html": "(1 row affected)"
                    },
                    "metadata": {}
                },
                {
                    "output_type": "display_data",
                    "data": {
                        "text/html": "Total execution time: 00:00:00.069"
                    },
                    "metadata": {}
                },
                {
                    "output_type": "execute_result",
                    "execution_count": 17,
                    "data": {
                        "application/vnd.dataresource+json": {
                            "schema": {
                                "fields": [
                                    {
                                        "name": "PROVINCIA_ID"
                                    },
                                    {
                                        "name": "INGRESOS"
                                    },
                                    {
                                        "name": "INGRESOS_TN"
                                    },
                                    {
                                        "name": "PRECIO_MEDIO"
                                    },
                                    {
                                        "name": "NUM_PEDIDOS"
                                    },
                                    {
                                        "name": "NUM_CLIENTES"
                                    }
                                ]
                            },
                            "data": [
                                {
                                    "0": "15",
                                    "1": "7523119.0000000000",
                                    "2": "169328.06927257271258293155",
                                    "3": "1013.94053456630366816126",
                                    "4": "167",
                                    "5": "19"
                                },
                                {
                                    "0": "36",
                                    "1": "5944157.0000000000",
                                    "2": "136577.93749247377219866443",
                                    "3": "904.48965226803822648122",
                                    "4": "151",
                                    "5": "12"
                                },
                                {
                                    "0": "27",
                                    "1": "5327543.0000000000",
                                    "2": "125386.86327261994209002115",
                                    "3": "979.58486931734329757829",
                                    "4": "128",
                                    "5": "6"
                                },
                                {
                                    "0": "32",
                                    "1": "2415676.0000000000",
                                    "2": "55131.91035781257633281600",
                                    "3": "1002.39837014204684241483",
                                    "4": "55",
                                    "5": "4"
                                }
                            ]
                        },
                        "text/html": "<table><tr><th>PROVINCIA_ID</th><th>INGRESOS</th><th>INGRESOS_TN</th><th>PRECIO_MEDIO</th><th>NUM_PEDIDOS</th><th>NUM_CLIENTES</th></tr><tr><td>15</td><td>7523119.0000000000</td><td>169328.06927257271258293155</td><td>1013.94053456630366816126</td><td>167</td><td>19</td></tr><tr><td>36</td><td>5944157.0000000000</td><td>136577.93749247377219866443</td><td>904.48965226803822648122</td><td>151</td><td>12</td></tr><tr><td>27</td><td>5327543.0000000000</td><td>125386.86327261994209002115</td><td>979.58486931734329757829</td><td>128</td><td>6</td></tr><tr><td>32</td><td>2415676.0000000000</td><td>55131.91035781257633281600</td><td>1002.39837014204684241483</td><td>55</td><td>4</td></tr></table>"
                    },
                    "metadata": {}
                },
                {
                    "output_type": "execute_result",
                    "execution_count": 17,
                    "data": {
                        "application/vnd.dataresource+json": {
                            "schema": {
                                "fields": [
                                    {
                                        "name": "PROVINCIA_ID"
                                    },
                                    {
                                        "name": "INGRESOS"
                                    },
                                    {
                                        "name": "INGRESOS_TN"
                                    },
                                    {
                                        "name": "PRECIO_MEDIO"
                                    },
                                    {
                                        "name": "NUM_PEDIDOS"
                                    },
                                    {
                                        "name": "NUM_CLIENTES"
                                    }
                                ]
                            },
                            "data": [
                                {
                                    "0": "15",
                                    "1": "7523119.0000000000",
                                    "2": "169328.06927257271258293155",
                                    "3": "1013.94053456630366816126",
                                    "4": "167",
                                    "5": "19"
                                }
                            ]
                        },
                        "text/html": "<table><tr><th>PROVINCIA_ID</th><th>INGRESOS</th><th>INGRESOS_TN</th><th>PRECIO_MEDIO</th><th>NUM_PEDIDOS</th><th>NUM_CLIENTES</th></tr><tr><td>15</td><td>7523119.0000000000</td><td>169328.06927257271258293155</td><td>1013.94053456630366816126</td><td>167</td><td>19</td></tr></table>"
                    },
                    "metadata": {}
                }
            ],
            "execution_count": 17
        },
        {
            "cell_type": "code",
            "source": [
                "-- \"¿Cuál es la cuota de mercado de Nemiña en 2016 para Algas y Setas? ¿y en 2019?\"\r\n",
                "SELECT D.FY_ID,D.PRODUCTO_ID, M.VALOR, SUM(D.INGRESOS_EUR) AS INGRESOS, SUM(D.INGRESOS_EUR)/M.VALOR AS CUOTA FROM NEMINA.DBO.DATOS_BASE D\r\n",
                "INNER JOIN NEMINA.DBO.MERCADO M\r\n",
                "ON D.PRODUCTO_ID=M.PRODUCTO_ID AND D.FY_ID = M.FY_ID\r\n",
                "GROUP BY D.PRODUCTO_ID,D.FY_ID,M.VALOR"
            ],
            "metadata": {
                "azdata_cell_guid": "c3884629-7358-4107-90cc-ddc40e969504"
            },
            "outputs": [
                {
                    "output_type": "display_data",
                    "data": {
                        "text/html": "(4 rows affected)"
                    },
                    "metadata": {}
                },
                {
                    "output_type": "display_data",
                    "data": {
                        "text/html": "Total execution time: 00:00:00.055"
                    },
                    "metadata": {}
                },
                {
                    "output_type": "execute_result",
                    "execution_count": 18,
                    "data": {
                        "application/vnd.dataresource+json": {
                            "schema": {
                                "fields": [
                                    {
                                        "name": "FY_ID"
                                    },
                                    {
                                        "name": "PRODUCTO_ID"
                                    },
                                    {
                                        "name": "VALOR"
                                    },
                                    {
                                        "name": "INGRESOS"
                                    },
                                    {
                                        "name": "CUOTA"
                                    }
                                ]
                            },
                            "data": [
                                {
                                    "0": "2016",
                                    "1": "Algas",
                                    "2": "500000.0000000000",
                                    "3": "303509.0000000000",
                                    "4": "0.607018"
                                },
                                {
                                    "0": "2019",
                                    "1": "Algas",
                                    "2": "3500000.0000000000",
                                    "3": "2259197.0000000000",
                                    "4": "0.645484"
                                },
                                {
                                    "0": "2016",
                                    "1": "Setas",
                                    "2": "2500000.0000000000",
                                    "3": "838528.0000000000",
                                    "4": "0.335411"
                                },
                                {
                                    "0": "2019",
                                    "1": "Setas",
                                    "2": "20000000.0000000000",
                                    "3": "3690871.0000000000",
                                    "4": "0.184543"
                                }
                            ]
                        },
                        "text/html": "<table><tr><th>FY_ID</th><th>PRODUCTO_ID</th><th>VALOR</th><th>INGRESOS</th><th>CUOTA</th></tr><tr><td>2016</td><td>Algas</td><td>500000.0000000000</td><td>303509.0000000000</td><td>0.607018</td></tr><tr><td>2019</td><td>Algas</td><td>3500000.0000000000</td><td>2259197.0000000000</td><td>0.645484</td></tr><tr><td>2016</td><td>Setas</td><td>2500000.0000000000</td><td>838528.0000000000</td><td>0.335411</td></tr><tr><td>2019</td><td>Setas</td><td>20000000.0000000000</td><td>3690871.0000000000</td><td>0.184543</td></tr></table>"
                    },
                    "metadata": {}
                }
            ],
            "execution_count": 18
        },
        {
            "cell_type": "code",
            "source": [
                "-- \"¿Cuál es el crecimiento de Nemiña entre 2016 y 2019? ¿y el del mercado?\"\r\n",
                "SELECT FY_ID,SUM(VALOR) AS VALOR_TOTAL FROM NEMINA.DBO.MERCADO\r\n",
                "GROUP BY FY_ID;\r\n",
                "\r\n",
                "SELECT FY_ID,SUM(INGRESOS_EUR) AS VALOR_TOTAL FROM NEMINA.DBO.DATOS_BASE\r\n",
                "WHERE PRODUCTO_ID <> 'Belleza'\r\n",
                "GROUP BY FY_ID\r\n",
                "HAVING (FY_ID = 2016 OR FY_ID=2019);\r\n",
                "\r\n",
                "SELECT ((23500000.0000000000-3000000.0000000000)/3000000.0000000000) * 100 AS CRECIMIENTO_MERCADO, ((5950068.0000000000-1142037.0000000000)/1142037.0000000000) * 100 AS CRECIMIENTO_NEMINA"
            ],
            "metadata": {
                "azdata_cell_guid": "68380882-9d6f-4ac8-bd94-60146f0a411b",
                "tags": []
            },
            "outputs": [
                {
                    "output_type": "display_data",
                    "data": {
                        "text/html": "(2 rows affected)"
                    },
                    "metadata": {}
                },
                {
                    "output_type": "display_data",
                    "data": {
                        "text/html": "(2 rows affected)"
                    },
                    "metadata": {}
                },
                {
                    "output_type": "display_data",
                    "data": {
                        "text/html": "(1 row affected)"
                    },
                    "metadata": {}
                },
                {
                    "output_type": "display_data",
                    "data": {
                        "text/html": "Total execution time: 00:00:00.077"
                    },
                    "metadata": {}
                },
                {
                    "output_type": "execute_result",
                    "execution_count": 19,
                    "data": {
                        "application/vnd.dataresource+json": {
                            "schema": {
                                "fields": [
                                    {
                                        "name": "FY_ID"
                                    },
                                    {
                                        "name": "VALOR_TOTAL"
                                    }
                                ]
                            },
                            "data": [
                                {
                                    "0": "2016",
                                    "1": "3000000.0000000000"
                                },
                                {
                                    "0": "2019",
                                    "1": "23500000.0000000000"
                                }
                            ]
                        },
                        "text/html": "<table><tr><th>FY_ID</th><th>VALOR_TOTAL</th></tr><tr><td>2016</td><td>3000000.0000000000</td></tr><tr><td>2019</td><td>23500000.0000000000</td></tr></table>"
                    },
                    "metadata": {}
                },
                {
                    "output_type": "execute_result",
                    "execution_count": 19,
                    "data": {
                        "application/vnd.dataresource+json": {
                            "schema": {
                                "fields": [
                                    {
                                        "name": "FY_ID"
                                    },
                                    {
                                        "name": "VALOR_TOTAL"
                                    }
                                ]
                            },
                            "data": [
                                {
                                    "0": "2016",
                                    "1": "1142037.0000000000"
                                },
                                {
                                    "0": "2019",
                                    "1": "5950068.0000000000"
                                }
                            ]
                        },
                        "text/html": "<table><tr><th>FY_ID</th><th>VALOR_TOTAL</th></tr><tr><td>2016</td><td>1142037.0000000000</td></tr><tr><td>2019</td><td>5950068.0000000000</td></tr></table>"
                    },
                    "metadata": {}
                },
                {
                    "output_type": "execute_result",
                    "execution_count": 19,
                    "data": {
                        "application/vnd.dataresource+json": {
                            "schema": {
                                "fields": [
                                    {
                                        "name": "CRECIMIENTO_MERCADO"
                                    },
                                    {
                                        "name": "CRECIMIENTO_NEMINA"
                                    }
                                ]
                            },
                            "data": [
                                {
                                    "0": "683.333333333333333",
                                    "1": "421.0048360955030354"
                                }
                            ]
                        },
                        "text/html": "<table><tr><th>CRECIMIENTO_MERCADO</th><th>CRECIMIENTO_NEMINA</th></tr><tr><td>683.333333333333333</td><td>421.0048360955030354</td></tr></table>"
                    },
                    "metadata": {}
                }
            ],
            "execution_count": 19
        },
        {
            "cell_type": "code",
            "source": [
                "SELECT TOP 1 COUNT(*) AS NUMERO_PEDIDOS_DTO, C.COMERCIAL_ID,C.COMERCIAL_DESC,B.FY_ID, SUM(INGRESOS_EUR - (P.IMPORTE * B.TONELADAS)) AS DTO, AVG((INGRESOS_EUR - (P.IMPORTE * B.TONELADAS))/(P.IMPORTE*B.TONELADAS)) AS DTO_PCT \r\n",
                "FROM NEMINA.DBO.DATOS_BASE B\r\n",
                "LEFT JOIN NEMINA.DBO.COMERCIALES C \r\n",
                "       ON B.ZONA_ID = C.ZONA_ID\r\n",
                "LEFT JOIN NEMINA.DBO.PRODUCTOS P\r\n",
                "       ON B.PRODUCTO_ID = P.PRODUCTO_ID\r\n",
                "      AND B.FY_ID = P.FY_ID\r\n",
                "WHERE INGRESOS_EUR - (P.IMPORTE * B.TONELADAS)<0 --\"SOLO CUENTO PEDIDOS CON DESCUENTO, DEJANDO FUERA INCREMENTOS\"\r\n",
                "GROUP BY C.COMERCIAL_ID,B.FY_ID,C.COMERCIAL_DESC\r\n",
                "ORDER BY FY_ID ASC,DTO_PCT ASC;\r\n",
                "\r\n",
                "SELECT TOP 1 COUNT(*) AS NUMERO_PEDIDOS_DTO, C.COMERCIAL_ID,C.COMERCIAL_DESC,B.FY_ID, SUM(INGRESOS_EUR - (P.IMPORTE * B.TONELADAS)) AS DTO, AVG((INGRESOS_EUR - (P.IMPORTE * B.TONELADAS))/(P.IMPORTE*B.TONELADAS)) AS DTO_PCT \r\n",
                "FROM NEMINA.DBO.DATOS_BASE B\r\n",
                "LEFT JOIN NEMINA.DBO.COMERCIALES C \r\n",
                "       ON B.ZONA_ID = C.ZONA_ID\r\n",
                "LEFT JOIN NEMINA.DBO.PRODUCTOS P\r\n",
                "       ON B.PRODUCTO_ID = P.PRODUCTO_ID\r\n",
                "      AND B.FY_ID = P.FY_ID\r\n",
                "WHERE INGRESOS_EUR - (P.IMPORTE * B.TONELADAS)<0 --\"SOLO CUENTO PEDIDOS CON DESCUENTO, DEJANDO FUERA INCREMENTOS\"\r\n",
                "GROUP BY C.COMERCIAL_ID,B.FY_ID,C.COMERCIAL_DESC\r\n",
                "HAVING B.FY_ID=2017\r\n",
                "ORDER BY FY_ID ASC,DTO_PCT ASC;\r\n",
                "\r\n",
                "SELECT TOP 1 COUNT(*) AS NUMERO_PEDIDOS_DTO,C.COMERCIAL_ID,C.COMERCIAL_DESC,B.FY_ID, SUM(INGRESOS_EUR - (P.IMPORTE * B.TONELADAS)) AS DTO, AVG((INGRESOS_EUR - (P.IMPORTE * B.TONELADAS))/(P.IMPORTE*B.TONELADAS)) AS DTO_PCT \r\n",
                "FROM NEMINA.DBO.DATOS_BASE B\r\n",
                "LEFT JOIN NEMINA.DBO.COMERCIALES C \r\n",
                "       ON B.ZONA_ID = C.ZONA_ID\r\n",
                "LEFT JOIN NEMINA.DBO.PRODUCTOS P\r\n",
                "       ON B.PRODUCTO_ID = P.PRODUCTO_ID\r\n",
                "      AND B.FY_ID = P.FY_ID\r\n",
                "WHERE INGRESOS_EUR - (P.IMPORTE * B.TONELADAS)<0 --\"SOLO CUENTO PEDIDOS CON DESCUENTO, DEJANDO FUERA INCREMENTOS\"\r\n",
                "GROUP BY C.COMERCIAL_ID,B.FY_ID,C.COMERCIAL_DESC\r\n",
                "HAVING B.FY_ID=2018\r\n",
                "ORDER BY FY_ID ASC,DTO_PCT ASC;\r\n",
                "\r\n",
                "SELECT TOP 1 COUNT(*) AS NUMERO_PEDIDOS_DTO,C.COMERCIAL_ID,C.COMERCIAL_DESC,B.FY_ID, SUM(INGRESOS_EUR - (P.IMPORTE * B.TONELADAS)) AS DTO, AVG((INGRESOS_EUR - (P.IMPORTE * B.TONELADAS))/(P.IMPORTE*B.TONELADAS)) AS DTO_PCT \r\n",
                "FROM NEMINA.DBO.DATOS_BASE B\r\n",
                "LEFT JOIN NEMINA.DBO.COMERCIALES C \r\n",
                "       ON B.ZONA_ID = C.ZONA_ID\r\n",
                "LEFT JOIN NEMINA.DBO.PRODUCTOS P\r\n",
                "       ON B.PRODUCTO_ID = P.PRODUCTO_ID\r\n",
                "      AND B.FY_ID = P.FY_ID\r\n",
                "WHERE INGRESOS_EUR - (P.IMPORTE * B.TONELADAS)<0 --\"SOLO CUENTO PEDIDOS CON DESCUENTO, DEJANDO FUERA INCREMENTOS\"\r\n",
                "GROUP BY C.COMERCIAL_ID,B.FY_ID,C.COMERCIAL_DESC\r\n",
                "HAVING B.FY_ID=2019\r\n",
                "ORDER BY FY_ID ASC,DTO_PCT ASC;"
            ],
            "metadata": {
                "azdata_cell_guid": "38c79528-c870-4697-9cc4-df1332a60e5c",
                "tags": []
            },
            "outputs": [
                {
                    "output_type": "display_data",
                    "data": {
                        "text/html": "(1 row affected)"
                    },
                    "metadata": {}
                },
                {
                    "output_type": "display_data",
                    "data": {
                        "text/html": "(1 row affected)"
                    },
                    "metadata": {}
                },
                {
                    "output_type": "display_data",
                    "data": {
                        "text/html": "(1 row affected)"
                    },
                    "metadata": {}
                },
                {
                    "output_type": "display_data",
                    "data": {
                        "text/html": "(1 row affected)"
                    },
                    "metadata": {}
                },
                {
                    "output_type": "display_data",
                    "data": {
                        "text/html": "Total execution time: 00:00:00.612"
                    },
                    "metadata": {}
                },
                {
                    "output_type": "execute_result",
                    "metadata": {},
                    "execution_count": 2,
                    "data": {
                        "application/vnd.dataresource+json": {
                            "schema": {
                                "fields": [
                                    {
                                        "name": "NUMERO_PEDIDOS_DTO"
                                    },
                                    {
                                        "name": "COMERCIAL_ID"
                                    },
                                    {
                                        "name": "COMERCIAL_DESC"
                                    },
                                    {
                                        "name": "FY_ID"
                                    },
                                    {
                                        "name": "DTO"
                                    },
                                    {
                                        "name": "DTO_PCT"
                                    }
                                ]
                            },
                            "data": [
                                {
                                    "0": "26",
                                    "1": "1",
                                    "2": "Breixo",
                                    "3": "2016",
                                    "4": "-34390.00000000000000000000",
                                    "5": "-0.051923"
                                }
                            ]
                        },
                        "text/html": [
                            "<table>",
                            "<tr><th>NUMERO_PEDIDOS_DTO</th><th>COMERCIAL_ID</th><th>COMERCIAL_DESC</th><th>FY_ID</th><th>DTO</th><th>DTO_PCT</th></tr>",
                            "<tr><td>26</td><td>1</td><td>Breixo</td><td>2016</td><td>-34390.00000000000000000000</td><td>-0.051923</td></tr>",
                            "</table>"
                        ]
                    }
                },
                {
                    "output_type": "execute_result",
                    "metadata": {},
                    "execution_count": 2,
                    "data": {
                        "application/vnd.dataresource+json": {
                            "schema": {
                                "fields": [
                                    {
                                        "name": "NUMERO_PEDIDOS_DTO"
                                    },
                                    {
                                        "name": "COMERCIAL_ID"
                                    },
                                    {
                                        "name": "COMERCIAL_DESC"
                                    },
                                    {
                                        "name": "FY_ID"
                                    },
                                    {
                                        "name": "DTO"
                                    },
                                    {
                                        "name": "DTO_PCT"
                                    }
                                ]
                            },
                            "data": [
                                {
                                    "0": "35",
                                    "1": "1",
                                    "2": "Breixo",
                                    "3": "2017",
                                    "4": "-108073.16000000000000000000",
                                    "5": "-0.097340"
                                }
                            ]
                        },
                        "text/html": [
                            "<table>",
                            "<tr><th>NUMERO_PEDIDOS_DTO</th><th>COMERCIAL_ID</th><th>COMERCIAL_DESC</th><th>FY_ID</th><th>DTO</th><th>DTO_PCT</th></tr>",
                            "<tr><td>35</td><td>1</td><td>Breixo</td><td>2017</td><td>-108073.16000000000000000000</td><td>-0.097340</td></tr>",
                            "</table>"
                        ]
                    }
                },
                {
                    "output_type": "execute_result",
                    "metadata": {},
                    "execution_count": 2,
                    "data": {
                        "application/vnd.dataresource+json": {
                            "schema": {
                                "fields": [
                                    {
                                        "name": "NUMERO_PEDIDOS_DTO"
                                    },
                                    {
                                        "name": "COMERCIAL_ID"
                                    },
                                    {
                                        "name": "COMERCIAL_DESC"
                                    },
                                    {
                                        "name": "FY_ID"
                                    },
                                    {
                                        "name": "DTO"
                                    },
                                    {
                                        "name": "DTO_PCT"
                                    }
                                ]
                            },
                            "data": [
                                {
                                    "0": "69",
                                    "1": "1",
                                    "2": "Breixo",
                                    "3": "2018",
                                    "4": "-424937.10000000000000000000",
                                    "5": "-0.122774"
                                }
                            ]
                        },
                        "text/html": [
                            "<table>",
                            "<tr><th>NUMERO_PEDIDOS_DTO</th><th>COMERCIAL_ID</th><th>COMERCIAL_DESC</th><th>FY_ID</th><th>DTO</th><th>DTO_PCT</th></tr>",
                            "<tr><td>69</td><td>1</td><td>Breixo</td><td>2018</td><td>-424937.10000000000000000000</td><td>-0.122774</td></tr>",
                            "</table>"
                        ]
                    }
                },
                {
                    "output_type": "execute_result",
                    "metadata": {},
                    "execution_count": 2,
                    "data": {
                        "application/vnd.dataresource+json": {
                            "schema": {
                                "fields": [
                                    {
                                        "name": "NUMERO_PEDIDOS_DTO"
                                    },
                                    {
                                        "name": "COMERCIAL_ID"
                                    },
                                    {
                                        "name": "COMERCIAL_DESC"
                                    },
                                    {
                                        "name": "FY_ID"
                                    },
                                    {
                                        "name": "DTO"
                                    },
                                    {
                                        "name": "DTO_PCT"
                                    }
                                ]
                            },
                            "data": [
                                {
                                    "0": "82",
                                    "1": "1",
                                    "2": "Breixo",
                                    "3": "2019",
                                    "4": "-736479.40000000000000000000",
                                    "5": "-0.167126"
                                }
                            ]
                        },
                        "text/html": [
                            "<table>",
                            "<tr><th>NUMERO_PEDIDOS_DTO</th><th>COMERCIAL_ID</th><th>COMERCIAL_DESC</th><th>FY_ID</th><th>DTO</th><th>DTO_PCT</th></tr>",
                            "<tr><td>82</td><td>1</td><td>Breixo</td><td>2019</td><td>-736479.40000000000000000000</td><td>-0.167126</td></tr>",
                            "</table>"
                        ]
                    }
                }
            ],
            "execution_count": 2
        }
    ]
}