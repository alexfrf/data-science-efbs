{
    "metadata": {
        "kernelspec": {
            "name": "SQL",
            "display_name": "SQL",
            "language": "sql"
        },
        "language_info": {
            "name": "sql",
            "version": ""
        },
        "extensions": {
            "azuredatastudio": {
                "version": 1,
                "views": []
            }
        }
    },
    "nbformat_minor": 2,
    "nbformat": 4,
    "cells": [
        {
            "cell_type": "code",
            "source": [
                "SELECT 'Hola Mundo';"
            ],
            "metadata": {
                "azdata_cell_guid": "6d13e205-dffc-4526-92b6-3ba452958646"
            },
            "outputs": [
                {
                    "output_type": "display_data",
                    "data": {
                        "text/html": "(1 row affected)"
                    },
                    "metadata": {}
                },
                {
                    "output_type": "display_data",
                    "data": {
                        "text/html": "Total execution time: 00:00:00.044"
                    },
                    "metadata": {}
                },
                {
                    "output_type": "execute_result",
                    "execution_count": 36,
                    "data": {
                        "application/vnd.dataresource+json": {
                            "schema": {
                                "fields": [
                                    {
                                        "name": "(No column name)"
                                    }
                                ]
                            },
                            "data": [
                                {
                                    "0": "Hola Mundo"
                                }
                            ]
                        },
                        "text/html": "<table><tr><th>(No column name)</th></tr><tr><td>Hola Mundo</td></tr></table>"
                    },
                    "metadata": {}
                }
            ],
            "execution_count": 36
        },
        {
            "cell_type": "code",
            "source": [
                "SELECT 3+2 as \"suma\", 37*8 as \"multi\", power(3,3) as \"power\", log(4444,3) as \"log\";"
            ],
            "metadata": {
                "azdata_cell_guid": "722b3b31-65f9-401a-a53d-cd88138cecad"
            },
            "outputs": [
                {
                    "output_type": "display_data",
                    "data": {
                        "text/html": "(1 row affected)"
                    },
                    "metadata": {}
                },
                {
                    "output_type": "display_data",
                    "data": {
                        "text/html": "Total execution time: 00:00:00.050"
                    },
                    "metadata": {}
                },
                {
                    "output_type": "execute_result",
                    "execution_count": 37,
                    "data": {
                        "application/vnd.dataresource+json": {
                            "schema": {
                                "fields": [
                                    {
                                        "name": "suma"
                                    },
                                    {
                                        "name": "multi"
                                    },
                                    {
                                        "name": "power"
                                    },
                                    {
                                        "name": "log"
                                    }
                                ]
                            },
                            "data": [
                                {
                                    "0": "5",
                                    "1": "296",
                                    "2": "27",
                                    "3": "7.64538157582629"
                                }
                            ]
                        },
                        "text/html": "<table><tr><th>suma</th><th>multi</th><th>power</th><th>log</th></tr><tr><td>5</td><td>296</td><td>27</td><td>7.64538157582629</td></tr></table>"
                    },
                    "metadata": {}
                }
            ],
            "execution_count": 37
        },
        {
            "cell_type": "code",
            "source": [
                "SELECT 3+2 AS \"1\", 3+2*2 AS \"2\", 3+2*POWER(2,3) AS \"3\",3+2*5 AS \"4\", (3+2)*5 AS \"5\";"
            ],
            "metadata": {
                "azdata_cell_guid": "dfe7dc31-4491-4872-8d0a-ea13782020ec"
            },
            "outputs": [
                {
                    "output_type": "display_data",
                    "data": {
                        "text/html": "(1 row affected)"
                    },
                    "metadata": {}
                },
                {
                    "output_type": "display_data",
                    "data": {
                        "text/html": "Total execution time: 00:00:00.052"
                    },
                    "metadata": {}
                },
                {
                    "output_type": "execute_result",
                    "execution_count": 38,
                    "data": {
                        "application/vnd.dataresource+json": {
                            "schema": {
                                "fields": [
                                    {
                                        "name": "1"
                                    },
                                    {
                                        "name": "2"
                                    },
                                    {
                                        "name": "3"
                                    },
                                    {
                                        "name": "4"
                                    },
                                    {
                                        "name": "5"
                                    }
                                ]
                            },
                            "data": [
                                {
                                    "0": "5",
                                    "1": "7",
                                    "2": "19",
                                    "3": "13",
                                    "4": "25"
                                }
                            ]
                        },
                        "text/html": "<table><tr><th>1</th><th>2</th><th>3</th><th>4</th><th>5</th></tr><tr><td>5</td><td>7</td><td>19</td><td>13</td><td>25</td></tr></table>"
                    },
                    "metadata": {}
                }
            ],
            "execution_count": 38
        },
        {
            "cell_type": "markdown",
            "source": [
                "**No dejar en manos de la base de datos la norma de paréntesis**. Poner paréntesis incluso en casos como 2 + (3\\*5)"
            ],
            "metadata": {
                "azdata_cell_guid": "fb3d267c-cdb8-4d48-a0b1-a9eeb77003bb"
            },
            "attachments": {}
        },
        {
            "cell_type": "code",
            "source": [
                "SELECT SUBSTRING('ADARABIOYO',2,3)"
            ],
            "metadata": {
                "azdata_cell_guid": "7b27e7d0-6f2f-4a53-915a-65e94ca31c1b"
            },
            "outputs": [
                {
                    "output_type": "display_data",
                    "data": {
                        "text/html": "(1 row affected)"
                    },
                    "metadata": {}
                },
                {
                    "output_type": "display_data",
                    "data": {
                        "text/html": "Total execution time: 00:00:00.054"
                    },
                    "metadata": {}
                },
                {
                    "output_type": "execute_result",
                    "execution_count": 39,
                    "data": {
                        "application/vnd.dataresource+json": {
                            "schema": {
                                "fields": [
                                    {
                                        "name": "(No column name)"
                                    }
                                ]
                            },
                            "data": [
                                {
                                    "0": "DAR"
                                }
                            ]
                        },
                        "text/html": "<table><tr><th>(No column name)</th></tr><tr><td>DAR</td></tr></table>"
                    },
                    "metadata": {}
                }
            ],
            "execution_count": 39
        },
        {
            "cell_type": "markdown",
            "source": [
                "**Programación sobre la base de datos**"
            ],
            "metadata": {
                "azdata_cell_guid": "1a4aa19b-0bad-4ed5-8069-7e4f69ea67b4"
            },
            "attachments": {}
        },
        {
            "cell_type": "code",
            "source": [
                "SELECT TOP 50 INGRESOS_EUR FROM NEMINA.DBO.DATOS_BASE\r\n",
                "WHERE PRODUCTO_ID = 'Setas' OR PRODUCTO_ID = 'Algas'\r\n",
                "ORDER BY INGRESOS_EUR DESC;"
            ],
            "metadata": {
                "azdata_cell_guid": "46c2e797-663b-4db6-8f9b-2be50a0fc8c7",
                "tags": []
            },
            "outputs": [
                {
                    "output_type": "display_data",
                    "data": {
                        "text/html": "(50 rows affected)"
                    },
                    "metadata": {}
                },
                {
                    "output_type": "display_data",
                    "data": {
                        "text/html": "Total execution time: 00:00:00.045"
                    },
                    "metadata": {}
                },
                {
                    "output_type": "execute_result",
                    "execution_count": 40,
                    "data": {
                        "application/vnd.dataresource+json": {
                            "schema": {
                                "fields": [
                                    {
                                        "name": "INGRESOS_EUR"
                                    }
                                ]
                            },
                            "data": [
                                {
                                    "0": "374144.0000000000"
                                },
                                {
                                    "0": "213120.0000000000"
                                },
                                {
                                    "0": "207360.0000000000"
                                },
                                {
                                    "0": "184704.0000000000"
                                },
                                {
                                    "0": "161616.0000000000"
                                },
                                {
                                    "0": "158508.0000000000"
                                },
                                {
                                    "0": "133200.0000000000"
                                },
                                {
                                    "0": "126720.0000000000"
                                },
                                {
                                    "0": "123840.0000000000"
                                },
                                {
                                    "0": "123840.0000000000"
                                },
                                {
                                    "0": "115200.0000000000"
                                },
                                {
                                    "0": "36115.0000000000"
                                },
                                {
                                    "0": "35696.0000000000"
                                },
                                {
                                    "0": "35437.0000000000"
                                },
                                {
                                    "0": "35123.0000000000"
                                },
                                {
                                    "0": "35123.0000000000"
                                },
                                {
                                    "0": "34960.0000000000"
                                },
                                {
                                    "0": "34923.0000000000"
                                },
                                {
                                    "0": "34880.0000000000"
                                },
                                {
                                    "0": "34580.0000000000"
                                },
                                {
                                    "0": "34352.0000000000"
                                },
                                {
                                    "0": "34291.0000000000"
                                },
                                {
                                    "0": "34240.0000000000"
                                },
                                {
                                    "0": "34214.0000000000"
                                },
                                {
                                    "0": "33990.0000000000"
                                },
                                {
                                    "0": "33990.0000000000"
                                },
                                {
                                    "0": "33926.0000000000"
                                },
                                {
                                    "0": "33869.0000000000"
                                },
                                {
                                    "0": "33840.0000000000"
                                },
                                {
                                    "0": "33748.0000000000"
                                },
                                {
                                    "0": "33629.0000000000"
                                },
                                {
                                    "0": "33581.0000000000"
                                },
                                {
                                    "0": "33581.0000000000"
                                },
                                {
                                    "0": "33581.0000000000"
                                },
                                {
                                    "0": "33581.0000000000"
                                },
                                {
                                    "0": "33440.0000000000"
                                },
                                {
                                    "0": "33426.0000000000"
                                },
                                {
                                    "0": "33267.0000000000"
                                },
                                {
                                    "0": "33197.0000000000"
                                },
                                {
                                    "0": "32928.0000000000"
                                },
                                {
                                    "0": "32918.0000000000"
                                },
                                {
                                    "0": "32870.0000000000"
                                },
                                {
                                    "0": "32870.0000000000"
                                },
                                {
                                    "0": "32736.0000000000"
                                },
                                {
                                    "0": "32715.0000000000"
                                },
                                {
                                    "0": "32614.0000000000"
                                },
                                {
                                    "0": "32563.0000000000"
                                },
                                {
                                    "0": "32550.0000000000"
                                },
                                {
                                    "0": "32528.0000000000"
                                },
                                {
                                    "0": "32456.0000000000"
                                }
                            ]
                        },
                        "text/html": "<table><tr><th>INGRESOS_EUR</th></tr><tr><td>374144.0000000000</td></tr><tr><td>213120.0000000000</td></tr><tr><td>207360.0000000000</td></tr><tr><td>184704.0000000000</td></tr><tr><td>161616.0000000000</td></tr><tr><td>158508.0000000000</td></tr><tr><td>133200.0000000000</td></tr><tr><td>126720.0000000000</td></tr><tr><td>123840.0000000000</td></tr><tr><td>123840.0000000000</td></tr><tr><td>115200.0000000000</td></tr><tr><td>36115.0000000000</td></tr><tr><td>35696.0000000000</td></tr><tr><td>35437.0000000000</td></tr><tr><td>35123.0000000000</td></tr><tr><td>35123.0000000000</td></tr><tr><td>34960.0000000000</td></tr><tr><td>34923.0000000000</td></tr><tr><td>34880.0000000000</td></tr><tr><td>34580.0000000000</td></tr><tr><td>34352.0000000000</td></tr><tr><td>34291.0000000000</td></tr><tr><td>34240.0000000000</td></tr><tr><td>34214.0000000000</td></tr><tr><td>33990.0000000000</td></tr><tr><td>33990.0000000000</td></tr><tr><td>33926.0000000000</td></tr><tr><td>33869.0000000000</td></tr><tr><td>33840.0000000000</td></tr><tr><td>33748.0000000000</td></tr><tr><td>33629.0000000000</td></tr><tr><td>33581.0000000000</td></tr><tr><td>33581.0000000000</td></tr><tr><td>33581.0000000000</td></tr><tr><td>33581.0000000000</td></tr><tr><td>33440.0000000000</td></tr><tr><td>33426.0000000000</td></tr><tr><td>33267.0000000000</td></tr><tr><td>33197.0000000000</td></tr><tr><td>32928.0000000000</td></tr><tr><td>32918.0000000000</td></tr><tr><td>32870.0000000000</td></tr><tr><td>32870.0000000000</td></tr><tr><td>32736.0000000000</td></tr><tr><td>32715.0000000000</td></tr><tr><td>32614.0000000000</td></tr><tr><td>32563.0000000000</td></tr><tr><td>32550.0000000000</td></tr><tr><td>32528.0000000000</td></tr><tr><td>32456.0000000000</td></tr></table>"
                    },
                    "metadata": {
                        "azdata_chartOptions": {
                            "type": "bar",
                            "dataDirection": "horizontal",
                            "columnsAsLabels": true,
                            "labelFirstColumn": false,
                            "legendPosition": "top"
                        }
                    }
                }
            ],
            "execution_count": 40
        },
        {
            "cell_type": "code",
            "source": [
                "SELECT DISTINCT ZONA_ID FROM NEMINA.DBO.DATOS_BASE;"
            ],
            "metadata": {
                "azdata_cell_guid": "f4d5d9b9-51d5-499f-b2d6-4750b9f0b7b7"
            },
            "outputs": [
                {
                    "output_type": "display_data",
                    "data": {
                        "text/html": "(4 rows affected)"
                    },
                    "metadata": {}
                },
                {
                    "output_type": "display_data",
                    "data": {
                        "text/html": "Total execution time: 00:00:00.061"
                    },
                    "metadata": {}
                },
                {
                    "output_type": "execute_result",
                    "execution_count": 41,
                    "data": {
                        "application/vnd.dataresource+json": {
                            "schema": {
                                "fields": [
                                    {
                                        "name": "ZONA_ID"
                                    }
                                ]
                            },
                            "data": [
                                {
                                    "0": "Coruña"
                                },
                                {
                                    "0": "Lugo"
                                },
                                {
                                    "0": "Ourense"
                                },
                                {
                                    "0": "Pontevedra"
                                }
                            ]
                        },
                        "text/html": "<table><tr><th>ZONA_ID</th></tr><tr><td>Coruña</td></tr><tr><td>Lugo</td></tr><tr><td>Ourense</td></tr><tr><td>Pontevedra</td></tr></table>"
                    },
                    "metadata": {}
                }
            ],
            "execution_count": 41
        },
        {
            "cell_type": "code",
            "source": [
                "SELECT TOP 5 INGRESOS_EUR AS IMPORTE, INGRESOS_EUR*0.3 AS MARGEN_ESP FROM NEMINA.DBO.DATOS_BASE;"
            ],
            "metadata": {
                "azdata_cell_guid": "51a23114-9db8-409f-9a99-17edf7cf4929"
            },
            "outputs": [
                {
                    "output_type": "display_data",
                    "data": {
                        "text/html": "(5 rows affected)"
                    },
                    "metadata": {}
                },
                {
                    "output_type": "display_data",
                    "data": {
                        "text/html": "Total execution time: 00:00:00.043"
                    },
                    "metadata": {}
                },
                {
                    "output_type": "execute_result",
                    "execution_count": 42,
                    "data": {
                        "application/vnd.dataresource+json": {
                            "schema": {
                                "fields": [
                                    {
                                        "name": "IMPORTE"
                                    },
                                    {
                                        "name": "MARGEN_ESP"
                                    }
                                ]
                            },
                            "data": [
                                {
                                    "0": "24677.0000000000",
                                    "1": "7403.10000000000"
                                },
                                {
                                    "0": "27048.0000000000",
                                    "1": "8114.40000000000"
                                },
                                {
                                    "0": "27432.0000000000",
                                    "1": "8229.60000000000"
                                },
                                {
                                    "0": "25990.0000000000",
                                    "1": "7797.00000000000"
                                },
                                {
                                    "0": "24590.0000000000",
                                    "1": "7377.00000000000"
                                }
                            ]
                        },
                        "text/html": "<table><tr><th>IMPORTE</th><th>MARGEN_ESP</th></tr><tr><td>24677.0000000000</td><td>7403.10000000000</td></tr><tr><td>27048.0000000000</td><td>8114.40000000000</td></tr><tr><td>27432.0000000000</td><td>8229.60000000000</td></tr><tr><td>25990.0000000000</td><td>7797.00000000000</td></tr><tr><td>24590.0000000000</td><td>7377.00000000000</td></tr></table>"
                    },
                    "metadata": {}
                }
            ],
            "execution_count": 42
        },
        {
            "cell_type": "code",
            "source": [
                "SELECT TOP 5 \r\n",
                "INGRESOS_EUR AS IMPORTE, \r\n",
                "INGRESOS_EUR*0.3 AS MARGEN_ESP,\r\n",
                "INGRESOS_EUR*0.21 AS IVA,\r\n",
                "INGRESOS_EUR/1.21 AS BASE,\r\n",
                "((INGRESOS_EUR/1.21)*0.3) AS BENEFICIO\r\n",
                "FROM NEMINA.DBO.DATOS_BASE;"
            ],
            "metadata": {
                "azdata_cell_guid": "af5fdb42-ded2-4509-870b-512c548a3bac"
            },
            "outputs": [
                {
                    "output_type": "display_data",
                    "data": {
                        "text/html": "(5 rows affected)"
                    },
                    "metadata": {}
                },
                {
                    "output_type": "display_data",
                    "data": {
                        "text/html": "Total execution time: 00:00:00.080"
                    },
                    "metadata": {}
                },
                {
                    "output_type": "execute_result",
                    "execution_count": 57,
                    "data": {
                        "application/vnd.dataresource+json": {
                            "schema": {
                                "fields": [
                                    {
                                        "name": "IMPORTE"
                                    },
                                    {
                                        "name": "MARGEN_ESP"
                                    },
                                    {
                                        "name": "IVA"
                                    },
                                    {
                                        "name": "BASE"
                                    },
                                    {
                                        "name": "BENEFICIO"
                                    }
                                ]
                            },
                            "data": [
                                {
                                    "0": "24677.0000000000",
                                    "1": "7403.10000000000",
                                    "2": "5182.170000000000",
                                    "3": "20394.21487603305785",
                                    "4": "6118.264462809917355"
                                },
                                {
                                    "0": "27048.0000000000",
                                    "1": "8114.40000000000",
                                    "2": "5680.080000000000",
                                    "3": "22353.71900826446280",
                                    "4": "6706.115702479338840"
                                },
                                {
                                    "0": "27432.0000000000",
                                    "1": "8229.60000000000",
                                    "2": "5760.720000000000",
                                    "3": "22671.07438016528925",
                                    "4": "6801.322314049586775"
                                },
                                {
                                    "0": "25990.0000000000",
                                    "1": "7797.00000000000",
                                    "2": "5457.900000000000",
                                    "3": "21479.33884297520661",
                                    "4": "6443.801652892561983"
                                },
                                {
                                    "0": "24590.0000000000",
                                    "1": "7377.00000000000",
                                    "2": "5163.900000000000",
                                    "3": "20322.31404958677685",
                                    "4": "6096.694214876033055"
                                }
                            ]
                        },
                        "text/html": "<table><tr><th>IMPORTE</th><th>MARGEN_ESP</th><th>IVA</th><th>BASE</th><th>BENEFICIO</th></tr><tr><td>24677.0000000000</td><td>7403.10000000000</td><td>5182.170000000000</td><td>20394.21487603305785</td><td>6118.264462809917355</td></tr><tr><td>27048.0000000000</td><td>8114.40000000000</td><td>5680.080000000000</td><td>22353.71900826446280</td><td>6706.115702479338840</td></tr><tr><td>27432.0000000000</td><td>8229.60000000000</td><td>5760.720000000000</td><td>22671.07438016528925</td><td>6801.322314049586775</td></tr><tr><td>25990.0000000000</td><td>7797.00000000000</td><td>5457.900000000000</td><td>21479.33884297520661</td><td>6443.801652892561983</td></tr><tr><td>24590.0000000000</td><td>7377.00000000000</td><td>5163.900000000000</td><td>20322.31404958677685</td><td>6096.694214876033055</td></tr></table>"
                    },
                    "metadata": {}
                }
            ],
            "execution_count": 57
        },
        {
            "cell_type": "markdown",
            "source": [
                "**Ejercicio**: Calcular ingresos y bf por tonelada y el ingreso medio  bf medio por tonelada"
            ],
            "metadata": {
                "azdata_cell_guid": "fbb8f024-a91f-4eb5-8f1e-ff5344aa4504"
            },
            "attachments": {}
        },
        {
            "cell_type": "code",
            "source": [
                "SELECT TOP 10 PEDIDO_ID, INGRESOS_EUR, TONELADAS, INGRESOS_EUR/TONELADAS AS INGRESO_TN\r\n",
                "FROM NEMINA.DBO.DATOS_BASE;"
            ],
            "metadata": {
                "azdata_cell_guid": "ccfbaec1-2d30-44fa-9be7-d1ba05670dc6"
            },
            "outputs": [
                {
                    "output_type": "display_data",
                    "data": {
                        "text/html": "(10 rows affected)"
                    },
                    "metadata": {}
                },
                {
                    "output_type": "display_data",
                    "data": {
                        "text/html": "Total execution time: 00:00:00.046"
                    },
                    "metadata": {}
                },
                {
                    "output_type": "execute_result",
                    "execution_count": 43,
                    "data": {
                        "application/vnd.dataresource+json": {
                            "schema": {
                                "fields": [
                                    {
                                        "name": "PEDIDO_ID"
                                    },
                                    {
                                        "name": "INGRESOS_EUR"
                                    },
                                    {
                                        "name": "TONELADAS"
                                    },
                                    {
                                        "name": "INGRESO_TN"
                                    }
                                ]
                            },
                            "data": [
                                {
                                    "0": "P-0001",
                                    "1": "24677.0000000000",
                                    "2": "31.8000000000",
                                    "3": "776.00628930817610062893"
                                },
                                {
                                    "0": "P-0002",
                                    "1": "27048.0000000000",
                                    "2": "34.5000000000",
                                    "3": "784.00000000000000000000"
                                },
                                {
                                    "0": "P-0003",
                                    "1": "27432.0000000000",
                                    "2": "38.1000000000",
                                    "3": "720.00000000000000000000"
                                },
                                {
                                    "0": "P-0004",
                                    "1": "25990.0000000000",
                                    "2": "35.7000000000",
                                    "3": "728.01120448179271708683"
                                },
                                {
                                    "0": "P-0005",
                                    "1": "24590.0000000000",
                                    "2": "32.7000000000",
                                    "3": "751.98776758409785932721"
                                },
                                {
                                    "0": "P-0006",
                                    "1": "26170.0000000000",
                                    "2": "34.8000000000",
                                    "3": "752.01149425287356321839"
                                },
                                {
                                    "0": "P-0007",
                                    "1": "25344.0000000000",
                                    "2": "33.0000000000",
                                    "3": "768.00000000000000000000"
                                },
                                {
                                    "0": "P-0008",
                                    "1": "24106.0000000000",
                                    "2": "32.4000000000",
                                    "3": "744.01234567901234567901"
                                },
                                {
                                    "0": "P-0009",
                                    "1": "23846.0000000000",
                                    "2": "32.4000000000",
                                    "3": "735.98765432098765432098"
                                },
                                {
                                    "0": "P-0010",
                                    "1": "20311.0000000000",
                                    "2": "27.9000000000",
                                    "3": "727.99283154121863799283"
                                }
                            ]
                        },
                        "text/html": "<table><tr><th>PEDIDO_ID</th><th>INGRESOS_EUR</th><th>TONELADAS</th><th>INGRESO_TN</th></tr><tr><td>P-0001</td><td>24677.0000000000</td><td>31.8000000000</td><td>776.00628930817610062893</td></tr><tr><td>P-0002</td><td>27048.0000000000</td><td>34.5000000000</td><td>784.00000000000000000000</td></tr><tr><td>P-0003</td><td>27432.0000000000</td><td>38.1000000000</td><td>720.00000000000000000000</td></tr><tr><td>P-0004</td><td>25990.0000000000</td><td>35.7000000000</td><td>728.01120448179271708683</td></tr><tr><td>P-0005</td><td>24590.0000000000</td><td>32.7000000000</td><td>751.98776758409785932721</td></tr><tr><td>P-0006</td><td>26170.0000000000</td><td>34.8000000000</td><td>752.01149425287356321839</td></tr><tr><td>P-0007</td><td>25344.0000000000</td><td>33.0000000000</td><td>768.00000000000000000000</td></tr><tr><td>P-0008</td><td>24106.0000000000</td><td>32.4000000000</td><td>744.01234567901234567901</td></tr><tr><td>P-0009</td><td>23846.0000000000</td><td>32.4000000000</td><td>735.98765432098765432098</td></tr><tr><td>P-0010</td><td>20311.0000000000</td><td>27.9000000000</td><td>727.99283154121863799283</td></tr></table>"
                    },
                    "metadata": {}
                }
            ],
            "execution_count": 43
        },
        {
            "cell_type": "code",
            "source": [
                "SELECT TOP 5 \r\n",
                "INGRESOS_EUR AS IMPORTE,\r\n",
                "TONELADAS,\r\n",
                "INGRESOS_EUR*0.3 AS MARGEN_ESP,\r\n",
                "INGRESOS_EUR*0.21 AS IVA,\r\n",
                "INGRESOS_EUR/1.21 AS BASE,\r\n",
                "((INGRESOS_EUR/1.21)*0.3) AS BENEFICIO,\r\n",
                "INGRESOS_EUR/TONELADAS AS INGRESO_TN,\r\n",
                "((INGRESOS_EUR/1.21)*0.3)/TONELADAS AS BENEFICIO_TN\r\n",
                "FROM NEMINA.DBO.DATOS_BASE;"
            ],
            "metadata": {
                "azdata_cell_guid": "1608e99c-42cd-4460-854f-e750814c9d5c"
            },
            "outputs": [
                {
                    "output_type": "display_data",
                    "data": {
                        "text/html": "(5 rows affected)"
                    },
                    "metadata": {}
                },
                {
                    "output_type": "display_data",
                    "data": {
                        "text/html": "Total execution time: 00:00:00.055"
                    },
                    "metadata": {}
                },
                {
                    "output_type": "execute_result",
                    "execution_count": 60,
                    "data": {
                        "application/vnd.dataresource+json": {
                            "schema": {
                                "fields": [
                                    {
                                        "name": "IMPORTE"
                                    },
                                    {
                                        "name": "TONELADAS"
                                    },
                                    {
                                        "name": "MARGEN_ESP"
                                    },
                                    {
                                        "name": "IVA"
                                    },
                                    {
                                        "name": "BASE"
                                    },
                                    {
                                        "name": "BENEFICIO"
                                    },
                                    {
                                        "name": "INGRESO_TN"
                                    },
                                    {
                                        "name": "BENEFICIO_TN"
                                    }
                                ]
                            },
                            "data": [
                                {
                                    "0": "24677.0000000000",
                                    "1": "31.8000000000",
                                    "2": "7403.10000000000",
                                    "3": "5182.170000000000",
                                    "4": "20394.21487603305785",
                                    "5": "6118.264462809917355",
                                    "6": "776.00628930817610062893",
                                    "7": "192.39825354748167783"
                                },
                                {
                                    "0": "27048.0000000000",
                                    "1": "34.5000000000",
                                    "2": "8114.40000000000",
                                    "3": "5680.080000000000",
                                    "4": "22353.71900826446280",
                                    "5": "6706.115702479338840",
                                    "6": "784.00000000000000000000",
                                    "7": "194.38016528925619826"
                                },
                                {
                                    "0": "27432.0000000000",
                                    "1": "38.1000000000",
                                    "2": "8229.60000000000",
                                    "3": "5760.720000000000",
                                    "4": "22671.07438016528925",
                                    "5": "6801.322314049586775",
                                    "6": "720.00000000000000000000",
                                    "7": "178.51239669421487598"
                                },
                                {
                                    "0": "25990.0000000000",
                                    "1": "35.7000000000",
                                    "2": "7797.00000000000",
                                    "3": "5457.900000000000",
                                    "4": "21479.33884297520661",
                                    "5": "6443.801652892561983",
                                    "6": "728.01120448179271708683",
                                    "7": "180.49864573928745050"
                                },
                                {
                                    "0": "24590.0000000000",
                                    "1": "32.7000000000",
                                    "2": "7377.00000000000",
                                    "3": "5163.900000000000",
                                    "4": "20322.31404958677685",
                                    "5": "6096.694214876033055",
                                    "6": "751.98776758409785932721",
                                    "7": "186.44324816134657660"
                                }
                            ]
                        },
                        "text/html": "<table><tr><th>IMPORTE</th><th>TONELADAS</th><th>MARGEN_ESP</th><th>IVA</th><th>BASE</th><th>BENEFICIO</th><th>INGRESO_TN</th><th>BENEFICIO_TN</th></tr><tr><td>24677.0000000000</td><td>31.8000000000</td><td>7403.10000000000</td><td>5182.170000000000</td><td>20394.21487603305785</td><td>6118.264462809917355</td><td>776.00628930817610062893</td><td>192.39825354748167783</td></tr><tr><td>27048.0000000000</td><td>34.5000000000</td><td>8114.40000000000</td><td>5680.080000000000</td><td>22353.71900826446280</td><td>6706.115702479338840</td><td>784.00000000000000000000</td><td>194.38016528925619826</td></tr><tr><td>27432.0000000000</td><td>38.1000000000</td><td>8229.60000000000</td><td>5760.720000000000</td><td>22671.07438016528925</td><td>6801.322314049586775</td><td>720.00000000000000000000</td><td>178.51239669421487598</td></tr><tr><td>25990.0000000000</td><td>35.7000000000</td><td>7797.00000000000</td><td>5457.900000000000</td><td>21479.33884297520661</td><td>6443.801652892561983</td><td>728.01120448179271708683</td><td>180.49864573928745050</td></tr><tr><td>24590.0000000000</td><td>32.7000000000</td><td>7377.00000000000</td><td>5163.900000000000</td><td>20322.31404958677685</td><td>6096.694214876033055</td><td>751.98776758409785932721</td><td>186.44324816134657660</td></tr></table>"
                    },
                    "metadata": {}
                }
            ],
            "execution_count": 60
        },
        {
            "cell_type": "code",
            "source": [
                "SELECT AVG((INGRESOS_EUR/1.21)/TONELADAS) AS INGRESO_MEDIO_TN, AVG(((INGRESOS_EUR/1.21)*0.3)/TONELADAS) AS BF_MEDIO_TN FROM NEMINA.DBO.DATOS_BASE;"
            ],
            "metadata": {
                "azdata_cell_guid": "402444b7-a475-4d1e-a7b3-09d7b018cb5e"
            },
            "outputs": [
                {
                    "output_type": "display_data",
                    "data": {
                        "text/html": "(1 row affected)"
                    },
                    "metadata": {}
                },
                {
                    "output_type": "display_data",
                    "data": {
                        "text/html": "Total execution time: 00:00:00.055"
                    },
                    "metadata": {}
                },
                {
                    "output_type": "execute_result",
                    "execution_count": 64,
                    "data": {
                        "application/vnd.dataresource+json": {
                            "schema": {
                                "fields": [
                                    {
                                        "name": "INGRESO_MEDIO_TN"
                                    },
                                    {
                                        "name": "BF_MEDIO_TN"
                                    }
                                ]
                            },
                            "data": [
                                {
                                    "0": "802.403095289551480714",
                                    "1": "240.72092858686544420"
                                }
                            ]
                        },
                        "text/html": "<table><tr><th>INGRESO_MEDIO_TN</th><th>BF_MEDIO_TN</th></tr><tr><td>802.403095289551480714</td><td>240.72092858686544420</td></tr></table>"
                    },
                    "metadata": {}
                }
            ],
            "execution_count": 64
        },
        {
            "cell_type": "code",
            "source": [
                "SELECT TOP 10\r\n",
                "PEDIDO_ID,\r\n",
                "CLIENTE_ID,\r\n",
                "INGRESOS_EUR AS IMPORTE,\r\n",
                "TONELADAS,\r\n",
                "INGRESOS_EUR*0.3 AS MARGEN_ESP,\r\n",
                "INGRESOS_EUR*0.21 AS IVA,\r\n",
                "INGRESOS_EUR/1.21 AS BASE,\r\n",
                "((INGRESOS_EUR/1.21)*0.3) AS BENEFICIO,\r\n",
                "INGRESOS_EUR/TONELADAS AS INGRESO_TN,\r\n",
                "((INGRESOS_EUR/1.21)*0.3)/TONELADAS AS BENEFICIO_TN\r\n",
                "FROM NEMINA.DBO.DATOS_BASE\r\n",
                "ORDER BY BENEFICIO_TN DESC;"
            ],
            "metadata": {
                "azdata_cell_guid": "11c78ae2-2b8c-4b95-aa54-2323d5bc3280"
            },
            "outputs": [
                {
                    "output_type": "display_data",
                    "data": {
                        "text/html": "(10 rows affected)"
                    },
                    "metadata": {}
                },
                {
                    "output_type": "display_data",
                    "data": {
                        "text/html": "Total execution time: 00:00:00.054"
                    },
                    "metadata": {}
                },
                {
                    "output_type": "execute_result",
                    "execution_count": 70,
                    "data": {
                        "application/vnd.dataresource+json": {
                            "schema": {
                                "fields": [
                                    {
                                        "name": "PEDIDO_ID"
                                    },
                                    {
                                        "name": "CLIENTE_ID"
                                    },
                                    {
                                        "name": "IMPORTE"
                                    },
                                    {
                                        "name": "TONELADAS"
                                    },
                                    {
                                        "name": "MARGEN_ESP"
                                    },
                                    {
                                        "name": "IVA"
                                    },
                                    {
                                        "name": "BASE"
                                    },
                                    {
                                        "name": "BENEFICIO"
                                    },
                                    {
                                        "name": "INGRESO_TN"
                                    },
                                    {
                                        "name": "BENEFICIO_TN"
                                    }
                                ]
                            },
                            "data": [
                                {
                                    "0": "P-0093",
                                    "1": "39",
                                    "2": "141120.0000000000",
                                    "3": "39.2000000000",
                                    "4": "42336.00000000000",
                                    "5": "29635.200000000000",
                                    "6": "116628.09917355371900",
                                    "7": "34988.429752066115700",
                                    "8": "3600.00000000000000000000",
                                    "9": "892.56198347107438010"
                                },
                                {
                                    "0": "P-0076",
                                    "1": "18",
                                    "2": "132447.0000000000",
                                    "3": "37.1000000000",
                                    "4": "39734.10000000000",
                                    "5": "27813.870000000000",
                                    "6": "109460.33057851239669",
                                    "7": "32838.099173553719007",
                                    "8": "3570.00000000000000000000",
                                    "9": "885.12396694214876029"
                                },
                                {
                                    "0": "P-0117",
                                    "1": "13",
                                    "2": "136290.0000000000",
                                    "3": "38.5000000000",
                                    "4": "40887.00000000000",
                                    "5": "28620.900000000000",
                                    "6": "112636.36363636363636",
                                    "7": "33790.909090909090908",
                                    "8": "3540.00000000000000000000",
                                    "9": "877.68595041322314046"
                                },
                                {
                                    "0": "P-0493",
                                    "1": "16",
                                    "2": "161424.0000000000",
                                    "3": "45.6000000000",
                                    "4": "48427.20000000000",
                                    "5": "33899.040000000000",
                                    "6": "133408.26446280991735",
                                    "7": "40022.479338842975205",
                                    "8": "3540.00000000000000000000",
                                    "9": "877.68595041322314046"
                                },
                                {
                                    "0": "P-0227",
                                    "1": "40",
                                    "2": "142591.0000000000",
                                    "3": "40.3000000000",
                                    "4": "42777.30000000000",
                                    "5": "29944.110000000000",
                                    "6": "117843.80165289256198",
                                    "7": "35353.140495867768594",
                                    "8": "3538.23821339950372208436",
                                    "9": "877.24914381805877404"
                                },
                                {
                                    "0": "P-0465",
                                    "1": "20",
                                    "2": "146160.0000000000",
                                    "3": "42.0000000000",
                                    "4": "43848.00000000000",
                                    "5": "30693.600000000000",
                                    "6": "120793.38842975206611",
                                    "7": "36238.016528925619833",
                                    "8": "3480.00000000000000000000",
                                    "9": "862.80991735537190078"
                                },
                                {
                                    "0": "P-0477",
                                    "1": "7",
                                    "2": "158700.0000000000",
                                    "3": "46.0000000000",
                                    "4": "47610.00000000000",
                                    "5": "33327.000000000000",
                                    "6": "131157.02479338842975",
                                    "7": "39347.107438016528925",
                                    "8": "3450.00000000000000000000",
                                    "9": "855.37190082644628097"
                                },
                                {
                                    "0": "P-0389",
                                    "1": "20",
                                    "2": "153180.0000000000",
                                    "3": "44.4000000000",
                                    "4": "45954.00000000000",
                                    "5": "32167.800000000000",
                                    "6": "126595.04132231404958",
                                    "7": "37978.512396694214874",
                                    "8": "3450.00000000000000000000",
                                    "9": "855.37190082644628094"
                                },
                                {
                                    "0": "P-0115",
                                    "1": "20",
                                    "2": "135240.0000000000",
                                    "3": "39.2000000000",
                                    "4": "40572.00000000000",
                                    "5": "28400.400000000000",
                                    "6": "111768.59504132231404",
                                    "7": "33530.578512396694212",
                                    "8": "3450.00000000000000000000",
                                    "9": "855.37190082644628091"
                                },
                                {
                                    "0": "P-0490",
                                    "1": "11",
                                    "2": "143640.0000000000",
                                    "3": "42.0000000000",
                                    "4": "43092.00000000000",
                                    "5": "30164.400000000000",
                                    "6": "118710.74380165289256",
                                    "7": "35613.223140495867768",
                                    "8": "3420.00000000000000000000",
                                    "9": "847.93388429752066114"
                                }
                            ]
                        },
                        "text/html": "<table><tr><th>PEDIDO_ID</th><th>CLIENTE_ID</th><th>IMPORTE</th><th>TONELADAS</th><th>MARGEN_ESP</th><th>IVA</th><th>BASE</th><th>BENEFICIO</th><th>INGRESO_TN</th><th>BENEFICIO_TN</th></tr><tr><td>P-0093</td><td>39</td><td>141120.0000000000</td><td>39.2000000000</td><td>42336.00000000000</td><td>29635.200000000000</td><td>116628.09917355371900</td><td>34988.429752066115700</td><td>3600.00000000000000000000</td><td>892.56198347107438010</td></tr><tr><td>P-0076</td><td>18</td><td>132447.0000000000</td><td>37.1000000000</td><td>39734.10000000000</td><td>27813.870000000000</td><td>109460.33057851239669</td><td>32838.099173553719007</td><td>3570.00000000000000000000</td><td>885.12396694214876029</td></tr><tr><td>P-0117</td><td>13</td><td>136290.0000000000</td><td>38.5000000000</td><td>40887.00000000000</td><td>28620.900000000000</td><td>112636.36363636363636</td><td>33790.909090909090908</td><td>3540.00000000000000000000</td><td>877.68595041322314046</td></tr><tr><td>P-0493</td><td>16</td><td>161424.0000000000</td><td>45.6000000000</td><td>48427.20000000000</td><td>33899.040000000000</td><td>133408.26446280991735</td><td>40022.479338842975205</td><td>3540.00000000000000000000</td><td>877.68595041322314046</td></tr><tr><td>P-0227</td><td>40</td><td>142591.0000000000</td><td>40.3000000000</td><td>42777.30000000000</td><td>29944.110000000000</td><td>117843.80165289256198</td><td>35353.140495867768594</td><td>3538.23821339950372208436</td><td>877.24914381805877404</td></tr><tr><td>P-0465</td><td>20</td><td>146160.0000000000</td><td>42.0000000000</td><td>43848.00000000000</td><td>30693.600000000000</td><td>120793.38842975206611</td><td>36238.016528925619833</td><td>3480.00000000000000000000</td><td>862.80991735537190078</td></tr><tr><td>P-0477</td><td>7</td><td>158700.0000000000</td><td>46.0000000000</td><td>47610.00000000000</td><td>33327.000000000000</td><td>131157.02479338842975</td><td>39347.107438016528925</td><td>3450.00000000000000000000</td><td>855.37190082644628097</td></tr><tr><td>P-0389</td><td>20</td><td>153180.0000000000</td><td>44.4000000000</td><td>45954.00000000000</td><td>32167.800000000000</td><td>126595.04132231404958</td><td>37978.512396694214874</td><td>3450.00000000000000000000</td><td>855.37190082644628094</td></tr><tr><td>P-0115</td><td>20</td><td>135240.0000000000</td><td>39.2000000000</td><td>40572.00000000000</td><td>28400.400000000000</td><td>111768.59504132231404</td><td>33530.578512396694212</td><td>3450.00000000000000000000</td><td>855.37190082644628091</td></tr><tr><td>P-0490</td><td>11</td><td>143640.0000000000</td><td>42.0000000000</td><td>43092.00000000000</td><td>30164.400000000000</td><td>118710.74380165289256</td><td>35613.223140495867768</td><td>3420.00000000000000000000</td><td>847.93388429752066114</td></tr></table>"
                    },
                    "metadata": {}
                }
            ],
            "execution_count": 70
        },
        {
            "cell_type": "markdown",
            "source": [
                "EJERCICIO: El ciclista - BASE: SocioDemo"
            ],
            "metadata": {
                "azdata_cell_guid": "600a722d-0cc0-4f79-9009-c7a51c0a1b66"
            },
            "attachments": {}
        },
        {
            "cell_type": "code",
            "source": [
                "SELECT * FROM SOCIODEMO.DBO.VELOCIDADES"
            ],
            "metadata": {
                "azdata_cell_guid": "7ba1ebad-56c4-40e7-8c98-5c8ee9f128b9"
            },
            "outputs": [
                {
                    "output_type": "display_data",
                    "data": {
                        "text/html": "(10 rows affected)"
                    },
                    "metadata": {}
                },
                {
                    "output_type": "display_data",
                    "data": {
                        "text/html": "Total execution time: 00:00:00.071"
                    },
                    "metadata": {}
                },
                {
                    "output_type": "execute_result",
                    "execution_count": 72,
                    "data": {
                        "application/vnd.dataresource+json": {
                            "schema": {
                                "fields": [
                                    {
                                        "name": "VELOCIDAD"
                                    }
                                ]
                            },
                            "data": [
                                {
                                    "0": "10.0000000000"
                                },
                                {
                                    "0": "20.0000000000"
                                },
                                {
                                    "0": "30.0000000000"
                                },
                                {
                                    "0": "40.0000000000"
                                },
                                {
                                    "0": "50.0000000000"
                                },
                                {
                                    "0": "60.0000000000"
                                },
                                {
                                    "0": "70.0000000000"
                                },
                                {
                                    "0": "100.0000000000"
                                },
                                {
                                    "0": "1000.0000000000"
                                },
                                {
                                    "0": "10000.0000000000"
                                }
                            ]
                        },
                        "text/html": "<table><tr><th>VELOCIDAD</th></tr><tr><td>10.0000000000</td></tr><tr><td>20.0000000000</td></tr><tr><td>30.0000000000</td></tr><tr><td>40.0000000000</td></tr><tr><td>50.0000000000</td></tr><tr><td>60.0000000000</td></tr><tr><td>70.0000000000</td></tr><tr><td>100.0000000000</td></tr><tr><td>1000.0000000000</td></tr><tr><td>10000.0000000000</td></tr></table>"
                    },
                    "metadata": {}
                }
            ],
            "execution_count": 72
        },
        {
            "cell_type": "markdown",
            "source": [
                "Mide las velocidades de bajada"
            ],
            "metadata": {
                "azdata_cell_guid": "7f43a3e8-672a-42c4-92c6-fd04fba4e7ba"
            },
            "attachments": {}
        },
        {
            "cell_type": "code",
            "source": [
                "SELECT\r\n",
                "10.0 AS VEL_SUBIDA,\r\n",
                "7 AS DISTANCIA_SUBIDA,\r\n",
                "7 AS DISTANCIA_BAJADA,\r\n",
                "7*2 AS DISTANCIA_TOTAL,\r\n",
                "VELOCIDAD AS VELOCIDAD_BAJADA,\r\n",
                "7.0/10.0 AS TIEMPO_SUBIDA,\r\n",
                "7/VELOCIDAD AS TIEMPO_BAJADA,\r\n",
                "7.0/10.0 + 7/VELOCIDAD AS TIEMPO_TOTAL\r\n",
                "FROM SOCIODEMO.DBO.VELOCIDADES;"
            ],
            "metadata": {
                "azdata_cell_guid": "5439e1be-466e-4574-8a9b-32a7e30fbb07"
            },
            "outputs": [
                {
                    "output_type": "display_data",
                    "data": {
                        "text/html": "(10 rows affected)"
                    },
                    "metadata": {}
                },
                {
                    "output_type": "display_data",
                    "data": {
                        "text/html": "Total execution time: 00:00:00.076"
                    },
                    "metadata": {}
                },
                {
                    "output_type": "execute_result",
                    "execution_count": 81,
                    "data": {
                        "application/vnd.dataresource+json": {
                            "schema": {
                                "fields": [
                                    {
                                        "name": "VEL_SUBIDA"
                                    },
                                    {
                                        "name": "DISTANCIA_SUBIDA"
                                    },
                                    {
                                        "name": "DISTANCIA_BAJADA"
                                    },
                                    {
                                        "name": "DISTANCIA_TOTAL"
                                    },
                                    {
                                        "name": "VELOCIDAD_BAJADA"
                                    },
                                    {
                                        "name": "TIEMPO_SUBIDA"
                                    },
                                    {
                                        "name": "TIEMPO_BAJADA"
                                    },
                                    {
                                        "name": "TIEMPO_TOTAL"
                                    }
                                ]
                            },
                            "data": [
                                {
                                    "0": "10.0",
                                    "1": "7",
                                    "2": "7",
                                    "3": "14",
                                    "4": "10.0000000000",
                                    "5": "0.700000",
                                    "6": "0.7000000000000000000",
                                    "7": "1.4000000000000000000"
                                },
                                {
                                    "0": "10.0",
                                    "1": "7",
                                    "2": "7",
                                    "3": "14",
                                    "4": "20.0000000000",
                                    "5": "0.700000",
                                    "6": "0.3500000000000000000",
                                    "7": "1.0500000000000000000"
                                },
                                {
                                    "0": "10.0",
                                    "1": "7",
                                    "2": "7",
                                    "3": "14",
                                    "4": "30.0000000000",
                                    "5": "0.700000",
                                    "6": "0.2333333333333333333",
                                    "7": "0.9333333333333333333"
                                },
                                {
                                    "0": "10.0",
                                    "1": "7",
                                    "2": "7",
                                    "3": "14",
                                    "4": "40.0000000000",
                                    "5": "0.700000",
                                    "6": "0.1750000000000000000",
                                    "7": "0.8750000000000000000"
                                },
                                {
                                    "0": "10.0",
                                    "1": "7",
                                    "2": "7",
                                    "3": "14",
                                    "4": "50.0000000000",
                                    "5": "0.700000",
                                    "6": "0.1400000000000000000",
                                    "7": "0.8400000000000000000"
                                },
                                {
                                    "0": "10.0",
                                    "1": "7",
                                    "2": "7",
                                    "3": "14",
                                    "4": "60.0000000000",
                                    "5": "0.700000",
                                    "6": "0.1166666666666666666",
                                    "7": "0.8166666666666666666"
                                },
                                {
                                    "0": "10.0",
                                    "1": "7",
                                    "2": "7",
                                    "3": "14",
                                    "4": "70.0000000000",
                                    "5": "0.700000",
                                    "6": "0.1000000000000000000",
                                    "7": "0.8000000000000000000"
                                },
                                {
                                    "0": "10.0",
                                    "1": "7",
                                    "2": "7",
                                    "3": "14",
                                    "4": "100.0000000000",
                                    "5": "0.700000",
                                    "6": "0.0700000000000000000",
                                    "7": "0.7700000000000000000"
                                },
                                {
                                    "0": "10.0",
                                    "1": "7",
                                    "2": "7",
                                    "3": "14",
                                    "4": "1000.0000000000",
                                    "5": "0.700000",
                                    "6": "0.0070000000000000000",
                                    "7": "0.7070000000000000000"
                                },
                                {
                                    "0": "10.0",
                                    "1": "7",
                                    "2": "7",
                                    "3": "14",
                                    "4": "10000.0000000000",
                                    "5": "0.700000",
                                    "6": "0.0007000000000000000",
                                    "7": "0.7007000000000000000"
                                }
                            ]
                        },
                        "text/html": "<table><tr><th>VEL_SUBIDA</th><th>DISTANCIA_SUBIDA</th><th>DISTANCIA_BAJADA</th><th>DISTANCIA_TOTAL</th><th>VELOCIDAD_BAJADA</th><th>TIEMPO_SUBIDA</th><th>TIEMPO_BAJADA</th><th>TIEMPO_TOTAL</th></tr><tr><td>10.0</td><td>7</td><td>7</td><td>14</td><td>10.0000000000</td><td>0.700000</td><td>0.7000000000000000000</td><td>1.4000000000000000000</td></tr><tr><td>10.0</td><td>7</td><td>7</td><td>14</td><td>20.0000000000</td><td>0.700000</td><td>0.3500000000000000000</td><td>1.0500000000000000000</td></tr><tr><td>10.0</td><td>7</td><td>7</td><td>14</td><td>30.0000000000</td><td>0.700000</td><td>0.2333333333333333333</td><td>0.9333333333333333333</td></tr><tr><td>10.0</td><td>7</td><td>7</td><td>14</td><td>40.0000000000</td><td>0.700000</td><td>0.1750000000000000000</td><td>0.8750000000000000000</td></tr><tr><td>10.0</td><td>7</td><td>7</td><td>14</td><td>50.0000000000</td><td>0.700000</td><td>0.1400000000000000000</td><td>0.8400000000000000000</td></tr><tr><td>10.0</td><td>7</td><td>7</td><td>14</td><td>60.0000000000</td><td>0.700000</td><td>0.1166666666666666666</td><td>0.8166666666666666666</td></tr><tr><td>10.0</td><td>7</td><td>7</td><td>14</td><td>70.0000000000</td><td>0.700000</td><td>0.1000000000000000000</td><td>0.8000000000000000000</td></tr><tr><td>10.0</td><td>7</td><td>7</td><td>14</td><td>100.0000000000</td><td>0.700000</td><td>0.0700000000000000000</td><td>0.7700000000000000000</td></tr><tr><td>10.0</td><td>7</td><td>7</td><td>14</td><td>1000.0000000000</td><td>0.700000</td><td>0.0070000000000000000</td><td>0.7070000000000000000</td></tr><tr><td>10.0</td><td>7</td><td>7</td><td>14</td><td>10000.0000000000</td><td>0.700000</td><td>0.0007000000000000000</td><td>0.7007000000000000000</td></tr></table>"
                    },
                    "metadata": {}
                }
            ],
            "execution_count": 81
        },
        {
            "cell_type": "markdown",
            "source": [
                "1. **VELOCIDAD MEDIA = Distancia total / (Distancia bajada/VelbajadaVelocidad Total**\n",
                "2. Calculamos la media"
            ],
            "metadata": {
                "azdata_cell_guid": "06375dde-cde6-4186-a6a2-a5fb268761ef"
            },
            "attachments": {}
        },
        {
            "cell_type": "code",
            "source": [
                "SELECT\r\n",
                "10.0 AS VEL_SUBIDA,\r\n",
                "7 AS DISTANCIA_SUBIDA,\r\n",
                "7 AS DISTANCIA_BAJADA,\r\n",
                "7*2 AS DISTANCIA_TOTAL,\r\n",
                "VELOCIDAD AS VELOCIDAD_BAJADA,\r\n",
                "7.0/10.0 AS TIEMPO_SUBIDA,\r\n",
                "7/VELOCIDAD AS TIEMPO_BAJADA,\r\n",
                "7.0/10.0 + 7/VELOCIDAD AS TIEMPO_TOTAL,\r\n",
                "14 / (7.0/10.0 + 7.0*VELOCIDAD) AS VELOCIDAD_MEDIA\r\n",
                "FROM SOCIODEMO.DBO.VELOCIDADES"
            ],
            "metadata": {
                "azdata_cell_guid": "8f205bfb-a776-4908-bcb4-3b818d5c0d60"
            },
            "outputs": [
                {
                    "output_type": "display_data",
                    "data": {
                        "text/html": "(10 rows affected)"
                    },
                    "metadata": {}
                },
                {
                    "output_type": "display_data",
                    "data": {
                        "text/html": "Total execution time: 00:00:00.064"
                    },
                    "metadata": {}
                },
                {
                    "output_type": "execute_result",
                    "execution_count": 87,
                    "data": {
                        "application/vnd.dataresource+json": {
                            "schema": {
                                "fields": [
                                    {
                                        "name": "VEL_SUBIDA"
                                    },
                                    {
                                        "name": "DISTANCIA_SUBIDA"
                                    },
                                    {
                                        "name": "DISTANCIA_BAJADA"
                                    },
                                    {
                                        "name": "DISTANCIA_TOTAL"
                                    },
                                    {
                                        "name": "VELOCIDAD_BAJADA"
                                    },
                                    {
                                        "name": "TIEMPO_SUBIDA"
                                    },
                                    {
                                        "name": "TIEMPO_BAJADA"
                                    },
                                    {
                                        "name": "TIEMPO_TOTAL"
                                    },
                                    {
                                        "name": "VELOCIDAD_MEDIA"
                                    }
                                ]
                            },
                            "data": [
                                {
                                    "0": "10.0",
                                    "1": "7",
                                    "2": "7",
                                    "3": "14",
                                    "4": "10.0000000000",
                                    "5": "0.700000",
                                    "6": "0.7000000000000000000",
                                    "7": "1.4000000000000000000",
                                    "8": "0.19801980198019801980198"
                                },
                                {
                                    "0": "10.0",
                                    "1": "7",
                                    "2": "7",
                                    "3": "14",
                                    "4": "20.0000000000",
                                    "5": "0.700000",
                                    "6": "0.3500000000000000000",
                                    "7": "1.0500000000000000000",
                                    "8": "0.09950248756218905472636"
                                },
                                {
                                    "0": "10.0",
                                    "1": "7",
                                    "2": "7",
                                    "3": "14",
                                    "4": "30.0000000000",
                                    "5": "0.700000",
                                    "6": "0.2333333333333333333",
                                    "7": "0.9333333333333333333",
                                    "8": "0.06644518272425249169435"
                                },
                                {
                                    "0": "10.0",
                                    "1": "7",
                                    "2": "7",
                                    "3": "14",
                                    "4": "40.0000000000",
                                    "5": "0.700000",
                                    "6": "0.1750000000000000000",
                                    "7": "0.8750000000000000000",
                                    "8": "0.04987531172069825436408"
                                },
                                {
                                    "0": "10.0",
                                    "1": "7",
                                    "2": "7",
                                    "3": "14",
                                    "4": "50.0000000000",
                                    "5": "0.700000",
                                    "6": "0.1400000000000000000",
                                    "7": "0.8400000000000000000",
                                    "8": "0.03992015968063872255489"
                                },
                                {
                                    "0": "10.0",
                                    "1": "7",
                                    "2": "7",
                                    "3": "14",
                                    "4": "60.0000000000",
                                    "5": "0.700000",
                                    "6": "0.1166666666666666666",
                                    "7": "0.8166666666666666666",
                                    "8": "0.03327787021630615640599"
                                },
                                {
                                    "0": "10.0",
                                    "1": "7",
                                    "2": "7",
                                    "3": "14",
                                    "4": "70.0000000000",
                                    "5": "0.700000",
                                    "6": "0.1000000000000000000",
                                    "7": "0.8000000000000000000",
                                    "8": "0.02853067047075606276747"
                                },
                                {
                                    "0": "10.0",
                                    "1": "7",
                                    "2": "7",
                                    "3": "14",
                                    "4": "100.0000000000",
                                    "5": "0.700000",
                                    "6": "0.0700000000000000000",
                                    "7": "0.7700000000000000000",
                                    "8": "0.01998001998001998001998"
                                },
                                {
                                    "0": "10.0",
                                    "1": "7",
                                    "2": "7",
                                    "3": "14",
                                    "4": "1000.0000000000",
                                    "5": "0.700000",
                                    "6": "0.0070000000000000000",
                                    "7": "0.7070000000000000000",
                                    "8": "0.00199980001999800019998"
                                },
                                {
                                    "0": "10.0",
                                    "1": "7",
                                    "2": "7",
                                    "3": "14",
                                    "4": "10000.0000000000",
                                    "5": "0.700000",
                                    "6": "0.0007000000000000000",
                                    "7": "0.7007000000000000000",
                                    "8": "0.00019999800001999980000"
                                }
                            ]
                        },
                        "text/html": "<table><tr><th>VEL_SUBIDA</th><th>DISTANCIA_SUBIDA</th><th>DISTANCIA_BAJADA</th><th>DISTANCIA_TOTAL</th><th>VELOCIDAD_BAJADA</th><th>TIEMPO_SUBIDA</th><th>TIEMPO_BAJADA</th><th>TIEMPO_TOTAL</th><th>VELOCIDAD_MEDIA</th></tr><tr><td>10.0</td><td>7</td><td>7</td><td>14</td><td>10.0000000000</td><td>0.700000</td><td>0.7000000000000000000</td><td>1.4000000000000000000</td><td>0.19801980198019801980198</td></tr><tr><td>10.0</td><td>7</td><td>7</td><td>14</td><td>20.0000000000</td><td>0.700000</td><td>0.3500000000000000000</td><td>1.0500000000000000000</td><td>0.09950248756218905472636</td></tr><tr><td>10.0</td><td>7</td><td>7</td><td>14</td><td>30.0000000000</td><td>0.700000</td><td>0.2333333333333333333</td><td>0.9333333333333333333</td><td>0.06644518272425249169435</td></tr><tr><td>10.0</td><td>7</td><td>7</td><td>14</td><td>40.0000000000</td><td>0.700000</td><td>0.1750000000000000000</td><td>0.8750000000000000000</td><td>0.04987531172069825436408</td></tr><tr><td>10.0</td><td>7</td><td>7</td><td>14</td><td>50.0000000000</td><td>0.700000</td><td>0.1400000000000000000</td><td>0.8400000000000000000</td><td>0.03992015968063872255489</td></tr><tr><td>10.0</td><td>7</td><td>7</td><td>14</td><td>60.0000000000</td><td>0.700000</td><td>0.1166666666666666666</td><td>0.8166666666666666666</td><td>0.03327787021630615640599</td></tr><tr><td>10.0</td><td>7</td><td>7</td><td>14</td><td>70.0000000000</td><td>0.700000</td><td>0.1000000000000000000</td><td>0.8000000000000000000</td><td>0.02853067047075606276747</td></tr><tr><td>10.0</td><td>7</td><td>7</td><td>14</td><td>100.0000000000</td><td>0.700000</td><td>0.0700000000000000000</td><td>0.7700000000000000000</td><td>0.01998001998001998001998</td></tr><tr><td>10.0</td><td>7</td><td>7</td><td>14</td><td>1000.0000000000</td><td>0.700000</td><td>0.0070000000000000000</td><td>0.7070000000000000000</td><td>0.00199980001999800019998</td></tr><tr><td>10.0</td><td>7</td><td>7</td><td>14</td><td>10000.0000000000</td><td>0.700000</td><td>0.0007000000000000000</td><td>0.7007000000000000000</td><td>0.00019999800001999980000</td></tr></table>"
                    },
                    "metadata": {}
                }
            ],
            "execution_count": 87
        },
        {
            "cell_type": "code",
            "source": [
                "SELECT\r\n",
                "10.0 AS VEL_SUBIDA,\r\n",
                "7 AS DISTANCIA_SUBIDA,\r\n",
                "7 AS DISTANCIA_BAJADA,\r\n",
                "7*2 AS DISTANCIA_TOTAL,\r\n",
                "VELOCIDAD AS VELOCIDAD_BAJADA,\r\n",
                "7.0/10.0 AS TIEMPO_SUBIDA,\r\n",
                "7/VELOCIDAD AS TIEMPO_BAJADA,\r\n",
                "7.0/10.0 + 7/VELOCIDAD AS TIEMPO_TOTAL,\r\n",
                "14 / (7.0/10.0 + 7.0*VELOCIDAD) AS VELOCIDAD_MEDIA\r\n",
                "FROM SOCIODEMO.DBO.VELOCIDADES\r\n",
                "WHERE 14 / (7.0/10.0 + 7.0*VELOCIDAD) >20"
            ],
            "metadata": {
                "azdata_cell_guid": "88e42641-b32d-4b07-8cdb-94df7dd44816"
            },
            "outputs": [
                {
                    "output_type": "display_data",
                    "data": {
                        "text/html": "(0 rows affected)"
                    },
                    "metadata": {}
                },
                {
                    "output_type": "display_data",
                    "data": {
                        "text/html": "Total execution time: 00:00:00.056"
                    },
                    "metadata": {}
                },
                {
                    "output_type": "execute_result",
                    "execution_count": 86,
                    "data": {
                        "application/vnd.dataresource+json": {
                            "schema": {
                                "fields": [
                                    {
                                        "name": "VEL_SUBIDA"
                                    },
                                    {
                                        "name": "DISTANCIA_SUBIDA"
                                    },
                                    {
                                        "name": "DISTANCIA_BAJADA"
                                    },
                                    {
                                        "name": "DISTANCIA_TOTAL"
                                    },
                                    {
                                        "name": "VELOCIDAD_BAJADA"
                                    },
                                    {
                                        "name": "TIEMPO_SUBIDA"
                                    },
                                    {
                                        "name": "TIEMPO_BAJADA"
                                    },
                                    {
                                        "name": "TIEMPO_TOTAL"
                                    },
                                    {
                                        "name": "VELOCIDAD_MEDIA"
                                    }
                                ]
                            },
                            "data": []
                        },
                        "text/html": "<table><tr><th>VEL_SUBIDA</th><th>DISTANCIA_SUBIDA</th><th>DISTANCIA_BAJADA</th><th>DISTANCIA_TOTAL</th><th>VELOCIDAD_BAJADA</th><th>TIEMPO_SUBIDA</th><th>TIEMPO_BAJADA</th><th>TIEMPO_TOTAL</th><th>VELOCIDAD_MEDIA</th></tr></table>"
                    },
                    "metadata": {}
                }
            ],
            "execution_count": 86
        }
    ]
}