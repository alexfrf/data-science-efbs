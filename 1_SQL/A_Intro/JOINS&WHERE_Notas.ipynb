{
    "metadata": {
        "kernelspec": {
            "name": "SQL",
            "display_name": "SQL",
            "language": "sql"
        },
        "language_info": {
            "name": "sql",
            "version": ""
        },
        "extensions": {
            "azuredatastudio": {
                "version": 1,
                "views": []
            }
        }
    },
    "nbformat_minor": 2,
    "nbformat": 4,
    "cells": [
        {
            "cell_type": "markdown",
            "source": [
                "**LEFT JOIN**"
            ],
            "metadata": {
                "azdata_cell_guid": "eb610ed6-f506-466d-8b00-d5d162420b04"
            },
            "attachments": {}
        },
        {
            "cell_type": "code",
            "source": [
                "SELECT TOP 10 *\r\n",
                "FROM NEMINA.DBO.DATOS_BASE\r\n",
                "LEFT JOIN NEMINA.DBO.CLIENTES\r\n",
                "ON DATOS_BASE.CLIENTE_ID = CLIENTES.CLIENTE_ID"
            ],
            "metadata": {
                "azdata_cell_guid": "04c45936-e3d2-4a23-ab0a-3eeaa46a6519"
            },
            "outputs": [
                {
                    "output_type": "display_data",
                    "data": {
                        "text/html": "(10 rows affected)"
                    },
                    "metadata": {}
                },
                {
                    "output_type": "display_data",
                    "data": {
                        "text/html": "Total execution time: 00:00:00.055"
                    },
                    "metadata": {}
                },
                {
                    "output_type": "execute_result",
                    "metadata": {},
                    "execution_count": 8,
                    "data": {
                        "application/vnd.dataresource+json": {
                            "schema": {
                                "fields": [
                                    {
                                        "name": "PEDIDO_ID"
                                    },
                                    {
                                        "name": "FY_ID"
                                    },
                                    {
                                        "name": "PRODUCTO_ID"
                                    },
                                    {
                                        "name": "ZONA_ID"
                                    },
                                    {
                                        "name": "CLIENTE_ID"
                                    },
                                    {
                                        "name": "TONELADAS"
                                    },
                                    {
                                        "name": "INGRESOS_EUR"
                                    },
                                    {
                                        "name": "CLIENTE_ID"
                                    },
                                    {
                                        "name": "PROVINCIA_ID"
                                    },
                                    {
                                        "name": "SEXO_ID"
                                    },
                                    {
                                        "name": "EDAD"
                                    }
                                ]
                            },
                            "data": [
                                {
                                    "0": "P-0001",
                                    "1": "2016",
                                    "2": "Setas",
                                    "3": "Lugo",
                                    "4": "7",
                                    "5": "31.8000000000",
                                    "6": "24677.0000000000",
                                    "7": "7",
                                    "8": "36",
                                    "9": "MUJER",
                                    "10": "23"
                                },
                                {
                                    "0": "P-0002",
                                    "1": "2016",
                                    "2": "Setas",
                                    "3": "Ourense",
                                    "4": "27",
                                    "5": "34.5000000000",
                                    "6": "27048.0000000000",
                                    "7": "27",
                                    "8": "27",
                                    "9": "MUJER",
                                    "10": "47"
                                },
                                {
                                    "0": "P-0003",
                                    "1": "2016",
                                    "2": "Setas",
                                    "3": "Ourense",
                                    "4": "21",
                                    "5": "38.1000000000",
                                    "6": "27432.0000000000",
                                    "7": "21",
                                    "8": "27",
                                    "9": "MUJER",
                                    "10": "42"
                                },
                                {
                                    "0": "P-0004",
                                    "1": "2016",
                                    "2": "Setas",
                                    "3": "Ourense",
                                    "4": "26",
                                    "5": "35.7000000000",
                                    "6": "25990.0000000000",
                                    "7": "26",
                                    "8": "15",
                                    "9": "HOMBRE",
                                    "10": "28"
                                },
                                {
                                    "0": "P-0005",
                                    "1": "2016",
                                    "2": "Setas",
                                    "3": "Pontevedra",
                                    "4": "25",
                                    "5": "32.7000000000",
                                    "6": "24590.0000000000",
                                    "7": "25",
                                    "8": "32",
                                    "9": "MUJER",
                                    "10": "43"
                                },
                                {
                                    "0": "P-0006",
                                    "1": "2016",
                                    "2": "Setas",
                                    "3": "Pontevedra",
                                    "4": "24",
                                    "5": "34.8000000000",
                                    "6": "26170.0000000000",
                                    "7": "24",
                                    "8": "15",
                                    "9": "MUJER",
                                    "10": "27"
                                },
                                {
                                    "0": "P-0007",
                                    "1": "2016",
                                    "2": "Setas",
                                    "3": "Coruña",
                                    "4": "2",
                                    "5": "33.0000000000",
                                    "6": "25344.0000000000",
                                    "7": "2",
                                    "8": "32",
                                    "9": "HOMBRE",
                                    "10": "39"
                                },
                                {
                                    "0": "P-0008",
                                    "1": "2016",
                                    "2": "Setas",
                                    "3": "Lugo",
                                    "4": "9",
                                    "5": "32.4000000000",
                                    "6": "24106.0000000000",
                                    "7": "9",
                                    "8": "36",
                                    "9": "HOMBRE",
                                    "10": "34"
                                },
                                {
                                    "0": "P-0009",
                                    "1": "2016",
                                    "2": "Setas",
                                    "3": "Coruña",
                                    "4": "16",
                                    "5": "32.4000000000",
                                    "6": "23846.0000000000",
                                    "7": "16",
                                    "8": "15",
                                    "9": "MUJER",
                                    "10": "31"
                                },
                                {
                                    "0": "P-0010",
                                    "1": "2016",
                                    "2": "Setas",
                                    "3": "Ourense",
                                    "4": "21",
                                    "5": "27.9000000000",
                                    "6": "20311.0000000000",
                                    "7": "21",
                                    "8": "27",
                                    "9": "MUJER",
                                    "10": "42"
                                }
                            ]
                        },
                        "text/html": [
                            "<table>",
                            "<tr><th>PEDIDO_ID</th><th>FY_ID</th><th>PRODUCTO_ID</th><th>ZONA_ID</th><th>CLIENTE_ID</th><th>TONELADAS</th><th>INGRESOS_EUR</th><th>CLIENTE_ID</th><th>PROVINCIA_ID</th><th>SEXO_ID</th><th>EDAD</th></tr>",
                            "<tr><td>P-0001</td><td>2016</td><td>Setas</td><td>Lugo</td><td>7</td><td>31.8000000000</td><td>24677.0000000000</td><td>7</td><td>36</td><td>MUJER</td><td>23</td></tr>",
                            "<tr><td>P-0002</td><td>2016</td><td>Setas</td><td>Ourense</td><td>27</td><td>34.5000000000</td><td>27048.0000000000</td><td>27</td><td>27</td><td>MUJER</td><td>47</td></tr>",
                            "<tr><td>P-0003</td><td>2016</td><td>Setas</td><td>Ourense</td><td>21</td><td>38.1000000000</td><td>27432.0000000000</td><td>21</td><td>27</td><td>MUJER</td><td>42</td></tr>",
                            "<tr><td>P-0004</td><td>2016</td><td>Setas</td><td>Ourense</td><td>26</td><td>35.7000000000</td><td>25990.0000000000</td><td>26</td><td>15</td><td>HOMBRE</td><td>28</td></tr>",
                            "<tr><td>P-0005</td><td>2016</td><td>Setas</td><td>Pontevedra</td><td>25</td><td>32.7000000000</td><td>24590.0000000000</td><td>25</td><td>32</td><td>MUJER</td><td>43</td></tr>",
                            "<tr><td>P-0006</td><td>2016</td><td>Setas</td><td>Pontevedra</td><td>24</td><td>34.8000000000</td><td>26170.0000000000</td><td>24</td><td>15</td><td>MUJER</td><td>27</td></tr>",
                            "<tr><td>P-0007</td><td>2016</td><td>Setas</td><td>Coruña</td><td>2</td><td>33.0000000000</td><td>25344.0000000000</td><td>2</td><td>32</td><td>HOMBRE</td><td>39</td></tr>",
                            "<tr><td>P-0008</td><td>2016</td><td>Setas</td><td>Lugo</td><td>9</td><td>32.4000000000</td><td>24106.0000000000</td><td>9</td><td>36</td><td>HOMBRE</td><td>34</td></tr>",
                            "<tr><td>P-0009</td><td>2016</td><td>Setas</td><td>Coruña</td><td>16</td><td>32.4000000000</td><td>23846.0000000000</td><td>16</td><td>15</td><td>MUJER</td><td>31</td></tr>",
                            "<tr><td>P-0010</td><td>2016</td><td>Setas</td><td>Ourense</td><td>21</td><td>27.9000000000</td><td>20311.0000000000</td><td>21</td><td>27</td><td>MUJER</td><td>42</td></tr>",
                            "</table>"
                        ]
                    }
                }
            ],
            "execution_count": 8
        },
        {
            "cell_type": "markdown",
            "source": [
                "Es lo mismo que:"
            ],
            "metadata": {
                "azdata_cell_guid": "5f495209-8db0-4b69-94b6-eb90367afbe6"
            },
            "attachments": {}
        },
        {
            "cell_type": "code",
            "source": [
                "SELECT TOP 10 *\r\n",
                "FROM NEMINA.DBO.DATOS_BASE B\r\n",
                "LEFT JOIN NEMINA.DBO.CLIENTES C\r\n",
                "       ON B.CLIENTE_ID = C.CLIENTE_ID"
            ],
            "metadata": {
                "azdata_cell_guid": "3e5d8132-7326-40a9-8432-3fc380b823b3"
            },
            "outputs": [
                {
                    "output_type": "display_data",
                    "data": {
                        "text/html": "(10 rows affected)"
                    },
                    "metadata": {}
                },
                {
                    "output_type": "display_data",
                    "data": {
                        "text/html": "Total execution time: 00:00:00.052"
                    },
                    "metadata": {}
                },
                {
                    "output_type": "execute_result",
                    "metadata": {},
                    "execution_count": 9,
                    "data": {
                        "application/vnd.dataresource+json": {
                            "schema": {
                                "fields": [
                                    {
                                        "name": "PEDIDO_ID"
                                    },
                                    {
                                        "name": "FY_ID"
                                    },
                                    {
                                        "name": "PRODUCTO_ID"
                                    },
                                    {
                                        "name": "ZONA_ID"
                                    },
                                    {
                                        "name": "CLIENTE_ID"
                                    },
                                    {
                                        "name": "TONELADAS"
                                    },
                                    {
                                        "name": "INGRESOS_EUR"
                                    },
                                    {
                                        "name": "CLIENTE_ID"
                                    },
                                    {
                                        "name": "PROVINCIA_ID"
                                    },
                                    {
                                        "name": "SEXO_ID"
                                    },
                                    {
                                        "name": "EDAD"
                                    }
                                ]
                            },
                            "data": [
                                {
                                    "0": "P-0001",
                                    "1": "2016",
                                    "2": "Setas",
                                    "3": "Lugo",
                                    "4": "7",
                                    "5": "31.8000000000",
                                    "6": "24677.0000000000",
                                    "7": "7",
                                    "8": "36",
                                    "9": "MUJER",
                                    "10": "23"
                                },
                                {
                                    "0": "P-0002",
                                    "1": "2016",
                                    "2": "Setas",
                                    "3": "Ourense",
                                    "4": "27",
                                    "5": "34.5000000000",
                                    "6": "27048.0000000000",
                                    "7": "27",
                                    "8": "27",
                                    "9": "MUJER",
                                    "10": "47"
                                },
                                {
                                    "0": "P-0003",
                                    "1": "2016",
                                    "2": "Setas",
                                    "3": "Ourense",
                                    "4": "21",
                                    "5": "38.1000000000",
                                    "6": "27432.0000000000",
                                    "7": "21",
                                    "8": "27",
                                    "9": "MUJER",
                                    "10": "42"
                                },
                                {
                                    "0": "P-0004",
                                    "1": "2016",
                                    "2": "Setas",
                                    "3": "Ourense",
                                    "4": "26",
                                    "5": "35.7000000000",
                                    "6": "25990.0000000000",
                                    "7": "26",
                                    "8": "15",
                                    "9": "HOMBRE",
                                    "10": "28"
                                },
                                {
                                    "0": "P-0005",
                                    "1": "2016",
                                    "2": "Setas",
                                    "3": "Pontevedra",
                                    "4": "25",
                                    "5": "32.7000000000",
                                    "6": "24590.0000000000",
                                    "7": "25",
                                    "8": "32",
                                    "9": "MUJER",
                                    "10": "43"
                                },
                                {
                                    "0": "P-0006",
                                    "1": "2016",
                                    "2": "Setas",
                                    "3": "Pontevedra",
                                    "4": "24",
                                    "5": "34.8000000000",
                                    "6": "26170.0000000000",
                                    "7": "24",
                                    "8": "15",
                                    "9": "MUJER",
                                    "10": "27"
                                },
                                {
                                    "0": "P-0007",
                                    "1": "2016",
                                    "2": "Setas",
                                    "3": "Coruña",
                                    "4": "2",
                                    "5": "33.0000000000",
                                    "6": "25344.0000000000",
                                    "7": "2",
                                    "8": "32",
                                    "9": "HOMBRE",
                                    "10": "39"
                                },
                                {
                                    "0": "P-0008",
                                    "1": "2016",
                                    "2": "Setas",
                                    "3": "Lugo",
                                    "4": "9",
                                    "5": "32.4000000000",
                                    "6": "24106.0000000000",
                                    "7": "9",
                                    "8": "36",
                                    "9": "HOMBRE",
                                    "10": "34"
                                },
                                {
                                    "0": "P-0009",
                                    "1": "2016",
                                    "2": "Setas",
                                    "3": "Coruña",
                                    "4": "16",
                                    "5": "32.4000000000",
                                    "6": "23846.0000000000",
                                    "7": "16",
                                    "8": "15",
                                    "9": "MUJER",
                                    "10": "31"
                                },
                                {
                                    "0": "P-0010",
                                    "1": "2016",
                                    "2": "Setas",
                                    "3": "Ourense",
                                    "4": "21",
                                    "5": "27.9000000000",
                                    "6": "20311.0000000000",
                                    "7": "21",
                                    "8": "27",
                                    "9": "MUJER",
                                    "10": "42"
                                }
                            ]
                        },
                        "text/html": [
                            "<table>",
                            "<tr><th>PEDIDO_ID</th><th>FY_ID</th><th>PRODUCTO_ID</th><th>ZONA_ID</th><th>CLIENTE_ID</th><th>TONELADAS</th><th>INGRESOS_EUR</th><th>CLIENTE_ID</th><th>PROVINCIA_ID</th><th>SEXO_ID</th><th>EDAD</th></tr>",
                            "<tr><td>P-0001</td><td>2016</td><td>Setas</td><td>Lugo</td><td>7</td><td>31.8000000000</td><td>24677.0000000000</td><td>7</td><td>36</td><td>MUJER</td><td>23</td></tr>",
                            "<tr><td>P-0002</td><td>2016</td><td>Setas</td><td>Ourense</td><td>27</td><td>34.5000000000</td><td>27048.0000000000</td><td>27</td><td>27</td><td>MUJER</td><td>47</td></tr>",
                            "<tr><td>P-0003</td><td>2016</td><td>Setas</td><td>Ourense</td><td>21</td><td>38.1000000000</td><td>27432.0000000000</td><td>21</td><td>27</td><td>MUJER</td><td>42</td></tr>",
                            "<tr><td>P-0004</td><td>2016</td><td>Setas</td><td>Ourense</td><td>26</td><td>35.7000000000</td><td>25990.0000000000</td><td>26</td><td>15</td><td>HOMBRE</td><td>28</td></tr>",
                            "<tr><td>P-0005</td><td>2016</td><td>Setas</td><td>Pontevedra</td><td>25</td><td>32.7000000000</td><td>24590.0000000000</td><td>25</td><td>32</td><td>MUJER</td><td>43</td></tr>",
                            "<tr><td>P-0006</td><td>2016</td><td>Setas</td><td>Pontevedra</td><td>24</td><td>34.8000000000</td><td>26170.0000000000</td><td>24</td><td>15</td><td>MUJER</td><td>27</td></tr>",
                            "<tr><td>P-0007</td><td>2016</td><td>Setas</td><td>Coruña</td><td>2</td><td>33.0000000000</td><td>25344.0000000000</td><td>2</td><td>32</td><td>HOMBRE</td><td>39</td></tr>",
                            "<tr><td>P-0008</td><td>2016</td><td>Setas</td><td>Lugo</td><td>9</td><td>32.4000000000</td><td>24106.0000000000</td><td>9</td><td>36</td><td>HOMBRE</td><td>34</td></tr>",
                            "<tr><td>P-0009</td><td>2016</td><td>Setas</td><td>Coruña</td><td>16</td><td>32.4000000000</td><td>23846.0000000000</td><td>16</td><td>15</td><td>MUJER</td><td>31</td></tr>",
                            "<tr><td>P-0010</td><td>2016</td><td>Setas</td><td>Ourense</td><td>21</td><td>27.9000000000</td><td>20311.0000000000</td><td>21</td><td>27</td><td>MUJER</td><td>42</td></tr>",
                            "</table>"
                        ]
                    }
                }
            ],
            "execution_count": 9
        },
        {
            "cell_type": "code",
            "source": [
                "SELECT TOP 10 *\r\n",
                "FROM NEMINA.DBO.DATOS_BASE B\r\n",
                "LEFT JOIN NEMINA.DBO.PRODUCTOS P\r\n",
                "ON B.PRODUCTO_ID = P.PRODUCTO_ID\r\n",
                "AND B.FY_ID = P.FY_ID"
            ],
            "metadata": {
                "azdata_cell_guid": "c9c42805-e614-4c52-9742-b208af77a2e4"
            },
            "outputs": [
                {
                    "output_type": "display_data",
                    "data": {
                        "text/html": "(10 rows affected)"
                    },
                    "metadata": {}
                },
                {
                    "output_type": "display_data",
                    "data": {
                        "text/html": "Total execution time: 00:00:00.051"
                    },
                    "metadata": {}
                },
                {
                    "output_type": "execute_result",
                    "metadata": {},
                    "execution_count": 10,
                    "data": {
                        "application/vnd.dataresource+json": {
                            "schema": {
                                "fields": [
                                    {
                                        "name": "PEDIDO_ID"
                                    },
                                    {
                                        "name": "FY_ID"
                                    },
                                    {
                                        "name": "PRODUCTO_ID"
                                    },
                                    {
                                        "name": "ZONA_ID"
                                    },
                                    {
                                        "name": "CLIENTE_ID"
                                    },
                                    {
                                        "name": "TONELADAS"
                                    },
                                    {
                                        "name": "INGRESOS_EUR"
                                    },
                                    {
                                        "name": "PRODUCTO_ID"
                                    },
                                    {
                                        "name": "FY_ID"
                                    },
                                    {
                                        "name": "IMPORTE"
                                    }
                                ]
                            },
                            "data": [
                                {
                                    "0": "P-0001",
                                    "1": "2016",
                                    "2": "Setas",
                                    "3": "Lugo",
                                    "4": "7",
                                    "5": "31.8000000000",
                                    "6": "24677.0000000000",
                                    "7": "Setas",
                                    "8": "2016",
                                    "9": "800.0000000000"
                                },
                                {
                                    "0": "P-0002",
                                    "1": "2016",
                                    "2": "Setas",
                                    "3": "Ourense",
                                    "4": "27",
                                    "5": "34.5000000000",
                                    "6": "27048.0000000000",
                                    "7": "Setas",
                                    "8": "2016",
                                    "9": "800.0000000000"
                                },
                                {
                                    "0": "P-0003",
                                    "1": "2016",
                                    "2": "Setas",
                                    "3": "Ourense",
                                    "4": "21",
                                    "5": "38.1000000000",
                                    "6": "27432.0000000000",
                                    "7": "Setas",
                                    "8": "2016",
                                    "9": "800.0000000000"
                                },
                                {
                                    "0": "P-0004",
                                    "1": "2016",
                                    "2": "Setas",
                                    "3": "Ourense",
                                    "4": "26",
                                    "5": "35.7000000000",
                                    "6": "25990.0000000000",
                                    "7": "Setas",
                                    "8": "2016",
                                    "9": "800.0000000000"
                                },
                                {
                                    "0": "P-0005",
                                    "1": "2016",
                                    "2": "Setas",
                                    "3": "Pontevedra",
                                    "4": "25",
                                    "5": "32.7000000000",
                                    "6": "24590.0000000000",
                                    "7": "Setas",
                                    "8": "2016",
                                    "9": "800.0000000000"
                                },
                                {
                                    "0": "P-0006",
                                    "1": "2016",
                                    "2": "Setas",
                                    "3": "Pontevedra",
                                    "4": "24",
                                    "5": "34.8000000000",
                                    "6": "26170.0000000000",
                                    "7": "Setas",
                                    "8": "2016",
                                    "9": "800.0000000000"
                                },
                                {
                                    "0": "P-0007",
                                    "1": "2016",
                                    "2": "Setas",
                                    "3": "Coruña",
                                    "4": "2",
                                    "5": "33.0000000000",
                                    "6": "25344.0000000000",
                                    "7": "Setas",
                                    "8": "2016",
                                    "9": "800.0000000000"
                                },
                                {
                                    "0": "P-0008",
                                    "1": "2016",
                                    "2": "Setas",
                                    "3": "Lugo",
                                    "4": "9",
                                    "5": "32.4000000000",
                                    "6": "24106.0000000000",
                                    "7": "Setas",
                                    "8": "2016",
                                    "9": "800.0000000000"
                                },
                                {
                                    "0": "P-0009",
                                    "1": "2016",
                                    "2": "Setas",
                                    "3": "Coruña",
                                    "4": "16",
                                    "5": "32.4000000000",
                                    "6": "23846.0000000000",
                                    "7": "Setas",
                                    "8": "2016",
                                    "9": "800.0000000000"
                                },
                                {
                                    "0": "P-0010",
                                    "1": "2016",
                                    "2": "Setas",
                                    "3": "Ourense",
                                    "4": "21",
                                    "5": "27.9000000000",
                                    "6": "20311.0000000000",
                                    "7": "Setas",
                                    "8": "2016",
                                    "9": "800.0000000000"
                                }
                            ]
                        },
                        "text/html": [
                            "<table>",
                            "<tr><th>PEDIDO_ID</th><th>FY_ID</th><th>PRODUCTO_ID</th><th>ZONA_ID</th><th>CLIENTE_ID</th><th>TONELADAS</th><th>INGRESOS_EUR</th><th>PRODUCTO_ID</th><th>FY_ID</th><th>IMPORTE</th></tr>",
                            "<tr><td>P-0001</td><td>2016</td><td>Setas</td><td>Lugo</td><td>7</td><td>31.8000000000</td><td>24677.0000000000</td><td>Setas</td><td>2016</td><td>800.0000000000</td></tr>",
                            "<tr><td>P-0002</td><td>2016</td><td>Setas</td><td>Ourense</td><td>27</td><td>34.5000000000</td><td>27048.0000000000</td><td>Setas</td><td>2016</td><td>800.0000000000</td></tr>",
                            "<tr><td>P-0003</td><td>2016</td><td>Setas</td><td>Ourense</td><td>21</td><td>38.1000000000</td><td>27432.0000000000</td><td>Setas</td><td>2016</td><td>800.0000000000</td></tr>",
                            "<tr><td>P-0004</td><td>2016</td><td>Setas</td><td>Ourense</td><td>26</td><td>35.7000000000</td><td>25990.0000000000</td><td>Setas</td><td>2016</td><td>800.0000000000</td></tr>",
                            "<tr><td>P-0005</td><td>2016</td><td>Setas</td><td>Pontevedra</td><td>25</td><td>32.7000000000</td><td>24590.0000000000</td><td>Setas</td><td>2016</td><td>800.0000000000</td></tr>",
                            "<tr><td>P-0006</td><td>2016</td><td>Setas</td><td>Pontevedra</td><td>24</td><td>34.8000000000</td><td>26170.0000000000</td><td>Setas</td><td>2016</td><td>800.0000000000</td></tr>",
                            "<tr><td>P-0007</td><td>2016</td><td>Setas</td><td>Coruña</td><td>2</td><td>33.0000000000</td><td>25344.0000000000</td><td>Setas</td><td>2016</td><td>800.0000000000</td></tr>",
                            "<tr><td>P-0008</td><td>2016</td><td>Setas</td><td>Lugo</td><td>9</td><td>32.4000000000</td><td>24106.0000000000</td><td>Setas</td><td>2016</td><td>800.0000000000</td></tr>",
                            "<tr><td>P-0009</td><td>2016</td><td>Setas</td><td>Coruña</td><td>16</td><td>32.4000000000</td><td>23846.0000000000</td><td>Setas</td><td>2016</td><td>800.0000000000</td></tr>",
                            "<tr><td>P-0010</td><td>2016</td><td>Setas</td><td>Ourense</td><td>21</td><td>27.9000000000</td><td>20311.0000000000</td><td>Setas</td><td>2016</td><td>800.0000000000</td></tr>",
                            "</table>"
                        ]
                    }
                }
            ],
            "execution_count": 10
        },
        {
            "cell_type": "markdown",
            "source": [
                "# Ejercicio 8\n",
                "\n",
                "Encuentra:\n",
                "\n",
                "- Todos los pedidos cuyos ingresos sean inferiores a 18000 €\n",
                "- Todos los pedidos cuyo precio por tonelada sea inferior a 580 €\n",
                "- Todos los pedidos de algas"
            ],
            "metadata": {
                "azdata_cell_guid": "30daad5d-f9cc-421e-8d64-86d550a5fded"
            },
            "attachments": {}
        },
        {
            "cell_type": "code",
            "source": [
                "SELECT *  FROM NEMINA.DBO.DATOS_BASE\r\n",
                "WHERE (INGRESOS_EUR/TONELADAS)<=580"
            ],
            "metadata": {
                "azdata_cell_guid": "42171462-4df4-4f87-a07e-94116893d79d",
                "tags": []
            },
            "outputs": [
                {
                    "output_type": "display_data",
                    "data": {
                        "text/html": "(5 rows affected)"
                    },
                    "metadata": {}
                },
                {
                    "output_type": "display_data",
                    "data": {
                        "text/html": "Total execution time: 00:00:00.049"
                    },
                    "metadata": {}
                },
                {
                    "output_type": "execute_result",
                    "metadata": {},
                    "execution_count": 11,
                    "data": {
                        "application/vnd.dataresource+json": {
                            "schema": {
                                "fields": [
                                    {
                                        "name": "PEDIDO_ID"
                                    },
                                    {
                                        "name": "FY_ID"
                                    },
                                    {
                                        "name": "PRODUCTO_ID"
                                    },
                                    {
                                        "name": "ZONA_ID"
                                    },
                                    {
                                        "name": "CLIENTE_ID"
                                    },
                                    {
                                        "name": "TONELADAS"
                                    },
                                    {
                                        "name": "INGRESOS_EUR"
                                    }
                                ]
                            },
                            "data": [
                                {
                                    "0": "P-0019",
                                    "1": "2016",
                                    "2": "Algas",
                                    "3": "Ourense",
                                    "4": "27",
                                    "5": "37.5000000000",
                                    "6": "21375.0000000000"
                                },
                                {
                                    "0": "P-0022",
                                    "1": "2016",
                                    "2": "Algas",
                                    "3": "Pontevedra",
                                    "4": "25",
                                    "5": "30.9000000000",
                                    "6": "17613.0000000000"
                                },
                                {
                                    "0": "P-0029",
                                    "1": "2016",
                                    "2": "Algas",
                                    "3": "Coruña",
                                    "4": "6",
                                    "5": "33.3000000000",
                                    "6": "19181.0000000000"
                                },
                                {
                                    "0": "P-0042",
                                    "1": "2016",
                                    "2": "Algas",
                                    "3": "Coruña",
                                    "4": "1",
                                    "5": "32.4000000000",
                                    "6": "18468.0000000000"
                                },
                                {
                                    "0": "P-0049",
                                    "1": "2016",
                                    "2": "Algas",
                                    "3": "Pontevedra",
                                    "4": "23",
                                    "5": "34.2000000000",
                                    "6": "19699.0000000000"
                                }
                            ]
                        },
                        "text/html": [
                            "<table>",
                            "<tr><th>PEDIDO_ID</th><th>FY_ID</th><th>PRODUCTO_ID</th><th>ZONA_ID</th><th>CLIENTE_ID</th><th>TONELADAS</th><th>INGRESOS_EUR</th></tr>",
                            "<tr><td>P-0019</td><td>2016</td><td>Algas</td><td>Ourense</td><td>27</td><td>37.5000000000</td><td>21375.0000000000</td></tr>",
                            "<tr><td>P-0022</td><td>2016</td><td>Algas</td><td>Pontevedra</td><td>25</td><td>30.9000000000</td><td>17613.0000000000</td></tr>",
                            "<tr><td>P-0029</td><td>2016</td><td>Algas</td><td>Coruña</td><td>6</td><td>33.3000000000</td><td>19181.0000000000</td></tr>",
                            "<tr><td>P-0042</td><td>2016</td><td>Algas</td><td>Coruña</td><td>1</td><td>32.4000000000</td><td>18468.0000000000</td></tr>",
                            "<tr><td>P-0049</td><td>2016</td><td>Algas</td><td>Pontevedra</td><td>23</td><td>34.2000000000</td><td>19699.0000000000</td></tr>",
                            "</table>"
                        ]
                    }
                }
            ],
            "execution_count": 11
        },
        {
            "cell_type": "code",
            "source": [
                "SELECT DISTINCT(PRODUCTO_ID)\r\n",
                "FROM NEMINA.DBO.DATOS_BASE"
            ],
            "metadata": {
                "azdata_cell_guid": "4c033101-2d58-49a6-b4d5-54fb87ff461a"
            },
            "outputs": [
                {
                    "output_type": "display_data",
                    "data": {
                        "text/html": "(3 rows affected)"
                    },
                    "metadata": {}
                },
                {
                    "output_type": "display_data",
                    "data": {
                        "text/html": "Total execution time: 00:00:00.053"
                    },
                    "metadata": {}
                },
                {
                    "output_type": "execute_result",
                    "metadata": {},
                    "execution_count": 12,
                    "data": {
                        "application/vnd.dataresource+json": {
                            "schema": {
                                "fields": [
                                    {
                                        "name": "PRODUCTO_ID"
                                    }
                                ]
                            },
                            "data": [
                                {
                                    "0": "Algas"
                                },
                                {
                                    "0": "Belleza"
                                },
                                {
                                    "0": "Setas"
                                }
                            ]
                        },
                        "text/html": [
                            "<table>",
                            "<tr><th>PRODUCTO_ID</th></tr>",
                            "<tr><td>Algas</td></tr>",
                            "<tr><td>Belleza</td></tr>",
                            "<tr><td>Setas</td></tr>",
                            "</table>"
                        ]
                    }
                }
            ],
            "execution_count": 12
        },
        {
            "cell_type": "code",
            "source": [
                "SELECT *  FROM NEMINA.DBO.DATOS_BASE\r\n",
                "WHERE INGRESOS_EUR <18000"
            ],
            "metadata": {
                "azdata_cell_guid": "40d40001-d8ee-4018-a29b-1a727f08fefe"
            },
            "outputs": [
                {
                    "output_type": "display_data",
                    "data": {
                        "text/html": "(4 rows affected)"
                    },
                    "metadata": {}
                },
                {
                    "output_type": "display_data",
                    "data": {
                        "text/html": "Total execution time: 00:00:00.251"
                    },
                    "metadata": {}
                },
                {
                    "output_type": "execute_result",
                    "metadata": {},
                    "execution_count": 13,
                    "data": {
                        "application/vnd.dataresource+json": {
                            "schema": {
                                "fields": [
                                    {
                                        "name": "PEDIDO_ID"
                                    },
                                    {
                                        "name": "FY_ID"
                                    },
                                    {
                                        "name": "PRODUCTO_ID"
                                    },
                                    {
                                        "name": "ZONA_ID"
                                    },
                                    {
                                        "name": "CLIENTE_ID"
                                    },
                                    {
                                        "name": "TONELADAS"
                                    },
                                    {
                                        "name": "INGRESOS_EUR"
                                    }
                                ]
                            },
                            "data": [
                                {
                                    "0": "P-0012",
                                    "1": "2016",
                                    "2": "Algas",
                                    "3": "Ourense",
                                    "4": "27",
                                    "5": "29.7000000000",
                                    "6": "17998.0000000000"
                                },
                                {
                                    "0": "P-0022",
                                    "1": "2016",
                                    "2": "Algas",
                                    "3": "Pontevedra",
                                    "4": "25",
                                    "5": "30.9000000000",
                                    "6": "17613.0000000000"
                                },
                                {
                                    "0": "P-0041",
                                    "1": "2016",
                                    "2": "Algas",
                                    "3": "Pontevedra",
                                    "4": "24",
                                    "5": "28.8000000000",
                                    "6": "16762.0000000000"
                                },
                                {
                                    "0": "P-0046",
                                    "1": "2016",
                                    "2": "Algas",
                                    "3": "Pontevedra",
                                    "4": "28",
                                    "5": "27.0000000000",
                                    "6": "16362.0000000000"
                                }
                            ]
                        },
                        "text/html": [
                            "<table>",
                            "<tr><th>PEDIDO_ID</th><th>FY_ID</th><th>PRODUCTO_ID</th><th>ZONA_ID</th><th>CLIENTE_ID</th><th>TONELADAS</th><th>INGRESOS_EUR</th></tr>",
                            "<tr><td>P-0012</td><td>2016</td><td>Algas</td><td>Ourense</td><td>27</td><td>29.7000000000</td><td>17998.0000000000</td></tr>",
                            "<tr><td>P-0022</td><td>2016</td><td>Algas</td><td>Pontevedra</td><td>25</td><td>30.9000000000</td><td>17613.0000000000</td></tr>",
                            "<tr><td>P-0041</td><td>2016</td><td>Algas</td><td>Pontevedra</td><td>24</td><td>28.8000000000</td><td>16762.0000000000</td></tr>",
                            "<tr><td>P-0046</td><td>2016</td><td>Algas</td><td>Pontevedra</td><td>28</td><td>27.0000000000</td><td>16362.0000000000</td></tr>",
                            "</table>"
                        ]
                    }
                }
            ],
            "execution_count": 13
        },
        {
            "cell_type": "code",
            "source": [
                "SELECT * FROM NEMINA.DBO.DATOS_BASE\r\n",
                "WHERE PRODUCTO_ID = 'Algas'"
            ],
            "metadata": {
                "azdata_cell_guid": "fc1dff69-6c2b-4b4b-8f43-8912d22b1e69"
            },
            "outputs": [
                {
                    "output_type": "display_data",
                    "data": {
                        "text/html": "(188 rows affected)"
                    },
                    "metadata": {}
                },
                {
                    "output_type": "display_data",
                    "data": {
                        "text/html": "Total execution time: 00:00:00.058"
                    },
                    "metadata": {}
                },
                {
                    "output_type": "execute_result",
                    "metadata": {},
                    "execution_count": 14,
                    "data": {
                        "application/vnd.dataresource+json": {
                            "schema": {
                                "fields": [
                                    {
                                        "name": "PEDIDO_ID"
                                    },
                                    {
                                        "name": "FY_ID"
                                    },
                                    {
                                        "name": "PRODUCTO_ID"
                                    },
                                    {
                                        "name": "ZONA_ID"
                                    },
                                    {
                                        "name": "CLIENTE_ID"
                                    },
                                    {
                                        "name": "TONELADAS"
                                    },
                                    {
                                        "name": "INGRESOS_EUR"
                                    }
                                ]
                            },
                            "data": [
                                {
                                    "0": "P-0012",
                                    "1": "2016",
                                    "2": "Algas",
                                    "3": "Ourense",
                                    "4": "27",
                                    "5": "29.7000000000",
                                    "6": "17998.0000000000"
                                },
                                {
                                    "0": "P-0014",
                                    "1": "2016",
                                    "2": "Algas",
                                    "3": "Lugo",
                                    "4": "16",
                                    "5": "32.7000000000",
                                    "6": "19816.0000000000"
                                },
                                {
                                    "0": "P-0018",
                                    "1": "2016",
                                    "2": "Algas",
                                    "3": "Coruña",
                                    "4": "18",
                                    "5": "31.8000000000",
                                    "6": "19271.0000000000"
                                },
                                {
                                    "0": "P-0019",
                                    "1": "2016",
                                    "2": "Algas",
                                    "3": "Ourense",
                                    "4": "27",
                                    "5": "37.5000000000",
                                    "6": "21375.0000000000"
                                },
                                {
                                    "0": "P-0020",
                                    "1": "2016",
                                    "2": "Algas",
                                    "3": "Coruña",
                                    "4": "7",
                                    "5": "33.3000000000",
                                    "6": "19780.0000000000"
                                },
                                {
                                    "0": "P-0022",
                                    "1": "2016",
                                    "2": "Algas",
                                    "3": "Pontevedra",
                                    "4": "25",
                                    "5": "30.9000000000",
                                    "6": "17613.0000000000"
                                },
                                {
                                    "0": "P-0023",
                                    "1": "2016",
                                    "2": "Algas",
                                    "3": "Lugo",
                                    "4": "6",
                                    "5": "31.8000000000",
                                    "6": "19080.0000000000"
                                },
                                {
                                    "0": "P-0029",
                                    "1": "2016",
                                    "2": "Algas",
                                    "3": "Coruña",
                                    "4": "6",
                                    "5": "33.3000000000",
                                    "6": "19181.0000000000"
                                },
                                {
                                    "0": "P-0030",
                                    "1": "2016",
                                    "2": "Algas",
                                    "3": "Coruña",
                                    "4": "15",
                                    "5": "32.4000000000",
                                    "6": "19246.0000000000"
                                },
                                {
                                    "0": "P-0033",
                                    "1": "2016",
                                    "2": "Algas",
                                    "3": "Coruña",
                                    "4": "2",
                                    "5": "32.1000000000",
                                    "6": "19067.0000000000"
                                },
                                {
                                    "0": "P-0037",
                                    "1": "2016",
                                    "2": "Algas",
                                    "3": "Pontevedra",
                                    "4": "25",
                                    "5": "34.2000000000",
                                    "6": "20520.0000000000"
                                },
                                {
                                    "0": "P-0041",
                                    "1": "2016",
                                    "2": "Algas",
                                    "3": "Pontevedra",
                                    "4": "24",
                                    "5": "28.8000000000",
                                    "6": "16762.0000000000"
                                },
                                {
                                    "0": "P-0042",
                                    "1": "2016",
                                    "2": "Algas",
                                    "3": "Coruña",
                                    "4": "1",
                                    "5": "32.4000000000",
                                    "6": "18468.0000000000"
                                },
                                {
                                    "0": "P-0046",
                                    "1": "2016",
                                    "2": "Algas",
                                    "3": "Pontevedra",
                                    "4": "28",
                                    "5": "27.0000000000",
                                    "6": "16362.0000000000"
                                },
                                {
                                    "0": "P-0049",
                                    "1": "2016",
                                    "2": "Algas",
                                    "3": "Pontevedra",
                                    "4": "23",
                                    "5": "34.2000000000",
                                    "6": "19699.0000000000"
                                },
                                {
                                    "0": "P-0050",
                                    "1": "2016",
                                    "2": "Algas",
                                    "3": "Pontevedra",
                                    "4": "23",
                                    "5": "31.8000000000",
                                    "6": "19271.0000000000"
                                },
                                {
                                    "0": "P-0051",
                                    "1": "2017",
                                    "2": "Algas",
                                    "3": "Ourense",
                                    "4": "27",
                                    "5": "43.8000000000",
                                    "6": "25988.0000000000"
                                },
                                {
                                    "0": "P-0057",
                                    "1": "2017",
                                    "2": "Algas",
                                    "3": "Pontevedra",
                                    "4": "27",
                                    "5": "36.1000000000",
                                    "6": "21197.0000000000"
                                },
                                {
                                    "0": "P-0059",
                                    "1": "2017",
                                    "2": "Algas",
                                    "3": "Pontevedra",
                                    "4": "26",
                                    "5": "44.1000000000",
                                    "6": "26195.0000000000"
                                },
                                {
                                    "0": "P-0060",
                                    "1": "2017",
                                    "2": "Algas",
                                    "3": "Pontevedra",
                                    "4": "24",
                                    "5": "40.3000000000",
                                    "6": "23667.0000000000"
                                },
                                {
                                    "0": "P-0063",
                                    "1": "2017",
                                    "2": "Algas",
                                    "3": "Ourense",
                                    "4": "27",
                                    "5": "39.2000000000",
                                    "6": "23755.0000000000"
                                },
                                {
                                    "0": "P-0067",
                                    "1": "2017",
                                    "2": "Algas",
                                    "3": "Pontevedra",
                                    "4": "28",
                                    "5": "39.2000000000",
                                    "6": "23285.0000000000"
                                },
                                {
                                    "0": "P-0069",
                                    "1": "2017",
                                    "2": "Algas",
                                    "3": "Ourense",
                                    "4": "23",
                                    "5": "44.1000000000",
                                    "6": "26725.0000000000"
                                },
                                {
                                    "0": "P-0074",
                                    "1": "2017",
                                    "2": "Algas",
                                    "3": "Pontevedra",
                                    "4": "25",
                                    "5": "34.7000000000",
                                    "6": "20998.0000000000"
                                },
                                {
                                    "0": "P-0075",
                                    "1": "2017",
                                    "2": "Algas",
                                    "3": "Pontevedra",
                                    "4": "22",
                                    "5": "44.8000000000",
                                    "6": "26611.0000000000"
                                },
                                {
                                    "0": "P-0077",
                                    "1": "2017",
                                    "2": "Algas",
                                    "3": "Coruña",
                                    "4": "15",
                                    "5": "38.9000000000",
                                    "6": "24242.0000000000"
                                },
                                {
                                    "0": "P-0078",
                                    "1": "2017",
                                    "2": "Algas",
                                    "3": "Lugo",
                                    "4": "8",
                                    "5": "38.9000000000",
                                    "6": "23776.0000000000"
                                },
                                {
                                    "0": "P-0080",
                                    "1": "2017",
                                    "2": "Algas",
                                    "3": "Coruña",
                                    "4": "17",
                                    "5": "39.6000000000",
                                    "6": "24679.0000000000"
                                },
                                {
                                    "0": "P-0081",
                                    "1": "2017",
                                    "2": "Algas",
                                    "3": "Coruña",
                                    "4": "7",
                                    "5": "36.8000000000",
                                    "6": "22932.0000000000"
                                },
                                {
                                    "0": "P-0082",
                                    "1": "2017",
                                    "2": "Algas",
                                    "3": "Coruña",
                                    "4": "4",
                                    "5": "38.9000000000",
                                    "6": "24242.0000000000"
                                },
                                {
                                    "0": "P-0083",
                                    "1": "2017",
                                    "2": "Algas",
                                    "3": "Lugo",
                                    "4": "11",
                                    "5": "39.9000000000",
                                    "6": "25137.0000000000"
                                },
                                {
                                    "0": "P-0085",
                                    "1": "2017",
                                    "2": "Algas",
                                    "3": "Coruña",
                                    "4": "10",
                                    "5": "37.1000000000",
                                    "6": "22705.0000000000"
                                },
                                {
                                    "0": "P-0086",
                                    "1": "2017",
                                    "2": "Algas",
                                    "3": "Lugo",
                                    "4": "7",
                                    "5": "38.5000000000",
                                    "6": "24024.0000000000"
                                },
                                {
                                    "0": "P-0089",
                                    "1": "2017",
                                    "2": "Algas",
                                    "3": "Ourense",
                                    "4": "27",
                                    "5": "41.0000000000",
                                    "6": "24816.0000000000"
                                },
                                {
                                    "0": "P-0092",
                                    "1": "2017",
                                    "2": "Algas",
                                    "3": "Coruña",
                                    "4": "19",
                                    "5": "39.6000000000",
                                    "6": "24205.0000000000"
                                },
                                {
                                    "0": "P-0094",
                                    "1": "2017",
                                    "2": "Algas",
                                    "3": "Coruña",
                                    "4": "19",
                                    "5": "39.2000000000",
                                    "6": "23990.0000000000"
                                },
                                {
                                    "0": "P-0095",
                                    "1": "2017",
                                    "2": "Algas",
                                    "3": "Lugo",
                                    "4": "4",
                                    "5": "37.1000000000",
                                    "6": "23150.0000000000"
                                },
                                {
                                    "0": "P-0099",
                                    "1": "2017",
                                    "2": "Algas",
                                    "3": "Lugo",
                                    "4": "10",
                                    "5": "38.9000000000",
                                    "6": "24476.0000000000"
                                },
                                {
                                    "0": "P-0102",
                                    "1": "2017",
                                    "2": "Algas",
                                    "3": "Coruña",
                                    "4": "4",
                                    "5": "36.8000000000",
                                    "6": "22712.0000000000"
                                },
                                {
                                    "0": "P-0105",
                                    "1": "2017",
                                    "2": "Algas",
                                    "3": "Coruña",
                                    "4": "4",
                                    "5": "38.9000000000",
                                    "6": "24476.0000000000"
                                },
                                {
                                    "0": "P-0109",
                                    "1": "2017",
                                    "2": "Algas",
                                    "3": "Lugo",
                                    "4": "8",
                                    "5": "39.6000000000",
                                    "6": "24205.0000000000"
                                },
                                {
                                    "0": "P-0111",
                                    "1": "2017",
                                    "2": "Algas",
                                    "3": "Coruña",
                                    "4": "18",
                                    "5": "38.2000000000",
                                    "6": "23348.0000000000"
                                },
                                {
                                    "0": "P-0112",
                                    "1": "2017",
                                    "2": "Algas",
                                    "3": "Coruña",
                                    "4": "5",
                                    "5": "39.2000000000",
                                    "6": "24226.0000000000"
                                },
                                {
                                    "0": "P-0119",
                                    "1": "2017",
                                    "2": "Algas",
                                    "3": "Coruña",
                                    "4": "7",
                                    "5": "40.3000000000",
                                    "6": "25116.0000000000"
                                },
                                {
                                    "0": "P-0122",
                                    "1": "2017",
                                    "2": "Algas",
                                    "3": "Coruña",
                                    "4": "15",
                                    "5": "39.9000000000",
                                    "6": "24658.0000000000"
                                },
                                {
                                    "0": "P-0123",
                                    "1": "2017",
                                    "2": "Algas",
                                    "3": "Coruña",
                                    "4": "17",
                                    "5": "37.1000000000",
                                    "6": "23373.0000000000"
                                },
                                {
                                    "0": "P-0124",
                                    "1": "2017",
                                    "2": "Algas",
                                    "3": "Lugo",
                                    "4": "17",
                                    "5": "39.9000000000",
                                    "6": "25137.0000000000"
                                },
                                {
                                    "0": "P-0127",
                                    "1": "2017",
                                    "2": "Algas",
                                    "3": "Coruña",
                                    "4": "1",
                                    "5": "39.6000000000",
                                    "6": "24679.0000000000"
                                },
                                {
                                    "0": "P-0128",
                                    "1": "2017",
                                    "2": "Algas",
                                    "3": "Coruña",
                                    "4": "9",
                                    "5": "40.3000000000",
                                    "6": "24633.0000000000"
                                },
                                {
                                    "0": "P-0130",
                                    "1": "2017",
                                    "2": "Algas",
                                    "3": "Coruña",
                                    "4": "18",
                                    "5": "39.2000000000",
                                    "6": "24696.0000000000"
                                },
                                {
                                    "0": "P-0132",
                                    "1": "2017",
                                    "2": "Algas",
                                    "3": "Pontevedra",
                                    "4": "25",
                                    "5": "39.2000000000",
                                    "6": "23755.0000000000"
                                },
                                {
                                    "0": "P-0134",
                                    "1": "2017",
                                    "2": "Algas",
                                    "3": "Coruña",
                                    "4": "19",
                                    "5": "40.3000000000",
                                    "6": "25358.0000000000"
                                },
                                {
                                    "0": "P-0137",
                                    "1": "2017",
                                    "2": "Algas",
                                    "3": "Pontevedra",
                                    "4": "28",
                                    "5": "39.9000000000",
                                    "6": "24419.0000000000"
                                },
                                {
                                    "0": "P-0141",
                                    "1": "2017",
                                    "2": "Algas",
                                    "3": "Pontevedra",
                                    "4": "24",
                                    "5": "43.1000000000",
                                    "6": "26347.0000000000"
                                },
                                {
                                    "0": "P-0145",
                                    "1": "2017",
                                    "2": "Algas",
                                    "3": "Pontevedra",
                                    "4": "26",
                                    "5": "34.7000000000",
                                    "6": "20790.0000000000"
                                },
                                {
                                    "0": "P-0148",
                                    "1": "2017",
                                    "2": "Algas",
                                    "3": "Coruña",
                                    "4": "6",
                                    "5": "37.1000000000",
                                    "6": "22928.0000000000"
                                },
                                {
                                    "0": "P-0149",
                                    "1": "2017",
                                    "2": "Algas",
                                    "3": "Lugo",
                                    "4": "2",
                                    "5": "39.6000000000",
                                    "6": "24205.0000000000"
                                },
                                {
                                    "0": "P-0161",
                                    "1": "2018",
                                    "2": "Algas",
                                    "3": "Coruña",
                                    "4": "6",
                                    "5": "42.6000000000",
                                    "6": "26813.0000000000"
                                },
                                {
                                    "0": "P-0163",
                                    "1": "2018",
                                    "2": "Algas",
                                    "3": "Coruña",
                                    "4": "7",
                                    "5": "40.7000000000",
                                    "6": "25616.0000000000"
                                },
                                {
                                    "0": "P-0166",
                                    "1": "2018",
                                    "2": "Algas",
                                    "3": "Coruña",
                                    "4": "14",
                                    "5": "42.6000000000",
                                    "6": "26302.0000000000"
                                },
                                {
                                    "0": "P-0167",
                                    "1": "2018",
                                    "2": "Algas",
                                    "3": "Ourense",
                                    "4": "26",
                                    "5": "38.9000000000",
                                    "6": "23795.0000000000"
                                },
                                {
                                    "0": "P-0171",
                                    "1": "2018",
                                    "2": "Algas",
                                    "3": "Lugo",
                                    "4": "20",
                                    "5": "41.8000000000",
                                    "6": "25582.0000000000"
                                },
                                {
                                    "0": "P-0172",
                                    "1": "2018",
                                    "2": "Algas",
                                    "3": "Lugo",
                                    "4": "17",
                                    "5": "40.7000000000",
                                    "6": "25128.0000000000"
                                },
                                {
                                    "0": "P-0174",
                                    "1": "2018",
                                    "2": "Algas",
                                    "3": "Coruña",
                                    "4": "20",
                                    "5": "43.7000000000",
                                    "6": "27007.0000000000"
                                },
                                {
                                    "0": "P-0178",
                                    "1": "2018",
                                    "2": "Algas",
                                    "3": "Pontevedra",
                                    "4": "22",
                                    "5": "45.0000000000",
                                    "6": "27540.0000000000"
                                },
                                {
                                    "0": "P-0182",
                                    "1": "2018",
                                    "2": "Algas",
                                    "3": "Pontevedra",
                                    "4": "28",
                                    "5": "42.1000000000",
                                    "6": "25019.0000000000"
                                },
                                {
                                    "0": "P-0184",
                                    "1": "2018",
                                    "2": "Algas",
                                    "3": "Pontevedra",
                                    "4": "26",
                                    "5": "36.7000000000",
                                    "6": "21591.0000000000"
                                },
                                {
                                    "0": "P-0186",
                                    "1": "2018",
                                    "2": "Algas",
                                    "3": "Ourense",
                                    "4": "21",
                                    "5": "36.4000000000",
                                    "6": "21816.0000000000"
                                },
                                {
                                    "0": "P-0187",
                                    "1": "2018",
                                    "2": "Algas",
                                    "3": "Pontevedra",
                                    "4": "23",
                                    "5": "36.7000000000",
                                    "6": "22032.0000000000"
                                },
                                {
                                    "0": "P-0192",
                                    "1": "2018",
                                    "2": "Algas",
                                    "3": "Pontevedra",
                                    "4": "25",
                                    "5": "36.7000000000",
                                    "6": "21591.0000000000"
                                },
                                {
                                    "0": "P-0196",
                                    "1": "2018",
                                    "2": "Algas",
                                    "3": "Pontevedra",
                                    "4": "26",
                                    "5": "42.8000000000",
                                    "6": "26218.0000000000"
                                },
                                {
                                    "0": "P-0197",
                                    "1": "2018",
                                    "2": "Algas",
                                    "3": "Coruña",
                                    "4": "14",
                                    "5": "42.2000000000",
                                    "6": "26573.0000000000"
                                },
                                {
                                    "0": "P-0202",
                                    "1": "2018",
                                    "2": "Algas",
                                    "3": "Coruña",
                                    "4": "7",
                                    "5": "42.9000000000",
                                    "6": "26795.0000000000"
                                },
                                {
                                    "0": "P-0205",
                                    "1": "2018",
                                    "2": "Algas",
                                    "3": "Coruña",
                                    "4": "1",
                                    "5": "42.2000000000",
                                    "6": "26067.0000000000"
                                },
                                {
                                    "0": "P-0208",
                                    "1": "2018",
                                    "2": "Algas",
                                    "3": "Lugo",
                                    "4": "9",
                                    "5": "39.9000000000",
                                    "6": "24898.0000000000"
                                },
                                {
                                    "0": "P-0209",
                                    "1": "2018",
                                    "2": "Algas",
                                    "3": "Coruña",
                                    "4": "4",
                                    "5": "42.2000000000",
                                    "6": "26320.0000000000"
                                },
                                {
                                    "0": "P-0211",
                                    "1": "2018",
                                    "2": "Algas",
                                    "3": "Coruña",
                                    "4": "12",
                                    "5": "42.2000000000",
                                    "6": "26573.0000000000"
                                },
                                {
                                    "0": "P-0214",
                                    "1": "2018",
                                    "2": "Algas",
                                    "3": "Pontevedra",
                                    "4": "27",
                                    "5": "33.1000000000",
                                    "6": "20071.0000000000"
                                },
                                {
                                    "0": "P-0218",
                                    "1": "2018",
                                    "2": "Algas",
                                    "3": "Coruña",
                                    "4": "4",
                                    "5": "39.9000000000",
                                    "6": "24658.0000000000"
                                },
                                {
                                    "0": "P-0223",
                                    "1": "2018",
                                    "2": "Algas",
                                    "3": "Coruña",
                                    "4": "13",
                                    "5": "41.4000000000",
                                    "6": "25598.0000000000"
                                },
                                {
                                    "0": "P-0228",
                                    "1": "2018",
                                    "2": "Algas",
                                    "3": "Coruña",
                                    "4": "20",
                                    "5": "41.0000000000",
                                    "6": "25855.0000000000"
                                },
                                {
                                    "0": "P-0231",
                                    "1": "2018",
                                    "2": "Algas",
                                    "3": "Coruña",
                                    "4": "1",
                                    "5": "42.2000000000",
                                    "6": "26573.0000000000"
                                },
                                {
                                    "0": "P-0233",
                                    "1": "2018",
                                    "2": "Algas",
                                    "3": "Pontevedra",
                                    "4": "21",
                                    "5": "36.0000000000",
                                    "6": "21168.0000000000"
                                },
                                {
                                    "0": "P-0236",
                                    "1": "2018",
                                    "2": "Algas",
                                    "3": "Coruña",
                                    "4": "16",
                                    "5": "39.9000000000",
                                    "6": "24419.0000000000"
                                },
                                {
                                    "0": "P-0237",
                                    "1": "2018",
                                    "2": "Algas",
                                    "3": "Coruña",
                                    "4": "14",
                                    "5": "41.4000000000",
                                    "6": "25349.0000000000"
                                },
                                {
                                    "0": "P-0240",
                                    "1": "2018",
                                    "2": "Algas",
                                    "3": "Lugo",
                                    "4": "3",
                                    "5": "41.0000000000",
                                    "6": "25363.0000000000"
                                },
                                {
                                    "0": "P-0241",
                                    "1": "2018",
                                    "2": "Algas",
                                    "3": "Pontevedra",
                                    "4": "21",
                                    "5": "37.8000000000",
                                    "6": "22226.0000000000"
                                },
                                {
                                    "0": "P-0242",
                                    "1": "2018",
                                    "2": "Algas",
                                    "3": "Pontevedra",
                                    "4": "23",
                                    "5": "43.6000000000",
                                    "6": "26659.0000000000"
                                },
                                {
                                    "0": "P-0246",
                                    "1": "2018",
                                    "2": "Algas",
                                    "3": "Pontevedra",
                                    "4": "23",
                                    "5": "46.8000000000",
                                    "6": "27799.0000000000"
                                },
                                {
                                    "0": "P-0248",
                                    "1": "2018",
                                    "2": "Algas",
                                    "3": "Coruña",
                                    "4": "13",
                                    "5": "41.8000000000",
                                    "6": "26334.0000000000"
                                },
                                {
                                    "0": "P-0251",
                                    "1": "2018",
                                    "2": "Algas",
                                    "3": "Lugo",
                                    "4": "14",
                                    "5": "41.8000000000",
                                    "6": "25582.0000000000"
                                },
                                {
                                    "0": "P-0254",
                                    "1": "2018",
                                    "2": "Algas",
                                    "3": "Coruña",
                                    "4": "2",
                                    "5": "41.4000000000",
                                    "6": "25846.0000000000"
                                },
                                {
                                    "0": "P-0262",
                                    "1": "2018",
                                    "2": "Algas",
                                    "3": "Pontevedra",
                                    "4": "23",
                                    "5": "44.6000000000",
                                    "6": "26784.0000000000"
                                },
                                {
                                    "0": "P-0263",
                                    "1": "2018",
                                    "2": "Algas",
                                    "3": "Coruña",
                                    "4": "6",
                                    "5": "41.8000000000",
                                    "6": "25582.0000000000"
                                },
                                {
                                    "0": "P-0265",
                                    "1": "2018",
                                    "2": "Algas",
                                    "3": "Pontevedra",
                                    "4": "26",
                                    "5": "40.0000000000",
                                    "6": "23736.0000000000"
                                },
                                {
                                    "0": "P-0266",
                                    "1": "2018",
                                    "2": "Algas",
                                    "3": "Coruña",
                                    "4": "2",
                                    "5": "40.3000000000",
                                    "6": "25376.0000000000"
                                },
                                {
                                    "0": "P-0270",
                                    "1": "2018",
                                    "2": "Algas",
                                    "3": "Coruña",
                                    "4": "2",
                                    "5": "41.4000000000",
                                    "6": "25846.0000000000"
                                },
                                {
                                    "0": "P-0272",
                                    "1": "2018",
                                    "2": "Algas",
                                    "3": "Coruña",
                                    "4": "2",
                                    "5": "42.2000000000",
                                    "6": "26320.0000000000"
                                },
                                {
                                    "0": "P-0273",
                                    "1": "2018",
                                    "2": "Algas",
                                    "3": "Ourense",
                                    "4": "24",
                                    "5": "42.5000000000",
                                    "6": "25233.0000000000"
                                },
                                {
                                    "0": "P-0275",
                                    "1": "2018",
                                    "2": "Algas",
                                    "3": "Pontevedra",
                                    "4": "22",
                                    "5": "43.6000000000",
                                    "6": "26397.0000000000"
                                },
                                {
                                    "0": "P-0277",
                                    "1": "2018",
                                    "2": "Algas",
                                    "3": "Pontevedra",
                                    "4": "24",
                                    "5": "41.8000000000",
                                    "6": "24555.0000000000"
                                },
                                {
                                    "0": "P-0282",
                                    "1": "2018",
                                    "2": "Algas",
                                    "3": "Pontevedra",
                                    "4": "23",
                                    "5": "45.4000000000",
                                    "6": "26672.0000000000"
                                },
                                {
                                    "0": "P-0288",
                                    "1": "2018",
                                    "2": "Algas",
                                    "3": "Pontevedra",
                                    "4": "22",
                                    "5": "46.1000000000",
                                    "6": "27372.0000000000"
                                },
                                {
                                    "0": "P-0289",
                                    "1": "2018",
                                    "2": "Algas",
                                    "3": "Coruña",
                                    "4": "17",
                                    "5": "42.6000000000",
                                    "6": "26813.0000000000"
                                },
                                {
                                    "0": "P-0290",
                                    "1": "2018",
                                    "2": "Algas",
                                    "3": "Coruña",
                                    "4": "13",
                                    "5": "43.7000000000",
                                    "6": "27269.0000000000"
                                },
                                {
                                    "0": "P-0291",
                                    "1": "2018",
                                    "2": "Algas",
                                    "3": "Coruña",
                                    "4": "11",
                                    "5": "43.7000000000",
                                    "6": "27007.0000000000"
                                },
                                {
                                    "0": "P-0295",
                                    "1": "2018",
                                    "2": "Algas",
                                    "3": "Coruña",
                                    "4": "8",
                                    "5": "42.2000000000",
                                    "6": "26320.0000000000"
                                },
                                {
                                    "0": "P-0296",
                                    "1": "2018",
                                    "2": "Algas",
                                    "3": "Coruña",
                                    "4": "13",
                                    "5": "40.7000000000",
                                    "6": "25372.0000000000"
                                },
                                {
                                    "0": "P-0297",
                                    "1": "2018",
                                    "2": "Algas",
                                    "3": "Lugo",
                                    "4": "15",
                                    "5": "42.9000000000",
                                    "6": "26537.0000000000"
                                },
                                {
                                    "0": "P-0298",
                                    "1": "2018",
                                    "2": "Algas",
                                    "3": "Lugo",
                                    "4": "18",
                                    "5": "42.2000000000",
                                    "6": "26320.0000000000"
                                },
                                {
                                    "0": "P-0299",
                                    "1": "2018",
                                    "2": "Algas",
                                    "3": "Coruña",
                                    "4": "11",
                                    "5": "41.0000000000",
                                    "6": "25116.0000000000"
                                },
                                {
                                    "0": "P-0300",
                                    "1": "2018",
                                    "2": "Algas",
                                    "3": "Coruña",
                                    "4": "11",
                                    "5": "42.2000000000",
                                    "6": "26573.0000000000"
                                },
                                {
                                    "0": "P-0305",
                                    "1": "2019",
                                    "2": "Algas",
                                    "3": "Coruña",
                                    "4": "18",
                                    "5": "42.4000000000",
                                    "6": "25949.0000000000"
                                },
                                {
                                    "0": "P-0307",
                                    "1": "2019",
                                    "2": "Algas",
                                    "3": "Coruña",
                                    "4": "14",
                                    "5": "42.8000000000",
                                    "6": "26450.0000000000"
                                },
                                {
                                    "0": "P-0308",
                                    "1": "2019",
                                    "2": "Algas",
                                    "3": "Lugo",
                                    "4": "4",
                                    "5": "45.6000000000",
                                    "6": "28181.0000000000"
                                },
                                {
                                    "0": "P-0309",
                                    "1": "2019",
                                    "2": "Algas",
                                    "3": "Coruña",
                                    "4": "18",
                                    "5": "42.0000000000",
                                    "6": "25956.0000000000"
                                },
                                {
                                    "0": "P-0310",
                                    "1": "2019",
                                    "2": "Algas",
                                    "3": "Coruña",
                                    "4": "5",
                                    "5": "43.2000000000",
                                    "6": "27216.0000000000"
                                },
                                {
                                    "0": "P-0311",
                                    "1": "2019",
                                    "2": "Algas",
                                    "3": "Pontevedra",
                                    "4": "25",
                                    "5": "47.4000000000",
                                    "6": "28416.0000000000"
                                },
                                {
                                    "0": "P-0312",
                                    "1": "2019",
                                    "2": "Algas",
                                    "3": "Coruña",
                                    "4": "6",
                                    "5": "44.4000000000",
                                    "6": "27972.0000000000"
                                },
                                {
                                    "0": "P-0318",
                                    "1": "2019",
                                    "2": "Algas",
                                    "3": "Ourense",
                                    "4": "25",
                                    "5": "259.0000000000",
                                    "6": "158508.0000000000"
                                },
                                {
                                    "0": "P-0319",
                                    "1": "2019",
                                    "2": "Algas",
                                    "3": "Coruña",
                                    "4": "19",
                                    "5": "42.4000000000",
                                    "6": "26203.0000000000"
                                },
                                {
                                    "0": "P-0322",
                                    "1": "2019",
                                    "2": "Algas",
                                    "3": "Coruña",
                                    "4": "16",
                                    "5": "45.2000000000",
                                    "6": "27934.0000000000"
                                },
                                {
                                    "0": "P-0324",
                                    "1": "2019",
                                    "2": "Algas",
                                    "3": "Lugo",
                                    "4": "4",
                                    "5": "42.8000000000",
                                    "6": "26964.0000000000"
                                },
                                {
                                    "0": "P-0327",
                                    "1": "2019",
                                    "2": "Algas",
                                    "3": "Coruña",
                                    "4": "5",
                                    "5": "44.0000000000",
                                    "6": "27192.0000000000"
                                },
                                {
                                    "0": "P-0333",
                                    "1": "2019",
                                    "2": "Algas",
                                    "3": "Coruña",
                                    "4": "7",
                                    "5": "44.4000000000",
                                    "6": "27972.0000000000"
                                },
                                {
                                    "0": "P-0334",
                                    "1": "2019",
                                    "2": "Algas",
                                    "3": "Pontevedra",
                                    "4": "26",
                                    "5": "34.8000000000",
                                    "6": "20868.0000000000"
                                },
                                {
                                    "0": "P-0335",
                                    "1": "2019",
                                    "2": "Algas",
                                    "3": "Coruña",
                                    "4": "17",
                                    "5": "42.8000000000",
                                    "6": "26194.0000000000"
                                },
                                {
                                    "0": "P-0338",
                                    "1": "2019",
                                    "2": "Algas",
                                    "3": "Ourense",
                                    "4": "22",
                                    "5": "41.1000000000",
                                    "6": "24888.0000000000"
                                },
                                {
                                    "0": "P-0339",
                                    "1": "2019",
                                    "2": "Algas",
                                    "3": "Coruña",
                                    "4": "5",
                                    "5": "42.8000000000",
                                    "6": "26450.0000000000"
                                },
                                {
                                    "0": "P-0340",
                                    "1": "2019",
                                    "2": "Algas",
                                    "3": "Coruña",
                                    "4": "14",
                                    "5": "44.4000000000",
                                    "6": "27706.0000000000"
                                },
                                {
                                    "0": "P-0341",
                                    "1": "2019",
                                    "2": "Algas",
                                    "3": "Lugo",
                                    "4": "15",
                                    "5": "45.2000000000",
                                    "6": "28205.0000000000"
                                },
                                {
                                    "0": "P-0344",
                                    "1": "2019",
                                    "2": "Algas",
                                    "3": "Coruña",
                                    "4": "4",
                                    "5": "44.0000000000",
                                    "6": "27456.0000000000"
                                },
                                {
                                    "0": "P-0347",
                                    "1": "2019",
                                    "2": "Algas",
                                    "3": "Coruña",
                                    "4": "18",
                                    "5": "43.6000000000",
                                    "6": "27206.0000000000"
                                },
                                {
                                    "0": "P-0348",
                                    "1": "2019",
                                    "2": "Algas",
                                    "3": "Coruña",
                                    "4": "19",
                                    "5": "44.0000000000",
                                    "6": "27456.0000000000"
                                },
                                {
                                    "0": "P-0351",
                                    "1": "2019",
                                    "2": "Algas",
                                    "3": "Coruña",
                                    "4": "9",
                                    "5": "42.0000000000",
                                    "6": "26208.0000000000"
                                },
                                {
                                    "0": "P-0356",
                                    "1": "2019",
                                    "2": "Algas",
                                    "3": "Pontevedra",
                                    "4": "22",
                                    "5": "222.0000000000",
                                    "6": "133200.0000000000"
                                },
                                {
                                    "0": "P-0358",
                                    "1": "2019",
                                    "2": "Algas",
                                    "3": "Coruña",
                                    "4": "11",
                                    "5": "44.8000000000",
                                    "6": "27686.0000000000"
                                },
                                {
                                    "0": "P-0362",
                                    "1": "2019",
                                    "2": "Algas",
                                    "3": "Pontevedra",
                                    "4": "27",
                                    "5": "45.5000000000",
                                    "6": "27306.0000000000"
                                },
                                {
                                    "0": "P-0366",
                                    "1": "2019",
                                    "2": "Algas",
                                    "3": "Coruña",
                                    "4": "18",
                                    "5": "44.4000000000",
                                    "6": "27972.0000000000"
                                },
                                {
                                    "0": "P-0369",
                                    "1": "2019",
                                    "2": "Algas",
                                    "3": "Coruña",
                                    "4": "9",
                                    "5": "42.8000000000",
                                    "6": "26964.0000000000"
                                },
                                {
                                    "0": "P-0370",
                                    "1": "2019",
                                    "2": "Algas",
                                    "3": "Pontevedra",
                                    "4": "23",
                                    "5": "45.9000000000",
                                    "6": "26977.0000000000"
                                },
                                {
                                    "0": "P-0372",
                                    "1": "2019",
                                    "2": "Algas",
                                    "3": "Coruña",
                                    "4": "13",
                                    "5": "44.8000000000",
                                    "6": "27686.0000000000"
                                },
                                {
                                    "0": "P-0373",
                                    "1": "2019",
                                    "2": "Algas",
                                    "3": "Pontevedra",
                                    "4": "26",
                                    "5": "45.5000000000",
                                    "6": "26760.0000000000"
                                },
                                {
                                    "0": "P-0378",
                                    "1": "2019",
                                    "2": "Algas",
                                    "3": "Coruña",
                                    "4": "5",
                                    "5": "46.0000000000",
                                    "6": "28152.0000000000"
                                },
                                {
                                    "0": "P-0381",
                                    "1": "2019",
                                    "2": "Algas",
                                    "3": "Lugo",
                                    "4": "3",
                                    "5": "42.0000000000",
                                    "6": "26460.0000000000"
                                },
                                {
                                    "0": "P-0382",
                                    "1": "2019",
                                    "2": "Algas",
                                    "3": "Ourense",
                                    "4": "22",
                                    "5": "33.7000000000",
                                    "6": "20606.0000000000"
                                },
                                {
                                    "0": "P-0383",
                                    "1": "2019",
                                    "2": "Algas",
                                    "3": "Lugo",
                                    "4": "1",
                                    "5": "44.4000000000",
                                    "6": "27706.0000000000"
                                },
                                {
                                    "0": "P-0384",
                                    "1": "2019",
                                    "2": "Algas",
                                    "3": "Pontevedra",
                                    "4": "22",
                                    "5": "39.2000000000",
                                    "6": "23061.0000000000"
                                },
                                {
                                    "0": "P-0385",
                                    "1": "2019",
                                    "2": "Algas",
                                    "3": "Ourense",
                                    "4": "23",
                                    "5": "34.8000000000",
                                    "6": "20659.0000000000"
                                },
                                {
                                    "0": "P-0386",
                                    "1": "2019",
                                    "2": "Algas",
                                    "3": "Coruña",
                                    "4": "13",
                                    "5": "43.6000000000",
                                    "6": "27206.0000000000"
                                },
                                {
                                    "0": "P-0388",
                                    "1": "2019",
                                    "2": "Algas",
                                    "3": "Coruña",
                                    "4": "11",
                                    "5": "45.2000000000",
                                    "6": "27934.0000000000"
                                },
                                {
                                    "0": "P-0391",
                                    "1": "2019",
                                    "2": "Algas",
                                    "3": "Pontevedra",
                                    "4": "27",
                                    "5": "40.3000000000",
                                    "6": "24682.0000000000"
                                },
                                {
                                    "0": "P-0392",
                                    "1": "2019",
                                    "2": "Algas",
                                    "3": "Lugo",
                                    "4": "19",
                                    "5": "43.6000000000",
                                    "6": "26945.0000000000"
                                },
                                {
                                    "0": "P-0397",
                                    "1": "2019",
                                    "2": "Algas",
                                    "3": "Pontevedra",
                                    "4": "27",
                                    "5": "48.1000000000",
                                    "6": "28283.0000000000"
                                },
                                {
                                    "0": "P-0398",
                                    "1": "2019",
                                    "2": "Algas",
                                    "3": "Lugo",
                                    "4": "18",
                                    "5": "45.2000000000",
                                    "6": "28476.0000000000"
                                },
                                {
                                    "0": "P-0401",
                                    "1": "2019",
                                    "2": "Algas",
                                    "3": "Coruña",
                                    "4": "15",
                                    "5": "43.6000000000",
                                    "6": "26945.0000000000"
                                },
                                {
                                    "0": "P-0402",
                                    "1": "2019",
                                    "2": "Algas",
                                    "3": "Pontevedra",
                                    "4": "23",
                                    "5": "41.8000000000",
                                    "6": "24584.0000000000"
                                },
                                {
                                    "0": "P-0403",
                                    "1": "2019",
                                    "2": "Algas",
                                    "3": "Coruña",
                                    "4": "9",
                                    "5": "45.6000000000",
                                    "6": "28181.0000000000"
                                },
                                {
                                    "0": "P-0404",
                                    "1": "2019",
                                    "2": "Algas",
                                    "3": "Coruña",
                                    "4": "4",
                                    "5": "42.8000000000",
                                    "6": "26194.0000000000"
                                },
                                {
                                    "0": "P-0406",
                                    "1": "2019",
                                    "2": "Algas",
                                    "3": "Coruña",
                                    "4": "5",
                                    "5": "43.6000000000",
                                    "6": "26683.0000000000"
                                },
                                {
                                    "0": "P-0420",
                                    "1": "2019",
                                    "2": "Algas",
                                    "3": "Lugo",
                                    "4": "7",
                                    "5": "44.0000000000",
                                    "6": "27192.0000000000"
                                },
                                {
                                    "0": "P-0421",
                                    "1": "2019",
                                    "2": "Algas",
                                    "3": "Lugo",
                                    "4": "9",
                                    "5": "44.0000000000",
                                    "6": "27456.0000000000"
                                },
                                {
                                    "0": "P-0424",
                                    "1": "2019",
                                    "2": "Algas",
                                    "3": "Coruña",
                                    "4": "17",
                                    "5": "45.6000000000",
                                    "6": "28454.0000000000"
                                },
                                {
                                    "0": "P-0427",
                                    "1": "2019",
                                    "2": "Algas",
                                    "3": "Coruña",
                                    "4": "5",
                                    "5": "42.0000000000",
                                    "6": "26208.0000000000"
                                },
                                {
                                    "0": "P-0435",
                                    "1": "2019",
                                    "2": "Algas",
                                    "3": "Lugo",
                                    "4": "4",
                                    "5": "42.4000000000",
                                    "6": "26203.0000000000"
                                },
                                {
                                    "0": "P-0437",
                                    "1": "2019",
                                    "2": "Algas",
                                    "3": "Coruña",
                                    "4": "4",
                                    "5": "45.2000000000",
                                    "6": "27934.0000000000"
                                },
                                {
                                    "0": "P-0438",
                                    "1": "2019",
                                    "2": "Algas",
                                    "3": "Coruña",
                                    "4": "7",
                                    "5": "42.4000000000",
                                    "6": "26203.0000000000"
                                },
                                {
                                    "0": "P-0439",
                                    "1": "2019",
                                    "2": "Algas",
                                    "3": "Lugo",
                                    "4": "3",
                                    "5": "46.0000000000",
                                    "6": "28428.0000000000"
                                },
                                {
                                    "0": "P-0447",
                                    "1": "2019",
                                    "2": "Algas",
                                    "3": "Coruña",
                                    "4": "1",
                                    "5": "42.8000000000",
                                    "6": "26707.0000000000"
                                },
                                {
                                    "0": "P-0448",
                                    "1": "2019",
                                    "2": "Algas",
                                    "3": "Coruña",
                                    "4": "12",
                                    "5": "45.2000000000",
                                    "6": "27662.0000000000"
                                },
                                {
                                    "0": "P-0452",
                                    "1": "2019",
                                    "2": "Algas",
                                    "3": "Pontevedra",
                                    "4": "26",
                                    "5": "38.5000000000",
                                    "6": "23550.0000000000"
                                },
                                {
                                    "0": "P-0453",
                                    "1": "2019",
                                    "2": "Algas",
                                    "3": "Pontevedra",
                                    "4": "27",
                                    "5": "46.6000000000",
                                    "6": "28252.0000000000"
                                },
                                {
                                    "0": "P-0456",
                                    "1": "2019",
                                    "2": "Algas",
                                    "3": "Pontevedra",
                                    "4": "27",
                                    "5": "37.7000000000",
                                    "6": "22870.0000000000"
                                },
                                {
                                    "0": "P-0457",
                                    "1": "2019",
                                    "2": "Algas",
                                    "3": "Coruña",
                                    "4": "17",
                                    "5": "45.2000000000",
                                    "6": "28476.0000000000"
                                },
                                {
                                    "0": "P-0466",
                                    "1": "2019",
                                    "2": "Algas",
                                    "3": "Coruña",
                                    "4": "17",
                                    "5": "43.2000000000",
                                    "6": "26698.0000000000"
                                },
                                {
                                    "0": "P-0474",
                                    "1": "2019",
                                    "2": "Algas",
                                    "3": "Coruña",
                                    "4": "11",
                                    "5": "44.8000000000",
                                    "6": "27418.0000000000"
                                },
                                {
                                    "0": "P-0475",
                                    "1": "2019",
                                    "2": "Algas",
                                    "3": "Pontevedra",
                                    "4": "27",
                                    "5": "36.6000000000",
                                    "6": "22198.0000000000"
                                },
                                {
                                    "0": "P-0476",
                                    "1": "2019",
                                    "2": "Algas",
                                    "3": "Coruña",
                                    "4": "7",
                                    "5": "43.6000000000",
                                    "6": "26683.0000000000"
                                },
                                {
                                    "0": "P-0478",
                                    "1": "2019",
                                    "2": "Algas",
                                    "3": "Ourense",
                                    "4": "23",
                                    "5": "40.3000000000",
                                    "6": "24198.0000000000"
                                },
                                {
                                    "0": "P-0479",
                                    "1": "2019",
                                    "2": "Algas",
                                    "3": "Coruña",
                                    "4": "19",
                                    "5": "45.6000000000",
                                    "6": "27907.0000000000"
                                },
                                {
                                    "0": "P-0481",
                                    "1": "2019",
                                    "2": "Algas",
                                    "3": "Coruña",
                                    "4": "7",
                                    "5": "44.8000000000",
                                    "6": "27418.0000000000"
                                },
                                {
                                    "0": "P-0482",
                                    "1": "2019",
                                    "2": "Algas",
                                    "3": "Pontevedra",
                                    "4": "28",
                                    "5": "35.9000000000",
                                    "6": "21749.0000000000"
                                },
                                {
                                    "0": "P-0483",
                                    "1": "2019",
                                    "2": "Algas",
                                    "3": "Coruña",
                                    "4": "12",
                                    "5": "44.8000000000",
                                    "6": "27955.0000000000"
                                },
                                {
                                    "0": "P-0485",
                                    "1": "2019",
                                    "2": "Algas",
                                    "3": "Lugo",
                                    "4": "13",
                                    "5": "42.4000000000",
                                    "6": "26458.0000000000"
                                },
                                {
                                    "0": "P-0486",
                                    "1": "2019",
                                    "2": "Algas",
                                    "3": "Coruña",
                                    "4": "17",
                                    "5": "44.8000000000",
                                    "6": "27955.0000000000"
                                },
                                {
                                    "0": "P-0492",
                                    "1": "2019",
                                    "2": "Algas",
                                    "3": "Lugo",
                                    "4": "13",
                                    "5": "45.2000000000",
                                    "6": "28205.0000000000"
                                },
                                {
                                    "0": "P-0495",
                                    "1": "2019",
                                    "2": "Algas",
                                    "3": "Coruña",
                                    "4": "8",
                                    "5": "43.2000000000",
                                    "6": "26957.0000000000"
                                },
                                {
                                    "0": "P-0497",
                                    "1": "2019",
                                    "2": "Algas",
                                    "3": "Lugo",
                                    "4": "17",
                                    "5": "43.6000000000",
                                    "6": "26945.0000000000"
                                }
                            ]
                        },
                        "text/html": [
                            "<table>",
                            "<tr><th>PEDIDO_ID</th><th>FY_ID</th><th>PRODUCTO_ID</th><th>ZONA_ID</th><th>CLIENTE_ID</th><th>TONELADAS</th><th>INGRESOS_EUR</th></tr>",
                            "<tr><td>P-0012</td><td>2016</td><td>Algas</td><td>Ourense</td><td>27</td><td>29.7000000000</td><td>17998.0000000000</td></tr>",
                            "<tr><td>P-0014</td><td>2016</td><td>Algas</td><td>Lugo</td><td>16</td><td>32.7000000000</td><td>19816.0000000000</td></tr>",
                            "<tr><td>P-0018</td><td>2016</td><td>Algas</td><td>Coruña</td><td>18</td><td>31.8000000000</td><td>19271.0000000000</td></tr>",
                            "<tr><td>P-0019</td><td>2016</td><td>Algas</td><td>Ourense</td><td>27</td><td>37.5000000000</td><td>21375.0000000000</td></tr>",
                            "<tr><td>P-0020</td><td>2016</td><td>Algas</td><td>Coruña</td><td>7</td><td>33.3000000000</td><td>19780.0000000000</td></tr>",
                            "<tr><td>P-0022</td><td>2016</td><td>Algas</td><td>Pontevedra</td><td>25</td><td>30.9000000000</td><td>17613.0000000000</td></tr>",
                            "<tr><td>P-0023</td><td>2016</td><td>Algas</td><td>Lugo</td><td>6</td><td>31.8000000000</td><td>19080.0000000000</td></tr>",
                            "<tr><td>P-0029</td><td>2016</td><td>Algas</td><td>Coruña</td><td>6</td><td>33.3000000000</td><td>19181.0000000000</td></tr>",
                            "<tr><td>P-0030</td><td>2016</td><td>Algas</td><td>Coruña</td><td>15</td><td>32.4000000000</td><td>19246.0000000000</td></tr>",
                            "<tr><td>P-0033</td><td>2016</td><td>Algas</td><td>Coruña</td><td>2</td><td>32.1000000000</td><td>19067.0000000000</td></tr>",
                            "<tr><td>P-0037</td><td>2016</td><td>Algas</td><td>Pontevedra</td><td>25</td><td>34.2000000000</td><td>20520.0000000000</td></tr>",
                            "<tr><td>P-0041</td><td>2016</td><td>Algas</td><td>Pontevedra</td><td>24</td><td>28.8000000000</td><td>16762.0000000000</td></tr>",
                            "<tr><td>P-0042</td><td>2016</td><td>Algas</td><td>Coruña</td><td>1</td><td>32.4000000000</td><td>18468.0000000000</td></tr>",
                            "<tr><td>P-0046</td><td>2016</td><td>Algas</td><td>Pontevedra</td><td>28</td><td>27.0000000000</td><td>16362.0000000000</td></tr>",
                            "<tr><td>P-0049</td><td>2016</td><td>Algas</td><td>Pontevedra</td><td>23</td><td>34.2000000000</td><td>19699.0000000000</td></tr>",
                            "<tr><td>P-0050</td><td>2016</td><td>Algas</td><td>Pontevedra</td><td>23</td><td>31.8000000000</td><td>19271.0000000000</td></tr>",
                            "<tr><td>P-0051</td><td>2017</td><td>Algas</td><td>Ourense</td><td>27</td><td>43.8000000000</td><td>25988.0000000000</td></tr>",
                            "<tr><td>P-0057</td><td>2017</td><td>Algas</td><td>Pontevedra</td><td>27</td><td>36.1000000000</td><td>21197.0000000000</td></tr>",
                            "<tr><td>P-0059</td><td>2017</td><td>Algas</td><td>Pontevedra</td><td>26</td><td>44.1000000000</td><td>26195.0000000000</td></tr>",
                            "<tr><td>P-0060</td><td>2017</td><td>Algas</td><td>Pontevedra</td><td>24</td><td>40.3000000000</td><td>23667.0000000000</td></tr>",
                            "<tr><td>P-0063</td><td>2017</td><td>Algas</td><td>Ourense</td><td>27</td><td>39.2000000000</td><td>23755.0000000000</td></tr>",
                            "<tr><td>P-0067</td><td>2017</td><td>Algas</td><td>Pontevedra</td><td>28</td><td>39.2000000000</td><td>23285.0000000000</td></tr>",
                            "<tr><td>P-0069</td><td>2017</td><td>Algas</td><td>Ourense</td><td>23</td><td>44.1000000000</td><td>26725.0000000000</td></tr>",
                            "<tr><td>P-0074</td><td>2017</td><td>Algas</td><td>Pontevedra</td><td>25</td><td>34.7000000000</td><td>20998.0000000000</td></tr>",
                            "<tr><td>P-0075</td><td>2017</td><td>Algas</td><td>Pontevedra</td><td>22</td><td>44.8000000000</td><td>26611.0000000000</td></tr>",
                            "<tr><td>P-0077</td><td>2017</td><td>Algas</td><td>Coruña</td><td>15</td><td>38.9000000000</td><td>24242.0000000000</td></tr>",
                            "<tr><td>P-0078</td><td>2017</td><td>Algas</td><td>Lugo</td><td>8</td><td>38.9000000000</td><td>23776.0000000000</td></tr>",
                            "<tr><td>P-0080</td><td>2017</td><td>Algas</td><td>Coruña</td><td>17</td><td>39.6000000000</td><td>24679.0000000000</td></tr>",
                            "<tr><td>P-0081</td><td>2017</td><td>Algas</td><td>Coruña</td><td>7</td><td>36.8000000000</td><td>22932.0000000000</td></tr>",
                            "<tr><td>P-0082</td><td>2017</td><td>Algas</td><td>Coruña</td><td>4</td><td>38.9000000000</td><td>24242.0000000000</td></tr>",
                            "<tr><td>P-0083</td><td>2017</td><td>Algas</td><td>Lugo</td><td>11</td><td>39.9000000000</td><td>25137.0000000000</td></tr>",
                            "<tr><td>P-0085</td><td>2017</td><td>Algas</td><td>Coruña</td><td>10</td><td>37.1000000000</td><td>22705.0000000000</td></tr>",
                            "<tr><td>P-0086</td><td>2017</td><td>Algas</td><td>Lugo</td><td>7</td><td>38.5000000000</td><td>24024.0000000000</td></tr>",
                            "<tr><td>P-0089</td><td>2017</td><td>Algas</td><td>Ourense</td><td>27</td><td>41.0000000000</td><td>24816.0000000000</td></tr>",
                            "<tr><td>P-0092</td><td>2017</td><td>Algas</td><td>Coruña</td><td>19</td><td>39.6000000000</td><td>24205.0000000000</td></tr>",
                            "<tr><td>P-0094</td><td>2017</td><td>Algas</td><td>Coruña</td><td>19</td><td>39.2000000000</td><td>23990.0000000000</td></tr>",
                            "<tr><td>P-0095</td><td>2017</td><td>Algas</td><td>Lugo</td><td>4</td><td>37.1000000000</td><td>23150.0000000000</td></tr>",
                            "<tr><td>P-0099</td><td>2017</td><td>Algas</td><td>Lugo</td><td>10</td><td>38.9000000000</td><td>24476.0000000000</td></tr>",
                            "<tr><td>P-0102</td><td>2017</td><td>Algas</td><td>Coruña</td><td>4</td><td>36.8000000000</td><td>22712.0000000000</td></tr>",
                            "<tr><td>P-0105</td><td>2017</td><td>Algas</td><td>Coruña</td><td>4</td><td>38.9000000000</td><td>24476.0000000000</td></tr>",
                            "<tr><td>P-0109</td><td>2017</td><td>Algas</td><td>Lugo</td><td>8</td><td>39.6000000000</td><td>24205.0000000000</td></tr>",
                            "<tr><td>P-0111</td><td>2017</td><td>Algas</td><td>Coruña</td><td>18</td><td>38.2000000000</td><td>23348.0000000000</td></tr>",
                            "<tr><td>P-0112</td><td>2017</td><td>Algas</td><td>Coruña</td><td>5</td><td>39.2000000000</td><td>24226.0000000000</td></tr>",
                            "<tr><td>P-0119</td><td>2017</td><td>Algas</td><td>Coruña</td><td>7</td><td>40.3000000000</td><td>25116.0000000000</td></tr>",
                            "<tr><td>P-0122</td><td>2017</td><td>Algas</td><td>Coruña</td><td>15</td><td>39.9000000000</td><td>24658.0000000000</td></tr>",
                            "<tr><td>P-0123</td><td>2017</td><td>Algas</td><td>Coruña</td><td>17</td><td>37.1000000000</td><td>23373.0000000000</td></tr>",
                            "<tr><td>P-0124</td><td>2017</td><td>Algas</td><td>Lugo</td><td>17</td><td>39.9000000000</td><td>25137.0000000000</td></tr>",
                            "<tr><td>P-0127</td><td>2017</td><td>Algas</td><td>Coruña</td><td>1</td><td>39.6000000000</td><td>24679.0000000000</td></tr>",
                            "<tr><td>P-0128</td><td>2017</td><td>Algas</td><td>Coruña</td><td>9</td><td>40.3000000000</td><td>24633.0000000000</td></tr>",
                            "<tr><td>P-0130</td><td>2017</td><td>Algas</td><td>Coruña</td><td>18</td><td>39.2000000000</td><td>24696.0000000000</td></tr>",
                            "<tr><td>P-0132</td><td>2017</td><td>Algas</td><td>Pontevedra</td><td>25</td><td>39.2000000000</td><td>23755.0000000000</td></tr>",
                            "<tr><td>P-0134</td><td>2017</td><td>Algas</td><td>Coruña</td><td>19</td><td>40.3000000000</td><td>25358.0000000000</td></tr>",
                            "<tr><td>P-0137</td><td>2017</td><td>Algas</td><td>Pontevedra</td><td>28</td><td>39.9000000000</td><td>24419.0000000000</td></tr>",
                            "<tr><td>P-0141</td><td>2017</td><td>Algas</td><td>Pontevedra</td><td>24</td><td>43.1000000000</td><td>26347.0000000000</td></tr>",
                            "<tr><td>P-0145</td><td>2017</td><td>Algas</td><td>Pontevedra</td><td>26</td><td>34.7000000000</td><td>20790.0000000000</td></tr>",
                            "<tr><td>P-0148</td><td>2017</td><td>Algas</td><td>Coruña</td><td>6</td><td>37.1000000000</td><td>22928.0000000000</td></tr>",
                            "<tr><td>P-0149</td><td>2017</td><td>Algas</td><td>Lugo</td><td>2</td><td>39.6000000000</td><td>24205.0000000000</td></tr>",
                            "<tr><td>P-0161</td><td>2018</td><td>Algas</td><td>Coruña</td><td>6</td><td>42.6000000000</td><td>26813.0000000000</td></tr>",
                            "<tr><td>P-0163</td><td>2018</td><td>Algas</td><td>Coruña</td><td>7</td><td>40.7000000000</td><td>25616.0000000000</td></tr>",
                            "<tr><td>P-0166</td><td>2018</td><td>Algas</td><td>Coruña</td><td>14</td><td>42.6000000000</td><td>26302.0000000000</td></tr>",
                            "<tr><td>P-0167</td><td>2018</td><td>Algas</td><td>Ourense</td><td>26</td><td>38.9000000000</td><td>23795.0000000000</td></tr>",
                            "<tr><td>P-0171</td><td>2018</td><td>Algas</td><td>Lugo</td><td>20</td><td>41.8000000000</td><td>25582.0000000000</td></tr>",
                            "<tr><td>P-0172</td><td>2018</td><td>Algas</td><td>Lugo</td><td>17</td><td>40.7000000000</td><td>25128.0000000000</td></tr>",
                            "<tr><td>P-0174</td><td>2018</td><td>Algas</td><td>Coruña</td><td>20</td><td>43.7000000000</td><td>27007.0000000000</td></tr>",
                            "<tr><td>P-0178</td><td>2018</td><td>Algas</td><td>Pontevedra</td><td>22</td><td>45.0000000000</td><td>27540.0000000000</td></tr>",
                            "<tr><td>P-0182</td><td>2018</td><td>Algas</td><td>Pontevedra</td><td>28</td><td>42.1000000000</td><td>25019.0000000000</td></tr>",
                            "<tr><td>P-0184</td><td>2018</td><td>Algas</td><td>Pontevedra</td><td>26</td><td>36.7000000000</td><td>21591.0000000000</td></tr>",
                            "<tr><td>P-0186</td><td>2018</td><td>Algas</td><td>Ourense</td><td>21</td><td>36.4000000000</td><td>21816.0000000000</td></tr>",
                            "<tr><td>P-0187</td><td>2018</td><td>Algas</td><td>Pontevedra</td><td>23</td><td>36.7000000000</td><td>22032.0000000000</td></tr>",
                            "<tr><td>P-0192</td><td>2018</td><td>Algas</td><td>Pontevedra</td><td>25</td><td>36.7000000000</td><td>21591.0000000000</td></tr>",
                            "<tr><td>P-0196</td><td>2018</td><td>Algas</td><td>Pontevedra</td><td>26</td><td>42.8000000000</td><td>26218.0000000000</td></tr>",
                            "<tr><td>P-0197</td><td>2018</td><td>Algas</td><td>Coruña</td><td>14</td><td>42.2000000000</td><td>26573.0000000000</td></tr>",
                            "<tr><td>P-0202</td><td>2018</td><td>Algas</td><td>Coruña</td><td>7</td><td>42.9000000000</td><td>26795.0000000000</td></tr>",
                            "<tr><td>P-0205</td><td>2018</td><td>Algas</td><td>Coruña</td><td>1</td><td>42.2000000000</td><td>26067.0000000000</td></tr>",
                            "<tr><td>P-0208</td><td>2018</td><td>Algas</td><td>Lugo</td><td>9</td><td>39.9000000000</td><td>24898.0000000000</td></tr>",
                            "<tr><td>P-0209</td><td>2018</td><td>Algas</td><td>Coruña</td><td>4</td><td>42.2000000000</td><td>26320.0000000000</td></tr>",
                            "<tr><td>P-0211</td><td>2018</td><td>Algas</td><td>Coruña</td><td>12</td><td>42.2000000000</td><td>26573.0000000000</td></tr>",
                            "<tr><td>P-0214</td><td>2018</td><td>Algas</td><td>Pontevedra</td><td>27</td><td>33.1000000000</td><td>20071.0000000000</td></tr>",
                            "<tr><td>P-0218</td><td>2018</td><td>Algas</td><td>Coruña</td><td>4</td><td>39.9000000000</td><td>24658.0000000000</td></tr>",
                            "<tr><td>P-0223</td><td>2018</td><td>Algas</td><td>Coruña</td><td>13</td><td>41.4000000000</td><td>25598.0000000000</td></tr>",
                            "<tr><td>P-0228</td><td>2018</td><td>Algas</td><td>Coruña</td><td>20</td><td>41.0000000000</td><td>25855.0000000000</td></tr>",
                            "<tr><td>P-0231</td><td>2018</td><td>Algas</td><td>Coruña</td><td>1</td><td>42.2000000000</td><td>26573.0000000000</td></tr>",
                            "<tr><td>P-0233</td><td>2018</td><td>Algas</td><td>Pontevedra</td><td>21</td><td>36.0000000000</td><td>21168.0000000000</td></tr>",
                            "<tr><td>P-0236</td><td>2018</td><td>Algas</td><td>Coruña</td><td>16</td><td>39.9000000000</td><td>24419.0000000000</td></tr>",
                            "<tr><td>P-0237</td><td>2018</td><td>Algas</td><td>Coruña</td><td>14</td><td>41.4000000000</td><td>25349.0000000000</td></tr>",
                            "<tr><td>P-0240</td><td>2018</td><td>Algas</td><td>Lugo</td><td>3</td><td>41.0000000000</td><td>25363.0000000000</td></tr>",
                            "<tr><td>P-0241</td><td>2018</td><td>Algas</td><td>Pontevedra</td><td>21</td><td>37.8000000000</td><td>22226.0000000000</td></tr>",
                            "<tr><td>P-0242</td><td>2018</td><td>Algas</td><td>Pontevedra</td><td>23</td><td>43.6000000000</td><td>26659.0000000000</td></tr>",
                            "<tr><td>P-0246</td><td>2018</td><td>Algas</td><td>Pontevedra</td><td>23</td><td>46.8000000000</td><td>27799.0000000000</td></tr>",
                            "<tr><td>P-0248</td><td>2018</td><td>Algas</td><td>Coruña</td><td>13</td><td>41.8000000000</td><td>26334.0000000000</td></tr>",
                            "<tr><td>P-0251</td><td>2018</td><td>Algas</td><td>Lugo</td><td>14</td><td>41.8000000000</td><td>25582.0000000000</td></tr>",
                            "<tr><td>P-0254</td><td>2018</td><td>Algas</td><td>Coruña</td><td>2</td><td>41.4000000000</td><td>25846.0000000000</td></tr>",
                            "<tr><td>P-0262</td><td>2018</td><td>Algas</td><td>Pontevedra</td><td>23</td><td>44.6000000000</td><td>26784.0000000000</td></tr>",
                            "<tr><td>P-0263</td><td>2018</td><td>Algas</td><td>Coruña</td><td>6</td><td>41.8000000000</td><td>25582.0000000000</td></tr>",
                            "<tr><td>P-0265</td><td>2018</td><td>Algas</td><td>Pontevedra</td><td>26</td><td>40.0000000000</td><td>23736.0000000000</td></tr>",
                            "<tr><td>P-0266</td><td>2018</td><td>Algas</td><td>Coruña</td><td>2</td><td>40.3000000000</td><td>25376.0000000000</td></tr>",
                            "<tr><td>P-0270</td><td>2018</td><td>Algas</td><td>Coruña</td><td>2</td><td>41.4000000000</td><td>25846.0000000000</td></tr>",
                            "<tr><td>P-0272</td><td>2018</td><td>Algas</td><td>Coruña</td><td>2</td><td>42.2000000000</td><td>26320.0000000000</td></tr>",
                            "<tr><td>P-0273</td><td>2018</td><td>Algas</td><td>Ourense</td><td>24</td><td>42.5000000000</td><td>25233.0000000000</td></tr>",
                            "<tr><td>P-0275</td><td>2018</td><td>Algas</td><td>Pontevedra</td><td>22</td><td>43.6000000000</td><td>26397.0000000000</td></tr>",
                            "<tr><td>P-0277</td><td>2018</td><td>Algas</td><td>Pontevedra</td><td>24</td><td>41.8000000000</td><td>24555.0000000000</td></tr>",
                            "<tr><td>P-0282</td><td>2018</td><td>Algas</td><td>Pontevedra</td><td>23</td><td>45.4000000000</td><td>26672.0000000000</td></tr>",
                            "<tr><td>P-0288</td><td>2018</td><td>Algas</td><td>Pontevedra</td><td>22</td><td>46.1000000000</td><td>27372.0000000000</td></tr>",
                            "<tr><td>P-0289</td><td>2018</td><td>Algas</td><td>Coruña</td><td>17</td><td>42.6000000000</td><td>26813.0000000000</td></tr>",
                            "<tr><td>P-0290</td><td>2018</td><td>Algas</td><td>Coruña</td><td>13</td><td>43.7000000000</td><td>27269.0000000000</td></tr>",
                            "<tr><td>P-0291</td><td>2018</td><td>Algas</td><td>Coruña</td><td>11</td><td>43.7000000000</td><td>27007.0000000000</td></tr>",
                            "<tr><td>P-0295</td><td>2018</td><td>Algas</td><td>Coruña</td><td>8</td><td>42.2000000000</td><td>26320.0000000000</td></tr>",
                            "<tr><td>P-0296</td><td>2018</td><td>Algas</td><td>Coruña</td><td>13</td><td>40.7000000000</td><td>25372.0000000000</td></tr>",
                            "<tr><td>P-0297</td><td>2018</td><td>Algas</td><td>Lugo</td><td>15</td><td>42.9000000000</td><td>26537.0000000000</td></tr>",
                            "<tr><td>P-0298</td><td>2018</td><td>Algas</td><td>Lugo</td><td>18</td><td>42.2000000000</td><td>26320.0000000000</td></tr>",
                            "<tr><td>P-0299</td><td>2018</td><td>Algas</td><td>Coruña</td><td>11</td><td>41.0000000000</td><td>25116.0000000000</td></tr>",
                            "<tr><td>P-0300</td><td>2018</td><td>Algas</td><td>Coruña</td><td>11</td><td>42.2000000000</td><td>26573.0000000000</td></tr>",
                            "<tr><td>P-0305</td><td>2019</td><td>Algas</td><td>Coruña</td><td>18</td><td>42.4000000000</td><td>25949.0000000000</td></tr>",
                            "<tr><td>P-0307</td><td>2019</td><td>Algas</td><td>Coruña</td><td>14</td><td>42.8000000000</td><td>26450.0000000000</td></tr>",
                            "<tr><td>P-0308</td><td>2019</td><td>Algas</td><td>Lugo</td><td>4</td><td>45.6000000000</td><td>28181.0000000000</td></tr>",
                            "<tr><td>P-0309</td><td>2019</td><td>Algas</td><td>Coruña</td><td>18</td><td>42.0000000000</td><td>25956.0000000000</td></tr>",
                            "<tr><td>P-0310</td><td>2019</td><td>Algas</td><td>Coruña</td><td>5</td><td>43.2000000000</td><td>27216.0000000000</td></tr>",
                            "<tr><td>P-0311</td><td>2019</td><td>Algas</td><td>Pontevedra</td><td>25</td><td>47.4000000000</td><td>28416.0000000000</td></tr>",
                            "<tr><td>P-0312</td><td>2019</td><td>Algas</td><td>Coruña</td><td>6</td><td>44.4000000000</td><td>27972.0000000000</td></tr>",
                            "<tr><td>P-0318</td><td>2019</td><td>Algas</td><td>Ourense</td><td>25</td><td>259.0000000000</td><td>158508.0000000000</td></tr>",
                            "<tr><td>P-0319</td><td>2019</td><td>Algas</td><td>Coruña</td><td>19</td><td>42.4000000000</td><td>26203.0000000000</td></tr>",
                            "<tr><td>P-0322</td><td>2019</td><td>Algas</td><td>Coruña</td><td>16</td><td>45.2000000000</td><td>27934.0000000000</td></tr>",
                            "<tr><td>P-0324</td><td>2019</td><td>Algas</td><td>Lugo</td><td>4</td><td>42.8000000000</td><td>26964.0000000000</td></tr>",
                            "<tr><td>P-0327</td><td>2019</td><td>Algas</td><td>Coruña</td><td>5</td><td>44.0000000000</td><td>27192.0000000000</td></tr>",
                            "<tr><td>P-0333</td><td>2019</td><td>Algas</td><td>Coruña</td><td>7</td><td>44.4000000000</td><td>27972.0000000000</td></tr>",
                            "<tr><td>P-0334</td><td>2019</td><td>Algas</td><td>Pontevedra</td><td>26</td><td>34.8000000000</td><td>20868.0000000000</td></tr>",
                            "<tr><td>P-0335</td><td>2019</td><td>Algas</td><td>Coruña</td><td>17</td><td>42.8000000000</td><td>26194.0000000000</td></tr>",
                            "<tr><td>P-0338</td><td>2019</td><td>Algas</td><td>Ourense</td><td>22</td><td>41.1000000000</td><td>24888.0000000000</td></tr>",
                            "<tr><td>P-0339</td><td>2019</td><td>Algas</td><td>Coruña</td><td>5</td><td>42.8000000000</td><td>26450.0000000000</td></tr>",
                            "<tr><td>P-0340</td><td>2019</td><td>Algas</td><td>Coruña</td><td>14</td><td>44.4000000000</td><td>27706.0000000000</td></tr>",
                            "<tr><td>P-0341</td><td>2019</td><td>Algas</td><td>Lugo</td><td>15</td><td>45.2000000000</td><td>28205.0000000000</td></tr>",
                            "<tr><td>P-0344</td><td>2019</td><td>Algas</td><td>Coruña</td><td>4</td><td>44.0000000000</td><td>27456.0000000000</td></tr>",
                            "<tr><td>P-0347</td><td>2019</td><td>Algas</td><td>Coruña</td><td>18</td><td>43.6000000000</td><td>27206.0000000000</td></tr>",
                            "<tr><td>P-0348</td><td>2019</td><td>Algas</td><td>Coruña</td><td>19</td><td>44.0000000000</td><td>27456.0000000000</td></tr>",
                            "<tr><td>P-0351</td><td>2019</td><td>Algas</td><td>Coruña</td><td>9</td><td>42.0000000000</td><td>26208.0000000000</td></tr>",
                            "<tr><td>P-0356</td><td>2019</td><td>Algas</td><td>Pontevedra</td><td>22</td><td>222.0000000000</td><td>133200.0000000000</td></tr>",
                            "<tr><td>P-0358</td><td>2019</td><td>Algas</td><td>Coruña</td><td>11</td><td>44.8000000000</td><td>27686.0000000000</td></tr>",
                            "<tr><td>P-0362</td><td>2019</td><td>Algas</td><td>Pontevedra</td><td>27</td><td>45.5000000000</td><td>27306.0000000000</td></tr>",
                            "<tr><td>P-0366</td><td>2019</td><td>Algas</td><td>Coruña</td><td>18</td><td>44.4000000000</td><td>27972.0000000000</td></tr>",
                            "<tr><td>P-0369</td><td>2019</td><td>Algas</td><td>Coruña</td><td>9</td><td>42.8000000000</td><td>26964.0000000000</td></tr>",
                            "<tr><td>P-0370</td><td>2019</td><td>Algas</td><td>Pontevedra</td><td>23</td><td>45.9000000000</td><td>26977.0000000000</td></tr>",
                            "<tr><td>P-0372</td><td>2019</td><td>Algas</td><td>Coruña</td><td>13</td><td>44.8000000000</td><td>27686.0000000000</td></tr>",
                            "<tr><td>P-0373</td><td>2019</td><td>Algas</td><td>Pontevedra</td><td>26</td><td>45.5000000000</td><td>26760.0000000000</td></tr>",
                            "<tr><td>P-0378</td><td>2019</td><td>Algas</td><td>Coruña</td><td>5</td><td>46.0000000000</td><td>28152.0000000000</td></tr>",
                            "<tr><td>P-0381</td><td>2019</td><td>Algas</td><td>Lugo</td><td>3</td><td>42.0000000000</td><td>26460.0000000000</td></tr>",
                            "<tr><td>P-0382</td><td>2019</td><td>Algas</td><td>Ourense</td><td>22</td><td>33.7000000000</td><td>20606.0000000000</td></tr>",
                            "<tr><td>P-0383</td><td>2019</td><td>Algas</td><td>Lugo</td><td>1</td><td>44.4000000000</td><td>27706.0000000000</td></tr>",
                            "<tr><td>P-0384</td><td>2019</td><td>Algas</td><td>Pontevedra</td><td>22</td><td>39.2000000000</td><td>23061.0000000000</td></tr>",
                            "<tr><td>P-0385</td><td>2019</td><td>Algas</td><td>Ourense</td><td>23</td><td>34.8000000000</td><td>20659.0000000000</td></tr>",
                            "<tr><td>P-0386</td><td>2019</td><td>Algas</td><td>Coruña</td><td>13</td><td>43.6000000000</td><td>27206.0000000000</td></tr>",
                            "<tr><td>P-0388</td><td>2019</td><td>Algas</td><td>Coruña</td><td>11</td><td>45.2000000000</td><td>27934.0000000000</td></tr>",
                            "<tr><td>P-0391</td><td>2019</td><td>Algas</td><td>Pontevedra</td><td>27</td><td>40.3000000000</td><td>24682.0000000000</td></tr>",
                            "<tr><td>P-0392</td><td>2019</td><td>Algas</td><td>Lugo</td><td>19</td><td>43.6000000000</td><td>26945.0000000000</td></tr>",
                            "<tr><td>P-0397</td><td>2019</td><td>Algas</td><td>Pontevedra</td><td>27</td><td>48.1000000000</td><td>28283.0000000000</td></tr>",
                            "<tr><td>P-0398</td><td>2019</td><td>Algas</td><td>Lugo</td><td>18</td><td>45.2000000000</td><td>28476.0000000000</td></tr>",
                            "<tr><td>P-0401</td><td>2019</td><td>Algas</td><td>Coruña</td><td>15</td><td>43.6000000000</td><td>26945.0000000000</td></tr>",
                            "<tr><td>P-0402</td><td>2019</td><td>Algas</td><td>Pontevedra</td><td>23</td><td>41.8000000000</td><td>24584.0000000000</td></tr>",
                            "<tr><td>P-0403</td><td>2019</td><td>Algas</td><td>Coruña</td><td>9</td><td>45.6000000000</td><td>28181.0000000000</td></tr>",
                            "<tr><td>P-0404</td><td>2019</td><td>Algas</td><td>Coruña</td><td>4</td><td>42.8000000000</td><td>26194.0000000000</td></tr>",
                            "<tr><td>P-0406</td><td>2019</td><td>Algas</td><td>Coruña</td><td>5</td><td>43.6000000000</td><td>26683.0000000000</td></tr>",
                            "<tr><td>P-0420</td><td>2019</td><td>Algas</td><td>Lugo</td><td>7</td><td>44.0000000000</td><td>27192.0000000000</td></tr>",
                            "<tr><td>P-0421</td><td>2019</td><td>Algas</td><td>Lugo</td><td>9</td><td>44.0000000000</td><td>27456.0000000000</td></tr>",
                            "<tr><td>P-0424</td><td>2019</td><td>Algas</td><td>Coruña</td><td>17</td><td>45.6000000000</td><td>28454.0000000000</td></tr>",
                            "<tr><td>P-0427</td><td>2019</td><td>Algas</td><td>Coruña</td><td>5</td><td>42.0000000000</td><td>26208.0000000000</td></tr>",
                            "<tr><td>P-0435</td><td>2019</td><td>Algas</td><td>Lugo</td><td>4</td><td>42.4000000000</td><td>26203.0000000000</td></tr>",
                            "<tr><td>P-0437</td><td>2019</td><td>Algas</td><td>Coruña</td><td>4</td><td>45.2000000000</td><td>27934.0000000000</td></tr>",
                            "<tr><td>P-0438</td><td>2019</td><td>Algas</td><td>Coruña</td><td>7</td><td>42.4000000000</td><td>26203.0000000000</td></tr>",
                            "<tr><td>P-0439</td><td>2019</td><td>Algas</td><td>Lugo</td><td>3</td><td>46.0000000000</td><td>28428.0000000000</td></tr>",
                            "<tr><td>P-0447</td><td>2019</td><td>Algas</td><td>Coruña</td><td>1</td><td>42.8000000000</td><td>26707.0000000000</td></tr>",
                            "<tr><td>P-0448</td><td>2019</td><td>Algas</td><td>Coruña</td><td>12</td><td>45.2000000000</td><td>27662.0000000000</td></tr>",
                            "<tr><td>P-0452</td><td>2019</td><td>Algas</td><td>Pontevedra</td><td>26</td><td>38.5000000000</td><td>23550.0000000000</td></tr>",
                            "<tr><td>P-0453</td><td>2019</td><td>Algas</td><td>Pontevedra</td><td>27</td><td>46.6000000000</td><td>28252.0000000000</td></tr>",
                            "<tr><td>P-0456</td><td>2019</td><td>Algas</td><td>Pontevedra</td><td>27</td><td>37.7000000000</td><td>22870.0000000000</td></tr>",
                            "<tr><td>P-0457</td><td>2019</td><td>Algas</td><td>Coruña</td><td>17</td><td>45.2000000000</td><td>28476.0000000000</td></tr>",
                            "<tr><td>P-0466</td><td>2019</td><td>Algas</td><td>Coruña</td><td>17</td><td>43.2000000000</td><td>26698.0000000000</td></tr>",
                            "<tr><td>P-0474</td><td>2019</td><td>Algas</td><td>Coruña</td><td>11</td><td>44.8000000000</td><td>27418.0000000000</td></tr>",
                            "<tr><td>P-0475</td><td>2019</td><td>Algas</td><td>Pontevedra</td><td>27</td><td>36.6000000000</td><td>22198.0000000000</td></tr>",
                            "<tr><td>P-0476</td><td>2019</td><td>Algas</td><td>Coruña</td><td>7</td><td>43.6000000000</td><td>26683.0000000000</td></tr>",
                            "<tr><td>P-0478</td><td>2019</td><td>Algas</td><td>Ourense</td><td>23</td><td>40.3000000000</td><td>24198.0000000000</td></tr>",
                            "<tr><td>P-0479</td><td>2019</td><td>Algas</td><td>Coruña</td><td>19</td><td>45.6000000000</td><td>27907.0000000000</td></tr>",
                            "<tr><td>P-0481</td><td>2019</td><td>Algas</td><td>Coruña</td><td>7</td><td>44.8000000000</td><td>27418.0000000000</td></tr>",
                            "<tr><td>P-0482</td><td>2019</td><td>Algas</td><td>Pontevedra</td><td>28</td><td>35.9000000000</td><td>21749.0000000000</td></tr>",
                            "<tr><td>P-0483</td><td>2019</td><td>Algas</td><td>Coruña</td><td>12</td><td>44.8000000000</td><td>27955.0000000000</td></tr>",
                            "<tr><td>P-0485</td><td>2019</td><td>Algas</td><td>Lugo</td><td>13</td><td>42.4000000000</td><td>26458.0000000000</td></tr>",
                            "<tr><td>P-0486</td><td>2019</td><td>Algas</td><td>Coruña</td><td>17</td><td>44.8000000000</td><td>27955.0000000000</td></tr>",
                            "<tr><td>P-0492</td><td>2019</td><td>Algas</td><td>Lugo</td><td>13</td><td>45.2000000000</td><td>28205.0000000000</td></tr>",
                            "<tr><td>P-0495</td><td>2019</td><td>Algas</td><td>Coruña</td><td>8</td><td>43.2000000000</td><td>26957.0000000000</td></tr>",
                            "<tr><td>P-0497</td><td>2019</td><td>Algas</td><td>Lugo</td><td>17</td><td>43.6000000000</td><td>26945.0000000000</td></tr>",
                            "</table>"
                        ]
                    }
                }
            ],
            "execution_count": 14
        },
        {
            "cell_type": "code",
            "source": [
                "SELECT * FROM NEMINA.DBO.DATOS_BASE\r\n",
                "WHERE NOT PRODUCTO_ID = 'Algas'"
            ],
            "metadata": {
                "azdata_cell_guid": "5e5307b3-dc86-401a-8a67-26519bcc47f9"
            },
            "outputs": [
                {
                    "output_type": "display_data",
                    "data": {
                        "text/html": "(313 rows affected)"
                    },
                    "metadata": {}
                },
                {
                    "output_type": "display_data",
                    "data": {
                        "text/html": "Total execution time: 00:00:00.100"
                    },
                    "metadata": {}
                },
                {
                    "output_type": "execute_result",
                    "metadata": {},
                    "execution_count": 15,
                    "data": {
                        "application/vnd.dataresource+json": {
                            "schema": {
                                "fields": [
                                    {
                                        "name": "PEDIDO_ID"
                                    },
                                    {
                                        "name": "FY_ID"
                                    },
                                    {
                                        "name": "PRODUCTO_ID"
                                    },
                                    {
                                        "name": "ZONA_ID"
                                    },
                                    {
                                        "name": "CLIENTE_ID"
                                    },
                                    {
                                        "name": "TONELADAS"
                                    },
                                    {
                                        "name": "INGRESOS_EUR"
                                    }
                                ]
                            },
                            "data": [
                                {
                                    "0": "P-0001",
                                    "1": "2016",
                                    "2": "Setas",
                                    "3": "Lugo",
                                    "4": "7",
                                    "5": "31.8000000000",
                                    "6": "24677.0000000000"
                                },
                                {
                                    "0": "P-0002",
                                    "1": "2016",
                                    "2": "Setas",
                                    "3": "Ourense",
                                    "4": "27",
                                    "5": "34.5000000000",
                                    "6": "27048.0000000000"
                                },
                                {
                                    "0": "P-0003",
                                    "1": "2016",
                                    "2": "Setas",
                                    "3": "Ourense",
                                    "4": "21",
                                    "5": "38.1000000000",
                                    "6": "27432.0000000000"
                                },
                                {
                                    "0": "P-0004",
                                    "1": "2016",
                                    "2": "Setas",
                                    "3": "Ourense",
                                    "4": "26",
                                    "5": "35.7000000000",
                                    "6": "25990.0000000000"
                                },
                                {
                                    "0": "P-0005",
                                    "1": "2016",
                                    "2": "Setas",
                                    "3": "Pontevedra",
                                    "4": "25",
                                    "5": "32.7000000000",
                                    "6": "24590.0000000000"
                                },
                                {
                                    "0": "P-0006",
                                    "1": "2016",
                                    "2": "Setas",
                                    "3": "Pontevedra",
                                    "4": "24",
                                    "5": "34.8000000000",
                                    "6": "26170.0000000000"
                                },
                                {
                                    "0": "P-0007",
                                    "1": "2016",
                                    "2": "Setas",
                                    "3": "Coruña",
                                    "4": "2",
                                    "5": "33.0000000000",
                                    "6": "25344.0000000000"
                                },
                                {
                                    "0": "P-0008",
                                    "1": "2016",
                                    "2": "Setas",
                                    "3": "Lugo",
                                    "4": "9",
                                    "5": "32.4000000000",
                                    "6": "24106.0000000000"
                                },
                                {
                                    "0": "P-0009",
                                    "1": "2016",
                                    "2": "Setas",
                                    "3": "Coruña",
                                    "4": "16",
                                    "5": "32.4000000000",
                                    "6": "23846.0000000000"
                                },
                                {
                                    "0": "P-0010",
                                    "1": "2016",
                                    "2": "Setas",
                                    "3": "Ourense",
                                    "4": "21",
                                    "5": "27.9000000000",
                                    "6": "20311.0000000000"
                                },
                                {
                                    "0": "P-0011",
                                    "1": "2016",
                                    "2": "Setas",
                                    "3": "Pontevedra",
                                    "4": "28",
                                    "5": "32.7000000000",
                                    "6": "25898.0000000000"
                                },
                                {
                                    "0": "P-0013",
                                    "1": "2016",
                                    "2": "Setas",
                                    "3": "Ourense",
                                    "4": "26",
                                    "5": "33.9000000000",
                                    "6": "24408.0000000000"
                                },
                                {
                                    "0": "P-0015",
                                    "1": "2016",
                                    "2": "Setas",
                                    "3": "Coruña",
                                    "4": "8",
                                    "5": "32.1000000000",
                                    "6": "23369.0000000000"
                                },
                                {
                                    "0": "P-0016",
                                    "1": "2016",
                                    "2": "Setas",
                                    "3": "Pontevedra",
                                    "4": "25",
                                    "5": "38.1000000000",
                                    "6": "29566.0000000000"
                                },
                                {
                                    "0": "P-0017",
                                    "1": "2016",
                                    "2": "Setas",
                                    "3": "Pontevedra",
                                    "4": "21",
                                    "5": "35.4000000000",
                                    "6": "28037.0000000000"
                                },
                                {
                                    "0": "P-0021",
                                    "1": "2016",
                                    "2": "Setas",
                                    "3": "Pontevedra",
                                    "4": "26",
                                    "5": "28.5000000000",
                                    "6": "21660.0000000000"
                                },
                                {
                                    "0": "P-0024",
                                    "1": "2016",
                                    "2": "Setas",
                                    "3": "Coruña",
                                    "4": "2",
                                    "5": "32.7000000000",
                                    "6": "25637.0000000000"
                                },
                                {
                                    "0": "P-0025",
                                    "1": "2016",
                                    "2": "Setas",
                                    "3": "Coruña",
                                    "4": "1",
                                    "5": "33.6000000000",
                                    "6": "26880.0000000000"
                                },
                                {
                                    "0": "P-0026",
                                    "1": "2016",
                                    "2": "Setas",
                                    "3": "Pontevedra",
                                    "4": "27",
                                    "5": "27.6000000000",
                                    "6": "21197.0000000000"
                                },
                                {
                                    "0": "P-0027",
                                    "1": "2016",
                                    "2": "Setas",
                                    "3": "Ourense",
                                    "4": "24",
                                    "5": "34.2000000000",
                                    "6": "25171.0000000000"
                                },
                                {
                                    "0": "P-0028",
                                    "1": "2016",
                                    "2": "Setas",
                                    "3": "Pontevedra",
                                    "4": "27",
                                    "5": "31.8000000000",
                                    "6": "24677.0000000000"
                                },
                                {
                                    "0": "P-0031",
                                    "1": "2016",
                                    "2": "Setas",
                                    "3": "Coruña",
                                    "4": "8",
                                    "5": "33.9000000000",
                                    "6": "26306.0000000000"
                                },
                                {
                                    "0": "P-0032",
                                    "1": "2016",
                                    "2": "Setas",
                                    "3": "Ourense",
                                    "4": "21",
                                    "5": "35.4000000000",
                                    "6": "25771.0000000000"
                                },
                                {
                                    "0": "P-0034",
                                    "1": "2016",
                                    "2": "Setas",
                                    "3": "Coruña",
                                    "4": "9",
                                    "5": "32.4000000000",
                                    "6": "23587.0000000000"
                                },
                                {
                                    "0": "P-0035",
                                    "1": "2016",
                                    "2": "Setas",
                                    "3": "Coruña",
                                    "4": "14",
                                    "5": "33.3000000000",
                                    "6": "24775.0000000000"
                                },
                                {
                                    "0": "P-0036",
                                    "1": "2016",
                                    "2": "Setas",
                                    "3": "Pontevedra",
                                    "4": "26",
                                    "5": "30.6000000000",
                                    "6": "22277.0000000000"
                                },
                                {
                                    "0": "P-0038",
                                    "1": "2016",
                                    "2": "Setas",
                                    "3": "Pontevedra",
                                    "4": "23",
                                    "5": "32.7000000000",
                                    "6": "24590.0000000000"
                                },
                                {
                                    "0": "P-0039",
                                    "1": "2016",
                                    "2": "Setas",
                                    "3": "Coruña",
                                    "4": "16",
                                    "5": "33.6000000000",
                                    "6": "24461.0000000000"
                                },
                                {
                                    "0": "P-0040",
                                    "1": "2016",
                                    "2": "Setas",
                                    "3": "Pontevedra",
                                    "4": "26",
                                    "5": "34.2000000000",
                                    "6": "27086.0000000000"
                                },
                                {
                                    "0": "P-0043",
                                    "1": "2016",
                                    "2": "Setas",
                                    "3": "Lugo",
                                    "4": "19",
                                    "5": "31.8000000000",
                                    "6": "23659.0000000000"
                                },
                                {
                                    "0": "P-0044",
                                    "1": "2016",
                                    "2": "Setas",
                                    "3": "Ourense",
                                    "4": "28",
                                    "5": "31.2000000000",
                                    "6": "24710.0000000000"
                                },
                                {
                                    "0": "P-0045",
                                    "1": "2016",
                                    "2": "Setas",
                                    "3": "Pontevedra",
                                    "4": "22",
                                    "5": "31.5000000000",
                                    "6": "22932.0000000000"
                                },
                                {
                                    "0": "P-0047",
                                    "1": "2016",
                                    "2": "Setas",
                                    "3": "Pontevedra",
                                    "4": "26",
                                    "5": "27.0000000000",
                                    "6": "21384.0000000000"
                                },
                                {
                                    "0": "P-0048",
                                    "1": "2016",
                                    "2": "Setas",
                                    "3": "Pontevedra",
                                    "4": "22",
                                    "5": "27.6000000000",
                                    "6": "20976.0000000000"
                                },
                                {
                                    "0": "P-0050-A",
                                    "1": "2016",
                                    "2": "Belleza",
                                    "3": "Coruña",
                                    "4": "23",
                                    "5": "31.5000000000",
                                    "6": "99225.0000000000"
                                },
                                {
                                    "0": "P-0052",
                                    "1": "2017",
                                    "2": "Setas",
                                    "3": "Lugo",
                                    "4": "18",
                                    "5": "39.2000000000",
                                    "6": "31360.0000000000"
                                },
                                {
                                    "0": "P-0053",
                                    "1": "2017",
                                    "2": "Setas",
                                    "3": "Coruña",
                                    "4": "8",
                                    "5": "37.1000000000",
                                    "6": "29086.0000000000"
                                },
                                {
                                    "0": "P-0054",
                                    "1": "2017",
                                    "2": "Belleza",
                                    "3": "Pontevedra",
                                    "4": "28",
                                    "5": "44.1000000000",
                                    "6": "148176.0000000000"
                                },
                                {
                                    "0": "P-0055",
                                    "1": "2017",
                                    "2": "Setas",
                                    "3": "Coruña",
                                    "4": "16",
                                    "5": "39.9000000000",
                                    "6": "30324.0000000000"
                                },
                                {
                                    "0": "P-0056",
                                    "1": "2017",
                                    "2": "Setas",
                                    "3": "Ourense",
                                    "4": "25",
                                    "5": "41.3000000000",
                                    "6": "31388.0000000000"
                                },
                                {
                                    "0": "P-0058",
                                    "1": "2017",
                                    "2": "Setas",
                                    "3": "Pontevedra",
                                    "4": "22",
                                    "5": "44.5000000000",
                                    "6": "33426.0000000000"
                                },
                                {
                                    "0": "P-0061",
                                    "1": "2017",
                                    "2": "Setas",
                                    "3": "Coruña",
                                    "4": "7",
                                    "5": "37.5000000000",
                                    "6": "29361.0000000000"
                                },
                                {
                                    "0": "P-0062",
                                    "1": "2017",
                                    "2": "Setas",
                                    "3": "Pontevedra",
                                    "4": "26",
                                    "5": "40.6000000000",
                                    "6": "28582.0000000000"
                                },
                                {
                                    "0": "P-0064",
                                    "1": "2017",
                                    "2": "Setas",
                                    "3": "Pontevedra",
                                    "4": "27",
                                    "5": "35.4000000000",
                                    "6": "25452.0000000000"
                                },
                                {
                                    "0": "P-0065",
                                    "1": "2017",
                                    "2": "Setas",
                                    "3": "Pontevedra",
                                    "4": "24",
                                    "5": "38.9000000000",
                                    "6": "29215.0000000000"
                                },
                                {
                                    "0": "P-0066",
                                    "1": "2017",
                                    "2": "Setas",
                                    "3": "Ourense",
                                    "4": "25",
                                    "5": "34.3000000000",
                                    "6": "23873.0000000000"
                                },
                                {
                                    "0": "P-0068",
                                    "1": "2017",
                                    "2": "Belleza",
                                    "3": "Pontevedra",
                                    "4": "25",
                                    "5": "33.6000000000",
                                    "6": "106848.0000000000"
                                },
                                {
                                    "0": "P-0070",
                                    "1": "2017",
                                    "2": "Setas",
                                    "3": "Ourense",
                                    "4": "22",
                                    "5": "44.5000000000",
                                    "6": "31648.0000000000"
                                },
                                {
                                    "0": "P-0071",
                                    "1": "2017",
                                    "2": "Setas",
                                    "3": "Lugo",
                                    "4": "16",
                                    "5": "39.9000000000",
                                    "6": "31282.0000000000"
                                },
                                {
                                    "0": "P-0072",
                                    "1": "2017",
                                    "2": "Belleza",
                                    "3": "Pontevedra",
                                    "4": "27",
                                    "5": "35.0000000000",
                                    "6": "110250.0000000000"
                                },
                                {
                                    "0": "P-0073",
                                    "1": "2017",
                                    "2": "Setas",
                                    "3": "Pontevedra",
                                    "4": "27",
                                    "5": "35.7000000000",
                                    "6": "24562.0000000000"
                                },
                                {
                                    "0": "P-0076",
                                    "1": "2017",
                                    "2": "Belleza",
                                    "3": "Coruña",
                                    "4": "18",
                                    "5": "37.1000000000",
                                    "6": "132447.0000000000"
                                },
                                {
                                    "0": "P-0079",
                                    "1": "2017",
                                    "2": "Setas",
                                    "3": "Ourense",
                                    "4": "23",
                                    "5": "43.8000000000",
                                    "6": "32550.0000000000"
                                },
                                {
                                    "0": "P-0084",
                                    "1": "2017",
                                    "2": "Setas",
                                    "3": "Pontevedra",
                                    "4": "28",
                                    "5": "33.6000000000",
                                    "6": "25267.0000000000"
                                },
                                {
                                    "0": "P-0087",
                                    "1": "2017",
                                    "2": "Setas",
                                    "3": "Pontevedra",
                                    "4": "26",
                                    "5": "43.1000000000",
                                    "6": "29963.0000000000"
                                },
                                {
                                    "0": "P-0088",
                                    "1": "2017",
                                    "2": "Belleza",
                                    "3": "Pontevedra",
                                    "4": "28",
                                    "5": "43.4000000000",
                                    "6": "138012.0000000000"
                                },
                                {
                                    "0": "P-0090",
                                    "1": "2017",
                                    "2": "Setas",
                                    "3": "Coruña",
                                    "4": "12",
                                    "5": "37.5000000000",
                                    "6": "29660.0000000000"
                                },
                                {
                                    "0": "P-0091",
                                    "1": "2017",
                                    "2": "Belleza",
                                    "3": "Coruña",
                                    "4": "18",
                                    "5": "39.6000000000",
                                    "6": "128142.0000000000"
                                },
                                {
                                    "0": "P-0093",
                                    "1": "2017",
                                    "2": "Belleza",
                                    "3": "Coruña",
                                    "4": "39",
                                    "5": "39.2000000000",
                                    "6": "141120.0000000000"
                                },
                                {
                                    "0": "P-0096",
                                    "1": "2017",
                                    "2": "Setas",
                                    "3": "Lugo",
                                    "4": "11",
                                    "5": "37.5000000000",
                                    "6": "28162.0000000000"
                                },
                                {
                                    "0": "P-0097",
                                    "1": "2017",
                                    "2": "Setas",
                                    "3": "Pontevedra",
                                    "4": "23",
                                    "5": "37.1000000000",
                                    "6": "27899.0000000000"
                                },
                                {
                                    "0": "P-0098",
                                    "1": "2017",
                                    "2": "Setas",
                                    "3": "Coruña",
                                    "4": "17",
                                    "5": "39.2000000000",
                                    "6": "31360.0000000000"
                                },
                                {
                                    "0": "P-0100",
                                    "1": "2017",
                                    "2": "Setas",
                                    "3": "Pontevedra",
                                    "4": "21",
                                    "5": "39.6000000000",
                                    "6": "30058.0000000000"
                                },
                                {
                                    "0": "P-0101",
                                    "1": "2017",
                                    "2": "Setas",
                                    "3": "Lugo",
                                    "4": "5",
                                    "5": "38.9000000000",
                                    "6": "30769.0000000000"
                                },
                                {
                                    "0": "P-0103",
                                    "1": "2017",
                                    "2": "Setas",
                                    "3": "Coruña",
                                    "4": "14",
                                    "5": "39.9000000000",
                                    "6": "29366.0000000000"
                                },
                                {
                                    "0": "P-0104",
                                    "1": "2017",
                                    "2": "Setas",
                                    "3": "Pontevedra",
                                    "4": "22",
                                    "5": "36.8000000000",
                                    "6": "27636.0000000000"
                                },
                                {
                                    "0": "P-0106",
                                    "1": "2017",
                                    "2": "Belleza",
                                    "3": "Coruña",
                                    "4": "6",
                                    "5": "37.1000000000",
                                    "6": "122430.0000000000"
                                },
                                {
                                    "0": "P-0107",
                                    "1": "2017",
                                    "2": "Belleza",
                                    "3": "Pontevedra",
                                    "4": "28",
                                    "5": "39.6000000000",
                                    "6": "129329.0000000000"
                                },
                                {
                                    "0": "P-0108",
                                    "1": "2017",
                                    "2": "Setas",
                                    "3": "Pontevedra",
                                    "4": "23",
                                    "5": "32.6000000000",
                                    "6": "24217.0000000000"
                                },
                                {
                                    "0": "P-0110",
                                    "1": "2017",
                                    "2": "Setas",
                                    "3": "Pontevedra",
                                    "4": "26",
                                    "5": "36.1000000000",
                                    "6": "26244.0000000000"
                                },
                                {
                                    "0": "P-0113",
                                    "1": "2017",
                                    "2": "Setas",
                                    "3": "Coruña",
                                    "4": "15",
                                    "5": "37.5000000000",
                                    "6": "27264.0000000000"
                                },
                                {
                                    "0": "P-0114",
                                    "1": "2017",
                                    "2": "Setas",
                                    "3": "Pontevedra",
                                    "4": "25",
                                    "5": "37.5000000000",
                                    "6": "25466.0000000000"
                                },
                                {
                                    "0": "P-0115",
                                    "1": "2017",
                                    "2": "Belleza",
                                    "3": "Coruña",
                                    "4": "20",
                                    "5": "39.2000000000",
                                    "6": "135240.0000000000"
                                },
                                {
                                    "0": "P-0116",
                                    "1": "2017",
                                    "2": "Setas",
                                    "3": "Pontevedra",
                                    "4": "26",
                                    "5": "44.5000000000",
                                    "6": "32004.0000000000"
                                },
                                {
                                    "0": "P-0117",
                                    "1": "2017",
                                    "2": "Belleza",
                                    "3": "Lugo",
                                    "4": "13",
                                    "5": "38.5000000000",
                                    "6": "136290.0000000000"
                                },
                                {
                                    "0": "P-0118",
                                    "1": "2017",
                                    "2": "Setas",
                                    "3": "Lugo",
                                    "4": "11",
                                    "5": "37.5000000000",
                                    "6": "26964.0000000000"
                                },
                                {
                                    "0": "P-0120",
                                    "1": "2017",
                                    "2": "Setas",
                                    "3": "Pontevedra",
                                    "4": "23",
                                    "5": "32.2000000000",
                                    "6": "22411.0000000000"
                                },
                                {
                                    "0": "P-0121",
                                    "1": "2017",
                                    "2": "Setas",
                                    "3": "Pontevedra",
                                    "4": "21",
                                    "5": "45.5000000000",
                                    "6": "34580.0000000000"
                                },
                                {
                                    "0": "P-0125",
                                    "1": "2017",
                                    "2": "Setas",
                                    "3": "Pontevedra",
                                    "4": "25",
                                    "5": "44.5000000000",
                                    "6": "32715.0000000000"
                                },
                                {
                                    "0": "P-0126",
                                    "1": "2017",
                                    "2": "Belleza",
                                    "3": "Pontevedra",
                                    "4": "25",
                                    "5": "44.5000000000",
                                    "6": "140018.0000000000"
                                },
                                {
                                    "0": "P-0129",
                                    "1": "2017",
                                    "2": "Setas",
                                    "3": "Pontevedra",
                                    "4": "26",
                                    "5": "35.0000000000",
                                    "6": "25480.0000000000"
                                },
                                {
                                    "0": "P-0131",
                                    "1": "2017",
                                    "2": "Setas",
                                    "3": "Lugo",
                                    "4": "6",
                                    "5": "37.1000000000",
                                    "6": "29383.0000000000"
                                },
                                {
                                    "0": "P-0133",
                                    "1": "2017",
                                    "2": "Setas",
                                    "3": "Coruña",
                                    "4": "12",
                                    "5": "38.5000000000",
                                    "6": "29876.0000000000"
                                },
                                {
                                    "0": "P-0135",
                                    "1": "2017",
                                    "2": "Belleza",
                                    "3": "Ourense",
                                    "4": "25",
                                    "5": "42.0000000000",
                                    "6": "138600.0000000000"
                                },
                                {
                                    "0": "P-0136",
                                    "1": "2017",
                                    "2": "Setas",
                                    "3": "Pontevedra",
                                    "4": "28",
                                    "5": "32.9000000000",
                                    "6": "22635.0000000000"
                                },
                                {
                                    "0": "P-0138",
                                    "1": "2017",
                                    "2": "Setas",
                                    "3": "Pontevedra",
                                    "4": "25",
                                    "5": "37.1000000000",
                                    "6": "26118.0000000000"
                                },
                                {
                                    "0": "P-0139",
                                    "1": "2017",
                                    "2": "Setas",
                                    "3": "Coruña",
                                    "4": "14",
                                    "5": "39.2000000000",
                                    "6": "31046.0000000000"
                                },
                                {
                                    "0": "P-0140",
                                    "1": "2017",
                                    "2": "Setas",
                                    "3": "Pontevedra",
                                    "4": "23",
                                    "5": "45.2000000000",
                                    "6": "31063.0000000000"
                                },
                                {
                                    "0": "P-0142",
                                    "1": "2017",
                                    "2": "Setas",
                                    "3": "Pontevedra",
                                    "4": "28",
                                    "5": "42.4000000000",
                                    "6": "29137.0000000000"
                                },
                                {
                                    "0": "P-0143",
                                    "1": "2017",
                                    "2": "Belleza",
                                    "3": "Pontevedra",
                                    "4": "23",
                                    "5": "31.9000000000",
                                    "6": "106061.0000000000"
                                },
                                {
                                    "0": "P-0144",
                                    "1": "2017",
                                    "2": "Setas",
                                    "3": "Coruña",
                                    "4": "19",
                                    "5": "38.5000000000",
                                    "6": "30184.0000000000"
                                },
                                {
                                    "0": "P-0146",
                                    "1": "2017",
                                    "2": "Setas",
                                    "3": "Coruña",
                                    "4": "16",
                                    "5": "38.5000000000",
                                    "6": "28952.0000000000"
                                },
                                {
                                    "0": "P-0147",
                                    "1": "2017",
                                    "2": "Setas",
                                    "3": "Pontevedra",
                                    "4": "27",
                                    "5": "43.1000000000",
                                    "6": "30652.0000000000"
                                },
                                {
                                    "0": "P-0150",
                                    "1": "2017",
                                    "2": "Setas",
                                    "3": "Pontevedra",
                                    "4": "26",
                                    "5": "37.8000000000",
                                    "6": "26611.0000000000"
                                },
                                {
                                    "0": "P-0151",
                                    "1": "2018",
                                    "2": "Setas",
                                    "3": "Coruña",
                                    "4": "10",
                                    "5": "42.9000000000",
                                    "6": "32291.0000000000"
                                },
                                {
                                    "0": "P-0152",
                                    "1": "2018",
                                    "2": "Setas",
                                    "3": "Lugo",
                                    "4": "19",
                                    "5": "42.9000000000",
                                    "6": "31947.0000000000"
                                },
                                {
                                    "0": "P-0153",
                                    "1": "2018",
                                    "2": "Setas",
                                    "3": "Coruña",
                                    "4": "2",
                                    "5": "39.9000000000",
                                    "6": "31920.0000000000"
                                },
                                {
                                    "0": "P-0154",
                                    "1": "2018",
                                    "2": "Setas",
                                    "3": "Pontevedra",
                                    "4": "27",
                                    "5": "39.6000000000",
                                    "6": "29462.0000000000"
                                },
                                {
                                    "0": "P-0155",
                                    "1": "2018",
                                    "2": "Setas",
                                    "3": "Pontevedra",
                                    "4": "24",
                                    "5": "41.4000000000",
                                    "6": "29477.0000000000"
                                },
                                {
                                    "0": "P-0156",
                                    "1": "2018",
                                    "2": "Setas",
                                    "3": "Coruña",
                                    "4": "29",
                                    "5": "43.3000000000",
                                    "6": "31190.0000000000"
                                },
                                {
                                    "0": "P-0157",
                                    "1": "2018",
                                    "2": "Setas",
                                    "3": "Pontevedra",
                                    "4": "22",
                                    "5": "36.7000000000",
                                    "6": "27613.0000000000"
                                },
                                {
                                    "0": "P-0158",
                                    "1": "2018",
                                    "2": "Setas",
                                    "3": "Coruña",
                                    "4": "11",
                                    "5": "40.7000000000",
                                    "6": "30902.0000000000"
                                },
                                {
                                    "0": "P-0159",
                                    "1": "2018",
                                    "2": "Setas",
                                    "3": "Pontevedra",
                                    "4": "21",
                                    "5": "45.0000000000",
                                    "6": "33840.0000000000"
                                },
                                {
                                    "0": "P-0160",
                                    "1": "2018",
                                    "2": "Belleza",
                                    "3": "Coruña",
                                    "4": "6",
                                    "5": "39.9000000000",
                                    "6": "124488.0000000000"
                                },
                                {
                                    "0": "P-0162",
                                    "1": "2018",
                                    "2": "Setas",
                                    "3": "Pontevedra",
                                    "4": "27",
                                    "5": "180.0000000000",
                                    "6": "115200.0000000000"
                                },
                                {
                                    "0": "P-0164",
                                    "1": "2018",
                                    "2": "Setas",
                                    "3": "Ourense",
                                    "4": "21",
                                    "5": "37.4000000000",
                                    "6": "28454.0000000000"
                                },
                                {
                                    "0": "P-0165",
                                    "1": "2018",
                                    "2": "Setas",
                                    "3": "Ourense",
                                    "4": "24",
                                    "5": "39.2000000000",
                                    "6": "27939.0000000000"
                                },
                                {
                                    "0": "P-0168",
                                    "1": "2018",
                                    "2": "Setas",
                                    "3": "Pontevedra",
                                    "4": "24",
                                    "5": "33.5000000000",
                                    "6": "23302.0000000000"
                                },
                                {
                                    "0": "P-0169",
                                    "1": "2018",
                                    "2": "Setas",
                                    "3": "Pontevedra",
                                    "4": "24",
                                    "5": "39.2000000000",
                                    "6": "29822.0000000000"
                                },
                                {
                                    "0": "P-0170",
                                    "1": "2018",
                                    "2": "Setas",
                                    "3": "Ourense",
                                    "4": "24",
                                    "5": "42.1000000000",
                                    "6": "30326.0000000000"
                                },
                                {
                                    "0": "P-0173",
                                    "1": "2018",
                                    "2": "Belleza",
                                    "3": "Coruña",
                                    "4": "11",
                                    "5": "42.6000000000",
                                    "6": "136618.0000000000"
                                },
                                {
                                    "0": "P-0175",
                                    "1": "2018",
                                    "2": "Setas",
                                    "3": "Ourense",
                                    "4": "28",
                                    "5": "45.4000000000",
                                    "6": "33748.0000000000"
                                },
                                {
                                    "0": "P-0176",
                                    "1": "2018",
                                    "2": "Setas",
                                    "3": "Pontevedra",
                                    "4": "27",
                                    "5": "36.0000000000",
                                    "6": "26496.0000000000"
                                },
                                {
                                    "0": "P-0177",
                                    "1": "2018",
                                    "2": "Setas",
                                    "3": "Coruña",
                                    "4": "17",
                                    "5": "42.2000000000",
                                    "6": "30370.0000000000"
                                },
                                {
                                    "0": "P-0179",
                                    "1": "2018",
                                    "2": "Setas",
                                    "3": "Pontevedra",
                                    "4": "22",
                                    "5": "36.4000000000",
                                    "6": "25307.0000000000"
                                },
                                {
                                    "0": "P-0180",
                                    "1": "2018",
                                    "2": "Setas",
                                    "3": "Coruña",
                                    "4": "9",
                                    "5": "43.3000000000",
                                    "6": "32230.0000000000"
                                },
                                {
                                    "0": "P-0181",
                                    "1": "2018",
                                    "2": "Setas",
                                    "3": "Ourense",
                                    "4": "28",
                                    "5": "43.2000000000",
                                    "6": "30758.0000000000"
                                },
                                {
                                    "0": "P-0183",
                                    "1": "2018",
                                    "2": "Setas",
                                    "3": "Coruña",
                                    "4": "30",
                                    "5": "42.2000000000",
                                    "6": "31719.0000000000"
                                },
                                {
                                    "0": "P-0185",
                                    "1": "2018",
                                    "2": "Belleza",
                                    "3": "Pontevedra",
                                    "4": "21",
                                    "5": "36.0000000000",
                                    "6": "120960.0000000000"
                                },
                                {
                                    "0": "P-0188",
                                    "1": "2018",
                                    "2": "Setas",
                                    "3": "Coruña",
                                    "4": "8",
                                    "5": "42.9000000000",
                                    "6": "31260.0000000000"
                                },
                                {
                                    "0": "P-0189",
                                    "1": "2018",
                                    "2": "Setas",
                                    "3": "Pontevedra",
                                    "4": "27",
                                    "5": "40.0000000000",
                                    "6": "28771.0000000000"
                                },
                                {
                                    "0": "P-0190",
                                    "1": "2018",
                                    "2": "Setas",
                                    "3": "Pontevedra",
                                    "4": "28",
                                    "5": "38.2000000000",
                                    "6": "27780.0000000000"
                                },
                                {
                                    "0": "P-0191",
                                    "1": "2018",
                                    "2": "Belleza",
                                    "3": "Ourense",
                                    "4": "23",
                                    "5": "43.2000000000",
                                    "6": "129600.0000000000"
                                },
                                {
                                    "0": "P-0193",
                                    "1": "2018",
                                    "2": "Belleza",
                                    "3": "Pontevedra",
                                    "4": "23",
                                    "5": "43.6000000000",
                                    "6": "133294.0000000000"
                                },
                                {
                                    "0": "P-0194",
                                    "1": "2018",
                                    "2": "Setas",
                                    "3": "Coruña",
                                    "4": "19",
                                    "5": "41.8000000000",
                                    "6": "31434.0000000000"
                                },
                                {
                                    "0": "P-0195",
                                    "1": "2018",
                                    "2": "Setas",
                                    "3": "Pontevedra",
                                    "4": "27",
                                    "5": "324.0000000000",
                                    "6": "207360.0000000000"
                                },
                                {
                                    "0": "P-0198",
                                    "1": "2018",
                                    "2": "Setas",
                                    "3": "Coruña",
                                    "4": "17",
                                    "5": "42.2000000000",
                                    "6": "30707.0000000000"
                                },
                                {
                                    "0": "P-0199",
                                    "1": "2018",
                                    "2": "Setas",
                                    "3": "Coruña",
                                    "4": "6",
                                    "5": "40.7000000000",
                                    "6": "32528.0000000000"
                                },
                                {
                                    "0": "P-0200",
                                    "1": "2018",
                                    "2": "Setas",
                                    "3": "Pontevedra",
                                    "4": "28",
                                    "5": "42.8000000000",
                                    "6": "31188.0000000000"
                                },
                                {
                                    "0": "P-0201",
                                    "1": "2018",
                                    "2": "Setas",
                                    "3": "Pontevedra",
                                    "4": "21",
                                    "5": "41.0000000000",
                                    "6": "27907.0000000000"
                                },
                                {
                                    "0": "P-0203",
                                    "1": "2018",
                                    "2": "Setas",
                                    "3": "Coruña",
                                    "4": "16",
                                    "5": "40.7000000000",
                                    "6": "31552.0000000000"
                                },
                                {
                                    "0": "P-0204",
                                    "1": "2018",
                                    "2": "Setas",
                                    "3": "Coruña",
                                    "4": "10",
                                    "5": "40.3000000000",
                                    "6": "31902.0000000000"
                                },
                                {
                                    "0": "P-0206",
                                    "1": "2018",
                                    "2": "Setas",
                                    "3": "Pontevedra",
                                    "4": "25",
                                    "5": "41.8000000000",
                                    "6": "29733.0000000000"
                                },
                                {
                                    "0": "P-0207",
                                    "1": "2018",
                                    "2": "Setas",
                                    "3": "Pontevedra",
                                    "4": "25",
                                    "5": "33.5000000000",
                                    "6": "23302.0000000000"
                                },
                                {
                                    "0": "P-0210",
                                    "1": "2018",
                                    "2": "Belleza",
                                    "3": "Lugo",
                                    "4": "16",
                                    "5": "39.9000000000",
                                    "6": "135261.0000000000"
                                },
                                {
                                    "0": "P-0212",
                                    "1": "2018",
                                    "2": "Setas",
                                    "3": "Pontevedra",
                                    "4": "28",
                                    "5": "38.5000000000",
                                    "6": "26502.0000000000"
                                },
                                {
                                    "0": "P-0213",
                                    "1": "2018",
                                    "2": "Belleza",
                                    "3": "Ourense",
                                    "4": "25",
                                    "5": "41.0000000000",
                                    "6": "129276.0000000000"
                                },
                                {
                                    "0": "P-0215",
                                    "1": "2018",
                                    "2": "Setas",
                                    "3": "Coruña",
                                    "4": "6",
                                    "5": "42.2000000000",
                                    "6": "31382.0000000000"
                                },
                                {
                                    "0": "P-0216",
                                    "1": "2018",
                                    "2": "Setas",
                                    "3": "Pontevedra",
                                    "4": "25",
                                    "5": "35.6000000000",
                                    "6": "25376.0000000000"
                                },
                                {
                                    "0": "P-0217",
                                    "1": "2018",
                                    "2": "Setas",
                                    "3": "Pontevedra",
                                    "4": "22",
                                    "5": "34.6000000000",
                                    "6": "23777.0000000000"
                                },
                                {
                                    "0": "P-0219",
                                    "1": "2018",
                                    "2": "Setas",
                                    "3": "Ourense",
                                    "4": "27",
                                    "5": "33.1000000000",
                                    "6": "24376.0000000000"
                                },
                                {
                                    "0": "P-0220",
                                    "1": "2018",
                                    "2": "Setas",
                                    "3": "Pontevedra",
                                    "4": "21",
                                    "5": "36.4000000000",
                                    "6": "26761.0000000000"
                                },
                                {
                                    "0": "P-0221",
                                    "1": "2018",
                                    "2": "Setas",
                                    "3": "Pontevedra",
                                    "4": "22",
                                    "5": "180.0000000000",
                                    "6": "123840.0000000000"
                                },
                                {
                                    "0": "P-0222",
                                    "1": "2018",
                                    "2": "Setas",
                                    "3": "Coruña",
                                    "4": "31",
                                    "5": "39.9000000000",
                                    "6": "29047.0000000000"
                                },
                                {
                                    "0": "P-0224",
                                    "1": "2018",
                                    "2": "Belleza",
                                    "3": "Coruña",
                                    "4": "18",
                                    "5": "42.9000000000",
                                    "6": "144278.0000000000"
                                },
                                {
                                    "0": "P-0225",
                                    "1": "2018",
                                    "2": "Setas",
                                    "3": "Ourense",
                                    "4": "25",
                                    "5": "180.0000000000",
                                    "6": "123840.0000000000"
                                },
                                {
                                    "0": "P-0226",
                                    "1": "2018",
                                    "2": "Setas",
                                    "3": "Coruña",
                                    "4": "16",
                                    "5": "40.7000000000",
                                    "6": "32203.0000000000"
                                },
                                {
                                    "0": "P-0227",
                                    "1": "2018",
                                    "2": "Belleza",
                                    "3": "Coruña",
                                    "4": "40",
                                    "5": "40.3000000000",
                                    "6": "142591.0000000000"
                                },
                                {
                                    "0": "P-0229",
                                    "1": "2018",
                                    "2": "Belleza",
                                    "3": "Pontevedra",
                                    "4": "25",
                                    "5": "42.8000000000",
                                    "6": "140087.0000000000"
                                },
                                {
                                    "0": "P-0230",
                                    "1": "2018",
                                    "2": "Setas",
                                    "3": "Lugo",
                                    "4": "17",
                                    "5": "43.7000000000",
                                    "6": "34960.0000000000"
                                },
                                {
                                    "0": "P-0232",
                                    "1": "2018",
                                    "2": "Setas",
                                    "3": "Pontevedra",
                                    "4": "27",
                                    "5": "36.0000000000",
                                    "6": "26784.0000000000"
                                },
                                {
                                    "0": "P-0234",
                                    "1": "2018",
                                    "2": "Setas",
                                    "3": "Pontevedra",
                                    "4": "28",
                                    "5": "37.1000000000",
                                    "6": "26401.0000000000"
                                },
                                {
                                    "0": "P-0235",
                                    "1": "2018",
                                    "2": "Setas",
                                    "3": "Pontevedra",
                                    "4": "24",
                                    "5": "180.0000000000",
                                    "6": "126720.0000000000"
                                },
                                {
                                    "0": "P-0238",
                                    "1": "2018",
                                    "2": "Setas",
                                    "3": "Coruña",
                                    "4": "14",
                                    "5": "42.9000000000",
                                    "6": "31260.0000000000"
                                },
                                {
                                    "0": "P-0239",
                                    "1": "2018",
                                    "2": "Setas",
                                    "3": "Ourense",
                                    "4": "22",
                                    "5": "45.7000000000",
                                    "6": "32918.0000000000"
                                },
                                {
                                    "0": "P-0243",
                                    "1": "2018",
                                    "2": "Setas",
                                    "3": "Coruña",
                                    "4": "6",
                                    "5": "40.3000000000",
                                    "6": "29324.0000000000"
                                },
                                {
                                    "0": "P-0244",
                                    "1": "2018",
                                    "2": "Setas",
                                    "3": "Pontevedra",
                                    "4": "22",
                                    "5": "40.0000000000",
                                    "6": "29411.0000000000"
                                },
                                {
                                    "0": "P-0245",
                                    "1": "2018",
                                    "2": "Setas",
                                    "3": "Ourense",
                                    "4": "26",
                                    "5": "34.6000000000",
                                    "6": "24330.0000000000"
                                },
                                {
                                    "0": "P-0247",
                                    "1": "2018",
                                    "2": "Setas",
                                    "3": "Coruña",
                                    "4": "10",
                                    "5": "41.8000000000",
                                    "6": "31434.0000000000"
                                },
                                {
                                    "0": "P-0249",
                                    "1": "2018",
                                    "2": "Setas",
                                    "3": "Pontevedra",
                                    "4": "21",
                                    "5": "36.0000000000",
                                    "6": "25344.0000000000"
                                },
                                {
                                    "0": "P-0250",
                                    "1": "2018",
                                    "2": "Setas",
                                    "3": "Pontevedra",
                                    "4": "21",
                                    "5": "35.3000000000",
                                    "6": "25402.0000000000"
                                },
                                {
                                    "0": "P-0252",
                                    "1": "2018",
                                    "2": "Belleza",
                                    "3": "Lugo",
                                    "4": "20",
                                    "5": "43.7000000000",
                                    "6": "141588.0000000000"
                                },
                                {
                                    "0": "P-0253",
                                    "1": "2018",
                                    "2": "Belleza",
                                    "3": "Coruña",
                                    "4": "41",
                                    "5": "41.0000000000",
                                    "6": "134201.0000000000"
                                },
                                {
                                    "0": "P-0255",
                                    "1": "2018",
                                    "2": "Setas",
                                    "3": "Pontevedra",
                                    "4": "23",
                                    "5": "32.8000000000",
                                    "6": "22801.0000000000"
                                },
                                {
                                    "0": "P-0256",
                                    "1": "2018",
                                    "2": "Belleza",
                                    "3": "Coruña",
                                    "4": "12",
                                    "5": "42.9000000000",
                                    "6": "136549.0000000000"
                                },
                                {
                                    "0": "P-0257",
                                    "1": "2018",
                                    "2": "Setas",
                                    "3": "Ourense",
                                    "4": "25",
                                    "5": "35.3000000000",
                                    "6": "23990.0000000000"
                                },
                                {
                                    "0": "P-0258",
                                    "1": "2018",
                                    "2": "Setas",
                                    "3": "Coruña",
                                    "4": "11",
                                    "5": "39.9000000000",
                                    "6": "29366.0000000000"
                                },
                                {
                                    "0": "P-0259",
                                    "1": "2018",
                                    "2": "Setas",
                                    "3": "Ourense",
                                    "4": "27",
                                    "5": "46.4000000000",
                                    "6": "32322.0000000000"
                                },
                                {
                                    "0": "P-0260",
                                    "1": "2018",
                                    "2": "Setas",
                                    "3": "Lugo",
                                    "4": "17",
                                    "5": "40.3000000000",
                                    "6": "30935.0000000000"
                                },
                                {
                                    "0": "P-0261",
                                    "1": "2018",
                                    "2": "Setas",
                                    "3": "Pontevedra",
                                    "4": "27",
                                    "5": "44.6000000000",
                                    "6": "33926.0000000000"
                                },
                                {
                                    "0": "P-0264",
                                    "1": "2018",
                                    "2": "Belleza",
                                    "3": "Pontevedra",
                                    "4": "28",
                                    "5": "35.6000000000",
                                    "6": "107989.0000000000"
                                },
                                {
                                    "0": "P-0267",
                                    "1": "2018",
                                    "2": "Setas",
                                    "3": "Coruña",
                                    "4": "17",
                                    "5": "41.0000000000",
                                    "6": "29877.0000000000"
                                },
                                {
                                    "0": "P-0268",
                                    "1": "2018",
                                    "2": "Setas",
                                    "3": "Coruña",
                                    "4": "12",
                                    "5": "41.0000000000",
                                    "6": "31847.0000000000"
                                },
                                {
                                    "0": "P-0269",
                                    "1": "2018",
                                    "2": "Setas",
                                    "3": "Pontevedra",
                                    "4": "22",
                                    "5": "42.5000000000",
                                    "6": "31605.0000000000"
                                },
                                {
                                    "0": "P-0271",
                                    "1": "2018",
                                    "2": "Setas",
                                    "3": "Ourense",
                                    "4": "25",
                                    "5": "36.7000000000",
                                    "6": "26732.0000000000"
                                },
                                {
                                    "0": "P-0274",
                                    "1": "2018",
                                    "2": "Setas",
                                    "3": "Pontevedra",
                                    "4": "21",
                                    "5": "39.6000000000",
                                    "6": "27245.0000000000"
                                },
                                {
                                    "0": "P-0276",
                                    "1": "2018",
                                    "2": "Setas",
                                    "3": "Pontevedra",
                                    "4": "25",
                                    "5": "43.9000000000",
                                    "6": "31622.0000000000"
                                },
                                {
                                    "0": "P-0278",
                                    "1": "2018",
                                    "2": "Setas",
                                    "3": "Pontevedra",
                                    "4": "27",
                                    "5": "38.5000000000",
                                    "6": "27734.0000000000"
                                },
                                {
                                    "0": "P-0279",
                                    "1": "2018",
                                    "2": "Setas",
                                    "3": "Pontevedra",
                                    "4": "26",
                                    "5": "37.4000000000",
                                    "6": "25759.0000000000"
                                },
                                {
                                    "0": "P-0280",
                                    "1": "2018",
                                    "2": "Setas",
                                    "3": "Ourense",
                                    "4": "21",
                                    "5": "36.7000000000",
                                    "6": "27613.0000000000"
                                },
                                {
                                    "0": "P-0281",
                                    "1": "2018",
                                    "2": "Setas",
                                    "3": "Pontevedra",
                                    "4": "21",
                                    "5": "35.3000000000",
                                    "6": "24273.0000000000"
                                },
                                {
                                    "0": "P-0283",
                                    "1": "2018",
                                    "2": "Setas",
                                    "3": "Pontevedra",
                                    "4": "27",
                                    "5": "46.4000000000",
                                    "6": "34923.0000000000"
                                },
                                {
                                    "0": "P-0284",
                                    "1": "2018",
                                    "2": "Belleza",
                                    "3": "Pontevedra",
                                    "4": "22",
                                    "5": "45.4000000000",
                                    "6": "142884.0000000000"
                                },
                                {
                                    "0": "P-0285",
                                    "1": "2018",
                                    "2": "Setas",
                                    "3": "Lugo",
                                    "4": "3",
                                    "5": "43.3000000000",
                                    "6": "31190.0000000000"
                                },
                                {
                                    "0": "P-0286",
                                    "1": "2018",
                                    "2": "Belleza",
                                    "3": "Coruña",
                                    "4": "16",
                                    "5": "43.3000000000",
                                    "6": "145555.0000000000"
                                },
                                {
                                    "0": "P-0287",
                                    "1": "2018",
                                    "2": "Setas",
                                    "3": "Pontevedra",
                                    "4": "26",
                                    "5": "32.8000000000",
                                    "6": "24898.0000000000"
                                },
                                {
                                    "0": "P-0292",
                                    "1": "2018",
                                    "2": "Belleza",
                                    "3": "Coruña",
                                    "4": "4",
                                    "5": "42.9000000000",
                                    "6": "144278.0000000000"
                                },
                                {
                                    "0": "P-0293",
                                    "1": "2018",
                                    "2": "Setas",
                                    "3": "Pontevedra",
                                    "4": "23",
                                    "5": "38.2000000000",
                                    "6": "28391.0000000000"
                                },
                                {
                                    "0": "P-0294",
                                    "1": "2018",
                                    "2": "Setas",
                                    "3": "Ourense",
                                    "4": "21",
                                    "5": "33.5000000000",
                                    "6": "25177.0000000000"
                                },
                                {
                                    "0": "P-0301",
                                    "1": "2018",
                                    "2": "Setas",
                                    "3": "Ourense",
                                    "4": "21",
                                    "5": "42.1000000000",
                                    "6": "30663.0000000000"
                                },
                                {
                                    "0": "P-0302",
                                    "1": "2019",
                                    "2": "Setas",
                                    "3": "Coruña",
                                    "4": "17",
                                    "5": "42.8000000000",
                                    "6": "32870.0000000000"
                                },
                                {
                                    "0": "P-0303",
                                    "1": "2019",
                                    "2": "Setas",
                                    "3": "Coruña",
                                    "4": "11",
                                    "5": "45.2000000000",
                                    "6": "34352.0000000000"
                                },
                                {
                                    "0": "P-0304",
                                    "1": "2019",
                                    "2": "Setas",
                                    "3": "Ourense",
                                    "4": "28",
                                    "5": "41.4000000000",
                                    "6": "26522.0000000000"
                                },
                                {
                                    "0": "P-0306",
                                    "1": "2019",
                                    "2": "Setas",
                                    "3": "Ourense",
                                    "4": "24",
                                    "5": "33.3000000000",
                                    "6": "21312.0000000000"
                                },
                                {
                                    "0": "P-0313",
                                    "1": "2019",
                                    "2": "Setas",
                                    "3": "Coruña",
                                    "4": "2",
                                    "5": "46.0000000000",
                                    "6": "35696.0000000000"
                                },
                                {
                                    "0": "P-0314",
                                    "1": "2019",
                                    "2": "Setas",
                                    "3": "Pontevedra",
                                    "4": "26",
                                    "5": "47.4000000000",
                                    "6": "31447.0000000000"
                                },
                                {
                                    "0": "P-0315",
                                    "1": "2019",
                                    "2": "Setas",
                                    "3": "Pontevedra",
                                    "4": "25",
                                    "5": "41.4000000000",
                                    "6": "27516.0000000000"
                                },
                                {
                                    "0": "P-0316",
                                    "1": "2019",
                                    "2": "Setas",
                                    "3": "Ourense",
                                    "4": "24",
                                    "5": "43.3000000000",
                                    "6": "30130.0000000000"
                                },
                                {
                                    "0": "P-0317",
                                    "1": "2019",
                                    "2": "Setas",
                                    "3": "Lugo",
                                    "4": "9",
                                    "5": "42.0000000000",
                                    "6": "31920.0000000000"
                                },
                                {
                                    "0": "P-0320",
                                    "1": "2019",
                                    "2": "Setas",
                                    "3": "Coruña",
                                    "4": "32",
                                    "5": "43.2000000000",
                                    "6": "33869.0000000000"
                                },
                                {
                                    "0": "P-0321",
                                    "1": "2019",
                                    "2": "Setas",
                                    "3": "Pontevedra",
                                    "4": "22",
                                    "5": "33.3000000000",
                                    "6": "21312.0000000000"
                                },
                                {
                                    "0": "P-0323",
                                    "1": "2019",
                                    "2": "Setas",
                                    "3": "Ourense",
                                    "4": "23",
                                    "5": "45.5000000000",
                                    "6": "30583.0000000000"
                                },
                                {
                                    "0": "P-0325",
                                    "1": "2019",
                                    "2": "Setas",
                                    "3": "Pontevedra",
                                    "4": "27",
                                    "5": "40.3000000000",
                                    "6": "25811.0000000000"
                                },
                                {
                                    "0": "P-0326",
                                    "1": "2019",
                                    "2": "Setas",
                                    "3": "Coruña",
                                    "4": "11",
                                    "5": "42.8000000000",
                                    "6": "32186.0000000000"
                                },
                                {
                                    "0": "P-0328",
                                    "1": "2019",
                                    "2": "Setas",
                                    "3": "Pontevedra",
                                    "4": "21",
                                    "5": "42.6000000000",
                                    "6": "28253.0000000000"
                                },
                                {
                                    "0": "P-0329",
                                    "1": "2019",
                                    "2": "Setas",
                                    "3": "Coruña",
                                    "4": "20",
                                    "5": "42.0000000000",
                                    "6": "31248.0000000000"
                                },
                                {
                                    "0": "P-0330",
                                    "1": "2019",
                                    "2": "Setas",
                                    "3": "Pontevedra",
                                    "4": "23",
                                    "5": "41.1000000000",
                                    "6": "26285.0000000000"
                                },
                                {
                                    "0": "P-0331",
                                    "1": "2019",
                                    "2": "Belleza",
                                    "3": "Coruña",
                                    "4": "13",
                                    "5": "45.2000000000",
                                    "6": "146448.0000000000"
                                },
                                {
                                    "0": "P-0332",
                                    "1": "2019",
                                    "2": "Setas",
                                    "3": "Ourense",
                                    "4": "22",
                                    "5": "35.2000000000",
                                    "6": "24746.0000000000"
                                },
                                {
                                    "0": "P-0336",
                                    "1": "2019",
                                    "2": "Setas",
                                    "3": "Ourense",
                                    "4": "24",
                                    "5": "259.0000000000",
                                    "6": "161616.0000000000"
                                },
                                {
                                    "0": "P-0337",
                                    "1": "2019",
                                    "2": "Setas",
                                    "3": "Pontevedra",
                                    "4": "27",
                                    "5": "37.7000000000",
                                    "6": "25663.0000000000"
                                },
                                {
                                    "0": "P-0342",
                                    "1": "2019",
                                    "2": "Setas",
                                    "3": "Pontevedra",
                                    "4": "21",
                                    "5": "37.4000000000",
                                    "6": "25412.0000000000"
                                },
                                {
                                    "0": "P-0343",
                                    "1": "2019",
                                    "2": "Setas",
                                    "3": "Coruña",
                                    "4": "18",
                                    "5": "43.2000000000",
                                    "6": "34214.0000000000"
                                },
                                {
                                    "0": "P-0345",
                                    "1": "2019",
                                    "2": "Belleza",
                                    "3": "Pontevedra",
                                    "4": "21",
                                    "5": "36.6000000000",
                                    "6": "121978.0000000000"
                                },
                                {
                                    "0": "P-0346",
                                    "1": "2019",
                                    "2": "Belleza",
                                    "3": "Ourense",
                                    "4": "28",
                                    "5": "38.1000000000",
                                    "6": "125763.0000000000"
                                },
                                {
                                    "0": "P-0349",
                                    "1": "2019",
                                    "2": "Setas",
                                    "3": "Ourense",
                                    "4": "27",
                                    "5": "47.7000000000",
                                    "6": "31693.0000000000"
                                },
                                {
                                    "0": "P-0350",
                                    "1": "2019",
                                    "2": "Belleza",
                                    "3": "Ourense",
                                    "4": "26",
                                    "5": "45.9000000000",
                                    "6": "141769.0000000000"
                                },
                                {
                                    "0": "P-0352",
                                    "1": "2019",
                                    "2": "Setas",
                                    "3": "Pontevedra",
                                    "4": "27",
                                    "5": "296.0000000000",
                                    "6": "184704.0000000000"
                                },
                                {
                                    "0": "P-0353",
                                    "1": "2019",
                                    "2": "Setas",
                                    "3": "Pontevedra",
                                    "4": "22",
                                    "5": "42.2000000000",
                                    "6": "29020.0000000000"
                                },
                                {
                                    "0": "P-0354",
                                    "1": "2019",
                                    "2": "Belleza",
                                    "3": "Pontevedra",
                                    "4": "21",
                                    "5": "33.7000000000",
                                    "6": "111111.0000000000"
                                },
                                {
                                    "0": "P-0355",
                                    "1": "2019",
                                    "2": "Setas",
                                    "3": "Coruña",
                                    "4": "5",
                                    "5": "43.6000000000",
                                    "6": "34880.0000000000"
                                },
                                {
                                    "0": "P-0357",
                                    "1": "2019",
                                    "2": "Setas",
                                    "3": "Lugo",
                                    "4": "7",
                                    "5": "45.2000000000",
                                    "6": "33990.0000000000"
                                },
                                {
                                    "0": "P-0359",
                                    "1": "2019",
                                    "2": "Setas",
                                    "3": "Ourense",
                                    "4": "21",
                                    "5": "37.7000000000",
                                    "6": "25663.0000000000"
                                },
                                {
                                    "0": "P-0360",
                                    "1": "2019",
                                    "2": "Setas",
                                    "3": "Pontevedra",
                                    "4": "23",
                                    "5": "333.0000000000",
                                    "6": "213120.0000000000"
                                },
                                {
                                    "0": "P-0361",
                                    "1": "2019",
                                    "2": "Setas",
                                    "3": "Pontevedra",
                                    "4": "22",
                                    "5": "42.9000000000",
                                    "6": "28842.0000000000"
                                },
                                {
                                    "0": "P-0363",
                                    "1": "2019",
                                    "2": "Setas",
                                    "3": "Ourense",
                                    "4": "21",
                                    "5": "46.3000000000",
                                    "6": "28860.0000000000"
                                },
                                {
                                    "0": "P-0364",
                                    "1": "2019",
                                    "2": "Belleza",
                                    "3": "Pontevedra",
                                    "4": "27",
                                    "5": "37.4000000000",
                                    "6": "119958.0000000000"
                                },
                                {
                                    "0": "P-0365",
                                    "1": "2019",
                                    "2": "Setas",
                                    "3": "Ourense",
                                    "4": "24",
                                    "5": "592.0000000000",
                                    "6": "374144.0000000000"
                                },
                                {
                                    "0": "P-0367",
                                    "1": "2019",
                                    "2": "Setas",
                                    "3": "Coruña",
                                    "4": "13",
                                    "5": "45.6000000000",
                                    "6": "36115.0000000000"
                                },
                                {
                                    "0": "P-0368",
                                    "1": "2019",
                                    "2": "Setas",
                                    "3": "Coruña",
                                    "4": "3",
                                    "5": "42.4000000000",
                                    "6": "33581.0000000000"
                                },
                                {
                                    "0": "P-0371",
                                    "1": "2019",
                                    "2": "Setas",
                                    "3": "Pontevedra",
                                    "4": "21",
                                    "5": "36.3000000000",
                                    "6": "24077.0000000000"
                                },
                                {
                                    "0": "P-0374",
                                    "1": "2019",
                                    "2": "Setas",
                                    "3": "Pontevedra",
                                    "4": "28",
                                    "5": "41.4000000000",
                                    "6": "26522.0000000000"
                                },
                                {
                                    "0": "P-0375",
                                    "1": "2019",
                                    "2": "Setas",
                                    "3": "Pontevedra",
                                    "4": "27",
                                    "5": "39.6000000000",
                                    "6": "25654.0000000000"
                                },
                                {
                                    "0": "P-0376",
                                    "1": "2019",
                                    "2": "Setas",
                                    "3": "Lugo",
                                    "4": "12",
                                    "5": "44.8000000000",
                                    "6": "32614.0000000000"
                                },
                                {
                                    "0": "P-0377",
                                    "1": "2019",
                                    "2": "Setas",
                                    "3": "Pontevedra",
                                    "4": "28",
                                    "5": "38.5000000000",
                                    "6": "26782.0000000000"
                                },
                                {
                                    "0": "P-0379",
                                    "1": "2019",
                                    "2": "Setas",
                                    "3": "Coruña",
                                    "4": "33",
                                    "5": "42.8000000000",
                                    "6": "32870.0000000000"
                                },
                                {
                                    "0": "P-0380",
                                    "1": "2019",
                                    "2": "Setas",
                                    "3": "Ourense",
                                    "4": "26",
                                    "5": "38.5000000000",
                                    "6": "24627.0000000000"
                                },
                                {
                                    "0": "P-0387",
                                    "1": "2019",
                                    "2": "Belleza",
                                    "3": "Coruña",
                                    "4": "12",
                                    "5": "45.2000000000",
                                    "6": "147804.0000000000"
                                },
                                {
                                    "0": "P-0389",
                                    "1": "2019",
                                    "2": "Belleza",
                                    "3": "Coruña",
                                    "4": "20",
                                    "5": "44.4000000000",
                                    "6": "153180.0000000000"
                                },
                                {
                                    "0": "P-0390",
                                    "1": "2019",
                                    "2": "Setas",
                                    "3": "Ourense",
                                    "4": "22",
                                    "5": "46.6000000000",
                                    "6": "31702.0000000000"
                                },
                                {
                                    "0": "P-0393",
                                    "1": "2019",
                                    "2": "Setas",
                                    "3": "Pontevedra",
                                    "4": "25",
                                    "5": "38.1000000000",
                                    "6": "24390.0000000000"
                                },
                                {
                                    "0": "P-0394",
                                    "1": "2019",
                                    "2": "Setas",
                                    "3": "Ourense",
                                    "4": "28",
                                    "5": "43.7000000000",
                                    "6": "29689.0000000000"
                                },
                                {
                                    "0": "P-0395",
                                    "1": "2019",
                                    "2": "Setas",
                                    "3": "Pontevedra",
                                    "4": "21",
                                    "5": "40.0000000000",
                                    "6": "26533.0000000000"
                                },
                                {
                                    "0": "P-0396",
                                    "1": "2019",
                                    "2": "Setas",
                                    "3": "Pontevedra",
                                    "4": "23",
                                    "5": "46.6000000000",
                                    "6": "31329.0000000000"
                                },
                                {
                                    "0": "P-0399",
                                    "1": "2019",
                                    "2": "Belleza",
                                    "3": "Pontevedra",
                                    "4": "24",
                                    "5": "40.0000000000",
                                    "6": "134266.0000000000"
                                },
                                {
                                    "0": "P-0400",
                                    "1": "2019",
                                    "2": "Setas",
                                    "3": "Pontevedra",
                                    "4": "24",
                                    "5": "38.1000000000",
                                    "6": "25915.0000000000"
                                },
                                {
                                    "0": "P-0405",
                                    "1": "2019",
                                    "2": "Setas",
                                    "3": "Ourense",
                                    "4": "24",
                                    "5": "40.7000000000",
                                    "6": "26048.0000000000"
                                },
                                {
                                    "0": "P-0407",
                                    "1": "2019",
                                    "2": "Setas",
                                    "3": "Lugo",
                                    "4": "11",
                                    "5": "42.8000000000",
                                    "6": "31843.0000000000"
                                },
                                {
                                    "0": "P-0408",
                                    "1": "2019",
                                    "2": "Setas",
                                    "3": "Lugo",
                                    "4": "7",
                                    "5": "44.8000000000",
                                    "6": "35123.0000000000"
                                },
                                {
                                    "0": "P-0409",
                                    "1": "2019",
                                    "2": "Setas",
                                    "3": "Pontevedra",
                                    "4": "25",
                                    "5": "44.4000000000",
                                    "6": "29837.0000000000"
                                },
                                {
                                    "0": "P-0410",
                                    "1": "2019",
                                    "2": "Belleza",
                                    "3": "Pontevedra",
                                    "4": "28",
                                    "5": "35.9000000000",
                                    "6": "110900.0000000000"
                                },
                                {
                                    "0": "P-0411",
                                    "1": "2019",
                                    "2": "Setas",
                                    "3": "Coruña",
                                    "4": "34",
                                    "5": "42.0000000000",
                                    "6": "32928.0000000000"
                                },
                                {
                                    "0": "P-0412",
                                    "1": "2019",
                                    "2": "Setas",
                                    "3": "Pontevedra",
                                    "4": "23",
                                    "5": "37.4000000000",
                                    "6": "24515.0000000000"
                                },
                                {
                                    "0": "P-0413",
                                    "1": "2019",
                                    "2": "Setas",
                                    "3": "Pontevedra",
                                    "4": "25",
                                    "5": "46.3000000000",
                                    "6": "31820.0000000000"
                                },
                                {
                                    "0": "P-0414",
                                    "1": "2019",
                                    "2": "Setas",
                                    "3": "Pontevedra",
                                    "4": "24",
                                    "5": "46.6000000000",
                                    "6": "29837.0000000000"
                                },
                                {
                                    "0": "P-0415",
                                    "1": "2019",
                                    "2": "Setas",
                                    "3": "Coruña",
                                    "4": "18",
                                    "5": "42.4000000000",
                                    "6": "32563.0000000000"
                                },
                                {
                                    "0": "P-0416",
                                    "1": "2019",
                                    "2": "Belleza",
                                    "3": "Coruña",
                                    "4": "4",
                                    "5": "44.8000000000",
                                    "6": "134400.0000000000"
                                },
                                {
                                    "0": "P-0417",
                                    "1": "2019",
                                    "2": "Setas",
                                    "3": "Coruña",
                                    "4": "18",
                                    "5": "45.2000000000",
                                    "6": "35437.0000000000"
                                },
                                {
                                    "0": "P-0418",
                                    "1": "2019",
                                    "2": "Setas",
                                    "3": "Pontevedra",
                                    "4": "23",
                                    "5": "39.6000000000",
                                    "6": "27238.0000000000"
                                },
                                {
                                    "0": "P-0419",
                                    "1": "2019",
                                    "2": "Setas",
                                    "3": "Coruña",
                                    "4": "11",
                                    "5": "43.2000000000",
                                    "6": "32141.0000000000"
                                },
                                {
                                    "0": "P-0422",
                                    "1": "2019",
                                    "2": "Setas",
                                    "3": "Ourense",
                                    "4": "28",
                                    "5": "39.6000000000",
                                    "6": "25338.0000000000"
                                },
                                {
                                    "0": "P-0423",
                                    "1": "2019",
                                    "2": "Setas",
                                    "3": "Pontevedra",
                                    "4": "25",
                                    "5": "37.4000000000",
                                    "6": "24216.0000000000"
                                },
                                {
                                    "0": "P-0425",
                                    "1": "2019",
                                    "2": "Setas",
                                    "3": "Pontevedra",
                                    "4": "23",
                                    "5": "34.0000000000",
                                    "6": "22058.0000000000"
                                },
                                {
                                    "0": "P-0426",
                                    "1": "2019",
                                    "2": "Setas",
                                    "3": "Pontevedra",
                                    "4": "21",
                                    "5": "45.9000000000",
                                    "6": "30831.0000000000"
                                },
                                {
                                    "0": "P-0428",
                                    "1": "2019",
                                    "2": "Setas",
                                    "3": "Pontevedra",
                                    "4": "28",
                                    "5": "47.7000000000",
                                    "6": "32456.0000000000"
                                },
                                {
                                    "0": "P-0429",
                                    "1": "2019",
                                    "2": "Setas",
                                    "3": "Pontevedra",
                                    "4": "27",
                                    "5": "45.1000000000",
                                    "6": "29251.0000000000"
                                },
                                {
                                    "0": "P-0430",
                                    "1": "2019",
                                    "2": "Setas",
                                    "3": "Pontevedra",
                                    "4": "23",
                                    "5": "39.2000000000",
                                    "6": "26983.0000000000"
                                },
                                {
                                    "0": "P-0431",
                                    "1": "2019",
                                    "2": "Setas",
                                    "3": "Coruña",
                                    "4": "10",
                                    "5": "42.4000000000",
                                    "6": "33581.0000000000"
                                },
                                {
                                    "0": "P-0432",
                                    "1": "2019",
                                    "2": "Setas",
                                    "3": "Pontevedra",
                                    "4": "23",
                                    "5": "34.8000000000",
                                    "6": "23929.0000000000"
                                },
                                {
                                    "0": "P-0433",
                                    "1": "2019",
                                    "2": "Setas",
                                    "3": "Pontevedra",
                                    "4": "23",
                                    "5": "47.0000000000",
                                    "6": "30450.0000000000"
                                },
                                {
                                    "0": "P-0434",
                                    "1": "2019",
                                    "2": "Setas",
                                    "3": "Pontevedra",
                                    "4": "28",
                                    "5": "42.9000000000",
                                    "6": "28156.0000000000"
                                },
                                {
                                    "0": "P-0436",
                                    "1": "2019",
                                    "2": "Setas",
                                    "3": "Lugo",
                                    "4": "35",
                                    "5": "42.4000000000",
                                    "6": "30867.0000000000"
                                },
                                {
                                    "0": "P-0440",
                                    "1": "2019",
                                    "2": "Setas",
                                    "3": "Lugo",
                                    "4": "1",
                                    "5": "42.8000000000",
                                    "6": "34240.0000000000"
                                },
                                {
                                    "0": "P-0441",
                                    "1": "2019",
                                    "2": "Setas",
                                    "3": "Ourense",
                                    "4": "27",
                                    "5": "34.4000000000",
                                    "6": "23949.0000000000"
                                },
                                {
                                    "0": "P-0442",
                                    "1": "2019",
                                    "2": "Setas",
                                    "3": "Coruña",
                                    "4": "12",
                                    "5": "44.0000000000",
                                    "6": "32736.0000000000"
                                },
                                {
                                    "0": "P-0443",
                                    "1": "2019",
                                    "2": "Belleza",
                                    "3": "Coruña",
                                    "4": "17",
                                    "5": "44.4000000000",
                                    "6": "141192.0000000000"
                                },
                                {
                                    "0": "P-0444",
                                    "1": "2019",
                                    "2": "Setas",
                                    "3": "Ourense",
                                    "4": "21",
                                    "5": "44.4000000000",
                                    "6": "28416.0000000000"
                                },
                                {
                                    "0": "P-0445",
                                    "1": "2019",
                                    "2": "Setas",
                                    "3": "Ourense",
                                    "4": "27",
                                    "5": "40.7000000000",
                                    "6": "25722.0000000000"
                                },
                                {
                                    "0": "P-0446",
                                    "1": "2019",
                                    "2": "Belleza",
                                    "3": "Coruña",
                                    "4": "14",
                                    "5": "42.4000000000",
                                    "6": "142464.0000000000"
                                },
                                {
                                    "0": "P-0449",
                                    "1": "2019",
                                    "2": "Setas",
                                    "3": "Pontevedra",
                                    "4": "24",
                                    "5": "47.7000000000",
                                    "6": "31311.0000000000"
                                },
                                {
                                    "0": "P-0450",
                                    "1": "2019",
                                    "2": "Setas",
                                    "3": "Coruña",
                                    "4": "16",
                                    "5": "45.6000000000",
                                    "6": "34291.0000000000"
                                },
                                {
                                    "0": "P-0451",
                                    "1": "2019",
                                    "2": "Belleza",
                                    "3": "Lugo",
                                    "4": "12",
                                    "5": "43.6000000000",
                                    "6": "138648.0000000000"
                                },
                                {
                                    "0": "P-0454",
                                    "1": "2019",
                                    "2": "Belleza",
                                    "3": "Coruña",
                                    "4": "18",
                                    "5": "45.2000000000",
                                    "6": "138312.0000000000"
                                },
                                {
                                    "0": "P-0455",
                                    "1": "2019",
                                    "2": "Setas",
                                    "3": "Coruña",
                                    "4": "36",
                                    "5": "45.2000000000",
                                    "6": "33990.0000000000"
                                },
                                {
                                    "0": "P-0458",
                                    "1": "2019",
                                    "2": "Setas",
                                    "3": "Ourense",
                                    "4": "28",
                                    "5": "34.0000000000",
                                    "6": "22875.0000000000"
                                },
                                {
                                    "0": "P-0459",
                                    "1": "2019",
                                    "2": "Belleza",
                                    "3": "Coruña",
                                    "4": "11",
                                    "5": "43.2000000000",
                                    "6": "136080.0000000000"
                                },
                                {
                                    "0": "P-0460",
                                    "1": "2019",
                                    "2": "Belleza",
                                    "3": "Pontevedra",
                                    "4": "27",
                                    "5": "37.0000000000",
                                    "6": "120990.0000000000"
                                },
                                {
                                    "0": "P-0461",
                                    "1": "2019",
                                    "2": "Setas",
                                    "3": "Coruña",
                                    "4": "5",
                                    "5": "45.2000000000",
                                    "6": "33267.0000000000"
                                },
                                {
                                    "0": "P-0462",
                                    "1": "2019",
                                    "2": "Belleza",
                                    "3": "Pontevedra",
                                    "4": "25",
                                    "5": "36.3000000000",
                                    "6": "116395.0000000000"
                                },
                                {
                                    "0": "P-0463",
                                    "1": "2019",
                                    "2": "Belleza",
                                    "3": "Pontevedra",
                                    "4": "22",
                                    "5": "45.1000000000",
                                    "6": "136774.0000000000"
                                },
                                {
                                    "0": "P-0464",
                                    "1": "2019",
                                    "2": "Setas",
                                    "3": "Pontevedra",
                                    "4": "24",
                                    "5": "33.3000000000",
                                    "6": "22910.0000000000"
                                },
                                {
                                    "0": "P-0465",
                                    "1": "2019",
                                    "2": "Belleza",
                                    "3": "Coruña",
                                    "4": "20",
                                    "5": "42.0000000000",
                                    "6": "146160.0000000000"
                                },
                                {
                                    "0": "P-0467",
                                    "1": "2019",
                                    "2": "Setas",
                                    "3": "Coruña",
                                    "4": "3",
                                    "5": "42.4000000000",
                                    "6": "33581.0000000000"
                                },
                                {
                                    "0": "P-0468",
                                    "1": "2019",
                                    "2": "Setas",
                                    "3": "Coruña",
                                    "4": "6",
                                    "5": "45.6000000000",
                                    "6": "33197.0000000000"
                                },
                                {
                                    "0": "P-0469",
                                    "1": "2019",
                                    "2": "Setas",
                                    "3": "Coruña",
                                    "4": "4",
                                    "5": "45.2000000000",
                                    "6": "33629.0000000000"
                                },
                                {
                                    "0": "P-0470",
                                    "1": "2019",
                                    "2": "Belleza",
                                    "3": "Ourense",
                                    "4": "24",
                                    "5": "41.4000000000",
                                    "6": "126806.0000000000"
                                },
                                {
                                    "0": "P-0471",
                                    "1": "2019",
                                    "2": "Setas",
                                    "3": "Coruña",
                                    "4": "18",
                                    "5": "44.0000000000",
                                    "6": "33440.0000000000"
                                },
                                {
                                    "0": "P-0472",
                                    "1": "2019",
                                    "2": "Setas",
                                    "3": "Pontevedra",
                                    "4": "26",
                                    "5": "33.3000000000",
                                    "6": "22378.0000000000"
                                },
                                {
                                    "0": "P-0473",
                                    "1": "2019",
                                    "2": "Setas",
                                    "3": "Coruña",
                                    "4": "15",
                                    "5": "42.4000000000",
                                    "6": "32224.0000000000"
                                },
                                {
                                    "0": "P-0477",
                                    "1": "2019",
                                    "2": "Belleza",
                                    "3": "Lugo",
                                    "4": "7",
                                    "5": "46.0000000000",
                                    "6": "158700.0000000000"
                                },
                                {
                                    "0": "P-0480",
                                    "1": "2019",
                                    "2": "Setas",
                                    "3": "Ourense",
                                    "4": "21",
                                    "5": "36.6000000000",
                                    "6": "23736.0000000000"
                                },
                                {
                                    "0": "P-0484",
                                    "1": "2019",
                                    "2": "Setas",
                                    "3": "Pontevedra",
                                    "4": "27",
                                    "5": "42.6000000000",
                                    "6": "27232.0000000000"
                                },
                                {
                                    "0": "P-0487",
                                    "1": "2019",
                                    "2": "Setas",
                                    "3": "Pontevedra",
                                    "4": "23",
                                    "5": "33.7000000000",
                                    "6": "21279.0000000000"
                                },
                                {
                                    "0": "P-0488",
                                    "1": "2019",
                                    "2": "Belleza",
                                    "3": "Pontevedra",
                                    "4": "28",
                                    "5": "37.4000000000",
                                    "6": "124442.0000000000"
                                },
                                {
                                    "0": "P-0489",
                                    "1": "2019",
                                    "2": "Setas",
                                    "3": "Pontevedra",
                                    "4": "23",
                                    "5": "37.4000000000",
                                    "6": "23917.0000000000"
                                },
                                {
                                    "0": "P-0490",
                                    "1": "2019",
                                    "2": "Belleza",
                                    "3": "Coruña",
                                    "4": "11",
                                    "5": "42.0000000000",
                                    "6": "143640.0000000000"
                                },
                                {
                                    "0": "P-0491",
                                    "1": "2019",
                                    "2": "Setas",
                                    "3": "Pontevedra",
                                    "4": "28",
                                    "5": "39.2000000000",
                                    "6": "27611.0000000000"
                                },
                                {
                                    "0": "P-0493",
                                    "1": "2019",
                                    "2": "Belleza",
                                    "3": "Coruña",
                                    "4": "16",
                                    "5": "45.6000000000",
                                    "6": "161424.0000000000"
                                },
                                {
                                    "0": "P-0494",
                                    "1": "2019",
                                    "2": "Setas",
                                    "3": "Coruña",
                                    "4": "17",
                                    "5": "44.4000000000",
                                    "6": "32323.0000000000"
                                },
                                {
                                    "0": "P-0496",
                                    "1": "2019",
                                    "2": "Setas",
                                    "3": "Coruña",
                                    "4": "37",
                                    "5": "44.8000000000",
                                    "6": "35123.0000000000"
                                },
                                {
                                    "0": "P-0498",
                                    "1": "2019",
                                    "2": "Setas",
                                    "3": "Coruña",
                                    "4": "7",
                                    "5": "42.4000000000",
                                    "6": "32224.0000000000"
                                },
                                {
                                    "0": "P-0499",
                                    "1": "2019",
                                    "2": "Setas",
                                    "3": "Coruña",
                                    "4": "38",
                                    "5": "42.4000000000",
                                    "6": "33581.0000000000"
                                },
                                {
                                    "0": "P-0500",
                                    "1": "2019",
                                    "2": "Setas",
                                    "3": "Pontevedra",
                                    "4": "25",
                                    "5": "34.0000000000",
                                    "6": "23964.0000000000"
                                }
                            ]
                        },
                        "text/html": [
                            "<table>",
                            "<tr><th>PEDIDO_ID</th><th>FY_ID</th><th>PRODUCTO_ID</th><th>ZONA_ID</th><th>CLIENTE_ID</th><th>TONELADAS</th><th>INGRESOS_EUR</th></tr>",
                            "<tr><td>P-0001</td><td>2016</td><td>Setas</td><td>Lugo</td><td>7</td><td>31.8000000000</td><td>24677.0000000000</td></tr>",
                            "<tr><td>P-0002</td><td>2016</td><td>Setas</td><td>Ourense</td><td>27</td><td>34.5000000000</td><td>27048.0000000000</td></tr>",
                            "<tr><td>P-0003</td><td>2016</td><td>Setas</td><td>Ourense</td><td>21</td><td>38.1000000000</td><td>27432.0000000000</td></tr>",
                            "<tr><td>P-0004</td><td>2016</td><td>Setas</td><td>Ourense</td><td>26</td><td>35.7000000000</td><td>25990.0000000000</td></tr>",
                            "<tr><td>P-0005</td><td>2016</td><td>Setas</td><td>Pontevedra</td><td>25</td><td>32.7000000000</td><td>24590.0000000000</td></tr>",
                            "<tr><td>P-0006</td><td>2016</td><td>Setas</td><td>Pontevedra</td><td>24</td><td>34.8000000000</td><td>26170.0000000000</td></tr>",
                            "<tr><td>P-0007</td><td>2016</td><td>Setas</td><td>Coruña</td><td>2</td><td>33.0000000000</td><td>25344.0000000000</td></tr>",
                            "<tr><td>P-0008</td><td>2016</td><td>Setas</td><td>Lugo</td><td>9</td><td>32.4000000000</td><td>24106.0000000000</td></tr>",
                            "<tr><td>P-0009</td><td>2016</td><td>Setas</td><td>Coruña</td><td>16</td><td>32.4000000000</td><td>23846.0000000000</td></tr>",
                            "<tr><td>P-0010</td><td>2016</td><td>Setas</td><td>Ourense</td><td>21</td><td>27.9000000000</td><td>20311.0000000000</td></tr>",
                            "<tr><td>P-0011</td><td>2016</td><td>Setas</td><td>Pontevedra</td><td>28</td><td>32.7000000000</td><td>25898.0000000000</td></tr>",
                            "<tr><td>P-0013</td><td>2016</td><td>Setas</td><td>Ourense</td><td>26</td><td>33.9000000000</td><td>24408.0000000000</td></tr>",
                            "<tr><td>P-0015</td><td>2016</td><td>Setas</td><td>Coruña</td><td>8</td><td>32.1000000000</td><td>23369.0000000000</td></tr>",
                            "<tr><td>P-0016</td><td>2016</td><td>Setas</td><td>Pontevedra</td><td>25</td><td>38.1000000000</td><td>29566.0000000000</td></tr>",
                            "<tr><td>P-0017</td><td>2016</td><td>Setas</td><td>Pontevedra</td><td>21</td><td>35.4000000000</td><td>28037.0000000000</td></tr>",
                            "<tr><td>P-0021</td><td>2016</td><td>Setas</td><td>Pontevedra</td><td>26</td><td>28.5000000000</td><td>21660.0000000000</td></tr>",
                            "<tr><td>P-0024</td><td>2016</td><td>Setas</td><td>Coruña</td><td>2</td><td>32.7000000000</td><td>25637.0000000000</td></tr>",
                            "<tr><td>P-0025</td><td>2016</td><td>Setas</td><td>Coruña</td><td>1</td><td>33.6000000000</td><td>26880.0000000000</td></tr>",
                            "<tr><td>P-0026</td><td>2016</td><td>Setas</td><td>Pontevedra</td><td>27</td><td>27.6000000000</td><td>21197.0000000000</td></tr>",
                            "<tr><td>P-0027</td><td>2016</td><td>Setas</td><td>Ourense</td><td>24</td><td>34.2000000000</td><td>25171.0000000000</td></tr>",
                            "<tr><td>P-0028</td><td>2016</td><td>Setas</td><td>Pontevedra</td><td>27</td><td>31.8000000000</td><td>24677.0000000000</td></tr>",
                            "<tr><td>P-0031</td><td>2016</td><td>Setas</td><td>Coruña</td><td>8</td><td>33.9000000000</td><td>26306.0000000000</td></tr>",
                            "<tr><td>P-0032</td><td>2016</td><td>Setas</td><td>Ourense</td><td>21</td><td>35.4000000000</td><td>25771.0000000000</td></tr>",
                            "<tr><td>P-0034</td><td>2016</td><td>Setas</td><td>Coruña</td><td>9</td><td>32.4000000000</td><td>23587.0000000000</td></tr>",
                            "<tr><td>P-0035</td><td>2016</td><td>Setas</td><td>Coruña</td><td>14</td><td>33.3000000000</td><td>24775.0000000000</td></tr>",
                            "<tr><td>P-0036</td><td>2016</td><td>Setas</td><td>Pontevedra</td><td>26</td><td>30.6000000000</td><td>22277.0000000000</td></tr>",
                            "<tr><td>P-0038</td><td>2016</td><td>Setas</td><td>Pontevedra</td><td>23</td><td>32.7000000000</td><td>24590.0000000000</td></tr>",
                            "<tr><td>P-0039</td><td>2016</td><td>Setas</td><td>Coruña</td><td>16</td><td>33.6000000000</td><td>24461.0000000000</td></tr>",
                            "<tr><td>P-0040</td><td>2016</td><td>Setas</td><td>Pontevedra</td><td>26</td><td>34.2000000000</td><td>27086.0000000000</td></tr>",
                            "<tr><td>P-0043</td><td>2016</td><td>Setas</td><td>Lugo</td><td>19</td><td>31.8000000000</td><td>23659.0000000000</td></tr>",
                            "<tr><td>P-0044</td><td>2016</td><td>Setas</td><td>Ourense</td><td>28</td><td>31.2000000000</td><td>24710.0000000000</td></tr>",
                            "<tr><td>P-0045</td><td>2016</td><td>Setas</td><td>Pontevedra</td><td>22</td><td>31.5000000000</td><td>22932.0000000000</td></tr>",
                            "<tr><td>P-0047</td><td>2016</td><td>Setas</td><td>Pontevedra</td><td>26</td><td>27.0000000000</td><td>21384.0000000000</td></tr>",
                            "<tr><td>P-0048</td><td>2016</td><td>Setas</td><td>Pontevedra</td><td>22</td><td>27.6000000000</td><td>20976.0000000000</td></tr>",
                            "<tr><td>P-0050-A</td><td>2016</td><td>Belleza</td><td>Coruña</td><td>23</td><td>31.5000000000</td><td>99225.0000000000</td></tr>",
                            "<tr><td>P-0052</td><td>2017</td><td>Setas</td><td>Lugo</td><td>18</td><td>39.2000000000</td><td>31360.0000000000</td></tr>",
                            "<tr><td>P-0053</td><td>2017</td><td>Setas</td><td>Coruña</td><td>8</td><td>37.1000000000</td><td>29086.0000000000</td></tr>",
                            "<tr><td>P-0054</td><td>2017</td><td>Belleza</td><td>Pontevedra</td><td>28</td><td>44.1000000000</td><td>148176.0000000000</td></tr>",
                            "<tr><td>P-0055</td><td>2017</td><td>Setas</td><td>Coruña</td><td>16</td><td>39.9000000000</td><td>30324.0000000000</td></tr>",
                            "<tr><td>P-0056</td><td>2017</td><td>Setas</td><td>Ourense</td><td>25</td><td>41.3000000000</td><td>31388.0000000000</td></tr>",
                            "<tr><td>P-0058</td><td>2017</td><td>Setas</td><td>Pontevedra</td><td>22</td><td>44.5000000000</td><td>33426.0000000000</td></tr>",
                            "<tr><td>P-0061</td><td>2017</td><td>Setas</td><td>Coruña</td><td>7</td><td>37.5000000000</td><td>29361.0000000000</td></tr>",
                            "<tr><td>P-0062</td><td>2017</td><td>Setas</td><td>Pontevedra</td><td>26</td><td>40.6000000000</td><td>28582.0000000000</td></tr>",
                            "<tr><td>P-0064</td><td>2017</td><td>Setas</td><td>Pontevedra</td><td>27</td><td>35.4000000000</td><td>25452.0000000000</td></tr>",
                            "<tr><td>P-0065</td><td>2017</td><td>Setas</td><td>Pontevedra</td><td>24</td><td>38.9000000000</td><td>29215.0000000000</td></tr>",
                            "<tr><td>P-0066</td><td>2017</td><td>Setas</td><td>Ourense</td><td>25</td><td>34.3000000000</td><td>23873.0000000000</td></tr>",
                            "<tr><td>P-0068</td><td>2017</td><td>Belleza</td><td>Pontevedra</td><td>25</td><td>33.6000000000</td><td>106848.0000000000</td></tr>",
                            "<tr><td>P-0070</td><td>2017</td><td>Setas</td><td>Ourense</td><td>22</td><td>44.5000000000</td><td>31648.0000000000</td></tr>",
                            "<tr><td>P-0071</td><td>2017</td><td>Setas</td><td>Lugo</td><td>16</td><td>39.9000000000</td><td>31282.0000000000</td></tr>",
                            "<tr><td>P-0072</td><td>2017</td><td>Belleza</td><td>Pontevedra</td><td>27</td><td>35.0000000000</td><td>110250.0000000000</td></tr>",
                            "<tr><td>P-0073</td><td>2017</td><td>Setas</td><td>Pontevedra</td><td>27</td><td>35.7000000000</td><td>24562.0000000000</td></tr>",
                            "<tr><td>P-0076</td><td>2017</td><td>Belleza</td><td>Coruña</td><td>18</td><td>37.1000000000</td><td>132447.0000000000</td></tr>",
                            "<tr><td>P-0079</td><td>2017</td><td>Setas</td><td>Ourense</td><td>23</td><td>43.8000000000</td><td>32550.0000000000</td></tr>",
                            "<tr><td>P-0084</td><td>2017</td><td>Setas</td><td>Pontevedra</td><td>28</td><td>33.6000000000</td><td>25267.0000000000</td></tr>",
                            "<tr><td>P-0087</td><td>2017</td><td>Setas</td><td>Pontevedra</td><td>26</td><td>43.1000000000</td><td>29963.0000000000</td></tr>",
                            "<tr><td>P-0088</td><td>2017</td><td>Belleza</td><td>Pontevedra</td><td>28</td><td>43.4000000000</td><td>138012.0000000000</td></tr>",
                            "<tr><td>P-0090</td><td>2017</td><td>Setas</td><td>Coruña</td><td>12</td><td>37.5000000000</td><td>29660.0000000000</td></tr>",
                            "<tr><td>P-0091</td><td>2017</td><td>Belleza</td><td>Coruña</td><td>18</td><td>39.6000000000</td><td>128142.0000000000</td></tr>",
                            "<tr><td>P-0093</td><td>2017</td><td>Belleza</td><td>Coruña</td><td>39</td><td>39.2000000000</td><td>141120.0000000000</td></tr>",
                            "<tr><td>P-0096</td><td>2017</td><td>Setas</td><td>Lugo</td><td>11</td><td>37.5000000000</td><td>28162.0000000000</td></tr>",
                            "<tr><td>P-0097</td><td>2017</td><td>Setas</td><td>Pontevedra</td><td>23</td><td>37.1000000000</td><td>27899.0000000000</td></tr>",
                            "<tr><td>P-0098</td><td>2017</td><td>Setas</td><td>Coruña</td><td>17</td><td>39.2000000000</td><td>31360.0000000000</td></tr>",
                            "<tr><td>P-0100</td><td>2017</td><td>Setas</td><td>Pontevedra</td><td>21</td><td>39.6000000000</td><td>30058.0000000000</td></tr>",
                            "<tr><td>P-0101</td><td>2017</td><td>Setas</td><td>Lugo</td><td>5</td><td>38.9000000000</td><td>30769.0000000000</td></tr>",
                            "<tr><td>P-0103</td><td>2017</td><td>Setas</td><td>Coruña</td><td>14</td><td>39.9000000000</td><td>29366.0000000000</td></tr>",
                            "<tr><td>P-0104</td><td>2017</td><td>Setas</td><td>Pontevedra</td><td>22</td><td>36.8000000000</td><td>27636.0000000000</td></tr>",
                            "<tr><td>P-0106</td><td>2017</td><td>Belleza</td><td>Coruña</td><td>6</td><td>37.1000000000</td><td>122430.0000000000</td></tr>",
                            "<tr><td>P-0107</td><td>2017</td><td>Belleza</td><td>Pontevedra</td><td>28</td><td>39.6000000000</td><td>129329.0000000000</td></tr>",
                            "<tr><td>P-0108</td><td>2017</td><td>Setas</td><td>Pontevedra</td><td>23</td><td>32.6000000000</td><td>24217.0000000000</td></tr>",
                            "<tr><td>P-0110</td><td>2017</td><td>Setas</td><td>Pontevedra</td><td>26</td><td>36.1000000000</td><td>26244.0000000000</td></tr>",
                            "<tr><td>P-0113</td><td>2017</td><td>Setas</td><td>Coruña</td><td>15</td><td>37.5000000000</td><td>27264.0000000000</td></tr>",
                            "<tr><td>P-0114</td><td>2017</td><td>Setas</td><td>Pontevedra</td><td>25</td><td>37.5000000000</td><td>25466.0000000000</td></tr>",
                            "<tr><td>P-0115</td><td>2017</td><td>Belleza</td><td>Coruña</td><td>20</td><td>39.2000000000</td><td>135240.0000000000</td></tr>",
                            "<tr><td>P-0116</td><td>2017</td><td>Setas</td><td>Pontevedra</td><td>26</td><td>44.5000000000</td><td>32004.0000000000</td></tr>",
                            "<tr><td>P-0117</td><td>2017</td><td>Belleza</td><td>Lugo</td><td>13</td><td>38.5000000000</td><td>136290.0000000000</td></tr>",
                            "<tr><td>P-0118</td><td>2017</td><td>Setas</td><td>Lugo</td><td>11</td><td>37.5000000000</td><td>26964.0000000000</td></tr>",
                            "<tr><td>P-0120</td><td>2017</td><td>Setas</td><td>Pontevedra</td><td>23</td><td>32.2000000000</td><td>22411.0000000000</td></tr>",
                            "<tr><td>P-0121</td><td>2017</td><td>Setas</td><td>Pontevedra</td><td>21</td><td>45.5000000000</td><td>34580.0000000000</td></tr>",
                            "<tr><td>P-0125</td><td>2017</td><td>Setas</td><td>Pontevedra</td><td>25</td><td>44.5000000000</td><td>32715.0000000000</td></tr>",
                            "<tr><td>P-0126</td><td>2017</td><td>Belleza</td><td>Pontevedra</td><td>25</td><td>44.5000000000</td><td>140018.0000000000</td></tr>",
                            "<tr><td>P-0129</td><td>2017</td><td>Setas</td><td>Pontevedra</td><td>26</td><td>35.0000000000</td><td>25480.0000000000</td></tr>",
                            "<tr><td>P-0131</td><td>2017</td><td>Setas</td><td>Lugo</td><td>6</td><td>37.1000000000</td><td>29383.0000000000</td></tr>",
                            "<tr><td>P-0133</td><td>2017</td><td>Setas</td><td>Coruña</td><td>12</td><td>38.5000000000</td><td>29876.0000000000</td></tr>",
                            "<tr><td>P-0135</td><td>2017</td><td>Belleza</td><td>Ourense</td><td>25</td><td>42.0000000000</td><td>138600.0000000000</td></tr>",
                            "<tr><td>P-0136</td><td>2017</td><td>Setas</td><td>Pontevedra</td><td>28</td><td>32.9000000000</td><td>22635.0000000000</td></tr>",
                            "<tr><td>P-0138</td><td>2017</td><td>Setas</td><td>Pontevedra</td><td>25</td><td>37.1000000000</td><td>26118.0000000000</td></tr>",
                            "<tr><td>P-0139</td><td>2017</td><td>Setas</td><td>Coruña</td><td>14</td><td>39.2000000000</td><td>31046.0000000000</td></tr>",
                            "<tr><td>P-0140</td><td>2017</td><td>Setas</td><td>Pontevedra</td><td>23</td><td>45.2000000000</td><td>31063.0000000000</td></tr>",
                            "<tr><td>P-0142</td><td>2017</td><td>Setas</td><td>Pontevedra</td><td>28</td><td>42.4000000000</td><td>29137.0000000000</td></tr>",
                            "<tr><td>P-0143</td><td>2017</td><td>Belleza</td><td>Pontevedra</td><td>23</td><td>31.9000000000</td><td>106061.0000000000</td></tr>",
                            "<tr><td>P-0144</td><td>2017</td><td>Setas</td><td>Coruña</td><td>19</td><td>38.5000000000</td><td>30184.0000000000</td></tr>",
                            "<tr><td>P-0146</td><td>2017</td><td>Setas</td><td>Coruña</td><td>16</td><td>38.5000000000</td><td>28952.0000000000</td></tr>",
                            "<tr><td>P-0147</td><td>2017</td><td>Setas</td><td>Pontevedra</td><td>27</td><td>43.1000000000</td><td>30652.0000000000</td></tr>",
                            "<tr><td>P-0150</td><td>2017</td><td>Setas</td><td>Pontevedra</td><td>26</td><td>37.8000000000</td><td>26611.0000000000</td></tr>",
                            "<tr><td>P-0151</td><td>2018</td><td>Setas</td><td>Coruña</td><td>10</td><td>42.9000000000</td><td>32291.0000000000</td></tr>",
                            "<tr><td>P-0152</td><td>2018</td><td>Setas</td><td>Lugo</td><td>19</td><td>42.9000000000</td><td>31947.0000000000</td></tr>",
                            "<tr><td>P-0153</td><td>2018</td><td>Setas</td><td>Coruña</td><td>2</td><td>39.9000000000</td><td>31920.0000000000</td></tr>",
                            "<tr><td>P-0154</td><td>2018</td><td>Setas</td><td>Pontevedra</td><td>27</td><td>39.6000000000</td><td>29462.0000000000</td></tr>",
                            "<tr><td>P-0155</td><td>2018</td><td>Setas</td><td>Pontevedra</td><td>24</td><td>41.4000000000</td><td>29477.0000000000</td></tr>",
                            "<tr><td>P-0156</td><td>2018</td><td>Setas</td><td>Coruña</td><td>29</td><td>43.3000000000</td><td>31190.0000000000</td></tr>",
                            "<tr><td>P-0157</td><td>2018</td><td>Setas</td><td>Pontevedra</td><td>22</td><td>36.7000000000</td><td>27613.0000000000</td></tr>",
                            "<tr><td>P-0158</td><td>2018</td><td>Setas</td><td>Coruña</td><td>11</td><td>40.7000000000</td><td>30902.0000000000</td></tr>",
                            "<tr><td>P-0159</td><td>2018</td><td>Setas</td><td>Pontevedra</td><td>21</td><td>45.0000000000</td><td>33840.0000000000</td></tr>",
                            "<tr><td>P-0160</td><td>2018</td><td>Belleza</td><td>Coruña</td><td>6</td><td>39.9000000000</td><td>124488.0000000000</td></tr>",
                            "<tr><td>P-0162</td><td>2018</td><td>Setas</td><td>Pontevedra</td><td>27</td><td>180.0000000000</td><td>115200.0000000000</td></tr>",
                            "<tr><td>P-0164</td><td>2018</td><td>Setas</td><td>Ourense</td><td>21</td><td>37.4000000000</td><td>28454.0000000000</td></tr>",
                            "<tr><td>P-0165</td><td>2018</td><td>Setas</td><td>Ourense</td><td>24</td><td>39.2000000000</td><td>27939.0000000000</td></tr>",
                            "<tr><td>P-0168</td><td>2018</td><td>Setas</td><td>Pontevedra</td><td>24</td><td>33.5000000000</td><td>23302.0000000000</td></tr>",
                            "<tr><td>P-0169</td><td>2018</td><td>Setas</td><td>Pontevedra</td><td>24</td><td>39.2000000000</td><td>29822.0000000000</td></tr>",
                            "<tr><td>P-0170</td><td>2018</td><td>Setas</td><td>Ourense</td><td>24</td><td>42.1000000000</td><td>30326.0000000000</td></tr>",
                            "<tr><td>P-0173</td><td>2018</td><td>Belleza</td><td>Coruña</td><td>11</td><td>42.6000000000</td><td>136618.0000000000</td></tr>",
                            "<tr><td>P-0175</td><td>2018</td><td>Setas</td><td>Ourense</td><td>28</td><td>45.4000000000</td><td>33748.0000000000</td></tr>",
                            "<tr><td>P-0176</td><td>2018</td><td>Setas</td><td>Pontevedra</td><td>27</td><td>36.0000000000</td><td>26496.0000000000</td></tr>",
                            "<tr><td>P-0177</td><td>2018</td><td>Setas</td><td>Coruña</td><td>17</td><td>42.2000000000</td><td>30370.0000000000</td></tr>",
                            "<tr><td>P-0179</td><td>2018</td><td>Setas</td><td>Pontevedra</td><td>22</td><td>36.4000000000</td><td>25307.0000000000</td></tr>",
                            "<tr><td>P-0180</td><td>2018</td><td>Setas</td><td>Coruña</td><td>9</td><td>43.3000000000</td><td>32230.0000000000</td></tr>",
                            "<tr><td>P-0181</td><td>2018</td><td>Setas</td><td>Ourense</td><td>28</td><td>43.2000000000</td><td>30758.0000000000</td></tr>",
                            "<tr><td>P-0183</td><td>2018</td><td>Setas</td><td>Coruña</td><td>30</td><td>42.2000000000</td><td>31719.0000000000</td></tr>",
                            "<tr><td>P-0185</td><td>2018</td><td>Belleza</td><td>Pontevedra</td><td>21</td><td>36.0000000000</td><td>120960.0000000000</td></tr>",
                            "<tr><td>P-0188</td><td>2018</td><td>Setas</td><td>Coruña</td><td>8</td><td>42.9000000000</td><td>31260.0000000000</td></tr>",
                            "<tr><td>P-0189</td><td>2018</td><td>Setas</td><td>Pontevedra</td><td>27</td><td>40.0000000000</td><td>28771.0000000000</td></tr>",
                            "<tr><td>P-0190</td><td>2018</td><td>Setas</td><td>Pontevedra</td><td>28</td><td>38.2000000000</td><td>27780.0000000000</td></tr>",
                            "<tr><td>P-0191</td><td>2018</td><td>Belleza</td><td>Ourense</td><td>23</td><td>43.2000000000</td><td>129600.0000000000</td></tr>",
                            "<tr><td>P-0193</td><td>2018</td><td>Belleza</td><td>Pontevedra</td><td>23</td><td>43.6000000000</td><td>133294.0000000000</td></tr>",
                            "<tr><td>P-0194</td><td>2018</td><td>Setas</td><td>Coruña</td><td>19</td><td>41.8000000000</td><td>31434.0000000000</td></tr>",
                            "<tr><td>P-0195</td><td>2018</td><td>Setas</td><td>Pontevedra</td><td>27</td><td>324.0000000000</td><td>207360.0000000000</td></tr>",
                            "<tr><td>P-0198</td><td>2018</td><td>Setas</td><td>Coruña</td><td>17</td><td>42.2000000000</td><td>30707.0000000000</td></tr>",
                            "<tr><td>P-0199</td><td>2018</td><td>Setas</td><td>Coruña</td><td>6</td><td>40.7000000000</td><td>32528.0000000000</td></tr>",
                            "<tr><td>P-0200</td><td>2018</td><td>Setas</td><td>Pontevedra</td><td>28</td><td>42.8000000000</td><td>31188.0000000000</td></tr>",
                            "<tr><td>P-0201</td><td>2018</td><td>Setas</td><td>Pontevedra</td><td>21</td><td>41.0000000000</td><td>27907.0000000000</td></tr>",
                            "<tr><td>P-0203</td><td>2018</td><td>Setas</td><td>Coruña</td><td>16</td><td>40.7000000000</td><td>31552.0000000000</td></tr>",
                            "<tr><td>P-0204</td><td>2018</td><td>Setas</td><td>Coruña</td><td>10</td><td>40.3000000000</td><td>31902.0000000000</td></tr>",
                            "<tr><td>P-0206</td><td>2018</td><td>Setas</td><td>Pontevedra</td><td>25</td><td>41.8000000000</td><td>29733.0000000000</td></tr>",
                            "<tr><td>P-0207</td><td>2018</td><td>Setas</td><td>Pontevedra</td><td>25</td><td>33.5000000000</td><td>23302.0000000000</td></tr>",
                            "<tr><td>P-0210</td><td>2018</td><td>Belleza</td><td>Lugo</td><td>16</td><td>39.9000000000</td><td>135261.0000000000</td></tr>",
                            "<tr><td>P-0212</td><td>2018</td><td>Setas</td><td>Pontevedra</td><td>28</td><td>38.5000000000</td><td>26502.0000000000</td></tr>",
                            "<tr><td>P-0213</td><td>2018</td><td>Belleza</td><td>Ourense</td><td>25</td><td>41.0000000000</td><td>129276.0000000000</td></tr>",
                            "<tr><td>P-0215</td><td>2018</td><td>Setas</td><td>Coruña</td><td>6</td><td>42.2000000000</td><td>31382.0000000000</td></tr>",
                            "<tr><td>P-0216</td><td>2018</td><td>Setas</td><td>Pontevedra</td><td>25</td><td>35.6000000000</td><td>25376.0000000000</td></tr>",
                            "<tr><td>P-0217</td><td>2018</td><td>Setas</td><td>Pontevedra</td><td>22</td><td>34.6000000000</td><td>23777.0000000000</td></tr>",
                            "<tr><td>P-0219</td><td>2018</td><td>Setas</td><td>Ourense</td><td>27</td><td>33.1000000000</td><td>24376.0000000000</td></tr>",
                            "<tr><td>P-0220</td><td>2018</td><td>Setas</td><td>Pontevedra</td><td>21</td><td>36.4000000000</td><td>26761.0000000000</td></tr>",
                            "<tr><td>P-0221</td><td>2018</td><td>Setas</td><td>Pontevedra</td><td>22</td><td>180.0000000000</td><td>123840.0000000000</td></tr>",
                            "<tr><td>P-0222</td><td>2018</td><td>Setas</td><td>Coruña</td><td>31</td><td>39.9000000000</td><td>29047.0000000000</td></tr>",
                            "<tr><td>P-0224</td><td>2018</td><td>Belleza</td><td>Coruña</td><td>18</td><td>42.9000000000</td><td>144278.0000000000</td></tr>",
                            "<tr><td>P-0225</td><td>2018</td><td>Setas</td><td>Ourense</td><td>25</td><td>180.0000000000</td><td>123840.0000000000</td></tr>",
                            "<tr><td>P-0226</td><td>2018</td><td>Setas</td><td>Coruña</td><td>16</td><td>40.7000000000</td><td>32203.0000000000</td></tr>",
                            "<tr><td>P-0227</td><td>2018</td><td>Belleza</td><td>Coruña</td><td>40</td><td>40.3000000000</td><td>142591.0000000000</td></tr>",
                            "<tr><td>P-0229</td><td>2018</td><td>Belleza</td><td>Pontevedra</td><td>25</td><td>42.8000000000</td><td>140087.0000000000</td></tr>",
                            "<tr><td>P-0230</td><td>2018</td><td>Setas</td><td>Lugo</td><td>17</td><td>43.7000000000</td><td>34960.0000000000</td></tr>",
                            "<tr><td>P-0232</td><td>2018</td><td>Setas</td><td>Pontevedra</td><td>27</td><td>36.0000000000</td><td>26784.0000000000</td></tr>",
                            "<tr><td>P-0234</td><td>2018</td><td>Setas</td><td>Pontevedra</td><td>28</td><td>37.1000000000</td><td>26401.0000000000</td></tr>",
                            "<tr><td>P-0235</td><td>2018</td><td>Setas</td><td>Pontevedra</td><td>24</td><td>180.0000000000</td><td>126720.0000000000</td></tr>",
                            "<tr><td>P-0238</td><td>2018</td><td>Setas</td><td>Coruña</td><td>14</td><td>42.9000000000</td><td>31260.0000000000</td></tr>",
                            "<tr><td>P-0239</td><td>2018</td><td>Setas</td><td>Ourense</td><td>22</td><td>45.7000000000</td><td>32918.0000000000</td></tr>",
                            "<tr><td>P-0243</td><td>2018</td><td>Setas</td><td>Coruña</td><td>6</td><td>40.3000000000</td><td>29324.0000000000</td></tr>",
                            "<tr><td>P-0244</td><td>2018</td><td>Setas</td><td>Pontevedra</td><td>22</td><td>40.0000000000</td><td>29411.0000000000</td></tr>",
                            "<tr><td>P-0245</td><td>2018</td><td>Setas</td><td>Ourense</td><td>26</td><td>34.6000000000</td><td>24330.0000000000</td></tr>",
                            "<tr><td>P-0247</td><td>2018</td><td>Setas</td><td>Coruña</td><td>10</td><td>41.8000000000</td><td>31434.0000000000</td></tr>",
                            "<tr><td>P-0249</td><td>2018</td><td>Setas</td><td>Pontevedra</td><td>21</td><td>36.0000000000</td><td>25344.0000000000</td></tr>",
                            "<tr><td>P-0250</td><td>2018</td><td>Setas</td><td>Pontevedra</td><td>21</td><td>35.3000000000</td><td>25402.0000000000</td></tr>",
                            "<tr><td>P-0252</td><td>2018</td><td>Belleza</td><td>Lugo</td><td>20</td><td>43.7000000000</td><td>141588.0000000000</td></tr>",
                            "<tr><td>P-0253</td><td>2018</td><td>Belleza</td><td>Coruña</td><td>41</td><td>41.0000000000</td><td>134201.0000000000</td></tr>",
                            "<tr><td>P-0255</td><td>2018</td><td>Setas</td><td>Pontevedra</td><td>23</td><td>32.8000000000</td><td>22801.0000000000</td></tr>",
                            "<tr><td>P-0256</td><td>2018</td><td>Belleza</td><td>Coruña</td><td>12</td><td>42.9000000000</td><td>136549.0000000000</td></tr>",
                            "<tr><td>P-0257</td><td>2018</td><td>Setas</td><td>Ourense</td><td>25</td><td>35.3000000000</td><td>23990.0000000000</td></tr>",
                            "<tr><td>P-0258</td><td>2018</td><td>Setas</td><td>Coruña</td><td>11</td><td>39.9000000000</td><td>29366.0000000000</td></tr>",
                            "<tr><td>P-0259</td><td>2018</td><td>Setas</td><td>Ourense</td><td>27</td><td>46.4000000000</td><td>32322.0000000000</td></tr>",
                            "<tr><td>P-0260</td><td>2018</td><td>Setas</td><td>Lugo</td><td>17</td><td>40.3000000000</td><td>30935.0000000000</td></tr>",
                            "<tr><td>P-0261</td><td>2018</td><td>Setas</td><td>Pontevedra</td><td>27</td><td>44.6000000000</td><td>33926.0000000000</td></tr>",
                            "<tr><td>P-0264</td><td>2018</td><td>Belleza</td><td>Pontevedra</td><td>28</td><td>35.6000000000</td><td>107989.0000000000</td></tr>",
                            "<tr><td>P-0267</td><td>2018</td><td>Setas</td><td>Coruña</td><td>17</td><td>41.0000000000</td><td>29877.0000000000</td></tr>",
                            "<tr><td>P-0268</td><td>2018</td><td>Setas</td><td>Coruña</td><td>12</td><td>41.0000000000</td><td>31847.0000000000</td></tr>",
                            "<tr><td>P-0269</td><td>2018</td><td>Setas</td><td>Pontevedra</td><td>22</td><td>42.5000000000</td><td>31605.0000000000</td></tr>",
                            "<tr><td>P-0271</td><td>2018</td><td>Setas</td><td>Ourense</td><td>25</td><td>36.7000000000</td><td>26732.0000000000</td></tr>",
                            "<tr><td>P-0274</td><td>2018</td><td>Setas</td><td>Pontevedra</td><td>21</td><td>39.6000000000</td><td>27245.0000000000</td></tr>",
                            "<tr><td>P-0276</td><td>2018</td><td>Setas</td><td>Pontevedra</td><td>25</td><td>43.9000000000</td><td>31622.0000000000</td></tr>",
                            "<tr><td>P-0278</td><td>2018</td><td>Setas</td><td>Pontevedra</td><td>27</td><td>38.5000000000</td><td>27734.0000000000</td></tr>",
                            "<tr><td>P-0279</td><td>2018</td><td>Setas</td><td>Pontevedra</td><td>26</td><td>37.4000000000</td><td>25759.0000000000</td></tr>",
                            "<tr><td>P-0280</td><td>2018</td><td>Setas</td><td>Ourense</td><td>21</td><td>36.7000000000</td><td>27613.0000000000</td></tr>",
                            "<tr><td>P-0281</td><td>2018</td><td>Setas</td><td>Pontevedra</td><td>21</td><td>35.3000000000</td><td>24273.0000000000</td></tr>",
                            "<tr><td>P-0283</td><td>2018</td><td>Setas</td><td>Pontevedra</td><td>27</td><td>46.4000000000</td><td>34923.0000000000</td></tr>",
                            "<tr><td>P-0284</td><td>2018</td><td>Belleza</td><td>Pontevedra</td><td>22</td><td>45.4000000000</td><td>142884.0000000000</td></tr>",
                            "<tr><td>P-0285</td><td>2018</td><td>Setas</td><td>Lugo</td><td>3</td><td>43.3000000000</td><td>31190.0000000000</td></tr>",
                            "<tr><td>P-0286</td><td>2018</td><td>Belleza</td><td>Coruña</td><td>16</td><td>43.3000000000</td><td>145555.0000000000</td></tr>",
                            "<tr><td>P-0287</td><td>2018</td><td>Setas</td><td>Pontevedra</td><td>26</td><td>32.8000000000</td><td>24898.0000000000</td></tr>",
                            "<tr><td>P-0292</td><td>2018</td><td>Belleza</td><td>Coruña</td><td>4</td><td>42.9000000000</td><td>144278.0000000000</td></tr>",
                            "<tr><td>P-0293</td><td>2018</td><td>Setas</td><td>Pontevedra</td><td>23</td><td>38.2000000000</td><td>28391.0000000000</td></tr>",
                            "<tr><td>P-0294</td><td>2018</td><td>Setas</td><td>Ourense</td><td>21</td><td>33.5000000000</td><td>25177.0000000000</td></tr>",
                            "<tr><td>P-0301</td><td>2018</td><td>Setas</td><td>Ourense</td><td>21</td><td>42.1000000000</td><td>30663.0000000000</td></tr>",
                            "<tr><td>P-0302</td><td>2019</td><td>Setas</td><td>Coruña</td><td>17</td><td>42.8000000000</td><td>32870.0000000000</td></tr>",
                            "<tr><td>P-0303</td><td>2019</td><td>Setas</td><td>Coruña</td><td>11</td><td>45.2000000000</td><td>34352.0000000000</td></tr>",
                            "<tr><td>P-0304</td><td>2019</td><td>Setas</td><td>Ourense</td><td>28</td><td>41.4000000000</td><td>26522.0000000000</td></tr>",
                            "<tr><td>P-0306</td><td>2019</td><td>Setas</td><td>Ourense</td><td>24</td><td>33.3000000000</td><td>21312.0000000000</td></tr>",
                            "<tr><td>P-0313</td><td>2019</td><td>Setas</td><td>Coruña</td><td>2</td><td>46.0000000000</td><td>35696.0000000000</td></tr>",
                            "<tr><td>P-0314</td><td>2019</td><td>Setas</td><td>Pontevedra</td><td>26</td><td>47.4000000000</td><td>31447.0000000000</td></tr>",
                            "<tr><td>P-0315</td><td>2019</td><td>Setas</td><td>Pontevedra</td><td>25</td><td>41.4000000000</td><td>27516.0000000000</td></tr>",
                            "<tr><td>P-0316</td><td>2019</td><td>Setas</td><td>Ourense</td><td>24</td><td>43.3000000000</td><td>30130.0000000000</td></tr>",
                            "<tr><td>P-0317</td><td>2019</td><td>Setas</td><td>Lugo</td><td>9</td><td>42.0000000000</td><td>31920.0000000000</td></tr>",
                            "<tr><td>P-0320</td><td>2019</td><td>Setas</td><td>Coruña</td><td>32</td><td>43.2000000000</td><td>33869.0000000000</td></tr>",
                            "<tr><td>P-0321</td><td>2019</td><td>Setas</td><td>Pontevedra</td><td>22</td><td>33.3000000000</td><td>21312.0000000000</td></tr>",
                            "<tr><td>P-0323</td><td>2019</td><td>Setas</td><td>Ourense</td><td>23</td><td>45.5000000000</td><td>30583.0000000000</td></tr>",
                            "<tr><td>P-0325</td><td>2019</td><td>Setas</td><td>Pontevedra</td><td>27</td><td>40.3000000000</td><td>25811.0000000000</td></tr>",
                            "<tr><td>P-0326</td><td>2019</td><td>Setas</td><td>Coruña</td><td>11</td><td>42.8000000000</td><td>32186.0000000000</td></tr>",
                            "<tr><td>P-0328</td><td>2019</td><td>Setas</td><td>Pontevedra</td><td>21</td><td>42.6000000000</td><td>28253.0000000000</td></tr>",
                            "<tr><td>P-0329</td><td>2019</td><td>Setas</td><td>Coruña</td><td>20</td><td>42.0000000000</td><td>31248.0000000000</td></tr>",
                            "<tr><td>P-0330</td><td>2019</td><td>Setas</td><td>Pontevedra</td><td>23</td><td>41.1000000000</td><td>26285.0000000000</td></tr>",
                            "<tr><td>P-0331</td><td>2019</td><td>Belleza</td><td>Coruña</td><td>13</td><td>45.2000000000</td><td>146448.0000000000</td></tr>",
                            "<tr><td>P-0332</td><td>2019</td><td>Setas</td><td>Ourense</td><td>22</td><td>35.2000000000</td><td>24746.0000000000</td></tr>",
                            "<tr><td>P-0336</td><td>2019</td><td>Setas</td><td>Ourense</td><td>24</td><td>259.0000000000</td><td>161616.0000000000</td></tr>",
                            "<tr><td>P-0337</td><td>2019</td><td>Setas</td><td>Pontevedra</td><td>27</td><td>37.7000000000</td><td>25663.0000000000</td></tr>",
                            "<tr><td>P-0342</td><td>2019</td><td>Setas</td><td>Pontevedra</td><td>21</td><td>37.4000000000</td><td>25412.0000000000</td></tr>",
                            "<tr><td>P-0343</td><td>2019</td><td>Setas</td><td>Coruña</td><td>18</td><td>43.2000000000</td><td>34214.0000000000</td></tr>",
                            "<tr><td>P-0345</td><td>2019</td><td>Belleza</td><td>Pontevedra</td><td>21</td><td>36.6000000000</td><td>121978.0000000000</td></tr>",
                            "<tr><td>P-0346</td><td>2019</td><td>Belleza</td><td>Ourense</td><td>28</td><td>38.1000000000</td><td>125763.0000000000</td></tr>",
                            "<tr><td>P-0349</td><td>2019</td><td>Setas</td><td>Ourense</td><td>27</td><td>47.7000000000</td><td>31693.0000000000</td></tr>",
                            "<tr><td>P-0350</td><td>2019</td><td>Belleza</td><td>Ourense</td><td>26</td><td>45.9000000000</td><td>141769.0000000000</td></tr>",
                            "<tr><td>P-0352</td><td>2019</td><td>Setas</td><td>Pontevedra</td><td>27</td><td>296.0000000000</td><td>184704.0000000000</td></tr>",
                            "<tr><td>P-0353</td><td>2019</td><td>Setas</td><td>Pontevedra</td><td>22</td><td>42.2000000000</td><td>29020.0000000000</td></tr>",
                            "<tr><td>P-0354</td><td>2019</td><td>Belleza</td><td>Pontevedra</td><td>21</td><td>33.7000000000</td><td>111111.0000000000</td></tr>",
                            "<tr><td>P-0355</td><td>2019</td><td>Setas</td><td>Coruña</td><td>5</td><td>43.6000000000</td><td>34880.0000000000</td></tr>",
                            "<tr><td>P-0357</td><td>2019</td><td>Setas</td><td>Lugo</td><td>7</td><td>45.2000000000</td><td>33990.0000000000</td></tr>",
                            "<tr><td>P-0359</td><td>2019</td><td>Setas</td><td>Ourense</td><td>21</td><td>37.7000000000</td><td>25663.0000000000</td></tr>",
                            "<tr><td>P-0360</td><td>2019</td><td>Setas</td><td>Pontevedra</td><td>23</td><td>333.0000000000</td><td>213120.0000000000</td></tr>",
                            "<tr><td>P-0361</td><td>2019</td><td>Setas</td><td>Pontevedra</td><td>22</td><td>42.9000000000</td><td>28842.0000000000</td></tr>",
                            "<tr><td>P-0363</td><td>2019</td><td>Setas</td><td>Ourense</td><td>21</td><td>46.3000000000</td><td>28860.0000000000</td></tr>",
                            "<tr><td>P-0364</td><td>2019</td><td>Belleza</td><td>Pontevedra</td><td>27</td><td>37.4000000000</td><td>119958.0000000000</td></tr>",
                            "<tr><td>P-0365</td><td>2019</td><td>Setas</td><td>Ourense</td><td>24</td><td>592.0000000000</td><td>374144.0000000000</td></tr>",
                            "<tr><td>P-0367</td><td>2019</td><td>Setas</td><td>Coruña</td><td>13</td><td>45.6000000000</td><td>36115.0000000000</td></tr>",
                            "<tr><td>P-0368</td><td>2019</td><td>Setas</td><td>Coruña</td><td>3</td><td>42.4000000000</td><td>33581.0000000000</td></tr>",
                            "<tr><td>P-0371</td><td>2019</td><td>Setas</td><td>Pontevedra</td><td>21</td><td>36.3000000000</td><td>24077.0000000000</td></tr>",
                            "<tr><td>P-0374</td><td>2019</td><td>Setas</td><td>Pontevedra</td><td>28</td><td>41.4000000000</td><td>26522.0000000000</td></tr>",
                            "<tr><td>P-0375</td><td>2019</td><td>Setas</td><td>Pontevedra</td><td>27</td><td>39.6000000000</td><td>25654.0000000000</td></tr>",
                            "<tr><td>P-0376</td><td>2019</td><td>Setas</td><td>Lugo</td><td>12</td><td>44.8000000000</td><td>32614.0000000000</td></tr>",
                            "<tr><td>P-0377</td><td>2019</td><td>Setas</td><td>Pontevedra</td><td>28</td><td>38.5000000000</td><td>26782.0000000000</td></tr>",
                            "<tr><td>P-0379</td><td>2019</td><td>Setas</td><td>Coruña</td><td>33</td><td>42.8000000000</td><td>32870.0000000000</td></tr>",
                            "<tr><td>P-0380</td><td>2019</td><td>Setas</td><td>Ourense</td><td>26</td><td>38.5000000000</td><td>24627.0000000000</td></tr>",
                            "<tr><td>P-0387</td><td>2019</td><td>Belleza</td><td>Coruña</td><td>12</td><td>45.2000000000</td><td>147804.0000000000</td></tr>",
                            "<tr><td>P-0389</td><td>2019</td><td>Belleza</td><td>Coruña</td><td>20</td><td>44.4000000000</td><td>153180.0000000000</td></tr>",
                            "<tr><td>P-0390</td><td>2019</td><td>Setas</td><td>Ourense</td><td>22</td><td>46.6000000000</td><td>31702.0000000000</td></tr>",
                            "<tr><td>P-0393</td><td>2019</td><td>Setas</td><td>Pontevedra</td><td>25</td><td>38.1000000000</td><td>24390.0000000000</td></tr>",
                            "<tr><td>P-0394</td><td>2019</td><td>Setas</td><td>Ourense</td><td>28</td><td>43.7000000000</td><td>29689.0000000000</td></tr>",
                            "<tr><td>P-0395</td><td>2019</td><td>Setas</td><td>Pontevedra</td><td>21</td><td>40.0000000000</td><td>26533.0000000000</td></tr>",
                            "<tr><td>P-0396</td><td>2019</td><td>Setas</td><td>Pontevedra</td><td>23</td><td>46.6000000000</td><td>31329.0000000000</td></tr>",
                            "<tr><td>P-0399</td><td>2019</td><td>Belleza</td><td>Pontevedra</td><td>24</td><td>40.0000000000</td><td>134266.0000000000</td></tr>",
                            "<tr><td>P-0400</td><td>2019</td><td>Setas</td><td>Pontevedra</td><td>24</td><td>38.1000000000</td><td>25915.0000000000</td></tr>",
                            "<tr><td>P-0405</td><td>2019</td><td>Setas</td><td>Ourense</td><td>24</td><td>40.7000000000</td><td>26048.0000000000</td></tr>",
                            "<tr><td>P-0407</td><td>2019</td><td>Setas</td><td>Lugo</td><td>11</td><td>42.8000000000</td><td>31843.0000000000</td></tr>",
                            "<tr><td>P-0408</td><td>2019</td><td>Setas</td><td>Lugo</td><td>7</td><td>44.8000000000</td><td>35123.0000000000</td></tr>",
                            "<tr><td>P-0409</td><td>2019</td><td>Setas</td><td>Pontevedra</td><td>25</td><td>44.4000000000</td><td>29837.0000000000</td></tr>",
                            "<tr><td>P-0410</td><td>2019</td><td>Belleza</td><td>Pontevedra</td><td>28</td><td>35.9000000000</td><td>110900.0000000000</td></tr>",
                            "<tr><td>P-0411</td><td>2019</td><td>Setas</td><td>Coruña</td><td>34</td><td>42.0000000000</td><td>32928.0000000000</td></tr>",
                            "<tr><td>P-0412</td><td>2019</td><td>Setas</td><td>Pontevedra</td><td>23</td><td>37.4000000000</td><td>24515.0000000000</td></tr>",
                            "<tr><td>P-0413</td><td>2019</td><td>Setas</td><td>Pontevedra</td><td>25</td><td>46.3000000000</td><td>31820.0000000000</td></tr>",
                            "<tr><td>P-0414</td><td>2019</td><td>Setas</td><td>Pontevedra</td><td>24</td><td>46.6000000000</td><td>29837.0000000000</td></tr>",
                            "<tr><td>P-0415</td><td>2019</td><td>Setas</td><td>Coruña</td><td>18</td><td>42.4000000000</td><td>32563.0000000000</td></tr>",
                            "<tr><td>P-0416</td><td>2019</td><td>Belleza</td><td>Coruña</td><td>4</td><td>44.8000000000</td><td>134400.0000000000</td></tr>",
                            "<tr><td>P-0417</td><td>2019</td><td>Setas</td><td>Coruña</td><td>18</td><td>45.2000000000</td><td>35437.0000000000</td></tr>",
                            "<tr><td>P-0418</td><td>2019</td><td>Setas</td><td>Pontevedra</td><td>23</td><td>39.6000000000</td><td>27238.0000000000</td></tr>",
                            "<tr><td>P-0419</td><td>2019</td><td>Setas</td><td>Coruña</td><td>11</td><td>43.2000000000</td><td>32141.0000000000</td></tr>",
                            "<tr><td>P-0422</td><td>2019</td><td>Setas</td><td>Ourense</td><td>28</td><td>39.6000000000</td><td>25338.0000000000</td></tr>",
                            "<tr><td>P-0423</td><td>2019</td><td>Setas</td><td>Pontevedra</td><td>25</td><td>37.4000000000</td><td>24216.0000000000</td></tr>",
                            "<tr><td>P-0425</td><td>2019</td><td>Setas</td><td>Pontevedra</td><td>23</td><td>34.0000000000</td><td>22058.0000000000</td></tr>",
                            "<tr><td>P-0426</td><td>2019</td><td>Setas</td><td>Pontevedra</td><td>21</td><td>45.9000000000</td><td>30831.0000000000</td></tr>",
                            "<tr><td>P-0428</td><td>2019</td><td>Setas</td><td>Pontevedra</td><td>28</td><td>47.7000000000</td><td>32456.0000000000</td></tr>",
                            "<tr><td>P-0429</td><td>2019</td><td>Setas</td><td>Pontevedra</td><td>27</td><td>45.1000000000</td><td>29251.0000000000</td></tr>",
                            "<tr><td>P-0430</td><td>2019</td><td>Setas</td><td>Pontevedra</td><td>23</td><td>39.2000000000</td><td>26983.0000000000</td></tr>",
                            "<tr><td>P-0431</td><td>2019</td><td>Setas</td><td>Coruña</td><td>10</td><td>42.4000000000</td><td>33581.0000000000</td></tr>",
                            "<tr><td>P-0432</td><td>2019</td><td>Setas</td><td>Pontevedra</td><td>23</td><td>34.8000000000</td><td>23929.0000000000</td></tr>",
                            "<tr><td>P-0433</td><td>2019</td><td>Setas</td><td>Pontevedra</td><td>23</td><td>47.0000000000</td><td>30450.0000000000</td></tr>",
                            "<tr><td>P-0434</td><td>2019</td><td>Setas</td><td>Pontevedra</td><td>28</td><td>42.9000000000</td><td>28156.0000000000</td></tr>",
                            "<tr><td>P-0436</td><td>2019</td><td>Setas</td><td>Lugo</td><td>35</td><td>42.4000000000</td><td>30867.0000000000</td></tr>",
                            "<tr><td>P-0440</td><td>2019</td><td>Setas</td><td>Lugo</td><td>1</td><td>42.8000000000</td><td>34240.0000000000</td></tr>",
                            "<tr><td>P-0441</td><td>2019</td><td>Setas</td><td>Ourense</td><td>27</td><td>34.4000000000</td><td>23949.0000000000</td></tr>",
                            "<tr><td>P-0442</td><td>2019</td><td>Setas</td><td>Coruña</td><td>12</td><td>44.0000000000</td><td>32736.0000000000</td></tr>",
                            "<tr><td>P-0443</td><td>2019</td><td>Belleza</td><td>Coruña</td><td>17</td><td>44.4000000000</td><td>141192.0000000000</td></tr>",
                            "<tr><td>P-0444</td><td>2019</td><td>Setas</td><td>Ourense</td><td>21</td><td>44.4000000000</td><td>28416.0000000000</td></tr>",
                            "<tr><td>P-0445</td><td>2019</td><td>Setas</td><td>Ourense</td><td>27</td><td>40.7000000000</td><td>25722.0000000000</td></tr>",
                            "<tr><td>P-0446</td><td>2019</td><td>Belleza</td><td>Coruña</td><td>14</td><td>42.4000000000</td><td>142464.0000000000</td></tr>",
                            "<tr><td>P-0449</td><td>2019</td><td>Setas</td><td>Pontevedra</td><td>24</td><td>47.7000000000</td><td>31311.0000000000</td></tr>",
                            "<tr><td>P-0450</td><td>2019</td><td>Setas</td><td>Coruña</td><td>16</td><td>45.6000000000</td><td>34291.0000000000</td></tr>",
                            "<tr><td>P-0451</td><td>2019</td><td>Belleza</td><td>Lugo</td><td>12</td><td>43.6000000000</td><td>138648.0000000000</td></tr>",
                            "<tr><td>P-0454</td><td>2019</td><td>Belleza</td><td>Coruña</td><td>18</td><td>45.2000000000</td><td>138312.0000000000</td></tr>",
                            "<tr><td>P-0455</td><td>2019</td><td>Setas</td><td>Coruña</td><td>36</td><td>45.2000000000</td><td>33990.0000000000</td></tr>",
                            "<tr><td>P-0458</td><td>2019</td><td>Setas</td><td>Ourense</td><td>28</td><td>34.0000000000</td><td>22875.0000000000</td></tr>",
                            "<tr><td>P-0459</td><td>2019</td><td>Belleza</td><td>Coruña</td><td>11</td><td>43.2000000000</td><td>136080.0000000000</td></tr>",
                            "<tr><td>P-0460</td><td>2019</td><td>Belleza</td><td>Pontevedra</td><td>27</td><td>37.0000000000</td><td>120990.0000000000</td></tr>",
                            "<tr><td>P-0461</td><td>2019</td><td>Setas</td><td>Coruña</td><td>5</td><td>45.2000000000</td><td>33267.0000000000</td></tr>",
                            "<tr><td>P-0462</td><td>2019</td><td>Belleza</td><td>Pontevedra</td><td>25</td><td>36.3000000000</td><td>116395.0000000000</td></tr>",
                            "<tr><td>P-0463</td><td>2019</td><td>Belleza</td><td>Pontevedra</td><td>22</td><td>45.1000000000</td><td>136774.0000000000</td></tr>",
                            "<tr><td>P-0464</td><td>2019</td><td>Setas</td><td>Pontevedra</td><td>24</td><td>33.3000000000</td><td>22910.0000000000</td></tr>",
                            "<tr><td>P-0465</td><td>2019</td><td>Belleza</td><td>Coruña</td><td>20</td><td>42.0000000000</td><td>146160.0000000000</td></tr>",
                            "<tr><td>P-0467</td><td>2019</td><td>Setas</td><td>Coruña</td><td>3</td><td>42.4000000000</td><td>33581.0000000000</td></tr>",
                            "<tr><td>P-0468</td><td>2019</td><td>Setas</td><td>Coruña</td><td>6</td><td>45.6000000000</td><td>33197.0000000000</td></tr>",
                            "<tr><td>P-0469</td><td>2019</td><td>Setas</td><td>Coruña</td><td>4</td><td>45.2000000000</td><td>33629.0000000000</td></tr>",
                            "<tr><td>P-0470</td><td>2019</td><td>Belleza</td><td>Ourense</td><td>24</td><td>41.4000000000</td><td>126806.0000000000</td></tr>",
                            "<tr><td>P-0471</td><td>2019</td><td>Setas</td><td>Coruña</td><td>18</td><td>44.0000000000</td><td>33440.0000000000</td></tr>",
                            "<tr><td>P-0472</td><td>2019</td><td>Setas</td><td>Pontevedra</td><td>26</td><td>33.3000000000</td><td>22378.0000000000</td></tr>",
                            "<tr><td>P-0473</td><td>2019</td><td>Setas</td><td>Coruña</td><td>15</td><td>42.4000000000</td><td>32224.0000000000</td></tr>",
                            "<tr><td>P-0477</td><td>2019</td><td>Belleza</td><td>Lugo</td><td>7</td><td>46.0000000000</td><td>158700.0000000000</td></tr>",
                            "<tr><td>P-0480</td><td>2019</td><td>Setas</td><td>Ourense</td><td>21</td><td>36.6000000000</td><td>23736.0000000000</td></tr>",
                            "<tr><td>P-0484</td><td>2019</td><td>Setas</td><td>Pontevedra</td><td>27</td><td>42.6000000000</td><td>27232.0000000000</td></tr>",
                            "<tr><td>P-0487</td><td>2019</td><td>Setas</td><td>Pontevedra</td><td>23</td><td>33.7000000000</td><td>21279.0000000000</td></tr>",
                            "<tr><td>P-0488</td><td>2019</td><td>Belleza</td><td>Pontevedra</td><td>28</td><td>37.4000000000</td><td>124442.0000000000</td></tr>",
                            "<tr><td>P-0489</td><td>2019</td><td>Setas</td><td>Pontevedra</td><td>23</td><td>37.4000000000</td><td>23917.0000000000</td></tr>",
                            "<tr><td>P-0490</td><td>2019</td><td>Belleza</td><td>Coruña</td><td>11</td><td>42.0000000000</td><td>143640.0000000000</td></tr>",
                            "<tr><td>P-0491</td><td>2019</td><td>Setas</td><td>Pontevedra</td><td>28</td><td>39.2000000000</td><td>27611.0000000000</td></tr>",
                            "<tr><td>P-0493</td><td>2019</td><td>Belleza</td><td>Coruña</td><td>16</td><td>45.6000000000</td><td>161424.0000000000</td></tr>",
                            "<tr><td>P-0494</td><td>2019</td><td>Setas</td><td>Coruña</td><td>17</td><td>44.4000000000</td><td>32323.0000000000</td></tr>",
                            "<tr><td>P-0496</td><td>2019</td><td>Setas</td><td>Coruña</td><td>37</td><td>44.8000000000</td><td>35123.0000000000</td></tr>",
                            "<tr><td>P-0498</td><td>2019</td><td>Setas</td><td>Coruña</td><td>7</td><td>42.4000000000</td><td>32224.0000000000</td></tr>",
                            "<tr><td>P-0499</td><td>2019</td><td>Setas</td><td>Coruña</td><td>38</td><td>42.4000000000</td><td>33581.0000000000</td></tr>",
                            "<tr><td>P-0500</td><td>2019</td><td>Setas</td><td>Pontevedra</td><td>25</td><td>34.0000000000</td><td>23964.0000000000</td></tr>",
                            "</table>"
                        ]
                    }
                }
            ],
            "execution_count": 15
        },
        {
            "cell_type": "markdown",
            "source": [
                "Ejercicio 9\r\n",
                "Encuentra:\r\n",
                "\r\n",
                "Todos los pedidos realizados en la zona de Coruña en el año 2019\r\n",
                "Todos los pedidos realizados por una mujer de Algas\r\n",
                "Todos los pedidos realizados por una mujer y que sean de Algas o de Belleza\r\n",
                "Todos los pedidos de importe > 10000 € e inferior a 30000"
            ],
            "metadata": {
                "azdata_cell_guid": "9ee7dfd9-2d9a-4b17-9be6-cdfa99cbc2ce"
            }
        },
        {
            "cell_type": "code",
            "source": [
                "SELECT *\r\n",
                "FROM NEMINA.DBO.DATOS_BASE\r\n",
                "WHERE INGRESOS_EUR >10000 AND INGRESOS_EUR <30000"
            ],
            "metadata": {
                "azdata_cell_guid": "f2279323-27cf-47e0-af4d-aa5ab1422769"
            },
            "outputs": [
                {
                    "output_type": "display_data",
                    "data": {
                        "text/html": "(335 rows affected)"
                    },
                    "metadata": {}
                },
                {
                    "output_type": "display_data",
                    "data": {
                        "text/html": "Total execution time: 00:00:00.102"
                    },
                    "metadata": {}
                },
                {
                    "output_type": "execute_result",
                    "metadata": {},
                    "execution_count": 16,
                    "data": {
                        "application/vnd.dataresource+json": {
                            "schema": {
                                "fields": [
                                    {
                                        "name": "PEDIDO_ID"
                                    },
                                    {
                                        "name": "FY_ID"
                                    },
                                    {
                                        "name": "PRODUCTO_ID"
                                    },
                                    {
                                        "name": "ZONA_ID"
                                    },
                                    {
                                        "name": "CLIENTE_ID"
                                    },
                                    {
                                        "name": "TONELADAS"
                                    },
                                    {
                                        "name": "INGRESOS_EUR"
                                    }
                                ]
                            },
                            "data": [
                                {
                                    "0": "P-0001",
                                    "1": "2016",
                                    "2": "Setas",
                                    "3": "Lugo",
                                    "4": "7",
                                    "5": "31.8000000000",
                                    "6": "24677.0000000000"
                                },
                                {
                                    "0": "P-0002",
                                    "1": "2016",
                                    "2": "Setas",
                                    "3": "Ourense",
                                    "4": "27",
                                    "5": "34.5000000000",
                                    "6": "27048.0000000000"
                                },
                                {
                                    "0": "P-0003",
                                    "1": "2016",
                                    "2": "Setas",
                                    "3": "Ourense",
                                    "4": "21",
                                    "5": "38.1000000000",
                                    "6": "27432.0000000000"
                                },
                                {
                                    "0": "P-0004",
                                    "1": "2016",
                                    "2": "Setas",
                                    "3": "Ourense",
                                    "4": "26",
                                    "5": "35.7000000000",
                                    "6": "25990.0000000000"
                                },
                                {
                                    "0": "P-0005",
                                    "1": "2016",
                                    "2": "Setas",
                                    "3": "Pontevedra",
                                    "4": "25",
                                    "5": "32.7000000000",
                                    "6": "24590.0000000000"
                                },
                                {
                                    "0": "P-0006",
                                    "1": "2016",
                                    "2": "Setas",
                                    "3": "Pontevedra",
                                    "4": "24",
                                    "5": "34.8000000000",
                                    "6": "26170.0000000000"
                                },
                                {
                                    "0": "P-0007",
                                    "1": "2016",
                                    "2": "Setas",
                                    "3": "Coruña",
                                    "4": "2",
                                    "5": "33.0000000000",
                                    "6": "25344.0000000000"
                                },
                                {
                                    "0": "P-0008",
                                    "1": "2016",
                                    "2": "Setas",
                                    "3": "Lugo",
                                    "4": "9",
                                    "5": "32.4000000000",
                                    "6": "24106.0000000000"
                                },
                                {
                                    "0": "P-0009",
                                    "1": "2016",
                                    "2": "Setas",
                                    "3": "Coruña",
                                    "4": "16",
                                    "5": "32.4000000000",
                                    "6": "23846.0000000000"
                                },
                                {
                                    "0": "P-0010",
                                    "1": "2016",
                                    "2": "Setas",
                                    "3": "Ourense",
                                    "4": "21",
                                    "5": "27.9000000000",
                                    "6": "20311.0000000000"
                                },
                                {
                                    "0": "P-0011",
                                    "1": "2016",
                                    "2": "Setas",
                                    "3": "Pontevedra",
                                    "4": "28",
                                    "5": "32.7000000000",
                                    "6": "25898.0000000000"
                                },
                                {
                                    "0": "P-0012",
                                    "1": "2016",
                                    "2": "Algas",
                                    "3": "Ourense",
                                    "4": "27",
                                    "5": "29.7000000000",
                                    "6": "17998.0000000000"
                                },
                                {
                                    "0": "P-0013",
                                    "1": "2016",
                                    "2": "Setas",
                                    "3": "Ourense",
                                    "4": "26",
                                    "5": "33.9000000000",
                                    "6": "24408.0000000000"
                                },
                                {
                                    "0": "P-0014",
                                    "1": "2016",
                                    "2": "Algas",
                                    "3": "Lugo",
                                    "4": "16",
                                    "5": "32.7000000000",
                                    "6": "19816.0000000000"
                                },
                                {
                                    "0": "P-0015",
                                    "1": "2016",
                                    "2": "Setas",
                                    "3": "Coruña",
                                    "4": "8",
                                    "5": "32.1000000000",
                                    "6": "23369.0000000000"
                                },
                                {
                                    "0": "P-0016",
                                    "1": "2016",
                                    "2": "Setas",
                                    "3": "Pontevedra",
                                    "4": "25",
                                    "5": "38.1000000000",
                                    "6": "29566.0000000000"
                                },
                                {
                                    "0": "P-0017",
                                    "1": "2016",
                                    "2": "Setas",
                                    "3": "Pontevedra",
                                    "4": "21",
                                    "5": "35.4000000000",
                                    "6": "28037.0000000000"
                                },
                                {
                                    "0": "P-0018",
                                    "1": "2016",
                                    "2": "Algas",
                                    "3": "Coruña",
                                    "4": "18",
                                    "5": "31.8000000000",
                                    "6": "19271.0000000000"
                                },
                                {
                                    "0": "P-0019",
                                    "1": "2016",
                                    "2": "Algas",
                                    "3": "Ourense",
                                    "4": "27",
                                    "5": "37.5000000000",
                                    "6": "21375.0000000000"
                                },
                                {
                                    "0": "P-0020",
                                    "1": "2016",
                                    "2": "Algas",
                                    "3": "Coruña",
                                    "4": "7",
                                    "5": "33.3000000000",
                                    "6": "19780.0000000000"
                                },
                                {
                                    "0": "P-0021",
                                    "1": "2016",
                                    "2": "Setas",
                                    "3": "Pontevedra",
                                    "4": "26",
                                    "5": "28.5000000000",
                                    "6": "21660.0000000000"
                                },
                                {
                                    "0": "P-0022",
                                    "1": "2016",
                                    "2": "Algas",
                                    "3": "Pontevedra",
                                    "4": "25",
                                    "5": "30.9000000000",
                                    "6": "17613.0000000000"
                                },
                                {
                                    "0": "P-0023",
                                    "1": "2016",
                                    "2": "Algas",
                                    "3": "Lugo",
                                    "4": "6",
                                    "5": "31.8000000000",
                                    "6": "19080.0000000000"
                                },
                                {
                                    "0": "P-0024",
                                    "1": "2016",
                                    "2": "Setas",
                                    "3": "Coruña",
                                    "4": "2",
                                    "5": "32.7000000000",
                                    "6": "25637.0000000000"
                                },
                                {
                                    "0": "P-0025",
                                    "1": "2016",
                                    "2": "Setas",
                                    "3": "Coruña",
                                    "4": "1",
                                    "5": "33.6000000000",
                                    "6": "26880.0000000000"
                                },
                                {
                                    "0": "P-0026",
                                    "1": "2016",
                                    "2": "Setas",
                                    "3": "Pontevedra",
                                    "4": "27",
                                    "5": "27.6000000000",
                                    "6": "21197.0000000000"
                                },
                                {
                                    "0": "P-0027",
                                    "1": "2016",
                                    "2": "Setas",
                                    "3": "Ourense",
                                    "4": "24",
                                    "5": "34.2000000000",
                                    "6": "25171.0000000000"
                                },
                                {
                                    "0": "P-0028",
                                    "1": "2016",
                                    "2": "Setas",
                                    "3": "Pontevedra",
                                    "4": "27",
                                    "5": "31.8000000000",
                                    "6": "24677.0000000000"
                                },
                                {
                                    "0": "P-0029",
                                    "1": "2016",
                                    "2": "Algas",
                                    "3": "Coruña",
                                    "4": "6",
                                    "5": "33.3000000000",
                                    "6": "19181.0000000000"
                                },
                                {
                                    "0": "P-0030",
                                    "1": "2016",
                                    "2": "Algas",
                                    "3": "Coruña",
                                    "4": "15",
                                    "5": "32.4000000000",
                                    "6": "19246.0000000000"
                                },
                                {
                                    "0": "P-0031",
                                    "1": "2016",
                                    "2": "Setas",
                                    "3": "Coruña",
                                    "4": "8",
                                    "5": "33.9000000000",
                                    "6": "26306.0000000000"
                                },
                                {
                                    "0": "P-0032",
                                    "1": "2016",
                                    "2": "Setas",
                                    "3": "Ourense",
                                    "4": "21",
                                    "5": "35.4000000000",
                                    "6": "25771.0000000000"
                                },
                                {
                                    "0": "P-0033",
                                    "1": "2016",
                                    "2": "Algas",
                                    "3": "Coruña",
                                    "4": "2",
                                    "5": "32.1000000000",
                                    "6": "19067.0000000000"
                                },
                                {
                                    "0": "P-0034",
                                    "1": "2016",
                                    "2": "Setas",
                                    "3": "Coruña",
                                    "4": "9",
                                    "5": "32.4000000000",
                                    "6": "23587.0000000000"
                                },
                                {
                                    "0": "P-0035",
                                    "1": "2016",
                                    "2": "Setas",
                                    "3": "Coruña",
                                    "4": "14",
                                    "5": "33.3000000000",
                                    "6": "24775.0000000000"
                                },
                                {
                                    "0": "P-0036",
                                    "1": "2016",
                                    "2": "Setas",
                                    "3": "Pontevedra",
                                    "4": "26",
                                    "5": "30.6000000000",
                                    "6": "22277.0000000000"
                                },
                                {
                                    "0": "P-0037",
                                    "1": "2016",
                                    "2": "Algas",
                                    "3": "Pontevedra",
                                    "4": "25",
                                    "5": "34.2000000000",
                                    "6": "20520.0000000000"
                                },
                                {
                                    "0": "P-0038",
                                    "1": "2016",
                                    "2": "Setas",
                                    "3": "Pontevedra",
                                    "4": "23",
                                    "5": "32.7000000000",
                                    "6": "24590.0000000000"
                                },
                                {
                                    "0": "P-0039",
                                    "1": "2016",
                                    "2": "Setas",
                                    "3": "Coruña",
                                    "4": "16",
                                    "5": "33.6000000000",
                                    "6": "24461.0000000000"
                                },
                                {
                                    "0": "P-0040",
                                    "1": "2016",
                                    "2": "Setas",
                                    "3": "Pontevedra",
                                    "4": "26",
                                    "5": "34.2000000000",
                                    "6": "27086.0000000000"
                                },
                                {
                                    "0": "P-0041",
                                    "1": "2016",
                                    "2": "Algas",
                                    "3": "Pontevedra",
                                    "4": "24",
                                    "5": "28.8000000000",
                                    "6": "16762.0000000000"
                                },
                                {
                                    "0": "P-0042",
                                    "1": "2016",
                                    "2": "Algas",
                                    "3": "Coruña",
                                    "4": "1",
                                    "5": "32.4000000000",
                                    "6": "18468.0000000000"
                                },
                                {
                                    "0": "P-0043",
                                    "1": "2016",
                                    "2": "Setas",
                                    "3": "Lugo",
                                    "4": "19",
                                    "5": "31.8000000000",
                                    "6": "23659.0000000000"
                                },
                                {
                                    "0": "P-0044",
                                    "1": "2016",
                                    "2": "Setas",
                                    "3": "Ourense",
                                    "4": "28",
                                    "5": "31.2000000000",
                                    "6": "24710.0000000000"
                                },
                                {
                                    "0": "P-0045",
                                    "1": "2016",
                                    "2": "Setas",
                                    "3": "Pontevedra",
                                    "4": "22",
                                    "5": "31.5000000000",
                                    "6": "22932.0000000000"
                                },
                                {
                                    "0": "P-0046",
                                    "1": "2016",
                                    "2": "Algas",
                                    "3": "Pontevedra",
                                    "4": "28",
                                    "5": "27.0000000000",
                                    "6": "16362.0000000000"
                                },
                                {
                                    "0": "P-0047",
                                    "1": "2016",
                                    "2": "Setas",
                                    "3": "Pontevedra",
                                    "4": "26",
                                    "5": "27.0000000000",
                                    "6": "21384.0000000000"
                                },
                                {
                                    "0": "P-0048",
                                    "1": "2016",
                                    "2": "Setas",
                                    "3": "Pontevedra",
                                    "4": "22",
                                    "5": "27.6000000000",
                                    "6": "20976.0000000000"
                                },
                                {
                                    "0": "P-0049",
                                    "1": "2016",
                                    "2": "Algas",
                                    "3": "Pontevedra",
                                    "4": "23",
                                    "5": "34.2000000000",
                                    "6": "19699.0000000000"
                                },
                                {
                                    "0": "P-0050",
                                    "1": "2016",
                                    "2": "Algas",
                                    "3": "Pontevedra",
                                    "4": "23",
                                    "5": "31.8000000000",
                                    "6": "19271.0000000000"
                                },
                                {
                                    "0": "P-0051",
                                    "1": "2017",
                                    "2": "Algas",
                                    "3": "Ourense",
                                    "4": "27",
                                    "5": "43.8000000000",
                                    "6": "25988.0000000000"
                                },
                                {
                                    "0": "P-0053",
                                    "1": "2017",
                                    "2": "Setas",
                                    "3": "Coruña",
                                    "4": "8",
                                    "5": "37.1000000000",
                                    "6": "29086.0000000000"
                                },
                                {
                                    "0": "P-0057",
                                    "1": "2017",
                                    "2": "Algas",
                                    "3": "Pontevedra",
                                    "4": "27",
                                    "5": "36.1000000000",
                                    "6": "21197.0000000000"
                                },
                                {
                                    "0": "P-0059",
                                    "1": "2017",
                                    "2": "Algas",
                                    "3": "Pontevedra",
                                    "4": "26",
                                    "5": "44.1000000000",
                                    "6": "26195.0000000000"
                                },
                                {
                                    "0": "P-0060",
                                    "1": "2017",
                                    "2": "Algas",
                                    "3": "Pontevedra",
                                    "4": "24",
                                    "5": "40.3000000000",
                                    "6": "23667.0000000000"
                                },
                                {
                                    "0": "P-0061",
                                    "1": "2017",
                                    "2": "Setas",
                                    "3": "Coruña",
                                    "4": "7",
                                    "5": "37.5000000000",
                                    "6": "29361.0000000000"
                                },
                                {
                                    "0": "P-0062",
                                    "1": "2017",
                                    "2": "Setas",
                                    "3": "Pontevedra",
                                    "4": "26",
                                    "5": "40.6000000000",
                                    "6": "28582.0000000000"
                                },
                                {
                                    "0": "P-0063",
                                    "1": "2017",
                                    "2": "Algas",
                                    "3": "Ourense",
                                    "4": "27",
                                    "5": "39.2000000000",
                                    "6": "23755.0000000000"
                                },
                                {
                                    "0": "P-0064",
                                    "1": "2017",
                                    "2": "Setas",
                                    "3": "Pontevedra",
                                    "4": "27",
                                    "5": "35.4000000000",
                                    "6": "25452.0000000000"
                                },
                                {
                                    "0": "P-0065",
                                    "1": "2017",
                                    "2": "Setas",
                                    "3": "Pontevedra",
                                    "4": "24",
                                    "5": "38.9000000000",
                                    "6": "29215.0000000000"
                                },
                                {
                                    "0": "P-0066",
                                    "1": "2017",
                                    "2": "Setas",
                                    "3": "Ourense",
                                    "4": "25",
                                    "5": "34.3000000000",
                                    "6": "23873.0000000000"
                                },
                                {
                                    "0": "P-0067",
                                    "1": "2017",
                                    "2": "Algas",
                                    "3": "Pontevedra",
                                    "4": "28",
                                    "5": "39.2000000000",
                                    "6": "23285.0000000000"
                                },
                                {
                                    "0": "P-0069",
                                    "1": "2017",
                                    "2": "Algas",
                                    "3": "Ourense",
                                    "4": "23",
                                    "5": "44.1000000000",
                                    "6": "26725.0000000000"
                                },
                                {
                                    "0": "P-0073",
                                    "1": "2017",
                                    "2": "Setas",
                                    "3": "Pontevedra",
                                    "4": "27",
                                    "5": "35.7000000000",
                                    "6": "24562.0000000000"
                                },
                                {
                                    "0": "P-0074",
                                    "1": "2017",
                                    "2": "Algas",
                                    "3": "Pontevedra",
                                    "4": "25",
                                    "5": "34.7000000000",
                                    "6": "20998.0000000000"
                                },
                                {
                                    "0": "P-0075",
                                    "1": "2017",
                                    "2": "Algas",
                                    "3": "Pontevedra",
                                    "4": "22",
                                    "5": "44.8000000000",
                                    "6": "26611.0000000000"
                                },
                                {
                                    "0": "P-0077",
                                    "1": "2017",
                                    "2": "Algas",
                                    "3": "Coruña",
                                    "4": "15",
                                    "5": "38.9000000000",
                                    "6": "24242.0000000000"
                                },
                                {
                                    "0": "P-0078",
                                    "1": "2017",
                                    "2": "Algas",
                                    "3": "Lugo",
                                    "4": "8",
                                    "5": "38.9000000000",
                                    "6": "23776.0000000000"
                                },
                                {
                                    "0": "P-0080",
                                    "1": "2017",
                                    "2": "Algas",
                                    "3": "Coruña",
                                    "4": "17",
                                    "5": "39.6000000000",
                                    "6": "24679.0000000000"
                                },
                                {
                                    "0": "P-0081",
                                    "1": "2017",
                                    "2": "Algas",
                                    "3": "Coruña",
                                    "4": "7",
                                    "5": "36.8000000000",
                                    "6": "22932.0000000000"
                                },
                                {
                                    "0": "P-0082",
                                    "1": "2017",
                                    "2": "Algas",
                                    "3": "Coruña",
                                    "4": "4",
                                    "5": "38.9000000000",
                                    "6": "24242.0000000000"
                                },
                                {
                                    "0": "P-0083",
                                    "1": "2017",
                                    "2": "Algas",
                                    "3": "Lugo",
                                    "4": "11",
                                    "5": "39.9000000000",
                                    "6": "25137.0000000000"
                                },
                                {
                                    "0": "P-0084",
                                    "1": "2017",
                                    "2": "Setas",
                                    "3": "Pontevedra",
                                    "4": "28",
                                    "5": "33.6000000000",
                                    "6": "25267.0000000000"
                                },
                                {
                                    "0": "P-0085",
                                    "1": "2017",
                                    "2": "Algas",
                                    "3": "Coruña",
                                    "4": "10",
                                    "5": "37.1000000000",
                                    "6": "22705.0000000000"
                                },
                                {
                                    "0": "P-0086",
                                    "1": "2017",
                                    "2": "Algas",
                                    "3": "Lugo",
                                    "4": "7",
                                    "5": "38.5000000000",
                                    "6": "24024.0000000000"
                                },
                                {
                                    "0": "P-0087",
                                    "1": "2017",
                                    "2": "Setas",
                                    "3": "Pontevedra",
                                    "4": "26",
                                    "5": "43.1000000000",
                                    "6": "29963.0000000000"
                                },
                                {
                                    "0": "P-0089",
                                    "1": "2017",
                                    "2": "Algas",
                                    "3": "Ourense",
                                    "4": "27",
                                    "5": "41.0000000000",
                                    "6": "24816.0000000000"
                                },
                                {
                                    "0": "P-0090",
                                    "1": "2017",
                                    "2": "Setas",
                                    "3": "Coruña",
                                    "4": "12",
                                    "5": "37.5000000000",
                                    "6": "29660.0000000000"
                                },
                                {
                                    "0": "P-0092",
                                    "1": "2017",
                                    "2": "Algas",
                                    "3": "Coruña",
                                    "4": "19",
                                    "5": "39.6000000000",
                                    "6": "24205.0000000000"
                                },
                                {
                                    "0": "P-0094",
                                    "1": "2017",
                                    "2": "Algas",
                                    "3": "Coruña",
                                    "4": "19",
                                    "5": "39.2000000000",
                                    "6": "23990.0000000000"
                                },
                                {
                                    "0": "P-0095",
                                    "1": "2017",
                                    "2": "Algas",
                                    "3": "Lugo",
                                    "4": "4",
                                    "5": "37.1000000000",
                                    "6": "23150.0000000000"
                                },
                                {
                                    "0": "P-0096",
                                    "1": "2017",
                                    "2": "Setas",
                                    "3": "Lugo",
                                    "4": "11",
                                    "5": "37.5000000000",
                                    "6": "28162.0000000000"
                                },
                                {
                                    "0": "P-0097",
                                    "1": "2017",
                                    "2": "Setas",
                                    "3": "Pontevedra",
                                    "4": "23",
                                    "5": "37.1000000000",
                                    "6": "27899.0000000000"
                                },
                                {
                                    "0": "P-0099",
                                    "1": "2017",
                                    "2": "Algas",
                                    "3": "Lugo",
                                    "4": "10",
                                    "5": "38.9000000000",
                                    "6": "24476.0000000000"
                                },
                                {
                                    "0": "P-0102",
                                    "1": "2017",
                                    "2": "Algas",
                                    "3": "Coruña",
                                    "4": "4",
                                    "5": "36.8000000000",
                                    "6": "22712.0000000000"
                                },
                                {
                                    "0": "P-0103",
                                    "1": "2017",
                                    "2": "Setas",
                                    "3": "Coruña",
                                    "4": "14",
                                    "5": "39.9000000000",
                                    "6": "29366.0000000000"
                                },
                                {
                                    "0": "P-0104",
                                    "1": "2017",
                                    "2": "Setas",
                                    "3": "Pontevedra",
                                    "4": "22",
                                    "5": "36.8000000000",
                                    "6": "27636.0000000000"
                                },
                                {
                                    "0": "P-0105",
                                    "1": "2017",
                                    "2": "Algas",
                                    "3": "Coruña",
                                    "4": "4",
                                    "5": "38.9000000000",
                                    "6": "24476.0000000000"
                                },
                                {
                                    "0": "P-0108",
                                    "1": "2017",
                                    "2": "Setas",
                                    "3": "Pontevedra",
                                    "4": "23",
                                    "5": "32.6000000000",
                                    "6": "24217.0000000000"
                                },
                                {
                                    "0": "P-0109",
                                    "1": "2017",
                                    "2": "Algas",
                                    "3": "Lugo",
                                    "4": "8",
                                    "5": "39.6000000000",
                                    "6": "24205.0000000000"
                                },
                                {
                                    "0": "P-0110",
                                    "1": "2017",
                                    "2": "Setas",
                                    "3": "Pontevedra",
                                    "4": "26",
                                    "5": "36.1000000000",
                                    "6": "26244.0000000000"
                                },
                                {
                                    "0": "P-0111",
                                    "1": "2017",
                                    "2": "Algas",
                                    "3": "Coruña",
                                    "4": "18",
                                    "5": "38.2000000000",
                                    "6": "23348.0000000000"
                                },
                                {
                                    "0": "P-0112",
                                    "1": "2017",
                                    "2": "Algas",
                                    "3": "Coruña",
                                    "4": "5",
                                    "5": "39.2000000000",
                                    "6": "24226.0000000000"
                                },
                                {
                                    "0": "P-0113",
                                    "1": "2017",
                                    "2": "Setas",
                                    "3": "Coruña",
                                    "4": "15",
                                    "5": "37.5000000000",
                                    "6": "27264.0000000000"
                                },
                                {
                                    "0": "P-0114",
                                    "1": "2017",
                                    "2": "Setas",
                                    "3": "Pontevedra",
                                    "4": "25",
                                    "5": "37.5000000000",
                                    "6": "25466.0000000000"
                                },
                                {
                                    "0": "P-0118",
                                    "1": "2017",
                                    "2": "Setas",
                                    "3": "Lugo",
                                    "4": "11",
                                    "5": "37.5000000000",
                                    "6": "26964.0000000000"
                                },
                                {
                                    "0": "P-0119",
                                    "1": "2017",
                                    "2": "Algas",
                                    "3": "Coruña",
                                    "4": "7",
                                    "5": "40.3000000000",
                                    "6": "25116.0000000000"
                                },
                                {
                                    "0": "P-0120",
                                    "1": "2017",
                                    "2": "Setas",
                                    "3": "Pontevedra",
                                    "4": "23",
                                    "5": "32.2000000000",
                                    "6": "22411.0000000000"
                                },
                                {
                                    "0": "P-0122",
                                    "1": "2017",
                                    "2": "Algas",
                                    "3": "Coruña",
                                    "4": "15",
                                    "5": "39.9000000000",
                                    "6": "24658.0000000000"
                                },
                                {
                                    "0": "P-0123",
                                    "1": "2017",
                                    "2": "Algas",
                                    "3": "Coruña",
                                    "4": "17",
                                    "5": "37.1000000000",
                                    "6": "23373.0000000000"
                                },
                                {
                                    "0": "P-0124",
                                    "1": "2017",
                                    "2": "Algas",
                                    "3": "Lugo",
                                    "4": "17",
                                    "5": "39.9000000000",
                                    "6": "25137.0000000000"
                                },
                                {
                                    "0": "P-0127",
                                    "1": "2017",
                                    "2": "Algas",
                                    "3": "Coruña",
                                    "4": "1",
                                    "5": "39.6000000000",
                                    "6": "24679.0000000000"
                                },
                                {
                                    "0": "P-0128",
                                    "1": "2017",
                                    "2": "Algas",
                                    "3": "Coruña",
                                    "4": "9",
                                    "5": "40.3000000000",
                                    "6": "24633.0000000000"
                                },
                                {
                                    "0": "P-0129",
                                    "1": "2017",
                                    "2": "Setas",
                                    "3": "Pontevedra",
                                    "4": "26",
                                    "5": "35.0000000000",
                                    "6": "25480.0000000000"
                                },
                                {
                                    "0": "P-0130",
                                    "1": "2017",
                                    "2": "Algas",
                                    "3": "Coruña",
                                    "4": "18",
                                    "5": "39.2000000000",
                                    "6": "24696.0000000000"
                                },
                                {
                                    "0": "P-0131",
                                    "1": "2017",
                                    "2": "Setas",
                                    "3": "Lugo",
                                    "4": "6",
                                    "5": "37.1000000000",
                                    "6": "29383.0000000000"
                                },
                                {
                                    "0": "P-0132",
                                    "1": "2017",
                                    "2": "Algas",
                                    "3": "Pontevedra",
                                    "4": "25",
                                    "5": "39.2000000000",
                                    "6": "23755.0000000000"
                                },
                                {
                                    "0": "P-0133",
                                    "1": "2017",
                                    "2": "Setas",
                                    "3": "Coruña",
                                    "4": "12",
                                    "5": "38.5000000000",
                                    "6": "29876.0000000000"
                                },
                                {
                                    "0": "P-0134",
                                    "1": "2017",
                                    "2": "Algas",
                                    "3": "Coruña",
                                    "4": "19",
                                    "5": "40.3000000000",
                                    "6": "25358.0000000000"
                                },
                                {
                                    "0": "P-0136",
                                    "1": "2017",
                                    "2": "Setas",
                                    "3": "Pontevedra",
                                    "4": "28",
                                    "5": "32.9000000000",
                                    "6": "22635.0000000000"
                                },
                                {
                                    "0": "P-0137",
                                    "1": "2017",
                                    "2": "Algas",
                                    "3": "Pontevedra",
                                    "4": "28",
                                    "5": "39.9000000000",
                                    "6": "24419.0000000000"
                                },
                                {
                                    "0": "P-0138",
                                    "1": "2017",
                                    "2": "Setas",
                                    "3": "Pontevedra",
                                    "4": "25",
                                    "5": "37.1000000000",
                                    "6": "26118.0000000000"
                                },
                                {
                                    "0": "P-0141",
                                    "1": "2017",
                                    "2": "Algas",
                                    "3": "Pontevedra",
                                    "4": "24",
                                    "5": "43.1000000000",
                                    "6": "26347.0000000000"
                                },
                                {
                                    "0": "P-0142",
                                    "1": "2017",
                                    "2": "Setas",
                                    "3": "Pontevedra",
                                    "4": "28",
                                    "5": "42.4000000000",
                                    "6": "29137.0000000000"
                                },
                                {
                                    "0": "P-0145",
                                    "1": "2017",
                                    "2": "Algas",
                                    "3": "Pontevedra",
                                    "4": "26",
                                    "5": "34.7000000000",
                                    "6": "20790.0000000000"
                                },
                                {
                                    "0": "P-0146",
                                    "1": "2017",
                                    "2": "Setas",
                                    "3": "Coruña",
                                    "4": "16",
                                    "5": "38.5000000000",
                                    "6": "28952.0000000000"
                                },
                                {
                                    "0": "P-0148",
                                    "1": "2017",
                                    "2": "Algas",
                                    "3": "Coruña",
                                    "4": "6",
                                    "5": "37.1000000000",
                                    "6": "22928.0000000000"
                                },
                                {
                                    "0": "P-0149",
                                    "1": "2017",
                                    "2": "Algas",
                                    "3": "Lugo",
                                    "4": "2",
                                    "5": "39.6000000000",
                                    "6": "24205.0000000000"
                                },
                                {
                                    "0": "P-0150",
                                    "1": "2017",
                                    "2": "Setas",
                                    "3": "Pontevedra",
                                    "4": "26",
                                    "5": "37.8000000000",
                                    "6": "26611.0000000000"
                                },
                                {
                                    "0": "P-0154",
                                    "1": "2018",
                                    "2": "Setas",
                                    "3": "Pontevedra",
                                    "4": "27",
                                    "5": "39.6000000000",
                                    "6": "29462.0000000000"
                                },
                                {
                                    "0": "P-0155",
                                    "1": "2018",
                                    "2": "Setas",
                                    "3": "Pontevedra",
                                    "4": "24",
                                    "5": "41.4000000000",
                                    "6": "29477.0000000000"
                                },
                                {
                                    "0": "P-0157",
                                    "1": "2018",
                                    "2": "Setas",
                                    "3": "Pontevedra",
                                    "4": "22",
                                    "5": "36.7000000000",
                                    "6": "27613.0000000000"
                                },
                                {
                                    "0": "P-0161",
                                    "1": "2018",
                                    "2": "Algas",
                                    "3": "Coruña",
                                    "4": "6",
                                    "5": "42.6000000000",
                                    "6": "26813.0000000000"
                                },
                                {
                                    "0": "P-0163",
                                    "1": "2018",
                                    "2": "Algas",
                                    "3": "Coruña",
                                    "4": "7",
                                    "5": "40.7000000000",
                                    "6": "25616.0000000000"
                                },
                                {
                                    "0": "P-0164",
                                    "1": "2018",
                                    "2": "Setas",
                                    "3": "Ourense",
                                    "4": "21",
                                    "5": "37.4000000000",
                                    "6": "28454.0000000000"
                                },
                                {
                                    "0": "P-0165",
                                    "1": "2018",
                                    "2": "Setas",
                                    "3": "Ourense",
                                    "4": "24",
                                    "5": "39.2000000000",
                                    "6": "27939.0000000000"
                                },
                                {
                                    "0": "P-0166",
                                    "1": "2018",
                                    "2": "Algas",
                                    "3": "Coruña",
                                    "4": "14",
                                    "5": "42.6000000000",
                                    "6": "26302.0000000000"
                                },
                                {
                                    "0": "P-0167",
                                    "1": "2018",
                                    "2": "Algas",
                                    "3": "Ourense",
                                    "4": "26",
                                    "5": "38.9000000000",
                                    "6": "23795.0000000000"
                                },
                                {
                                    "0": "P-0168",
                                    "1": "2018",
                                    "2": "Setas",
                                    "3": "Pontevedra",
                                    "4": "24",
                                    "5": "33.5000000000",
                                    "6": "23302.0000000000"
                                },
                                {
                                    "0": "P-0169",
                                    "1": "2018",
                                    "2": "Setas",
                                    "3": "Pontevedra",
                                    "4": "24",
                                    "5": "39.2000000000",
                                    "6": "29822.0000000000"
                                },
                                {
                                    "0": "P-0171",
                                    "1": "2018",
                                    "2": "Algas",
                                    "3": "Lugo",
                                    "4": "20",
                                    "5": "41.8000000000",
                                    "6": "25582.0000000000"
                                },
                                {
                                    "0": "P-0172",
                                    "1": "2018",
                                    "2": "Algas",
                                    "3": "Lugo",
                                    "4": "17",
                                    "5": "40.7000000000",
                                    "6": "25128.0000000000"
                                },
                                {
                                    "0": "P-0174",
                                    "1": "2018",
                                    "2": "Algas",
                                    "3": "Coruña",
                                    "4": "20",
                                    "5": "43.7000000000",
                                    "6": "27007.0000000000"
                                },
                                {
                                    "0": "P-0176",
                                    "1": "2018",
                                    "2": "Setas",
                                    "3": "Pontevedra",
                                    "4": "27",
                                    "5": "36.0000000000",
                                    "6": "26496.0000000000"
                                },
                                {
                                    "0": "P-0178",
                                    "1": "2018",
                                    "2": "Algas",
                                    "3": "Pontevedra",
                                    "4": "22",
                                    "5": "45.0000000000",
                                    "6": "27540.0000000000"
                                },
                                {
                                    "0": "P-0179",
                                    "1": "2018",
                                    "2": "Setas",
                                    "3": "Pontevedra",
                                    "4": "22",
                                    "5": "36.4000000000",
                                    "6": "25307.0000000000"
                                },
                                {
                                    "0": "P-0182",
                                    "1": "2018",
                                    "2": "Algas",
                                    "3": "Pontevedra",
                                    "4": "28",
                                    "5": "42.1000000000",
                                    "6": "25019.0000000000"
                                },
                                {
                                    "0": "P-0184",
                                    "1": "2018",
                                    "2": "Algas",
                                    "3": "Pontevedra",
                                    "4": "26",
                                    "5": "36.7000000000",
                                    "6": "21591.0000000000"
                                },
                                {
                                    "0": "P-0186",
                                    "1": "2018",
                                    "2": "Algas",
                                    "3": "Ourense",
                                    "4": "21",
                                    "5": "36.4000000000",
                                    "6": "21816.0000000000"
                                },
                                {
                                    "0": "P-0187",
                                    "1": "2018",
                                    "2": "Algas",
                                    "3": "Pontevedra",
                                    "4": "23",
                                    "5": "36.7000000000",
                                    "6": "22032.0000000000"
                                },
                                {
                                    "0": "P-0189",
                                    "1": "2018",
                                    "2": "Setas",
                                    "3": "Pontevedra",
                                    "4": "27",
                                    "5": "40.0000000000",
                                    "6": "28771.0000000000"
                                },
                                {
                                    "0": "P-0190",
                                    "1": "2018",
                                    "2": "Setas",
                                    "3": "Pontevedra",
                                    "4": "28",
                                    "5": "38.2000000000",
                                    "6": "27780.0000000000"
                                },
                                {
                                    "0": "P-0192",
                                    "1": "2018",
                                    "2": "Algas",
                                    "3": "Pontevedra",
                                    "4": "25",
                                    "5": "36.7000000000",
                                    "6": "21591.0000000000"
                                },
                                {
                                    "0": "P-0196",
                                    "1": "2018",
                                    "2": "Algas",
                                    "3": "Pontevedra",
                                    "4": "26",
                                    "5": "42.8000000000",
                                    "6": "26218.0000000000"
                                },
                                {
                                    "0": "P-0197",
                                    "1": "2018",
                                    "2": "Algas",
                                    "3": "Coruña",
                                    "4": "14",
                                    "5": "42.2000000000",
                                    "6": "26573.0000000000"
                                },
                                {
                                    "0": "P-0201",
                                    "1": "2018",
                                    "2": "Setas",
                                    "3": "Pontevedra",
                                    "4": "21",
                                    "5": "41.0000000000",
                                    "6": "27907.0000000000"
                                },
                                {
                                    "0": "P-0202",
                                    "1": "2018",
                                    "2": "Algas",
                                    "3": "Coruña",
                                    "4": "7",
                                    "5": "42.9000000000",
                                    "6": "26795.0000000000"
                                },
                                {
                                    "0": "P-0205",
                                    "1": "2018",
                                    "2": "Algas",
                                    "3": "Coruña",
                                    "4": "1",
                                    "5": "42.2000000000",
                                    "6": "26067.0000000000"
                                },
                                {
                                    "0": "P-0206",
                                    "1": "2018",
                                    "2": "Setas",
                                    "3": "Pontevedra",
                                    "4": "25",
                                    "5": "41.8000000000",
                                    "6": "29733.0000000000"
                                },
                                {
                                    "0": "P-0207",
                                    "1": "2018",
                                    "2": "Setas",
                                    "3": "Pontevedra",
                                    "4": "25",
                                    "5": "33.5000000000",
                                    "6": "23302.0000000000"
                                },
                                {
                                    "0": "P-0208",
                                    "1": "2018",
                                    "2": "Algas",
                                    "3": "Lugo",
                                    "4": "9",
                                    "5": "39.9000000000",
                                    "6": "24898.0000000000"
                                },
                                {
                                    "0": "P-0209",
                                    "1": "2018",
                                    "2": "Algas",
                                    "3": "Coruña",
                                    "4": "4",
                                    "5": "42.2000000000",
                                    "6": "26320.0000000000"
                                },
                                {
                                    "0": "P-0211",
                                    "1": "2018",
                                    "2": "Algas",
                                    "3": "Coruña",
                                    "4": "12",
                                    "5": "42.2000000000",
                                    "6": "26573.0000000000"
                                },
                                {
                                    "0": "P-0212",
                                    "1": "2018",
                                    "2": "Setas",
                                    "3": "Pontevedra",
                                    "4": "28",
                                    "5": "38.5000000000",
                                    "6": "26502.0000000000"
                                },
                                {
                                    "0": "P-0214",
                                    "1": "2018",
                                    "2": "Algas",
                                    "3": "Pontevedra",
                                    "4": "27",
                                    "5": "33.1000000000",
                                    "6": "20071.0000000000"
                                },
                                {
                                    "0": "P-0216",
                                    "1": "2018",
                                    "2": "Setas",
                                    "3": "Pontevedra",
                                    "4": "25",
                                    "5": "35.6000000000",
                                    "6": "25376.0000000000"
                                },
                                {
                                    "0": "P-0217",
                                    "1": "2018",
                                    "2": "Setas",
                                    "3": "Pontevedra",
                                    "4": "22",
                                    "5": "34.6000000000",
                                    "6": "23777.0000000000"
                                },
                                {
                                    "0": "P-0218",
                                    "1": "2018",
                                    "2": "Algas",
                                    "3": "Coruña",
                                    "4": "4",
                                    "5": "39.9000000000",
                                    "6": "24658.0000000000"
                                },
                                {
                                    "0": "P-0219",
                                    "1": "2018",
                                    "2": "Setas",
                                    "3": "Ourense",
                                    "4": "27",
                                    "5": "33.1000000000",
                                    "6": "24376.0000000000"
                                },
                                {
                                    "0": "P-0220",
                                    "1": "2018",
                                    "2": "Setas",
                                    "3": "Pontevedra",
                                    "4": "21",
                                    "5": "36.4000000000",
                                    "6": "26761.0000000000"
                                },
                                {
                                    "0": "P-0222",
                                    "1": "2018",
                                    "2": "Setas",
                                    "3": "Coruña",
                                    "4": "31",
                                    "5": "39.9000000000",
                                    "6": "29047.0000000000"
                                },
                                {
                                    "0": "P-0223",
                                    "1": "2018",
                                    "2": "Algas",
                                    "3": "Coruña",
                                    "4": "13",
                                    "5": "41.4000000000",
                                    "6": "25598.0000000000"
                                },
                                {
                                    "0": "P-0228",
                                    "1": "2018",
                                    "2": "Algas",
                                    "3": "Coruña",
                                    "4": "20",
                                    "5": "41.0000000000",
                                    "6": "25855.0000000000"
                                },
                                {
                                    "0": "P-0231",
                                    "1": "2018",
                                    "2": "Algas",
                                    "3": "Coruña",
                                    "4": "1",
                                    "5": "42.2000000000",
                                    "6": "26573.0000000000"
                                },
                                {
                                    "0": "P-0232",
                                    "1": "2018",
                                    "2": "Setas",
                                    "3": "Pontevedra",
                                    "4": "27",
                                    "5": "36.0000000000",
                                    "6": "26784.0000000000"
                                },
                                {
                                    "0": "P-0233",
                                    "1": "2018",
                                    "2": "Algas",
                                    "3": "Pontevedra",
                                    "4": "21",
                                    "5": "36.0000000000",
                                    "6": "21168.0000000000"
                                },
                                {
                                    "0": "P-0234",
                                    "1": "2018",
                                    "2": "Setas",
                                    "3": "Pontevedra",
                                    "4": "28",
                                    "5": "37.1000000000",
                                    "6": "26401.0000000000"
                                },
                                {
                                    "0": "P-0236",
                                    "1": "2018",
                                    "2": "Algas",
                                    "3": "Coruña",
                                    "4": "16",
                                    "5": "39.9000000000",
                                    "6": "24419.0000000000"
                                },
                                {
                                    "0": "P-0237",
                                    "1": "2018",
                                    "2": "Algas",
                                    "3": "Coruña",
                                    "4": "14",
                                    "5": "41.4000000000",
                                    "6": "25349.0000000000"
                                },
                                {
                                    "0": "P-0240",
                                    "1": "2018",
                                    "2": "Algas",
                                    "3": "Lugo",
                                    "4": "3",
                                    "5": "41.0000000000",
                                    "6": "25363.0000000000"
                                },
                                {
                                    "0": "P-0241",
                                    "1": "2018",
                                    "2": "Algas",
                                    "3": "Pontevedra",
                                    "4": "21",
                                    "5": "37.8000000000",
                                    "6": "22226.0000000000"
                                },
                                {
                                    "0": "P-0242",
                                    "1": "2018",
                                    "2": "Algas",
                                    "3": "Pontevedra",
                                    "4": "23",
                                    "5": "43.6000000000",
                                    "6": "26659.0000000000"
                                },
                                {
                                    "0": "P-0243",
                                    "1": "2018",
                                    "2": "Setas",
                                    "3": "Coruña",
                                    "4": "6",
                                    "5": "40.3000000000",
                                    "6": "29324.0000000000"
                                },
                                {
                                    "0": "P-0244",
                                    "1": "2018",
                                    "2": "Setas",
                                    "3": "Pontevedra",
                                    "4": "22",
                                    "5": "40.0000000000",
                                    "6": "29411.0000000000"
                                },
                                {
                                    "0": "P-0245",
                                    "1": "2018",
                                    "2": "Setas",
                                    "3": "Ourense",
                                    "4": "26",
                                    "5": "34.6000000000",
                                    "6": "24330.0000000000"
                                },
                                {
                                    "0": "P-0246",
                                    "1": "2018",
                                    "2": "Algas",
                                    "3": "Pontevedra",
                                    "4": "23",
                                    "5": "46.8000000000",
                                    "6": "27799.0000000000"
                                },
                                {
                                    "0": "P-0248",
                                    "1": "2018",
                                    "2": "Algas",
                                    "3": "Coruña",
                                    "4": "13",
                                    "5": "41.8000000000",
                                    "6": "26334.0000000000"
                                },
                                {
                                    "0": "P-0249",
                                    "1": "2018",
                                    "2": "Setas",
                                    "3": "Pontevedra",
                                    "4": "21",
                                    "5": "36.0000000000",
                                    "6": "25344.0000000000"
                                },
                                {
                                    "0": "P-0250",
                                    "1": "2018",
                                    "2": "Setas",
                                    "3": "Pontevedra",
                                    "4": "21",
                                    "5": "35.3000000000",
                                    "6": "25402.0000000000"
                                },
                                {
                                    "0": "P-0251",
                                    "1": "2018",
                                    "2": "Algas",
                                    "3": "Lugo",
                                    "4": "14",
                                    "5": "41.8000000000",
                                    "6": "25582.0000000000"
                                },
                                {
                                    "0": "P-0254",
                                    "1": "2018",
                                    "2": "Algas",
                                    "3": "Coruña",
                                    "4": "2",
                                    "5": "41.4000000000",
                                    "6": "25846.0000000000"
                                },
                                {
                                    "0": "P-0255",
                                    "1": "2018",
                                    "2": "Setas",
                                    "3": "Pontevedra",
                                    "4": "23",
                                    "5": "32.8000000000",
                                    "6": "22801.0000000000"
                                },
                                {
                                    "0": "P-0257",
                                    "1": "2018",
                                    "2": "Setas",
                                    "3": "Ourense",
                                    "4": "25",
                                    "5": "35.3000000000",
                                    "6": "23990.0000000000"
                                },
                                {
                                    "0": "P-0258",
                                    "1": "2018",
                                    "2": "Setas",
                                    "3": "Coruña",
                                    "4": "11",
                                    "5": "39.9000000000",
                                    "6": "29366.0000000000"
                                },
                                {
                                    "0": "P-0262",
                                    "1": "2018",
                                    "2": "Algas",
                                    "3": "Pontevedra",
                                    "4": "23",
                                    "5": "44.6000000000",
                                    "6": "26784.0000000000"
                                },
                                {
                                    "0": "P-0263",
                                    "1": "2018",
                                    "2": "Algas",
                                    "3": "Coruña",
                                    "4": "6",
                                    "5": "41.8000000000",
                                    "6": "25582.0000000000"
                                },
                                {
                                    "0": "P-0265",
                                    "1": "2018",
                                    "2": "Algas",
                                    "3": "Pontevedra",
                                    "4": "26",
                                    "5": "40.0000000000",
                                    "6": "23736.0000000000"
                                },
                                {
                                    "0": "P-0266",
                                    "1": "2018",
                                    "2": "Algas",
                                    "3": "Coruña",
                                    "4": "2",
                                    "5": "40.3000000000",
                                    "6": "25376.0000000000"
                                },
                                {
                                    "0": "P-0267",
                                    "1": "2018",
                                    "2": "Setas",
                                    "3": "Coruña",
                                    "4": "17",
                                    "5": "41.0000000000",
                                    "6": "29877.0000000000"
                                },
                                {
                                    "0": "P-0270",
                                    "1": "2018",
                                    "2": "Algas",
                                    "3": "Coruña",
                                    "4": "2",
                                    "5": "41.4000000000",
                                    "6": "25846.0000000000"
                                },
                                {
                                    "0": "P-0271",
                                    "1": "2018",
                                    "2": "Setas",
                                    "3": "Ourense",
                                    "4": "25",
                                    "5": "36.7000000000",
                                    "6": "26732.0000000000"
                                },
                                {
                                    "0": "P-0272",
                                    "1": "2018",
                                    "2": "Algas",
                                    "3": "Coruña",
                                    "4": "2",
                                    "5": "42.2000000000",
                                    "6": "26320.0000000000"
                                },
                                {
                                    "0": "P-0273",
                                    "1": "2018",
                                    "2": "Algas",
                                    "3": "Ourense",
                                    "4": "24",
                                    "5": "42.5000000000",
                                    "6": "25233.0000000000"
                                },
                                {
                                    "0": "P-0274",
                                    "1": "2018",
                                    "2": "Setas",
                                    "3": "Pontevedra",
                                    "4": "21",
                                    "5": "39.6000000000",
                                    "6": "27245.0000000000"
                                },
                                {
                                    "0": "P-0275",
                                    "1": "2018",
                                    "2": "Algas",
                                    "3": "Pontevedra",
                                    "4": "22",
                                    "5": "43.6000000000",
                                    "6": "26397.0000000000"
                                },
                                {
                                    "0": "P-0277",
                                    "1": "2018",
                                    "2": "Algas",
                                    "3": "Pontevedra",
                                    "4": "24",
                                    "5": "41.8000000000",
                                    "6": "24555.0000000000"
                                },
                                {
                                    "0": "P-0278",
                                    "1": "2018",
                                    "2": "Setas",
                                    "3": "Pontevedra",
                                    "4": "27",
                                    "5": "38.5000000000",
                                    "6": "27734.0000000000"
                                },
                                {
                                    "0": "P-0279",
                                    "1": "2018",
                                    "2": "Setas",
                                    "3": "Pontevedra",
                                    "4": "26",
                                    "5": "37.4000000000",
                                    "6": "25759.0000000000"
                                },
                                {
                                    "0": "P-0280",
                                    "1": "2018",
                                    "2": "Setas",
                                    "3": "Ourense",
                                    "4": "21",
                                    "5": "36.7000000000",
                                    "6": "27613.0000000000"
                                },
                                {
                                    "0": "P-0281",
                                    "1": "2018",
                                    "2": "Setas",
                                    "3": "Pontevedra",
                                    "4": "21",
                                    "5": "35.3000000000",
                                    "6": "24273.0000000000"
                                },
                                {
                                    "0": "P-0282",
                                    "1": "2018",
                                    "2": "Algas",
                                    "3": "Pontevedra",
                                    "4": "23",
                                    "5": "45.4000000000",
                                    "6": "26672.0000000000"
                                },
                                {
                                    "0": "P-0287",
                                    "1": "2018",
                                    "2": "Setas",
                                    "3": "Pontevedra",
                                    "4": "26",
                                    "5": "32.8000000000",
                                    "6": "24898.0000000000"
                                },
                                {
                                    "0": "P-0288",
                                    "1": "2018",
                                    "2": "Algas",
                                    "3": "Pontevedra",
                                    "4": "22",
                                    "5": "46.1000000000",
                                    "6": "27372.0000000000"
                                },
                                {
                                    "0": "P-0289",
                                    "1": "2018",
                                    "2": "Algas",
                                    "3": "Coruña",
                                    "4": "17",
                                    "5": "42.6000000000",
                                    "6": "26813.0000000000"
                                },
                                {
                                    "0": "P-0290",
                                    "1": "2018",
                                    "2": "Algas",
                                    "3": "Coruña",
                                    "4": "13",
                                    "5": "43.7000000000",
                                    "6": "27269.0000000000"
                                },
                                {
                                    "0": "P-0291",
                                    "1": "2018",
                                    "2": "Algas",
                                    "3": "Coruña",
                                    "4": "11",
                                    "5": "43.7000000000",
                                    "6": "27007.0000000000"
                                },
                                {
                                    "0": "P-0293",
                                    "1": "2018",
                                    "2": "Setas",
                                    "3": "Pontevedra",
                                    "4": "23",
                                    "5": "38.2000000000",
                                    "6": "28391.0000000000"
                                },
                                {
                                    "0": "P-0294",
                                    "1": "2018",
                                    "2": "Setas",
                                    "3": "Ourense",
                                    "4": "21",
                                    "5": "33.5000000000",
                                    "6": "25177.0000000000"
                                },
                                {
                                    "0": "P-0295",
                                    "1": "2018",
                                    "2": "Algas",
                                    "3": "Coruña",
                                    "4": "8",
                                    "5": "42.2000000000",
                                    "6": "26320.0000000000"
                                },
                                {
                                    "0": "P-0296",
                                    "1": "2018",
                                    "2": "Algas",
                                    "3": "Coruña",
                                    "4": "13",
                                    "5": "40.7000000000",
                                    "6": "25372.0000000000"
                                },
                                {
                                    "0": "P-0297",
                                    "1": "2018",
                                    "2": "Algas",
                                    "3": "Lugo",
                                    "4": "15",
                                    "5": "42.9000000000",
                                    "6": "26537.0000000000"
                                },
                                {
                                    "0": "P-0298",
                                    "1": "2018",
                                    "2": "Algas",
                                    "3": "Lugo",
                                    "4": "18",
                                    "5": "42.2000000000",
                                    "6": "26320.0000000000"
                                },
                                {
                                    "0": "P-0299",
                                    "1": "2018",
                                    "2": "Algas",
                                    "3": "Coruña",
                                    "4": "11",
                                    "5": "41.0000000000",
                                    "6": "25116.0000000000"
                                },
                                {
                                    "0": "P-0300",
                                    "1": "2018",
                                    "2": "Algas",
                                    "3": "Coruña",
                                    "4": "11",
                                    "5": "42.2000000000",
                                    "6": "26573.0000000000"
                                },
                                {
                                    "0": "P-0304",
                                    "1": "2019",
                                    "2": "Setas",
                                    "3": "Ourense",
                                    "4": "28",
                                    "5": "41.4000000000",
                                    "6": "26522.0000000000"
                                },
                                {
                                    "0": "P-0305",
                                    "1": "2019",
                                    "2": "Algas",
                                    "3": "Coruña",
                                    "4": "18",
                                    "5": "42.4000000000",
                                    "6": "25949.0000000000"
                                },
                                {
                                    "0": "P-0306",
                                    "1": "2019",
                                    "2": "Setas",
                                    "3": "Ourense",
                                    "4": "24",
                                    "5": "33.3000000000",
                                    "6": "21312.0000000000"
                                },
                                {
                                    "0": "P-0307",
                                    "1": "2019",
                                    "2": "Algas",
                                    "3": "Coruña",
                                    "4": "14",
                                    "5": "42.8000000000",
                                    "6": "26450.0000000000"
                                },
                                {
                                    "0": "P-0308",
                                    "1": "2019",
                                    "2": "Algas",
                                    "3": "Lugo",
                                    "4": "4",
                                    "5": "45.6000000000",
                                    "6": "28181.0000000000"
                                },
                                {
                                    "0": "P-0309",
                                    "1": "2019",
                                    "2": "Algas",
                                    "3": "Coruña",
                                    "4": "18",
                                    "5": "42.0000000000",
                                    "6": "25956.0000000000"
                                },
                                {
                                    "0": "P-0310",
                                    "1": "2019",
                                    "2": "Algas",
                                    "3": "Coruña",
                                    "4": "5",
                                    "5": "43.2000000000",
                                    "6": "27216.0000000000"
                                },
                                {
                                    "0": "P-0311",
                                    "1": "2019",
                                    "2": "Algas",
                                    "3": "Pontevedra",
                                    "4": "25",
                                    "5": "47.4000000000",
                                    "6": "28416.0000000000"
                                },
                                {
                                    "0": "P-0312",
                                    "1": "2019",
                                    "2": "Algas",
                                    "3": "Coruña",
                                    "4": "6",
                                    "5": "44.4000000000",
                                    "6": "27972.0000000000"
                                },
                                {
                                    "0": "P-0315",
                                    "1": "2019",
                                    "2": "Setas",
                                    "3": "Pontevedra",
                                    "4": "25",
                                    "5": "41.4000000000",
                                    "6": "27516.0000000000"
                                },
                                {
                                    "0": "P-0319",
                                    "1": "2019",
                                    "2": "Algas",
                                    "3": "Coruña",
                                    "4": "19",
                                    "5": "42.4000000000",
                                    "6": "26203.0000000000"
                                },
                                {
                                    "0": "P-0321",
                                    "1": "2019",
                                    "2": "Setas",
                                    "3": "Pontevedra",
                                    "4": "22",
                                    "5": "33.3000000000",
                                    "6": "21312.0000000000"
                                },
                                {
                                    "0": "P-0322",
                                    "1": "2019",
                                    "2": "Algas",
                                    "3": "Coruña",
                                    "4": "16",
                                    "5": "45.2000000000",
                                    "6": "27934.0000000000"
                                },
                                {
                                    "0": "P-0324",
                                    "1": "2019",
                                    "2": "Algas",
                                    "3": "Lugo",
                                    "4": "4",
                                    "5": "42.8000000000",
                                    "6": "26964.0000000000"
                                },
                                {
                                    "0": "P-0325",
                                    "1": "2019",
                                    "2": "Setas",
                                    "3": "Pontevedra",
                                    "4": "27",
                                    "5": "40.3000000000",
                                    "6": "25811.0000000000"
                                },
                                {
                                    "0": "P-0327",
                                    "1": "2019",
                                    "2": "Algas",
                                    "3": "Coruña",
                                    "4": "5",
                                    "5": "44.0000000000",
                                    "6": "27192.0000000000"
                                },
                                {
                                    "0": "P-0328",
                                    "1": "2019",
                                    "2": "Setas",
                                    "3": "Pontevedra",
                                    "4": "21",
                                    "5": "42.6000000000",
                                    "6": "28253.0000000000"
                                },
                                {
                                    "0": "P-0330",
                                    "1": "2019",
                                    "2": "Setas",
                                    "3": "Pontevedra",
                                    "4": "23",
                                    "5": "41.1000000000",
                                    "6": "26285.0000000000"
                                },
                                {
                                    "0": "P-0332",
                                    "1": "2019",
                                    "2": "Setas",
                                    "3": "Ourense",
                                    "4": "22",
                                    "5": "35.2000000000",
                                    "6": "24746.0000000000"
                                },
                                {
                                    "0": "P-0333",
                                    "1": "2019",
                                    "2": "Algas",
                                    "3": "Coruña",
                                    "4": "7",
                                    "5": "44.4000000000",
                                    "6": "27972.0000000000"
                                },
                                {
                                    "0": "P-0334",
                                    "1": "2019",
                                    "2": "Algas",
                                    "3": "Pontevedra",
                                    "4": "26",
                                    "5": "34.8000000000",
                                    "6": "20868.0000000000"
                                },
                                {
                                    "0": "P-0335",
                                    "1": "2019",
                                    "2": "Algas",
                                    "3": "Coruña",
                                    "4": "17",
                                    "5": "42.8000000000",
                                    "6": "26194.0000000000"
                                },
                                {
                                    "0": "P-0337",
                                    "1": "2019",
                                    "2": "Setas",
                                    "3": "Pontevedra",
                                    "4": "27",
                                    "5": "37.7000000000",
                                    "6": "25663.0000000000"
                                },
                                {
                                    "0": "P-0338",
                                    "1": "2019",
                                    "2": "Algas",
                                    "3": "Ourense",
                                    "4": "22",
                                    "5": "41.1000000000",
                                    "6": "24888.0000000000"
                                },
                                {
                                    "0": "P-0339",
                                    "1": "2019",
                                    "2": "Algas",
                                    "3": "Coruña",
                                    "4": "5",
                                    "5": "42.8000000000",
                                    "6": "26450.0000000000"
                                },
                                {
                                    "0": "P-0340",
                                    "1": "2019",
                                    "2": "Algas",
                                    "3": "Coruña",
                                    "4": "14",
                                    "5": "44.4000000000",
                                    "6": "27706.0000000000"
                                },
                                {
                                    "0": "P-0341",
                                    "1": "2019",
                                    "2": "Algas",
                                    "3": "Lugo",
                                    "4": "15",
                                    "5": "45.2000000000",
                                    "6": "28205.0000000000"
                                },
                                {
                                    "0": "P-0342",
                                    "1": "2019",
                                    "2": "Setas",
                                    "3": "Pontevedra",
                                    "4": "21",
                                    "5": "37.4000000000",
                                    "6": "25412.0000000000"
                                },
                                {
                                    "0": "P-0344",
                                    "1": "2019",
                                    "2": "Algas",
                                    "3": "Coruña",
                                    "4": "4",
                                    "5": "44.0000000000",
                                    "6": "27456.0000000000"
                                },
                                {
                                    "0": "P-0347",
                                    "1": "2019",
                                    "2": "Algas",
                                    "3": "Coruña",
                                    "4": "18",
                                    "5": "43.6000000000",
                                    "6": "27206.0000000000"
                                },
                                {
                                    "0": "P-0348",
                                    "1": "2019",
                                    "2": "Algas",
                                    "3": "Coruña",
                                    "4": "19",
                                    "5": "44.0000000000",
                                    "6": "27456.0000000000"
                                },
                                {
                                    "0": "P-0351",
                                    "1": "2019",
                                    "2": "Algas",
                                    "3": "Coruña",
                                    "4": "9",
                                    "5": "42.0000000000",
                                    "6": "26208.0000000000"
                                },
                                {
                                    "0": "P-0353",
                                    "1": "2019",
                                    "2": "Setas",
                                    "3": "Pontevedra",
                                    "4": "22",
                                    "5": "42.2000000000",
                                    "6": "29020.0000000000"
                                },
                                {
                                    "0": "P-0358",
                                    "1": "2019",
                                    "2": "Algas",
                                    "3": "Coruña",
                                    "4": "11",
                                    "5": "44.8000000000",
                                    "6": "27686.0000000000"
                                },
                                {
                                    "0": "P-0359",
                                    "1": "2019",
                                    "2": "Setas",
                                    "3": "Ourense",
                                    "4": "21",
                                    "5": "37.7000000000",
                                    "6": "25663.0000000000"
                                },
                                {
                                    "0": "P-0361",
                                    "1": "2019",
                                    "2": "Setas",
                                    "3": "Pontevedra",
                                    "4": "22",
                                    "5": "42.9000000000",
                                    "6": "28842.0000000000"
                                },
                                {
                                    "0": "P-0362",
                                    "1": "2019",
                                    "2": "Algas",
                                    "3": "Pontevedra",
                                    "4": "27",
                                    "5": "45.5000000000",
                                    "6": "27306.0000000000"
                                },
                                {
                                    "0": "P-0363",
                                    "1": "2019",
                                    "2": "Setas",
                                    "3": "Ourense",
                                    "4": "21",
                                    "5": "46.3000000000",
                                    "6": "28860.0000000000"
                                },
                                {
                                    "0": "P-0366",
                                    "1": "2019",
                                    "2": "Algas",
                                    "3": "Coruña",
                                    "4": "18",
                                    "5": "44.4000000000",
                                    "6": "27972.0000000000"
                                },
                                {
                                    "0": "P-0369",
                                    "1": "2019",
                                    "2": "Algas",
                                    "3": "Coruña",
                                    "4": "9",
                                    "5": "42.8000000000",
                                    "6": "26964.0000000000"
                                },
                                {
                                    "0": "P-0370",
                                    "1": "2019",
                                    "2": "Algas",
                                    "3": "Pontevedra",
                                    "4": "23",
                                    "5": "45.9000000000",
                                    "6": "26977.0000000000"
                                },
                                {
                                    "0": "P-0371",
                                    "1": "2019",
                                    "2": "Setas",
                                    "3": "Pontevedra",
                                    "4": "21",
                                    "5": "36.3000000000",
                                    "6": "24077.0000000000"
                                },
                                {
                                    "0": "P-0372",
                                    "1": "2019",
                                    "2": "Algas",
                                    "3": "Coruña",
                                    "4": "13",
                                    "5": "44.8000000000",
                                    "6": "27686.0000000000"
                                },
                                {
                                    "0": "P-0373",
                                    "1": "2019",
                                    "2": "Algas",
                                    "3": "Pontevedra",
                                    "4": "26",
                                    "5": "45.5000000000",
                                    "6": "26760.0000000000"
                                },
                                {
                                    "0": "P-0374",
                                    "1": "2019",
                                    "2": "Setas",
                                    "3": "Pontevedra",
                                    "4": "28",
                                    "5": "41.4000000000",
                                    "6": "26522.0000000000"
                                },
                                {
                                    "0": "P-0375",
                                    "1": "2019",
                                    "2": "Setas",
                                    "3": "Pontevedra",
                                    "4": "27",
                                    "5": "39.6000000000",
                                    "6": "25654.0000000000"
                                },
                                {
                                    "0": "P-0377",
                                    "1": "2019",
                                    "2": "Setas",
                                    "3": "Pontevedra",
                                    "4": "28",
                                    "5": "38.5000000000",
                                    "6": "26782.0000000000"
                                },
                                {
                                    "0": "P-0378",
                                    "1": "2019",
                                    "2": "Algas",
                                    "3": "Coruña",
                                    "4": "5",
                                    "5": "46.0000000000",
                                    "6": "28152.0000000000"
                                },
                                {
                                    "0": "P-0380",
                                    "1": "2019",
                                    "2": "Setas",
                                    "3": "Ourense",
                                    "4": "26",
                                    "5": "38.5000000000",
                                    "6": "24627.0000000000"
                                },
                                {
                                    "0": "P-0381",
                                    "1": "2019",
                                    "2": "Algas",
                                    "3": "Lugo",
                                    "4": "3",
                                    "5": "42.0000000000",
                                    "6": "26460.0000000000"
                                },
                                {
                                    "0": "P-0382",
                                    "1": "2019",
                                    "2": "Algas",
                                    "3": "Ourense",
                                    "4": "22",
                                    "5": "33.7000000000",
                                    "6": "20606.0000000000"
                                },
                                {
                                    "0": "P-0383",
                                    "1": "2019",
                                    "2": "Algas",
                                    "3": "Lugo",
                                    "4": "1",
                                    "5": "44.4000000000",
                                    "6": "27706.0000000000"
                                },
                                {
                                    "0": "P-0384",
                                    "1": "2019",
                                    "2": "Algas",
                                    "3": "Pontevedra",
                                    "4": "22",
                                    "5": "39.2000000000",
                                    "6": "23061.0000000000"
                                },
                                {
                                    "0": "P-0385",
                                    "1": "2019",
                                    "2": "Algas",
                                    "3": "Ourense",
                                    "4": "23",
                                    "5": "34.8000000000",
                                    "6": "20659.0000000000"
                                },
                                {
                                    "0": "P-0386",
                                    "1": "2019",
                                    "2": "Algas",
                                    "3": "Coruña",
                                    "4": "13",
                                    "5": "43.6000000000",
                                    "6": "27206.0000000000"
                                },
                                {
                                    "0": "P-0388",
                                    "1": "2019",
                                    "2": "Algas",
                                    "3": "Coruña",
                                    "4": "11",
                                    "5": "45.2000000000",
                                    "6": "27934.0000000000"
                                },
                                {
                                    "0": "P-0391",
                                    "1": "2019",
                                    "2": "Algas",
                                    "3": "Pontevedra",
                                    "4": "27",
                                    "5": "40.3000000000",
                                    "6": "24682.0000000000"
                                },
                                {
                                    "0": "P-0392",
                                    "1": "2019",
                                    "2": "Algas",
                                    "3": "Lugo",
                                    "4": "19",
                                    "5": "43.6000000000",
                                    "6": "26945.0000000000"
                                },
                                {
                                    "0": "P-0393",
                                    "1": "2019",
                                    "2": "Setas",
                                    "3": "Pontevedra",
                                    "4": "25",
                                    "5": "38.1000000000",
                                    "6": "24390.0000000000"
                                },
                                {
                                    "0": "P-0394",
                                    "1": "2019",
                                    "2": "Setas",
                                    "3": "Ourense",
                                    "4": "28",
                                    "5": "43.7000000000",
                                    "6": "29689.0000000000"
                                },
                                {
                                    "0": "P-0395",
                                    "1": "2019",
                                    "2": "Setas",
                                    "3": "Pontevedra",
                                    "4": "21",
                                    "5": "40.0000000000",
                                    "6": "26533.0000000000"
                                },
                                {
                                    "0": "P-0397",
                                    "1": "2019",
                                    "2": "Algas",
                                    "3": "Pontevedra",
                                    "4": "27",
                                    "5": "48.1000000000",
                                    "6": "28283.0000000000"
                                },
                                {
                                    "0": "P-0398",
                                    "1": "2019",
                                    "2": "Algas",
                                    "3": "Lugo",
                                    "4": "18",
                                    "5": "45.2000000000",
                                    "6": "28476.0000000000"
                                },
                                {
                                    "0": "P-0400",
                                    "1": "2019",
                                    "2": "Setas",
                                    "3": "Pontevedra",
                                    "4": "24",
                                    "5": "38.1000000000",
                                    "6": "25915.0000000000"
                                },
                                {
                                    "0": "P-0401",
                                    "1": "2019",
                                    "2": "Algas",
                                    "3": "Coruña",
                                    "4": "15",
                                    "5": "43.6000000000",
                                    "6": "26945.0000000000"
                                },
                                {
                                    "0": "P-0402",
                                    "1": "2019",
                                    "2": "Algas",
                                    "3": "Pontevedra",
                                    "4": "23",
                                    "5": "41.8000000000",
                                    "6": "24584.0000000000"
                                },
                                {
                                    "0": "P-0403",
                                    "1": "2019",
                                    "2": "Algas",
                                    "3": "Coruña",
                                    "4": "9",
                                    "5": "45.6000000000",
                                    "6": "28181.0000000000"
                                },
                                {
                                    "0": "P-0404",
                                    "1": "2019",
                                    "2": "Algas",
                                    "3": "Coruña",
                                    "4": "4",
                                    "5": "42.8000000000",
                                    "6": "26194.0000000000"
                                },
                                {
                                    "0": "P-0405",
                                    "1": "2019",
                                    "2": "Setas",
                                    "3": "Ourense",
                                    "4": "24",
                                    "5": "40.7000000000",
                                    "6": "26048.0000000000"
                                },
                                {
                                    "0": "P-0406",
                                    "1": "2019",
                                    "2": "Algas",
                                    "3": "Coruña",
                                    "4": "5",
                                    "5": "43.6000000000",
                                    "6": "26683.0000000000"
                                },
                                {
                                    "0": "P-0409",
                                    "1": "2019",
                                    "2": "Setas",
                                    "3": "Pontevedra",
                                    "4": "25",
                                    "5": "44.4000000000",
                                    "6": "29837.0000000000"
                                },
                                {
                                    "0": "P-0412",
                                    "1": "2019",
                                    "2": "Setas",
                                    "3": "Pontevedra",
                                    "4": "23",
                                    "5": "37.4000000000",
                                    "6": "24515.0000000000"
                                },
                                {
                                    "0": "P-0414",
                                    "1": "2019",
                                    "2": "Setas",
                                    "3": "Pontevedra",
                                    "4": "24",
                                    "5": "46.6000000000",
                                    "6": "29837.0000000000"
                                },
                                {
                                    "0": "P-0418",
                                    "1": "2019",
                                    "2": "Setas",
                                    "3": "Pontevedra",
                                    "4": "23",
                                    "5": "39.6000000000",
                                    "6": "27238.0000000000"
                                },
                                {
                                    "0": "P-0420",
                                    "1": "2019",
                                    "2": "Algas",
                                    "3": "Lugo",
                                    "4": "7",
                                    "5": "44.0000000000",
                                    "6": "27192.0000000000"
                                },
                                {
                                    "0": "P-0421",
                                    "1": "2019",
                                    "2": "Algas",
                                    "3": "Lugo",
                                    "4": "9",
                                    "5": "44.0000000000",
                                    "6": "27456.0000000000"
                                },
                                {
                                    "0": "P-0422",
                                    "1": "2019",
                                    "2": "Setas",
                                    "3": "Ourense",
                                    "4": "28",
                                    "5": "39.6000000000",
                                    "6": "25338.0000000000"
                                },
                                {
                                    "0": "P-0423",
                                    "1": "2019",
                                    "2": "Setas",
                                    "3": "Pontevedra",
                                    "4": "25",
                                    "5": "37.4000000000",
                                    "6": "24216.0000000000"
                                },
                                {
                                    "0": "P-0424",
                                    "1": "2019",
                                    "2": "Algas",
                                    "3": "Coruña",
                                    "4": "17",
                                    "5": "45.6000000000",
                                    "6": "28454.0000000000"
                                },
                                {
                                    "0": "P-0425",
                                    "1": "2019",
                                    "2": "Setas",
                                    "3": "Pontevedra",
                                    "4": "23",
                                    "5": "34.0000000000",
                                    "6": "22058.0000000000"
                                },
                                {
                                    "0": "P-0427",
                                    "1": "2019",
                                    "2": "Algas",
                                    "3": "Coruña",
                                    "4": "5",
                                    "5": "42.0000000000",
                                    "6": "26208.0000000000"
                                },
                                {
                                    "0": "P-0429",
                                    "1": "2019",
                                    "2": "Setas",
                                    "3": "Pontevedra",
                                    "4": "27",
                                    "5": "45.1000000000",
                                    "6": "29251.0000000000"
                                },
                                {
                                    "0": "P-0430",
                                    "1": "2019",
                                    "2": "Setas",
                                    "3": "Pontevedra",
                                    "4": "23",
                                    "5": "39.2000000000",
                                    "6": "26983.0000000000"
                                },
                                {
                                    "0": "P-0432",
                                    "1": "2019",
                                    "2": "Setas",
                                    "3": "Pontevedra",
                                    "4": "23",
                                    "5": "34.8000000000",
                                    "6": "23929.0000000000"
                                },
                                {
                                    "0": "P-0434",
                                    "1": "2019",
                                    "2": "Setas",
                                    "3": "Pontevedra",
                                    "4": "28",
                                    "5": "42.9000000000",
                                    "6": "28156.0000000000"
                                },
                                {
                                    "0": "P-0435",
                                    "1": "2019",
                                    "2": "Algas",
                                    "3": "Lugo",
                                    "4": "4",
                                    "5": "42.4000000000",
                                    "6": "26203.0000000000"
                                },
                                {
                                    "0": "P-0437",
                                    "1": "2019",
                                    "2": "Algas",
                                    "3": "Coruña",
                                    "4": "4",
                                    "5": "45.2000000000",
                                    "6": "27934.0000000000"
                                },
                                {
                                    "0": "P-0438",
                                    "1": "2019",
                                    "2": "Algas",
                                    "3": "Coruña",
                                    "4": "7",
                                    "5": "42.4000000000",
                                    "6": "26203.0000000000"
                                },
                                {
                                    "0": "P-0439",
                                    "1": "2019",
                                    "2": "Algas",
                                    "3": "Lugo",
                                    "4": "3",
                                    "5": "46.0000000000",
                                    "6": "28428.0000000000"
                                },
                                {
                                    "0": "P-0441",
                                    "1": "2019",
                                    "2": "Setas",
                                    "3": "Ourense",
                                    "4": "27",
                                    "5": "34.4000000000",
                                    "6": "23949.0000000000"
                                },
                                {
                                    "0": "P-0444",
                                    "1": "2019",
                                    "2": "Setas",
                                    "3": "Ourense",
                                    "4": "21",
                                    "5": "44.4000000000",
                                    "6": "28416.0000000000"
                                },
                                {
                                    "0": "P-0445",
                                    "1": "2019",
                                    "2": "Setas",
                                    "3": "Ourense",
                                    "4": "27",
                                    "5": "40.7000000000",
                                    "6": "25722.0000000000"
                                },
                                {
                                    "0": "P-0447",
                                    "1": "2019",
                                    "2": "Algas",
                                    "3": "Coruña",
                                    "4": "1",
                                    "5": "42.8000000000",
                                    "6": "26707.0000000000"
                                },
                                {
                                    "0": "P-0448",
                                    "1": "2019",
                                    "2": "Algas",
                                    "3": "Coruña",
                                    "4": "12",
                                    "5": "45.2000000000",
                                    "6": "27662.0000000000"
                                },
                                {
                                    "0": "P-0452",
                                    "1": "2019",
                                    "2": "Algas",
                                    "3": "Pontevedra",
                                    "4": "26",
                                    "5": "38.5000000000",
                                    "6": "23550.0000000000"
                                },
                                {
                                    "0": "P-0453",
                                    "1": "2019",
                                    "2": "Algas",
                                    "3": "Pontevedra",
                                    "4": "27",
                                    "5": "46.6000000000",
                                    "6": "28252.0000000000"
                                },
                                {
                                    "0": "P-0456",
                                    "1": "2019",
                                    "2": "Algas",
                                    "3": "Pontevedra",
                                    "4": "27",
                                    "5": "37.7000000000",
                                    "6": "22870.0000000000"
                                },
                                {
                                    "0": "P-0457",
                                    "1": "2019",
                                    "2": "Algas",
                                    "3": "Coruña",
                                    "4": "17",
                                    "5": "45.2000000000",
                                    "6": "28476.0000000000"
                                },
                                {
                                    "0": "P-0458",
                                    "1": "2019",
                                    "2": "Setas",
                                    "3": "Ourense",
                                    "4": "28",
                                    "5": "34.0000000000",
                                    "6": "22875.0000000000"
                                },
                                {
                                    "0": "P-0464",
                                    "1": "2019",
                                    "2": "Setas",
                                    "3": "Pontevedra",
                                    "4": "24",
                                    "5": "33.3000000000",
                                    "6": "22910.0000000000"
                                },
                                {
                                    "0": "P-0466",
                                    "1": "2019",
                                    "2": "Algas",
                                    "3": "Coruña",
                                    "4": "17",
                                    "5": "43.2000000000",
                                    "6": "26698.0000000000"
                                },
                                {
                                    "0": "P-0472",
                                    "1": "2019",
                                    "2": "Setas",
                                    "3": "Pontevedra",
                                    "4": "26",
                                    "5": "33.3000000000",
                                    "6": "22378.0000000000"
                                },
                                {
                                    "0": "P-0474",
                                    "1": "2019",
                                    "2": "Algas",
                                    "3": "Coruña",
                                    "4": "11",
                                    "5": "44.8000000000",
                                    "6": "27418.0000000000"
                                },
                                {
                                    "0": "P-0475",
                                    "1": "2019",
                                    "2": "Algas",
                                    "3": "Pontevedra",
                                    "4": "27",
                                    "5": "36.6000000000",
                                    "6": "22198.0000000000"
                                },
                                {
                                    "0": "P-0476",
                                    "1": "2019",
                                    "2": "Algas",
                                    "3": "Coruña",
                                    "4": "7",
                                    "5": "43.6000000000",
                                    "6": "26683.0000000000"
                                },
                                {
                                    "0": "P-0478",
                                    "1": "2019",
                                    "2": "Algas",
                                    "3": "Ourense",
                                    "4": "23",
                                    "5": "40.3000000000",
                                    "6": "24198.0000000000"
                                },
                                {
                                    "0": "P-0479",
                                    "1": "2019",
                                    "2": "Algas",
                                    "3": "Coruña",
                                    "4": "19",
                                    "5": "45.6000000000",
                                    "6": "27907.0000000000"
                                },
                                {
                                    "0": "P-0480",
                                    "1": "2019",
                                    "2": "Setas",
                                    "3": "Ourense",
                                    "4": "21",
                                    "5": "36.6000000000",
                                    "6": "23736.0000000000"
                                },
                                {
                                    "0": "P-0481",
                                    "1": "2019",
                                    "2": "Algas",
                                    "3": "Coruña",
                                    "4": "7",
                                    "5": "44.8000000000",
                                    "6": "27418.0000000000"
                                },
                                {
                                    "0": "P-0482",
                                    "1": "2019",
                                    "2": "Algas",
                                    "3": "Pontevedra",
                                    "4": "28",
                                    "5": "35.9000000000",
                                    "6": "21749.0000000000"
                                },
                                {
                                    "0": "P-0483",
                                    "1": "2019",
                                    "2": "Algas",
                                    "3": "Coruña",
                                    "4": "12",
                                    "5": "44.8000000000",
                                    "6": "27955.0000000000"
                                },
                                {
                                    "0": "P-0484",
                                    "1": "2019",
                                    "2": "Setas",
                                    "3": "Pontevedra",
                                    "4": "27",
                                    "5": "42.6000000000",
                                    "6": "27232.0000000000"
                                },
                                {
                                    "0": "P-0485",
                                    "1": "2019",
                                    "2": "Algas",
                                    "3": "Lugo",
                                    "4": "13",
                                    "5": "42.4000000000",
                                    "6": "26458.0000000000"
                                },
                                {
                                    "0": "P-0486",
                                    "1": "2019",
                                    "2": "Algas",
                                    "3": "Coruña",
                                    "4": "17",
                                    "5": "44.8000000000",
                                    "6": "27955.0000000000"
                                },
                                {
                                    "0": "P-0487",
                                    "1": "2019",
                                    "2": "Setas",
                                    "3": "Pontevedra",
                                    "4": "23",
                                    "5": "33.7000000000",
                                    "6": "21279.0000000000"
                                },
                                {
                                    "0": "P-0489",
                                    "1": "2019",
                                    "2": "Setas",
                                    "3": "Pontevedra",
                                    "4": "23",
                                    "5": "37.4000000000",
                                    "6": "23917.0000000000"
                                },
                                {
                                    "0": "P-0491",
                                    "1": "2019",
                                    "2": "Setas",
                                    "3": "Pontevedra",
                                    "4": "28",
                                    "5": "39.2000000000",
                                    "6": "27611.0000000000"
                                },
                                {
                                    "0": "P-0492",
                                    "1": "2019",
                                    "2": "Algas",
                                    "3": "Lugo",
                                    "4": "13",
                                    "5": "45.2000000000",
                                    "6": "28205.0000000000"
                                },
                                {
                                    "0": "P-0495",
                                    "1": "2019",
                                    "2": "Algas",
                                    "3": "Coruña",
                                    "4": "8",
                                    "5": "43.2000000000",
                                    "6": "26957.0000000000"
                                },
                                {
                                    "0": "P-0497",
                                    "1": "2019",
                                    "2": "Algas",
                                    "3": "Lugo",
                                    "4": "17",
                                    "5": "43.6000000000",
                                    "6": "26945.0000000000"
                                },
                                {
                                    "0": "P-0500",
                                    "1": "2019",
                                    "2": "Setas",
                                    "3": "Pontevedra",
                                    "4": "25",
                                    "5": "34.0000000000",
                                    "6": "23964.0000000000"
                                }
                            ]
                        },
                        "text/html": [
                            "<table>",
                            "<tr><th>PEDIDO_ID</th><th>FY_ID</th><th>PRODUCTO_ID</th><th>ZONA_ID</th><th>CLIENTE_ID</th><th>TONELADAS</th><th>INGRESOS_EUR</th></tr>",
                            "<tr><td>P-0001</td><td>2016</td><td>Setas</td><td>Lugo</td><td>7</td><td>31.8000000000</td><td>24677.0000000000</td></tr>",
                            "<tr><td>P-0002</td><td>2016</td><td>Setas</td><td>Ourense</td><td>27</td><td>34.5000000000</td><td>27048.0000000000</td></tr>",
                            "<tr><td>P-0003</td><td>2016</td><td>Setas</td><td>Ourense</td><td>21</td><td>38.1000000000</td><td>27432.0000000000</td></tr>",
                            "<tr><td>P-0004</td><td>2016</td><td>Setas</td><td>Ourense</td><td>26</td><td>35.7000000000</td><td>25990.0000000000</td></tr>",
                            "<tr><td>P-0005</td><td>2016</td><td>Setas</td><td>Pontevedra</td><td>25</td><td>32.7000000000</td><td>24590.0000000000</td></tr>",
                            "<tr><td>P-0006</td><td>2016</td><td>Setas</td><td>Pontevedra</td><td>24</td><td>34.8000000000</td><td>26170.0000000000</td></tr>",
                            "<tr><td>P-0007</td><td>2016</td><td>Setas</td><td>Coruña</td><td>2</td><td>33.0000000000</td><td>25344.0000000000</td></tr>",
                            "<tr><td>P-0008</td><td>2016</td><td>Setas</td><td>Lugo</td><td>9</td><td>32.4000000000</td><td>24106.0000000000</td></tr>",
                            "<tr><td>P-0009</td><td>2016</td><td>Setas</td><td>Coruña</td><td>16</td><td>32.4000000000</td><td>23846.0000000000</td></tr>",
                            "<tr><td>P-0010</td><td>2016</td><td>Setas</td><td>Ourense</td><td>21</td><td>27.9000000000</td><td>20311.0000000000</td></tr>",
                            "<tr><td>P-0011</td><td>2016</td><td>Setas</td><td>Pontevedra</td><td>28</td><td>32.7000000000</td><td>25898.0000000000</td></tr>",
                            "<tr><td>P-0012</td><td>2016</td><td>Algas</td><td>Ourense</td><td>27</td><td>29.7000000000</td><td>17998.0000000000</td></tr>",
                            "<tr><td>P-0013</td><td>2016</td><td>Setas</td><td>Ourense</td><td>26</td><td>33.9000000000</td><td>24408.0000000000</td></tr>",
                            "<tr><td>P-0014</td><td>2016</td><td>Algas</td><td>Lugo</td><td>16</td><td>32.7000000000</td><td>19816.0000000000</td></tr>",
                            "<tr><td>P-0015</td><td>2016</td><td>Setas</td><td>Coruña</td><td>8</td><td>32.1000000000</td><td>23369.0000000000</td></tr>",
                            "<tr><td>P-0016</td><td>2016</td><td>Setas</td><td>Pontevedra</td><td>25</td><td>38.1000000000</td><td>29566.0000000000</td></tr>",
                            "<tr><td>P-0017</td><td>2016</td><td>Setas</td><td>Pontevedra</td><td>21</td><td>35.4000000000</td><td>28037.0000000000</td></tr>",
                            "<tr><td>P-0018</td><td>2016</td><td>Algas</td><td>Coruña</td><td>18</td><td>31.8000000000</td><td>19271.0000000000</td></tr>",
                            "<tr><td>P-0019</td><td>2016</td><td>Algas</td><td>Ourense</td><td>27</td><td>37.5000000000</td><td>21375.0000000000</td></tr>",
                            "<tr><td>P-0020</td><td>2016</td><td>Algas</td><td>Coruña</td><td>7</td><td>33.3000000000</td><td>19780.0000000000</td></tr>",
                            "<tr><td>P-0021</td><td>2016</td><td>Setas</td><td>Pontevedra</td><td>26</td><td>28.5000000000</td><td>21660.0000000000</td></tr>",
                            "<tr><td>P-0022</td><td>2016</td><td>Algas</td><td>Pontevedra</td><td>25</td><td>30.9000000000</td><td>17613.0000000000</td></tr>",
                            "<tr><td>P-0023</td><td>2016</td><td>Algas</td><td>Lugo</td><td>6</td><td>31.8000000000</td><td>19080.0000000000</td></tr>",
                            "<tr><td>P-0024</td><td>2016</td><td>Setas</td><td>Coruña</td><td>2</td><td>32.7000000000</td><td>25637.0000000000</td></tr>",
                            "<tr><td>P-0025</td><td>2016</td><td>Setas</td><td>Coruña</td><td>1</td><td>33.6000000000</td><td>26880.0000000000</td></tr>",
                            "<tr><td>P-0026</td><td>2016</td><td>Setas</td><td>Pontevedra</td><td>27</td><td>27.6000000000</td><td>21197.0000000000</td></tr>",
                            "<tr><td>P-0027</td><td>2016</td><td>Setas</td><td>Ourense</td><td>24</td><td>34.2000000000</td><td>25171.0000000000</td></tr>",
                            "<tr><td>P-0028</td><td>2016</td><td>Setas</td><td>Pontevedra</td><td>27</td><td>31.8000000000</td><td>24677.0000000000</td></tr>",
                            "<tr><td>P-0029</td><td>2016</td><td>Algas</td><td>Coruña</td><td>6</td><td>33.3000000000</td><td>19181.0000000000</td></tr>",
                            "<tr><td>P-0030</td><td>2016</td><td>Algas</td><td>Coruña</td><td>15</td><td>32.4000000000</td><td>19246.0000000000</td></tr>",
                            "<tr><td>P-0031</td><td>2016</td><td>Setas</td><td>Coruña</td><td>8</td><td>33.9000000000</td><td>26306.0000000000</td></tr>",
                            "<tr><td>P-0032</td><td>2016</td><td>Setas</td><td>Ourense</td><td>21</td><td>35.4000000000</td><td>25771.0000000000</td></tr>",
                            "<tr><td>P-0033</td><td>2016</td><td>Algas</td><td>Coruña</td><td>2</td><td>32.1000000000</td><td>19067.0000000000</td></tr>",
                            "<tr><td>P-0034</td><td>2016</td><td>Setas</td><td>Coruña</td><td>9</td><td>32.4000000000</td><td>23587.0000000000</td></tr>",
                            "<tr><td>P-0035</td><td>2016</td><td>Setas</td><td>Coruña</td><td>14</td><td>33.3000000000</td><td>24775.0000000000</td></tr>",
                            "<tr><td>P-0036</td><td>2016</td><td>Setas</td><td>Pontevedra</td><td>26</td><td>30.6000000000</td><td>22277.0000000000</td></tr>",
                            "<tr><td>P-0037</td><td>2016</td><td>Algas</td><td>Pontevedra</td><td>25</td><td>34.2000000000</td><td>20520.0000000000</td></tr>",
                            "<tr><td>P-0038</td><td>2016</td><td>Setas</td><td>Pontevedra</td><td>23</td><td>32.7000000000</td><td>24590.0000000000</td></tr>",
                            "<tr><td>P-0039</td><td>2016</td><td>Setas</td><td>Coruña</td><td>16</td><td>33.6000000000</td><td>24461.0000000000</td></tr>",
                            "<tr><td>P-0040</td><td>2016</td><td>Setas</td><td>Pontevedra</td><td>26</td><td>34.2000000000</td><td>27086.0000000000</td></tr>",
                            "<tr><td>P-0041</td><td>2016</td><td>Algas</td><td>Pontevedra</td><td>24</td><td>28.8000000000</td><td>16762.0000000000</td></tr>",
                            "<tr><td>P-0042</td><td>2016</td><td>Algas</td><td>Coruña</td><td>1</td><td>32.4000000000</td><td>18468.0000000000</td></tr>",
                            "<tr><td>P-0043</td><td>2016</td><td>Setas</td><td>Lugo</td><td>19</td><td>31.8000000000</td><td>23659.0000000000</td></tr>",
                            "<tr><td>P-0044</td><td>2016</td><td>Setas</td><td>Ourense</td><td>28</td><td>31.2000000000</td><td>24710.0000000000</td></tr>",
                            "<tr><td>P-0045</td><td>2016</td><td>Setas</td><td>Pontevedra</td><td>22</td><td>31.5000000000</td><td>22932.0000000000</td></tr>",
                            "<tr><td>P-0046</td><td>2016</td><td>Algas</td><td>Pontevedra</td><td>28</td><td>27.0000000000</td><td>16362.0000000000</td></tr>",
                            "<tr><td>P-0047</td><td>2016</td><td>Setas</td><td>Pontevedra</td><td>26</td><td>27.0000000000</td><td>21384.0000000000</td></tr>",
                            "<tr><td>P-0048</td><td>2016</td><td>Setas</td><td>Pontevedra</td><td>22</td><td>27.6000000000</td><td>20976.0000000000</td></tr>",
                            "<tr><td>P-0049</td><td>2016</td><td>Algas</td><td>Pontevedra</td><td>23</td><td>34.2000000000</td><td>19699.0000000000</td></tr>",
                            "<tr><td>P-0050</td><td>2016</td><td>Algas</td><td>Pontevedra</td><td>23</td><td>31.8000000000</td><td>19271.0000000000</td></tr>",
                            "<tr><td>P-0051</td><td>2017</td><td>Algas</td><td>Ourense</td><td>27</td><td>43.8000000000</td><td>25988.0000000000</td></tr>",
                            "<tr><td>P-0053</td><td>2017</td><td>Setas</td><td>Coruña</td><td>8</td><td>37.1000000000</td><td>29086.0000000000</td></tr>",
                            "<tr><td>P-0057</td><td>2017</td><td>Algas</td><td>Pontevedra</td><td>27</td><td>36.1000000000</td><td>21197.0000000000</td></tr>",
                            "<tr><td>P-0059</td><td>2017</td><td>Algas</td><td>Pontevedra</td><td>26</td><td>44.1000000000</td><td>26195.0000000000</td></tr>",
                            "<tr><td>P-0060</td><td>2017</td><td>Algas</td><td>Pontevedra</td><td>24</td><td>40.3000000000</td><td>23667.0000000000</td></tr>",
                            "<tr><td>P-0061</td><td>2017</td><td>Setas</td><td>Coruña</td><td>7</td><td>37.5000000000</td><td>29361.0000000000</td></tr>",
                            "<tr><td>P-0062</td><td>2017</td><td>Setas</td><td>Pontevedra</td><td>26</td><td>40.6000000000</td><td>28582.0000000000</td></tr>",
                            "<tr><td>P-0063</td><td>2017</td><td>Algas</td><td>Ourense</td><td>27</td><td>39.2000000000</td><td>23755.0000000000</td></tr>",
                            "<tr><td>P-0064</td><td>2017</td><td>Setas</td><td>Pontevedra</td><td>27</td><td>35.4000000000</td><td>25452.0000000000</td></tr>",
                            "<tr><td>P-0065</td><td>2017</td><td>Setas</td><td>Pontevedra</td><td>24</td><td>38.9000000000</td><td>29215.0000000000</td></tr>",
                            "<tr><td>P-0066</td><td>2017</td><td>Setas</td><td>Ourense</td><td>25</td><td>34.3000000000</td><td>23873.0000000000</td></tr>",
                            "<tr><td>P-0067</td><td>2017</td><td>Algas</td><td>Pontevedra</td><td>28</td><td>39.2000000000</td><td>23285.0000000000</td></tr>",
                            "<tr><td>P-0069</td><td>2017</td><td>Algas</td><td>Ourense</td><td>23</td><td>44.1000000000</td><td>26725.0000000000</td></tr>",
                            "<tr><td>P-0073</td><td>2017</td><td>Setas</td><td>Pontevedra</td><td>27</td><td>35.7000000000</td><td>24562.0000000000</td></tr>",
                            "<tr><td>P-0074</td><td>2017</td><td>Algas</td><td>Pontevedra</td><td>25</td><td>34.7000000000</td><td>20998.0000000000</td></tr>",
                            "<tr><td>P-0075</td><td>2017</td><td>Algas</td><td>Pontevedra</td><td>22</td><td>44.8000000000</td><td>26611.0000000000</td></tr>",
                            "<tr><td>P-0077</td><td>2017</td><td>Algas</td><td>Coruña</td><td>15</td><td>38.9000000000</td><td>24242.0000000000</td></tr>",
                            "<tr><td>P-0078</td><td>2017</td><td>Algas</td><td>Lugo</td><td>8</td><td>38.9000000000</td><td>23776.0000000000</td></tr>",
                            "<tr><td>P-0080</td><td>2017</td><td>Algas</td><td>Coruña</td><td>17</td><td>39.6000000000</td><td>24679.0000000000</td></tr>",
                            "<tr><td>P-0081</td><td>2017</td><td>Algas</td><td>Coruña</td><td>7</td><td>36.8000000000</td><td>22932.0000000000</td></tr>",
                            "<tr><td>P-0082</td><td>2017</td><td>Algas</td><td>Coruña</td><td>4</td><td>38.9000000000</td><td>24242.0000000000</td></tr>",
                            "<tr><td>P-0083</td><td>2017</td><td>Algas</td><td>Lugo</td><td>11</td><td>39.9000000000</td><td>25137.0000000000</td></tr>",
                            "<tr><td>P-0084</td><td>2017</td><td>Setas</td><td>Pontevedra</td><td>28</td><td>33.6000000000</td><td>25267.0000000000</td></tr>",
                            "<tr><td>P-0085</td><td>2017</td><td>Algas</td><td>Coruña</td><td>10</td><td>37.1000000000</td><td>22705.0000000000</td></tr>",
                            "<tr><td>P-0086</td><td>2017</td><td>Algas</td><td>Lugo</td><td>7</td><td>38.5000000000</td><td>24024.0000000000</td></tr>",
                            "<tr><td>P-0087</td><td>2017</td><td>Setas</td><td>Pontevedra</td><td>26</td><td>43.1000000000</td><td>29963.0000000000</td></tr>",
                            "<tr><td>P-0089</td><td>2017</td><td>Algas</td><td>Ourense</td><td>27</td><td>41.0000000000</td><td>24816.0000000000</td></tr>",
                            "<tr><td>P-0090</td><td>2017</td><td>Setas</td><td>Coruña</td><td>12</td><td>37.5000000000</td><td>29660.0000000000</td></tr>",
                            "<tr><td>P-0092</td><td>2017</td><td>Algas</td><td>Coruña</td><td>19</td><td>39.6000000000</td><td>24205.0000000000</td></tr>",
                            "<tr><td>P-0094</td><td>2017</td><td>Algas</td><td>Coruña</td><td>19</td><td>39.2000000000</td><td>23990.0000000000</td></tr>",
                            "<tr><td>P-0095</td><td>2017</td><td>Algas</td><td>Lugo</td><td>4</td><td>37.1000000000</td><td>23150.0000000000</td></tr>",
                            "<tr><td>P-0096</td><td>2017</td><td>Setas</td><td>Lugo</td><td>11</td><td>37.5000000000</td><td>28162.0000000000</td></tr>",
                            "<tr><td>P-0097</td><td>2017</td><td>Setas</td><td>Pontevedra</td><td>23</td><td>37.1000000000</td><td>27899.0000000000</td></tr>",
                            "<tr><td>P-0099</td><td>2017</td><td>Algas</td><td>Lugo</td><td>10</td><td>38.9000000000</td><td>24476.0000000000</td></tr>",
                            "<tr><td>P-0102</td><td>2017</td><td>Algas</td><td>Coruña</td><td>4</td><td>36.8000000000</td><td>22712.0000000000</td></tr>",
                            "<tr><td>P-0103</td><td>2017</td><td>Setas</td><td>Coruña</td><td>14</td><td>39.9000000000</td><td>29366.0000000000</td></tr>",
                            "<tr><td>P-0104</td><td>2017</td><td>Setas</td><td>Pontevedra</td><td>22</td><td>36.8000000000</td><td>27636.0000000000</td></tr>",
                            "<tr><td>P-0105</td><td>2017</td><td>Algas</td><td>Coruña</td><td>4</td><td>38.9000000000</td><td>24476.0000000000</td></tr>",
                            "<tr><td>P-0108</td><td>2017</td><td>Setas</td><td>Pontevedra</td><td>23</td><td>32.6000000000</td><td>24217.0000000000</td></tr>",
                            "<tr><td>P-0109</td><td>2017</td><td>Algas</td><td>Lugo</td><td>8</td><td>39.6000000000</td><td>24205.0000000000</td></tr>",
                            "<tr><td>P-0110</td><td>2017</td><td>Setas</td><td>Pontevedra</td><td>26</td><td>36.1000000000</td><td>26244.0000000000</td></tr>",
                            "<tr><td>P-0111</td><td>2017</td><td>Algas</td><td>Coruña</td><td>18</td><td>38.2000000000</td><td>23348.0000000000</td></tr>",
                            "<tr><td>P-0112</td><td>2017</td><td>Algas</td><td>Coruña</td><td>5</td><td>39.2000000000</td><td>24226.0000000000</td></tr>",
                            "<tr><td>P-0113</td><td>2017</td><td>Setas</td><td>Coruña</td><td>15</td><td>37.5000000000</td><td>27264.0000000000</td></tr>",
                            "<tr><td>P-0114</td><td>2017</td><td>Setas</td><td>Pontevedra</td><td>25</td><td>37.5000000000</td><td>25466.0000000000</td></tr>",
                            "<tr><td>P-0118</td><td>2017</td><td>Setas</td><td>Lugo</td><td>11</td><td>37.5000000000</td><td>26964.0000000000</td></tr>",
                            "<tr><td>P-0119</td><td>2017</td><td>Algas</td><td>Coruña</td><td>7</td><td>40.3000000000</td><td>25116.0000000000</td></tr>",
                            "<tr><td>P-0120</td><td>2017</td><td>Setas</td><td>Pontevedra</td><td>23</td><td>32.2000000000</td><td>22411.0000000000</td></tr>",
                            "<tr><td>P-0122</td><td>2017</td><td>Algas</td><td>Coruña</td><td>15</td><td>39.9000000000</td><td>24658.0000000000</td></tr>",
                            "<tr><td>P-0123</td><td>2017</td><td>Algas</td><td>Coruña</td><td>17</td><td>37.1000000000</td><td>23373.0000000000</td></tr>",
                            "<tr><td>P-0124</td><td>2017</td><td>Algas</td><td>Lugo</td><td>17</td><td>39.9000000000</td><td>25137.0000000000</td></tr>",
                            "<tr><td>P-0127</td><td>2017</td><td>Algas</td><td>Coruña</td><td>1</td><td>39.6000000000</td><td>24679.0000000000</td></tr>",
                            "<tr><td>P-0128</td><td>2017</td><td>Algas</td><td>Coruña</td><td>9</td><td>40.3000000000</td><td>24633.0000000000</td></tr>",
                            "<tr><td>P-0129</td><td>2017</td><td>Setas</td><td>Pontevedra</td><td>26</td><td>35.0000000000</td><td>25480.0000000000</td></tr>",
                            "<tr><td>P-0130</td><td>2017</td><td>Algas</td><td>Coruña</td><td>18</td><td>39.2000000000</td><td>24696.0000000000</td></tr>",
                            "<tr><td>P-0131</td><td>2017</td><td>Setas</td><td>Lugo</td><td>6</td><td>37.1000000000</td><td>29383.0000000000</td></tr>",
                            "<tr><td>P-0132</td><td>2017</td><td>Algas</td><td>Pontevedra</td><td>25</td><td>39.2000000000</td><td>23755.0000000000</td></tr>",
                            "<tr><td>P-0133</td><td>2017</td><td>Setas</td><td>Coruña</td><td>12</td><td>38.5000000000</td><td>29876.0000000000</td></tr>",
                            "<tr><td>P-0134</td><td>2017</td><td>Algas</td><td>Coruña</td><td>19</td><td>40.3000000000</td><td>25358.0000000000</td></tr>",
                            "<tr><td>P-0136</td><td>2017</td><td>Setas</td><td>Pontevedra</td><td>28</td><td>32.9000000000</td><td>22635.0000000000</td></tr>",
                            "<tr><td>P-0137</td><td>2017</td><td>Algas</td><td>Pontevedra</td><td>28</td><td>39.9000000000</td><td>24419.0000000000</td></tr>",
                            "<tr><td>P-0138</td><td>2017</td><td>Setas</td><td>Pontevedra</td><td>25</td><td>37.1000000000</td><td>26118.0000000000</td></tr>",
                            "<tr><td>P-0141</td><td>2017</td><td>Algas</td><td>Pontevedra</td><td>24</td><td>43.1000000000</td><td>26347.0000000000</td></tr>",
                            "<tr><td>P-0142</td><td>2017</td><td>Setas</td><td>Pontevedra</td><td>28</td><td>42.4000000000</td><td>29137.0000000000</td></tr>",
                            "<tr><td>P-0145</td><td>2017</td><td>Algas</td><td>Pontevedra</td><td>26</td><td>34.7000000000</td><td>20790.0000000000</td></tr>",
                            "<tr><td>P-0146</td><td>2017</td><td>Setas</td><td>Coruña</td><td>16</td><td>38.5000000000</td><td>28952.0000000000</td></tr>",
                            "<tr><td>P-0148</td><td>2017</td><td>Algas</td><td>Coruña</td><td>6</td><td>37.1000000000</td><td>22928.0000000000</td></tr>",
                            "<tr><td>P-0149</td><td>2017</td><td>Algas</td><td>Lugo</td><td>2</td><td>39.6000000000</td><td>24205.0000000000</td></tr>",
                            "<tr><td>P-0150</td><td>2017</td><td>Setas</td><td>Pontevedra</td><td>26</td><td>37.8000000000</td><td>26611.0000000000</td></tr>",
                            "<tr><td>P-0154</td><td>2018</td><td>Setas</td><td>Pontevedra</td><td>27</td><td>39.6000000000</td><td>29462.0000000000</td></tr>",
                            "<tr><td>P-0155</td><td>2018</td><td>Setas</td><td>Pontevedra</td><td>24</td><td>41.4000000000</td><td>29477.0000000000</td></tr>",
                            "<tr><td>P-0157</td><td>2018</td><td>Setas</td><td>Pontevedra</td><td>22</td><td>36.7000000000</td><td>27613.0000000000</td></tr>",
                            "<tr><td>P-0161</td><td>2018</td><td>Algas</td><td>Coruña</td><td>6</td><td>42.6000000000</td><td>26813.0000000000</td></tr>",
                            "<tr><td>P-0163</td><td>2018</td><td>Algas</td><td>Coruña</td><td>7</td><td>40.7000000000</td><td>25616.0000000000</td></tr>",
                            "<tr><td>P-0164</td><td>2018</td><td>Setas</td><td>Ourense</td><td>21</td><td>37.4000000000</td><td>28454.0000000000</td></tr>",
                            "<tr><td>P-0165</td><td>2018</td><td>Setas</td><td>Ourense</td><td>24</td><td>39.2000000000</td><td>27939.0000000000</td></tr>",
                            "<tr><td>P-0166</td><td>2018</td><td>Algas</td><td>Coruña</td><td>14</td><td>42.6000000000</td><td>26302.0000000000</td></tr>",
                            "<tr><td>P-0167</td><td>2018</td><td>Algas</td><td>Ourense</td><td>26</td><td>38.9000000000</td><td>23795.0000000000</td></tr>",
                            "<tr><td>P-0168</td><td>2018</td><td>Setas</td><td>Pontevedra</td><td>24</td><td>33.5000000000</td><td>23302.0000000000</td></tr>",
                            "<tr><td>P-0169</td><td>2018</td><td>Setas</td><td>Pontevedra</td><td>24</td><td>39.2000000000</td><td>29822.0000000000</td></tr>",
                            "<tr><td>P-0171</td><td>2018</td><td>Algas</td><td>Lugo</td><td>20</td><td>41.8000000000</td><td>25582.0000000000</td></tr>",
                            "<tr><td>P-0172</td><td>2018</td><td>Algas</td><td>Lugo</td><td>17</td><td>40.7000000000</td><td>25128.0000000000</td></tr>",
                            "<tr><td>P-0174</td><td>2018</td><td>Algas</td><td>Coruña</td><td>20</td><td>43.7000000000</td><td>27007.0000000000</td></tr>",
                            "<tr><td>P-0176</td><td>2018</td><td>Setas</td><td>Pontevedra</td><td>27</td><td>36.0000000000</td><td>26496.0000000000</td></tr>",
                            "<tr><td>P-0178</td><td>2018</td><td>Algas</td><td>Pontevedra</td><td>22</td><td>45.0000000000</td><td>27540.0000000000</td></tr>",
                            "<tr><td>P-0179</td><td>2018</td><td>Setas</td><td>Pontevedra</td><td>22</td><td>36.4000000000</td><td>25307.0000000000</td></tr>",
                            "<tr><td>P-0182</td><td>2018</td><td>Algas</td><td>Pontevedra</td><td>28</td><td>42.1000000000</td><td>25019.0000000000</td></tr>",
                            "<tr><td>P-0184</td><td>2018</td><td>Algas</td><td>Pontevedra</td><td>26</td><td>36.7000000000</td><td>21591.0000000000</td></tr>",
                            "<tr><td>P-0186</td><td>2018</td><td>Algas</td><td>Ourense</td><td>21</td><td>36.4000000000</td><td>21816.0000000000</td></tr>",
                            "<tr><td>P-0187</td><td>2018</td><td>Algas</td><td>Pontevedra</td><td>23</td><td>36.7000000000</td><td>22032.0000000000</td></tr>",
                            "<tr><td>P-0189</td><td>2018</td><td>Setas</td><td>Pontevedra</td><td>27</td><td>40.0000000000</td><td>28771.0000000000</td></tr>",
                            "<tr><td>P-0190</td><td>2018</td><td>Setas</td><td>Pontevedra</td><td>28</td><td>38.2000000000</td><td>27780.0000000000</td></tr>",
                            "<tr><td>P-0192</td><td>2018</td><td>Algas</td><td>Pontevedra</td><td>25</td><td>36.7000000000</td><td>21591.0000000000</td></tr>",
                            "<tr><td>P-0196</td><td>2018</td><td>Algas</td><td>Pontevedra</td><td>26</td><td>42.8000000000</td><td>26218.0000000000</td></tr>",
                            "<tr><td>P-0197</td><td>2018</td><td>Algas</td><td>Coruña</td><td>14</td><td>42.2000000000</td><td>26573.0000000000</td></tr>",
                            "<tr><td>P-0201</td><td>2018</td><td>Setas</td><td>Pontevedra</td><td>21</td><td>41.0000000000</td><td>27907.0000000000</td></tr>",
                            "<tr><td>P-0202</td><td>2018</td><td>Algas</td><td>Coruña</td><td>7</td><td>42.9000000000</td><td>26795.0000000000</td></tr>",
                            "<tr><td>P-0205</td><td>2018</td><td>Algas</td><td>Coruña</td><td>1</td><td>42.2000000000</td><td>26067.0000000000</td></tr>",
                            "<tr><td>P-0206</td><td>2018</td><td>Setas</td><td>Pontevedra</td><td>25</td><td>41.8000000000</td><td>29733.0000000000</td></tr>",
                            "<tr><td>P-0207</td><td>2018</td><td>Setas</td><td>Pontevedra</td><td>25</td><td>33.5000000000</td><td>23302.0000000000</td></tr>",
                            "<tr><td>P-0208</td><td>2018</td><td>Algas</td><td>Lugo</td><td>9</td><td>39.9000000000</td><td>24898.0000000000</td></tr>",
                            "<tr><td>P-0209</td><td>2018</td><td>Algas</td><td>Coruña</td><td>4</td><td>42.2000000000</td><td>26320.0000000000</td></tr>",
                            "<tr><td>P-0211</td><td>2018</td><td>Algas</td><td>Coruña</td><td>12</td><td>42.2000000000</td><td>26573.0000000000</td></tr>",
                            "<tr><td>P-0212</td><td>2018</td><td>Setas</td><td>Pontevedra</td><td>28</td><td>38.5000000000</td><td>26502.0000000000</td></tr>",
                            "<tr><td>P-0214</td><td>2018</td><td>Algas</td><td>Pontevedra</td><td>27</td><td>33.1000000000</td><td>20071.0000000000</td></tr>",
                            "<tr><td>P-0216</td><td>2018</td><td>Setas</td><td>Pontevedra</td><td>25</td><td>35.6000000000</td><td>25376.0000000000</td></tr>",
                            "<tr><td>P-0217</td><td>2018</td><td>Setas</td><td>Pontevedra</td><td>22</td><td>34.6000000000</td><td>23777.0000000000</td></tr>",
                            "<tr><td>P-0218</td><td>2018</td><td>Algas</td><td>Coruña</td><td>4</td><td>39.9000000000</td><td>24658.0000000000</td></tr>",
                            "<tr><td>P-0219</td><td>2018</td><td>Setas</td><td>Ourense</td><td>27</td><td>33.1000000000</td><td>24376.0000000000</td></tr>",
                            "<tr><td>P-0220</td><td>2018</td><td>Setas</td><td>Pontevedra</td><td>21</td><td>36.4000000000</td><td>26761.0000000000</td></tr>",
                            "<tr><td>P-0222</td><td>2018</td><td>Setas</td><td>Coruña</td><td>31</td><td>39.9000000000</td><td>29047.0000000000</td></tr>",
                            "<tr><td>P-0223</td><td>2018</td><td>Algas</td><td>Coruña</td><td>13</td><td>41.4000000000</td><td>25598.0000000000</td></tr>",
                            "<tr><td>P-0228</td><td>2018</td><td>Algas</td><td>Coruña</td><td>20</td><td>41.0000000000</td><td>25855.0000000000</td></tr>",
                            "<tr><td>P-0231</td><td>2018</td><td>Algas</td><td>Coruña</td><td>1</td><td>42.2000000000</td><td>26573.0000000000</td></tr>",
                            "<tr><td>P-0232</td><td>2018</td><td>Setas</td><td>Pontevedra</td><td>27</td><td>36.0000000000</td><td>26784.0000000000</td></tr>",
                            "<tr><td>P-0233</td><td>2018</td><td>Algas</td><td>Pontevedra</td><td>21</td><td>36.0000000000</td><td>21168.0000000000</td></tr>",
                            "<tr><td>P-0234</td><td>2018</td><td>Setas</td><td>Pontevedra</td><td>28</td><td>37.1000000000</td><td>26401.0000000000</td></tr>",
                            "<tr><td>P-0236</td><td>2018</td><td>Algas</td><td>Coruña</td><td>16</td><td>39.9000000000</td><td>24419.0000000000</td></tr>",
                            "<tr><td>P-0237</td><td>2018</td><td>Algas</td><td>Coruña</td><td>14</td><td>41.4000000000</td><td>25349.0000000000</td></tr>",
                            "<tr><td>P-0240</td><td>2018</td><td>Algas</td><td>Lugo</td><td>3</td><td>41.0000000000</td><td>25363.0000000000</td></tr>",
                            "<tr><td>P-0241</td><td>2018</td><td>Algas</td><td>Pontevedra</td><td>21</td><td>37.8000000000</td><td>22226.0000000000</td></tr>",
                            "<tr><td>P-0242</td><td>2018</td><td>Algas</td><td>Pontevedra</td><td>23</td><td>43.6000000000</td><td>26659.0000000000</td></tr>",
                            "<tr><td>P-0243</td><td>2018</td><td>Setas</td><td>Coruña</td><td>6</td><td>40.3000000000</td><td>29324.0000000000</td></tr>",
                            "<tr><td>P-0244</td><td>2018</td><td>Setas</td><td>Pontevedra</td><td>22</td><td>40.0000000000</td><td>29411.0000000000</td></tr>",
                            "<tr><td>P-0245</td><td>2018</td><td>Setas</td><td>Ourense</td><td>26</td><td>34.6000000000</td><td>24330.0000000000</td></tr>",
                            "<tr><td>P-0246</td><td>2018</td><td>Algas</td><td>Pontevedra</td><td>23</td><td>46.8000000000</td><td>27799.0000000000</td></tr>",
                            "<tr><td>P-0248</td><td>2018</td><td>Algas</td><td>Coruña</td><td>13</td><td>41.8000000000</td><td>26334.0000000000</td></tr>",
                            "<tr><td>P-0249</td><td>2018</td><td>Setas</td><td>Pontevedra</td><td>21</td><td>36.0000000000</td><td>25344.0000000000</td></tr>",
                            "<tr><td>P-0250</td><td>2018</td><td>Setas</td><td>Pontevedra</td><td>21</td><td>35.3000000000</td><td>25402.0000000000</td></tr>",
                            "<tr><td>P-0251</td><td>2018</td><td>Algas</td><td>Lugo</td><td>14</td><td>41.8000000000</td><td>25582.0000000000</td></tr>",
                            "<tr><td>P-0254</td><td>2018</td><td>Algas</td><td>Coruña</td><td>2</td><td>41.4000000000</td><td>25846.0000000000</td></tr>",
                            "<tr><td>P-0255</td><td>2018</td><td>Setas</td><td>Pontevedra</td><td>23</td><td>32.8000000000</td><td>22801.0000000000</td></tr>",
                            "<tr><td>P-0257</td><td>2018</td><td>Setas</td><td>Ourense</td><td>25</td><td>35.3000000000</td><td>23990.0000000000</td></tr>",
                            "<tr><td>P-0258</td><td>2018</td><td>Setas</td><td>Coruña</td><td>11</td><td>39.9000000000</td><td>29366.0000000000</td></tr>",
                            "<tr><td>P-0262</td><td>2018</td><td>Algas</td><td>Pontevedra</td><td>23</td><td>44.6000000000</td><td>26784.0000000000</td></tr>",
                            "<tr><td>P-0263</td><td>2018</td><td>Algas</td><td>Coruña</td><td>6</td><td>41.8000000000</td><td>25582.0000000000</td></tr>",
                            "<tr><td>P-0265</td><td>2018</td><td>Algas</td><td>Pontevedra</td><td>26</td><td>40.0000000000</td><td>23736.0000000000</td></tr>",
                            "<tr><td>P-0266</td><td>2018</td><td>Algas</td><td>Coruña</td><td>2</td><td>40.3000000000</td><td>25376.0000000000</td></tr>",
                            "<tr><td>P-0267</td><td>2018</td><td>Setas</td><td>Coruña</td><td>17</td><td>41.0000000000</td><td>29877.0000000000</td></tr>",
                            "<tr><td>P-0270</td><td>2018</td><td>Algas</td><td>Coruña</td><td>2</td><td>41.4000000000</td><td>25846.0000000000</td></tr>",
                            "<tr><td>P-0271</td><td>2018</td><td>Setas</td><td>Ourense</td><td>25</td><td>36.7000000000</td><td>26732.0000000000</td></tr>",
                            "<tr><td>P-0272</td><td>2018</td><td>Algas</td><td>Coruña</td><td>2</td><td>42.2000000000</td><td>26320.0000000000</td></tr>",
                            "<tr><td>P-0273</td><td>2018</td><td>Algas</td><td>Ourense</td><td>24</td><td>42.5000000000</td><td>25233.0000000000</td></tr>",
                            "<tr><td>P-0274</td><td>2018</td><td>Setas</td><td>Pontevedra</td><td>21</td><td>39.6000000000</td><td>27245.0000000000</td></tr>",
                            "<tr><td>P-0275</td><td>2018</td><td>Algas</td><td>Pontevedra</td><td>22</td><td>43.6000000000</td><td>26397.0000000000</td></tr>",
                            "<tr><td>P-0277</td><td>2018</td><td>Algas</td><td>Pontevedra</td><td>24</td><td>41.8000000000</td><td>24555.0000000000</td></tr>",
                            "<tr><td>P-0278</td><td>2018</td><td>Setas</td><td>Pontevedra</td><td>27</td><td>38.5000000000</td><td>27734.0000000000</td></tr>",
                            "<tr><td>P-0279</td><td>2018</td><td>Setas</td><td>Pontevedra</td><td>26</td><td>37.4000000000</td><td>25759.0000000000</td></tr>",
                            "<tr><td>P-0280</td><td>2018</td><td>Setas</td><td>Ourense</td><td>21</td><td>36.7000000000</td><td>27613.0000000000</td></tr>",
                            "<tr><td>P-0281</td><td>2018</td><td>Setas</td><td>Pontevedra</td><td>21</td><td>35.3000000000</td><td>24273.0000000000</td></tr>",
                            "<tr><td>P-0282</td><td>2018</td><td>Algas</td><td>Pontevedra</td><td>23</td><td>45.4000000000</td><td>26672.0000000000</td></tr>",
                            "<tr><td>P-0287</td><td>2018</td><td>Setas</td><td>Pontevedra</td><td>26</td><td>32.8000000000</td><td>24898.0000000000</td></tr>",
                            "<tr><td>P-0288</td><td>2018</td><td>Algas</td><td>Pontevedra</td><td>22</td><td>46.1000000000</td><td>27372.0000000000</td></tr>",
                            "<tr><td>P-0289</td><td>2018</td><td>Algas</td><td>Coruña</td><td>17</td><td>42.6000000000</td><td>26813.0000000000</td></tr>",
                            "<tr><td>P-0290</td><td>2018</td><td>Algas</td><td>Coruña</td><td>13</td><td>43.7000000000</td><td>27269.0000000000</td></tr>",
                            "<tr><td>P-0291</td><td>2018</td><td>Algas</td><td>Coruña</td><td>11</td><td>43.7000000000</td><td>27007.0000000000</td></tr>",
                            "<tr><td>P-0293</td><td>2018</td><td>Setas</td><td>Pontevedra</td><td>23</td><td>38.2000000000</td><td>28391.0000000000</td></tr>",
                            "<tr><td>P-0294</td><td>2018</td><td>Setas</td><td>Ourense</td><td>21</td><td>33.5000000000</td><td>25177.0000000000</td></tr>",
                            "<tr><td>P-0295</td><td>2018</td><td>Algas</td><td>Coruña</td><td>8</td><td>42.2000000000</td><td>26320.0000000000</td></tr>",
                            "<tr><td>P-0296</td><td>2018</td><td>Algas</td><td>Coruña</td><td>13</td><td>40.7000000000</td><td>25372.0000000000</td></tr>",
                            "<tr><td>P-0297</td><td>2018</td><td>Algas</td><td>Lugo</td><td>15</td><td>42.9000000000</td><td>26537.0000000000</td></tr>",
                            "<tr><td>P-0298</td><td>2018</td><td>Algas</td><td>Lugo</td><td>18</td><td>42.2000000000</td><td>26320.0000000000</td></tr>",
                            "<tr><td>P-0299</td><td>2018</td><td>Algas</td><td>Coruña</td><td>11</td><td>41.0000000000</td><td>25116.0000000000</td></tr>",
                            "<tr><td>P-0300</td><td>2018</td><td>Algas</td><td>Coruña</td><td>11</td><td>42.2000000000</td><td>26573.0000000000</td></tr>",
                            "<tr><td>P-0304</td><td>2019</td><td>Setas</td><td>Ourense</td><td>28</td><td>41.4000000000</td><td>26522.0000000000</td></tr>",
                            "<tr><td>P-0305</td><td>2019</td><td>Algas</td><td>Coruña</td><td>18</td><td>42.4000000000</td><td>25949.0000000000</td></tr>",
                            "<tr><td>P-0306</td><td>2019</td><td>Setas</td><td>Ourense</td><td>24</td><td>33.3000000000</td><td>21312.0000000000</td></tr>",
                            "<tr><td>P-0307</td><td>2019</td><td>Algas</td><td>Coruña</td><td>14</td><td>42.8000000000</td><td>26450.0000000000</td></tr>",
                            "<tr><td>P-0308</td><td>2019</td><td>Algas</td><td>Lugo</td><td>4</td><td>45.6000000000</td><td>28181.0000000000</td></tr>",
                            "<tr><td>P-0309</td><td>2019</td><td>Algas</td><td>Coruña</td><td>18</td><td>42.0000000000</td><td>25956.0000000000</td></tr>",
                            "<tr><td>P-0310</td><td>2019</td><td>Algas</td><td>Coruña</td><td>5</td><td>43.2000000000</td><td>27216.0000000000</td></tr>",
                            "<tr><td>P-0311</td><td>2019</td><td>Algas</td><td>Pontevedra</td><td>25</td><td>47.4000000000</td><td>28416.0000000000</td></tr>",
                            "<tr><td>P-0312</td><td>2019</td><td>Algas</td><td>Coruña</td><td>6</td><td>44.4000000000</td><td>27972.0000000000</td></tr>",
                            "<tr><td>P-0315</td><td>2019</td><td>Setas</td><td>Pontevedra</td><td>25</td><td>41.4000000000</td><td>27516.0000000000</td></tr>",
                            "<tr><td>P-0319</td><td>2019</td><td>Algas</td><td>Coruña</td><td>19</td><td>42.4000000000</td><td>26203.0000000000</td></tr>",
                            "<tr><td>P-0321</td><td>2019</td><td>Setas</td><td>Pontevedra</td><td>22</td><td>33.3000000000</td><td>21312.0000000000</td></tr>",
                            "<tr><td>P-0322</td><td>2019</td><td>Algas</td><td>Coruña</td><td>16</td><td>45.2000000000</td><td>27934.0000000000</td></tr>",
                            "<tr><td>P-0324</td><td>2019</td><td>Algas</td><td>Lugo</td><td>4</td><td>42.8000000000</td><td>26964.0000000000</td></tr>",
                            "<tr><td>P-0325</td><td>2019</td><td>Setas</td><td>Pontevedra</td><td>27</td><td>40.3000000000</td><td>25811.0000000000</td></tr>",
                            "<tr><td>P-0327</td><td>2019</td><td>Algas</td><td>Coruña</td><td>5</td><td>44.0000000000</td><td>27192.0000000000</td></tr>",
                            "<tr><td>P-0328</td><td>2019</td><td>Setas</td><td>Pontevedra</td><td>21</td><td>42.6000000000</td><td>28253.0000000000</td></tr>",
                            "<tr><td>P-0330</td><td>2019</td><td>Setas</td><td>Pontevedra</td><td>23</td><td>41.1000000000</td><td>26285.0000000000</td></tr>",
                            "<tr><td>P-0332</td><td>2019</td><td>Setas</td><td>Ourense</td><td>22</td><td>35.2000000000</td><td>24746.0000000000</td></tr>",
                            "<tr><td>P-0333</td><td>2019</td><td>Algas</td><td>Coruña</td><td>7</td><td>44.4000000000</td><td>27972.0000000000</td></tr>",
                            "<tr><td>P-0334</td><td>2019</td><td>Algas</td><td>Pontevedra</td><td>26</td><td>34.8000000000</td><td>20868.0000000000</td></tr>",
                            "<tr><td>P-0335</td><td>2019</td><td>Algas</td><td>Coruña</td><td>17</td><td>42.8000000000</td><td>26194.0000000000</td></tr>",
                            "<tr><td>P-0337</td><td>2019</td><td>Setas</td><td>Pontevedra</td><td>27</td><td>37.7000000000</td><td>25663.0000000000</td></tr>",
                            "<tr><td>P-0338</td><td>2019</td><td>Algas</td><td>Ourense</td><td>22</td><td>41.1000000000</td><td>24888.0000000000</td></tr>",
                            "<tr><td>P-0339</td><td>2019</td><td>Algas</td><td>Coruña</td><td>5</td><td>42.8000000000</td><td>26450.0000000000</td></tr>",
                            "<tr><td>P-0340</td><td>2019</td><td>Algas</td><td>Coruña</td><td>14</td><td>44.4000000000</td><td>27706.0000000000</td></tr>",
                            "<tr><td>P-0341</td><td>2019</td><td>Algas</td><td>Lugo</td><td>15</td><td>45.2000000000</td><td>28205.0000000000</td></tr>",
                            "<tr><td>P-0342</td><td>2019</td><td>Setas</td><td>Pontevedra</td><td>21</td><td>37.4000000000</td><td>25412.0000000000</td></tr>",
                            "<tr><td>P-0344</td><td>2019</td><td>Algas</td><td>Coruña</td><td>4</td><td>44.0000000000</td><td>27456.0000000000</td></tr>",
                            "<tr><td>P-0347</td><td>2019</td><td>Algas</td><td>Coruña</td><td>18</td><td>43.6000000000</td><td>27206.0000000000</td></tr>",
                            "<tr><td>P-0348</td><td>2019</td><td>Algas</td><td>Coruña</td><td>19</td><td>44.0000000000</td><td>27456.0000000000</td></tr>",
                            "<tr><td>P-0351</td><td>2019</td><td>Algas</td><td>Coruña</td><td>9</td><td>42.0000000000</td><td>26208.0000000000</td></tr>",
                            "<tr><td>P-0353</td><td>2019</td><td>Setas</td><td>Pontevedra</td><td>22</td><td>42.2000000000</td><td>29020.0000000000</td></tr>",
                            "<tr><td>P-0358</td><td>2019</td><td>Algas</td><td>Coruña</td><td>11</td><td>44.8000000000</td><td>27686.0000000000</td></tr>",
                            "<tr><td>P-0359</td><td>2019</td><td>Setas</td><td>Ourense</td><td>21</td><td>37.7000000000</td><td>25663.0000000000</td></tr>",
                            "<tr><td>P-0361</td><td>2019</td><td>Setas</td><td>Pontevedra</td><td>22</td><td>42.9000000000</td><td>28842.0000000000</td></tr>",
                            "<tr><td>P-0362</td><td>2019</td><td>Algas</td><td>Pontevedra</td><td>27</td><td>45.5000000000</td><td>27306.0000000000</td></tr>",
                            "<tr><td>P-0363</td><td>2019</td><td>Setas</td><td>Ourense</td><td>21</td><td>46.3000000000</td><td>28860.0000000000</td></tr>",
                            "<tr><td>P-0366</td><td>2019</td><td>Algas</td><td>Coruña</td><td>18</td><td>44.4000000000</td><td>27972.0000000000</td></tr>",
                            "<tr><td>P-0369</td><td>2019</td><td>Algas</td><td>Coruña</td><td>9</td><td>42.8000000000</td><td>26964.0000000000</td></tr>",
                            "<tr><td>P-0370</td><td>2019</td><td>Algas</td><td>Pontevedra</td><td>23</td><td>45.9000000000</td><td>26977.0000000000</td></tr>",
                            "<tr><td>P-0371</td><td>2019</td><td>Setas</td><td>Pontevedra</td><td>21</td><td>36.3000000000</td><td>24077.0000000000</td></tr>",
                            "<tr><td>P-0372</td><td>2019</td><td>Algas</td><td>Coruña</td><td>13</td><td>44.8000000000</td><td>27686.0000000000</td></tr>",
                            "<tr><td>P-0373</td><td>2019</td><td>Algas</td><td>Pontevedra</td><td>26</td><td>45.5000000000</td><td>26760.0000000000</td></tr>",
                            "<tr><td>P-0374</td><td>2019</td><td>Setas</td><td>Pontevedra</td><td>28</td><td>41.4000000000</td><td>26522.0000000000</td></tr>",
                            "<tr><td>P-0375</td><td>2019</td><td>Setas</td><td>Pontevedra</td><td>27</td><td>39.6000000000</td><td>25654.0000000000</td></tr>",
                            "<tr><td>P-0377</td><td>2019</td><td>Setas</td><td>Pontevedra</td><td>28</td><td>38.5000000000</td><td>26782.0000000000</td></tr>",
                            "<tr><td>P-0378</td><td>2019</td><td>Algas</td><td>Coruña</td><td>5</td><td>46.0000000000</td><td>28152.0000000000</td></tr>",
                            "<tr><td>P-0380</td><td>2019</td><td>Setas</td><td>Ourense</td><td>26</td><td>38.5000000000</td><td>24627.0000000000</td></tr>",
                            "<tr><td>P-0381</td><td>2019</td><td>Algas</td><td>Lugo</td><td>3</td><td>42.0000000000</td><td>26460.0000000000</td></tr>",
                            "<tr><td>P-0382</td><td>2019</td><td>Algas</td><td>Ourense</td><td>22</td><td>33.7000000000</td><td>20606.0000000000</td></tr>",
                            "<tr><td>P-0383</td><td>2019</td><td>Algas</td><td>Lugo</td><td>1</td><td>44.4000000000</td><td>27706.0000000000</td></tr>",
                            "<tr><td>P-0384</td><td>2019</td><td>Algas</td><td>Pontevedra</td><td>22</td><td>39.2000000000</td><td>23061.0000000000</td></tr>",
                            "<tr><td>P-0385</td><td>2019</td><td>Algas</td><td>Ourense</td><td>23</td><td>34.8000000000</td><td>20659.0000000000</td></tr>",
                            "<tr><td>P-0386</td><td>2019</td><td>Algas</td><td>Coruña</td><td>13</td><td>43.6000000000</td><td>27206.0000000000</td></tr>",
                            "<tr><td>P-0388</td><td>2019</td><td>Algas</td><td>Coruña</td><td>11</td><td>45.2000000000</td><td>27934.0000000000</td></tr>",
                            "<tr><td>P-0391</td><td>2019</td><td>Algas</td><td>Pontevedra</td><td>27</td><td>40.3000000000</td><td>24682.0000000000</td></tr>",
                            "<tr><td>P-0392</td><td>2019</td><td>Algas</td><td>Lugo</td><td>19</td><td>43.6000000000</td><td>26945.0000000000</td></tr>",
                            "<tr><td>P-0393</td><td>2019</td><td>Setas</td><td>Pontevedra</td><td>25</td><td>38.1000000000</td><td>24390.0000000000</td></tr>",
                            "<tr><td>P-0394</td><td>2019</td><td>Setas</td><td>Ourense</td><td>28</td><td>43.7000000000</td><td>29689.0000000000</td></tr>",
                            "<tr><td>P-0395</td><td>2019</td><td>Setas</td><td>Pontevedra</td><td>21</td><td>40.0000000000</td><td>26533.0000000000</td></tr>",
                            "<tr><td>P-0397</td><td>2019</td><td>Algas</td><td>Pontevedra</td><td>27</td><td>48.1000000000</td><td>28283.0000000000</td></tr>",
                            "<tr><td>P-0398</td><td>2019</td><td>Algas</td><td>Lugo</td><td>18</td><td>45.2000000000</td><td>28476.0000000000</td></tr>",
                            "<tr><td>P-0400</td><td>2019</td><td>Setas</td><td>Pontevedra</td><td>24</td><td>38.1000000000</td><td>25915.0000000000</td></tr>",
                            "<tr><td>P-0401</td><td>2019</td><td>Algas</td><td>Coruña</td><td>15</td><td>43.6000000000</td><td>26945.0000000000</td></tr>",
                            "<tr><td>P-0402</td><td>2019</td><td>Algas</td><td>Pontevedra</td><td>23</td><td>41.8000000000</td><td>24584.0000000000</td></tr>",
                            "<tr><td>P-0403</td><td>2019</td><td>Algas</td><td>Coruña</td><td>9</td><td>45.6000000000</td><td>28181.0000000000</td></tr>",
                            "<tr><td>P-0404</td><td>2019</td><td>Algas</td><td>Coruña</td><td>4</td><td>42.8000000000</td><td>26194.0000000000</td></tr>",
                            "<tr><td>P-0405</td><td>2019</td><td>Setas</td><td>Ourense</td><td>24</td><td>40.7000000000</td><td>26048.0000000000</td></tr>",
                            "<tr><td>P-0406</td><td>2019</td><td>Algas</td><td>Coruña</td><td>5</td><td>43.6000000000</td><td>26683.0000000000</td></tr>",
                            "<tr><td>P-0409</td><td>2019</td><td>Setas</td><td>Pontevedra</td><td>25</td><td>44.4000000000</td><td>29837.0000000000</td></tr>",
                            "<tr><td>P-0412</td><td>2019</td><td>Setas</td><td>Pontevedra</td><td>23</td><td>37.4000000000</td><td>24515.0000000000</td></tr>",
                            "<tr><td>P-0414</td><td>2019</td><td>Setas</td><td>Pontevedra</td><td>24</td><td>46.6000000000</td><td>29837.0000000000</td></tr>",
                            "<tr><td>P-0418</td><td>2019</td><td>Setas</td><td>Pontevedra</td><td>23</td><td>39.6000000000</td><td>27238.0000000000</td></tr>",
                            "<tr><td>P-0420</td><td>2019</td><td>Algas</td><td>Lugo</td><td>7</td><td>44.0000000000</td><td>27192.0000000000</td></tr>",
                            "<tr><td>P-0421</td><td>2019</td><td>Algas</td><td>Lugo</td><td>9</td><td>44.0000000000</td><td>27456.0000000000</td></tr>",
                            "<tr><td>P-0422</td><td>2019</td><td>Setas</td><td>Ourense</td><td>28</td><td>39.6000000000</td><td>25338.0000000000</td></tr>",
                            "<tr><td>P-0423</td><td>2019</td><td>Setas</td><td>Pontevedra</td><td>25</td><td>37.4000000000</td><td>24216.0000000000</td></tr>",
                            "<tr><td>P-0424</td><td>2019</td><td>Algas</td><td>Coruña</td><td>17</td><td>45.6000000000</td><td>28454.0000000000</td></tr>",
                            "<tr><td>P-0425</td><td>2019</td><td>Setas</td><td>Pontevedra</td><td>23</td><td>34.0000000000</td><td>22058.0000000000</td></tr>",
                            "<tr><td>P-0427</td><td>2019</td><td>Algas</td><td>Coruña</td><td>5</td><td>42.0000000000</td><td>26208.0000000000</td></tr>",
                            "<tr><td>P-0429</td><td>2019</td><td>Setas</td><td>Pontevedra</td><td>27</td><td>45.1000000000</td><td>29251.0000000000</td></tr>",
                            "<tr><td>P-0430</td><td>2019</td><td>Setas</td><td>Pontevedra</td><td>23</td><td>39.2000000000</td><td>26983.0000000000</td></tr>",
                            "<tr><td>P-0432</td><td>2019</td><td>Setas</td><td>Pontevedra</td><td>23</td><td>34.8000000000</td><td>23929.0000000000</td></tr>",
                            "<tr><td>P-0434</td><td>2019</td><td>Setas</td><td>Pontevedra</td><td>28</td><td>42.9000000000</td><td>28156.0000000000</td></tr>",
                            "<tr><td>P-0435</td><td>2019</td><td>Algas</td><td>Lugo</td><td>4</td><td>42.4000000000</td><td>26203.0000000000</td></tr>",
                            "<tr><td>P-0437</td><td>2019</td><td>Algas</td><td>Coruña</td><td>4</td><td>45.2000000000</td><td>27934.0000000000</td></tr>",
                            "<tr><td>P-0438</td><td>2019</td><td>Algas</td><td>Coruña</td><td>7</td><td>42.4000000000</td><td>26203.0000000000</td></tr>",
                            "<tr><td>P-0439</td><td>2019</td><td>Algas</td><td>Lugo</td><td>3</td><td>46.0000000000</td><td>28428.0000000000</td></tr>",
                            "<tr><td>P-0441</td><td>2019</td><td>Setas</td><td>Ourense</td><td>27</td><td>34.4000000000</td><td>23949.0000000000</td></tr>",
                            "<tr><td>P-0444</td><td>2019</td><td>Setas</td><td>Ourense</td><td>21</td><td>44.4000000000</td><td>28416.0000000000</td></tr>",
                            "<tr><td>P-0445</td><td>2019</td><td>Setas</td><td>Ourense</td><td>27</td><td>40.7000000000</td><td>25722.0000000000</td></tr>",
                            "<tr><td>P-0447</td><td>2019</td><td>Algas</td><td>Coruña</td><td>1</td><td>42.8000000000</td><td>26707.0000000000</td></tr>",
                            "<tr><td>P-0448</td><td>2019</td><td>Algas</td><td>Coruña</td><td>12</td><td>45.2000000000</td><td>27662.0000000000</td></tr>",
                            "<tr><td>P-0452</td><td>2019</td><td>Algas</td><td>Pontevedra</td><td>26</td><td>38.5000000000</td><td>23550.0000000000</td></tr>",
                            "<tr><td>P-0453</td><td>2019</td><td>Algas</td><td>Pontevedra</td><td>27</td><td>46.6000000000</td><td>28252.0000000000</td></tr>",
                            "<tr><td>P-0456</td><td>2019</td><td>Algas</td><td>Pontevedra</td><td>27</td><td>37.7000000000</td><td>22870.0000000000</td></tr>",
                            "<tr><td>P-0457</td><td>2019</td><td>Algas</td><td>Coruña</td><td>17</td><td>45.2000000000</td><td>28476.0000000000</td></tr>",
                            "<tr><td>P-0458</td><td>2019</td><td>Setas</td><td>Ourense</td><td>28</td><td>34.0000000000</td><td>22875.0000000000</td></tr>",
                            "<tr><td>P-0464</td><td>2019</td><td>Setas</td><td>Pontevedra</td><td>24</td><td>33.3000000000</td><td>22910.0000000000</td></tr>",
                            "<tr><td>P-0466</td><td>2019</td><td>Algas</td><td>Coruña</td><td>17</td><td>43.2000000000</td><td>26698.0000000000</td></tr>",
                            "<tr><td>P-0472</td><td>2019</td><td>Setas</td><td>Pontevedra</td><td>26</td><td>33.3000000000</td><td>22378.0000000000</td></tr>",
                            "<tr><td>P-0474</td><td>2019</td><td>Algas</td><td>Coruña</td><td>11</td><td>44.8000000000</td><td>27418.0000000000</td></tr>",
                            "<tr><td>P-0475</td><td>2019</td><td>Algas</td><td>Pontevedra</td><td>27</td><td>36.6000000000</td><td>22198.0000000000</td></tr>",
                            "<tr><td>P-0476</td><td>2019</td><td>Algas</td><td>Coruña</td><td>7</td><td>43.6000000000</td><td>26683.0000000000</td></tr>",
                            "<tr><td>P-0478</td><td>2019</td><td>Algas</td><td>Ourense</td><td>23</td><td>40.3000000000</td><td>24198.0000000000</td></tr>",
                            "<tr><td>P-0479</td><td>2019</td><td>Algas</td><td>Coruña</td><td>19</td><td>45.6000000000</td><td>27907.0000000000</td></tr>",
                            "<tr><td>P-0480</td><td>2019</td><td>Setas</td><td>Ourense</td><td>21</td><td>36.6000000000</td><td>23736.0000000000</td></tr>",
                            "<tr><td>P-0481</td><td>2019</td><td>Algas</td><td>Coruña</td><td>7</td><td>44.8000000000</td><td>27418.0000000000</td></tr>",
                            "<tr><td>P-0482</td><td>2019</td><td>Algas</td><td>Pontevedra</td><td>28</td><td>35.9000000000</td><td>21749.0000000000</td></tr>",
                            "<tr><td>P-0483</td><td>2019</td><td>Algas</td><td>Coruña</td><td>12</td><td>44.8000000000</td><td>27955.0000000000</td></tr>",
                            "<tr><td>P-0484</td><td>2019</td><td>Setas</td><td>Pontevedra</td><td>27</td><td>42.6000000000</td><td>27232.0000000000</td></tr>",
                            "<tr><td>P-0485</td><td>2019</td><td>Algas</td><td>Lugo</td><td>13</td><td>42.4000000000</td><td>26458.0000000000</td></tr>",
                            "<tr><td>P-0486</td><td>2019</td><td>Algas</td><td>Coruña</td><td>17</td><td>44.8000000000</td><td>27955.0000000000</td></tr>",
                            "<tr><td>P-0487</td><td>2019</td><td>Setas</td><td>Pontevedra</td><td>23</td><td>33.7000000000</td><td>21279.0000000000</td></tr>",
                            "<tr><td>P-0489</td><td>2019</td><td>Setas</td><td>Pontevedra</td><td>23</td><td>37.4000000000</td><td>23917.0000000000</td></tr>",
                            "<tr><td>P-0491</td><td>2019</td><td>Setas</td><td>Pontevedra</td><td>28</td><td>39.2000000000</td><td>27611.0000000000</td></tr>",
                            "<tr><td>P-0492</td><td>2019</td><td>Algas</td><td>Lugo</td><td>13</td><td>45.2000000000</td><td>28205.0000000000</td></tr>",
                            "<tr><td>P-0495</td><td>2019</td><td>Algas</td><td>Coruña</td><td>8</td><td>43.2000000000</td><td>26957.0000000000</td></tr>",
                            "<tr><td>P-0497</td><td>2019</td><td>Algas</td><td>Lugo</td><td>17</td><td>43.6000000000</td><td>26945.0000000000</td></tr>",
                            "<tr><td>P-0500</td><td>2019</td><td>Setas</td><td>Pontevedra</td><td>25</td><td>34.0000000000</td><td>23964.0000000000</td></tr>",
                            "</table>"
                        ]
                    }
                }
            ],
            "execution_count": 16
        },
        {
            "cell_type": "code",
            "source": [
                "SELECT *\r\n",
                "FROM NEMINA.DBO.DATOS_BASE\r\n",
                "WHERE INGRESOS_EUR >10000\r\n",
                "AND (PRODUCTO_ID = 'Algas' OR PRODUCTO_ID = 'Belleza')"
            ],
            "metadata": {
                "azdata_cell_guid": "d784dfd6-5b14-408b-80ae-a44cc19ad272"
            },
            "outputs": [
                {
                    "output_type": "display_data",
                    "data": {
                        "text/html": "(245 rows affected)"
                    },
                    "metadata": {}
                },
                {
                    "output_type": "display_data",
                    "data": {
                        "text/html": "Total execution time: 00:00:00.099"
                    },
                    "metadata": {}
                },
                {
                    "output_type": "execute_result",
                    "metadata": {},
                    "execution_count": 17,
                    "data": {
                        "application/vnd.dataresource+json": {
                            "schema": {
                                "fields": [
                                    {
                                        "name": "PEDIDO_ID"
                                    },
                                    {
                                        "name": "FY_ID"
                                    },
                                    {
                                        "name": "PRODUCTO_ID"
                                    },
                                    {
                                        "name": "ZONA_ID"
                                    },
                                    {
                                        "name": "CLIENTE_ID"
                                    },
                                    {
                                        "name": "TONELADAS"
                                    },
                                    {
                                        "name": "INGRESOS_EUR"
                                    }
                                ]
                            },
                            "data": [
                                {
                                    "0": "P-0012",
                                    "1": "2016",
                                    "2": "Algas",
                                    "3": "Ourense",
                                    "4": "27",
                                    "5": "29.7000000000",
                                    "6": "17998.0000000000"
                                },
                                {
                                    "0": "P-0014",
                                    "1": "2016",
                                    "2": "Algas",
                                    "3": "Lugo",
                                    "4": "16",
                                    "5": "32.7000000000",
                                    "6": "19816.0000000000"
                                },
                                {
                                    "0": "P-0018",
                                    "1": "2016",
                                    "2": "Algas",
                                    "3": "Coruña",
                                    "4": "18",
                                    "5": "31.8000000000",
                                    "6": "19271.0000000000"
                                },
                                {
                                    "0": "P-0019",
                                    "1": "2016",
                                    "2": "Algas",
                                    "3": "Ourense",
                                    "4": "27",
                                    "5": "37.5000000000",
                                    "6": "21375.0000000000"
                                },
                                {
                                    "0": "P-0020",
                                    "1": "2016",
                                    "2": "Algas",
                                    "3": "Coruña",
                                    "4": "7",
                                    "5": "33.3000000000",
                                    "6": "19780.0000000000"
                                },
                                {
                                    "0": "P-0022",
                                    "1": "2016",
                                    "2": "Algas",
                                    "3": "Pontevedra",
                                    "4": "25",
                                    "5": "30.9000000000",
                                    "6": "17613.0000000000"
                                },
                                {
                                    "0": "P-0023",
                                    "1": "2016",
                                    "2": "Algas",
                                    "3": "Lugo",
                                    "4": "6",
                                    "5": "31.8000000000",
                                    "6": "19080.0000000000"
                                },
                                {
                                    "0": "P-0029",
                                    "1": "2016",
                                    "2": "Algas",
                                    "3": "Coruña",
                                    "4": "6",
                                    "5": "33.3000000000",
                                    "6": "19181.0000000000"
                                },
                                {
                                    "0": "P-0030",
                                    "1": "2016",
                                    "2": "Algas",
                                    "3": "Coruña",
                                    "4": "15",
                                    "5": "32.4000000000",
                                    "6": "19246.0000000000"
                                },
                                {
                                    "0": "P-0033",
                                    "1": "2016",
                                    "2": "Algas",
                                    "3": "Coruña",
                                    "4": "2",
                                    "5": "32.1000000000",
                                    "6": "19067.0000000000"
                                },
                                {
                                    "0": "P-0037",
                                    "1": "2016",
                                    "2": "Algas",
                                    "3": "Pontevedra",
                                    "4": "25",
                                    "5": "34.2000000000",
                                    "6": "20520.0000000000"
                                },
                                {
                                    "0": "P-0041",
                                    "1": "2016",
                                    "2": "Algas",
                                    "3": "Pontevedra",
                                    "4": "24",
                                    "5": "28.8000000000",
                                    "6": "16762.0000000000"
                                },
                                {
                                    "0": "P-0042",
                                    "1": "2016",
                                    "2": "Algas",
                                    "3": "Coruña",
                                    "4": "1",
                                    "5": "32.4000000000",
                                    "6": "18468.0000000000"
                                },
                                {
                                    "0": "P-0046",
                                    "1": "2016",
                                    "2": "Algas",
                                    "3": "Pontevedra",
                                    "4": "28",
                                    "5": "27.0000000000",
                                    "6": "16362.0000000000"
                                },
                                {
                                    "0": "P-0049",
                                    "1": "2016",
                                    "2": "Algas",
                                    "3": "Pontevedra",
                                    "4": "23",
                                    "5": "34.2000000000",
                                    "6": "19699.0000000000"
                                },
                                {
                                    "0": "P-0050",
                                    "1": "2016",
                                    "2": "Algas",
                                    "3": "Pontevedra",
                                    "4": "23",
                                    "5": "31.8000000000",
                                    "6": "19271.0000000000"
                                },
                                {
                                    "0": "P-0050-A",
                                    "1": "2016",
                                    "2": "Belleza",
                                    "3": "Coruña",
                                    "4": "23",
                                    "5": "31.5000000000",
                                    "6": "99225.0000000000"
                                },
                                {
                                    "0": "P-0051",
                                    "1": "2017",
                                    "2": "Algas",
                                    "3": "Ourense",
                                    "4": "27",
                                    "5": "43.8000000000",
                                    "6": "25988.0000000000"
                                },
                                {
                                    "0": "P-0054",
                                    "1": "2017",
                                    "2": "Belleza",
                                    "3": "Pontevedra",
                                    "4": "28",
                                    "5": "44.1000000000",
                                    "6": "148176.0000000000"
                                },
                                {
                                    "0": "P-0057",
                                    "1": "2017",
                                    "2": "Algas",
                                    "3": "Pontevedra",
                                    "4": "27",
                                    "5": "36.1000000000",
                                    "6": "21197.0000000000"
                                },
                                {
                                    "0": "P-0059",
                                    "1": "2017",
                                    "2": "Algas",
                                    "3": "Pontevedra",
                                    "4": "26",
                                    "5": "44.1000000000",
                                    "6": "26195.0000000000"
                                },
                                {
                                    "0": "P-0060",
                                    "1": "2017",
                                    "2": "Algas",
                                    "3": "Pontevedra",
                                    "4": "24",
                                    "5": "40.3000000000",
                                    "6": "23667.0000000000"
                                },
                                {
                                    "0": "P-0063",
                                    "1": "2017",
                                    "2": "Algas",
                                    "3": "Ourense",
                                    "4": "27",
                                    "5": "39.2000000000",
                                    "6": "23755.0000000000"
                                },
                                {
                                    "0": "P-0067",
                                    "1": "2017",
                                    "2": "Algas",
                                    "3": "Pontevedra",
                                    "4": "28",
                                    "5": "39.2000000000",
                                    "6": "23285.0000000000"
                                },
                                {
                                    "0": "P-0068",
                                    "1": "2017",
                                    "2": "Belleza",
                                    "3": "Pontevedra",
                                    "4": "25",
                                    "5": "33.6000000000",
                                    "6": "106848.0000000000"
                                },
                                {
                                    "0": "P-0069",
                                    "1": "2017",
                                    "2": "Algas",
                                    "3": "Ourense",
                                    "4": "23",
                                    "5": "44.1000000000",
                                    "6": "26725.0000000000"
                                },
                                {
                                    "0": "P-0072",
                                    "1": "2017",
                                    "2": "Belleza",
                                    "3": "Pontevedra",
                                    "4": "27",
                                    "5": "35.0000000000",
                                    "6": "110250.0000000000"
                                },
                                {
                                    "0": "P-0074",
                                    "1": "2017",
                                    "2": "Algas",
                                    "3": "Pontevedra",
                                    "4": "25",
                                    "5": "34.7000000000",
                                    "6": "20998.0000000000"
                                },
                                {
                                    "0": "P-0075",
                                    "1": "2017",
                                    "2": "Algas",
                                    "3": "Pontevedra",
                                    "4": "22",
                                    "5": "44.8000000000",
                                    "6": "26611.0000000000"
                                },
                                {
                                    "0": "P-0076",
                                    "1": "2017",
                                    "2": "Belleza",
                                    "3": "Coruña",
                                    "4": "18",
                                    "5": "37.1000000000",
                                    "6": "132447.0000000000"
                                },
                                {
                                    "0": "P-0077",
                                    "1": "2017",
                                    "2": "Algas",
                                    "3": "Coruña",
                                    "4": "15",
                                    "5": "38.9000000000",
                                    "6": "24242.0000000000"
                                },
                                {
                                    "0": "P-0078",
                                    "1": "2017",
                                    "2": "Algas",
                                    "3": "Lugo",
                                    "4": "8",
                                    "5": "38.9000000000",
                                    "6": "23776.0000000000"
                                },
                                {
                                    "0": "P-0080",
                                    "1": "2017",
                                    "2": "Algas",
                                    "3": "Coruña",
                                    "4": "17",
                                    "5": "39.6000000000",
                                    "6": "24679.0000000000"
                                },
                                {
                                    "0": "P-0081",
                                    "1": "2017",
                                    "2": "Algas",
                                    "3": "Coruña",
                                    "4": "7",
                                    "5": "36.8000000000",
                                    "6": "22932.0000000000"
                                },
                                {
                                    "0": "P-0082",
                                    "1": "2017",
                                    "2": "Algas",
                                    "3": "Coruña",
                                    "4": "4",
                                    "5": "38.9000000000",
                                    "6": "24242.0000000000"
                                },
                                {
                                    "0": "P-0083",
                                    "1": "2017",
                                    "2": "Algas",
                                    "3": "Lugo",
                                    "4": "11",
                                    "5": "39.9000000000",
                                    "6": "25137.0000000000"
                                },
                                {
                                    "0": "P-0085",
                                    "1": "2017",
                                    "2": "Algas",
                                    "3": "Coruña",
                                    "4": "10",
                                    "5": "37.1000000000",
                                    "6": "22705.0000000000"
                                },
                                {
                                    "0": "P-0086",
                                    "1": "2017",
                                    "2": "Algas",
                                    "3": "Lugo",
                                    "4": "7",
                                    "5": "38.5000000000",
                                    "6": "24024.0000000000"
                                },
                                {
                                    "0": "P-0088",
                                    "1": "2017",
                                    "2": "Belleza",
                                    "3": "Pontevedra",
                                    "4": "28",
                                    "5": "43.4000000000",
                                    "6": "138012.0000000000"
                                },
                                {
                                    "0": "P-0089",
                                    "1": "2017",
                                    "2": "Algas",
                                    "3": "Ourense",
                                    "4": "27",
                                    "5": "41.0000000000",
                                    "6": "24816.0000000000"
                                },
                                {
                                    "0": "P-0091",
                                    "1": "2017",
                                    "2": "Belleza",
                                    "3": "Coruña",
                                    "4": "18",
                                    "5": "39.6000000000",
                                    "6": "128142.0000000000"
                                },
                                {
                                    "0": "P-0092",
                                    "1": "2017",
                                    "2": "Algas",
                                    "3": "Coruña",
                                    "4": "19",
                                    "5": "39.6000000000",
                                    "6": "24205.0000000000"
                                },
                                {
                                    "0": "P-0093",
                                    "1": "2017",
                                    "2": "Belleza",
                                    "3": "Coruña",
                                    "4": "39",
                                    "5": "39.2000000000",
                                    "6": "141120.0000000000"
                                },
                                {
                                    "0": "P-0094",
                                    "1": "2017",
                                    "2": "Algas",
                                    "3": "Coruña",
                                    "4": "19",
                                    "5": "39.2000000000",
                                    "6": "23990.0000000000"
                                },
                                {
                                    "0": "P-0095",
                                    "1": "2017",
                                    "2": "Algas",
                                    "3": "Lugo",
                                    "4": "4",
                                    "5": "37.1000000000",
                                    "6": "23150.0000000000"
                                },
                                {
                                    "0": "P-0099",
                                    "1": "2017",
                                    "2": "Algas",
                                    "3": "Lugo",
                                    "4": "10",
                                    "5": "38.9000000000",
                                    "6": "24476.0000000000"
                                },
                                {
                                    "0": "P-0102",
                                    "1": "2017",
                                    "2": "Algas",
                                    "3": "Coruña",
                                    "4": "4",
                                    "5": "36.8000000000",
                                    "6": "22712.0000000000"
                                },
                                {
                                    "0": "P-0105",
                                    "1": "2017",
                                    "2": "Algas",
                                    "3": "Coruña",
                                    "4": "4",
                                    "5": "38.9000000000",
                                    "6": "24476.0000000000"
                                },
                                {
                                    "0": "P-0106",
                                    "1": "2017",
                                    "2": "Belleza",
                                    "3": "Coruña",
                                    "4": "6",
                                    "5": "37.1000000000",
                                    "6": "122430.0000000000"
                                },
                                {
                                    "0": "P-0107",
                                    "1": "2017",
                                    "2": "Belleza",
                                    "3": "Pontevedra",
                                    "4": "28",
                                    "5": "39.6000000000",
                                    "6": "129329.0000000000"
                                },
                                {
                                    "0": "P-0109",
                                    "1": "2017",
                                    "2": "Algas",
                                    "3": "Lugo",
                                    "4": "8",
                                    "5": "39.6000000000",
                                    "6": "24205.0000000000"
                                },
                                {
                                    "0": "P-0111",
                                    "1": "2017",
                                    "2": "Algas",
                                    "3": "Coruña",
                                    "4": "18",
                                    "5": "38.2000000000",
                                    "6": "23348.0000000000"
                                },
                                {
                                    "0": "P-0112",
                                    "1": "2017",
                                    "2": "Algas",
                                    "3": "Coruña",
                                    "4": "5",
                                    "5": "39.2000000000",
                                    "6": "24226.0000000000"
                                },
                                {
                                    "0": "P-0115",
                                    "1": "2017",
                                    "2": "Belleza",
                                    "3": "Coruña",
                                    "4": "20",
                                    "5": "39.2000000000",
                                    "6": "135240.0000000000"
                                },
                                {
                                    "0": "P-0117",
                                    "1": "2017",
                                    "2": "Belleza",
                                    "3": "Lugo",
                                    "4": "13",
                                    "5": "38.5000000000",
                                    "6": "136290.0000000000"
                                },
                                {
                                    "0": "P-0119",
                                    "1": "2017",
                                    "2": "Algas",
                                    "3": "Coruña",
                                    "4": "7",
                                    "5": "40.3000000000",
                                    "6": "25116.0000000000"
                                },
                                {
                                    "0": "P-0122",
                                    "1": "2017",
                                    "2": "Algas",
                                    "3": "Coruña",
                                    "4": "15",
                                    "5": "39.9000000000",
                                    "6": "24658.0000000000"
                                },
                                {
                                    "0": "P-0123",
                                    "1": "2017",
                                    "2": "Algas",
                                    "3": "Coruña",
                                    "4": "17",
                                    "5": "37.1000000000",
                                    "6": "23373.0000000000"
                                },
                                {
                                    "0": "P-0124",
                                    "1": "2017",
                                    "2": "Algas",
                                    "3": "Lugo",
                                    "4": "17",
                                    "5": "39.9000000000",
                                    "6": "25137.0000000000"
                                },
                                {
                                    "0": "P-0126",
                                    "1": "2017",
                                    "2": "Belleza",
                                    "3": "Pontevedra",
                                    "4": "25",
                                    "5": "44.5000000000",
                                    "6": "140018.0000000000"
                                },
                                {
                                    "0": "P-0127",
                                    "1": "2017",
                                    "2": "Algas",
                                    "3": "Coruña",
                                    "4": "1",
                                    "5": "39.6000000000",
                                    "6": "24679.0000000000"
                                },
                                {
                                    "0": "P-0128",
                                    "1": "2017",
                                    "2": "Algas",
                                    "3": "Coruña",
                                    "4": "9",
                                    "5": "40.3000000000",
                                    "6": "24633.0000000000"
                                },
                                {
                                    "0": "P-0130",
                                    "1": "2017",
                                    "2": "Algas",
                                    "3": "Coruña",
                                    "4": "18",
                                    "5": "39.2000000000",
                                    "6": "24696.0000000000"
                                },
                                {
                                    "0": "P-0132",
                                    "1": "2017",
                                    "2": "Algas",
                                    "3": "Pontevedra",
                                    "4": "25",
                                    "5": "39.2000000000",
                                    "6": "23755.0000000000"
                                },
                                {
                                    "0": "P-0134",
                                    "1": "2017",
                                    "2": "Algas",
                                    "3": "Coruña",
                                    "4": "19",
                                    "5": "40.3000000000",
                                    "6": "25358.0000000000"
                                },
                                {
                                    "0": "P-0135",
                                    "1": "2017",
                                    "2": "Belleza",
                                    "3": "Ourense",
                                    "4": "25",
                                    "5": "42.0000000000",
                                    "6": "138600.0000000000"
                                },
                                {
                                    "0": "P-0137",
                                    "1": "2017",
                                    "2": "Algas",
                                    "3": "Pontevedra",
                                    "4": "28",
                                    "5": "39.9000000000",
                                    "6": "24419.0000000000"
                                },
                                {
                                    "0": "P-0141",
                                    "1": "2017",
                                    "2": "Algas",
                                    "3": "Pontevedra",
                                    "4": "24",
                                    "5": "43.1000000000",
                                    "6": "26347.0000000000"
                                },
                                {
                                    "0": "P-0143",
                                    "1": "2017",
                                    "2": "Belleza",
                                    "3": "Pontevedra",
                                    "4": "23",
                                    "5": "31.9000000000",
                                    "6": "106061.0000000000"
                                },
                                {
                                    "0": "P-0145",
                                    "1": "2017",
                                    "2": "Algas",
                                    "3": "Pontevedra",
                                    "4": "26",
                                    "5": "34.7000000000",
                                    "6": "20790.0000000000"
                                },
                                {
                                    "0": "P-0148",
                                    "1": "2017",
                                    "2": "Algas",
                                    "3": "Coruña",
                                    "4": "6",
                                    "5": "37.1000000000",
                                    "6": "22928.0000000000"
                                },
                                {
                                    "0": "P-0149",
                                    "1": "2017",
                                    "2": "Algas",
                                    "3": "Lugo",
                                    "4": "2",
                                    "5": "39.6000000000",
                                    "6": "24205.0000000000"
                                },
                                {
                                    "0": "P-0160",
                                    "1": "2018",
                                    "2": "Belleza",
                                    "3": "Coruña",
                                    "4": "6",
                                    "5": "39.9000000000",
                                    "6": "124488.0000000000"
                                },
                                {
                                    "0": "P-0161",
                                    "1": "2018",
                                    "2": "Algas",
                                    "3": "Coruña",
                                    "4": "6",
                                    "5": "42.6000000000",
                                    "6": "26813.0000000000"
                                },
                                {
                                    "0": "P-0163",
                                    "1": "2018",
                                    "2": "Algas",
                                    "3": "Coruña",
                                    "4": "7",
                                    "5": "40.7000000000",
                                    "6": "25616.0000000000"
                                },
                                {
                                    "0": "P-0166",
                                    "1": "2018",
                                    "2": "Algas",
                                    "3": "Coruña",
                                    "4": "14",
                                    "5": "42.6000000000",
                                    "6": "26302.0000000000"
                                },
                                {
                                    "0": "P-0167",
                                    "1": "2018",
                                    "2": "Algas",
                                    "3": "Ourense",
                                    "4": "26",
                                    "5": "38.9000000000",
                                    "6": "23795.0000000000"
                                },
                                {
                                    "0": "P-0171",
                                    "1": "2018",
                                    "2": "Algas",
                                    "3": "Lugo",
                                    "4": "20",
                                    "5": "41.8000000000",
                                    "6": "25582.0000000000"
                                },
                                {
                                    "0": "P-0172",
                                    "1": "2018",
                                    "2": "Algas",
                                    "3": "Lugo",
                                    "4": "17",
                                    "5": "40.7000000000",
                                    "6": "25128.0000000000"
                                },
                                {
                                    "0": "P-0173",
                                    "1": "2018",
                                    "2": "Belleza",
                                    "3": "Coruña",
                                    "4": "11",
                                    "5": "42.6000000000",
                                    "6": "136618.0000000000"
                                },
                                {
                                    "0": "P-0174",
                                    "1": "2018",
                                    "2": "Algas",
                                    "3": "Coruña",
                                    "4": "20",
                                    "5": "43.7000000000",
                                    "6": "27007.0000000000"
                                },
                                {
                                    "0": "P-0178",
                                    "1": "2018",
                                    "2": "Algas",
                                    "3": "Pontevedra",
                                    "4": "22",
                                    "5": "45.0000000000",
                                    "6": "27540.0000000000"
                                },
                                {
                                    "0": "P-0182",
                                    "1": "2018",
                                    "2": "Algas",
                                    "3": "Pontevedra",
                                    "4": "28",
                                    "5": "42.1000000000",
                                    "6": "25019.0000000000"
                                },
                                {
                                    "0": "P-0184",
                                    "1": "2018",
                                    "2": "Algas",
                                    "3": "Pontevedra",
                                    "4": "26",
                                    "5": "36.7000000000",
                                    "6": "21591.0000000000"
                                },
                                {
                                    "0": "P-0185",
                                    "1": "2018",
                                    "2": "Belleza",
                                    "3": "Pontevedra",
                                    "4": "21",
                                    "5": "36.0000000000",
                                    "6": "120960.0000000000"
                                },
                                {
                                    "0": "P-0186",
                                    "1": "2018",
                                    "2": "Algas",
                                    "3": "Ourense",
                                    "4": "21",
                                    "5": "36.4000000000",
                                    "6": "21816.0000000000"
                                },
                                {
                                    "0": "P-0187",
                                    "1": "2018",
                                    "2": "Algas",
                                    "3": "Pontevedra",
                                    "4": "23",
                                    "5": "36.7000000000",
                                    "6": "22032.0000000000"
                                },
                                {
                                    "0": "P-0191",
                                    "1": "2018",
                                    "2": "Belleza",
                                    "3": "Ourense",
                                    "4": "23",
                                    "5": "43.2000000000",
                                    "6": "129600.0000000000"
                                },
                                {
                                    "0": "P-0192",
                                    "1": "2018",
                                    "2": "Algas",
                                    "3": "Pontevedra",
                                    "4": "25",
                                    "5": "36.7000000000",
                                    "6": "21591.0000000000"
                                },
                                {
                                    "0": "P-0193",
                                    "1": "2018",
                                    "2": "Belleza",
                                    "3": "Pontevedra",
                                    "4": "23",
                                    "5": "43.6000000000",
                                    "6": "133294.0000000000"
                                },
                                {
                                    "0": "P-0196",
                                    "1": "2018",
                                    "2": "Algas",
                                    "3": "Pontevedra",
                                    "4": "26",
                                    "5": "42.8000000000",
                                    "6": "26218.0000000000"
                                },
                                {
                                    "0": "P-0197",
                                    "1": "2018",
                                    "2": "Algas",
                                    "3": "Coruña",
                                    "4": "14",
                                    "5": "42.2000000000",
                                    "6": "26573.0000000000"
                                },
                                {
                                    "0": "P-0202",
                                    "1": "2018",
                                    "2": "Algas",
                                    "3": "Coruña",
                                    "4": "7",
                                    "5": "42.9000000000",
                                    "6": "26795.0000000000"
                                },
                                {
                                    "0": "P-0205",
                                    "1": "2018",
                                    "2": "Algas",
                                    "3": "Coruña",
                                    "4": "1",
                                    "5": "42.2000000000",
                                    "6": "26067.0000000000"
                                },
                                {
                                    "0": "P-0208",
                                    "1": "2018",
                                    "2": "Algas",
                                    "3": "Lugo",
                                    "4": "9",
                                    "5": "39.9000000000",
                                    "6": "24898.0000000000"
                                },
                                {
                                    "0": "P-0209",
                                    "1": "2018",
                                    "2": "Algas",
                                    "3": "Coruña",
                                    "4": "4",
                                    "5": "42.2000000000",
                                    "6": "26320.0000000000"
                                },
                                {
                                    "0": "P-0210",
                                    "1": "2018",
                                    "2": "Belleza",
                                    "3": "Lugo",
                                    "4": "16",
                                    "5": "39.9000000000",
                                    "6": "135261.0000000000"
                                },
                                {
                                    "0": "P-0211",
                                    "1": "2018",
                                    "2": "Algas",
                                    "3": "Coruña",
                                    "4": "12",
                                    "5": "42.2000000000",
                                    "6": "26573.0000000000"
                                },
                                {
                                    "0": "P-0213",
                                    "1": "2018",
                                    "2": "Belleza",
                                    "3": "Ourense",
                                    "4": "25",
                                    "5": "41.0000000000",
                                    "6": "129276.0000000000"
                                },
                                {
                                    "0": "P-0214",
                                    "1": "2018",
                                    "2": "Algas",
                                    "3": "Pontevedra",
                                    "4": "27",
                                    "5": "33.1000000000",
                                    "6": "20071.0000000000"
                                },
                                {
                                    "0": "P-0218",
                                    "1": "2018",
                                    "2": "Algas",
                                    "3": "Coruña",
                                    "4": "4",
                                    "5": "39.9000000000",
                                    "6": "24658.0000000000"
                                },
                                {
                                    "0": "P-0223",
                                    "1": "2018",
                                    "2": "Algas",
                                    "3": "Coruña",
                                    "4": "13",
                                    "5": "41.4000000000",
                                    "6": "25598.0000000000"
                                },
                                {
                                    "0": "P-0224",
                                    "1": "2018",
                                    "2": "Belleza",
                                    "3": "Coruña",
                                    "4": "18",
                                    "5": "42.9000000000",
                                    "6": "144278.0000000000"
                                },
                                {
                                    "0": "P-0227",
                                    "1": "2018",
                                    "2": "Belleza",
                                    "3": "Coruña",
                                    "4": "40",
                                    "5": "40.3000000000",
                                    "6": "142591.0000000000"
                                },
                                {
                                    "0": "P-0228",
                                    "1": "2018",
                                    "2": "Algas",
                                    "3": "Coruña",
                                    "4": "20",
                                    "5": "41.0000000000",
                                    "6": "25855.0000000000"
                                },
                                {
                                    "0": "P-0229",
                                    "1": "2018",
                                    "2": "Belleza",
                                    "3": "Pontevedra",
                                    "4": "25",
                                    "5": "42.8000000000",
                                    "6": "140087.0000000000"
                                },
                                {
                                    "0": "P-0231",
                                    "1": "2018",
                                    "2": "Algas",
                                    "3": "Coruña",
                                    "4": "1",
                                    "5": "42.2000000000",
                                    "6": "26573.0000000000"
                                },
                                {
                                    "0": "P-0233",
                                    "1": "2018",
                                    "2": "Algas",
                                    "3": "Pontevedra",
                                    "4": "21",
                                    "5": "36.0000000000",
                                    "6": "21168.0000000000"
                                },
                                {
                                    "0": "P-0236",
                                    "1": "2018",
                                    "2": "Algas",
                                    "3": "Coruña",
                                    "4": "16",
                                    "5": "39.9000000000",
                                    "6": "24419.0000000000"
                                },
                                {
                                    "0": "P-0237",
                                    "1": "2018",
                                    "2": "Algas",
                                    "3": "Coruña",
                                    "4": "14",
                                    "5": "41.4000000000",
                                    "6": "25349.0000000000"
                                },
                                {
                                    "0": "P-0240",
                                    "1": "2018",
                                    "2": "Algas",
                                    "3": "Lugo",
                                    "4": "3",
                                    "5": "41.0000000000",
                                    "6": "25363.0000000000"
                                },
                                {
                                    "0": "P-0241",
                                    "1": "2018",
                                    "2": "Algas",
                                    "3": "Pontevedra",
                                    "4": "21",
                                    "5": "37.8000000000",
                                    "6": "22226.0000000000"
                                },
                                {
                                    "0": "P-0242",
                                    "1": "2018",
                                    "2": "Algas",
                                    "3": "Pontevedra",
                                    "4": "23",
                                    "5": "43.6000000000",
                                    "6": "26659.0000000000"
                                },
                                {
                                    "0": "P-0246",
                                    "1": "2018",
                                    "2": "Algas",
                                    "3": "Pontevedra",
                                    "4": "23",
                                    "5": "46.8000000000",
                                    "6": "27799.0000000000"
                                },
                                {
                                    "0": "P-0248",
                                    "1": "2018",
                                    "2": "Algas",
                                    "3": "Coruña",
                                    "4": "13",
                                    "5": "41.8000000000",
                                    "6": "26334.0000000000"
                                },
                                {
                                    "0": "P-0251",
                                    "1": "2018",
                                    "2": "Algas",
                                    "3": "Lugo",
                                    "4": "14",
                                    "5": "41.8000000000",
                                    "6": "25582.0000000000"
                                },
                                {
                                    "0": "P-0252",
                                    "1": "2018",
                                    "2": "Belleza",
                                    "3": "Lugo",
                                    "4": "20",
                                    "5": "43.7000000000",
                                    "6": "141588.0000000000"
                                },
                                {
                                    "0": "P-0253",
                                    "1": "2018",
                                    "2": "Belleza",
                                    "3": "Coruña",
                                    "4": "41",
                                    "5": "41.0000000000",
                                    "6": "134201.0000000000"
                                },
                                {
                                    "0": "P-0254",
                                    "1": "2018",
                                    "2": "Algas",
                                    "3": "Coruña",
                                    "4": "2",
                                    "5": "41.4000000000",
                                    "6": "25846.0000000000"
                                },
                                {
                                    "0": "P-0256",
                                    "1": "2018",
                                    "2": "Belleza",
                                    "3": "Coruña",
                                    "4": "12",
                                    "5": "42.9000000000",
                                    "6": "136549.0000000000"
                                },
                                {
                                    "0": "P-0262",
                                    "1": "2018",
                                    "2": "Algas",
                                    "3": "Pontevedra",
                                    "4": "23",
                                    "5": "44.6000000000",
                                    "6": "26784.0000000000"
                                },
                                {
                                    "0": "P-0263",
                                    "1": "2018",
                                    "2": "Algas",
                                    "3": "Coruña",
                                    "4": "6",
                                    "5": "41.8000000000",
                                    "6": "25582.0000000000"
                                },
                                {
                                    "0": "P-0264",
                                    "1": "2018",
                                    "2": "Belleza",
                                    "3": "Pontevedra",
                                    "4": "28",
                                    "5": "35.6000000000",
                                    "6": "107989.0000000000"
                                },
                                {
                                    "0": "P-0265",
                                    "1": "2018",
                                    "2": "Algas",
                                    "3": "Pontevedra",
                                    "4": "26",
                                    "5": "40.0000000000",
                                    "6": "23736.0000000000"
                                },
                                {
                                    "0": "P-0266",
                                    "1": "2018",
                                    "2": "Algas",
                                    "3": "Coruña",
                                    "4": "2",
                                    "5": "40.3000000000",
                                    "6": "25376.0000000000"
                                },
                                {
                                    "0": "P-0270",
                                    "1": "2018",
                                    "2": "Algas",
                                    "3": "Coruña",
                                    "4": "2",
                                    "5": "41.4000000000",
                                    "6": "25846.0000000000"
                                },
                                {
                                    "0": "P-0272",
                                    "1": "2018",
                                    "2": "Algas",
                                    "3": "Coruña",
                                    "4": "2",
                                    "5": "42.2000000000",
                                    "6": "26320.0000000000"
                                },
                                {
                                    "0": "P-0273",
                                    "1": "2018",
                                    "2": "Algas",
                                    "3": "Ourense",
                                    "4": "24",
                                    "5": "42.5000000000",
                                    "6": "25233.0000000000"
                                },
                                {
                                    "0": "P-0275",
                                    "1": "2018",
                                    "2": "Algas",
                                    "3": "Pontevedra",
                                    "4": "22",
                                    "5": "43.6000000000",
                                    "6": "26397.0000000000"
                                },
                                {
                                    "0": "P-0277",
                                    "1": "2018",
                                    "2": "Algas",
                                    "3": "Pontevedra",
                                    "4": "24",
                                    "5": "41.8000000000",
                                    "6": "24555.0000000000"
                                },
                                {
                                    "0": "P-0282",
                                    "1": "2018",
                                    "2": "Algas",
                                    "3": "Pontevedra",
                                    "4": "23",
                                    "5": "45.4000000000",
                                    "6": "26672.0000000000"
                                },
                                {
                                    "0": "P-0284",
                                    "1": "2018",
                                    "2": "Belleza",
                                    "3": "Pontevedra",
                                    "4": "22",
                                    "5": "45.4000000000",
                                    "6": "142884.0000000000"
                                },
                                {
                                    "0": "P-0286",
                                    "1": "2018",
                                    "2": "Belleza",
                                    "3": "Coruña",
                                    "4": "16",
                                    "5": "43.3000000000",
                                    "6": "145555.0000000000"
                                },
                                {
                                    "0": "P-0288",
                                    "1": "2018",
                                    "2": "Algas",
                                    "3": "Pontevedra",
                                    "4": "22",
                                    "5": "46.1000000000",
                                    "6": "27372.0000000000"
                                },
                                {
                                    "0": "P-0289",
                                    "1": "2018",
                                    "2": "Algas",
                                    "3": "Coruña",
                                    "4": "17",
                                    "5": "42.6000000000",
                                    "6": "26813.0000000000"
                                },
                                {
                                    "0": "P-0290",
                                    "1": "2018",
                                    "2": "Algas",
                                    "3": "Coruña",
                                    "4": "13",
                                    "5": "43.7000000000",
                                    "6": "27269.0000000000"
                                },
                                {
                                    "0": "P-0291",
                                    "1": "2018",
                                    "2": "Algas",
                                    "3": "Coruña",
                                    "4": "11",
                                    "5": "43.7000000000",
                                    "6": "27007.0000000000"
                                },
                                {
                                    "0": "P-0292",
                                    "1": "2018",
                                    "2": "Belleza",
                                    "3": "Coruña",
                                    "4": "4",
                                    "5": "42.9000000000",
                                    "6": "144278.0000000000"
                                },
                                {
                                    "0": "P-0295",
                                    "1": "2018",
                                    "2": "Algas",
                                    "3": "Coruña",
                                    "4": "8",
                                    "5": "42.2000000000",
                                    "6": "26320.0000000000"
                                },
                                {
                                    "0": "P-0296",
                                    "1": "2018",
                                    "2": "Algas",
                                    "3": "Coruña",
                                    "4": "13",
                                    "5": "40.7000000000",
                                    "6": "25372.0000000000"
                                },
                                {
                                    "0": "P-0297",
                                    "1": "2018",
                                    "2": "Algas",
                                    "3": "Lugo",
                                    "4": "15",
                                    "5": "42.9000000000",
                                    "6": "26537.0000000000"
                                },
                                {
                                    "0": "P-0298",
                                    "1": "2018",
                                    "2": "Algas",
                                    "3": "Lugo",
                                    "4": "18",
                                    "5": "42.2000000000",
                                    "6": "26320.0000000000"
                                },
                                {
                                    "0": "P-0299",
                                    "1": "2018",
                                    "2": "Algas",
                                    "3": "Coruña",
                                    "4": "11",
                                    "5": "41.0000000000",
                                    "6": "25116.0000000000"
                                },
                                {
                                    "0": "P-0300",
                                    "1": "2018",
                                    "2": "Algas",
                                    "3": "Coruña",
                                    "4": "11",
                                    "5": "42.2000000000",
                                    "6": "26573.0000000000"
                                },
                                {
                                    "0": "P-0305",
                                    "1": "2019",
                                    "2": "Algas",
                                    "3": "Coruña",
                                    "4": "18",
                                    "5": "42.4000000000",
                                    "6": "25949.0000000000"
                                },
                                {
                                    "0": "P-0307",
                                    "1": "2019",
                                    "2": "Algas",
                                    "3": "Coruña",
                                    "4": "14",
                                    "5": "42.8000000000",
                                    "6": "26450.0000000000"
                                },
                                {
                                    "0": "P-0308",
                                    "1": "2019",
                                    "2": "Algas",
                                    "3": "Lugo",
                                    "4": "4",
                                    "5": "45.6000000000",
                                    "6": "28181.0000000000"
                                },
                                {
                                    "0": "P-0309",
                                    "1": "2019",
                                    "2": "Algas",
                                    "3": "Coruña",
                                    "4": "18",
                                    "5": "42.0000000000",
                                    "6": "25956.0000000000"
                                },
                                {
                                    "0": "P-0310",
                                    "1": "2019",
                                    "2": "Algas",
                                    "3": "Coruña",
                                    "4": "5",
                                    "5": "43.2000000000",
                                    "6": "27216.0000000000"
                                },
                                {
                                    "0": "P-0311",
                                    "1": "2019",
                                    "2": "Algas",
                                    "3": "Pontevedra",
                                    "4": "25",
                                    "5": "47.4000000000",
                                    "6": "28416.0000000000"
                                },
                                {
                                    "0": "P-0312",
                                    "1": "2019",
                                    "2": "Algas",
                                    "3": "Coruña",
                                    "4": "6",
                                    "5": "44.4000000000",
                                    "6": "27972.0000000000"
                                },
                                {
                                    "0": "P-0318",
                                    "1": "2019",
                                    "2": "Algas",
                                    "3": "Ourense",
                                    "4": "25",
                                    "5": "259.0000000000",
                                    "6": "158508.0000000000"
                                },
                                {
                                    "0": "P-0319",
                                    "1": "2019",
                                    "2": "Algas",
                                    "3": "Coruña",
                                    "4": "19",
                                    "5": "42.4000000000",
                                    "6": "26203.0000000000"
                                },
                                {
                                    "0": "P-0322",
                                    "1": "2019",
                                    "2": "Algas",
                                    "3": "Coruña",
                                    "4": "16",
                                    "5": "45.2000000000",
                                    "6": "27934.0000000000"
                                },
                                {
                                    "0": "P-0324",
                                    "1": "2019",
                                    "2": "Algas",
                                    "3": "Lugo",
                                    "4": "4",
                                    "5": "42.8000000000",
                                    "6": "26964.0000000000"
                                },
                                {
                                    "0": "P-0327",
                                    "1": "2019",
                                    "2": "Algas",
                                    "3": "Coruña",
                                    "4": "5",
                                    "5": "44.0000000000",
                                    "6": "27192.0000000000"
                                },
                                {
                                    "0": "P-0331",
                                    "1": "2019",
                                    "2": "Belleza",
                                    "3": "Coruña",
                                    "4": "13",
                                    "5": "45.2000000000",
                                    "6": "146448.0000000000"
                                },
                                {
                                    "0": "P-0333",
                                    "1": "2019",
                                    "2": "Algas",
                                    "3": "Coruña",
                                    "4": "7",
                                    "5": "44.4000000000",
                                    "6": "27972.0000000000"
                                },
                                {
                                    "0": "P-0334",
                                    "1": "2019",
                                    "2": "Algas",
                                    "3": "Pontevedra",
                                    "4": "26",
                                    "5": "34.8000000000",
                                    "6": "20868.0000000000"
                                },
                                {
                                    "0": "P-0335",
                                    "1": "2019",
                                    "2": "Algas",
                                    "3": "Coruña",
                                    "4": "17",
                                    "5": "42.8000000000",
                                    "6": "26194.0000000000"
                                },
                                {
                                    "0": "P-0338",
                                    "1": "2019",
                                    "2": "Algas",
                                    "3": "Ourense",
                                    "4": "22",
                                    "5": "41.1000000000",
                                    "6": "24888.0000000000"
                                },
                                {
                                    "0": "P-0339",
                                    "1": "2019",
                                    "2": "Algas",
                                    "3": "Coruña",
                                    "4": "5",
                                    "5": "42.8000000000",
                                    "6": "26450.0000000000"
                                },
                                {
                                    "0": "P-0340",
                                    "1": "2019",
                                    "2": "Algas",
                                    "3": "Coruña",
                                    "4": "14",
                                    "5": "44.4000000000",
                                    "6": "27706.0000000000"
                                },
                                {
                                    "0": "P-0341",
                                    "1": "2019",
                                    "2": "Algas",
                                    "3": "Lugo",
                                    "4": "15",
                                    "5": "45.2000000000",
                                    "6": "28205.0000000000"
                                },
                                {
                                    "0": "P-0344",
                                    "1": "2019",
                                    "2": "Algas",
                                    "3": "Coruña",
                                    "4": "4",
                                    "5": "44.0000000000",
                                    "6": "27456.0000000000"
                                },
                                {
                                    "0": "P-0345",
                                    "1": "2019",
                                    "2": "Belleza",
                                    "3": "Pontevedra",
                                    "4": "21",
                                    "5": "36.6000000000",
                                    "6": "121978.0000000000"
                                },
                                {
                                    "0": "P-0346",
                                    "1": "2019",
                                    "2": "Belleza",
                                    "3": "Ourense",
                                    "4": "28",
                                    "5": "38.1000000000",
                                    "6": "125763.0000000000"
                                },
                                {
                                    "0": "P-0347",
                                    "1": "2019",
                                    "2": "Algas",
                                    "3": "Coruña",
                                    "4": "18",
                                    "5": "43.6000000000",
                                    "6": "27206.0000000000"
                                },
                                {
                                    "0": "P-0348",
                                    "1": "2019",
                                    "2": "Algas",
                                    "3": "Coruña",
                                    "4": "19",
                                    "5": "44.0000000000",
                                    "6": "27456.0000000000"
                                },
                                {
                                    "0": "P-0350",
                                    "1": "2019",
                                    "2": "Belleza",
                                    "3": "Ourense",
                                    "4": "26",
                                    "5": "45.9000000000",
                                    "6": "141769.0000000000"
                                },
                                {
                                    "0": "P-0351",
                                    "1": "2019",
                                    "2": "Algas",
                                    "3": "Coruña",
                                    "4": "9",
                                    "5": "42.0000000000",
                                    "6": "26208.0000000000"
                                },
                                {
                                    "0": "P-0354",
                                    "1": "2019",
                                    "2": "Belleza",
                                    "3": "Pontevedra",
                                    "4": "21",
                                    "5": "33.7000000000",
                                    "6": "111111.0000000000"
                                },
                                {
                                    "0": "P-0356",
                                    "1": "2019",
                                    "2": "Algas",
                                    "3": "Pontevedra",
                                    "4": "22",
                                    "5": "222.0000000000",
                                    "6": "133200.0000000000"
                                },
                                {
                                    "0": "P-0358",
                                    "1": "2019",
                                    "2": "Algas",
                                    "3": "Coruña",
                                    "4": "11",
                                    "5": "44.8000000000",
                                    "6": "27686.0000000000"
                                },
                                {
                                    "0": "P-0362",
                                    "1": "2019",
                                    "2": "Algas",
                                    "3": "Pontevedra",
                                    "4": "27",
                                    "5": "45.5000000000",
                                    "6": "27306.0000000000"
                                },
                                {
                                    "0": "P-0364",
                                    "1": "2019",
                                    "2": "Belleza",
                                    "3": "Pontevedra",
                                    "4": "27",
                                    "5": "37.4000000000",
                                    "6": "119958.0000000000"
                                },
                                {
                                    "0": "P-0366",
                                    "1": "2019",
                                    "2": "Algas",
                                    "3": "Coruña",
                                    "4": "18",
                                    "5": "44.4000000000",
                                    "6": "27972.0000000000"
                                },
                                {
                                    "0": "P-0369",
                                    "1": "2019",
                                    "2": "Algas",
                                    "3": "Coruña",
                                    "4": "9",
                                    "5": "42.8000000000",
                                    "6": "26964.0000000000"
                                },
                                {
                                    "0": "P-0370",
                                    "1": "2019",
                                    "2": "Algas",
                                    "3": "Pontevedra",
                                    "4": "23",
                                    "5": "45.9000000000",
                                    "6": "26977.0000000000"
                                },
                                {
                                    "0": "P-0372",
                                    "1": "2019",
                                    "2": "Algas",
                                    "3": "Coruña",
                                    "4": "13",
                                    "5": "44.8000000000",
                                    "6": "27686.0000000000"
                                },
                                {
                                    "0": "P-0373",
                                    "1": "2019",
                                    "2": "Algas",
                                    "3": "Pontevedra",
                                    "4": "26",
                                    "5": "45.5000000000",
                                    "6": "26760.0000000000"
                                },
                                {
                                    "0": "P-0378",
                                    "1": "2019",
                                    "2": "Algas",
                                    "3": "Coruña",
                                    "4": "5",
                                    "5": "46.0000000000",
                                    "6": "28152.0000000000"
                                },
                                {
                                    "0": "P-0381",
                                    "1": "2019",
                                    "2": "Algas",
                                    "3": "Lugo",
                                    "4": "3",
                                    "5": "42.0000000000",
                                    "6": "26460.0000000000"
                                },
                                {
                                    "0": "P-0382",
                                    "1": "2019",
                                    "2": "Algas",
                                    "3": "Ourense",
                                    "4": "22",
                                    "5": "33.7000000000",
                                    "6": "20606.0000000000"
                                },
                                {
                                    "0": "P-0383",
                                    "1": "2019",
                                    "2": "Algas",
                                    "3": "Lugo",
                                    "4": "1",
                                    "5": "44.4000000000",
                                    "6": "27706.0000000000"
                                },
                                {
                                    "0": "P-0384",
                                    "1": "2019",
                                    "2": "Algas",
                                    "3": "Pontevedra",
                                    "4": "22",
                                    "5": "39.2000000000",
                                    "6": "23061.0000000000"
                                },
                                {
                                    "0": "P-0385",
                                    "1": "2019",
                                    "2": "Algas",
                                    "3": "Ourense",
                                    "4": "23",
                                    "5": "34.8000000000",
                                    "6": "20659.0000000000"
                                },
                                {
                                    "0": "P-0386",
                                    "1": "2019",
                                    "2": "Algas",
                                    "3": "Coruña",
                                    "4": "13",
                                    "5": "43.6000000000",
                                    "6": "27206.0000000000"
                                },
                                {
                                    "0": "P-0387",
                                    "1": "2019",
                                    "2": "Belleza",
                                    "3": "Coruña",
                                    "4": "12",
                                    "5": "45.2000000000",
                                    "6": "147804.0000000000"
                                },
                                {
                                    "0": "P-0388",
                                    "1": "2019",
                                    "2": "Algas",
                                    "3": "Coruña",
                                    "4": "11",
                                    "5": "45.2000000000",
                                    "6": "27934.0000000000"
                                },
                                {
                                    "0": "P-0389",
                                    "1": "2019",
                                    "2": "Belleza",
                                    "3": "Coruña",
                                    "4": "20",
                                    "5": "44.4000000000",
                                    "6": "153180.0000000000"
                                },
                                {
                                    "0": "P-0391",
                                    "1": "2019",
                                    "2": "Algas",
                                    "3": "Pontevedra",
                                    "4": "27",
                                    "5": "40.3000000000",
                                    "6": "24682.0000000000"
                                },
                                {
                                    "0": "P-0392",
                                    "1": "2019",
                                    "2": "Algas",
                                    "3": "Lugo",
                                    "4": "19",
                                    "5": "43.6000000000",
                                    "6": "26945.0000000000"
                                },
                                {
                                    "0": "P-0397",
                                    "1": "2019",
                                    "2": "Algas",
                                    "3": "Pontevedra",
                                    "4": "27",
                                    "5": "48.1000000000",
                                    "6": "28283.0000000000"
                                },
                                {
                                    "0": "P-0398",
                                    "1": "2019",
                                    "2": "Algas",
                                    "3": "Lugo",
                                    "4": "18",
                                    "5": "45.2000000000",
                                    "6": "28476.0000000000"
                                },
                                {
                                    "0": "P-0399",
                                    "1": "2019",
                                    "2": "Belleza",
                                    "3": "Pontevedra",
                                    "4": "24",
                                    "5": "40.0000000000",
                                    "6": "134266.0000000000"
                                },
                                {
                                    "0": "P-0401",
                                    "1": "2019",
                                    "2": "Algas",
                                    "3": "Coruña",
                                    "4": "15",
                                    "5": "43.6000000000",
                                    "6": "26945.0000000000"
                                },
                                {
                                    "0": "P-0402",
                                    "1": "2019",
                                    "2": "Algas",
                                    "3": "Pontevedra",
                                    "4": "23",
                                    "5": "41.8000000000",
                                    "6": "24584.0000000000"
                                },
                                {
                                    "0": "P-0403",
                                    "1": "2019",
                                    "2": "Algas",
                                    "3": "Coruña",
                                    "4": "9",
                                    "5": "45.6000000000",
                                    "6": "28181.0000000000"
                                },
                                {
                                    "0": "P-0404",
                                    "1": "2019",
                                    "2": "Algas",
                                    "3": "Coruña",
                                    "4": "4",
                                    "5": "42.8000000000",
                                    "6": "26194.0000000000"
                                },
                                {
                                    "0": "P-0406",
                                    "1": "2019",
                                    "2": "Algas",
                                    "3": "Coruña",
                                    "4": "5",
                                    "5": "43.6000000000",
                                    "6": "26683.0000000000"
                                },
                                {
                                    "0": "P-0410",
                                    "1": "2019",
                                    "2": "Belleza",
                                    "3": "Pontevedra",
                                    "4": "28",
                                    "5": "35.9000000000",
                                    "6": "110900.0000000000"
                                },
                                {
                                    "0": "P-0416",
                                    "1": "2019",
                                    "2": "Belleza",
                                    "3": "Coruña",
                                    "4": "4",
                                    "5": "44.8000000000",
                                    "6": "134400.0000000000"
                                },
                                {
                                    "0": "P-0420",
                                    "1": "2019",
                                    "2": "Algas",
                                    "3": "Lugo",
                                    "4": "7",
                                    "5": "44.0000000000",
                                    "6": "27192.0000000000"
                                },
                                {
                                    "0": "P-0421",
                                    "1": "2019",
                                    "2": "Algas",
                                    "3": "Lugo",
                                    "4": "9",
                                    "5": "44.0000000000",
                                    "6": "27456.0000000000"
                                },
                                {
                                    "0": "P-0424",
                                    "1": "2019",
                                    "2": "Algas",
                                    "3": "Coruña",
                                    "4": "17",
                                    "5": "45.6000000000",
                                    "6": "28454.0000000000"
                                },
                                {
                                    "0": "P-0427",
                                    "1": "2019",
                                    "2": "Algas",
                                    "3": "Coruña",
                                    "4": "5",
                                    "5": "42.0000000000",
                                    "6": "26208.0000000000"
                                },
                                {
                                    "0": "P-0435",
                                    "1": "2019",
                                    "2": "Algas",
                                    "3": "Lugo",
                                    "4": "4",
                                    "5": "42.4000000000",
                                    "6": "26203.0000000000"
                                },
                                {
                                    "0": "P-0437",
                                    "1": "2019",
                                    "2": "Algas",
                                    "3": "Coruña",
                                    "4": "4",
                                    "5": "45.2000000000",
                                    "6": "27934.0000000000"
                                },
                                {
                                    "0": "P-0438",
                                    "1": "2019",
                                    "2": "Algas",
                                    "3": "Coruña",
                                    "4": "7",
                                    "5": "42.4000000000",
                                    "6": "26203.0000000000"
                                },
                                {
                                    "0": "P-0439",
                                    "1": "2019",
                                    "2": "Algas",
                                    "3": "Lugo",
                                    "4": "3",
                                    "5": "46.0000000000",
                                    "6": "28428.0000000000"
                                },
                                {
                                    "0": "P-0443",
                                    "1": "2019",
                                    "2": "Belleza",
                                    "3": "Coruña",
                                    "4": "17",
                                    "5": "44.4000000000",
                                    "6": "141192.0000000000"
                                },
                                {
                                    "0": "P-0446",
                                    "1": "2019",
                                    "2": "Belleza",
                                    "3": "Coruña",
                                    "4": "14",
                                    "5": "42.4000000000",
                                    "6": "142464.0000000000"
                                },
                                {
                                    "0": "P-0447",
                                    "1": "2019",
                                    "2": "Algas",
                                    "3": "Coruña",
                                    "4": "1",
                                    "5": "42.8000000000",
                                    "6": "26707.0000000000"
                                },
                                {
                                    "0": "P-0448",
                                    "1": "2019",
                                    "2": "Algas",
                                    "3": "Coruña",
                                    "4": "12",
                                    "5": "45.2000000000",
                                    "6": "27662.0000000000"
                                },
                                {
                                    "0": "P-0451",
                                    "1": "2019",
                                    "2": "Belleza",
                                    "3": "Lugo",
                                    "4": "12",
                                    "5": "43.6000000000",
                                    "6": "138648.0000000000"
                                },
                                {
                                    "0": "P-0452",
                                    "1": "2019",
                                    "2": "Algas",
                                    "3": "Pontevedra",
                                    "4": "26",
                                    "5": "38.5000000000",
                                    "6": "23550.0000000000"
                                },
                                {
                                    "0": "P-0453",
                                    "1": "2019",
                                    "2": "Algas",
                                    "3": "Pontevedra",
                                    "4": "27",
                                    "5": "46.6000000000",
                                    "6": "28252.0000000000"
                                },
                                {
                                    "0": "P-0454",
                                    "1": "2019",
                                    "2": "Belleza",
                                    "3": "Coruña",
                                    "4": "18",
                                    "5": "45.2000000000",
                                    "6": "138312.0000000000"
                                },
                                {
                                    "0": "P-0456",
                                    "1": "2019",
                                    "2": "Algas",
                                    "3": "Pontevedra",
                                    "4": "27",
                                    "5": "37.7000000000",
                                    "6": "22870.0000000000"
                                },
                                {
                                    "0": "P-0457",
                                    "1": "2019",
                                    "2": "Algas",
                                    "3": "Coruña",
                                    "4": "17",
                                    "5": "45.2000000000",
                                    "6": "28476.0000000000"
                                },
                                {
                                    "0": "P-0459",
                                    "1": "2019",
                                    "2": "Belleza",
                                    "3": "Coruña",
                                    "4": "11",
                                    "5": "43.2000000000",
                                    "6": "136080.0000000000"
                                },
                                {
                                    "0": "P-0460",
                                    "1": "2019",
                                    "2": "Belleza",
                                    "3": "Pontevedra",
                                    "4": "27",
                                    "5": "37.0000000000",
                                    "6": "120990.0000000000"
                                },
                                {
                                    "0": "P-0462",
                                    "1": "2019",
                                    "2": "Belleza",
                                    "3": "Pontevedra",
                                    "4": "25",
                                    "5": "36.3000000000",
                                    "6": "116395.0000000000"
                                },
                                {
                                    "0": "P-0463",
                                    "1": "2019",
                                    "2": "Belleza",
                                    "3": "Pontevedra",
                                    "4": "22",
                                    "5": "45.1000000000",
                                    "6": "136774.0000000000"
                                },
                                {
                                    "0": "P-0465",
                                    "1": "2019",
                                    "2": "Belleza",
                                    "3": "Coruña",
                                    "4": "20",
                                    "5": "42.0000000000",
                                    "6": "146160.0000000000"
                                },
                                {
                                    "0": "P-0466",
                                    "1": "2019",
                                    "2": "Algas",
                                    "3": "Coruña",
                                    "4": "17",
                                    "5": "43.2000000000",
                                    "6": "26698.0000000000"
                                },
                                {
                                    "0": "P-0470",
                                    "1": "2019",
                                    "2": "Belleza",
                                    "3": "Ourense",
                                    "4": "24",
                                    "5": "41.4000000000",
                                    "6": "126806.0000000000"
                                },
                                {
                                    "0": "P-0474",
                                    "1": "2019",
                                    "2": "Algas",
                                    "3": "Coruña",
                                    "4": "11",
                                    "5": "44.8000000000",
                                    "6": "27418.0000000000"
                                },
                                {
                                    "0": "P-0475",
                                    "1": "2019",
                                    "2": "Algas",
                                    "3": "Pontevedra",
                                    "4": "27",
                                    "5": "36.6000000000",
                                    "6": "22198.0000000000"
                                },
                                {
                                    "0": "P-0476",
                                    "1": "2019",
                                    "2": "Algas",
                                    "3": "Coruña",
                                    "4": "7",
                                    "5": "43.6000000000",
                                    "6": "26683.0000000000"
                                },
                                {
                                    "0": "P-0477",
                                    "1": "2019",
                                    "2": "Belleza",
                                    "3": "Lugo",
                                    "4": "7",
                                    "5": "46.0000000000",
                                    "6": "158700.0000000000"
                                },
                                {
                                    "0": "P-0478",
                                    "1": "2019",
                                    "2": "Algas",
                                    "3": "Ourense",
                                    "4": "23",
                                    "5": "40.3000000000",
                                    "6": "24198.0000000000"
                                },
                                {
                                    "0": "P-0479",
                                    "1": "2019",
                                    "2": "Algas",
                                    "3": "Coruña",
                                    "4": "19",
                                    "5": "45.6000000000",
                                    "6": "27907.0000000000"
                                },
                                {
                                    "0": "P-0481",
                                    "1": "2019",
                                    "2": "Algas",
                                    "3": "Coruña",
                                    "4": "7",
                                    "5": "44.8000000000",
                                    "6": "27418.0000000000"
                                },
                                {
                                    "0": "P-0482",
                                    "1": "2019",
                                    "2": "Algas",
                                    "3": "Pontevedra",
                                    "4": "28",
                                    "5": "35.9000000000",
                                    "6": "21749.0000000000"
                                },
                                {
                                    "0": "P-0483",
                                    "1": "2019",
                                    "2": "Algas",
                                    "3": "Coruña",
                                    "4": "12",
                                    "5": "44.8000000000",
                                    "6": "27955.0000000000"
                                },
                                {
                                    "0": "P-0485",
                                    "1": "2019",
                                    "2": "Algas",
                                    "3": "Lugo",
                                    "4": "13",
                                    "5": "42.4000000000",
                                    "6": "26458.0000000000"
                                },
                                {
                                    "0": "P-0486",
                                    "1": "2019",
                                    "2": "Algas",
                                    "3": "Coruña",
                                    "4": "17",
                                    "5": "44.8000000000",
                                    "6": "27955.0000000000"
                                },
                                {
                                    "0": "P-0488",
                                    "1": "2019",
                                    "2": "Belleza",
                                    "3": "Pontevedra",
                                    "4": "28",
                                    "5": "37.4000000000",
                                    "6": "124442.0000000000"
                                },
                                {
                                    "0": "P-0490",
                                    "1": "2019",
                                    "2": "Belleza",
                                    "3": "Coruña",
                                    "4": "11",
                                    "5": "42.0000000000",
                                    "6": "143640.0000000000"
                                },
                                {
                                    "0": "P-0492",
                                    "1": "2019",
                                    "2": "Algas",
                                    "3": "Lugo",
                                    "4": "13",
                                    "5": "45.2000000000",
                                    "6": "28205.0000000000"
                                },
                                {
                                    "0": "P-0493",
                                    "1": "2019",
                                    "2": "Belleza",
                                    "3": "Coruña",
                                    "4": "16",
                                    "5": "45.6000000000",
                                    "6": "161424.0000000000"
                                },
                                {
                                    "0": "P-0495",
                                    "1": "2019",
                                    "2": "Algas",
                                    "3": "Coruña",
                                    "4": "8",
                                    "5": "43.2000000000",
                                    "6": "26957.0000000000"
                                },
                                {
                                    "0": "P-0497",
                                    "1": "2019",
                                    "2": "Algas",
                                    "3": "Lugo",
                                    "4": "17",
                                    "5": "43.6000000000",
                                    "6": "26945.0000000000"
                                }
                            ]
                        },
                        "text/html": [
                            "<table>",
                            "<tr><th>PEDIDO_ID</th><th>FY_ID</th><th>PRODUCTO_ID</th><th>ZONA_ID</th><th>CLIENTE_ID</th><th>TONELADAS</th><th>INGRESOS_EUR</th></tr>",
                            "<tr><td>P-0012</td><td>2016</td><td>Algas</td><td>Ourense</td><td>27</td><td>29.7000000000</td><td>17998.0000000000</td></tr>",
                            "<tr><td>P-0014</td><td>2016</td><td>Algas</td><td>Lugo</td><td>16</td><td>32.7000000000</td><td>19816.0000000000</td></tr>",
                            "<tr><td>P-0018</td><td>2016</td><td>Algas</td><td>Coruña</td><td>18</td><td>31.8000000000</td><td>19271.0000000000</td></tr>",
                            "<tr><td>P-0019</td><td>2016</td><td>Algas</td><td>Ourense</td><td>27</td><td>37.5000000000</td><td>21375.0000000000</td></tr>",
                            "<tr><td>P-0020</td><td>2016</td><td>Algas</td><td>Coruña</td><td>7</td><td>33.3000000000</td><td>19780.0000000000</td></tr>",
                            "<tr><td>P-0022</td><td>2016</td><td>Algas</td><td>Pontevedra</td><td>25</td><td>30.9000000000</td><td>17613.0000000000</td></tr>",
                            "<tr><td>P-0023</td><td>2016</td><td>Algas</td><td>Lugo</td><td>6</td><td>31.8000000000</td><td>19080.0000000000</td></tr>",
                            "<tr><td>P-0029</td><td>2016</td><td>Algas</td><td>Coruña</td><td>6</td><td>33.3000000000</td><td>19181.0000000000</td></tr>",
                            "<tr><td>P-0030</td><td>2016</td><td>Algas</td><td>Coruña</td><td>15</td><td>32.4000000000</td><td>19246.0000000000</td></tr>",
                            "<tr><td>P-0033</td><td>2016</td><td>Algas</td><td>Coruña</td><td>2</td><td>32.1000000000</td><td>19067.0000000000</td></tr>",
                            "<tr><td>P-0037</td><td>2016</td><td>Algas</td><td>Pontevedra</td><td>25</td><td>34.2000000000</td><td>20520.0000000000</td></tr>",
                            "<tr><td>P-0041</td><td>2016</td><td>Algas</td><td>Pontevedra</td><td>24</td><td>28.8000000000</td><td>16762.0000000000</td></tr>",
                            "<tr><td>P-0042</td><td>2016</td><td>Algas</td><td>Coruña</td><td>1</td><td>32.4000000000</td><td>18468.0000000000</td></tr>",
                            "<tr><td>P-0046</td><td>2016</td><td>Algas</td><td>Pontevedra</td><td>28</td><td>27.0000000000</td><td>16362.0000000000</td></tr>",
                            "<tr><td>P-0049</td><td>2016</td><td>Algas</td><td>Pontevedra</td><td>23</td><td>34.2000000000</td><td>19699.0000000000</td></tr>",
                            "<tr><td>P-0050</td><td>2016</td><td>Algas</td><td>Pontevedra</td><td>23</td><td>31.8000000000</td><td>19271.0000000000</td></tr>",
                            "<tr><td>P-0050-A</td><td>2016</td><td>Belleza</td><td>Coruña</td><td>23</td><td>31.5000000000</td><td>99225.0000000000</td></tr>",
                            "<tr><td>P-0051</td><td>2017</td><td>Algas</td><td>Ourense</td><td>27</td><td>43.8000000000</td><td>25988.0000000000</td></tr>",
                            "<tr><td>P-0054</td><td>2017</td><td>Belleza</td><td>Pontevedra</td><td>28</td><td>44.1000000000</td><td>148176.0000000000</td></tr>",
                            "<tr><td>P-0057</td><td>2017</td><td>Algas</td><td>Pontevedra</td><td>27</td><td>36.1000000000</td><td>21197.0000000000</td></tr>",
                            "<tr><td>P-0059</td><td>2017</td><td>Algas</td><td>Pontevedra</td><td>26</td><td>44.1000000000</td><td>26195.0000000000</td></tr>",
                            "<tr><td>P-0060</td><td>2017</td><td>Algas</td><td>Pontevedra</td><td>24</td><td>40.3000000000</td><td>23667.0000000000</td></tr>",
                            "<tr><td>P-0063</td><td>2017</td><td>Algas</td><td>Ourense</td><td>27</td><td>39.2000000000</td><td>23755.0000000000</td></tr>",
                            "<tr><td>P-0067</td><td>2017</td><td>Algas</td><td>Pontevedra</td><td>28</td><td>39.2000000000</td><td>23285.0000000000</td></tr>",
                            "<tr><td>P-0068</td><td>2017</td><td>Belleza</td><td>Pontevedra</td><td>25</td><td>33.6000000000</td><td>106848.0000000000</td></tr>",
                            "<tr><td>P-0069</td><td>2017</td><td>Algas</td><td>Ourense</td><td>23</td><td>44.1000000000</td><td>26725.0000000000</td></tr>",
                            "<tr><td>P-0072</td><td>2017</td><td>Belleza</td><td>Pontevedra</td><td>27</td><td>35.0000000000</td><td>110250.0000000000</td></tr>",
                            "<tr><td>P-0074</td><td>2017</td><td>Algas</td><td>Pontevedra</td><td>25</td><td>34.7000000000</td><td>20998.0000000000</td></tr>",
                            "<tr><td>P-0075</td><td>2017</td><td>Algas</td><td>Pontevedra</td><td>22</td><td>44.8000000000</td><td>26611.0000000000</td></tr>",
                            "<tr><td>P-0076</td><td>2017</td><td>Belleza</td><td>Coruña</td><td>18</td><td>37.1000000000</td><td>132447.0000000000</td></tr>",
                            "<tr><td>P-0077</td><td>2017</td><td>Algas</td><td>Coruña</td><td>15</td><td>38.9000000000</td><td>24242.0000000000</td></tr>",
                            "<tr><td>P-0078</td><td>2017</td><td>Algas</td><td>Lugo</td><td>8</td><td>38.9000000000</td><td>23776.0000000000</td></tr>",
                            "<tr><td>P-0080</td><td>2017</td><td>Algas</td><td>Coruña</td><td>17</td><td>39.6000000000</td><td>24679.0000000000</td></tr>",
                            "<tr><td>P-0081</td><td>2017</td><td>Algas</td><td>Coruña</td><td>7</td><td>36.8000000000</td><td>22932.0000000000</td></tr>",
                            "<tr><td>P-0082</td><td>2017</td><td>Algas</td><td>Coruña</td><td>4</td><td>38.9000000000</td><td>24242.0000000000</td></tr>",
                            "<tr><td>P-0083</td><td>2017</td><td>Algas</td><td>Lugo</td><td>11</td><td>39.9000000000</td><td>25137.0000000000</td></tr>",
                            "<tr><td>P-0085</td><td>2017</td><td>Algas</td><td>Coruña</td><td>10</td><td>37.1000000000</td><td>22705.0000000000</td></tr>",
                            "<tr><td>P-0086</td><td>2017</td><td>Algas</td><td>Lugo</td><td>7</td><td>38.5000000000</td><td>24024.0000000000</td></tr>",
                            "<tr><td>P-0088</td><td>2017</td><td>Belleza</td><td>Pontevedra</td><td>28</td><td>43.4000000000</td><td>138012.0000000000</td></tr>",
                            "<tr><td>P-0089</td><td>2017</td><td>Algas</td><td>Ourense</td><td>27</td><td>41.0000000000</td><td>24816.0000000000</td></tr>",
                            "<tr><td>P-0091</td><td>2017</td><td>Belleza</td><td>Coruña</td><td>18</td><td>39.6000000000</td><td>128142.0000000000</td></tr>",
                            "<tr><td>P-0092</td><td>2017</td><td>Algas</td><td>Coruña</td><td>19</td><td>39.6000000000</td><td>24205.0000000000</td></tr>",
                            "<tr><td>P-0093</td><td>2017</td><td>Belleza</td><td>Coruña</td><td>39</td><td>39.2000000000</td><td>141120.0000000000</td></tr>",
                            "<tr><td>P-0094</td><td>2017</td><td>Algas</td><td>Coruña</td><td>19</td><td>39.2000000000</td><td>23990.0000000000</td></tr>",
                            "<tr><td>P-0095</td><td>2017</td><td>Algas</td><td>Lugo</td><td>4</td><td>37.1000000000</td><td>23150.0000000000</td></tr>",
                            "<tr><td>P-0099</td><td>2017</td><td>Algas</td><td>Lugo</td><td>10</td><td>38.9000000000</td><td>24476.0000000000</td></tr>",
                            "<tr><td>P-0102</td><td>2017</td><td>Algas</td><td>Coruña</td><td>4</td><td>36.8000000000</td><td>22712.0000000000</td></tr>",
                            "<tr><td>P-0105</td><td>2017</td><td>Algas</td><td>Coruña</td><td>4</td><td>38.9000000000</td><td>24476.0000000000</td></tr>",
                            "<tr><td>P-0106</td><td>2017</td><td>Belleza</td><td>Coruña</td><td>6</td><td>37.1000000000</td><td>122430.0000000000</td></tr>",
                            "<tr><td>P-0107</td><td>2017</td><td>Belleza</td><td>Pontevedra</td><td>28</td><td>39.6000000000</td><td>129329.0000000000</td></tr>",
                            "<tr><td>P-0109</td><td>2017</td><td>Algas</td><td>Lugo</td><td>8</td><td>39.6000000000</td><td>24205.0000000000</td></tr>",
                            "<tr><td>P-0111</td><td>2017</td><td>Algas</td><td>Coruña</td><td>18</td><td>38.2000000000</td><td>23348.0000000000</td></tr>",
                            "<tr><td>P-0112</td><td>2017</td><td>Algas</td><td>Coruña</td><td>5</td><td>39.2000000000</td><td>24226.0000000000</td></tr>",
                            "<tr><td>P-0115</td><td>2017</td><td>Belleza</td><td>Coruña</td><td>20</td><td>39.2000000000</td><td>135240.0000000000</td></tr>",
                            "<tr><td>P-0117</td><td>2017</td><td>Belleza</td><td>Lugo</td><td>13</td><td>38.5000000000</td><td>136290.0000000000</td></tr>",
                            "<tr><td>P-0119</td><td>2017</td><td>Algas</td><td>Coruña</td><td>7</td><td>40.3000000000</td><td>25116.0000000000</td></tr>",
                            "<tr><td>P-0122</td><td>2017</td><td>Algas</td><td>Coruña</td><td>15</td><td>39.9000000000</td><td>24658.0000000000</td></tr>",
                            "<tr><td>P-0123</td><td>2017</td><td>Algas</td><td>Coruña</td><td>17</td><td>37.1000000000</td><td>23373.0000000000</td></tr>",
                            "<tr><td>P-0124</td><td>2017</td><td>Algas</td><td>Lugo</td><td>17</td><td>39.9000000000</td><td>25137.0000000000</td></tr>",
                            "<tr><td>P-0126</td><td>2017</td><td>Belleza</td><td>Pontevedra</td><td>25</td><td>44.5000000000</td><td>140018.0000000000</td></tr>",
                            "<tr><td>P-0127</td><td>2017</td><td>Algas</td><td>Coruña</td><td>1</td><td>39.6000000000</td><td>24679.0000000000</td></tr>",
                            "<tr><td>P-0128</td><td>2017</td><td>Algas</td><td>Coruña</td><td>9</td><td>40.3000000000</td><td>24633.0000000000</td></tr>",
                            "<tr><td>P-0130</td><td>2017</td><td>Algas</td><td>Coruña</td><td>18</td><td>39.2000000000</td><td>24696.0000000000</td></tr>",
                            "<tr><td>P-0132</td><td>2017</td><td>Algas</td><td>Pontevedra</td><td>25</td><td>39.2000000000</td><td>23755.0000000000</td></tr>",
                            "<tr><td>P-0134</td><td>2017</td><td>Algas</td><td>Coruña</td><td>19</td><td>40.3000000000</td><td>25358.0000000000</td></tr>",
                            "<tr><td>P-0135</td><td>2017</td><td>Belleza</td><td>Ourense</td><td>25</td><td>42.0000000000</td><td>138600.0000000000</td></tr>",
                            "<tr><td>P-0137</td><td>2017</td><td>Algas</td><td>Pontevedra</td><td>28</td><td>39.9000000000</td><td>24419.0000000000</td></tr>",
                            "<tr><td>P-0141</td><td>2017</td><td>Algas</td><td>Pontevedra</td><td>24</td><td>43.1000000000</td><td>26347.0000000000</td></tr>",
                            "<tr><td>P-0143</td><td>2017</td><td>Belleza</td><td>Pontevedra</td><td>23</td><td>31.9000000000</td><td>106061.0000000000</td></tr>",
                            "<tr><td>P-0145</td><td>2017</td><td>Algas</td><td>Pontevedra</td><td>26</td><td>34.7000000000</td><td>20790.0000000000</td></tr>",
                            "<tr><td>P-0148</td><td>2017</td><td>Algas</td><td>Coruña</td><td>6</td><td>37.1000000000</td><td>22928.0000000000</td></tr>",
                            "<tr><td>P-0149</td><td>2017</td><td>Algas</td><td>Lugo</td><td>2</td><td>39.6000000000</td><td>24205.0000000000</td></tr>",
                            "<tr><td>P-0160</td><td>2018</td><td>Belleza</td><td>Coruña</td><td>6</td><td>39.9000000000</td><td>124488.0000000000</td></tr>",
                            "<tr><td>P-0161</td><td>2018</td><td>Algas</td><td>Coruña</td><td>6</td><td>42.6000000000</td><td>26813.0000000000</td></tr>",
                            "<tr><td>P-0163</td><td>2018</td><td>Algas</td><td>Coruña</td><td>7</td><td>40.7000000000</td><td>25616.0000000000</td></tr>",
                            "<tr><td>P-0166</td><td>2018</td><td>Algas</td><td>Coruña</td><td>14</td><td>42.6000000000</td><td>26302.0000000000</td></tr>",
                            "<tr><td>P-0167</td><td>2018</td><td>Algas</td><td>Ourense</td><td>26</td><td>38.9000000000</td><td>23795.0000000000</td></tr>",
                            "<tr><td>P-0171</td><td>2018</td><td>Algas</td><td>Lugo</td><td>20</td><td>41.8000000000</td><td>25582.0000000000</td></tr>",
                            "<tr><td>P-0172</td><td>2018</td><td>Algas</td><td>Lugo</td><td>17</td><td>40.7000000000</td><td>25128.0000000000</td></tr>",
                            "<tr><td>P-0173</td><td>2018</td><td>Belleza</td><td>Coruña</td><td>11</td><td>42.6000000000</td><td>136618.0000000000</td></tr>",
                            "<tr><td>P-0174</td><td>2018</td><td>Algas</td><td>Coruña</td><td>20</td><td>43.7000000000</td><td>27007.0000000000</td></tr>",
                            "<tr><td>P-0178</td><td>2018</td><td>Algas</td><td>Pontevedra</td><td>22</td><td>45.0000000000</td><td>27540.0000000000</td></tr>",
                            "<tr><td>P-0182</td><td>2018</td><td>Algas</td><td>Pontevedra</td><td>28</td><td>42.1000000000</td><td>25019.0000000000</td></tr>",
                            "<tr><td>P-0184</td><td>2018</td><td>Algas</td><td>Pontevedra</td><td>26</td><td>36.7000000000</td><td>21591.0000000000</td></tr>",
                            "<tr><td>P-0185</td><td>2018</td><td>Belleza</td><td>Pontevedra</td><td>21</td><td>36.0000000000</td><td>120960.0000000000</td></tr>",
                            "<tr><td>P-0186</td><td>2018</td><td>Algas</td><td>Ourense</td><td>21</td><td>36.4000000000</td><td>21816.0000000000</td></tr>",
                            "<tr><td>P-0187</td><td>2018</td><td>Algas</td><td>Pontevedra</td><td>23</td><td>36.7000000000</td><td>22032.0000000000</td></tr>",
                            "<tr><td>P-0191</td><td>2018</td><td>Belleza</td><td>Ourense</td><td>23</td><td>43.2000000000</td><td>129600.0000000000</td></tr>",
                            "<tr><td>P-0192</td><td>2018</td><td>Algas</td><td>Pontevedra</td><td>25</td><td>36.7000000000</td><td>21591.0000000000</td></tr>",
                            "<tr><td>P-0193</td><td>2018</td><td>Belleza</td><td>Pontevedra</td><td>23</td><td>43.6000000000</td><td>133294.0000000000</td></tr>",
                            "<tr><td>P-0196</td><td>2018</td><td>Algas</td><td>Pontevedra</td><td>26</td><td>42.8000000000</td><td>26218.0000000000</td></tr>",
                            "<tr><td>P-0197</td><td>2018</td><td>Algas</td><td>Coruña</td><td>14</td><td>42.2000000000</td><td>26573.0000000000</td></tr>",
                            "<tr><td>P-0202</td><td>2018</td><td>Algas</td><td>Coruña</td><td>7</td><td>42.9000000000</td><td>26795.0000000000</td></tr>",
                            "<tr><td>P-0205</td><td>2018</td><td>Algas</td><td>Coruña</td><td>1</td><td>42.2000000000</td><td>26067.0000000000</td></tr>",
                            "<tr><td>P-0208</td><td>2018</td><td>Algas</td><td>Lugo</td><td>9</td><td>39.9000000000</td><td>24898.0000000000</td></tr>",
                            "<tr><td>P-0209</td><td>2018</td><td>Algas</td><td>Coruña</td><td>4</td><td>42.2000000000</td><td>26320.0000000000</td></tr>",
                            "<tr><td>P-0210</td><td>2018</td><td>Belleza</td><td>Lugo</td><td>16</td><td>39.9000000000</td><td>135261.0000000000</td></tr>",
                            "<tr><td>P-0211</td><td>2018</td><td>Algas</td><td>Coruña</td><td>12</td><td>42.2000000000</td><td>26573.0000000000</td></tr>",
                            "<tr><td>P-0213</td><td>2018</td><td>Belleza</td><td>Ourense</td><td>25</td><td>41.0000000000</td><td>129276.0000000000</td></tr>",
                            "<tr><td>P-0214</td><td>2018</td><td>Algas</td><td>Pontevedra</td><td>27</td><td>33.1000000000</td><td>20071.0000000000</td></tr>",
                            "<tr><td>P-0218</td><td>2018</td><td>Algas</td><td>Coruña</td><td>4</td><td>39.9000000000</td><td>24658.0000000000</td></tr>",
                            "<tr><td>P-0223</td><td>2018</td><td>Algas</td><td>Coruña</td><td>13</td><td>41.4000000000</td><td>25598.0000000000</td></tr>",
                            "<tr><td>P-0224</td><td>2018</td><td>Belleza</td><td>Coruña</td><td>18</td><td>42.9000000000</td><td>144278.0000000000</td></tr>",
                            "<tr><td>P-0227</td><td>2018</td><td>Belleza</td><td>Coruña</td><td>40</td><td>40.3000000000</td><td>142591.0000000000</td></tr>",
                            "<tr><td>P-0228</td><td>2018</td><td>Algas</td><td>Coruña</td><td>20</td><td>41.0000000000</td><td>25855.0000000000</td></tr>",
                            "<tr><td>P-0229</td><td>2018</td><td>Belleza</td><td>Pontevedra</td><td>25</td><td>42.8000000000</td><td>140087.0000000000</td></tr>",
                            "<tr><td>P-0231</td><td>2018</td><td>Algas</td><td>Coruña</td><td>1</td><td>42.2000000000</td><td>26573.0000000000</td></tr>",
                            "<tr><td>P-0233</td><td>2018</td><td>Algas</td><td>Pontevedra</td><td>21</td><td>36.0000000000</td><td>21168.0000000000</td></tr>",
                            "<tr><td>P-0236</td><td>2018</td><td>Algas</td><td>Coruña</td><td>16</td><td>39.9000000000</td><td>24419.0000000000</td></tr>",
                            "<tr><td>P-0237</td><td>2018</td><td>Algas</td><td>Coruña</td><td>14</td><td>41.4000000000</td><td>25349.0000000000</td></tr>",
                            "<tr><td>P-0240</td><td>2018</td><td>Algas</td><td>Lugo</td><td>3</td><td>41.0000000000</td><td>25363.0000000000</td></tr>",
                            "<tr><td>P-0241</td><td>2018</td><td>Algas</td><td>Pontevedra</td><td>21</td><td>37.8000000000</td><td>22226.0000000000</td></tr>",
                            "<tr><td>P-0242</td><td>2018</td><td>Algas</td><td>Pontevedra</td><td>23</td><td>43.6000000000</td><td>26659.0000000000</td></tr>",
                            "<tr><td>P-0246</td><td>2018</td><td>Algas</td><td>Pontevedra</td><td>23</td><td>46.8000000000</td><td>27799.0000000000</td></tr>",
                            "<tr><td>P-0248</td><td>2018</td><td>Algas</td><td>Coruña</td><td>13</td><td>41.8000000000</td><td>26334.0000000000</td></tr>",
                            "<tr><td>P-0251</td><td>2018</td><td>Algas</td><td>Lugo</td><td>14</td><td>41.8000000000</td><td>25582.0000000000</td></tr>",
                            "<tr><td>P-0252</td><td>2018</td><td>Belleza</td><td>Lugo</td><td>20</td><td>43.7000000000</td><td>141588.0000000000</td></tr>",
                            "<tr><td>P-0253</td><td>2018</td><td>Belleza</td><td>Coruña</td><td>41</td><td>41.0000000000</td><td>134201.0000000000</td></tr>",
                            "<tr><td>P-0254</td><td>2018</td><td>Algas</td><td>Coruña</td><td>2</td><td>41.4000000000</td><td>25846.0000000000</td></tr>",
                            "<tr><td>P-0256</td><td>2018</td><td>Belleza</td><td>Coruña</td><td>12</td><td>42.9000000000</td><td>136549.0000000000</td></tr>",
                            "<tr><td>P-0262</td><td>2018</td><td>Algas</td><td>Pontevedra</td><td>23</td><td>44.6000000000</td><td>26784.0000000000</td></tr>",
                            "<tr><td>P-0263</td><td>2018</td><td>Algas</td><td>Coruña</td><td>6</td><td>41.8000000000</td><td>25582.0000000000</td></tr>",
                            "<tr><td>P-0264</td><td>2018</td><td>Belleza</td><td>Pontevedra</td><td>28</td><td>35.6000000000</td><td>107989.0000000000</td></tr>",
                            "<tr><td>P-0265</td><td>2018</td><td>Algas</td><td>Pontevedra</td><td>26</td><td>40.0000000000</td><td>23736.0000000000</td></tr>",
                            "<tr><td>P-0266</td><td>2018</td><td>Algas</td><td>Coruña</td><td>2</td><td>40.3000000000</td><td>25376.0000000000</td></tr>",
                            "<tr><td>P-0270</td><td>2018</td><td>Algas</td><td>Coruña</td><td>2</td><td>41.4000000000</td><td>25846.0000000000</td></tr>",
                            "<tr><td>P-0272</td><td>2018</td><td>Algas</td><td>Coruña</td><td>2</td><td>42.2000000000</td><td>26320.0000000000</td></tr>",
                            "<tr><td>P-0273</td><td>2018</td><td>Algas</td><td>Ourense</td><td>24</td><td>42.5000000000</td><td>25233.0000000000</td></tr>",
                            "<tr><td>P-0275</td><td>2018</td><td>Algas</td><td>Pontevedra</td><td>22</td><td>43.6000000000</td><td>26397.0000000000</td></tr>",
                            "<tr><td>P-0277</td><td>2018</td><td>Algas</td><td>Pontevedra</td><td>24</td><td>41.8000000000</td><td>24555.0000000000</td></tr>",
                            "<tr><td>P-0282</td><td>2018</td><td>Algas</td><td>Pontevedra</td><td>23</td><td>45.4000000000</td><td>26672.0000000000</td></tr>",
                            "<tr><td>P-0284</td><td>2018</td><td>Belleza</td><td>Pontevedra</td><td>22</td><td>45.4000000000</td><td>142884.0000000000</td></tr>",
                            "<tr><td>P-0286</td><td>2018</td><td>Belleza</td><td>Coruña</td><td>16</td><td>43.3000000000</td><td>145555.0000000000</td></tr>",
                            "<tr><td>P-0288</td><td>2018</td><td>Algas</td><td>Pontevedra</td><td>22</td><td>46.1000000000</td><td>27372.0000000000</td></tr>",
                            "<tr><td>P-0289</td><td>2018</td><td>Algas</td><td>Coruña</td><td>17</td><td>42.6000000000</td><td>26813.0000000000</td></tr>",
                            "<tr><td>P-0290</td><td>2018</td><td>Algas</td><td>Coruña</td><td>13</td><td>43.7000000000</td><td>27269.0000000000</td></tr>",
                            "<tr><td>P-0291</td><td>2018</td><td>Algas</td><td>Coruña</td><td>11</td><td>43.7000000000</td><td>27007.0000000000</td></tr>",
                            "<tr><td>P-0292</td><td>2018</td><td>Belleza</td><td>Coruña</td><td>4</td><td>42.9000000000</td><td>144278.0000000000</td></tr>",
                            "<tr><td>P-0295</td><td>2018</td><td>Algas</td><td>Coruña</td><td>8</td><td>42.2000000000</td><td>26320.0000000000</td></tr>",
                            "<tr><td>P-0296</td><td>2018</td><td>Algas</td><td>Coruña</td><td>13</td><td>40.7000000000</td><td>25372.0000000000</td></tr>",
                            "<tr><td>P-0297</td><td>2018</td><td>Algas</td><td>Lugo</td><td>15</td><td>42.9000000000</td><td>26537.0000000000</td></tr>",
                            "<tr><td>P-0298</td><td>2018</td><td>Algas</td><td>Lugo</td><td>18</td><td>42.2000000000</td><td>26320.0000000000</td></tr>",
                            "<tr><td>P-0299</td><td>2018</td><td>Algas</td><td>Coruña</td><td>11</td><td>41.0000000000</td><td>25116.0000000000</td></tr>",
                            "<tr><td>P-0300</td><td>2018</td><td>Algas</td><td>Coruña</td><td>11</td><td>42.2000000000</td><td>26573.0000000000</td></tr>",
                            "<tr><td>P-0305</td><td>2019</td><td>Algas</td><td>Coruña</td><td>18</td><td>42.4000000000</td><td>25949.0000000000</td></tr>",
                            "<tr><td>P-0307</td><td>2019</td><td>Algas</td><td>Coruña</td><td>14</td><td>42.8000000000</td><td>26450.0000000000</td></tr>",
                            "<tr><td>P-0308</td><td>2019</td><td>Algas</td><td>Lugo</td><td>4</td><td>45.6000000000</td><td>28181.0000000000</td></tr>",
                            "<tr><td>P-0309</td><td>2019</td><td>Algas</td><td>Coruña</td><td>18</td><td>42.0000000000</td><td>25956.0000000000</td></tr>",
                            "<tr><td>P-0310</td><td>2019</td><td>Algas</td><td>Coruña</td><td>5</td><td>43.2000000000</td><td>27216.0000000000</td></tr>",
                            "<tr><td>P-0311</td><td>2019</td><td>Algas</td><td>Pontevedra</td><td>25</td><td>47.4000000000</td><td>28416.0000000000</td></tr>",
                            "<tr><td>P-0312</td><td>2019</td><td>Algas</td><td>Coruña</td><td>6</td><td>44.4000000000</td><td>27972.0000000000</td></tr>",
                            "<tr><td>P-0318</td><td>2019</td><td>Algas</td><td>Ourense</td><td>25</td><td>259.0000000000</td><td>158508.0000000000</td></tr>",
                            "<tr><td>P-0319</td><td>2019</td><td>Algas</td><td>Coruña</td><td>19</td><td>42.4000000000</td><td>26203.0000000000</td></tr>",
                            "<tr><td>P-0322</td><td>2019</td><td>Algas</td><td>Coruña</td><td>16</td><td>45.2000000000</td><td>27934.0000000000</td></tr>",
                            "<tr><td>P-0324</td><td>2019</td><td>Algas</td><td>Lugo</td><td>4</td><td>42.8000000000</td><td>26964.0000000000</td></tr>",
                            "<tr><td>P-0327</td><td>2019</td><td>Algas</td><td>Coruña</td><td>5</td><td>44.0000000000</td><td>27192.0000000000</td></tr>",
                            "<tr><td>P-0331</td><td>2019</td><td>Belleza</td><td>Coruña</td><td>13</td><td>45.2000000000</td><td>146448.0000000000</td></tr>",
                            "<tr><td>P-0333</td><td>2019</td><td>Algas</td><td>Coruña</td><td>7</td><td>44.4000000000</td><td>27972.0000000000</td></tr>",
                            "<tr><td>P-0334</td><td>2019</td><td>Algas</td><td>Pontevedra</td><td>26</td><td>34.8000000000</td><td>20868.0000000000</td></tr>",
                            "<tr><td>P-0335</td><td>2019</td><td>Algas</td><td>Coruña</td><td>17</td><td>42.8000000000</td><td>26194.0000000000</td></tr>",
                            "<tr><td>P-0338</td><td>2019</td><td>Algas</td><td>Ourense</td><td>22</td><td>41.1000000000</td><td>24888.0000000000</td></tr>",
                            "<tr><td>P-0339</td><td>2019</td><td>Algas</td><td>Coruña</td><td>5</td><td>42.8000000000</td><td>26450.0000000000</td></tr>",
                            "<tr><td>P-0340</td><td>2019</td><td>Algas</td><td>Coruña</td><td>14</td><td>44.4000000000</td><td>27706.0000000000</td></tr>",
                            "<tr><td>P-0341</td><td>2019</td><td>Algas</td><td>Lugo</td><td>15</td><td>45.2000000000</td><td>28205.0000000000</td></tr>",
                            "<tr><td>P-0344</td><td>2019</td><td>Algas</td><td>Coruña</td><td>4</td><td>44.0000000000</td><td>27456.0000000000</td></tr>",
                            "<tr><td>P-0345</td><td>2019</td><td>Belleza</td><td>Pontevedra</td><td>21</td><td>36.6000000000</td><td>121978.0000000000</td></tr>",
                            "<tr><td>P-0346</td><td>2019</td><td>Belleza</td><td>Ourense</td><td>28</td><td>38.1000000000</td><td>125763.0000000000</td></tr>",
                            "<tr><td>P-0347</td><td>2019</td><td>Algas</td><td>Coruña</td><td>18</td><td>43.6000000000</td><td>27206.0000000000</td></tr>",
                            "<tr><td>P-0348</td><td>2019</td><td>Algas</td><td>Coruña</td><td>19</td><td>44.0000000000</td><td>27456.0000000000</td></tr>",
                            "<tr><td>P-0350</td><td>2019</td><td>Belleza</td><td>Ourense</td><td>26</td><td>45.9000000000</td><td>141769.0000000000</td></tr>",
                            "<tr><td>P-0351</td><td>2019</td><td>Algas</td><td>Coruña</td><td>9</td><td>42.0000000000</td><td>26208.0000000000</td></tr>",
                            "<tr><td>P-0354</td><td>2019</td><td>Belleza</td><td>Pontevedra</td><td>21</td><td>33.7000000000</td><td>111111.0000000000</td></tr>",
                            "<tr><td>P-0356</td><td>2019</td><td>Algas</td><td>Pontevedra</td><td>22</td><td>222.0000000000</td><td>133200.0000000000</td></tr>",
                            "<tr><td>P-0358</td><td>2019</td><td>Algas</td><td>Coruña</td><td>11</td><td>44.8000000000</td><td>27686.0000000000</td></tr>",
                            "<tr><td>P-0362</td><td>2019</td><td>Algas</td><td>Pontevedra</td><td>27</td><td>45.5000000000</td><td>27306.0000000000</td></tr>",
                            "<tr><td>P-0364</td><td>2019</td><td>Belleza</td><td>Pontevedra</td><td>27</td><td>37.4000000000</td><td>119958.0000000000</td></tr>",
                            "<tr><td>P-0366</td><td>2019</td><td>Algas</td><td>Coruña</td><td>18</td><td>44.4000000000</td><td>27972.0000000000</td></tr>",
                            "<tr><td>P-0369</td><td>2019</td><td>Algas</td><td>Coruña</td><td>9</td><td>42.8000000000</td><td>26964.0000000000</td></tr>",
                            "<tr><td>P-0370</td><td>2019</td><td>Algas</td><td>Pontevedra</td><td>23</td><td>45.9000000000</td><td>26977.0000000000</td></tr>",
                            "<tr><td>P-0372</td><td>2019</td><td>Algas</td><td>Coruña</td><td>13</td><td>44.8000000000</td><td>27686.0000000000</td></tr>",
                            "<tr><td>P-0373</td><td>2019</td><td>Algas</td><td>Pontevedra</td><td>26</td><td>45.5000000000</td><td>26760.0000000000</td></tr>",
                            "<tr><td>P-0378</td><td>2019</td><td>Algas</td><td>Coruña</td><td>5</td><td>46.0000000000</td><td>28152.0000000000</td></tr>",
                            "<tr><td>P-0381</td><td>2019</td><td>Algas</td><td>Lugo</td><td>3</td><td>42.0000000000</td><td>26460.0000000000</td></tr>",
                            "<tr><td>P-0382</td><td>2019</td><td>Algas</td><td>Ourense</td><td>22</td><td>33.7000000000</td><td>20606.0000000000</td></tr>",
                            "<tr><td>P-0383</td><td>2019</td><td>Algas</td><td>Lugo</td><td>1</td><td>44.4000000000</td><td>27706.0000000000</td></tr>",
                            "<tr><td>P-0384</td><td>2019</td><td>Algas</td><td>Pontevedra</td><td>22</td><td>39.2000000000</td><td>23061.0000000000</td></tr>",
                            "<tr><td>P-0385</td><td>2019</td><td>Algas</td><td>Ourense</td><td>23</td><td>34.8000000000</td><td>20659.0000000000</td></tr>",
                            "<tr><td>P-0386</td><td>2019</td><td>Algas</td><td>Coruña</td><td>13</td><td>43.6000000000</td><td>27206.0000000000</td></tr>",
                            "<tr><td>P-0387</td><td>2019</td><td>Belleza</td><td>Coruña</td><td>12</td><td>45.2000000000</td><td>147804.0000000000</td></tr>",
                            "<tr><td>P-0388</td><td>2019</td><td>Algas</td><td>Coruña</td><td>11</td><td>45.2000000000</td><td>27934.0000000000</td></tr>",
                            "<tr><td>P-0389</td><td>2019</td><td>Belleza</td><td>Coruña</td><td>20</td><td>44.4000000000</td><td>153180.0000000000</td></tr>",
                            "<tr><td>P-0391</td><td>2019</td><td>Algas</td><td>Pontevedra</td><td>27</td><td>40.3000000000</td><td>24682.0000000000</td></tr>",
                            "<tr><td>P-0392</td><td>2019</td><td>Algas</td><td>Lugo</td><td>19</td><td>43.6000000000</td><td>26945.0000000000</td></tr>",
                            "<tr><td>P-0397</td><td>2019</td><td>Algas</td><td>Pontevedra</td><td>27</td><td>48.1000000000</td><td>28283.0000000000</td></tr>",
                            "<tr><td>P-0398</td><td>2019</td><td>Algas</td><td>Lugo</td><td>18</td><td>45.2000000000</td><td>28476.0000000000</td></tr>",
                            "<tr><td>P-0399</td><td>2019</td><td>Belleza</td><td>Pontevedra</td><td>24</td><td>40.0000000000</td><td>134266.0000000000</td></tr>",
                            "<tr><td>P-0401</td><td>2019</td><td>Algas</td><td>Coruña</td><td>15</td><td>43.6000000000</td><td>26945.0000000000</td></tr>",
                            "<tr><td>P-0402</td><td>2019</td><td>Algas</td><td>Pontevedra</td><td>23</td><td>41.8000000000</td><td>24584.0000000000</td></tr>",
                            "<tr><td>P-0403</td><td>2019</td><td>Algas</td><td>Coruña</td><td>9</td><td>45.6000000000</td><td>28181.0000000000</td></tr>",
                            "<tr><td>P-0404</td><td>2019</td><td>Algas</td><td>Coruña</td><td>4</td><td>42.8000000000</td><td>26194.0000000000</td></tr>",
                            "<tr><td>P-0406</td><td>2019</td><td>Algas</td><td>Coruña</td><td>5</td><td>43.6000000000</td><td>26683.0000000000</td></tr>",
                            "<tr><td>P-0410</td><td>2019</td><td>Belleza</td><td>Pontevedra</td><td>28</td><td>35.9000000000</td><td>110900.0000000000</td></tr>",
                            "<tr><td>P-0416</td><td>2019</td><td>Belleza</td><td>Coruña</td><td>4</td><td>44.8000000000</td><td>134400.0000000000</td></tr>",
                            "<tr><td>P-0420</td><td>2019</td><td>Algas</td><td>Lugo</td><td>7</td><td>44.0000000000</td><td>27192.0000000000</td></tr>",
                            "<tr><td>P-0421</td><td>2019</td><td>Algas</td><td>Lugo</td><td>9</td><td>44.0000000000</td><td>27456.0000000000</td></tr>",
                            "<tr><td>P-0424</td><td>2019</td><td>Algas</td><td>Coruña</td><td>17</td><td>45.6000000000</td><td>28454.0000000000</td></tr>",
                            "<tr><td>P-0427</td><td>2019</td><td>Algas</td><td>Coruña</td><td>5</td><td>42.0000000000</td><td>26208.0000000000</td></tr>",
                            "<tr><td>P-0435</td><td>2019</td><td>Algas</td><td>Lugo</td><td>4</td><td>42.4000000000</td><td>26203.0000000000</td></tr>",
                            "<tr><td>P-0437</td><td>2019</td><td>Algas</td><td>Coruña</td><td>4</td><td>45.2000000000</td><td>27934.0000000000</td></tr>",
                            "<tr><td>P-0438</td><td>2019</td><td>Algas</td><td>Coruña</td><td>7</td><td>42.4000000000</td><td>26203.0000000000</td></tr>",
                            "<tr><td>P-0439</td><td>2019</td><td>Algas</td><td>Lugo</td><td>3</td><td>46.0000000000</td><td>28428.0000000000</td></tr>",
                            "<tr><td>P-0443</td><td>2019</td><td>Belleza</td><td>Coruña</td><td>17</td><td>44.4000000000</td><td>141192.0000000000</td></tr>",
                            "<tr><td>P-0446</td><td>2019</td><td>Belleza</td><td>Coruña</td><td>14</td><td>42.4000000000</td><td>142464.0000000000</td></tr>",
                            "<tr><td>P-0447</td><td>2019</td><td>Algas</td><td>Coruña</td><td>1</td><td>42.8000000000</td><td>26707.0000000000</td></tr>",
                            "<tr><td>P-0448</td><td>2019</td><td>Algas</td><td>Coruña</td><td>12</td><td>45.2000000000</td><td>27662.0000000000</td></tr>",
                            "<tr><td>P-0451</td><td>2019</td><td>Belleza</td><td>Lugo</td><td>12</td><td>43.6000000000</td><td>138648.0000000000</td></tr>",
                            "<tr><td>P-0452</td><td>2019</td><td>Algas</td><td>Pontevedra</td><td>26</td><td>38.5000000000</td><td>23550.0000000000</td></tr>",
                            "<tr><td>P-0453</td><td>2019</td><td>Algas</td><td>Pontevedra</td><td>27</td><td>46.6000000000</td><td>28252.0000000000</td></tr>",
                            "<tr><td>P-0454</td><td>2019</td><td>Belleza</td><td>Coruña</td><td>18</td><td>45.2000000000</td><td>138312.0000000000</td></tr>",
                            "<tr><td>P-0456</td><td>2019</td><td>Algas</td><td>Pontevedra</td><td>27</td><td>37.7000000000</td><td>22870.0000000000</td></tr>",
                            "<tr><td>P-0457</td><td>2019</td><td>Algas</td><td>Coruña</td><td>17</td><td>45.2000000000</td><td>28476.0000000000</td></tr>",
                            "<tr><td>P-0459</td><td>2019</td><td>Belleza</td><td>Coruña</td><td>11</td><td>43.2000000000</td><td>136080.0000000000</td></tr>",
                            "<tr><td>P-0460</td><td>2019</td><td>Belleza</td><td>Pontevedra</td><td>27</td><td>37.0000000000</td><td>120990.0000000000</td></tr>",
                            "<tr><td>P-0462</td><td>2019</td><td>Belleza</td><td>Pontevedra</td><td>25</td><td>36.3000000000</td><td>116395.0000000000</td></tr>",
                            "<tr><td>P-0463</td><td>2019</td><td>Belleza</td><td>Pontevedra</td><td>22</td><td>45.1000000000</td><td>136774.0000000000</td></tr>",
                            "<tr><td>P-0465</td><td>2019</td><td>Belleza</td><td>Coruña</td><td>20</td><td>42.0000000000</td><td>146160.0000000000</td></tr>",
                            "<tr><td>P-0466</td><td>2019</td><td>Algas</td><td>Coruña</td><td>17</td><td>43.2000000000</td><td>26698.0000000000</td></tr>",
                            "<tr><td>P-0470</td><td>2019</td><td>Belleza</td><td>Ourense</td><td>24</td><td>41.4000000000</td><td>126806.0000000000</td></tr>",
                            "<tr><td>P-0474</td><td>2019</td><td>Algas</td><td>Coruña</td><td>11</td><td>44.8000000000</td><td>27418.0000000000</td></tr>",
                            "<tr><td>P-0475</td><td>2019</td><td>Algas</td><td>Pontevedra</td><td>27</td><td>36.6000000000</td><td>22198.0000000000</td></tr>",
                            "<tr><td>P-0476</td><td>2019</td><td>Algas</td><td>Coruña</td><td>7</td><td>43.6000000000</td><td>26683.0000000000</td></tr>",
                            "<tr><td>P-0477</td><td>2019</td><td>Belleza</td><td>Lugo</td><td>7</td><td>46.0000000000</td><td>158700.0000000000</td></tr>",
                            "<tr><td>P-0478</td><td>2019</td><td>Algas</td><td>Ourense</td><td>23</td><td>40.3000000000</td><td>24198.0000000000</td></tr>",
                            "<tr><td>P-0479</td><td>2019</td><td>Algas</td><td>Coruña</td><td>19</td><td>45.6000000000</td><td>27907.0000000000</td></tr>",
                            "<tr><td>P-0481</td><td>2019</td><td>Algas</td><td>Coruña</td><td>7</td><td>44.8000000000</td><td>27418.0000000000</td></tr>",
                            "<tr><td>P-0482</td><td>2019</td><td>Algas</td><td>Pontevedra</td><td>28</td><td>35.9000000000</td><td>21749.0000000000</td></tr>",
                            "<tr><td>P-0483</td><td>2019</td><td>Algas</td><td>Coruña</td><td>12</td><td>44.8000000000</td><td>27955.0000000000</td></tr>",
                            "<tr><td>P-0485</td><td>2019</td><td>Algas</td><td>Lugo</td><td>13</td><td>42.4000000000</td><td>26458.0000000000</td></tr>",
                            "<tr><td>P-0486</td><td>2019</td><td>Algas</td><td>Coruña</td><td>17</td><td>44.8000000000</td><td>27955.0000000000</td></tr>",
                            "<tr><td>P-0488</td><td>2019</td><td>Belleza</td><td>Pontevedra</td><td>28</td><td>37.4000000000</td><td>124442.0000000000</td></tr>",
                            "<tr><td>P-0490</td><td>2019</td><td>Belleza</td><td>Coruña</td><td>11</td><td>42.0000000000</td><td>143640.0000000000</td></tr>",
                            "<tr><td>P-0492</td><td>2019</td><td>Algas</td><td>Lugo</td><td>13</td><td>45.2000000000</td><td>28205.0000000000</td></tr>",
                            "<tr><td>P-0493</td><td>2019</td><td>Belleza</td><td>Coruña</td><td>16</td><td>45.6000000000</td><td>161424.0000000000</td></tr>",
                            "<tr><td>P-0495</td><td>2019</td><td>Algas</td><td>Coruña</td><td>8</td><td>43.2000000000</td><td>26957.0000000000</td></tr>",
                            "<tr><td>P-0497</td><td>2019</td><td>Algas</td><td>Lugo</td><td>17</td><td>43.6000000000</td><td>26945.0000000000</td></tr>",
                            "</table>"
                        ]
                    }
                }
            ],
            "execution_count": 17
        },
        {
            "cell_type": "markdown",
            "source": [
                "**A nivel general, cuando nos encontramos con una nueva base de datos, que puede ser desconocida, es bueno comenzar a fammiliarizarse con ella mediante conteos y agregados (COUNT, DISCTINCT, SUM, AVG, MIN, etc) agrupando por diferentes valores via GROUP BY**"
            ],
            "metadata": {
                "azdata_cell_guid": "5013db70-14fd-4f4b-8169-6f2c40bdbec2"
            },
            "attachments": {}
        },
        {
            "cell_type": "code",
            "source": [
                "SELECT COUNT(*) FROM NEMINA.DBO.DATOS_BASE"
            ],
            "metadata": {
                "azdata_cell_guid": "d9e4a9a1-f864-4147-8865-c551265d1c4e"
            },
            "outputs": [
                {
                    "output_type": "display_data",
                    "data": {
                        "text/html": "(1 row affected)"
                    },
                    "metadata": {}
                },
                {
                    "output_type": "display_data",
                    "data": {
                        "text/html": "Total execution time: 00:00:00.048"
                    },
                    "metadata": {}
                },
                {
                    "output_type": "execute_result",
                    "metadata": {},
                    "execution_count": 18,
                    "data": {
                        "application/vnd.dataresource+json": {
                            "schema": {
                                "fields": [
                                    {
                                        "name": "(No column name)"
                                    }
                                ]
                            },
                            "data": [
                                {
                                    "0": "501"
                                }
                            ]
                        },
                        "text/html": [
                            "<table>",
                            "<tr><th>(No column name)</th></tr>",
                            "<tr><td>501</td></tr>",
                            "</table>"
                        ]
                    }
                }
            ],
            "execution_count": 18
        },
        {
            "cell_type": "code",
            "source": [
                "SELECT COUNT(DISTINCT(PRODUCTO_ID)) FROM NEMINA.DBO.DATOS_BASE"
            ],
            "metadata": {
                "azdata_cell_guid": "32162cd0-a45f-4ebf-ac07-5e4da3459a39"
            },
            "outputs": [
                {
                    "output_type": "display_data",
                    "data": {
                        "text/html": "(1 row affected)"
                    },
                    "metadata": {}
                },
                {
                    "output_type": "display_data",
                    "data": {
                        "text/html": "Total execution time: 00:00:00.048"
                    },
                    "metadata": {}
                },
                {
                    "output_type": "execute_result",
                    "metadata": {},
                    "execution_count": 19,
                    "data": {
                        "application/vnd.dataresource+json": {
                            "schema": {
                                "fields": [
                                    {
                                        "name": "(No column name)"
                                    }
                                ]
                            },
                            "data": [
                                {
                                    "0": "3"
                                }
                            ]
                        },
                        "text/html": [
                            "<table>",
                            "<tr><th>(No column name)</th></tr>",
                            "<tr><td>3</td></tr>",
                            "</table>"
                        ]
                    }
                }
            ],
            "execution_count": 19
        },
        {
            "cell_type": "code",
            "source": [
                "SELECT ZONA_ID, COUNT(*) AS CONTEO\r\n",
                "FROM NEMINA.DBO.DATOS_BASE\r\n",
                "GROUP BY ZONA_ID"
            ],
            "metadata": {
                "azdata_cell_guid": "f714e220-8ecc-47c3-8a41-d18b2f867b17"
            },
            "outputs": [
                {
                    "output_type": "display_data",
                    "data": {
                        "text/html": "(4 rows affected)"
                    },
                    "metadata": {}
                },
                {
                    "output_type": "display_data",
                    "data": {
                        "text/html": "Total execution time: 00:00:00.050"
                    },
                    "metadata": {}
                },
                {
                    "output_type": "execute_result",
                    "metadata": {},
                    "execution_count": 20,
                    "data": {
                        "application/vnd.dataresource+json": {
                            "schema": {
                                "fields": [
                                    {
                                        "name": "ZONA_ID"
                                    },
                                    {
                                        "name": "CONTEO"
                                    }
                                ]
                            },
                            "data": [
                                {
                                    "0": "Coruña",
                                    "1": "191"
                                },
                                {
                                    "0": "Lugo",
                                    "1": "56"
                                },
                                {
                                    "0": "Ourense",
                                    "1": "67"
                                },
                                {
                                    "0": "Pontevedra",
                                    "1": "187"
                                }
                            ]
                        },
                        "text/html": [
                            "<table>",
                            "<tr><th>ZONA_ID</th><th>CONTEO</th></tr>",
                            "<tr><td>Coruña</td><td>191</td></tr>",
                            "<tr><td>Lugo</td><td>56</td></tr>",
                            "<tr><td>Ourense</td><td>67</td></tr>",
                            "<tr><td>Pontevedra</td><td>187</td></tr>",
                            "</table>"
                        ]
                    }
                }
            ],
            "execution_count": 20
        },
        {
            "cell_type": "markdown",
            "source": [
                "# Ejercicio 11\n",
                "\n",
                "- Obtén el número de pedidos por sexo y edad"
            ],
            "metadata": {
                "azdata_cell_guid": "d508aed9-af6e-491d-b7d6-b3ab5702defd"
            },
            "attachments": {}
        },
        {
            "cell_type": "code",
            "source": [
                "SELECT SEXO_ID, EDAD, COUNT(*) AS CONTEO\r\n",
                "FROM NEMINA.DBO.DATOS_BASE B\r\n",
                "LEFT JOIN NEMINA.DBO.CLIENTES C\r\n",
                "       ON B.CLIENTE_ID = C.CLIENTE_ID\r\n",
                "GROUP BY SEXO_ID, EDAD"
            ],
            "metadata": {
                "azdata_cell_guid": "5c13ec1d-ff67-421d-a588-48658bfe7672"
            },
            "outputs": [
                {
                    "output_type": "display_data",
                    "data": {
                        "text/html": "(30 rows affected)"
                    },
                    "metadata": {}
                },
                {
                    "output_type": "display_data",
                    "data": {
                        "text/html": "Total execution time: 00:00:00.052"
                    },
                    "metadata": {}
                },
                {
                    "output_type": "execute_result",
                    "metadata": {},
                    "execution_count": 21,
                    "data": {
                        "application/vnd.dataresource+json": {
                            "schema": {
                                "fields": [
                                    {
                                        "name": "SEXO_ID"
                                    },
                                    {
                                        "name": "EDAD"
                                    },
                                    {
                                        "name": "CONTEO"
                                    }
                                ]
                            },
                            "data": [
                                {
                                    "0": "HOMBRE",
                                    "1": "23",
                                    "2": "1"
                                },
                                {
                                    "0": "MUJER",
                                    "1": "23",
                                    "2": "17"
                                },
                                {
                                    "0": "HOMBRE",
                                    "1": "24",
                                    "2": "1"
                                },
                                {
                                    "0": "MUJER",
                                    "1": "25",
                                    "2": "18"
                                },
                                {
                                    "0": "HOMBRE",
                                    "1": "27",
                                    "2": "1"
                                },
                                {
                                    "0": "MUJER",
                                    "1": "27",
                                    "2": "33"
                                },
                                {
                                    "0": "HOMBRE",
                                    "1": "28",
                                    "2": "70"
                                },
                                {
                                    "0": "MUJER",
                                    "1": "28",
                                    "2": "14"
                                },
                                {
                                    "0": "MUJER",
                                    "1": "31",
                                    "2": "14"
                                },
                                {
                                    "0": "MUJER",
                                    "1": "32",
                                    "2": "32"
                                },
                                {
                                    "0": "HOMBRE",
                                    "1": "34",
                                    "2": "10"
                                },
                                {
                                    "0": "MUJER",
                                    "1": "34",
                                    "2": "2"
                                },
                                {
                                    "0": "MUJER",
                                    "1": "36",
                                    "2": "47"
                                },
                                {
                                    "0": "HOMBRE",
                                    "1": "37",
                                    "2": "1"
                                },
                                {
                                    "0": "HOMBRE",
                                    "1": "39",
                                    "2": "10"
                                },
                                {
                                    "0": "MUJER",
                                    "1": "40",
                                    "2": "9"
                                },
                                {
                                    "0": "MUJER",
                                    "1": "42",
                                    "2": "32"
                                },
                                {
                                    "0": "MUJER",
                                    "1": "43",
                                    "2": "33"
                                },
                                {
                                    "0": "MUJER",
                                    "1": "44",
                                    "2": "11"
                                },
                                {
                                    "0": "MUJER",
                                    "1": "45",
                                    "2": "32"
                                },
                                {
                                    "0": "MUJER",
                                    "1": "46",
                                    "2": "21"
                                },
                                {
                                    "0": "MUJER",
                                    "1": "47",
                                    "2": "42"
                                },
                                {
                                    "0": "HOMBRE",
                                    "1": "48",
                                    "2": "1"
                                },
                                {
                                    "0": "MUJER",
                                    "1": "48",
                                    "2": "8"
                                },
                                {
                                    "0": "HOMBRE",
                                    "1": "49",
                                    "2": "1"
                                },
                                {
                                    "0": "HOMBRE",
                                    "1": "50",
                                    "2": "2"
                                },
                                {
                                    "0": "MUJER",
                                    "1": "51",
                                    "2": "6"
                                },
                                {
                                    "0": "MUJER",
                                    "1": "52",
                                    "2": "20"
                                },
                                {
                                    "0": "MUJER",
                                    "1": "54",
                                    "2": "1"
                                },
                                {
                                    "0": "HOMBRE",
                                    "1": "56",
                                    "2": "11"
                                }
                            ]
                        },
                        "text/html": [
                            "<table>",
                            "<tr><th>SEXO_ID</th><th>EDAD</th><th>CONTEO</th></tr>",
                            "<tr><td>HOMBRE</td><td>23</td><td>1</td></tr>",
                            "<tr><td>MUJER</td><td>23</td><td>17</td></tr>",
                            "<tr><td>HOMBRE</td><td>24</td><td>1</td></tr>",
                            "<tr><td>MUJER</td><td>25</td><td>18</td></tr>",
                            "<tr><td>HOMBRE</td><td>27</td><td>1</td></tr>",
                            "<tr><td>MUJER</td><td>27</td><td>33</td></tr>",
                            "<tr><td>HOMBRE</td><td>28</td><td>70</td></tr>",
                            "<tr><td>MUJER</td><td>28</td><td>14</td></tr>",
                            "<tr><td>MUJER</td><td>31</td><td>14</td></tr>",
                            "<tr><td>MUJER</td><td>32</td><td>32</td></tr>",
                            "<tr><td>HOMBRE</td><td>34</td><td>10</td></tr>",
                            "<tr><td>MUJER</td><td>34</td><td>2</td></tr>",
                            "<tr><td>MUJER</td><td>36</td><td>47</td></tr>",
                            "<tr><td>HOMBRE</td><td>37</td><td>1</td></tr>",
                            "<tr><td>HOMBRE</td><td>39</td><td>10</td></tr>",
                            "<tr><td>MUJER</td><td>40</td><td>9</td></tr>",
                            "<tr><td>MUJER</td><td>42</td><td>32</td></tr>",
                            "<tr><td>MUJER</td><td>43</td><td>33</td></tr>",
                            "<tr><td>MUJER</td><td>44</td><td>11</td></tr>",
                            "<tr><td>MUJER</td><td>45</td><td>32</td></tr>",
                            "<tr><td>MUJER</td><td>46</td><td>21</td></tr>",
                            "<tr><td>MUJER</td><td>47</td><td>42</td></tr>",
                            "<tr><td>HOMBRE</td><td>48</td><td>1</td></tr>",
                            "<tr><td>MUJER</td><td>48</td><td>8</td></tr>",
                            "<tr><td>HOMBRE</td><td>49</td><td>1</td></tr>",
                            "<tr><td>HOMBRE</td><td>50</td><td>2</td></tr>",
                            "<tr><td>MUJER</td><td>51</td><td>6</td></tr>",
                            "<tr><td>MUJER</td><td>52</td><td>20</td></tr>",
                            "<tr><td>MUJER</td><td>54</td><td>1</td></tr>",
                            "<tr><td>HOMBRE</td><td>56</td><td>11</td></tr>",
                            "</table>"
                        ]
                    }
                }
            ],
            "execution_count": 21
        },
        {
            "cell_type": "markdown",
            "source": [
                "**EFECTO HAVING**\n",
                "\n",
                "HAVING es una condición final a modo filtro o IF que se aplica sobre el agregado que estamos empleando"
            ],
            "metadata": {
                "azdata_cell_guid": "f9d60ad4-1359-4fb7-8776-55855d0d56f1"
            },
            "attachments": {}
        },
        {
            "cell_type": "code",
            "source": [
                "SELECT  TOP 5 CLIENTE_ID, AVG(INGRESOS_EUR) AS X\r\n",
                "FROM NEMINA.DBO.DATOS_BASE\r\n",
                "WHERE FY_ID = 2019\r\n",
                "  AND PRODUCTO_ID = 'Algas'\r\n",
                "  AND AVG(INGRESOS_EUR)>40000\r\n",
                "GROUP BY CLIENTE_ID"
            ],
            "metadata": {
                "azdata_cell_guid": "ba30e860-4e27-4e05-9160-8fa00c5a95dc"
            },
            "outputs": [
                {
                    "output_type": "error",
                    "evalue": "Msg 147, Level 15, State 1, Line 5\r\nNo puede aparecer un agregado en la cláusula WHERE si no es en una subconsulta contenida en una cláusula HAVING o en una lista de selección, y siempre que la columna agregada sea una referencia externa.",
                    "ename": "",
                    "traceback": []
                },
                {
                    "output_type": "display_data",
                    "data": {
                        "text/html": "Total execution time: 00:00:00.046"
                    },
                    "metadata": {}
                }
            ],
            "execution_count": 23
        },
        {
            "cell_type": "code",
            "source": [
                "SELECT  TOP 5 CLIENTE_ID, AVG(INGRESOS_EUR) AS X\r\n",
                "FROM NEMINA.DBO.DATOS_BASE\r\n",
                "WHERE FY_ID = 2019\r\n",
                "  AND PRODUCTO_ID = 'Algas'\r\n",
                "  AND INGRESOS_EUR>40000\r\n",
                "GROUP BY CLIENTE_ID\r\n",
                "-- \"SIN HAVING\"\r\n",
                "\r\n",
                "-- \"Nos saca los clientes con media de pedidos >40000 eur\""
            ],
            "metadata": {
                "azdata_cell_guid": "e5da85d8-95b7-4afc-859d-f716203c340b",
                "tags": []
            },
            "outputs": [
                {
                    "output_type": "display_data",
                    "data": {
                        "text/html": "(2 rows affected)"
                    },
                    "metadata": {}
                },
                {
                    "output_type": "display_data",
                    "data": {
                        "text/html": "Total execution time: 00:00:00.054"
                    },
                    "metadata": {}
                },
                {
                    "output_type": "execute_result",
                    "metadata": {},
                    "execution_count": 29,
                    "data": {
                        "application/vnd.dataresource+json": {
                            "schema": {
                                "fields": [
                                    {
                                        "name": "CLIENTE_ID"
                                    },
                                    {
                                        "name": "X"
                                    }
                                ]
                            },
                            "data": [
                                {
                                    "0": "22",
                                    "1": "133200.0000000000"
                                },
                                {
                                    "0": "25",
                                    "1": "158508.0000000000"
                                }
                            ]
                        },
                        "text/html": [
                            "<table>",
                            "<tr><th>CLIENTE_ID</th><th>X</th></tr>",
                            "<tr><td>22</td><td>133200.0000000000</td></tr>",
                            "<tr><td>25</td><td>158508.0000000000</td></tr>",
                            "</table>"
                        ]
                    }
                }
            ],
            "execution_count": 29
        },
        {
            "cell_type": "code",
            "source": [
                "SELECT  TOP 5 CLIENTE_ID, AVG(INGRESOS_EUR) AS X\r\n",
                "FROM NEMINA.DBO.DATOS_BASE\r\n",
                "WHERE FY_ID = 2019\r\n",
                "  AND PRODUCTO_ID = 'Algas'\r\n",
                "GROUP BY CLIENTE_ID\r\n",
                "HAVING AVG(INGRESOS_EUR) > 40000;\r\n",
                "-- \"CON HAVING\"\r\n",
                "\r\n",
                "--\"Nos saca los clientes cuya media de TODOS los pedidos supera los 40000 eur\""
            ],
            "metadata": {
                "azdata_cell_guid": "42e2c622-5267-4ede-bb19-5f47cd0484ac",
                "tags": []
            },
            "outputs": [
                {
                    "output_type": "display_data",
                    "data": {
                        "text/html": "(2 rows affected)"
                    },
                    "metadata": {}
                },
                {
                    "output_type": "display_data",
                    "data": {
                        "text/html": "Total execution time: 00:00:00.055"
                    },
                    "metadata": {}
                },
                {
                    "output_type": "execute_result",
                    "metadata": {},
                    "execution_count": 34,
                    "data": {
                        "application/vnd.dataresource+json": {
                            "schema": {
                                "fields": [
                                    {
                                        "name": "CLIENTE_ID"
                                    },
                                    {
                                        "name": "X"
                                    }
                                ]
                            },
                            "data": [
                                {
                                    "0": "22",
                                    "1": "50438.7500000000"
                                },
                                {
                                    "0": "25",
                                    "1": "93462.0000000000"
                                }
                            ]
                        },
                        "text/html": [
                            "<table>",
                            "<tr><th>CLIENTE_ID</th><th>X</th></tr>",
                            "<tr><td>22</td><td>50438.7500000000</td></tr>",
                            "<tr><td>25</td><td>93462.0000000000</td></tr>",
                            "</table>"
                        ]
                    }
                }
            ],
            "execution_count": 34
        }
    ]
}