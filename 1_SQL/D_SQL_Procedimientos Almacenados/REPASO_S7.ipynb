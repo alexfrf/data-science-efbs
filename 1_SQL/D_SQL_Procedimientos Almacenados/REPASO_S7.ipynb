{
    "metadata": {
        "kernelspec": {
            "name": "SQL",
            "display_name": "SQL",
            "language": "sql"
        },
        "language_info": {
            "name": "sql",
            "version": ""
        },
        "extensions": {
            "azuredatastudio": {
                "version": 1,
                "views": []
            }
        }
    },
    "nbformat_minor": 2,
    "nbformat": 4,
    "cells": [
        {
            "cell_type": "markdown",
            "source": [
                "**REPASO SESIÓN 7 - SQL-NOSQL**"
            ],
            "metadata": {
                "azdata_cell_guid": "3a46363f-2845-4075-87f4-26b4748e1a1a"
            },
            "attachments": {}
        },
        {
            "cell_type": "code",
            "source": [
                "ALTER TABLE PRUEBAS_ALUMNOS.DBO.AFR_FACT_COSTE_DEPARTAMENTO\r\n",
                "ADD MODIFICADO_SN BIT NOT NULL DEFAULT 0;\r\n",
                "    ELIMINADO_SN BIT NOT NULL DEFAULT 0;"
            ],
            "metadata": {
                "azdata_cell_guid": "da032554-3aac-4e17-ae30-ac1dc3d38bd7"
            },
            "outputs": [],
            "execution_count": null
        },
        {
            "cell_type": "code",
            "source": [
                "SELECT TOP 10 * FROM PRUEBAS_ALUMNOS.DBO.AFR_FACT_COSTE_DEPARTAMENTO"
            ],
            "metadata": {
                "azdata_cell_guid": "be8648dc-4413-443a-a8a6-76f7e7de7cec"
            },
            "outputs": [
                {
                    "output_type": "display_data",
                    "data": {
                        "text/html": "(0 rows affected)"
                    },
                    "metadata": {}
                },
                {
                    "output_type": "display_data",
                    "data": {
                        "text/html": "Total execution time: 00:00:00.061"
                    },
                    "metadata": {}
                },
                {
                    "output_type": "execute_result",
                    "execution_count": 4,
                    "data": {
                        "application/vnd.dataresource+json": {
                            "schema": {
                                "fields": [
                                    {
                                        "name": "COMERCIAL_ID"
                                    },
                                    {
                                        "name": "MES_ID"
                                    },
                                    {
                                        "name": "DEPARTAMENTO_ID"
                                    },
                                    {
                                        "name": "DEPARTAMENTO_DESC"
                                    },
                                    {
                                        "name": "COSTE_DEPARTAMENTO"
                                    },
                                    {
                                        "name": "MODIFICADO_SN"
                                    },
                                    {
                                        "name": "ELIMINADO_SN"
                                    }
                                ]
                            },
                            "data": []
                        },
                        "text/html": "<table><tr><th>COMERCIAL_ID</th><th>MES_ID</th><th>DEPARTAMENTO_ID</th><th>DEPARTAMENTO_DESC</th><th>COSTE_DEPARTAMENTO</th><th>MODIFICADO_SN</th><th>ELIMINADO_SN</th></tr></table>"
                    },
                    "metadata": {}
                }
            ],
            "execution_count": 4
        },
        {
            "cell_type": "code",
            "source": [
                "TRUNCATE TABLE PRUEBAS_ALUMNOS.dbo.AFR_FACT_COSTE_DEPARTAMENTO;"
            ],
            "metadata": {
                "azdata_cell_guid": "58f2d630-f4bb-42b2-9101-ef43f571b49b"
            },
            "outputs": [
                {
                    "output_type": "display_data",
                    "data": {
                        "text/html": "Commands completed successfully."
                    },
                    "metadata": {}
                },
                {
                    "output_type": "display_data",
                    "data": {
                        "text/html": "Total execution time: 00:00:00.048"
                    },
                    "metadata": {}
                }
            ],
            "execution_count": 5
        },
        {
            "cell_type": "code",
            "source": [
                "USE PRUEBAS_ALUMNOS;\r\n",
                "GO\r\n",
                "\r\n",
                "CREATE OR ALTER PROCEDURE DBO.PR_AFR_REPARTO_COSTE_DPTO\r\n",
                "    @p_mes_inicial INTEGER, --PARAMETRO 1\r\n",
                "    @p_mes_final INTEGER --PARAMETRO 2\r\n",
                "\r\n",
                "AS\r\n",
                "BEGIN\r\n",
                "    DECLARE @ORIGEN TABLE (\r\n",
                "        COMERCIAL_ID VARCHAR(50) NOT NULL,\r\n",
                "        MES_ID INT NOT NULL,\r\n",
                "        DEPARTAMENTO_ID INT NOT NULL,\r\n",
                "        DEPARTAMENTO_DESC VARCHAR(15),\r\n",
                "        COSTE_DEPARTAMENTO DECIMAL(15,2)\r\n",
                "    );\r\n",
                "\r\n",
                "    WITH COMERCIAL_HORAS_MES AS (\r\n",
                "        SELECT F.COMERCIAL_ID,\r\n",
                "               F.MES_ID,\r\n",
                "               SUM(F.CANTIDAD_HORAS) AS TOTAL_HORAS_COMERCIAL_MES\r\n",
                "        FROM NSLDINA.DBO.FACT_COMERCIAL_HORAS F\r\n",
                "        GROUP BY F.COMERCIAL_ID,\r\n",
                "                 F.MES_ID\r\n",
                "        ),\r\n",
                "\r\n",
                "    PCT_COMERCIAL_DPTO_MES AS (\r\n",
                "        SELECT F.COMERCIAL_ID,\r\n",
                "               F.MES_ID,\r\n",
                "               F.DEPARTAMENTO_ID,\r\n",
                "               F.CANTIDAD_HORAS/CAST(TOTAL_HORAS_COMERCIAL_MES AS NUMERIC(5,2)) AS PCT_DEPARTAMENTO\r\n",
                "        FROM NSLDINA.DBO.FACT_COMERCIAL_HORAS F \r\n",
                "            INNER JOIN COMERCIAL_HORAS_MES C \r\n",
                "                ON F.COMERCIAL_ID = C.COMERCIAL_ID AND C.MES_ID = F.MES_ID \r\n",
                "        )\r\n",
                "\r\n",
                "    INSERT INTO @ORIGEN (\r\n",
                "            COMERCIAL_ID,\r\n",
                "            MES_ID,\r\n",
                "            DEPARTAMENTO_ID,\r\n",
                "            DEPARTAMENTO_DESC,\r\n",
                "            COSTE_DEPARTAMENTO)\r\n",
                "    \r\n",
                "    SELECT P.COMERCIAL_ID,\r\n",
                "           P.MES_ID,\r\n",
                "           P.DEPARTAMENTO_ID,\r\n",
                "           D.DEPARTAMENTO_DESC,\r\n",
                "           ROUND(FN.IMPORTE_NOMINA * P.PCT_DEPARTAMENTO, 2) AS COSTE_DEPARTAMENTO \r\n",
                "    FROM NSLDINA.DBO.FACT_NOMINA FN \r\n",
                "        INNER JOIN PCT_COMERCIAL_DPTO_MES P \r\n",
                "            ON FN.EMPLEADO_ID = P.COMERCIAL_ID AND FN.MES_ID = P.MES_ID\r\n",
                "        \r\n",
                "        INNER JOIN NSLDINA.DBO.DIM_DEPARTAMENTO D \r\n",
                "            ON P.DEPARTAMENTO_ID = D.DEPARTAMENTO_ID \r\n",
                "    \r\n",
                "    WHERE P.MES_ID BETWEEN @p_mes_inicial AND @p_mes_final;\r\n",
                "\r\n",
                "    BEGIN TRY\r\n",
                "        BEGIN TRAN;\r\n",
                "\r\n",
                "        MERGE INTO PRUEBAS_ALUMNOS.DBO.AFR_FACT_COSTE_DEPARTAMENTO AS AFR \r\n",
                "            USING @ORIGEN AS O \r\n",
                "                ON O.COMERCIAL_ID = AFR.COMERCIAL_ID AND O.MES_ID = AFR.MES_ID AND O.DEPARTAMENTO_ID = AFR.DEPARTAMENTO_ID \r\n",
                "            WHEN MATCHED THEN\r\n",
                "                UPDATE SET \r\n",
                "                    AFR.DEPARTAMENTO_ID = O.DEPARTAMENTO_ID,\r\n",
                "                    AFR.COSTE_DEPARTAMENTO = O.DEPARTAMENTO_DESC,\r\n",
                "                    AFR.MODIFICADO_SN = 1,\r\n",
                "                    AFR.ELIMINADO_SN = 0 \r\n",
                "            WHEN NOT MATCHED BY TARGET THEN\r\n",
                "                INSERT \r\n",
                "                (\r\n",
                "                    COMERCIAL_ID,\r\n",
                "                    MES_ID,\r\n",
                "                    DEPARTAMENTO_ID,\r\n",
                "                    DEPARTAMENTO_DESC,\r\n",
                "                    COSTE_DEPARTAMENTO                    \r\n",
                "                )\r\n",
                "\r\n",
                "                VALUES\r\n",
                "                (\r\n",
                "                    O.COMERCIAL_ID,\r\n",
                "                    O.MES_ID,\r\n",
                "                    O.DEPARTAMENTO_ID,\r\n",
                "                    O.DEPARTAMENTO_DESC,\r\n",
                "                    O.COSTE_DEPARTAMENTO                    \r\n",
                "                )\r\n",
                "\r\n",
                "            WHEN NOT MATCHED BY SOURCE THEN \r\n",
                "                UPDATE SET \r\n",
                "                    AFR.MODIFICADO_SN = 0,\r\n",
                "                    AFR.ELIMINADO_SN = 1\r\n",
                "            ;\r\n",
                "\r\n",
                "        COMMIT TRAN;\r\n",
                "    END TRY\r\n",
                "\r\n",
                "    BEGIN CATCH\r\n",
                "        ROLLBACK TRAN;\r\n",
                "    END CATCH\r\n",
                "END;"
            ],
            "metadata": {
                "azdata_cell_guid": "c71a2dca-7e21-48c5-bf1b-d8185a50df7f"
            },
            "outputs": [
                {
                    "output_type": "display_data",
                    "data": {
                        "text/html": "Commands completed successfully."
                    },
                    "metadata": {}
                },
                {
                    "output_type": "display_data",
                    "data": {
                        "text/html": "Commands completed successfully."
                    },
                    "metadata": {}
                },
                {
                    "output_type": "display_data",
                    "data": {
                        "text/html": "Total execution time: 00:00:00.298"
                    },
                    "metadata": {}
                }
            ],
            "execution_count": 10
        },
        {
            "cell_type": "code",
            "source": [
                "TRUNCATE TABLE PRUEBAS_ALUMNOS.dbo.AFR_FACT_COSTE_DEPARTAMENTO;\r\n",
                "\r\n",
                "EXEC PRUEBAS_ALUMNOS.dbo.PR_AFR_REPARTO_COSTE_DPTO 201904, 201912; --DE ABRIL 19 A DIC 19\r\n",
                "EXEC PRUEBAS_ALUMNOS.dbo.PR_AFR_REPARTO_COSTE_DPTO 201908, 202004; --DE AGOSTO 19 A ABRIL 20\r\n",
                "\r\n",
                "SELECT DISTINCT MES_ID,\r\n",
                "                MODIFICADO_SN,\r\n",
                "                ELIMINADO_SN\r\n",
                "FROM PRUEBAS_ALUMNOS.dbo.AFR_FACT_COSTE_DEPARTAMENTO\r\n",
                "ORDER BY MES_ID;"
            ],
            "metadata": {
                "azdata_cell_guid": "31602544-3b4f-4425-aa2c-65a4f38641e6"
            },
            "outputs": [
                {
                    "output_type": "display_data",
                    "data": {
                        "text/html": "(270 rows affected)"
                    },
                    "metadata": {}
                },
                {
                    "output_type": "display_data",
                    "data": {
                        "text/html": "(270 rows affected)"
                    },
                    "metadata": {}
                },
                {
                    "output_type": "display_data",
                    "data": {
                        "text/html": "(270 rows affected)"
                    },
                    "metadata": {}
                },
                {
                    "output_type": "display_data",
                    "data": {
                        "text/html": "(0 rows affected)"
                    },
                    "metadata": {}
                },
                {
                    "output_type": "display_data",
                    "data": {
                        "text/html": "(9 rows affected)"
                    },
                    "metadata": {}
                },
                {
                    "output_type": "display_data",
                    "data": {
                        "text/html": "Total execution time: 00:00:00.232"
                    },
                    "metadata": {}
                },
                {
                    "output_type": "execute_result",
                    "execution_count": 12,
                    "data": {
                        "application/vnd.dataresource+json": {
                            "schema": {
                                "fields": [
                                    {
                                        "name": "MES_ID"
                                    },
                                    {
                                        "name": "MODIFICADO_SN"
                                    },
                                    {
                                        "name": "ELIMINADO_SN"
                                    }
                                ]
                            },
                            "data": [
                                {
                                    "0": "201904",
                                    "1": "0",
                                    "2": "0"
                                },
                                {
                                    "0": "201905",
                                    "1": "0",
                                    "2": "0"
                                },
                                {
                                    "0": "201906",
                                    "1": "0",
                                    "2": "0"
                                },
                                {
                                    "0": "201907",
                                    "1": "0",
                                    "2": "0"
                                },
                                {
                                    "0": "201908",
                                    "1": "0",
                                    "2": "0"
                                },
                                {
                                    "0": "201909",
                                    "1": "0",
                                    "2": "0"
                                },
                                {
                                    "0": "201910",
                                    "1": "0",
                                    "2": "0"
                                },
                                {
                                    "0": "201911",
                                    "1": "0",
                                    "2": "0"
                                },
                                {
                                    "0": "201912",
                                    "1": "0",
                                    "2": "0"
                                }
                            ]
                        },
                        "text/html": "<table><tr><th>MES_ID</th><th>MODIFICADO_SN</th><th>ELIMINADO_SN</th></tr><tr><td>201904</td><td>0</td><td>0</td></tr><tr><td>201905</td><td>0</td><td>0</td></tr><tr><td>201906</td><td>0</td><td>0</td></tr><tr><td>201907</td><td>0</td><td>0</td></tr><tr><td>201908</td><td>0</td><td>0</td></tr><tr><td>201909</td><td>0</td><td>0</td></tr><tr><td>201910</td><td>0</td><td>0</td></tr><tr><td>201911</td><td>0</td><td>0</td></tr><tr><td>201912</td><td>0</td><td>0</td></tr></table>"
                    },
                    "metadata": {}
                }
            ],
            "execution_count": 12
        },
        {
            "cell_type": "code",
            "source": [
                "SELECT COUNT(*) AS CONTEO FROM PRUEBAS_ALUMNOS.dbo.AFR_FACT_COSTE_DEPARTAMENTO"
            ],
            "metadata": {
                "azdata_cell_guid": "28a94e5a-9b27-44e9-bda3-dc85e27394b5"
            },
            "outputs": [
                {
                    "output_type": "display_data",
                    "data": {
                        "text/html": "(1 row affected)"
                    },
                    "metadata": {}
                },
                {
                    "output_type": "display_data",
                    "data": {
                        "text/html": "Total execution time: 00:00:00.051"
                    },
                    "metadata": {}
                },
                {
                    "output_type": "execute_result",
                    "execution_count": 14,
                    "data": {
                        "application/vnd.dataresource+json": {
                            "schema": {
                                "fields": [
                                    {
                                        "name": "CONTEO"
                                    }
                                ]
                            },
                            "data": [
                                {
                                    "0": "270"
                                }
                            ]
                        },
                        "text/html": "<table><tr><th>CONTEO</th></tr><tr><td>270</td></tr></table>"
                    },
                    "metadata": {}
                }
            ],
            "execution_count": 14
        },
        {
            "cell_type": "markdown",
            "source": [
                "PIVOT / UNPIVOT"
            ],
            "metadata": {
                "azdata_cell_guid": "214e0417-a4d9-439a-aa32-b808e848d7af"
            },
            "attachments": {}
        },
        {
            "cell_type": "code",
            "source": [
                "SELECT COUNT (*) CONTEO FROM PRUEBAS_ALUMNOS.dbo.AFR_FACT_COSTE_DEPARTAMENTO"
            ],
            "metadata": {
                "azdata_cell_guid": "fb5ec48b-3aa0-4c62-b389-ddb8bbd6b28c"
            },
            "outputs": [
                {
                    "output_type": "display_data",
                    "data": {
                        "text/html": "(1 row affected)"
                    },
                    "metadata": {}
                },
                {
                    "output_type": "display_data",
                    "data": {
                        "text/html": "Total execution time: 00:00:00.108"
                    },
                    "metadata": {}
                },
                {
                    "output_type": "execute_result",
                    "metadata": {},
                    "execution_count": 2,
                    "data": {
                        "application/vnd.dataresource+json": {
                            "schema": {
                                "fields": [
                                    {
                                        "name": "CONTEO"
                                    }
                                ]
                            },
                            "data": [
                                {
                                    "0": "270"
                                }
                            ]
                        },
                        "text/html": [
                            "<table>",
                            "<tr><th>CONTEO</th></tr>",
                            "<tr><td>270</td></tr>",
                            "</table>"
                        ]
                    }
                }
            ],
            "execution_count": 2
        },
        {
            "cell_type": "code",
            "source": [
                "WITH CONSULTA_PIVOTAR AS (\r\n",
                "    SELECT COMERCIAL_ID,\r\n",
                "           MES_ID,\r\n",
                "           DEPARTAMENTO_DESC,\r\n",
                "           COSTE_DEPARTAMENTO\r\n",
                "    FROM PRUEBAS_ALUMNOS.dbo.ICR_FACT_COSTE_DEPARTAMENTO\r\n",
                ")\r\n",
                "\r\n",
                "SELECT COMERCIAL_ID,\r\n",
                "       MES_ID,\r\n",
                "       VENTAS,\r\n",
                "       MARKETING,\r\n",
                "       RRHH,\r\n",
                "       LOGISTICA,\r\n",
                "       FINANCIERO\r\n",
                "FROM CONSULTA_PIVOTAR\r\n",
                "\r\n",
                "PIVOT (\r\n",
                "    SUM(COSTE_DEPARTAMENTO)\r\n",
                "    FOR DEPARTAMENTO_DESC IN (\r\n",
                "        VENTAS,\r\n",
                "        MARKETING,\r\n",
                "        RRHH,\r\n",
                "        LOGISTICA,\r\n",
                "        FINANCIERO\r\n",
                "    )\r\n",
                ") AS PIVOTADA"
            ],
            "metadata": {
                "azdata_cell_guid": "e1b1598a-06e1-488c-92c2-f2d83202ea7e"
            },
            "outputs": [
                {
                    "output_type": "display_data",
                    "data": {
                        "text/html": "(78 rows affected)"
                    },
                    "metadata": {}
                },
                {
                    "output_type": "display_data",
                    "data": {
                        "text/html": "Total execution time: 00:00:00.071"
                    },
                    "metadata": {}
                },
                {
                    "output_type": "execute_result",
                    "metadata": {},
                    "execution_count": 4,
                    "data": {
                        "application/vnd.dataresource+json": {
                            "schema": {
                                "fields": [
                                    {
                                        "name": "COMERCIAL_ID"
                                    },
                                    {
                                        "name": "MES_ID"
                                    },
                                    {
                                        "name": "VENTAS"
                                    },
                                    {
                                        "name": "MARKETING"
                                    },
                                    {
                                        "name": "RRHH"
                                    },
                                    {
                                        "name": "LOGISTICA"
                                    },
                                    {
                                        "name": "FINANCIERO"
                                    }
                                ]
                            },
                            "data": [
                                {
                                    "0": "COMERCIAL 115",
                                    "1": "201904",
                                    "2": "274.46",
                                    "3": "209.88",
                                    "4": "265.23",
                                    "5": "242.17",
                                    "6": "205.27"
                                },
                                {
                                    "0": "COMERCIAL 115",
                                    "1": "201905",
                                    "2": "275.31",
                                    "3": "179.55",
                                    "4": "265.73",
                                    "5": "292.07",
                                    "6": "184.34"
                                },
                                {
                                    "0": "COMERCIAL 115",
                                    "1": "201906",
                                    "2": "251.53",
                                    "3": "208.86",
                                    "4": "273.98",
                                    "5": "249.28",
                                    "6": "213.35"
                                },
                                {
                                    "0": "COMERCIAL 115",
                                    "1": "201907",
                                    "2": "289.10",
                                    "3": "193.53",
                                    "4": "250.87",
                                    "5": "274.76",
                                    "6": "188.75"
                                },
                                {
                                    "0": "COMERCIAL 115",
                                    "1": "201908",
                                    "2": "242.17",
                                    "3": "198.35",
                                    "4": "281.38",
                                    "5": "272.15",
                                    "6": "202.96"
                                },
                                {
                                    "0": "COMERCIAL 115",
                                    "1": "201909",
                                    "2": "190.43",
                                    "3": "276.99",
                                    "4": "220.11",
                                    "5": "225.06",
                                    "6": "284.41"
                                },
                                {
                                    "0": "COMERCIAL 115",
                                    "1": "201910",
                                    "2": "217.86",
                                    "3": "296.19",
                                    "4": "208.07",
                                    "5": "183.59",
                                    "6": "291.29"
                                },
                                {
                                    "0": "COMERCIAL 115",
                                    "1": "201911",
                                    "2": "213.03",
                                    "3": "266.28",
                                    "4": "207.95",
                                    "5": "235.85",
                                    "6": "273.89"
                                },
                                {
                                    "0": "COMERCIAL 115",
                                    "1": "201912",
                                    "2": "195.14",
                                    "3": "292.71",
                                    "4": "218.93",
                                    "5": "192.76",
                                    "6": "297.47"
                                },
                                {
                                    "0": "COMERCIAL 115",
                                    "1": "202001",
                                    "2": "223.67",
                                    "3": "292.49",
                                    "4": "204.01",
                                    "5": "189.26",
                                    "6": "287.57"
                                },
                                {
                                    "0": "COMERCIAL 115",
                                    "1": "202002",
                                    "2": "208.72",
                                    "3": "269.07",
                                    "4": "208.72",
                                    "5": "236.38",
                                    "6": "274.10"
                                },
                                {
                                    "0": "COMERCIAL 115",
                                    "1": "202003",
                                    "2": "278.82",
                                    "3": "180.27",
                                    "4": "264.40",
                                    "5": "290.84",
                                    "6": "182.67"
                                },
                                {
                                    "0": "COMERCIAL 115",
                                    "1": "202004",
                                    "2": "227.63",
                                    "3": "278.79",
                                    "4": "194.38",
                                    "5": "222.52",
                                    "6": "273.67"
                                },
                                {
                                    "0": "COMERCIAL 116",
                                    "1": "201904",
                                    "2": "426.93",
                                    "3": "326.48",
                                    "4": "412.58",
                                    "5": "376.71",
                                    "6": "319.30"
                                },
                                {
                                    "0": "COMERCIAL 116",
                                    "1": "201905",
                                    "2": "428.26",
                                    "3": "279.30",
                                    "4": "413.36",
                                    "5": "454.33",
                                    "6": "286.75"
                                },
                                {
                                    "0": "COMERCIAL 116",
                                    "1": "201906",
                                    "2": "391.26",
                                    "3": "324.89",
                                    "4": "426.20",
                                    "5": "387.77",
                                    "6": "331.88"
                                },
                                {
                                    "0": "COMERCIAL 116",
                                    "1": "201907",
                                    "2": "449.70",
                                    "3": "301.04",
                                    "4": "390.24",
                                    "5": "427.41",
                                    "6": "293.61"
                                },
                                {
                                    "0": "COMERCIAL 116",
                                    "1": "201908",
                                    "2": "376.71",
                                    "3": "308.54",
                                    "4": "437.70",
                                    "5": "423.34",
                                    "6": "315.71"
                                },
                                {
                                    "0": "COMERCIAL 116",
                                    "1": "201909",
                                    "2": "296.23",
                                    "3": "430.88",
                                    "4": "342.39",
                                    "5": "350.09",
                                    "6": "442.42"
                                },
                                {
                                    "0": "COMERCIAL 116",
                                    "1": "201910",
                                    "2": "338.89",
                                    "3": "460.74",
                                    "4": "323.66",
                                    "5": "285.58",
                                    "6": "453.12"
                                },
                                {
                                    "0": "COMERCIAL 116",
                                    "1": "201911",
                                    "2": "331.37",
                                    "3": "414.22",
                                    "4": "323.48",
                                    "5": "366.88",
                                    "6": "426.05"
                                },
                                {
                                    "0": "COMERCIAL 116",
                                    "1": "201912",
                                    "2": "303.55",
                                    "3": "455.32",
                                    "4": "340.56",
                                    "5": "299.84",
                                    "6": "462.72"
                                },
                                {
                                    "0": "COMERCIAL 116",
                                    "1": "202001",
                                    "2": "347.93",
                                    "3": "454.99",
                                    "4": "317.34",
                                    "5": "294.40",
                                    "6": "447.34"
                                },
                                {
                                    "0": "COMERCIAL 116",
                                    "1": "202002",
                                    "2": "324.68",
                                    "3": "418.56",
                                    "4": "324.68",
                                    "5": "367.71",
                                    "6": "426.38"
                                },
                                {
                                    "0": "COMERCIAL 116",
                                    "1": "202003",
                                    "2": "433.72",
                                    "3": "280.42",
                                    "4": "411.29",
                                    "5": "452.41",
                                    "6": "284.16"
                                },
                                {
                                    "0": "COMERCIAL 116",
                                    "1": "202004",
                                    "2": "354.10",
                                    "3": "433.67",
                                    "4": "302.38",
                                    "5": "346.14",
                                    "6": "425.71"
                                },
                                {
                                    "0": "COMERCIAL 121",
                                    "1": "201904",
                                    "2": "256.16",
                                    "3": "195.89",
                                    "4": "247.55",
                                    "5": "226.02",
                                    "6": "191.58"
                                },
                                {
                                    "0": "COMERCIAL 121",
                                    "1": "201905",
                                    "2": "256.96",
                                    "3": "167.58",
                                    "4": "248.02",
                                    "5": "272.60",
                                    "6": "172.05"
                                },
                                {
                                    "0": "COMERCIAL 121",
                                    "1": "201906",
                                    "2": "234.76",
                                    "3": "194.93",
                                    "4": "255.72",
                                    "5": "232.66",
                                    "6": "199.13"
                                },
                                {
                                    "0": "COMERCIAL 121",
                                    "1": "201907",
                                    "2": "269.82",
                                    "3": "180.63",
                                    "4": "234.14",
                                    "5": "256.44",
                                    "6": "176.17"
                                },
                                {
                                    "0": "COMERCIAL 121",
                                    "1": "201908",
                                    "2": "226.02",
                                    "3": "185.12",
                                    "4": "262.62",
                                    "5": "254.01",
                                    "6": "189.43"
                                },
                                {
                                    "0": "COMERCIAL 121",
                                    "1": "201909",
                                    "2": "177.74",
                                    "3": "258.53",
                                    "4": "205.44",
                                    "5": "210.05",
                                    "6": "265.45"
                                },
                                {
                                    "0": "COMERCIAL 121",
                                    "1": "201910",
                                    "2": "203.33",
                                    "3": "276.44",
                                    "4": "194.20",
                                    "5": "171.35",
                                    "6": "271.87"
                                },
                                {
                                    "0": "COMERCIAL 121",
                                    "1": "201911",
                                    "2": "198.82",
                                    "3": "248.53",
                                    "4": "194.09",
                                    "5": "220.13",
                                    "6": "255.63"
                                },
                                {
                                    "0": "COMERCIAL 121",
                                    "1": "201912",
                                    "2": "182.13",
                                    "3": "273.19",
                                    "4": "204.34",
                                    "5": "179.91",
                                    "6": "277.63"
                                },
                                {
                                    "0": "COMERCIAL 121",
                                    "1": "202001",
                                    "2": "208.76",
                                    "3": "272.99",
                                    "4": "190.41",
                                    "5": "176.64",
                                    "6": "268.40"
                                },
                                {
                                    "0": "COMERCIAL 121",
                                    "1": "202002",
                                    "2": "194.81",
                                    "3": "251.14",
                                    "4": "194.81",
                                    "5": "220.62",
                                    "6": "255.83"
                                },
                                {
                                    "0": "COMERCIAL 121",
                                    "1": "202003",
                                    "2": "260.23",
                                    "3": "168.25",
                                    "4": "246.77",
                                    "5": "271.45",
                                    "6": "170.50"
                                },
                                {
                                    "0": "COMERCIAL 121",
                                    "1": "202004",
                                    "2": "212.46",
                                    "3": "260.20",
                                    "4": "181.43",
                                    "5": "207.68",
                                    "6": "255.43"
                                },
                                {
                                    "0": "COMERCIAL 129",
                                    "1": "201904",
                                    "2": "274.46",
                                    "3": "209.88",
                                    "4": "265.23",
                                    "5": "242.17",
                                    "6": "205.27"
                                },
                                {
                                    "0": "COMERCIAL 129",
                                    "1": "201905",
                                    "2": "275.31",
                                    "3": "179.55",
                                    "4": "265.73",
                                    "5": "292.07",
                                    "6": "184.34"
                                },
                                {
                                    "0": "COMERCIAL 129",
                                    "1": "201906",
                                    "2": "251.53",
                                    "3": "208.86",
                                    "4": "273.98",
                                    "5": "249.28",
                                    "6": "213.35"
                                },
                                {
                                    "0": "COMERCIAL 129",
                                    "1": "201907",
                                    "2": "289.10",
                                    "3": "193.53",
                                    "4": "250.87",
                                    "5": "274.76",
                                    "6": "188.75"
                                },
                                {
                                    "0": "COMERCIAL 129",
                                    "1": "201908",
                                    "2": "242.17",
                                    "3": "198.35",
                                    "4": "281.38",
                                    "5": "272.15",
                                    "6": "202.96"
                                },
                                {
                                    "0": "COMERCIAL 129",
                                    "1": "201909",
                                    "2": "190.43",
                                    "3": "276.99",
                                    "4": "220.11",
                                    "5": "225.06",
                                    "6": "284.41"
                                },
                                {
                                    "0": "COMERCIAL 129",
                                    "1": "201910",
                                    "2": "217.86",
                                    "3": "296.19",
                                    "4": "208.07",
                                    "5": "183.59",
                                    "6": "291.29"
                                },
                                {
                                    "0": "COMERCIAL 129",
                                    "1": "201911",
                                    "2": "213.03",
                                    "3": "266.28",
                                    "4": "207.95",
                                    "5": "235.85",
                                    "6": "273.89"
                                },
                                {
                                    "0": "COMERCIAL 129",
                                    "1": "201912",
                                    "2": "195.14",
                                    "3": "292.71",
                                    "4": "218.93",
                                    "5": "192.76",
                                    "6": "297.47"
                                },
                                {
                                    "0": "COMERCIAL 129",
                                    "1": "202001",
                                    "2": "223.67",
                                    "3": "292.49",
                                    "4": "204.01",
                                    "5": "189.26",
                                    "6": "287.57"
                                },
                                {
                                    "0": "COMERCIAL 129",
                                    "1": "202002",
                                    "2": "208.72",
                                    "3": "269.07",
                                    "4": "208.72",
                                    "5": "236.38",
                                    "6": "274.10"
                                },
                                {
                                    "0": "COMERCIAL 129",
                                    "1": "202003",
                                    "2": "278.82",
                                    "3": "180.27",
                                    "4": "264.40",
                                    "5": "290.84",
                                    "6": "182.67"
                                },
                                {
                                    "0": "COMERCIAL 129",
                                    "1": "202004",
                                    "2": "227.63",
                                    "3": "278.79",
                                    "4": "194.38",
                                    "5": "222.52",
                                    "6": "273.67"
                                },
                                {
                                    "0": "COMERCIAL 135",
                                    "1": "201904",
                                    "2": "274.46",
                                    "3": "209.88",
                                    "4": "265.23",
                                    "5": "242.17",
                                    "6": "205.27"
                                },
                                {
                                    "0": "COMERCIAL 135",
                                    "1": "201905",
                                    "2": "275.31",
                                    "3": "179.55",
                                    "4": "265.73",
                                    "5": "292.07",
                                    "6": "184.34"
                                },
                                {
                                    "0": "COMERCIAL 135",
                                    "1": "201906",
                                    "2": "251.53",
                                    "3": "208.86",
                                    "4": "273.98",
                                    "5": "249.28",
                                    "6": "213.35"
                                },
                                {
                                    "0": "COMERCIAL 135",
                                    "1": "201907",
                                    "2": "289.10",
                                    "3": "193.53",
                                    "4": "250.87",
                                    "5": "274.76",
                                    "6": "188.75"
                                },
                                {
                                    "0": "COMERCIAL 135",
                                    "1": "201908",
                                    "2": "242.17",
                                    "3": "198.35",
                                    "4": "281.38",
                                    "5": "272.15",
                                    "6": "202.96"
                                },
                                {
                                    "0": "COMERCIAL 135",
                                    "1": "201909",
                                    "2": "190.43",
                                    "3": "276.99",
                                    "4": "220.11",
                                    "5": "225.06",
                                    "6": "284.41"
                                },
                                {
                                    "0": "COMERCIAL 135",
                                    "1": "201910",
                                    "2": "217.86",
                                    "3": "296.19",
                                    "4": "208.07",
                                    "5": "183.59",
                                    "6": "291.29"
                                },
                                {
                                    "0": "COMERCIAL 135",
                                    "1": "201911",
                                    "2": "213.03",
                                    "3": "266.28",
                                    "4": "207.95",
                                    "5": "235.85",
                                    "6": "273.89"
                                },
                                {
                                    "0": "COMERCIAL 135",
                                    "1": "201912",
                                    "2": "195.14",
                                    "3": "292.71",
                                    "4": "218.93",
                                    "5": "192.76",
                                    "6": "297.47"
                                },
                                {
                                    "0": "COMERCIAL 135",
                                    "1": "202001",
                                    "2": "223.67",
                                    "3": "292.49",
                                    "4": "204.01",
                                    "5": "189.26",
                                    "6": "287.57"
                                },
                                {
                                    "0": "COMERCIAL 135",
                                    "1": "202002",
                                    "2": "208.72",
                                    "3": "269.07",
                                    "4": "208.72",
                                    "5": "236.38",
                                    "6": "274.10"
                                },
                                {
                                    "0": "COMERCIAL 135",
                                    "1": "202003",
                                    "2": "278.82",
                                    "3": "180.27",
                                    "4": "264.40",
                                    "5": "290.84",
                                    "6": "182.67"
                                },
                                {
                                    "0": "COMERCIAL 135",
                                    "1": "202004",
                                    "2": "227.63",
                                    "3": "278.79",
                                    "4": "194.38",
                                    "5": "222.52",
                                    "6": "273.67"
                                },
                                {
                                    "0": "COMERCIAL 137",
                                    "1": "201904",
                                    "2": "298.85",
                                    "3": "228.53",
                                    "4": "288.81",
                                    "5": "263.69",
                                    "6": "223.51"
                                },
                                {
                                    "0": "COMERCIAL 137",
                                    "1": "201905",
                                    "2": "299.78",
                                    "3": "195.51",
                                    "4": "289.35",
                                    "5": "318.03",
                                    "6": "200.72"
                                },
                                {
                                    "0": "COMERCIAL 137",
                                    "1": "201906",
                                    "2": "273.89",
                                    "3": "227.42",
                                    "4": "298.34",
                                    "5": "271.44",
                                    "6": "232.31"
                                },
                                {
                                    "0": "COMERCIAL 137",
                                    "1": "201907",
                                    "2": "314.79",
                                    "3": "210.73",
                                    "4": "273.17",
                                    "5": "299.18",
                                    "6": "205.53"
                                },
                                {
                                    "0": "COMERCIAL 137",
                                    "1": "201908",
                                    "2": "263.69",
                                    "3": "215.98",
                                    "4": "306.39",
                                    "5": "296.34",
                                    "6": "221.00"
                                },
                                {
                                    "0": "COMERCIAL 137",
                                    "1": "201909",
                                    "2": "207.36",
                                    "3": "301.61",
                                    "4": "239.67",
                                    "5": "245.06",
                                    "6": "309.69"
                                },
                                {
                                    "0": "COMERCIAL 137",
                                    "1": "201910",
                                    "2": "237.22",
                                    "3": "322.52",
                                    "4": "226.56",
                                    "5": "199.91",
                                    "6": "317.19"
                                },
                                {
                                    "0": "COMERCIAL 137",
                                    "1": "201911",
                                    "2": "231.96",
                                    "3": "289.95",
                                    "4": "226.44",
                                    "5": "256.81",
                                    "6": "298.24"
                                },
                                {
                                    "0": "COMERCIAL 137",
                                    "1": "201912",
                                    "2": "212.48",
                                    "3": "318.72",
                                    "4": "238.40",
                                    "5": "209.89",
                                    "6": "323.91"
                                },
                                {
                                    "0": "COMERCIAL 137",
                                    "1": "202001",
                                    "2": "243.55",
                                    "3": "318.49",
                                    "4": "222.14",
                                    "5": "206.08",
                                    "6": "313.14"
                                },
                                {
                                    "0": "COMERCIAL 137",
                                    "1": "202002",
                                    "2": "227.27",
                                    "3": "292.99",
                                    "4": "227.27",
                                    "5": "257.39",
                                    "6": "298.47"
                                },
                                {
                                    "0": "COMERCIAL 137",
                                    "1": "202003",
                                    "2": "303.60",
                                    "3": "196.30",
                                    "4": "287.90",
                                    "5": "316.69",
                                    "6": "198.91"
                                },
                                {
                                    "0": "COMERCIAL 137",
                                    "1": "202004",
                                    "2": "247.87",
                                    "3": "303.57",
                                    "4": "211.66",
                                    "5": "242.30",
                                    "6": "298.00"
                                }
                            ]
                        },
                        "text/html": [
                            "<table>",
                            "<tr><th>COMERCIAL_ID</th><th>MES_ID</th><th>VENTAS</th><th>MARKETING</th><th>RRHH</th><th>LOGISTICA</th><th>FINANCIERO</th></tr>",
                            "<tr><td>COMERCIAL 115</td><td>201904</td><td>274.46</td><td>209.88</td><td>265.23</td><td>242.17</td><td>205.27</td></tr>",
                            "<tr><td>COMERCIAL 115</td><td>201905</td><td>275.31</td><td>179.55</td><td>265.73</td><td>292.07</td><td>184.34</td></tr>",
                            "<tr><td>COMERCIAL 115</td><td>201906</td><td>251.53</td><td>208.86</td><td>273.98</td><td>249.28</td><td>213.35</td></tr>",
                            "<tr><td>COMERCIAL 115</td><td>201907</td><td>289.10</td><td>193.53</td><td>250.87</td><td>274.76</td><td>188.75</td></tr>",
                            "<tr><td>COMERCIAL 115</td><td>201908</td><td>242.17</td><td>198.35</td><td>281.38</td><td>272.15</td><td>202.96</td></tr>",
                            "<tr><td>COMERCIAL 115</td><td>201909</td><td>190.43</td><td>276.99</td><td>220.11</td><td>225.06</td><td>284.41</td></tr>",
                            "<tr><td>COMERCIAL 115</td><td>201910</td><td>217.86</td><td>296.19</td><td>208.07</td><td>183.59</td><td>291.29</td></tr>",
                            "<tr><td>COMERCIAL 115</td><td>201911</td><td>213.03</td><td>266.28</td><td>207.95</td><td>235.85</td><td>273.89</td></tr>",
                            "<tr><td>COMERCIAL 115</td><td>201912</td><td>195.14</td><td>292.71</td><td>218.93</td><td>192.76</td><td>297.47</td></tr>",
                            "<tr><td>COMERCIAL 115</td><td>202001</td><td>223.67</td><td>292.49</td><td>204.01</td><td>189.26</td><td>287.57</td></tr>",
                            "<tr><td>COMERCIAL 115</td><td>202002</td><td>208.72</td><td>269.07</td><td>208.72</td><td>236.38</td><td>274.10</td></tr>",
                            "<tr><td>COMERCIAL 115</td><td>202003</td><td>278.82</td><td>180.27</td><td>264.40</td><td>290.84</td><td>182.67</td></tr>",
                            "<tr><td>COMERCIAL 115</td><td>202004</td><td>227.63</td><td>278.79</td><td>194.38</td><td>222.52</td><td>273.67</td></tr>",
                            "<tr><td>COMERCIAL 116</td><td>201904</td><td>426.93</td><td>326.48</td><td>412.58</td><td>376.71</td><td>319.30</td></tr>",
                            "<tr><td>COMERCIAL 116</td><td>201905</td><td>428.26</td><td>279.30</td><td>413.36</td><td>454.33</td><td>286.75</td></tr>",
                            "<tr><td>COMERCIAL 116</td><td>201906</td><td>391.26</td><td>324.89</td><td>426.20</td><td>387.77</td><td>331.88</td></tr>",
                            "<tr><td>COMERCIAL 116</td><td>201907</td><td>449.70</td><td>301.04</td><td>390.24</td><td>427.41</td><td>293.61</td></tr>",
                            "<tr><td>COMERCIAL 116</td><td>201908</td><td>376.71</td><td>308.54</td><td>437.70</td><td>423.34</td><td>315.71</td></tr>",
                            "<tr><td>COMERCIAL 116</td><td>201909</td><td>296.23</td><td>430.88</td><td>342.39</td><td>350.09</td><td>442.42</td></tr>",
                            "<tr><td>COMERCIAL 116</td><td>201910</td><td>338.89</td><td>460.74</td><td>323.66</td><td>285.58</td><td>453.12</td></tr>",
                            "<tr><td>COMERCIAL 116</td><td>201911</td><td>331.37</td><td>414.22</td><td>323.48</td><td>366.88</td><td>426.05</td></tr>",
                            "<tr><td>COMERCIAL 116</td><td>201912</td><td>303.55</td><td>455.32</td><td>340.56</td><td>299.84</td><td>462.72</td></tr>",
                            "<tr><td>COMERCIAL 116</td><td>202001</td><td>347.93</td><td>454.99</td><td>317.34</td><td>294.40</td><td>447.34</td></tr>",
                            "<tr><td>COMERCIAL 116</td><td>202002</td><td>324.68</td><td>418.56</td><td>324.68</td><td>367.71</td><td>426.38</td></tr>",
                            "<tr><td>COMERCIAL 116</td><td>202003</td><td>433.72</td><td>280.42</td><td>411.29</td><td>452.41</td><td>284.16</td></tr>",
                            "<tr><td>COMERCIAL 116</td><td>202004</td><td>354.10</td><td>433.67</td><td>302.38</td><td>346.14</td><td>425.71</td></tr>",
                            "<tr><td>COMERCIAL 121</td><td>201904</td><td>256.16</td><td>195.89</td><td>247.55</td><td>226.02</td><td>191.58</td></tr>",
                            "<tr><td>COMERCIAL 121</td><td>201905</td><td>256.96</td><td>167.58</td><td>248.02</td><td>272.60</td><td>172.05</td></tr>",
                            "<tr><td>COMERCIAL 121</td><td>201906</td><td>234.76</td><td>194.93</td><td>255.72</td><td>232.66</td><td>199.13</td></tr>",
                            "<tr><td>COMERCIAL 121</td><td>201907</td><td>269.82</td><td>180.63</td><td>234.14</td><td>256.44</td><td>176.17</td></tr>",
                            "<tr><td>COMERCIAL 121</td><td>201908</td><td>226.02</td><td>185.12</td><td>262.62</td><td>254.01</td><td>189.43</td></tr>",
                            "<tr><td>COMERCIAL 121</td><td>201909</td><td>177.74</td><td>258.53</td><td>205.44</td><td>210.05</td><td>265.45</td></tr>",
                            "<tr><td>COMERCIAL 121</td><td>201910</td><td>203.33</td><td>276.44</td><td>194.20</td><td>171.35</td><td>271.87</td></tr>",
                            "<tr><td>COMERCIAL 121</td><td>201911</td><td>198.82</td><td>248.53</td><td>194.09</td><td>220.13</td><td>255.63</td></tr>",
                            "<tr><td>COMERCIAL 121</td><td>201912</td><td>182.13</td><td>273.19</td><td>204.34</td><td>179.91</td><td>277.63</td></tr>",
                            "<tr><td>COMERCIAL 121</td><td>202001</td><td>208.76</td><td>272.99</td><td>190.41</td><td>176.64</td><td>268.40</td></tr>",
                            "<tr><td>COMERCIAL 121</td><td>202002</td><td>194.81</td><td>251.14</td><td>194.81</td><td>220.62</td><td>255.83</td></tr>",
                            "<tr><td>COMERCIAL 121</td><td>202003</td><td>260.23</td><td>168.25</td><td>246.77</td><td>271.45</td><td>170.50</td></tr>",
                            "<tr><td>COMERCIAL 121</td><td>202004</td><td>212.46</td><td>260.20</td><td>181.43</td><td>207.68</td><td>255.43</td></tr>",
                            "<tr><td>COMERCIAL 129</td><td>201904</td><td>274.46</td><td>209.88</td><td>265.23</td><td>242.17</td><td>205.27</td></tr>",
                            "<tr><td>COMERCIAL 129</td><td>201905</td><td>275.31</td><td>179.55</td><td>265.73</td><td>292.07</td><td>184.34</td></tr>",
                            "<tr><td>COMERCIAL 129</td><td>201906</td><td>251.53</td><td>208.86</td><td>273.98</td><td>249.28</td><td>213.35</td></tr>",
                            "<tr><td>COMERCIAL 129</td><td>201907</td><td>289.10</td><td>193.53</td><td>250.87</td><td>274.76</td><td>188.75</td></tr>",
                            "<tr><td>COMERCIAL 129</td><td>201908</td><td>242.17</td><td>198.35</td><td>281.38</td><td>272.15</td><td>202.96</td></tr>",
                            "<tr><td>COMERCIAL 129</td><td>201909</td><td>190.43</td><td>276.99</td><td>220.11</td><td>225.06</td><td>284.41</td></tr>",
                            "<tr><td>COMERCIAL 129</td><td>201910</td><td>217.86</td><td>296.19</td><td>208.07</td><td>183.59</td><td>291.29</td></tr>",
                            "<tr><td>COMERCIAL 129</td><td>201911</td><td>213.03</td><td>266.28</td><td>207.95</td><td>235.85</td><td>273.89</td></tr>",
                            "<tr><td>COMERCIAL 129</td><td>201912</td><td>195.14</td><td>292.71</td><td>218.93</td><td>192.76</td><td>297.47</td></tr>",
                            "<tr><td>COMERCIAL 129</td><td>202001</td><td>223.67</td><td>292.49</td><td>204.01</td><td>189.26</td><td>287.57</td></tr>",
                            "<tr><td>COMERCIAL 129</td><td>202002</td><td>208.72</td><td>269.07</td><td>208.72</td><td>236.38</td><td>274.10</td></tr>",
                            "<tr><td>COMERCIAL 129</td><td>202003</td><td>278.82</td><td>180.27</td><td>264.40</td><td>290.84</td><td>182.67</td></tr>",
                            "<tr><td>COMERCIAL 129</td><td>202004</td><td>227.63</td><td>278.79</td><td>194.38</td><td>222.52</td><td>273.67</td></tr>",
                            "<tr><td>COMERCIAL 135</td><td>201904</td><td>274.46</td><td>209.88</td><td>265.23</td><td>242.17</td><td>205.27</td></tr>",
                            "<tr><td>COMERCIAL 135</td><td>201905</td><td>275.31</td><td>179.55</td><td>265.73</td><td>292.07</td><td>184.34</td></tr>",
                            "<tr><td>COMERCIAL 135</td><td>201906</td><td>251.53</td><td>208.86</td><td>273.98</td><td>249.28</td><td>213.35</td></tr>",
                            "<tr><td>COMERCIAL 135</td><td>201907</td><td>289.10</td><td>193.53</td><td>250.87</td><td>274.76</td><td>188.75</td></tr>",
                            "<tr><td>COMERCIAL 135</td><td>201908</td><td>242.17</td><td>198.35</td><td>281.38</td><td>272.15</td><td>202.96</td></tr>",
                            "<tr><td>COMERCIAL 135</td><td>201909</td><td>190.43</td><td>276.99</td><td>220.11</td><td>225.06</td><td>284.41</td></tr>",
                            "<tr><td>COMERCIAL 135</td><td>201910</td><td>217.86</td><td>296.19</td><td>208.07</td><td>183.59</td><td>291.29</td></tr>",
                            "<tr><td>COMERCIAL 135</td><td>201911</td><td>213.03</td><td>266.28</td><td>207.95</td><td>235.85</td><td>273.89</td></tr>",
                            "<tr><td>COMERCIAL 135</td><td>201912</td><td>195.14</td><td>292.71</td><td>218.93</td><td>192.76</td><td>297.47</td></tr>",
                            "<tr><td>COMERCIAL 135</td><td>202001</td><td>223.67</td><td>292.49</td><td>204.01</td><td>189.26</td><td>287.57</td></tr>",
                            "<tr><td>COMERCIAL 135</td><td>202002</td><td>208.72</td><td>269.07</td><td>208.72</td><td>236.38</td><td>274.10</td></tr>",
                            "<tr><td>COMERCIAL 135</td><td>202003</td><td>278.82</td><td>180.27</td><td>264.40</td><td>290.84</td><td>182.67</td></tr>",
                            "<tr><td>COMERCIAL 135</td><td>202004</td><td>227.63</td><td>278.79</td><td>194.38</td><td>222.52</td><td>273.67</td></tr>",
                            "<tr><td>COMERCIAL 137</td><td>201904</td><td>298.85</td><td>228.53</td><td>288.81</td><td>263.69</td><td>223.51</td></tr>",
                            "<tr><td>COMERCIAL 137</td><td>201905</td><td>299.78</td><td>195.51</td><td>289.35</td><td>318.03</td><td>200.72</td></tr>",
                            "<tr><td>COMERCIAL 137</td><td>201906</td><td>273.89</td><td>227.42</td><td>298.34</td><td>271.44</td><td>232.31</td></tr>",
                            "<tr><td>COMERCIAL 137</td><td>201907</td><td>314.79</td><td>210.73</td><td>273.17</td><td>299.18</td><td>205.53</td></tr>",
                            "<tr><td>COMERCIAL 137</td><td>201908</td><td>263.69</td><td>215.98</td><td>306.39</td><td>296.34</td><td>221.00</td></tr>",
                            "<tr><td>COMERCIAL 137</td><td>201909</td><td>207.36</td><td>301.61</td><td>239.67</td><td>245.06</td><td>309.69</td></tr>",
                            "<tr><td>COMERCIAL 137</td><td>201910</td><td>237.22</td><td>322.52</td><td>226.56</td><td>199.91</td><td>317.19</td></tr>",
                            "<tr><td>COMERCIAL 137</td><td>201911</td><td>231.96</td><td>289.95</td><td>226.44</td><td>256.81</td><td>298.24</td></tr>",
                            "<tr><td>COMERCIAL 137</td><td>201912</td><td>212.48</td><td>318.72</td><td>238.40</td><td>209.89</td><td>323.91</td></tr>",
                            "<tr><td>COMERCIAL 137</td><td>202001</td><td>243.55</td><td>318.49</td><td>222.14</td><td>206.08</td><td>313.14</td></tr>",
                            "<tr><td>COMERCIAL 137</td><td>202002</td><td>227.27</td><td>292.99</td><td>227.27</td><td>257.39</td><td>298.47</td></tr>",
                            "<tr><td>COMERCIAL 137</td><td>202003</td><td>303.60</td><td>196.30</td><td>287.90</td><td>316.69</td><td>198.91</td></tr>",
                            "<tr><td>COMERCIAL 137</td><td>202004</td><td>247.87</td><td>303.57</td><td>211.66</td><td>242.30</td><td>298.00</td></tr>",
                            "</table>"
                        ]
                    }
                }
            ],
            "execution_count": 4
        },
        {
            "cell_type": "code",
            "source": [
                "SELECT TOP 10 * FROM NSLDINA.DBO.DIM_COMERCIAL"
            ],
            "metadata": {
                "azdata_cell_guid": "c9b5be39-0117-4dca-9df4-68e972f55622"
            },
            "outputs": [
                {
                    "output_type": "display_data",
                    "data": {
                        "text/html": "(6 rows affected)"
                    },
                    "metadata": {}
                },
                {
                    "output_type": "display_data",
                    "data": {
                        "text/html": "Total execution time: 00:00:00.093"
                    },
                    "metadata": {}
                },
                {
                    "output_type": "execute_result",
                    "metadata": {},
                    "execution_count": 5,
                    "data": {
                        "application/vnd.dataresource+json": {
                            "schema": {
                                "fields": [
                                    {
                                        "name": "POSICIONABLE_ID"
                                    },
                                    {
                                        "name": "COMERCIAL_ID"
                                    },
                                    {
                                        "name": "SALARIO_BASE"
                                    },
                                    {
                                        "name": "COMISION_CLIENTE"
                                    }
                                ]
                            },
                            "data": [
                                {
                                    "0": "115",
                                    "1": "COMERCIAL 115",
                                    "2": "900",
                                    "3": "12"
                                },
                                {
                                    "0": "116",
                                    "1": "COMERCIAL 116",
                                    "2": "1400",
                                    "3": "0"
                                },
                                {
                                    "0": "121",
                                    "1": "COMERCIAL 121",
                                    "2": "840",
                                    "3": "16"
                                },
                                {
                                    "0": "129",
                                    "1": "COMERCIAL 129",
                                    "2": "900",
                                    "3": "12"
                                },
                                {
                                    "0": "135",
                                    "1": "COMERCIAL 135",
                                    "2": "900",
                                    "3": "12"
                                },
                                {
                                    "0": "137",
                                    "1": "COMERCIAL 137",
                                    "2": "980",
                                    "3": "10"
                                }
                            ]
                        },
                        "text/html": [
                            "<table>",
                            "<tr><th>POSICIONABLE_ID</th><th>COMERCIAL_ID</th><th>SALARIO_BASE</th><th>COMISION_CLIENTE</th></tr>",
                            "<tr><td>115</td><td>COMERCIAL 115</td><td>900</td><td>12</td></tr>",
                            "<tr><td>116</td><td>COMERCIAL 116</td><td>1400</td><td>0</td></tr>",
                            "<tr><td>121</td><td>COMERCIAL 121</td><td>840</td><td>16</td></tr>",
                            "<tr><td>129</td><td>COMERCIAL 129</td><td>900</td><td>12</td></tr>",
                            "<tr><td>135</td><td>COMERCIAL 135</td><td>900</td><td>12</td></tr>",
                            "<tr><td>137</td><td>COMERCIAL 137</td><td>980</td><td>10</td></tr>",
                            "</table>"
                        ]
                    }
                }
            ],
            "execution_count": 5
        },
        {
            "cell_type": "code",
            "source": [
                "SELECT POSICIONABLE_ID,\r\n",
                "       COMERCIAL_ID,\r\n",
                "       CONCEPTO,\r\n",
                "       IMPORTE \r\n",
                "FROM NSLDINA.DBO.DIM_COMERCIAL\r\n",
                "\r\n",
                "UNPIVOT (\r\n",
                "    IMPORTE\r\n",
                "    FOR CONCEPTO IN (\r\n",
                "        SALARIO_BASE,\r\n",
                "        COMISION_CLIENTE\r\n",
                "    )\r\n",
                ") AS UNP;"
            ],
            "metadata": {
                "azdata_cell_guid": "0e111beb-609f-40a6-86b3-82fbdc72e91e"
            },
            "outputs": [
                {
                    "output_type": "display_data",
                    "data": {
                        "text/html": "(12 rows affected)"
                    },
                    "metadata": {}
                },
                {
                    "output_type": "display_data",
                    "data": {
                        "text/html": "Total execution time: 00:00:00.087"
                    },
                    "metadata": {}
                },
                {
                    "output_type": "execute_result",
                    "metadata": {},
                    "execution_count": 6,
                    "data": {
                        "application/vnd.dataresource+json": {
                            "schema": {
                                "fields": [
                                    {
                                        "name": "POSICIONABLE_ID"
                                    },
                                    {
                                        "name": "COMERCIAL_ID"
                                    },
                                    {
                                        "name": "CONCEPTO"
                                    },
                                    {
                                        "name": "IMPORTE"
                                    }
                                ]
                            },
                            "data": [
                                {
                                    "0": "115",
                                    "1": "COMERCIAL 115",
                                    "2": "SALARIO_BASE",
                                    "3": "900"
                                },
                                {
                                    "0": "115",
                                    "1": "COMERCIAL 115",
                                    "2": "COMISION_CLIENTE",
                                    "3": "12"
                                },
                                {
                                    "0": "116",
                                    "1": "COMERCIAL 116",
                                    "2": "SALARIO_BASE",
                                    "3": "1400"
                                },
                                {
                                    "0": "116",
                                    "1": "COMERCIAL 116",
                                    "2": "COMISION_CLIENTE",
                                    "3": "0"
                                },
                                {
                                    "0": "121",
                                    "1": "COMERCIAL 121",
                                    "2": "SALARIO_BASE",
                                    "3": "840"
                                },
                                {
                                    "0": "121",
                                    "1": "COMERCIAL 121",
                                    "2": "COMISION_CLIENTE",
                                    "3": "16"
                                },
                                {
                                    "0": "129",
                                    "1": "COMERCIAL 129",
                                    "2": "SALARIO_BASE",
                                    "3": "900"
                                },
                                {
                                    "0": "129",
                                    "1": "COMERCIAL 129",
                                    "2": "COMISION_CLIENTE",
                                    "3": "12"
                                },
                                {
                                    "0": "135",
                                    "1": "COMERCIAL 135",
                                    "2": "SALARIO_BASE",
                                    "3": "900"
                                },
                                {
                                    "0": "135",
                                    "1": "COMERCIAL 135",
                                    "2": "COMISION_CLIENTE",
                                    "3": "12"
                                },
                                {
                                    "0": "137",
                                    "1": "COMERCIAL 137",
                                    "2": "SALARIO_BASE",
                                    "3": "980"
                                },
                                {
                                    "0": "137",
                                    "1": "COMERCIAL 137",
                                    "2": "COMISION_CLIENTE",
                                    "3": "10"
                                }
                            ]
                        },
                        "text/html": [
                            "<table>",
                            "<tr><th>POSICIONABLE_ID</th><th>COMERCIAL_ID</th><th>CONCEPTO</th><th>IMPORTE</th></tr>",
                            "<tr><td>115</td><td>COMERCIAL 115</td><td>SALARIO_BASE</td><td>900</td></tr>",
                            "<tr><td>115</td><td>COMERCIAL 115</td><td>COMISION_CLIENTE</td><td>12</td></tr>",
                            "<tr><td>116</td><td>COMERCIAL 116</td><td>SALARIO_BASE</td><td>1400</td></tr>",
                            "<tr><td>116</td><td>COMERCIAL 116</td><td>COMISION_CLIENTE</td><td>0</td></tr>",
                            "<tr><td>121</td><td>COMERCIAL 121</td><td>SALARIO_BASE</td><td>840</td></tr>",
                            "<tr><td>121</td><td>COMERCIAL 121</td><td>COMISION_CLIENTE</td><td>16</td></tr>",
                            "<tr><td>129</td><td>COMERCIAL 129</td><td>SALARIO_BASE</td><td>900</td></tr>",
                            "<tr><td>129</td><td>COMERCIAL 129</td><td>COMISION_CLIENTE</td><td>12</td></tr>",
                            "<tr><td>135</td><td>COMERCIAL 135</td><td>SALARIO_BASE</td><td>900</td></tr>",
                            "<tr><td>135</td><td>COMERCIAL 135</td><td>COMISION_CLIENTE</td><td>12</td></tr>",
                            "<tr><td>137</td><td>COMERCIAL 137</td><td>SALARIO_BASE</td><td>980</td></tr>",
                            "<tr><td>137</td><td>COMERCIAL 137</td><td>COMISION_CLIENTE</td><td>10</td></tr>",
                            "</table>"
                        ]
                    }
                }
            ],
            "execution_count": 6
        }
    ]
}