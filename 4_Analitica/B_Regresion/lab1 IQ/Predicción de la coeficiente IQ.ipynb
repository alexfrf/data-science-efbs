{
 "cells": [
  {
   "cell_type": "markdown",
   "metadata": {},
   "source": [
    "## Problema de Negocio"
   ]
  },
  {
   "cell_type": "markdown",
   "metadata": {},
   "source": [
    "Para el calculo del coficiente intelectual (IQ) de una persona, se realizan multiples test. El cansancio y la concentración en los mismos es clave para obtener un coeficiente correcto. \n",
    "\n",
    "Nuestro departamento debe crear un modelo de regressión que permita estimar el IQ en base a solo 5 test (frente a los diez del sistema anterior). Para ellos disponemos de una muestra con los test de 30 personas\n",
    "\n",
    "Se pide contruir modelos de regressión y mustrar su calidad de ajuste en una muestra de test del 20%"
   ]
  },
  {
   "cell_type": "markdown",
   "metadata": {},
   "source": [
    "*****"
   ]
  },
  {
   "cell_type": "markdown",
   "metadata": {},
   "source": [
    "Empezamos por importar los datos"
   ]
  },
  {
   "cell_type": "code",
   "execution_count": 1,
   "metadata": {},
   "outputs": [],
   "source": [
    "import pandas as pd\n",
    "import numpy as np\n",
    "df_IQ = pd.read_excel('IQ_data.xlsx')"
   ]
  },
  {
   "cell_type": "code",
   "execution_count": 2,
   "metadata": {},
   "outputs": [],
   "source": [
    "for i in list(df_IQ.columns):\n",
    "    if 'Unnamed' in i:\n",
    "        df.drop(i,inplace=True,axis=1)"
   ]
  },
  {
   "cell_type": "code",
   "execution_count": 3,
   "metadata": {
    "scrolled": true
   },
   "outputs": [
    {
     "data": {
      "text/html": [
       "<div>\n",
       "<style scoped>\n",
       "    .dataframe tbody tr th:only-of-type {\n",
       "        vertical-align: middle;\n",
       "    }\n",
       "\n",
       "    .dataframe tbody tr th {\n",
       "        vertical-align: top;\n",
       "    }\n",
       "\n",
       "    .dataframe thead th {\n",
       "        text-align: right;\n",
       "    }\n",
       "</style>\n",
       "<table border=\"1\" class=\"dataframe\">\n",
       "  <thead>\n",
       "    <tr style=\"text-align: right;\">\n",
       "      <th></th>\n",
       "      <th>IQ</th>\n",
       "      <th>Test 1</th>\n",
       "      <th>Test 2</th>\n",
       "      <th>Test 3</th>\n",
       "      <th>Test 4</th>\n",
       "      <th>Test 5</th>\n",
       "    </tr>\n",
       "  </thead>\n",
       "  <tbody>\n",
       "    <tr>\n",
       "      <th>0</th>\n",
       "      <td>107</td>\n",
       "      <td>84</td>\n",
       "      <td>35</td>\n",
       "      <td>66</td>\n",
       "      <td>64</td>\n",
       "      <td>65</td>\n",
       "    </tr>\n",
       "    <tr>\n",
       "      <th>1</th>\n",
       "      <td>93</td>\n",
       "      <td>74</td>\n",
       "      <td>20</td>\n",
       "      <td>74</td>\n",
       "      <td>49</td>\n",
       "      <td>83</td>\n",
       "    </tr>\n",
       "    <tr>\n",
       "      <th>2</th>\n",
       "      <td>103</td>\n",
       "      <td>55</td>\n",
       "      <td>82</td>\n",
       "      <td>83</td>\n",
       "      <td>66</td>\n",
       "      <td>74</td>\n",
       "    </tr>\n",
       "    <tr>\n",
       "      <th>3</th>\n",
       "      <td>122</td>\n",
       "      <td>97</td>\n",
       "      <td>73</td>\n",
       "      <td>92</td>\n",
       "      <td>89</td>\n",
       "      <td>95</td>\n",
       "    </tr>\n",
       "    <tr>\n",
       "      <th>4</th>\n",
       "      <td>103</td>\n",
       "      <td>85</td>\n",
       "      <td>54</td>\n",
       "      <td>73</td>\n",
       "      <td>69</td>\n",
       "      <td>83</td>\n",
       "    </tr>\n",
       "  </tbody>\n",
       "</table>\n",
       "</div>"
      ],
      "text/plain": [
       "    IQ  Test 1  Test 2  Test 3  Test 4  Test 5\n",
       "0  107      84      35      66      64      65\n",
       "1   93      74      20      74      49      83\n",
       "2  103      55      82      83      66      74\n",
       "3  122      97      73      92      89      95\n",
       "4  103      85      54      73      69      83"
      ]
     },
     "execution_count": 3,
     "metadata": {},
     "output_type": "execute_result"
    }
   ],
   "source": [
    "df_IQ.head()"
   ]
  },
  {
   "cell_type": "code",
   "execution_count": 4,
   "metadata": {},
   "outputs": [
    {
     "data": {
      "text/plain": [
       "30"
      ]
     },
     "execution_count": 4,
     "metadata": {},
     "output_type": "execute_result"
    }
   ],
   "source": [
    "df_IQ.shape[0]"
   ]
  },
  {
   "cell_type": "markdown",
   "metadata": {},
   "source": [
    "### Análisis Descriptivo y exploratorio"
   ]
  },
  {
   "cell_type": "markdown",
   "metadata": {},
   "source": [
    "Para entender mejor las variables y sus relaciones, realicemos un análisis exploratorio"
   ]
  },
  {
   "cell_type": "code",
   "execution_count": 5,
   "metadata": {},
   "outputs": [
    {
     "name": "stdout",
     "output_type": "stream",
     "text": [
      "<class 'pandas.core.frame.DataFrame'>\n",
      "RangeIndex: 30 entries, 0 to 29\n",
      "Data columns (total 6 columns):\n",
      " #   Column  Non-Null Count  Dtype\n",
      "---  ------  --------------  -----\n",
      " 0   IQ      30 non-null     int64\n",
      " 1   Test 1  30 non-null     int64\n",
      " 2   Test 2  30 non-null     int64\n",
      " 3   Test 3  30 non-null     int64\n",
      " 4   Test 4  30 non-null     int64\n",
      " 5   Test 5  30 non-null     int64\n",
      "dtypes: int64(6)\n",
      "memory usage: 1.5 KB\n"
     ]
    }
   ],
   "source": [
    "df_IQ.info()"
   ]
  },
  {
   "cell_type": "code",
   "execution_count": 6,
   "metadata": {},
   "outputs": [
    {
     "data": {
      "text/html": [
       "<div>\n",
       "<style scoped>\n",
       "    .dataframe tbody tr th:only-of-type {\n",
       "        vertical-align: middle;\n",
       "    }\n",
       "\n",
       "    .dataframe tbody tr th {\n",
       "        vertical-align: top;\n",
       "    }\n",
       "\n",
       "    .dataframe thead th {\n",
       "        text-align: right;\n",
       "    }\n",
       "</style>\n",
       "<table border=\"1\" class=\"dataframe\">\n",
       "  <thead>\n",
       "    <tr style=\"text-align: right;\">\n",
       "      <th></th>\n",
       "      <th>IQ</th>\n",
       "      <th>Test 1</th>\n",
       "      <th>Test 2</th>\n",
       "      <th>Test 3</th>\n",
       "      <th>Test 4</th>\n",
       "      <th>Test 5</th>\n",
       "    </tr>\n",
       "  </thead>\n",
       "  <tbody>\n",
       "    <tr>\n",
       "      <th>IQ</th>\n",
       "      <td>1.000000</td>\n",
       "      <td>0.508567</td>\n",
       "      <td>0.074087</td>\n",
       "      <td>-0.392851</td>\n",
       "      <td>0.508041</td>\n",
       "      <td>-0.233539</td>\n",
       "    </tr>\n",
       "    <tr>\n",
       "      <th>Test 1</th>\n",
       "      <td>0.508567</td>\n",
       "      <td>1.000000</td>\n",
       "      <td>0.090671</td>\n",
       "      <td>-0.240008</td>\n",
       "      <td>0.754264</td>\n",
       "      <td>0.028781</td>\n",
       "    </tr>\n",
       "    <tr>\n",
       "      <th>Test 2</th>\n",
       "      <td>0.074087</td>\n",
       "      <td>0.090671</td>\n",
       "      <td>1.000000</td>\n",
       "      <td>0.204556</td>\n",
       "      <td>0.617003</td>\n",
       "      <td>-0.053904</td>\n",
       "    </tr>\n",
       "    <tr>\n",
       "      <th>Test 3</th>\n",
       "      <td>-0.392851</td>\n",
       "      <td>-0.240008</td>\n",
       "      <td>0.204556</td>\n",
       "      <td>1.000000</td>\n",
       "      <td>-0.112302</td>\n",
       "      <td>0.358853</td>\n",
       "    </tr>\n",
       "    <tr>\n",
       "      <th>Test 4</th>\n",
       "      <td>0.508041</td>\n",
       "      <td>0.754264</td>\n",
       "      <td>0.617003</td>\n",
       "      <td>-0.112302</td>\n",
       "      <td>1.000000</td>\n",
       "      <td>-0.144210</td>\n",
       "    </tr>\n",
       "    <tr>\n",
       "      <th>Test 5</th>\n",
       "      <td>-0.233539</td>\n",
       "      <td>0.028781</td>\n",
       "      <td>-0.053904</td>\n",
       "      <td>0.358853</td>\n",
       "      <td>-0.144210</td>\n",
       "      <td>1.000000</td>\n",
       "    </tr>\n",
       "  </tbody>\n",
       "</table>\n",
       "</div>"
      ],
      "text/plain": [
       "              IQ    Test 1    Test 2    Test 3    Test 4    Test 5\n",
       "IQ      1.000000  0.508567  0.074087 -0.392851  0.508041 -0.233539\n",
       "Test 1  0.508567  1.000000  0.090671 -0.240008  0.754264  0.028781\n",
       "Test 2  0.074087  0.090671  1.000000  0.204556  0.617003 -0.053904\n",
       "Test 3 -0.392851 -0.240008  0.204556  1.000000 -0.112302  0.358853\n",
       "Test 4  0.508041  0.754264  0.617003 -0.112302  1.000000 -0.144210\n",
       "Test 5 -0.233539  0.028781 -0.053904  0.358853 -0.144210  1.000000"
      ]
     },
     "execution_count": 6,
     "metadata": {},
     "output_type": "execute_result"
    }
   ],
   "source": [
    "# correlation\n",
    "import seaborn as sns\n",
    "correlations = df_IQ.corr()\n",
    "\n",
    "correlations"
   ]
  },
  {
   "cell_type": "code",
   "execution_count": 7,
   "metadata": {},
   "outputs": [
    {
     "data": {
      "text/plain": [
       "<AxesSubplot:>"
      ]
     },
     "execution_count": 7,
     "metadata": {},
     "output_type": "execute_result"
    },
    {
     "data": {
      "image/png": "[encoded data removed]",
      "text/plain": [
       "<Figure size 432x288 with 2 Axes>"
      ]
     },
     "metadata": {
      "needs_background": "light"
     },
     "output_type": "display_data"
    }
   ],
   "source": [
    "sns.heatmap(correlations, vmin=-1, vmax=1, cmap=\"Blues\")"
   ]
  },
  {
   "cell_type": "code",
   "execution_count": 8,
   "metadata": {},
   "outputs": [
    {
     "name": "stdout",
     "output_type": "stream",
     "text": [
      "0.7542637455729184\n",
      "0.5085667021566543\n",
      "0.6170027797757694\n"
     ]
    }
   ],
   "source": [
    "print(correlations.loc['Test 1','Test 4'])\n",
    "print(correlations.loc['IQ','Test 1'])\n",
    "print(correlations.loc['Test 2','Test 4'])"
   ]
  },
  {
   "cell_type": "markdown",
   "metadata": {},
   "source": [
    "**Nota**: Las variables Test1, test2 y test4 pueden presentar problemas de colinearidad"
   ]
  },
  {
   "cell_type": "code",
   "execution_count": 9,
   "metadata": {},
   "outputs": [
    {
     "data": {
      "text/plain": [
       "<seaborn.axisgrid.PairGrid at 0x242e3dccc40>"
      ]
     },
     "execution_count": 9,
     "metadata": {},
     "output_type": "execute_result"
    },
    {
     "data": {
      "image/png": "[encoded data removed]",
      "text/plain": [
       "<Figure size 1080x1080 with 42 Axes>"
      ]
     },
     "metadata": {
      "needs_background": "light"
     },
     "output_type": "display_data"
    }
   ],
   "source": [
    "sns.pairplot(df_IQ)"
   ]
  },
  {
   "cell_type": "markdown",
   "metadata": {},
   "source": [
    "CONCLUSIONES: \n",
    " * La variable respuesta no presenta distribución Normal, de hecho es multimodal. Posiblemente debamos eliminar los outliers\n",
    " * algunas variables explicativas (Test_1 y Test_4) presentan alta correlación. Una de ellas no será necesaria\n",
    "    \n",
    "    "
   ]
  },
  {
   "cell_type": "markdown",
   "metadata": {},
   "source": [
    "### Tratamiento de los Outliers"
   ]
  },
  {
   "cell_type": "markdown",
   "metadata": {},
   "source": [
    "### Modelo de Regresión Lineal Múltiple"
   ]
  },
  {
   "cell_type": "code",
   "execution_count": 10,
   "metadata": {},
   "outputs": [],
   "source": [
    "import statsmodels.api as sm "
   ]
  },
  {
   "cell_type": "markdown",
   "metadata": {},
   "source": [
    "Preparamos los datos:\n",
    " * Variables Independientes: *Test 1, Test 2, Test 3, Test 4, Test 5*\n",
    " * Variable Dependiente/Respuesta: IQ"
   ]
  },
  {
   "cell_type": "markdown",
   "metadata": {},
   "source": [
    "Empecemos usando todas las variables"
   ]
  },
  {
   "cell_type": "code",
   "execution_count": 58,
   "metadata": {},
   "outputs": [],
   "source": [
    "X = df_IQ[['Test 1', 'Test 2', 'Test 3', 'Test 4', 'Test 5']]\n",
    "Y = df_IQ['IQ']"
   ]
  },
  {
   "cell_type": "code",
   "execution_count": 59,
   "metadata": {
    "scrolled": false
   },
   "outputs": [
    {
     "data": {
      "text/html": [
       "<table class=\"simpletable\">\n",
       "<caption>OLS Regression Results</caption>\n",
       "<tr>\n",
       "  <th>Dep. Variable:</th>           <td>IQ</td>        <th>  R-squared:         </th> <td>   0.416</td>\n",
       "</tr>\n",
       "<tr>\n",
       "  <th>Model:</th>                   <td>OLS</td>       <th>  Adj. R-squared:    </th> <td>   0.294</td>\n",
       "</tr>\n",
       "<tr>\n",
       "  <th>Method:</th>             <td>Least Squares</td>  <th>  F-statistic:       </th> <td>   3.420</td>\n",
       "</tr>\n",
       "<tr>\n",
       "  <th>Date:</th>             <td>Wed, 06 Apr 2022</td> <th>  Prob (F-statistic):</th>  <td>0.0179</td> \n",
       "</tr>\n",
       "<tr>\n",
       "  <th>Time:</th>                 <td>20:19:56</td>     <th>  Log-Likelihood:    </th> <td> -131.36</td>\n",
       "</tr>\n",
       "<tr>\n",
       "  <th>No. Observations:</th>      <td>    30</td>      <th>  AIC:               </th> <td>   274.7</td>\n",
       "</tr>\n",
       "<tr>\n",
       "  <th>Df Residuals:</th>          <td>    24</td>      <th>  BIC:               </th> <td>   283.1</td>\n",
       "</tr>\n",
       "<tr>\n",
       "  <th>Df Model:</th>              <td>     5</td>      <th>                     </th>     <td> </td>   \n",
       "</tr>\n",
       "<tr>\n",
       "  <th>Covariance Type:</th>      <td>nonrobust</td>    <th>                     </th>     <td> </td>   \n",
       "</tr>\n",
       "</table>\n",
       "<table class=\"simpletable\">\n",
       "<tr>\n",
       "     <td></td>       <th>coef</th>     <th>std err</th>      <th>t</th>      <th>P>|t|</th>  <th>[0.025</th>    <th>0.975]</th>  \n",
       "</tr>\n",
       "<tr>\n",
       "  <th>const</th>  <td>   75.5185</td> <td>   33.275</td> <td>    2.270</td> <td> 0.033</td> <td>    6.843</td> <td>  144.194</td>\n",
       "</tr>\n",
       "<tr>\n",
       "  <th>Test 1</th> <td>   -0.0495</td> <td>    0.554</td> <td>   -0.089</td> <td> 0.930</td> <td>   -1.194</td> <td>    1.095</td>\n",
       "</tr>\n",
       "<tr>\n",
       "  <th>Test 2</th> <td>   -0.3442</td> <td>    0.355</td> <td>   -0.971</td> <td> 0.341</td> <td>   -1.076</td> <td>    0.388</td>\n",
       "</tr>\n",
       "<tr>\n",
       "  <th>Test 3</th> <td>   -0.4229</td> <td>    0.317</td> <td>   -1.334</td> <td> 0.195</td> <td>   -1.077</td> <td>    0.231</td>\n",
       "</tr>\n",
       "<tr>\n",
       "  <th>Test 4</th> <td>    1.2706</td> <td>    0.882</td> <td>    1.441</td> <td> 0.162</td> <td>   -0.549</td> <td>    3.090</td>\n",
       "</tr>\n",
       "<tr>\n",
       "  <th>Test 5</th> <td>   -0.1029</td> <td>    0.292</td> <td>   -0.353</td> <td> 0.727</td> <td>   -0.705</td> <td>    0.499</td>\n",
       "</tr>\n",
       "</table>\n",
       "<table class=\"simpletable\">\n",
       "<tr>\n",
       "  <th>Omnibus:</th>       <td>13.240</td> <th>  Durbin-Watson:     </th> <td>   2.684</td>\n",
       "</tr>\n",
       "<tr>\n",
       "  <th>Prob(Omnibus):</th> <td> 0.001</td> <th>  Jarque-Bera (JB):  </th> <td>  13.706</td>\n",
       "</tr>\n",
       "<tr>\n",
       "  <th>Skew:</th>          <td>-1.235</td> <th>  Prob(JB):          </th> <td> 0.00106</td>\n",
       "</tr>\n",
       "<tr>\n",
       "  <th>Kurtosis:</th>      <td> 5.205</td> <th>  Cond. No.          </th> <td>1.26e+03</td>\n",
       "</tr>\n",
       "</table><br/><br/>Notes:<br/>[1] Standard Errors assume that the covariance matrix of the errors is correctly specified.<br/>[2] The condition number is large, 1.26e+03. This might indicate that there are<br/>strong multicollinearity or other numerical problems."
      ],
      "text/plain": [
       "<class 'statsmodels.iolib.summary.Summary'>\n",
       "\"\"\"\n",
       "                            OLS Regression Results                            \n",
       "==============================================================================\n",
       "Dep. Variable:                     IQ   R-squared:                       0.416\n",
       "Model:                            OLS   Adj. R-squared:                  0.294\n",
       "Method:                 Least Squares   F-statistic:                     3.420\n",
       "Date:                Wed, 06 Apr 2022   Prob (F-statistic):             0.0179\n",
       "Time:                        20:19:56   Log-Likelihood:                -131.36\n",
       "No. Observations:                  30   AIC:                             274.7\n",
       "Df Residuals:                      24   BIC:                             283.1\n",
       "Df Model:                           5                                         \n",
       "Covariance Type:            nonrobust                                         \n",
       "==============================================================================\n",
       "                 coef    std err          t      P>|t|      [0.025      0.975]\n",
       "------------------------------------------------------------------------------\n",
       "const         75.5185     33.275      2.270      0.033       6.843     144.194\n",
       "Test 1        -0.0495      0.554     -0.089      0.930      -1.194       1.095\n",
       "Test 2        -0.3442      0.355     -0.971      0.341      -1.076       0.388\n",
       "Test 3        -0.4229      0.317     -1.334      0.195      -1.077       0.231\n",
       "Test 4         1.2706      0.882      1.441      0.162      -0.549       3.090\n",
       "Test 5        -0.1029      0.292     -0.353      0.727      -0.705       0.499\n",
       "==============================================================================\n",
       "Omnibus:                       13.240   Durbin-Watson:                   2.684\n",
       "Prob(Omnibus):                  0.001   Jarque-Bera (JB):               13.706\n",
       "Skew:                          -1.235   Prob(JB):                      0.00106\n",
       "Kurtosis:                       5.205   Cond. No.                     1.26e+03\n",
       "==============================================================================\n",
       "\n",
       "Notes:\n",
       "[1] Standard Errors assume that the covariance matrix of the errors is correctly specified.\n",
       "[2] The condition number is large, 1.26e+03. This might indicate that there are\n",
       "strong multicollinearity or other numerical problems.\n",
       "\"\"\""
      ]
     },
     "execution_count": 59,
     "metadata": {},
     "output_type": "execute_result"
    }
   ],
   "source": [
    "X1 = sm.add_constant(X) # Se crea una columna de constantes (línea Intercept)\n",
    "reg = sm.OLS(Y, X1).fit()\n",
    "\n",
    "reg.summary()"
   ]
  },
  {
   "cell_type": "markdown",
   "metadata": {},
   "source": [
    "### Interpretación del modelo\n",
    "\n",
    "- La columna **\"COEF\"** determina la significación de cada variable. Si el guarismo es muy próximo a 0 esa variable no será representativa y podremos eliminarla, pues no aporta al modelo\n",
    "\n",
    "- La columna P(t) nos muestra el PValor(la posibilidad de que una variable sea =0). Si es próximo a 1, será muy probable que dicha variable esté cercana a 0 y no aporte nada. Tenemos que fijarnos en aquellos que tengan un valor muy alto. El intervalo de confianza nos indica en qué valores, con un 95% de confianza, se moverá la variable basándonos en su coef y su std err.\n",
    "\n",
    "**Bondad del ajuste**\n",
    "\n",
    "- Existen varios criterios, desde los mas básicos (ECM o RECM) a R2 y R2 Ajustado, pasando por AIC y BIC. Para sacar los residuos con statsmodels, hacemos *reg.resid*. El problema de los R2 es que a más variables X mejor R2 cuando no tiene por qué ser así\n",
    "\n",
    "- Siempre queremos el error mas pequeño. AIC y BIC son funciones del error, así que siempre nos quedaremos con el valor mas pequeño (incluso si fuera negativo)."
   ]
  },
  {
   "cell_type": "markdown",
   "metadata": {},
   "source": [
    "### Calcular Error Cuadrático Medio (Root)"
   ]
  },
  {
   "cell_type": "code",
   "execution_count": 60,
   "metadata": {},
   "outputs": [
    {
     "data": {
      "text/plain": [
       "0     0.971354\n",
       "1     5.607568\n",
       "2    17.288817\n",
       "3    12.013474\n",
       "4     2.020654\n",
       "dtype: float64"
      ]
     },
     "execution_count": 60,
     "metadata": {},
     "output_type": "execute_result"
    }
   ],
   "source": [
    "# Residuos\n",
    "\n",
    "reg.resid.head() # Y-ypred"
   ]
  },
  {
   "cell_type": "code",
   "execution_count": 61,
   "metadata": {},
   "outputs": [
    {
     "data": {
      "text/plain": [
       "19.2908707291574"
      ]
     },
     "execution_count": 61,
     "metadata": {},
     "output_type": "execute_result"
    }
   ],
   "source": [
    "from statsmodels.tools.eval_measures import rmse\n",
    "\n",
    "# fit your model which you have already done\n",
    "\n",
    "# now generate predictions\n",
    "ypred = reg.predict(X1)\n",
    "rmse = rmse(Y, ypred)\n",
    "rmse"
   ]
  },
  {
   "cell_type": "code",
   "execution_count": 62,
   "metadata": {},
   "outputs": [
    {
     "data": {
      "text/plain": [
       "19.2908707291574"
      ]
     },
     "execution_count": 62,
     "metadata": {},
     "output_type": "execute_result"
    }
   ],
   "source": [
    "# Formula\n",
    "(np.sqrt((reg.resid**2).sum()/reg.resid.shape[0]))"
   ]
  },
  {
   "cell_type": "code",
   "execution_count": 63,
   "metadata": {},
   "outputs": [
    {
     "data": {
      "text/plain": [
       "372.13769348906186"
      ]
     },
     "execution_count": 63,
     "metadata": {},
     "output_type": "execute_result"
    }
   ],
   "source": [
    "ecm = (reg.resid**2).sum()/reg.resid.shape[0]\n",
    "ecm"
   ]
  },
  {
   "cell_type": "code",
   "execution_count": 64,
   "metadata": {},
   "outputs": [
    {
     "data": {
      "text/plain": [
       "[0.3308304667856461,\n",
       " 0.3962732096420204,\n",
       " 0.9435291505647304,\n",
       " 2.6389300109841622,\n",
       " 4.08304270499439,\n",
       " 6.611947770070223,\n",
       " 9.070550748128621,\n",
       " 10.402785983653223,\n",
       " 18.274276847088757,\n",
       " 26.699991637885542,\n",
       " 31.444820807944783,\n",
       " 37.875394514531315,\n",
       " 46.0170472513494,\n",
       " 57.60641375577445,\n",
       " 76.56480183810437,\n",
       " 87.97350593241138,\n",
       " 88.69197383157578,\n",
       " 103.74892418565021,\n",
       " 144.32356465925068,\n",
       " 215.88378891803632,\n",
       " 274.69342786797023,\n",
       " 298.9031936581809,\n",
       " 352.59512782375475,\n",
       " 360.0204645836222,\n",
       " 367.47780236474745,\n",
       " 456.82005683983147,\n",
       " 895.9951343256067,\n",
       " 1058.136523246143,\n",
       " 2921.2822970348852,\n",
       " 3208.624382702685]"
      ]
     },
     "execution_count": 64,
     "metadata": {},
     "output_type": "execute_result"
    }
   ],
   "source": [
    "sorted(reg.resid**2)"
   ]
  },
  {
   "cell_type": "markdown",
   "metadata": {},
   "source": [
    "**Este primer modelo no es bueno. Todas las variables explicativas presentan p-values altos. Vamos a prescindir de la variable con peor p_value: Test_1**"
   ]
  },
  {
   "cell_type": "code",
   "execution_count": 18,
   "metadata": {},
   "outputs": [
    {
     "data": {
      "text/html": [
       "<table class=\"simpletable\">\n",
       "<caption>OLS Regression Results</caption>\n",
       "<tr>\n",
       "  <th>Dep. Variable:</th>           <td>IQ</td>        <th>  R-squared:         </th> <td>   0.416</td>\n",
       "</tr>\n",
       "<tr>\n",
       "  <th>Model:</th>                   <td>OLS</td>       <th>  Adj. R-squared:    </th> <td>   0.322</td>\n",
       "</tr>\n",
       "<tr>\n",
       "  <th>Method:</th>             <td>Least Squares</td>  <th>  F-statistic:       </th> <td>   4.450</td>\n",
       "</tr>\n",
       "<tr>\n",
       "  <th>Date:</th>             <td>Wed, 06 Apr 2022</td> <th>  Prob (F-statistic):</th>  <td>0.00748</td>\n",
       "</tr>\n",
       "<tr>\n",
       "  <th>Time:</th>                 <td>20:12:41</td>     <th>  Log-Likelihood:    </th> <td> -131.36</td>\n",
       "</tr>\n",
       "<tr>\n",
       "  <th>No. Observations:</th>      <td>    30</td>      <th>  AIC:               </th> <td>   272.7</td>\n",
       "</tr>\n",
       "<tr>\n",
       "  <th>Df Residuals:</th>          <td>    25</td>      <th>  BIC:               </th> <td>   279.7</td>\n",
       "</tr>\n",
       "<tr>\n",
       "  <th>Df Model:</th>              <td>     4</td>      <th>                     </th>     <td> </td>   \n",
       "</tr>\n",
       "<tr>\n",
       "  <th>Covariance Type:</th>      <td>nonrobust</td>    <th>                     </th>     <td> </td>   \n",
       "</tr>\n",
       "</table>\n",
       "<table class=\"simpletable\">\n",
       "<tr>\n",
       "     <td></td>       <th>coef</th>     <th>std err</th>      <th>t</th>      <th>P>|t|</th>  <th>[0.025</th>    <th>0.975]</th>  \n",
       "</tr>\n",
       "<tr>\n",
       "  <th>const</th>  <td>   75.8549</td> <td>   32.398</td> <td>    2.341</td> <td> 0.027</td> <td>    9.130</td> <td>  142.580</td>\n",
       "</tr>\n",
       "<tr>\n",
       "  <th>Test 2</th> <td>   -0.3215</td> <td>    0.242</td> <td>   -1.330</td> <td> 0.195</td> <td>   -0.819</td> <td>    0.176</td>\n",
       "</tr>\n",
       "<tr>\n",
       "  <th>Test 3</th> <td>   -0.4196</td> <td>    0.309</td> <td>   -1.360</td> <td> 0.186</td> <td>   -1.055</td> <td>    0.216</td>\n",
       "</tr>\n",
       "<tr>\n",
       "  <th>Test 4</th> <td>    1.2000</td> <td>    0.382</td> <td>    3.141</td> <td> 0.004</td> <td>    0.413</td> <td>    1.987</td>\n",
       "</tr>\n",
       "<tr>\n",
       "  <th>Test 5</th> <td>   -0.1125</td> <td>    0.265</td> <td>   -0.424</td> <td> 0.675</td> <td>   -0.659</td> <td>    0.434</td>\n",
       "</tr>\n",
       "</table>\n",
       "<table class=\"simpletable\">\n",
       "<tr>\n",
       "  <th>Omnibus:</th>       <td>12.831</td> <th>  Durbin-Watson:     </th> <td>   2.687</td>\n",
       "</tr>\n",
       "<tr>\n",
       "  <th>Prob(Omnibus):</th> <td> 0.002</td> <th>  Jarque-Bera (JB):  </th> <td>  13.028</td>\n",
       "</tr>\n",
       "<tr>\n",
       "  <th>Skew:</th>          <td>-1.211</td> <th>  Prob(JB):          </th> <td> 0.00148</td>\n",
       "</tr>\n",
       "<tr>\n",
       "  <th>Kurtosis:</th>      <td> 5.135</td> <th>  Cond. No.          </th> <td>1.12e+03</td>\n",
       "</tr>\n",
       "</table><br/><br/>Notes:<br/>[1] Standard Errors assume that the covariance matrix of the errors is correctly specified.<br/>[2] The condition number is large, 1.12e+03. This might indicate that there are<br/>strong multicollinearity or other numerical problems."
      ],
      "text/plain": [
       "<class 'statsmodels.iolib.summary.Summary'>\n",
       "\"\"\"\n",
       "                            OLS Regression Results                            \n",
       "==============================================================================\n",
       "Dep. Variable:                     IQ   R-squared:                       0.416\n",
       "Model:                            OLS   Adj. R-squared:                  0.322\n",
       "Method:                 Least Squares   F-statistic:                     4.450\n",
       "Date:                Wed, 06 Apr 2022   Prob (F-statistic):            0.00748\n",
       "Time:                        20:12:41   Log-Likelihood:                -131.36\n",
       "No. Observations:                  30   AIC:                             272.7\n",
       "Df Residuals:                      25   BIC:                             279.7\n",
       "Df Model:                           4                                         \n",
       "Covariance Type:            nonrobust                                         \n",
       "==============================================================================\n",
       "                 coef    std err          t      P>|t|      [0.025      0.975]\n",
       "------------------------------------------------------------------------------\n",
       "const         75.8549     32.398      2.341      0.027       9.130     142.580\n",
       "Test 2        -0.3215      0.242     -1.330      0.195      -0.819       0.176\n",
       "Test 3        -0.4196      0.309     -1.360      0.186      -1.055       0.216\n",
       "Test 4         1.2000      0.382      3.141      0.004       0.413       1.987\n",
       "Test 5        -0.1125      0.265     -0.424      0.675      -0.659       0.434\n",
       "==============================================================================\n",
       "Omnibus:                       12.831   Durbin-Watson:                   2.687\n",
       "Prob(Omnibus):                  0.002   Jarque-Bera (JB):               13.028\n",
       "Skew:                          -1.211   Prob(JB):                      0.00148\n",
       "Kurtosis:                       5.135   Cond. No.                     1.12e+03\n",
       "==============================================================================\n",
       "\n",
       "Notes:\n",
       "[1] Standard Errors assume that the covariance matrix of the errors is correctly specified.\n",
       "[2] The condition number is large, 1.12e+03. This might indicate that there are\n",
       "strong multicollinearity or other numerical problems.\n",
       "\"\"\""
      ]
     },
     "execution_count": 18,
     "metadata": {},
     "output_type": "execute_result"
    }
   ],
   "source": [
    "X = df_IQ[[ 'Test 2', 'Test 3', 'Test 4', 'Test 5']]\n",
    "Y = df_IQ['IQ']\n",
    "\n",
    "X1 = sm.add_constant(X)\n",
    "reg = sm.OLS(Y, X1).fit()\n",
    "\n",
    "reg.summary()"
   ]
  },
  {
   "cell_type": "markdown",
   "metadata": {},
   "source": [
    "**INTERPRETACIÓN: Al igual que antes, eliminamos la variable menos significativa: Test_5 ya que tiene un pvalor de 0.67**"
   ]
  },
  {
   "cell_type": "code",
   "execution_count": 19,
   "metadata": {},
   "outputs": [
    {
     "data": {
      "text/html": [
       "<table class=\"simpletable\">\n",
       "<caption>OLS Regression Results</caption>\n",
       "<tr>\n",
       "  <th>Dep. Variable:</th>           <td>IQ</td>        <th>  R-squared:         </th> <td>   0.412</td>\n",
       "</tr>\n",
       "<tr>\n",
       "  <th>Model:</th>                   <td>OLS</td>       <th>  Adj. R-squared:    </th> <td>   0.344</td>\n",
       "</tr>\n",
       "<tr>\n",
       "  <th>Method:</th>             <td>Least Squares</td>  <th>  F-statistic:       </th> <td>   6.064</td>\n",
       "</tr>\n",
       "<tr>\n",
       "  <th>Date:</th>             <td>Wed, 06 Apr 2022</td> <th>  Prob (F-statistic):</th>  <td>0.00285</td>\n",
       "</tr>\n",
       "<tr>\n",
       "  <th>Time:</th>                 <td>20:12:41</td>     <th>  Log-Likelihood:    </th> <td> -131.47</td>\n",
       "</tr>\n",
       "<tr>\n",
       "  <th>No. Observations:</th>      <td>    30</td>      <th>  AIC:               </th> <td>   270.9</td>\n",
       "</tr>\n",
       "<tr>\n",
       "  <th>Df Residuals:</th>          <td>    26</td>      <th>  BIC:               </th> <td>   276.5</td>\n",
       "</tr>\n",
       "<tr>\n",
       "  <th>Df Model:</th>              <td>     3</td>      <th>                     </th>     <td> </td>   \n",
       "</tr>\n",
       "<tr>\n",
       "  <th>Covariance Type:</th>      <td>nonrobust</td>    <th>                     </th>     <td> </td>   \n",
       "</tr>\n",
       "</table>\n",
       "<table class=\"simpletable\">\n",
       "<tr>\n",
       "     <td></td>       <th>coef</th>     <th>std err</th>      <th>t</th>      <th>P>|t|</th>  <th>[0.025</th>    <th>0.975]</th>  \n",
       "</tr>\n",
       "<tr>\n",
       "  <th>const</th>  <td>   70.6055</td> <td>   29.463</td> <td>    2.396</td> <td> 0.024</td> <td>   10.043</td> <td>  131.167</td>\n",
       "</tr>\n",
       "<tr>\n",
       "  <th>Test 2</th> <td>   -0.3125</td> <td>    0.237</td> <td>   -1.319</td> <td> 0.199</td> <td>   -0.800</td> <td>    0.175</td>\n",
       "</tr>\n",
       "<tr>\n",
       "  <th>Test 3</th> <td>   -0.4662</td> <td>    0.284</td> <td>   -1.642</td> <td> 0.113</td> <td>   -1.050</td> <td>    0.117</td>\n",
       "</tr>\n",
       "<tr>\n",
       "  <th>Test 4</th> <td>    1.2044</td> <td>    0.376</td> <td>    3.205</td> <td> 0.004</td> <td>    0.432</td> <td>    1.977</td>\n",
       "</tr>\n",
       "</table>\n",
       "<table class=\"simpletable\">\n",
       "<tr>\n",
       "  <th>Omnibus:</th>       <td>12.819</td> <th>  Durbin-Watson:     </th> <td>   2.808</td>\n",
       "</tr>\n",
       "<tr>\n",
       "  <th>Prob(Omnibus):</th> <td> 0.002</td> <th>  Jarque-Bera (JB):  </th> <td>  13.123</td>\n",
       "</tr>\n",
       "<tr>\n",
       "  <th>Skew:</th>          <td>-1.198</td> <th>  Prob(JB):          </th> <td> 0.00141</td>\n",
       "</tr>\n",
       "<tr>\n",
       "  <th>Kurtosis:</th>      <td> 5.181</td> <th>  Cond. No.          </th> <td>    887.</td>\n",
       "</tr>\n",
       "</table><br/><br/>Notes:<br/>[1] Standard Errors assume that the covariance matrix of the errors is correctly specified."
      ],
      "text/plain": [
       "<class 'statsmodels.iolib.summary.Summary'>\n",
       "\"\"\"\n",
       "                            OLS Regression Results                            \n",
       "==============================================================================\n",
       "Dep. Variable:                     IQ   R-squared:                       0.412\n",
       "Model:                            OLS   Adj. R-squared:                  0.344\n",
       "Method:                 Least Squares   F-statistic:                     6.064\n",
       "Date:                Wed, 06 Apr 2022   Prob (F-statistic):            0.00285\n",
       "Time:                        20:12:41   Log-Likelihood:                -131.47\n",
       "No. Observations:                  30   AIC:                             270.9\n",
       "Df Residuals:                      26   BIC:                             276.5\n",
       "Df Model:                           3                                         \n",
       "Covariance Type:            nonrobust                                         \n",
       "==============================================================================\n",
       "                 coef    std err          t      P>|t|      [0.025      0.975]\n",
       "------------------------------------------------------------------------------\n",
       "const         70.6055     29.463      2.396      0.024      10.043     131.167\n",
       "Test 2        -0.3125      0.237     -1.319      0.199      -0.800       0.175\n",
       "Test 3        -0.4662      0.284     -1.642      0.113      -1.050       0.117\n",
       "Test 4         1.2044      0.376      3.205      0.004       0.432       1.977\n",
       "==============================================================================\n",
       "Omnibus:                       12.819   Durbin-Watson:                   2.808\n",
       "Prob(Omnibus):                  0.002   Jarque-Bera (JB):               13.123\n",
       "Skew:                          -1.198   Prob(JB):                      0.00141\n",
       "Kurtosis:                       5.181   Cond. No.                         887.\n",
       "==============================================================================\n",
       "\n",
       "Notes:\n",
       "[1] Standard Errors assume that the covariance matrix of the errors is correctly specified.\n",
       "\"\"\""
      ]
     },
     "execution_count": 19,
     "metadata": {},
     "output_type": "execute_result"
    }
   ],
   "source": [
    "X = df_IQ[[ 'Test 2', 'Test 3', 'Test 4']]\n",
    "Y = df_IQ['IQ']\n",
    "\n",
    "X1 = sm.add_constant(X)\n",
    "reg = sm.OLS(Y, X1).fit()\n",
    "\n",
    "reg.summary()"
   ]
  },
  {
   "cell_type": "markdown",
   "metadata": {},
   "source": [
    "INTERPRETACIÓN: Al igual que antes, eliminamos la variable menos significativa: Test_3"
   ]
  },
  {
   "cell_type": "code",
   "execution_count": 20,
   "metadata": {},
   "outputs": [
    {
     "data": {
      "text/html": [
       "<table class=\"simpletable\">\n",
       "<caption>OLS Regression Results</caption>\n",
       "<tr>\n",
       "  <th>Dep. Variable:</th>           <td>IQ</td>        <th>  R-squared:         </th> <td>   0.372</td>\n",
       "</tr>\n",
       "<tr>\n",
       "  <th>Model:</th>                   <td>OLS</td>       <th>  Adj. R-squared:    </th> <td>   0.326</td>\n",
       "</tr>\n",
       "<tr>\n",
       "  <th>Method:</th>             <td>Least Squares</td>  <th>  F-statistic:       </th> <td>   8.007</td>\n",
       "</tr>\n",
       "<tr>\n",
       "  <th>Date:</th>             <td>Wed, 06 Apr 2022</td> <th>  Prob (F-statistic):</th>  <td>0.00186</td>\n",
       "</tr>\n",
       "<tr>\n",
       "  <th>Time:</th>                 <td>20:12:41</td>     <th>  Log-Likelihood:    </th> <td> -132.44</td>\n",
       "</tr>\n",
       "<tr>\n",
       "  <th>No. Observations:</th>      <td>    30</td>      <th>  AIC:               </th> <td>   270.9</td>\n",
       "</tr>\n",
       "<tr>\n",
       "  <th>Df Residuals:</th>          <td>    27</td>      <th>  BIC:               </th> <td>   275.1</td>\n",
       "</tr>\n",
       "<tr>\n",
       "  <th>Df Model:</th>              <td>     2</td>      <th>                     </th>     <td> </td>   \n",
       "</tr>\n",
       "<tr>\n",
       "  <th>Covariance Type:</th>      <td>nonrobust</td>    <th>                     </th>     <td> </td>   \n",
       "</tr>\n",
       "</table>\n",
       "<table class=\"simpletable\">\n",
       "<tr>\n",
       "     <td></td>       <th>coef</th>     <th>std err</th>      <th>t</th>      <th>P>|t|</th>  <th>[0.025</th>    <th>0.975]</th>  \n",
       "</tr>\n",
       "<tr>\n",
       "  <th>const</th>  <td>   82.7088</td> <td>   28.378</td> <td>    2.915</td> <td> 0.007</td> <td>   24.482</td> <td>  140.936</td>\n",
       "</tr>\n",
       "<tr>\n",
       "  <th>Test 3</th> <td>   -0.5973</td> <td>    0.269</td> <td>   -2.216</td> <td> 0.035</td> <td>   -1.150</td> <td>   -0.044</td>\n",
       "</tr>\n",
       "<tr>\n",
       "  <th>Test 4</th> <td>    0.8783</td> <td>    0.287</td> <td>    3.062</td> <td> 0.005</td> <td>    0.290</td> <td>    1.467</td>\n",
       "</tr>\n",
       "</table>\n",
       "<table class=\"simpletable\">\n",
       "<tr>\n",
       "  <th>Omnibus:</th>       <td>12.501</td> <th>  Durbin-Watson:     </th> <td>   2.800</td>\n",
       "</tr>\n",
       "<tr>\n",
       "  <th>Prob(Omnibus):</th> <td> 0.002</td> <th>  Jarque-Bera (JB):  </th> <td>  12.039</td>\n",
       "</tr>\n",
       "<tr>\n",
       "  <th>Skew:</th>          <td>-1.255</td> <th>  Prob(JB):          </th> <td> 0.00243</td>\n",
       "</tr>\n",
       "<tr>\n",
       "  <th>Kurtosis:</th>      <td> 4.824</td> <th>  Cond. No.          </th> <td>    715.</td>\n",
       "</tr>\n",
       "</table><br/><br/>Notes:<br/>[1] Standard Errors assume that the covariance matrix of the errors is correctly specified."
      ],
      "text/plain": [
       "<class 'statsmodels.iolib.summary.Summary'>\n",
       "\"\"\"\n",
       "                            OLS Regression Results                            \n",
       "==============================================================================\n",
       "Dep. Variable:                     IQ   R-squared:                       0.372\n",
       "Model:                            OLS   Adj. R-squared:                  0.326\n",
       "Method:                 Least Squares   F-statistic:                     8.007\n",
       "Date:                Wed, 06 Apr 2022   Prob (F-statistic):            0.00186\n",
       "Time:                        20:12:41   Log-Likelihood:                -132.44\n",
       "No. Observations:                  30   AIC:                             270.9\n",
       "Df Residuals:                      27   BIC:                             275.1\n",
       "Df Model:                           2                                         \n",
       "Covariance Type:            nonrobust                                         \n",
       "==============================================================================\n",
       "                 coef    std err          t      P>|t|      [0.025      0.975]\n",
       "------------------------------------------------------------------------------\n",
       "const         82.7088     28.378      2.915      0.007      24.482     140.936\n",
       "Test 3        -0.5973      0.269     -2.216      0.035      -1.150      -0.044\n",
       "Test 4         0.8783      0.287      3.062      0.005       0.290       1.467\n",
       "==============================================================================\n",
       "Omnibus:                       12.501   Durbin-Watson:                   2.800\n",
       "Prob(Omnibus):                  0.002   Jarque-Bera (JB):               12.039\n",
       "Skew:                          -1.255   Prob(JB):                      0.00243\n",
       "Kurtosis:                       4.824   Cond. No.                         715.\n",
       "==============================================================================\n",
       "\n",
       "Notes:\n",
       "[1] Standard Errors assume that the covariance matrix of the errors is correctly specified.\n",
       "\"\"\""
      ]
     },
     "execution_count": 20,
     "metadata": {},
     "output_type": "execute_result"
    }
   ],
   "source": [
    "X = df_IQ[[ 'Test 3',  'Test 4']]\n",
    "Y = df_IQ['IQ']\n",
    "\n",
    "X1 = sm.add_constant(X)\n",
    "reg = sm.OLS(Y, X1).fit()\n",
    "\n",
    "reg.summary()"
   ]
  },
  {
   "cell_type": "markdown",
   "metadata": {},
   "source": [
    "**INTERPRETACIÓN: Desde un punto de vista de teoría estadística, este modelo tiene todas sus variables significativas, ya que el pvalor es < que .1 e incluso del 5%**\n",
    "    \n",
    "Veamos si cumple las hipótesis de homocedasticidad, normalidad e independencia de residuos"
   ]
  },
  {
   "cell_type": "code",
   "execution_count": 21,
   "metadata": {},
   "outputs": [
    {
     "data": {
      "text/plain": [
       "<AxesSubplot:ylabel='Count'>"
      ]
     },
     "execution_count": 21,
     "metadata": {},
     "output_type": "execute_result"
    },
    {
     "data": {
      "image/png": "[encoded data removed]",
      "text/plain": [
       "<Figure size 432x288 with 1 Axes>"
      ]
     },
     "metadata": {
      "needs_background": "light"
     },
     "output_type": "display_data"
    }
   ],
   "source": [
    "# DISTRIBUCIÓN DE LOS RESIDUOS\n",
    "sns.histplot(reg.resid)"
   ]
  },
  {
   "cell_type": "markdown",
   "metadata": {},
   "source": [
    "Los residuos no presentan una distribución normal"
   ]
  },
  {
   "cell_type": "code",
   "execution_count": 22,
   "metadata": {},
   "outputs": [
    {
     "data": {
      "text/plain": [
       "<AxesSubplot:xlabel='IQ'>"
      ]
     },
     "execution_count": 22,
     "metadata": {},
     "output_type": "execute_result"
    },
    {
     "data": {
      "image/png": "[encoded data removed]",
      "text/plain": [
       "<Figure size 432x288 with 1 Axes>"
      ]
     },
     "metadata": {
      "needs_background": "light"
     },
     "output_type": "display_data"
    }
   ],
   "source": [
    "# AJUSTE ENTRE VALOR REAL Y PREDICHO DE LA VARIABLE RESPUESTA\n",
    "sns.scatterplot(x=Y, y=reg.fittedvalues) # x es Y e y es ypred"
   ]
  },
  {
   "cell_type": "code",
   "execution_count": 23,
   "metadata": {},
   "outputs": [
    {
     "data": {
      "text/plain": [
       "<AxesSubplot:xlabel='IQ'>"
      ]
     },
     "execution_count": 23,
     "metadata": {},
     "output_type": "execute_result"
    },
    {
     "data": {
      "image/png": "[encoded data removed]",
      "text/plain": [
       "<Figure size 432x288 with 1 Axes>"
      ]
     },
     "metadata": {
      "needs_background": "light"
     },
     "output_type": "display_data"
    }
   ],
   "source": [
    "# RELACIÓN ENTRE RESIDUOS Y VARIABLE RESPUESTA\n",
    "sns.scatterplot(x=Y, y=abs(reg.resid))"
   ]
  },
  {
   "cell_type": "markdown",
   "metadata": {},
   "source": [
    "INTERPRETACIÓN: los valores extremos están afectando mucho al modelo. Realiemos el proceso sin esos valores"
   ]
  },
  {
   "cell_type": "code",
   "execution_count": 24,
   "metadata": {},
   "outputs": [
    {
     "data": {
      "text/plain": [
       "<AxesSubplot:xlabel='IQ', ylabel='Count'>"
      ]
     },
     "execution_count": 24,
     "metadata": {},
     "output_type": "execute_result"
    },
    {
     "data": {
      "image/png": "[encoded data removed]",
      "text/plain": [
       "<Figure size 432x288 with 1 Axes>"
      ]
     },
     "metadata": {
      "needs_background": "light"
     },
     "output_type": "display_data"
    }
   ],
   "source": [
    "sns.histplot(df_IQ.IQ)"
   ]
  },
  {
   "cell_type": "code",
   "execution_count": 25,
   "metadata": {},
   "outputs": [
    {
     "data": {
      "text/plain": [
       "30"
      ]
     },
     "execution_count": 25,
     "metadata": {},
     "output_type": "execute_result"
    }
   ],
   "source": [
    "df_IQ.shape[0]"
   ]
  },
  {
   "cell_type": "code",
   "execution_count": 26,
   "metadata": {},
   "outputs": [],
   "source": [
    "# ELIMINAMOS OUTLIERS\n",
    "df_IQ1 = df_IQ.loc[ df_IQ['IQ']> 50 , :]"
   ]
  },
  {
   "cell_type": "code",
   "execution_count": 27,
   "metadata": {},
   "outputs": [
    {
     "data": {
      "text/plain": [
       "28"
      ]
     },
     "execution_count": 27,
     "metadata": {},
     "output_type": "execute_result"
    }
   ],
   "source": [
    "df_IQ1.shape[0]"
   ]
  },
  {
   "cell_type": "code",
   "execution_count": 28,
   "metadata": {},
   "outputs": [
    {
     "data": {
      "text/plain": [
       "<AxesSubplot:xlabel='IQ', ylabel='Count'>"
      ]
     },
     "execution_count": 28,
     "metadata": {},
     "output_type": "execute_result"
    },
    {
     "data": {
      "image/png": "[encoded data removed]",
      "text/plain": [
       "<Figure size 432x288 with 1 Axes>"
      ]
     },
     "metadata": {
      "needs_background": "light"
     },
     "output_type": "display_data"
    }
   ],
   "source": [
    "sns.histplot(df_IQ1.IQ)"
   ]
  },
  {
   "cell_type": "code",
   "execution_count": 29,
   "metadata": {},
   "outputs": [
    {
     "data": {
      "text/html": [
       "<table class=\"simpletable\">\n",
       "<caption>OLS Regression Results</caption>\n",
       "<tr>\n",
       "  <th>Dep. Variable:</th>           <td>IQ</td>        <th>  R-squared:         </th> <td>   0.393</td>\n",
       "</tr>\n",
       "<tr>\n",
       "  <th>Model:</th>                   <td>OLS</td>       <th>  Adj. R-squared:    </th> <td>   0.288</td>\n",
       "</tr>\n",
       "<tr>\n",
       "  <th>Method:</th>             <td>Least Squares</td>  <th>  F-statistic:       </th> <td>   3.730</td>\n",
       "</tr>\n",
       "<tr>\n",
       "  <th>Date:</th>             <td>Wed, 06 Apr 2022</td> <th>  Prob (F-statistic):</th>  <td>0.0176</td> \n",
       "</tr>\n",
       "<tr>\n",
       "  <th>Time:</th>                 <td>20:12:42</td>     <th>  Log-Likelihood:    </th> <td> -99.859</td>\n",
       "</tr>\n",
       "<tr>\n",
       "  <th>No. Observations:</th>      <td>    28</td>      <th>  AIC:               </th> <td>   209.7</td>\n",
       "</tr>\n",
       "<tr>\n",
       "  <th>Df Residuals:</th>          <td>    23</td>      <th>  BIC:               </th> <td>   216.4</td>\n",
       "</tr>\n",
       "<tr>\n",
       "  <th>Df Model:</th>              <td>     4</td>      <th>                     </th>     <td> </td>   \n",
       "</tr>\n",
       "<tr>\n",
       "  <th>Covariance Type:</th>      <td>nonrobust</td>    <th>                     </th>     <td> </td>   \n",
       "</tr>\n",
       "</table>\n",
       "<table class=\"simpletable\">\n",
       "<tr>\n",
       "     <td></td>       <th>coef</th>     <th>std err</th>      <th>t</th>      <th>P>|t|</th>  <th>[0.025</th>    <th>0.975]</th>  \n",
       "</tr>\n",
       "<tr>\n",
       "  <th>const</th>  <td>   68.9949</td> <td>   14.527</td> <td>    4.749</td> <td> 0.000</td> <td>   38.943</td> <td>   99.047</td>\n",
       "</tr>\n",
       "<tr>\n",
       "  <th>Test 2</th> <td>   -0.2561</td> <td>    0.108</td> <td>   -2.366</td> <td> 0.027</td> <td>   -0.480</td> <td>   -0.032</td>\n",
       "</tr>\n",
       "<tr>\n",
       "  <th>Test 3</th> <td>    0.1139</td> <td>    0.148</td> <td>    0.770</td> <td> 0.449</td> <td>   -0.192</td> <td>    0.420</td>\n",
       "</tr>\n",
       "<tr>\n",
       "  <th>Test 4</th> <td>    0.6817</td> <td>    0.178</td> <td>    3.821</td> <td> 0.001</td> <td>    0.313</td> <td>    1.051</td>\n",
       "</tr>\n",
       "<tr>\n",
       "  <th>Test 5</th> <td>   -0.0564</td> <td>    0.119</td> <td>   -0.475</td> <td> 0.639</td> <td>   -0.302</td> <td>    0.189</td>\n",
       "</tr>\n",
       "</table>\n",
       "<table class=\"simpletable\">\n",
       "<tr>\n",
       "  <th>Omnibus:</th>       <td> 9.162</td> <th>  Durbin-Watson:     </th> <td>   1.472</td>\n",
       "</tr>\n",
       "<tr>\n",
       "  <th>Prob(Omnibus):</th> <td> 0.010</td> <th>  Jarque-Bera (JB):  </th> <td>   7.562</td>\n",
       "</tr>\n",
       "<tr>\n",
       "  <th>Skew:</th>          <td> 1.011</td> <th>  Prob(JB):          </th> <td>  0.0228</td>\n",
       "</tr>\n",
       "<tr>\n",
       "  <th>Kurtosis:</th>      <td> 4.546</td> <th>  Cond. No.          </th> <td>1.08e+03</td>\n",
       "</tr>\n",
       "</table><br/><br/>Notes:<br/>[1] Standard Errors assume that the covariance matrix of the errors is correctly specified.<br/>[2] The condition number is large, 1.08e+03. This might indicate that there are<br/>strong multicollinearity or other numerical problems."
      ],
      "text/plain": [
       "<class 'statsmodels.iolib.summary.Summary'>\n",
       "\"\"\"\n",
       "                            OLS Regression Results                            \n",
       "==============================================================================\n",
       "Dep. Variable:                     IQ   R-squared:                       0.393\n",
       "Model:                            OLS   Adj. R-squared:                  0.288\n",
       "Method:                 Least Squares   F-statistic:                     3.730\n",
       "Date:                Wed, 06 Apr 2022   Prob (F-statistic):             0.0176\n",
       "Time:                        20:12:42   Log-Likelihood:                -99.859\n",
       "No. Observations:                  28   AIC:                             209.7\n",
       "Df Residuals:                      23   BIC:                             216.4\n",
       "Df Model:                           4                                         \n",
       "Covariance Type:            nonrobust                                         \n",
       "==============================================================================\n",
       "                 coef    std err          t      P>|t|      [0.025      0.975]\n",
       "------------------------------------------------------------------------------\n",
       "const         68.9949     14.527      4.749      0.000      38.943      99.047\n",
       "Test 2        -0.2561      0.108     -2.366      0.027      -0.480      -0.032\n",
       "Test 3         0.1139      0.148      0.770      0.449      -0.192       0.420\n",
       "Test 4         0.6817      0.178      3.821      0.001       0.313       1.051\n",
       "Test 5        -0.0564      0.119     -0.475      0.639      -0.302       0.189\n",
       "==============================================================================\n",
       "Omnibus:                        9.162   Durbin-Watson:                   1.472\n",
       "Prob(Omnibus):                  0.010   Jarque-Bera (JB):                7.562\n",
       "Skew:                           1.011   Prob(JB):                       0.0228\n",
       "Kurtosis:                       4.546   Cond. No.                     1.08e+03\n",
       "==============================================================================\n",
       "\n",
       "Notes:\n",
       "[1] Standard Errors assume that the covariance matrix of the errors is correctly specified.\n",
       "[2] The condition number is large, 1.08e+03. This might indicate that there are\n",
       "strong multicollinearity or other numerical problems.\n",
       "\"\"\""
      ]
     },
     "execution_count": 29,
     "metadata": {},
     "output_type": "execute_result"
    }
   ],
   "source": [
    "# MODELO CON TODAS LAS VARIABLES, SALVO test_1 por estar muy correlada con test_4\n",
    "X = df_IQ1[['Test 2', 'Test 3','Test 4', 'Test 5']]\n",
    "Y = df_IQ1['IQ']\n",
    "\n",
    "X1 = sm.add_constant(X)\n",
    "reg = sm.OLS(Y, X1).fit()\n",
    "\n",
    "reg.summary()"
   ]
  },
  {
   "cell_type": "code",
   "execution_count": 30,
   "metadata": {},
   "outputs": [
    {
     "data": {
      "text/html": [
       "<table class=\"simpletable\">\n",
       "<caption>OLS Regression Results</caption>\n",
       "<tr>\n",
       "  <th>Dep. Variable:</th>           <td>IQ</td>        <th>  R-squared:         </th> <td>   0.387</td>\n",
       "</tr>\n",
       "<tr>\n",
       "  <th>Model:</th>                   <td>OLS</td>       <th>  Adj. R-squared:    </th> <td>   0.311</td>\n",
       "</tr>\n",
       "<tr>\n",
       "  <th>Method:</th>             <td>Least Squares</td>  <th>  F-statistic:       </th> <td>   5.061</td>\n",
       "</tr>\n",
       "<tr>\n",
       "  <th>Date:</th>             <td>Wed, 06 Apr 2022</td> <th>  Prob (F-statistic):</th>  <td>0.00740</td>\n",
       "</tr>\n",
       "<tr>\n",
       "  <th>Time:</th>                 <td>20:12:42</td>     <th>  Log-Likelihood:    </th> <td> -99.995</td>\n",
       "</tr>\n",
       "<tr>\n",
       "  <th>No. Observations:</th>      <td>    28</td>      <th>  AIC:               </th> <td>   208.0</td>\n",
       "</tr>\n",
       "<tr>\n",
       "  <th>Df Residuals:</th>          <td>    24</td>      <th>  BIC:               </th> <td>   213.3</td>\n",
       "</tr>\n",
       "<tr>\n",
       "  <th>Df Model:</th>              <td>     3</td>      <th>                     </th>     <td> </td>   \n",
       "</tr>\n",
       "<tr>\n",
       "  <th>Covariance Type:</th>      <td>nonrobust</td>    <th>                     </th>     <td> </td>   \n",
       "</tr>\n",
       "</table>\n",
       "<table class=\"simpletable\">\n",
       "<tr>\n",
       "     <td></td>       <th>coef</th>     <th>std err</th>      <th>t</th>      <th>P>|t|</th>  <th>[0.025</th>    <th>0.975]</th>  \n",
       "</tr>\n",
       "<tr>\n",
       "  <th>const</th>  <td>   66.3442</td> <td>   13.194</td> <td>    5.028</td> <td> 0.000</td> <td>   39.114</td> <td>   93.575</td>\n",
       "</tr>\n",
       "<tr>\n",
       "  <th>Test 2</th> <td>   -0.2514</td> <td>    0.106</td> <td>   -2.371</td> <td> 0.026</td> <td>   -0.470</td> <td>   -0.033</td>\n",
       "</tr>\n",
       "<tr>\n",
       "  <th>Test 3</th> <td>    0.0919</td> <td>    0.138</td> <td>    0.665</td> <td> 0.512</td> <td>   -0.193</td> <td>    0.377</td>\n",
       "</tr>\n",
       "<tr>\n",
       "  <th>Test 4</th> <td>    0.6829</td> <td>    0.175</td> <td>    3.891</td> <td> 0.001</td> <td>    0.321</td> <td>    1.045</td>\n",
       "</tr>\n",
       "</table>\n",
       "<table class=\"simpletable\">\n",
       "<tr>\n",
       "  <th>Omnibus:</th>       <td>10.898</td> <th>  Durbin-Watson:     </th> <td>   1.497</td>\n",
       "</tr>\n",
       "<tr>\n",
       "  <th>Prob(Omnibus):</th> <td> 0.004</td> <th>  Jarque-Bera (JB):  </th> <td>   9.963</td>\n",
       "</tr>\n",
       "<tr>\n",
       "  <th>Skew:</th>          <td> 1.103</td> <th>  Prob(JB):          </th> <td> 0.00686</td>\n",
       "</tr>\n",
       "<tr>\n",
       "  <th>Kurtosis:</th>      <td> 4.918</td> <th>  Cond. No.          </th> <td>    858.</td>\n",
       "</tr>\n",
       "</table><br/><br/>Notes:<br/>[1] Standard Errors assume that the covariance matrix of the errors is correctly specified."
      ],
      "text/plain": [
       "<class 'statsmodels.iolib.summary.Summary'>\n",
       "\"\"\"\n",
       "                            OLS Regression Results                            \n",
       "==============================================================================\n",
       "Dep. Variable:                     IQ   R-squared:                       0.387\n",
       "Model:                            OLS   Adj. R-squared:                  0.311\n",
       "Method:                 Least Squares   F-statistic:                     5.061\n",
       "Date:                Wed, 06 Apr 2022   Prob (F-statistic):            0.00740\n",
       "Time:                        20:12:42   Log-Likelihood:                -99.995\n",
       "No. Observations:                  28   AIC:                             208.0\n",
       "Df Residuals:                      24   BIC:                             213.3\n",
       "Df Model:                           3                                         \n",
       "Covariance Type:            nonrobust                                         \n",
       "==============================================================================\n",
       "                 coef    std err          t      P>|t|      [0.025      0.975]\n",
       "------------------------------------------------------------------------------\n",
       "const         66.3442     13.194      5.028      0.000      39.114      93.575\n",
       "Test 2        -0.2514      0.106     -2.371      0.026      -0.470      -0.033\n",
       "Test 3         0.0919      0.138      0.665      0.512      -0.193       0.377\n",
       "Test 4         0.6829      0.175      3.891      0.001       0.321       1.045\n",
       "==============================================================================\n",
       "Omnibus:                       10.898   Durbin-Watson:                   1.497\n",
       "Prob(Omnibus):                  0.004   Jarque-Bera (JB):                9.963\n",
       "Skew:                           1.103   Prob(JB):                      0.00686\n",
       "Kurtosis:                       4.918   Cond. No.                         858.\n",
       "==============================================================================\n",
       "\n",
       "Notes:\n",
       "[1] Standard Errors assume that the covariance matrix of the errors is correctly specified.\n",
       "\"\"\""
      ]
     },
     "execution_count": 30,
     "metadata": {},
     "output_type": "execute_result"
    }
   ],
   "source": [
    "# MODELO sin test_1 ni test_5\n",
    "X = df_IQ1[['Test 2', 'Test 3','Test 4']]\n",
    "Y = df_IQ1['IQ']\n",
    "\n",
    "X1 = sm.add_constant(X)\n",
    "reg = sm.OLS(Y, X1).fit()\n",
    "\n",
    "reg.summary()"
   ]
  },
  {
   "cell_type": "code",
   "execution_count": 31,
   "metadata": {},
   "outputs": [
    {
     "data": {
      "text/html": [
       "<table class=\"simpletable\">\n",
       "<caption>OLS Regression Results</caption>\n",
       "<tr>\n",
       "  <th>Dep. Variable:</th>           <td>IQ</td>        <th>  R-squared:         </th> <td>   0.376</td>\n",
       "</tr>\n",
       "<tr>\n",
       "  <th>Model:</th>                   <td>OLS</td>       <th>  Adj. R-squared:    </th> <td>   0.326</td>\n",
       "</tr>\n",
       "<tr>\n",
       "  <th>Method:</th>             <td>Least Squares</td>  <th>  F-statistic:       </th> <td>   7.538</td>\n",
       "</tr>\n",
       "<tr>\n",
       "  <th>Date:</th>             <td>Wed, 06 Apr 2022</td> <th>  Prob (F-statistic):</th>  <td>0.00274</td>\n",
       "</tr>\n",
       "<tr>\n",
       "  <th>Time:</th>                 <td>20:12:42</td>     <th>  Log-Likelihood:    </th> <td> -100.25</td>\n",
       "</tr>\n",
       "<tr>\n",
       "  <th>No. Observations:</th>      <td>    28</td>      <th>  AIC:               </th> <td>   206.5</td>\n",
       "</tr>\n",
       "<tr>\n",
       "  <th>Df Residuals:</th>          <td>    25</td>      <th>  BIC:               </th> <td>   210.5</td>\n",
       "</tr>\n",
       "<tr>\n",
       "  <th>Df Model:</th>              <td>     2</td>      <th>                     </th>     <td> </td>   \n",
       "</tr>\n",
       "<tr>\n",
       "  <th>Covariance Type:</th>      <td>nonrobust</td>    <th>                     </th>     <td> </td>   \n",
       "</tr>\n",
       "</table>\n",
       "<table class=\"simpletable\">\n",
       "<tr>\n",
       "     <td></td>       <th>coef</th>     <th>std err</th>      <th>t</th>      <th>P>|t|</th>  <th>[0.025</th>    <th>0.975]</th>  \n",
       "</tr>\n",
       "<tr>\n",
       "  <th>const</th>  <td>   72.7295</td> <td>    8.953</td> <td>    8.123</td> <td> 0.000</td> <td>   54.290</td> <td>   91.169</td>\n",
       "</tr>\n",
       "<tr>\n",
       "  <th>Test 2</th> <td>   -0.2303</td> <td>    0.100</td> <td>   -2.302</td> <td> 0.030</td> <td>   -0.436</td> <td>   -0.024</td>\n",
       "</tr>\n",
       "<tr>\n",
       "  <th>Test 4</th> <td>    0.6641</td> <td>    0.171</td> <td>    3.878</td> <td> 0.001</td> <td>    0.311</td> <td>    1.017</td>\n",
       "</tr>\n",
       "</table>\n",
       "<table class=\"simpletable\">\n",
       "<tr>\n",
       "  <th>Omnibus:</th>       <td> 6.621</td> <th>  Durbin-Watson:     </th> <td>   1.424</td>\n",
       "</tr>\n",
       "<tr>\n",
       "  <th>Prob(Omnibus):</th> <td> 0.036</td> <th>  Jarque-Bera (JB):  </th> <td>   4.730</td>\n",
       "</tr>\n",
       "<tr>\n",
       "  <th>Skew:</th>          <td> 0.861</td> <th>  Prob(JB):          </th> <td>  0.0940</td>\n",
       "</tr>\n",
       "<tr>\n",
       "  <th>Kurtosis:</th>      <td> 4.042</td> <th>  Cond. No.          </th> <td>    469.</td>\n",
       "</tr>\n",
       "</table><br/><br/>Notes:<br/>[1] Standard Errors assume that the covariance matrix of the errors is correctly specified."
      ],
      "text/plain": [
       "<class 'statsmodels.iolib.summary.Summary'>\n",
       "\"\"\"\n",
       "                            OLS Regression Results                            \n",
       "==============================================================================\n",
       "Dep. Variable:                     IQ   R-squared:                       0.376\n",
       "Model:                            OLS   Adj. R-squared:                  0.326\n",
       "Method:                 Least Squares   F-statistic:                     7.538\n",
       "Date:                Wed, 06 Apr 2022   Prob (F-statistic):            0.00274\n",
       "Time:                        20:12:42   Log-Likelihood:                -100.25\n",
       "No. Observations:                  28   AIC:                             206.5\n",
       "Df Residuals:                      25   BIC:                             210.5\n",
       "Df Model:                           2                                         \n",
       "Covariance Type:            nonrobust                                         \n",
       "==============================================================================\n",
       "                 coef    std err          t      P>|t|      [0.025      0.975]\n",
       "------------------------------------------------------------------------------\n",
       "const         72.7295      8.953      8.123      0.000      54.290      91.169\n",
       "Test 2        -0.2303      0.100     -2.302      0.030      -0.436      -0.024\n",
       "Test 4         0.6641      0.171      3.878      0.001       0.311       1.017\n",
       "==============================================================================\n",
       "Omnibus:                        6.621   Durbin-Watson:                   1.424\n",
       "Prob(Omnibus):                  0.036   Jarque-Bera (JB):                4.730\n",
       "Skew:                           0.861   Prob(JB):                       0.0940\n",
       "Kurtosis:                       4.042   Cond. No.                         469.\n",
       "==============================================================================\n",
       "\n",
       "Notes:\n",
       "[1] Standard Errors assume that the covariance matrix of the errors is correctly specified.\n",
       "\"\"\""
      ]
     },
     "execution_count": 31,
     "metadata": {},
     "output_type": "execute_result"
    }
   ],
   "source": [
    "# MODELO sin test_1 , test_3, ni test_5\n",
    "X = df_IQ1[['Test 2', 'Test 4']]\n",
    "Y = df_IQ1['IQ']\n",
    "\n",
    "X1 = sm.add_constant(X)\n",
    "reg = sm.OLS(Y, X1).fit()\n",
    "\n",
    "reg.summary()"
   ]
  },
  {
   "cell_type": "markdown",
   "metadata": {},
   "source": [
    "INTERPRETACIÓN: El modelo es válido a falta de revisar las hipótesis del modelo"
   ]
  },
  {
   "cell_type": "code",
   "execution_count": 32,
   "metadata": {},
   "outputs": [
    {
     "data": {
      "text/plain": [
       "<AxesSubplot:ylabel='Count'>"
      ]
     },
     "execution_count": 32,
     "metadata": {},
     "output_type": "execute_result"
    },
    {
     "data": {
      "image/png": "[encoded data removed]",
      "text/plain": [
       "<Figure size 432x288 with 1 Axes>"
      ]
     },
     "metadata": {
      "needs_background": "light"
     },
     "output_type": "display_data"
    }
   ],
   "source": [
    "# DISTRIBUCIÓN DE LOS RESIDUOS\n",
    "sns.histplot(reg.resid)"
   ]
  },
  {
   "cell_type": "code",
   "execution_count": 33,
   "metadata": {},
   "outputs": [
    {
     "data": {
      "text/plain": [
       "<AxesSubplot:xlabel='IQ'>"
      ]
     },
     "execution_count": 33,
     "metadata": {},
     "output_type": "execute_result"
    },
    {
     "data": {
      "image/png": "[encoded data removed]",
      "text/plain": [
       "<Figure size 432x288 with 1 Axes>"
      ]
     },
     "metadata": {
      "needs_background": "light"
     },
     "output_type": "display_data"
    }
   ],
   "source": [
    "# AJUSTE ENTRE VALOR REAL Y PREDICHO DE LA VARIABLE RESPUESTA\n",
    "sns.scatterplot(x=Y, y=reg.fittedvalues)"
   ]
  },
  {
   "cell_type": "code",
   "execution_count": 34,
   "metadata": {
    "scrolled": true
   },
   "outputs": [
    {
     "data": {
      "text/plain": [
       "<AxesSubplot:xlabel='IQ'>"
      ]
     },
     "execution_count": 34,
     "metadata": {},
     "output_type": "execute_result"
    },
    {
     "data": {
      "image/png": "[encoded data removed]",
      "text/plain": [
       "<Figure size 432x288 with 1 Axes>"
      ]
     },
     "metadata": {
      "needs_background": "light"
     },
     "output_type": "display_data"
    }
   ],
   "source": [
    "# RELACIÓN ENTRE RESIDUOS Y VARIABLE RESPUESTA\n",
    "sns.scatterplot(x=Y, y=abs(reg.resid))"
   ]
  },
  {
   "cell_type": "code",
   "execution_count": 35,
   "metadata": {},
   "outputs": [
    {
     "data": {
      "text/plain": [
       "7.041157790883661"
      ]
     },
     "execution_count": 35,
     "metadata": {},
     "output_type": "execute_result"
    }
   ],
   "source": [
    "(abs(reg.resid)).mean() # Mean absolute error"
   ]
  },
  {
   "cell_type": "markdown",
   "metadata": {},
   "source": [
    "## Métricas de Ajuste en test"
   ]
  },
  {
   "cell_type": "markdown",
   "metadata": {},
   "source": [
    "Utilizamos el modelo anterior para estimar la precisión en una muestra de test"
   ]
  },
  {
   "cell_type": "code",
   "execution_count": 36,
   "metadata": {},
   "outputs": [],
   "source": [
    "# PARTIMOS EN TRAIN TEST\n",
    "from sklearn.model_selection import train_test_split\n",
    "\n",
    "X = df_IQ1[['Test 2', 'Test 4']]\n",
    "Y = df_IQ1['IQ']\n",
    "\n",
    "X_train, X_test, y_train, y_test = train_test_split(X, Y, test_size=0.2, random_state=1)"
   ]
  },
  {
   "cell_type": "code",
   "execution_count": 37,
   "metadata": {},
   "outputs": [],
   "source": [
    "# ENTRENAMOS EL MODELO CON LA IBRERIA SKLEARN\n",
    "from sklearn.linear_model import LinearRegression\n",
    "lr = LinearRegression()\n",
    "model_lr = lr.fit(X_train, y_train)"
   ]
  },
  {
   "cell_type": "code",
   "execution_count": 38,
   "metadata": {},
   "outputs": [],
   "source": [
    "# PREDICCIÓN\n",
    "y_test_predict_lr = model_lr.predict(X_test)"
   ]
  },
  {
   "cell_type": "code",
   "execution_count": 39,
   "metadata": {},
   "outputs": [
    {
     "name": "stdout",
     "output_type": "stream",
     "text": [
      "Linear Regression ------------------------\n",
      "MAE:  6.770663839626967\n",
      "Relative MAE (Linear Regression):  6.0 %\n"
     ]
    }
   ],
   "source": [
    "# ERROR DE PREDICCIÓN EN TEST\n",
    "from sklearn.metrics import mean_absolute_error\n",
    "\n",
    "MAE_lr = mean_absolute_error(y_pred = y_test_predict_lr, y_true = y_test)\n",
    "\n",
    "print(\"Linear Regression ------------------------\")\n",
    "print(\"MAE: \", MAE_lr)\n",
    "print(\"Relative MAE (Linear Regression): \", 100*round(MAE_lr/y_test.mean(), 2), '%' )"
   ]
  },
  {
   "cell_type": "markdown",
   "metadata": {},
   "source": [
    "## Utilicemos un modelo de tipo ensamble (Random Forest)\n"
   ]
  },
  {
   "cell_type": "code",
   "execution_count": 40,
   "metadata": {},
   "outputs": [],
   "source": [
    "\n",
    "X = df_IQ1[['Test 1','Test 2','Test 3','Test 4', 'Test 5']]\n",
    "Y = df_IQ1['IQ']\n",
    "\n",
    "X_train, X_test, y_train, y_test = train_test_split(X, Y, test_size=0.2, random_state=1)"
   ]
  },
  {
   "cell_type": "code",
   "execution_count": 41,
   "metadata": {},
   "outputs": [
    {
     "name": "stdout",
     "output_type": "stream",
     "text": [
      " \n",
      "Random Forest Regression -----------------\n",
      "MAE:  5.678215909090906\n",
      "Relative MAE (Random Forest):  5.0\n"
     ]
    }
   ],
   "source": [
    "from sklearn.ensemble import RandomForestRegressor\n",
    "rf = RandomForestRegressor(n_estimators=100, max_depth=5)\n",
    "model_rf = rf.fit(X_train, y_train)\n",
    "\n",
    "y_test_predict_rf = model_rf.predict(X_test)\n",
    "\n",
    "MAE_rf = mean_absolute_error(y_pred = y_test_predict_rf, y_true = y_test)\n",
    "\n",
    "print(\" \")\n",
    "print(\"Random Forest Regression -----------------\")\n",
    "print(\"MAE: \", MAE_rf)\n",
    "print(\"Relative MAE (Random Forest): \", 100*round(MAE_rf/y_test.mean(),2) )\n"
   ]
  },
  {
   "cell_type": "markdown",
   "metadata": {},
   "source": [
    "## Utilicemos un modelo lineal con seleccion automática de variables mediante penalización\n"
   ]
  },
  {
   "cell_type": "code",
   "execution_count": 42,
   "metadata": {},
   "outputs": [
    {
     "data": {
      "text/plain": [
       "LassoCV(cv=10, n_alphas=1000)"
      ]
     },
     "execution_count": 42,
     "metadata": {},
     "output_type": "execute_result"
    }
   ],
   "source": [
    "\n",
    "from sklearn.linear_model import LassoCV # Lasso con CrossValidation\n",
    "\n",
    "lasso = LassoCV(cv=10, n_alphas=1000 ) # seleccionaremos más o menos cv (defecto 5) en función del num de datos. Igual con los alphas\n",
    "lasso.fit(X_train, y_train)"
   ]
  },
  {
   "cell_type": "code",
   "execution_count": 43,
   "metadata": {},
   "outputs": [
    {
     "data": {
      "text/plain": [
       "{'alphas': None,\n",
       " 'copy_X': True,\n",
       " 'cv': 10,\n",
       " 'eps': 0.001,\n",
       " 'fit_intercept': True,\n",
       " 'max_iter': 1000,\n",
       " 'n_alphas': 1000,\n",
       " 'n_jobs': None,\n",
       " 'normalize': False,\n",
       " 'positive': False,\n",
       " 'precompute': 'auto',\n",
       " 'random_state': None,\n",
       " 'selection': 'cyclic',\n",
       " 'tol': 0.0001,\n",
       " 'verbose': False}"
      ]
     },
     "execution_count": 43,
     "metadata": {},
     "output_type": "execute_result"
    }
   ],
   "source": [
    "lasso.get_params()"
   ]
  },
  {
   "cell_type": "code",
   "execution_count": 44,
   "metadata": {},
   "outputs": [
    {
     "name": "stdout",
     "output_type": "stream",
     "text": [
      "1.8537255864703213\n"
     ]
    }
   ],
   "source": [
    "# Penalización escogida por CV\n",
    "print(lasso.alpha_)"
   ]
  },
  {
   "cell_type": "code",
   "execution_count": 45,
   "metadata": {},
   "outputs": [],
   "source": [
    "# parametros del modelo"
   ]
  },
  {
   "cell_type": "code",
   "execution_count": 46,
   "metadata": {},
   "outputs": [
    {
     "data": {
      "text/plain": [
       "91.22098260660177"
      ]
     },
     "execution_count": 46,
     "metadata": {},
     "output_type": "execute_result"
    }
   ],
   "source": [
    "lasso.intercept_"
   ]
  },
  {
   "cell_type": "code",
   "execution_count": 47,
   "metadata": {},
   "outputs": [
    {
     "data": {
      "text/plain": [
       "array([-0.33815487, -0.35066179, -0.        ,  0.93993982, -0.10889372])"
      ]
     },
     "execution_count": 47,
     "metadata": {},
     "output_type": "execute_result"
    }
   ],
   "source": [
    "lasso.coef_"
   ]
  },
  {
   "cell_type": "code",
   "execution_count": 48,
   "metadata": {},
   "outputs": [
    {
     "name": "stdout",
     "output_type": "stream",
     "text": [
      " \n",
      "Lasso Regression -----------------\n",
      "MAE:  7.977336193153306\n",
      "Relative MAE (lasso):  7.000000000000001\n"
     ]
    }
   ],
   "source": [
    "y_test_predict_lasso = lasso.predict(X_test)\n",
    "\n",
    "MAE_lasso = mean_absolute_error(y_pred = y_test_predict_lasso, y_true = y_test)\n",
    "\n",
    "print(\" \")\n",
    "print(\"Lasso Regression -----------------\")\n",
    "print(\"MAE: \", MAE_lasso)\n",
    "print(\"Relative MAE (lasso): \", 100*round(MAE_lasso/y_test.mean(),2) )"
   ]
  },
  {
   "cell_type": "markdown",
   "metadata": {},
   "source": [
    "**EJERCICIO**: CALCULAR EL MAE RELATIVO Y ABSOLUTO USANDO GRADIENT BOOSTING"
   ]
  },
  {
   "cell_type": "code",
   "execution_count": 49,
   "metadata": {},
   "outputs": [
    {
     "data": {
      "text/plain": [
       "GridSearchCV(estimator=GradientBoostingRegressor(),\n",
       "             param_grid=[{'learning_rate': [0.01, 1, 0.1],\n",
       "                          'n_estimators': [1, 2, 3, 4, 5]}])"
      ]
     },
     "execution_count": 49,
     "metadata": {},
     "output_type": "execute_result"
    }
   ],
   "source": [
    "from sklearn.ensemble import GradientBoostingRegressor\n",
    "from sklearn.model_selection import GridSearchCV\n",
    "# Debemos utilizar validación cruzada para determinar la penalización del modelo\n",
    "X_train, X_test, y_train, y_test = train_test_split(X, Y, test_size=0.2, random_state=1)\n",
    "\n",
    "# Set the parameters by cross-validation\n",
    "\n",
    "gb = GradientBoostingRegressor()\n",
    "tuned_parameters = [\n",
    "    {'learning_rate':[0.01,1,0.1],\n",
    "     'n_estimators':[1,2,3,4,5]}\n",
    "]\n",
    "\n",
    "gbr = GridSearchCV(gb,tuned_parameters)\n",
    "gbr.fit(X_train,y_train)"
   ]
  },
  {
   "cell_type": "code",
   "execution_count": 50,
   "metadata": {},
   "outputs": [
    {
     "name": "stdout",
     "output_type": "stream",
     "text": [
      " \n",
      "------------- GradientBoostingRegressor -----------------\n",
      "MAE:  3.7916666666666665\n",
      "Relative MAE (GBR):  3.0 %\n"
     ]
    }
   ],
   "source": [
    "y_predict = gbr.predict(X_test)\n",
    "MAE_gbr = mean_absolute_error(y_predict,y_test)\n",
    "print(\" \")\n",
    "print(\"------------- GradientBoostingRegressor -----------------\")\n",
    "print(\"MAE: \", MAE_gbr)\n",
    "print(\"Relative MAE (GBR): \", 100*round(MAE_gbr/y_test.mean(),2),'%' )"
   ]
  }
 ],
 "metadata": {
  "kernelspec": {
   "display_name": "Python 3 (ipykernel)",
   "language": "python",
   "name": "python3"
  },
  "language_info": {
   "codemirror_mode": {
    "name": "ipython",
    "version": 3
   },
   "file_extension": ".py",
   "mimetype": "text/x-python",
   "name": "python",
   "nbconvert_exporter": "python",
   "pygments_lexer": "ipython3",
   "version": "3.8.5"
  }
 },
 "nbformat": 4,
 "nbformat_minor": 2
}
