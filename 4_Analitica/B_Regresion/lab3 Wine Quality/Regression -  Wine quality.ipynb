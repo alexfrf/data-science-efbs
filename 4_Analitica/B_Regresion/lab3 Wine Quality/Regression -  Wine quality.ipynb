{
 "cells": [
  {
   "cell_type": "markdown",
   "metadata": {},
   "source": [
    "#  Business Problem\n",
    "\n",
    "We are going to work with the classical wine quality datasets <https://archive.ics.uci.edu/ml/datasets/Wine+Quality>.  \n",
    "\n",
    "This dataset contains several variables on the chemical characteristics of different wine brands in the Minho region of Portugal. At the same time we have a variable \"quality\" which ranks 0-10 the quality of the wine (wine tasting by an enologist). \n",
    "\n",
    "The aim of the analysis is to identify a regression function that can predict the quality based on the chemical characteristics. So we can get a model that predicts the quality of the wine based on the chemical characteristics of it\n",
    "\n",
    "\n",
    "Your analysis must include:\n",
    "\n",
    "1. Load both data set: white-wine and red-whine, and join it (use concat) in a unique dataframe: df_wine. Answer all the follwing questions using the complete df_wine dataframe\n",
    "2. Missing inputation (in case there exists missing values) \n",
    "3. Exploratory Data Analysis. Show correlation and main statistics of all the variables in the data set\n",
    "4. Categorical variables binning (dummies) - in case you have categorical variables\n",
    "5. Split in train and test (25%)\n",
    "6. Use SQL to get the following statistics: the total number of bottles and average of alcohol grouped by the quality\n",
    "7. Fit models to the train dataset. Models to use: linear  regression and random forest\n",
    "8. Perfomance metrics to compute: MAE and relative MAE\n",
    "\n"
   ]
  },
  {
   "cell_type": "markdown",
   "metadata": {},
   "source": [
    "*****"
   ]
  },
  {
   "cell_type": "code",
   "execution_count": 1,
   "metadata": {},
   "outputs": [],
   "source": [
    "import pandas as pd\n",
    "import numpy as np"
   ]
  },
  {
   "cell_type": "code",
   "execution_count": 2,
   "metadata": {},
   "outputs": [
    {
     "data": {
      "text/html": [
       "<div>\n",
       "<style scoped>\n",
       "    .dataframe tbody tr th:only-of-type {\n",
       "        vertical-align: middle;\n",
       "    }\n",
       "\n",
       "    .dataframe tbody tr th {\n",
       "        vertical-align: top;\n",
       "    }\n",
       "\n",
       "    .dataframe thead th {\n",
       "        text-align: right;\n",
       "    }\n",
       "</style>\n",
       "<table border=\"1\" class=\"dataframe\">\n",
       "  <thead>\n",
       "    <tr style=\"text-align: right;\">\n",
       "      <th></th>\n",
       "      <th>color</th>\n",
       "      <th>fixed_acidity</th>\n",
       "      <th>volatile_acidity</th>\n",
       "      <th>citric_acid</th>\n",
       "      <th>residual_sugar</th>\n",
       "      <th>chlorides</th>\n",
       "      <th>free_sulfur_dioxide</th>\n",
       "      <th>total_sulfur_dioxide</th>\n",
       "      <th>density</th>\n",
       "      <th>pH</th>\n",
       "      <th>sulphates</th>\n",
       "      <th>alcohol</th>\n",
       "      <th>quality</th>\n",
       "    </tr>\n",
       "  </thead>\n",
       "  <tbody>\n",
       "    <tr>\n",
       "      <th>0</th>\n",
       "      <td>red</td>\n",
       "      <td>7.4</td>\n",
       "      <td>0.70</td>\n",
       "      <td>0.00</td>\n",
       "      <td>1.9</td>\n",
       "      <td>0.076</td>\n",
       "      <td>11.0</td>\n",
       "      <td>34.0</td>\n",
       "      <td>0.9978</td>\n",
       "      <td>3.51</td>\n",
       "      <td>0.56</td>\n",
       "      <td>9.4</td>\n",
       "      <td>5</td>\n",
       "    </tr>\n",
       "    <tr>\n",
       "      <th>1</th>\n",
       "      <td>red</td>\n",
       "      <td>7.8</td>\n",
       "      <td>0.88</td>\n",
       "      <td>0.00</td>\n",
       "      <td>2.6</td>\n",
       "      <td>0.098</td>\n",
       "      <td>25.0</td>\n",
       "      <td>67.0</td>\n",
       "      <td>0.9968</td>\n",
       "      <td>3.20</td>\n",
       "      <td>0.68</td>\n",
       "      <td>9.8</td>\n",
       "      <td>5</td>\n",
       "    </tr>\n",
       "    <tr>\n",
       "      <th>2</th>\n",
       "      <td>red</td>\n",
       "      <td>7.8</td>\n",
       "      <td>0.76</td>\n",
       "      <td>0.04</td>\n",
       "      <td>2.3</td>\n",
       "      <td>0.092</td>\n",
       "      <td>15.0</td>\n",
       "      <td>54.0</td>\n",
       "      <td>0.9970</td>\n",
       "      <td>3.26</td>\n",
       "      <td>0.65</td>\n",
       "      <td>9.8</td>\n",
       "      <td>5</td>\n",
       "    </tr>\n",
       "    <tr>\n",
       "      <th>3</th>\n",
       "      <td>red</td>\n",
       "      <td>11.2</td>\n",
       "      <td>0.28</td>\n",
       "      <td>0.56</td>\n",
       "      <td>1.9</td>\n",
       "      <td>0.075</td>\n",
       "      <td>17.0</td>\n",
       "      <td>60.0</td>\n",
       "      <td>0.9980</td>\n",
       "      <td>3.16</td>\n",
       "      <td>0.58</td>\n",
       "      <td>9.8</td>\n",
       "      <td>6</td>\n",
       "    </tr>\n",
       "    <tr>\n",
       "      <th>4</th>\n",
       "      <td>red</td>\n",
       "      <td>7.4</td>\n",
       "      <td>0.70</td>\n",
       "      <td>0.00</td>\n",
       "      <td>1.9</td>\n",
       "      <td>NaN</td>\n",
       "      <td>11.0</td>\n",
       "      <td>34.0</td>\n",
       "      <td>0.9978</td>\n",
       "      <td>3.51</td>\n",
       "      <td>0.56</td>\n",
       "      <td>9.4</td>\n",
       "      <td>5</td>\n",
       "    </tr>\n",
       "  </tbody>\n",
       "</table>\n",
       "</div>"
      ],
      "text/plain": [
       "  color  fixed_acidity  volatile_acidity  citric_acid  residual_sugar  \\\n",
       "0   red            7.4              0.70         0.00             1.9   \n",
       "1   red            7.8              0.88         0.00             2.6   \n",
       "2   red            7.8              0.76         0.04             2.3   \n",
       "3   red           11.2              0.28         0.56             1.9   \n",
       "4   red            7.4              0.70         0.00             1.9   \n",
       "\n",
       "   chlorides  free_sulfur_dioxide  total_sulfur_dioxide  density    pH  \\\n",
       "0      0.076                 11.0                  34.0   0.9978  3.51   \n",
       "1      0.098                 25.0                  67.0   0.9968  3.20   \n",
       "2      0.092                 15.0                  54.0   0.9970  3.26   \n",
       "3      0.075                 17.0                  60.0   0.9980  3.16   \n",
       "4        NaN                 11.0                  34.0   0.9978  3.51   \n",
       "\n",
       "   sulphates  alcohol  quality  \n",
       "0       0.56      9.4        5  \n",
       "1       0.68      9.8        5  \n",
       "2       0.65      9.8        5  \n",
       "3       0.58      9.8        6  \n",
       "4       0.56      9.4        5  "
      ]
     },
     "execution_count": 2,
     "metadata": {},
     "output_type": "execute_result"
    }
   ],
   "source": [
    "import glob\n",
    "\n",
    "ficheros = glob.glob('*.csv', recursive=True)\n",
    "\n",
    "lista_dfs = []\n",
    "\n",
    "for fichero in ficheros:\n",
    "    df = pd.read_csv(fichero,sep=';',decimal='.')\n",
    "    lista_dfs.append(df)\n",
    "\n",
    "df = pd.concat(lista_dfs)\n",
    "\n",
    "df.head()"
   ]
  },
  {
   "cell_type": "code",
   "execution_count": 3,
   "metadata": {},
   "outputs": [
    {
     "name": "stdout",
     "output_type": "stream",
     "text": [
      "<class 'pandas.core.frame.DataFrame'>\n",
      "Int64Index: 6497 entries, 0 to 4897\n",
      "Data columns (total 13 columns):\n",
      " #   Column                Non-Null Count  Dtype  \n",
      "---  ------                --------------  -----  \n",
      " 0   color                 6497 non-null   object \n",
      " 1   fixed_acidity         6497 non-null   float64\n",
      " 2   volatile_acidity      6497 non-null   float64\n",
      " 3   citric_acid           6497 non-null   float64\n",
      " 4   residual_sugar        6497 non-null   float64\n",
      " 5   chlorides             6492 non-null   float64\n",
      " 6   free_sulfur_dioxide   6492 non-null   float64\n",
      " 7   total_sulfur_dioxide  6497 non-null   float64\n",
      " 8   density               6497 non-null   float64\n",
      " 9   pH                    6497 non-null   float64\n",
      " 10  sulphates             6497 non-null   float64\n",
      " 11  alcohol               6497 non-null   float64\n",
      " 12  quality               6497 non-null   int64  \n",
      "dtypes: float64(11), int64(1), object(1)\n",
      "memory usage: 710.6+ KB\n"
     ]
    }
   ],
   "source": [
    "df.info()"
   ]
  },
  {
   "cell_type": "code",
   "execution_count": 4,
   "metadata": {},
   "outputs": [
    {
     "data": {
      "text/plain": [
       "color                   False\n",
       "fixed_acidity           False\n",
       "volatile_acidity        False\n",
       "citric_acid             False\n",
       "residual_sugar          False\n",
       "chlorides                True\n",
       "free_sulfur_dioxide      True\n",
       "total_sulfur_dioxide    False\n",
       "density                 False\n",
       "pH                      False\n",
       "sulphates               False\n",
       "alcohol                 False\n",
       "quality                 False\n",
       "dtype: bool"
      ]
     },
     "execution_count": 4,
     "metadata": {},
     "output_type": "execute_result"
    }
   ],
   "source": [
    "df.isna().any()"
   ]
  },
  {
   "cell_type": "code",
   "execution_count": 5,
   "metadata": {},
   "outputs": [],
   "source": [
    "# Missing imputation - Imputamos los nan values con su media\n",
    "\n",
    "df.chlorides.fillna(df.chlorides.mean(),inplace=True)\n",
    "df.free_sulfur_dioxide.fillna(df.free_sulfur_dioxide.mean(),inplace=True)"
   ]
  },
  {
   "cell_type": "code",
   "execution_count": 6,
   "metadata": {},
   "outputs": [
    {
     "data": {
      "text/plain": [
       "color                   False\n",
       "fixed_acidity           False\n",
       "volatile_acidity        False\n",
       "citric_acid             False\n",
       "residual_sugar          False\n",
       "chlorides               False\n",
       "free_sulfur_dioxide     False\n",
       "total_sulfur_dioxide    False\n",
       "density                 False\n",
       "pH                      False\n",
       "sulphates               False\n",
       "alcohol                 False\n",
       "quality                 False\n",
       "dtype: bool"
      ]
     },
     "execution_count": 6,
     "metadata": {},
     "output_type": "execute_result"
    }
   ],
   "source": [
    "df.isna().any()"
   ]
  },
  {
   "cell_type": "code",
   "execution_count": 7,
   "metadata": {},
   "outputs": [],
   "source": [
    "# Sacar dummies de las columnas categóricas\n",
    "\n",
    "from sklearn.preprocessing import OneHotEncoder\n",
    "\n",
    "encoder = OneHotEncoder(sparse=False)\n",
    "codif = encoder.fit_transform(df[['color']])\n",
    "df[encoder.get_feature_names()] = codif\n",
    "\n",
    "df.drop(['color','x0_white'],axis=1,inplace=True)"
   ]
  },
  {
   "cell_type": "code",
   "execution_count": 8,
   "metadata": {},
   "outputs": [
    {
     "data": {
      "text/plain": [
       "fixed_acidity           float64\n",
       "volatile_acidity        float64\n",
       "citric_acid             float64\n",
       "residual_sugar          float64\n",
       "chlorides               float64\n",
       "free_sulfur_dioxide     float64\n",
       "total_sulfur_dioxide    float64\n",
       "density                 float64\n",
       "pH                      float64\n",
       "sulphates               float64\n",
       "alcohol                 float64\n",
       "quality                   int64\n",
       "x0_red                  float64\n",
       "dtype: object"
      ]
     },
     "execution_count": 8,
     "metadata": {},
     "output_type": "execute_result"
    }
   ],
   "source": [
    "df.dtypes"
   ]
  },
  {
   "cell_type": "code",
   "execution_count": 9,
   "metadata": {},
   "outputs": [
    {
     "data": {
      "text/html": [
       "<div>\n",
       "<style scoped>\n",
       "    .dataframe tbody tr th:only-of-type {\n",
       "        vertical-align: middle;\n",
       "    }\n",
       "\n",
       "    .dataframe tbody tr th {\n",
       "        vertical-align: top;\n",
       "    }\n",
       "\n",
       "    .dataframe thead th {\n",
       "        text-align: right;\n",
       "    }\n",
       "</style>\n",
       "<table border=\"1\" class=\"dataframe\">\n",
       "  <thead>\n",
       "    <tr style=\"text-align: right;\">\n",
       "      <th></th>\n",
       "      <th>fixed_acidity</th>\n",
       "      <th>volatile_acidity</th>\n",
       "      <th>citric_acid</th>\n",
       "      <th>residual_sugar</th>\n",
       "      <th>chlorides</th>\n",
       "      <th>free_sulfur_dioxide</th>\n",
       "      <th>total_sulfur_dioxide</th>\n",
       "      <th>density</th>\n",
       "      <th>pH</th>\n",
       "      <th>sulphates</th>\n",
       "      <th>alcohol</th>\n",
       "      <th>quality</th>\n",
       "      <th>x0_red</th>\n",
       "    </tr>\n",
       "  </thead>\n",
       "  <tbody>\n",
       "    <tr>\n",
       "      <th>fixed_acidity</th>\n",
       "      <td>1.000000</td>\n",
       "      <td>0.219008</td>\n",
       "      <td>0.324436</td>\n",
       "      <td>-0.111981</td>\n",
       "      <td>0.297950</td>\n",
       "      <td>-0.282787</td>\n",
       "      <td>-0.329054</td>\n",
       "      <td>0.159212</td>\n",
       "      <td>-0.252700</td>\n",
       "      <td>0.299568</td>\n",
       "      <td>-0.093616</td>\n",
       "      <td>-0.076743</td>\n",
       "      <td>0.486740</td>\n",
       "    </tr>\n",
       "    <tr>\n",
       "      <th>volatile_acidity</th>\n",
       "      <td>0.219008</td>\n",
       "      <td>1.000000</td>\n",
       "      <td>-0.377981</td>\n",
       "      <td>-0.196011</td>\n",
       "      <td>0.377239</td>\n",
       "      <td>-0.352508</td>\n",
       "      <td>-0.414476</td>\n",
       "      <td>0.030868</td>\n",
       "      <td>0.261454</td>\n",
       "      <td>0.225984</td>\n",
       "      <td>-0.037188</td>\n",
       "      <td>-0.265699</td>\n",
       "      <td>0.653036</td>\n",
       "    </tr>\n",
       "    <tr>\n",
       "      <th>citric_acid</th>\n",
       "      <td>0.324436</td>\n",
       "      <td>-0.377981</td>\n",
       "      <td>1.000000</td>\n",
       "      <td>0.142451</td>\n",
       "      <td>0.039259</td>\n",
       "      <td>0.133036</td>\n",
       "      <td>0.195242</td>\n",
       "      <td>0.057748</td>\n",
       "      <td>-0.329808</td>\n",
       "      <td>0.056197</td>\n",
       "      <td>-0.010177</td>\n",
       "      <td>0.085532</td>\n",
       "      <td>-0.187397</td>\n",
       "    </tr>\n",
       "    <tr>\n",
       "      <th>residual_sugar</th>\n",
       "      <td>-0.111981</td>\n",
       "      <td>-0.196011</td>\n",
       "      <td>0.142451</td>\n",
       "      <td>1.000000</td>\n",
       "      <td>-0.128936</td>\n",
       "      <td>0.402738</td>\n",
       "      <td>0.495482</td>\n",
       "      <td>0.175741</td>\n",
       "      <td>-0.267320</td>\n",
       "      <td>-0.185927</td>\n",
       "      <td>-0.359699</td>\n",
       "      <td>-0.036980</td>\n",
       "      <td>-0.348821</td>\n",
       "    </tr>\n",
       "    <tr>\n",
       "      <th>chlorides</th>\n",
       "      <td>0.297950</td>\n",
       "      <td>0.377239</td>\n",
       "      <td>0.039259</td>\n",
       "      <td>-0.128936</td>\n",
       "      <td>1.000000</td>\n",
       "      <td>-0.194801</td>\n",
       "      <td>-0.279452</td>\n",
       "      <td>0.061630</td>\n",
       "      <td>0.044523</td>\n",
       "      <td>0.395408</td>\n",
       "      <td>-0.255885</td>\n",
       "      <td>-0.200214</td>\n",
       "      <td>0.512289</td>\n",
       "    </tr>\n",
       "    <tr>\n",
       "      <th>free_sulfur_dioxide</th>\n",
       "      <td>-0.282787</td>\n",
       "      <td>-0.352508</td>\n",
       "      <td>0.133036</td>\n",
       "      <td>0.402738</td>\n",
       "      <td>-0.194801</td>\n",
       "      <td>1.000000</td>\n",
       "      <td>0.720842</td>\n",
       "      <td>0.029622</td>\n",
       "      <td>-0.145840</td>\n",
       "      <td>-0.188133</td>\n",
       "      <td>-0.181445</td>\n",
       "      <td>0.055304</td>\n",
       "      <td>-0.471535</td>\n",
       "    </tr>\n",
       "    <tr>\n",
       "      <th>total_sulfur_dioxide</th>\n",
       "      <td>-0.329054</td>\n",
       "      <td>-0.414476</td>\n",
       "      <td>0.195242</td>\n",
       "      <td>0.495482</td>\n",
       "      <td>-0.279452</td>\n",
       "      <td>0.720842</td>\n",
       "      <td>1.000000</td>\n",
       "      <td>0.030990</td>\n",
       "      <td>-0.238413</td>\n",
       "      <td>-0.275727</td>\n",
       "      <td>-0.266783</td>\n",
       "      <td>-0.041385</td>\n",
       "      <td>-0.700357</td>\n",
       "    </tr>\n",
       "    <tr>\n",
       "      <th>density</th>\n",
       "      <td>0.159212</td>\n",
       "      <td>0.030868</td>\n",
       "      <td>0.057748</td>\n",
       "      <td>0.175741</td>\n",
       "      <td>0.061630</td>\n",
       "      <td>0.029622</td>\n",
       "      <td>0.030990</td>\n",
       "      <td>1.000000</td>\n",
       "      <td>-0.052710</td>\n",
       "      <td>0.062810</td>\n",
       "      <td>-0.080060</td>\n",
       "      <td>-0.029499</td>\n",
       "      <td>0.037252</td>\n",
       "    </tr>\n",
       "    <tr>\n",
       "      <th>pH</th>\n",
       "      <td>-0.252700</td>\n",
       "      <td>0.261454</td>\n",
       "      <td>-0.329808</td>\n",
       "      <td>-0.267320</td>\n",
       "      <td>0.044523</td>\n",
       "      <td>-0.145840</td>\n",
       "      <td>-0.238413</td>\n",
       "      <td>-0.052710</td>\n",
       "      <td>1.000000</td>\n",
       "      <td>0.192123</td>\n",
       "      <td>0.121941</td>\n",
       "      <td>0.019506</td>\n",
       "      <td>0.329129</td>\n",
       "    </tr>\n",
       "    <tr>\n",
       "      <th>sulphates</th>\n",
       "      <td>0.299568</td>\n",
       "      <td>0.225984</td>\n",
       "      <td>0.056197</td>\n",
       "      <td>-0.185927</td>\n",
       "      <td>0.395408</td>\n",
       "      <td>-0.188133</td>\n",
       "      <td>-0.275727</td>\n",
       "      <td>0.062810</td>\n",
       "      <td>0.192123</td>\n",
       "      <td>1.000000</td>\n",
       "      <td>-0.002711</td>\n",
       "      <td>0.038485</td>\n",
       "      <td>0.487218</td>\n",
       "    </tr>\n",
       "    <tr>\n",
       "      <th>alcohol</th>\n",
       "      <td>-0.093616</td>\n",
       "      <td>-0.037188</td>\n",
       "      <td>-0.010177</td>\n",
       "      <td>-0.359699</td>\n",
       "      <td>-0.255885</td>\n",
       "      <td>-0.181445</td>\n",
       "      <td>-0.266783</td>\n",
       "      <td>-0.080060</td>\n",
       "      <td>0.121941</td>\n",
       "      <td>-0.002711</td>\n",
       "      <td>1.000000</td>\n",
       "      <td>0.443825</td>\n",
       "      <td>-0.031859</td>\n",
       "    </tr>\n",
       "    <tr>\n",
       "      <th>quality</th>\n",
       "      <td>-0.076743</td>\n",
       "      <td>-0.265699</td>\n",
       "      <td>0.085532</td>\n",
       "      <td>-0.036980</td>\n",
       "      <td>-0.200214</td>\n",
       "      <td>0.055304</td>\n",
       "      <td>-0.041385</td>\n",
       "      <td>-0.029499</td>\n",
       "      <td>0.019506</td>\n",
       "      <td>0.038485</td>\n",
       "      <td>0.443825</td>\n",
       "      <td>1.000000</td>\n",
       "      <td>-0.119323</td>\n",
       "    </tr>\n",
       "    <tr>\n",
       "      <th>x0_red</th>\n",
       "      <td>0.486740</td>\n",
       "      <td>0.653036</td>\n",
       "      <td>-0.187397</td>\n",
       "      <td>-0.348821</td>\n",
       "      <td>0.512289</td>\n",
       "      <td>-0.471535</td>\n",
       "      <td>-0.700357</td>\n",
       "      <td>0.037252</td>\n",
       "      <td>0.329129</td>\n",
       "      <td>0.487218</td>\n",
       "      <td>-0.031859</td>\n",
       "      <td>-0.119323</td>\n",
       "      <td>1.000000</td>\n",
       "    </tr>\n",
       "  </tbody>\n",
       "</table>\n",
       "</div>"
      ],
      "text/plain": [
       "                      fixed_acidity  volatile_acidity  citric_acid  \\\n",
       "fixed_acidity              1.000000          0.219008     0.324436   \n",
       "volatile_acidity           0.219008          1.000000    -0.377981   \n",
       "citric_acid                0.324436         -0.377981     1.000000   \n",
       "residual_sugar            -0.111981         -0.196011     0.142451   \n",
       "chlorides                  0.297950          0.377239     0.039259   \n",
       "free_sulfur_dioxide       -0.282787         -0.352508     0.133036   \n",
       "total_sulfur_dioxide      -0.329054         -0.414476     0.195242   \n",
       "density                    0.159212          0.030868     0.057748   \n",
       "pH                        -0.252700          0.261454    -0.329808   \n",
       "sulphates                  0.299568          0.225984     0.056197   \n",
       "alcohol                   -0.093616         -0.037188    -0.010177   \n",
       "quality                   -0.076743         -0.265699     0.085532   \n",
       "x0_red                     0.486740          0.653036    -0.187397   \n",
       "\n",
       "                      residual_sugar  chlorides  free_sulfur_dioxide  \\\n",
       "fixed_acidity              -0.111981   0.297950            -0.282787   \n",
       "volatile_acidity           -0.196011   0.377239            -0.352508   \n",
       "citric_acid                 0.142451   0.039259             0.133036   \n",
       "residual_sugar              1.000000  -0.128936             0.402738   \n",
       "chlorides                  -0.128936   1.000000            -0.194801   \n",
       "free_sulfur_dioxide         0.402738  -0.194801             1.000000   \n",
       "total_sulfur_dioxide        0.495482  -0.279452             0.720842   \n",
       "density                     0.175741   0.061630             0.029622   \n",
       "pH                         -0.267320   0.044523            -0.145840   \n",
       "sulphates                  -0.185927   0.395408            -0.188133   \n",
       "alcohol                    -0.359699  -0.255885            -0.181445   \n",
       "quality                    -0.036980  -0.200214             0.055304   \n",
       "x0_red                     -0.348821   0.512289            -0.471535   \n",
       "\n",
       "                      total_sulfur_dioxide   density        pH  sulphates  \\\n",
       "fixed_acidity                    -0.329054  0.159212 -0.252700   0.299568   \n",
       "volatile_acidity                 -0.414476  0.030868  0.261454   0.225984   \n",
       "citric_acid                       0.195242  0.057748 -0.329808   0.056197   \n",
       "residual_sugar                    0.495482  0.175741 -0.267320  -0.185927   \n",
       "chlorides                        -0.279452  0.061630  0.044523   0.395408   \n",
       "free_sulfur_dioxide               0.720842  0.029622 -0.145840  -0.188133   \n",
       "total_sulfur_dioxide              1.000000  0.030990 -0.238413  -0.275727   \n",
       "density                           0.030990  1.000000 -0.052710   0.062810   \n",
       "pH                               -0.238413 -0.052710  1.000000   0.192123   \n",
       "sulphates                        -0.275727  0.062810  0.192123   1.000000   \n",
       "alcohol                          -0.266783 -0.080060  0.121941  -0.002711   \n",
       "quality                          -0.041385 -0.029499  0.019506   0.038485   \n",
       "x0_red                           -0.700357  0.037252  0.329129   0.487218   \n",
       "\n",
       "                       alcohol   quality    x0_red  \n",
       "fixed_acidity        -0.093616 -0.076743  0.486740  \n",
       "volatile_acidity     -0.037188 -0.265699  0.653036  \n",
       "citric_acid          -0.010177  0.085532 -0.187397  \n",
       "residual_sugar       -0.359699 -0.036980 -0.348821  \n",
       "chlorides            -0.255885 -0.200214  0.512289  \n",
       "free_sulfur_dioxide  -0.181445  0.055304 -0.471535  \n",
       "total_sulfur_dioxide -0.266783 -0.041385 -0.700357  \n",
       "density              -0.080060 -0.029499  0.037252  \n",
       "pH                    0.121941  0.019506  0.329129  \n",
       "sulphates            -0.002711  0.038485  0.487218  \n",
       "alcohol               1.000000  0.443825 -0.031859  \n",
       "quality               0.443825  1.000000 -0.119323  \n",
       "x0_red               -0.031859 -0.119323  1.000000  "
      ]
     },
     "execution_count": 9,
     "metadata": {},
     "output_type": "execute_result"
    }
   ],
   "source": [
    "df.corr()"
   ]
  },
  {
   "cell_type": "code",
   "execution_count": 10,
   "metadata": {},
   "outputs": [
    {
     "data": {
      "image/png": "[encoded data removed]",
      "text/plain": [
       "<Figure size 432x288 with 2 Axes>"
      ]
     },
     "metadata": {
      "needs_background": "light"
     },
     "output_type": "display_data"
    }
   ],
   "source": [
    "import seaborn as sns\n",
    "\n",
    "sns.heatmap(df.corr());"
   ]
  },
  {
   "cell_type": "code",
   "execution_count": 11,
   "metadata": {},
   "outputs": [],
   "source": [
    "y = df[['quality']]\n",
    "X = df.drop('quality',axis=1)"
   ]
  },
  {
   "cell_type": "code",
   "execution_count": 12,
   "metadata": {},
   "outputs": [],
   "source": [
    "y = y.values.ravel()"
   ]
  },
  {
   "cell_type": "code",
   "execution_count": 13,
   "metadata": {},
   "outputs": [
    {
     "data": {
      "text/plain": [
       "12"
      ]
     },
     "execution_count": 13,
     "metadata": {},
     "output_type": "execute_result"
    }
   ],
   "source": [
    "X.shape[1]"
   ]
  },
  {
   "cell_type": "code",
   "execution_count": 14,
   "metadata": {},
   "outputs": [],
   "source": [
    "#Split in train and test (25%)\n",
    "\n",
    "from sklearn.model_selection import train_test_split\n",
    "\n",
    "X_train,X_test,y_train,y_test = train_test_split(X,y,test_size=0.25,random_state=1)"
   ]
  },
  {
   "cell_type": "code",
   "execution_count": 15,
   "metadata": {},
   "outputs": [
    {
     "data": {
      "text/plain": [
       "4872"
      ]
     },
     "execution_count": 15,
     "metadata": {},
     "output_type": "execute_result"
    }
   ],
   "source": [
    "X_train.shape[0]"
   ]
  },
  {
   "cell_type": "code",
   "execution_count": 16,
   "metadata": {},
   "outputs": [
    {
     "data": {
      "text/plain": [
       "1625"
      ]
     },
     "execution_count": 16,
     "metadata": {},
     "output_type": "execute_result"
    }
   ],
   "source": [
    "X_test.shape[0]"
   ]
  },
  {
   "cell_type": "markdown",
   "metadata": {},
   "source": [
    "**Use SQL to get the following statistics: the total number of bottles and average of alcohol grouped by the quality**"
   ]
  },
  {
   "cell_type": "code",
   "execution_count": 17,
   "metadata": {},
   "outputs": [
    {
     "data": {
      "text/html": [
       "<div>\n",
       "<style scoped>\n",
       "    .dataframe tbody tr th:only-of-type {\n",
       "        vertical-align: middle;\n",
       "    }\n",
       "\n",
       "    .dataframe tbody tr th {\n",
       "        vertical-align: top;\n",
       "    }\n",
       "\n",
       "    .dataframe thead th {\n",
       "        text-align: right;\n",
       "    }\n",
       "</style>\n",
       "<table border=\"1\" class=\"dataframe\">\n",
       "  <thead>\n",
       "    <tr style=\"text-align: right;\">\n",
       "      <th></th>\n",
       "      <th>count</th>\n",
       "      <th>mean</th>\n",
       "    </tr>\n",
       "    <tr>\n",
       "      <th>quality</th>\n",
       "      <th></th>\n",
       "      <th></th>\n",
       "    </tr>\n",
       "  </thead>\n",
       "  <tbody>\n",
       "    <tr>\n",
       "      <th>3</th>\n",
       "      <td>30</td>\n",
       "      <td>10.215000</td>\n",
       "    </tr>\n",
       "    <tr>\n",
       "      <th>4</th>\n",
       "      <td>216</td>\n",
       "      <td>10.180093</td>\n",
       "    </tr>\n",
       "    <tr>\n",
       "      <th>5</th>\n",
       "      <td>2138</td>\n",
       "      <td>9.835444</td>\n",
       "    </tr>\n",
       "    <tr>\n",
       "      <th>6</th>\n",
       "      <td>2836</td>\n",
       "      <td>10.585049</td>\n",
       "    </tr>\n",
       "    <tr>\n",
       "      <th>7</th>\n",
       "      <td>1079</td>\n",
       "      <td>11.380056</td>\n",
       "    </tr>\n",
       "    <tr>\n",
       "      <th>8</th>\n",
       "      <td>193</td>\n",
       "      <td>11.678756</td>\n",
       "    </tr>\n",
       "    <tr>\n",
       "      <th>9</th>\n",
       "      <td>5</td>\n",
       "      <td>12.180000</td>\n",
       "    </tr>\n",
       "  </tbody>\n",
       "</table>\n",
       "</div>"
      ],
      "text/plain": [
       "         count       mean\n",
       "quality                  \n",
       "3           30  10.215000\n",
       "4          216  10.180093\n",
       "5         2138   9.835444\n",
       "6         2836  10.585049\n",
       "7         1079  11.380056\n",
       "8          193  11.678756\n",
       "9            5  12.180000"
      ]
     },
     "execution_count": 17,
     "metadata": {},
     "output_type": "execute_result"
    }
   ],
   "source": [
    "gr = df.groupby(by='quality',as_index=False)['alcohol'].agg(['count','mean'])\n",
    "gr"
   ]
  },
  {
   "cell_type": "markdown",
   "metadata": {},
   "source": [
    "**Fit models to the train dataset. Models to use: linear regression lasso and random forest cv**"
   ]
  },
  {
   "cell_type": "code",
   "execution_count": 18,
   "metadata": {},
   "outputs": [],
   "source": [
    "from sklearn.linear_model import LassoCV\n",
    "\n",
    "lasso = LassoCV(cv=10,n_alphas=100)\n",
    "lasso.fit(X_train,y_train)\n",
    "\n",
    "y_pred_lasso = lasso.predict(X_test)"
   ]
  },
  {
   "cell_type": "code",
   "execution_count": 19,
   "metadata": {},
   "outputs": [],
   "source": [
    "from sklearn.model_selection import GridSearchCV\n",
    "from sklearn.ensemble import RandomForestRegressor\n",
    "\n",
    "rf = RandomForestRegressor()\n",
    "tuned_parameters = [\n",
    "    {'min_samples_split':[100,500],\n",
    "     'n_estimators':[10,50,100]}\n",
    "]\n",
    "\n",
    "rfcv = GridSearchCV(rf,tuned_parameters)\n",
    "rfcv.fit(X_train,y_train)\n",
    "y_pred_rf = rfcv.predict(X_test)"
   ]
  },
  {
   "cell_type": "code",
   "execution_count": 31,
   "metadata": {},
   "outputs": [
    {
     "name": "stdout",
     "output_type": "stream",
     "text": [
      " \n",
      "------------- LASSO Regression -----------------\n",
      "MAE:  0.565199379190074\n",
      "Relative MAE (LASSO):  10.0\n",
      "R2 (LASSO):  0.29427819431687574\n"
     ]
    }
   ],
   "source": [
    "from sklearn.metrics import mean_absolute_error\n",
    "from sklearn.metrics import r2_score\n",
    "\n",
    "MAE_lasso = mean_absolute_error(y_pred = y_pred_lasso,y_true = y_test)\n",
    "print(\" \")\n",
    "print(\"------------- LASSO Regression -----------------\")\n",
    "print(\"MAE: \", MAE_lasso)\n",
    "print(\"Relative MAE (LASSO): \", 100*round(MAE_lasso/y_test.mean(),2) )\n",
    "print(\"R2 (LASSO): \", r2_score(y_pred = y_pred_lasso, y_true = y_test) )"
   ]
  },
  {
   "cell_type": "code",
   "execution_count": 32,
   "metadata": {},
   "outputs": [
    {
     "name": "stdout",
     "output_type": "stream",
     "text": [
      " \n",
      "------------- RANDOM FOREST CV -----------------\n",
      "MAE:  0.5289181758279706\n",
      "Relative MAE (Random Forest):  9.0\n",
      "R2 (Random Forest):  0.3800515487504096\n"
     ]
    }
   ],
   "source": [
    "MAE_rf = mean_absolute_error(y_pred = y_pred_rf,y_true = y_test)\n",
    "print(\" \")\n",
    "print(\"------------- RANDOM FOREST CV -----------------\")\n",
    "print(\"MAE: \", MAE_rf)\n",
    "print(\"Relative MAE (Random Forest): \", 100*round(MAE_rf/y_test.mean(),2) )\n",
    "print(\"R2 (Random Forest): \", r2_score(y_pred = y_pred_rf, y_true = y_test) )"
   ]
  }
 ],
 "metadata": {
  "kernelspec": {
   "display_name": "Python 3 (ipykernel)",
   "language": "python",
   "name": "python3"
  },
  "language_info": {
   "codemirror_mode": {
    "name": "ipython",
    "version": 3
   },
   "file_extension": ".py",
   "mimetype": "text/x-python",
   "name": "python",
   "nbconvert_exporter": "python",
   "pygments_lexer": "ipython3",
   "version": "3.8.5"
  }
 },
 "nbformat": 4,
 "nbformat_minor": 4
}
