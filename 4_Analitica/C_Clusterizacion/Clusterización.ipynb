{
 "cells": [
  {
   "cell_type": "markdown",
   "metadata": {
    "ExecuteTime": {
     "end_time": "2021-03-24T15:50:46.188848Z",
     "start_time": "2021-03-24T15:50:46.138815Z"
    }
   },
   "source": [
    "![Logo](images/logo_mds.png)"
   ]
  },
  {
   "cell_type": "markdown",
   "metadata": {},
   "source": [
    "# Clusterización\n",
    "\n",
    "La clusterización es una técncia de aprendizaje no supervisado que, partiendo de un conjunto de datos y de un número de clústers solicitado, agrega las observaciones de forma que maximice el parecido entre los objetos de un mismo clúster.\n",
    "\n",
    "Al tratarse de un aprendizaje no supervisado el objetivo principal es **descubrir información que no sabíamos que está ahí**.\n",
    "\n",
    "En esta sesión trabajaremos desde los sistemas de **scoring**, **clusterización**, **distancias** y cómo las **funciones de error** pueden ayudarnos a dar el salto entre la analítica **predictiva** y la **prescriptiva**.\n",
    "\n",
    "# Scoring  / sistemas de segmentación\n",
    "\n",
    "Antes de empezar con la clusterización propiamente dicha, podemos fijarnos en la forma de realizar el equivalente al clustering manualmente.\n",
    "\n",
    "Se trata de los sistemas de Scoring.\n",
    "\n",
    "Un sistema de scoring trata de realizar una segmentación de elementos basándose en reglas pensadas de forma aséptica, es decir, se planifica una regla tratando de minimizar la influencia de los datos en nuestro proceso de razonamiento.\n",
    "\n",
    "Durante el curso hemos visto dos ejemplos de sistemas de este tipo de clasificación:\n",
    "\n",
    "1. **ABC**\n",
    "2. **RFM**\n",
    "\n",
    "La principal diferencia entre estos sistemas de clasificación y los estudiados en la sesión anterior está en que en estos sistemas (ABC, RFM), se basan en unas reglas planificadas de antemano, mientras que un algoritmo de clasificación, lo que hace es extraer reglas que están \"latentes\" en los datos.\n",
    "\n",
    "Tanto **ABC** como **RFM** podrían ser considerados como sistemas de **scoring**.\n",
    "\n",
    "Un sistema de puntuación asigna valores numéricos a diferentes características de un elemento para obtener una medida resumen de cómo de bueno o malo es respecto a nuestros criterios.\n",
    "\n",
    "En los sistemas de scoring es habitual utilizar medidas estadísticas discretas como pueden ser los cuartiles, media o mediana para categorizar. Además de estas clasificaciones discretas también podemos utilizar medidas continuas para conseguir una transición más suave en un sistema de scoring.\n",
    "\n",
    "## Ejemplo de Scoring\n",
    "\n",
    "Vamos a plantear un modelo de scoring partiendo de un juego de datos de comercio electrónico.\n",
    "\n",
    "Este juego de datos contiene la siguiente información:\n",
    "\n",
    "| Campo | Descripción |\n",
    "|:--:| :--:|\n",
    "| InvoiceNo | Número de factura | \n",
    "| StockCode | Código de producto |\n",
    "| Description | Descriptivo del producto |\n",
    "| Quantity | Cantidad vendida |\n",
    "| InvoiceDate | Fecha de factura |\n",
    "| UnitPrice | Precio Unitario |\n",
    "| CustomerID | Id de Cliente  |\n",
    "| Country | País de procedencia |\n",
    "| Total | Total de la línea (cantidad * precio unitario) |\n",
    "| Cantidad_venta | Cantidad venta (sin devoluciones) |\n",
    "| Cantidad_devo | Cantidad devuelta (sin ventas positivas) |\n",
    "\n",
    "Los datos abarcan un periodo ligeramente superior a un año (29/11/2016 al 7/12/2017), pero, por no entrar en aspectos técnicos consideraremos que es tiempo suficiente como para sacar conclusiones sobre todos los clientes (normalmente consideraríamos solo los clientes que tengan, al menos, una antigüedad de x meses).\n",
    "\n",
    "Nos interesa crear un sistema de scoring que contemple varios aspectos:\n",
    "1. Compran más de lo normal en € (gasto total más alto de lo habitual)\n",
    "4. Compran más de lo normal en uds\n",
    "2. Compran con más frecuencia de lo normal (número de tickets)\n",
    "3. Devuelven menos de lo normal\n",
    "\n",
    "\n",
    "Vamos a realizar este proceso desde dos puntos de vista diferentes:\n",
    "\n",
    "- Scoring discreto por quintiles (estilo RFM)\n",
    "- Scoring continuo "
   ]
  },
  {
   "cell_type": "code",
   "execution_count": 1,
   "metadata": {
    "ExecuteTime": {
     "end_time": "2022-03-05T05:45:36.527218Z",
     "start_time": "2022-03-05T05:45:34.636639Z"
    },
    "scrolled": true
   },
   "outputs": [
    {
     "data": {
      "text/html": [
       "<div>\n",
       "<style scoped>\n",
       "    .dataframe tbody tr th:only-of-type {\n",
       "        vertical-align: middle;\n",
       "    }\n",
       "\n",
       "    .dataframe tbody tr th {\n",
       "        vertical-align: top;\n",
       "    }\n",
       "\n",
       "    .dataframe thead th {\n",
       "        text-align: right;\n",
       "    }\n",
       "</style>\n",
       "<table border=\"1\" class=\"dataframe\">\n",
       "  <thead>\n",
       "    <tr style=\"text-align: right;\">\n",
       "      <th></th>\n",
       "      <th>InvoiceNo</th>\n",
       "      <th>StockCode</th>\n",
       "      <th>Description</th>\n",
       "      <th>Quantity</th>\n",
       "      <th>InvoiceDate</th>\n",
       "      <th>UnitPrice</th>\n",
       "      <th>CustomerID</th>\n",
       "      <th>Country</th>\n",
       "      <th>Total</th>\n",
       "      <th>Cantidad_devo</th>\n",
       "      <th>Cantidad_venta</th>\n",
       "    </tr>\n",
       "  </thead>\n",
       "  <tbody>\n",
       "    <tr>\n",
       "      <th>0</th>\n",
       "      <td>536365</td>\n",
       "      <td>85123A</td>\n",
       "      <td>WHITE HANGING HEART T-LIGHT HOLDER</td>\n",
       "      <td>6</td>\n",
       "      <td>2016-11-29</td>\n",
       "      <td>2.55</td>\n",
       "      <td>17850</td>\n",
       "      <td>United Kingdom</td>\n",
       "      <td>15.30</td>\n",
       "      <td>0</td>\n",
       "      <td>6</td>\n",
       "    </tr>\n",
       "    <tr>\n",
       "      <th>1</th>\n",
       "      <td>536365</td>\n",
       "      <td>71053</td>\n",
       "      <td>WHITE METAL LANTERN</td>\n",
       "      <td>6</td>\n",
       "      <td>2016-11-29</td>\n",
       "      <td>3.39</td>\n",
       "      <td>17850</td>\n",
       "      <td>United Kingdom</td>\n",
       "      <td>20.34</td>\n",
       "      <td>0</td>\n",
       "      <td>6</td>\n",
       "    </tr>\n",
       "    <tr>\n",
       "      <th>2</th>\n",
       "      <td>536365</td>\n",
       "      <td>84406B</td>\n",
       "      <td>CREAM CUPID HEARTS COAT HANGER</td>\n",
       "      <td>8</td>\n",
       "      <td>2016-11-29</td>\n",
       "      <td>2.75</td>\n",
       "      <td>17850</td>\n",
       "      <td>United Kingdom</td>\n",
       "      <td>22.00</td>\n",
       "      <td>0</td>\n",
       "      <td>8</td>\n",
       "    </tr>\n",
       "  </tbody>\n",
       "</table>\n",
       "</div>"
      ],
      "text/plain": [
       "  InvoiceNo StockCode                         Description  Quantity  \\\n",
       "0    536365    85123A  WHITE HANGING HEART T-LIGHT HOLDER         6   \n",
       "1    536365     71053                 WHITE METAL LANTERN         6   \n",
       "2    536365    84406B      CREAM CUPID HEARTS COAT HANGER         8   \n",
       "\n",
       "  InvoiceDate  UnitPrice  CustomerID         Country  Total  Cantidad_devo  \\\n",
       "0  2016-11-29       2.55       17850  United Kingdom  15.30              0   \n",
       "1  2016-11-29       3.39       17850  United Kingdom  20.34              0   \n",
       "2  2016-11-29       2.75       17850  United Kingdom  22.00              0   \n",
       "\n",
       "   Cantidad_venta  \n",
       "0               6  \n",
       "1               6  \n",
       "2               8  "
      ]
     },
     "execution_count": 1,
     "metadata": {},
     "output_type": "execute_result"
    }
   ],
   "source": [
    "import pandas as pd\n",
    "import numpy as np\n",
    "import seaborn as sns\n",
    "from matplotlib import pyplot as plt\n",
    "from sklearn.preprocessing import PowerTransformer\n",
    "\n",
    "plt.rcParams['figure.figsize'] = (10,8)\n",
    "\n",
    "\n",
    "def obtener_df():\n",
    "    '''\n",
    "    Lee el CSV utilizado para realizar el scoring\n",
    "    '''\n",
    "    df = pd.read_csv('./Datos/Ecommerce.csv').drop(columns=['Unnamed: 8'])\n",
    "\n",
    "    # Eliminamos las filas que tienen nulos    \n",
    "    df = df.dropna()\n",
    "    \n",
    "    # Convierte la columna de fecha a tipo de datos fecha\n",
    "    df['InvoiceDate'] = pd.to_datetime(df['InvoiceDate'])\n",
    "    \n",
    "    # y la de cliente a entero (la detecta como float)\n",
    "    df['CustomerID'] = df.CustomerID.astype(int)\n",
    "    \n",
    "    # Calculamos el total de la fila\n",
    "    df['Total'] = df['Quantity'] * df['UnitPrice']\n",
    "    \n",
    "    # Establecemos una columna de cantidad de devolución \n",
    "    df['Cantidad_devo'] = df['Quantity']\n",
    "    df.loc[df['Cantidad_devo'] > 0, 'Cantidad_devo'] = 0\n",
    "    df['Cantidad_devo'] = df['Cantidad_devo'] * -1\n",
    "\n",
    "    # Establecemos una columna de cantidad de venta\n",
    "    df['Cantidad_venta'] = df['Quantity']\n",
    "    df.loc[df['Cantidad_venta'] < 0, 'Cantidad_venta'] = 0\n",
    "    \n",
    "    \n",
    "    return df\n",
    "\n",
    "def agregar(df, caracteristica, nivel = 'CustomerID', fn='sum', resultado='-1'):\n",
    "    '''\n",
    "    Agrega un dataframe al nivel indicado en nivel, por la característica proporcionada.\n",
    "    \n",
    "    La función de agregación a aplicar será la suma por defecto, pudiendo indicar otra.\n",
    "    \n",
    "    El parámetro resultado establece el nombre que tendrá la columna de resultado, si no se indica\n",
    "    nada se establece igual que la función de agregación.\n",
    "    '''\n",
    "    if resultado == '-1':\n",
    "        resultado = fn\n",
    "    gb = df.groupby(by=nivel)[caracteristica].agg([fn])\n",
    "    gb = gb.rename({fn: resultado}, axis=1)\n",
    "    return gb.reset_index()\n",
    "\n",
    "df = obtener_df()\n",
    "df.head(3)"
   ]
  },
  {
   "cell_type": "markdown",
   "metadata": {},
   "source": [
    "### Cómo funciona la función agregar\n",
    "\n",
    "La función agregar automatiza algunos pásos básicos de la agregación de datos.\n",
    "\n",
    "Agrega la cantidad de venta (Cantidad_venta) por cliente (CustomerID)"
   ]
  },
  {
   "cell_type": "code",
   "execution_count": 2,
   "metadata": {
    "ExecuteTime": {
     "end_time": "2022-03-04T19:03:01.310013Z",
     "start_time": "2022-03-04T19:03:01.279985Z"
    }
   },
   "outputs": [
    {
     "data": {
      "text/html": [
       "<div>\n",
       "<style scoped>\n",
       "    .dataframe tbody tr th:only-of-type {\n",
       "        vertical-align: middle;\n",
       "    }\n",
       "\n",
       "    .dataframe tbody tr th {\n",
       "        vertical-align: top;\n",
       "    }\n",
       "\n",
       "    .dataframe thead th {\n",
       "        text-align: right;\n",
       "    }\n",
       "</style>\n",
       "<table border=\"1\" class=\"dataframe\">\n",
       "  <thead>\n",
       "    <tr style=\"text-align: right;\">\n",
       "      <th></th>\n",
       "      <th>CustomerID</th>\n",
       "      <th>sum</th>\n",
       "    </tr>\n",
       "  </thead>\n",
       "  <tbody>\n",
       "    <tr>\n",
       "      <th>1703</th>\n",
       "      <td>14646</td>\n",
       "      <td>197491</td>\n",
       "    </tr>\n",
       "    <tr>\n",
       "      <th>3033</th>\n",
       "      <td>16446</td>\n",
       "      <td>80997</td>\n",
       "    </tr>\n",
       "    <tr>\n",
       "      <th>1895</th>\n",
       "      <td>14911</td>\n",
       "      <td>80515</td>\n",
       "    </tr>\n",
       "    <tr>\n",
       "      <th>55</th>\n",
       "      <td>12415</td>\n",
       "      <td>77670</td>\n",
       "    </tr>\n",
       "    <tr>\n",
       "      <th>0</th>\n",
       "      <td>12346</td>\n",
       "      <td>74215</td>\n",
       "    </tr>\n",
       "  </tbody>\n",
       "</table>\n",
       "</div>"
      ],
      "text/plain": [
       "      CustomerID     sum\n",
       "1703       14646  197491\n",
       "3033       16446   80997\n",
       "1895       14911   80515\n",
       "55         12415   77670\n",
       "0          12346   74215"
      ]
     },
     "execution_count": 2,
     "metadata": {},
     "output_type": "execute_result"
    }
   ],
   "source": [
    "gr = agregar(df,'Cantidad_venta','CustomerID')\n",
    "gr.sort_values(by='sum',ascending=False).head()"
   ]
  },
  {
   "cell_type": "markdown",
   "metadata": {},
   "source": [
    "Agrega la cantidad de venta (Cantidad_venta) por código de producto:"
   ]
  },
  {
   "cell_type": "code",
   "execution_count": 3,
   "metadata": {
    "ExecuteTime": {
     "end_time": "2022-03-04T19:02:36.146613Z",
     "start_time": "2022-03-04T19:02:36.102621Z"
    }
   },
   "outputs": [
    {
     "data": {
      "text/html": [
       "<div>\n",
       "<style scoped>\n",
       "    .dataframe tbody tr th:only-of-type {\n",
       "        vertical-align: middle;\n",
       "    }\n",
       "\n",
       "    .dataframe tbody tr th {\n",
       "        vertical-align: top;\n",
       "    }\n",
       "\n",
       "    .dataframe thead th {\n",
       "        text-align: right;\n",
       "    }\n",
       "</style>\n",
       "<table border=\"1\" class=\"dataframe\">\n",
       "  <thead>\n",
       "    <tr style=\"text-align: right;\">\n",
       "      <th></th>\n",
       "      <th>StockCode</th>\n",
       "      <th>sum</th>\n",
       "    </tr>\n",
       "  </thead>\n",
       "  <tbody>\n",
       "    <tr>\n",
       "      <th>2403</th>\n",
       "      <td>23843</td>\n",
       "      <td>80995</td>\n",
       "    </tr>\n",
       "    <tr>\n",
       "      <th>2001</th>\n",
       "      <td>23166</td>\n",
       "      <td>77916</td>\n",
       "    </tr>\n",
       "    <tr>\n",
       "      <th>2812</th>\n",
       "      <td>84077</td>\n",
       "      <td>54415</td>\n",
       "    </tr>\n",
       "    <tr>\n",
       "      <th>1092</th>\n",
       "      <td>22197</td>\n",
       "      <td>49183</td>\n",
       "    </tr>\n",
       "    <tr>\n",
       "      <th>3235</th>\n",
       "      <td>85099B</td>\n",
       "      <td>46181</td>\n",
       "    </tr>\n",
       "  </tbody>\n",
       "</table>\n",
       "</div>"
      ],
      "text/plain": [
       "     StockCode    sum\n",
       "2403     23843  80995\n",
       "2001     23166  77916\n",
       "2812     84077  54415\n",
       "1092     22197  49183\n",
       "3235    85099B  46181"
      ]
     },
     "execution_count": 3,
     "metadata": {},
     "output_type": "execute_result"
    }
   ],
   "source": [
    "gr2 = agregar(df,'Cantidad_venta','StockCode')\n",
    "gr2.sort_values(by='sum',ascending=False).head()"
   ]
  },
  {
   "cell_type": "markdown",
   "metadata": {},
   "source": [
    "## Transformación de datos\n",
    "\n",
    "Debemos normalizar los datos y eliminar outliers"
   ]
  },
  {
   "cell_type": "code",
   "execution_count": 4,
   "metadata": {
    "ExecuteTime": {
     "end_time": "2022-03-05T05:45:43.681270Z",
     "start_time": "2022-03-05T05:45:36.531408Z"
    }
   },
   "outputs": [
    {
     "data": {
      "text/plain": [
       "<AxesSubplot:xlabel='venta_total', ylabel='Count'>"
      ]
     },
     "execution_count": 4,
     "metadata": {},
     "output_type": "execute_result"
    },
    {
     "data": {
      "image/png": "[encoded data removed]",
      "text/plain": [
       "<Figure size 720x576 with 1 Axes>"
      ]
     },
     "metadata": {
      "needs_background": "light"
     },
     "output_type": "display_data"
    }
   ],
   "source": [
    "plt.figure()\n",
    "sns.histplot(agregar(df, 'Quantity', resultado='venta_total')['venta_total'] )"
   ]
  },
  {
   "cell_type": "code",
   "execution_count": 5,
   "metadata": {
    "ExecuteTime": {
     "end_time": "2022-03-05T05:45:44.104139Z",
     "start_time": "2022-03-05T05:45:43.687151Z"
    }
   },
   "outputs": [
    {
     "data": {
      "text/plain": [
       "<AxesSubplot:xlabel='vta_transf', ylabel='Count'>"
      ]
     },
     "execution_count": 5,
     "metadata": {},
     "output_type": "execute_result"
    },
    {
     "data": {
      "image/png": "[encoded data removed]",
      "text/plain": [
       "<Figure size 720x576 with 1 Axes>"
      ]
     },
     "metadata": {
      "needs_background": "light"
     },
     "output_type": "display_data"
    }
   ],
   "source": [
    "ag_venta = agregar(df, 'Cantidad_venta', resultado='venta_total')\n",
    "\n",
    "# Puesto que se trata de una distribución exponencial, podemos aplicar una transformación \n",
    "# de yeo-johnson a esta serie de datos para normalizarla\n",
    "ag_venta['vta_transf'] = 0\n",
    "p = PowerTransformer(method='yeo-johnson')\n",
    "transformada = p.fit_transform(ag_venta[['venta_total']] )\n",
    "ag_venta['vta_transf'] = transformada\n",
    "\n",
    "plt.figure()\n",
    "sns.histplot(ag_venta['vta_transf'])"
   ]
  },
  {
   "cell_type": "code",
   "execution_count": 6,
   "metadata": {
    "ExecuteTime": {
     "end_time": "2022-03-05T05:45:44.386357Z",
     "start_time": "2022-03-05T05:45:44.371469Z"
    }
   },
   "outputs": [],
   "source": [
    "outliers_venta = ag_venta[(ag_venta['vta_transf'] > 2) | (ag_venta['vta_transf']< -2)].CustomerID"
   ]
  },
  {
   "cell_type": "code",
   "execution_count": 7,
   "metadata": {
    "ExecuteTime": {
     "end_time": "2022-03-05T05:45:45.186484Z",
     "start_time": "2022-03-05T05:45:45.170758Z"
    }
   },
   "outputs": [
    {
     "data": {
      "text/plain": [
       "(406829, 11)"
      ]
     },
     "execution_count": 7,
     "metadata": {},
     "output_type": "execute_result"
    }
   ],
   "source": [
    "df.shape"
   ]
  },
  {
   "cell_type": "code",
   "execution_count": 8,
   "metadata": {
    "ExecuteTime": {
     "end_time": "2022-03-05T05:45:48.944179Z",
     "start_time": "2022-03-05T05:45:48.854841Z"
    }
   },
   "outputs": [
    {
     "data": {
      "text/plain": [
       "(342819, 11)"
      ]
     },
     "execution_count": 8,
     "metadata": {},
     "output_type": "execute_result"
    }
   ],
   "source": [
    "\n",
    "# Me quedo con los clientes cuyo códiog de cliente no esté en los outliers de venta\n",
    "df = df[~df['CustomerID'].isin(outliers_venta)]\n",
    "df.shape"
   ]
  },
  {
   "cell_type": "code",
   "execution_count": 9,
   "metadata": {
    "ExecuteTime": {
     "end_time": "2022-03-05T05:46:54.839802Z",
     "start_time": "2022-03-05T05:46:54.193569Z"
    }
   },
   "outputs": [
    {
     "data": {
      "text/plain": [
       "<AxesSubplot:xlabel='sum', ylabel='Count'>"
      ]
     },
     "execution_count": 9,
     "metadata": {},
     "output_type": "execute_result"
    },
    {
     "data": {
      "image/png": "[encoded data removed]",
      "text/plain": [
       "<Figure size 720x576 with 1 Axes>"
      ]
     },
     "metadata": {
      "needs_background": "light"
     },
     "output_type": "display_data"
    }
   ],
   "source": [
    "plt.figure()\n",
    "ag_devo = agregar(df, 'Cantidad_devo')\n",
    "sns.histplot(data=ag_devo['sum'], bins=100)"
   ]
  },
  {
   "cell_type": "markdown",
   "metadata": {},
   "source": [
    "\n",
    "El motivo por el que el gráfico se \"ve\" tan mal es el siguiente, hay muy pocos valores de retorno y muy dispersos."
   ]
  },
  {
   "cell_type": "code",
   "execution_count": 10,
   "metadata": {
    "ExecuteTime": {
     "end_time": "2022-03-05T05:46:58.540516Z",
     "start_time": "2022-03-05T05:46:58.511960Z"
    }
   },
   "outputs": [
    {
     "data": {
      "text/html": [
       "<div>\n",
       "<style scoped>\n",
       "    .dataframe tbody tr th:only-of-type {\n",
       "        vertical-align: middle;\n",
       "    }\n",
       "\n",
       "    .dataframe tbody tr th {\n",
       "        vertical-align: top;\n",
       "    }\n",
       "\n",
       "    .dataframe thead th {\n",
       "        text-align: right;\n",
       "    }\n",
       "</style>\n",
       "<table border=\"1\" class=\"dataframe\">\n",
       "  <thead>\n",
       "    <tr style=\"text-align: right;\">\n",
       "      <th></th>\n",
       "      <th>CustomerID</th>\n",
       "      <th>sum</th>\n",
       "    </tr>\n",
       "  </thead>\n",
       "  <tbody>\n",
       "    <tr>\n",
       "      <th>2226</th>\n",
       "      <td>15482</td>\n",
       "      <td>2022</td>\n",
       "    </tr>\n",
       "    <tr>\n",
       "      <th>3255</th>\n",
       "      <td>16938</td>\n",
       "      <td>1515</td>\n",
       "    </tr>\n",
       "    <tr>\n",
       "      <th>4079</th>\n",
       "      <td>18133</td>\n",
       "      <td>1350</td>\n",
       "    </tr>\n",
       "    <tr>\n",
       "      <th>1553</th>\n",
       "      <td>14533</td>\n",
       "      <td>1242</td>\n",
       "    </tr>\n",
       "    <tr>\n",
       "      <th>203</th>\n",
       "      <td>12607</td>\n",
       "      <td>1228</td>\n",
       "    </tr>\n",
       "    <tr>\n",
       "      <th>...</th>\n",
       "      <td>...</td>\n",
       "      <td>...</td>\n",
       "    </tr>\n",
       "    <tr>\n",
       "      <th>1739</th>\n",
       "      <td>14804</td>\n",
       "      <td>0</td>\n",
       "    </tr>\n",
       "    <tr>\n",
       "      <th>1740</th>\n",
       "      <td>14805</td>\n",
       "      <td>0</td>\n",
       "    </tr>\n",
       "    <tr>\n",
       "      <th>1741</th>\n",
       "      <td>14806</td>\n",
       "      <td>0</td>\n",
       "    </tr>\n",
       "    <tr>\n",
       "      <th>1743</th>\n",
       "      <td>14810</td>\n",
       "      <td>0</td>\n",
       "    </tr>\n",
       "    <tr>\n",
       "      <th>4189</th>\n",
       "      <td>18287</td>\n",
       "      <td>0</td>\n",
       "    </tr>\n",
       "  </tbody>\n",
       "</table>\n",
       "<p>4190 rows × 2 columns</p>\n",
       "</div>"
      ],
      "text/plain": [
       "      CustomerID   sum\n",
       "2226       15482  2022\n",
       "3255       16938  1515\n",
       "4079       18133  1350\n",
       "1553       14533  1242\n",
       "203        12607  1228\n",
       "...          ...   ...\n",
       "1739       14804     0\n",
       "1740       14805     0\n",
       "1741       14806     0\n",
       "1743       14810     0\n",
       "4189       18287     0\n",
       "\n",
       "[4190 rows x 2 columns]"
      ]
     },
     "execution_count": 10,
     "metadata": {},
     "output_type": "execute_result"
    }
   ],
   "source": [
    "ag_devo.sort_values(by='sum', ascending=False)"
   ]
  },
  {
   "cell_type": "code",
   "execution_count": 11,
   "metadata": {
    "ExecuteTime": {
     "end_time": "2022-03-05T05:46:59.551671Z",
     "start_time": "2022-03-05T05:46:59.211914Z"
    }
   },
   "outputs": [
    {
     "data": {
      "text/plain": [
       "<AxesSubplot:xlabel='devo_transf', ylabel='Count'>"
      ]
     },
     "execution_count": 11,
     "metadata": {},
     "output_type": "execute_result"
    },
    {
     "data": {
      "image/png": "[encoded data removed]",
      "text/plain": [
       "<Figure size 720x576 with 1 Axes>"
      ]
     },
     "metadata": {
      "needs_background": "light"
     },
     "output_type": "display_data"
    }
   ],
   "source": [
    "p = PowerTransformer(method='yeo-johnson')\n",
    "\n",
    "ag_devo = ag_devo.loc[ag_devo['sum'] > 0]\n",
    "\n",
    "ag_devo['devo_transf'] = p.fit_transform(ag_devo[['sum']])\n",
    "plt.figure()\n",
    "sns.histplot(ag_devo['devo_transf'])"
   ]
  },
  {
   "cell_type": "markdown",
   "metadata": {},
   "source": [
    "No hacemos ninguna eliminación de outliers de la devo puesto que no hay datos suficientes como para considerar que podemos tomar una decisión correcta."
   ]
  },
  {
   "cell_type": "code",
   "execution_count": 12,
   "metadata": {
    "ExecuteTime": {
     "end_time": "2022-03-05T05:47:05.113701Z",
     "start_time": "2022-03-05T05:47:00.561460Z"
    }
   },
   "outputs": [
    {
     "data": {
      "text/plain": [
       "<AxesSubplot:xlabel='count', ylabel='Count'>"
      ]
     },
     "execution_count": 12,
     "metadata": {},
     "output_type": "execute_result"
    },
    {
     "data": {
      "image/png": "[encoded data removed]",
      "text/plain": [
       "<Figure size 720x576 with 1 Axes>"
      ]
     },
     "metadata": {
      "needs_background": "light"
     },
     "output_type": "display_data"
    }
   ],
   "source": [
    "ag_docs = agregar(df, 'InvoiceNo', fn='count')\n",
    "plt.figure()\n",
    "sns.histplot(ag_docs['count'])"
   ]
  },
  {
   "cell_type": "code",
   "execution_count": 13,
   "metadata": {
    "ExecuteTime": {
     "end_time": "2022-03-05T05:47:06.955206Z",
     "start_time": "2022-03-05T05:47:06.508705Z"
    }
   },
   "outputs": [
    {
     "data": {
      "text/plain": [
       "<AxesSubplot:xlabel='conteo_transf', ylabel='Count'>"
      ]
     },
     "execution_count": 13,
     "metadata": {},
     "output_type": "execute_result"
    },
    {
     "data": {
      "image/png": "[encoded data removed]",
      "text/plain": [
       "<Figure size 720x576 with 1 Axes>"
      ]
     },
     "metadata": {
      "needs_background": "light"
     },
     "output_type": "display_data"
    }
   ],
   "source": [
    "ag_docs['conteo_transf'] = p.fit_transform(ag_docs[['count']])\n",
    "plt.figure()\n",
    "sns.histplot(ag_docs['conteo_transf'])"
   ]
  },
  {
   "cell_type": "code",
   "execution_count": 14,
   "metadata": {
    "ExecuteTime": {
     "end_time": "2022-03-05T05:47:06.977752Z",
     "start_time": "2022-03-05T05:47:06.961988Z"
    }
   },
   "outputs": [
    {
     "data": {
      "text/plain": [
       "(342819, 11)"
      ]
     },
     "execution_count": 14,
     "metadata": {},
     "output_type": "execute_result"
    }
   ],
   "source": [
    "outliers_conteo = ag_docs[(ag_docs['conteo_transf'] > 2) | (ag_docs['conteo_transf']< -2)].CustomerID\n",
    "df.shape"
   ]
  },
  {
   "cell_type": "code",
   "execution_count": 15,
   "metadata": {
    "ExecuteTime": {
     "end_time": "2022-03-05T05:47:07.655008Z",
     "start_time": "2022-03-05T05:47:07.565394Z"
    }
   },
   "outputs": [
    {
     "data": {
      "text/plain": [
       "(288422, 11)"
      ]
     },
     "execution_count": 15,
     "metadata": {},
     "output_type": "execute_result"
    }
   ],
   "source": [
    "df = df[~df['CustomerID'].isin(outliers_conteo)]\n",
    "df.shape"
   ]
  },
  {
   "cell_type": "code",
   "execution_count": 16,
   "metadata": {
    "ExecuteTime": {
     "end_time": "2022-03-05T05:47:08.206008Z",
     "start_time": "2022-03-05T05:47:08.158113Z"
    }
   },
   "outputs": [
    {
     "data": {
      "text/html": [
       "<div>\n",
       "<style scoped>\n",
       "    .dataframe tbody tr th:only-of-type {\n",
       "        vertical-align: middle;\n",
       "    }\n",
       "\n",
       "    .dataframe tbody tr th {\n",
       "        vertical-align: top;\n",
       "    }\n",
       "\n",
       "    .dataframe thead th {\n",
       "        text-align: right;\n",
       "    }\n",
       "</style>\n",
       "<table border=\"1\" class=\"dataframe\">\n",
       "  <thead>\n",
       "    <tr style=\"text-align: right;\">\n",
       "      <th></th>\n",
       "      <th>InvoiceNo</th>\n",
       "      <th>StockCode</th>\n",
       "      <th>Description</th>\n",
       "      <th>Quantity</th>\n",
       "      <th>InvoiceDate</th>\n",
       "      <th>UnitPrice</th>\n",
       "      <th>CustomerID</th>\n",
       "      <th>Country</th>\n",
       "      <th>Total</th>\n",
       "      <th>Cantidad_devo</th>\n",
       "      <th>Cantidad_venta</th>\n",
       "    </tr>\n",
       "  </thead>\n",
       "  <tbody>\n",
       "    <tr>\n",
       "      <th>0</th>\n",
       "      <td>536365</td>\n",
       "      <td>85123A</td>\n",
       "      <td>WHITE HANGING HEART T-LIGHT HOLDER</td>\n",
       "      <td>6</td>\n",
       "      <td>2016-11-29</td>\n",
       "      <td>2.55</td>\n",
       "      <td>17850</td>\n",
       "      <td>United Kingdom</td>\n",
       "      <td>15.30</td>\n",
       "      <td>0</td>\n",
       "      <td>6</td>\n",
       "    </tr>\n",
       "    <tr>\n",
       "      <th>1</th>\n",
       "      <td>536365</td>\n",
       "      <td>71053</td>\n",
       "      <td>WHITE METAL LANTERN</td>\n",
       "      <td>6</td>\n",
       "      <td>2016-11-29</td>\n",
       "      <td>3.39</td>\n",
       "      <td>17850</td>\n",
       "      <td>United Kingdom</td>\n",
       "      <td>20.34</td>\n",
       "      <td>0</td>\n",
       "      <td>6</td>\n",
       "    </tr>\n",
       "    <tr>\n",
       "      <th>2</th>\n",
       "      <td>536365</td>\n",
       "      <td>84406B</td>\n",
       "      <td>CREAM CUPID HEARTS COAT HANGER</td>\n",
       "      <td>8</td>\n",
       "      <td>2016-11-29</td>\n",
       "      <td>2.75</td>\n",
       "      <td>17850</td>\n",
       "      <td>United Kingdom</td>\n",
       "      <td>22.00</td>\n",
       "      <td>0</td>\n",
       "      <td>8</td>\n",
       "    </tr>\n",
       "    <tr>\n",
       "      <th>3</th>\n",
       "      <td>536365</td>\n",
       "      <td>84029G</td>\n",
       "      <td>KNITTED UNION FLAG HOT WATER BOTTLE</td>\n",
       "      <td>6</td>\n",
       "      <td>2016-11-29</td>\n",
       "      <td>3.39</td>\n",
       "      <td>17850</td>\n",
       "      <td>United Kingdom</td>\n",
       "      <td>20.34</td>\n",
       "      <td>0</td>\n",
       "      <td>6</td>\n",
       "    </tr>\n",
       "    <tr>\n",
       "      <th>4</th>\n",
       "      <td>536365</td>\n",
       "      <td>84029E</td>\n",
       "      <td>RED WOOLLY HOTTIE WHITE HEART.</td>\n",
       "      <td>6</td>\n",
       "      <td>2016-11-29</td>\n",
       "      <td>3.39</td>\n",
       "      <td>17850</td>\n",
       "      <td>United Kingdom</td>\n",
       "      <td>20.34</td>\n",
       "      <td>0</td>\n",
       "      <td>6</td>\n",
       "    </tr>\n",
       "    <tr>\n",
       "      <th>...</th>\n",
       "      <td>...</td>\n",
       "      <td>...</td>\n",
       "      <td>...</td>\n",
       "      <td>...</td>\n",
       "      <td>...</td>\n",
       "      <td>...</td>\n",
       "      <td>...</td>\n",
       "      <td>...</td>\n",
       "      <td>...</td>\n",
       "      <td>...</td>\n",
       "      <td>...</td>\n",
       "    </tr>\n",
       "    <tr>\n",
       "      <th>541904</th>\n",
       "      <td>581587</td>\n",
       "      <td>22613</td>\n",
       "      <td>PACK OF 20 SPACEBOY NAPKINS</td>\n",
       "      <td>12</td>\n",
       "      <td>2017-12-07</td>\n",
       "      <td>0.85</td>\n",
       "      <td>12680</td>\n",
       "      <td>France</td>\n",
       "      <td>10.20</td>\n",
       "      <td>0</td>\n",
       "      <td>12</td>\n",
       "    </tr>\n",
       "    <tr>\n",
       "      <th>541905</th>\n",
       "      <td>581587</td>\n",
       "      <td>22899</td>\n",
       "      <td>CHILDREN'S APRON DOLLY GIRL</td>\n",
       "      <td>6</td>\n",
       "      <td>2017-12-07</td>\n",
       "      <td>2.10</td>\n",
       "      <td>12680</td>\n",
       "      <td>France</td>\n",
       "      <td>12.60</td>\n",
       "      <td>0</td>\n",
       "      <td>6</td>\n",
       "    </tr>\n",
       "    <tr>\n",
       "      <th>541906</th>\n",
       "      <td>581587</td>\n",
       "      <td>23254</td>\n",
       "      <td>CHILDRENS CUTLERY DOLLY GIRL</td>\n",
       "      <td>4</td>\n",
       "      <td>2017-12-07</td>\n",
       "      <td>4.15</td>\n",
       "      <td>12680</td>\n",
       "      <td>France</td>\n",
       "      <td>16.60</td>\n",
       "      <td>0</td>\n",
       "      <td>4</td>\n",
       "    </tr>\n",
       "    <tr>\n",
       "      <th>541907</th>\n",
       "      <td>581587</td>\n",
       "      <td>23255</td>\n",
       "      <td>CHILDRENS CUTLERY CIRCUS PARADE</td>\n",
       "      <td>4</td>\n",
       "      <td>2017-12-07</td>\n",
       "      <td>4.15</td>\n",
       "      <td>12680</td>\n",
       "      <td>France</td>\n",
       "      <td>16.60</td>\n",
       "      <td>0</td>\n",
       "      <td>4</td>\n",
       "    </tr>\n",
       "    <tr>\n",
       "      <th>541908</th>\n",
       "      <td>581587</td>\n",
       "      <td>22138</td>\n",
       "      <td>BAKING SET 9 PIECE RETROSPOT</td>\n",
       "      <td>3</td>\n",
       "      <td>2017-12-07</td>\n",
       "      <td>4.95</td>\n",
       "      <td>12680</td>\n",
       "      <td>France</td>\n",
       "      <td>14.85</td>\n",
       "      <td>0</td>\n",
       "      <td>3</td>\n",
       "    </tr>\n",
       "  </tbody>\n",
       "</table>\n",
       "<p>288422 rows × 11 columns</p>\n",
       "</div>"
      ],
      "text/plain": [
       "       InvoiceNo StockCode                          Description  Quantity  \\\n",
       "0         536365    85123A   WHITE HANGING HEART T-LIGHT HOLDER         6   \n",
       "1         536365     71053                  WHITE METAL LANTERN         6   \n",
       "2         536365    84406B       CREAM CUPID HEARTS COAT HANGER         8   \n",
       "3         536365    84029G  KNITTED UNION FLAG HOT WATER BOTTLE         6   \n",
       "4         536365    84029E       RED WOOLLY HOTTIE WHITE HEART.         6   \n",
       "...          ...       ...                                  ...       ...   \n",
       "541904    581587     22613          PACK OF 20 SPACEBOY NAPKINS        12   \n",
       "541905    581587     22899         CHILDREN'S APRON DOLLY GIRL          6   \n",
       "541906    581587     23254        CHILDRENS CUTLERY DOLLY GIRL          4   \n",
       "541907    581587     23255      CHILDRENS CUTLERY CIRCUS PARADE         4   \n",
       "541908    581587     22138        BAKING SET 9 PIECE RETROSPOT          3   \n",
       "\n",
       "       InvoiceDate  UnitPrice  CustomerID         Country  Total  \\\n",
       "0       2016-11-29       2.55       17850  United Kingdom  15.30   \n",
       "1       2016-11-29       3.39       17850  United Kingdom  20.34   \n",
       "2       2016-11-29       2.75       17850  United Kingdom  22.00   \n",
       "3       2016-11-29       3.39       17850  United Kingdom  20.34   \n",
       "4       2016-11-29       3.39       17850  United Kingdom  20.34   \n",
       "...            ...        ...         ...             ...    ...   \n",
       "541904  2017-12-07       0.85       12680          France  10.20   \n",
       "541905  2017-12-07       2.10       12680          France  12.60   \n",
       "541906  2017-12-07       4.15       12680          France  16.60   \n",
       "541907  2017-12-07       4.15       12680          France  16.60   \n",
       "541908  2017-12-07       4.95       12680          France  14.85   \n",
       "\n",
       "        Cantidad_devo  Cantidad_venta  \n",
       "0                   0               6  \n",
       "1                   0               6  \n",
       "2                   0               8  \n",
       "3                   0               6  \n",
       "4                   0               6  \n",
       "...               ...             ...  \n",
       "541904              0              12  \n",
       "541905              0               6  \n",
       "541906              0               4  \n",
       "541907              0               4  \n",
       "541908              0               3  \n",
       "\n",
       "[288422 rows x 11 columns]"
      ]
     },
     "execution_count": 16,
     "metadata": {},
     "output_type": "execute_result"
    }
   ],
   "source": [
    "df"
   ]
  },
  {
   "cell_type": "code",
   "execution_count": 17,
   "metadata": {
    "ExecuteTime": {
     "end_time": "2022-03-05T05:47:14.599037Z",
     "start_time": "2022-03-05T05:47:08.756862Z"
    }
   },
   "outputs": [
    {
     "data": {
      "text/plain": [
       "<AxesSubplot:xlabel='sum', ylabel='Count'>"
      ]
     },
     "execution_count": 17,
     "metadata": {},
     "output_type": "execute_result"
    },
    {
     "data": {
      "image/png": "[encoded data removed]",
      "text/plain": [
       "<Figure size 720x576 with 1 Axes>"
      ]
     },
     "metadata": {
      "needs_background": "light"
     },
     "output_type": "display_data"
    }
   ],
   "source": [
    "ag_imp = agregar(df, 'Total')\n",
    "\n",
    "ag_imp = ag_imp.loc[ag_imp['sum'] > 0]\n",
    "plt.figure()\n",
    "sns.histplot(ag_imp['sum'])"
   ]
  },
  {
   "cell_type": "code",
   "execution_count": 18,
   "metadata": {
    "ExecuteTime": {
     "end_time": "2022-03-05T05:47:15.498665Z",
     "start_time": "2022-03-05T05:47:14.604168Z"
    }
   },
   "outputs": [
    {
     "data": {
      "text/plain": [
       "<AxesSubplot:xlabel='Total_transf', ylabel='Count'>"
      ]
     },
     "execution_count": 18,
     "metadata": {},
     "output_type": "execute_result"
    },
    {
     "data": {
      "image/png": "[encoded data removed]",
      "text/plain": [
       "<Figure size 720x576 with 1 Axes>"
      ]
     },
     "metadata": {
      "needs_background": "light"
     },
     "output_type": "display_data"
    }
   ],
   "source": [
    "ag_imp['Total_transf'] = p.fit_transform(ag_imp[['sum']])\n",
    "\n",
    "plt.figure()\n",
    "sns.histplot(ag_imp['Total_transf'])"
   ]
  },
  {
   "cell_type": "code",
   "execution_count": 19,
   "metadata": {
    "ExecuteTime": {
     "end_time": "2022-03-05T05:47:20.852447Z",
     "start_time": "2022-03-05T05:47:20.839225Z"
    }
   },
   "outputs": [
    {
     "data": {
      "text/plain": [
       "(288422, 11)"
      ]
     },
     "execution_count": 19,
     "metadata": {},
     "output_type": "execute_result"
    }
   ],
   "source": [
    "outliers_imp = ag_imp[(ag_imp['Total_transf'] > 2) | (ag_imp['Total_transf']< -2)].CustomerID\n",
    "df.shape"
   ]
  },
  {
   "cell_type": "code",
   "execution_count": 20,
   "metadata": {
    "ExecuteTime": {
     "end_time": "2022-03-05T05:47:21.267990Z",
     "start_time": "2022-03-05T05:47:21.199020Z"
    }
   },
   "outputs": [
    {
     "data": {
      "text/plain": [
       "(267092, 11)"
      ]
     },
     "execution_count": 20,
     "metadata": {},
     "output_type": "execute_result"
    }
   ],
   "source": [
    "df = df[~df['CustomerID'].isin(outliers_imp)]\n",
    "df.shape"
   ]
  },
  {
   "cell_type": "code",
   "execution_count": 21,
   "metadata": {
    "ExecuteTime": {
     "end_time": "2022-03-05T05:47:21.742280Z",
     "start_time": "2022-03-05T05:47:21.701373Z"
    }
   },
   "outputs": [
    {
     "data": {
      "text/html": [
       "<div>\n",
       "<style scoped>\n",
       "    .dataframe tbody tr th:only-of-type {\n",
       "        vertical-align: middle;\n",
       "    }\n",
       "\n",
       "    .dataframe tbody tr th {\n",
       "        vertical-align: top;\n",
       "    }\n",
       "\n",
       "    .dataframe thead th {\n",
       "        text-align: right;\n",
       "    }\n",
       "</style>\n",
       "<table border=\"1\" class=\"dataframe\">\n",
       "  <thead>\n",
       "    <tr style=\"text-align: right;\">\n",
       "      <th></th>\n",
       "      <th>InvoiceNo</th>\n",
       "      <th>StockCode</th>\n",
       "      <th>Description</th>\n",
       "      <th>Quantity</th>\n",
       "      <th>InvoiceDate</th>\n",
       "      <th>UnitPrice</th>\n",
       "      <th>CustomerID</th>\n",
       "      <th>Country</th>\n",
       "      <th>Total</th>\n",
       "      <th>Cantidad_devo</th>\n",
       "      <th>Cantidad_venta</th>\n",
       "    </tr>\n",
       "  </thead>\n",
       "  <tbody>\n",
       "    <tr>\n",
       "      <th>0</th>\n",
       "      <td>536365</td>\n",
       "      <td>85123A</td>\n",
       "      <td>WHITE HANGING HEART T-LIGHT HOLDER</td>\n",
       "      <td>6</td>\n",
       "      <td>2016-11-29</td>\n",
       "      <td>2.55</td>\n",
       "      <td>17850</td>\n",
       "      <td>United Kingdom</td>\n",
       "      <td>15.30</td>\n",
       "      <td>0</td>\n",
       "      <td>6</td>\n",
       "    </tr>\n",
       "    <tr>\n",
       "      <th>1</th>\n",
       "      <td>536365</td>\n",
       "      <td>71053</td>\n",
       "      <td>WHITE METAL LANTERN</td>\n",
       "      <td>6</td>\n",
       "      <td>2016-11-29</td>\n",
       "      <td>3.39</td>\n",
       "      <td>17850</td>\n",
       "      <td>United Kingdom</td>\n",
       "      <td>20.34</td>\n",
       "      <td>0</td>\n",
       "      <td>6</td>\n",
       "    </tr>\n",
       "    <tr>\n",
       "      <th>2</th>\n",
       "      <td>536365</td>\n",
       "      <td>84406B</td>\n",
       "      <td>CREAM CUPID HEARTS COAT HANGER</td>\n",
       "      <td>8</td>\n",
       "      <td>2016-11-29</td>\n",
       "      <td>2.75</td>\n",
       "      <td>17850</td>\n",
       "      <td>United Kingdom</td>\n",
       "      <td>22.00</td>\n",
       "      <td>0</td>\n",
       "      <td>8</td>\n",
       "    </tr>\n",
       "    <tr>\n",
       "      <th>3</th>\n",
       "      <td>536365</td>\n",
       "      <td>84029G</td>\n",
       "      <td>KNITTED UNION FLAG HOT WATER BOTTLE</td>\n",
       "      <td>6</td>\n",
       "      <td>2016-11-29</td>\n",
       "      <td>3.39</td>\n",
       "      <td>17850</td>\n",
       "      <td>United Kingdom</td>\n",
       "      <td>20.34</td>\n",
       "      <td>0</td>\n",
       "      <td>6</td>\n",
       "    </tr>\n",
       "    <tr>\n",
       "      <th>4</th>\n",
       "      <td>536365</td>\n",
       "      <td>84029E</td>\n",
       "      <td>RED WOOLLY HOTTIE WHITE HEART.</td>\n",
       "      <td>6</td>\n",
       "      <td>2016-11-29</td>\n",
       "      <td>3.39</td>\n",
       "      <td>17850</td>\n",
       "      <td>United Kingdom</td>\n",
       "      <td>20.34</td>\n",
       "      <td>0</td>\n",
       "      <td>6</td>\n",
       "    </tr>\n",
       "    <tr>\n",
       "      <th>...</th>\n",
       "      <td>...</td>\n",
       "      <td>...</td>\n",
       "      <td>...</td>\n",
       "      <td>...</td>\n",
       "      <td>...</td>\n",
       "      <td>...</td>\n",
       "      <td>...</td>\n",
       "      <td>...</td>\n",
       "      <td>...</td>\n",
       "      <td>...</td>\n",
       "      <td>...</td>\n",
       "    </tr>\n",
       "    <tr>\n",
       "      <th>541904</th>\n",
       "      <td>581587</td>\n",
       "      <td>22613</td>\n",
       "      <td>PACK OF 20 SPACEBOY NAPKINS</td>\n",
       "      <td>12</td>\n",
       "      <td>2017-12-07</td>\n",
       "      <td>0.85</td>\n",
       "      <td>12680</td>\n",
       "      <td>France</td>\n",
       "      <td>10.20</td>\n",
       "      <td>0</td>\n",
       "      <td>12</td>\n",
       "    </tr>\n",
       "    <tr>\n",
       "      <th>541905</th>\n",
       "      <td>581587</td>\n",
       "      <td>22899</td>\n",
       "      <td>CHILDREN'S APRON DOLLY GIRL</td>\n",
       "      <td>6</td>\n",
       "      <td>2017-12-07</td>\n",
       "      <td>2.10</td>\n",
       "      <td>12680</td>\n",
       "      <td>France</td>\n",
       "      <td>12.60</td>\n",
       "      <td>0</td>\n",
       "      <td>6</td>\n",
       "    </tr>\n",
       "    <tr>\n",
       "      <th>541906</th>\n",
       "      <td>581587</td>\n",
       "      <td>23254</td>\n",
       "      <td>CHILDRENS CUTLERY DOLLY GIRL</td>\n",
       "      <td>4</td>\n",
       "      <td>2017-12-07</td>\n",
       "      <td>4.15</td>\n",
       "      <td>12680</td>\n",
       "      <td>France</td>\n",
       "      <td>16.60</td>\n",
       "      <td>0</td>\n",
       "      <td>4</td>\n",
       "    </tr>\n",
       "    <tr>\n",
       "      <th>541907</th>\n",
       "      <td>581587</td>\n",
       "      <td>23255</td>\n",
       "      <td>CHILDRENS CUTLERY CIRCUS PARADE</td>\n",
       "      <td>4</td>\n",
       "      <td>2017-12-07</td>\n",
       "      <td>4.15</td>\n",
       "      <td>12680</td>\n",
       "      <td>France</td>\n",
       "      <td>16.60</td>\n",
       "      <td>0</td>\n",
       "      <td>4</td>\n",
       "    </tr>\n",
       "    <tr>\n",
       "      <th>541908</th>\n",
       "      <td>581587</td>\n",
       "      <td>22138</td>\n",
       "      <td>BAKING SET 9 PIECE RETROSPOT</td>\n",
       "      <td>3</td>\n",
       "      <td>2017-12-07</td>\n",
       "      <td>4.95</td>\n",
       "      <td>12680</td>\n",
       "      <td>France</td>\n",
       "      <td>14.85</td>\n",
       "      <td>0</td>\n",
       "      <td>3</td>\n",
       "    </tr>\n",
       "  </tbody>\n",
       "</table>\n",
       "<p>267092 rows × 11 columns</p>\n",
       "</div>"
      ],
      "text/plain": [
       "       InvoiceNo StockCode                          Description  Quantity  \\\n",
       "0         536365    85123A   WHITE HANGING HEART T-LIGHT HOLDER         6   \n",
       "1         536365     71053                  WHITE METAL LANTERN         6   \n",
       "2         536365    84406B       CREAM CUPID HEARTS COAT HANGER         8   \n",
       "3         536365    84029G  KNITTED UNION FLAG HOT WATER BOTTLE         6   \n",
       "4         536365    84029E       RED WOOLLY HOTTIE WHITE HEART.         6   \n",
       "...          ...       ...                                  ...       ...   \n",
       "541904    581587     22613          PACK OF 20 SPACEBOY NAPKINS        12   \n",
       "541905    581587     22899         CHILDREN'S APRON DOLLY GIRL          6   \n",
       "541906    581587     23254        CHILDRENS CUTLERY DOLLY GIRL          4   \n",
       "541907    581587     23255      CHILDRENS CUTLERY CIRCUS PARADE         4   \n",
       "541908    581587     22138        BAKING SET 9 PIECE RETROSPOT          3   \n",
       "\n",
       "       InvoiceDate  UnitPrice  CustomerID         Country  Total  \\\n",
       "0       2016-11-29       2.55       17850  United Kingdom  15.30   \n",
       "1       2016-11-29       3.39       17850  United Kingdom  20.34   \n",
       "2       2016-11-29       2.75       17850  United Kingdom  22.00   \n",
       "3       2016-11-29       3.39       17850  United Kingdom  20.34   \n",
       "4       2016-11-29       3.39       17850  United Kingdom  20.34   \n",
       "...            ...        ...         ...             ...    ...   \n",
       "541904  2017-12-07       0.85       12680          France  10.20   \n",
       "541905  2017-12-07       2.10       12680          France  12.60   \n",
       "541906  2017-12-07       4.15       12680          France  16.60   \n",
       "541907  2017-12-07       4.15       12680          France  16.60   \n",
       "541908  2017-12-07       4.95       12680          France  14.85   \n",
       "\n",
       "        Cantidad_devo  Cantidad_venta  \n",
       "0                   0               6  \n",
       "1                   0               6  \n",
       "2                   0               8  \n",
       "3                   0               6  \n",
       "4                   0               6  \n",
       "...               ...             ...  \n",
       "541904              0              12  \n",
       "541905              0               6  \n",
       "541906              0               4  \n",
       "541907              0               4  \n",
       "541908              0               3  \n",
       "\n",
       "[267092 rows x 11 columns]"
      ]
     },
     "execution_count": 21,
     "metadata": {},
     "output_type": "execute_result"
    }
   ],
   "source": [
    "df"
   ]
  },
  {
   "cell_type": "code",
   "execution_count": 22,
   "metadata": {
    "ExecuteTime": {
     "end_time": "2022-03-05T05:47:22.523455Z",
     "start_time": "2022-03-05T05:47:22.393691Z"
    }
   },
   "outputs": [],
   "source": [
    "df = df.groupby(by='CustomerID').agg({'InvoiceNo': 'count', 'Cantidad_devo': 'sum', 'Cantidad_venta': 'sum', 'Total': 'sum'}).reset_index()"
   ]
  },
  {
   "cell_type": "code",
   "execution_count": 23,
   "metadata": {
    "ExecuteTime": {
     "end_time": "2022-03-05T05:47:23.090618Z",
     "start_time": "2022-03-05T05:47:22.969911Z"
    }
   },
   "outputs": [
    {
     "data": {
      "text/html": [
       "<div>\n",
       "<style scoped>\n",
       "    .dataframe tbody tr th:only-of-type {\n",
       "        vertical-align: middle;\n",
       "    }\n",
       "\n",
       "    .dataframe tbody tr th {\n",
       "        vertical-align: top;\n",
       "    }\n",
       "\n",
       "    .dataframe thead th {\n",
       "        text-align: right;\n",
       "    }\n",
       "</style>\n",
       "<table border=\"1\" class=\"dataframe\">\n",
       "  <thead>\n",
       "    <tr style=\"text-align: right;\">\n",
       "      <th></th>\n",
       "      <th>Cliente</th>\n",
       "      <th>Numero_tickes</th>\n",
       "      <th>Uds_devo</th>\n",
       "      <th>Uds_venta</th>\n",
       "      <th>Eur_venta</th>\n",
       "      <th>Numero_tickes_norm</th>\n",
       "      <th>Uds_devo_norm</th>\n",
       "      <th>Uds_venta_norm</th>\n",
       "      <th>Eur_venta_norm</th>\n",
       "    </tr>\n",
       "  </thead>\n",
       "  <tbody>\n",
       "    <tr>\n",
       "      <th>0</th>\n",
       "      <td>12347</td>\n",
       "      <td>182</td>\n",
       "      <td>0</td>\n",
       "      <td>2458</td>\n",
       "      <td>4310.00</td>\n",
       "      <td>1.425992</td>\n",
       "      <td>-0.688685</td>\n",
       "      <td>1.772114</td>\n",
       "      <td>2.708493</td>\n",
       "    </tr>\n",
       "    <tr>\n",
       "      <th>1</th>\n",
       "      <td>12348</td>\n",
       "      <td>31</td>\n",
       "      <td>0</td>\n",
       "      <td>2341</td>\n",
       "      <td>1797.24</td>\n",
       "      <td>-0.268441</td>\n",
       "      <td>-0.688685</td>\n",
       "      <td>1.724764</td>\n",
       "      <td>0.760126</td>\n",
       "    </tr>\n",
       "    <tr>\n",
       "      <th>2</th>\n",
       "      <td>12349</td>\n",
       "      <td>73</td>\n",
       "      <td>0</td>\n",
       "      <td>631</td>\n",
       "      <td>1757.55</td>\n",
       "      <td>0.541335</td>\n",
       "      <td>-0.688685</td>\n",
       "      <td>0.481880</td>\n",
       "      <td>0.726135</td>\n",
       "    </tr>\n",
       "    <tr>\n",
       "      <th>3</th>\n",
       "      <td>12350</td>\n",
       "      <td>17</td>\n",
       "      <td>0</td>\n",
       "      <td>197</td>\n",
       "      <td>334.40</td>\n",
       "      <td>-0.819070</td>\n",
       "      <td>-0.688685</td>\n",
       "      <td>-0.573395</td>\n",
       "      <td>-0.656387</td>\n",
       "    </tr>\n",
       "    <tr>\n",
       "      <th>4</th>\n",
       "      <td>12352</td>\n",
       "      <td>95</td>\n",
       "      <td>66</td>\n",
       "      <td>536</td>\n",
       "      <td>1545.41</td>\n",
       "      <td>0.794572</td>\n",
       "      <td>1.796968</td>\n",
       "      <td>0.331211</td>\n",
       "      <td>0.541785</td>\n",
       "    </tr>\n",
       "    <tr>\n",
       "      <th>...</th>\n",
       "      <td>...</td>\n",
       "      <td>...</td>\n",
       "      <td>...</td>\n",
       "      <td>...</td>\n",
       "      <td>...</td>\n",
       "      <td>...</td>\n",
       "      <td>...</td>\n",
       "      <td>...</td>\n",
       "      <td>...</td>\n",
       "    </tr>\n",
       "    <tr>\n",
       "      <th>3896</th>\n",
       "      <td>18278</td>\n",
       "      <td>9</td>\n",
       "      <td>0</td>\n",
       "      <td>66</td>\n",
       "      <td>173.90</td>\n",
       "      <td>-1.377307</td>\n",
       "      <td>-0.688685</td>\n",
       "      <td>-1.521172</td>\n",
       "      <td>-0.858587</td>\n",
       "    </tr>\n",
       "    <tr>\n",
       "      <th>3897</th>\n",
       "      <td>18280</td>\n",
       "      <td>10</td>\n",
       "      <td>0</td>\n",
       "      <td>45</td>\n",
       "      <td>180.60</td>\n",
       "      <td>-1.287080</td>\n",
       "      <td>-0.688685</td>\n",
       "      <td>-1.841896</td>\n",
       "      <td>-0.849565</td>\n",
       "    </tr>\n",
       "    <tr>\n",
       "      <th>3898</th>\n",
       "      <td>18281</td>\n",
       "      <td>7</td>\n",
       "      <td>0</td>\n",
       "      <td>54</td>\n",
       "      <td>80.82</td>\n",
       "      <td>-1.588106</td>\n",
       "      <td>-0.688685</td>\n",
       "      <td>-1.690014</td>\n",
       "      <td>-0.993005</td>\n",
       "    </tr>\n",
       "    <tr>\n",
       "      <th>3899</th>\n",
       "      <td>18282</td>\n",
       "      <td>13</td>\n",
       "      <td>5</td>\n",
       "      <td>103</td>\n",
       "      <td>176.60</td>\n",
       "      <td>-1.058278</td>\n",
       "      <td>1.400020</td>\n",
       "      <td>-1.140848</td>\n",
       "      <td>-0.854943</td>\n",
       "    </tr>\n",
       "    <tr>\n",
       "      <th>3900</th>\n",
       "      <td>18287</td>\n",
       "      <td>70</td>\n",
       "      <td>0</td>\n",
       "      <td>1586</td>\n",
       "      <td>1837.28</td>\n",
       "      <td>0.501149</td>\n",
       "      <td>-0.688685</td>\n",
       "      <td>1.349620</td>\n",
       "      <td>0.794267</td>\n",
       "    </tr>\n",
       "  </tbody>\n",
       "</table>\n",
       "<p>3901 rows × 9 columns</p>\n",
       "</div>"
      ],
      "text/plain": [
       "      Cliente  Numero_tickes  Uds_devo  Uds_venta  Eur_venta  \\\n",
       "0       12347            182         0       2458    4310.00   \n",
       "1       12348             31         0       2341    1797.24   \n",
       "2       12349             73         0        631    1757.55   \n",
       "3       12350             17         0        197     334.40   \n",
       "4       12352             95        66        536    1545.41   \n",
       "...       ...            ...       ...        ...        ...   \n",
       "3896    18278              9         0         66     173.90   \n",
       "3897    18280             10         0         45     180.60   \n",
       "3898    18281              7         0         54      80.82   \n",
       "3899    18282             13         5        103     176.60   \n",
       "3900    18287             70         0       1586    1837.28   \n",
       "\n",
       "      Numero_tickes_norm  Uds_devo_norm  Uds_venta_norm  Eur_venta_norm  \n",
       "0               1.425992      -0.688685        1.772114        2.708493  \n",
       "1              -0.268441      -0.688685        1.724764        0.760126  \n",
       "2               0.541335      -0.688685        0.481880        0.726135  \n",
       "3              -0.819070      -0.688685       -0.573395       -0.656387  \n",
       "4               0.794572       1.796968        0.331211        0.541785  \n",
       "...                  ...            ...             ...             ...  \n",
       "3896           -1.377307      -0.688685       -1.521172       -0.858587  \n",
       "3897           -1.287080      -0.688685       -1.841896       -0.849565  \n",
       "3898           -1.588106      -0.688685       -1.690014       -0.993005  \n",
       "3899           -1.058278       1.400020       -1.140848       -0.854943  \n",
       "3900            0.501149      -0.688685        1.349620        0.794267  \n",
       "\n",
       "[3901 rows x 9 columns]"
      ]
     },
     "execution_count": 23,
     "metadata": {},
     "output_type": "execute_result"
    }
   ],
   "source": [
    "columnas_datos = ['Numero_tickes', 'Uds_devo', 'Uds_venta', 'Eur_venta']\n",
    "\n",
    "df.columns =  ['Cliente', 'Numero_tickes', 'Uds_devo', 'Uds_venta', 'Eur_venta']\n",
    "\n",
    "for x in ['Numero_tickes', 'Uds_devo', 'Uds_venta', 'Eur_venta']:\n",
    "    df[x+'_norm'] = p.fit_transform(df[[x]])\n",
    "    \n",
    "df"
   ]
  },
  {
   "cell_type": "markdown",
   "metadata": {},
   "source": [
    "### Asignación de quintiles\n",
    "\n",
    "Vamos a obtener quintiles"
   ]
  },
  {
   "cell_type": "markdown",
   "metadata": {},
   "source": [
    "Para el scoring discreto \"clásico\" de quitiles no usamos los valores normalizados sino los absolutos. En el scoring continuo sí necesitaremos los valores absolutos."
   ]
  },
  {
   "cell_type": "code",
   "execution_count": 24,
   "metadata": {
    "ExecuteTime": {
     "end_time": "2022-03-05T05:47:24.223145Z",
     "start_time": "2022-03-05T05:47:24.209398Z"
    }
   },
   "outputs": [],
   "source": [
    "def asigna_quintil(df, variable):\n",
    "    print(f'asignando {variable}')\n",
    "    quintiles = df[variable].quantile([0, .2, .4, .6, .8])\n",
    "    \n",
    "    df[variable + '_quintil'] = 0\n",
    "    \n",
    "    for i,x in enumerate(quintiles):\n",
    "        print(i+1,x)\n",
    "        df.loc[df[variable] >= x, variable+ '_quintil'] = i+1"
   ]
  },
  {
   "cell_type": "code",
   "execution_count": 25,
   "metadata": {
    "ExecuteTime": {
     "end_time": "2022-03-05T05:47:24.773070Z",
     "start_time": "2022-03-05T05:47:24.697621Z"
    }
   },
   "outputs": [
    {
     "name": "stdout",
     "output_type": "stream",
     "text": [
      "asignando Numero_tickes\n",
      "1 3.0\n",
      "2 15.0\n",
      "3 30.0\n",
      "4 56.0\n",
      "5 109.0\n",
      "asignando Uds_devo\n",
      "1 0.0\n",
      "2 0.0\n",
      "3 0.0\n",
      "4 0.0\n",
      "5 5.0\n",
      "asignando Uds_venta\n",
      "1 17.0\n",
      "2 138.0\n",
      "3 268.0\n",
      "4 498.0\n",
      "5 1016.0\n",
      "asignando Eur_venta\n",
      "1 -1165.3\n",
      "2 253.04\n",
      "3 463.95\n",
      "4 847.61\n",
      "5 1677.48\n"
     ]
    }
   ],
   "source": [
    "for x in columnas_datos:\n",
    "    asigna_quintil(df, x)"
   ]
  },
  {
   "cell_type": "code",
   "execution_count": 26,
   "metadata": {
    "ExecuteTime": {
     "end_time": "2022-03-05T05:47:25.426856Z",
     "start_time": "2022-03-05T05:47:25.394319Z"
    }
   },
   "outputs": [
    {
     "data": {
      "text/html": [
       "<div>\n",
       "<style scoped>\n",
       "    .dataframe tbody tr th:only-of-type {\n",
       "        vertical-align: middle;\n",
       "    }\n",
       "\n",
       "    .dataframe tbody tr th {\n",
       "        vertical-align: top;\n",
       "    }\n",
       "\n",
       "    .dataframe thead th {\n",
       "        text-align: right;\n",
       "    }\n",
       "</style>\n",
       "<table border=\"1\" class=\"dataframe\">\n",
       "  <thead>\n",
       "    <tr style=\"text-align: right;\">\n",
       "      <th></th>\n",
       "      <th>Cliente</th>\n",
       "      <th>Numero_tickes</th>\n",
       "      <th>Uds_devo</th>\n",
       "      <th>Uds_venta</th>\n",
       "      <th>Eur_venta</th>\n",
       "      <th>Numero_tickes_norm</th>\n",
       "      <th>Uds_devo_norm</th>\n",
       "      <th>Uds_venta_norm</th>\n",
       "      <th>Eur_venta_norm</th>\n",
       "      <th>Numero_tickes_quintil</th>\n",
       "      <th>Uds_devo_quintil</th>\n",
       "      <th>Uds_venta_quintil</th>\n",
       "      <th>Eur_venta_quintil</th>\n",
       "    </tr>\n",
       "  </thead>\n",
       "  <tbody>\n",
       "    <tr>\n",
       "      <th>0</th>\n",
       "      <td>12347</td>\n",
       "      <td>182</td>\n",
       "      <td>0</td>\n",
       "      <td>2458</td>\n",
       "      <td>4310.00</td>\n",
       "      <td>1.425992</td>\n",
       "      <td>-0.688685</td>\n",
       "      <td>1.772114</td>\n",
       "      <td>2.708493</td>\n",
       "      <td>5</td>\n",
       "      <td>4</td>\n",
       "      <td>5</td>\n",
       "      <td>5</td>\n",
       "    </tr>\n",
       "    <tr>\n",
       "      <th>1</th>\n",
       "      <td>12348</td>\n",
       "      <td>31</td>\n",
       "      <td>0</td>\n",
       "      <td>2341</td>\n",
       "      <td>1797.24</td>\n",
       "      <td>-0.268441</td>\n",
       "      <td>-0.688685</td>\n",
       "      <td>1.724764</td>\n",
       "      <td>0.760126</td>\n",
       "      <td>3</td>\n",
       "      <td>4</td>\n",
       "      <td>5</td>\n",
       "      <td>5</td>\n",
       "    </tr>\n",
       "    <tr>\n",
       "      <th>2</th>\n",
       "      <td>12349</td>\n",
       "      <td>73</td>\n",
       "      <td>0</td>\n",
       "      <td>631</td>\n",
       "      <td>1757.55</td>\n",
       "      <td>0.541335</td>\n",
       "      <td>-0.688685</td>\n",
       "      <td>0.481880</td>\n",
       "      <td>0.726135</td>\n",
       "      <td>4</td>\n",
       "      <td>4</td>\n",
       "      <td>4</td>\n",
       "      <td>5</td>\n",
       "    </tr>\n",
       "    <tr>\n",
       "      <th>3</th>\n",
       "      <td>12350</td>\n",
       "      <td>17</td>\n",
       "      <td>0</td>\n",
       "      <td>197</td>\n",
       "      <td>334.40</td>\n",
       "      <td>-0.819070</td>\n",
       "      <td>-0.688685</td>\n",
       "      <td>-0.573395</td>\n",
       "      <td>-0.656387</td>\n",
       "      <td>2</td>\n",
       "      <td>4</td>\n",
       "      <td>2</td>\n",
       "      <td>2</td>\n",
       "    </tr>\n",
       "    <tr>\n",
       "      <th>4</th>\n",
       "      <td>12352</td>\n",
       "      <td>95</td>\n",
       "      <td>66</td>\n",
       "      <td>536</td>\n",
       "      <td>1545.41</td>\n",
       "      <td>0.794572</td>\n",
       "      <td>1.796968</td>\n",
       "      <td>0.331211</td>\n",
       "      <td>0.541785</td>\n",
       "      <td>4</td>\n",
       "      <td>5</td>\n",
       "      <td>4</td>\n",
       "      <td>4</td>\n",
       "    </tr>\n",
       "    <tr>\n",
       "      <th>...</th>\n",
       "      <td>...</td>\n",
       "      <td>...</td>\n",
       "      <td>...</td>\n",
       "      <td>...</td>\n",
       "      <td>...</td>\n",
       "      <td>...</td>\n",
       "      <td>...</td>\n",
       "      <td>...</td>\n",
       "      <td>...</td>\n",
       "      <td>...</td>\n",
       "      <td>...</td>\n",
       "      <td>...</td>\n",
       "      <td>...</td>\n",
       "    </tr>\n",
       "    <tr>\n",
       "      <th>3896</th>\n",
       "      <td>18278</td>\n",
       "      <td>9</td>\n",
       "      <td>0</td>\n",
       "      <td>66</td>\n",
       "      <td>173.90</td>\n",
       "      <td>-1.377307</td>\n",
       "      <td>-0.688685</td>\n",
       "      <td>-1.521172</td>\n",
       "      <td>-0.858587</td>\n",
       "      <td>1</td>\n",
       "      <td>4</td>\n",
       "      <td>1</td>\n",
       "      <td>1</td>\n",
       "    </tr>\n",
       "    <tr>\n",
       "      <th>3897</th>\n",
       "      <td>18280</td>\n",
       "      <td>10</td>\n",
       "      <td>0</td>\n",
       "      <td>45</td>\n",
       "      <td>180.60</td>\n",
       "      <td>-1.287080</td>\n",
       "      <td>-0.688685</td>\n",
       "      <td>-1.841896</td>\n",
       "      <td>-0.849565</td>\n",
       "      <td>1</td>\n",
       "      <td>4</td>\n",
       "      <td>1</td>\n",
       "      <td>1</td>\n",
       "    </tr>\n",
       "    <tr>\n",
       "      <th>3898</th>\n",
       "      <td>18281</td>\n",
       "      <td>7</td>\n",
       "      <td>0</td>\n",
       "      <td>54</td>\n",
       "      <td>80.82</td>\n",
       "      <td>-1.588106</td>\n",
       "      <td>-0.688685</td>\n",
       "      <td>-1.690014</td>\n",
       "      <td>-0.993005</td>\n",
       "      <td>1</td>\n",
       "      <td>4</td>\n",
       "      <td>1</td>\n",
       "      <td>1</td>\n",
       "    </tr>\n",
       "    <tr>\n",
       "      <th>3899</th>\n",
       "      <td>18282</td>\n",
       "      <td>13</td>\n",
       "      <td>5</td>\n",
       "      <td>103</td>\n",
       "      <td>176.60</td>\n",
       "      <td>-1.058278</td>\n",
       "      <td>1.400020</td>\n",
       "      <td>-1.140848</td>\n",
       "      <td>-0.854943</td>\n",
       "      <td>1</td>\n",
       "      <td>5</td>\n",
       "      <td>1</td>\n",
       "      <td>1</td>\n",
       "    </tr>\n",
       "    <tr>\n",
       "      <th>3900</th>\n",
       "      <td>18287</td>\n",
       "      <td>70</td>\n",
       "      <td>0</td>\n",
       "      <td>1586</td>\n",
       "      <td>1837.28</td>\n",
       "      <td>0.501149</td>\n",
       "      <td>-0.688685</td>\n",
       "      <td>1.349620</td>\n",
       "      <td>0.794267</td>\n",
       "      <td>4</td>\n",
       "      <td>4</td>\n",
       "      <td>5</td>\n",
       "      <td>5</td>\n",
       "    </tr>\n",
       "  </tbody>\n",
       "</table>\n",
       "<p>3901 rows × 13 columns</p>\n",
       "</div>"
      ],
      "text/plain": [
       "      Cliente  Numero_tickes  Uds_devo  Uds_venta  Eur_venta  \\\n",
       "0       12347            182         0       2458    4310.00   \n",
       "1       12348             31         0       2341    1797.24   \n",
       "2       12349             73         0        631    1757.55   \n",
       "3       12350             17         0        197     334.40   \n",
       "4       12352             95        66        536    1545.41   \n",
       "...       ...            ...       ...        ...        ...   \n",
       "3896    18278              9         0         66     173.90   \n",
       "3897    18280             10         0         45     180.60   \n",
       "3898    18281              7         0         54      80.82   \n",
       "3899    18282             13         5        103     176.60   \n",
       "3900    18287             70         0       1586    1837.28   \n",
       "\n",
       "      Numero_tickes_norm  Uds_devo_norm  Uds_venta_norm  Eur_venta_norm  \\\n",
       "0               1.425992      -0.688685        1.772114        2.708493   \n",
       "1              -0.268441      -0.688685        1.724764        0.760126   \n",
       "2               0.541335      -0.688685        0.481880        0.726135   \n",
       "3              -0.819070      -0.688685       -0.573395       -0.656387   \n",
       "4               0.794572       1.796968        0.331211        0.541785   \n",
       "...                  ...            ...             ...             ...   \n",
       "3896           -1.377307      -0.688685       -1.521172       -0.858587   \n",
       "3897           -1.287080      -0.688685       -1.841896       -0.849565   \n",
       "3898           -1.588106      -0.688685       -1.690014       -0.993005   \n",
       "3899           -1.058278       1.400020       -1.140848       -0.854943   \n",
       "3900            0.501149      -0.688685        1.349620        0.794267   \n",
       "\n",
       "      Numero_tickes_quintil  Uds_devo_quintil  Uds_venta_quintil  \\\n",
       "0                         5                 4                  5   \n",
       "1                         3                 4                  5   \n",
       "2                         4                 4                  4   \n",
       "3                         2                 4                  2   \n",
       "4                         4                 5                  4   \n",
       "...                     ...               ...                ...   \n",
       "3896                      1                 4                  1   \n",
       "3897                      1                 4                  1   \n",
       "3898                      1                 4                  1   \n",
       "3899                      1                 5                  1   \n",
       "3900                      4                 4                  5   \n",
       "\n",
       "      Eur_venta_quintil  \n",
       "0                     5  \n",
       "1                     5  \n",
       "2                     5  \n",
       "3                     2  \n",
       "4                     4  \n",
       "...                 ...  \n",
       "3896                  1  \n",
       "3897                  1  \n",
       "3898                  1  \n",
       "3899                  1  \n",
       "3900                  5  \n",
       "\n",
       "[3901 rows x 13 columns]"
      ]
     },
     "execution_count": 26,
     "metadata": {},
     "output_type": "execute_result"
    }
   ],
   "source": [
    "df"
   ]
  },
  {
   "cell_type": "markdown",
   "metadata": {
    "ExecuteTime": {
     "end_time": "2021-03-25T18:44:24.678613Z",
     "start_time": "2021-03-25T18:44:24.664613Z"
    }
   },
   "source": [
    "### Asignación de Puntuación - Estrategias\n",
    "\n",
    "Una vez tenemos los quintiles preparados podemos aplicar diferentes estrategias para clasificar nuestros datos:\n",
    "\n",
    "1. Concatenación (como en el modelo RFM)\n",
    "1. Adición\n",
    "1. Multiplicación\n",
    "\n",
    "#### Concatenación\n",
    "\n",
    "Simplemente concatenamos los valores.\n",
    "\n",
    "> + Mantenemos la información de cómo se generó la medida\n",
    "\n",
    "> - Es muy difícil comparar puntuaciones (¿mejor un 5321 o un 4411?)\n",
    "> - Con 4 variables y quintiles tenemos 5^4 posibilidades (625 bloques)\n",
    "\n",
    "\n",
    "#### Adición\n",
    "\n",
    "> + Compone los datos facilitando la comparación\n",
    "\n",
    "> - Exige pensar detenidamente cuánto peso asignar a cada medida (¿es lo mismo un 5 en devoluciones que en cantidad de tickets?)\n",
    "\n",
    "#### Multiplicación\n",
    "\n",
    "Multiplicamos los valores\n",
    "\n",
    "> + Exagera los valores positivos y negativos (los malos se vuelven muy malos, los buenos muy buenos)\n",
    "\n",
    "> - Dejan grandes huecos sin datos, por ejemplo entre los 5·5·5·5 = 625 y los 5·5·5·4 = 500 hay 125 posiciones vacantes.\n",
    "\n"
   ]
  },
  {
   "cell_type": "code",
   "execution_count": 27,
   "metadata": {
    "ExecuteTime": {
     "end_time": "2022-03-05T05:47:27.384971Z",
     "start_time": "2022-03-05T05:47:26.381216Z"
    }
   },
   "outputs": [],
   "source": [
    "df['concat'] = df.apply(lambda x: str(x.Uds_venta_quintil) + str(x.Numero_tickes_quintil) + str(x.Uds_devo_quintil) + str(x.Eur_venta_quintil), axis=1)\n",
    "df['aditivo'] = df.apply(lambda x: x.Uds_venta_quintil + x.Numero_tickes_quintil + x.Uds_devo_quintil + x.Eur_venta_quintil, axis=1)\n",
    "df['multiplicativo'] = df.apply(lambda x: x.Uds_venta_quintil * x.Numero_tickes_quintil * x.Uds_devo_quintil * x.Eur_venta_quintil, axis=1)\n",
    "\n",
    "\n"
   ]
  },
  {
   "cell_type": "code",
   "execution_count": 28,
   "metadata": {
    "ExecuteTime": {
     "end_time": "2022-03-05T05:47:33.217436Z",
     "start_time": "2022-03-05T05:47:28.702253Z"
    }
   },
   "outputs": [
    {
     "data": {
      "text/plain": [
       "<AxesSubplot:xlabel='concat', ylabel='Count'>"
      ]
     },
     "execution_count": 28,
     "metadata": {},
     "output_type": "execute_result"
    },
    {
     "data": {
      "image/png": "[encoded data removed]",
      "text/plain": [
       "<Figure size 720x576 with 1 Axes>"
      ]
     },
     "metadata": {
      "needs_background": "light"
     },
     "output_type": "display_data"
    }
   ],
   "source": [
    "plt.figure()\n",
    "sns.histplot(df['concat'].sort_values(),  bins=len(df['concat'].unique()))"
   ]
  },
  {
   "cell_type": "code",
   "execution_count": 29,
   "metadata": {
    "ExecuteTime": {
     "end_time": "2022-03-05T05:47:34.633807Z",
     "start_time": "2022-03-05T05:47:34.253919Z"
    }
   },
   "outputs": [
    {
     "data": {
      "text/plain": [
       "<AxesSubplot:xlabel='aditivo', ylabel='Count'>"
      ]
     },
     "execution_count": 29,
     "metadata": {},
     "output_type": "execute_result"
    },
    {
     "data": {
      "image/png": "[encoded data removed]",
      "text/plain": [
       "<Figure size 720x576 with 1 Axes>"
      ]
     },
     "metadata": {
      "needs_background": "light"
     },
     "output_type": "display_data"
    }
   ],
   "source": [
    "plt.figure()\n",
    "sns.histplot(df['aditivo'],  bins=len(df['aditivo'].unique()))"
   ]
  },
  {
   "cell_type": "code",
   "execution_count": 30,
   "metadata": {
    "ExecuteTime": {
     "end_time": "2022-03-05T05:47:35.551517Z",
     "start_time": "2022-03-05T05:47:35.143598Z"
    }
   },
   "outputs": [
    {
     "data": {
      "text/plain": [
       "<AxesSubplot:xlabel='multiplicativo', ylabel='Count'>"
      ]
     },
     "execution_count": 30,
     "metadata": {},
     "output_type": "execute_result"
    },
    {
     "data": {
      "image/png": "[encoded data removed]",
      "text/plain": [
       "<Figure size 720x576 with 1 Axes>"
      ]
     },
     "metadata": {
      "needs_background": "light"
     },
     "output_type": "display_data"
    }
   ],
   "source": [
    "plt.figure()\n",
    "sns.histplot(df['multiplicativo'], bins=len(df['multiplicativo'].unique()))"
   ]
  },
  {
   "cell_type": "markdown",
   "metadata": {},
   "source": [
    "### Obtén el número de clases y elementos por clase de cada uno de los scoring anteriores"
   ]
  },
  {
   "cell_type": "code",
   "execution_count": 31,
   "metadata": {},
   "outputs": [
    {
     "data": {
      "text/html": [
       "<div>\n",
       "<style scoped>\n",
       "    .dataframe tbody tr th:only-of-type {\n",
       "        vertical-align: middle;\n",
       "    }\n",
       "\n",
       "    .dataframe tbody tr th {\n",
       "        vertical-align: top;\n",
       "    }\n",
       "\n",
       "    .dataframe thead th {\n",
       "        text-align: right;\n",
       "    }\n",
       "</style>\n",
       "<table border=\"1\" class=\"dataframe\">\n",
       "  <thead>\n",
       "    <tr style=\"text-align: right;\">\n",
       "      <th></th>\n",
       "      <th>Cliente</th>\n",
       "      <th>Numero_tickes</th>\n",
       "      <th>Uds_devo</th>\n",
       "      <th>Uds_venta</th>\n",
       "      <th>Eur_venta</th>\n",
       "      <th>Numero_tickes_norm</th>\n",
       "      <th>Uds_devo_norm</th>\n",
       "      <th>Uds_venta_norm</th>\n",
       "      <th>Eur_venta_norm</th>\n",
       "      <th>Numero_tickes_quintil</th>\n",
       "      <th>Uds_devo_quintil</th>\n",
       "      <th>Uds_venta_quintil</th>\n",
       "      <th>Eur_venta_quintil</th>\n",
       "      <th>concat</th>\n",
       "      <th>aditivo</th>\n",
       "      <th>multiplicativo</th>\n",
       "    </tr>\n",
       "  </thead>\n",
       "  <tbody>\n",
       "    <tr>\n",
       "      <th>0</th>\n",
       "      <td>12347</td>\n",
       "      <td>182</td>\n",
       "      <td>0</td>\n",
       "      <td>2458</td>\n",
       "      <td>4310.00</td>\n",
       "      <td>1.425992</td>\n",
       "      <td>-0.688685</td>\n",
       "      <td>1.772114</td>\n",
       "      <td>2.708493</td>\n",
       "      <td>5</td>\n",
       "      <td>4</td>\n",
       "      <td>5</td>\n",
       "      <td>5</td>\n",
       "      <td>5.05.04.05.0</td>\n",
       "      <td>19</td>\n",
       "      <td>500</td>\n",
       "    </tr>\n",
       "    <tr>\n",
       "      <th>1</th>\n",
       "      <td>12348</td>\n",
       "      <td>31</td>\n",
       "      <td>0</td>\n",
       "      <td>2341</td>\n",
       "      <td>1797.24</td>\n",
       "      <td>-0.268441</td>\n",
       "      <td>-0.688685</td>\n",
       "      <td>1.724764</td>\n",
       "      <td>0.760126</td>\n",
       "      <td>3</td>\n",
       "      <td>4</td>\n",
       "      <td>5</td>\n",
       "      <td>5</td>\n",
       "      <td>5.03.04.05.0</td>\n",
       "      <td>17</td>\n",
       "      <td>300</td>\n",
       "    </tr>\n",
       "    <tr>\n",
       "      <th>2</th>\n",
       "      <td>12349</td>\n",
       "      <td>73</td>\n",
       "      <td>0</td>\n",
       "      <td>631</td>\n",
       "      <td>1757.55</td>\n",
       "      <td>0.541335</td>\n",
       "      <td>-0.688685</td>\n",
       "      <td>0.481880</td>\n",
       "      <td>0.726135</td>\n",
       "      <td>4</td>\n",
       "      <td>4</td>\n",
       "      <td>4</td>\n",
       "      <td>5</td>\n",
       "      <td>4.04.04.05.0</td>\n",
       "      <td>17</td>\n",
       "      <td>320</td>\n",
       "    </tr>\n",
       "    <tr>\n",
       "      <th>3</th>\n",
       "      <td>12350</td>\n",
       "      <td>17</td>\n",
       "      <td>0</td>\n",
       "      <td>197</td>\n",
       "      <td>334.40</td>\n",
       "      <td>-0.819070</td>\n",
       "      <td>-0.688685</td>\n",
       "      <td>-0.573395</td>\n",
       "      <td>-0.656387</td>\n",
       "      <td>2</td>\n",
       "      <td>4</td>\n",
       "      <td>2</td>\n",
       "      <td>2</td>\n",
       "      <td>2.02.04.02.0</td>\n",
       "      <td>10</td>\n",
       "      <td>32</td>\n",
       "    </tr>\n",
       "    <tr>\n",
       "      <th>4</th>\n",
       "      <td>12352</td>\n",
       "      <td>95</td>\n",
       "      <td>66</td>\n",
       "      <td>536</td>\n",
       "      <td>1545.41</td>\n",
       "      <td>0.794572</td>\n",
       "      <td>1.796968</td>\n",
       "      <td>0.331211</td>\n",
       "      <td>0.541785</td>\n",
       "      <td>4</td>\n",
       "      <td>5</td>\n",
       "      <td>4</td>\n",
       "      <td>4</td>\n",
       "      <td>4.04.05.04.0</td>\n",
       "      <td>17</td>\n",
       "      <td>320</td>\n",
       "    </tr>\n",
       "  </tbody>\n",
       "</table>\n",
       "</div>"
      ],
      "text/plain": [
       "   Cliente  Numero_tickes  Uds_devo  Uds_venta  Eur_venta  Numero_tickes_norm  \\\n",
       "0    12347            182         0       2458    4310.00            1.425992   \n",
       "1    12348             31         0       2341    1797.24           -0.268441   \n",
       "2    12349             73         0        631    1757.55            0.541335   \n",
       "3    12350             17         0        197     334.40           -0.819070   \n",
       "4    12352             95        66        536    1545.41            0.794572   \n",
       "\n",
       "   Uds_devo_norm  Uds_venta_norm  Eur_venta_norm  Numero_tickes_quintil  \\\n",
       "0      -0.688685        1.772114        2.708493                      5   \n",
       "1      -0.688685        1.724764        0.760126                      3   \n",
       "2      -0.688685        0.481880        0.726135                      4   \n",
       "3      -0.688685       -0.573395       -0.656387                      2   \n",
       "4       1.796968        0.331211        0.541785                      4   \n",
       "\n",
       "   Uds_devo_quintil  Uds_venta_quintil  Eur_venta_quintil        concat  \\\n",
       "0                 4                  5                  5  5.05.04.05.0   \n",
       "1                 4                  5                  5  5.03.04.05.0   \n",
       "2                 4                  4                  5  4.04.04.05.0   \n",
       "3                 4                  2                  2  2.02.04.02.0   \n",
       "4                 5                  4                  4  4.04.05.04.0   \n",
       "\n",
       "   aditivo  multiplicativo  \n",
       "0       19             500  \n",
       "1       17             300  \n",
       "2       17             320  \n",
       "3       10              32  \n",
       "4       17             320  "
      ]
     },
     "execution_count": 31,
     "metadata": {},
     "output_type": "execute_result"
    }
   ],
   "source": [
    "df.head()"
   ]
  },
  {
   "cell_type": "code",
   "execution_count": 32,
   "metadata": {},
   "outputs": [
    {
     "name": "stdout",
     "output_type": "stream",
     "text": [
      "Num de clases concat:  163\n",
      "Elementos por clase concat 23.933 \n",
      "\n",
      "Num de clases aditivo:  14\n",
      "Elementos por clase aditivo 278.643 \n",
      "\n",
      "Num de clases multiplicativo:  45\n",
      "Elementos por clase multiplicativo 86.689 \n",
      "\n"
     ]
    }
   ],
   "source": [
    "def agregado_clases(df,clase):\n",
    "    print('Num de clases {}: '.format(clase),len(list(df[clase].unique())))\n",
    "    print('Elementos por clase {}'.format(clase),round(df[clase].value_counts().mean(),3),'\\n')\n",
    "\n",
    "for i in ['concat','aditivo','multiplicativo']:\n",
    "    agregado_clases(df,i)"
   ]
  },
  {
   "cell_type": "markdown",
   "metadata": {},
   "source": [
    "## Scoring probabilístico\n",
    "\n",
    "Otra opción diferente es, si conocemos las distribuciones de los datos, utilizar esta información para puntuar las diferencias con lo \"habitual\".\n",
    "\n",
    "\n",
    "Podemos construir este modelo como la suma de su variable después de la transformación Box-Cox (Yeo-Johnson).\n",
    "\n",
    "Aplicar el modelo de concatenación para este caso no tiene sentido ya que estaríamos mezclando variables continuas."
   ]
  },
  {
   "cell_type": "code",
   "execution_count": 33,
   "metadata": {
    "ExecuteTime": {
     "end_time": "2022-03-05T05:47:38.970867Z",
     "start_time": "2022-03-05T05:47:38.437939Z"
    }
   },
   "outputs": [],
   "source": [
    "df['prob_aditivo'] = df.apply(lambda x: x.Uds_venta_norm + x.Numero_tickes_norm + x.Uds_devo_norm + x.Eur_venta_norm, axis=1)\n",
    "df['prob_multiplicativo'] = df.apply(lambda x: x.Uds_venta_norm * x.Numero_tickes_norm * x.Uds_devo_norm * x.Eur_venta_norm, axis=1)\n",
    "\n"
   ]
  },
  {
   "cell_type": "code",
   "execution_count": 34,
   "metadata": {},
   "outputs": [
    {
     "data": {
      "text/html": [
       "<div>\n",
       "<style scoped>\n",
       "    .dataframe tbody tr th:only-of-type {\n",
       "        vertical-align: middle;\n",
       "    }\n",
       "\n",
       "    .dataframe tbody tr th {\n",
       "        vertical-align: top;\n",
       "    }\n",
       "\n",
       "    .dataframe thead th {\n",
       "        text-align: right;\n",
       "    }\n",
       "</style>\n",
       "<table border=\"1\" class=\"dataframe\">\n",
       "  <thead>\n",
       "    <tr style=\"text-align: right;\">\n",
       "      <th></th>\n",
       "      <th>Cliente</th>\n",
       "      <th>Numero_tickes</th>\n",
       "      <th>Uds_devo</th>\n",
       "      <th>Uds_venta</th>\n",
       "      <th>Eur_venta</th>\n",
       "      <th>Numero_tickes_norm</th>\n",
       "      <th>Uds_devo_norm</th>\n",
       "      <th>Uds_venta_norm</th>\n",
       "      <th>Eur_venta_norm</th>\n",
       "      <th>Numero_tickes_quintil</th>\n",
       "      <th>Uds_devo_quintil</th>\n",
       "      <th>Uds_venta_quintil</th>\n",
       "      <th>Eur_venta_quintil</th>\n",
       "      <th>concat</th>\n",
       "      <th>aditivo</th>\n",
       "      <th>multiplicativo</th>\n",
       "      <th>prob_aditivo</th>\n",
       "      <th>prob_multiplicativo</th>\n",
       "    </tr>\n",
       "  </thead>\n",
       "  <tbody>\n",
       "    <tr>\n",
       "      <th>0</th>\n",
       "      <td>12347</td>\n",
       "      <td>182</td>\n",
       "      <td>0</td>\n",
       "      <td>2458</td>\n",
       "      <td>4310.00</td>\n",
       "      <td>1.425992</td>\n",
       "      <td>-0.688685</td>\n",
       "      <td>1.772114</td>\n",
       "      <td>2.708493</td>\n",
       "      <td>5</td>\n",
       "      <td>4</td>\n",
       "      <td>5</td>\n",
       "      <td>5</td>\n",
       "      <td>5.05.04.05.0</td>\n",
       "      <td>19</td>\n",
       "      <td>500</td>\n",
       "      <td>5.217914</td>\n",
       "      <td>-4.713648</td>\n",
       "    </tr>\n",
       "    <tr>\n",
       "      <th>1</th>\n",
       "      <td>12348</td>\n",
       "      <td>31</td>\n",
       "      <td>0</td>\n",
       "      <td>2341</td>\n",
       "      <td>1797.24</td>\n",
       "      <td>-0.268441</td>\n",
       "      <td>-0.688685</td>\n",
       "      <td>1.724764</td>\n",
       "      <td>0.760126</td>\n",
       "      <td>3</td>\n",
       "      <td>4</td>\n",
       "      <td>5</td>\n",
       "      <td>5</td>\n",
       "      <td>5.03.04.05.0</td>\n",
       "      <td>17</td>\n",
       "      <td>300</td>\n",
       "      <td>1.527764</td>\n",
       "      <td>0.242373</td>\n",
       "    </tr>\n",
       "    <tr>\n",
       "      <th>2</th>\n",
       "      <td>12349</td>\n",
       "      <td>73</td>\n",
       "      <td>0</td>\n",
       "      <td>631</td>\n",
       "      <td>1757.55</td>\n",
       "      <td>0.541335</td>\n",
       "      <td>-0.688685</td>\n",
       "      <td>0.481880</td>\n",
       "      <td>0.726135</td>\n",
       "      <td>4</td>\n",
       "      <td>4</td>\n",
       "      <td>4</td>\n",
       "      <td>5</td>\n",
       "      <td>4.04.04.05.0</td>\n",
       "      <td>17</td>\n",
       "      <td>320</td>\n",
       "      <td>1.060665</td>\n",
       "      <td>-0.130450</td>\n",
       "    </tr>\n",
       "    <tr>\n",
       "      <th>3</th>\n",
       "      <td>12350</td>\n",
       "      <td>17</td>\n",
       "      <td>0</td>\n",
       "      <td>197</td>\n",
       "      <td>334.40</td>\n",
       "      <td>-0.819070</td>\n",
       "      <td>-0.688685</td>\n",
       "      <td>-0.573395</td>\n",
       "      <td>-0.656387</td>\n",
       "      <td>2</td>\n",
       "      <td>4</td>\n",
       "      <td>2</td>\n",
       "      <td>2</td>\n",
       "      <td>2.02.04.02.0</td>\n",
       "      <td>10</td>\n",
       "      <td>32</td>\n",
       "      <td>-2.737537</td>\n",
       "      <td>0.212303</td>\n",
       "    </tr>\n",
       "    <tr>\n",
       "      <th>4</th>\n",
       "      <td>12352</td>\n",
       "      <td>95</td>\n",
       "      <td>66</td>\n",
       "      <td>536</td>\n",
       "      <td>1545.41</td>\n",
       "      <td>0.794572</td>\n",
       "      <td>1.796968</td>\n",
       "      <td>0.331211</td>\n",
       "      <td>0.541785</td>\n",
       "      <td>4</td>\n",
       "      <td>5</td>\n",
       "      <td>4</td>\n",
       "      <td>4</td>\n",
       "      <td>4.04.05.04.0</td>\n",
       "      <td>17</td>\n",
       "      <td>320</td>\n",
       "      <td>3.464536</td>\n",
       "      <td>0.256215</td>\n",
       "    </tr>\n",
       "  </tbody>\n",
       "</table>\n",
       "</div>"
      ],
      "text/plain": [
       "   Cliente  Numero_tickes  Uds_devo  Uds_venta  Eur_venta  Numero_tickes_norm  \\\n",
       "0    12347            182         0       2458    4310.00            1.425992   \n",
       "1    12348             31         0       2341    1797.24           -0.268441   \n",
       "2    12349             73         0        631    1757.55            0.541335   \n",
       "3    12350             17         0        197     334.40           -0.819070   \n",
       "4    12352             95        66        536    1545.41            0.794572   \n",
       "\n",
       "   Uds_devo_norm  Uds_venta_norm  Eur_venta_norm  Numero_tickes_quintil  \\\n",
       "0      -0.688685        1.772114        2.708493                      5   \n",
       "1      -0.688685        1.724764        0.760126                      3   \n",
       "2      -0.688685        0.481880        0.726135                      4   \n",
       "3      -0.688685       -0.573395       -0.656387                      2   \n",
       "4       1.796968        0.331211        0.541785                      4   \n",
       "\n",
       "   Uds_devo_quintil  Uds_venta_quintil  Eur_venta_quintil        concat  \\\n",
       "0                 4                  5                  5  5.05.04.05.0   \n",
       "1                 4                  5                  5  5.03.04.05.0   \n",
       "2                 4                  4                  5  4.04.04.05.0   \n",
       "3                 4                  2                  2  2.02.04.02.0   \n",
       "4                 5                  4                  4  4.04.05.04.0   \n",
       "\n",
       "   aditivo  multiplicativo  prob_aditivo  prob_multiplicativo  \n",
       "0       19             500      5.217914            -4.713648  \n",
       "1       17             300      1.527764             0.242373  \n",
       "2       17             320      1.060665            -0.130450  \n",
       "3       10              32     -2.737537             0.212303  \n",
       "4       17             320      3.464536             0.256215  "
      ]
     },
     "execution_count": 34,
     "metadata": {},
     "output_type": "execute_result"
    }
   ],
   "source": [
    "df.head()"
   ]
  },
  {
   "cell_type": "code",
   "execution_count": 35,
   "metadata": {
    "ExecuteTime": {
     "end_time": "2022-03-05T05:47:39.834188Z",
     "start_time": "2022-03-05T05:47:39.426810Z"
    }
   },
   "outputs": [
    {
     "data": {
      "text/plain": [
       "<AxesSubplot:xlabel='prob_aditivo', ylabel='Count'>"
      ]
     },
     "execution_count": 35,
     "metadata": {},
     "output_type": "execute_result"
    },
    {
     "data": {
      "image/png": "[encoded data removed]",
      "text/plain": [
       "<Figure size 720x576 with 1 Axes>"
      ]
     },
     "metadata": {
      "needs_background": "light"
     },
     "output_type": "display_data"
    }
   ],
   "source": [
    "plt.figure()\n",
    "sns.histplot(df['prob_aditivo'])"
   ]
  },
  {
   "cell_type": "code",
   "execution_count": 36,
   "metadata": {
    "ExecuteTime": {
     "end_time": "2022-03-05T05:47:49.867267Z",
     "start_time": "2022-03-05T05:47:40.028409Z"
    }
   },
   "outputs": [
    {
     "data": {
      "text/plain": [
       "<AxesSubplot:xlabel='prob_multiplicativo', ylabel='Count'>"
      ]
     },
     "execution_count": 36,
     "metadata": {},
     "output_type": "execute_result"
    },
    {
     "data": {
      "image/png": "[encoded data removed]",
      "text/plain": [
       "<Figure size 720x576 with 1 Axes>"
      ]
     },
     "metadata": {
      "needs_background": "light"
     },
     "output_type": "display_data"
    }
   ],
   "source": [
    "plt.figure()\n",
    "sns.histplot(df['prob_multiplicativo'])"
   ]
  },
  {
   "cell_type": "markdown",
   "metadata": {},
   "source": [
    "Vemos que el modelo multplicativo tiene un problema con los ceros, ya que, con tener un 0 en cualquier característica, nos lleva a cero todo el modelo, podemos corregirlo moviendo toda la serie hacia la derecha cinco unidades:"
   ]
  },
  {
   "cell_type": "code",
   "execution_count": 37,
   "metadata": {
    "ExecuteTime": {
     "end_time": "2022-03-05T05:47:52.068781Z",
     "start_time": "2022-03-05T05:47:50.821356Z"
    }
   },
   "outputs": [
    {
     "data": {
      "text/plain": [
       "<AxesSubplot:xlabel='prob_multiplicativo', ylabel='Count'>"
      ]
     },
     "execution_count": 37,
     "metadata": {},
     "output_type": "execute_result"
    },
    {
     "data": {
      "image/png": "[encoded data removed]",
      "text/plain": [
       "<Figure size 720x576 with 1 Axes>"
      ]
     },
     "metadata": {
      "needs_background": "light"
     },
     "output_type": "display_data"
    }
   ],
   "source": [
    "df['prob_multiplicativo'] = df.apply(lambda x: (x.Uds_venta_norm+1) * (x.Numero_tickes_norm+1) * (x.Uds_devo_norm+1) * (x.Eur_venta_norm+1), axis=1)\n",
    "plt.figure()\n",
    "sns.histplot(df['prob_multiplicativo'])"
   ]
  },
  {
   "cell_type": "markdown",
   "metadata": {},
   "source": [
    "Vemos que la forma de los modelos es muy diferente, los modelos proababilísticos ofrecen una distribución más continua y con una mayor tendencia a exagerar los valores que se alejen de la media de forma reiterada."
   ]
  },
  {
   "cell_type": "code",
   "execution_count": 38,
   "metadata": {
    "ExecuteTime": {
     "end_time": "2022-03-05T05:48:45.188442Z",
     "start_time": "2022-03-05T05:48:44.040085Z"
    }
   },
   "outputs": [
    {
     "name": "stdout",
     "output_type": "stream",
     "text": [
      "Using matplotlib backend: Qt5Agg\n",
      "Populating the interactive namespace from numpy and matplotlib\n"
     ]
    },
    {
     "name": "stderr",
     "output_type": "stream",
     "text": [
      "C:\\Users\\aleex\\AppData\\Local\\Temp/ipykernel_26820/3981486399.py:10: MatplotlibDeprecationWarning: Calling gca() with keyword arguments was deprecated in Matplotlib 3.4. Starting two minor releases later, gca() will take no keyword arguments. The gca() function should only be used to get the current axes, or if no axes exist, create new axes with default keyword arguments. To create a new axes with non-default arguments, use plt.axes() or plt.subplot().\n",
      "  ax = fig.gca(projection='3d')\n"
     ]
    },
    {
     "data": {
      "text/plain": [
       "<mpl_toolkits.mplot3d.art3d.Path3DCollection at 0x29255a9eee0>"
      ]
     },
     "execution_count": 38,
     "metadata": {},
     "output_type": "execute_result"
    }
   ],
   "source": [
    "%pylab\n",
    "from sklearn.cluster import KMeans\n",
    "from mpl_toolkits.mplot3d import Axes3D\n",
    "\n",
    "cat = df['prob_multiplicativo'].max() - df['prob_multiplicativo'].min()\n",
    "\n",
    "df['categoria'] = df.apply(lambda x: int((x.prob_multiplicativo / cat)*8), axis=1)\n",
    "\n",
    "fig = plt.figure()\n",
    "ax = fig.gca(projection='3d')\n",
    "\n",
    "plt.show()\n",
    "\n",
    "k = KMeans()\n",
    "\n",
    "ax.scatter(df['Numero_tickes_norm'], df['Uds_venta_norm'], df['Eur_venta_norm'], c=df['categoria'])\n"
   ]
  },
  {
   "cell_type": "markdown",
   "metadata": {},
   "source": [
    "# Clusterización\n",
    "\n",
    "La clusterización es la técnica de segmentación que utilizamos cuando queremos descubrir patrones latentes en los datos.\n",
    "\n",
    "La clusterización comienza haciendo una suposición inicial: podemos agrupar los datos en `k` grupos y, partiendo de esa suposición, va ajustando los `k` grupos tratando de que tengan sentido.\n",
    "\n",
    "\n",
    "[<img src=\"https://scikit-learn.org/stable/_images/sphx_glr_plot_cluster_comparison_001.png\">](https://scikit-learn.org/stable/modules/clustering.html)\n",
    "\n",
    "## Ejecución de un algoritmo de clusterización\n",
    "\n",
    "Para probar el algoritmo de clusterización utilizaremos el juego de datos de venta online que hemos preparado anteriormente, nos quedaremos con el resumen a nivel cliente:\n",
    "\n"
   ]
  },
  {
   "cell_type": "code",
   "execution_count": 39,
   "metadata": {
    "ExecuteTime": {
     "end_time": "2022-03-05T05:49:04.439987Z",
     "start_time": "2022-03-05T05:49:04.396787Z"
    }
   },
   "outputs": [],
   "source": [
    "import pandas as pd\n",
    "import numpy as np\n",
    "import seaborn as sns\n",
    "from matplotlib import pyplot as plt\n",
    "from sklearn.preprocessing import PowerTransformer\n",
    "\n",
    "\n",
    "plt.rcParams['figure.figsize'] = (10,8)\n",
    "\n",
    "\n",
    "def obtener_df():\n",
    "    df = pd.read_csv('./Datos/Ecommerce.csv').drop(columns=['Unnamed: 8'])\n",
    "\n",
    "    df = df.dropna()\n",
    "    #df['CustomerID'] = df['CustomerID'].fillna(0)\n",
    "    #df = df.loc[df['CustomerID'] != 0]\n",
    "    \n",
    "    df['InvoiceDate'] = pd.to_datetime(df['InvoiceDate'])\n",
    "    \n",
    "    df['CustomerID'] = df.CustomerID.astype(int)\n",
    "    df['Total'] = df['Quantity'] * df['UnitPrice']\n",
    "    df['Cantidad_devo'] = df['Quantity']\n",
    "    df.loc[df['Cantidad_devo'] > 0, 'Cantidad_devo'] = 0\n",
    "    df['Cantidad_devo'] = df['Cantidad_devo'] * -1\n",
    "    df['Cantidad_venta'] = df['Quantity']\n",
    "    df.loc[df['Cantidad_venta'] < 0, 'Cantidad_venta'] = 0\n",
    "    \n",
    "    \n",
    "    return df\n",
    "\n",
    "def agregar(df, caracteristica, nivel = 'CustomerID', fn='sum'):\n",
    "    gb = df.groupby(by=nivel)[caracteristica].agg([fn])\n",
    "    return gb.reset_index()\n",
    "\n",
    "def transformar(df, variable):\n",
    "    p = PowerTransformer(method='yeo-johnson')\n",
    "    vt = variable + '_norm'\n",
    "    df[vt] = p.fit_transform(df[[variable]])\n",
    "\n",
    "def eliminar_outliers(df, variable, criterio):\n",
    "    p = PowerTransformer(method='yeo-johnson')\n",
    "    vt = variable + '_t'\n",
    "    \n",
    "    ag = agregar(df, variable, fn=criterio)\n",
    "    ag = ag.loc[ag[criterio] > 0]\n",
    "    ag[vt] = p.fit_transform(ag[[criterio]])\n",
    "    outliers = ag[(ag[vt] > 2 ) | (ag[vt] < -2)].CustomerID\n",
    "    \n",
    "    df = df[~df['CustomerID'].isin(outliers)].copy()\n",
    "\n",
    "def obtener_y_preparar():\n",
    "    df = obtener_df()\n",
    "    eliminar_outliers(df, 'Cantidad_venta', 'sum')\n",
    "    eliminar_outliers(df, 'Cantidad_devo', 'sum')\n",
    "    eliminar_outliers(df, 'InvoiceNo', 'count')\n",
    "    \n",
    "    eliminar_outliers(df, 'Total', 'sum')\n",
    "    \n",
    "    \n",
    "    columnas_datos = ['Numero_tickes', 'Uds_devo', 'Uds_venta', 'Eur_venta']\n",
    "    df = df.groupby(by='CustomerID').agg({'InvoiceNo': 'count', 'Cantidad_devo': 'sum', 'Cantidad_venta': 'sum', 'Total': 'sum'}).reset_index()\n",
    "    df.columns =  ['Cliente', 'Numero_tickes', 'Uds_devo', 'Uds_venta', 'Eur_venta']\n",
    "\n",
    "    for x in ['Numero_tickes', 'Uds_devo', 'Uds_venta', 'Eur_venta']:\n",
    "        transformar(df, x)\n",
    "\n",
    "    outs = df[(abs(df['Eur_venta_norm']) >2*df['Eur_venta_norm'].mean()+df['Eur_venta_norm'].std())].Cliente\n",
    "    df = df[~df['Cliente'].isin(outs)].copy()\n",
    "        \n",
    "    df.drop(columns=['Numero_tickes', 'Uds_devo', 'Uds_venta', 'Eur_venta', 'Uds_devo_norm'], inplace=True)\n",
    "    return df"
   ]
  },
  {
   "cell_type": "code",
   "execution_count": 40,
   "metadata": {
    "ExecuteTime": {
     "end_time": "2022-03-05T05:49:19.651654Z",
     "start_time": "2022-03-05T05:49:16.837450Z"
    }
   },
   "outputs": [],
   "source": [
    "df = obtener_y_preparar()"
   ]
  },
  {
   "cell_type": "code",
   "execution_count": 41,
   "metadata": {
    "ExecuteTime": {
     "end_time": "2022-03-05T05:49:20.250561Z",
     "start_time": "2022-03-05T05:49:20.227249Z"
    }
   },
   "outputs": [
    {
     "data": {
      "text/html": [
       "<div>\n",
       "<style scoped>\n",
       "    .dataframe tbody tr th:only-of-type {\n",
       "        vertical-align: middle;\n",
       "    }\n",
       "\n",
       "    .dataframe tbody tr th {\n",
       "        vertical-align: top;\n",
       "    }\n",
       "\n",
       "    .dataframe thead th {\n",
       "        text-align: right;\n",
       "    }\n",
       "</style>\n",
       "<table border=\"1\" class=\"dataframe\">\n",
       "  <thead>\n",
       "    <tr style=\"text-align: right;\">\n",
       "      <th></th>\n",
       "      <th>Cliente</th>\n",
       "      <th>Numero_tickes_norm</th>\n",
       "      <th>Uds_venta_norm</th>\n",
       "      <th>Eur_venta_norm</th>\n",
       "    </tr>\n",
       "  </thead>\n",
       "  <tbody>\n",
       "    <tr>\n",
       "      <th>0</th>\n",
       "      <td>12346</td>\n",
       "      <td>-2.074164</td>\n",
       "      <td>4.156402</td>\n",
       "      <td>-0.399050</td>\n",
       "    </tr>\n",
       "    <tr>\n",
       "      <th>1</th>\n",
       "      <td>12347</td>\n",
       "      <td>1.164080</td>\n",
       "      <td>1.313915</td>\n",
       "      <td>0.572500</td>\n",
       "    </tr>\n",
       "    <tr>\n",
       "      <th>2</th>\n",
       "      <td>12348</td>\n",
       "      <td>-0.224987</td>\n",
       "      <td>1.276849</td>\n",
       "      <td>0.093868</td>\n",
       "    </tr>\n",
       "    <tr>\n",
       "      <th>3</th>\n",
       "      <td>12349</td>\n",
       "      <td>0.439950</td>\n",
       "      <td>0.315841</td>\n",
       "      <td>0.085397</td>\n",
       "    </tr>\n",
       "    <tr>\n",
       "      <th>4</th>\n",
       "      <td>12350</td>\n",
       "      <td>-0.678292</td>\n",
       "      <td>-0.481777</td>\n",
       "      <td>-0.265842</td>\n",
       "    </tr>\n",
       "    <tr>\n",
       "      <th>...</th>\n",
       "      <td>...</td>\n",
       "      <td>...</td>\n",
       "      <td>...</td>\n",
       "      <td>...</td>\n",
       "    </tr>\n",
       "    <tr>\n",
       "      <th>4367</th>\n",
       "      <td>18280</td>\n",
       "      <td>-1.064329</td>\n",
       "      <td>-1.417807</td>\n",
       "      <td>-0.316781</td>\n",
       "    </tr>\n",
       "    <tr>\n",
       "      <th>4368</th>\n",
       "      <td>18281</td>\n",
       "      <td>-1.312994</td>\n",
       "      <td>-1.307060</td>\n",
       "      <td>-0.355365</td>\n",
       "    </tr>\n",
       "    <tr>\n",
       "      <th>4369</th>\n",
       "      <td>18282</td>\n",
       "      <td>-0.875515</td>\n",
       "      <td>-0.903603</td>\n",
       "      <td>-0.318213</td>\n",
       "    </tr>\n",
       "    <tr>\n",
       "      <th>4370</th>\n",
       "      <td>18283</td>\n",
       "      <td>2.312283</td>\n",
       "      <td>0.890338</td>\n",
       "      <td>0.156126</td>\n",
       "    </tr>\n",
       "    <tr>\n",
       "      <th>4371</th>\n",
       "      <td>18287</td>\n",
       "      <td>0.407000</td>\n",
       "      <td>0.984351</td>\n",
       "      <td>0.102371</td>\n",
       "    </tr>\n",
       "  </tbody>\n",
       "</table>\n",
       "<p>4204 rows × 4 columns</p>\n",
       "</div>"
      ],
      "text/plain": [
       "      Cliente  Numero_tickes_norm  Uds_venta_norm  Eur_venta_norm\n",
       "0       12346           -2.074164        4.156402       -0.399050\n",
       "1       12347            1.164080        1.313915        0.572500\n",
       "2       12348           -0.224987        1.276849        0.093868\n",
       "3       12349            0.439950        0.315841        0.085397\n",
       "4       12350           -0.678292       -0.481777       -0.265842\n",
       "...       ...                 ...             ...             ...\n",
       "4367    18280           -1.064329       -1.417807       -0.316781\n",
       "4368    18281           -1.312994       -1.307060       -0.355365\n",
       "4369    18282           -0.875515       -0.903603       -0.318213\n",
       "4370    18283            2.312283        0.890338        0.156126\n",
       "4371    18287            0.407000        0.984351        0.102371\n",
       "\n",
       "[4204 rows x 4 columns]"
      ]
     },
     "execution_count": 41,
     "metadata": {},
     "output_type": "execute_result"
    }
   ],
   "source": [
    "df"
   ]
  },
  {
   "cell_type": "code",
   "execution_count": 42,
   "metadata": {
    "ExecuteTime": {
     "end_time": "2022-03-05T05:49:23.256733Z",
     "start_time": "2022-03-05T05:49:21.019238Z"
    }
   },
   "outputs": [
    {
     "name": "stderr",
     "output_type": "stream",
     "text": [
      "C:\\Users\\aleex\\AppData\\Local\\Temp/ipykernel_26820/3218183471.py:6: MatplotlibDeprecationWarning: Calling gca() with keyword arguments was deprecated in Matplotlib 3.4. Starting two minor releases later, gca() will take no keyword arguments. The gca() function should only be used to get the current axes, or if no axes exist, create new axes with default keyword arguments. To create a new axes with non-default arguments, use plt.axes() or plt.subplot().\n",
      "  ax = fig.gca(projection='3d')\n"
     ]
    },
    {
     "data": {
      "text/plain": [
       "<mpl_toolkits.mplot3d.art3d.Path3DCollection at 0x292581f9ca0>"
      ]
     },
     "execution_count": 42,
     "metadata": {},
     "output_type": "execute_result"
    }
   ],
   "source": [
    "from sklearn.cluster import KMeans\n",
    "from mpl_toolkits.mplot3d import Axes3D\n",
    "\n",
    "\n",
    "fig = plt.figure()\n",
    "ax = fig.gca(projection='3d')\n",
    "\n",
    "plt.show()\n",
    "\n",
    "k = KMeans()\n",
    "df = obtener_y_preparar()\n",
    "clses = k.fit_predict(df[['Numero_tickes_norm', 'Uds_venta_norm', 'Eur_venta_norm']])\n",
    "\n",
    "ax.scatter(df['Numero_tickes_norm'], df['Uds_venta_norm'], df['Eur_venta_norm'], c=clses)\n"
   ]
  },
  {
   "cell_type": "markdown",
   "metadata": {},
   "source": [
    "# Algoritmo KMeans\n",
    "\n",
    "Para entender mejor qué está pasando cuando clusterizamos, podemos examinar el funcionamiento del algoritmo KMeans que es, posiblemente, el más sencillo de todos los algoritmos de clusterización.\n",
    "\n",
    "### Inicio \n",
    "\n",
    "Este algoritmo comienza escogiendo unos elementos de forma aleatoria de entre todos los que le pasemos.\n",
    "\n",
    "Estos elementos pasan a ser el centro provisional de los clústers, a este centro se le llama **centroide**; una vez esta selección está hecha, da comienzo el paso iterativo.\n",
    "\n",
    "### Paso iterativo\n",
    "\n",
    "El paso iterativo se repite hasta que el algoritmo **converge**\n",
    "\n",
    "1. Calculamos la distancia desde cada elemento a cada uno de los centroides.\n",
    "1. Asignamos cada elmento al centroide más próximo\n",
    "1. Una vez hemos asignado cada elemento a un centroide, calculamos, para cada clúster un nuevo centroide que es la media de todos los elementos del clúster\n",
    "1. Repetir secuencia hasta que:\n",
    "   1. Ningún elemento cambia de clúster\n",
    "   1. Se ha alcanzado el límite de iteraciones configurado\n",
    "\n",
    "### Fin\n",
    "Una vez el paso iterativo se rompe quiere decir que los clústers se han estabilizado y los centroides que están seleccionados son los que quedarían seleccionados.\n",
    "\n",
    "### Problemas de KMeans\n",
    "* KMeans no garantiza que se encuentre el valor óptimo sino que, debido a que escoge los clústers iniciales de forma aleatoria, sólo nos garantiza un mínimo de entropía (o desorden) local\n",
    "* Tiene muchas dificultades para encontrar clústers alargados o con formas \"raras\" (estrella,...)\n"
   ]
  },
  {
   "cell_type": "markdown",
   "metadata": {},
   "source": [
    "## Número de clústers\n",
    "\n",
    "KMeans, como muchos otros algoritmos de clusterización, requiere que le indiquemos cuántos clústers quremos que localice.\n",
    "\n",
    "Los algoritmos de clusterización, por lo general, no intentarán nunca reducir el número de clústers que deben utilizar por lo que si indicamos números muy altos, simplemente tendremos más desagregación de los datos.\n",
    "\n",
    "Por ejemplo, si le pedimos 16 o 64 clústers:\n"
   ]
  },
  {
   "cell_type": "code",
   "execution_count": 43,
   "metadata": {
    "ExecuteTime": {
     "end_time": "2022-03-05T05:49:40.888857Z",
     "start_time": "2022-03-05T05:49:38.187786Z"
    }
   },
   "outputs": [
    {
     "name": "stderr",
     "output_type": "stream",
     "text": [
      "C:\\Users\\aleex\\AppData\\Local\\Temp/ipykernel_26820/2981175273.py:6: MatplotlibDeprecationWarning: Calling gca() with keyword arguments was deprecated in Matplotlib 3.4. Starting two minor releases later, gca() will take no keyword arguments. The gca() function should only be used to get the current axes, or if no axes exist, create new axes with default keyword arguments. To create a new axes with non-default arguments, use plt.axes() or plt.subplot().\n",
      "  ax = fig.gca(projection='3d')\n"
     ]
    },
    {
     "data": {
      "text/plain": [
       "<mpl_toolkits.mplot3d.art3d.Path3DCollection at 0x29258244370>"
      ]
     },
     "execution_count": 43,
     "metadata": {},
     "output_type": "execute_result"
    }
   ],
   "source": [
    "from sklearn.cluster import KMeans\n",
    "from mpl_toolkits.mplot3d import Axes3D\n",
    "\n",
    "\n",
    "fig = plt.figure()\n",
    "ax = fig.gca(projection='3d')\n",
    "\n",
    "plt.show()\n",
    "\n",
    "k = KMeans(n_clusters=16)\n",
    "df = obtener_y_preparar()\n",
    "\n",
    "clases = k.fit_predict(df[['Numero_tickes_norm', 'Uds_venta_norm', 'Eur_venta_norm']])\n",
    "\n",
    "ax.scatter(df['Numero_tickes_norm'], df['Uds_venta_norm'], df['Eur_venta_norm'], c=clases)\n"
   ]
  },
  {
   "cell_type": "code",
   "execution_count": 44,
   "metadata": {
    "ExecuteTime": {
     "end_time": "2022-03-05T05:50:02.285404Z",
     "start_time": "2022-03-05T05:49:59.001337Z"
    }
   },
   "outputs": [
    {
     "name": "stderr",
     "output_type": "stream",
     "text": [
      "C:\\Users\\aleex\\AppData\\Local\\Temp/ipykernel_26820/3636485888.py:6: MatplotlibDeprecationWarning: Calling gca() with keyword arguments was deprecated in Matplotlib 3.4. Starting two minor releases later, gca() will take no keyword arguments. The gca() function should only be used to get the current axes, or if no axes exist, create new axes with default keyword arguments. To create a new axes with non-default arguments, use plt.axes() or plt.subplot().\n",
      "  ax = fig.gca(projection='3d')\n"
     ]
    },
    {
     "data": {
      "text/plain": [
       "<mpl_toolkits.mplot3d.art3d.Path3DCollection at 0x2925846d520>"
      ]
     },
     "execution_count": 44,
     "metadata": {},
     "output_type": "execute_result"
    }
   ],
   "source": [
    "from sklearn.cluster import KMeans\n",
    "from mpl_toolkits.mplot3d import Axes3D\n",
    "\n",
    "\n",
    "fig = plt.figure()\n",
    "ax = fig.gca(projection='3d')\n",
    "\n",
    "plt.show()\n",
    "\n",
    "k = KMeans(n_clusters=64)\n",
    "df = obtener_y_preparar()\n",
    "\n",
    "ax.scatter(df['Numero_tickes_norm'], df['Uds_venta_norm'], df['Eur_venta_norm'], c=k.fit_predict(df[['Numero_tickes_norm', 'Uds_venta_norm', 'Eur_venta_norm']]))\n"
   ]
  },
  {
   "cell_type": "code",
   "execution_count": 45,
   "metadata": {
    "ExecuteTime": {
     "end_time": "2022-03-05T05:50:12.949165Z",
     "start_time": "2022-03-05T05:50:10.745653Z"
    }
   },
   "outputs": [
    {
     "name": "stderr",
     "output_type": "stream",
     "text": [
      "C:\\Users\\aleex\\AppData\\Local\\Temp/ipykernel_26820/3248645448.py:6: MatplotlibDeprecationWarning: Calling gca() with keyword arguments was deprecated in Matplotlib 3.4. Starting two minor releases later, gca() will take no keyword arguments. The gca() function should only be used to get the current axes, or if no axes exist, create new axes with default keyword arguments. To create a new axes with non-default arguments, use plt.axes() or plt.subplot().\n",
      "  ax = fig.gca(projection='3d')\n"
     ]
    },
    {
     "data": {
      "text/plain": [
       "<mpl_toolkits.mplot3d.art3d.Path3DCollection at 0x292583dd7f0>"
      ]
     },
     "execution_count": 45,
     "metadata": {},
     "output_type": "execute_result"
    }
   ],
   "source": [
    "from sklearn.cluster import KMeans\n",
    "from mpl_toolkits.mplot3d import Axes3D\n",
    "\n",
    "\n",
    "fig = plt.figure()\n",
    "ax = fig.gca(projection='3d')\n",
    "\n",
    "plt.show()\n",
    "\n",
    "k = KMeans(n_clusters=3)\n",
    "df = obtener_y_preparar()\n",
    "\n",
    "ax.scatter(df['Numero_tickes_norm'], df['Uds_venta_norm'], df['Eur_venta_norm'], c=k.fit_predict(df[['Numero_tickes_norm', 'Uds_venta_norm', 'Eur_venta_norm']]))\n"
   ]
  },
  {
   "cell_type": "markdown",
   "metadata": {},
   "source": [
    "Decidir el número de clústers a mano es una tarea imposible salvo que nuestros datos tengan una estructura muy simple (en cuyo caso no necesitaremos ningún algoritmo).\n",
    "\n",
    "Para ayudarnos en esa tarea lo que podemos hacer es evaluar el \"desorden\" interno de cada clúster. \n",
    "\n",
    "Este desorden puede calcularse midiendo la distancia entre el centro de cada clúster y sus componentes. \n",
    "\n",
    "Por definición es fácil ver que el desorden se reducirá según como aumentamos el número de clústers (habrá más centros y, por lo tanto, cada elemento estará más cerca de un centro).\n",
    "\n",
    "Cuando tenemos una variable que se va reduciendo según como aumentamos el número de pasos (clústers, tiempo,...) lo que nos interesa es ver cuándo cambia el ritmo de descenso. \n",
    "\n",
    "Gráficamente podemos utilizar el método del \"codo\" para tratar de encontrar el punto en el que pasa esto. Para ello dibujaríamos el valor de ese desorden para diferente número de clústers y nos quedamos con el punto en el que el ritmo de descenso cambia de tendencia.\n",
    "\n",
    "La librería **Yellowbrick** tiene un visualizador integrado que detecta este punto"
   ]
  },
  {
   "cell_type": "code",
   "execution_count": 46,
   "metadata": {
    "ExecuteTime": {
     "end_time": "2022-03-05T05:50:22.154786Z",
     "start_time": "2022-03-05T05:50:18.884346Z"
    }
   },
   "outputs": [
    {
     "data": {
      "text/plain": [
       "<AxesSubplot:title={'center':'Distortion Score Elbow for KMeans Clustering'}, xlabel='k', ylabel='distortion score'>"
      ]
     },
     "execution_count": 46,
     "metadata": {},
     "output_type": "execute_result"
    }
   ],
   "source": [
    "from yellowbrick.cluster import KElbowVisualizer\n",
    "fig = plt.figure()\n",
    "\n",
    "view = KElbowVisualizer(k, k=(1,12))\n",
    "\n",
    "\n",
    "view.fit(df[['Numero_tickes_norm', 'Uds_venta_norm', 'Eur_venta_norm']])\n",
    "\n",
    "view.show()\n"
   ]
  },
  {
   "cell_type": "markdown",
   "metadata": {
    "ExecuteTime": {
     "end_time": "2021-03-25T21:28:30.754971Z",
     "start_time": "2021-03-25T21:28:30.746976Z"
    }
   },
   "source": [
    "Esta librería también nos da el valor en forma de atributo por si queremos utilizarlo de modo no gráfico."
   ]
  },
  {
   "cell_type": "code",
   "execution_count": 47,
   "metadata": {
    "ExecuteTime": {
     "end_time": "2022-03-05T05:50:27.346934Z",
     "start_time": "2022-03-05T05:50:27.341091Z"
    }
   },
   "outputs": [
    {
     "data": {
      "text/plain": [
       "3"
      ]
     },
     "execution_count": 47,
     "metadata": {},
     "output_type": "execute_result"
    }
   ],
   "source": [
    "view.elbow_value_"
   ]
  },
  {
   "cell_type": "code",
   "execution_count": 48,
   "metadata": {
    "ExecuteTime": {
     "end_time": "2022-03-05T05:50:31.035237Z",
     "start_time": "2022-03-05T05:50:28.685518Z"
    }
   },
   "outputs": [
    {
     "name": "stderr",
     "output_type": "stream",
     "text": [
      "C:\\Users\\aleex\\AppData\\Local\\Temp/ipykernel_26820/3943513029.py:7: MatplotlibDeprecationWarning: Calling gca() with keyword arguments was deprecated in Matplotlib 3.4. Starting two minor releases later, gca() will take no keyword arguments. The gca() function should only be used to get the current axes, or if no axes exist, create new axes with default keyword arguments. To create a new axes with non-default arguments, use plt.axes() or plt.subplot().\n",
      "  ax = fig.gca(projection='3d')\n"
     ]
    },
    {
     "data": {
      "text/plain": [
       "<mpl_toolkits.mplot3d.art3d.Path3DCollection at 0x29255abfe20>"
      ]
     },
     "execution_count": 48,
     "metadata": {},
     "output_type": "execute_result"
    }
   ],
   "source": [
    "from sklearn.cluster import KMeans\n",
    "from mpl_toolkits.mplot3d import Axes3D\n",
    "\n",
    "\n",
    "fig = plt.figure()\n",
    "\n",
    "ax = fig.gca(projection='3d')\n",
    "\n",
    "plt.show()\n",
    "\n",
    "k = KMeans(n_clusters=view.elbow_value_)\n",
    "df = obtener_y_preparar()\n",
    "\n",
    "ax.scatter(df['Numero_tickes_norm'], df['Uds_venta_norm'], df['Eur_venta_norm'], c=k.fit_predict(df[['Numero_tickes_norm', 'Uds_venta_norm', 'Eur_venta_norm']]))\n"
   ]
  },
  {
   "cell_type": "markdown",
   "metadata": {},
   "source": [
    "Por supuesto, el método de búsqueda también tiene parámetros que configurar:"
   ]
  },
  {
   "cell_type": "code",
   "execution_count": 49,
   "metadata": {
    "ExecuteTime": {
     "end_time": "2022-03-05T05:50:53.008437Z",
     "start_time": "2022-03-05T05:50:44.276132Z"
    }
   },
   "outputs": [
    {
     "data": {
      "text/plain": [
       "<AxesSubplot:title={'center':'Calinski Harabasz Score Elbow for KMeans Clustering'}, xlabel='k', ylabel='calinski harabasz score'>"
      ]
     },
     "execution_count": 49,
     "metadata": {},
     "output_type": "execute_result"
    }
   ],
   "source": [
    "from yellowbrick.cluster import KElbowVisualizer\n",
    "fig = plt.figure()\n",
    "\n",
    "view = KElbowVisualizer(k, k=(2,25), metric='calinski_harabasz', locate_elbow=True)\n",
    "\n",
    "view.fit(df[['Numero_tickes_norm', 'Uds_venta_norm', 'Eur_venta_norm']])\n",
    "\n",
    "view.show()"
   ]
  },
  {
   "cell_type": "markdown",
   "metadata": {},
   "source": [
    "# Distancia\n",
    "\n",
    "Cuando hablamos de un centro de un clúster y de la distancia entre un elemento y el centro quizás no todos estamos entendiendo lo mismo.\n",
    "\n",
    "¿Qué es la distancia?\n",
    "\n",
    "En un algoritmo de clusterización la distancia es una función que, aplicada a dos elementos de nuestra muestra, nos da una medida de su similitud.\n",
    "\n",
    "Existen muchos tipos de distancias que podemos utilizar y sus diferencias pueden tener grandes repercusiones en los datos:\n",
    "\n",
    "## Distancia Manhattan\n",
    "\n",
    "Esta es la distancia más sencilla en la que podemos pensar, se trata únicamente de contar cuántos atributos diferentes tienen dos elementos.\n",
    "\n",
    "La distancia Manhatan entre \n",
    "\n",
    "```\n",
    "a = [0,1,0,1,0,1]\n",
    "b = [1,0,1,0,1,0]\n",
    "```\n",
    "\n",
    "Será 6, pero también será 6 la distancia Manhattan entre:\n",
    "\n",
    "```\n",
    "a = [0,1,0,1,0,1]\n",
    "b = [1000,1000,1000,1000,-9999999,-9999999]\n",
    "```\n",
    "\n",
    "En general utilizaremos la distancia Manhattan únicamente cuando nuestros atributos sean categóricos y no exista un orden ni una magnitud asociada a sus valores.\n",
    "\n",
    "**Nunca debemos utilizar una distancia Manhattan con variables continuas**, los números con decimales pueden no coincidir aunque sí lo haga su representación visual, si utilizamos la distancia Manhattan con datos continuos lo que pasará es que casi todos los elementos tendrán máxima distancia entre ellos.\n",
    "\n",
    "## Distancia Euclídea\n",
    "\n",
    "Forma de medir distancias en el plano, hace la raíz cuadrada de la suma de las diferencias al cuadrado...\n",
    "\n",
    "$$ DE = \\sqrt{\\sum_{i=1}^{n} (x_i - y_i)^2} $$\n",
    "\n",
    "\n",
    "## Coef Correlación\n",
    "\n",
    "Mide la distancia utilizando un coeficiente de correlación entre elmeentos (Pearson, Spearman,..); estos métodos no tienen en cuenta únicamente la distancia numérica entre elementos sino su relación o tendencia.\n",
    "\n",
    "\n",
    "## SMC\n",
    "\n",
    "Simple-Matching Coefficient => simplemente mide el número de atributos iguales entre el número de atributos totales, igual que la distancia Manhattan no debemos utilizarlo con variables continuas.\n",
    "\n",
    "## Funciones de distancia propias\n",
    "\n",
    "Algunos algoritmos pueden permitir que especifiquemos nuestra propia función de distancia, esto nos permitiría asignar mayor peso a unas variables que a otras.\n"
   ]
  },
  {
   "cell_type": "markdown",
   "metadata": {},
   "source": [
    "# K-medoids\n",
    "\n",
    "K-medoids es un algoritmo casi derivado de KMeans que tiene una diferencia fundamental en su forma de trabajo:\n",
    "\n",
    "> El centroide es siempre una observación real\n",
    "\n",
    "En KMeans, cuando calculamos los nuevos centroides lo hacemos como la media entre todas nuestras observaciones, lo cuál puede dar lugar a que escoja un centroide que \"caiga\" donde no hay puntos, esto es especialmente significativo en conjuntos de datos que pueden tener \"huecos\":"
   ]
  },
  {
   "cell_type": "code",
   "execution_count": 50,
   "metadata": {
    "ExecuteTime": {
     "end_time": "2022-03-05T05:50:57.285222Z",
     "start_time": "2022-03-05T05:50:57.128293Z"
    }
   },
   "outputs": [
    {
     "data": {
      "text/plain": [
       "<AxesSubplot:xlabel='0', ylabel='1'>"
      ]
     },
     "execution_count": 50,
     "metadata": {},
     "output_type": "execute_result"
    }
   ],
   "source": [
    "import numpy as np\n",
    "import pandas as pd\n",
    "import seaborn as sns\n",
    "import matplotlib.pyplot as plt\n",
    "from sklearn.svm import SVC\n",
    "from sklearn import metrics\n",
    "from matplotlib.colors import ListedColormap\n",
    "\n",
    "%matplotlib qt\n",
    "\n",
    "from mpl_toolkits.mplot3d import Axes3D\n",
    "\n",
    "datos = np.vstack([np.random.rand(1000), np.random.rand(1000)])\n",
    "\n",
    "datos[0] = datos[0] - .5\n",
    "datos[1] = datos[1] - .5\n",
    "\n",
    "\n",
    "x = np.sqrt(datos[0]**2 + datos[1]**2) \n",
    "\n",
    "datos = np.vstack([datos[0], datos[1], x])\n",
    "\n",
    "df = pd.DataFrame(data=datos.T)\n",
    "df = df.loc[df[2] > .25]\n",
    "\n",
    "sns.scatterplot(data=df, x=df[0], y=df[1])"
   ]
  },
  {
   "cell_type": "code",
   "execution_count": 51,
   "metadata": {
    "ExecuteTime": {
     "end_time": "2022-03-05T05:51:03.101657Z",
     "start_time": "2022-03-05T05:51:02.680739Z"
    }
   },
   "outputs": [
    {
     "data": {
      "text/plain": [
       "<AxesSubplot:xlabel='0', ylabel='1'>"
      ]
     },
     "execution_count": 51,
     "metadata": {},
     "output_type": "execute_result"
    }
   ],
   "source": [
    "from sklearn.cluster import KMeans\n",
    "from mpl_toolkits.mplot3d import Axes3D\n",
    "\n",
    "\n",
    "fig = plt.figure()\n",
    "\n",
    "plt.show()\n",
    "\n",
    "k = KMeans(n_clusters=1)\n",
    "\n",
    "sns.scatterplot(data=df, x=df[0], y=df[1], hue=k.fit_predict(df[[0,1]]), palette = 'Accent')\n",
    "\n",
    "sns.scatterplot(data=None, x=k.cluster_centers_[:,0], y=k.cluster_centers_[:,1], hue=0)\n"
   ]
  },
  {
   "cell_type": "code",
   "execution_count": 52,
   "metadata": {
    "ExecuteTime": {
     "end_time": "2022-03-05T05:51:04.689935Z",
     "start_time": "2022-03-05T05:51:04.445329Z"
    }
   },
   "outputs": [
    {
     "data": {
      "text/plain": [
       "<AxesSubplot:xlabel='0', ylabel='1'>"
      ]
     },
     "execution_count": 52,
     "metadata": {},
     "output_type": "execute_result"
    }
   ],
   "source": [
    "from sklearn.cluster import KMeans\n",
    "from mpl_toolkits.mplot3d import Axes3D\n",
    "\n",
    "\n",
    "fig = plt.figure()\n",
    "\n",
    "plt.show()\n",
    "\n",
    "k = KMeans(n_clusters=3)\n",
    "\n",
    "sns.scatterplot(data=df, x=df[0], y=df[1], hue=k.fit_predict(df[[0,1]]), palette = 'Accent')\n",
    "\n",
    "sns.scatterplot(data=None, x=k.cluster_centers_[:,0], y=k.cluster_centers_[:,1], hue=0)\n"
   ]
  },
  {
   "cell_type": "markdown",
   "metadata": {
    "ExecuteTime": {
     "end_time": "2021-03-25T22:32:07.194679Z",
     "start_time": "2021-03-25T22:32:07.189672Z"
    }
   },
   "source": [
    "Si añadimos algunos outliers:"
   ]
  },
  {
   "cell_type": "code",
   "execution_count": 53,
   "metadata": {
    "ExecuteTime": {
     "end_time": "2022-03-05T05:51:06.947906Z",
     "start_time": "2022-03-05T05:51:06.787967Z"
    }
   },
   "outputs": [
    {
     "data": {
      "text/plain": [
       "<AxesSubplot:xlabel='0', ylabel='1'>"
      ]
     },
     "execution_count": 53,
     "metadata": {},
     "output_type": "execute_result"
    }
   ],
   "source": [
    "plt.figure()\n",
    "xx = np.random.rand(1000)\n",
    "xx = np.hstack([xx, np.random.rand(50) + 1])\n",
    "\n",
    "xx -= .5\n",
    "\n",
    "yy = np.random.rand(1000)\n",
    "yy = np.hstack([yy, np.random.rand(50) + 1])\n",
    "yy -= .5\n",
    "\n",
    "x = np.sqrt(xx**2 + yy**2) \n",
    "\n",
    "datos = np.vstack([xx, yy, x])\n",
    "    \n",
    "df = pd.DataFrame(data=datos.T)    \n",
    "df = df.loc[df[2] > .25]\n",
    "sns.scatterplot(data=df, x=df[0], y=df[1])"
   ]
  },
  {
   "cell_type": "code",
   "execution_count": 54,
   "metadata": {
    "ExecuteTime": {
     "end_time": "2022-03-05T05:51:08.333666Z",
     "start_time": "2022-03-05T05:51:08.092247Z"
    }
   },
   "outputs": [
    {
     "data": {
      "text/plain": [
       "<AxesSubplot:xlabel='0', ylabel='1'>"
      ]
     },
     "execution_count": 54,
     "metadata": {},
     "output_type": "execute_result"
    }
   ],
   "source": [
    "from sklearn.cluster import KMeans\n",
    "from mpl_toolkits.mplot3d import Axes3D\n",
    "\n",
    "\n",
    "fig = plt.figure()\n",
    "\n",
    "plt.show()\n",
    "\n",
    "k = KMeans(n_clusters=3)\n",
    "\n",
    "sns.scatterplot(data=df, x=df[0], y=df[1], hue=k.fit_predict(df[[0,1]]), palette = 'Accent')\n",
    "\n",
    "sns.scatterplot(data=None, x=k.cluster_centers_[:,0], y=k.cluster_centers_[:,1], hue=0)"
   ]
  },
  {
   "cell_type": "code",
   "execution_count": 55,
   "metadata": {
    "ExecuteTime": {
     "end_time": "2022-03-05T05:51:10.229883Z",
     "start_time": "2022-03-05T05:51:10.086196Z"
    }
   },
   "outputs": [
    {
     "data": {
      "text/plain": [
       "<AxesSubplot:xlabel='0', ylabel='1'>"
      ]
     },
     "execution_count": 55,
     "metadata": {},
     "output_type": "execute_result"
    }
   ],
   "source": [
    "plt.figure()\n",
    "xx = np.random.rand(1000)\n",
    "xx = np.hstack([xx, np.random.rand(50) + 2])\n",
    "\n",
    "xx -= .5\n",
    "\n",
    "yy = np.random.rand(1000)\n",
    "yy = np.hstack([yy, np.random.rand(50) + 2])\n",
    "yy -= .5\n",
    "\n",
    "x = np.sqrt(xx**2 + yy**2) \n",
    "datos = np.vstack([xx, yy, x])\n",
    "    \n",
    "df = pd.DataFrame(data=datos.T)    \n",
    "df = df.loc[df[2] > .25]\n",
    "sns.scatterplot(data=df, x=df[0], y=df[1])"
   ]
  },
  {
   "cell_type": "code",
   "execution_count": 56,
   "metadata": {
    "ExecuteTime": {
     "end_time": "2022-03-05T05:51:12.113297Z",
     "start_time": "2022-03-05T05:51:11.844719Z"
    }
   },
   "outputs": [
    {
     "data": {
      "text/plain": [
       "<AxesSubplot:xlabel='0', ylabel='1'>"
      ]
     },
     "execution_count": 56,
     "metadata": {},
     "output_type": "execute_result"
    }
   ],
   "source": [
    "from sklearn.cluster import KMeans\n",
    "from mpl_toolkits.mplot3d import Axes3D\n",
    "\n",
    "\n",
    "fig = plt.figure()\n",
    "\n",
    "plt.show()\n",
    "\n",
    "k = KMeans(n_clusters=3)\n",
    "\n",
    "sns.scatterplot(data=df, x=df[0], y=df[1], hue=k.fit_predict(df[[0,1]]), palette = 'Accent')\n",
    "\n",
    "sns.scatterplot(data=None, x=k.cluster_centers_[:,0], y=k.cluster_centers_[:,1], hue=0)"
   ]
  },
  {
   "cell_type": "code",
   "execution_count": 57,
   "metadata": {
    "ExecuteTime": {
     "end_time": "2022-03-05T05:51:13.862666Z",
     "start_time": "2022-03-05T05:51:13.658626Z"
    }
   },
   "outputs": [
    {
     "data": {
      "text/plain": [
       "<AxesSubplot:xlabel='0', ylabel='1'>"
      ]
     },
     "execution_count": 57,
     "metadata": {},
     "output_type": "execute_result"
    }
   ],
   "source": [
    "from sklearn.cluster import KMeans\n",
    "from mpl_toolkits.mplot3d import Axes3D\n",
    "\n",
    "\n",
    "fig = plt.figure()\n",
    "\n",
    "plt.show()\n",
    "\n",
    "k = KMeans(n_clusters=2)\n",
    "\n",
    "sns.scatterplot(data=df, x=df[0], y=df[1], hue=k.fit_predict(df[[0,1]]), palette = 'Accent')\n",
    "\n",
    "sns.scatterplot(data=None, x=k.cluster_centers_[:,0], y=k.cluster_centers_[:,1], hue=0)"
   ]
  },
  {
   "cell_type": "markdown",
   "metadata": {},
   "source": [
    "Con K-Medoids"
   ]
  },
  {
   "cell_type": "code",
   "execution_count": 58,
   "metadata": {
    "ExecuteTime": {
     "end_time": "2022-03-05T05:51:23.108006Z",
     "start_time": "2022-03-05T05:51:22.830831Z"
    }
   },
   "outputs": [
    {
     "data": {
      "text/plain": [
       "<AxesSubplot:xlabel='0', ylabel='1'>"
      ]
     },
     "execution_count": 58,
     "metadata": {},
     "output_type": "execute_result"
    }
   ],
   "source": [
    "from sklearn_extra.cluster import KMedoids\n",
    "\n",
    "from mpl_toolkits.mplot3d import Axes3D\n",
    "\n",
    "\n",
    "fig = plt.figure()\n",
    "\n",
    "plt.show()\n",
    "\n",
    "k = KMedoids(n_clusters=2)\n",
    "\n",
    "sns.scatterplot(data=df, x=df[0], y=df[1], hue=k.fit_predict(df[[0,1]]), palette = 'Accent')\n",
    "\n",
    "sns.scatterplot(data=None, x=k.cluster_centers_[:,0], y=k.cluster_centers_[:,1], hue=0)"
   ]
  },
  {
   "cell_type": "markdown",
   "metadata": {},
   "source": [
    "## Clusters jerárquicos\n",
    "\n",
    "Los clústers jerárquicos son el equivalente a los árboles de decisión para la clusterización, estos árboles van tomando decisiones maximizando la separación entre las ramas por las que van avanzando.\n",
    "\n",
    "No es necesario indicar el máximo número de ramas ya que, cuando se ha generado el árbol, podemos \"podarlo\" a la altura que deseemos.\n",
    "\n",
    "Por defecto el propio algoritmo tratará de minimizar el número de clústers salvo que le digamos lo contrario:"
   ]
  },
  {
   "cell_type": "code",
   "execution_count": 59,
   "metadata": {
    "ExecuteTime": {
     "end_time": "2022-03-05T05:51:27.677200Z",
     "start_time": "2022-03-05T05:51:27.412317Z"
    }
   },
   "outputs": [
    {
     "name": "stdout",
     "output_type": "stream",
     "text": [
      "Warning: Cannot change to a different GUI toolkit: notebook. Using qt instead.\n"
     ]
    },
    {
     "data": {
      "text/plain": [
       "<AxesSubplot:xlabel='0', ylabel='1'>"
      ]
     },
     "execution_count": 59,
     "metadata": {},
     "output_type": "execute_result"
    }
   ],
   "source": [
    "from sklearn.cluster import AgglomerativeClustering\n",
    "import numpy as np\n",
    "import pandas as pd\n",
    "import seaborn as sns\n",
    "import matplotlib.pyplot as plt\n",
    "from sklearn.svm import SVC\n",
    "from sklearn import metrics\n",
    "from matplotlib.colors import ListedColormap\n",
    "\n",
    "%matplotlib notebook\n",
    "\n",
    "from mpl_toolkits.mplot3d import Axes3D\n",
    "\n",
    "datos = np.vstack([np.random.rand(1000), np.random.rand(1000)])\n",
    "\n",
    "datos[0] = datos[0] - .5\n",
    "datos[1] = datos[1] - .5\n",
    "\n",
    "\n",
    "x = np.sqrt(datos[0]**2 + datos[1]**2) \n",
    "\n",
    "datos = np.vstack([datos[0], datos[1], x])\n",
    "\n",
    "df = pd.DataFrame(data=datos.T)\n",
    "df = df.loc[df[2] > .25]\n",
    "\n",
    "\n",
    "ac = AgglomerativeClustering()\n",
    "\n",
    "\n",
    "ac.fit(df[[0,1]])\n",
    "\n",
    "sns.scatterplot(data=df, x=df[0], y=df[1], hue=ac.fit_predict(df[[0,1]]), palette = 'Accent')\n"
   ]
  },
  {
   "cell_type": "code",
   "execution_count": 60,
   "metadata": {
    "ExecuteTime": {
     "end_time": "2022-03-05T05:51:29.169142Z",
     "start_time": "2022-03-05T05:51:28.933627Z"
    }
   },
   "outputs": [
    {
     "name": "stdout",
     "output_type": "stream",
     "text": [
      "Warning: Cannot change to a different GUI toolkit: notebook. Using qt instead.\n"
     ]
    },
    {
     "data": {
      "text/plain": [
       "<AxesSubplot:xlabel='0', ylabel='1'>"
      ]
     },
     "execution_count": 60,
     "metadata": {},
     "output_type": "execute_result"
    }
   ],
   "source": [
    "from sklearn.cluster import AgglomerativeClustering\n",
    "import numpy as np\n",
    "import pandas as pd\n",
    "import seaborn as sns\n",
    "import matplotlib.pyplot as plt\n",
    "from sklearn.svm import SVC\n",
    "from sklearn import metrics\n",
    "from matplotlib.colors import ListedColormap\n",
    "\n",
    "%matplotlib notebook\n",
    "\n",
    "from mpl_toolkits.mplot3d import Axes3D\n",
    "\n",
    "datos = np.vstack([np.random.rand(1000), np.random.rand(1000)])\n",
    "\n",
    "datos[0] = datos[0] - .5\n",
    "datos[1] = datos[1] - .5\n",
    "\n",
    "\n",
    "x = np.sqrt(datos[0]**2 + datos[1]**2) \n",
    "\n",
    "datos = np.vstack([datos[0], datos[1], x])\n",
    "\n",
    "df = pd.DataFrame(data=datos.T)\n",
    "df = df.loc[df[2] > .25]\n",
    "\n",
    "\n",
    "ac = AgglomerativeClustering(n_clusters=4)\n",
    "\n",
    "\n",
    "ac.fit(df[[0,1]])\n",
    "\n",
    "sns.scatterplot(data=df, x=df[0], y=df[1], hue=ac.fit_predict(df[[0,1]]), palette = 'Accent')\n"
   ]
  },
  {
   "cell_type": "markdown",
   "metadata": {},
   "source": [
    "También podemos utilizar Yellowbrick para determinar el número de clústers más adecuado:"
   ]
  },
  {
   "cell_type": "code",
   "execution_count": 61,
   "metadata": {
    "ExecuteTime": {
     "end_time": "2022-03-05T05:51:33.332996Z",
     "start_time": "2022-03-05T05:51:32.535442Z"
    }
   },
   "outputs": [
    {
     "data": {
      "text/plain": [
       "<AxesSubplot:title={'center':'Distortion Score Elbow for AgglomerativeClustering Clustering'}, xlabel='k', ylabel='distortion score'>"
      ]
     },
     "execution_count": 61,
     "metadata": {},
     "output_type": "execute_result"
    }
   ],
   "source": [
    "from yellowbrick.cluster import KElbowVisualizer\n",
    "plt.figure()\n",
    "\n",
    "vis = KElbowVisualizer(ac, k=(2,20))\n",
    "\n",
    "vis.fit(df[[0,1]])\n",
    "\n",
    "vis.show()\n"
   ]
  },
  {
   "cell_type": "code",
   "execution_count": 62,
   "metadata": {
    "ExecuteTime": {
     "end_time": "2022-03-05T05:51:35.298058Z",
     "start_time": "2022-03-05T05:51:35.050076Z"
    }
   },
   "outputs": [
    {
     "name": "stdout",
     "output_type": "stream",
     "text": [
      "Warning: Cannot change to a different GUI toolkit: notebook. Using qt instead.\n"
     ]
    },
    {
     "data": {
      "text/plain": [
       "<AxesSubplot:xlabel='0', ylabel='1'>"
      ]
     },
     "execution_count": 62,
     "metadata": {},
     "output_type": "execute_result"
    }
   ],
   "source": [
    "from sklearn.cluster import AgglomerativeClustering\n",
    "import numpy as np\n",
    "import pandas as pd\n",
    "import seaborn as sns\n",
    "import matplotlib.pyplot as plt\n",
    "from sklearn.svm import SVC\n",
    "from sklearn import metrics\n",
    "from matplotlib.colors import ListedColormap\n",
    "\n",
    "%matplotlib notebook\n",
    "\n",
    "from mpl_toolkits.mplot3d import Axes3D\n",
    "\n",
    "datos = np.vstack([np.random.rand(1000), np.random.rand(1000)])\n",
    "\n",
    "datos[0] = datos[0] - .5\n",
    "datos[1] = datos[1] - .5\n",
    "\n",
    "\n",
    "x = np.sqrt(datos[0]**2 + datos[1]**2) \n",
    "\n",
    "datos = np.vstack([datos[0], datos[1], x])\n",
    "\n",
    "df = pd.DataFrame(data=datos.T)\n",
    "df = df.loc[df[2] > .25]\n",
    "\n",
    "\n",
    "ac = AgglomerativeClustering(n_clusters=5)\n",
    "\n",
    "\n",
    "ac.fit(df[[0,1]])\n",
    "\n",
    "sns.scatterplot(data=df, x=df[0], y=df[1], hue=ac.fit_predict(df[[0,1]]), palette = 'Accent')"
   ]
  },
  {
   "cell_type": "markdown",
   "metadata": {},
   "source": [
    "# DBSCAN\n",
    "\n",
    "La clusterización DBScan representa una evolución en la forma de buscar clústers ya que trata de seguir el patrón que haríamos las personas, considerando puntos contiguos como relacionados y los saltos entre bloques como nuevos clusters.\n",
    "\n",
    "Si partimos de un conjunto de datos que esté \"roto\" ninguno de los algoritmos que hemos visto hasta ahora tendrá garantizado un buen resultado:"
   ]
  },
  {
   "cell_type": "code",
   "execution_count": 63,
   "metadata": {
    "ExecuteTime": {
     "end_time": "2022-03-05T05:51:45.207129Z",
     "start_time": "2022-03-05T05:51:45.183797Z"
    }
   },
   "outputs": [
    {
     "name": "stdout",
     "output_type": "stream",
     "text": [
      "Warning: Cannot change to a different GUI toolkit: notebook. Using qt instead.\n"
     ]
    }
   ],
   "source": [
    "from sklearn.cluster import KMeans\n",
    "import numpy as np\n",
    "import pandas as pd\n",
    "import seaborn as sns\n",
    "import matplotlib.pyplot as plt\n",
    "from sklearn.svm import SVC\n",
    "from sklearn import metrics\n",
    "from matplotlib.colors import ListedColormap\n",
    "\n",
    "%matplotlib notebook\n",
    "\n",
    "from mpl_toolkits.mplot3d import Axes3D\n",
    "\n",
    "xx = np.random.rand(1000)\n",
    "xx = np.hstack([xx, np.random.rand(50) + 1])\n",
    "\n",
    "xx -= .5\n",
    "\n",
    "yy = np.random.rand(1000)\n",
    "yy = np.hstack([yy, np.random.rand(50) + 1])\n",
    "yy -= .5\n",
    "\n",
    "x = np.sqrt(xx**2 + yy**2) \n",
    "\n",
    "datos = np.vstack([xx, yy, x])\n",
    "    \n",
    "df = pd.DataFrame(data=datos.T)    \n",
    "df = df.loc[(df[2] > .35) | (df[2] < .15)]"
   ]
  },
  {
   "cell_type": "code",
   "execution_count": 64,
   "metadata": {
    "ExecuteTime": {
     "end_time": "2022-03-05T05:51:49.510490Z",
     "start_time": "2022-03-05T05:51:49.319669Z"
    }
   },
   "outputs": [
    {
     "data": {
      "text/plain": [
       "<AxesSubplot:xlabel='0', ylabel='1'>"
      ]
     },
     "execution_count": 64,
     "metadata": {},
     "output_type": "execute_result"
    }
   ],
   "source": [
    "\n",
    "plt.figure()\n",
    "\n",
    "k = KMeans(n_clusters=5)\n",
    "\n",
    "sns.scatterplot(data=df, x=df[0], y=df[1], hue=ac.fit_predict(df[[0,1]]), palette = 'Accent')"
   ]
  },
  {
   "cell_type": "code",
   "execution_count": 65,
   "metadata": {
    "ExecuteTime": {
     "end_time": "2022-03-05T05:51:52.165810Z",
     "start_time": "2022-03-05T05:51:52.002203Z"
    }
   },
   "outputs": [
    {
     "data": {
      "text/plain": [
       "<AxesSubplot:xlabel='0', ylabel='1'>"
      ]
     },
     "execution_count": 65,
     "metadata": {},
     "output_type": "execute_result"
    }
   ],
   "source": [
    "plt.figure()\n",
    "\n",
    "ac = AgglomerativeClustering(n_clusters=5)\n",
    "\n",
    "sns.scatterplot(data=df, x=df[0], y=df[1], hue=ac.fit_predict(df[[0,1]]), palette = 'Accent')"
   ]
  },
  {
   "cell_type": "markdown",
   "metadata": {},
   "source": [
    "DBSCAN es capaz de, con muy pocos parámetros, darnos el resultado buscado:\n",
    "\n",
    "* eps: distancia mínima que consideramos antes de dar un salto de clúster\n",
    "* min_samples: indica el mínimo número de observaciones que pedimos antes de crear un nuevo clúster."
   ]
  },
  {
   "cell_type": "code",
   "execution_count": 66,
   "metadata": {
    "ExecuteTime": {
     "end_time": "2022-03-05T05:51:54.964205Z",
     "start_time": "2022-03-05T05:51:54.683404Z"
    }
   },
   "outputs": [
    {
     "data": {
      "text/plain": [
       "<AxesSubplot:xlabel='0', ylabel='1'>"
      ]
     },
     "execution_count": 66,
     "metadata": {},
     "output_type": "execute_result"
    }
   ],
   "source": [
    "\n",
    "from sklearn.cluster import DBSCAN\n",
    "\n",
    "plt.figure()\n",
    "\n",
    "db = DBSCAN(\n",
    "       eps=.1,\n",
    "       min_samples=10)\n",
    "\n",
    "sns.scatterplot(data=df, x=df[0], y=df[1], hue=db.fit_predict(df[[0,1]]), palette = 'Accent')"
   ]
  },
  {
   "cell_type": "markdown",
   "metadata": {},
   "source": [
    "Las ventajas de DBSCAN son:\n",
    "* Puede evitar outliers mediante el número mínimo de observaciones que pedimos en cada clúster\n",
    "* Es capaz de detectar formas muy complejas\n",
    "* No nos exige establecer un número de clústers inicial\n",
    "\n",
    "Desventajas:\n",
    "* Es difícil dar con un buen parámetro de epsilon\n",
    "* Los puntos en los bordes pueden confundirse"
   ]
  },
  {
   "cell_type": "code",
   "execution_count": 67,
   "metadata": {
    "ExecuteTime": {
     "end_time": "2022-03-05T05:51:57.760525Z",
     "start_time": "2022-03-05T05:51:57.543746Z"
    }
   },
   "outputs": [
    {
     "data": {
      "text/plain": [
       "<AxesSubplot:xlabel='0', ylabel='1'>"
      ]
     },
     "execution_count": 67,
     "metadata": {},
     "output_type": "execute_result"
    }
   ],
   "source": [
    "import numpy as np\n",
    "from numpy import pi\n",
    "# import matplotlib.pyplot as plt\n",
    "\n",
    "N = 1000\n",
    "theta = np.sqrt(np.random.rand(N))*2*pi # np.linspace(0,2*pi,100)\n",
    "\n",
    "r_a = 2*theta + pi\n",
    "data_a = np.array([np.cos(theta)*r_a, np.sin(theta)*r_a]).T\n",
    "x_a = data_a + np.random.randn(N,2)\n",
    "\n",
    "r_b = -2*theta - pi\n",
    "data_b = np.array([np.cos(theta)*r_b, np.sin(theta)*r_b]).T\n",
    "x_b = data_b + np.random.randn(N,2)\n",
    "\n",
    "\n",
    "res_a = np.append(x_a, np.zeros((N,1)), axis=1)\n",
    "res_b = np.append(x_b, np.ones((N,1)), axis=1)\n",
    "\n",
    "res = np.append(res_a, res_b, axis=0)\n",
    "np.random.shuffle(res)\n",
    "\n",
    "plt.figure()\n",
    "sns.scatterplot(data=x_a, x=x_a[:,0], y=x_a[:,1], hue=1)\n",
    "sns.scatterplot(data=x_b, x=x_b[:,0], y=x_b[:,1], hue=1)\n",
    "\n",
    "\n",
    "xx = np.random.rand(1000)*12\n",
    "#xx = np.hstack([xx, np.random.rand(50) + 1])\n",
    "\n",
    "xx -= 6\n",
    "\n",
    "yy = np.random.rand(1000)*12\n",
    "#yy = np.hstack([yy, np.random.rand(50) + 1])\n",
    "yy -= 6\n",
    "\n",
    "x = np.sqrt(xx**2 + yy**2) \n",
    "\n",
    "datos = np.vstack([xx, yy, x])\n",
    "    \n",
    "df = pd.DataFrame(data=datos.T)    \n",
    "df = df.loc[(df[2] <2)]\n",
    "\n",
    "\n",
    "sns.scatterplot(data=df, x=df[0], y=df[1])"
   ]
  },
  {
   "cell_type": "code",
   "execution_count": 68,
   "metadata": {
    "ExecuteTime": {
     "end_time": "2022-03-05T05:51:59.360362Z",
     "start_time": "2022-03-05T05:51:59.218287Z"
    }
   },
   "outputs": [
    {
     "data": {
      "text/plain": [
       "<AxesSubplot:xlabel='0', ylabel='1'>"
      ]
     },
     "execution_count": 68,
     "metadata": {},
     "output_type": "execute_result"
    }
   ],
   "source": [
    "import numpy as np\n",
    "from numpy import pi\n",
    "# import matplotlib.pyplot as plt\n",
    "\n",
    "N = 1000\n",
    "theta = np.sqrt(np.random.rand(N))*2*pi # np.linspace(0,2*pi,100)\n",
    "\n",
    "r_a = 3*theta + pi\n",
    "data_a = np.array([np.cos(theta)*r_a, np.sin(theta)*r_a]).T\n",
    "x_a = data_a + np.random.randn(N,2)\n",
    "\n",
    "r_b = -3*theta - pi\n",
    "data_b = np.array([np.cos(theta)*r_b, np.sin(theta)*r_b]).T\n",
    "x_b = data_b + np.random.randn(N,2)\n",
    "\n",
    "res_a = np.append(x_a, np.zeros((N,1)), axis=1)\n",
    "res_b = np.append(x_b, np.ones((N,1)), axis=1)\n",
    "\n",
    "res = np.append(res_a, res_b, axis=0)\n",
    "np.random.shuffle(res)\n",
    "\n",
    "plt.figure()\n",
    "\n",
    "xx = np.random.rand(2000)*12\n",
    "xx -= 6\n",
    "\n",
    "yy = np.random.rand(2000)*12\n",
    "yy -= 6\n",
    "\n",
    "temp = np.vstack([xx, yy, np.sqrt(xx**2 + yy**2)])\n",
    "temp = temp[:,temp[2] < 2]\n",
    "temp = np.array([x for x in zip(temp[0], temp[1])])\n",
    "temp = np.concatenate([temp, x_a, x_b])\n",
    "\n",
    "df = pd.DataFrame(data=temp)\n",
    "\n",
    "sns.scatterplot(data=df, x=df[0], y=df[1])"
   ]
  },
  {
   "cell_type": "code",
   "execution_count": 69,
   "metadata": {
    "ExecuteTime": {
     "end_time": "2022-03-05T05:52:07.339508Z",
     "start_time": "2022-03-05T05:52:07.163297Z"
    }
   },
   "outputs": [
    {
     "data": {
      "text/plain": [
       "<AxesSubplot:xlabel='0', ylabel='1'>"
      ]
     },
     "execution_count": 69,
     "metadata": {},
     "output_type": "execute_result"
    }
   ],
   "source": [
    "import sklearn.metrics\n",
    "\n",
    "\n",
    "plt.figure()\n",
    "\n",
    "db = DBSCAN(\n",
    "       eps=1.5,\n",
    "       min_samples=10\n",
    "        )\n",
    "\n",
    "sns.scatterplot(data=df, x=df[0], y=df[1], hue=db.fit_predict(df[[0,1]]), palette = 'Accent')"
   ]
  },
  {
   "cell_type": "markdown",
   "metadata": {},
   "source": [
    "# Por qué clusterizamos\n",
    "\n",
    "Hemos visto que clusterizar no tiene por qué ser tan sencillo como clasificar, partimos de la nada y hay múltiples direcciones en las que podemos movernos, es, por lo tanto, más importante que nunca, no perder el foco de a dónde queremos llegar.\n",
    "\n",
    "## Clusterizamos para simplificar\n",
    "\n",
    "El objetivo de clusterizar debe ser simplificar nuestros datos y, por lo tanto, facilitar la comunicación. Una expectativa mínima de la clusterización debería ser adquirir un nuevo vocabulario que nos permita referirnos a nuestros clientes, productos, proveedores,... de una forma agregada que tenga **sentido de negocio**\n",
    "\n",
    "### ¿Cómo se pasa de estas visualizaciones y clústers a un conocimiento de negocio?\n",
    "\n",
    "Lo primero que hay que tener en cuenta es que, las visualizaciones de los clústers solo tienen sentido mientras vemos el clúster al entender qué hace cada algoritmo.\n",
    "\n",
    "Nosotros hemos representado clústers de 2 y 3 dimenesiones pero, en la realidad, lo normal es que nuestros datos tengan docenas de atributos y esos clústers no pueden visualizarse; si tratamos de pasarlos a 2 o 3 dimensiones es muy posible que el conjunto de atributos que escojamos no contenga la combinación adecuada que les de **sentido visual**, pero eso no quiere decir que no tenga sentido a nivel negocio.\n",
    "\n",
    "¿Cómo podemos extraer una información de negocio de los clústers?\n",
    "\n",
    "Hemos visto que hay formas para determinar el número de clústers adecuado desde una perspectiva matemática, nosotros, como analistas de negocio lo que debemos hacer es encontrar el número adecuado desde una perspectiva de negocio, para ello, lo que debemos hacer es sacar las características de cada clúster, estudiar qué los hace diferentes.\n",
    "\n",
    "Quizás el clúster A está formado por clientes que se registraron hace menos de un año, hacen más de dos pedidos al mes y tienen un 50% o más de gasto en la sección X... ¿tendría esto sentido de negocio? podemos encontrar algo que nos ayude a determinar qué es importante y qué no.\n",
    "\n",
    "## Profecías autocumplidas / imposibles\n",
    "\n",
    "A la hora de generar clústers es importante encontrar un equilibrio adecuado entre proporcionar datos al algoritmo para que pueda llegar a conclusiones interesantes (recordemos que es un proceso de descubrimiento de información) y tratar de que las conclusiones a las que llega puedan ser interpretadas.\n",
    "\n",
    "En ese sentido es conveniente evitar introducir atributos como:\n",
    " - Temperatura en el exterior en el momento de hacer la compra\n",
    " - Grados de latitud por encima del paralelo 47\n",
    " - ...\n",
    " \n",
    "Pero, de la misma forma que evitaremos integrar información que sólo nos añada ruido al análisis, también debemos evitar caer en la tentación de ser nosotros los que deciden qué atributos vamos a proporcionar al algoritmo para que la respuesta vaya en la línea que nos gustaría.\n",
    "\n",
    "Es habitual, para clusterizar, repetir el proceso hasta que nos agrupe los datos como nosotros queremos y no como el algoritmo entiende, para ello acabamos eliminando o añadiendo atributos hasta que no queda otro remedio que la creación de unos clusters adaptados a nuestra necesidad.\n",
    "\n",
    "Este uso del algoritmo de clusterización para que consiga cumplir una hipótesis inicial resta potencia a su ejecución ya que no le damos importancia a la parte de descubrimiento de patrones sino que nos centramos en un objetivo casi de clasificación.\n",
    "\n",
    "Por otro lado, es cierto que los algoritmos de clusterización raramente nos proporcionan un patrón claro al que podamos ponerle nombre (recordad la importancia de generar vocabulario de negocio en la sesión de clasificación) pero, mediante un uso iterativo de clusterización - evaluación, se puede llegar a identificar algunas realidades de nuestro negocio que quizás no conocíamos.\n",
    "\n",
    "Tal vez, de los clústers generados por un algoritmo de clusterización sólo uno de ellos tenga sentido de negocio pero, si lo tiene, podemos utilizarlo incluso aunque el resto tenga que ser descartado.\n",
    "\n",
    "\n",
    "## Clusterización - Clasificación\n",
    "\n",
    "Los algoritmos de segmentación pueden utilizarse de forma conjunta, quizás queremos hacer un primer paso de clusterización basado en distancias para organizar nuestros datos por similitud.\n",
    "\n",
    "A continuación, evaluando los clústers, vemos que alguno de ellos puede ser representativo de una realidad latente en el negocio. \n",
    "\n",
    "Escogemos este clúster y etiquetamos los datos como \"pertenecientes a ese clúster\" y \"no pertenecientes a este clúster\" y le pedimos a un algoritmo de clasificación que obtenga las reglas que caractericen el grupo.\n",
    "\n",
    "De esta forma obtendremos un conjunto de reglas no basadas en distancias que nos permitan entender mejor lo que \"mueve\" a ese grupo que hemos detectado."
   ]
  },
  {
   "cell_type": "markdown",
   "metadata": {},
   "source": [
    "# Casos de uso \n",
    "\n",
    "## Scoring\n",
    "* Queremos encontrar una clasificación con capacidad para integrar las reglas del negocio\n",
    "* Debemos poder utilizar esa clasificación como herramienta de comunicación con tomadores de decisiones\n",
    "\n",
    "## KMeans\n",
    "* Nuestros datos están normalizados y no contienen outliers\n",
    "* Podemos estimar el número de clusters necesarios o utilizar el método del codo\n",
    "* Los atributos de nuestras observaciones son \"equiparables\"\n",
    "* **Nuestros datos no tienen outliers**\n",
    "\n",
    "## KMedoids\n",
    "* Estamos en el caso de uso de de KMeans pero tenemos outliers\n",
    "\n",
    "## Clústers Jerárquicos\n",
    "* Número de clústers y observaciones muy alto, el clúster jerárquico toma decisiones como un árbol de decisión.\n",
    "\n",
    "## DBSCAN\n",
    "* Creamos clusters desde una perspectiva de \"continuidad\" en los datos\n",
    "\n"
   ]
  }
 ],
 "metadata": {
  "kernelspec": {
   "display_name": "Python 3 (ipykernel)",
   "language": "python",
   "name": "python3"
  },
  "language_info": {
   "codemirror_mode": {
    "name": "ipython",
    "version": 3
   },
   "file_extension": ".py",
   "mimetype": "text/x-python",
   "name": "python",
   "nbconvert_exporter": "python",
   "pygments_lexer": "ipython3",
   "version": "3.8.5"
  },
  "toc": {
   "base_numbering": 1,
   "nav_menu": {
    "height": "836.992px",
    "width": "317.5px"
   },
   "number_sections": true,
   "sideBar": true,
   "skip_h1_title": false,
   "title_cell": "Table of Contents",
   "title_sidebar": "Contents",
   "toc_cell": false,
   "toc_position": {
    "height": "calc(100% - 180px)",
    "left": "10px",
    "top": "150px",
    "width": "187px"
   },
   "toc_section_display": true,
   "toc_window_display": true
  }
 },
 "nbformat": 4,
 "nbformat_minor": 4
}
