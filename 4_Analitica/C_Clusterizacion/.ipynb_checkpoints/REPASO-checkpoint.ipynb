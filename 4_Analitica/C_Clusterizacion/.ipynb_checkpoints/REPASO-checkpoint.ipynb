{
 "cells": [
  {
   "cell_type": "markdown",
   "id": "8078d33b",
   "metadata": {},
   "source": [
    "## Repaso Clusterización"
   ]
  },
  {
   "cell_type": "code",
   "execution_count": 1,
   "id": "10ed5cb4",
   "metadata": {},
   "outputs": [],
   "source": [
    "import pandas as pd\n",
    "import numpy as np\n",
    "import matplotlib.pyplot as plt\n",
    "import seaborn as sns\n",
    "from sklearn.preprocessing import PowerTransformer"
   ]
  },
  {
   "cell_type": "code",
   "execution_count": 2,
   "id": "70007534",
   "metadata": {},
   "outputs": [],
   "source": [
    "from sklearn.cluster import KMeans\n",
    "from mpl_toolkits.mplot3d import Axes3D\n",
    "\n",
    "p = PowerTransformer(method='yeo-johnson')\n",
    "plt.rcParams['figure.figsize'] = (10,8)"
   ]
  },
  {
   "cell_type": "markdown",
   "id": "759a6f03",
   "metadata": {},
   "source": [
    "### Preparación de un algoritmo de Clusterización"
   ]
  },
  {
   "cell_type": "code",
   "execution_count": 3,
   "id": "8dc204c5",
   "metadata": {},
   "outputs": [
    {
     "data": {
      "text/html": [
       "<div>\n",
       "<style scoped>\n",
       "    .dataframe tbody tr th:only-of-type {\n",
       "        vertical-align: middle;\n",
       "    }\n",
       "\n",
       "    .dataframe tbody tr th {\n",
       "        vertical-align: top;\n",
       "    }\n",
       "\n",
       "    .dataframe thead th {\n",
       "        text-align: right;\n",
       "    }\n",
       "</style>\n",
       "<table border=\"1\" class=\"dataframe\">\n",
       "  <thead>\n",
       "    <tr style=\"text-align: right;\">\n",
       "      <th></th>\n",
       "      <th>InvoiceNo</th>\n",
       "      <th>StockCode</th>\n",
       "      <th>Description</th>\n",
       "      <th>Quantity</th>\n",
       "      <th>InvoiceDate</th>\n",
       "      <th>UnitPrice</th>\n",
       "      <th>CustomerID</th>\n",
       "      <th>Country</th>\n",
       "      <th>Total</th>\n",
       "      <th>Cantidad_devo</th>\n",
       "      <th>Cantidad_venta</th>\n",
       "    </tr>\n",
       "  </thead>\n",
       "  <tbody>\n",
       "    <tr>\n",
       "      <th>0</th>\n",
       "      <td>536365</td>\n",
       "      <td>85123A</td>\n",
       "      <td>WHITE HANGING HEART T-LIGHT HOLDER</td>\n",
       "      <td>6</td>\n",
       "      <td>2016-11-29</td>\n",
       "      <td>2.55</td>\n",
       "      <td>17850</td>\n",
       "      <td>United Kingdom</td>\n",
       "      <td>15.30</td>\n",
       "      <td>0</td>\n",
       "      <td>6</td>\n",
       "    </tr>\n",
       "    <tr>\n",
       "      <th>1</th>\n",
       "      <td>536365</td>\n",
       "      <td>71053</td>\n",
       "      <td>WHITE METAL LANTERN</td>\n",
       "      <td>6</td>\n",
       "      <td>2016-11-29</td>\n",
       "      <td>3.39</td>\n",
       "      <td>17850</td>\n",
       "      <td>United Kingdom</td>\n",
       "      <td>20.34</td>\n",
       "      <td>0</td>\n",
       "      <td>6</td>\n",
       "    </tr>\n",
       "    <tr>\n",
       "      <th>2</th>\n",
       "      <td>536365</td>\n",
       "      <td>84406B</td>\n",
       "      <td>CREAM CUPID HEARTS COAT HANGER</td>\n",
       "      <td>8</td>\n",
       "      <td>2016-11-29</td>\n",
       "      <td>2.75</td>\n",
       "      <td>17850</td>\n",
       "      <td>United Kingdom</td>\n",
       "      <td>22.00</td>\n",
       "      <td>0</td>\n",
       "      <td>8</td>\n",
       "    </tr>\n",
       "    <tr>\n",
       "      <th>3</th>\n",
       "      <td>536365</td>\n",
       "      <td>84029G</td>\n",
       "      <td>KNITTED UNION FLAG HOT WATER BOTTLE</td>\n",
       "      <td>6</td>\n",
       "      <td>2016-11-29</td>\n",
       "      <td>3.39</td>\n",
       "      <td>17850</td>\n",
       "      <td>United Kingdom</td>\n",
       "      <td>20.34</td>\n",
       "      <td>0</td>\n",
       "      <td>6</td>\n",
       "    </tr>\n",
       "    <tr>\n",
       "      <th>4</th>\n",
       "      <td>536365</td>\n",
       "      <td>84029E</td>\n",
       "      <td>RED WOOLLY HOTTIE WHITE HEART.</td>\n",
       "      <td>6</td>\n",
       "      <td>2016-11-29</td>\n",
       "      <td>3.39</td>\n",
       "      <td>17850</td>\n",
       "      <td>United Kingdom</td>\n",
       "      <td>20.34</td>\n",
       "      <td>0</td>\n",
       "      <td>6</td>\n",
       "    </tr>\n",
       "  </tbody>\n",
       "</table>\n",
       "</div>"
      ],
      "text/plain": [
       "  InvoiceNo StockCode                          Description  Quantity  \\\n",
       "0    536365    85123A   WHITE HANGING HEART T-LIGHT HOLDER         6   \n",
       "1    536365     71053                  WHITE METAL LANTERN         6   \n",
       "2    536365    84406B       CREAM CUPID HEARTS COAT HANGER         8   \n",
       "3    536365    84029G  KNITTED UNION FLAG HOT WATER BOTTLE         6   \n",
       "4    536365    84029E       RED WOOLLY HOTTIE WHITE HEART.         6   \n",
       "\n",
       "  InvoiceDate  UnitPrice  CustomerID         Country  Total  Cantidad_devo  \\\n",
       "0  2016-11-29       2.55       17850  United Kingdom  15.30              0   \n",
       "1  2016-11-29       3.39       17850  United Kingdom  20.34              0   \n",
       "2  2016-11-29       2.75       17850  United Kingdom  22.00              0   \n",
       "3  2016-11-29       3.39       17850  United Kingdom  20.34              0   \n",
       "4  2016-11-29       3.39       17850  United Kingdom  20.34              0   \n",
       "\n",
       "   Cantidad_venta  \n",
       "0               6  \n",
       "1               6  \n",
       "2               8  \n",
       "3               6  \n",
       "4               6  "
      ]
     },
     "execution_count": 3,
     "metadata": {},
     "output_type": "execute_result"
    }
   ],
   "source": [
    "df = pd.read_csv('./Datos/Ecommerce.csv').drop(columns=['Unnamed: 8']).dropna()\n",
    "df['InvoiceDate'] = pd.to_datetime(df['InvoiceDate'])\n",
    "    \n",
    "df['CustomerID'] = df.CustomerID.astype(int)\n",
    "df['Total'] = df['Quantity'] * df['UnitPrice']\n",
    "df['Cantidad_devo'] = df['Quantity']\n",
    "df.loc[df['Cantidad_devo'] > 0, 'Cantidad_devo'] = 0\n",
    "df['Cantidad_devo'] = df['Cantidad_devo'] * -1\n",
    "df['Cantidad_venta'] = df['Quantity']\n",
    "df.loc[df['Cantidad_venta'] < 0, 'Cantidad_venta'] = 0\n",
    "df.head()"
   ]
  },
  {
   "cell_type": "code",
   "execution_count": 4,
   "id": "06bca506",
   "metadata": {},
   "outputs": [],
   "source": [
    "df = df.groupby(by='CustomerID').agg({'InvoiceNo': 'count', 'Cantidad_devo': 'sum', 'Cantidad_venta': 'sum', 'Total': 'sum'}).reset_index()\n",
    "df.columns =  ['Cliente', 'Numero_tickes', 'Uds_devo', 'Uds_venta', 'Eur_venta']"
   ]
  },
  {
   "cell_type": "code",
   "execution_count": 5,
   "id": "c1fd4598",
   "metadata": {},
   "outputs": [
    {
     "data": {
      "text/plain": [
       "Index(['Cliente', 'Numero_tickes', 'Uds_devo', 'Uds_venta', 'Eur_venta',\n",
       "       'Numero_tickes_norm', 'Uds_devo_norm', 'Uds_venta_norm',\n",
       "       'Eur_venta_norm'],\n",
       "      dtype='object')"
      ]
     },
     "execution_count": 5,
     "metadata": {},
     "output_type": "execute_result"
    }
   ],
   "source": [
    "for i in list(df.columns)[1:]:\n",
    "    var = i + '_norm'\n",
    "    df[var] = p.fit_transform(df[[i]])\n",
    "df.columns"
   ]
  },
  {
   "cell_type": "code",
   "execution_count": 6,
   "id": "e83496f6",
   "metadata": {},
   "outputs": [
    {
     "data": {
      "text/plain": [
       "4372"
      ]
     },
     "execution_count": 6,
     "metadata": {},
     "output_type": "execute_result"
    }
   ],
   "source": [
    "df.shape[0]"
   ]
  },
  {
   "cell_type": "code",
   "execution_count": 7,
   "id": "2fddb604",
   "metadata": {},
   "outputs": [
    {
     "data": {
      "text/plain": [
       "4305"
      ]
     },
     "execution_count": 7,
     "metadata": {},
     "output_type": "execute_result"
    }
   ],
   "source": [
    "for i in list(df.columns)[1:]:\n",
    "    if 'Eur_venta_norm' in i:\n",
    "        outs = df[(abs(df[i]) >2*df[i].std()+df[i].mean())].Cliente\n",
    "        df = df[~df['Cliente'].isin(outs)].copy()\n",
    "    elif '_norm' not in i:\n",
    "        df.drop(i,axis=1,inplace=True)\n",
    "df.shape[0]"
   ]
  },
  {
   "cell_type": "markdown",
   "id": "1a5b61ba",
   "metadata": {},
   "source": [
    "**KMeans**"
   ]
  },
  {
   "cell_type": "code",
   "execution_count": 8,
   "id": "b785523a",
   "metadata": {},
   "outputs": [
    {
     "name": "stdout",
     "output_type": "stream",
     "text": [
      "Using matplotlib backend: Qt5Agg\n",
      "Populating the interactive namespace from numpy and matplotlib\n"
     ]
    },
    {
     "name": "stderr",
     "output_type": "stream",
     "text": [
      "C:\\Users\\aleex\\AppData\\Roaming\\Python\\Python38\\site-packages\\IPython\\core\\magics\\pylab.py:159: UserWarning: pylab import has clobbered these variables: ['var']\n",
      "`%matplotlib` prevents importing * from pylab and numpy\n",
      "  warn(\"pylab import has clobbered these variables: %s\"  % clobbered +\n",
      "C:\\Users\\aleex\\AppData\\Local\\Temp/ipykernel_19260/1503262077.py:3: MatplotlibDeprecationWarning: Calling gca() with keyword arguments was deprecated in Matplotlib 3.4. Starting two minor releases later, gca() will take no keyword arguments. The gca() function should only be used to get the current axes, or if no axes exist, create new axes with default keyword arguments. To create a new axes with non-default arguments, use plt.axes() or plt.subplot().\n",
      "  ax = fig.gca(projection='3d')\n",
      "No handles with labels found to put in legend.\n"
     ]
    }
   ],
   "source": [
    "%pylab\n",
    "fig = plt.figure()\n",
    "ax = fig.gca(projection='3d')\n",
    "\n",
    "k = KMeans()\n",
    "cats = k.fit_predict(df[['Numero_tickes_norm', 'Uds_venta_norm', 'Eur_venta_norm']])\n",
    "\n",
    "ax.scatter(df['Numero_tickes_norm'], df['Uds_venta_norm'], df['Eur_venta_norm'],c=cats)\n",
    "ax.legend()\n",
    "plt.show();"
   ]
  },
  {
   "cell_type": "code",
   "execution_count": 9,
   "id": "9f415dc8",
   "metadata": {},
   "outputs": [
    {
     "data": {
      "text/plain": [
       "8"
      ]
     },
     "execution_count": 9,
     "metadata": {},
     "output_type": "execute_result"
    }
   ],
   "source": [
    "# Num clusters\n",
    "len(set(cats))"
   ]
  },
  {
   "cell_type": "code",
   "execution_count": 10,
   "id": "7a8e7244",
   "metadata": {},
   "outputs": [
    {
     "data": {
      "text/plain": [
       "4    897\n",
       "2    880\n",
       "6    799\n",
       "1    666\n",
       "3    488\n",
       "8    305\n",
       "5    183\n",
       "7     87\n",
       "Name: Cluster, dtype: int64"
      ]
     },
     "execution_count": 10,
     "metadata": {},
     "output_type": "execute_result"
    }
   ],
   "source": [
    "# Asignar cluster a cada elemento\n",
    "\n",
    "df['Cluster'] = list(cats+1)\n",
    "df['Cluster'].value_counts()"
   ]
  },
  {
   "cell_type": "code",
   "execution_count": 11,
   "id": "20d4e7c1",
   "metadata": {},
   "outputs": [
    {
     "name": "stderr",
     "output_type": "stream",
     "text": [
      "C:\\Users\\aleex\\AppData\\Local\\Temp/ipykernel_19260/271712575.py:3: MatplotlibDeprecationWarning: Calling gca() with keyword arguments was deprecated in Matplotlib 3.4. Starting two minor releases later, gca() will take no keyword arguments. The gca() function should only be used to get the current axes, or if no axes exist, create new axes with default keyword arguments. To create a new axes with non-default arguments, use plt.axes() or plt.subplot().\n",
      "  ax = fig.gca(projection='3d')\n"
     ]
    },
    {
     "name": "stdout",
     "output_type": "stream",
     "text": [
      "Using matplotlib backend: Qt5Agg\n",
      "Populating the interactive namespace from numpy and matplotlib\n"
     ]
    },
    {
     "name": "stderr",
     "output_type": "stream",
     "text": [
      "No handles with labels found to put in legend.\n"
     ]
    }
   ],
   "source": [
    "%pylab\n",
    "fig = plt.figure()\n",
    "ax = fig.gca(projection='3d')\n",
    "\n",
    "k = KMeans(n_clusters = 15)\n",
    "cats = k.fit_predict(df[['Numero_tickes_norm', 'Uds_venta_norm', 'Eur_venta_norm']])\n",
    "\n",
    "ax.scatter(df['Numero_tickes_norm'], df['Uds_venta_norm'], df['Eur_venta_norm'],c=cats)\n",
    "ax.legend()\n",
    "plt.show();"
   ]
  },
  {
   "cell_type": "markdown",
   "id": "81cac187",
   "metadata": {},
   "source": [
    "**Cómo decidir el nº óptimo de clusters en KMeans: Método del Codo**\n",
    "\n",
    "Este método mide, para cada cluster y conjunto de clusters, el desorden interno que presentan, es decir, la distancia entre cada elemento y el potencial centroide. Analiza cómo va disminuyendo el desorden a medida que se aumentan los clusters, y elige el nº de clusters óptimo (que será cuando baje el ritmo de descenso del desorden) teniendo en cuenta también la variable tiempo"
   ]
  },
  {
   "cell_type": "code",
   "execution_count": 12,
   "id": "d7a2b453",
   "metadata": {},
   "outputs": [
    {
     "data": {
      "text/plain": [
       "<AxesSubplot:title={'center':'Calinski Harabasz Score Elbow for KMeans Clustering'}, xlabel='k', ylabel='calinski harabasz score'>"
      ]
     },
     "execution_count": 12,
     "metadata": {},
     "output_type": "execute_result"
    }
   ],
   "source": [
    "from yellowbrick.cluster import KElbowVisualizer\n",
    "k = KMeans()\n",
    "fig = plt.figure()\n",
    "\n",
    "view = KElbowVisualizer(k, k=(2,25), metric='calinski_harabasz', locate_elbow=True)\n",
    "\n",
    "\n",
    "view.fit(df[['Numero_tickes_norm', 'Uds_venta_norm', 'Eur_venta_norm']])\n",
    "\n",
    "view.show()"
   ]
  },
  {
   "cell_type": "code",
   "execution_count": 13,
   "id": "9ff88706",
   "metadata": {
    "scrolled": true
   },
   "outputs": [
    {
     "data": {
      "text/plain": [
       "2"
      ]
     },
     "execution_count": 13,
     "metadata": {},
     "output_type": "execute_result"
    }
   ],
   "source": [
    "view.elbow_value_"
   ]
  },
  {
   "cell_type": "code",
   "execution_count": 19,
   "id": "0150f77d",
   "metadata": {
    "scrolled": true
   },
   "outputs": [
    {
     "name": "stderr",
     "output_type": "stream",
     "text": [
      "C:\\Users\\aleex\\AppData\\Local\\Temp/ipykernel_19260/1587078840.py:2: MatplotlibDeprecationWarning: Calling gca() with keyword arguments was deprecated in Matplotlib 3.4. Starting two minor releases later, gca() will take no keyword arguments. The gca() function should only be used to get the current axes, or if no axes exist, create new axes with default keyword arguments. To create a new axes with non-default arguments, use plt.axes() or plt.subplot().\n",
      "  ax = fig.gca(projection='3d')\n"
     ]
    }
   ],
   "source": [
    "fig = plt.figure()\n",
    "ax = fig.gca(projection='3d')\n",
    "\n",
    "k = KMeans(n_clusters = view.elbow_value_)\n",
    "cats = k.fit_predict(df[['Numero_tickes_norm', 'Uds_venta_norm', 'Eur_venta_norm']])\n",
    "\n",
    "ax.scatter(df['Numero_tickes_norm'], df['Uds_venta_norm'], df['Eur_venta_norm'],c=cats,cmap='viridis',alpha=0.1)\n",
    "for i in range(len(set(cats))):\n",
    "    ax.scatter(k.cluster_centers_[i,0],k.cluster_centers_[i,1],k.cluster_centers_[i,2],marker='o') #kmedoids\n",
    "\n",
    "plt.show();"
   ]
  },
  {
   "cell_type": "code",
   "execution_count": 15,
   "id": "a153ad24",
   "metadata": {},
   "outputs": [
    {
     "data": {
      "text/plain": [
       "array([[-0.72839108, -0.67886909, -0.26018003],\n",
       "       [ 0.7703135 ,  0.68687002,  0.16846889]])"
      ]
     },
     "execution_count": 15,
     "metadata": {},
     "output_type": "execute_result"
    }
   ],
   "source": [
    "k.cluster_centers_"
   ]
  },
  {
   "cell_type": "markdown",
   "id": "b8c0c2af",
   "metadata": {},
   "source": [
    "**Clusters jerárquicos**\n",
    "\n",
    "Emplean una lógica similar a los algoritmos decision trees. Estos árboles van tomando decisiones maximizando la separación entre las ramas por las que van avanzando."
   ]
  },
  {
   "cell_type": "code",
   "execution_count": 16,
   "id": "0ea5f485",
   "metadata": {},
   "outputs": [],
   "source": [
    "from sklearn.svm import SVC\n",
    "from sklearn import metrics\n",
    "from matplotlib.colors import ListedColormap\n",
    "from sklearn.cluster import AgglomerativeClustering"
   ]
  },
  {
   "cell_type": "code",
   "execution_count": 23,
   "id": "1bfbe5b3",
   "metadata": {},
   "outputs": [],
   "source": [
    "ac = AgglomerativeClustering(n_clusters=4)\n",
    "cats = ac.fit_predict(df[['Numero_tickes_norm', 'Eur_venta_norm']])\n",
    "\n",
    "plt.figure()\n",
    "sns.scatterplot(data=df, x=df['Numero_tickes_norm'], y=df['Eur_venta_norm'], hue=cats, palette = 'Accent')\n",
    "plt.show()"
   ]
  },
  {
   "cell_type": "markdown",
   "id": "2cb4a5fe",
   "metadata": {},
   "source": [
    "*También aquí podemos optimizar el nº de clusters con YellowBrick*"
   ]
  },
  {
   "cell_type": "code",
   "execution_count": 25,
   "id": "20c89300",
   "metadata": {},
   "outputs": [
    {
     "data": {
      "text/plain": [
       "5"
      ]
     },
     "execution_count": 25,
     "metadata": {},
     "output_type": "execute_result"
    }
   ],
   "source": [
    "view = KElbowVisualizer(k, k=(2,25), metric='calinski_harabasz', locate_elbow=True)\n",
    "\n",
    "\n",
    "view.fit(df[['Numero_tickes_norm', 'Eur_venta_norm']])\n",
    "view.show()"
   ]
  },
  {
   "cell_type": "code",
   "execution_count": 26,
   "id": "bd215ffc",
   "metadata": {},
   "outputs": [],
   "source": [
    "ac = AgglomerativeClustering(n_clusters=view.elbow_value_)\n",
    "cats = ac.fit_predict(df[['Numero_tickes_norm', 'Eur_venta_norm']])\n",
    "\n",
    "plt.figure()\n",
    "sns.scatterplot(data=df, x=df['Numero_tickes_norm'], y=df['Eur_venta_norm'], hue=cats, palette = 'Accent')\n",
    "plt.show()"
   ]
  },
  {
   "cell_type": "markdown",
   "id": "ae61ade3",
   "metadata": {},
   "source": [
    "**DBSCAN**\n",
    "\n",
    "\"Imita\" el modus operandi de un humano a la hora de detectar y segmentar clusters. Al emplear una lógica \"manual\" tendremos que pasarle dos parámetros:\n",
    "* eps: distancia mínima que consideramos antes de dar un salto de clúster\n",
    "* min_samples: indica el mínimo número de observaciones que pedimos antes de crear un nuevo clúster."
   ]
  },
  {
   "cell_type": "code",
   "execution_count": 46,
   "id": "af99a80c",
   "metadata": {},
   "outputs": [],
   "source": [
    "from sklearn.cluster import DBSCAN\n",
    "\n",
    "plt.figure()\n",
    "\n",
    "db = DBSCAN(\n",
    "       eps=(df['Numero_tickes_norm'].std() * df['Eur_venta_norm'].std())**2, # dist minima para saltar de cluster\n",
    "       min_samples=50) # no puede haber clusters que tengan menos de 10 observaciones\n",
    "\n",
    "cats = db.fit_predict(df[['Numero_tickes_norm','Eur_venta_norm']])\n",
    "\n",
    "sns.scatterplot(data=df, x=df['Numero_tickes_norm'], y=df['Eur_venta_norm'], hue=cats, palette = 'Accent')\n",
    "plt.show()"
   ]
  },
  {
   "cell_type": "code",
   "execution_count": 47,
   "id": "2722d6cb",
   "metadata": {},
   "outputs": [
    {
     "data": {
      "text/plain": [
       "4"
      ]
     },
     "execution_count": 47,
     "metadata": {},
     "output_type": "execute_result"
    }
   ],
   "source": [
    "len(set(cats))"
   ]
  }
 ],
 "metadata": {
  "kernelspec": {
   "display_name": "Python 3 (ipykernel)",
   "language": "python",
   "name": "python3"
  },
  "language_info": {
   "codemirror_mode": {
    "name": "ipython",
    "version": 3
   },
   "file_extension": ".py",
   "mimetype": "text/x-python",
   "name": "python",
   "nbconvert_exporter": "python",
   "pygments_lexer": "ipython3",
   "version": "3.8.5"
  }
 },
 "nbformat": 4,
 "nbformat_minor": 5
}
